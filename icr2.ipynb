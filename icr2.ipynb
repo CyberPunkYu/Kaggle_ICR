{
 "cells": [
  {
   "cell_type": "code",
   "execution_count": 1,
   "id": "dabb73e5",
   "metadata": {
    "execution": {
     "iopub.execute_input": "2023-07-20T00:31:39.597438Z",
     "iopub.status.busy": "2023-07-20T00:31:39.596412Z",
     "iopub.status.idle": "2023-07-20T00:31:41.504837Z",
     "shell.execute_reply": "2023-07-20T00:31:41.503823Z"
    },
    "papermill": {
     "duration": 1.922699,
     "end_time": "2023-07-20T00:31:41.507101",
     "exception": false,
     "start_time": "2023-07-20T00:31:39.584402",
     "status": "completed"
    },
    "tags": []
   },
   "outputs": [
    {
     "name": "stderr",
     "output_type": "stream",
     "text": [
      "/opt/conda/lib/python3.10/site-packages/scipy/__init__.py:146: UserWarning: A NumPy version >=1.16.5 and <1.23.0 is required for this version of SciPy (detected version 1.23.5\n",
      "  warnings.warn(f\"A NumPy version >={np_minversion} and <{np_maxversion}\"\n"
     ]
    }
   ],
   "source": [
    "import pandas as pd\n",
    "import numpy as np\n",
    "import re, matplotlib\n",
    "import category_encoders as ce\n",
    "from xgboost import XGBClassifier,plot_tree,plot_importance\n",
    "from sklearn.model_selection import train_test_split, KFold, cross_val_score\n",
    "from sklearn.metrics import accuracy_score\n",
    "from sklearn.model_selection import StratifiedKFold\n",
    "import seaborn as sns\n",
    "from matplotlib import pyplot\n",
    "%matplotlib inline"
   ]
  },
  {
   "cell_type": "markdown",
   "id": "47dc6301",
   "metadata": {
    "papermill": {
     "duration": 0.011165,
     "end_time": "2023-07-20T00:31:41.529952",
     "exception": false,
     "start_time": "2023-07-20T00:31:41.518787",
     "status": "completed"
    },
    "tags": []
   },
   "source": [
    "# <a id=\"3\"></a> \n",
    "# 2. Reading Data\n",
    "[TOC](#0)"
   ]
  },
  {
   "cell_type": "code",
   "execution_count": 3,
   "id": "2568de89",
   "metadata": {
    "execution": {
     "iopub.execute_input": "2023-07-20T00:31:41.588388Z",
     "iopub.status.busy": "2023-07-20T00:31:41.588033Z",
     "iopub.status.idle": "2023-07-20T00:31:41.645220Z",
     "shell.execute_reply": "2023-07-20T00:31:41.644180Z"
    },
    "papermill": {
     "duration": 0.071587,
     "end_time": "2023-07-20T00:31:41.647070",
     "exception": false,
     "start_time": "2023-07-20T00:31:41.575483",
     "status": "completed"
    },
    "tags": []
   },
   "outputs": [
    {
     "data": {
      "text/html": [
       "<div>\n",
       "<style scoped>\n",
       "    .dataframe tbody tr th:only-of-type {\n",
       "        vertical-align: middle;\n",
       "    }\n",
       "\n",
       "    .dataframe tbody tr th {\n",
       "        vertical-align: top;\n",
       "    }\n",
       "\n",
       "    .dataframe thead th {\n",
       "        text-align: right;\n",
       "    }\n",
       "</style>\n",
       "<table border=\"1\" class=\"dataframe\">\n",
       "  <thead>\n",
       "    <tr style=\"text-align: right;\">\n",
       "      <th></th>\n",
       "      <th>Id</th>\n",
       "      <th>AB</th>\n",
       "      <th>AF</th>\n",
       "      <th>AH</th>\n",
       "      <th>AM</th>\n",
       "      <th>AR</th>\n",
       "      <th>AX</th>\n",
       "      <th>AY</th>\n",
       "      <th>AZ</th>\n",
       "      <th>BC</th>\n",
       "      <th>...</th>\n",
       "      <th>FL</th>\n",
       "      <th>FR</th>\n",
       "      <th>FS</th>\n",
       "      <th>GB</th>\n",
       "      <th>GE</th>\n",
       "      <th>GF</th>\n",
       "      <th>GH</th>\n",
       "      <th>GI</th>\n",
       "      <th>GL</th>\n",
       "      <th>Class</th>\n",
       "    </tr>\n",
       "  </thead>\n",
       "  <tbody>\n",
       "    <tr>\n",
       "      <th>0</th>\n",
       "      <td>000ff2bfdfe9</td>\n",
       "      <td>0.209377</td>\n",
       "      <td>3109.03329</td>\n",
       "      <td>85.200147</td>\n",
       "      <td>22.394407</td>\n",
       "      <td>8.138688</td>\n",
       "      <td>0.699861</td>\n",
       "      <td>0.025578</td>\n",
       "      <td>9.812214</td>\n",
       "      <td>5.555634</td>\n",
       "      <td>...</td>\n",
       "      <td>7.298162</td>\n",
       "      <td>1.73855</td>\n",
       "      <td>0.094822</td>\n",
       "      <td>11.339138</td>\n",
       "      <td>72.611063</td>\n",
       "      <td>2003.810319</td>\n",
       "      <td>22.136229</td>\n",
       "      <td>69.834944</td>\n",
       "      <td>0.120343</td>\n",
       "      <td>1</td>\n",
       "    </tr>\n",
       "    <tr>\n",
       "      <th>1</th>\n",
       "      <td>007255e47698</td>\n",
       "      <td>0.145282</td>\n",
       "      <td>978.76416</td>\n",
       "      <td>85.200147</td>\n",
       "      <td>36.968889</td>\n",
       "      <td>8.138688</td>\n",
       "      <td>3.632190</td>\n",
       "      <td>0.025578</td>\n",
       "      <td>13.517790</td>\n",
       "      <td>1.229900</td>\n",
       "      <td>...</td>\n",
       "      <td>0.173229</td>\n",
       "      <td>0.49706</td>\n",
       "      <td>0.568932</td>\n",
       "      <td>9.292698</td>\n",
       "      <td>72.611063</td>\n",
       "      <td>27981.562750</td>\n",
       "      <td>29.135430</td>\n",
       "      <td>32.131996</td>\n",
       "      <td>21.978000</td>\n",
       "      <td>0</td>\n",
       "    </tr>\n",
       "  </tbody>\n",
       "</table>\n",
       "<p>2 rows × 58 columns</p>\n",
       "</div>"
      ],
      "text/plain": [
       "             Id        AB          AF         AH         AM        AR  \\\n",
       "0  000ff2bfdfe9  0.209377  3109.03329  85.200147  22.394407  8.138688   \n",
       "1  007255e47698  0.145282   978.76416  85.200147  36.968889  8.138688   \n",
       "\n",
       "         AX        AY         AZ        BC  ...        FL       FR        FS  \\\n",
       "0  0.699861  0.025578   9.812214  5.555634  ...  7.298162  1.73855  0.094822   \n",
       "1  3.632190  0.025578  13.517790  1.229900  ...  0.173229  0.49706  0.568932   \n",
       "\n",
       "          GB         GE            GF         GH         GI         GL  Class  \n",
       "0  11.339138  72.611063   2003.810319  22.136229  69.834944   0.120343      1  \n",
       "1   9.292698  72.611063  27981.562750  29.135430  32.131996  21.978000      0  \n",
       "\n",
       "[2 rows x 58 columns]"
      ]
     },
     "execution_count": 3,
     "metadata": {},
     "output_type": "execute_result"
    }
   ],
   "source": [
    "df = pd.read_csv(\"/kaggle/input/icr-identify-age-related-conditions/train.csv\")"
   ]
  },
  {
   "cell_type": "code",
   "execution_count": 4,
   "id": "f5da032c",
   "metadata": {
    "execution": {
     "iopub.execute_input": "2023-07-20T00:31:41.694539Z",
     "iopub.status.busy": "2023-07-20T00:31:41.694166Z",
     "iopub.status.idle": "2023-07-20T00:31:41.700930Z",
     "shell.execute_reply": "2023-07-20T00:31:41.699798Z"
    },
    "papermill": {
     "duration": 0.022592,
     "end_time": "2023-07-20T00:31:41.703197",
     "exception": false,
     "start_time": "2023-07-20T00:31:41.680605",
     "status": "completed"
    },
    "tags": []
   },
   "outputs": [],
   "source": [
    "df.drop(['Id'], axis=1, inplace=True)"
   ]
  },
  {
   "cell_type": "code",
   "execution_count": 5,
   "id": "20fd9021",
   "metadata": {
    "execution": {
     "iopub.execute_input": "2023-07-20T00:31:41.750515Z",
     "iopub.status.busy": "2023-07-20T00:31:41.750170Z",
     "iopub.status.idle": "2023-07-20T00:31:41.754469Z",
     "shell.execute_reply": "2023-07-20T00:31:41.753760Z"
    },
    "papermill": {
     "duration": 0.018496,
     "end_time": "2023-07-20T00:31:41.755955",
     "exception": false,
     "start_time": "2023-07-20T00:31:41.737459",
     "status": "completed"
    },
    "tags": []
   },
   "outputs": [],
   "source": [
    "categorical_columns = df.select_dtypes(include=['object']).columns.tolist()"
   ]
  },
  {
   "cell_type": "code",
   "execution_count": 10,
   "id": "287dfaaf",
   "metadata": {
    "execution": {
     "iopub.execute_input": "2023-07-20T00:31:42.205178Z",
     "iopub.status.busy": "2023-07-20T00:31:42.204492Z",
     "iopub.status.idle": "2023-07-20T00:31:42.225282Z",
     "shell.execute_reply": "2023-07-20T00:31:42.224030Z"
    },
    "papermill": {
     "duration": 0.037976,
     "end_time": "2023-07-20T00:31:42.227168",
     "exception": false,
     "start_time": "2023-07-20T00:31:42.189192",
     "status": "completed"
    },
    "tags": []
   },
   "outputs": [
    {
     "name": "stdout",
     "output_type": "stream",
     "text": [
      "column: BQ --> 60\n",
      "column: CB --> 2\n",
      "column: CC --> 3\n",
      "column: DU --> 1\n",
      "column: EL --> 60\n",
      "column: FC --> 1\n",
      "column: FL --> 1\n",
      "column: FS --> 2\n",
      "column: GL --> 1\n"
     ]
    }
   ],
   "source": [
    "column_names = list(df.columns.values)"
   ]
  },
  {
   "cell_type": "code",
   "execution_count": 11,
   "id": "b7b39874",
   "metadata": {
    "execution": {
     "iopub.execute_input": "2023-07-20T00:31:42.282346Z",
     "iopub.status.busy": "2023-07-20T00:31:42.281766Z",
     "iopub.status.idle": "2023-07-20T00:31:42.288138Z",
     "shell.execute_reply": "2023-07-20T00:31:42.286822Z"
    },
    "papermill": {
     "duration": 0.024526,
     "end_time": "2023-07-20T00:31:42.290773",
     "exception": false,
     "start_time": "2023-07-20T00:31:42.266247",
     "status": "completed"
    },
    "tags": []
   },
   "outputs": [],
   "source": [
    "def fill_nan(column_names):\n",
    "    for column in column_names:\n",
    "        if df[column].isnull().sum() != 0:\n",
    "            mean = df[column].mean()\n",
    "            df[column].fillna(mean, inplace = True)"
   ]
  },
  {
   "cell_type": "code",
   "execution_count": 12,
   "id": "162368c4",
   "metadata": {
    "execution": {
     "iopub.execute_input": "2023-07-20T00:31:42.323909Z",
     "iopub.status.busy": "2023-07-20T00:31:42.323196Z",
     "iopub.status.idle": "2023-07-20T00:31:42.338343Z",
     "shell.execute_reply": "2023-07-20T00:31:42.337488Z"
    },
    "papermill": {
     "duration": 0.034622,
     "end_time": "2023-07-20T00:31:42.340297",
     "exception": false,
     "start_time": "2023-07-20T00:31:42.305675",
     "status": "completed"
    },
    "tags": []
   },
   "outputs": [],
   "source": [
    "fill_nan(column_names)"
   ]
  },
  {
   "cell_type": "code",
   "execution_count": 14,
   "id": "83a19165",
   "metadata": {
    "execution": {
     "iopub.execute_input": "2023-07-20T00:31:42.445102Z",
     "iopub.status.busy": "2023-07-20T00:31:42.444774Z",
     "iopub.status.idle": "2023-07-20T00:31:42.464543Z",
     "shell.execute_reply": "2023-07-20T00:31:42.463530Z"
    },
    "papermill": {
     "duration": 0.034803,
     "end_time": "2023-07-20T00:31:42.466554",
     "exception": false,
     "start_time": "2023-07-20T00:31:42.431751",
     "status": "completed"
    },
    "tags": []
   },
   "outputs": [
    {
     "data": {
      "text/html": [
       "<div>\n",
       "<style scoped>\n",
       "    .dataframe tbody tr th:only-of-type {\n",
       "        vertical-align: middle;\n",
       "    }\n",
       "\n",
       "    .dataframe tbody tr th {\n",
       "        vertical-align: top;\n",
       "    }\n",
       "\n",
       "    .dataframe thead th {\n",
       "        text-align: right;\n",
       "    }\n",
       "</style>\n",
       "<table border=\"1\" class=\"dataframe\">\n",
       "  <thead>\n",
       "    <tr style=\"text-align: right;\">\n",
       "      <th></th>\n",
       "      <th>AB</th>\n",
       "      <th>AF</th>\n",
       "      <th>AH</th>\n",
       "      <th>AM</th>\n",
       "      <th>AR</th>\n",
       "      <th>AX</th>\n",
       "      <th>AY</th>\n",
       "      <th>AZ</th>\n",
       "      <th>BC</th>\n",
       "      <th>BD</th>\n",
       "      <th>...</th>\n",
       "      <th>FI</th>\n",
       "      <th>FL</th>\n",
       "      <th>FR</th>\n",
       "      <th>FS</th>\n",
       "      <th>GB</th>\n",
       "      <th>GE</th>\n",
       "      <th>GF</th>\n",
       "      <th>GH</th>\n",
       "      <th>GI</th>\n",
       "      <th>GL</th>\n",
       "    </tr>\n",
       "  </thead>\n",
       "  <tbody>\n",
       "    <tr>\n",
       "      <th>0</th>\n",
       "      <td>0.209377</td>\n",
       "      <td>3109.03329</td>\n",
       "      <td>85.200147</td>\n",
       "      <td>22.394407</td>\n",
       "      <td>8.138688</td>\n",
       "      <td>0.699861</td>\n",
       "      <td>0.025578</td>\n",
       "      <td>9.812214</td>\n",
       "      <td>5.555634</td>\n",
       "      <td>4126.58731</td>\n",
       "      <td>...</td>\n",
       "      <td>3.583450</td>\n",
       "      <td>7.298162</td>\n",
       "      <td>1.73855</td>\n",
       "      <td>0.094822</td>\n",
       "      <td>11.339138</td>\n",
       "      <td>72.611063</td>\n",
       "      <td>2003.810319</td>\n",
       "      <td>22.136229</td>\n",
       "      <td>69.834944</td>\n",
       "      <td>0.120343</td>\n",
       "    </tr>\n",
       "    <tr>\n",
       "      <th>1</th>\n",
       "      <td>0.145282</td>\n",
       "      <td>978.76416</td>\n",
       "      <td>85.200147</td>\n",
       "      <td>36.968889</td>\n",
       "      <td>8.138688</td>\n",
       "      <td>3.632190</td>\n",
       "      <td>0.025578</td>\n",
       "      <td>13.517790</td>\n",
       "      <td>1.229900</td>\n",
       "      <td>5496.92824</td>\n",
       "      <td>...</td>\n",
       "      <td>10.358927</td>\n",
       "      <td>0.173229</td>\n",
       "      <td>0.49706</td>\n",
       "      <td>0.568932</td>\n",
       "      <td>9.292698</td>\n",
       "      <td>72.611063</td>\n",
       "      <td>27981.562750</td>\n",
       "      <td>29.135430</td>\n",
       "      <td>32.131996</td>\n",
       "      <td>21.978000</td>\n",
       "    </tr>\n",
       "  </tbody>\n",
       "</table>\n",
       "<p>2 rows × 56 columns</p>\n",
       "</div>"
      ],
      "text/plain": [
       "         AB          AF         AH         AM        AR        AX        AY  \\\n",
       "0  0.209377  3109.03329  85.200147  22.394407  8.138688  0.699861  0.025578   \n",
       "1  0.145282   978.76416  85.200147  36.968889  8.138688  3.632190  0.025578   \n",
       "\n",
       "          AZ        BC         BD   ...         FI        FL       FR  \\\n",
       "0   9.812214  5.555634  4126.58731  ...   3.583450  7.298162  1.73855   \n",
       "1  13.517790  1.229900  5496.92824  ...  10.358927  0.173229  0.49706   \n",
       "\n",
       "         FS         GB         GE            GF         GH         GI  \\\n",
       "0  0.094822  11.339138  72.611063   2003.810319  22.136229  69.834944   \n",
       "1  0.568932   9.292698  72.611063  27981.562750  29.135430  32.131996   \n",
       "\n",
       "          GL  \n",
       "0   0.120343  \n",
       "1  21.978000  \n",
       "\n",
       "[2 rows x 56 columns]"
      ]
     },
     "execution_count": 14,
     "metadata": {},
     "output_type": "execute_result"
    }
   ],
   "source": [
    "X = df.iloc[:, :-1]"
   ]
  },
  {
   "cell_type": "markdown",
   "id": "b7433dad",
   "metadata": {
    "papermill": {
     "duration": 0.012993,
     "end_time": "2023-07-20T00:31:42.495406",
     "exception": false,
     "start_time": "2023-07-20T00:31:42.482413",
     "status": "completed"
    },
    "tags": []
   },
   "source": [
    "# <a id=\"7\"></a> \n",
    "# 3. y\n",
    "[TOC](#0)"
   ]
  },
  {
   "cell_type": "code",
   "execution_count": 15,
   "id": "55d2d457",
   "metadata": {
    "execution": {
     "iopub.execute_input": "2023-07-20T00:31:42.522138Z",
     "iopub.status.busy": "2023-07-20T00:31:42.521492Z",
     "iopub.status.idle": "2023-07-20T00:31:42.528889Z",
     "shell.execute_reply": "2023-07-20T00:31:42.527980Z"
    },
    "papermill": {
     "duration": 0.022988,
     "end_time": "2023-07-20T00:31:42.530604",
     "exception": false,
     "start_time": "2023-07-20T00:31:42.507616",
     "status": "completed"
    },
    "tags": []
   },
   "outputs": [
    {
     "data": {
      "text/plain": [
       "0      1\n",
       "1      0\n",
       "2      0\n",
       "3      0\n",
       "4      1\n",
       "      ..\n",
       "612    0\n",
       "613    0\n",
       "614    0\n",
       "615    0\n",
       "616    0\n",
       "Name: Class, Length: 617, dtype: int64"
      ]
     },
     "execution_count": 15,
     "metadata": {},
     "output_type": "execute_result"
    }
   ],
   "source": [
    "y = df.iloc[:,-1]"
   ]
  },
  {
   "cell_type": "code",
   "execution_count": 17,
   "id": "3357f890",
   "metadata": {
    "execution": {
     "iopub.execute_input": "2023-07-20T00:31:42.616108Z",
     "iopub.status.busy": "2023-07-20T00:31:42.615786Z",
     "iopub.status.idle": "2023-07-20T00:31:42.650318Z",
     "shell.execute_reply": "2023-07-20T00:31:42.649263Z"
    },
    "papermill": {
     "duration": 0.050077,
     "end_time": "2023-07-20T00:31:42.652178",
     "exception": false,
     "start_time": "2023-07-20T00:31:42.602101",
     "status": "completed"
    },
    "tags": []
   },
   "outputs": [
    {
     "data": {
      "text/html": [
       "<div>\n",
       "<style scoped>\n",
       "    .dataframe tbody tr th:only-of-type {\n",
       "        vertical-align: middle;\n",
       "    }\n",
       "\n",
       "    .dataframe tbody tr th {\n",
       "        vertical-align: top;\n",
       "    }\n",
       "\n",
       "    .dataframe thead th {\n",
       "        text-align: right;\n",
       "    }\n",
       "</style>\n",
       "<table border=\"1\" class=\"dataframe\">\n",
       "  <thead>\n",
       "    <tr style=\"text-align: right;\">\n",
       "      <th></th>\n",
       "      <th>AB</th>\n",
       "      <th>AF</th>\n",
       "      <th>AH</th>\n",
       "      <th>AM</th>\n",
       "      <th>AR</th>\n",
       "      <th>AX</th>\n",
       "      <th>AY</th>\n",
       "      <th>AZ</th>\n",
       "      <th>BC</th>\n",
       "      <th>BD</th>\n",
       "      <th>...</th>\n",
       "      <th>FI</th>\n",
       "      <th>FL</th>\n",
       "      <th>FR</th>\n",
       "      <th>FS</th>\n",
       "      <th>GB</th>\n",
       "      <th>GE</th>\n",
       "      <th>GF</th>\n",
       "      <th>GH</th>\n",
       "      <th>GI</th>\n",
       "      <th>GL</th>\n",
       "    </tr>\n",
       "  </thead>\n",
       "  <tbody>\n",
       "    <tr>\n",
       "      <th>0</th>\n",
       "      <td>0.209377</td>\n",
       "      <td>3109.03329</td>\n",
       "      <td>85.200147</td>\n",
       "      <td>22.394407</td>\n",
       "      <td>8.138688</td>\n",
       "      <td>0.699861</td>\n",
       "      <td>0.025578</td>\n",
       "      <td>9.812214</td>\n",
       "      <td>5.555634</td>\n",
       "      <td>4126.58731</td>\n",
       "      <td>...</td>\n",
       "      <td>3.583450</td>\n",
       "      <td>7.298162</td>\n",
       "      <td>1.73855</td>\n",
       "      <td>0.094822</td>\n",
       "      <td>11.339138</td>\n",
       "      <td>72.611063</td>\n",
       "      <td>2003.810319</td>\n",
       "      <td>22.136229</td>\n",
       "      <td>69.834944</td>\n",
       "      <td>0.120343</td>\n",
       "    </tr>\n",
       "    <tr>\n",
       "      <th>1</th>\n",
       "      <td>0.145282</td>\n",
       "      <td>978.76416</td>\n",
       "      <td>85.200147</td>\n",
       "      <td>36.968889</td>\n",
       "      <td>8.138688</td>\n",
       "      <td>3.632190</td>\n",
       "      <td>0.025578</td>\n",
       "      <td>13.517790</td>\n",
       "      <td>1.229900</td>\n",
       "      <td>5496.92824</td>\n",
       "      <td>...</td>\n",
       "      <td>10.358927</td>\n",
       "      <td>0.173229</td>\n",
       "      <td>0.49706</td>\n",
       "      <td>0.568932</td>\n",
       "      <td>9.292698</td>\n",
       "      <td>72.611063</td>\n",
       "      <td>27981.562750</td>\n",
       "      <td>29.135430</td>\n",
       "      <td>32.131996</td>\n",
       "      <td>21.978000</td>\n",
       "    </tr>\n",
       "  </tbody>\n",
       "</table>\n",
       "<p>2 rows × 57 columns</p>\n",
       "</div>"
      ],
      "text/plain": [
       "         AB          AF         AH         AM        AR        AX        AY  \\\n",
       "0  0.209377  3109.03329  85.200147  22.394407  8.138688  0.699861  0.025578   \n",
       "1  0.145282   978.76416  85.200147  36.968889  8.138688  3.632190  0.025578   \n",
       "\n",
       "          AZ        BC         BD   ...         FI        FL       FR  \\\n",
       "0   9.812214  5.555634  4126.58731  ...   3.583450  7.298162  1.73855   \n",
       "1  13.517790  1.229900  5496.92824  ...  10.358927  0.173229  0.49706   \n",
       "\n",
       "         FS         GB         GE            GF         GH         GI  \\\n",
       "0  0.094822  11.339138  72.611063   2003.810319  22.136229  69.834944   \n",
       "1  0.568932   9.292698  72.611063  27981.562750  29.135430  32.131996   \n",
       "\n",
       "          GL  \n",
       "0   0.120343  \n",
       "1  21.978000  \n",
       "\n",
       "[2 rows x 57 columns]"
      ]
     },
     "execution_count": 17,
     "metadata": {},
     "output_type": "execute_result"
    }
   ],
   "source": [
    "enc = ce.OneHotEncoder(cols=[\"EJ\"])\n",
    "enc.fit(X)\n",
    "encoded_x = enc.transform(X)"
   ]
  },
  {
   "cell_type": "markdown",
   "id": "a0da892c",
   "metadata": {
    "papermill": {
     "duration": 0.012751,
     "end_time": "2023-07-20T00:31:42.678048",
     "exception": false,
     "start_time": "2023-07-20T00:31:42.665297",
     "status": "completed"
    },
    "tags": []
   },
   "source": [
    "# <a id=\"9\"></a> \n",
    "# 5. Split Data into Train/Test\n",
    "[TOC](#0)"
   ]
  },
  {
   "cell_type": "code",
   "execution_count": 18,
   "id": "5a2f35c0",
   "metadata": {
    "execution": {
     "iopub.execute_input": "2023-07-20T00:31:42.706111Z",
     "iopub.status.busy": "2023-07-20T00:31:42.705723Z",
     "iopub.status.idle": "2023-07-20T00:31:42.713244Z",
     "shell.execute_reply": "2023-07-20T00:31:42.711743Z"
    },
    "papermill": {
     "duration": 0.023893,
     "end_time": "2023-07-20T00:31:42.715177",
     "exception": false,
     "start_time": "2023-07-20T00:31:42.691284",
     "status": "completed"
    },
    "tags": []
   },
   "outputs": [],
   "source": [
    "X_train, X_test, y_train, y_test = train_test_split(encoded_x, y, test_size = 0.2, random_state = 0)\n",
    "ec1_eval_set = [(X_train, y_train), (X_test, y_test)]\n",
    "estimate = 4.478"
   ]
  },
  {
   "cell_type": "code",
   "execution_count": 21,
   "id": "fb0a7eb6",
   "metadata": {
    "execution": {
     "iopub.execute_input": "2023-07-20T00:31:42.902393Z",
     "iopub.status.busy": "2023-07-20T00:31:42.902034Z",
     "iopub.status.idle": "2023-07-20T00:31:42.906803Z",
     "shell.execute_reply": "2023-07-20T00:31:42.905890Z"
    },
    "papermill": {
     "duration": 0.020989,
     "end_time": "2023-07-20T00:31:42.908546",
     "exception": false,
     "start_time": "2023-07-20T00:31:42.887557",
     "status": "completed"
    },
    "tags": []
   },
   "outputs": [],
   "source": [
    "model = XGBClassifier(colsample_bylevel = 0.6, \n",
    "                      colsample_bytree = 1.0, \n",
    "                      learning_rate = 0.3, \n",
    "                      max_depth = 2, \n",
    "                      n_estimators = 100, \n",
    "                      subsample = 1.0,   \n",
    "                      scale_pos_weight = 5)"
   ]
  },
  {
   "cell_type": "code",
   "execution_count": 22,
   "id": "339b1b2b",
   "metadata": {
    "execution": {
     "iopub.execute_input": "2023-07-20T00:31:42.960632Z",
     "iopub.status.busy": "2023-07-20T00:31:42.960077Z",
     "iopub.status.idle": "2023-07-20T00:31:43.180885Z",
     "shell.execute_reply": "2023-07-20T00:31:43.179923Z"
    },
    "papermill": {
     "duration": 0.235994,
     "end_time": "2023-07-20T00:31:43.182551",
     "exception": false,
     "start_time": "2023-07-20T00:31:42.946557",
     "status": "completed"
    },
    "tags": []
   },
   "outputs": [
    {
     "name": "stdout",
     "output_type": "stream",
     "text": [
      "[0]\tvalidation_0-error:0.29412\tvalidation_0-logloss:0.58808\tvalidation_1-error:0.44355\tvalidation_1-logloss:0.64736\n",
      "[1]\tvalidation_0-error:0.12373\tvalidation_0-logloss:0.49848\tvalidation_1-error:0.24194\tvalidation_1-logloss:0.58199\n",
      "[2]\tvalidation_0-error:0.13185\tvalidation_0-logloss:0.44767\tvalidation_1-error:0.24194\tvalidation_1-logloss:0.53391\n",
      "[3]\tvalidation_0-error:0.12576\tvalidation_0-logloss:0.39804\tvalidation_1-error:0.23387\tvalidation_1-logloss:0.49501\n",
      "[4]\tvalidation_0-error:0.09736\tvalidation_0-logloss:0.35618\tvalidation_1-error:0.19355\tvalidation_1-logloss:0.45094\n",
      "[5]\tvalidation_0-error:0.07708\tvalidation_0-logloss:0.32159\tvalidation_1-error:0.14516\tvalidation_1-logloss:0.42632\n",
      "[6]\tvalidation_0-error:0.07099\tvalidation_0-logloss:0.30280\tvalidation_1-error:0.13710\tvalidation_1-logloss:0.40379\n",
      "[7]\tvalidation_0-error:0.05882\tvalidation_0-logloss:0.28120\tvalidation_1-error:0.11290\tvalidation_1-logloss:0.38709\n",
      "[8]\tvalidation_0-error:0.05477\tvalidation_0-logloss:0.26229\tvalidation_1-error:0.12097\tvalidation_1-logloss:0.38202\n",
      "[9]\tvalidation_0-error:0.05071\tvalidation_0-logloss:0.24660\tvalidation_1-error:0.11290\tvalidation_1-logloss:0.36577\n",
      "[10]\tvalidation_0-error:0.04868\tvalidation_0-logloss:0.23019\tvalidation_1-error:0.10484\tvalidation_1-logloss:0.35071\n",
      "[11]\tvalidation_0-error:0.05274\tvalidation_0-logloss:0.21660\tvalidation_1-error:0.08871\tvalidation_1-logloss:0.34289\n",
      "[12]\tvalidation_0-error:0.04665\tvalidation_0-logloss:0.20364\tvalidation_1-error:0.08065\tvalidation_1-logloss:0.34237\n",
      "[13]\tvalidation_0-error:0.04665\tvalidation_0-logloss:0.19335\tvalidation_1-error:0.11290\tvalidation_1-logloss:0.34161\n",
      "[14]\tvalidation_0-error:0.04057\tvalidation_0-logloss:0.18261\tvalidation_1-error:0.09677\tvalidation_1-logloss:0.33422\n",
      "[15]\tvalidation_0-error:0.03448\tvalidation_0-logloss:0.17262\tvalidation_1-error:0.08065\tvalidation_1-logloss:0.33556\n",
      "[16]\tvalidation_0-error:0.03043\tvalidation_0-logloss:0.16510\tvalidation_1-error:0.08065\tvalidation_1-logloss:0.33705\n",
      "[17]\tvalidation_0-error:0.03043\tvalidation_0-logloss:0.15841\tvalidation_1-error:0.08871\tvalidation_1-logloss:0.33347\n",
      "[18]\tvalidation_0-error:0.03245\tvalidation_0-logloss:0.15172\tvalidation_1-error:0.09677\tvalidation_1-logloss:0.33277\n",
      "[19]\tvalidation_0-error:0.02434\tvalidation_0-logloss:0.14562\tvalidation_1-error:0.09677\tvalidation_1-logloss:0.33283\n",
      "[20]\tvalidation_0-error:0.02231\tvalidation_0-logloss:0.14060\tvalidation_1-error:0.08871\tvalidation_1-logloss:0.32300\n",
      "[21]\tvalidation_0-error:0.02231\tvalidation_0-logloss:0.13452\tvalidation_1-error:0.08065\tvalidation_1-logloss:0.31742\n",
      "[22]\tvalidation_0-error:0.01826\tvalidation_0-logloss:0.12782\tvalidation_1-error:0.08871\tvalidation_1-logloss:0.31013\n",
      "[23]\tvalidation_0-error:0.01826\tvalidation_0-logloss:0.11980\tvalidation_1-error:0.08871\tvalidation_1-logloss:0.30553\n",
      "[24]\tvalidation_0-error:0.01420\tvalidation_0-logloss:0.11342\tvalidation_1-error:0.08065\tvalidation_1-logloss:0.30490\n",
      "[25]\tvalidation_0-error:0.00811\tvalidation_0-logloss:0.10704\tvalidation_1-error:0.08065\tvalidation_1-logloss:0.28931\n",
      "[26]\tvalidation_0-error:0.01014\tvalidation_0-logloss:0.10330\tvalidation_1-error:0.08065\tvalidation_1-logloss:0.29237\n",
      "[27]\tvalidation_0-error:0.01217\tvalidation_0-logloss:0.09848\tvalidation_1-error:0.08065\tvalidation_1-logloss:0.29143\n",
      "[28]\tvalidation_0-error:0.00609\tvalidation_0-logloss:0.09390\tvalidation_1-error:0.08065\tvalidation_1-logloss:0.29755\n",
      "[29]\tvalidation_0-error:0.00811\tvalidation_0-logloss:0.08982\tvalidation_1-error:0.08065\tvalidation_1-logloss:0.29234\n",
      "[30]\tvalidation_0-error:0.00609\tvalidation_0-logloss:0.08689\tvalidation_1-error:0.08065\tvalidation_1-logloss:0.28937\n",
      "[31]\tvalidation_0-error:0.00609\tvalidation_0-logloss:0.08223\tvalidation_1-error:0.08065\tvalidation_1-logloss:0.28406\n",
      "[32]\tvalidation_0-error:0.00609\tvalidation_0-logloss:0.07949\tvalidation_1-error:0.08065\tvalidation_1-logloss:0.28372\n",
      "[33]\tvalidation_0-error:0.00609\tvalidation_0-logloss:0.07594\tvalidation_1-error:0.08065\tvalidation_1-logloss:0.27781\n",
      "[34]\tvalidation_0-error:0.00406\tvalidation_0-logloss:0.07320\tvalidation_1-error:0.08065\tvalidation_1-logloss:0.27534\n",
      "[35]\tvalidation_0-error:0.00406\tvalidation_0-logloss:0.07060\tvalidation_1-error:0.08065\tvalidation_1-logloss:0.27715\n",
      "[36]\tvalidation_0-error:0.00406\tvalidation_0-logloss:0.06800\tvalidation_1-error:0.08065\tvalidation_1-logloss:0.27471\n",
      "[37]\tvalidation_0-error:0.00203\tvalidation_0-logloss:0.06570\tvalidation_1-error:0.08065\tvalidation_1-logloss:0.27701\n",
      "[38]\tvalidation_0-error:0.00203\tvalidation_0-logloss:0.06301\tvalidation_1-error:0.08065\tvalidation_1-logloss:0.26919\n",
      "[39]\tvalidation_0-error:0.00203\tvalidation_0-logloss:0.06110\tvalidation_1-error:0.08065\tvalidation_1-logloss:0.26953\n",
      "[40]\tvalidation_0-error:0.00203\tvalidation_0-logloss:0.05902\tvalidation_1-error:0.08065\tvalidation_1-logloss:0.27136\n",
      "[41]\tvalidation_0-error:0.00203\tvalidation_0-logloss:0.05723\tvalidation_1-error:0.08065\tvalidation_1-logloss:0.27007\n",
      "[42]\tvalidation_0-error:0.00203\tvalidation_0-logloss:0.05447\tvalidation_1-error:0.08065\tvalidation_1-logloss:0.26840\n",
      "[43]\tvalidation_0-error:0.00203\tvalidation_0-logloss:0.05171\tvalidation_1-error:0.08065\tvalidation_1-logloss:0.26158\n",
      "[44]\tvalidation_0-error:0.00203\tvalidation_0-logloss:0.04959\tvalidation_1-error:0.08065\tvalidation_1-logloss:0.25788\n",
      "[45]\tvalidation_0-error:0.00000\tvalidation_0-logloss:0.04811\tvalidation_1-error:0.07258\tvalidation_1-logloss:0.25949\n",
      "[46]\tvalidation_0-error:0.00000\tvalidation_0-logloss:0.04666\tvalidation_1-error:0.08065\tvalidation_1-logloss:0.25713\n",
      "[47]\tvalidation_0-error:0.00000\tvalidation_0-logloss:0.04555\tvalidation_1-error:0.08065\tvalidation_1-logloss:0.26138\n",
      "[48]\tvalidation_0-error:0.00000\tvalidation_0-logloss:0.04354\tvalidation_1-error:0.08065\tvalidation_1-logloss:0.26857\n",
      "[49]\tvalidation_0-error:0.00000\tvalidation_0-logloss:0.04181\tvalidation_1-error:0.08065\tvalidation_1-logloss:0.26759\n",
      "[50]\tvalidation_0-error:0.00000\tvalidation_0-logloss:0.04000\tvalidation_1-error:0.08065\tvalidation_1-logloss:0.26794\n",
      "[51]\tvalidation_0-error:0.00000\tvalidation_0-logloss:0.03863\tvalidation_1-error:0.08065\tvalidation_1-logloss:0.26268\n",
      "[52]\tvalidation_0-error:0.00000\tvalidation_0-logloss:0.03715\tvalidation_1-error:0.08065\tvalidation_1-logloss:0.26126\n",
      "[53]\tvalidation_0-error:0.00000\tvalidation_0-logloss:0.03616\tvalidation_1-error:0.08065\tvalidation_1-logloss:0.26395\n",
      "[54]\tvalidation_0-error:0.00000\tvalidation_0-logloss:0.03471\tvalidation_1-error:0.08065\tvalidation_1-logloss:0.26047\n",
      "[55]\tvalidation_0-error:0.00000\tvalidation_0-logloss:0.03313\tvalidation_1-error:0.08065\tvalidation_1-logloss:0.25964\n"
     ]
    },
    {
     "name": "stderr",
     "output_type": "stream",
     "text": [
      "/opt/conda/lib/python3.10/site-packages/xgboost/sklearn.py:835: UserWarning: `eval_metric` in `fit` method is deprecated for better compatibility with scikit-learn, use `eval_metric` in constructor or`set_params` instead.\n",
      "  warnings.warn(\n",
      "/opt/conda/lib/python3.10/site-packages/xgboost/sklearn.py:835: UserWarning: `early_stopping_rounds` in `fit` method is deprecated for better compatibility with scikit-learn, use `early_stopping_rounds` in constructor or`set_params` instead.\n",
      "  warnings.warn(\n"
     ]
    },
    {
     "data": {
      "text/html": [
       "<style>#sk-container-id-1 {color: black;background-color: white;}#sk-container-id-1 pre{padding: 0;}#sk-container-id-1 div.sk-toggleable {background-color: white;}#sk-container-id-1 label.sk-toggleable__label {cursor: pointer;display: block;width: 100%;margin-bottom: 0;padding: 0.3em;box-sizing: border-box;text-align: center;}#sk-container-id-1 label.sk-toggleable__label-arrow:before {content: \"▸\";float: left;margin-right: 0.25em;color: #696969;}#sk-container-id-1 label.sk-toggleable__label-arrow:hover:before {color: black;}#sk-container-id-1 div.sk-estimator:hover label.sk-toggleable__label-arrow:before {color: black;}#sk-container-id-1 div.sk-toggleable__content {max-height: 0;max-width: 0;overflow: hidden;text-align: left;background-color: #f0f8ff;}#sk-container-id-1 div.sk-toggleable__content pre {margin: 0.2em;color: black;border-radius: 0.25em;background-color: #f0f8ff;}#sk-container-id-1 input.sk-toggleable__control:checked~div.sk-toggleable__content {max-height: 200px;max-width: 100%;overflow: auto;}#sk-container-id-1 input.sk-toggleable__control:checked~label.sk-toggleable__label-arrow:before {content: \"▾\";}#sk-container-id-1 div.sk-estimator input.sk-toggleable__control:checked~label.sk-toggleable__label {background-color: #d4ebff;}#sk-container-id-1 div.sk-label input.sk-toggleable__control:checked~label.sk-toggleable__label {background-color: #d4ebff;}#sk-container-id-1 input.sk-hidden--visually {border: 0;clip: rect(1px 1px 1px 1px);clip: rect(1px, 1px, 1px, 1px);height: 1px;margin: -1px;overflow: hidden;padding: 0;position: absolute;width: 1px;}#sk-container-id-1 div.sk-estimator {font-family: monospace;background-color: #f0f8ff;border: 1px dotted black;border-radius: 0.25em;box-sizing: border-box;margin-bottom: 0.5em;}#sk-container-id-1 div.sk-estimator:hover {background-color: #d4ebff;}#sk-container-id-1 div.sk-parallel-item::after {content: \"\";width: 100%;border-bottom: 1px solid gray;flex-grow: 1;}#sk-container-id-1 div.sk-label:hover label.sk-toggleable__label {background-color: #d4ebff;}#sk-container-id-1 div.sk-serial::before {content: \"\";position: absolute;border-left: 1px solid gray;box-sizing: border-box;top: 0;bottom: 0;left: 50%;z-index: 0;}#sk-container-id-1 div.sk-serial {display: flex;flex-direction: column;align-items: center;background-color: white;padding-right: 0.2em;padding-left: 0.2em;position: relative;}#sk-container-id-1 div.sk-item {position: relative;z-index: 1;}#sk-container-id-1 div.sk-parallel {display: flex;align-items: stretch;justify-content: center;background-color: white;position: relative;}#sk-container-id-1 div.sk-item::before, #sk-container-id-1 div.sk-parallel-item::before {content: \"\";position: absolute;border-left: 1px solid gray;box-sizing: border-box;top: 0;bottom: 0;left: 50%;z-index: -1;}#sk-container-id-1 div.sk-parallel-item {display: flex;flex-direction: column;z-index: 1;position: relative;background-color: white;}#sk-container-id-1 div.sk-parallel-item:first-child::after {align-self: flex-end;width: 50%;}#sk-container-id-1 div.sk-parallel-item:last-child::after {align-self: flex-start;width: 50%;}#sk-container-id-1 div.sk-parallel-item:only-child::after {width: 0;}#sk-container-id-1 div.sk-dashed-wrapped {border: 1px dashed gray;margin: 0 0.4em 0.5em 0.4em;box-sizing: border-box;padding-bottom: 0.4em;background-color: white;}#sk-container-id-1 div.sk-label label {font-family: monospace;font-weight: bold;display: inline-block;line-height: 1.2em;}#sk-container-id-1 div.sk-label-container {text-align: center;}#sk-container-id-1 div.sk-container {/* jupyter's `normalize.less` sets `[hidden] { display: none; }` but bootstrap.min.css set `[hidden] { display: none !important; }` so we also need the `!important` here to be able to override the default hidden behavior on the sphinx rendered scikit-learn.org. See: https://github.com/scikit-learn/scikit-learn/issues/21755 */display: inline-block !important;position: relative;}#sk-container-id-1 div.sk-text-repr-fallback {display: none;}</style><div id=\"sk-container-id-1\" class=\"sk-top-container\"><div class=\"sk-text-repr-fallback\"><pre>XGBClassifier(base_score=None, booster=None, callbacks=None,\n",
       "              colsample_bylevel=0.6, colsample_bynode=None,\n",
       "              colsample_bytree=1.0, early_stopping_rounds=None,\n",
       "              enable_categorical=False, eval_metric=None, feature_types=None,\n",
       "              gamma=None, gpu_id=None, grow_policy=None, importance_type=None,\n",
       "              interaction_constraints=None, learning_rate=0.3, max_bin=None,\n",
       "              max_cat_threshold=None, max_cat_to_onehot=None,\n",
       "              max_delta_step=None, max_depth=2, max_leaves=None,\n",
       "              min_child_weight=None, missing=nan, monotone_constraints=None,\n",
       "              n_estimators=100, n_jobs=None, num_parallel_tree=None,\n",
       "              predictor=None, random_state=None, ...)</pre><b>In a Jupyter environment, please rerun this cell to show the HTML representation or trust the notebook. <br />On GitHub, the HTML representation is unable to render, please try loading this page with nbviewer.org.</b></div><div class=\"sk-container\" hidden><div class=\"sk-item\"><div class=\"sk-estimator sk-toggleable\"><input class=\"sk-toggleable__control sk-hidden--visually\" id=\"sk-estimator-id-1\" type=\"checkbox\" checked><label for=\"sk-estimator-id-1\" class=\"sk-toggleable__label sk-toggleable__label-arrow\">XGBClassifier</label><div class=\"sk-toggleable__content\"><pre>XGBClassifier(base_score=None, booster=None, callbacks=None,\n",
       "              colsample_bylevel=0.6, colsample_bynode=None,\n",
       "              colsample_bytree=1.0, early_stopping_rounds=None,\n",
       "              enable_categorical=False, eval_metric=None, feature_types=None,\n",
       "              gamma=None, gpu_id=None, grow_policy=None, importance_type=None,\n",
       "              interaction_constraints=None, learning_rate=0.3, max_bin=None,\n",
       "              max_cat_threshold=None, max_cat_to_onehot=None,\n",
       "              max_delta_step=None, max_depth=2, max_leaves=None,\n",
       "              min_child_weight=None, missing=nan, monotone_constraints=None,\n",
       "              n_estimators=100, n_jobs=None, num_parallel_tree=None,\n",
       "              predictor=None, random_state=None, ...)</pre></div></div></div></div></div>"
      ],
      "text/plain": [
       "XGBClassifier(base_score=None, booster=None, callbacks=None,\n",
       "              colsample_bylevel=0.6, colsample_bynode=None,\n",
       "              colsample_bytree=1.0, early_stopping_rounds=None,\n",
       "              enable_categorical=False, eval_metric=None, feature_types=None,\n",
       "              gamma=None, gpu_id=None, grow_policy=None, importance_type=None,\n",
       "              interaction_constraints=None, learning_rate=0.3, max_bin=None,\n",
       "              max_cat_threshold=None, max_cat_to_onehot=None,\n",
       "              max_delta_step=None, max_depth=2, max_leaves=None,\n",
       "              min_child_weight=None, missing=nan, monotone_constraints=None,\n",
       "              n_estimators=100, n_jobs=None, num_parallel_tree=None,\n",
       "              predictor=None, random_state=None, ...)"
      ]
     },
     "execution_count": 22,
     "metadata": {},
     "output_type": "execute_result"
    }
   ],
   "source": [
    "model.fit(X_train, y_train, early_stopping_rounds = 10, eval_metric = [\"error\", \"logloss\"],\n",
    "          eval_set = ec1_eval_set, verbose = True)"
   ]
  },
  {
   "cell_type": "markdown",
   "id": "f5d5ed22",
   "metadata": {
    "papermill": {
     "duration": 0.017051,
     "end_time": "2023-07-20T00:31:43.215934",
     "exception": false,
     "start_time": "2023-07-20T00:31:43.198883",
     "status": "completed"
    },
    "tags": []
   },
   "source": [
    "# <a id=\"13\"></a> \n",
    "# 7. KFold Accuracy\n",
    "[TOC](#0)"
   ]
  },
  {
   "cell_type": "code",
   "execution_count": 23,
   "id": "b7d6d0c8",
   "metadata": {
    "execution": {
     "iopub.execute_input": "2023-07-20T00:31:43.250022Z",
     "iopub.status.busy": "2023-07-20T00:31:43.249518Z",
     "iopub.status.idle": "2023-07-20T00:31:44.093346Z",
     "shell.execute_reply": "2023-07-20T00:31:44.092659Z"
    },
    "papermill": {
     "duration": 0.863014,
     "end_time": "2023-07-20T00:31:44.095352",
     "exception": false,
     "start_time": "2023-07-20T00:31:43.232338",
     "status": "completed"
    },
    "tags": []
   },
   "outputs": [
    {
     "name": "stdout",
     "output_type": "stream",
     "text": [
      "KFold - Accuracy: 93.68588048651509% (2.6552857153256966)%)\n"
     ]
    }
   ],
   "source": [
    "Kfold = KFold(n_splits = 10)\n",
    "results_K = cross_val_score(model, encoded_x, y, cv = Kfold)\n",
    "print(\"KFold - Accuracy: {0}% ({1})%)\".format(results_K.mean()*100, results_K.std()*100))"
   ]
  },
  {
   "cell_type": "markdown",
   "id": "6a4b90c5",
   "metadata": {
    "papermill": {
     "duration": 0.0157,
     "end_time": "2023-07-20T00:31:44.127250",
     "exception": false,
     "start_time": "2023-07-20T00:31:44.111550",
     "status": "completed"
    },
    "tags": []
   },
   "source": [
    "With the new parameters, we got about 94% accuracy. Let's see how we do."
   ]
  },
  {
   "cell_type": "markdown",
   "id": "c79257b2",
   "metadata": {
    "papermill": {
     "duration": 0.016311,
     "end_time": "2023-07-20T00:31:44.788531",
     "exception": false,
     "start_time": "2023-07-20T00:31:44.772220",
     "status": "completed"
    },
    "tags": []
   },
   "source": [
    "<div class=\"alert alert-block alert-warning\">\n",
    "<b>We can encode the whole dataframe without splitting into X and y</b>\n",
    "</div>"
   ]
  },
  {
   "cell_type": "code",
   "execution_count": 25,
   "id": "7bfb69a8",
   "metadata": {
    "execution": {
     "iopub.execute_input": "2023-07-20T00:31:44.823185Z",
     "iopub.status.busy": "2023-07-20T00:31:44.822858Z",
     "iopub.status.idle": "2023-07-20T00:31:44.847210Z",
     "shell.execute_reply": "2023-07-20T00:31:44.846142Z"
    },
    "papermill": {
     "duration": 0.044792,
     "end_time": "2023-07-20T00:31:44.849587",
     "exception": false,
     "start_time": "2023-07-20T00:31:44.804795",
     "status": "completed"
    },
    "tags": []
   },
   "outputs": [],
   "source": [
    "df_enc = ce.OneHotEncoder(cols=[\"EJ\"])\n",
    "encoded_df = df_enc.fit_transform(df)\n",
    "corr = encoded_df.corr()"
   ]
  },
  {
   "cell_type": "code",
   "execution_count": 27,
   "id": "48b7007c",
   "metadata": {
    "execution": {
     "iopub.execute_input": "2023-07-20T00:31:52.901801Z",
     "iopub.status.busy": "2023-07-20T00:31:52.901250Z",
     "iopub.status.idle": "2023-07-20T00:31:52.929144Z",
     "shell.execute_reply": "2023-07-20T00:31:52.928308Z"
    },
    "papermill": {
     "duration": 0.067429,
     "end_time": "2023-07-20T00:31:52.931064",
     "exception": false,
     "start_time": "2023-07-20T00:31:52.863635",
     "status": "completed"
    },
    "tags": []
   },
   "outputs": [
    {
     "data": {
      "text/html": [
       "<div>\n",
       "<style scoped>\n",
       "    .dataframe tbody tr th:only-of-type {\n",
       "        vertical-align: middle;\n",
       "    }\n",
       "\n",
       "    .dataframe tbody tr th {\n",
       "        vertical-align: top;\n",
       "    }\n",
       "\n",
       "    .dataframe thead th {\n",
       "        text-align: right;\n",
       "    }\n",
       "</style>\n",
       "<table border=\"1\" class=\"dataframe\">\n",
       "  <thead>\n",
       "    <tr style=\"text-align: right;\">\n",
       "      <th></th>\n",
       "      <th>Id</th>\n",
       "      <th>AB</th>\n",
       "      <th>AF</th>\n",
       "      <th>AH</th>\n",
       "      <th>AM</th>\n",
       "      <th>AR</th>\n",
       "      <th>AX</th>\n",
       "      <th>AY</th>\n",
       "      <th>AZ</th>\n",
       "      <th>BC</th>\n",
       "      <th>...</th>\n",
       "      <th>FI</th>\n",
       "      <th>FL</th>\n",
       "      <th>FR</th>\n",
       "      <th>FS</th>\n",
       "      <th>GB</th>\n",
       "      <th>GE</th>\n",
       "      <th>GF</th>\n",
       "      <th>GH</th>\n",
       "      <th>GI</th>\n",
       "      <th>GL</th>\n",
       "    </tr>\n",
       "  </thead>\n",
       "  <tbody>\n",
       "    <tr>\n",
       "      <th>0</th>\n",
       "      <td>00eed32682bb</td>\n",
       "      <td>0.0</td>\n",
       "      <td>0.0</td>\n",
       "      <td>0.0</td>\n",
       "      <td>0.0</td>\n",
       "      <td>0.0</td>\n",
       "      <td>0.0</td>\n",
       "      <td>0.0</td>\n",
       "      <td>0.0</td>\n",
       "      <td>0.0</td>\n",
       "      <td>...</td>\n",
       "      <td>0.0</td>\n",
       "      <td>0.0</td>\n",
       "      <td>0.0</td>\n",
       "      <td>0.0</td>\n",
       "      <td>0.0</td>\n",
       "      <td>0.0</td>\n",
       "      <td>0.0</td>\n",
       "      <td>0.0</td>\n",
       "      <td>0.0</td>\n",
       "      <td>0.0</td>\n",
       "    </tr>\n",
       "    <tr>\n",
       "      <th>1</th>\n",
       "      <td>010ebe33f668</td>\n",
       "      <td>0.0</td>\n",
       "      <td>0.0</td>\n",
       "      <td>0.0</td>\n",
       "      <td>0.0</td>\n",
       "      <td>0.0</td>\n",
       "      <td>0.0</td>\n",
       "      <td>0.0</td>\n",
       "      <td>0.0</td>\n",
       "      <td>0.0</td>\n",
       "      <td>...</td>\n",
       "      <td>0.0</td>\n",
       "      <td>0.0</td>\n",
       "      <td>0.0</td>\n",
       "      <td>0.0</td>\n",
       "      <td>0.0</td>\n",
       "      <td>0.0</td>\n",
       "      <td>0.0</td>\n",
       "      <td>0.0</td>\n",
       "      <td>0.0</td>\n",
       "      <td>0.0</td>\n",
       "    </tr>\n",
       "  </tbody>\n",
       "</table>\n",
       "<p>2 rows × 57 columns</p>\n",
       "</div>"
      ],
      "text/plain": [
       "             Id   AB   AF   AH   AM   AR   AX   AY   AZ   BC  ...   FI   FL  \\\n",
       "0  00eed32682bb  0.0  0.0  0.0  0.0  0.0  0.0  0.0  0.0  0.0  ...  0.0  0.0   \n",
       "1  010ebe33f668  0.0  0.0  0.0  0.0  0.0  0.0  0.0  0.0  0.0  ...  0.0  0.0   \n",
       "\n",
       "    FR   FS   GB   GE   GF   GH   GI   GL  \n",
       "0  0.0  0.0  0.0  0.0  0.0  0.0  0.0  0.0  \n",
       "1  0.0  0.0  0.0  0.0  0.0  0.0  0.0  0.0  \n",
       "\n",
       "[2 rows x 57 columns]"
      ]
     },
     "execution_count": 27,
     "metadata": {},
     "output_type": "execute_result"
    }
   ],
   "source": [
    "test_df = pd.read_csv(\"/kaggle/input/icr-identify-age-related-conditions/test.csv\")"
   ]
  },
  {
   "cell_type": "code",
   "execution_count": 29,
   "id": "17e54cdc",
   "metadata": {
    "execution": {
     "iopub.execute_input": "2023-07-20T00:31:53.229779Z",
     "iopub.status.busy": "2023-07-20T00:31:53.229185Z",
     "iopub.status.idle": "2023-07-20T00:31:53.250112Z",
     "shell.execute_reply": "2023-07-20T00:31:53.249259Z"
    },
    "papermill": {
     "duration": 0.059599,
     "end_time": "2023-07-20T00:31:53.251760",
     "exception": false,
     "start_time": "2023-07-20T00:31:53.192161",
     "status": "completed"
    },
    "tags": []
   },
   "outputs": [
    {
     "data": {
      "text/html": [
       "<div>\n",
       "<style scoped>\n",
       "    .dataframe tbody tr th:only-of-type {\n",
       "        vertical-align: middle;\n",
       "    }\n",
       "\n",
       "    .dataframe tbody tr th {\n",
       "        vertical-align: top;\n",
       "    }\n",
       "\n",
       "    .dataframe thead th {\n",
       "        text-align: right;\n",
       "    }\n",
       "</style>\n",
       "<table border=\"1\" class=\"dataframe\">\n",
       "  <thead>\n",
       "    <tr style=\"text-align: right;\">\n",
       "      <th></th>\n",
       "      <th>AB</th>\n",
       "      <th>AF</th>\n",
       "      <th>AH</th>\n",
       "      <th>AM</th>\n",
       "      <th>AR</th>\n",
       "      <th>AX</th>\n",
       "      <th>AY</th>\n",
       "      <th>AZ</th>\n",
       "      <th>BC</th>\n",
       "      <th>BD</th>\n",
       "      <th>...</th>\n",
       "      <th>FI</th>\n",
       "      <th>FL</th>\n",
       "      <th>FR</th>\n",
       "      <th>FS</th>\n",
       "      <th>GB</th>\n",
       "      <th>GE</th>\n",
       "      <th>GF</th>\n",
       "      <th>GH</th>\n",
       "      <th>GI</th>\n",
       "      <th>GL</th>\n",
       "    </tr>\n",
       "  </thead>\n",
       "  <tbody>\n",
       "    <tr>\n",
       "      <th>0</th>\n",
       "      <td>0.0</td>\n",
       "      <td>0.0</td>\n",
       "      <td>0.0</td>\n",
       "      <td>0.0</td>\n",
       "      <td>0.0</td>\n",
       "      <td>0.0</td>\n",
       "      <td>0.0</td>\n",
       "      <td>0.0</td>\n",
       "      <td>0.0</td>\n",
       "      <td>0.0</td>\n",
       "      <td>...</td>\n",
       "      <td>0.0</td>\n",
       "      <td>0.0</td>\n",
       "      <td>0.0</td>\n",
       "      <td>0.0</td>\n",
       "      <td>0.0</td>\n",
       "      <td>0.0</td>\n",
       "      <td>0.0</td>\n",
       "      <td>0.0</td>\n",
       "      <td>0.0</td>\n",
       "      <td>0.0</td>\n",
       "    </tr>\n",
       "    <tr>\n",
       "      <th>1</th>\n",
       "      <td>0.0</td>\n",
       "      <td>0.0</td>\n",
       "      <td>0.0</td>\n",
       "      <td>0.0</td>\n",
       "      <td>0.0</td>\n",
       "      <td>0.0</td>\n",
       "      <td>0.0</td>\n",
       "      <td>0.0</td>\n",
       "      <td>0.0</td>\n",
       "      <td>0.0</td>\n",
       "      <td>...</td>\n",
       "      <td>0.0</td>\n",
       "      <td>0.0</td>\n",
       "      <td>0.0</td>\n",
       "      <td>0.0</td>\n",
       "      <td>0.0</td>\n",
       "      <td>0.0</td>\n",
       "      <td>0.0</td>\n",
       "      <td>0.0</td>\n",
       "      <td>0.0</td>\n",
       "      <td>0.0</td>\n",
       "    </tr>\n",
       "  </tbody>\n",
       "</table>\n",
       "<p>2 rows × 56 columns</p>\n",
       "</div>"
      ],
      "text/plain": [
       "    AB   AF   AH   AM   AR   AX   AY   AZ   BC  BD   ...   FI   FL   FR   FS  \\\n",
       "0  0.0  0.0  0.0  0.0  0.0  0.0  0.0  0.0  0.0  0.0  ...  0.0  0.0  0.0  0.0   \n",
       "1  0.0  0.0  0.0  0.0  0.0  0.0  0.0  0.0  0.0  0.0  ...  0.0  0.0  0.0  0.0   \n",
       "\n",
       "    GB   GE   GF   GH   GI   GL  \n",
       "0  0.0  0.0  0.0  0.0  0.0  0.0  \n",
       "1  0.0  0.0  0.0  0.0  0.0  0.0  \n",
       "\n",
       "[2 rows x 56 columns]"
      ]
     },
     "execution_count": 29,
     "metadata": {},
     "output_type": "execute_result"
    }
   ],
   "source": [
    "new_test_df = test_df.drop(['Id'], axis = 1)"
   ]
  },
  {
   "cell_type": "markdown",
   "id": "eb1dbf10",
   "metadata": {
    "papermill": {
     "duration": 0.035812,
     "end_time": "2023-07-20T00:31:53.325007",
     "exception": false,
     "start_time": "2023-07-20T00:31:53.289195",
     "status": "completed"
    },
    "tags": []
   },
   "source": [
    "Let's encode the EJ column as well."
   ]
  },
  {
   "cell_type": "code",
   "execution_count": 30,
   "id": "8419a7a4",
   "metadata": {
    "execution": {
     "iopub.execute_input": "2023-07-20T00:31:53.399352Z",
     "iopub.status.busy": "2023-07-20T00:31:53.398800Z",
     "iopub.status.idle": "2023-07-20T00:31:53.423498Z",
     "shell.execute_reply": "2023-07-20T00:31:53.422422Z"
    },
    "papermill": {
     "duration": 0.063995,
     "end_time": "2023-07-20T00:31:53.425158",
     "exception": false,
     "start_time": "2023-07-20T00:31:53.361163",
     "status": "completed"
    },
    "tags": []
   },
   "outputs": [
    {
     "data": {
      "text/html": [
       "<div>\n",
       "<style scoped>\n",
       "    .dataframe tbody tr th:only-of-type {\n",
       "        vertical-align: middle;\n",
       "    }\n",
       "\n",
       "    .dataframe tbody tr th {\n",
       "        vertical-align: top;\n",
       "    }\n",
       "\n",
       "    .dataframe thead th {\n",
       "        text-align: right;\n",
       "    }\n",
       "</style>\n",
       "<table border=\"1\" class=\"dataframe\">\n",
       "  <thead>\n",
       "    <tr style=\"text-align: right;\">\n",
       "      <th></th>\n",
       "      <th>AB</th>\n",
       "      <th>AF</th>\n",
       "      <th>AH</th>\n",
       "      <th>AM</th>\n",
       "      <th>AR</th>\n",
       "      <th>AX</th>\n",
       "      <th>AY</th>\n",
       "      <th>AZ</th>\n",
       "      <th>BC</th>\n",
       "      <th>BD</th>\n",
       "      <th>...</th>\n",
       "      <th>FI</th>\n",
       "      <th>FL</th>\n",
       "      <th>FR</th>\n",
       "      <th>FS</th>\n",
       "      <th>GB</th>\n",
       "      <th>GE</th>\n",
       "      <th>GF</th>\n",
       "      <th>GH</th>\n",
       "      <th>GI</th>\n",
       "      <th>GL</th>\n",
       "    </tr>\n",
       "  </thead>\n",
       "  <tbody>\n",
       "    <tr>\n",
       "      <th>0</th>\n",
       "      <td>0.0</td>\n",
       "      <td>0.0</td>\n",
       "      <td>0.0</td>\n",
       "      <td>0.0</td>\n",
       "      <td>0.0</td>\n",
       "      <td>0.0</td>\n",
       "      <td>0.0</td>\n",
       "      <td>0.0</td>\n",
       "      <td>0.0</td>\n",
       "      <td>0.0</td>\n",
       "      <td>...</td>\n",
       "      <td>0.0</td>\n",
       "      <td>0.0</td>\n",
       "      <td>0.0</td>\n",
       "      <td>0.0</td>\n",
       "      <td>0.0</td>\n",
       "      <td>0.0</td>\n",
       "      <td>0.0</td>\n",
       "      <td>0.0</td>\n",
       "      <td>0.0</td>\n",
       "      <td>0.0</td>\n",
       "    </tr>\n",
       "    <tr>\n",
       "      <th>1</th>\n",
       "      <td>0.0</td>\n",
       "      <td>0.0</td>\n",
       "      <td>0.0</td>\n",
       "      <td>0.0</td>\n",
       "      <td>0.0</td>\n",
       "      <td>0.0</td>\n",
       "      <td>0.0</td>\n",
       "      <td>0.0</td>\n",
       "      <td>0.0</td>\n",
       "      <td>0.0</td>\n",
       "      <td>...</td>\n",
       "      <td>0.0</td>\n",
       "      <td>0.0</td>\n",
       "      <td>0.0</td>\n",
       "      <td>0.0</td>\n",
       "      <td>0.0</td>\n",
       "      <td>0.0</td>\n",
       "      <td>0.0</td>\n",
       "      <td>0.0</td>\n",
       "      <td>0.0</td>\n",
       "      <td>0.0</td>\n",
       "    </tr>\n",
       "  </tbody>\n",
       "</table>\n",
       "<p>2 rows × 57 columns</p>\n",
       "</div>"
      ],
      "text/plain": [
       "    AB   AF   AH   AM   AR   AX   AY   AZ   BC  BD   ...   FI   FL   FR   FS  \\\n",
       "0  0.0  0.0  0.0  0.0  0.0  0.0  0.0  0.0  0.0  0.0  ...  0.0  0.0  0.0  0.0   \n",
       "1  0.0  0.0  0.0  0.0  0.0  0.0  0.0  0.0  0.0  0.0  ...  0.0  0.0  0.0  0.0   \n",
       "\n",
       "    GB   GE   GF   GH   GI   GL  \n",
       "0  0.0  0.0  0.0  0.0  0.0  0.0  \n",
       "1  0.0  0.0  0.0  0.0  0.0  0.0  \n",
       "\n",
       "[2 rows x 57 columns]"
      ]
     },
     "execution_count": 30,
     "metadata": {},
     "output_type": "execute_result"
    }
   ],
   "source": [
    "encoded_test_df = enc.transform(new_test_df)"
   ]
  },
  {
   "cell_type": "code",
   "execution_count": 31,
   "id": "c1223831",
   "metadata": {
    "execution": {
     "iopub.execute_input": "2023-07-20T00:31:53.644778Z",
     "iopub.status.busy": "2023-07-20T00:31:53.644138Z",
     "iopub.status.idle": "2023-07-20T00:31:53.652207Z",
     "shell.execute_reply": "2023-07-20T00:31:53.651626Z"
    },
    "papermill": {
     "duration": 0.047257,
     "end_time": "2023-07-20T00:31:53.654036",
     "exception": false,
     "start_time": "2023-07-20T00:31:53.606779",
     "status": "completed"
    },
    "tags": []
   },
   "outputs": [],
   "source": [
    "class_0_pred = model.predict_proba(encoded_test_df)[:,0]"
   ]
  },
  {
   "cell_type": "code",
   "execution_count": 32,
   "id": "313b51d2",
   "metadata": {
    "execution": {
     "iopub.execute_input": "2023-07-20T00:31:53.803032Z",
     "iopub.status.busy": "2023-07-20T00:31:53.802729Z",
     "iopub.status.idle": "2023-07-20T00:31:53.811166Z",
     "shell.execute_reply": "2023-07-20T00:31:53.810576Z"
    },
    "papermill": {
     "duration": 0.048477,
     "end_time": "2023-07-20T00:31:53.813404",
     "exception": false,
     "start_time": "2023-07-20T00:31:53.764927",
     "status": "completed"
    },
    "tags": []
   },
   "outputs": [],
   "source": [
    "class_1_pred = model.predict_proba(encoded_test_df)[:,1]"
   ]
  },
  {
   "cell_type": "code",
   "execution_count": 33,
   "id": "cad471d5",
   "metadata": {
    "execution": {
     "iopub.execute_input": "2023-07-20T00:31:53.963777Z",
     "iopub.status.busy": "2023-07-20T00:31:53.963455Z",
     "iopub.status.idle": "2023-07-20T00:31:53.968830Z",
     "shell.execute_reply": "2023-07-20T00:31:53.967863Z"
    },
    "papermill": {
     "duration": 0.045219,
     "end_time": "2023-07-20T00:31:53.970317",
     "exception": false,
     "start_time": "2023-07-20T00:31:53.925098",
     "status": "completed"
    },
    "tags": []
   },
   "outputs": [],
   "source": [
    "test_df[\"class_0\"] = pd.Series(class_0_pred).values\n",
    "test_df[\"class_1\"] = pd.Series(class_1_pred).values"
   ]
  },
  {
   "cell_type": "code",
   "execution_count": 34,
   "id": "52bead46",
   "metadata": {
    "execution": {
     "iopub.execute_input": "2023-07-20T00:31:54.118712Z",
     "iopub.status.busy": "2023-07-20T00:31:54.118117Z",
     "iopub.status.idle": "2023-07-20T00:31:54.127600Z",
     "shell.execute_reply": "2023-07-20T00:31:54.126585Z"
    },
    "papermill": {
     "duration": 0.048717,
     "end_time": "2023-07-20T00:31:54.129078",
     "exception": false,
     "start_time": "2023-07-20T00:31:54.080361",
     "status": "completed"
    },
    "tags": []
   },
   "outputs": [
    {
     "data": {
      "text/html": [
       "<div>\n",
       "<style scoped>\n",
       "    .dataframe tbody tr th:only-of-type {\n",
       "        vertical-align: middle;\n",
       "    }\n",
       "\n",
       "    .dataframe tbody tr th {\n",
       "        vertical-align: top;\n",
       "    }\n",
       "\n",
       "    .dataframe thead th {\n",
       "        text-align: right;\n",
       "    }\n",
       "</style>\n",
       "<table border=\"1\" class=\"dataframe\">\n",
       "  <thead>\n",
       "    <tr style=\"text-align: right;\">\n",
       "      <th></th>\n",
       "      <th>Id</th>\n",
       "      <th>class_0</th>\n",
       "      <th>class_1</th>\n",
       "    </tr>\n",
       "  </thead>\n",
       "  <tbody>\n",
       "    <tr>\n",
       "      <th>0</th>\n",
       "      <td>00eed32682bb</td>\n",
       "      <td>0.321698</td>\n",
       "      <td>0.678302</td>\n",
       "    </tr>\n",
       "    <tr>\n",
       "      <th>1</th>\n",
       "      <td>010ebe33f668</td>\n",
       "      <td>0.321698</td>\n",
       "      <td>0.678302</td>\n",
       "    </tr>\n",
       "    <tr>\n",
       "      <th>2</th>\n",
       "      <td>02fa521e1838</td>\n",
       "      <td>0.321698</td>\n",
       "      <td>0.678302</td>\n",
       "    </tr>\n",
       "    <tr>\n",
       "      <th>3</th>\n",
       "      <td>040e15f562a2</td>\n",
       "      <td>0.321698</td>\n",
       "      <td>0.678302</td>\n",
       "    </tr>\n",
       "    <tr>\n",
       "      <th>4</th>\n",
       "      <td>046e85c7cc7f</td>\n",
       "      <td>0.321698</td>\n",
       "      <td>0.678302</td>\n",
       "    </tr>\n",
       "  </tbody>\n",
       "</table>\n",
       "</div>"
      ],
      "text/plain": [
       "             Id   class_0   class_1\n",
       "0  00eed32682bb  0.321698  0.678302\n",
       "1  010ebe33f668  0.321698  0.678302\n",
       "2  02fa521e1838  0.321698  0.678302\n",
       "3  040e15f562a2  0.321698  0.678302\n",
       "4  046e85c7cc7f  0.321698  0.678302"
      ]
     },
     "execution_count": 34,
     "metadata": {},
     "output_type": "execute_result"
    }
   ],
   "source": [
    "submission_df = test_df[[\"Id\", \"class_0\", \"class_1\"]]\n",
    "submission_df"
   ]
  },
  {
   "cell_type": "code",
   "execution_count": 35,
   "id": "c61a9493",
   "metadata": {
    "execution": {
     "iopub.execute_input": "2023-07-20T00:31:54.204772Z",
     "iopub.status.busy": "2023-07-20T00:31:54.204134Z",
     "iopub.status.idle": "2023-07-20T00:31:54.211650Z",
     "shell.execute_reply": "2023-07-20T00:31:54.210603Z"
    },
    "papermill": {
     "duration": 0.047712,
     "end_time": "2023-07-20T00:31:54.213320",
     "exception": false,
     "start_time": "2023-07-20T00:31:54.165608",
     "status": "completed"
    },
    "tags": []
   },
   "outputs": [],
   "source": [
    "submission_df.to_csv(\"/kaggle/working/submission.csv\", index=False)"
   ]
  }
 ],
 "metadata": {
  "kernelspec": {
   "display_name": "Python 3",
   "language": "python",
   "name": "python3"
  },
  "language_info": {
   "codemirror_mode": {
    "name": "ipython",
    "version": 3
   },
   "file_extension": ".py",
   "mimetype": "text/x-python",
   "name": "python",
   "nbconvert_exporter": "python",
   "pygments_lexer": "ipython3",
   "version": "3.10.12"
  },
  "papermill": {
   "default_parameters": {},
   "duration": 23.355945,
   "end_time": "2023-07-20T00:31:55.373758",
   "environment_variables": {},
   "exception": null,
   "input_path": "__notebook__.ipynb",
   "output_path": "__notebook__.ipynb",
   "parameters": {},
   "start_time": "2023-07-20T00:31:32.017813",
   "version": "2.4.0"
  }
 },
 "nbformat": 4,
 "nbformat_minor": 5
}
