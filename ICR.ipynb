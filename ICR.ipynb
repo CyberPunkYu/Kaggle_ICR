{
 "cells": [
  {
   "cell_type": "code",
   "execution_count": 3,
   "id": "288d7217",
   "metadata": {
    "execution": {
     "iopub.execute_input": "2023-08-01T08:35:08.309842Z",
     "iopub.status.busy": "2023-08-01T08:35:08.309154Z",
     "iopub.status.idle": "2023-08-01T08:35:10.865356Z",
     "shell.execute_reply": "2023-08-01T08:35:10.864225Z"
    },
    "papermill": {
     "duration": 2.592644,
     "end_time": "2023-08-01T08:35:10.868487",
     "exception": false,
     "start_time": "2023-08-01T08:35:08.275843",
     "status": "completed"
    },
    "tags": []
   },
   "outputs": [],
   "source": [
    "import pandas as pd\n",
    "import numpy as np\n",
    "\n",
    "import seaborn as sns\n",
    "import matplotlib as mpl\n",
    "import matplotlib.pyplot as plt\n",
    "from sklearn.decomposition import PCA\n",
    "from sklearn.impute import KNNImputer\n",
    "\n",
    "from scipy.stats import mannwhitneyu, kruskal\n",
    "from scipy.stats import f_oneway\n",
    "\n",
    "def warn(*args, **kwargs):\n",
    "    pass\n",
    "import warnings\n",
    "warnings.warn = warn\n",
    "warnings.filterwarnings('ignore')\n",
    "\n",
    "pd.set_option('display.max_columns', None)\n",
    "data = pd.read_csv(\"./icr-identify-age-related-conditions/train.csv\", index_col = 'Id')"
   ]
  },
  {
   "cell_type": "code",
   "execution_count": 4,
   "id": "8584b550",
   "metadata": {
    "execution": {
     "iopub.execute_input": "2023-08-01T08:35:12.157115Z",
     "iopub.status.busy": "2023-08-01T08:35:12.156448Z",
     "iopub.status.idle": "2023-08-01T08:35:12.220061Z",
     "shell.execute_reply": "2023-08-01T08:35:12.218617Z"
    },
    "papermill": {
     "duration": 0.103897,
     "end_time": "2023-08-01T08:35:12.224629",
     "exception": false,
     "start_time": "2023-08-01T08:35:12.120732",
     "status": "completed"
    },
    "tags": []
   },
   "outputs": [],
   "source": [
    "imputer = KNNImputer()\n",
    "data_to_impute = data.drop(columns = ['EJ', 'Class'], axis = 1)\n",
    "data_imputed = imputer.fit_transform(data_to_impute)\n",
    "data_imp = pd.DataFrame(data = data_imputed, index = data_to_impute.index, columns = data_to_impute.columns.to_list())\n",
    "data1 = pd.concat([data_imp, data.EJ, data.Class], axis = 1)\n",
    "# data1.isnull().sum()"
   ]
  },
  {
   "cell_type": "code",
   "execution_count": 5,
   "id": "b40c13cc",
   "metadata": {
    "execution": {
     "iopub.execute_input": "2023-08-01T08:35:19.123191Z",
     "iopub.status.busy": "2023-08-01T08:35:19.122429Z",
     "iopub.status.idle": "2023-08-01T08:35:20.606123Z",
     "shell.execute_reply": "2023-08-01T08:35:20.605104Z"
    },
    "papermill": {
     "duration": 1.536404,
     "end_time": "2023-08-01T08:35:20.609054",
     "exception": false,
     "start_time": "2023-08-01T08:35:19.072650",
     "status": "completed"
    },
    "tags": []
   },
   "outputs": [],
   "source": [
    "data_after_drop = data1.drop(columns = ['AH', 'CH', 'CL', 'CS', 'DV', 'EP', 'AR', 'EH', 'FD ', 'BD ', 'BZ'], axis = 1)\n",
    "data_ad_corr = data_after_drop.drop(columns = ['EJ', 'Class'], axis = 1)"
   ]
  },
  {
   "cell_type": "code",
   "execution_count": 6,
   "id": "994b53d9",
   "metadata": {
    "execution": {
     "iopub.execute_input": "2023-08-01T08:35:30.773897Z",
     "iopub.status.busy": "2023-08-01T08:35:30.773190Z",
     "iopub.status.idle": "2023-08-01T08:35:30.783695Z",
     "shell.execute_reply": "2023-08-01T08:35:30.782535Z"
    },
    "papermill": {
     "duration": 0.068156,
     "end_time": "2023-08-01T08:35:30.786446",
     "exception": false,
     "start_time": "2023-08-01T08:35:30.718290",
     "status": "completed"
    },
    "tags": []
   },
   "outputs": [
    {
     "data": {
      "text/plain": [
       "0"
      ]
     },
     "execution_count": 6,
     "metadata": {},
     "output_type": "execute_result"
    }
   ],
   "source": [
    "data_to_train = data_after_drop.copy()\n",
    "data_to_train.isnull().sum().sum()"
   ]
  },
  {
   "cell_type": "code",
   "execution_count": 7,
   "id": "5c0289fe",
   "metadata": {
    "execution": {
     "iopub.execute_input": "2023-08-01T08:35:31.096081Z",
     "iopub.status.busy": "2023-08-01T08:35:31.095276Z",
     "iopub.status.idle": "2023-08-01T08:35:31.285790Z",
     "shell.execute_reply": "2023-08-01T08:35:31.283988Z"
    },
    "papermill": {
     "duration": 0.248638,
     "end_time": "2023-08-01T08:35:31.289311",
     "exception": false,
     "start_time": "2023-08-01T08:35:31.040673",
     "status": "completed"
    },
    "tags": []
   },
   "outputs": [
    {
     "name": "stdout",
     "output_type": "stream",
     "text": [
      "AX U rank: 24896.5 P value: 0.06193626236565714\n",
      "AY U rank: 25224.0 P value: 0.05213790869681825\n",
      "AZ U rank: 26577.5 P value: 0.2945833222186133\n",
      "BR U rank: 27082.5 P value: 0.4053317110267096\n",
      "CB U rank: 26218.5 P value: 0.22564101762419575\n",
      "CF U rank: 27140.0 P value: 0.41865251371788936\n",
      "DN U rank: 25656.0 P value: 0.13844720667031063\n",
      "EG U rank: 27423.0 P value: 0.48518450545858305\n",
      "EU U rank: 25132.0 P value: 0.07933828258328013\n",
      "FC U rank: 27190.0 P value: 0.43029478011540695\n",
      "FS U rank: 26596.5 P value: 0.29614626671437755\n",
      "GB U rank: 26190.0 P value: 0.22066432412325132\n",
      "GH U rank: 27298.0 P value: 0.4556351542237075\n"
     ]
    },
    {
     "data": {
      "text/plain": [
       "False"
      ]
     },
     "execution_count": 7,
     "metadata": {},
     "output_type": "execute_result"
    }
   ],
   "source": [
    "data_to_analyze = data_to_train.drop('EJ', axis = 1) #we need to drop object variable for these tests\n",
    "data_class_0 = data_to_analyze[data_to_analyze.Class == 0]\n",
    "data_class_1 = data_to_analyze[data_to_analyze.Class == 1]\n",
    "\n",
    "features_to_drop_Utest = []\n",
    "features_to_drop_Htest = []\n",
    "columns = data_to_analyze.columns.to_list()\n",
    "columns.remove('Class')\n",
    "\n",
    "for column in columns:\n",
    "    U_rank, p_val1 = mannwhitneyu(data_class_0[column], data_class_1[column])\n",
    "    if p_val1 > 0.05:\n",
    "        features_to_drop_Utest.append(column)\n",
    "        print(column, 'U rank:', U_rank, 'P value:', p_val1)\n",
    "    H_rank, p_val2 = kruskal(data_class_0[column], data_class_1[column])\n",
    "    if p_val2 > 0.05:\n",
    "        features_to_drop_Htest.append(column)\n",
    "\n",
    "#We need to compare the tests performance\n",
    "features_to_drop_Htest == features_to_drop_Utest #Perfomance checking for the both tests"
   ]
  },
  {
   "cell_type": "code",
   "execution_count": 8,
   "id": "81a17697",
   "metadata": {
    "execution": {
     "iopub.execute_input": "2023-08-01T08:35:31.614573Z",
     "iopub.status.busy": "2023-08-01T08:35:31.613933Z",
     "iopub.status.idle": "2023-08-01T08:35:31.662510Z",
     "shell.execute_reply": "2023-08-01T08:35:31.661642Z"
    },
    "papermill": {
     "duration": 0.10463,
     "end_time": "2023-08-01T08:35:31.664770",
     "exception": false,
     "start_time": "2023-08-01T08:35:31.560140",
     "status": "completed"
    },
    "tags": []
   },
   "outputs": [
    {
     "name": "stdout",
     "output_type": "stream",
     "text": [
      "AX F: 3.2882719895397545 P value: 0.07026373631825462\n",
      "AY F: 2.3607184918846453 P value: 0.12493916238381524\n",
      "AZ F: 0.0007053205100172803 P value: 0.9788209906464335\n",
      "BR F: 0.1414644475005022 P value: 0.7069591819194481\n",
      "CB F: 0.41946969660674166 P value: 0.517443469153401\n",
      "CF F: 1.4361846527152875 P value: 0.2312193467137219\n",
      "CW  F: 1.7219087512740827 P value: 0.1899370757777987\n",
      "DN F: 0.9616555298034853 P value: 0.32715572514619407\n",
      "EG F: 0.0003133294862799697 P value: 0.9858830317986427\n",
      "EL F: 2.6170012213169622 P value: 0.10623681173590564\n",
      "EU F: 1.8232246979392086 P value: 0.17742659822745485\n",
      "FC F: 0.02227917592375351 P value: 0.8813957486296219\n",
      "FS F: 0.9621431587840991 P value: 0.3270332047916801\n",
      "GB F: 1.5632519875986108 P value: 0.21166521810832983\n",
      "GH F: 0.05519165487111272 P value: 0.8143420059794999\n",
      "GI F: 3.7100316863205522 P value: 0.054546953012873454\n"
     ]
    },
    {
     "data": {
      "text/plain": [
       "False"
      ]
     },
     "execution_count": 8,
     "metadata": {},
     "output_type": "execute_result"
    }
   ],
   "source": [
    "features_to_drop_ANOVA = []\n",
    "columns = data_to_analyze.columns.to_list()\n",
    "columns.remove('Class')\n",
    "\n",
    "for column in columns:\n",
    "    F, p_val = f_oneway(np.log1p(data_class_0[column]), np.log1p(data_class_1[column]))\n",
    "    if p_val > 0.05:\n",
    "        features_to_drop_ANOVA.append(column)\n",
    "        print(column, 'F:', F, 'P value:', p_val)\n",
    "\n",
    "#We need to compare the tests performance\n",
    "features_to_drop_Utest == features_to_drop_ANOVA #Perfomance checking for the both tests"
   ]
  },
  {
   "cell_type": "markdown",
   "id": "0505607a",
   "metadata": {
    "papermill": {
     "duration": 0.050717,
     "end_time": "2023-08-01T08:35:32.227328",
     "exception": false,
     "start_time": "2023-08-01T08:35:32.176611",
     "status": "completed"
    },
    "tags": []
   },
   "source": [
    "We'll use intersection of both result arrays to disclude the features."
   ]
  },
  {
   "cell_type": "code",
   "execution_count": 14,
   "id": "1ef49ad6",
   "metadata": {
    "execution": {
     "iopub.execute_input": "2023-08-01T08:35:32.332240Z",
     "iopub.status.busy": "2023-08-01T08:35:32.331840Z",
     "iopub.status.idle": "2023-08-01T08:35:32.337425Z",
     "shell.execute_reply": "2023-08-01T08:35:32.336115Z"
    },
    "papermill": {
     "duration": 0.061096,
     "end_time": "2023-08-01T08:35:32.339889",
     "exception": false,
     "start_time": "2023-08-01T08:35:32.278793",
     "status": "completed"
    },
    "tags": []
   },
   "outputs": [
    {
     "data": {
      "text/plain": [
       "['FS', 'AX', 'GB', 'EG', 'FC', 'CF', 'AZ', 'CB', 'DN', 'EU', 'GH', 'AY', 'BR']"
      ]
     },
     "execution_count": 14,
     "metadata": {},
     "output_type": "execute_result"
    }
   ],
   "source": [
    "features_to_drop_final = list(set(features_to_drop_Utest).intersection(set(features_to_drop_ANOVA)))\n",
    "features_to_drop_final"
   ]
  },
  {
   "cell_type": "markdown",
   "id": "0e9808e5",
   "metadata": {
    "papermill": {
     "duration": 0.049823,
     "end_time": "2023-08-01T08:35:32.441397",
     "exception": false,
     "start_time": "2023-08-01T08:35:32.391574",
     "status": "completed"
    },
    "tags": []
   },
   "source": [
    "Let's check the target means for the only object variable. "
   ]
  },
  {
   "cell_type": "code",
   "execution_count": 36,
   "id": "9f918919",
   "metadata": {
    "execution": {
     "iopub.execute_input": "2023-08-01T08:35:32.544183Z",
     "iopub.status.busy": "2023-08-01T08:35:32.543760Z",
     "iopub.status.idle": "2023-08-01T08:35:32.560624Z",
     "shell.execute_reply": "2023-08-01T08:35:32.559317Z"
    },
    "papermill": {
     "duration": 0.071158,
     "end_time": "2023-08-01T08:35:32.563404",
     "exception": false,
     "start_time": "2023-08-01T08:35:32.492246",
     "status": "completed"
    },
    "tags": []
   },
   "outputs": [
    {
     "data": {
      "text/html": [
       "<div>\n",
       "<style scoped>\n",
       "    .dataframe tbody tr th:only-of-type {\n",
       "        vertical-align: middle;\n",
       "    }\n",
       "\n",
       "    .dataframe tbody tr th {\n",
       "        vertical-align: top;\n",
       "    }\n",
       "\n",
       "    .dataframe thead th {\n",
       "        text-align: right;\n",
       "    }\n",
       "</style>\n",
       "<table border=\"1\" class=\"dataframe\">\n",
       "  <thead>\n",
       "    <tr style=\"text-align: right;\">\n",
       "      <th></th>\n",
       "      <th>Class</th>\n",
       "    </tr>\n",
       "    <tr>\n",
       "      <th>EJ</th>\n",
       "      <th></th>\n",
       "    </tr>\n",
       "  </thead>\n",
       "  <tbody>\n",
       "    <tr>\n",
       "      <th>A</th>\n",
       "      <td>0.126126</td>\n",
       "    </tr>\n",
       "    <tr>\n",
       "      <th>B</th>\n",
       "      <td>0.202532</td>\n",
       "    </tr>\n",
       "  </tbody>\n",
       "</table>\n",
       "</div>"
      ],
      "text/plain": [
       "       Class\n",
       "EJ          \n",
       "A   0.126126\n",
       "B   0.202532"
      ]
     },
     "execution_count": 36,
     "metadata": {},
     "output_type": "execute_result"
    }
   ],
   "source": [
    "data_obj = data_to_train[['EJ', 'Class']]\n",
    "data_obj.groupby('EJ').mean()"
   ]
  },
  {
   "cell_type": "markdown",
   "id": "243eb3b6",
   "metadata": {
    "papermill": {
     "duration": 0.053823,
     "end_time": "2023-08-01T08:35:32.670962",
     "exception": false,
     "start_time": "2023-08-01T08:35:32.617139",
     "status": "completed"
    },
    "tags": []
   },
   "source": [
    "We have different means so we retain this variable."
   ]
  },
  {
   "cell_type": "markdown",
   "id": "b1a25270",
   "metadata": {
    "papermill": {
     "duration": 0.051263,
     "end_time": "2023-08-01T08:35:32.775384",
     "exception": false,
     "start_time": "2023-08-01T08:35:32.724121",
     "status": "completed"
    },
    "tags": []
   },
   "source": [
    "## The final training dataset:"
   ]
  },
  {
   "cell_type": "code",
   "execution_count": 37,
   "id": "7385268d",
   "metadata": {
    "execution": {
     "iopub.execute_input": "2023-08-01T08:35:32.884133Z",
     "iopub.status.busy": "2023-08-01T08:35:32.882584Z",
     "iopub.status.idle": "2023-08-01T08:35:32.935420Z",
     "shell.execute_reply": "2023-08-01T08:35:32.934204Z"
    },
    "papermill": {
     "duration": 0.109747,
     "end_time": "2023-08-01T08:35:32.938054",
     "exception": false,
     "start_time": "2023-08-01T08:35:32.828307",
     "status": "completed"
    },
    "tags": []
   },
   "outputs": [
    {
     "data": {
      "text/html": [
       "<div>\n",
       "<style scoped>\n",
       "    .dataframe tbody tr th:only-of-type {\n",
       "        vertical-align: middle;\n",
       "    }\n",
       "\n",
       "    .dataframe tbody tr th {\n",
       "        vertical-align: top;\n",
       "    }\n",
       "\n",
       "    .dataframe thead th {\n",
       "        text-align: right;\n",
       "    }\n",
       "</style>\n",
       "<table border=\"1\" class=\"dataframe\">\n",
       "  <thead>\n",
       "    <tr style=\"text-align: right;\">\n",
       "      <th></th>\n",
       "      <th>AB</th>\n",
       "      <th>AF</th>\n",
       "      <th>AM</th>\n",
       "      <th>BC</th>\n",
       "      <th>BN</th>\n",
       "      <th>BP</th>\n",
       "      <th>BQ</th>\n",
       "      <th>CC</th>\n",
       "      <th>CD</th>\n",
       "      <th>CR</th>\n",
       "      <th>CU</th>\n",
       "      <th>DA</th>\n",
       "      <th>DE</th>\n",
       "      <th>DF</th>\n",
       "      <th>DH</th>\n",
       "      <th>DI</th>\n",
       "      <th>DL</th>\n",
       "      <th>DU</th>\n",
       "      <th>DY</th>\n",
       "      <th>EB</th>\n",
       "      <th>EE</th>\n",
       "      <th>FE</th>\n",
       "      <th>FI</th>\n",
       "      <th>FL</th>\n",
       "      <th>FR</th>\n",
       "      <th>GE</th>\n",
       "      <th>GF</th>\n",
       "      <th>GL</th>\n",
       "      <th>Class</th>\n",
       "      <th>A</th>\n",
       "      <th>B</th>\n",
       "    </tr>\n",
       "    <tr>\n",
       "      <th>Id</th>\n",
       "      <th></th>\n",
       "      <th></th>\n",
       "      <th></th>\n",
       "      <th></th>\n",
       "      <th></th>\n",
       "      <th></th>\n",
       "      <th></th>\n",
       "      <th></th>\n",
       "      <th></th>\n",
       "      <th></th>\n",
       "      <th></th>\n",
       "      <th></th>\n",
       "      <th></th>\n",
       "      <th></th>\n",
       "      <th></th>\n",
       "      <th></th>\n",
       "      <th></th>\n",
       "      <th></th>\n",
       "      <th></th>\n",
       "      <th></th>\n",
       "      <th></th>\n",
       "      <th></th>\n",
       "      <th></th>\n",
       "      <th></th>\n",
       "      <th></th>\n",
       "      <th></th>\n",
       "      <th></th>\n",
       "      <th></th>\n",
       "      <th></th>\n",
       "      <th></th>\n",
       "      <th></th>\n",
       "    </tr>\n",
       "  </thead>\n",
       "  <tbody>\n",
       "    <tr>\n",
       "      <th>000ff2bfdfe9</th>\n",
       "      <td>0.209377</td>\n",
       "      <td>3109.03329</td>\n",
       "      <td>22.394407</td>\n",
       "      <td>5.555634</td>\n",
       "      <td>22.5984</td>\n",
       "      <td>175.638726</td>\n",
       "      <td>152.707705</td>\n",
       "      <td>0.563481</td>\n",
       "      <td>23.387600</td>\n",
       "      <td>0.069225</td>\n",
       "      <td>1.302012</td>\n",
       "      <td>69.08340</td>\n",
       "      <td>295.570575</td>\n",
       "      <td>0.238680</td>\n",
       "      <td>0.284232</td>\n",
       "      <td>89.245560</td>\n",
       "      <td>84.31664</td>\n",
       "      <td>5.310690</td>\n",
       "      <td>23.187704</td>\n",
       "      <td>7.294176</td>\n",
       "      <td>1.987283</td>\n",
       "      <td>9028.291921</td>\n",
       "      <td>3.583450</td>\n",
       "      <td>7.298162</td>\n",
       "      <td>1.73855</td>\n",
       "      <td>72.611063</td>\n",
       "      <td>2003.810319</td>\n",
       "      <td>0.120343</td>\n",
       "      <td>1</td>\n",
       "      <td>0</td>\n",
       "      <td>1</td>\n",
       "    </tr>\n",
       "    <tr>\n",
       "      <th>007255e47698</th>\n",
       "      <td>0.145282</td>\n",
       "      <td>978.76416</td>\n",
       "      <td>36.968889</td>\n",
       "      <td>1.229900</td>\n",
       "      <td>19.4205</td>\n",
       "      <td>155.868030</td>\n",
       "      <td>14.754720</td>\n",
       "      <td>0.484710</td>\n",
       "      <td>50.628208</td>\n",
       "      <td>1.117800</td>\n",
       "      <td>1.357182</td>\n",
       "      <td>70.79836</td>\n",
       "      <td>178.553100</td>\n",
       "      <td>0.238680</td>\n",
       "      <td>0.363489</td>\n",
       "      <td>110.581815</td>\n",
       "      <td>75.74548</td>\n",
       "      <td>0.005518</td>\n",
       "      <td>17.222328</td>\n",
       "      <td>4.926396</td>\n",
       "      <td>0.858603</td>\n",
       "      <td>6785.003474</td>\n",
       "      <td>10.358927</td>\n",
       "      <td>0.173229</td>\n",
       "      <td>0.49706</td>\n",
       "      <td>72.611063</td>\n",
       "      <td>27981.562750</td>\n",
       "      <td>21.978000</td>\n",
       "      <td>0</td>\n",
       "      <td>1</td>\n",
       "      <td>0</td>\n",
       "    </tr>\n",
       "    <tr>\n",
       "      <th>013f2bd269f5</th>\n",
       "      <td>0.470030</td>\n",
       "      <td>2635.10654</td>\n",
       "      <td>32.360553</td>\n",
       "      <td>1.229900</td>\n",
       "      <td>26.4825</td>\n",
       "      <td>128.988531</td>\n",
       "      <td>219.320160</td>\n",
       "      <td>0.495852</td>\n",
       "      <td>85.955376</td>\n",
       "      <td>0.700350</td>\n",
       "      <td>1.009611</td>\n",
       "      <td>70.81970</td>\n",
       "      <td>321.426625</td>\n",
       "      <td>0.238680</td>\n",
       "      <td>0.210441</td>\n",
       "      <td>120.056438</td>\n",
       "      <td>65.46984</td>\n",
       "      <td>1.289739</td>\n",
       "      <td>36.861352</td>\n",
       "      <td>7.813674</td>\n",
       "      <td>8.146651</td>\n",
       "      <td>8338.906181</td>\n",
       "      <td>11.626917</td>\n",
       "      <td>7.709560</td>\n",
       "      <td>0.97556</td>\n",
       "      <td>88.609437</td>\n",
       "      <td>13676.957810</td>\n",
       "      <td>0.196941</td>\n",
       "      <td>0</td>\n",
       "      <td>0</td>\n",
       "      <td>1</td>\n",
       "    </tr>\n",
       "    <tr>\n",
       "      <th>043ac50845d5</th>\n",
       "      <td>0.252107</td>\n",
       "      <td>3819.65177</td>\n",
       "      <td>77.112203</td>\n",
       "      <td>1.229900</td>\n",
       "      <td>23.6577</td>\n",
       "      <td>237.282264</td>\n",
       "      <td>11.050410</td>\n",
       "      <td>0.717882</td>\n",
       "      <td>88.159360</td>\n",
       "      <td>0.636075</td>\n",
       "      <td>0.722727</td>\n",
       "      <td>47.27586</td>\n",
       "      <td>196.607985</td>\n",
       "      <td>0.238680</td>\n",
       "      <td>0.292431</td>\n",
       "      <td>139.824570</td>\n",
       "      <td>71.57120</td>\n",
       "      <td>2.655345</td>\n",
       "      <td>52.003884</td>\n",
       "      <td>7.386060</td>\n",
       "      <td>3.813326</td>\n",
       "      <td>10965.766040</td>\n",
       "      <td>14.852022</td>\n",
       "      <td>6.122162</td>\n",
       "      <td>0.49706</td>\n",
       "      <td>82.416803</td>\n",
       "      <td>2094.262452</td>\n",
       "      <td>0.155829</td>\n",
       "      <td>0</td>\n",
       "      <td>0</td>\n",
       "      <td>1</td>\n",
       "    </tr>\n",
       "    <tr>\n",
       "      <th>044fb8a146ec</th>\n",
       "      <td>0.380297</td>\n",
       "      <td>3733.04844</td>\n",
       "      <td>14.103738</td>\n",
       "      <td>102.151980</td>\n",
       "      <td>24.0108</td>\n",
       "      <td>324.546318</td>\n",
       "      <td>149.717165</td>\n",
       "      <td>0.536467</td>\n",
       "      <td>72.644264</td>\n",
       "      <td>0.693150</td>\n",
       "      <td>0.827550</td>\n",
       "      <td>74.06532</td>\n",
       "      <td>200.178160</td>\n",
       "      <td>0.238680</td>\n",
       "      <td>0.207708</td>\n",
       "      <td>97.920120</td>\n",
       "      <td>52.83888</td>\n",
       "      <td>1.144902</td>\n",
       "      <td>9.064856</td>\n",
       "      <td>7.350720</td>\n",
       "      <td>3.490846</td>\n",
       "      <td>16198.049590</td>\n",
       "      <td>13.666727</td>\n",
       "      <td>8.153058</td>\n",
       "      <td>48.50134</td>\n",
       "      <td>146.109943</td>\n",
       "      <td>8524.370502</td>\n",
       "      <td>0.096614</td>\n",
       "      <td>1</td>\n",
       "      <td>0</td>\n",
       "      <td>1</td>\n",
       "    </tr>\n",
       "    <tr>\n",
       "      <th>...</th>\n",
       "      <td>...</td>\n",
       "      <td>...</td>\n",
       "      <td>...</td>\n",
       "      <td>...</td>\n",
       "      <td>...</td>\n",
       "      <td>...</td>\n",
       "      <td>...</td>\n",
       "      <td>...</td>\n",
       "      <td>...</td>\n",
       "      <td>...</td>\n",
       "      <td>...</td>\n",
       "      <td>...</td>\n",
       "      <td>...</td>\n",
       "      <td>...</td>\n",
       "      <td>...</td>\n",
       "      <td>...</td>\n",
       "      <td>...</td>\n",
       "      <td>...</td>\n",
       "      <td>...</td>\n",
       "      <td>...</td>\n",
       "      <td>...</td>\n",
       "      <td>...</td>\n",
       "      <td>...</td>\n",
       "      <td>...</td>\n",
       "      <td>...</td>\n",
       "      <td>...</td>\n",
       "      <td>...</td>\n",
       "      <td>...</td>\n",
       "      <td>...</td>\n",
       "      <td>...</td>\n",
       "      <td>...</td>\n",
       "    </tr>\n",
       "    <tr>\n",
       "      <th>fd3dafe738fd</th>\n",
       "      <td>0.149555</td>\n",
       "      <td>3130.05946</td>\n",
       "      <td>9.513984</td>\n",
       "      <td>2.804172</td>\n",
       "      <td>21.1860</td>\n",
       "      <td>167.877117</td>\n",
       "      <td>27.287375</td>\n",
       "      <td>0.691257</td>\n",
       "      <td>55.163024</td>\n",
       "      <td>0.698250</td>\n",
       "      <td>1.070298</td>\n",
       "      <td>21.75904</td>\n",
       "      <td>355.930925</td>\n",
       "      <td>0.238680</td>\n",
       "      <td>0.445479</td>\n",
       "      <td>176.977590</td>\n",
       "      <td>90.91832</td>\n",
       "      <td>0.005518</td>\n",
       "      <td>32.508604</td>\n",
       "      <td>8.015112</td>\n",
       "      <td>1.354416</td>\n",
       "      <td>17167.209610</td>\n",
       "      <td>9.879296</td>\n",
       "      <td>0.173229</td>\n",
       "      <td>1.26092</td>\n",
       "      <td>217.148554</td>\n",
       "      <td>8095.932828</td>\n",
       "      <td>21.978000</td>\n",
       "      <td>0</td>\n",
       "      <td>1</td>\n",
       "      <td>0</td>\n",
       "    </tr>\n",
       "    <tr>\n",
       "      <th>fd895603f071</th>\n",
       "      <td>0.435846</td>\n",
       "      <td>5462.03438</td>\n",
       "      <td>46.551007</td>\n",
       "      <td>3.777550</td>\n",
       "      <td>27.1887</td>\n",
       "      <td>285.628059</td>\n",
       "      <td>344.644105</td>\n",
       "      <td>0.772304</td>\n",
       "      <td>85.233928</td>\n",
       "      <td>0.761025</td>\n",
       "      <td>2.146113</td>\n",
       "      <td>43.90996</td>\n",
       "      <td>157.393715</td>\n",
       "      <td>0.238680</td>\n",
       "      <td>0.437280</td>\n",
       "      <td>192.598575</td>\n",
       "      <td>123.17624</td>\n",
       "      <td>0.648318</td>\n",
       "      <td>18.197092</td>\n",
       "      <td>8.976360</td>\n",
       "      <td>0.753797</td>\n",
       "      <td>18460.330020</td>\n",
       "      <td>10.910227</td>\n",
       "      <td>10.223150</td>\n",
       "      <td>1.24236</td>\n",
       "      <td>496.994214</td>\n",
       "      <td>3085.308063</td>\n",
       "      <td>0.145340</td>\n",
       "      <td>0</td>\n",
       "      <td>0</td>\n",
       "      <td>1</td>\n",
       "    </tr>\n",
       "    <tr>\n",
       "      <th>fd8ef6377f76</th>\n",
       "      <td>0.427300</td>\n",
       "      <td>2459.10720</td>\n",
       "      <td>55.355778</td>\n",
       "      <td>1.229900</td>\n",
       "      <td>20.4798</td>\n",
       "      <td>178.661133</td>\n",
       "      <td>103.988995</td>\n",
       "      <td>0.708616</td>\n",
       "      <td>142.680216</td>\n",
       "      <td>0.879825</td>\n",
       "      <td>1.489590</td>\n",
       "      <td>104.62032</td>\n",
       "      <td>223.209115</td>\n",
       "      <td>0.238680</td>\n",
       "      <td>0.382620</td>\n",
       "      <td>218.915925</td>\n",
       "      <td>326.23620</td>\n",
       "      <td>0.005518</td>\n",
       "      <td>47.552312</td>\n",
       "      <td>9.478188</td>\n",
       "      <td>2.225112</td>\n",
       "      <td>5088.922912</td>\n",
       "      <td>12.029366</td>\n",
       "      <td>0.173229</td>\n",
       "      <td>0.49706</td>\n",
       "      <td>128.896894</td>\n",
       "      <td>6474.652866</td>\n",
       "      <td>21.978000</td>\n",
       "      <td>0</td>\n",
       "      <td>1</td>\n",
       "      <td>0</td>\n",
       "    </tr>\n",
       "    <tr>\n",
       "      <th>fe1942975e40</th>\n",
       "      <td>0.363205</td>\n",
       "      <td>1263.53524</td>\n",
       "      <td>23.685856</td>\n",
       "      <td>1.229900</td>\n",
       "      <td>19.0674</td>\n",
       "      <td>119.162529</td>\n",
       "      <td>82.512333</td>\n",
       "      <td>0.602254</td>\n",
       "      <td>122.939496</td>\n",
       "      <td>0.583125</td>\n",
       "      <td>1.428903</td>\n",
       "      <td>51.04140</td>\n",
       "      <td>112.196630</td>\n",
       "      <td>0.532818</td>\n",
       "      <td>0.549333</td>\n",
       "      <td>113.526045</td>\n",
       "      <td>96.97092</td>\n",
       "      <td>0.510378</td>\n",
       "      <td>38.271840</td>\n",
       "      <td>10.078968</td>\n",
       "      <td>1.628524</td>\n",
       "      <td>6464.250832</td>\n",
       "      <td>8.026928</td>\n",
       "      <td>9.256996</td>\n",
       "      <td>0.78764</td>\n",
       "      <td>72.611063</td>\n",
       "      <td>1965.343176</td>\n",
       "      <td>0.184622</td>\n",
       "      <td>0</td>\n",
       "      <td>0</td>\n",
       "      <td>1</td>\n",
       "    </tr>\n",
       "    <tr>\n",
       "      <th>ffcca4ded3bb</th>\n",
       "      <td>0.482849</td>\n",
       "      <td>2672.53426</td>\n",
       "      <td>112.006102</td>\n",
       "      <td>7.948668</td>\n",
       "      <td>21.1860</td>\n",
       "      <td>306.127863</td>\n",
       "      <td>6.090490</td>\n",
       "      <td>0.644837</td>\n",
       "      <td>271.240664</td>\n",
       "      <td>2.404275</td>\n",
       "      <td>0.915822</td>\n",
       "      <td>35.72704</td>\n",
       "      <td>889.496905</td>\n",
       "      <td>0.238680</td>\n",
       "      <td>0.172179</td>\n",
       "      <td>156.345390</td>\n",
       "      <td>82.54008</td>\n",
       "      <td>0.005518</td>\n",
       "      <td>24.499368</td>\n",
       "      <td>7.873752</td>\n",
       "      <td>2.374259</td>\n",
       "      <td>5895.352262</td>\n",
       "      <td>7.745765</td>\n",
       "      <td>0.173229</td>\n",
       "      <td>1.14492</td>\n",
       "      <td>72.611063</td>\n",
       "      <td>6850.484442</td>\n",
       "      <td>21.978000</td>\n",
       "      <td>0</td>\n",
       "      <td>1</td>\n",
       "      <td>0</td>\n",
       "    </tr>\n",
       "  </tbody>\n",
       "</table>\n",
       "<p>617 rows × 31 columns</p>\n",
       "</div>"
      ],
      "text/plain": [
       "                    AB          AF          AM          BC       BN  \\\n",
       "Id                                                                    \n",
       "000ff2bfdfe9  0.209377  3109.03329   22.394407    5.555634  22.5984   \n",
       "007255e47698  0.145282   978.76416   36.968889    1.229900  19.4205   \n",
       "013f2bd269f5  0.470030  2635.10654   32.360553    1.229900  26.4825   \n",
       "043ac50845d5  0.252107  3819.65177   77.112203    1.229900  23.6577   \n",
       "044fb8a146ec  0.380297  3733.04844   14.103738  102.151980  24.0108   \n",
       "...                ...         ...         ...         ...      ...   \n",
       "fd3dafe738fd  0.149555  3130.05946    9.513984    2.804172  21.1860   \n",
       "fd895603f071  0.435846  5462.03438   46.551007    3.777550  27.1887   \n",
       "fd8ef6377f76  0.427300  2459.10720   55.355778    1.229900  20.4798   \n",
       "fe1942975e40  0.363205  1263.53524   23.685856    1.229900  19.0674   \n",
       "ffcca4ded3bb  0.482849  2672.53426  112.006102    7.948668  21.1860   \n",
       "\n",
       "                      BP          BQ        CC         CD         CR  \\\n",
       "Id                                                                     \n",
       "000ff2bfdfe9  175.638726  152.707705  0.563481   23.387600  0.069225   \n",
       "007255e47698  155.868030   14.754720  0.484710   50.628208  1.117800   \n",
       "013f2bd269f5  128.988531  219.320160  0.495852   85.955376  0.700350   \n",
       "043ac50845d5  237.282264   11.050410  0.717882   88.159360  0.636075   \n",
       "044fb8a146ec  324.546318  149.717165  0.536467   72.644264  0.693150   \n",
       "...                  ...         ...       ...         ...       ...   \n",
       "fd3dafe738fd  167.877117   27.287375  0.691257   55.163024  0.698250   \n",
       "fd895603f071  285.628059  344.644105  0.772304   85.233928  0.761025   \n",
       "fd8ef6377f76  178.661133  103.988995  0.708616  142.680216  0.879825   \n",
       "fe1942975e40  119.162529   82.512333  0.602254  122.939496  0.583125   \n",
       "ffcca4ded3bb  306.127863    6.090490  0.644837  271.240664  2.404275   \n",
       "\n",
       "                    CU         DA          DE        DF        DH          DI  \\\n",
       "Id                                                                              \n",
       "000ff2bfdfe9  1.302012   69.08340  295.570575  0.238680  0.284232   89.245560   \n",
       "007255e47698  1.357182   70.79836  178.553100  0.238680  0.363489  110.581815   \n",
       "013f2bd269f5  1.009611   70.81970  321.426625  0.238680  0.210441  120.056438   \n",
       "043ac50845d5  0.722727   47.27586  196.607985  0.238680  0.292431  139.824570   \n",
       "044fb8a146ec  0.827550   74.06532  200.178160  0.238680  0.207708   97.920120   \n",
       "...                ...        ...         ...       ...       ...         ...   \n",
       "fd3dafe738fd  1.070298   21.75904  355.930925  0.238680  0.445479  176.977590   \n",
       "fd895603f071  2.146113   43.90996  157.393715  0.238680  0.437280  192.598575   \n",
       "fd8ef6377f76  1.489590  104.62032  223.209115  0.238680  0.382620  218.915925   \n",
       "fe1942975e40  1.428903   51.04140  112.196630  0.532818  0.549333  113.526045   \n",
       "ffcca4ded3bb  0.915822   35.72704  889.496905  0.238680  0.172179  156.345390   \n",
       "\n",
       "                     DL        DU         DY         EB        EE  \\\n",
       "Id                                                                  \n",
       "000ff2bfdfe9   84.31664  5.310690  23.187704   7.294176  1.987283   \n",
       "007255e47698   75.74548  0.005518  17.222328   4.926396  0.858603   \n",
       "013f2bd269f5   65.46984  1.289739  36.861352   7.813674  8.146651   \n",
       "043ac50845d5   71.57120  2.655345  52.003884   7.386060  3.813326   \n",
       "044fb8a146ec   52.83888  1.144902   9.064856   7.350720  3.490846   \n",
       "...                 ...       ...        ...        ...       ...   \n",
       "fd3dafe738fd   90.91832  0.005518  32.508604   8.015112  1.354416   \n",
       "fd895603f071  123.17624  0.648318  18.197092   8.976360  0.753797   \n",
       "fd8ef6377f76  326.23620  0.005518  47.552312   9.478188  2.225112   \n",
       "fe1942975e40   96.97092  0.510378  38.271840  10.078968  1.628524   \n",
       "ffcca4ded3bb   82.54008  0.005518  24.499368   7.873752  2.374259   \n",
       "\n",
       "                        FE         FI         FL        FR          GE  \\\n",
       "Id                                                                       \n",
       "000ff2bfdfe9   9028.291921   3.583450   7.298162   1.73855   72.611063   \n",
       "007255e47698   6785.003474  10.358927   0.173229   0.49706   72.611063   \n",
       "013f2bd269f5   8338.906181  11.626917   7.709560   0.97556   88.609437   \n",
       "043ac50845d5  10965.766040  14.852022   6.122162   0.49706   82.416803   \n",
       "044fb8a146ec  16198.049590  13.666727   8.153058  48.50134  146.109943   \n",
       "...                    ...        ...        ...       ...         ...   \n",
       "fd3dafe738fd  17167.209610   9.879296   0.173229   1.26092  217.148554   \n",
       "fd895603f071  18460.330020  10.910227  10.223150   1.24236  496.994214   \n",
       "fd8ef6377f76   5088.922912  12.029366   0.173229   0.49706  128.896894   \n",
       "fe1942975e40   6464.250832   8.026928   9.256996   0.78764   72.611063   \n",
       "ffcca4ded3bb   5895.352262   7.745765   0.173229   1.14492   72.611063   \n",
       "\n",
       "                        GF         GL  Class  A  B  \n",
       "Id                                                  \n",
       "000ff2bfdfe9   2003.810319   0.120343      1  0  1  \n",
       "007255e47698  27981.562750  21.978000      0  1  0  \n",
       "013f2bd269f5  13676.957810   0.196941      0  0  1  \n",
       "043ac50845d5   2094.262452   0.155829      0  0  1  \n",
       "044fb8a146ec   8524.370502   0.096614      1  0  1  \n",
       "...                    ...        ...    ... .. ..  \n",
       "fd3dafe738fd   8095.932828  21.978000      0  1  0  \n",
       "fd895603f071   3085.308063   0.145340      0  0  1  \n",
       "fd8ef6377f76   6474.652866  21.978000      0  1  0  \n",
       "fe1942975e40   1965.343176   0.184622      0  0  1  \n",
       "ffcca4ded3bb   6850.484442  21.978000      0  1  0  \n",
       "\n",
       "[617 rows x 31 columns]"
      ]
     },
     "execution_count": 37,
     "metadata": {},
     "output_type": "execute_result"
    }
   ],
   "source": [
    "data_to_train.drop(columns = ['FS', 'AX', 'GB', 'EG', 'FC', 'CF', 'AZ', 'CB', 'DN', 'EU', 'GH', 'AY', 'BR'], axis = 1, inplace = True)\n",
    "data_object = data_to_train.EJ\n",
    "dummies_df = pd.get_dummies(data_object)\n",
    "df_train = pd.concat([data_to_train, dummies_df], axis = 1)\n",
    "df_train.drop('EJ', axis = 1, inplace = True)\n",
    "df_train"
   ]
  },
  {
   "cell_type": "code",
   "execution_count": 39,
   "id": "34983c82",
   "metadata": {
    "execution": {
     "iopub.execute_input": "2023-08-01T08:35:33.475844Z",
     "iopub.status.busy": "2023-08-01T08:35:33.475423Z",
     "iopub.status.idle": "2023-08-01T08:35:33.862940Z",
     "shell.execute_reply": "2023-08-01T08:35:33.861900Z"
    },
    "papermill": {
     "duration": 0.445323,
     "end_time": "2023-08-01T08:35:33.865640",
     "exception": false,
     "start_time": "2023-08-01T08:35:33.420317",
     "status": "completed"
    },
    "tags": []
   },
   "outputs": [],
   "source": [
    "from sklearn.model_selection import train_test_split\n",
    "from sklearn.ensemble import StackingClassifier\n",
    "from sklearn.linear_model import LogisticRegression\n",
    "from sklearn.tree import DecisionTreeClassifier\n",
    "from sklearn.model_selection import GridSearchCV, cross_val_score, cross_val_predict\n",
    "from sklearn.metrics import accuracy_score, f1_score, roc_auc_score, classification_report, log_loss, confusion_matrix\n",
    "from xgboost import XGBClassifier, XGBRFClassifier\n",
    "from sklearn.utils import shuffle"
   ]
  },
  {
   "cell_type": "markdown",
   "id": "0cd7b3e6",
   "metadata": {
    "papermill": {
     "duration": 0.052123,
     "end_time": "2023-08-01T08:35:33.971951",
     "exception": false,
     "start_time": "2023-08-01T08:35:33.919828",
     "status": "completed"
    },
    "tags": []
   },
   "source": [
    "X and y arrays preparation:"
   ]
  },
  {
   "cell_type": "code",
   "execution_count": 40,
   "id": "f8f6cc4d",
   "metadata": {
    "execution": {
     "iopub.execute_input": "2023-08-01T08:35:34.082300Z",
     "iopub.status.busy": "2023-08-01T08:35:34.081908Z",
     "iopub.status.idle": "2023-08-01T08:35:34.088679Z",
     "shell.execute_reply": "2023-08-01T08:35:34.087441Z"
    },
    "papermill": {
     "duration": 0.065465,
     "end_time": "2023-08-01T08:35:34.091777",
     "exception": false,
     "start_time": "2023-08-01T08:35:34.026312",
     "status": "completed"
    },
    "tags": []
   },
   "outputs": [],
   "source": [
    "X = df_train.drop('Class', axis = 1)\n",
    "y = df_train.Class"
   ]
  },
  {
   "cell_type": "code",
   "execution_count": 41,
   "id": "3696c43c",
   "metadata": {
    "execution": {
     "iopub.execute_input": "2023-08-01T08:35:34.199462Z",
     "iopub.status.busy": "2023-08-01T08:35:34.199087Z",
     "iopub.status.idle": "2023-08-01T08:35:34.206526Z",
     "shell.execute_reply": "2023-08-01T08:35:34.205028Z"
    },
    "papermill": {
     "duration": 0.063566,
     "end_time": "2023-08-01T08:35:34.209053",
     "exception": false,
     "start_time": "2023-08-01T08:35:34.145487",
     "status": "completed"
    },
    "tags": []
   },
   "outputs": [],
   "source": [
    "X_shuffle, y_shuffle = shuffle(X, y, random_state = 3247)"
   ]
  },
  {
   "cell_type": "markdown",
   "id": "1fc0a18f",
   "metadata": {
    "papermill": {
     "duration": 0.052419,
     "end_time": "2023-08-01T08:35:34.312899",
     "exception": false,
     "start_time": "2023-08-01T08:35:34.260480",
     "status": "completed"
    },
    "tags": []
   },
   "source": [
    "## XGBoost algorithm"
   ]
  },
  {
   "cell_type": "code",
   "execution_count": 42,
   "id": "a54aefa8",
   "metadata": {
    "execution": {
     "iopub.execute_input": "2023-08-01T08:35:34.420925Z",
     "iopub.status.busy": "2023-08-01T08:35:34.420513Z",
     "iopub.status.idle": "2023-08-01T08:35:34.974319Z",
     "shell.execute_reply": "2023-08-01T08:35:34.973396Z"
    },
    "papermill": {
     "duration": 0.611789,
     "end_time": "2023-08-01T08:35:34.977372",
     "exception": false,
     "start_time": "2023-08-01T08:35:34.365583",
     "status": "completed"
    },
    "tags": []
   },
   "outputs": [
    {
     "name": "stdout",
     "output_type": "stream",
     "text": [
      "{'base_score': 0.3, 'colsample_bylevel': 0.8, 'colsample_bynode': 0.3, 'colsample_bytree': 0.6, 'max_depth': 5, 'n_estimators': 110, 'scale_pos_weight': 9, 'subsample': 1.0} \n",
      "\n",
      "Best f1 score: 0.7693603566245075 \n",
      "\n"
     ]
    }
   ],
   "source": [
    "estimator_XG = XGBClassifier(booster = 'gbtree', \n",
    "                             eval_metric = 'logloss',\n",
    "                             tree_method = 'exact', \n",
    "                             random_state = 123, \n",
    "                             grow_policy = 'lossguide',\n",
    "                             eta = 0,\n",
    "                             learning_rate = 0.2, \n",
    "                             gamma = 0\n",
    "                            )\n",
    "\n",
    "params = {'n_estimators' : [110], \n",
    "          'max_depth' : [5],  \n",
    "          'subsample' : [1.0],\n",
    "          'scale_pos_weight' : [9], \n",
    "          'base_score' : [0.3],\n",
    "          'colsample_bynode' : [0.3],\n",
    "          'colsample_bytree' : [0.6],\n",
    "          'colsample_bylevel' : [0.8]\n",
    "         }\n",
    "\n",
    "search_XG = GridSearchCV(estimator_XG, params, scoring = 'f1', cv = 4)\n",
    "search_XG.fit(X_shuffle, y_shuffle)\n",
    "\n",
    "print(search_XG.best_params_, '\\n')\n",
    "print('Best f1 score:', search_XG.best_score_, '\\n')"
   ]
  },
  {
   "cell_type": "code",
   "execution_count": 43,
   "id": "5b142747",
   "metadata": {
    "execution": {
     "iopub.execute_input": "2023-08-01T08:35:35.086081Z",
     "iopub.status.busy": "2023-08-01T08:35:35.085374Z",
     "iopub.status.idle": "2023-08-01T08:35:35.093832Z",
     "shell.execute_reply": "2023-08-01T08:35:35.092405Z"
    },
    "papermill": {
     "duration": 0.064895,
     "end_time": "2023-08-01T08:35:35.096518",
     "exception": false,
     "start_time": "2023-08-01T08:35:35.031623",
     "status": "completed"
    },
    "tags": []
   },
   "outputs": [
    {
     "data": {
      "text/plain": [
       "{'base_score': 0.3,\n",
       " 'colsample_bylevel': 0.8,\n",
       " 'colsample_bynode': 0.3,\n",
       " 'colsample_bytree': 0.6,\n",
       " 'max_depth': 5,\n",
       " 'n_estimators': 110,\n",
       " 'scale_pos_weight': 9,\n",
       " 'subsample': 1.0}"
      ]
     },
     "execution_count": 43,
     "metadata": {},
     "output_type": "execute_result"
    }
   ],
   "source": [
    "search_XG.best_params_"
   ]
  },
  {
   "cell_type": "markdown",
   "id": "cd4a2970",
   "metadata": {
    "papermill": {
     "duration": 0.052704,
     "end_time": "2023-08-01T08:35:35.205154",
     "exception": false,
     "start_time": "2023-08-01T08:35:35.152450",
     "status": "completed"
    },
    "tags": []
   },
   "source": [
    "Cross-validation results:"
   ]
  },
  {
   "cell_type": "code",
   "execution_count": 44,
   "id": "02f90e6d",
   "metadata": {
    "execution": {
     "iopub.execute_input": "2023-08-01T08:35:35.313279Z",
     "iopub.status.busy": "2023-08-01T08:35:35.311961Z",
     "iopub.status.idle": "2023-08-01T08:35:35.726556Z",
     "shell.execute_reply": "2023-08-01T08:35:35.725546Z"
    },
    "papermill": {
     "duration": 0.472151,
     "end_time": "2023-08-01T08:35:35.729427",
     "exception": false,
     "start_time": "2023-08-01T08:35:35.257276",
     "status": "completed"
    },
    "tags": []
   },
   "outputs": [
    {
     "name": "stdout",
     "output_type": "stream",
     "text": [
      "Accuracy: 0.948 \n",
      "\n",
      "              precision    recall  f1-score   support\n",
      "\n",
      "           0       0.97      0.97      0.97       509\n",
      "           1       0.85      0.86      0.85       108\n",
      "\n",
      "    accuracy                           0.95       617\n",
      "   macro avg       0.91      0.91      0.91       617\n",
      "weighted avg       0.95      0.95      0.95       617\n",
      " \n",
      "\n",
      "[[492  17]\n",
      " [ 15  93]]\n"
     ]
    }
   ],
   "source": [
    "y_hat = cross_val_predict(search_XG.best_estimator_, X, y, cv = 4)\n",
    "# print('Accuracy:', round(accuracy_score(y, y_hat), 3), '\\n')\n",
    "# print(classification_report(y, y_hat), '\\n')\n",
    "# print(confusion_matrix(y, y_hat))"
   ]
  },
  {
   "cell_type": "code",
   "execution_count": 45,
   "id": "e7598001",
   "metadata": {
    "execution": {
     "iopub.execute_input": "2023-08-01T08:35:35.842428Z",
     "iopub.status.busy": "2023-08-01T08:35:35.841691Z",
     "iopub.status.idle": "2023-08-01T08:35:36.263336Z",
     "shell.execute_reply": "2023-08-01T08:35:36.262254Z"
    },
    "papermill": {
     "duration": 0.48017,
     "end_time": "2023-08-01T08:35:36.266131",
     "exception": false,
     "start_time": "2023-08-01T08:35:35.785961",
     "status": "completed"
    },
    "tags": []
   },
   "outputs": [
    {
     "name": "stdout",
     "output_type": "stream",
     "text": [
      "Accuracies: [0.97419355 0.94155844 0.92857143 0.94805195] \n",
      "\n",
      "Mean accuracy: 0.948 Std deviation: 0.017\n"
     ]
    }
   ],
   "source": [
    "# acc_array = cross_val_score(search_XG.best_estimator_, X, y, scoring = 'accuracy', cv = 4)\n",
    "# print('Accuracies:', acc_array, '\\n')\n",
    "# print('Mean accuracy:', round(acc_array.mean(), 3), 'Std deviation:', round(acc_array.std(), 3))"
   ]
  },
  {
   "cell_type": "markdown",
   "id": "1f626356",
   "metadata": {
    "papermill": {
     "duration": 0.051651,
     "end_time": "2023-08-01T08:35:36.371315",
     "exception": false,
     "start_time": "2023-08-01T08:35:36.319664",
     "status": "completed"
    },
    "tags": []
   },
   "source": [
    "# Thresholds estimation"
   ]
  },
  {
   "cell_type": "markdown",
   "id": "7fd54cd0",
   "metadata": {
    "papermill": {
     "duration": 0.053649,
     "end_time": "2023-08-01T08:35:36.476862",
     "exception": false,
     "start_time": "2023-08-01T08:35:36.423213",
     "status": "completed"
    },
    "tags": []
   },
   "source": [
    "Probabilities predictions of the training set will help us to adjust prediction thresholds."
   ]
  },
  {
   "cell_type": "code",
   "execution_count": 46,
   "id": "6edb817c",
   "metadata": {
    "execution": {
     "iopub.execute_input": "2023-08-01T08:35:36.587177Z",
     "iopub.status.busy": "2023-08-01T08:35:36.586040Z",
     "iopub.status.idle": "2023-08-01T08:35:36.996610Z",
     "shell.execute_reply": "2023-08-01T08:35:36.995711Z"
    },
    "papermill": {
     "duration": 0.470642,
     "end_time": "2023-08-01T08:35:37.001044",
     "exception": false,
     "start_time": "2023-08-01T08:35:36.530402",
     "status": "completed"
    },
    "tags": []
   },
   "outputs": [],
   "source": [
    "probs = cross_val_predict(search_XG.best_estimator_, X, y, cv = 4, method = 'predict_proba')\n",
    "prob_0_train = probs[:, 0]\n",
    "prob_1_train = probs[:, 1]"
   ]
  },
  {
   "cell_type": "code",
   "execution_count": 47,
   "id": "d361a19d",
   "metadata": {
    "execution": {
     "iopub.execute_input": "2023-08-01T08:35:37.110898Z",
     "iopub.status.busy": "2023-08-01T08:35:37.110456Z",
     "iopub.status.idle": "2023-08-01T08:35:37.118485Z",
     "shell.execute_reply": "2023-08-01T08:35:37.117105Z"
    },
    "papermill": {
     "duration": 0.065186,
     "end_time": "2023-08-01T08:35:37.120938",
     "exception": false,
     "start_time": "2023-08-01T08:35:37.055752",
     "status": "completed"
    },
    "scrolled": true,
    "tags": []
   },
   "outputs": [
    {
     "data": {
      "text/plain": [
       "array([1, 0, 0, 0, 0])"
      ]
     },
     "execution_count": 47,
     "metadata": {},
     "output_type": "execute_result"
    }
   ],
   "source": [
    "y_hat[:5]"
   ]
  },
  {
   "cell_type": "code",
   "execution_count": 48,
   "id": "b1c5cb66",
   "metadata": {
    "execution": {
     "iopub.execute_input": "2023-08-01T08:35:37.237246Z",
     "iopub.status.busy": "2023-08-01T08:35:37.235735Z",
     "iopub.status.idle": "2023-08-01T08:35:37.244268Z",
     "shell.execute_reply": "2023-08-01T08:35:37.243024Z"
    },
    "papermill": {
     "duration": 0.068415,
     "end_time": "2023-08-01T08:35:37.247720",
     "exception": false,
     "start_time": "2023-08-01T08:35:37.179305",
     "status": "completed"
    },
    "tags": []
   },
   "outputs": [],
   "source": [
    "def balanced_log_loss(y_true, y_pred, prob_0, prob_1):\n",
    "    N_0 = np.sum(1 - y_true)\n",
    "    N_1 = np.sum(y_true)\n",
    "    # calculate the weights for each class to balance classes\n",
    "    w_0 = 1 / N_0\n",
    "    w_1 = 1 / N_1\n",
    "    # calculate the predicted probabilities for each class\n",
    "    p_0 = prob_0\n",
    "    p_1 = prob_1\n",
    "    # calculate the summed log loss for each class\n",
    "    log_loss_0 = -np.sum((1 - y_true) * np.log(p_0))\n",
    "    log_loss_1 = -np.sum(y_true * np.log(p_1))\n",
    "    # calculate the weighted summed logarithmic loss\n",
    "    balanced_log_loss = (w_0 * log_loss_0 + w_1 * log_loss_1) / 2\n",
    "    # return the average log loss\n",
    "    return balanced_log_loss"
   ]
  },
  {
   "cell_type": "code",
   "execution_count": 49,
   "id": "04660875",
   "metadata": {
    "execution": {
     "iopub.execute_input": "2023-08-01T08:35:37.360779Z",
     "iopub.status.busy": "2023-08-01T08:35:37.359705Z",
     "iopub.status.idle": "2023-08-01T08:35:37.368342Z",
     "shell.execute_reply": "2023-08-01T08:35:37.367326Z"
    },
    "papermill": {
     "duration": 0.069736,
     "end_time": "2023-08-01T08:35:37.371030",
     "exception": false,
     "start_time": "2023-08-01T08:35:37.301294",
     "status": "completed"
    },
    "tags": []
   },
   "outputs": [
    {
     "data": {
      "text/plain": [
       "0.32308097714509953"
      ]
     },
     "execution_count": 49,
     "metadata": {},
     "output_type": "execute_result"
    }
   ],
   "source": [
    "balanced_log_loss(y, y_hat, prob_0_train, prob_1_train)"
   ]
  },
  {
   "cell_type": "markdown",
   "id": "c91cc4a7",
   "metadata": {
    "papermill": {
     "duration": 0.051615,
     "end_time": "2023-08-01T08:35:37.477559",
     "exception": false,
     "start_time": "2023-08-01T08:35:37.425944",
     "status": "completed"
    },
    "tags": []
   },
   "source": [
    "The balanced log loss result look pretty good."
   ]
  },
  {
   "cell_type": "code",
   "execution_count": 50,
   "id": "393c5076",
   "metadata": {
    "execution": {
     "iopub.execute_input": "2023-08-01T08:35:37.588140Z",
     "iopub.status.busy": "2023-08-01T08:35:37.587344Z",
     "iopub.status.idle": "2023-08-01T08:35:37.592256Z",
     "shell.execute_reply": "2023-08-01T08:35:37.591130Z"
    },
    "papermill": {
     "duration": 0.063644,
     "end_time": "2023-08-01T08:35:37.594771",
     "exception": false,
     "start_time": "2023-08-01T08:35:37.531127",
     "status": "completed"
    },
    "tags": []
   },
   "outputs": [],
   "source": [
    "final_estimator = search_XG.best_estimator_"
   ]
  },
  {
   "cell_type": "code",
   "execution_count": 51,
   "id": "8319fcba",
   "metadata": {
    "execution": {
     "iopub.execute_input": "2023-08-01T08:35:37.705548Z",
     "iopub.status.busy": "2023-08-01T08:35:37.704760Z",
     "iopub.status.idle": "2023-08-01T08:35:38.111369Z",
     "shell.execute_reply": "2023-08-01T08:35:38.110425Z"
    },
    "papermill": {
     "duration": 0.46568,
     "end_time": "2023-08-01T08:35:38.114127",
     "exception": false,
     "start_time": "2023-08-01T08:35:37.648447",
     "status": "completed"
    },
    "tags": []
   },
   "outputs": [],
   "source": [
    "train_proba = cross_val_predict(final_estimator, X, y, cv = 4, method = 'predict_proba')\n",
    "\n",
    "df_check = pd.DataFrame({\n",
    "    #'Id' : X.index,\n",
    "    'class_0' : train_proba[:, 0],\n",
    "    'class_1' : train_proba[:, 1],\n",
    "    'y_train' : y,\n",
    "    'y_predicted' : y_hat\n",
    "})"
   ]
  },
  {
   "cell_type": "code",
   "execution_count": 52,
   "id": "79952ba1",
   "metadata": {
    "execution": {
     "iopub.execute_input": "2023-08-01T08:35:38.228473Z",
     "iopub.status.busy": "2023-08-01T08:35:38.228070Z",
     "iopub.status.idle": "2023-08-01T08:35:38.236493Z",
     "shell.execute_reply": "2023-08-01T08:35:38.234923Z"
    },
    "papermill": {
     "duration": 0.067034,
     "end_time": "2023-08-01T08:35:38.239388",
     "exception": false,
     "start_time": "2023-08-01T08:35:38.172354",
     "status": "completed"
    },
    "tags": []
   },
   "outputs": [],
   "source": [
    "df_class_0 = df_check[['class_0', 'y_train', 'y_predicted']]\n",
    "df_class_1 = df_check[['class_1', 'y_train', 'y_predicted']]"
   ]
  },
  {
   "cell_type": "markdown",
   "id": "417e9b8f",
   "metadata": {
    "papermill": {
     "duration": 0.057296,
     "end_time": "2023-08-01T08:35:38.351643",
     "exception": false,
     "start_time": "2023-08-01T08:35:38.294347",
     "status": "completed"
    },
    "tags": []
   },
   "source": [
    "Mean values for the grouped features:"
   ]
  },
  {
   "cell_type": "code",
   "execution_count": 53,
   "id": "ee55e532",
   "metadata": {
    "execution": {
     "iopub.execute_input": "2023-08-01T08:35:38.465414Z",
     "iopub.status.busy": "2023-08-01T08:35:38.464958Z",
     "iopub.status.idle": "2023-08-01T08:35:38.482875Z",
     "shell.execute_reply": "2023-08-01T08:35:38.481603Z"
    },
    "papermill": {
     "duration": 0.077295,
     "end_time": "2023-08-01T08:35:38.485432",
     "exception": false,
     "start_time": "2023-08-01T08:35:38.408137",
     "status": "completed"
    },
    "tags": []
   },
   "outputs": [
    {
     "data": {
      "text/html": [
       "<div>\n",
       "<style scoped>\n",
       "    .dataframe tbody tr th:only-of-type {\n",
       "        vertical-align: middle;\n",
       "    }\n",
       "\n",
       "    .dataframe tbody tr th {\n",
       "        vertical-align: top;\n",
       "    }\n",
       "\n",
       "    .dataframe thead th {\n",
       "        text-align: right;\n",
       "    }\n",
       "</style>\n",
       "<table border=\"1\" class=\"dataframe\">\n",
       "  <thead>\n",
       "    <tr style=\"text-align: right;\">\n",
       "      <th></th>\n",
       "      <th></th>\n",
       "      <th>class_0</th>\n",
       "    </tr>\n",
       "    <tr>\n",
       "      <th>y_train</th>\n",
       "      <th>y_predicted</th>\n",
       "      <th></th>\n",
       "    </tr>\n",
       "  </thead>\n",
       "  <tbody>\n",
       "    <tr>\n",
       "      <th rowspan=\"2\" valign=\"top\">0</th>\n",
       "      <th>0</th>\n",
       "      <td>0.973849</td>\n",
       "    </tr>\n",
       "    <tr>\n",
       "      <th>1</th>\n",
       "      <td>0.165178</td>\n",
       "    </tr>\n",
       "    <tr>\n",
       "      <th rowspan=\"2\" valign=\"top\">1</th>\n",
       "      <th>0</th>\n",
       "      <td>0.862613</td>\n",
       "    </tr>\n",
       "    <tr>\n",
       "      <th>1</th>\n",
       "      <td>0.123172</td>\n",
       "    </tr>\n",
       "  </tbody>\n",
       "</table>\n",
       "</div>"
      ],
      "text/plain": [
       "                      class_0\n",
       "y_train y_predicted          \n",
       "0       0            0.973849\n",
       "        1            0.165178\n",
       "1       0            0.862613\n",
       "        1            0.123172"
      ]
     },
     "execution_count": 53,
     "metadata": {},
     "output_type": "execute_result"
    }
   ],
   "source": [
    "df_class_0.groupby(['y_train', 'y_predicted']).mean()"
   ]
  },
  {
   "cell_type": "markdown",
   "id": "e71d9d59",
   "metadata": {
    "papermill": {
     "duration": 0.054058,
     "end_time": "2023-08-01T08:35:38.592326",
     "exception": false,
     "start_time": "2023-08-01T08:35:38.538268",
     "status": "completed"
    },
    "tags": []
   },
   "source": [
    "Upper thresholds:"
   ]
  },
  {
   "cell_type": "code",
   "execution_count": 54,
   "id": "528ab228",
   "metadata": {
    "execution": {
     "iopub.execute_input": "2023-08-01T08:35:38.709733Z",
     "iopub.status.busy": "2023-08-01T08:35:38.708995Z",
     "iopub.status.idle": "2023-08-01T08:35:38.729091Z",
     "shell.execute_reply": "2023-08-01T08:35:38.727734Z"
    },
    "papermill": {
     "duration": 0.084749,
     "end_time": "2023-08-01T08:35:38.732109",
     "exception": false,
     "start_time": "2023-08-01T08:35:38.647360",
     "status": "completed"
    },
    "tags": []
   },
   "outputs": [
    {
     "data": {
      "text/html": [
       "<div>\n",
       "<style scoped>\n",
       "    .dataframe tbody tr th:only-of-type {\n",
       "        vertical-align: middle;\n",
       "    }\n",
       "\n",
       "    .dataframe tbody tr th {\n",
       "        vertical-align: top;\n",
       "    }\n",
       "\n",
       "    .dataframe thead th {\n",
       "        text-align: right;\n",
       "    }\n",
       "</style>\n",
       "<table border=\"1\" class=\"dataframe\">\n",
       "  <thead>\n",
       "    <tr style=\"text-align: right;\">\n",
       "      <th></th>\n",
       "      <th></th>\n",
       "      <th>class_0</th>\n",
       "    </tr>\n",
       "    <tr>\n",
       "      <th>y_train</th>\n",
       "      <th>y_predicted</th>\n",
       "      <th></th>\n",
       "    </tr>\n",
       "  </thead>\n",
       "  <tbody>\n",
       "    <tr>\n",
       "      <th rowspan=\"2\" valign=\"top\">0</th>\n",
       "      <th>0</th>\n",
       "      <td>0.999971</td>\n",
       "    </tr>\n",
       "    <tr>\n",
       "      <th>1</th>\n",
       "      <td>0.446308</td>\n",
       "    </tr>\n",
       "    <tr>\n",
       "      <th rowspan=\"2\" valign=\"top\">1</th>\n",
       "      <th>0</th>\n",
       "      <td>0.998378</td>\n",
       "    </tr>\n",
       "    <tr>\n",
       "      <th>1</th>\n",
       "      <td>0.464713</td>\n",
       "    </tr>\n",
       "  </tbody>\n",
       "</table>\n",
       "</div>"
      ],
      "text/plain": [
       "                      class_0\n",
       "y_train y_predicted          \n",
       "0       0            0.999971\n",
       "        1            0.446308\n",
       "1       0            0.998378\n",
       "        1            0.464713"
      ]
     },
     "execution_count": 54,
     "metadata": {},
     "output_type": "execute_result"
    }
   ],
   "source": [
    "df_class_0.groupby(['y_train', 'y_predicted']).max()"
   ]
  },
  {
   "cell_type": "markdown",
   "id": "df45a894",
   "metadata": {
    "papermill": {
     "duration": 0.072812,
     "end_time": "2023-08-01T08:35:38.871040",
     "exception": false,
     "start_time": "2023-08-01T08:35:38.798228",
     "status": "completed"
    },
    "tags": []
   },
   "source": [
    "Lower thresholds:"
   ]
  },
  {
   "cell_type": "code",
   "execution_count": 55,
   "id": "d7c1c360",
   "metadata": {
    "execution": {
     "iopub.execute_input": "2023-08-01T08:35:38.984313Z",
     "iopub.status.busy": "2023-08-01T08:35:38.983906Z",
     "iopub.status.idle": "2023-08-01T08:35:39.001185Z",
     "shell.execute_reply": "2023-08-01T08:35:39.000114Z"
    },
    "papermill": {
     "duration": 0.077191,
     "end_time": "2023-08-01T08:35:39.003621",
     "exception": false,
     "start_time": "2023-08-01T08:35:38.926430",
     "status": "completed"
    },
    "tags": []
   },
   "outputs": [
    {
     "data": {
      "text/html": [
       "<div>\n",
       "<style scoped>\n",
       "    .dataframe tbody tr th:only-of-type {\n",
       "        vertical-align: middle;\n",
       "    }\n",
       "\n",
       "    .dataframe tbody tr th {\n",
       "        vertical-align: top;\n",
       "    }\n",
       "\n",
       "    .dataframe thead th {\n",
       "        text-align: right;\n",
       "    }\n",
       "</style>\n",
       "<table border=\"1\" class=\"dataframe\">\n",
       "  <thead>\n",
       "    <tr style=\"text-align: right;\">\n",
       "      <th></th>\n",
       "      <th></th>\n",
       "      <th>class_0</th>\n",
       "    </tr>\n",
       "    <tr>\n",
       "      <th>y_train</th>\n",
       "      <th>y_predicted</th>\n",
       "      <th></th>\n",
       "    </tr>\n",
       "  </thead>\n",
       "  <tbody>\n",
       "    <tr>\n",
       "      <th rowspan=\"2\" valign=\"top\">0</th>\n",
       "      <th>0</th>\n",
       "      <td>0.541326</td>\n",
       "    </tr>\n",
       "    <tr>\n",
       "      <th>1</th>\n",
       "      <td>0.011663</td>\n",
       "    </tr>\n",
       "    <tr>\n",
       "      <th rowspan=\"2\" valign=\"top\">1</th>\n",
       "      <th>0</th>\n",
       "      <td>0.566303</td>\n",
       "    </tr>\n",
       "    <tr>\n",
       "      <th>1</th>\n",
       "      <td>0.000503</td>\n",
       "    </tr>\n",
       "  </tbody>\n",
       "</table>\n",
       "</div>"
      ],
      "text/plain": [
       "                      class_0\n",
       "y_train y_predicted          \n",
       "0       0            0.541326\n",
       "        1            0.011663\n",
       "1       0            0.566303\n",
       "        1            0.000503"
      ]
     },
     "execution_count": 55,
     "metadata": {},
     "output_type": "execute_result"
    }
   ],
   "source": [
    "df_class_0.groupby(['y_train', 'y_predicted']).min()"
   ]
  },
  {
   "cell_type": "code",
   "execution_count": 56,
   "id": "9caaab6a",
   "metadata": {
    "execution": {
     "iopub.execute_input": "2023-08-01T08:35:39.116912Z",
     "iopub.status.busy": "2023-08-01T08:35:39.115896Z",
     "iopub.status.idle": "2023-08-01T08:35:39.131227Z",
     "shell.execute_reply": "2023-08-01T08:35:39.130285Z"
    },
    "papermill": {
     "duration": 0.076113,
     "end_time": "2023-08-01T08:35:39.134162",
     "exception": false,
     "start_time": "2023-08-01T08:35:39.058049",
     "status": "completed"
    },
    "tags": []
   },
   "outputs": [
    {
     "data": {
      "text/html": [
       "<div>\n",
       "<style scoped>\n",
       "    .dataframe tbody tr th:only-of-type {\n",
       "        vertical-align: middle;\n",
       "    }\n",
       "\n",
       "    .dataframe tbody tr th {\n",
       "        vertical-align: top;\n",
       "    }\n",
       "\n",
       "    .dataframe thead th {\n",
       "        text-align: right;\n",
       "    }\n",
       "</style>\n",
       "<table border=\"1\" class=\"dataframe\">\n",
       "  <thead>\n",
       "    <tr style=\"text-align: right;\">\n",
       "      <th></th>\n",
       "      <th>class_0</th>\n",
       "      <th>y_train</th>\n",
       "      <th>y_predicted</th>\n",
       "    </tr>\n",
       "    <tr>\n",
       "      <th>Id</th>\n",
       "      <th></th>\n",
       "      <th></th>\n",
       "      <th></th>\n",
       "    </tr>\n",
       "  </thead>\n",
       "  <tbody>\n",
       "    <tr>\n",
       "      <th>48485c8c1ef7</th>\n",
       "      <td>0.016827</td>\n",
       "      <td>0</td>\n",
       "      <td>1</td>\n",
       "    </tr>\n",
       "    <tr>\n",
       "      <th>49e14acf8ffb</th>\n",
       "      <td>0.404593</td>\n",
       "      <td>0</td>\n",
       "      <td>1</td>\n",
       "    </tr>\n",
       "    <tr>\n",
       "      <th>4a3d7459976a</th>\n",
       "      <td>0.118445</td>\n",
       "      <td>0</td>\n",
       "      <td>1</td>\n",
       "    </tr>\n",
       "    <tr>\n",
       "      <th>58dcdd9d6e89</th>\n",
       "      <td>0.014420</td>\n",
       "      <td>0</td>\n",
       "      <td>1</td>\n",
       "    </tr>\n",
       "    <tr>\n",
       "      <th>5d547eb551a9</th>\n",
       "      <td>0.011663</td>\n",
       "      <td>0</td>\n",
       "      <td>1</td>\n",
       "    </tr>\n",
       "    <tr>\n",
       "      <th>7416fea10b6b</th>\n",
       "      <td>0.125323</td>\n",
       "      <td>0</td>\n",
       "      <td>1</td>\n",
       "    </tr>\n",
       "    <tr>\n",
       "      <th>80841417ca53</th>\n",
       "      <td>0.164691</td>\n",
       "      <td>0</td>\n",
       "      <td>1</td>\n",
       "    </tr>\n",
       "    <tr>\n",
       "      <th>8408bf4d3d2f</th>\n",
       "      <td>0.085789</td>\n",
       "      <td>0</td>\n",
       "      <td>1</td>\n",
       "    </tr>\n",
       "    <tr>\n",
       "      <th>8b9d72eec14e</th>\n",
       "      <td>0.226979</td>\n",
       "      <td>0</td>\n",
       "      <td>1</td>\n",
       "    </tr>\n",
       "    <tr>\n",
       "      <th>8e5a0d625d98</th>\n",
       "      <td>0.100663</td>\n",
       "      <td>0</td>\n",
       "      <td>1</td>\n",
       "    </tr>\n",
       "    <tr>\n",
       "      <th>93205d43a401</th>\n",
       "      <td>0.104585</td>\n",
       "      <td>0</td>\n",
       "      <td>1</td>\n",
       "    </tr>\n",
       "    <tr>\n",
       "      <th>96ee4e851fbd</th>\n",
       "      <td>0.446308</td>\n",
       "      <td>0</td>\n",
       "      <td>1</td>\n",
       "    </tr>\n",
       "    <tr>\n",
       "      <th>b6efe1e60280</th>\n",
       "      <td>0.029648</td>\n",
       "      <td>0</td>\n",
       "      <td>1</td>\n",
       "    </tr>\n",
       "    <tr>\n",
       "      <th>b9e388b48268</th>\n",
       "      <td>0.057793</td>\n",
       "      <td>0</td>\n",
       "      <td>1</td>\n",
       "    </tr>\n",
       "    <tr>\n",
       "      <th>c90977976ffe</th>\n",
       "      <td>0.114838</td>\n",
       "      <td>0</td>\n",
       "      <td>1</td>\n",
       "    </tr>\n",
       "    <tr>\n",
       "      <th>d3d8c9d232f1</th>\n",
       "      <td>0.419387</td>\n",
       "      <td>0</td>\n",
       "      <td>1</td>\n",
       "    </tr>\n",
       "    <tr>\n",
       "      <th>f1a68746ca6e</th>\n",
       "      <td>0.366076</td>\n",
       "      <td>0</td>\n",
       "      <td>1</td>\n",
       "    </tr>\n",
       "  </tbody>\n",
       "</table>\n",
       "</div>"
      ],
      "text/plain": [
       "               class_0  y_train  y_predicted\n",
       "Id                                          \n",
       "48485c8c1ef7  0.016827        0            1\n",
       "49e14acf8ffb  0.404593        0            1\n",
       "4a3d7459976a  0.118445        0            1\n",
       "58dcdd9d6e89  0.014420        0            1\n",
       "5d547eb551a9  0.011663        0            1\n",
       "7416fea10b6b  0.125323        0            1\n",
       "80841417ca53  0.164691        0            1\n",
       "8408bf4d3d2f  0.085789        0            1\n",
       "8b9d72eec14e  0.226979        0            1\n",
       "8e5a0d625d98  0.100663        0            1\n",
       "93205d43a401  0.104585        0            1\n",
       "96ee4e851fbd  0.446308        0            1\n",
       "b6efe1e60280  0.029648        0            1\n",
       "b9e388b48268  0.057793        0            1\n",
       "c90977976ffe  0.114838        0            1\n",
       "d3d8c9d232f1  0.419387        0            1\n",
       "f1a68746ca6e  0.366076        0            1"
      ]
     },
     "execution_count": 56,
     "metadata": {},
     "output_type": "execute_result"
    }
   ],
   "source": [
    "df_class_0[(df_check.y_train == 0) & (df_check.y_predicted == 1)]"
   ]
  },
  {
   "cell_type": "code",
   "execution_count": 57,
   "id": "3a8b32da",
   "metadata": {
    "execution": {
     "iopub.execute_input": "2023-08-01T08:35:39.245859Z",
     "iopub.status.busy": "2023-08-01T08:35:39.245104Z",
     "iopub.status.idle": "2023-08-01T08:35:39.259091Z",
     "shell.execute_reply": "2023-08-01T08:35:39.257628Z"
    },
    "papermill": {
     "duration": 0.071727,
     "end_time": "2023-08-01T08:35:39.261931",
     "exception": false,
     "start_time": "2023-08-01T08:35:39.190204",
     "status": "completed"
    },
    "tags": []
   },
   "outputs": [
    {
     "data": {
      "text/html": [
       "<div>\n",
       "<style scoped>\n",
       "    .dataframe tbody tr th:only-of-type {\n",
       "        vertical-align: middle;\n",
       "    }\n",
       "\n",
       "    .dataframe tbody tr th {\n",
       "        vertical-align: top;\n",
       "    }\n",
       "\n",
       "    .dataframe thead th {\n",
       "        text-align: right;\n",
       "    }\n",
       "</style>\n",
       "<table border=\"1\" class=\"dataframe\">\n",
       "  <thead>\n",
       "    <tr style=\"text-align: right;\">\n",
       "      <th></th>\n",
       "      <th>class_0</th>\n",
       "      <th>y_train</th>\n",
       "      <th>y_predicted</th>\n",
       "    </tr>\n",
       "    <tr>\n",
       "      <th>Id</th>\n",
       "      <th></th>\n",
       "      <th></th>\n",
       "      <th></th>\n",
       "    </tr>\n",
       "  </thead>\n",
       "  <tbody>\n",
       "    <tr>\n",
       "      <th>044fb8a146ec</th>\n",
       "      <td>0.660751</td>\n",
       "      <td>1</td>\n",
       "      <td>0</td>\n",
       "    </tr>\n",
       "    <tr>\n",
       "      <th>0e798fd4e6e7</th>\n",
       "      <td>0.682231</td>\n",
       "      <td>1</td>\n",
       "      <td>0</td>\n",
       "    </tr>\n",
       "    <tr>\n",
       "      <th>24b40510d6a2</th>\n",
       "      <td>0.966235</td>\n",
       "      <td>1</td>\n",
       "      <td>0</td>\n",
       "    </tr>\n",
       "    <tr>\n",
       "      <th>3924089e4396</th>\n",
       "      <td>0.954135</td>\n",
       "      <td>1</td>\n",
       "      <td>0</td>\n",
       "    </tr>\n",
       "    <tr>\n",
       "      <th>46fe2d3b9e7b</th>\n",
       "      <td>0.709996</td>\n",
       "      <td>1</td>\n",
       "      <td>0</td>\n",
       "    </tr>\n",
       "    <tr>\n",
       "      <th>49b8f248a42f</th>\n",
       "      <td>0.921228</td>\n",
       "      <td>1</td>\n",
       "      <td>0</td>\n",
       "    </tr>\n",
       "    <tr>\n",
       "      <th>68729b79859b</th>\n",
       "      <td>0.975332</td>\n",
       "      <td>1</td>\n",
       "      <td>0</td>\n",
       "    </tr>\n",
       "    <tr>\n",
       "      <th>7cb9a95a62fc</th>\n",
       "      <td>0.994825</td>\n",
       "      <td>1</td>\n",
       "      <td>0</td>\n",
       "    </tr>\n",
       "    <tr>\n",
       "      <th>96fbcce4f0c0</th>\n",
       "      <td>0.750496</td>\n",
       "      <td>1</td>\n",
       "      <td>0</td>\n",
       "    </tr>\n",
       "    <tr>\n",
       "      <th>9ef1886b810c</th>\n",
       "      <td>0.967663</td>\n",
       "      <td>1</td>\n",
       "      <td>0</td>\n",
       "    </tr>\n",
       "    <tr>\n",
       "      <th>a795db8ca395</th>\n",
       "      <td>0.991552</td>\n",
       "      <td>1</td>\n",
       "      <td>0</td>\n",
       "    </tr>\n",
       "    <tr>\n",
       "      <th>acc1f36dca1c</th>\n",
       "      <td>0.992491</td>\n",
       "      <td>1</td>\n",
       "      <td>0</td>\n",
       "    </tr>\n",
       "    <tr>\n",
       "      <th>c9f71bcf8be0</th>\n",
       "      <td>0.566303</td>\n",
       "      <td>1</td>\n",
       "      <td>0</td>\n",
       "    </tr>\n",
       "    <tr>\n",
       "      <th>cf5439add02c</th>\n",
       "      <td>0.998378</td>\n",
       "      <td>1</td>\n",
       "      <td>0</td>\n",
       "    </tr>\n",
       "    <tr>\n",
       "      <th>ed3486389307</th>\n",
       "      <td>0.807572</td>\n",
       "      <td>1</td>\n",
       "      <td>0</td>\n",
       "    </tr>\n",
       "  </tbody>\n",
       "</table>\n",
       "</div>"
      ],
      "text/plain": [
       "               class_0  y_train  y_predicted\n",
       "Id                                          \n",
       "044fb8a146ec  0.660751        1            0\n",
       "0e798fd4e6e7  0.682231        1            0\n",
       "24b40510d6a2  0.966235        1            0\n",
       "3924089e4396  0.954135        1            0\n",
       "46fe2d3b9e7b  0.709996        1            0\n",
       "49b8f248a42f  0.921228        1            0\n",
       "68729b79859b  0.975332        1            0\n",
       "7cb9a95a62fc  0.994825        1            0\n",
       "96fbcce4f0c0  0.750496        1            0\n",
       "9ef1886b810c  0.967663        1            0\n",
       "a795db8ca395  0.991552        1            0\n",
       "acc1f36dca1c  0.992491        1            0\n",
       "c9f71bcf8be0  0.566303        1            0\n",
       "cf5439add02c  0.998378        1            0\n",
       "ed3486389307  0.807572        1            0"
      ]
     },
     "execution_count": 57,
     "metadata": {},
     "output_type": "execute_result"
    }
   ],
   "source": [
    "df_class_0[(df_check.y_train == 1) & (df_check.y_predicted == 0)]"
   ]
  },
  {
   "cell_type": "markdown",
   "id": "bf8e6ae1",
   "metadata": {
    "papermill": {
     "duration": 0.057685,
     "end_time": "2023-08-01T08:35:39.375669",
     "exception": false,
     "start_time": "2023-08-01T08:35:39.317984",
     "status": "completed"
    },
    "tags": []
   },
   "source": [
    "I estimate the threshholds here using mean missclassified results."
   ]
  },
  {
   "cell_type": "markdown",
   "id": "a3f333b6",
   "metadata": {
    "papermill": {
     "duration": 0.057586,
     "end_time": "2023-08-01T08:35:39.491304",
     "exception": false,
     "start_time": "2023-08-01T08:35:39.433718",
     "status": "completed"
    },
    "tags": []
   },
   "source": [
    "# Predictions"
   ]
  },
  {
   "cell_type": "markdown",
   "id": "45e4998d",
   "metadata": {
    "papermill": {
     "duration": 0.05642,
     "end_time": "2023-08-01T08:35:39.606104",
     "exception": false,
     "start_time": "2023-08-01T08:35:39.549684",
     "status": "completed"
    },
    "tags": []
   },
   "source": [
    "And finally we need to make predictions for the test set."
   ]
  },
  {
   "cell_type": "code",
   "execution_count": 58,
   "id": "d9655bda",
   "metadata": {
    "execution": {
     "iopub.execute_input": "2023-08-01T08:35:39.723088Z",
     "iopub.status.busy": "2023-08-01T08:35:39.722241Z",
     "iopub.status.idle": "2023-08-01T08:35:39.813894Z",
     "shell.execute_reply": "2023-08-01T08:35:39.813016Z"
    },
    "papermill": {
     "duration": 0.151834,
     "end_time": "2023-08-01T08:35:39.816170",
     "exception": false,
     "start_time": "2023-08-01T08:35:39.664336",
     "status": "completed"
    },
    "tags": []
   },
   "outputs": [
    {
     "data": {
      "text/html": [
       "<div>\n",
       "<style scoped>\n",
       "    .dataframe tbody tr th:only-of-type {\n",
       "        vertical-align: middle;\n",
       "    }\n",
       "\n",
       "    .dataframe tbody tr th {\n",
       "        vertical-align: top;\n",
       "    }\n",
       "\n",
       "    .dataframe thead th {\n",
       "        text-align: right;\n",
       "    }\n",
       "</style>\n",
       "<table border=\"1\" class=\"dataframe\">\n",
       "  <thead>\n",
       "    <tr style=\"text-align: right;\">\n",
       "      <th></th>\n",
       "      <th>AB</th>\n",
       "      <th>AF</th>\n",
       "      <th>AH</th>\n",
       "      <th>AM</th>\n",
       "      <th>AR</th>\n",
       "      <th>AX</th>\n",
       "      <th>AY</th>\n",
       "      <th>AZ</th>\n",
       "      <th>BC</th>\n",
       "      <th>BD</th>\n",
       "      <th>BN</th>\n",
       "      <th>BP</th>\n",
       "      <th>BQ</th>\n",
       "      <th>BR</th>\n",
       "      <th>BZ</th>\n",
       "      <th>CB</th>\n",
       "      <th>CC</th>\n",
       "      <th>CD</th>\n",
       "      <th>CF</th>\n",
       "      <th>CH</th>\n",
       "      <th>CL</th>\n",
       "      <th>CR</th>\n",
       "      <th>CS</th>\n",
       "      <th>CU</th>\n",
       "      <th>CW</th>\n",
       "      <th>DA</th>\n",
       "      <th>DE</th>\n",
       "      <th>DF</th>\n",
       "      <th>DH</th>\n",
       "      <th>DI</th>\n",
       "      <th>DL</th>\n",
       "      <th>DN</th>\n",
       "      <th>DU</th>\n",
       "      <th>DV</th>\n",
       "      <th>DY</th>\n",
       "      <th>EB</th>\n",
       "      <th>EE</th>\n",
       "      <th>EG</th>\n",
       "      <th>EH</th>\n",
       "      <th>EJ</th>\n",
       "      <th>EL</th>\n",
       "      <th>EP</th>\n",
       "      <th>EU</th>\n",
       "      <th>FC</th>\n",
       "      <th>FD</th>\n",
       "      <th>FE</th>\n",
       "      <th>FI</th>\n",
       "      <th>FL</th>\n",
       "      <th>FR</th>\n",
       "      <th>FS</th>\n",
       "      <th>GB</th>\n",
       "      <th>GE</th>\n",
       "      <th>GF</th>\n",
       "      <th>GH</th>\n",
       "      <th>GI</th>\n",
       "      <th>GL</th>\n",
       "    </tr>\n",
       "    <tr>\n",
       "      <th>Id</th>\n",
       "      <th></th>\n",
       "      <th></th>\n",
       "      <th></th>\n",
       "      <th></th>\n",
       "      <th></th>\n",
       "      <th></th>\n",
       "      <th></th>\n",
       "      <th></th>\n",
       "      <th></th>\n",
       "      <th></th>\n",
       "      <th></th>\n",
       "      <th></th>\n",
       "      <th></th>\n",
       "      <th></th>\n",
       "      <th></th>\n",
       "      <th></th>\n",
       "      <th></th>\n",
       "      <th></th>\n",
       "      <th></th>\n",
       "      <th></th>\n",
       "      <th></th>\n",
       "      <th></th>\n",
       "      <th></th>\n",
       "      <th></th>\n",
       "      <th></th>\n",
       "      <th></th>\n",
       "      <th></th>\n",
       "      <th></th>\n",
       "      <th></th>\n",
       "      <th></th>\n",
       "      <th></th>\n",
       "      <th></th>\n",
       "      <th></th>\n",
       "      <th></th>\n",
       "      <th></th>\n",
       "      <th></th>\n",
       "      <th></th>\n",
       "      <th></th>\n",
       "      <th></th>\n",
       "      <th></th>\n",
       "      <th></th>\n",
       "      <th></th>\n",
       "      <th></th>\n",
       "      <th></th>\n",
       "      <th></th>\n",
       "      <th></th>\n",
       "      <th></th>\n",
       "      <th></th>\n",
       "      <th></th>\n",
       "      <th></th>\n",
       "      <th></th>\n",
       "      <th></th>\n",
       "      <th></th>\n",
       "      <th></th>\n",
       "      <th></th>\n",
       "      <th></th>\n",
       "    </tr>\n",
       "  </thead>\n",
       "  <tbody>\n",
       "    <tr>\n",
       "      <th>00eed32682bb</th>\n",
       "      <td>0.0</td>\n",
       "      <td>0.0</td>\n",
       "      <td>0.0</td>\n",
       "      <td>0.0</td>\n",
       "      <td>0.0</td>\n",
       "      <td>0.0</td>\n",
       "      <td>0.0</td>\n",
       "      <td>0.0</td>\n",
       "      <td>0.0</td>\n",
       "      <td>0.0</td>\n",
       "      <td>0.0</td>\n",
       "      <td>0.0</td>\n",
       "      <td>0.0</td>\n",
       "      <td>0.0</td>\n",
       "      <td>0.0</td>\n",
       "      <td>0.0</td>\n",
       "      <td>0.0</td>\n",
       "      <td>0.0</td>\n",
       "      <td>0.0</td>\n",
       "      <td>0.0</td>\n",
       "      <td>0.0</td>\n",
       "      <td>0.0</td>\n",
       "      <td>0.0</td>\n",
       "      <td>0.0</td>\n",
       "      <td>0.0</td>\n",
       "      <td>0.0</td>\n",
       "      <td>0.0</td>\n",
       "      <td>0.0</td>\n",
       "      <td>0.0</td>\n",
       "      <td>0.0</td>\n",
       "      <td>0.0</td>\n",
       "      <td>0.0</td>\n",
       "      <td>0.0</td>\n",
       "      <td>0.0</td>\n",
       "      <td>0.0</td>\n",
       "      <td>0.0</td>\n",
       "      <td>0.0</td>\n",
       "      <td>0.0</td>\n",
       "      <td>0.0</td>\n",
       "      <td>A</td>\n",
       "      <td>0.0</td>\n",
       "      <td>0.0</td>\n",
       "      <td>0.0</td>\n",
       "      <td>0.0</td>\n",
       "      <td>0.0</td>\n",
       "      <td>0.0</td>\n",
       "      <td>0.0</td>\n",
       "      <td>0.0</td>\n",
       "      <td>0.0</td>\n",
       "      <td>0.0</td>\n",
       "      <td>0.0</td>\n",
       "      <td>0.0</td>\n",
       "      <td>0.0</td>\n",
       "      <td>0.0</td>\n",
       "      <td>0.0</td>\n",
       "      <td>0.0</td>\n",
       "    </tr>\n",
       "    <tr>\n",
       "      <th>010ebe33f668</th>\n",
       "      <td>0.0</td>\n",
       "      <td>0.0</td>\n",
       "      <td>0.0</td>\n",
       "      <td>0.0</td>\n",
       "      <td>0.0</td>\n",
       "      <td>0.0</td>\n",
       "      <td>0.0</td>\n",
       "      <td>0.0</td>\n",
       "      <td>0.0</td>\n",
       "      <td>0.0</td>\n",
       "      <td>0.0</td>\n",
       "      <td>0.0</td>\n",
       "      <td>0.0</td>\n",
       "      <td>0.0</td>\n",
       "      <td>0.0</td>\n",
       "      <td>0.0</td>\n",
       "      <td>0.0</td>\n",
       "      <td>0.0</td>\n",
       "      <td>0.0</td>\n",
       "      <td>0.0</td>\n",
       "      <td>0.0</td>\n",
       "      <td>0.0</td>\n",
       "      <td>0.0</td>\n",
       "      <td>0.0</td>\n",
       "      <td>0.0</td>\n",
       "      <td>0.0</td>\n",
       "      <td>0.0</td>\n",
       "      <td>0.0</td>\n",
       "      <td>0.0</td>\n",
       "      <td>0.0</td>\n",
       "      <td>0.0</td>\n",
       "      <td>0.0</td>\n",
       "      <td>0.0</td>\n",
       "      <td>0.0</td>\n",
       "      <td>0.0</td>\n",
       "      <td>0.0</td>\n",
       "      <td>0.0</td>\n",
       "      <td>0.0</td>\n",
       "      <td>0.0</td>\n",
       "      <td>A</td>\n",
       "      <td>0.0</td>\n",
       "      <td>0.0</td>\n",
       "      <td>0.0</td>\n",
       "      <td>0.0</td>\n",
       "      <td>0.0</td>\n",
       "      <td>0.0</td>\n",
       "      <td>0.0</td>\n",
       "      <td>0.0</td>\n",
       "      <td>0.0</td>\n",
       "      <td>0.0</td>\n",
       "      <td>0.0</td>\n",
       "      <td>0.0</td>\n",
       "      <td>0.0</td>\n",
       "      <td>0.0</td>\n",
       "      <td>0.0</td>\n",
       "      <td>0.0</td>\n",
       "    </tr>\n",
       "    <tr>\n",
       "      <th>02fa521e1838</th>\n",
       "      <td>0.0</td>\n",
       "      <td>0.0</td>\n",
       "      <td>0.0</td>\n",
       "      <td>0.0</td>\n",
       "      <td>0.0</td>\n",
       "      <td>0.0</td>\n",
       "      <td>0.0</td>\n",
       "      <td>0.0</td>\n",
       "      <td>0.0</td>\n",
       "      <td>0.0</td>\n",
       "      <td>0.0</td>\n",
       "      <td>0.0</td>\n",
       "      <td>0.0</td>\n",
       "      <td>0.0</td>\n",
       "      <td>0.0</td>\n",
       "      <td>0.0</td>\n",
       "      <td>0.0</td>\n",
       "      <td>0.0</td>\n",
       "      <td>0.0</td>\n",
       "      <td>0.0</td>\n",
       "      <td>0.0</td>\n",
       "      <td>0.0</td>\n",
       "      <td>0.0</td>\n",
       "      <td>0.0</td>\n",
       "      <td>0.0</td>\n",
       "      <td>0.0</td>\n",
       "      <td>0.0</td>\n",
       "      <td>0.0</td>\n",
       "      <td>0.0</td>\n",
       "      <td>0.0</td>\n",
       "      <td>0.0</td>\n",
       "      <td>0.0</td>\n",
       "      <td>0.0</td>\n",
       "      <td>0.0</td>\n",
       "      <td>0.0</td>\n",
       "      <td>0.0</td>\n",
       "      <td>0.0</td>\n",
       "      <td>0.0</td>\n",
       "      <td>0.0</td>\n",
       "      <td>A</td>\n",
       "      <td>0.0</td>\n",
       "      <td>0.0</td>\n",
       "      <td>0.0</td>\n",
       "      <td>0.0</td>\n",
       "      <td>0.0</td>\n",
       "      <td>0.0</td>\n",
       "      <td>0.0</td>\n",
       "      <td>0.0</td>\n",
       "      <td>0.0</td>\n",
       "      <td>0.0</td>\n",
       "      <td>0.0</td>\n",
       "      <td>0.0</td>\n",
       "      <td>0.0</td>\n",
       "      <td>0.0</td>\n",
       "      <td>0.0</td>\n",
       "      <td>0.0</td>\n",
       "    </tr>\n",
       "    <tr>\n",
       "      <th>040e15f562a2</th>\n",
       "      <td>0.0</td>\n",
       "      <td>0.0</td>\n",
       "      <td>0.0</td>\n",
       "      <td>0.0</td>\n",
       "      <td>0.0</td>\n",
       "      <td>0.0</td>\n",
       "      <td>0.0</td>\n",
       "      <td>0.0</td>\n",
       "      <td>0.0</td>\n",
       "      <td>0.0</td>\n",
       "      <td>0.0</td>\n",
       "      <td>0.0</td>\n",
       "      <td>0.0</td>\n",
       "      <td>0.0</td>\n",
       "      <td>0.0</td>\n",
       "      <td>0.0</td>\n",
       "      <td>0.0</td>\n",
       "      <td>0.0</td>\n",
       "      <td>0.0</td>\n",
       "      <td>0.0</td>\n",
       "      <td>0.0</td>\n",
       "      <td>0.0</td>\n",
       "      <td>0.0</td>\n",
       "      <td>0.0</td>\n",
       "      <td>0.0</td>\n",
       "      <td>0.0</td>\n",
       "      <td>0.0</td>\n",
       "      <td>0.0</td>\n",
       "      <td>0.0</td>\n",
       "      <td>0.0</td>\n",
       "      <td>0.0</td>\n",
       "      <td>0.0</td>\n",
       "      <td>0.0</td>\n",
       "      <td>0.0</td>\n",
       "      <td>0.0</td>\n",
       "      <td>0.0</td>\n",
       "      <td>0.0</td>\n",
       "      <td>0.0</td>\n",
       "      <td>0.0</td>\n",
       "      <td>A</td>\n",
       "      <td>0.0</td>\n",
       "      <td>0.0</td>\n",
       "      <td>0.0</td>\n",
       "      <td>0.0</td>\n",
       "      <td>0.0</td>\n",
       "      <td>0.0</td>\n",
       "      <td>0.0</td>\n",
       "      <td>0.0</td>\n",
       "      <td>0.0</td>\n",
       "      <td>0.0</td>\n",
       "      <td>0.0</td>\n",
       "      <td>0.0</td>\n",
       "      <td>0.0</td>\n",
       "      <td>0.0</td>\n",
       "      <td>0.0</td>\n",
       "      <td>0.0</td>\n",
       "    </tr>\n",
       "    <tr>\n",
       "      <th>046e85c7cc7f</th>\n",
       "      <td>0.0</td>\n",
       "      <td>0.0</td>\n",
       "      <td>0.0</td>\n",
       "      <td>0.0</td>\n",
       "      <td>0.0</td>\n",
       "      <td>0.0</td>\n",
       "      <td>0.0</td>\n",
       "      <td>0.0</td>\n",
       "      <td>0.0</td>\n",
       "      <td>0.0</td>\n",
       "      <td>0.0</td>\n",
       "      <td>0.0</td>\n",
       "      <td>0.0</td>\n",
       "      <td>0.0</td>\n",
       "      <td>0.0</td>\n",
       "      <td>0.0</td>\n",
       "      <td>0.0</td>\n",
       "      <td>0.0</td>\n",
       "      <td>0.0</td>\n",
       "      <td>0.0</td>\n",
       "      <td>0.0</td>\n",
       "      <td>0.0</td>\n",
       "      <td>0.0</td>\n",
       "      <td>0.0</td>\n",
       "      <td>0.0</td>\n",
       "      <td>0.0</td>\n",
       "      <td>0.0</td>\n",
       "      <td>0.0</td>\n",
       "      <td>0.0</td>\n",
       "      <td>0.0</td>\n",
       "      <td>0.0</td>\n",
       "      <td>0.0</td>\n",
       "      <td>0.0</td>\n",
       "      <td>0.0</td>\n",
       "      <td>0.0</td>\n",
       "      <td>0.0</td>\n",
       "      <td>0.0</td>\n",
       "      <td>0.0</td>\n",
       "      <td>0.0</td>\n",
       "      <td>A</td>\n",
       "      <td>0.0</td>\n",
       "      <td>0.0</td>\n",
       "      <td>0.0</td>\n",
       "      <td>0.0</td>\n",
       "      <td>0.0</td>\n",
       "      <td>0.0</td>\n",
       "      <td>0.0</td>\n",
       "      <td>0.0</td>\n",
       "      <td>0.0</td>\n",
       "      <td>0.0</td>\n",
       "      <td>0.0</td>\n",
       "      <td>0.0</td>\n",
       "      <td>0.0</td>\n",
       "      <td>0.0</td>\n",
       "      <td>0.0</td>\n",
       "      <td>0.0</td>\n",
       "    </tr>\n",
       "  </tbody>\n",
       "</table>\n",
       "</div>"
      ],
      "text/plain": [
       "               AB   AF   AH   AM   AR   AX   AY   AZ   BC  BD    BN   BP   BQ  \\\n",
       "Id                                                                              \n",
       "00eed32682bb  0.0  0.0  0.0  0.0  0.0  0.0  0.0  0.0  0.0  0.0  0.0  0.0  0.0   \n",
       "010ebe33f668  0.0  0.0  0.0  0.0  0.0  0.0  0.0  0.0  0.0  0.0  0.0  0.0  0.0   \n",
       "02fa521e1838  0.0  0.0  0.0  0.0  0.0  0.0  0.0  0.0  0.0  0.0  0.0  0.0  0.0   \n",
       "040e15f562a2  0.0  0.0  0.0  0.0  0.0  0.0  0.0  0.0  0.0  0.0  0.0  0.0  0.0   \n",
       "046e85c7cc7f  0.0  0.0  0.0  0.0  0.0  0.0  0.0  0.0  0.0  0.0  0.0  0.0  0.0   \n",
       "\n",
       "               BR   BZ   CB   CC  CD    CF   CH   CL   CR   CS   CU  CW    DA  \\\n",
       "Id                                                                              \n",
       "00eed32682bb  0.0  0.0  0.0  0.0  0.0  0.0  0.0  0.0  0.0  0.0  0.0  0.0  0.0   \n",
       "010ebe33f668  0.0  0.0  0.0  0.0  0.0  0.0  0.0  0.0  0.0  0.0  0.0  0.0  0.0   \n",
       "02fa521e1838  0.0  0.0  0.0  0.0  0.0  0.0  0.0  0.0  0.0  0.0  0.0  0.0  0.0   \n",
       "040e15f562a2  0.0  0.0  0.0  0.0  0.0  0.0  0.0  0.0  0.0  0.0  0.0  0.0  0.0   \n",
       "046e85c7cc7f  0.0  0.0  0.0  0.0  0.0  0.0  0.0  0.0  0.0  0.0  0.0  0.0  0.0   \n",
       "\n",
       "               DE   DF   DH   DI   DL   DN   DU   DV   DY   EB   EE   EG   EH  \\\n",
       "Id                                                                              \n",
       "00eed32682bb  0.0  0.0  0.0  0.0  0.0  0.0  0.0  0.0  0.0  0.0  0.0  0.0  0.0   \n",
       "010ebe33f668  0.0  0.0  0.0  0.0  0.0  0.0  0.0  0.0  0.0  0.0  0.0  0.0  0.0   \n",
       "02fa521e1838  0.0  0.0  0.0  0.0  0.0  0.0  0.0  0.0  0.0  0.0  0.0  0.0  0.0   \n",
       "040e15f562a2  0.0  0.0  0.0  0.0  0.0  0.0  0.0  0.0  0.0  0.0  0.0  0.0  0.0   \n",
       "046e85c7cc7f  0.0  0.0  0.0  0.0  0.0  0.0  0.0  0.0  0.0  0.0  0.0  0.0  0.0   \n",
       "\n",
       "             EJ   EL   EP   EU   FC  FD    FE   FI   FL   FR   FS   GB   GE  \\\n",
       "Id                                                                            \n",
       "00eed32682bb  A  0.0  0.0  0.0  0.0  0.0  0.0  0.0  0.0  0.0  0.0  0.0  0.0   \n",
       "010ebe33f668  A  0.0  0.0  0.0  0.0  0.0  0.0  0.0  0.0  0.0  0.0  0.0  0.0   \n",
       "02fa521e1838  A  0.0  0.0  0.0  0.0  0.0  0.0  0.0  0.0  0.0  0.0  0.0  0.0   \n",
       "040e15f562a2  A  0.0  0.0  0.0  0.0  0.0  0.0  0.0  0.0  0.0  0.0  0.0  0.0   \n",
       "046e85c7cc7f  A  0.0  0.0  0.0  0.0  0.0  0.0  0.0  0.0  0.0  0.0  0.0  0.0   \n",
       "\n",
       "               GF   GH   GI   GL  \n",
       "Id                                \n",
       "00eed32682bb  0.0  0.0  0.0  0.0  \n",
       "010ebe33f668  0.0  0.0  0.0  0.0  \n",
       "02fa521e1838  0.0  0.0  0.0  0.0  \n",
       "040e15f562a2  0.0  0.0  0.0  0.0  \n",
       "046e85c7cc7f  0.0  0.0  0.0  0.0  "
      ]
     },
     "execution_count": 58,
     "metadata": {},
     "output_type": "execute_result"
    }
   ],
   "source": [
    "test_data = pd.read_csv('/kaggle/input/icr-identify-age-related-conditions/test.csv',  index_col = 'Id')\n",
    "test_data"
   ]
  },
  {
   "cell_type": "code",
   "execution_count": 59,
   "id": "dcda9608",
   "metadata": {
    "execution": {
     "iopub.execute_input": "2023-08-01T08:35:39.929643Z",
     "iopub.status.busy": "2023-08-01T08:35:39.928987Z",
     "iopub.status.idle": "2023-08-01T08:35:39.948513Z",
     "shell.execute_reply": "2023-08-01T08:35:39.947382Z"
    },
    "papermill": {
     "duration": 0.080405,
     "end_time": "2023-08-01T08:35:39.951669",
     "exception": false,
     "start_time": "2023-08-01T08:35:39.871264",
     "status": "completed"
    },
    "tags": []
   },
   "outputs": [
    {
     "data": {
      "text/plain": [
       "0"
      ]
     },
     "execution_count": 59,
     "metadata": {},
     "output_type": "execute_result"
    }
   ],
   "source": [
    "imputer = KNNImputer()\n",
    "data_test_to_impute = test_data.drop(columns = 'EJ', axis = 1)\n",
    "data_test_imputed = imputer.fit_transform(data_test_to_impute)\n",
    "data_test_imp = pd.DataFrame(data = data_test_imputed, index = data_test_to_impute.index, columns = data_test_to_impute.columns.to_list())\n",
    "data_test_1 = pd.concat([data_test_imp, test_data.EJ], axis = 1)\n",
    "data_test_1.isnull().sum().sum()"
   ]
  },
  {
   "cell_type": "code",
   "execution_count": 60,
   "id": "1ab600a1",
   "metadata": {
    "execution": {
     "iopub.execute_input": "2023-08-01T08:35:40.071923Z",
     "iopub.status.busy": "2023-08-01T08:35:40.071444Z",
     "iopub.status.idle": "2023-08-01T08:35:40.078806Z",
     "shell.execute_reply": "2023-08-01T08:35:40.077597Z"
    },
    "papermill": {
     "duration": 0.071311,
     "end_time": "2023-08-01T08:35:40.081519",
     "exception": false,
     "start_time": "2023-08-01T08:35:40.010208",
     "status": "completed"
    },
    "tags": []
   },
   "outputs": [
    {
     "data": {
      "text/plain": [
       "31"
      ]
     },
     "execution_count": 60,
     "metadata": {},
     "output_type": "execute_result"
    }
   ],
   "source": [
    "len(df_train.columns.to_list())"
   ]
  },
  {
   "cell_type": "code",
   "execution_count": 61,
   "id": "43fe622d",
   "metadata": {
    "execution": {
     "iopub.execute_input": "2023-08-01T08:35:40.194179Z",
     "iopub.status.busy": "2023-08-01T08:35:40.193371Z",
     "iopub.status.idle": "2023-08-01T08:35:40.199518Z",
     "shell.execute_reply": "2023-08-01T08:35:40.198617Z"
    },
    "papermill": {
     "duration": 0.065572,
     "end_time": "2023-08-01T08:35:40.201945",
     "exception": false,
     "start_time": "2023-08-01T08:35:40.136373",
     "status": "completed"
    },
    "tags": []
   },
   "outputs": [
    {
     "data": {
      "text/plain": [
       "56"
      ]
     },
     "execution_count": 61,
     "metadata": {},
     "output_type": "execute_result"
    }
   ],
   "source": [
    "len(data_test_1.columns.to_list())"
   ]
  },
  {
   "cell_type": "code",
   "execution_count": 62,
   "id": "45062e10",
   "metadata": {
    "execution": {
     "iopub.execute_input": "2023-08-01T08:35:40.317696Z",
     "iopub.status.busy": "2023-08-01T08:35:40.316468Z",
     "iopub.status.idle": "2023-08-01T08:35:40.325769Z",
     "shell.execute_reply": "2023-08-01T08:35:40.323932Z"
    },
    "papermill": {
     "duration": 0.068265,
     "end_time": "2023-08-01T08:35:40.328535",
     "exception": false,
     "start_time": "2023-08-01T08:35:40.260270",
     "status": "completed"
    },
    "tags": []
   },
   "outputs": [
    {
     "data": {
      "text/plain": [
       "(5, 56)"
      ]
     },
     "execution_count": 62,
     "metadata": {},
     "output_type": "execute_result"
    }
   ],
   "source": [
    "data_test_1.shape"
   ]
  },
  {
   "cell_type": "markdown",
   "id": "22e881b3",
   "metadata": {
    "papermill": {
     "duration": 0.057492,
     "end_time": "2023-08-01T08:35:40.445803",
     "exception": false,
     "start_time": "2023-08-01T08:35:40.388311",
     "status": "completed"
    },
    "tags": []
   },
   "source": [
    "The test set should have the same properties as the training:"
   ]
  },
  {
   "cell_type": "code",
   "execution_count": 63,
   "id": "57f0f2cc",
   "metadata": {
    "execution": {
     "iopub.execute_input": "2023-08-01T08:35:40.565315Z",
     "iopub.status.busy": "2023-08-01T08:35:40.564644Z",
     "iopub.status.idle": "2023-08-01T08:35:40.622427Z",
     "shell.execute_reply": "2023-08-01T08:35:40.621303Z"
    },
    "papermill": {
     "duration": 0.11909,
     "end_time": "2023-08-01T08:35:40.625086",
     "exception": false,
     "start_time": "2023-08-01T08:35:40.505996",
     "status": "completed"
    },
    "tags": []
   },
   "outputs": [
    {
     "name": "stdout",
     "output_type": "stream",
     "text": [
      "29\n"
     ]
    },
    {
     "data": {
      "text/html": [
       "<div>\n",
       "<style scoped>\n",
       "    .dataframe tbody tr th:only-of-type {\n",
       "        vertical-align: middle;\n",
       "    }\n",
       "\n",
       "    .dataframe tbody tr th {\n",
       "        vertical-align: top;\n",
       "    }\n",
       "\n",
       "    .dataframe thead th {\n",
       "        text-align: right;\n",
       "    }\n",
       "</style>\n",
       "<table border=\"1\" class=\"dataframe\">\n",
       "  <thead>\n",
       "    <tr style=\"text-align: right;\">\n",
       "      <th></th>\n",
       "      <th>AB</th>\n",
       "      <th>AF</th>\n",
       "      <th>AM</th>\n",
       "      <th>BC</th>\n",
       "      <th>BN</th>\n",
       "      <th>BP</th>\n",
       "      <th>BQ</th>\n",
       "      <th>CC</th>\n",
       "      <th>CD</th>\n",
       "      <th>CR</th>\n",
       "      <th>CU</th>\n",
       "      <th>DA</th>\n",
       "      <th>DE</th>\n",
       "      <th>DF</th>\n",
       "      <th>DH</th>\n",
       "      <th>DI</th>\n",
       "      <th>DL</th>\n",
       "      <th>DU</th>\n",
       "      <th>DY</th>\n",
       "      <th>EB</th>\n",
       "      <th>EE</th>\n",
       "      <th>FE</th>\n",
       "      <th>FI</th>\n",
       "      <th>FL</th>\n",
       "      <th>FR</th>\n",
       "      <th>GE</th>\n",
       "      <th>GF</th>\n",
       "      <th>GL</th>\n",
       "      <th>A</th>\n",
       "    </tr>\n",
       "    <tr>\n",
       "      <th>Id</th>\n",
       "      <th></th>\n",
       "      <th></th>\n",
       "      <th></th>\n",
       "      <th></th>\n",
       "      <th></th>\n",
       "      <th></th>\n",
       "      <th></th>\n",
       "      <th></th>\n",
       "      <th></th>\n",
       "      <th></th>\n",
       "      <th></th>\n",
       "      <th></th>\n",
       "      <th></th>\n",
       "      <th></th>\n",
       "      <th></th>\n",
       "      <th></th>\n",
       "      <th></th>\n",
       "      <th></th>\n",
       "      <th></th>\n",
       "      <th></th>\n",
       "      <th></th>\n",
       "      <th></th>\n",
       "      <th></th>\n",
       "      <th></th>\n",
       "      <th></th>\n",
       "      <th></th>\n",
       "      <th></th>\n",
       "      <th></th>\n",
       "      <th></th>\n",
       "    </tr>\n",
       "  </thead>\n",
       "  <tbody>\n",
       "    <tr>\n",
       "      <th>00eed32682bb</th>\n",
       "      <td>0.0</td>\n",
       "      <td>0.0</td>\n",
       "      <td>0.0</td>\n",
       "      <td>0.0</td>\n",
       "      <td>0.0</td>\n",
       "      <td>0.0</td>\n",
       "      <td>0.0</td>\n",
       "      <td>0.0</td>\n",
       "      <td>0.0</td>\n",
       "      <td>0.0</td>\n",
       "      <td>0.0</td>\n",
       "      <td>0.0</td>\n",
       "      <td>0.0</td>\n",
       "      <td>0.0</td>\n",
       "      <td>0.0</td>\n",
       "      <td>0.0</td>\n",
       "      <td>0.0</td>\n",
       "      <td>0.0</td>\n",
       "      <td>0.0</td>\n",
       "      <td>0.0</td>\n",
       "      <td>0.0</td>\n",
       "      <td>0.0</td>\n",
       "      <td>0.0</td>\n",
       "      <td>0.0</td>\n",
       "      <td>0.0</td>\n",
       "      <td>0.0</td>\n",
       "      <td>0.0</td>\n",
       "      <td>0.0</td>\n",
       "      <td>1</td>\n",
       "    </tr>\n",
       "    <tr>\n",
       "      <th>010ebe33f668</th>\n",
       "      <td>0.0</td>\n",
       "      <td>0.0</td>\n",
       "      <td>0.0</td>\n",
       "      <td>0.0</td>\n",
       "      <td>0.0</td>\n",
       "      <td>0.0</td>\n",
       "      <td>0.0</td>\n",
       "      <td>0.0</td>\n",
       "      <td>0.0</td>\n",
       "      <td>0.0</td>\n",
       "      <td>0.0</td>\n",
       "      <td>0.0</td>\n",
       "      <td>0.0</td>\n",
       "      <td>0.0</td>\n",
       "      <td>0.0</td>\n",
       "      <td>0.0</td>\n",
       "      <td>0.0</td>\n",
       "      <td>0.0</td>\n",
       "      <td>0.0</td>\n",
       "      <td>0.0</td>\n",
       "      <td>0.0</td>\n",
       "      <td>0.0</td>\n",
       "      <td>0.0</td>\n",
       "      <td>0.0</td>\n",
       "      <td>0.0</td>\n",
       "      <td>0.0</td>\n",
       "      <td>0.0</td>\n",
       "      <td>0.0</td>\n",
       "      <td>1</td>\n",
       "    </tr>\n",
       "    <tr>\n",
       "      <th>02fa521e1838</th>\n",
       "      <td>0.0</td>\n",
       "      <td>0.0</td>\n",
       "      <td>0.0</td>\n",
       "      <td>0.0</td>\n",
       "      <td>0.0</td>\n",
       "      <td>0.0</td>\n",
       "      <td>0.0</td>\n",
       "      <td>0.0</td>\n",
       "      <td>0.0</td>\n",
       "      <td>0.0</td>\n",
       "      <td>0.0</td>\n",
       "      <td>0.0</td>\n",
       "      <td>0.0</td>\n",
       "      <td>0.0</td>\n",
       "      <td>0.0</td>\n",
       "      <td>0.0</td>\n",
       "      <td>0.0</td>\n",
       "      <td>0.0</td>\n",
       "      <td>0.0</td>\n",
       "      <td>0.0</td>\n",
       "      <td>0.0</td>\n",
       "      <td>0.0</td>\n",
       "      <td>0.0</td>\n",
       "      <td>0.0</td>\n",
       "      <td>0.0</td>\n",
       "      <td>0.0</td>\n",
       "      <td>0.0</td>\n",
       "      <td>0.0</td>\n",
       "      <td>1</td>\n",
       "    </tr>\n",
       "    <tr>\n",
       "      <th>040e15f562a2</th>\n",
       "      <td>0.0</td>\n",
       "      <td>0.0</td>\n",
       "      <td>0.0</td>\n",
       "      <td>0.0</td>\n",
       "      <td>0.0</td>\n",
       "      <td>0.0</td>\n",
       "      <td>0.0</td>\n",
       "      <td>0.0</td>\n",
       "      <td>0.0</td>\n",
       "      <td>0.0</td>\n",
       "      <td>0.0</td>\n",
       "      <td>0.0</td>\n",
       "      <td>0.0</td>\n",
       "      <td>0.0</td>\n",
       "      <td>0.0</td>\n",
       "      <td>0.0</td>\n",
       "      <td>0.0</td>\n",
       "      <td>0.0</td>\n",
       "      <td>0.0</td>\n",
       "      <td>0.0</td>\n",
       "      <td>0.0</td>\n",
       "      <td>0.0</td>\n",
       "      <td>0.0</td>\n",
       "      <td>0.0</td>\n",
       "      <td>0.0</td>\n",
       "      <td>0.0</td>\n",
       "      <td>0.0</td>\n",
       "      <td>0.0</td>\n",
       "      <td>1</td>\n",
       "    </tr>\n",
       "    <tr>\n",
       "      <th>046e85c7cc7f</th>\n",
       "      <td>0.0</td>\n",
       "      <td>0.0</td>\n",
       "      <td>0.0</td>\n",
       "      <td>0.0</td>\n",
       "      <td>0.0</td>\n",
       "      <td>0.0</td>\n",
       "      <td>0.0</td>\n",
       "      <td>0.0</td>\n",
       "      <td>0.0</td>\n",
       "      <td>0.0</td>\n",
       "      <td>0.0</td>\n",
       "      <td>0.0</td>\n",
       "      <td>0.0</td>\n",
       "      <td>0.0</td>\n",
       "      <td>0.0</td>\n",
       "      <td>0.0</td>\n",
       "      <td>0.0</td>\n",
       "      <td>0.0</td>\n",
       "      <td>0.0</td>\n",
       "      <td>0.0</td>\n",
       "      <td>0.0</td>\n",
       "      <td>0.0</td>\n",
       "      <td>0.0</td>\n",
       "      <td>0.0</td>\n",
       "      <td>0.0</td>\n",
       "      <td>0.0</td>\n",
       "      <td>0.0</td>\n",
       "      <td>0.0</td>\n",
       "      <td>1</td>\n",
       "    </tr>\n",
       "  </tbody>\n",
       "</table>\n",
       "</div>"
      ],
      "text/plain": [
       "               AB   AF   AM   BC   BN   BP   BQ   CC  CD    CR   CU   DA   DE  \\\n",
       "Id                                                                              \n",
       "00eed32682bb  0.0  0.0  0.0  0.0  0.0  0.0  0.0  0.0  0.0  0.0  0.0  0.0  0.0   \n",
       "010ebe33f668  0.0  0.0  0.0  0.0  0.0  0.0  0.0  0.0  0.0  0.0  0.0  0.0  0.0   \n",
       "02fa521e1838  0.0  0.0  0.0  0.0  0.0  0.0  0.0  0.0  0.0  0.0  0.0  0.0  0.0   \n",
       "040e15f562a2  0.0  0.0  0.0  0.0  0.0  0.0  0.0  0.0  0.0  0.0  0.0  0.0  0.0   \n",
       "046e85c7cc7f  0.0  0.0  0.0  0.0  0.0  0.0  0.0  0.0  0.0  0.0  0.0  0.0  0.0   \n",
       "\n",
       "               DF   DH   DI   DL   DU   DY   EB   EE   FE   FI   FL   FR   GE  \\\n",
       "Id                                                                              \n",
       "00eed32682bb  0.0  0.0  0.0  0.0  0.0  0.0  0.0  0.0  0.0  0.0  0.0  0.0  0.0   \n",
       "010ebe33f668  0.0  0.0  0.0  0.0  0.0  0.0  0.0  0.0  0.0  0.0  0.0  0.0  0.0   \n",
       "02fa521e1838  0.0  0.0  0.0  0.0  0.0  0.0  0.0  0.0  0.0  0.0  0.0  0.0  0.0   \n",
       "040e15f562a2  0.0  0.0  0.0  0.0  0.0  0.0  0.0  0.0  0.0  0.0  0.0  0.0  0.0   \n",
       "046e85c7cc7f  0.0  0.0  0.0  0.0  0.0  0.0  0.0  0.0  0.0  0.0  0.0  0.0  0.0   \n",
       "\n",
       "               GF   GL  A  \n",
       "Id                         \n",
       "00eed32682bb  0.0  0.0  1  \n",
       "010ebe33f668  0.0  0.0  1  \n",
       "02fa521e1838  0.0  0.0  1  \n",
       "040e15f562a2  0.0  0.0  1  \n",
       "046e85c7cc7f  0.0  0.0  1  "
      ]
     },
     "execution_count": 63,
     "metadata": {},
     "output_type": "execute_result"
    }
   ],
   "source": [
    "data_test_1.drop(columns = columns_to_drop_corr, axis = 1, inplace = True)\n",
    "data_test_1.drop(columns = features_to_drop_final, axis = 1, inplace = True)\n",
    "print(len(data_test_1.columns.to_list()))\n",
    "\n",
    "data_test_1_object = data_test_1.EJ\n",
    "dummies_df = pd.get_dummies(data_test_1_object)\n",
    "df_test = pd.concat([data_test_1, dummies_df], axis = 1)\n",
    "df_test.drop('EJ', axis = 1, inplace = True)\n",
    "df_test"
   ]
  },
  {
   "cell_type": "code",
   "execution_count": 64,
   "id": "6462cd47",
   "metadata": {
    "execution": {
     "iopub.execute_input": "2023-08-01T08:35:40.739405Z",
     "iopub.status.busy": "2023-08-01T08:35:40.739026Z",
     "iopub.status.idle": "2023-08-01T08:35:40.747624Z",
     "shell.execute_reply": "2023-08-01T08:35:40.746418Z"
    },
    "papermill": {
     "duration": 0.069382,
     "end_time": "2023-08-01T08:35:40.750190",
     "exception": false,
     "start_time": "2023-08-01T08:35:40.680808",
     "status": "completed"
    },
    "tags": []
   },
   "outputs": [
    {
     "data": {
      "text/plain": [
       "(5, 30)"
      ]
     },
     "execution_count": 64,
     "metadata": {},
     "output_type": "execute_result"
    }
   ],
   "source": [
    "df_test['B'] = np.abs(df_test['A'] - 1)\n",
    "df_test.shape"
   ]
  },
  {
   "cell_type": "code",
   "execution_count": 65,
   "id": "b7a3da5e",
   "metadata": {
    "execution": {
     "iopub.execute_input": "2023-08-01T08:35:40.869646Z",
     "iopub.status.busy": "2023-08-01T08:35:40.869174Z",
     "iopub.status.idle": "2023-08-01T08:35:40.885904Z",
     "shell.execute_reply": "2023-08-01T08:35:40.884757Z"
    },
    "papermill": {
     "duration": 0.08174,
     "end_time": "2023-08-01T08:35:40.889234",
     "exception": false,
     "start_time": "2023-08-01T08:35:40.807494",
     "status": "completed"
    },
    "tags": []
   },
   "outputs": [
    {
     "data": {
      "text/plain": [
       "array([[0.88426834, 0.11573168],\n",
       "       [0.88426834, 0.11573168],\n",
       "       [0.88426834, 0.11573168],\n",
       "       [0.88426834, 0.11573168],\n",
       "       [0.88426834, 0.11573168]], dtype=float32)"
      ]
     },
     "execution_count": 65,
     "metadata": {},
     "output_type": "execute_result"
    }
   ],
   "source": [
    "X_t = df_test\n",
    "prob_predictions = final_estimator.predict_proba(X_t)\n",
    "prob_predictions"
   ]
  },
  {
   "cell_type": "code",
   "execution_count": 66,
   "id": "bc84687d",
   "metadata": {
    "execution": {
     "iopub.execute_input": "2023-08-01T08:35:41.011455Z",
     "iopub.status.busy": "2023-08-01T08:35:41.010981Z",
     "iopub.status.idle": "2023-08-01T08:35:41.019791Z",
     "shell.execute_reply": "2023-08-01T08:35:41.018577Z"
    },
    "papermill": {
     "duration": 0.070637,
     "end_time": "2023-08-01T08:35:41.022660",
     "exception": false,
     "start_time": "2023-08-01T08:35:40.952023",
     "status": "completed"
    },
    "tags": []
   },
   "outputs": [
    {
     "data": {
      "text/plain": [
       "Index(['00eed32682bb', '010ebe33f668', '02fa521e1838', '040e15f562a2',\n",
       "       '046e85c7cc7f'],\n",
       "      dtype='object', name='Id')"
      ]
     },
     "execution_count": 66,
     "metadata": {},
     "output_type": "execute_result"
    }
   ],
   "source": [
    "X_t.index"
   ]
  },
  {
   "cell_type": "code",
   "execution_count": 67,
   "id": "7e6046c0",
   "metadata": {
    "execution": {
     "iopub.execute_input": "2023-08-01T08:35:41.145099Z",
     "iopub.status.busy": "2023-08-01T08:35:41.144268Z",
     "iopub.status.idle": "2023-08-01T08:35:41.150944Z",
     "shell.execute_reply": "2023-08-01T08:35:41.150105Z"
    },
    "papermill": {
     "duration": 0.070078,
     "end_time": "2023-08-01T08:35:41.153558",
     "exception": false,
     "start_time": "2023-08-01T08:35:41.083480",
     "status": "completed"
    },
    "tags": []
   },
   "outputs": [
    {
     "data": {
      "text/plain": [
       "array([0.88426834, 0.88426834, 0.88426834, 0.88426834, 0.88426834],\n",
       "      dtype=float32)"
      ]
     },
     "execution_count": 67,
     "metadata": {},
     "output_type": "execute_result"
    }
   ],
   "source": [
    "prob_0 = prob_predictions[:, 0]\n",
    "prob_0"
   ]
  },
  {
   "cell_type": "code",
   "execution_count": 68,
   "id": "2593de0a",
   "metadata": {
    "execution": {
     "iopub.execute_input": "2023-08-01T08:35:41.278036Z",
     "iopub.status.busy": "2023-08-01T08:35:41.277245Z",
     "iopub.status.idle": "2023-08-01T08:35:41.284424Z",
     "shell.execute_reply": "2023-08-01T08:35:41.283358Z"
    },
    "papermill": {
     "duration": 0.071189,
     "end_time": "2023-08-01T08:35:41.286983",
     "exception": false,
     "start_time": "2023-08-01T08:35:41.215794",
     "status": "completed"
    },
    "tags": []
   },
   "outputs": [
    {
     "data": {
      "text/plain": [
       "array([0., 0., 0., 0., 0.], dtype=float32)"
      ]
     },
     "execution_count": 68,
     "metadata": {},
     "output_type": "execute_result"
    }
   ],
   "source": [
    "#thresholds are taken from Thresholds estimation\n",
    "#there was prob_0 > 0.86 and I'm trying new threshold:\n",
    "prob_0[prob_0 > 0.72] = 1\n",
    "#prob_0[prob_0 < 0.12] = 0\n",
    "prob_1 = 1 - prob_0\n",
    "prob_1"
   ]
  },
  {
   "cell_type": "code",
   "execution_count": 69,
   "id": "ccfa46e0",
   "metadata": {
    "execution": {
     "iopub.execute_input": "2023-08-01T08:35:41.410011Z",
     "iopub.status.busy": "2023-08-01T08:35:41.408964Z",
     "iopub.status.idle": "2023-08-01T08:35:41.415064Z",
     "shell.execute_reply": "2023-08-01T08:35:41.414108Z"
    },
    "papermill": {
     "duration": 0.072895,
     "end_time": "2023-08-01T08:35:41.417458",
     "exception": false,
     "start_time": "2023-08-01T08:35:41.344563",
     "status": "completed"
    },
    "tags": []
   },
   "outputs": [],
   "source": [
    "submission = pd.DataFrame({\n",
    "    'Id' : X_t.index,\n",
    "    'class_0' : prob_0,\n",
    "    'class_1' : prob_1\n",
    "})"
   ]
  },
  {
   "cell_type": "code",
   "execution_count": 70,
   "id": "09a2ca2e",
   "metadata": {
    "execution": {
     "iopub.execute_input": "2023-08-01T08:35:41.537107Z",
     "iopub.status.busy": "2023-08-01T08:35:41.536372Z",
     "iopub.status.idle": "2023-08-01T08:35:41.549035Z",
     "shell.execute_reply": "2023-08-01T08:35:41.547808Z"
    },
    "papermill": {
     "duration": 0.076548,
     "end_time": "2023-08-01T08:35:41.551895",
     "exception": false,
     "start_time": "2023-08-01T08:35:41.475347",
     "status": "completed"
    },
    "tags": []
   },
   "outputs": [
    {
     "data": {
      "text/html": [
       "<div>\n",
       "<style scoped>\n",
       "    .dataframe tbody tr th:only-of-type {\n",
       "        vertical-align: middle;\n",
       "    }\n",
       "\n",
       "    .dataframe tbody tr th {\n",
       "        vertical-align: top;\n",
       "    }\n",
       "\n",
       "    .dataframe thead th {\n",
       "        text-align: right;\n",
       "    }\n",
       "</style>\n",
       "<table border=\"1\" class=\"dataframe\">\n",
       "  <thead>\n",
       "    <tr style=\"text-align: right;\">\n",
       "      <th></th>\n",
       "      <th>Id</th>\n",
       "      <th>class_0</th>\n",
       "      <th>class_1</th>\n",
       "    </tr>\n",
       "  </thead>\n",
       "  <tbody>\n",
       "    <tr>\n",
       "      <th>0</th>\n",
       "      <td>00eed32682bb</td>\n",
       "      <td>1.0</td>\n",
       "      <td>0.0</td>\n",
       "    </tr>\n",
       "    <tr>\n",
       "      <th>1</th>\n",
       "      <td>010ebe33f668</td>\n",
       "      <td>1.0</td>\n",
       "      <td>0.0</td>\n",
       "    </tr>\n",
       "    <tr>\n",
       "      <th>2</th>\n",
       "      <td>02fa521e1838</td>\n",
       "      <td>1.0</td>\n",
       "      <td>0.0</td>\n",
       "    </tr>\n",
       "    <tr>\n",
       "      <th>3</th>\n",
       "      <td>040e15f562a2</td>\n",
       "      <td>1.0</td>\n",
       "      <td>0.0</td>\n",
       "    </tr>\n",
       "    <tr>\n",
       "      <th>4</th>\n",
       "      <td>046e85c7cc7f</td>\n",
       "      <td>1.0</td>\n",
       "      <td>0.0</td>\n",
       "    </tr>\n",
       "  </tbody>\n",
       "</table>\n",
       "</div>"
      ],
      "text/plain": [
       "             Id  class_0  class_1\n",
       "0  00eed32682bb      1.0      0.0\n",
       "1  010ebe33f668      1.0      0.0\n",
       "2  02fa521e1838      1.0      0.0\n",
       "3  040e15f562a2      1.0      0.0\n",
       "4  046e85c7cc7f      1.0      0.0"
      ]
     },
     "execution_count": 70,
     "metadata": {},
     "output_type": "execute_result"
    }
   ],
   "source": [
    "submission"
   ]
  },
  {
   "cell_type": "code",
   "execution_count": null,
   "id": "0108d882",
   "metadata": {},
   "outputs": [],
   "source": []
  },
  {
   "cell_type": "code",
   "execution_count": 71,
   "id": "e0227225",
   "metadata": {
    "execution": {
     "iopub.execute_input": "2023-08-01T08:35:41.670547Z",
     "iopub.status.busy": "2023-08-01T08:35:41.669815Z",
     "iopub.status.idle": "2023-08-01T08:35:41.681286Z",
     "shell.execute_reply": "2023-08-01T08:35:41.680137Z"
    },
    "papermill": {
     "duration": 0.074521,
     "end_time": "2023-08-01T08:35:41.684860",
     "exception": false,
     "start_time": "2023-08-01T08:35:41.610339",
     "status": "completed"
    },
    "tags": []
   },
   "outputs": [],
   "source": [
    "submission.to_csv('submission.csv',  index = False)"
   ]
  }
 ],
 "metadata": {
  "kernelspec": {
   "display_name": "Python 3.8.2 64-bit",
   "language": "python",
   "name": "python3"
  },
  "language_info": {
   "codemirror_mode": {
    "name": "ipython",
    "version": 3
   },
   "file_extension": ".py",
   "mimetype": "text/x-python",
   "name": "python",
   "nbconvert_exporter": "python",
   "pygments_lexer": "ipython3",
   "version": "3.8.2"
  },
  "papermill": {
   "default_parameters": {},
   "duration": 50.64622,
   "end_time": "2023-08-01T08:35:43.067330",
   "environment_variables": {},
   "exception": null,
   "input_path": "__notebook__.ipynb",
   "output_path": "__notebook__.ipynb",
   "parameters": {},
   "start_time": "2023-08-01T08:34:52.421110",
   "version": "2.4.0"
  },
  "vscode": {
   "interpreter": {
    "hash": "6eaea64310228e9f754520128e4f9a6259bb26f5c3839fa5dce3903f5873b011"
   }
  }
 },
 "nbformat": 4,
 "nbformat_minor": 5
}
