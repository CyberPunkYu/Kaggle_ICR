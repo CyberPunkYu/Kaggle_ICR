{
 "cells": [
  {
   "cell_type": "code",
   "execution_count": 34,
   "metadata": {},
   "outputs": [],
   "source": [
    "import numpy as np\n",
    "import pandas as pd\n",
    "import matplotlib.pyplot as plt\n",
    "import seaborn as sns\n",
    "import warnings, os, sys, shutil\n",
    "warnings.filterwarnings(\"ignore\")"
   ]
  },
  {
   "cell_type": "code",
   "execution_count": 35,
   "metadata": {},
   "outputs": [],
   "source": [
    "train = pd.read_csv('./icr-identify-age-related-conditions/train.csv')\n",
    "test = pd.read_csv('./icr-identify-age-related-conditions/test.csv')\n",
    "meta = pd.read_csv('./icr-identify-age-related-conditions/greeks.csv')"
   ]
  },
  {
   "cell_type": "code",
   "execution_count": 36,
   "metadata": {},
   "outputs": [],
   "source": [
    "train_init = train.copy()\n",
    "train['Alpha'] = meta['Alpha']\n",
    "train['Beta'] = meta['Beta']\n",
    "train['Gamma'] = meta['Gamma']\n",
    "train['Delta'] = meta['Delta']"
   ]
  },
  {
   "cell_type": "code",
   "execution_count": 37,
   "metadata": {},
   "outputs": [],
   "source": [
    "# 处理greeks\n",
    "# Alpha为A的时候为0，其余为1\n",
    "train['Alpha'] = train['Alpha'].apply(lambda x: 0 if x == 'A' else 1)"
   ]
  },
  {
   "cell_type": "code",
   "execution_count": 38,
   "metadata": {},
   "outputs": [],
   "source": [
    "# 将数据集中唯一的离散特征转为01，这可能表明患者的性别\n",
    "train['EJ'] = train['EJ'].replace({'A': 0, 'B': 1}).astype(float)\n",
    "test['EJ']  = test['EJ'].replace({'A': 0, 'B': 1}).astype(float)\n",
    "train_init['EJ'] = train_init['EJ'].replace({'A': 0, 'B': 1}).astype(float)\n",
    "# 缺失值处理，用中位数填充\n",
    "train['BQ'].fillna(0, inplace=True)\n",
    "train.fillna(train.median(), inplace=True)\n",
    "test.fillna(test.median(), inplace=True)\n",
    "train_init.fillna(train_init.median(), inplace=True)\n",
    "# 移除ID列\n",
    "train_id = train['Id'].copy()\n",
    "test_id  =  test['Id'].copy()\n",
    "train = train.drop(['Id'], axis=1)\n",
    "test  =  test.drop(['Id'], axis=1)"
   ]
  },
  {
   "cell_type": "code",
   "execution_count": 39,
   "metadata": {},
   "outputs": [
    {
     "data": {
      "text/html": [
       "<div>\n",
       "<style scoped>\n",
       "    .dataframe tbody tr th:only-of-type {\n",
       "        vertical-align: middle;\n",
       "    }\n",
       "\n",
       "    .dataframe tbody tr th {\n",
       "        vertical-align: top;\n",
       "    }\n",
       "\n",
       "    .dataframe thead th {\n",
       "        text-align: right;\n",
       "    }\n",
       "</style>\n",
       "<table border=\"1\" class=\"dataframe\">\n",
       "  <thead>\n",
       "    <tr style=\"text-align: right;\">\n",
       "      <th></th>\n",
       "      <th>AB</th>\n",
       "      <th>AF</th>\n",
       "      <th>AH</th>\n",
       "      <th>AM</th>\n",
       "      <th>AR</th>\n",
       "      <th>AX</th>\n",
       "      <th>AY</th>\n",
       "      <th>AZ</th>\n",
       "      <th>BC</th>\n",
       "      <th>BD</th>\n",
       "      <th>...</th>\n",
       "      <th>GE</th>\n",
       "      <th>GF</th>\n",
       "      <th>GH</th>\n",
       "      <th>GI</th>\n",
       "      <th>GL</th>\n",
       "      <th>Class</th>\n",
       "      <th>Alpha</th>\n",
       "      <th>Beta</th>\n",
       "      <th>Gamma</th>\n",
       "      <th>Delta</th>\n",
       "    </tr>\n",
       "  </thead>\n",
       "  <tbody>\n",
       "    <tr>\n",
       "      <th>0</th>\n",
       "      <td>0.209377</td>\n",
       "      <td>3109.03329</td>\n",
       "      <td>85.200147</td>\n",
       "      <td>22.394407</td>\n",
       "      <td>8.138688</td>\n",
       "      <td>0.699861</td>\n",
       "      <td>0.025578</td>\n",
       "      <td>9.812214</td>\n",
       "      <td>5.555634</td>\n",
       "      <td>4126.58731</td>\n",
       "      <td>...</td>\n",
       "      <td>72.611063</td>\n",
       "      <td>2003.810319</td>\n",
       "      <td>22.136229</td>\n",
       "      <td>69.834944</td>\n",
       "      <td>0.120343</td>\n",
       "      <td>1</td>\n",
       "      <td>1</td>\n",
       "      <td>0</td>\n",
       "      <td>1</td>\n",
       "      <td>2</td>\n",
       "    </tr>\n",
       "    <tr>\n",
       "      <th>1</th>\n",
       "      <td>0.145282</td>\n",
       "      <td>978.76416</td>\n",
       "      <td>85.200147</td>\n",
       "      <td>36.968889</td>\n",
       "      <td>8.138688</td>\n",
       "      <td>3.632190</td>\n",
       "      <td>0.025578</td>\n",
       "      <td>13.517790</td>\n",
       "      <td>1.229900</td>\n",
       "      <td>5496.92824</td>\n",
       "      <td>...</td>\n",
       "      <td>72.611063</td>\n",
       "      <td>27981.562750</td>\n",
       "      <td>29.135430</td>\n",
       "      <td>32.131996</td>\n",
       "      <td>21.978000</td>\n",
       "      <td>0</td>\n",
       "      <td>0</td>\n",
       "      <td>0</td>\n",
       "      <td>0</td>\n",
       "      <td>0</td>\n",
       "    </tr>\n",
       "    <tr>\n",
       "      <th>2</th>\n",
       "      <td>0.470030</td>\n",
       "      <td>2635.10654</td>\n",
       "      <td>85.200147</td>\n",
       "      <td>32.360553</td>\n",
       "      <td>8.138688</td>\n",
       "      <td>6.732840</td>\n",
       "      <td>0.025578</td>\n",
       "      <td>12.824570</td>\n",
       "      <td>1.229900</td>\n",
       "      <td>5135.78024</td>\n",
       "      <td>...</td>\n",
       "      <td>88.609437</td>\n",
       "      <td>13676.957810</td>\n",
       "      <td>28.022851</td>\n",
       "      <td>35.192676</td>\n",
       "      <td>0.196941</td>\n",
       "      <td>0</td>\n",
       "      <td>0</td>\n",
       "      <td>0</td>\n",
       "      <td>0</td>\n",
       "      <td>0</td>\n",
       "    </tr>\n",
       "    <tr>\n",
       "      <th>3</th>\n",
       "      <td>0.252107</td>\n",
       "      <td>3819.65177</td>\n",
       "      <td>120.201618</td>\n",
       "      <td>77.112203</td>\n",
       "      <td>8.138688</td>\n",
       "      <td>3.685344</td>\n",
       "      <td>0.025578</td>\n",
       "      <td>11.053708</td>\n",
       "      <td>1.229900</td>\n",
       "      <td>4169.67738</td>\n",
       "      <td>...</td>\n",
       "      <td>82.416803</td>\n",
       "      <td>2094.262452</td>\n",
       "      <td>39.948656</td>\n",
       "      <td>90.493248</td>\n",
       "      <td>0.155829</td>\n",
       "      <td>0</td>\n",
       "      <td>0</td>\n",
       "      <td>0</td>\n",
       "      <td>0</td>\n",
       "      <td>0</td>\n",
       "    </tr>\n",
       "    <tr>\n",
       "      <th>4</th>\n",
       "      <td>0.380297</td>\n",
       "      <td>3733.04844</td>\n",
       "      <td>85.200147</td>\n",
       "      <td>14.103738</td>\n",
       "      <td>8.138688</td>\n",
       "      <td>3.942255</td>\n",
       "      <td>0.054810</td>\n",
       "      <td>3.396778</td>\n",
       "      <td>102.151980</td>\n",
       "      <td>5728.73412</td>\n",
       "      <td>...</td>\n",
       "      <td>146.109943</td>\n",
       "      <td>8524.370502</td>\n",
       "      <td>45.381316</td>\n",
       "      <td>36.262628</td>\n",
       "      <td>0.096614</td>\n",
       "      <td>1</td>\n",
       "      <td>1</td>\n",
       "      <td>1</td>\n",
       "      <td>1</td>\n",
       "      <td>0</td>\n",
       "    </tr>\n",
       "  </tbody>\n",
       "</table>\n",
       "<p>5 rows × 61 columns</p>\n",
       "</div>"
      ],
      "text/plain": [
       "         AB          AF          AH         AM        AR        AX        AY  \\\n",
       "0  0.209377  3109.03329   85.200147  22.394407  8.138688  0.699861  0.025578   \n",
       "1  0.145282   978.76416   85.200147  36.968889  8.138688  3.632190  0.025578   \n",
       "2  0.470030  2635.10654   85.200147  32.360553  8.138688  6.732840  0.025578   \n",
       "3  0.252107  3819.65177  120.201618  77.112203  8.138688  3.685344  0.025578   \n",
       "4  0.380297  3733.04844   85.200147  14.103738  8.138688  3.942255  0.054810   \n",
       "\n",
       "          AZ          BC         BD   ...          GE            GF  \\\n",
       "0   9.812214    5.555634  4126.58731  ...   72.611063   2003.810319   \n",
       "1  13.517790    1.229900  5496.92824  ...   72.611063  27981.562750   \n",
       "2  12.824570    1.229900  5135.78024  ...   88.609437  13676.957810   \n",
       "3  11.053708    1.229900  4169.67738  ...   82.416803   2094.262452   \n",
       "4   3.396778  102.151980  5728.73412  ...  146.109943   8524.370502   \n",
       "\n",
       "          GH         GI         GL  Class  Alpha  Beta  Gamma  Delta  \n",
       "0  22.136229  69.834944   0.120343      1      1     0      1      2  \n",
       "1  29.135430  32.131996  21.978000      0      0     0      0      0  \n",
       "2  28.022851  35.192676   0.196941      0      0     0      0      0  \n",
       "3  39.948656  90.493248   0.155829      0      0     0      0      0  \n",
       "4  45.381316  36.262628   0.096614      1      1     1      1      0  \n",
       "\n",
       "[5 rows x 61 columns]"
      ]
     },
     "execution_count": 39,
     "metadata": {},
     "output_type": "execute_result"
    }
   ],
   "source": [
    "# 将gamma中的M和N都转为0，G，H，E，F，A，B的转为1\n",
    "train['Gamma'] = train['Gamma'].replace({'M': 0, 'N': 0, 'G': 1, 'H': 1, 'E': 1, 'F': 1, 'A': 1, 'B': 1})\n",
    "# 将Beta中的C0,B1,A2\n",
    "train['Beta'] = train['Beta'].replace({'C': 0, 'B': 1, 'A': 2})\n",
    "# 将Delta中的B0,A1,C1,D2\n",
    "train['Delta'] = train['Delta'].replace({'B': 0, 'A': 1, 'C': 1, 'D': 2})\n",
    "\n",
    "train.head()\n"
   ]
  },
  {
   "cell_type": "code",
   "execution_count": 40,
   "metadata": {},
   "outputs": [
    {
     "data": {
      "text/html": [
       "<div>\n",
       "<style scoped>\n",
       "    .dataframe tbody tr th:only-of-type {\n",
       "        vertical-align: middle;\n",
       "    }\n",
       "\n",
       "    .dataframe tbody tr th {\n",
       "        vertical-align: top;\n",
       "    }\n",
       "\n",
       "    .dataframe thead th {\n",
       "        text-align: right;\n",
       "    }\n",
       "</style>\n",
       "<table border=\"1\" class=\"dataframe\">\n",
       "  <thead>\n",
       "    <tr style=\"text-align: right;\">\n",
       "      <th></th>\n",
       "      <th>AB</th>\n",
       "      <th>AF</th>\n",
       "      <th>AH</th>\n",
       "      <th>AM</th>\n",
       "      <th>AR</th>\n",
       "      <th>AX</th>\n",
       "      <th>AY</th>\n",
       "      <th>AZ</th>\n",
       "      <th>BC</th>\n",
       "      <th>BD</th>\n",
       "      <th>...</th>\n",
       "      <th>GE</th>\n",
       "      <th>GF</th>\n",
       "      <th>GH</th>\n",
       "      <th>GI</th>\n",
       "      <th>GL</th>\n",
       "      <th>Class</th>\n",
       "      <th>Alpha</th>\n",
       "      <th>Beta</th>\n",
       "      <th>Gamma</th>\n",
       "      <th>Delta</th>\n",
       "    </tr>\n",
       "  </thead>\n",
       "  <tbody>\n",
       "    <tr>\n",
       "      <th>0</th>\n",
       "      <td>-0.572153</td>\n",
       "      <td>-0.170975</td>\n",
       "      <td>-0.261669</td>\n",
       "      <td>-0.237889</td>\n",
       "      <td>-0.189295</td>\n",
       "      <td>-1.900558</td>\n",
       "      <td>-0.083417</td>\n",
       "      <td>-0.173502</td>\n",
       "      <td>-0.038354</td>\n",
       "      <td>-0.405383</td>\n",
       "      <td>...</td>\n",
       "      <td>-0.410260</td>\n",
       "      <td>-0.655511</td>\n",
       "      <td>-0.948991</td>\n",
       "      <td>0.531241</td>\n",
       "      <td>-0.814049</td>\n",
       "      <td>1</td>\n",
       "      <td>1</td>\n",
       "      <td>0</td>\n",
       "      <td>1</td>\n",
       "      <td>2</td>\n",
       "    </tr>\n",
       "    <tr>\n",
       "      <th>1</th>\n",
       "      <td>-0.709105</td>\n",
       "      <td>-1.097801</td>\n",
       "      <td>-0.261669</td>\n",
       "      <td>-0.028701</td>\n",
       "      <td>-0.189295</td>\n",
       "      <td>-0.750457</td>\n",
       "      <td>-0.083417</td>\n",
       "      <td>0.678919</td>\n",
       "      <td>-0.104787</td>\n",
       "      <td>0.048541</td>\n",
       "      <td>...</td>\n",
       "      <td>-0.410260</td>\n",
       "      <td>0.687893</td>\n",
       "      <td>-0.238862</td>\n",
       "      <td>-0.509218</td>\n",
       "      <td>1.304860</td>\n",
       "      <td>0</td>\n",
       "      <td>0</td>\n",
       "      <td>0</td>\n",
       "      <td>0</td>\n",
       "      <td>0</td>\n",
       "    </tr>\n",
       "    <tr>\n",
       "      <th>2</th>\n",
       "      <td>-0.015212</td>\n",
       "      <td>-0.377169</td>\n",
       "      <td>-0.261669</td>\n",
       "      <td>-0.094845</td>\n",
       "      <td>-0.189295</td>\n",
       "      <td>0.465662</td>\n",
       "      <td>-0.083417</td>\n",
       "      <td>0.519453</td>\n",
       "      <td>-0.104787</td>\n",
       "      <td>-0.071089</td>\n",
       "      <td>...</td>\n",
       "      <td>-0.299210</td>\n",
       "      <td>-0.051850</td>\n",
       "      <td>-0.351743</td>\n",
       "      <td>-0.424754</td>\n",
       "      <td>-0.806623</td>\n",
       "      <td>0</td>\n",
       "      <td>0</td>\n",
       "      <td>0</td>\n",
       "      <td>0</td>\n",
       "      <td>0</td>\n",
       "    </tr>\n",
       "    <tr>\n",
       "      <th>3</th>\n",
       "      <td>-0.480851</td>\n",
       "      <td>0.138196</td>\n",
       "      <td>0.012347</td>\n",
       "      <td>0.547477</td>\n",
       "      <td>-0.189295</td>\n",
       "      <td>-0.729610</td>\n",
       "      <td>-0.083417</td>\n",
       "      <td>0.112088</td>\n",
       "      <td>-0.104787</td>\n",
       "      <td>-0.391109</td>\n",
       "      <td>...</td>\n",
       "      <td>-0.342195</td>\n",
       "      <td>-0.650833</td>\n",
       "      <td>0.858232</td>\n",
       "      <td>1.101332</td>\n",
       "      <td>-0.810609</td>\n",
       "      <td>0</td>\n",
       "      <td>0</td>\n",
       "      <td>0</td>\n",
       "      <td>0</td>\n",
       "      <td>0</td>\n",
       "    </tr>\n",
       "    <tr>\n",
       "      <th>4</th>\n",
       "      <td>-0.206946</td>\n",
       "      <td>0.100517</td>\n",
       "      <td>-0.261669</td>\n",
       "      <td>-0.356885</td>\n",
       "      <td>-0.189295</td>\n",
       "      <td>-0.628845</td>\n",
       "      <td>-0.013229</td>\n",
       "      <td>-1.649292</td>\n",
       "      <td>1.445139</td>\n",
       "      <td>0.125327</td>\n",
       "      <td>...</td>\n",
       "      <td>0.099920</td>\n",
       "      <td>-0.318309</td>\n",
       "      <td>1.409422</td>\n",
       "      <td>-0.395228</td>\n",
       "      <td>-0.816349</td>\n",
       "      <td>1</td>\n",
       "      <td>1</td>\n",
       "      <td>1</td>\n",
       "      <td>1</td>\n",
       "      <td>0</td>\n",
       "    </tr>\n",
       "  </tbody>\n",
       "</table>\n",
       "<p>5 rows × 61 columns</p>\n",
       "</div>"
      ],
      "text/plain": [
       "         AB        AF        AH        AM        AR        AX        AY  \\\n",
       "0 -0.572153 -0.170975 -0.261669 -0.237889 -0.189295 -1.900558 -0.083417   \n",
       "1 -0.709105 -1.097801 -0.261669 -0.028701 -0.189295 -0.750457 -0.083417   \n",
       "2 -0.015212 -0.377169 -0.261669 -0.094845 -0.189295  0.465662 -0.083417   \n",
       "3 -0.480851  0.138196  0.012347  0.547477 -0.189295 -0.729610 -0.083417   \n",
       "4 -0.206946  0.100517 -0.261669 -0.356885 -0.189295 -0.628845 -0.013229   \n",
       "\n",
       "         AZ        BC       BD   ...        GE        GF        GH        GI  \\\n",
       "0 -0.173502 -0.038354 -0.405383  ... -0.410260 -0.655511 -0.948991  0.531241   \n",
       "1  0.678919 -0.104787  0.048541  ... -0.410260  0.687893 -0.238862 -0.509218   \n",
       "2  0.519453 -0.104787 -0.071089  ... -0.299210 -0.051850 -0.351743 -0.424754   \n",
       "3  0.112088 -0.104787 -0.391109  ... -0.342195 -0.650833  0.858232  1.101332   \n",
       "4 -1.649292  1.445139  0.125327  ...  0.099920 -0.318309  1.409422 -0.395228   \n",
       "\n",
       "         GL  Class  Alpha  Beta  Gamma  Delta  \n",
       "0 -0.814049      1      1     0      1      2  \n",
       "1  1.304860      0      0     0      0      0  \n",
       "2 -0.806623      0      0     0      0      0  \n",
       "3 -0.810609      0      0     0      0      0  \n",
       "4 -0.816349      1      1     1      1      0  \n",
       "\n",
       "[5 rows x 61 columns]"
      ]
     },
     "execution_count": 40,
     "metadata": {},
     "output_type": "execute_result"
    }
   ],
   "source": [
    "# 连续变量归一化处理\n",
    "from sklearn.preprocessing import StandardScaler\n",
    "scaler = StandardScaler()\n",
    "numeric_columns = [_ for _ in train.columns if _ not in ['EJ', 'Alpha', 'Beta', 'Gamma', 'Delta', 'Class']]\n",
    "train[numeric_columns] = scaler.fit_transform(train[numeric_columns])\n",
    "test[numeric_columns] = scaler.transform(test[numeric_columns])\n",
    "train.head()"
   ]
  },
  {
   "cell_type": "code",
   "execution_count": 41,
   "metadata": {},
   "outputs": [],
   "source": [
    "# 抛弃高度相关的特征\n",
    "drop_cols = ['BZ','CL','EH','GL']  # 高度相关\n",
    "drop_cols2 = ['DY','CB','GB','CH','DL','CU','FS','AZ','GE','EG','EP']  # 无用特征，同一点取得极值\n",
    "drop_cols3 = ['BZ', 'DV', 'EH', 'FD ']\n",
    "train.drop(drop_cols, axis=1, inplace=True)\n",
    "test.drop(drop_cols, axis=1, inplace=True)"
   ]
  },
  {
   "cell_type": "code",
   "execution_count": 42,
   "metadata": {},
   "outputs": [],
   "source": [
    "# ytrain为离散\n",
    "ytrain = train[['Class', 'Alpha', 'Beta', 'Gamma', 'Delta']]\n",
    "train.drop(['Class', 'Alpha', 'Beta', 'Gamma', 'Delta'], axis=1, inplace=True)"
   ]
  },
  {
   "cell_type": "code",
   "execution_count": 43,
   "metadata": {},
   "outputs": [
    {
     "data": {
      "text/html": [
       "<div>\n",
       "<style scoped>\n",
       "    .dataframe tbody tr th:only-of-type {\n",
       "        vertical-align: middle;\n",
       "    }\n",
       "\n",
       "    .dataframe tbody tr th {\n",
       "        vertical-align: top;\n",
       "    }\n",
       "\n",
       "    .dataframe thead th {\n",
       "        text-align: right;\n",
       "    }\n",
       "</style>\n",
       "<table border=\"1\" class=\"dataframe\">\n",
       "  <thead>\n",
       "    <tr style=\"text-align: right;\">\n",
       "      <th></th>\n",
       "      <th>AB</th>\n",
       "      <th>AF</th>\n",
       "      <th>AH</th>\n",
       "      <th>AM</th>\n",
       "      <th>AR</th>\n",
       "      <th>AX</th>\n",
       "      <th>AY</th>\n",
       "      <th>AZ</th>\n",
       "      <th>BC</th>\n",
       "      <th>BD</th>\n",
       "      <th>...</th>\n",
       "      <th>FE</th>\n",
       "      <th>FI</th>\n",
       "      <th>FL</th>\n",
       "      <th>FR</th>\n",
       "      <th>FS</th>\n",
       "      <th>GB</th>\n",
       "      <th>GE</th>\n",
       "      <th>GF</th>\n",
       "      <th>GH</th>\n",
       "      <th>GI</th>\n",
       "    </tr>\n",
       "  </thead>\n",
       "  <tbody>\n",
       "    <tr>\n",
       "      <th>0</th>\n",
       "      <td>-0.572153</td>\n",
       "      <td>-0.170975</td>\n",
       "      <td>-0.261669</td>\n",
       "      <td>-0.237889</td>\n",
       "      <td>-0.189295</td>\n",
       "      <td>-1.900558</td>\n",
       "      <td>-0.083417</td>\n",
       "      <td>-0.173502</td>\n",
       "      <td>-0.038354</td>\n",
       "      <td>-0.405383</td>\n",
       "      <td>...</td>\n",
       "      <td>-0.112922</td>\n",
       "      <td>-2.226608</td>\n",
       "      <td>0.162821</td>\n",
       "      <td>-0.035806</td>\n",
       "      <td>-0.250437</td>\n",
       "      <td>-0.940094</td>\n",
       "      <td>-0.410260</td>\n",
       "      <td>-0.655511</td>\n",
       "      <td>-0.948991</td>\n",
       "      <td>0.531241</td>\n",
       "    </tr>\n",
       "    <tr>\n",
       "      <th>1</th>\n",
       "      <td>-0.709105</td>\n",
       "      <td>-1.097801</td>\n",
       "      <td>-0.261669</td>\n",
       "      <td>-0.028701</td>\n",
       "      <td>-0.189295</td>\n",
       "      <td>-0.750457</td>\n",
       "      <td>-0.083417</td>\n",
       "      <td>0.678919</td>\n",
       "      <td>-0.104787</td>\n",
       "      <td>0.048541</td>\n",
       "      <td>...</td>\n",
       "      <td>-0.311056</td>\n",
       "      <td>0.084542</td>\n",
       "      <td>-0.457925</td>\n",
       "      <td>-0.060566</td>\n",
       "      <td>0.113640</td>\n",
       "      <td>-1.145070</td>\n",
       "      <td>-0.410260</td>\n",
       "      <td>0.687893</td>\n",
       "      <td>-0.238862</td>\n",
       "      <td>-0.509218</td>\n",
       "    </tr>\n",
       "    <tr>\n",
       "      <th>2</th>\n",
       "      <td>-0.015212</td>\n",
       "      <td>-0.377169</td>\n",
       "      <td>-0.261669</td>\n",
       "      <td>-0.094845</td>\n",
       "      <td>-0.189295</td>\n",
       "      <td>0.465662</td>\n",
       "      <td>-0.083417</td>\n",
       "      <td>0.519453</td>\n",
       "      <td>-0.104787</td>\n",
       "      <td>-0.071089</td>\n",
       "      <td>...</td>\n",
       "      <td>-0.173811</td>\n",
       "      <td>0.517060</td>\n",
       "      <td>0.198663</td>\n",
       "      <td>-0.051023</td>\n",
       "      <td>0.597343</td>\n",
       "      <td>1.637944</td>\n",
       "      <td>-0.299210</td>\n",
       "      <td>-0.051850</td>\n",
       "      <td>-0.351743</td>\n",
       "      <td>-0.424754</td>\n",
       "    </tr>\n",
       "    <tr>\n",
       "      <th>3</th>\n",
       "      <td>-0.480851</td>\n",
       "      <td>0.138196</td>\n",
       "      <td>0.012347</td>\n",
       "      <td>0.547477</td>\n",
       "      <td>-0.189295</td>\n",
       "      <td>-0.729610</td>\n",
       "      <td>-0.083417</td>\n",
       "      <td>0.112088</td>\n",
       "      <td>-0.104787</td>\n",
       "      <td>-0.391109</td>\n",
       "      <td>...</td>\n",
       "      <td>0.058201</td>\n",
       "      <td>1.617160</td>\n",
       "      <td>0.060364</td>\n",
       "      <td>-0.060566</td>\n",
       "      <td>-0.104806</td>\n",
       "      <td>-0.219883</td>\n",
       "      <td>-0.342195</td>\n",
       "      <td>-0.650833</td>\n",
       "      <td>0.858232</td>\n",
       "      <td>1.101332</td>\n",
       "    </tr>\n",
       "    <tr>\n",
       "      <th>4</th>\n",
       "      <td>-0.206946</td>\n",
       "      <td>0.100517</td>\n",
       "      <td>-0.261669</td>\n",
       "      <td>-0.356885</td>\n",
       "      <td>-0.189295</td>\n",
       "      <td>-0.628845</td>\n",
       "      <td>-0.013229</td>\n",
       "      <td>-1.649292</td>\n",
       "      <td>1.445139</td>\n",
       "      <td>0.125327</td>\n",
       "      <td>...</td>\n",
       "      <td>0.520331</td>\n",
       "      <td>1.212850</td>\n",
       "      <td>0.237302</td>\n",
       "      <td>0.896815</td>\n",
       "      <td>-0.229632</td>\n",
       "      <td>-0.432313</td>\n",
       "      <td>0.099920</td>\n",
       "      <td>-0.318309</td>\n",
       "      <td>1.409422</td>\n",
       "      <td>-0.395228</td>\n",
       "    </tr>\n",
       "  </tbody>\n",
       "</table>\n",
       "<p>5 rows × 52 columns</p>\n",
       "</div>"
      ],
      "text/plain": [
       "         AB        AF        AH        AM        AR        AX        AY  \\\n",
       "0 -0.572153 -0.170975 -0.261669 -0.237889 -0.189295 -1.900558 -0.083417   \n",
       "1 -0.709105 -1.097801 -0.261669 -0.028701 -0.189295 -0.750457 -0.083417   \n",
       "2 -0.015212 -0.377169 -0.261669 -0.094845 -0.189295  0.465662 -0.083417   \n",
       "3 -0.480851  0.138196  0.012347  0.547477 -0.189295 -0.729610 -0.083417   \n",
       "4 -0.206946  0.100517 -0.261669 -0.356885 -0.189295 -0.628845 -0.013229   \n",
       "\n",
       "         AZ        BC       BD   ...        FE        FI        FL        FR  \\\n",
       "0 -0.173502 -0.038354 -0.405383  ... -0.112922 -2.226608  0.162821 -0.035806   \n",
       "1  0.678919 -0.104787  0.048541  ... -0.311056  0.084542 -0.457925 -0.060566   \n",
       "2  0.519453 -0.104787 -0.071089  ... -0.173811  0.517060  0.198663 -0.051023   \n",
       "3  0.112088 -0.104787 -0.391109  ...  0.058201  1.617160  0.060364 -0.060566   \n",
       "4 -1.649292  1.445139  0.125327  ...  0.520331  1.212850  0.237302  0.896815   \n",
       "\n",
       "         FS        GB        GE        GF        GH        GI  \n",
       "0 -0.250437 -0.940094 -0.410260 -0.655511 -0.948991  0.531241  \n",
       "1  0.113640 -1.145070 -0.410260  0.687893 -0.238862 -0.509218  \n",
       "2  0.597343  1.637944 -0.299210 -0.051850 -0.351743 -0.424754  \n",
       "3 -0.104806 -0.219883 -0.342195 -0.650833  0.858232  1.101332  \n",
       "4 -0.229632 -0.432313  0.099920 -0.318309  1.409422 -0.395228  \n",
       "\n",
       "[5 rows x 52 columns]"
      ]
     },
     "execution_count": 43,
     "metadata": {},
     "output_type": "execute_result"
    }
   ],
   "source": [
    "train.head()"
   ]
  },
  {
   "cell_type": "markdown",
   "metadata": {},
   "source": [
    "# 模型搭建\n",
    "先直接对Class预测"
   ]
  },
  {
   "cell_type": "code",
   "execution_count": 44,
   "metadata": {},
   "outputs": [
    {
     "name": "stdout",
     "output_type": "stream",
     "text": [
      "(493, 52)\n",
      "(493, 5)\n"
     ]
    }
   ],
   "source": [
    "# 数据集分割\n",
    "from sklearn.model_selection import train_test_split\n",
    "from sklearn.metrics import roc_auc_score, accuracy_score, log_loss\n",
    "x_train, x_test, y_train, y_test = train_test_split(train, ytrain, test_size=0.2, random_state=42)\n",
    "scale_pos_weight = 4.712962962962963\n",
    "print(x_train.shape)\n",
    "print(y_train.shape)"
   ]
  },
  {
   "cell_type": "code",
   "execution_count": 45,
   "metadata": {},
   "outputs": [],
   "source": [
    "def ScoreMetric(ytrue, ypred):\n",
    "    nc = np.bincount(ytrue);\n",
    "    return log_loss(ytrue, ypred, sample_weight = 1 / nc[ytrue], eps=1e-15);\n",
    "\n",
    "def lgb_metric(y_true, y_pred):\n",
    "    return 'balanced_log_loss', ScoreMetric(y_true, y_pred), False"
   ]
  },
  {
   "cell_type": "code",
   "execution_count": 46,
   "metadata": {},
   "outputs": [
    {
     "data": {
      "text/plain": [
       "0.967741935483871"
      ]
     },
     "execution_count": 46,
     "metadata": {},
     "output_type": "execute_result"
    }
   ],
   "source": [
    "# # xgb\n",
    "import xgboost as xgb\n",
    "xgb_c = xgb.XGBClassifier(n_estimators=300, learning_rate=0.01, max_depth=4, random_state=42)\n",
    "xgb_c.fit(x_train, y_train['Class'])\n",
    "xgb_pred = xgb_c.predict(x_test)\n",
    "y_pred = xgb_c.predict_proba(x_test)\n",
    "xgb_accuracy = accuracy_score(xgb_pred, y_test['Class'])\n",
    "# xgb_pred\n",
    "xgb_accuracy"
   ]
  },
  {
   "cell_type": "code",
   "execution_count": 47,
   "metadata": {},
   "outputs": [
    {
     "data": {
      "text/plain": [
       "0.3443425278858093"
      ]
     },
     "execution_count": 47,
     "metadata": {},
     "output_type": "execute_result"
    }
   ],
   "source": [
    "p0 = y_pred[:,1]\n",
    "ScoreMetric(y_test['Class'], p0)\n",
    "# p0"
   ]
  },
  {
   "cell_type": "markdown",
   "metadata": {},
   "source": [
    "# 正式的KFold交叉验证 + Optuna模型调参"
   ]
  },
  {
   "cell_type": "code",
   "execution_count": 48,
   "metadata": {},
   "outputs": [],
   "source": [
    "import optuna, tune\n",
    "\n",
    "from optuna.samplers import TPESampler\n",
    "from optuna.visualization import plot_contour\n",
    "from optuna.visualization import plot_edf\n",
    "from optuna.visualization import plot_intermediate_values\n",
    "from optuna.visualization import plot_optimization_history\n",
    "from optuna.visualization import plot_parallel_coordinate\n",
    "from optuna.visualization import plot_param_importances\n",
    "from optuna.visualization import plot_slice\n",
    "\n",
    "from sklearn.model_selection import GridSearchCV, cross_val_score, cross_validate\n",
    "from sklearn.metrics import confusion_matrix, roc_curve, roc_auc_score, log_loss\n",
    "from sklearn.metrics import make_scorer, accuracy_score, log_loss\n",
    "from sklearn.model_selection import ShuffleSplit, StratifiedShuffleSplit\n",
    "\n",
    "# fold\n",
    "from sklearn.model_selection import KFold, StratifiedKFold\n"
   ]
  },
  {
   "cell_type": "code",
   "execution_count": 61,
   "metadata": {},
   "outputs": [
    {
     "name": "stderr",
     "output_type": "stream",
     "text": [
      "[I 2023-08-03 00:48:29,137] A new study created in memory with name: no-name-6667d88e-bde5-4248-a91b-3cd7a0d18253\n",
      "[W 2023-08-03 00:48:30,656] Trial 0 failed with parameters: {'booster': 'gblinear', 'lambda': 0.0006155564318973012, 'alpha': 1.77071686435378e-07, 'subsample': 0.2935967122017216, 'colsample_bytree': 0.23485016730091968, 'learning_rate': 0.2611910822747312, 'n_estimators': 3405} because of the following error: The value nan is not acceptable..\n",
      "[W 2023-08-03 00:48:30,657] Trial 0 failed with value nan.\n",
      "[I 2023-08-03 00:49:54,596] Trial 1 finished with value: 0.3240523844451292 and parameters: {'booster': 'dart', 'lambda': 0.04566054873446119, 'alpha': 4.997040685255803e-07, 'subsample': 0.3090949803242604, 'colsample_bytree': 0.3100427059120603, 'learning_rate': 0.09823025045826593, 'n_estimators': 3099, 'max_depth': 7, 'eta': 0.007476312062252299, 'gamma': 0.000784915956255507, 'grow_policy': 'lossguide', 'sample_type': 'weighted', 'normalize_type': 'tree', 'rate_drop': 0.00012997969313168238, 'skip_drop': 0.0005486767416600901}. Best is trial 1 with value: 0.3240523844451292.\n",
      "[I 2023-08-03 00:49:56,733] Trial 2 finished with value: 0.6931494474411013 and parameters: {'booster': 'gblinear', 'lambda': 3.3144597077512234e-08, 'alpha': 0.39001768308022033, 'subsample': 0.7793792198447358, 'colsample_bytree': 0.6850384088698768, 'learning_rate': 0.09833799306027749, 'n_estimators': 1390}. Best is trial 1 with value: 0.3240523844451292.\n",
      "[I 2023-08-03 00:49:59,496] Trial 3 finished with value: 0.3370086753933716 and parameters: {'booster': 'gbtree', 'lambda': 9.149877525022172e-05, 'alpha': 1.8841183049085085e-08, 'subsample': 0.7455922412472693, 'colsample_bytree': 0.3552679889600102, 'learning_rate': 0.20213146246265476, 'n_estimators': 2247, 'max_depth': 9, 'eta': 0.043664735929796326, 'gamma': 3.0118659882617117e-07, 'grow_policy': 'depthwise'}. Best is trial 1 with value: 0.3240523844451292.\n",
      "[I 2023-08-03 00:50:03,399] Trial 4 finished with value: 0.2995289085114042 and parameters: {'booster': 'gbtree', 'lambda': 0.23713402899336497, 'alpha': 5.1043449526824996e-08, 'subsample': 0.3175897174514871, 'colsample_bytree': 0.22713637334632286, 'learning_rate': 0.10434579592134664, 'n_estimators': 2555, 'max_depth': 5, 'eta': 0.3063462210622082, 'gamma': 7.145401117237584e-06, 'grow_policy': 'lossguide'}. Best is trial 4 with value: 0.2995289085114042.\n",
      "[I 2023-08-03 00:50:05,542] Trial 5 finished with value: 0.5060718862819311 and parameters: {'booster': 'gblinear', 'lambda': 0.7854083114461319, 'alpha': 0.015064619068942013, 'subsample': 0.31922940892050344, 'colsample_bytree': 0.20331327027416146, 'learning_rate': 0.2464838142519019, 'n_estimators': 3828}. Best is trial 4 with value: 0.2995289085114042.\n",
      "[W 2023-08-03 00:50:07,417] Trial 6 failed with parameters: {'booster': 'gblinear', 'lambda': 7.374385355858303e-06, 'alpha': 8.451863533931625e-08, 'subsample': 0.7178620555253561, 'colsample_bytree': 0.5739788760965348, 'learning_rate': 0.10596042720726825, 'n_estimators': 1254} because of the following error: The value nan is not acceptable..\n",
      "[W 2023-08-03 00:50:07,419] Trial 6 failed with value nan.\n",
      "[I 2023-08-03 00:51:02,278] Trial 7 finished with value: 0.38163267495883035 and parameters: {'booster': 'dart', 'lambda': 0.0012602588933700108, 'alpha': 0.12522814303053625, 'subsample': 0.4833289550971696, 'colsample_bytree': 0.27175654756298107, 'learning_rate': 0.21684098829466855, 'n_estimators': 4043, 'max_depth': 9, 'eta': 0.2055424552015074, 'gamma': 8.919998285789817e-05, 'grow_policy': 'depthwise', 'sample_type': 'weighted', 'normalize_type': 'forest', 'rate_drop': 3.272260339283011e-06, 'skip_drop': 0.00011710232809812825}. Best is trial 4 with value: 0.2995289085114042.\n",
      "[I 2023-08-03 00:51:07,201] Trial 8 finished with value: 0.3007843542192549 and parameters: {'booster': 'gbtree', 'lambda': 0.011076667222301087, 'alpha': 6.76683090208453e-07, 'subsample': 0.24618794589727583, 'colsample_bytree': 0.3738508717482608, 'learning_rate': 0.05675417330366128, 'n_estimators': 4719, 'max_depth': 13, 'eta': 0.07947147424653743, 'gamma': 0.0936881625557718, 'grow_policy': 'depthwise'}. Best is trial 4 with value: 0.2995289085114042.\n",
      "[I 2023-08-03 00:51:10,747] Trial 9 finished with value: 0.2909800835098332 and parameters: {'booster': 'gbtree', 'lambda': 0.14747907308930824, 'alpha': 3.499675682069358e-06, 'subsample': 0.2660311547166061, 'colsample_bytree': 0.33676109752516503, 'learning_rate': 0.13386125870161433, 'n_estimators': 4272, 'max_depth': 14, 'eta': 0.0010491954332267905, 'gamma': 0.0001218929030838671, 'grow_policy': 'depthwise'}. Best is trial 9 with value: 0.2909800835098332.\n",
      "[I 2023-08-03 00:52:04,599] Trial 10 finished with value: 0.6929376618588035 and parameters: {'booster': 'dart', 'lambda': 3.8514428343995194e-06, 'alpha': 0.00014135949140057862, 'subsample': 0.6218113753371068, 'colsample_bytree': 0.41817776142757646, 'learning_rate': 0.2918168039890786, 'n_estimators': 4850, 'max_depth': 5, 'eta': 0.03102740950912839, 'gamma': 2.5528569432507475e-06, 'grow_policy': 'depthwise', 'sample_type': 'uniform', 'normalize_type': 'forest', 'rate_drop': 0.18455554056364123, 'skip_drop': 8.25078224477252e-07}. Best is trial 9 with value: 0.2909800835098332.\n",
      "[I 2023-08-03 00:53:26,301] Trial 11 finished with value: 0.3255803872750313 and parameters: {'booster': 'dart', 'lambda': 8.638576272048768e-07, 'alpha': 0.002382782376120373, 'subsample': 0.6569717691972305, 'colsample_bytree': 0.34258252639543985, 'learning_rate': 0.22118274109743927, 'n_estimators': 2471, 'max_depth': 11, 'eta': 0.07954064937683927, 'gamma': 0.00019328469778518898, 'grow_policy': 'lossguide', 'sample_type': 'uniform', 'normalize_type': 'forest', 'rate_drop': 0.002633388257869831, 'skip_drop': 1.3573837053629966e-08}. Best is trial 9 with value: 0.2909800835098332.\n",
      "[I 2023-08-03 00:53:36,506] Trial 12 finished with value: 0.31181926094121953 and parameters: {'booster': 'gbtree', 'lambda': 0.0034932975598574167, 'alpha': 1.2779726522053688e-05, 'subsample': 0.21077712536889187, 'colsample_bytree': 0.5334756702015367, 'learning_rate': 0.021230307988743063, 'n_estimators': 3618, 'max_depth': 16, 'eta': 0.0012683907946474773, 'gamma': 1.2545539914747807e-08, 'grow_policy': 'depthwise'}. Best is trial 9 with value: 0.2909800835098332.\n",
      "[I 2023-08-03 00:53:41,268] Trial 13 finished with value: 0.27965834006756846 and parameters: {'booster': 'gbtree', 'lambda': 0.417107986487205, 'alpha': 2.1779799665954154e-08, 'subsample': 0.38873464129632745, 'colsample_bytree': 0.21495916168907625, 'learning_rate': 0.14812296886138437, 'n_estimators': 1803, 'max_depth': 1, 'eta': 0.6892949883891517, 'gamma': 8.350081860959581e-06, 'grow_policy': 'lossguide'}. Best is trial 13 with value: 0.27965834006756846.\n",
      "[I 2023-08-03 00:53:45,612] Trial 14 finished with value: 0.28013980841773395 and parameters: {'booster': 'gbtree', 'lambda': 0.4121340382996405, 'alpha': 1.3895322626754085e-08, 'subsample': 0.44771843958730884, 'colsample_bytree': 0.20199126013506474, 'learning_rate': 0.15449776546669308, 'n_estimators': 1313, 'max_depth': 1, 'eta': 0.9956055660659043, 'gamma': 0.008584130528569368, 'grow_policy': 'lossguide'}. Best is trial 13 with value: 0.27965834006756846.\n",
      "[I 2023-08-03 00:53:50,741] Trial 15 finished with value: 0.29847998310664636 and parameters: {'booster': 'gbtree', 'lambda': 0.9173051287378192, 'alpha': 1.4229560455349071e-08, 'subsample': 0.4390684528877436, 'colsample_bytree': 0.2039791508922198, 'learning_rate': 0.1568816087813751, 'n_estimators': 1008, 'max_depth': 1, 'eta': 0.8363022872432643, 'gamma': 0.01903679286488799, 'grow_policy': 'lossguide'}. Best is trial 13 with value: 0.27965834006756846.\n",
      "[I 2023-08-03 00:53:54,699] Trial 16 finished with value: 0.3076300037038121 and parameters: {'booster': 'gbtree', 'lambda': 0.023094270382077012, 'alpha': 1.4031048084748467e-07, 'subsample': 0.40578864889491817, 'colsample_bytree': 0.43650608206598485, 'learning_rate': 0.1689185280411662, 'n_estimators': 1732, 'max_depth': 2, 'eta': 0.9910365843034439, 'gamma': 0.657857340144137, 'grow_policy': 'lossguide'}. Best is trial 13 with value: 0.27965834006756846.\n",
      "[I 2023-08-03 00:53:58,068] Trial 17 finished with value: 0.2838254718640619 and parameters: {'booster': 'gbtree', 'lambda': 0.000797597919950226, 'alpha': 1.0491059315817743e-08, 'subsample': 0.537507714215205, 'colsample_bytree': 0.26925936990854127, 'learning_rate': 0.15296212671873283, 'n_estimators': 1812, 'max_depth': 3, 'eta': 0.4138996985972763, 'gamma': 0.00472193008037005, 'grow_policy': 'lossguide'}. Best is trial 13 with value: 0.27965834006756846.\n",
      "[W 2023-08-03 00:54:01,720] Trial 18 failed with parameters: {'booster': 'gblinear', 'lambda': 0.0693785917544157, 'alpha': 3.986116171665494e-07, 'subsample': 0.3922038411547503, 'colsample_bytree': 0.5442136805033554, 'learning_rate': 0.18108368787612047, 'n_estimators': 1048} because of the following error: The value nan is not acceptable..\n",
      "[W 2023-08-03 00:54:01,722] Trial 18 failed with value nan.\n",
      "[W 2023-08-03 00:54:05,167] Trial 19 failed with parameters: {'booster': 'gblinear', 'lambda': 0.0731438502966732, 'alpha': 1.572956359059058e-07, 'subsample': 0.3749784586511403, 'colsample_bytree': 0.2733727707975002, 'learning_rate': 0.17701580962643249, 'n_estimators': 1190} because of the following error: The value nan is not acceptable..\n",
      "[W 2023-08-03 00:54:05,169] Trial 19 failed with value nan.\n",
      "[W 2023-08-03 00:54:08,185] Trial 20 failed with parameters: {'booster': 'gblinear', 'lambda': 0.09230402748102132, 'alpha': 2.0131331692145777e-07, 'subsample': 0.3813773217293739, 'colsample_bytree': 0.2815833789975484, 'learning_rate': 0.1831335927229461, 'n_estimators': 1035} because of the following error: The value nan is not acceptable..\n",
      "[W 2023-08-03 00:54:08,186] Trial 20 failed with value nan.\n",
      "[W 2023-08-03 00:54:11,455] Trial 21 failed with parameters: {'booster': 'gblinear', 'lambda': 0.094139072340034, 'alpha': 1.5592380387138683e-07, 'subsample': 0.37891240908606233, 'colsample_bytree': 0.2703302176006775, 'learning_rate': 0.18915487077863263, 'n_estimators': 1010} because of the following error: The value nan is not acceptable..\n",
      "[W 2023-08-03 00:54:11,456] Trial 21 failed with value nan.\n",
      "[W 2023-08-03 00:54:14,785] Trial 22 failed with parameters: {'booster': 'gblinear', 'lambda': 0.05561207249091989, 'alpha': 2.114083841703947e-07, 'subsample': 0.38308740364521066, 'colsample_bytree': 0.27024941190511553, 'learning_rate': 0.19265772698285422, 'n_estimators': 1116} because of the following error: The value nan is not acceptable..\n",
      "[W 2023-08-03 00:54:14,786] Trial 22 failed with value nan.\n",
      "[W 2023-08-03 00:54:18,165] Trial 23 failed with parameters: {'booster': 'gblinear', 'lambda': 0.06540691712564732, 'alpha': 2.1083278362965303e-07, 'subsample': 0.39091937027705304, 'colsample_bytree': 0.2853912453063949, 'learning_rate': 0.1854504740602411, 'n_estimators': 1034} because of the following error: The value nan is not acceptable..\n",
      "[W 2023-08-03 00:54:18,166] Trial 23 failed with value nan.\n",
      "[W 2023-08-03 00:54:21,623] Trial 24 failed with parameters: {'booster': 'gblinear', 'lambda': 0.063724619848865, 'alpha': 1.9794668624928494e-07, 'subsample': 0.37754001504620677, 'colsample_bytree': 0.26913348925498704, 'learning_rate': 0.18822118232107551, 'n_estimators': 1182} because of the following error: The value nan is not acceptable..\n",
      "[W 2023-08-03 00:54:21,624] Trial 24 failed with value nan.\n",
      "[W 2023-08-03 00:54:24,913] Trial 25 failed with parameters: {'booster': 'gblinear', 'lambda': 0.07964846579350895, 'alpha': 1.1598507217429814e-07, 'subsample': 0.38041199309331686, 'colsample_bytree': 0.27557708627759947, 'learning_rate': 0.17811276576094215, 'n_estimators': 1027} because of the following error: The value nan is not acceptable..\n",
      "[W 2023-08-03 00:54:24,914] Trial 25 failed with value nan.\n",
      "[W 2023-08-03 00:54:28,021] Trial 26 failed with parameters: {'booster': 'gblinear', 'lambda': 0.07391307184699411, 'alpha': 1.797750493310095e-07, 'subsample': 0.40987169283002567, 'colsample_bytree': 0.26999723107384344, 'learning_rate': 0.17336870410608793, 'n_estimators': 1060} because of the following error: The value nan is not acceptable..\n",
      "[W 2023-08-03 00:54:28,022] Trial 26 failed with value nan.\n",
      "[W 2023-08-03 00:54:31,691] Trial 27 failed with parameters: {'booster': 'gblinear', 'lambda': 0.04781387128803063, 'alpha': 1.983785607338339e-07, 'subsample': 0.3927918955276556, 'colsample_bytree': 0.2716495252071489, 'learning_rate': 0.1825565782856371, 'n_estimators': 1040} because of the following error: The value nan is not acceptable..\n",
      "[W 2023-08-03 00:54:31,692] Trial 27 failed with value nan.\n",
      "[W 2023-08-03 00:54:36,044] Trial 28 failed with parameters: {'booster': 'gblinear', 'lambda': 0.0649208701421586, 'alpha': 1.6619947320579606e-07, 'subsample': 0.3835095054667427, 'colsample_bytree': 0.25889268881636535, 'learning_rate': 0.1266960186907768, 'n_estimators': 1083} because of the following error: The value nan is not acceptable..\n",
      "[W 2023-08-03 00:54:36,044] Trial 28 failed with value nan.\n",
      "[W 2023-08-03 00:54:39,464] Trial 29 failed with parameters: {'booster': 'gblinear', 'lambda': 0.06559636197815415, 'alpha': 2.0422422887994586e-07, 'subsample': 0.3904977188995572, 'colsample_bytree': 0.2700318134846616, 'learning_rate': 0.1847449135366039, 'n_estimators': 1209} because of the following error: The value nan is not acceptable..\n",
      "[W 2023-08-03 00:54:39,465] Trial 29 failed with value nan.\n",
      "[W 2023-08-03 00:54:42,892] Trial 30 failed with parameters: {'booster': 'gblinear', 'lambda': 0.05371262111093716, 'alpha': 2.2227973948674998e-07, 'subsample': 0.39219132757651876, 'colsample_bytree': 0.27058312846080074, 'learning_rate': 0.18132118932597413, 'n_estimators': 1036} because of the following error: The value nan is not acceptable..\n",
      "[W 2023-08-03 00:54:42,894] Trial 30 failed with value nan.\n",
      "[W 2023-08-03 00:54:46,194] Trial 31 failed with parameters: {'booster': 'gblinear', 'lambda': 0.05198603935245013, 'alpha': 2.1535404221037202e-07, 'subsample': 0.42052488548264605, 'colsample_bytree': 0.2774477694259505, 'learning_rate': 0.19084235843763872, 'n_estimators': 1013} because of the following error: The value nan is not acceptable..\n",
      "[W 2023-08-03 00:54:46,195] Trial 31 failed with value nan.\n",
      "[W 2023-08-03 00:54:49,121] Trial 32 failed with parameters: {'booster': 'gblinear', 'lambda': 0.0796062250713901, 'alpha': 1.7379241662162557e-07, 'subsample': 0.3698504442059162, 'colsample_bytree': 0.271425410948133, 'learning_rate': 0.18597825483980215, 'n_estimators': 1176} because of the following error: The value nan is not acceptable..\n",
      "[W 2023-08-03 00:54:49,123] Trial 32 failed with value nan.\n",
      "[W 2023-08-03 00:54:52,181] Trial 33 failed with parameters: {'booster': 'gblinear', 'lambda': 0.06101089690752621, 'alpha': 1.9992212976062195e-07, 'subsample': 0.3951458491368352, 'colsample_bytree': 0.27162230109894087, 'learning_rate': 0.18119197510132254, 'n_estimators': 1029} because of the following error: The value nan is not acceptable..\n",
      "[W 2023-08-03 00:54:52,182] Trial 33 failed with value nan.\n",
      "[W 2023-08-03 00:54:55,496] Trial 34 failed with parameters: {'booster': 'gblinear', 'lambda': 0.06981437434818197, 'alpha': 3.268585181411895e-07, 'subsample': 0.39186666305897544, 'colsample_bytree': 0.2789656185624474, 'learning_rate': 0.1812299436135627, 'n_estimators': 1012} because of the following error: The value nan is not acceptable..\n",
      "[W 2023-08-03 00:54:55,497] Trial 34 failed with value nan.\n",
      "[W 2023-08-03 00:54:59,000] Trial 35 failed with parameters: {'booster': 'gblinear', 'lambda': 0.056536052877908485, 'alpha': 2.0376333316042416e-07, 'subsample': 0.3882260914473908, 'colsample_bytree': 0.26360053418341234, 'learning_rate': 0.17346594158552942, 'n_estimators': 1101} because of the following error: The value nan is not acceptable..\n",
      "[W 2023-08-03 00:54:59,001] Trial 35 failed with value nan.\n",
      "[W 2023-08-03 00:55:02,289] Trial 36 failed with parameters: {'booster': 'gblinear', 'lambda': 0.062229650958204784, 'alpha': 2.3044386340868302e-07, 'subsample': 0.3950339098351799, 'colsample_bytree': 0.27494930907919646, 'learning_rate': 0.18063175144918647, 'n_estimators': 1054} because of the following error: The value nan is not acceptable..\n",
      "[W 2023-08-03 00:55:02,290] Trial 36 failed with value nan.\n",
      "[W 2023-08-03 00:55:05,492] Trial 37 failed with parameters: {'booster': 'gblinear', 'lambda': 0.06443708243954291, 'alpha': 2.361628272921094e-07, 'subsample': 0.3869871546681816, 'colsample_bytree': 0.2630849723653867, 'learning_rate': 0.18654520972906413, 'n_estimators': 1021} because of the following error: The value nan is not acceptable..\n",
      "[W 2023-08-03 00:55:05,493] Trial 37 failed with value nan.\n",
      "[W 2023-08-03 00:55:09,699] Trial 38 failed with parameters: {'booster': 'gblinear', 'lambda': 0.05183074419687068, 'alpha': 2.59298452885984e-07, 'subsample': 0.3888797864843479, 'colsample_bytree': 0.2616580762445485, 'learning_rate': 0.1749754645036712, 'n_estimators': 1046} because of the following error: The value nan is not acceptable..\n",
      "[W 2023-08-03 00:55:09,700] Trial 38 failed with value nan.\n",
      "[W 2023-08-03 00:55:12,685] Trial 39 failed with parameters: {'booster': 'gblinear', 'lambda': 0.08656755870722452, 'alpha': 1.0871421448309073e-07, 'subsample': 0.3774438420601662, 'colsample_bytree': 0.27290745214565976, 'learning_rate': 0.1878786620916691, 'n_estimators': 1145} because of the following error: The value nan is not acceptable..\n",
      "[W 2023-08-03 00:55:12,686] Trial 39 failed with value nan.\n",
      "[W 2023-08-03 00:55:15,956] Trial 40 failed with parameters: {'booster': 'gblinear', 'lambda': 0.06420095963393088, 'alpha': 2.1210226789279368e-07, 'subsample': 0.40663430060350997, 'colsample_bytree': 0.26745503715871244, 'learning_rate': 0.17936121147353937, 'n_estimators': 1149} because of the following error: The value nan is not acceptable..\n",
      "[W 2023-08-03 00:55:15,957] Trial 40 failed with value nan.\n",
      "[W 2023-08-03 00:55:19,191] Trial 41 failed with parameters: {'booster': 'gblinear', 'lambda': 0.0801907347888316, 'alpha': 1.8952188425458173e-07, 'subsample': 0.4013894259709925, 'colsample_bytree': 0.2790918662634193, 'learning_rate': 0.1783607871853368, 'n_estimators': 1071} because of the following error: The value nan is not acceptable..\n",
      "[W 2023-08-03 00:55:19,192] Trial 41 failed with value nan.\n",
      "[W 2023-08-03 00:55:22,763] Trial 42 failed with parameters: {'booster': 'gblinear', 'lambda': 0.057264195562981755, 'alpha': 1.4405266011626688e-07, 'subsample': 0.38128303734084135, 'colsample_bytree': 0.26259579429833846, 'learning_rate': 0.1806561530156357, 'n_estimators': 1017} because of the following error: The value nan is not acceptable..\n",
      "[W 2023-08-03 00:55:22,764] Trial 42 failed with value nan.\n",
      "[I 2023-08-03 00:55:25,920] Trial 43 finished with value: 0.40261826878476076 and parameters: {'booster': 'gblinear', 'lambda': 0.10528817029099283, 'alpha': 2.4486942615254076e-07, 'subsample': 0.3795480519509533, 'colsample_bytree': 0.27148887546810974, 'learning_rate': 0.17959211069043576, 'n_estimators': 1000}. Best is trial 13 with value: 0.27965834006756846.\n",
      "[I 2023-08-03 00:55:29,358] Trial 44 finished with value: 0.28948848815024225 and parameters: {'booster': 'gbtree', 'lambda': 0.020804333591208434, 'alpha': 2.572831031072496e-06, 'subsample': 0.5014479932290553, 'colsample_bytree': 0.5243852762586589, 'learning_rate': 0.13023350321073196, 'n_estimators': 1806, 'max_depth': 4, 'eta': 0.9356781577151607, 'gamma': 0.0032515083496738296, 'grow_policy': 'lossguide'}. Best is trial 13 with value: 0.27965834006756846.\n",
      "[I 2023-08-03 00:55:34,021] Trial 45 finished with value: 0.29098487340274704 and parameters: {'booster': 'gbtree', 'lambda': 0.9319729241110194, 'alpha': 1.0680130532830277e-07, 'subsample': 0.37158153245429115, 'colsample_bytree': 0.20149040217745265, 'learning_rate': 0.1896219290480559, 'n_estimators': 3179, 'max_depth': 1, 'eta': 0.27476735674610353, 'gamma': 0.034295462914417006, 'grow_policy': 'lossguide'}. Best is trial 13 with value: 0.27965834006756846.\n",
      "[W 2023-08-03 00:55:35,641] Trial 46 failed with parameters: {'booster': 'gblinear', 'lambda': 0.0002872544851850677, 'alpha': 2.791105927770802e-05, 'subsample': 0.4319168247456615, 'colsample_bytree': 0.28347396074984194, 'learning_rate': 0.13615529066291143, 'n_estimators': 1460} because of the following error: The value nan is not acceptable..\n",
      "[W 2023-08-03 00:55:35,642] Trial 46 failed with value nan.\n",
      "[W 2023-08-03 00:55:38,162] Trial 47 failed with parameters: {'booster': 'gblinear', 'lambda': 0.00639670162215339, 'alpha': 5.064271902053705e-05, 'subsample': 0.43004059297411373, 'colsample_bytree': 0.28788810497915585, 'learning_rate': 0.1352347471685676, 'n_estimators': 2155} because of the following error: The value nan is not acceptable..\n",
      "[W 2023-08-03 00:55:38,163] Trial 47 failed with value nan.\n",
      "[I 2023-08-03 00:55:41,074] Trial 48 finished with value: 0.31703369955029786 and parameters: {'booster': 'gbtree', 'lambda': 0.00021918032080212252, 'alpha': 7.233273816334216e-05, 'subsample': 0.4406725359621376, 'colsample_bytree': 0.281077026950552, 'learning_rate': 0.1329142620245224, 'n_estimators': 2123, 'max_depth': 7, 'eta': 0.48202722604869386, 'gamma': 2.0637709843312923e-05, 'grow_policy': 'lossguide'}. Best is trial 13 with value: 0.27965834006756846.\n",
      "[W 2023-08-03 00:55:45,076] Trial 49 failed with parameters: {'booster': 'gblinear', 'lambda': 0.010166387782154626, 'alpha': 5.508154852786474e-08, 'subsample': 0.3483729447038271, 'colsample_bytree': 0.42804730828481363, 'learning_rate': 0.060177214843917165, 'n_estimators': 1414} because of the following error: The value nan is not acceptable..\n",
      "[W 2023-08-03 00:55:45,077] Trial 49 failed with value nan.\n",
      "[W 2023-08-03 00:55:47,540] Trial 50 failed with parameters: {'booster': 'gblinear', 'lambda': 0.006473643976535996, 'alpha': 1.0103238717882708e-07, 'subsample': 0.5565165404212746, 'colsample_bytree': 0.44400247339773513, 'learning_rate': 0.2390339455749294, 'n_estimators': 1486} because of the following error: The value nan is not acceptable..\n",
      "[W 2023-08-03 00:55:47,541] Trial 50 failed with value nan.\n",
      "[W 2023-08-03 00:55:51,122] Trial 51 failed with parameters: {'booster': 'gblinear', 'lambda': 0.007177640570709673, 'alpha': 5.979730677861852e-08, 'subsample': 0.5422894402965337, 'colsample_bytree': 0.46449221108706523, 'learning_rate': 0.07854838490588618, 'n_estimators': 1334} because of the following error: The value nan is not acceptable..\n",
      "[W 2023-08-03 00:55:51,123] Trial 51 failed with value nan.\n",
      "[W 2023-08-03 00:55:53,424] Trial 52 failed with parameters: {'booster': 'gblinear', 'lambda': 0.008156514829032154, 'alpha': 4.461127516730913e-08, 'subsample': 0.5370072428802989, 'colsample_bytree': 0.4624960518875938, 'learning_rate': 0.23899866188194951, 'n_estimators': 1527} because of the following error: The value nan is not acceptable..\n",
      "[W 2023-08-03 00:55:53,425] Trial 52 failed with value nan.\n",
      "[W 2023-08-03 00:55:56,756] Trial 53 failed with parameters: {'booster': 'gblinear', 'lambda': 0.0048068758197171635, 'alpha': 5.9517644270848793e-08, 'subsample': 0.5557996776501826, 'colsample_bytree': 0.45858766947951, 'learning_rate': 0.06842643101313016, 'n_estimators': 1408} because of the following error: The value nan is not acceptable..\n",
      "[W 2023-08-03 00:55:56,757] Trial 53 failed with value nan.\n",
      "[W 2023-08-03 00:56:00,414] Trial 54 failed with parameters: {'booster': 'gblinear', 'lambda': 0.007086018754461703, 'alpha': 7.04037298100204e-08, 'subsample': 0.5695404338067183, 'colsample_bytree': 0.4622545472958074, 'learning_rate': 0.07896048588574422, 'n_estimators': 1446} because of the following error: The value nan is not acceptable..\n",
      "[W 2023-08-03 00:56:00,415] Trial 54 failed with value nan.\n",
      "[W 2023-08-03 00:56:03,515] Trial 55 failed with parameters: {'booster': 'gblinear', 'lambda': 0.0065671529782368445, 'alpha': 8.299174424788573e-08, 'subsample': 0.5481571791332024, 'colsample_bytree': 0.44499442106447984, 'learning_rate': 0.061439670713865746, 'n_estimators': 1420} because of the following error: The value nan is not acceptable..\n",
      "[W 2023-08-03 00:56:03,516] Trial 55 failed with value nan.\n",
      "[W 2023-08-03 00:56:06,915] Trial 56 failed with parameters: {'booster': 'gblinear', 'lambda': 0.006207143221210499, 'alpha': 7.571194770090177e-08, 'subsample': 0.5665945194487826, 'colsample_bytree': 0.4547701279900018, 'learning_rate': 0.06088832721319179, 'n_estimators': 1452} because of the following error: The value nan is not acceptable..\n",
      "[W 2023-08-03 00:56:06,916] Trial 56 failed with value nan.\n",
      "[W 2023-08-03 00:56:10,448] Trial 57 failed with parameters: {'booster': 'gblinear', 'lambda': 0.006293413876914203, 'alpha': 5.68554384422063e-08, 'subsample': 0.5506066970080351, 'colsample_bytree': 0.4198458144526629, 'learning_rate': 0.07645415310674629, 'n_estimators': 1472} because of the following error: The value nan is not acceptable..\n",
      "[W 2023-08-03 00:56:10,449] Trial 57 failed with value nan.\n",
      "[W 2023-08-03 00:56:13,965] Trial 58 failed with parameters: {'booster': 'gblinear', 'lambda': 0.004988005957218006, 'alpha': 5.7254467208066686e-08, 'subsample': 0.5278615059586681, 'colsample_bytree': 0.4654598184031938, 'learning_rate': 0.06389198827078796, 'n_estimators': 1380} because of the following error: The value nan is not acceptable..\n",
      "[W 2023-08-03 00:56:13,966] Trial 58 failed with value nan.\n",
      "[W 2023-08-03 00:56:19,148] Trial 59 failed with parameters: {'booster': 'gblinear', 'lambda': 0.007112408643284345, 'alpha': 5.5924740904127484e-08, 'subsample': 0.5580249937025801, 'colsample_bytree': 0.46933323707419555, 'learning_rate': 0.07279891294812633, 'n_estimators': 2744} because of the following error: The value nan is not acceptable..\n",
      "[W 2023-08-03 00:56:19,149] Trial 59 failed with value nan.\n",
      "[W 2023-08-03 00:56:21,881] Trial 60 failed with parameters: {'booster': 'gblinear', 'lambda': 0.00798983827683261, 'alpha': 1.11849883417554e-08, 'subsample': 0.5726648252169472, 'colsample_bytree': 0.4569194682732165, 'learning_rate': 0.18266693520925914, 'n_estimators': 1437} because of the following error: The value nan is not acceptable..\n",
      "[W 2023-08-03 00:56:21,882] Trial 60 failed with value nan.\n"
     ]
    }
   ],
   "source": [
    "def objective(trial):\n",
    "    # dtrain = xgb.DMatrix(train, label=ytrain['Class'])\n",
    "    '''\n",
    "    Value: 0.2754406155516159\n",
    "    Params: \n",
    "        booster: gbtree\n",
    "        lambda: 0.24302130237467398\n",
    "        alpha: 2.2108795894332237e-08\n",
    "        subsample: 0.7887998109844777\n",
    "        colsample_bytree: 0.4493748858737539\n",
    "        max_depth: 2\n",
    "        eta: 0.29846902305256606\n",
    "        gamma: 1.4539411503015061e-05\n",
    "        grow_policy: lossguide\n",
    "    '''\n",
    "    param = {\n",
    "        \"verbosity\": 0,\n",
    "        \"objective\": \"binary:logistic\",\n",
    "        \"booster\": trial.suggest_categorical(\"booster\", [\"gbtree\", \"gblinear\", \"dart\"]),\n",
    "        \"lambda\": trial.suggest_float(\"lambda\", 1e-8, 1.0, log=True),\n",
    "        \"alpha\": trial.suggest_float(\"alpha\", 1e-8, 1.0, log=True),\n",
    "        \"subsample\": trial.suggest_float(\"subsample\", 0.2, 0.8),\n",
    "        \"colsample_bytree\": trial.suggest_float(\"colsample_bytree\", 0.2, 0.8),\n",
    "        'scale_pos_weight' : scale_pos_weight,\n",
    "        'random_state' : 42,\n",
    "        \"learning_rate\": trial.suggest_float(\"learning_rate\", 0.01, 0.3),\n",
    "        \"n_estimators\": trial.suggest_int(\"n_estimators\", 1000, 5000),\n",
    "        # \"early_stopping_rounds\": trial.suggest_int(\"early_stopping_rounds\", 100, 300),\n",
    "    }\n",
    "\n",
    "    if param[\"booster\"] == \"gbtree\" or param[\"booster\"] == \"dart\":\n",
    "        param[\"max_depth\"] = trial.suggest_int(\"max_depth\", 1, 16)\n",
    "        param[\"eta\"] = trial.suggest_float(\"eta\", 1e-3, 1.0, log=True)\n",
    "        param[\"gamma\"] = trial.suggest_float(\"gamma\", 1e-8, 1.0, log=True)\n",
    "        param[\"grow_policy\"] = trial.suggest_categorical(\"grow_policy\", [\"depthwise\", \"lossguide\"])\n",
    "    if param[\"booster\"] == \"dart\":\n",
    "        param[\"sample_type\"] = trial.suggest_categorical(\"sample_type\", [\"uniform\", \"weighted\"])\n",
    "        param[\"normalize_type\"] = trial.suggest_categorical(\"normalize_type\", [\"tree\", \"forest\"])\n",
    "        param[\"rate_drop\"] = trial.suggest_float(\"rate_drop\", 1e-8, 1.0, log=True)\n",
    "        param[\"skip_drop\"] = trial.suggest_float(\"skip_drop\", 1e-8, 1.0, log=True)\n",
    "\n",
    "    skf = StratifiedKFold(n_splits=10, shuffle=True, random_state=42)\n",
    "    log_loss_scores = []\n",
    "    # 划分验证集\n",
    "    for train_index, val_index in skf.split(train, ytrain['Class']):\n",
    "        x_train_, x_val = train.iloc[train_index], train.iloc[val_index]\n",
    "        y_train_, y_val = ytrain['Class'].iloc[train_index], ytrain['Class'].iloc[val_index]\n",
    "        classifier = xgb.XGBClassifier(**param)\n",
    "        classifier.fit(x_train_, y_train_, eval_set=[(x_val, y_val)], verbose=False, early_stopping_rounds=200)\n",
    "        y_pred_proba = classifier.predict_proba(x_val)[:, 1]\n",
    "        log_loss_scores.append(ScoreMetric(y_val, y_pred_proba))\n",
    "    return np.mean(log_loss_scores)\n",
    "\n",
    "if __name__ == \"__main__\":\n",
    "    sampler = TPESampler(seed=42)\n",
    "    pruner = optuna.pruners.MedianPruner(n_warmup_steps=10)\n",
    "    study = optuna.create_study(pruner=pruner, direction=\"minimize\", sampler=sampler)\n",
    "    study.optimize(objective, n_trials=500)\n",
    "\n",
    "    print(\"Number of finished trials: {}\".format(len(study.trials)))\n",
    "    print(\"Best trial:\")\n",
    "    trial = study.best_trial\n",
    "    print(\"  Value: {}\".format(trial.value))\n",
    "    print(\"  Params: \")\n",
    "    for key, value in trial.params.items():\n",
    "        print(\"    {}: {}\".format(key, value))"
   ]
  },
  {
   "cell_type": "code",
   "execution_count": null,
   "metadata": {},
   "outputs": [
    {
     "data": {
      "text/plain": [
       "0.9193548387096774"
      ]
     },
     "execution_count": 38,
     "metadata": {},
     "output_type": "execute_result"
    }
   ],
   "source": [
    "model = xgb.XGBClassifier(**trial.params)\n",
    "model.fit(x_train, y_train['Class'])\n",
    "y_pred = model.predict(x_test)\n",
    "y_pred_proba = model.predict_proba(x_test)[:, 1]\n",
    "ScoreMetric(y_test['Class'], y_pred_proba)\n",
    "accuracy_score(y_pred, y_test['Class'])"
   ]
  },
  {
   "cell_type": "code",
   "execution_count": null,
   "metadata": {},
   "outputs": [
    {
     "data": {
      "application/vnd.plotly.v1+json": {
       "config": {
        "plotlyServerURL": "https://plot.ly"
       },
       "data": [
        {
         "mode": "markers",
         "name": "Objective Value",
         "type": "scatter",
         "x": [
          1,
          4,
          5,
          7,
          8,
          9,
          10,
          11,
          14,
          16,
          17,
          18,
          19,
          20,
          21,
          22,
          23,
          24,
          25,
          27,
          28,
          29,
          30,
          31,
          32,
          33,
          34,
          35,
          36,
          37,
          38,
          39,
          40,
          41,
          42,
          43,
          44,
          45,
          46,
          53,
          79,
          80,
          81,
          82,
          94,
          109,
          110,
          123,
          147,
          149,
          150,
          151,
          152,
          153,
          154,
          155,
          156,
          164,
          211,
          217,
          280,
          281,
          300,
          305,
          317,
          368,
          392,
          393,
          394,
          429,
          430,
          431,
          432,
          433,
          437,
          472,
          475,
          489,
          494,
          498
         ],
         "y": [
          0.519294173810417,
          0.2964243249258402,
          0.6570908050801666,
          0.4021228281661481,
          0.31778231346967856,
          0.3317594289404727,
          0.2938234302905271,
          0.3472449609833941,
          0.3334530464948816,
          0.4217699732173089,
          0.43589788194195717,
          0.3229189213984373,
          0.3542707419664452,
          0.3398362682368953,
          0.2920119083395599,
          0.31154408063557765,
          0.39872285932103935,
          0.3101256523003201,
          0.43668507178111843,
          0.41990007478418934,
          0.29767889072399917,
          0.30025030507507305,
          0.29391292492936805,
          0.32030295395856234,
          0.3039013274370917,
          0.3195390049577525,
          0.30176311071558354,
          0.2882956407734144,
          0.31125284415023186,
          0.4461247292534196,
          0.4139389856410277,
          0.31233148115217735,
          0.32297639589755683,
          0.32952753172441324,
          0.30001151074951105,
          0.27591645194003767,
          0.3110916995289982,
          0.30745073160334674,
          0.34727136133703396,
          0.30637843195900916,
          0.35411390020321476,
          0.2900411000997355,
          0.29870012289230014,
          0.30038010253400277,
          0.28241835503178514,
          0.3627114223329792,
          0.2943327116034818,
          0.3424261164366315,
          0.3063530867191915,
          0.3306014790273939,
          0.40318234491561045,
          0.2729526115260718,
          0.2853558163509007,
          0.2833013228519368,
          0.3326273141040944,
          0.29130559785848337,
          0.2884944705373401,
          0.2750780403732608,
          0.3203026684779316,
          0.28661840791168,
          0.29970256167887355,
          0.2883549059975236,
          0.33518949109537005,
          0.29507748336422496,
          0.2987184455433893,
          0.3107226679234301,
          0.40262858194937917,
          0.26325400947242816,
          0.2645988377143709,
          0.3249956035214791,
          0.25960609054214456,
          0.264443600531112,
          0.26649283727594286,
          0.30667866501083224,
          0.2636847590755062,
          0.2970487888194003,
          0.29804701167358666,
          0.2535332401012661,
          0.3078464720268011,
          0.2921991966076079
         ]
        },
        {
         "name": "Best Value",
         "type": "scatter",
         "x": [
          1,
          4,
          5,
          7,
          8,
          9,
          10,
          11,
          14,
          16,
          17,
          18,
          19,
          20,
          21,
          22,
          23,
          24,
          25,
          27,
          28,
          29,
          30,
          31,
          32,
          33,
          34,
          35,
          36,
          37,
          38,
          39,
          40,
          41,
          42,
          43,
          44,
          45,
          46,
          53,
          79,
          80,
          81,
          82,
          94,
          109,
          110,
          123,
          147,
          149,
          150,
          151,
          152,
          153,
          154,
          155,
          156,
          164,
          211,
          217,
          280,
          281,
          300,
          305,
          317,
          368,
          392,
          393,
          394,
          429,
          430,
          431,
          432,
          433,
          437,
          472,
          475,
          489,
          494,
          498
         ],
         "y": [
          0.519294173810417,
          0.2964243249258402,
          0.2964243249258402,
          0.2964243249258402,
          0.2964243249258402,
          0.2964243249258402,
          0.2938234302905271,
          0.2938234302905271,
          0.2938234302905271,
          0.2938234302905271,
          0.2938234302905271,
          0.2938234302905271,
          0.2938234302905271,
          0.2938234302905271,
          0.2920119083395599,
          0.2920119083395599,
          0.2920119083395599,
          0.2920119083395599,
          0.2920119083395599,
          0.2920119083395599,
          0.2920119083395599,
          0.2920119083395599,
          0.2920119083395599,
          0.2920119083395599,
          0.2920119083395599,
          0.2920119083395599,
          0.2920119083395599,
          0.2882956407734144,
          0.2882956407734144,
          0.2882956407734144,
          0.2882956407734144,
          0.2882956407734144,
          0.2882956407734144,
          0.2882956407734144,
          0.2882956407734144,
          0.27591645194003767,
          0.27591645194003767,
          0.27591645194003767,
          0.27591645194003767,
          0.27591645194003767,
          0.27591645194003767,
          0.27591645194003767,
          0.27591645194003767,
          0.27591645194003767,
          0.27591645194003767,
          0.27591645194003767,
          0.27591645194003767,
          0.27591645194003767,
          0.27591645194003767,
          0.27591645194003767,
          0.27591645194003767,
          0.2729526115260718,
          0.2729526115260718,
          0.2729526115260718,
          0.2729526115260718,
          0.2729526115260718,
          0.2729526115260718,
          0.2729526115260718,
          0.2729526115260718,
          0.2729526115260718,
          0.2729526115260718,
          0.2729526115260718,
          0.2729526115260718,
          0.2729526115260718,
          0.2729526115260718,
          0.2729526115260718,
          0.2729526115260718,
          0.26325400947242816,
          0.26325400947242816,
          0.26325400947242816,
          0.25960609054214456,
          0.25960609054214456,
          0.25960609054214456,
          0.25960609054214456,
          0.25960609054214456,
          0.25960609054214456,
          0.25960609054214456,
          0.2535332401012661,
          0.2535332401012661,
          0.2535332401012661
         ]
        }
       ],
       "layout": {
        "template": {
         "data": {
          "bar": [
           {
            "error_x": {
             "color": "#2a3f5f"
            },
            "error_y": {
             "color": "#2a3f5f"
            },
            "marker": {
             "line": {
              "color": "#E5ECF6",
              "width": 0.5
             },
             "pattern": {
              "fillmode": "overlay",
              "size": 10,
              "solidity": 0.2
             }
            },
            "type": "bar"
           }
          ],
          "barpolar": [
           {
            "marker": {
             "line": {
              "color": "#E5ECF6",
              "width": 0.5
             },
             "pattern": {
              "fillmode": "overlay",
              "size": 10,
              "solidity": 0.2
             }
            },
            "type": "barpolar"
           }
          ],
          "carpet": [
           {
            "aaxis": {
             "endlinecolor": "#2a3f5f",
             "gridcolor": "white",
             "linecolor": "white",
             "minorgridcolor": "white",
             "startlinecolor": "#2a3f5f"
            },
            "baxis": {
             "endlinecolor": "#2a3f5f",
             "gridcolor": "white",
             "linecolor": "white",
             "minorgridcolor": "white",
             "startlinecolor": "#2a3f5f"
            },
            "type": "carpet"
           }
          ],
          "choropleth": [
           {
            "colorbar": {
             "outlinewidth": 0,
             "ticks": ""
            },
            "type": "choropleth"
           }
          ],
          "contour": [
           {
            "colorbar": {
             "outlinewidth": 0,
             "ticks": ""
            },
            "colorscale": [
             [
              0,
              "#0d0887"
             ],
             [
              0.1111111111111111,
              "#46039f"
             ],
             [
              0.2222222222222222,
              "#7201a8"
             ],
             [
              0.3333333333333333,
              "#9c179e"
             ],
             [
              0.4444444444444444,
              "#bd3786"
             ],
             [
              0.5555555555555556,
              "#d8576b"
             ],
             [
              0.6666666666666666,
              "#ed7953"
             ],
             [
              0.7777777777777778,
              "#fb9f3a"
             ],
             [
              0.8888888888888888,
              "#fdca26"
             ],
             [
              1,
              "#f0f921"
             ]
            ],
            "type": "contour"
           }
          ],
          "contourcarpet": [
           {
            "colorbar": {
             "outlinewidth": 0,
             "ticks": ""
            },
            "type": "contourcarpet"
           }
          ],
          "heatmap": [
           {
            "colorbar": {
             "outlinewidth": 0,
             "ticks": ""
            },
            "colorscale": [
             [
              0,
              "#0d0887"
             ],
             [
              0.1111111111111111,
              "#46039f"
             ],
             [
              0.2222222222222222,
              "#7201a8"
             ],
             [
              0.3333333333333333,
              "#9c179e"
             ],
             [
              0.4444444444444444,
              "#bd3786"
             ],
             [
              0.5555555555555556,
              "#d8576b"
             ],
             [
              0.6666666666666666,
              "#ed7953"
             ],
             [
              0.7777777777777778,
              "#fb9f3a"
             ],
             [
              0.8888888888888888,
              "#fdca26"
             ],
             [
              1,
              "#f0f921"
             ]
            ],
            "type": "heatmap"
           }
          ],
          "heatmapgl": [
           {
            "colorbar": {
             "outlinewidth": 0,
             "ticks": ""
            },
            "colorscale": [
             [
              0,
              "#0d0887"
             ],
             [
              0.1111111111111111,
              "#46039f"
             ],
             [
              0.2222222222222222,
              "#7201a8"
             ],
             [
              0.3333333333333333,
              "#9c179e"
             ],
             [
              0.4444444444444444,
              "#bd3786"
             ],
             [
              0.5555555555555556,
              "#d8576b"
             ],
             [
              0.6666666666666666,
              "#ed7953"
             ],
             [
              0.7777777777777778,
              "#fb9f3a"
             ],
             [
              0.8888888888888888,
              "#fdca26"
             ],
             [
              1,
              "#f0f921"
             ]
            ],
            "type": "heatmapgl"
           }
          ],
          "histogram": [
           {
            "marker": {
             "pattern": {
              "fillmode": "overlay",
              "size": 10,
              "solidity": 0.2
             }
            },
            "type": "histogram"
           }
          ],
          "histogram2d": [
           {
            "colorbar": {
             "outlinewidth": 0,
             "ticks": ""
            },
            "colorscale": [
             [
              0,
              "#0d0887"
             ],
             [
              0.1111111111111111,
              "#46039f"
             ],
             [
              0.2222222222222222,
              "#7201a8"
             ],
             [
              0.3333333333333333,
              "#9c179e"
             ],
             [
              0.4444444444444444,
              "#bd3786"
             ],
             [
              0.5555555555555556,
              "#d8576b"
             ],
             [
              0.6666666666666666,
              "#ed7953"
             ],
             [
              0.7777777777777778,
              "#fb9f3a"
             ],
             [
              0.8888888888888888,
              "#fdca26"
             ],
             [
              1,
              "#f0f921"
             ]
            ],
            "type": "histogram2d"
           }
          ],
          "histogram2dcontour": [
           {
            "colorbar": {
             "outlinewidth": 0,
             "ticks": ""
            },
            "colorscale": [
             [
              0,
              "#0d0887"
             ],
             [
              0.1111111111111111,
              "#46039f"
             ],
             [
              0.2222222222222222,
              "#7201a8"
             ],
             [
              0.3333333333333333,
              "#9c179e"
             ],
             [
              0.4444444444444444,
              "#bd3786"
             ],
             [
              0.5555555555555556,
              "#d8576b"
             ],
             [
              0.6666666666666666,
              "#ed7953"
             ],
             [
              0.7777777777777778,
              "#fb9f3a"
             ],
             [
              0.8888888888888888,
              "#fdca26"
             ],
             [
              1,
              "#f0f921"
             ]
            ],
            "type": "histogram2dcontour"
           }
          ],
          "mesh3d": [
           {
            "colorbar": {
             "outlinewidth": 0,
             "ticks": ""
            },
            "type": "mesh3d"
           }
          ],
          "parcoords": [
           {
            "line": {
             "colorbar": {
              "outlinewidth": 0,
              "ticks": ""
             }
            },
            "type": "parcoords"
           }
          ],
          "pie": [
           {
            "automargin": true,
            "type": "pie"
           }
          ],
          "scatter": [
           {
            "fillpattern": {
             "fillmode": "overlay",
             "size": 10,
             "solidity": 0.2
            },
            "type": "scatter"
           }
          ],
          "scatter3d": [
           {
            "line": {
             "colorbar": {
              "outlinewidth": 0,
              "ticks": ""
             }
            },
            "marker": {
             "colorbar": {
              "outlinewidth": 0,
              "ticks": ""
             }
            },
            "type": "scatter3d"
           }
          ],
          "scattercarpet": [
           {
            "marker": {
             "colorbar": {
              "outlinewidth": 0,
              "ticks": ""
             }
            },
            "type": "scattercarpet"
           }
          ],
          "scattergeo": [
           {
            "marker": {
             "colorbar": {
              "outlinewidth": 0,
              "ticks": ""
             }
            },
            "type": "scattergeo"
           }
          ],
          "scattergl": [
           {
            "marker": {
             "colorbar": {
              "outlinewidth": 0,
              "ticks": ""
             }
            },
            "type": "scattergl"
           }
          ],
          "scattermapbox": [
           {
            "marker": {
             "colorbar": {
              "outlinewidth": 0,
              "ticks": ""
             }
            },
            "type": "scattermapbox"
           }
          ],
          "scatterpolar": [
           {
            "marker": {
             "colorbar": {
              "outlinewidth": 0,
              "ticks": ""
             }
            },
            "type": "scatterpolar"
           }
          ],
          "scatterpolargl": [
           {
            "marker": {
             "colorbar": {
              "outlinewidth": 0,
              "ticks": ""
             }
            },
            "type": "scatterpolargl"
           }
          ],
          "scatterternary": [
           {
            "marker": {
             "colorbar": {
              "outlinewidth": 0,
              "ticks": ""
             }
            },
            "type": "scatterternary"
           }
          ],
          "surface": [
           {
            "colorbar": {
             "outlinewidth": 0,
             "ticks": ""
            },
            "colorscale": [
             [
              0,
              "#0d0887"
             ],
             [
              0.1111111111111111,
              "#46039f"
             ],
             [
              0.2222222222222222,
              "#7201a8"
             ],
             [
              0.3333333333333333,
              "#9c179e"
             ],
             [
              0.4444444444444444,
              "#bd3786"
             ],
             [
              0.5555555555555556,
              "#d8576b"
             ],
             [
              0.6666666666666666,
              "#ed7953"
             ],
             [
              0.7777777777777778,
              "#fb9f3a"
             ],
             [
              0.8888888888888888,
              "#fdca26"
             ],
             [
              1,
              "#f0f921"
             ]
            ],
            "type": "surface"
           }
          ],
          "table": [
           {
            "cells": {
             "fill": {
              "color": "#EBF0F8"
             },
             "line": {
              "color": "white"
             }
            },
            "header": {
             "fill": {
              "color": "#C8D4E3"
             },
             "line": {
              "color": "white"
             }
            },
            "type": "table"
           }
          ]
         },
         "layout": {
          "annotationdefaults": {
           "arrowcolor": "#2a3f5f",
           "arrowhead": 0,
           "arrowwidth": 1
          },
          "autotypenumbers": "strict",
          "coloraxis": {
           "colorbar": {
            "outlinewidth": 0,
            "ticks": ""
           }
          },
          "colorscale": {
           "diverging": [
            [
             0,
             "#8e0152"
            ],
            [
             0.1,
             "#c51b7d"
            ],
            [
             0.2,
             "#de77ae"
            ],
            [
             0.3,
             "#f1b6da"
            ],
            [
             0.4,
             "#fde0ef"
            ],
            [
             0.5,
             "#f7f7f7"
            ],
            [
             0.6,
             "#e6f5d0"
            ],
            [
             0.7,
             "#b8e186"
            ],
            [
             0.8,
             "#7fbc41"
            ],
            [
             0.9,
             "#4d9221"
            ],
            [
             1,
             "#276419"
            ]
           ],
           "sequential": [
            [
             0,
             "#0d0887"
            ],
            [
             0.1111111111111111,
             "#46039f"
            ],
            [
             0.2222222222222222,
             "#7201a8"
            ],
            [
             0.3333333333333333,
             "#9c179e"
            ],
            [
             0.4444444444444444,
             "#bd3786"
            ],
            [
             0.5555555555555556,
             "#d8576b"
            ],
            [
             0.6666666666666666,
             "#ed7953"
            ],
            [
             0.7777777777777778,
             "#fb9f3a"
            ],
            [
             0.8888888888888888,
             "#fdca26"
            ],
            [
             1,
             "#f0f921"
            ]
           ],
           "sequentialminus": [
            [
             0,
             "#0d0887"
            ],
            [
             0.1111111111111111,
             "#46039f"
            ],
            [
             0.2222222222222222,
             "#7201a8"
            ],
            [
             0.3333333333333333,
             "#9c179e"
            ],
            [
             0.4444444444444444,
             "#bd3786"
            ],
            [
             0.5555555555555556,
             "#d8576b"
            ],
            [
             0.6666666666666666,
             "#ed7953"
            ],
            [
             0.7777777777777778,
             "#fb9f3a"
            ],
            [
             0.8888888888888888,
             "#fdca26"
            ],
            [
             1,
             "#f0f921"
            ]
           ]
          },
          "colorway": [
           "#636efa",
           "#EF553B",
           "#00cc96",
           "#ab63fa",
           "#FFA15A",
           "#19d3f3",
           "#FF6692",
           "#B6E880",
           "#FF97FF",
           "#FECB52"
          ],
          "font": {
           "color": "#2a3f5f"
          },
          "geo": {
           "bgcolor": "white",
           "lakecolor": "white",
           "landcolor": "#E5ECF6",
           "showlakes": true,
           "showland": true,
           "subunitcolor": "white"
          },
          "hoverlabel": {
           "align": "left"
          },
          "hovermode": "closest",
          "mapbox": {
           "style": "light"
          },
          "paper_bgcolor": "white",
          "plot_bgcolor": "#E5ECF6",
          "polar": {
           "angularaxis": {
            "gridcolor": "white",
            "linecolor": "white",
            "ticks": ""
           },
           "bgcolor": "#E5ECF6",
           "radialaxis": {
            "gridcolor": "white",
            "linecolor": "white",
            "ticks": ""
           }
          },
          "scene": {
           "xaxis": {
            "backgroundcolor": "#E5ECF6",
            "gridcolor": "white",
            "gridwidth": 2,
            "linecolor": "white",
            "showbackground": true,
            "ticks": "",
            "zerolinecolor": "white"
           },
           "yaxis": {
            "backgroundcolor": "#E5ECF6",
            "gridcolor": "white",
            "gridwidth": 2,
            "linecolor": "white",
            "showbackground": true,
            "ticks": "",
            "zerolinecolor": "white"
           },
           "zaxis": {
            "backgroundcolor": "#E5ECF6",
            "gridcolor": "white",
            "gridwidth": 2,
            "linecolor": "white",
            "showbackground": true,
            "ticks": "",
            "zerolinecolor": "white"
           }
          },
          "shapedefaults": {
           "line": {
            "color": "#2a3f5f"
           }
          },
          "ternary": {
           "aaxis": {
            "gridcolor": "white",
            "linecolor": "white",
            "ticks": ""
           },
           "baxis": {
            "gridcolor": "white",
            "linecolor": "white",
            "ticks": ""
           },
           "bgcolor": "#E5ECF6",
           "caxis": {
            "gridcolor": "white",
            "linecolor": "white",
            "ticks": ""
           }
          },
          "title": {
           "x": 0.05
          },
          "xaxis": {
           "automargin": true,
           "gridcolor": "white",
           "linecolor": "white",
           "ticks": "",
           "title": {
            "standoff": 15
           },
           "zerolinecolor": "white",
           "zerolinewidth": 2
          },
          "yaxis": {
           "automargin": true,
           "gridcolor": "white",
           "linecolor": "white",
           "ticks": "",
           "title": {
            "standoff": 15
           },
           "zerolinecolor": "white",
           "zerolinewidth": 2
          }
         }
        },
        "title": {
         "text": "Optimization History Plot"
        },
        "xaxis": {
         "title": {
          "text": "Trial"
         }
        },
        "yaxis": {
         "title": {
          "text": "Objective Value"
         }
        }
       }
      }
     },
     "metadata": {},
     "output_type": "display_data"
    }
   ],
   "source": [
    "plot_optimization_history(study)"
   ]
  },
  {
   "cell_type": "code",
   "execution_count": null,
   "metadata": {},
   "outputs": [
    {
     "data": {
      "application/vnd.plotly.v1+json": {
       "config": {
        "plotlyServerURL": "https://plot.ly"
       },
       "data": [
        {
         "marker": {
          "color": [
           1,
           4,
           5,
           7,
           8,
           9,
           10,
           11,
           14,
           16,
           17,
           18,
           19,
           20,
           21,
           22,
           23,
           24,
           25,
           27,
           28,
           29,
           30,
           31,
           32,
           33,
           34,
           35,
           36,
           37,
           38,
           39,
           40,
           41,
           42,
           43,
           44,
           45,
           46,
           53,
           79,
           80,
           81,
           82,
           94,
           109,
           110,
           123,
           147,
           149,
           150,
           151,
           152,
           153,
           154,
           155,
           156,
           164,
           211,
           217,
           280,
           281,
           300,
           305,
           317,
           368,
           392,
           393,
           394,
           429,
           430,
           431,
           432,
           433,
           437,
           472,
           475,
           489,
           494,
           498
          ],
          "colorbar": {
           "title": {
            "text": "Trial"
           },
           "x": 1,
           "xpad": 40
          },
          "colorscale": [
           [
            0,
            "rgb(247,251,255)"
           ],
           [
            0.125,
            "rgb(222,235,247)"
           ],
           [
            0.25,
            "rgb(198,219,239)"
           ],
           [
            0.375,
            "rgb(158,202,225)"
           ],
           [
            0.5,
            "rgb(107,174,214)"
           ],
           [
            0.625,
            "rgb(66,146,198)"
           ],
           [
            0.75,
            "rgb(33,113,181)"
           ],
           [
            0.875,
            "rgb(8,81,156)"
           ],
           [
            1,
            "rgb(8,48,107)"
           ]
          ],
          "line": {
           "color": "Grey",
           "width": 0.5
          },
          "showscale": true
         },
         "mode": "markers",
         "showlegend": false,
         "type": "scatter",
         "x": [
          0.04566054873446119,
          0.000002734702913886802,
          0.23713402899336497,
          3.8879928024075543e-7,
          9.052196389541886e-8,
          4.128946718697511e-8,
          1.1366245816554797e-8,
          0.00010505873950469604,
          0.0033690069338789532,
          0.1543240130559408,
          1.1491548505141235e-8,
          0.0000022668308927405527,
          0.00000854314294009816,
          1.2738624199678544e-8,
          6.100609456046906e-7,
          1.0782309480653116e-7,
          4.3137572965934697e-7,
          0.000042587709795538606,
          3.9611065783321447e-7,
          1.842896955047312e-8,
          1.797750493310095e-7,
          0.000001803844213123157,
          0.000003944762914421563,
          6.827796460614719e-8,
          0.00003160136966329224,
          9.219077078146844e-7,
          0.00000972763789202479,
          4.734605110816697e-8,
          3.193434316905125e-8,
          1.0853956951811848e-8,
          5.489395745930024e-8,
          1.9913254509999844e-7,
          5.037004489929766e-7,
          1.2593003932557786e-7,
          4.7769702299372884e-8,
          0.000001329869422762446,
          7.881806421393058e-7,
          2.8197791678507247e-8,
          1.9437188156737844e-7,
          3.453105678797202e-8,
          0.0000010430061627750454,
          0.0000040769185653816995,
          2.52674340739389e-7,
          8.611502485747784e-8,
          0.0000015942382991521329,
          0.0000011985877135899945,
          0.00000396902032412218,
          0.0000024433943759985657,
          5.115895813671084e-7,
          0.0002279478907796285,
          0.0000065467509628775815,
          3.2170126364202345e-7,
          0.0000016115820204214139,
          0.0000015967450864958516,
          3.7827569019875443e-7,
          0.000001075200972920533,
          1.4236458566027075e-7,
          0.00001245456836552597,
          0.0000016809086729980843,
          0.000012509243781076795,
          0.000003999573196569937,
          0.000013513431983186426,
          0.0000020671709749247633,
          0.000020934159151905447,
          0.00000730277071428418,
          0.000001779145327340867,
          0.000010579187956339559,
          6.755209544929712e-7,
          3.2529905537934614e-7,
          3.5713458996946674e-7,
          7.350952561203896e-7,
          5.991098356327728e-7,
          6.915039074210721e-7,
          7.803012171263324e-7,
          3.2490715592139965e-7,
          2.827153583207699e-7,
          6.126443261070681e-7,
          1.1158232780616973e-7,
          1.4920411392477663e-7,
          8.863207228600965e-8
         ],
         "xaxis": "x",
         "y": [
          0.519294173810417,
          0.2964243249258402,
          0.6570908050801666,
          0.4021228281661481,
          0.31778231346967856,
          0.3317594289404727,
          0.2938234302905271,
          0.3472449609833941,
          0.3334530464948816,
          0.4217699732173089,
          0.43589788194195717,
          0.3229189213984373,
          0.3542707419664452,
          0.3398362682368953,
          0.2920119083395599,
          0.31154408063557765,
          0.39872285932103935,
          0.3101256523003201,
          0.43668507178111843,
          0.41990007478418934,
          0.29767889072399917,
          0.30025030507507305,
          0.29391292492936805,
          0.32030295395856234,
          0.3039013274370917,
          0.3195390049577525,
          0.30176311071558354,
          0.2882956407734144,
          0.31125284415023186,
          0.4461247292534196,
          0.4139389856410277,
          0.31233148115217735,
          0.32297639589755683,
          0.32952753172441324,
          0.30001151074951105,
          0.27591645194003767,
          0.3110916995289982,
          0.30745073160334674,
          0.34727136133703396,
          0.30637843195900916,
          0.35411390020321476,
          0.2900411000997355,
          0.29870012289230014,
          0.30038010253400277,
          0.28241835503178514,
          0.3627114223329792,
          0.2943327116034818,
          0.3424261164366315,
          0.3063530867191915,
          0.3306014790273939,
          0.40318234491561045,
          0.2729526115260718,
          0.2853558163509007,
          0.2833013228519368,
          0.3326273141040944,
          0.29130559785848337,
          0.2884944705373401,
          0.2750780403732608,
          0.3203026684779316,
          0.28661840791168,
          0.29970256167887355,
          0.2883549059975236,
          0.33518949109537005,
          0.29507748336422496,
          0.2987184455433893,
          0.3107226679234301,
          0.40262858194937917,
          0.26325400947242816,
          0.2645988377143709,
          0.3249956035214791,
          0.25960609054214456,
          0.264443600531112,
          0.26649283727594286,
          0.30667866501083224,
          0.2636847590755062,
          0.2970487888194003,
          0.29804701167358666,
          0.2535332401012661,
          0.3078464720268011,
          0.2921991966076079
         ],
         "yaxis": "y"
        },
        {
         "marker": {
          "color": [
           1,
           4,
           5,
           7,
           8,
           9,
           10,
           11,
           14,
           16,
           17,
           18,
           19,
           20,
           21,
           22,
           23,
           24,
           25,
           27,
           28,
           29,
           30,
           31,
           32,
           33,
           34,
           35,
           36,
           37,
           38,
           39,
           40,
           41,
           42,
           43,
           44,
           45,
           46,
           53,
           79,
           80,
           81,
           82,
           94,
           109,
           110,
           123,
           147,
           149,
           150,
           151,
           152,
           153,
           154,
           155,
           156,
           164,
           211,
           217,
           280,
           281,
           300,
           305,
           317,
           368,
           392,
           393,
           394,
           429,
           430,
           431,
           432,
           433,
           437,
           472,
           475,
           489,
           494,
           498
          ],
          "colorbar": {
           "title": {
            "text": "Trial"
           },
           "x": 1,
           "xpad": 40
          },
          "colorscale": [
           [
            0,
            "rgb(247,251,255)"
           ],
           [
            0.125,
            "rgb(222,235,247)"
           ],
           [
            0.25,
            "rgb(198,219,239)"
           ],
           [
            0.375,
            "rgb(158,202,225)"
           ],
           [
            0.5,
            "rgb(107,174,214)"
           ],
           [
            0.625,
            "rgb(66,146,198)"
           ],
           [
            0.75,
            "rgb(33,113,181)"
           ],
           [
            0.875,
            "rgb(8,81,156)"
           ],
           [
            1,
            "rgb(8,48,107)"
           ]
          ],
          "line": {
           "color": "Grey",
           "width": 0.5
          },
          "showscale": false
         },
         "mode": "markers",
         "showlegend": false,
         "type": "scatter",
         "x": [
          "gblinear",
          "dart",
          "gblinear",
          "dart",
          "dart",
          "dart",
          "dart",
          "gbtree",
          "dart",
          "gbtree",
          "gblinear",
          "dart",
          "dart",
          "dart",
          "dart",
          "gbtree",
          "dart",
          "dart",
          "gbtree",
          "gblinear",
          "dart",
          "dart",
          "dart",
          "dart",
          "dart",
          "dart",
          "dart",
          "dart",
          "gbtree",
          "gblinear",
          "gblinear",
          "dart",
          "dart",
          "dart",
          "dart",
          "dart",
          "dart",
          "dart",
          "dart",
          "dart",
          "gbtree",
          "dart",
          "dart",
          "dart",
          "dart",
          "dart",
          "dart",
          "dart",
          "dart",
          "gbtree",
          "gblinear",
          "dart",
          "dart",
          "dart",
          "dart",
          "dart",
          "dart",
          "dart",
          "dart",
          "dart",
          "dart",
          "dart",
          "dart",
          "dart",
          "dart",
          "gbtree",
          "gblinear",
          "dart",
          "dart",
          "dart",
          "dart",
          "dart",
          "dart",
          "dart",
          "dart",
          "dart",
          "dart",
          "dart",
          "dart",
          "gbtree"
         ],
         "xaxis": "x2",
         "y": [
          0.519294173810417,
          0.2964243249258402,
          0.6570908050801666,
          0.4021228281661481,
          0.31778231346967856,
          0.3317594289404727,
          0.2938234302905271,
          0.3472449609833941,
          0.3334530464948816,
          0.4217699732173089,
          0.43589788194195717,
          0.3229189213984373,
          0.3542707419664452,
          0.3398362682368953,
          0.2920119083395599,
          0.31154408063557765,
          0.39872285932103935,
          0.3101256523003201,
          0.43668507178111843,
          0.41990007478418934,
          0.29767889072399917,
          0.30025030507507305,
          0.29391292492936805,
          0.32030295395856234,
          0.3039013274370917,
          0.3195390049577525,
          0.30176311071558354,
          0.2882956407734144,
          0.31125284415023186,
          0.4461247292534196,
          0.4139389856410277,
          0.31233148115217735,
          0.32297639589755683,
          0.32952753172441324,
          0.30001151074951105,
          0.27591645194003767,
          0.3110916995289982,
          0.30745073160334674,
          0.34727136133703396,
          0.30637843195900916,
          0.35411390020321476,
          0.2900411000997355,
          0.29870012289230014,
          0.30038010253400277,
          0.28241835503178514,
          0.3627114223329792,
          0.2943327116034818,
          0.3424261164366315,
          0.3063530867191915,
          0.3306014790273939,
          0.40318234491561045,
          0.2729526115260718,
          0.2853558163509007,
          0.2833013228519368,
          0.3326273141040944,
          0.29130559785848337,
          0.2884944705373401,
          0.2750780403732608,
          0.3203026684779316,
          0.28661840791168,
          0.29970256167887355,
          0.2883549059975236,
          0.33518949109537005,
          0.29507748336422496,
          0.2987184455433893,
          0.3107226679234301,
          0.40262858194937917,
          0.26325400947242816,
          0.2645988377143709,
          0.3249956035214791,
          0.25960609054214456,
          0.264443600531112,
          0.26649283727594286,
          0.30667866501083224,
          0.2636847590755062,
          0.2970487888194003,
          0.29804701167358666,
          0.2535332401012661,
          0.3078464720268011,
          0.2921991966076079
         ],
         "yaxis": "y2"
        },
        {
         "marker": {
          "color": [
           1,
           4,
           5,
           7,
           8,
           9,
           10,
           11,
           14,
           16,
           17,
           18,
           19,
           20,
           21,
           22,
           23,
           24,
           25,
           27,
           28,
           29,
           30,
           31,
           32,
           33,
           34,
           35,
           36,
           37,
           38,
           39,
           40,
           41,
           42,
           43,
           44,
           45,
           46,
           53,
           79,
           80,
           81,
           82,
           94,
           109,
           110,
           123,
           147,
           149,
           150,
           151,
           152,
           153,
           154,
           155,
           156,
           164,
           211,
           217,
           280,
           281,
           300,
           305,
           317,
           368,
           392,
           393,
           394,
           429,
           430,
           431,
           432,
           433,
           437,
           472,
           475,
           489,
           494,
           498
          ],
          "colorbar": {
           "title": {
            "text": "Trial"
           },
           "x": 1,
           "xpad": 40
          },
          "colorscale": [
           [
            0,
            "rgb(247,251,255)"
           ],
           [
            0.125,
            "rgb(222,235,247)"
           ],
           [
            0.25,
            "rgb(198,219,239)"
           ],
           [
            0.375,
            "rgb(158,202,225)"
           ],
           [
            0.5,
            "rgb(107,174,214)"
           ],
           [
            0.625,
            "rgb(66,146,198)"
           ],
           [
            0.75,
            "rgb(33,113,181)"
           ],
           [
            0.875,
            "rgb(8,81,156)"
           ],
           [
            1,
            "rgb(8,48,107)"
           ]
          ],
          "line": {
           "color": "Grey",
           "width": 0.5
          },
          "showscale": false
         },
         "mode": "markers",
         "showlegend": false,
         "type": "scatter",
         "x": [
          0.3090949803242604,
          0.6105398159072942,
          0.3175897174514871,
          0.6892768570729007,
          0.6564710291701386,
          0.2967327723524027,
          0.45044660188926744,
          0.3671878785419669,
          0.7620379932420409,
          0.2055182309699778,
          0.5001898853570131,
          0.5260726531104581,
          0.5765857671535701,
          0.47726885504067695,
          0.602327085562932,
          0.4458269239938906,
          0.42374539476263773,
          0.5568483800455777,
          0.6195553530858802,
          0.5290260990840006,
          0.42919976707438945,
          0.6037008040896494,
          0.6644483588426067,
          0.7094989193399925,
          0.7766791499619913,
          0.6586362100950794,
          0.5607963812988364,
          0.7222325488997194,
          0.7395057648887469,
          0.7379890311405075,
          0.7938242157651187,
          0.6707565463558554,
          0.624286530374231,
          0.7213997957443907,
          0.6937024301864914,
          0.6380874936845242,
          0.5881054639688861,
          0.6343086062300711,
          0.6922686419585655,
          0.6376718457731549,
          0.5862167633069852,
          0.6767130464204894,
          0.6786298288738961,
          0.6484253761344668,
          0.7530936629355138,
          0.7520497638045682,
          0.720510598917254,
          0.776091437046109,
          0.7049623580442064,
          0.6850356265061077,
          0.7352952551151122,
          0.607715040058749,
          0.6144635355027217,
          0.6358458137150318,
          0.6150493848882874,
          0.6456052399267944,
          0.6078056676773902,
          0.6546728005046648,
          0.6566598842017053,
          0.5726698433664684,
          0.5439735552171666,
          0.5918917492671144,
          0.5734003479615153,
          0.6292937337372685,
          0.5708014458250931,
          0.6052399471148548,
          0.6240989609864294,
          0.5493747762233495,
          0.5474616347401878,
          0.5130066340227525,
          0.5426344982464315,
          0.5527843689745726,
          0.5461438769188801,
          0.544652072179651,
          0.4925124133580938,
          0.487548503557908,
          0.522706429328931,
          0.5482579412080295,
          0.5044102401546413,
          0.5455787638032608
         ],
         "xaxis": "x3",
         "y": [
          0.519294173810417,
          0.2964243249258402,
          0.6570908050801666,
          0.4021228281661481,
          0.31778231346967856,
          0.3317594289404727,
          0.2938234302905271,
          0.3472449609833941,
          0.3334530464948816,
          0.4217699732173089,
          0.43589788194195717,
          0.3229189213984373,
          0.3542707419664452,
          0.3398362682368953,
          0.2920119083395599,
          0.31154408063557765,
          0.39872285932103935,
          0.3101256523003201,
          0.43668507178111843,
          0.41990007478418934,
          0.29767889072399917,
          0.30025030507507305,
          0.29391292492936805,
          0.32030295395856234,
          0.3039013274370917,
          0.3195390049577525,
          0.30176311071558354,
          0.2882956407734144,
          0.31125284415023186,
          0.4461247292534196,
          0.4139389856410277,
          0.31233148115217735,
          0.32297639589755683,
          0.32952753172441324,
          0.30001151074951105,
          0.27591645194003767,
          0.3110916995289982,
          0.30745073160334674,
          0.34727136133703396,
          0.30637843195900916,
          0.35411390020321476,
          0.2900411000997355,
          0.29870012289230014,
          0.30038010253400277,
          0.28241835503178514,
          0.3627114223329792,
          0.2943327116034818,
          0.3424261164366315,
          0.3063530867191915,
          0.3306014790273939,
          0.40318234491561045,
          0.2729526115260718,
          0.2853558163509007,
          0.2833013228519368,
          0.3326273141040944,
          0.29130559785848337,
          0.2884944705373401,
          0.2750780403732608,
          0.3203026684779316,
          0.28661840791168,
          0.29970256167887355,
          0.2883549059975236,
          0.33518949109537005,
          0.29507748336422496,
          0.2987184455433893,
          0.3107226679234301,
          0.40262858194937917,
          0.26325400947242816,
          0.2645988377143709,
          0.3249956035214791,
          0.25960609054214456,
          0.264443600531112,
          0.26649283727594286,
          0.30667866501083224,
          0.2636847590755062,
          0.2970487888194003,
          0.29804701167358666,
          0.2535332401012661,
          0.3078464720268011,
          0.2921991966076079
         ],
         "yaxis": "y3"
        },
        {
         "marker": {
          "color": [
           4,
           7,
           8,
           9,
           10,
           11,
           14,
           16,
           18,
           19,
           20,
           21,
           22,
           23,
           24,
           25,
           28,
           29,
           30,
           31,
           32,
           33,
           34,
           35,
           36,
           39,
           40,
           41,
           42,
           43,
           44,
           45,
           46,
           53,
           79,
           80,
           81,
           82,
           94,
           109,
           110,
           123,
           147,
           149,
           151,
           152,
           153,
           154,
           155,
           156,
           164,
           211,
           217,
           280,
           281,
           300,
           305,
           317,
           368,
           393,
           394,
           429,
           430,
           431,
           432,
           433,
           437,
           472,
           475,
           489,
           494,
           498
          ],
          "colorbar": {
           "title": {
            "text": "Trial"
           },
           "x": 1,
           "xpad": 40
          },
          "colorscale": [
           [
            0,
            "rgb(247,251,255)"
           ],
           [
            0.125,
            "rgb(222,235,247)"
           ],
           [
            0.25,
            "rgb(198,219,239)"
           ],
           [
            0.375,
            "rgb(158,202,225)"
           ],
           [
            0.5,
            "rgb(107,174,214)"
           ],
           [
            0.625,
            "rgb(66,146,198)"
           ],
           [
            0.75,
            "rgb(33,113,181)"
           ],
           [
            0.875,
            "rgb(8,81,156)"
           ],
           [
            1,
            "rgb(8,48,107)"
           ]
          ],
          "line": {
           "color": "Grey",
           "width": 0.5
          },
          "showscale": false
         },
         "mode": "markers",
         "showlegend": false,
         "type": "scatter",
         "x": [
          0.030586566669785254,
          0.20597335357437188,
          0.030296104428212477,
          0.07947147424653743,
          0.01030019660098677,
          0.0027207248059486684,
          0.002189881242905692,
          0.0010355826161899187,
          0.016420134205543592,
          0.9728583151931056,
          0.010149230199388902,
          0.008184048727196903,
          0.006839305822689301,
          0.006031082165744434,
          0.01332359627180538,
          0.0032583424397482795,
          0.006504956767620912,
          0.02826417001829904,
          0.056180470756553344,
          0.060540495860108304,
          0.01644208424927164,
          0.06414838545649194,
          0.009182663035279459,
          0.004472123554001727,
          0.004399370430019953,
          0.004572703286278121,
          0.010508266421963505,
          0.016529345955020328,
          0.0018987982783920544,
          0.0038178204031137203,
          0.004351048024381601,
          0.001718305050147351,
          0.0034744875322021288,
          0.005984541842156558,
          0.008237777628912972,
          0.022531801652263143,
          0.02533133950386714,
          0.01268021686467385,
          0.0027238460532415234,
          0.003177739607723405,
          0.0022450292474467354,
          0.0012935718879152468,
          0.0029298077965001666,
          0.0047232299198843265,
          0.008316436260520352,
          0.007822490178681722,
          0.005799647271210094,
          0.002405037831176658,
          0.00580034306589697,
          0.0035766153189084,
          0.008137004008668689,
          0.007800875233326009,
          0.006386939425377303,
          0.01211771213269172,
          0.007897732511680333,
          0.006042865932172322,
          0.008634367088908105,
          0.005403229725458683,
          0.003683723331388952,
          0.0029133245481017013,
          0.0028866220062081145,
          0.0024595879863742965,
          0.0016243069743877118,
          0.0016355219985939972,
          0.001476468690198833,
          0.0012568600324482568,
          0.001725982608414639,
          0.0017684318068149252,
          0.0014842276734624237,
          0.0010017919482385215,
          0.0010060387935132053,
          0.0019148518152361318
         ],
         "xaxis": "x4",
         "y": [
          0.2964243249258402,
          0.4021228281661481,
          0.31778231346967856,
          0.3317594289404727,
          0.2938234302905271,
          0.3472449609833941,
          0.3334530464948816,
          0.4217699732173089,
          0.3229189213984373,
          0.3542707419664452,
          0.3398362682368953,
          0.2920119083395599,
          0.31154408063557765,
          0.39872285932103935,
          0.3101256523003201,
          0.43668507178111843,
          0.29767889072399917,
          0.30025030507507305,
          0.29391292492936805,
          0.32030295395856234,
          0.3039013274370917,
          0.3195390049577525,
          0.30176311071558354,
          0.2882956407734144,
          0.31125284415023186,
          0.31233148115217735,
          0.32297639589755683,
          0.32952753172441324,
          0.30001151074951105,
          0.27591645194003767,
          0.3110916995289982,
          0.30745073160334674,
          0.34727136133703396,
          0.30637843195900916,
          0.35411390020321476,
          0.2900411000997355,
          0.29870012289230014,
          0.30038010253400277,
          0.28241835503178514,
          0.3627114223329792,
          0.2943327116034818,
          0.3424261164366315,
          0.3063530867191915,
          0.3306014790273939,
          0.2729526115260718,
          0.2853558163509007,
          0.2833013228519368,
          0.3326273141040944,
          0.29130559785848337,
          0.2884944705373401,
          0.2750780403732608,
          0.3203026684779316,
          0.28661840791168,
          0.29970256167887355,
          0.2883549059975236,
          0.33518949109537005,
          0.29507748336422496,
          0.2987184455433893,
          0.3107226679234301,
          0.26325400947242816,
          0.2645988377143709,
          0.3249956035214791,
          0.25960609054214456,
          0.264443600531112,
          0.26649283727594286,
          0.30667866501083224,
          0.2636847590755062,
          0.2970487888194003,
          0.29804701167358666,
          0.2535332401012661,
          0.3078464720268011,
          0.2921991966076079
         ],
         "yaxis": "y4"
        },
        {
         "marker": {
          "color": [
           4,
           7,
           8,
           9,
           10,
           11,
           14,
           16,
           18,
           19,
           20,
           21,
           22,
           23,
           24,
           25,
           28,
           29,
           30,
           31,
           32,
           33,
           34,
           35,
           36,
           39,
           40,
           41,
           42,
           43,
           44,
           45,
           46,
           53,
           79,
           80,
           81,
           82,
           94,
           109,
           110,
           123,
           147,
           149,
           151,
           152,
           153,
           154,
           155,
           156,
           164,
           211,
           217,
           280,
           281,
           300,
           305,
           317,
           368,
           393,
           394,
           429,
           430,
           431,
           432,
           433,
           437,
           472,
           475,
           489,
           494,
           498
          ],
          "colorbar": {
           "title": {
            "text": "Trial"
           },
           "x": 1,
           "xpad": 40
          },
          "colorscale": [
           [
            0,
            "rgb(247,251,255)"
           ],
           [
            0.125,
            "rgb(222,235,247)"
           ],
           [
            0.25,
            "rgb(198,219,239)"
           ],
           [
            0.375,
            "rgb(158,202,225)"
           ],
           [
            0.5,
            "rgb(107,174,214)"
           ],
           [
            0.625,
            "rgb(66,146,198)"
           ],
           [
            0.75,
            "rgb(33,113,181)"
           ],
           [
            0.875,
            "rgb(8,81,156)"
           ],
           [
            1,
            "rgb(8,48,107)"
           ]
          ],
          "line": {
           "color": "Grey",
           "width": 0.5
          },
          "showscale": false
         },
         "mode": "markers",
         "showlegend": false,
         "type": "scatter",
         "x": [
          1.8841183049085085e-8,
          3.911625006683821e-8,
          0.00015200666650051572,
          0.0936881625557718,
          0.3493635816569516,
          0.000082342127198163,
          0.24977498768365702,
          1.9340353658219098e-7,
          0.000005000654157363934,
          0.001614828573371444,
          1.9815795924708083e-8,
          0.7528177922710402,
          0.9878661749835398,
          0.022568126054263917,
          0.9816659639357597,
          0.02149295800745956,
          0.010839819140938265,
          5.660500269758609e-7,
          0.0018615702790439278,
          0.09622889781254745,
          0.0032849041813783836,
          0.21960160231424572,
          0.9898050362893772,
          0.07357381204548523,
          0.11635849139168446,
          0.01399922247719107,
          0.05067825056326535,
          0.3589606860339592,
          0.05103477345797085,
          0.2674005501426375,
          0.510276706897357,
          0.3265267045211762,
          0.1784261167390036,
          0.06528682746880264,
          0.2925715606339637,
          0.005550564545894789,
          0.05096010095209549,
          0.13980517560727712,
          0.007497158370299074,
          0.004737013513967516,
          0.000634585076864231,
          0.008451091224489971,
          0.02218688465754282,
          0.034662131018754004,
          0.11781577587792882,
          0.14157596015064983,
          0.09714733709412665,
          0.1282462117761163,
          0.07792886817091589,
          0.03431723626699534,
          0.34963306978860037,
          0.44943887284258033,
          0.5307513175220154,
          0.19328956649460677,
          0.7134070659937615,
          0.4669820511551593,
          0.16695964798125268,
          0.22731394771282432,
          0.5379196159370576,
          0.021601907830558757,
          0.022297065244739282,
          0.014004076237458135,
          0.02764544788210548,
          0.025827359105163695,
          0.03037935885771466,
          0.025276974219084144,
          0.012738242029522742,
          0.012974170756882212,
          0.0189706986002242,
          0.030524056409888256,
          0.04566318965734457,
          0.027050535161100897
         ],
         "xaxis": "x5",
         "y": [
          0.2964243249258402,
          0.4021228281661481,
          0.31778231346967856,
          0.3317594289404727,
          0.2938234302905271,
          0.3472449609833941,
          0.3334530464948816,
          0.4217699732173089,
          0.3229189213984373,
          0.3542707419664452,
          0.3398362682368953,
          0.2920119083395599,
          0.31154408063557765,
          0.39872285932103935,
          0.3101256523003201,
          0.43668507178111843,
          0.29767889072399917,
          0.30025030507507305,
          0.29391292492936805,
          0.32030295395856234,
          0.3039013274370917,
          0.3195390049577525,
          0.30176311071558354,
          0.2882956407734144,
          0.31125284415023186,
          0.31233148115217735,
          0.32297639589755683,
          0.32952753172441324,
          0.30001151074951105,
          0.27591645194003767,
          0.3110916995289982,
          0.30745073160334674,
          0.34727136133703396,
          0.30637843195900916,
          0.35411390020321476,
          0.2900411000997355,
          0.29870012289230014,
          0.30038010253400277,
          0.28241835503178514,
          0.3627114223329792,
          0.2943327116034818,
          0.3424261164366315,
          0.3063530867191915,
          0.3306014790273939,
          0.2729526115260718,
          0.2853558163509007,
          0.2833013228519368,
          0.3326273141040944,
          0.29130559785848337,
          0.2884944705373401,
          0.2750780403732608,
          0.3203026684779316,
          0.28661840791168,
          0.29970256167887355,
          0.2883549059975236,
          0.33518949109537005,
          0.29507748336422496,
          0.2987184455433893,
          0.3107226679234301,
          0.26325400947242816,
          0.2645988377143709,
          0.3249956035214791,
          0.25960609054214456,
          0.264443600531112,
          0.26649283727594286,
          0.30667866501083224,
          0.2636847590755062,
          0.2970487888194003,
          0.29804701167358666,
          0.2535332401012661,
          0.3078464720268011,
          0.2921991966076079
         ],
         "yaxis": "y5"
        },
        {
         "marker": {
          "color": [
           4,
           7,
           8,
           9,
           10,
           11,
           14,
           16,
           18,
           19,
           20,
           21,
           22,
           23,
           24,
           25,
           28,
           29,
           30,
           31,
           32,
           33,
           34,
           35,
           36,
           39,
           40,
           41,
           42,
           43,
           44,
           45,
           46,
           53,
           79,
           80,
           81,
           82,
           94,
           109,
           110,
           123,
           147,
           149,
           151,
           152,
           153,
           154,
           155,
           156,
           164,
           211,
           217,
           280,
           281,
           300,
           305,
           317,
           368,
           393,
           394,
           429,
           430,
           431,
           432,
           433,
           437,
           472,
           475,
           489,
           494,
           498
          ],
          "colorbar": {
           "title": {
            "text": "Trial"
           },
           "x": 1,
           "xpad": 40
          },
          "colorscale": [
           [
            0,
            "rgb(247,251,255)"
           ],
           [
            0.125,
            "rgb(222,235,247)"
           ],
           [
            0.25,
            "rgb(198,219,239)"
           ],
           [
            0.375,
            "rgb(158,202,225)"
           ],
           [
            0.5,
            "rgb(107,174,214)"
           ],
           [
            0.625,
            "rgb(66,146,198)"
           ],
           [
            0.75,
            "rgb(33,113,181)"
           ],
           [
            0.875,
            "rgb(8,81,156)"
           ],
           [
            1,
            "rgb(8,48,107)"
           ]
          ],
          "line": {
           "color": "Grey",
           "width": 0.5
          },
          "showscale": false
         },
         "mode": "markers",
         "showlegend": false,
         "type": "scatter",
         "x": [
          "depthwise",
          "depthwise",
          "depthwise",
          "depthwise",
          "lossguide",
          "depthwise",
          "depthwise",
          "lossguide",
          "lossguide",
          "lossguide",
          "lossguide",
          "lossguide",
          "lossguide",
          "lossguide",
          "lossguide",
          "lossguide",
          "lossguide",
          "depthwise",
          "depthwise",
          "lossguide",
          "lossguide",
          "depthwise",
          "lossguide",
          "depthwise",
          "lossguide",
          "depthwise",
          "depthwise",
          "depthwise",
          "depthwise",
          "depthwise",
          "depthwise",
          "lossguide",
          "depthwise",
          "depthwise",
          "depthwise",
          "depthwise",
          "depthwise",
          "depthwise",
          "depthwise",
          "depthwise",
          "depthwise",
          "depthwise",
          "depthwise",
          "depthwise",
          "depthwise",
          "depthwise",
          "depthwise",
          "depthwise",
          "depthwise",
          "depthwise",
          "depthwise",
          "depthwise",
          "depthwise",
          "depthwise",
          "depthwise",
          "depthwise",
          "depthwise",
          "depthwise",
          "depthwise",
          "depthwise",
          "depthwise",
          "depthwise",
          "depthwise",
          "depthwise",
          "depthwise",
          "depthwise",
          "depthwise",
          "depthwise",
          "depthwise",
          "depthwise",
          "depthwise",
          "depthwise"
         ],
         "xaxis": "x6",
         "y": [
          0.2964243249258402,
          0.4021228281661481,
          0.31778231346967856,
          0.3317594289404727,
          0.2938234302905271,
          0.3472449609833941,
          0.3334530464948816,
          0.4217699732173089,
          0.3229189213984373,
          0.3542707419664452,
          0.3398362682368953,
          0.2920119083395599,
          0.31154408063557765,
          0.39872285932103935,
          0.3101256523003201,
          0.43668507178111843,
          0.29767889072399917,
          0.30025030507507305,
          0.29391292492936805,
          0.32030295395856234,
          0.3039013274370917,
          0.3195390049577525,
          0.30176311071558354,
          0.2882956407734144,
          0.31125284415023186,
          0.31233148115217735,
          0.32297639589755683,
          0.32952753172441324,
          0.30001151074951105,
          0.27591645194003767,
          0.3110916995289982,
          0.30745073160334674,
          0.34727136133703396,
          0.30637843195900916,
          0.35411390020321476,
          0.2900411000997355,
          0.29870012289230014,
          0.30038010253400277,
          0.28241835503178514,
          0.3627114223329792,
          0.2943327116034818,
          0.3424261164366315,
          0.3063530867191915,
          0.3306014790273939,
          0.2729526115260718,
          0.2853558163509007,
          0.2833013228519368,
          0.3326273141040944,
          0.29130559785848337,
          0.2884944705373401,
          0.2750780403732608,
          0.3203026684779316,
          0.28661840791168,
          0.29970256167887355,
          0.2883549059975236,
          0.33518949109537005,
          0.29507748336422496,
          0.2987184455433893,
          0.3107226679234301,
          0.26325400947242816,
          0.2645988377143709,
          0.3249956035214791,
          0.25960609054214456,
          0.264443600531112,
          0.26649283727594286,
          0.30667866501083224,
          0.2636847590755062,
          0.2970487888194003,
          0.29804701167358666,
          0.2535332401012661,
          0.3078464720268011,
          0.2921991966076079
         ],
         "yaxis": "y6"
        },
        {
         "marker": {
          "color": [
           1,
           4,
           5,
           7,
           8,
           9,
           10,
           11,
           14,
           16,
           17,
           18,
           19,
           20,
           21,
           22,
           23,
           24,
           25,
           27,
           28,
           29,
           30,
           31,
           32,
           33,
           34,
           35,
           36,
           37,
           38,
           39,
           40,
           41,
           42,
           43,
           44,
           45,
           46,
           53,
           79,
           80,
           81,
           82,
           94,
           109,
           110,
           123,
           147,
           149,
           150,
           151,
           152,
           153,
           154,
           155,
           156,
           164,
           211,
           217,
           280,
           281,
           300,
           305,
           317,
           368,
           392,
           393,
           394,
           429,
           430,
           431,
           432,
           433,
           437,
           472,
           475,
           489,
           494,
           498
          ],
          "colorbar": {
           "title": {
            "text": "Trial"
           },
           "x": 1,
           "xpad": 40
          },
          "colorscale": [
           [
            0,
            "rgb(247,251,255)"
           ],
           [
            0.125,
            "rgb(222,235,247)"
           ],
           [
            0.25,
            "rgb(198,219,239)"
           ],
           [
            0.375,
            "rgb(158,202,225)"
           ],
           [
            0.5,
            "rgb(107,174,214)"
           ],
           [
            0.625,
            "rgb(66,146,198)"
           ],
           [
            0.75,
            "rgb(33,113,181)"
           ],
           [
            0.875,
            "rgb(8,81,156)"
           ],
           [
            1,
            "rgb(8,48,107)"
           ]
          ],
          "line": {
           "color": "Grey",
           "width": 0.5
          },
          "showscale": false
         },
         "mode": "markers",
         "showlegend": false,
         "type": "scatter",
         "x": [
          0.574485163632042,
          0.02932100047183291,
          0.0006070155694141794,
          0.015064619068942013,
          0.00005994036749692399,
          6.76683090208453e-7,
          0.07688553948726365,
          0.0007525141520487903,
          2.482741090341392e-7,
          1.9634946069845978e-7,
          0.2837654346123945,
          0.06532591371284432,
          0.014987773163052727,
          0.9688946044463521,
          0.017713694612895948,
          0.0022812211459915972,
          0.000044166438675821603,
          0.1041761754508468,
          0.0031587073918047126,
          0.19074331246131757,
          0.006328377788871588,
          0.0490327387823917,
          0.039834601822568094,
          0.13164485800055156,
          0.9574714645050553,
          0.015752922474914204,
          0.055222819950753184,
          0.19968429899512155,
          0.4043009479723524,
          0.3482668436905685,
          0.15953508859296936,
          0.03525505071483449,
          0.009754045853321942,
          0.05436285278638523,
          0.38804511992377827,
          0.003804023068013783,
          0.005707421109759703,
          0.01922764543760081,
          0.001259427012769774,
          0.0003750109137076497,
          0.006536411367008368,
          0.02236120009054802,
          0.030293681768891197,
          0.13399111679347614,
          0.018050531565665717,
          0.016892848035936235,
          0.0028659574890672283,
          0.012183594190621509,
          0.0002643830562066708,
          0.001363113512689077,
          0.10845455722952005,
          0.025501829728487857,
          0.030868910594128413,
          0.02760500850304341,
          0.07382047617906609,
          0.22948680360302262,
          0.004985943937706893,
          0.035814806943949395,
          0.01021438829248647,
          0.03606001419628863,
          0.07692169505494441,
          0.03239069726939329,
          0.02787568437318446,
          0.0035526149191596537,
          0.008961009103526875,
          0.04724602112121549,
          0.10604004392780059,
          0.019612615445027137,
          0.0130335992051885,
          0.014296999783710943,
          0.0019054537737506353,
          0.006188807028604861,
          0.0019235235655195608,
          0.0017174385143703683,
          0.003673952269758037,
          0.0025389591003643734,
          0.0008053138840328064,
          0.0067981943191443815,
          0.007298498428721786,
          0.0021049691396982065
         ],
         "xaxis": "x7",
         "y": [
          0.519294173810417,
          0.2964243249258402,
          0.6570908050801666,
          0.4021228281661481,
          0.31778231346967856,
          0.3317594289404727,
          0.2938234302905271,
          0.3472449609833941,
          0.3334530464948816,
          0.4217699732173089,
          0.43589788194195717,
          0.3229189213984373,
          0.3542707419664452,
          0.3398362682368953,
          0.2920119083395599,
          0.31154408063557765,
          0.39872285932103935,
          0.3101256523003201,
          0.43668507178111843,
          0.41990007478418934,
          0.29767889072399917,
          0.30025030507507305,
          0.29391292492936805,
          0.32030295395856234,
          0.3039013274370917,
          0.3195390049577525,
          0.30176311071558354,
          0.2882956407734144,
          0.31125284415023186,
          0.4461247292534196,
          0.4139389856410277,
          0.31233148115217735,
          0.32297639589755683,
          0.32952753172441324,
          0.30001151074951105,
          0.27591645194003767,
          0.3110916995289982,
          0.30745073160334674,
          0.34727136133703396,
          0.30637843195900916,
          0.35411390020321476,
          0.2900411000997355,
          0.29870012289230014,
          0.30038010253400277,
          0.28241835503178514,
          0.3627114223329792,
          0.2943327116034818,
          0.3424261164366315,
          0.3063530867191915,
          0.3306014790273939,
          0.40318234491561045,
          0.2729526115260718,
          0.2853558163509007,
          0.2833013228519368,
          0.3326273141040944,
          0.29130559785848337,
          0.2884944705373401,
          0.2750780403732608,
          0.3203026684779316,
          0.28661840791168,
          0.29970256167887355,
          0.2883549059975236,
          0.33518949109537005,
          0.29507748336422496,
          0.2987184455433893,
          0.3107226679234301,
          0.40262858194937917,
          0.26325400947242816,
          0.2645988377143709,
          0.3249956035214791,
          0.25960609054214456,
          0.264443600531112,
          0.26649283727594286,
          0.30667866501083224,
          0.2636847590755062,
          0.2970487888194003,
          0.29804701167358666,
          0.2535332401012661,
          0.3078464720268011,
          0.2921991966076079
         ],
         "yaxis": "y7"
        },
        {
         "marker": {
          "color": [
           1,
           4,
           5,
           7,
           8,
           9,
           10,
           11,
           14,
           16,
           17,
           18,
           19,
           20,
           21,
           22,
           23,
           24,
           25,
           27,
           28,
           29,
           30,
           31,
           32,
           33,
           34,
           35,
           36,
           37,
           38,
           39,
           40,
           41,
           42,
           43,
           44,
           45,
           46,
           53,
           79,
           80,
           81,
           82,
           94,
           109,
           110,
           123,
           147,
           149,
           150,
           151,
           152,
           153,
           154,
           155,
           156,
           164,
           211,
           217,
           280,
           281,
           300,
           305,
           317,
           368,
           392,
           393,
           394,
           429,
           430,
           431,
           432,
           433,
           437,
           472,
           475,
           489,
           494,
           498
          ],
          "colorbar": {
           "title": {
            "text": "Trial"
           },
           "x": 1,
           "xpad": 40
          },
          "colorscale": [
           [
            0,
            "rgb(247,251,255)"
           ],
           [
            0.125,
            "rgb(222,235,247)"
           ],
           [
            0.25,
            "rgb(198,219,239)"
           ],
           [
            0.375,
            "rgb(158,202,225)"
           ],
           [
            0.5,
            "rgb(107,174,214)"
           ],
           [
            0.625,
            "rgb(66,146,198)"
           ],
           [
            0.75,
            "rgb(33,113,181)"
           ],
           [
            0.875,
            "rgb(8,81,156)"
           ],
           [
            1,
            "rgb(8,48,107)"
           ]
          ],
          "line": {
           "color": "Grey",
           "width": 0.5
          },
          "showscale": false
         },
         "mode": "markers",
         "showlegend": false,
         "type": "scatter",
         "x": [
          0.06318730785749581,
          0.13764422318448438,
          0.023115913784056037,
          0.21498862971580895,
          0.1727703872951539,
          0.2796123191793462,
          0.07441126503651176,
          0.27339710693032954,
          0.04988107380233804,
          0.03942674743114931,
          0.10458057586654723,
          0.11326645476714818,
          0.1158627613788677,
          0.15629835726505215,
          0.08388602029589849,
          0.07834391796016311,
          0.021392824930519208,
          0.07817114720973396,
          0.013031679530839613,
          0.08733107290795318,
          0.05945597131506211,
          0.1333651508708334,
          0.1329598252543362,
          0.09643584066758804,
          0.07062770002167325,
          0.04699164222622511,
          0.09232356739674223,
          0.11908873460501686,
          0.1086618311816683,
          0.06315814363463568,
          0.0776195183042343,
          0.12352732315316471,
          0.1415806360129761,
          0.09697565419724219,
          0.13109976726844397,
          0.15074142148598843,
          0.15842776637520736,
          0.19225617838490397,
          0.11660289330382395,
          0.17374789688132708,
          0.035383281664330496,
          0.14496560171746137,
          0.1448445288500507,
          0.103668360439448,
          0.12691258546764259,
          0.12533170872367239,
          0.1472651787557535,
          0.16043566546190083,
          0.11964164694692739,
          0.17251645512459543,
          0.11376947549507711,
          0.08669338063198498,
          0.1058521104327637,
          0.09952768981020466,
          0.10424083685628187,
          0.09586382849723596,
          0.08766215474983258,
          0.1274813761636793,
          0.13308353034508852,
          0.10695054298761583,
          0.0851060588207297,
          0.10508390409942656,
          0.11147441342468017,
          0.07255665254174082,
          0.1262734311714008,
          0.13347179131396922,
          0.09567975972397869,
          0.12397750643827807,
          0.12693430646256387,
          0.12673659810419097,
          0.13995584741111902,
          0.1511088816883495,
          0.13979729094794505,
          0.14076057755877686,
          0.14975562928651986,
          0.1407087445657564,
          0.15362764673572743,
          0.13779959534970157,
          0.13952052238853918,
          0.16322190034700407
         ],
         "xaxis": "x8",
         "y": [
          0.519294173810417,
          0.2964243249258402,
          0.6570908050801666,
          0.4021228281661481,
          0.31778231346967856,
          0.3317594289404727,
          0.2938234302905271,
          0.3472449609833941,
          0.3334530464948816,
          0.4217699732173089,
          0.43589788194195717,
          0.3229189213984373,
          0.3542707419664452,
          0.3398362682368953,
          0.2920119083395599,
          0.31154408063557765,
          0.39872285932103935,
          0.3101256523003201,
          0.43668507178111843,
          0.41990007478418934,
          0.29767889072399917,
          0.30025030507507305,
          0.29391292492936805,
          0.32030295395856234,
          0.3039013274370917,
          0.3195390049577525,
          0.30176311071558354,
          0.2882956407734144,
          0.31125284415023186,
          0.4461247292534196,
          0.4139389856410277,
          0.31233148115217735,
          0.32297639589755683,
          0.32952753172441324,
          0.30001151074951105,
          0.27591645194003767,
          0.3110916995289982,
          0.30745073160334674,
          0.34727136133703396,
          0.30637843195900916,
          0.35411390020321476,
          0.2900411000997355,
          0.29870012289230014,
          0.30038010253400277,
          0.28241835503178514,
          0.3627114223329792,
          0.2943327116034818,
          0.3424261164366315,
          0.3063530867191915,
          0.3306014790273939,
          0.40318234491561045,
          0.2729526115260718,
          0.2853558163509007,
          0.2833013228519368,
          0.3326273141040944,
          0.29130559785848337,
          0.2884944705373401,
          0.2750780403732608,
          0.3203026684779316,
          0.28661840791168,
          0.29970256167887355,
          0.2883549059975236,
          0.33518949109537005,
          0.29507748336422496,
          0.2987184455433893,
          0.3107226679234301,
          0.40262858194937917,
          0.26325400947242816,
          0.2645988377143709,
          0.3249956035214791,
          0.25960609054214456,
          0.264443600531112,
          0.26649283727594286,
          0.30667866501083224,
          0.2636847590755062,
          0.2970487888194003,
          0.29804701167358666,
          0.2535332401012661,
          0.3078464720268011,
          0.2921991966076079
         ],
         "yaxis": "y8"
        },
        {
         "marker": {
          "color": [
           4,
           7,
           8,
           9,
           10,
           11,
           14,
           16,
           18,
           19,
           20,
           21,
           22,
           23,
           24,
           25,
           28,
           29,
           30,
           31,
           32,
           33,
           34,
           35,
           36,
           39,
           40,
           41,
           42,
           43,
           44,
           45,
           46,
           53,
           79,
           80,
           81,
           82,
           94,
           109,
           110,
           123,
           147,
           149,
           151,
           152,
           153,
           154,
           155,
           156,
           164,
           211,
           217,
           280,
           281,
           300,
           305,
           317,
           368,
           393,
           394,
           429,
           430,
           431,
           432,
           433,
           437,
           472,
           475,
           489,
           494,
           498
          ],
          "colorbar": {
           "title": {
            "text": "Trial"
           },
           "x": 1,
           "xpad": 40
          },
          "colorscale": [
           [
            0,
            "rgb(247,251,255)"
           ],
           [
            0.125,
            "rgb(222,235,247)"
           ],
           [
            0.25,
            "rgb(198,219,239)"
           ],
           [
            0.375,
            "rgb(158,202,225)"
           ],
           [
            0.5,
            "rgb(107,174,214)"
           ],
           [
            0.625,
            "rgb(66,146,198)"
           ],
           [
            0.75,
            "rgb(33,113,181)"
           ],
           [
            0.875,
            "rgb(8,81,156)"
           ],
           [
            1,
            "rgb(8,48,107)"
           ]
          ],
          "line": {
           "color": "Grey",
           "width": 0.5
          },
          "showscale": false
         },
         "mode": "markers",
         "showlegend": false,
         "type": "scatter",
         "x": [
          2,
          12,
          13,
          13,
          2,
          4,
          6,
          11,
          1,
          1,
          5,
          8,
          16,
          9,
          7,
          9,
          3,
          3,
          2,
          7,
          4,
          16,
          6,
          2,
          10,
          2,
          3,
          1,
          4,
          2,
          5,
          2,
          8,
          3,
          14,
          2,
          1,
          4,
          2,
          5,
          3,
          2,
          1,
          12,
          2,
          2,
          2,
          1,
          4,
          3,
          2,
          1,
          3,
          4,
          3,
          1,
          2,
          3,
          5,
          2,
          2,
          1,
          2,
          2,
          2,
          1,
          2,
          4,
          3,
          3,
          1,
          4
         ],
         "xaxis": "x9",
         "y": [
          0.2964243249258402,
          0.4021228281661481,
          0.31778231346967856,
          0.3317594289404727,
          0.2938234302905271,
          0.3472449609833941,
          0.3334530464948816,
          0.4217699732173089,
          0.3229189213984373,
          0.3542707419664452,
          0.3398362682368953,
          0.2920119083395599,
          0.31154408063557765,
          0.39872285932103935,
          0.3101256523003201,
          0.43668507178111843,
          0.29767889072399917,
          0.30025030507507305,
          0.29391292492936805,
          0.32030295395856234,
          0.3039013274370917,
          0.3195390049577525,
          0.30176311071558354,
          0.2882956407734144,
          0.31125284415023186,
          0.31233148115217735,
          0.32297639589755683,
          0.32952753172441324,
          0.30001151074951105,
          0.27591645194003767,
          0.3110916995289982,
          0.30745073160334674,
          0.34727136133703396,
          0.30637843195900916,
          0.35411390020321476,
          0.2900411000997355,
          0.29870012289230014,
          0.30038010253400277,
          0.28241835503178514,
          0.3627114223329792,
          0.2943327116034818,
          0.3424261164366315,
          0.3063530867191915,
          0.3306014790273939,
          0.2729526115260718,
          0.2853558163509007,
          0.2833013228519368,
          0.3326273141040944,
          0.29130559785848337,
          0.2884944705373401,
          0.2750780403732608,
          0.3203026684779316,
          0.28661840791168,
          0.29970256167887355,
          0.2883549059975236,
          0.33518949109537005,
          0.29507748336422496,
          0.2987184455433893,
          0.3107226679234301,
          0.26325400947242816,
          0.2645988377143709,
          0.3249956035214791,
          0.25960609054214456,
          0.264443600531112,
          0.26649283727594286,
          0.30667866501083224,
          0.2636847590755062,
          0.2970487888194003,
          0.29804701167358666,
          0.2535332401012661,
          0.3078464720268011,
          0.2921991966076079
         ],
         "yaxis": "y9"
        },
        {
         "marker": {
          "color": [
           4,
           7,
           8,
           9,
           10,
           14,
           18,
           19,
           20,
           21,
           23,
           24,
           28,
           29,
           30,
           31,
           32,
           33,
           34,
           35,
           39,
           40,
           41,
           42,
           43,
           44,
           45,
           46,
           53,
           80,
           81,
           82,
           94,
           109,
           110,
           123,
           147,
           151,
           152,
           153,
           154,
           155,
           156,
           164,
           211,
           217,
           280,
           281,
           300,
           305,
           317,
           393,
           394,
           429,
           430,
           431,
           432,
           433,
           437,
           472,
           475,
           489,
           494
          ],
          "colorbar": {
           "title": {
            "text": "Trial"
           },
           "x": 1,
           "xpad": 40
          },
          "colorscale": [
           [
            0,
            "rgb(247,251,255)"
           ],
           [
            0.125,
            "rgb(222,235,247)"
           ],
           [
            0.25,
            "rgb(198,219,239)"
           ],
           [
            0.375,
            "rgb(158,202,225)"
           ],
           [
            0.5,
            "rgb(107,174,214)"
           ],
           [
            0.625,
            "rgb(66,146,198)"
           ],
           [
            0.75,
            "rgb(33,113,181)"
           ],
           [
            0.875,
            "rgb(8,81,156)"
           ],
           [
            1,
            "rgb(8,48,107)"
           ]
          ],
          "line": {
           "color": "Grey",
           "width": 0.5
          },
          "showscale": false
         },
         "mode": "markers",
         "showlegend": false,
         "type": "scatter",
         "x": [
          "forest",
          "tree",
          "tree",
          "forest",
          "tree",
          "tree",
          "forest",
          "forest",
          "tree",
          "forest",
          "forest",
          "tree",
          "forest",
          "forest",
          "forest",
          "forest",
          "tree",
          "forest",
          "tree",
          "forest",
          "forest",
          "forest",
          "forest",
          "forest",
          "forest",
          "tree",
          "forest",
          "forest",
          "tree",
          "forest",
          "forest",
          "forest",
          "forest",
          "forest",
          "forest",
          "forest",
          "forest",
          "forest",
          "forest",
          "forest",
          "forest",
          "forest",
          "forest",
          "forest",
          "forest",
          "forest",
          "forest",
          "forest",
          "forest",
          "forest",
          "forest",
          "forest",
          "forest",
          "forest",
          "forest",
          "forest",
          "forest",
          "forest",
          "forest",
          "forest",
          "forest",
          "tree",
          "tree"
         ],
         "xaxis": "x10",
         "y": [
          0.2964243249258402,
          0.4021228281661481,
          0.31778231346967856,
          0.3317594289404727,
          0.2938234302905271,
          0.3334530464948816,
          0.3229189213984373,
          0.3542707419664452,
          0.3398362682368953,
          0.2920119083395599,
          0.39872285932103935,
          0.3101256523003201,
          0.29767889072399917,
          0.30025030507507305,
          0.29391292492936805,
          0.32030295395856234,
          0.3039013274370917,
          0.3195390049577525,
          0.30176311071558354,
          0.2882956407734144,
          0.31233148115217735,
          0.32297639589755683,
          0.32952753172441324,
          0.30001151074951105,
          0.27591645194003767,
          0.3110916995289982,
          0.30745073160334674,
          0.34727136133703396,
          0.30637843195900916,
          0.2900411000997355,
          0.29870012289230014,
          0.30038010253400277,
          0.28241835503178514,
          0.3627114223329792,
          0.2943327116034818,
          0.3424261164366315,
          0.3063530867191915,
          0.2729526115260718,
          0.2853558163509007,
          0.2833013228519368,
          0.3326273141040944,
          0.29130559785848337,
          0.2884944705373401,
          0.2750780403732608,
          0.3203026684779316,
          0.28661840791168,
          0.29970256167887355,
          0.2883549059975236,
          0.33518949109537005,
          0.29507748336422496,
          0.2987184455433893,
          0.26325400947242816,
          0.2645988377143709,
          0.3249956035214791,
          0.25960609054214456,
          0.264443600531112,
          0.26649283727594286,
          0.30667866501083224,
          0.2636847590755062,
          0.2970487888194003,
          0.29804701167358666,
          0.2535332401012661,
          0.3078464720268011
         ],
         "yaxis": "y10"
        },
        {
         "marker": {
          "color": [
           4,
           7,
           8,
           9,
           10,
           14,
           18,
           19,
           20,
           21,
           23,
           24,
           28,
           29,
           30,
           31,
           32,
           33,
           34,
           35,
           39,
           40,
           41,
           42,
           43,
           44,
           45,
           46,
           53,
           80,
           81,
           82,
           94,
           109,
           110,
           123,
           147,
           151,
           152,
           153,
           154,
           155,
           156,
           164,
           211,
           217,
           280,
           281,
           300,
           305,
           317,
           393,
           394,
           429,
           430,
           431,
           432,
           433,
           437,
           472,
           475,
           489,
           494
          ],
          "colorbar": {
           "title": {
            "text": "Trial"
           },
           "x": 1,
           "xpad": 40
          },
          "colorscale": [
           [
            0,
            "rgb(247,251,255)"
           ],
           [
            0.125,
            "rgb(222,235,247)"
           ],
           [
            0.25,
            "rgb(198,219,239)"
           ],
           [
            0.375,
            "rgb(158,202,225)"
           ],
           [
            0.5,
            "rgb(107,174,214)"
           ],
           [
            0.625,
            "rgb(66,146,198)"
           ],
           [
            0.75,
            "rgb(33,113,181)"
           ],
           [
            0.875,
            "rgb(8,81,156)"
           ],
           [
            1,
            "rgb(8,48,107)"
           ]
          ],
          "line": {
           "color": "Grey",
           "width": 0.5
          },
          "showscale": false
         },
         "mode": "markers",
         "showlegend": false,
         "type": "scatter",
         "x": [
          3.0118659882617117e-7,
          0.000003075095259104445,
          0.00011710232809812825,
          0.000003499675682069358,
          0.000001033375989766645,
          8.606336591203087e-7,
          1.1618685773547894e-8,
          0.032981450527181766,
          1.4809743956203268e-8,
          3.5942150315105686e-7,
          0.00008005268445881769,
          1.1498759752567991e-7,
          0.000023050317973338297,
          4.5562645318159805e-7,
          1.6349872718601165e-7,
          6.200789993728543e-8,
          9.13293686063748e-8,
          0.000003501886577180096,
          8.83903199725088e-7,
          2.47614057100419e-8,
          3.8361368854884936e-8,
          1.3137945089031655e-8,
          2.0533929608616413e-7,
          6.611310445023569e-8,
          2.852195477730187e-7,
          8.908665207221664e-7,
          5.212888641403138e-8,
          1.0967716117456025e-8,
          3.324221264539425e-7,
          1.4295803779043087e-7,
          4.5518094360207935e-8,
          2.842563617332579e-7,
          2.2268759642653922e-7,
          1.3768723079057814e-7,
          0.0000022491153471695134,
          3.253522368155712e-8,
          2.591634150109847e-7,
          7.655309874466681e-7,
          3.318434565946741e-7,
          0.000001934606961416429,
          0.0000017143519918325288,
          0.000009773506118698454,
          6.067695647544678e-7,
          0.000005053722345572937,
          0.000006011438140677015,
          0.00000144945951384671,
          7.267154143159432e-7,
          0.0000017410737145548425,
          0.0000014839536938456783,
          0.000004555984691592875,
          4.708353978232386e-7,
          0.0000027120860622539425,
          0.000014395748812522314,
          0.000012783337951055501,
          0.0000035099740218069026,
          0.0000037511068545958653,
          0.000026287859873123555,
          0.000035758434335996116,
          0.000006081572720355821,
          0.0000062821059547183294,
          0.000023409924606604373,
          0.0000044093900571337765,
          0.000003288837741583184
         ],
         "xaxis": "x11",
         "y": [
          0.2964243249258402,
          0.4021228281661481,
          0.31778231346967856,
          0.3317594289404727,
          0.2938234302905271,
          0.3334530464948816,
          0.3229189213984373,
          0.3542707419664452,
          0.3398362682368953,
          0.2920119083395599,
          0.39872285932103935,
          0.3101256523003201,
          0.29767889072399917,
          0.30025030507507305,
          0.29391292492936805,
          0.32030295395856234,
          0.3039013274370917,
          0.3195390049577525,
          0.30176311071558354,
          0.2882956407734144,
          0.31233148115217735,
          0.32297639589755683,
          0.32952753172441324,
          0.30001151074951105,
          0.27591645194003767,
          0.3110916995289982,
          0.30745073160334674,
          0.34727136133703396,
          0.30637843195900916,
          0.2900411000997355,
          0.29870012289230014,
          0.30038010253400277,
          0.28241835503178514,
          0.3627114223329792,
          0.2943327116034818,
          0.3424261164366315,
          0.3063530867191915,
          0.2729526115260718,
          0.2853558163509007,
          0.2833013228519368,
          0.3326273141040944,
          0.29130559785848337,
          0.2884944705373401,
          0.2750780403732608,
          0.3203026684779316,
          0.28661840791168,
          0.29970256167887355,
          0.2883549059975236,
          0.33518949109537005,
          0.29507748336422496,
          0.2987184455433893,
          0.26325400947242816,
          0.2645988377143709,
          0.3249956035214791,
          0.25960609054214456,
          0.264443600531112,
          0.26649283727594286,
          0.30667866501083224,
          0.2636847590755062,
          0.2970487888194003,
          0.29804701167358666,
          0.2535332401012661,
          0.3078464720268011
         ],
         "yaxis": "y11"
        },
        {
         "marker": {
          "color": [
           4,
           7,
           8,
           9,
           10,
           14,
           18,
           19,
           20,
           21,
           23,
           24,
           28,
           29,
           30,
           31,
           32,
           33,
           34,
           35,
           39,
           40,
           41,
           42,
           43,
           44,
           45,
           46,
           53,
           80,
           81,
           82,
           94,
           109,
           110,
           123,
           147,
           151,
           152,
           153,
           154,
           155,
           156,
           164,
           211,
           217,
           280,
           281,
           300,
           305,
           317,
           393,
           394,
           429,
           430,
           431,
           432,
           433,
           437,
           472,
           475,
           489,
           494
          ],
          "colorbar": {
           "title": {
            "text": "Trial"
           },
           "x": 1,
           "xpad": 40
          },
          "colorscale": [
           [
            0,
            "rgb(247,251,255)"
           ],
           [
            0.125,
            "rgb(222,235,247)"
           ],
           [
            0.25,
            "rgb(198,219,239)"
           ],
           [
            0.375,
            "rgb(158,202,225)"
           ],
           [
            0.5,
            "rgb(107,174,214)"
           ],
           [
            0.625,
            "rgb(66,146,198)"
           ],
           [
            0.75,
            "rgb(33,113,181)"
           ],
           [
            0.875,
            "rgb(8,81,156)"
           ],
           [
            1,
            "rgb(8,48,107)"
           ]
          ],
          "line": {
           "color": "Grey",
           "width": 0.5
          },
          "showscale": false
         },
         "mode": "markers",
         "showlegend": false,
         "type": "scatter",
         "x": [
          "uniform",
          "uniform",
          "uniform",
          "uniform",
          "uniform",
          "weighted",
          "uniform",
          "uniform",
          "weighted",
          "uniform",
          "uniform",
          "weighted",
          "uniform",
          "uniform",
          "uniform",
          "uniform",
          "uniform",
          "uniform",
          "weighted",
          "uniform",
          "uniform",
          "uniform",
          "uniform",
          "uniform",
          "uniform",
          "uniform",
          "uniform",
          "weighted",
          "uniform",
          "uniform",
          "uniform",
          "uniform",
          "uniform",
          "uniform",
          "uniform",
          "uniform",
          "uniform",
          "uniform",
          "uniform",
          "uniform",
          "uniform",
          "uniform",
          "uniform",
          "weighted",
          "weighted",
          "weighted",
          "weighted",
          "weighted",
          "weighted",
          "weighted",
          "weighted",
          "weighted",
          "weighted",
          "weighted",
          "weighted",
          "weighted",
          "weighted",
          "weighted",
          "weighted",
          "weighted",
          "weighted",
          "weighted",
          "weighted"
         ],
         "xaxis": "x12",
         "y": [
          0.2964243249258402,
          0.4021228281661481,
          0.31778231346967856,
          0.3317594289404727,
          0.2938234302905271,
          0.3334530464948816,
          0.3229189213984373,
          0.3542707419664452,
          0.3398362682368953,
          0.2920119083395599,
          0.39872285932103935,
          0.3101256523003201,
          0.29767889072399917,
          0.30025030507507305,
          0.29391292492936805,
          0.32030295395856234,
          0.3039013274370917,
          0.3195390049577525,
          0.30176311071558354,
          0.2882956407734144,
          0.31233148115217735,
          0.32297639589755683,
          0.32952753172441324,
          0.30001151074951105,
          0.27591645194003767,
          0.3110916995289982,
          0.30745073160334674,
          0.34727136133703396,
          0.30637843195900916,
          0.2900411000997355,
          0.29870012289230014,
          0.30038010253400277,
          0.28241835503178514,
          0.3627114223329792,
          0.2943327116034818,
          0.3424261164366315,
          0.3063530867191915,
          0.2729526115260718,
          0.2853558163509007,
          0.2833013228519368,
          0.3326273141040944,
          0.29130559785848337,
          0.2884944705373401,
          0.2750780403732608,
          0.3203026684779316,
          0.28661840791168,
          0.29970256167887355,
          0.2883549059975236,
          0.33518949109537005,
          0.29507748336422496,
          0.2987184455433893,
          0.26325400947242816,
          0.2645988377143709,
          0.3249956035214791,
          0.25960609054214456,
          0.264443600531112,
          0.26649283727594286,
          0.30667866501083224,
          0.2636847590755062,
          0.2970487888194003,
          0.29804701167358666,
          0.2535332401012661,
          0.3078464720268011
         ],
         "yaxis": "y12"
        },
        {
         "marker": {
          "color": [
           4,
           7,
           8,
           9,
           10,
           14,
           18,
           19,
           20,
           21,
           23,
           24,
           28,
           29,
           30,
           31,
           32,
           33,
           34,
           35,
           39,
           40,
           41,
           42,
           43,
           44,
           45,
           46,
           53,
           80,
           81,
           82,
           94,
           109,
           110,
           123,
           147,
           151,
           152,
           153,
           154,
           155,
           156,
           164,
           211,
           217,
           280,
           281,
           300,
           305,
           317,
           393,
           394,
           429,
           430,
           431,
           432,
           433,
           437,
           472,
           475,
           489,
           494
          ],
          "colorbar": {
           "title": {
            "text": "Trial"
           },
           "x": 1,
           "xpad": 40
          },
          "colorscale": [
           [
            0,
            "rgb(247,251,255)"
           ],
           [
            0.125,
            "rgb(222,235,247)"
           ],
           [
            0.25,
            "rgb(198,219,239)"
           ],
           [
            0.375,
            "rgb(158,202,225)"
           ],
           [
            0.5,
            "rgb(107,174,214)"
           ],
           [
            0.625,
            "rgb(66,146,198)"
           ],
           [
            0.75,
            "rgb(33,113,181)"
           ],
           [
            0.875,
            "rgb(8,81,156)"
           ],
           [
            1,
            "rgb(8,48,107)"
           ]
          ],
          "line": {
           "color": "Grey",
           "width": 0.5
          },
          "showscale": false
         },
         "mode": "markers",
         "showlegend": false,
         "type": "scatter",
         "x": [
          0.5710537951126793,
          0.000003994538177154855,
          0.1821930437934653,
          7.593034903208851e-8,
          0.00009505786310154948,
          5.556766432156757e-8,
          0.010480308580502461,
          0.0005242965669412552,
          0.5677521877558752,
          0.0002998659435608065,
          0.00012674360521126944,
          0.00001127905898865452,
          0.0013438948255138736,
          0.01572313622063805,
          0.00002253020787261293,
          0.000012214412762283429,
          0.00007676883072825261,
          0.000001372247018744276,
          0.00006833776239621083,
          0.0008527959920168323,
          0.0005436388053191489,
          0.0021252678520749875,
          0.0000960155380165264,
          0.00022068788511496668,
          0.000017020682199744527,
          0.002255843603484947,
          0.00030735789523298325,
          0.000029507309852671496,
          0.0000018538876253945652,
          0.00002627610816770901,
          0.00003754875677855995,
          0.00031213949117498763,
          0.000005668766458817325,
          0.0000065116658490052244,
          0.0000027666856783275155,
          6.163172177014745e-7,
          0.0000060351963927196145,
          0.000034002407891725886,
          0.00002435342068696233,
          0.000022298036181748202,
          0.000011761435186397343,
          0.00000502029787137609,
          0.00005069052066532648,
          0.000016390554567644902,
          0.000016165474156796995,
          9.712632391285875e-7,
          0.0000027400489023291512,
          0.0000010764760476985638,
          3.963311252118375e-7,
          0.000008591598650991824,
          0.00002277017617762924,
          0.000003902089070485839,
          0.0000044950003085941165,
          0.000004079872527886215,
          0.00000985086376174675,
          0.000010320653937484019,
          0.00000886667447344596,
          0.000010047170420872678,
          0.00005451312738485168,
          0.00005588389175912519,
          0.0001299853416803548,
          0.00001105656318625032,
          0.000002545674981052796
         ],
         "xaxis": "x13",
         "y": [
          0.2964243249258402,
          0.4021228281661481,
          0.31778231346967856,
          0.3317594289404727,
          0.2938234302905271,
          0.3334530464948816,
          0.3229189213984373,
          0.3542707419664452,
          0.3398362682368953,
          0.2920119083395599,
          0.39872285932103935,
          0.3101256523003201,
          0.29767889072399917,
          0.30025030507507305,
          0.29391292492936805,
          0.32030295395856234,
          0.3039013274370917,
          0.3195390049577525,
          0.30176311071558354,
          0.2882956407734144,
          0.31233148115217735,
          0.32297639589755683,
          0.32952753172441324,
          0.30001151074951105,
          0.27591645194003767,
          0.3110916995289982,
          0.30745073160334674,
          0.34727136133703396,
          0.30637843195900916,
          0.2900411000997355,
          0.29870012289230014,
          0.30038010253400277,
          0.28241835503178514,
          0.3627114223329792,
          0.2943327116034818,
          0.3424261164366315,
          0.3063530867191915,
          0.2729526115260718,
          0.2853558163509007,
          0.2833013228519368,
          0.3326273141040944,
          0.29130559785848337,
          0.2884944705373401,
          0.2750780403732608,
          0.3203026684779316,
          0.28661840791168,
          0.29970256167887355,
          0.2883549059975236,
          0.33518949109537005,
          0.29507748336422496,
          0.2987184455433893,
          0.26325400947242816,
          0.2645988377143709,
          0.3249956035214791,
          0.25960609054214456,
          0.264443600531112,
          0.26649283727594286,
          0.30667866501083224,
          0.2636847590755062,
          0.2970487888194003,
          0.29804701167358666,
          0.2535332401012661,
          0.3078464720268011
         ],
         "yaxis": "y13"
        },
        {
         "marker": {
          "color": [
           1,
           4,
           5,
           7,
           8,
           9,
           10,
           11,
           14,
           16,
           17,
           18,
           19,
           20,
           21,
           22,
           23,
           24,
           25,
           27,
           28,
           29,
           30,
           31,
           32,
           33,
           34,
           35,
           36,
           37,
           38,
           39,
           40,
           41,
           42,
           43,
           44,
           45,
           46,
           53,
           79,
           80,
           81,
           82,
           94,
           109,
           110,
           123,
           147,
           149,
           150,
           151,
           152,
           153,
           154,
           155,
           156,
           164,
           211,
           217,
           280,
           281,
           300,
           305,
           317,
           368,
           392,
           393,
           394,
           429,
           430,
           431,
           432,
           433,
           437,
           472,
           475,
           489,
           494,
           498
          ],
          "colorbar": {
           "title": {
            "text": "Trial"
           },
           "x": 1,
           "xpad": 40
          },
          "colorscale": [
           [
            0,
            "rgb(247,251,255)"
           ],
           [
            0.125,
            "rgb(222,235,247)"
           ],
           [
            0.25,
            "rgb(198,219,239)"
           ],
           [
            0.375,
            "rgb(158,202,225)"
           ],
           [
            0.5,
            "rgb(107,174,214)"
           ],
           [
            0.625,
            "rgb(66,146,198)"
           ],
           [
            0.75,
            "rgb(33,113,181)"
           ],
           [
            0.875,
            "rgb(8,81,156)"
           ],
           [
            1,
            "rgb(8,48,107)"
           ]
          ],
          "line": {
           "color": "Grey",
           "width": 0.5
          },
          "showscale": false
         },
         "mode": "markers",
         "showlegend": false,
         "type": "scatter",
         "x": [
          0.3274034664069657,
          0.25860326840383036,
          0.2530955012311517,
          0.20331327027416146,
          0.6279468723337971,
          0.3738508717482608,
          0.5064483815465395,
          0.23088725074999364,
          0.4320412077803225,
          0.563857435795754,
          0.7593742051470727,
          0.5138656722396847,
          0.4264965712313108,
          0.32485271525570136,
          0.46431684895727376,
          0.49487187673606364,
          0.6207132503568871,
          0.44525866434295647,
          0.5424011136509231,
          0.46413691341294827,
          0.5838284389139394,
          0.38099064541243166,
          0.2790599311210198,
          0.3065084434833488,
          0.39186666305897544,
          0.48845088764571004,
          0.29334238934631596,
          0.34700124583808417,
          0.36750380962132667,
          0.35095556431758446,
          0.4225693986315956,
          0.2934946568224438,
          0.3298611204969446,
          0.2719481579326839,
          0.2470064742626284,
          0.3979808226283441,
          0.4048967695964129,
          0.4547279782246405,
          0.3537047350386849,
          0.40060948486276815,
          0.4638607482718292,
          0.33302033526899355,
          0.3327036285140785,
          0.4091282658755525,
          0.36250157220979606,
          0.3518428268250937,
          0.36914422052778995,
          0.20498699240897256,
          0.3167244914669937,
          0.3874542635376331,
          0.42134780253019,
          0.4355176788862644,
          0.4349773265437744,
          0.4288471119455541,
          0.41219900995268355,
          0.44460167848232857,
          0.43463097219572916,
          0.47965438193322146,
          0.48419177127605256,
          0.5070720929677841,
          0.43871347726881504,
          0.5076913140625285,
          0.48165614547329566,
          0.5219476395370587,
          0.47400687384319395,
          0.4518650231263683,
          0.3822486741656755,
          0.5001095563457651,
          0.43225077221418656,
          0.4705149609721061,
          0.39807411573486373,
          0.3982602172101907,
          0.3848483361559612,
          0.3867384518458632,
          0.4013774618945417,
          0.42266333591134775,
          0.453979967223482,
          0.39680328510099894,
          0.3758397590348393,
          0.40174698862563196
         ],
         "xaxis": "x14",
         "y": [
          0.519294173810417,
          0.2964243249258402,
          0.6570908050801666,
          0.4021228281661481,
          0.31778231346967856,
          0.3317594289404727,
          0.2938234302905271,
          0.3472449609833941,
          0.3334530464948816,
          0.4217699732173089,
          0.43589788194195717,
          0.3229189213984373,
          0.3542707419664452,
          0.3398362682368953,
          0.2920119083395599,
          0.31154408063557765,
          0.39872285932103935,
          0.3101256523003201,
          0.43668507178111843,
          0.41990007478418934,
          0.29767889072399917,
          0.30025030507507305,
          0.29391292492936805,
          0.32030295395856234,
          0.3039013274370917,
          0.3195390049577525,
          0.30176311071558354,
          0.2882956407734144,
          0.31125284415023186,
          0.4461247292534196,
          0.4139389856410277,
          0.31233148115217735,
          0.32297639589755683,
          0.32952753172441324,
          0.30001151074951105,
          0.27591645194003767,
          0.3110916995289982,
          0.30745073160334674,
          0.34727136133703396,
          0.30637843195900916,
          0.35411390020321476,
          0.2900411000997355,
          0.29870012289230014,
          0.30038010253400277,
          0.28241835503178514,
          0.3627114223329792,
          0.2943327116034818,
          0.3424261164366315,
          0.3063530867191915,
          0.3306014790273939,
          0.40318234491561045,
          0.2729526115260718,
          0.2853558163509007,
          0.2833013228519368,
          0.3326273141040944,
          0.29130559785848337,
          0.2884944705373401,
          0.2750780403732608,
          0.3203026684779316,
          0.28661840791168,
          0.29970256167887355,
          0.2883549059975236,
          0.33518949109537005,
          0.29507748336422496,
          0.2987184455433893,
          0.3107226679234301,
          0.40262858194937917,
          0.26325400947242816,
          0.2645988377143709,
          0.3249956035214791,
          0.25960609054214456,
          0.264443600531112,
          0.26649283727594286,
          0.30667866501083224,
          0.2636847590755062,
          0.2970487888194003,
          0.29804701167358666,
          0.2535332401012661,
          0.3078464720268011,
          0.2921991966076079
         ],
         "yaxis": "y14"
        }
       ],
       "layout": {
        "template": {
         "data": {
          "bar": [
           {
            "error_x": {
             "color": "#2a3f5f"
            },
            "error_y": {
             "color": "#2a3f5f"
            },
            "marker": {
             "line": {
              "color": "#E5ECF6",
              "width": 0.5
             },
             "pattern": {
              "fillmode": "overlay",
              "size": 10,
              "solidity": 0.2
             }
            },
            "type": "bar"
           }
          ],
          "barpolar": [
           {
            "marker": {
             "line": {
              "color": "#E5ECF6",
              "width": 0.5
             },
             "pattern": {
              "fillmode": "overlay",
              "size": 10,
              "solidity": 0.2
             }
            },
            "type": "barpolar"
           }
          ],
          "carpet": [
           {
            "aaxis": {
             "endlinecolor": "#2a3f5f",
             "gridcolor": "white",
             "linecolor": "white",
             "minorgridcolor": "white",
             "startlinecolor": "#2a3f5f"
            },
            "baxis": {
             "endlinecolor": "#2a3f5f",
             "gridcolor": "white",
             "linecolor": "white",
             "minorgridcolor": "white",
             "startlinecolor": "#2a3f5f"
            },
            "type": "carpet"
           }
          ],
          "choropleth": [
           {
            "colorbar": {
             "outlinewidth": 0,
             "ticks": ""
            },
            "type": "choropleth"
           }
          ],
          "contour": [
           {
            "colorbar": {
             "outlinewidth": 0,
             "ticks": ""
            },
            "colorscale": [
             [
              0,
              "#0d0887"
             ],
             [
              0.1111111111111111,
              "#46039f"
             ],
             [
              0.2222222222222222,
              "#7201a8"
             ],
             [
              0.3333333333333333,
              "#9c179e"
             ],
             [
              0.4444444444444444,
              "#bd3786"
             ],
             [
              0.5555555555555556,
              "#d8576b"
             ],
             [
              0.6666666666666666,
              "#ed7953"
             ],
             [
              0.7777777777777778,
              "#fb9f3a"
             ],
             [
              0.8888888888888888,
              "#fdca26"
             ],
             [
              1,
              "#f0f921"
             ]
            ],
            "type": "contour"
           }
          ],
          "contourcarpet": [
           {
            "colorbar": {
             "outlinewidth": 0,
             "ticks": ""
            },
            "type": "contourcarpet"
           }
          ],
          "heatmap": [
           {
            "colorbar": {
             "outlinewidth": 0,
             "ticks": ""
            },
            "colorscale": [
             [
              0,
              "#0d0887"
             ],
             [
              0.1111111111111111,
              "#46039f"
             ],
             [
              0.2222222222222222,
              "#7201a8"
             ],
             [
              0.3333333333333333,
              "#9c179e"
             ],
             [
              0.4444444444444444,
              "#bd3786"
             ],
             [
              0.5555555555555556,
              "#d8576b"
             ],
             [
              0.6666666666666666,
              "#ed7953"
             ],
             [
              0.7777777777777778,
              "#fb9f3a"
             ],
             [
              0.8888888888888888,
              "#fdca26"
             ],
             [
              1,
              "#f0f921"
             ]
            ],
            "type": "heatmap"
           }
          ],
          "heatmapgl": [
           {
            "colorbar": {
             "outlinewidth": 0,
             "ticks": ""
            },
            "colorscale": [
             [
              0,
              "#0d0887"
             ],
             [
              0.1111111111111111,
              "#46039f"
             ],
             [
              0.2222222222222222,
              "#7201a8"
             ],
             [
              0.3333333333333333,
              "#9c179e"
             ],
             [
              0.4444444444444444,
              "#bd3786"
             ],
             [
              0.5555555555555556,
              "#d8576b"
             ],
             [
              0.6666666666666666,
              "#ed7953"
             ],
             [
              0.7777777777777778,
              "#fb9f3a"
             ],
             [
              0.8888888888888888,
              "#fdca26"
             ],
             [
              1,
              "#f0f921"
             ]
            ],
            "type": "heatmapgl"
           }
          ],
          "histogram": [
           {
            "marker": {
             "pattern": {
              "fillmode": "overlay",
              "size": 10,
              "solidity": 0.2
             }
            },
            "type": "histogram"
           }
          ],
          "histogram2d": [
           {
            "colorbar": {
             "outlinewidth": 0,
             "ticks": ""
            },
            "colorscale": [
             [
              0,
              "#0d0887"
             ],
             [
              0.1111111111111111,
              "#46039f"
             ],
             [
              0.2222222222222222,
              "#7201a8"
             ],
             [
              0.3333333333333333,
              "#9c179e"
             ],
             [
              0.4444444444444444,
              "#bd3786"
             ],
             [
              0.5555555555555556,
              "#d8576b"
             ],
             [
              0.6666666666666666,
              "#ed7953"
             ],
             [
              0.7777777777777778,
              "#fb9f3a"
             ],
             [
              0.8888888888888888,
              "#fdca26"
             ],
             [
              1,
              "#f0f921"
             ]
            ],
            "type": "histogram2d"
           }
          ],
          "histogram2dcontour": [
           {
            "colorbar": {
             "outlinewidth": 0,
             "ticks": ""
            },
            "colorscale": [
             [
              0,
              "#0d0887"
             ],
             [
              0.1111111111111111,
              "#46039f"
             ],
             [
              0.2222222222222222,
              "#7201a8"
             ],
             [
              0.3333333333333333,
              "#9c179e"
             ],
             [
              0.4444444444444444,
              "#bd3786"
             ],
             [
              0.5555555555555556,
              "#d8576b"
             ],
             [
              0.6666666666666666,
              "#ed7953"
             ],
             [
              0.7777777777777778,
              "#fb9f3a"
             ],
             [
              0.8888888888888888,
              "#fdca26"
             ],
             [
              1,
              "#f0f921"
             ]
            ],
            "type": "histogram2dcontour"
           }
          ],
          "mesh3d": [
           {
            "colorbar": {
             "outlinewidth": 0,
             "ticks": ""
            },
            "type": "mesh3d"
           }
          ],
          "parcoords": [
           {
            "line": {
             "colorbar": {
              "outlinewidth": 0,
              "ticks": ""
             }
            },
            "type": "parcoords"
           }
          ],
          "pie": [
           {
            "automargin": true,
            "type": "pie"
           }
          ],
          "scatter": [
           {
            "fillpattern": {
             "fillmode": "overlay",
             "size": 10,
             "solidity": 0.2
            },
            "type": "scatter"
           }
          ],
          "scatter3d": [
           {
            "line": {
             "colorbar": {
              "outlinewidth": 0,
              "ticks": ""
             }
            },
            "marker": {
             "colorbar": {
              "outlinewidth": 0,
              "ticks": ""
             }
            },
            "type": "scatter3d"
           }
          ],
          "scattercarpet": [
           {
            "marker": {
             "colorbar": {
              "outlinewidth": 0,
              "ticks": ""
             }
            },
            "type": "scattercarpet"
           }
          ],
          "scattergeo": [
           {
            "marker": {
             "colorbar": {
              "outlinewidth": 0,
              "ticks": ""
             }
            },
            "type": "scattergeo"
           }
          ],
          "scattergl": [
           {
            "marker": {
             "colorbar": {
              "outlinewidth": 0,
              "ticks": ""
             }
            },
            "type": "scattergl"
           }
          ],
          "scattermapbox": [
           {
            "marker": {
             "colorbar": {
              "outlinewidth": 0,
              "ticks": ""
             }
            },
            "type": "scattermapbox"
           }
          ],
          "scatterpolar": [
           {
            "marker": {
             "colorbar": {
              "outlinewidth": 0,
              "ticks": ""
             }
            },
            "type": "scatterpolar"
           }
          ],
          "scatterpolargl": [
           {
            "marker": {
             "colorbar": {
              "outlinewidth": 0,
              "ticks": ""
             }
            },
            "type": "scatterpolargl"
           }
          ],
          "scatterternary": [
           {
            "marker": {
             "colorbar": {
              "outlinewidth": 0,
              "ticks": ""
             }
            },
            "type": "scatterternary"
           }
          ],
          "surface": [
           {
            "colorbar": {
             "outlinewidth": 0,
             "ticks": ""
            },
            "colorscale": [
             [
              0,
              "#0d0887"
             ],
             [
              0.1111111111111111,
              "#46039f"
             ],
             [
              0.2222222222222222,
              "#7201a8"
             ],
             [
              0.3333333333333333,
              "#9c179e"
             ],
             [
              0.4444444444444444,
              "#bd3786"
             ],
             [
              0.5555555555555556,
              "#d8576b"
             ],
             [
              0.6666666666666666,
              "#ed7953"
             ],
             [
              0.7777777777777778,
              "#fb9f3a"
             ],
             [
              0.8888888888888888,
              "#fdca26"
             ],
             [
              1,
              "#f0f921"
             ]
            ],
            "type": "surface"
           }
          ],
          "table": [
           {
            "cells": {
             "fill": {
              "color": "#EBF0F8"
             },
             "line": {
              "color": "white"
             }
            },
            "header": {
             "fill": {
              "color": "#C8D4E3"
             },
             "line": {
              "color": "white"
             }
            },
            "type": "table"
           }
          ]
         },
         "layout": {
          "annotationdefaults": {
           "arrowcolor": "#2a3f5f",
           "arrowhead": 0,
           "arrowwidth": 1
          },
          "autotypenumbers": "strict",
          "coloraxis": {
           "colorbar": {
            "outlinewidth": 0,
            "ticks": ""
           }
          },
          "colorscale": {
           "diverging": [
            [
             0,
             "#8e0152"
            ],
            [
             0.1,
             "#c51b7d"
            ],
            [
             0.2,
             "#de77ae"
            ],
            [
             0.3,
             "#f1b6da"
            ],
            [
             0.4,
             "#fde0ef"
            ],
            [
             0.5,
             "#f7f7f7"
            ],
            [
             0.6,
             "#e6f5d0"
            ],
            [
             0.7,
             "#b8e186"
            ],
            [
             0.8,
             "#7fbc41"
            ],
            [
             0.9,
             "#4d9221"
            ],
            [
             1,
             "#276419"
            ]
           ],
           "sequential": [
            [
             0,
             "#0d0887"
            ],
            [
             0.1111111111111111,
             "#46039f"
            ],
            [
             0.2222222222222222,
             "#7201a8"
            ],
            [
             0.3333333333333333,
             "#9c179e"
            ],
            [
             0.4444444444444444,
             "#bd3786"
            ],
            [
             0.5555555555555556,
             "#d8576b"
            ],
            [
             0.6666666666666666,
             "#ed7953"
            ],
            [
             0.7777777777777778,
             "#fb9f3a"
            ],
            [
             0.8888888888888888,
             "#fdca26"
            ],
            [
             1,
             "#f0f921"
            ]
           ],
           "sequentialminus": [
            [
             0,
             "#0d0887"
            ],
            [
             0.1111111111111111,
             "#46039f"
            ],
            [
             0.2222222222222222,
             "#7201a8"
            ],
            [
             0.3333333333333333,
             "#9c179e"
            ],
            [
             0.4444444444444444,
             "#bd3786"
            ],
            [
             0.5555555555555556,
             "#d8576b"
            ],
            [
             0.6666666666666666,
             "#ed7953"
            ],
            [
             0.7777777777777778,
             "#fb9f3a"
            ],
            [
             0.8888888888888888,
             "#fdca26"
            ],
            [
             1,
             "#f0f921"
            ]
           ]
          },
          "colorway": [
           "#636efa",
           "#EF553B",
           "#00cc96",
           "#ab63fa",
           "#FFA15A",
           "#19d3f3",
           "#FF6692",
           "#B6E880",
           "#FF97FF",
           "#FECB52"
          ],
          "font": {
           "color": "#2a3f5f"
          },
          "geo": {
           "bgcolor": "white",
           "lakecolor": "white",
           "landcolor": "#E5ECF6",
           "showlakes": true,
           "showland": true,
           "subunitcolor": "white"
          },
          "hoverlabel": {
           "align": "left"
          },
          "hovermode": "closest",
          "mapbox": {
           "style": "light"
          },
          "paper_bgcolor": "white",
          "plot_bgcolor": "#E5ECF6",
          "polar": {
           "angularaxis": {
            "gridcolor": "white",
            "linecolor": "white",
            "ticks": ""
           },
           "bgcolor": "#E5ECF6",
           "radialaxis": {
            "gridcolor": "white",
            "linecolor": "white",
            "ticks": ""
           }
          },
          "scene": {
           "xaxis": {
            "backgroundcolor": "#E5ECF6",
            "gridcolor": "white",
            "gridwidth": 2,
            "linecolor": "white",
            "showbackground": true,
            "ticks": "",
            "zerolinecolor": "white"
           },
           "yaxis": {
            "backgroundcolor": "#E5ECF6",
            "gridcolor": "white",
            "gridwidth": 2,
            "linecolor": "white",
            "showbackground": true,
            "ticks": "",
            "zerolinecolor": "white"
           },
           "zaxis": {
            "backgroundcolor": "#E5ECF6",
            "gridcolor": "white",
            "gridwidth": 2,
            "linecolor": "white",
            "showbackground": true,
            "ticks": "",
            "zerolinecolor": "white"
           }
          },
          "shapedefaults": {
           "line": {
            "color": "#2a3f5f"
           }
          },
          "ternary": {
           "aaxis": {
            "gridcolor": "white",
            "linecolor": "white",
            "ticks": ""
           },
           "baxis": {
            "gridcolor": "white",
            "linecolor": "white",
            "ticks": ""
           },
           "bgcolor": "#E5ECF6",
           "caxis": {
            "gridcolor": "white",
            "linecolor": "white",
            "ticks": ""
           }
          },
          "title": {
           "x": 0.05
          },
          "xaxis": {
           "automargin": true,
           "gridcolor": "white",
           "linecolor": "white",
           "ticks": "",
           "title": {
            "standoff": 15
           },
           "zerolinecolor": "white",
           "zerolinewidth": 2
          },
          "yaxis": {
           "automargin": true,
           "gridcolor": "white",
           "linecolor": "white",
           "ticks": "",
           "title": {
            "standoff": 15
           },
           "zerolinecolor": "white",
           "zerolinewidth": 2
          }
         }
        },
        "title": {
         "text": "Slice Plot"
        },
        "width": 4200,
        "xaxis": {
         "anchor": "y",
         "domain": [
          0,
          0.058163265306122446
         ],
         "title": {
          "text": "alpha"
         },
         "type": "log"
        },
        "xaxis10": {
         "anchor": "y10",
         "domain": [
          0.6520408163265305,
          0.710204081632653
         ],
         "title": {
          "text": "normalize_type"
         }
        },
        "xaxis11": {
         "anchor": "y11",
         "domain": [
          0.7244897959183674,
          0.7826530612244899
         ],
         "title": {
          "text": "rate_drop"
         },
         "type": "log"
        },
        "xaxis12": {
         "anchor": "y12",
         "domain": [
          0.7969387755102041,
          0.8551020408163266
         ],
         "title": {
          "text": "sample_type"
         }
        },
        "xaxis13": {
         "anchor": "y13",
         "domain": [
          0.8693877551020408,
          0.9275510204081633
         ],
         "title": {
          "text": "skip_drop"
         },
         "type": "log"
        },
        "xaxis14": {
         "anchor": "y14",
         "domain": [
          0.9418367346938776,
          1
         ],
         "title": {
          "text": "subsample"
         }
        },
        "xaxis2": {
         "anchor": "y2",
         "domain": [
          0.07244897959183673,
          0.13061224489795917
         ],
         "title": {
          "text": "booster"
         }
        },
        "xaxis3": {
         "anchor": "y3",
         "domain": [
          0.14489795918367346,
          0.2030612244897959
         ],
         "title": {
          "text": "colsample_bytree"
         }
        },
        "xaxis4": {
         "anchor": "y4",
         "domain": [
          0.2173469387755102,
          0.2755102040816326
         ],
         "title": {
          "text": "eta"
         },
         "type": "log"
        },
        "xaxis5": {
         "anchor": "y5",
         "domain": [
          0.2897959183673469,
          0.34795918367346934
         ],
         "title": {
          "text": "gamma"
         },
         "type": "log"
        },
        "xaxis6": {
         "anchor": "y6",
         "domain": [
          0.3622448979591837,
          0.4204081632653061
         ],
         "title": {
          "text": "grow_policy"
         }
        },
        "xaxis7": {
         "anchor": "y7",
         "domain": [
          0.4346938775510204,
          0.4928571428571428
         ],
         "title": {
          "text": "lambda"
         },
         "type": "log"
        },
        "xaxis8": {
         "anchor": "y8",
         "domain": [
          0.5071428571428571,
          0.5653061224489796
         ],
         "title": {
          "text": "learning_rate"
         }
        },
        "xaxis9": {
         "anchor": "y9",
         "domain": [
          0.5795918367346938,
          0.6377551020408163
         ],
         "title": {
          "text": "max_depth"
         }
        },
        "yaxis": {
         "anchor": "x",
         "domain": [
          0,
          1
         ],
         "title": {
          "text": "Objective Value"
         }
        },
        "yaxis10": {
         "anchor": "x10",
         "domain": [
          0,
          1
         ],
         "matches": "y",
         "showticklabels": false
        },
        "yaxis11": {
         "anchor": "x11",
         "domain": [
          0,
          1
         ],
         "matches": "y",
         "showticklabels": false
        },
        "yaxis12": {
         "anchor": "x12",
         "domain": [
          0,
          1
         ],
         "matches": "y",
         "showticklabels": false
        },
        "yaxis13": {
         "anchor": "x13",
         "domain": [
          0,
          1
         ],
         "matches": "y",
         "showticklabels": false
        },
        "yaxis14": {
         "anchor": "x14",
         "domain": [
          0,
          1
         ],
         "matches": "y",
         "showticklabels": false
        },
        "yaxis2": {
         "anchor": "x2",
         "domain": [
          0,
          1
         ],
         "matches": "y",
         "showticklabels": false
        },
        "yaxis3": {
         "anchor": "x3",
         "domain": [
          0,
          1
         ],
         "matches": "y",
         "showticklabels": false
        },
        "yaxis4": {
         "anchor": "x4",
         "domain": [
          0,
          1
         ],
         "matches": "y",
         "showticklabels": false
        },
        "yaxis5": {
         "anchor": "x5",
         "domain": [
          0,
          1
         ],
         "matches": "y",
         "showticklabels": false
        },
        "yaxis6": {
         "anchor": "x6",
         "domain": [
          0,
          1
         ],
         "matches": "y",
         "showticklabels": false
        },
        "yaxis7": {
         "anchor": "x7",
         "domain": [
          0,
          1
         ],
         "matches": "y",
         "showticklabels": false
        },
        "yaxis8": {
         "anchor": "x8",
         "domain": [
          0,
          1
         ],
         "matches": "y",
         "showticklabels": false
        },
        "yaxis9": {
         "anchor": "x9",
         "domain": [
          0,
          1
         ],
         "matches": "y",
         "showticklabels": false
        }
       }
      }
     },
     "metadata": {},
     "output_type": "display_data"
    }
   ],
   "source": [
    "plot_slice(study)"
   ]
  },
  {
   "cell_type": "code",
   "execution_count": null,
   "metadata": {},
   "outputs": [
    {
     "data": {
      "application/vnd.plotly.v1+json": {
       "config": {
        "plotlyServerURL": "https://plot.ly"
       },
       "data": [
        {
         "cliponaxis": false,
         "hovertemplate": [
          "colsample_bytree (FloatDistribution): 0.025822721652670907<extra></extra>",
          "lambda (FloatDistribution): 0.037048571068748586<extra></extra>",
          "subsample (FloatDistribution): 0.053589766364299574<extra></extra>",
          "learning_rate (FloatDistribution): 0.06743772709787152<extra></extra>",
          "alpha (FloatDistribution): 0.17610599970992907<extra></extra>",
          "booster (CategoricalDistribution): 0.6399952141064804<extra></extra>"
         ],
         "marker": {
          "color": "rgb(66,146,198)"
         },
         "orientation": "h",
         "text": [
          "0.03",
          "0.04",
          "0.05",
          "0.07",
          "0.18",
          "0.64"
         ],
         "textposition": "outside",
         "type": "bar",
         "x": [
          0.025822721652670907,
          0.037048571068748586,
          0.053589766364299574,
          0.06743772709787152,
          0.17610599970992907,
          0.6399952141064804
         ],
         "y": [
          "colsample_bytree",
          "lambda",
          "subsample",
          "learning_rate",
          "alpha",
          "booster"
         ]
        }
       ],
       "layout": {
        "showlegend": false,
        "template": {
         "data": {
          "bar": [
           {
            "error_x": {
             "color": "#2a3f5f"
            },
            "error_y": {
             "color": "#2a3f5f"
            },
            "marker": {
             "line": {
              "color": "#E5ECF6",
              "width": 0.5
             },
             "pattern": {
              "fillmode": "overlay",
              "size": 10,
              "solidity": 0.2
             }
            },
            "type": "bar"
           }
          ],
          "barpolar": [
           {
            "marker": {
             "line": {
              "color": "#E5ECF6",
              "width": 0.5
             },
             "pattern": {
              "fillmode": "overlay",
              "size": 10,
              "solidity": 0.2
             }
            },
            "type": "barpolar"
           }
          ],
          "carpet": [
           {
            "aaxis": {
             "endlinecolor": "#2a3f5f",
             "gridcolor": "white",
             "linecolor": "white",
             "minorgridcolor": "white",
             "startlinecolor": "#2a3f5f"
            },
            "baxis": {
             "endlinecolor": "#2a3f5f",
             "gridcolor": "white",
             "linecolor": "white",
             "minorgridcolor": "white",
             "startlinecolor": "#2a3f5f"
            },
            "type": "carpet"
           }
          ],
          "choropleth": [
           {
            "colorbar": {
             "outlinewidth": 0,
             "ticks": ""
            },
            "type": "choropleth"
           }
          ],
          "contour": [
           {
            "colorbar": {
             "outlinewidth": 0,
             "ticks": ""
            },
            "colorscale": [
             [
              0,
              "#0d0887"
             ],
             [
              0.1111111111111111,
              "#46039f"
             ],
             [
              0.2222222222222222,
              "#7201a8"
             ],
             [
              0.3333333333333333,
              "#9c179e"
             ],
             [
              0.4444444444444444,
              "#bd3786"
             ],
             [
              0.5555555555555556,
              "#d8576b"
             ],
             [
              0.6666666666666666,
              "#ed7953"
             ],
             [
              0.7777777777777778,
              "#fb9f3a"
             ],
             [
              0.8888888888888888,
              "#fdca26"
             ],
             [
              1,
              "#f0f921"
             ]
            ],
            "type": "contour"
           }
          ],
          "contourcarpet": [
           {
            "colorbar": {
             "outlinewidth": 0,
             "ticks": ""
            },
            "type": "contourcarpet"
           }
          ],
          "heatmap": [
           {
            "colorbar": {
             "outlinewidth": 0,
             "ticks": ""
            },
            "colorscale": [
             [
              0,
              "#0d0887"
             ],
             [
              0.1111111111111111,
              "#46039f"
             ],
             [
              0.2222222222222222,
              "#7201a8"
             ],
             [
              0.3333333333333333,
              "#9c179e"
             ],
             [
              0.4444444444444444,
              "#bd3786"
             ],
             [
              0.5555555555555556,
              "#d8576b"
             ],
             [
              0.6666666666666666,
              "#ed7953"
             ],
             [
              0.7777777777777778,
              "#fb9f3a"
             ],
             [
              0.8888888888888888,
              "#fdca26"
             ],
             [
              1,
              "#f0f921"
             ]
            ],
            "type": "heatmap"
           }
          ],
          "heatmapgl": [
           {
            "colorbar": {
             "outlinewidth": 0,
             "ticks": ""
            },
            "colorscale": [
             [
              0,
              "#0d0887"
             ],
             [
              0.1111111111111111,
              "#46039f"
             ],
             [
              0.2222222222222222,
              "#7201a8"
             ],
             [
              0.3333333333333333,
              "#9c179e"
             ],
             [
              0.4444444444444444,
              "#bd3786"
             ],
             [
              0.5555555555555556,
              "#d8576b"
             ],
             [
              0.6666666666666666,
              "#ed7953"
             ],
             [
              0.7777777777777778,
              "#fb9f3a"
             ],
             [
              0.8888888888888888,
              "#fdca26"
             ],
             [
              1,
              "#f0f921"
             ]
            ],
            "type": "heatmapgl"
           }
          ],
          "histogram": [
           {
            "marker": {
             "pattern": {
              "fillmode": "overlay",
              "size": 10,
              "solidity": 0.2
             }
            },
            "type": "histogram"
           }
          ],
          "histogram2d": [
           {
            "colorbar": {
             "outlinewidth": 0,
             "ticks": ""
            },
            "colorscale": [
             [
              0,
              "#0d0887"
             ],
             [
              0.1111111111111111,
              "#46039f"
             ],
             [
              0.2222222222222222,
              "#7201a8"
             ],
             [
              0.3333333333333333,
              "#9c179e"
             ],
             [
              0.4444444444444444,
              "#bd3786"
             ],
             [
              0.5555555555555556,
              "#d8576b"
             ],
             [
              0.6666666666666666,
              "#ed7953"
             ],
             [
              0.7777777777777778,
              "#fb9f3a"
             ],
             [
              0.8888888888888888,
              "#fdca26"
             ],
             [
              1,
              "#f0f921"
             ]
            ],
            "type": "histogram2d"
           }
          ],
          "histogram2dcontour": [
           {
            "colorbar": {
             "outlinewidth": 0,
             "ticks": ""
            },
            "colorscale": [
             [
              0,
              "#0d0887"
             ],
             [
              0.1111111111111111,
              "#46039f"
             ],
             [
              0.2222222222222222,
              "#7201a8"
             ],
             [
              0.3333333333333333,
              "#9c179e"
             ],
             [
              0.4444444444444444,
              "#bd3786"
             ],
             [
              0.5555555555555556,
              "#d8576b"
             ],
             [
              0.6666666666666666,
              "#ed7953"
             ],
             [
              0.7777777777777778,
              "#fb9f3a"
             ],
             [
              0.8888888888888888,
              "#fdca26"
             ],
             [
              1,
              "#f0f921"
             ]
            ],
            "type": "histogram2dcontour"
           }
          ],
          "mesh3d": [
           {
            "colorbar": {
             "outlinewidth": 0,
             "ticks": ""
            },
            "type": "mesh3d"
           }
          ],
          "parcoords": [
           {
            "line": {
             "colorbar": {
              "outlinewidth": 0,
              "ticks": ""
             }
            },
            "type": "parcoords"
           }
          ],
          "pie": [
           {
            "automargin": true,
            "type": "pie"
           }
          ],
          "scatter": [
           {
            "fillpattern": {
             "fillmode": "overlay",
             "size": 10,
             "solidity": 0.2
            },
            "type": "scatter"
           }
          ],
          "scatter3d": [
           {
            "line": {
             "colorbar": {
              "outlinewidth": 0,
              "ticks": ""
             }
            },
            "marker": {
             "colorbar": {
              "outlinewidth": 0,
              "ticks": ""
             }
            },
            "type": "scatter3d"
           }
          ],
          "scattercarpet": [
           {
            "marker": {
             "colorbar": {
              "outlinewidth": 0,
              "ticks": ""
             }
            },
            "type": "scattercarpet"
           }
          ],
          "scattergeo": [
           {
            "marker": {
             "colorbar": {
              "outlinewidth": 0,
              "ticks": ""
             }
            },
            "type": "scattergeo"
           }
          ],
          "scattergl": [
           {
            "marker": {
             "colorbar": {
              "outlinewidth": 0,
              "ticks": ""
             }
            },
            "type": "scattergl"
           }
          ],
          "scattermapbox": [
           {
            "marker": {
             "colorbar": {
              "outlinewidth": 0,
              "ticks": ""
             }
            },
            "type": "scattermapbox"
           }
          ],
          "scatterpolar": [
           {
            "marker": {
             "colorbar": {
              "outlinewidth": 0,
              "ticks": ""
             }
            },
            "type": "scatterpolar"
           }
          ],
          "scatterpolargl": [
           {
            "marker": {
             "colorbar": {
              "outlinewidth": 0,
              "ticks": ""
             }
            },
            "type": "scatterpolargl"
           }
          ],
          "scatterternary": [
           {
            "marker": {
             "colorbar": {
              "outlinewidth": 0,
              "ticks": ""
             }
            },
            "type": "scatterternary"
           }
          ],
          "surface": [
           {
            "colorbar": {
             "outlinewidth": 0,
             "ticks": ""
            },
            "colorscale": [
             [
              0,
              "#0d0887"
             ],
             [
              0.1111111111111111,
              "#46039f"
             ],
             [
              0.2222222222222222,
              "#7201a8"
             ],
             [
              0.3333333333333333,
              "#9c179e"
             ],
             [
              0.4444444444444444,
              "#bd3786"
             ],
             [
              0.5555555555555556,
              "#d8576b"
             ],
             [
              0.6666666666666666,
              "#ed7953"
             ],
             [
              0.7777777777777778,
              "#fb9f3a"
             ],
             [
              0.8888888888888888,
              "#fdca26"
             ],
             [
              1,
              "#f0f921"
             ]
            ],
            "type": "surface"
           }
          ],
          "table": [
           {
            "cells": {
             "fill": {
              "color": "#EBF0F8"
             },
             "line": {
              "color": "white"
             }
            },
            "header": {
             "fill": {
              "color": "#C8D4E3"
             },
             "line": {
              "color": "white"
             }
            },
            "type": "table"
           }
          ]
         },
         "layout": {
          "annotationdefaults": {
           "arrowcolor": "#2a3f5f",
           "arrowhead": 0,
           "arrowwidth": 1
          },
          "autotypenumbers": "strict",
          "coloraxis": {
           "colorbar": {
            "outlinewidth": 0,
            "ticks": ""
           }
          },
          "colorscale": {
           "diverging": [
            [
             0,
             "#8e0152"
            ],
            [
             0.1,
             "#c51b7d"
            ],
            [
             0.2,
             "#de77ae"
            ],
            [
             0.3,
             "#f1b6da"
            ],
            [
             0.4,
             "#fde0ef"
            ],
            [
             0.5,
             "#f7f7f7"
            ],
            [
             0.6,
             "#e6f5d0"
            ],
            [
             0.7,
             "#b8e186"
            ],
            [
             0.8,
             "#7fbc41"
            ],
            [
             0.9,
             "#4d9221"
            ],
            [
             1,
             "#276419"
            ]
           ],
           "sequential": [
            [
             0,
             "#0d0887"
            ],
            [
             0.1111111111111111,
             "#46039f"
            ],
            [
             0.2222222222222222,
             "#7201a8"
            ],
            [
             0.3333333333333333,
             "#9c179e"
            ],
            [
             0.4444444444444444,
             "#bd3786"
            ],
            [
             0.5555555555555556,
             "#d8576b"
            ],
            [
             0.6666666666666666,
             "#ed7953"
            ],
            [
             0.7777777777777778,
             "#fb9f3a"
            ],
            [
             0.8888888888888888,
             "#fdca26"
            ],
            [
             1,
             "#f0f921"
            ]
           ],
           "sequentialminus": [
            [
             0,
             "#0d0887"
            ],
            [
             0.1111111111111111,
             "#46039f"
            ],
            [
             0.2222222222222222,
             "#7201a8"
            ],
            [
             0.3333333333333333,
             "#9c179e"
            ],
            [
             0.4444444444444444,
             "#bd3786"
            ],
            [
             0.5555555555555556,
             "#d8576b"
            ],
            [
             0.6666666666666666,
             "#ed7953"
            ],
            [
             0.7777777777777778,
             "#fb9f3a"
            ],
            [
             0.8888888888888888,
             "#fdca26"
            ],
            [
             1,
             "#f0f921"
            ]
           ]
          },
          "colorway": [
           "#636efa",
           "#EF553B",
           "#00cc96",
           "#ab63fa",
           "#FFA15A",
           "#19d3f3",
           "#FF6692",
           "#B6E880",
           "#FF97FF",
           "#FECB52"
          ],
          "font": {
           "color": "#2a3f5f"
          },
          "geo": {
           "bgcolor": "white",
           "lakecolor": "white",
           "landcolor": "#E5ECF6",
           "showlakes": true,
           "showland": true,
           "subunitcolor": "white"
          },
          "hoverlabel": {
           "align": "left"
          },
          "hovermode": "closest",
          "mapbox": {
           "style": "light"
          },
          "paper_bgcolor": "white",
          "plot_bgcolor": "#E5ECF6",
          "polar": {
           "angularaxis": {
            "gridcolor": "white",
            "linecolor": "white",
            "ticks": ""
           },
           "bgcolor": "#E5ECF6",
           "radialaxis": {
            "gridcolor": "white",
            "linecolor": "white",
            "ticks": ""
           }
          },
          "scene": {
           "xaxis": {
            "backgroundcolor": "#E5ECF6",
            "gridcolor": "white",
            "gridwidth": 2,
            "linecolor": "white",
            "showbackground": true,
            "ticks": "",
            "zerolinecolor": "white"
           },
           "yaxis": {
            "backgroundcolor": "#E5ECF6",
            "gridcolor": "white",
            "gridwidth": 2,
            "linecolor": "white",
            "showbackground": true,
            "ticks": "",
            "zerolinecolor": "white"
           },
           "zaxis": {
            "backgroundcolor": "#E5ECF6",
            "gridcolor": "white",
            "gridwidth": 2,
            "linecolor": "white",
            "showbackground": true,
            "ticks": "",
            "zerolinecolor": "white"
           }
          },
          "shapedefaults": {
           "line": {
            "color": "#2a3f5f"
           }
          },
          "ternary": {
           "aaxis": {
            "gridcolor": "white",
            "linecolor": "white",
            "ticks": ""
           },
           "baxis": {
            "gridcolor": "white",
            "linecolor": "white",
            "ticks": ""
           },
           "bgcolor": "#E5ECF6",
           "caxis": {
            "gridcolor": "white",
            "linecolor": "white",
            "ticks": ""
           }
          },
          "title": {
           "x": 0.05
          },
          "xaxis": {
           "automargin": true,
           "gridcolor": "white",
           "linecolor": "white",
           "ticks": "",
           "title": {
            "standoff": 15
           },
           "zerolinecolor": "white",
           "zerolinewidth": 2
          },
          "yaxis": {
           "automargin": true,
           "gridcolor": "white",
           "linecolor": "white",
           "ticks": "",
           "title": {
            "standoff": 15
           },
           "zerolinecolor": "white",
           "zerolinewidth": 2
          }
         }
        },
        "title": {
         "text": "Hyperparameter Importances"
        },
        "xaxis": {
         "title": {
          "text": "Importance for Objective Value"
         }
        },
        "yaxis": {
         "title": {
          "text": "Hyperparameter"
         }
        }
       }
      }
     },
     "metadata": {},
     "output_type": "display_data"
    }
   ],
   "source": [
    "plot_param_importances(study)"
   ]
  },
  {
   "cell_type": "code",
   "execution_count": null,
   "metadata": {},
   "outputs": [
    {
     "data": {
      "text/plain": [
       "{'booster': 'dart',\n",
       " 'lambda': 0.0067981943191443815,\n",
       " 'alpha': 1.1158232780616973e-07,\n",
       " 'subsample': 0.39680328510099894,\n",
       " 'colsample_bytree': 0.5482579412080295,\n",
       " 'learning_rate': 0.13779959534970157,\n",
       " 'max_depth': 3,\n",
       " 'eta': 0.0010017919482385215,\n",
       " 'gamma': 0.030524056409888256,\n",
       " 'grow_policy': 'depthwise',\n",
       " 'sample_type': 'weighted',\n",
       " 'normalize_type': 'tree',\n",
       " 'rate_drop': 4.4093900571337765e-06,\n",
       " 'skip_drop': 1.105656318625032e-05}"
      ]
     },
     "execution_count": 42,
     "metadata": {},
     "output_type": "execute_result"
    }
   ],
   "source": [
    "trial.params"
   ]
  },
  {
   "cell_type": "markdown",
   "metadata": {},
   "source": [
    "1.\n",
    "{'booster': 'gbtree',\n",
    " 'lambda': 0.24302130237467398,\n",
    " 'alpha': 2.2108795894332237e-08,\n",
    " 'subsample': 0.7887998109844777,\n",
    " 'colsample_bytree': 0.4493748858737539,\n",
    " 'max_depth': 2,\n",
    " 'eta': 0.29846902305256606,\n",
    " 'gamma': 1.4539411503015061e-05,\n",
    " 'grow_policy': 'lossguide'}\n",
    "\n",
    " 2.\n",
    " {'booster': 'gbtree',\n",
    " 'lambda': 0.8068353722333764,\n",
    " 'alpha': 1.894027813634802e-08,\n",
    " 'subsample': 0.7785041239304065,\n",
    " 'colsample_bytree': 0.7601163387370006,\n",
    " 'learning_rate': 0.02,\n",
    " 'max_depth': 4,\n",
    " 'eta': 0.645702469472196,\n",
    " 'gamma': 3.1878972195087093e-07,\n",
    " 'grow_policy': 'lossguide'}\n",
    "\n",
    " 3.\n",
    " {'booster': 'dart',\n",
    " 'lambda': 0.0067981943191443815,\n",
    " 'alpha': 1.1158232780616973e-07,\n",
    " 'subsample': 0.39680328510099894,\n",
    " 'colsample_bytree': 0.5482579412080295,\n",
    " 'learning_rate': 0.13779959534970157,\n",
    " 'max_depth': 3,\n",
    " 'eta': 0.0010017919482385215,\n",
    " 'gamma': 0.030524056409888256,\n",
    " 'grow_policy': 'depthwise',\n",
    " 'sample_type': 'weighted',\n",
    " 'normalize_type': 'tree',\n",
    " 'rate_drop': 4.4093900571337765e-06,\n",
    " 'skip_drop': 1.105656318625032e-05}\n",
    "\n",
    " 4.\n"
   ]
  }
 ],
 "metadata": {
  "kernelspec": {
   "display_name": "Python 3.8.2 64-bit",
   "language": "python",
   "name": "python3"
  },
  "language_info": {
   "codemirror_mode": {
    "name": "ipython",
    "version": 3
   },
   "file_extension": ".py",
   "mimetype": "text/x-python",
   "name": "python",
   "nbconvert_exporter": "python",
   "pygments_lexer": "ipython3",
   "version": "3.8.2"
  },
  "orig_nbformat": 4,
  "vscode": {
   "interpreter": {
    "hash": "6eaea64310228e9f754520128e4f9a6259bb26f5c3839fa5dce3903f5873b011"
   }
  }
 },
 "nbformat": 4,
 "nbformat_minor": 2
}
