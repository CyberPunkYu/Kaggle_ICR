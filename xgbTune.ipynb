{
 "cells": [
  {
   "cell_type": "code",
   "execution_count": 22,
   "metadata": {},
   "outputs": [],
   "source": [
    "import numpy as np\n",
    "import pandas as pd\n",
    "import matplotlib.pyplot as plt\n",
    "import seaborn as sns\n",
    "import warnings, os, sys, shutil\n",
    "warnings.filterwarnings(\"ignore\")"
   ]
  },
  {
   "cell_type": "code",
   "execution_count": 23,
   "metadata": {},
   "outputs": [],
   "source": [
    "train = pd.read_csv('./icr-identify-age-related-conditions/train.csv')\n",
    "test = pd.read_csv('./icr-identify-age-related-conditions/test.csv')\n",
    "meta = pd.read_csv('./icr-identify-age-related-conditions/greeks.csv')"
   ]
  },
  {
   "cell_type": "code",
   "execution_count": 24,
   "metadata": {},
   "outputs": [],
   "source": [
    "train_init = train.copy()\n",
    "train['Alpha'] = meta['Alpha']\n",
    "train['Beta'] = meta['Beta']\n",
    "train['Gamma'] = meta['Gamma']\n",
    "train['Delta'] = meta['Delta']"
   ]
  },
  {
   "cell_type": "code",
   "execution_count": 25,
   "metadata": {},
   "outputs": [],
   "source": [
    "# 处理greeks\n",
    "# Alpha为A的时候为0，其余为1\n",
    "train['Alpha'] = train['Alpha'].apply(lambda x: 0 if x == 'A' else 1)"
   ]
  },
  {
   "cell_type": "code",
   "execution_count": 26,
   "metadata": {},
   "outputs": [],
   "source": [
    "# 将数据集中唯一的离散特征转为01，这可能表明患者的性别\n",
    "train['EJ'] = train['EJ'].replace({'A': 0, 'B': 1}).astype(float)\n",
    "test['EJ']  = test['EJ'].replace({'A': 0, 'B': 1}).astype(float)\n",
    "train_init['EJ'] = train_init['EJ'].replace({'A': 0, 'B': 1}).astype(float)\n",
    "# 缺失值处理，用中位数填充\n",
    "train['BQ'].fillna(0, inplace=True)\n",
    "train.fillna(train.median(), inplace=True)\n",
    "test.fillna(test.median(), inplace=True)\n",
    "train_init.fillna(train_init.median(), inplace=True)\n",
    "# 移除ID列\n",
    "train_id = train['Id'].copy()\n",
    "test_id  =  test['Id'].copy()\n",
    "train = train.drop(['Id'], axis=1)\n",
    "test  =  test.drop(['Id'], axis=1)"
   ]
  },
  {
   "cell_type": "code",
   "execution_count": 27,
   "metadata": {},
   "outputs": [
    {
     "data": {
      "text/html": [
       "<div>\n",
       "<style scoped>\n",
       "    .dataframe tbody tr th:only-of-type {\n",
       "        vertical-align: middle;\n",
       "    }\n",
       "\n",
       "    .dataframe tbody tr th {\n",
       "        vertical-align: top;\n",
       "    }\n",
       "\n",
       "    .dataframe thead th {\n",
       "        text-align: right;\n",
       "    }\n",
       "</style>\n",
       "<table border=\"1\" class=\"dataframe\">\n",
       "  <thead>\n",
       "    <tr style=\"text-align: right;\">\n",
       "      <th></th>\n",
       "      <th>AB</th>\n",
       "      <th>AF</th>\n",
       "      <th>AH</th>\n",
       "      <th>AM</th>\n",
       "      <th>AR</th>\n",
       "      <th>AX</th>\n",
       "      <th>AY</th>\n",
       "      <th>AZ</th>\n",
       "      <th>BC</th>\n",
       "      <th>BD</th>\n",
       "      <th>...</th>\n",
       "      <th>GE</th>\n",
       "      <th>GF</th>\n",
       "      <th>GH</th>\n",
       "      <th>GI</th>\n",
       "      <th>GL</th>\n",
       "      <th>Class</th>\n",
       "      <th>Alpha</th>\n",
       "      <th>Beta</th>\n",
       "      <th>Gamma</th>\n",
       "      <th>Delta</th>\n",
       "    </tr>\n",
       "  </thead>\n",
       "  <tbody>\n",
       "    <tr>\n",
       "      <th>0</th>\n",
       "      <td>0.209377</td>\n",
       "      <td>3109.03329</td>\n",
       "      <td>85.200147</td>\n",
       "      <td>22.394407</td>\n",
       "      <td>8.138688</td>\n",
       "      <td>0.699861</td>\n",
       "      <td>0.025578</td>\n",
       "      <td>9.812214</td>\n",
       "      <td>5.555634</td>\n",
       "      <td>4126.58731</td>\n",
       "      <td>...</td>\n",
       "      <td>72.611063</td>\n",
       "      <td>2003.810319</td>\n",
       "      <td>22.136229</td>\n",
       "      <td>69.834944</td>\n",
       "      <td>0.120343</td>\n",
       "      <td>1</td>\n",
       "      <td>1</td>\n",
       "      <td>0</td>\n",
       "      <td>1</td>\n",
       "      <td>2</td>\n",
       "    </tr>\n",
       "    <tr>\n",
       "      <th>1</th>\n",
       "      <td>0.145282</td>\n",
       "      <td>978.76416</td>\n",
       "      <td>85.200147</td>\n",
       "      <td>36.968889</td>\n",
       "      <td>8.138688</td>\n",
       "      <td>3.632190</td>\n",
       "      <td>0.025578</td>\n",
       "      <td>13.517790</td>\n",
       "      <td>1.229900</td>\n",
       "      <td>5496.92824</td>\n",
       "      <td>...</td>\n",
       "      <td>72.611063</td>\n",
       "      <td>27981.562750</td>\n",
       "      <td>29.135430</td>\n",
       "      <td>32.131996</td>\n",
       "      <td>21.978000</td>\n",
       "      <td>0</td>\n",
       "      <td>0</td>\n",
       "      <td>0</td>\n",
       "      <td>0</td>\n",
       "      <td>0</td>\n",
       "    </tr>\n",
       "    <tr>\n",
       "      <th>2</th>\n",
       "      <td>0.470030</td>\n",
       "      <td>2635.10654</td>\n",
       "      <td>85.200147</td>\n",
       "      <td>32.360553</td>\n",
       "      <td>8.138688</td>\n",
       "      <td>6.732840</td>\n",
       "      <td>0.025578</td>\n",
       "      <td>12.824570</td>\n",
       "      <td>1.229900</td>\n",
       "      <td>5135.78024</td>\n",
       "      <td>...</td>\n",
       "      <td>88.609437</td>\n",
       "      <td>13676.957810</td>\n",
       "      <td>28.022851</td>\n",
       "      <td>35.192676</td>\n",
       "      <td>0.196941</td>\n",
       "      <td>0</td>\n",
       "      <td>0</td>\n",
       "      <td>0</td>\n",
       "      <td>0</td>\n",
       "      <td>0</td>\n",
       "    </tr>\n",
       "    <tr>\n",
       "      <th>3</th>\n",
       "      <td>0.252107</td>\n",
       "      <td>3819.65177</td>\n",
       "      <td>120.201618</td>\n",
       "      <td>77.112203</td>\n",
       "      <td>8.138688</td>\n",
       "      <td>3.685344</td>\n",
       "      <td>0.025578</td>\n",
       "      <td>11.053708</td>\n",
       "      <td>1.229900</td>\n",
       "      <td>4169.67738</td>\n",
       "      <td>...</td>\n",
       "      <td>82.416803</td>\n",
       "      <td>2094.262452</td>\n",
       "      <td>39.948656</td>\n",
       "      <td>90.493248</td>\n",
       "      <td>0.155829</td>\n",
       "      <td>0</td>\n",
       "      <td>0</td>\n",
       "      <td>0</td>\n",
       "      <td>0</td>\n",
       "      <td>0</td>\n",
       "    </tr>\n",
       "    <tr>\n",
       "      <th>4</th>\n",
       "      <td>0.380297</td>\n",
       "      <td>3733.04844</td>\n",
       "      <td>85.200147</td>\n",
       "      <td>14.103738</td>\n",
       "      <td>8.138688</td>\n",
       "      <td>3.942255</td>\n",
       "      <td>0.054810</td>\n",
       "      <td>3.396778</td>\n",
       "      <td>102.151980</td>\n",
       "      <td>5728.73412</td>\n",
       "      <td>...</td>\n",
       "      <td>146.109943</td>\n",
       "      <td>8524.370502</td>\n",
       "      <td>45.381316</td>\n",
       "      <td>36.262628</td>\n",
       "      <td>0.096614</td>\n",
       "      <td>1</td>\n",
       "      <td>1</td>\n",
       "      <td>1</td>\n",
       "      <td>1</td>\n",
       "      <td>0</td>\n",
       "    </tr>\n",
       "  </tbody>\n",
       "</table>\n",
       "<p>5 rows × 61 columns</p>\n",
       "</div>"
      ],
      "text/plain": [
       "         AB          AF          AH         AM        AR        AX        AY  \\\n",
       "0  0.209377  3109.03329   85.200147  22.394407  8.138688  0.699861  0.025578   \n",
       "1  0.145282   978.76416   85.200147  36.968889  8.138688  3.632190  0.025578   \n",
       "2  0.470030  2635.10654   85.200147  32.360553  8.138688  6.732840  0.025578   \n",
       "3  0.252107  3819.65177  120.201618  77.112203  8.138688  3.685344  0.025578   \n",
       "4  0.380297  3733.04844   85.200147  14.103738  8.138688  3.942255  0.054810   \n",
       "\n",
       "          AZ          BC         BD   ...          GE            GF  \\\n",
       "0   9.812214    5.555634  4126.58731  ...   72.611063   2003.810319   \n",
       "1  13.517790    1.229900  5496.92824  ...   72.611063  27981.562750   \n",
       "2  12.824570    1.229900  5135.78024  ...   88.609437  13676.957810   \n",
       "3  11.053708    1.229900  4169.67738  ...   82.416803   2094.262452   \n",
       "4   3.396778  102.151980  5728.73412  ...  146.109943   8524.370502   \n",
       "\n",
       "          GH         GI         GL  Class  Alpha  Beta  Gamma  Delta  \n",
       "0  22.136229  69.834944   0.120343      1      1     0      1      2  \n",
       "1  29.135430  32.131996  21.978000      0      0     0      0      0  \n",
       "2  28.022851  35.192676   0.196941      0      0     0      0      0  \n",
       "3  39.948656  90.493248   0.155829      0      0     0      0      0  \n",
       "4  45.381316  36.262628   0.096614      1      1     1      1      0  \n",
       "\n",
       "[5 rows x 61 columns]"
      ]
     },
     "execution_count": 27,
     "metadata": {},
     "output_type": "execute_result"
    }
   ],
   "source": [
    "# 将gamma中的M和N都转为0，G，H，E，F，A，B的转为1\n",
    "train['Gamma'] = train['Gamma'].replace({'M': 0, 'N': 0, 'G': 1, 'H': 1, 'E': 1, 'F': 1, 'A': 1, 'B': 1})\n",
    "# 将Beta中的C0,B1,A2\n",
    "train['Beta'] = train['Beta'].replace({'C': 0, 'B': 1, 'A': 2})\n",
    "# 将Delta中的B0,A1,C1,D2\n",
    "train['Delta'] = train['Delta'].replace({'B': 0, 'A': 1, 'C': 1, 'D': 2})\n",
    "\n",
    "train.head()\n"
   ]
  },
  {
   "cell_type": "code",
   "execution_count": 28,
   "metadata": {},
   "outputs": [
    {
     "data": {
      "text/html": [
       "<div>\n",
       "<style scoped>\n",
       "    .dataframe tbody tr th:only-of-type {\n",
       "        vertical-align: middle;\n",
       "    }\n",
       "\n",
       "    .dataframe tbody tr th {\n",
       "        vertical-align: top;\n",
       "    }\n",
       "\n",
       "    .dataframe thead th {\n",
       "        text-align: right;\n",
       "    }\n",
       "</style>\n",
       "<table border=\"1\" class=\"dataframe\">\n",
       "  <thead>\n",
       "    <tr style=\"text-align: right;\">\n",
       "      <th></th>\n",
       "      <th>AB</th>\n",
       "      <th>AF</th>\n",
       "      <th>AH</th>\n",
       "      <th>AM</th>\n",
       "      <th>AR</th>\n",
       "      <th>AX</th>\n",
       "      <th>AY</th>\n",
       "      <th>AZ</th>\n",
       "      <th>BC</th>\n",
       "      <th>BD</th>\n",
       "      <th>...</th>\n",
       "      <th>GE</th>\n",
       "      <th>GF</th>\n",
       "      <th>GH</th>\n",
       "      <th>GI</th>\n",
       "      <th>GL</th>\n",
       "      <th>Class</th>\n",
       "      <th>Alpha</th>\n",
       "      <th>Beta</th>\n",
       "      <th>Gamma</th>\n",
       "      <th>Delta</th>\n",
       "    </tr>\n",
       "  </thead>\n",
       "  <tbody>\n",
       "    <tr>\n",
       "      <th>0</th>\n",
       "      <td>-0.572153</td>\n",
       "      <td>-0.170975</td>\n",
       "      <td>-0.261669</td>\n",
       "      <td>-0.237889</td>\n",
       "      <td>-0.189295</td>\n",
       "      <td>-1.900558</td>\n",
       "      <td>-0.083417</td>\n",
       "      <td>-0.173502</td>\n",
       "      <td>-0.038354</td>\n",
       "      <td>-0.405383</td>\n",
       "      <td>...</td>\n",
       "      <td>-0.410260</td>\n",
       "      <td>-0.655511</td>\n",
       "      <td>-0.948991</td>\n",
       "      <td>0.531241</td>\n",
       "      <td>-0.814049</td>\n",
       "      <td>1</td>\n",
       "      <td>1</td>\n",
       "      <td>0</td>\n",
       "      <td>1</td>\n",
       "      <td>2</td>\n",
       "    </tr>\n",
       "    <tr>\n",
       "      <th>1</th>\n",
       "      <td>-0.709105</td>\n",
       "      <td>-1.097801</td>\n",
       "      <td>-0.261669</td>\n",
       "      <td>-0.028701</td>\n",
       "      <td>-0.189295</td>\n",
       "      <td>-0.750457</td>\n",
       "      <td>-0.083417</td>\n",
       "      <td>0.678919</td>\n",
       "      <td>-0.104787</td>\n",
       "      <td>0.048541</td>\n",
       "      <td>...</td>\n",
       "      <td>-0.410260</td>\n",
       "      <td>0.687893</td>\n",
       "      <td>-0.238862</td>\n",
       "      <td>-0.509218</td>\n",
       "      <td>1.304860</td>\n",
       "      <td>0</td>\n",
       "      <td>0</td>\n",
       "      <td>0</td>\n",
       "      <td>0</td>\n",
       "      <td>0</td>\n",
       "    </tr>\n",
       "    <tr>\n",
       "      <th>2</th>\n",
       "      <td>-0.015212</td>\n",
       "      <td>-0.377169</td>\n",
       "      <td>-0.261669</td>\n",
       "      <td>-0.094845</td>\n",
       "      <td>-0.189295</td>\n",
       "      <td>0.465662</td>\n",
       "      <td>-0.083417</td>\n",
       "      <td>0.519453</td>\n",
       "      <td>-0.104787</td>\n",
       "      <td>-0.071089</td>\n",
       "      <td>...</td>\n",
       "      <td>-0.299210</td>\n",
       "      <td>-0.051850</td>\n",
       "      <td>-0.351743</td>\n",
       "      <td>-0.424754</td>\n",
       "      <td>-0.806623</td>\n",
       "      <td>0</td>\n",
       "      <td>0</td>\n",
       "      <td>0</td>\n",
       "      <td>0</td>\n",
       "      <td>0</td>\n",
       "    </tr>\n",
       "    <tr>\n",
       "      <th>3</th>\n",
       "      <td>-0.480851</td>\n",
       "      <td>0.138196</td>\n",
       "      <td>0.012347</td>\n",
       "      <td>0.547477</td>\n",
       "      <td>-0.189295</td>\n",
       "      <td>-0.729610</td>\n",
       "      <td>-0.083417</td>\n",
       "      <td>0.112088</td>\n",
       "      <td>-0.104787</td>\n",
       "      <td>-0.391109</td>\n",
       "      <td>...</td>\n",
       "      <td>-0.342195</td>\n",
       "      <td>-0.650833</td>\n",
       "      <td>0.858232</td>\n",
       "      <td>1.101332</td>\n",
       "      <td>-0.810609</td>\n",
       "      <td>0</td>\n",
       "      <td>0</td>\n",
       "      <td>0</td>\n",
       "      <td>0</td>\n",
       "      <td>0</td>\n",
       "    </tr>\n",
       "    <tr>\n",
       "      <th>4</th>\n",
       "      <td>-0.206946</td>\n",
       "      <td>0.100517</td>\n",
       "      <td>-0.261669</td>\n",
       "      <td>-0.356885</td>\n",
       "      <td>-0.189295</td>\n",
       "      <td>-0.628845</td>\n",
       "      <td>-0.013229</td>\n",
       "      <td>-1.649292</td>\n",
       "      <td>1.445139</td>\n",
       "      <td>0.125327</td>\n",
       "      <td>...</td>\n",
       "      <td>0.099920</td>\n",
       "      <td>-0.318309</td>\n",
       "      <td>1.409422</td>\n",
       "      <td>-0.395228</td>\n",
       "      <td>-0.816349</td>\n",
       "      <td>1</td>\n",
       "      <td>1</td>\n",
       "      <td>1</td>\n",
       "      <td>1</td>\n",
       "      <td>0</td>\n",
       "    </tr>\n",
       "  </tbody>\n",
       "</table>\n",
       "<p>5 rows × 61 columns</p>\n",
       "</div>"
      ],
      "text/plain": [
       "         AB        AF        AH        AM        AR        AX        AY  \\\n",
       "0 -0.572153 -0.170975 -0.261669 -0.237889 -0.189295 -1.900558 -0.083417   \n",
       "1 -0.709105 -1.097801 -0.261669 -0.028701 -0.189295 -0.750457 -0.083417   \n",
       "2 -0.015212 -0.377169 -0.261669 -0.094845 -0.189295  0.465662 -0.083417   \n",
       "3 -0.480851  0.138196  0.012347  0.547477 -0.189295 -0.729610 -0.083417   \n",
       "4 -0.206946  0.100517 -0.261669 -0.356885 -0.189295 -0.628845 -0.013229   \n",
       "\n",
       "         AZ        BC       BD   ...        GE        GF        GH        GI  \\\n",
       "0 -0.173502 -0.038354 -0.405383  ... -0.410260 -0.655511 -0.948991  0.531241   \n",
       "1  0.678919 -0.104787  0.048541  ... -0.410260  0.687893 -0.238862 -0.509218   \n",
       "2  0.519453 -0.104787 -0.071089  ... -0.299210 -0.051850 -0.351743 -0.424754   \n",
       "3  0.112088 -0.104787 -0.391109  ... -0.342195 -0.650833  0.858232  1.101332   \n",
       "4 -1.649292  1.445139  0.125327  ...  0.099920 -0.318309  1.409422 -0.395228   \n",
       "\n",
       "         GL  Class  Alpha  Beta  Gamma  Delta  \n",
       "0 -0.814049      1      1     0      1      2  \n",
       "1  1.304860      0      0     0      0      0  \n",
       "2 -0.806623      0      0     0      0      0  \n",
       "3 -0.810609      0      0     0      0      0  \n",
       "4 -0.816349      1      1     1      1      0  \n",
       "\n",
       "[5 rows x 61 columns]"
      ]
     },
     "execution_count": 28,
     "metadata": {},
     "output_type": "execute_result"
    }
   ],
   "source": [
    "# 连续变量归一化处理\n",
    "from sklearn.preprocessing import StandardScaler\n",
    "scaler = StandardScaler()\n",
    "numeric_columns = [_ for _ in train.columns if _ not in ['EJ', 'Alpha', 'Beta', 'Gamma', 'Delta', 'Class']]\n",
    "train[numeric_columns] = scaler.fit_transform(train[numeric_columns])\n",
    "test[numeric_columns] = scaler.transform(test[numeric_columns])\n",
    "train.head()"
   ]
  },
  {
   "cell_type": "code",
   "execution_count": 29,
   "metadata": {},
   "outputs": [],
   "source": [
    "# 抛弃高度相关的特征\n",
    "drop_cols = ['BZ','CL','EH','GL']  # 高度相关\n",
    "drop_cols2 = ['DY','CB','GB','CH','DL','CU','FS','AZ','GE','EG','EP']  # 无用特征，同一点取得极值\n",
    "drop_cols3 = ['BZ', 'DV', 'EH', 'FD ']\n",
    "train.drop(drop_cols, axis=1, inplace=True)\n",
    "test.drop(drop_cols, axis=1, inplace=True)"
   ]
  },
  {
   "cell_type": "code",
   "execution_count": 30,
   "metadata": {},
   "outputs": [],
   "source": [
    "# ytrain为离散\n",
    "ytrain = train[['Class', 'Alpha', 'Beta', 'Gamma', 'Delta']]\n",
    "train.drop(['Class', 'Alpha', 'Beta', 'Gamma', 'Delta'], axis=1, inplace=True)"
   ]
  },
  {
   "cell_type": "code",
   "execution_count": 31,
   "metadata": {},
   "outputs": [
    {
     "data": {
      "text/html": [
       "<div>\n",
       "<style scoped>\n",
       "    .dataframe tbody tr th:only-of-type {\n",
       "        vertical-align: middle;\n",
       "    }\n",
       "\n",
       "    .dataframe tbody tr th {\n",
       "        vertical-align: top;\n",
       "    }\n",
       "\n",
       "    .dataframe thead th {\n",
       "        text-align: right;\n",
       "    }\n",
       "</style>\n",
       "<table border=\"1\" class=\"dataframe\">\n",
       "  <thead>\n",
       "    <tr style=\"text-align: right;\">\n",
       "      <th></th>\n",
       "      <th>AB</th>\n",
       "      <th>AF</th>\n",
       "      <th>AH</th>\n",
       "      <th>AM</th>\n",
       "      <th>AR</th>\n",
       "      <th>AX</th>\n",
       "      <th>AY</th>\n",
       "      <th>AZ</th>\n",
       "      <th>BC</th>\n",
       "      <th>BD</th>\n",
       "      <th>...</th>\n",
       "      <th>FE</th>\n",
       "      <th>FI</th>\n",
       "      <th>FL</th>\n",
       "      <th>FR</th>\n",
       "      <th>FS</th>\n",
       "      <th>GB</th>\n",
       "      <th>GE</th>\n",
       "      <th>GF</th>\n",
       "      <th>GH</th>\n",
       "      <th>GI</th>\n",
       "    </tr>\n",
       "  </thead>\n",
       "  <tbody>\n",
       "    <tr>\n",
       "      <th>0</th>\n",
       "      <td>-0.572153</td>\n",
       "      <td>-0.170975</td>\n",
       "      <td>-0.261669</td>\n",
       "      <td>-0.237889</td>\n",
       "      <td>-0.189295</td>\n",
       "      <td>-1.900558</td>\n",
       "      <td>-0.083417</td>\n",
       "      <td>-0.173502</td>\n",
       "      <td>-0.038354</td>\n",
       "      <td>-0.405383</td>\n",
       "      <td>...</td>\n",
       "      <td>-0.112922</td>\n",
       "      <td>-2.226608</td>\n",
       "      <td>0.162821</td>\n",
       "      <td>-0.035806</td>\n",
       "      <td>-0.250437</td>\n",
       "      <td>-0.940094</td>\n",
       "      <td>-0.410260</td>\n",
       "      <td>-0.655511</td>\n",
       "      <td>-0.948991</td>\n",
       "      <td>0.531241</td>\n",
       "    </tr>\n",
       "    <tr>\n",
       "      <th>1</th>\n",
       "      <td>-0.709105</td>\n",
       "      <td>-1.097801</td>\n",
       "      <td>-0.261669</td>\n",
       "      <td>-0.028701</td>\n",
       "      <td>-0.189295</td>\n",
       "      <td>-0.750457</td>\n",
       "      <td>-0.083417</td>\n",
       "      <td>0.678919</td>\n",
       "      <td>-0.104787</td>\n",
       "      <td>0.048541</td>\n",
       "      <td>...</td>\n",
       "      <td>-0.311056</td>\n",
       "      <td>0.084542</td>\n",
       "      <td>-0.457925</td>\n",
       "      <td>-0.060566</td>\n",
       "      <td>0.113640</td>\n",
       "      <td>-1.145070</td>\n",
       "      <td>-0.410260</td>\n",
       "      <td>0.687893</td>\n",
       "      <td>-0.238862</td>\n",
       "      <td>-0.509218</td>\n",
       "    </tr>\n",
       "    <tr>\n",
       "      <th>2</th>\n",
       "      <td>-0.015212</td>\n",
       "      <td>-0.377169</td>\n",
       "      <td>-0.261669</td>\n",
       "      <td>-0.094845</td>\n",
       "      <td>-0.189295</td>\n",
       "      <td>0.465662</td>\n",
       "      <td>-0.083417</td>\n",
       "      <td>0.519453</td>\n",
       "      <td>-0.104787</td>\n",
       "      <td>-0.071089</td>\n",
       "      <td>...</td>\n",
       "      <td>-0.173811</td>\n",
       "      <td>0.517060</td>\n",
       "      <td>0.198663</td>\n",
       "      <td>-0.051023</td>\n",
       "      <td>0.597343</td>\n",
       "      <td>1.637944</td>\n",
       "      <td>-0.299210</td>\n",
       "      <td>-0.051850</td>\n",
       "      <td>-0.351743</td>\n",
       "      <td>-0.424754</td>\n",
       "    </tr>\n",
       "    <tr>\n",
       "      <th>3</th>\n",
       "      <td>-0.480851</td>\n",
       "      <td>0.138196</td>\n",
       "      <td>0.012347</td>\n",
       "      <td>0.547477</td>\n",
       "      <td>-0.189295</td>\n",
       "      <td>-0.729610</td>\n",
       "      <td>-0.083417</td>\n",
       "      <td>0.112088</td>\n",
       "      <td>-0.104787</td>\n",
       "      <td>-0.391109</td>\n",
       "      <td>...</td>\n",
       "      <td>0.058201</td>\n",
       "      <td>1.617160</td>\n",
       "      <td>0.060364</td>\n",
       "      <td>-0.060566</td>\n",
       "      <td>-0.104806</td>\n",
       "      <td>-0.219883</td>\n",
       "      <td>-0.342195</td>\n",
       "      <td>-0.650833</td>\n",
       "      <td>0.858232</td>\n",
       "      <td>1.101332</td>\n",
       "    </tr>\n",
       "    <tr>\n",
       "      <th>4</th>\n",
       "      <td>-0.206946</td>\n",
       "      <td>0.100517</td>\n",
       "      <td>-0.261669</td>\n",
       "      <td>-0.356885</td>\n",
       "      <td>-0.189295</td>\n",
       "      <td>-0.628845</td>\n",
       "      <td>-0.013229</td>\n",
       "      <td>-1.649292</td>\n",
       "      <td>1.445139</td>\n",
       "      <td>0.125327</td>\n",
       "      <td>...</td>\n",
       "      <td>0.520331</td>\n",
       "      <td>1.212850</td>\n",
       "      <td>0.237302</td>\n",
       "      <td>0.896815</td>\n",
       "      <td>-0.229632</td>\n",
       "      <td>-0.432313</td>\n",
       "      <td>0.099920</td>\n",
       "      <td>-0.318309</td>\n",
       "      <td>1.409422</td>\n",
       "      <td>-0.395228</td>\n",
       "    </tr>\n",
       "  </tbody>\n",
       "</table>\n",
       "<p>5 rows × 52 columns</p>\n",
       "</div>"
      ],
      "text/plain": [
       "         AB        AF        AH        AM        AR        AX        AY  \\\n",
       "0 -0.572153 -0.170975 -0.261669 -0.237889 -0.189295 -1.900558 -0.083417   \n",
       "1 -0.709105 -1.097801 -0.261669 -0.028701 -0.189295 -0.750457 -0.083417   \n",
       "2 -0.015212 -0.377169 -0.261669 -0.094845 -0.189295  0.465662 -0.083417   \n",
       "3 -0.480851  0.138196  0.012347  0.547477 -0.189295 -0.729610 -0.083417   \n",
       "4 -0.206946  0.100517 -0.261669 -0.356885 -0.189295 -0.628845 -0.013229   \n",
       "\n",
       "         AZ        BC       BD   ...        FE        FI        FL        FR  \\\n",
       "0 -0.173502 -0.038354 -0.405383  ... -0.112922 -2.226608  0.162821 -0.035806   \n",
       "1  0.678919 -0.104787  0.048541  ... -0.311056  0.084542 -0.457925 -0.060566   \n",
       "2  0.519453 -0.104787 -0.071089  ... -0.173811  0.517060  0.198663 -0.051023   \n",
       "3  0.112088 -0.104787 -0.391109  ...  0.058201  1.617160  0.060364 -0.060566   \n",
       "4 -1.649292  1.445139  0.125327  ...  0.520331  1.212850  0.237302  0.896815   \n",
       "\n",
       "         FS        GB        GE        GF        GH        GI  \n",
       "0 -0.250437 -0.940094 -0.410260 -0.655511 -0.948991  0.531241  \n",
       "1  0.113640 -1.145070 -0.410260  0.687893 -0.238862 -0.509218  \n",
       "2  0.597343  1.637944 -0.299210 -0.051850 -0.351743 -0.424754  \n",
       "3 -0.104806 -0.219883 -0.342195 -0.650833  0.858232  1.101332  \n",
       "4 -0.229632 -0.432313  0.099920 -0.318309  1.409422 -0.395228  \n",
       "\n",
       "[5 rows x 52 columns]"
      ]
     },
     "execution_count": 31,
     "metadata": {},
     "output_type": "execute_result"
    }
   ],
   "source": [
    "train.head()"
   ]
  },
  {
   "cell_type": "markdown",
   "metadata": {},
   "source": [
    "# 模型搭建\n",
    "先直接对Class预测"
   ]
  },
  {
   "cell_type": "code",
   "execution_count": 32,
   "metadata": {},
   "outputs": [
    {
     "name": "stdout",
     "output_type": "stream",
     "text": [
      "(493, 52)\n",
      "(493, 5)\n"
     ]
    }
   ],
   "source": [
    "# 数据集分割\n",
    "from sklearn.model_selection import train_test_split\n",
    "from sklearn.metrics import roc_auc_score, accuracy_score, log_loss\n",
    "x_train, x_test, y_train, y_test = train_test_split(train, ytrain, test_size=0.2, random_state=42)\n",
    "scale_pos_weight = 4.712962962962963\n",
    "print(x_train.shape)\n",
    "print(y_train.shape)"
   ]
  },
  {
   "cell_type": "code",
   "execution_count": 33,
   "metadata": {},
   "outputs": [],
   "source": [
    "def ScoreMetric(ytrue, ypred):\n",
    "    nc = np.bincount(ytrue);\n",
    "    return log_loss(ytrue, ypred, sample_weight = 1 / nc[ytrue], eps=1e-15);\n",
    "\n",
    "def lgb_metric(y_true, y_pred):\n",
    "    return 'balanced_log_loss', ScoreMetric(y_true, y_pred), False"
   ]
  },
  {
   "cell_type": "code",
   "execution_count": 34,
   "metadata": {},
   "outputs": [
    {
     "data": {
      "text/plain": [
       "0.967741935483871"
      ]
     },
     "execution_count": 34,
     "metadata": {},
     "output_type": "execute_result"
    }
   ],
   "source": [
    "# # xgb\n",
    "import xgboost as xgb\n",
    "xgb_c = xgb.XGBClassifier(n_estimators=300, learning_rate=0.01, max_depth=4, random_state=42)\n",
    "xgb_c.fit(x_train, y_train['Class'])\n",
    "xgb_pred = xgb_c.predict(x_test)\n",
    "y_pred = xgb_c.predict_proba(x_test)\n",
    "xgb_accuracy = accuracy_score(xgb_pred, y_test['Class'])\n",
    "# xgb_pred\n",
    "xgb_accuracy"
   ]
  },
  {
   "cell_type": "code",
   "execution_count": 35,
   "metadata": {},
   "outputs": [
    {
     "data": {
      "text/plain": [
       "0.3443425278858093"
      ]
     },
     "execution_count": 35,
     "metadata": {},
     "output_type": "execute_result"
    }
   ],
   "source": [
    "p0 = y_pred[:,1]\n",
    "ScoreMetric(y_test['Class'], p0)\n",
    "# p0"
   ]
  },
  {
   "cell_type": "markdown",
   "metadata": {},
   "source": [
    "# 正式的KFold交叉验证 + Optuna模型调参"
   ]
  },
  {
   "cell_type": "code",
   "execution_count": 36,
   "metadata": {},
   "outputs": [],
   "source": [
    "import optuna, tune\n",
    "\n",
    "from optuna.samplers import TPESampler\n",
    "from optuna.visualization import plot_contour\n",
    "from optuna.visualization import plot_edf\n",
    "from optuna.visualization import plot_intermediate_values\n",
    "from optuna.visualization import plot_optimization_history\n",
    "from optuna.visualization import plot_parallel_coordinate\n",
    "from optuna.visualization import plot_param_importances\n",
    "from optuna.visualization import plot_slice\n",
    "\n",
    "from sklearn.model_selection import GridSearchCV, cross_val_score, cross_validate\n",
    "from sklearn.metrics import confusion_matrix, roc_curve, roc_auc_score, log_loss\n",
    "from sklearn.metrics import make_scorer, accuracy_score, log_loss\n",
    "from sklearn.model_selection import ShuffleSplit, StratifiedShuffleSplit\n",
    "\n",
    "# fold\n",
    "from sklearn.model_selection import KFold, StratifiedKFold\n"
   ]
  },
  {
   "cell_type": "code",
   "execution_count": 37,
   "metadata": {},
   "outputs": [
    {
     "name": "stderr",
     "output_type": "stream",
     "text": [
      "[I 2023-08-02 22:44:57,678] A new study created in memory with name: no-name-36a7d3e6-b74d-4c07-87b1-293592a2417e\n",
      "[W 2023-08-02 22:44:58,373] Trial 0 failed with parameters: {'booster': 'gblinear', 'lambda': 0.0006155564318973012, 'alpha': 1.77071686435378e-07, 'subsample': 0.2935967122017216, 'colsample_bytree': 0.23485016730091968, 'learning_rate': 0.2611910822747312} because of the following error: The value nan is not acceptable..\n",
      "[W 2023-08-02 22:44:58,374] Trial 0 failed with value nan.\n",
      "[I 2023-08-02 22:44:59,081] Trial 1 finished with value: 0.519294173810417 and parameters: {'booster': 'gblinear', 'lambda': 0.574485163632042, 'alpha': 0.04566054873446119, 'subsample': 0.3274034664069657, 'colsample_bytree': 0.3090949803242604, 'learning_rate': 0.06318730785749581}. Best is trial 1 with value: 0.519294173810417.\n",
      "[W 2023-08-02 22:44:59,785] Trial 2 failed with parameters: {'booster': 'gblinear', 'lambda': 2.1371407316372935e-06, 'alpha': 0.000784915956255507, 'subsample': 0.2836963163912251, 'colsample_bytree': 0.3752867891211309, 'learning_rate': 0.11624493455517058} because of the following error: The value nan is not acceptable..\n",
      "[W 2023-08-02 22:44:59,786] Trial 2 failed with value nan.\n",
      "[W 2023-08-02 22:45:00,624] Trial 3 failed with parameters: {'booster': 'gblinear', 'lambda': 0.00012997969313168238, 'alpha': 0.0005486767416600901, 'subsample': 0.22787024763199865, 'colsample_bytree': 0.5645269111408631, 'learning_rate': 0.059451995869314544} because of the following error: The value nan is not acceptable..\n",
      "[W 2023-08-02 22:45:00,625] Trial 3 failed with value nan.\n",
      "[I 2023-08-02 22:45:06,736] Trial 4 finished with value: 0.2964243249258402 and parameters: {'booster': 'dart', 'lambda': 0.02932100047183291, 'alpha': 2.734702913886802e-06, 'subsample': 0.25860326840383036, 'colsample_bytree': 0.6105398159072942, 'learning_rate': 0.13764422318448438, 'max_depth': 2, 'eta': 0.030586566669785254, 'gamma': 1.8841183049085085e-08, 'grow_policy': 'depthwise', 'sample_type': 'uniform', 'normalize_type': 'forest', 'rate_drop': 3.0118659882617117e-07, 'skip_drop': 0.5710537951126793}. Best is trial 4 with value: 0.2964243249258402.\n",
      "[I 2023-08-02 22:45:07,475] Trial 5 finished with value: 0.6570908050801666 and parameters: {'booster': 'gblinear', 'lambda': 0.0006070155694141794, 'alpha': 0.23713402899336497, 'subsample': 0.2530955012311517, 'colsample_bytree': 0.3175897174514871, 'learning_rate': 0.023115913784056037}. Best is trial 4 with value: 0.2964243249258402.\n",
      "[W 2023-08-02 22:45:08,212] Trial 6 failed with parameters: {'booster': 'gblinear', 'lambda': 0.04264813784432918, 'alpha': 7.145401117237584e-06, 'subsample': 0.3685607058124285, 'colsample_bytree': 0.5256176498949492, 'learning_rate': 0.050868025242681164} because of the following error: The value nan is not acceptable..\n",
      "[W 2023-08-02 22:45:08,213] Trial 6 failed with value nan.\n",
      "[I 2023-08-02 22:45:13,977] Trial 7 finished with value: 0.4021228281661481 and parameters: {'booster': 'dart', 'lambda': 0.015064619068942013, 'alpha': 3.8879928024075543e-07, 'subsample': 0.20331327027416146, 'colsample_bytree': 0.6892768570729007, 'learning_rate': 0.21498862971580895, 'max_depth': 12, 'eta': 0.20597335357437188, 'gamma': 3.911625006683821e-08, 'grow_policy': 'depthwise', 'sample_type': 'uniform', 'normalize_type': 'tree', 'rate_drop': 3.075095259104445e-06, 'skip_drop': 3.994538177154855e-06}. Best is trial 4 with value: 0.2964243249258402.\n",
      "[I 2023-08-02 22:45:20,516] Trial 8 finished with value: 0.31778231346967856 and parameters: {'booster': 'dart', 'lambda': 5.994036749692399e-05, 'alpha': 9.052196389541886e-08, 'subsample': 0.6279468723337971, 'colsample_bytree': 0.6564710291701386, 'learning_rate': 0.1727703872951539, 'max_depth': 13, 'eta': 0.030296104428212477, 'gamma': 0.00015200666650051572, 'grow_policy': 'depthwise', 'sample_type': 'uniform', 'normalize_type': 'tree', 'rate_drop': 0.00011710232809812825, 'skip_drop': 0.1821930437934653}. Best is trial 4 with value: 0.2964243249258402.\n",
      "[I 2023-08-02 22:45:26,860] Trial 9 finished with value: 0.3317594289404727 and parameters: {'booster': 'dart', 'lambda': 6.76683090208453e-07, 'alpha': 4.128946718697511e-08, 'subsample': 0.3738508717482608, 'colsample_bytree': 0.2967327723524027, 'learning_rate': 0.2796123191793462, 'max_depth': 13, 'eta': 0.07947147424653743, 'gamma': 0.0936881625557718, 'grow_policy': 'depthwise', 'sample_type': 'uniform', 'normalize_type': 'forest', 'rate_drop': 3.499675682069358e-06, 'skip_drop': 7.593034903208851e-08}. Best is trial 4 with value: 0.2964243249258402.\n",
      "[I 2023-08-02 22:45:32,778] Trial 10 finished with value: 0.2938234302905271 and parameters: {'booster': 'dart', 'lambda': 0.07688553948726365, 'alpha': 1.1366245816554797e-08, 'subsample': 0.5064483815465395, 'colsample_bytree': 0.45044660188926744, 'learning_rate': 0.07441126503651176, 'max_depth': 2, 'eta': 0.01030019660098677, 'gamma': 0.3493635816569516, 'grow_policy': 'lossguide', 'sample_type': 'uniform', 'normalize_type': 'tree', 'rate_drop': 1.033375989766645e-06, 'skip_drop': 9.505786310154948e-05}. Best is trial 10 with value: 0.2938234302905271.\n",
      "[I 2023-08-02 22:45:33,732] Trial 11 finished with value: 0.3472449609833941 and parameters: {'booster': 'gbtree', 'lambda': 0.0007525141520487903, 'alpha': 0.00010505873950469604, 'subsample': 0.23088725074999364, 'colsample_bytree': 0.3671878785419669, 'learning_rate': 0.27339710693032954, 'max_depth': 4, 'eta': 0.0027207248059486684, 'gamma': 8.2342127198163e-05, 'grow_policy': 'depthwise'}. Best is trial 10 with value: 0.2938234302905271.\n",
      "[W 2023-08-02 22:45:34,483] Trial 12 failed with parameters: {'booster': 'gblinear', 'lambda': 0.0066946948903108105, 'alpha': 8.755179646617154e-06, 'subsample': 0.5793834983561478, 'colsample_bytree': 0.5801178264565369, 'learning_rate': 0.16537465838167995} because of the following error: The value nan is not acceptable..\n",
      "[W 2023-08-02 22:45:34,484] Trial 12 failed with value nan.\n",
      "[W 2023-08-02 22:45:35,336] Trial 13 failed with parameters: {'booster': 'gblinear', 'lambda': 3.105618343239014e-07, 'alpha': 2.1193424275165945e-08, 'subsample': 0.5545357659129452, 'colsample_bytree': 0.6065386171053695, 'learning_rate': 0.014810470389078283} because of the following error: The value nan is not acceptable..\n",
      "[W 2023-08-02 22:45:35,338] Trial 13 failed with value nan.\n",
      "[I 2023-08-02 22:45:41,577] Trial 14 finished with value: 0.3334530464948816 and parameters: {'booster': 'dart', 'lambda': 2.482741090341392e-07, 'alpha': 0.0033690069338789532, 'subsample': 0.4320412077803225, 'colsample_bytree': 0.7620379932420409, 'learning_rate': 0.04988107380233804, 'max_depth': 6, 'eta': 0.002189881242905692, 'gamma': 0.24977498768365702, 'grow_policy': 'depthwise', 'sample_type': 'weighted', 'normalize_type': 'tree', 'rate_drop': 8.606336591203087e-07, 'skip_drop': 5.556766432156757e-08}. Best is trial 10 with value: 0.2938234302905271.\n",
      "[W 2023-08-02 22:45:42,304] Trial 15 failed with parameters: {'booster': 'gblinear', 'lambda': 5.155114649196488e-06, 'alpha': 6.218370535731491e-06, 'subsample': 0.6355734073221437, 'colsample_bytree': 0.7382661559715464, 'learning_rate': 0.267255063036884} because of the following error: The value nan is not acceptable..\n",
      "[W 2023-08-02 22:45:42,305] Trial 15 failed with value nan.\n",
      "[I 2023-08-02 22:45:43,750] Trial 16 finished with value: 0.4217699732173089 and parameters: {'booster': 'gbtree', 'lambda': 1.9634946069845978e-07, 'alpha': 0.1543240130559408, 'subsample': 0.563857435795754, 'colsample_bytree': 0.2055182309699778, 'learning_rate': 0.03942674743114931, 'max_depth': 11, 'eta': 0.0010355826161899187, 'gamma': 1.9340353658219098e-07, 'grow_policy': 'lossguide'}. Best is trial 10 with value: 0.2938234302905271.\n",
      "[I 2023-08-02 22:45:44,512] Trial 17 finished with value: 0.43589788194195717 and parameters: {'booster': 'gblinear', 'lambda': 0.2837654346123945, 'alpha': 1.1491548505141235e-08, 'subsample': 0.7593742051470727, 'colsample_bytree': 0.5001898853570131, 'learning_rate': 0.10458057586654723}. Best is trial 10 with value: 0.2938234302905271.\n",
      "[I 2023-08-02 22:45:50,618] Trial 18 finished with value: 0.3229189213984373 and parameters: {'booster': 'dart', 'lambda': 0.06532591371284432, 'alpha': 2.2668308927405527e-06, 'subsample': 0.5138656722396847, 'colsample_bytree': 0.5260726531104581, 'learning_rate': 0.11326645476714818, 'max_depth': 1, 'eta': 0.016420134205543592, 'gamma': 5.000654157363934e-06, 'grow_policy': 'lossguide', 'sample_type': 'uniform', 'normalize_type': 'forest', 'rate_drop': 1.1618685773547894e-08, 'skip_drop': 0.010480308580502461}. Best is trial 10 with value: 0.2938234302905271.\n",
      "[I 2023-08-02 22:45:56,407] Trial 19 finished with value: 0.3542707419664452 and parameters: {'booster': 'dart', 'lambda': 0.014987773163052727, 'alpha': 8.54314294009816e-06, 'subsample': 0.4264965712313108, 'colsample_bytree': 0.5765857671535701, 'learning_rate': 0.1158627613788677, 'max_depth': 1, 'eta': 0.9728583151931056, 'gamma': 0.001614828573371444, 'grow_policy': 'lossguide', 'sample_type': 'uniform', 'normalize_type': 'forest', 'rate_drop': 0.032981450527181766, 'skip_drop': 0.0005242965669412552}. Best is trial 10 with value: 0.2938234302905271.\n",
      "[I 2023-08-02 22:46:02,856] Trial 20 finished with value: 0.3398362682368953 and parameters: {'booster': 'dart', 'lambda': 0.9688946044463521, 'alpha': 1.2738624199678544e-08, 'subsample': 0.32485271525570136, 'colsample_bytree': 0.47726885504067695, 'learning_rate': 0.15629835726505215, 'max_depth': 5, 'eta': 0.010149230199388902, 'gamma': 1.9815795924708083e-08, 'grow_policy': 'lossguide', 'sample_type': 'weighted', 'normalize_type': 'tree', 'rate_drop': 1.4809743956203268e-08, 'skip_drop': 0.5677521877558752}. Best is trial 10 with value: 0.2938234302905271.\n",
      "[I 2023-08-02 22:46:09,350] Trial 21 finished with value: 0.2920119083395599 and parameters: {'booster': 'dart', 'lambda': 0.017713694612895948, 'alpha': 6.100609456046906e-07, 'subsample': 0.46431684895727376, 'colsample_bytree': 0.602327085562932, 'learning_rate': 0.08388602029589849, 'max_depth': 8, 'eta': 0.008184048727196903, 'gamma': 0.7528177922710402, 'grow_policy': 'lossguide', 'sample_type': 'uniform', 'normalize_type': 'forest', 'rate_drop': 3.5942150315105686e-07, 'skip_drop': 0.0002998659435608065}. Best is trial 21 with value: 0.2920119083395599.\n",
      "[I 2023-08-02 22:46:10,874] Trial 22 finished with value: 0.31154408063557765 and parameters: {'booster': 'gbtree', 'lambda': 0.0022812211459915972, 'alpha': 1.0782309480653116e-07, 'subsample': 0.49487187673606364, 'colsample_bytree': 0.4458269239938906, 'learning_rate': 0.07834391796016311, 'max_depth': 16, 'eta': 0.006839305822689301, 'gamma': 0.9878661749835398, 'grow_policy': 'lossguide'}. Best is trial 21 with value: 0.2920119083395599.\n",
      "[I 2023-08-02 22:46:18,040] Trial 23 finished with value: 0.39872285932103935 and parameters: {'booster': 'dart', 'lambda': 4.4166438675821603e-05, 'alpha': 4.3137572965934697e-07, 'subsample': 0.6207132503568871, 'colsample_bytree': 0.42374539476263773, 'learning_rate': 0.021392824930519208, 'max_depth': 9, 'eta': 0.006031082165744434, 'gamma': 0.022568126054263917, 'grow_policy': 'lossguide', 'sample_type': 'uniform', 'normalize_type': 'forest', 'rate_drop': 8.005268445881769e-05, 'skip_drop': 0.00012674360521126944}. Best is trial 21 with value: 0.2920119083395599.\n",
      "[I 2023-08-02 22:46:26,050] Trial 24 finished with value: 0.3101256523003201 and parameters: {'booster': 'dart', 'lambda': 0.1041761754508468, 'alpha': 4.2587709795538606e-05, 'subsample': 0.44525866434295647, 'colsample_bytree': 0.5568483800455777, 'learning_rate': 0.07817114720973396, 'max_depth': 7, 'eta': 0.01332359627180538, 'gamma': 0.9816659639357597, 'grow_policy': 'lossguide', 'sample_type': 'weighted', 'normalize_type': 'tree', 'rate_drop': 1.1498759752567991e-07, 'skip_drop': 1.127905898865452e-05}. Best is trial 21 with value: 0.2920119083395599.\n",
      "[I 2023-08-02 22:46:27,916] Trial 25 finished with value: 0.43668507178111843 and parameters: {'booster': 'gbtree', 'lambda': 0.0031587073918047126, 'alpha': 3.9611065783321447e-07, 'subsample': 0.5424011136509231, 'colsample_bytree': 0.6195553530858802, 'learning_rate': 0.013031679530839613, 'max_depth': 9, 'eta': 0.0032583424397482795, 'gamma': 0.02149295800745956, 'grow_policy': 'lossguide'}. Best is trial 21 with value: 0.2920119083395599.\n",
      "[W 2023-08-02 22:46:28,917] Trial 26 failed with parameters: {'booster': 'gblinear', 'lambda': 0.07206764589243324, 'alpha': 1.3375724656226825e-08, 'subsample': 0.4659480634240174, 'colsample_bytree': 0.5618665981311471, 'learning_rate': 0.07437289541616351} because of the following error: The value nan is not acceptable..\n",
      "[W 2023-08-02 22:46:28,918] Trial 26 failed with value nan.\n",
      "[I 2023-08-02 22:46:29,757] Trial 27 finished with value: 0.41990007478418934 and parameters: {'booster': 'gblinear', 'lambda': 0.19074331246131757, 'alpha': 1.842896955047312e-08, 'subsample': 0.46413691341294827, 'colsample_bytree': 0.5290260990840006, 'learning_rate': 0.08733107290795318}. Best is trial 21 with value: 0.2920119083395599.\n",
      "[I 2023-08-02 22:46:36,595] Trial 28 finished with value: 0.29767889072399917 and parameters: {'booster': 'dart', 'lambda': 0.006328377788871588, 'alpha': 1.797750493310095e-07, 'subsample': 0.5838284389139394, 'colsample_bytree': 0.42919976707438945, 'learning_rate': 0.05945597131506211, 'max_depth': 3, 'eta': 0.006504956767620912, 'gamma': 0.010839819140938265, 'grow_policy': 'lossguide', 'sample_type': 'uniform', 'normalize_type': 'forest', 'rate_drop': 2.3050317973338297e-05, 'skip_drop': 0.0013438948255138736}. Best is trial 21 with value: 0.2920119083395599.\n",
      "[I 2023-08-02 22:46:43,291] Trial 29 finished with value: 0.30025030507507305 and parameters: {'booster': 'dart', 'lambda': 0.0490327387823917, 'alpha': 1.803844213123157e-06, 'subsample': 0.38099064541243166, 'colsample_bytree': 0.6037008040896494, 'learning_rate': 0.1333651508708334, 'max_depth': 3, 'eta': 0.02826417001829904, 'gamma': 5.660500269758609e-07, 'grow_policy': 'depthwise', 'sample_type': 'uniform', 'normalize_type': 'forest', 'rate_drop': 4.5562645318159805e-07, 'skip_drop': 0.01572313622063805}. Best is trial 21 with value: 0.2920119083395599.\n",
      "[I 2023-08-02 22:46:49,528] Trial 30 finished with value: 0.29391292492936805 and parameters: {'booster': 'dart', 'lambda': 0.039834601822568094, 'alpha': 3.944762914421563e-06, 'subsample': 0.2790599311210198, 'colsample_bytree': 0.6644483588426067, 'learning_rate': 0.1329598252543362, 'max_depth': 2, 'eta': 0.056180470756553344, 'gamma': 0.0018615702790439278, 'grow_policy': 'depthwise', 'sample_type': 'uniform', 'normalize_type': 'forest', 'rate_drop': 1.6349872718601165e-07, 'skip_drop': 2.253020787261293e-05}. Best is trial 21 with value: 0.2920119083395599.\n",
      "[I 2023-08-02 22:46:56,614] Trial 31 finished with value: 0.32030295395856234 and parameters: {'booster': 'dart', 'lambda': 0.13164485800055156, 'alpha': 6.827796460614719e-08, 'subsample': 0.3065084434833488, 'colsample_bytree': 0.7094989193399925, 'learning_rate': 0.09643584066758804, 'max_depth': 7, 'eta': 0.060540495860108304, 'gamma': 0.09622889781254745, 'grow_policy': 'lossguide', 'sample_type': 'uniform', 'normalize_type': 'forest', 'rate_drop': 6.200789993728543e-08, 'skip_drop': 1.2214412762283429e-05}. Best is trial 21 with value: 0.2920119083395599.\n",
      "[I 2023-08-02 22:47:03,899] Trial 32 finished with value: 0.3039013274370917 and parameters: {'booster': 'dart', 'lambda': 0.9574714645050553, 'alpha': 3.160136966329224e-05, 'subsample': 0.39186666305897544, 'colsample_bytree': 0.7766791499619913, 'learning_rate': 0.07062770002167325, 'max_depth': 4, 'eta': 0.01644208424927164, 'gamma': 0.0032849041813783836, 'grow_policy': 'lossguide', 'sample_type': 'uniform', 'normalize_type': 'tree', 'rate_drop': 9.13293686063748e-08, 'skip_drop': 7.676883072825261e-05}. Best is trial 21 with value: 0.2920119083395599.\n",
      "[I 2023-08-02 22:47:11,489] Trial 33 finished with value: 0.3195390049577525 and parameters: {'booster': 'dart', 'lambda': 0.015752922474914204, 'alpha': 9.219077078146844e-07, 'subsample': 0.48845088764571004, 'colsample_bytree': 0.6586362100950794, 'learning_rate': 0.04699164222622511, 'max_depth': 16, 'eta': 0.06414838545649194, 'gamma': 0.21960160231424572, 'grow_policy': 'depthwise', 'sample_type': 'uniform', 'normalize_type': 'forest', 'rate_drop': 3.501886577180096e-06, 'skip_drop': 1.372247018744276e-06}. Best is trial 21 with value: 0.2920119083395599.\n",
      "[I 2023-08-02 22:47:18,380] Trial 34 finished with value: 0.30176311071558354 and parameters: {'booster': 'dart', 'lambda': 0.055222819950753184, 'alpha': 9.72763789202479e-06, 'subsample': 0.29334238934631596, 'colsample_bytree': 0.5607963812988364, 'learning_rate': 0.09232356739674223, 'max_depth': 6, 'eta': 0.009182663035279459, 'gamma': 0.9898050362893772, 'grow_policy': 'lossguide', 'sample_type': 'weighted', 'normalize_type': 'tree', 'rate_drop': 8.83903199725088e-07, 'skip_drop': 6.833776239621083e-05}. Best is trial 21 with value: 0.2920119083395599.\n",
      "[I 2023-08-02 22:47:25,084] Trial 35 finished with value: 0.2882956407734144 and parameters: {'booster': 'dart', 'lambda': 0.19968429899512155, 'alpha': 4.734605110816697e-08, 'subsample': 0.34700124583808417, 'colsample_bytree': 0.7222325488997194, 'learning_rate': 0.11908873460501686, 'max_depth': 2, 'eta': 0.004472123554001727, 'gamma': 0.07357381204548523, 'grow_policy': 'depthwise', 'sample_type': 'uniform', 'normalize_type': 'forest', 'rate_drop': 2.47614057100419e-08, 'skip_drop': 0.0008527959920168323}. Best is trial 35 with value: 0.2882956407734144.\n",
      "[I 2023-08-02 22:47:26,651] Trial 36 finished with value: 0.31125284415023186 and parameters: {'booster': 'gbtree', 'lambda': 0.4043009479723524, 'alpha': 3.193434316905125e-08, 'subsample': 0.36750380962132667, 'colsample_bytree': 0.7395057648887469, 'learning_rate': 0.1086618311816683, 'max_depth': 10, 'eta': 0.004399370430019953, 'gamma': 0.11635849139168446, 'grow_policy': 'lossguide'}. Best is trial 35 with value: 0.2882956407734144.\n",
      "[I 2023-08-02 22:47:27,854] Trial 37 finished with value: 0.4461247292534196 and parameters: {'booster': 'gblinear', 'lambda': 0.3482668436905685, 'alpha': 1.0853956951811848e-08, 'subsample': 0.35095556431758446, 'colsample_bytree': 0.7379890311405075, 'learning_rate': 0.06315814363463568}. Best is trial 35 with value: 0.2882956407734144.\n",
      "[I 2023-08-02 22:47:28,791] Trial 38 finished with value: 0.4139389856410277 and parameters: {'booster': 'gblinear', 'lambda': 0.15953508859296936, 'alpha': 5.489395745930024e-08, 'subsample': 0.4225693986315956, 'colsample_bytree': 0.7938242157651187, 'learning_rate': 0.0776195183042343}. Best is trial 35 with value: 0.2882956407734144.\n",
      "[I 2023-08-02 22:47:35,846] Trial 39 finished with value: 0.31233148115217735 and parameters: {'booster': 'dart', 'lambda': 0.03525505071483449, 'alpha': 1.9913254509999844e-07, 'subsample': 0.2934946568224438, 'colsample_bytree': 0.6707565463558554, 'learning_rate': 0.12352732315316471, 'max_depth': 2, 'eta': 0.004572703286278121, 'gamma': 0.01399922247719107, 'grow_policy': 'depthwise', 'sample_type': 'uniform', 'normalize_type': 'forest', 'rate_drop': 3.8361368854884936e-08, 'skip_drop': 0.0005436388053191489}. Best is trial 35 with value: 0.2882956407734144.\n",
      "[I 2023-08-02 22:47:43,465] Trial 40 finished with value: 0.32297639589755683 and parameters: {'booster': 'dart', 'lambda': 0.009754045853321942, 'alpha': 5.037004489929766e-07, 'subsample': 0.3298611204969446, 'colsample_bytree': 0.624286530374231, 'learning_rate': 0.1415806360129761, 'max_depth': 3, 'eta': 0.010508266421963505, 'gamma': 0.05067825056326535, 'grow_policy': 'depthwise', 'sample_type': 'uniform', 'normalize_type': 'forest', 'rate_drop': 1.3137945089031655e-08, 'skip_drop': 0.0021252678520749875}. Best is trial 35 with value: 0.2882956407734144.\n",
      "[I 2023-08-02 22:47:49,902] Trial 41 finished with value: 0.32952753172441324 and parameters: {'booster': 'dart', 'lambda': 0.05436285278638523, 'alpha': 1.2593003932557786e-07, 'subsample': 0.2719481579326839, 'colsample_bytree': 0.7213997957443907, 'learning_rate': 0.09697565419724219, 'max_depth': 1, 'eta': 0.016529345955020328, 'gamma': 0.3589606860339592, 'grow_policy': 'depthwise', 'sample_type': 'uniform', 'normalize_type': 'forest', 'rate_drop': 2.0533929608616413e-07, 'skip_drop': 9.60155380165264e-05}. Best is trial 35 with value: 0.2882956407734144.\n",
      "[I 2023-08-02 22:47:56,827] Trial 42 finished with value: 0.30001151074951105 and parameters: {'booster': 'dart', 'lambda': 0.38804511992377827, 'alpha': 4.7769702299372884e-08, 'subsample': 0.2470064742626284, 'colsample_bytree': 0.6937024301864914, 'learning_rate': 0.13109976726844397, 'max_depth': 4, 'eta': 0.0018987982783920544, 'gamma': 0.05103477345797085, 'grow_policy': 'depthwise', 'sample_type': 'uniform', 'normalize_type': 'forest', 'rate_drop': 6.611310445023569e-08, 'skip_drop': 0.00022068788511496668}. Best is trial 35 with value: 0.2882956407734144.\n",
      "[I 2023-08-02 22:48:03,503] Trial 43 finished with value: 0.27591645194003767 and parameters: {'booster': 'dart', 'lambda': 0.003804023068013783, 'alpha': 1.329869422762446e-06, 'subsample': 0.3979808226283441, 'colsample_bytree': 0.6380874936845242, 'learning_rate': 0.15074142148598843, 'max_depth': 2, 'eta': 0.0038178204031137203, 'gamma': 0.2674005501426375, 'grow_policy': 'depthwise', 'sample_type': 'uniform', 'normalize_type': 'forest', 'rate_drop': 2.852195477730187e-07, 'skip_drop': 1.7020682199744527e-05}. Best is trial 43 with value: 0.27591645194003767.\n",
      "[I 2023-08-02 22:48:10,380] Trial 44 finished with value: 0.3110916995289982 and parameters: {'booster': 'dart', 'lambda': 0.005707421109759703, 'alpha': 7.881806421393058e-07, 'subsample': 0.4048967695964129, 'colsample_bytree': 0.5881054639688861, 'learning_rate': 0.15842776637520736, 'max_depth': 5, 'eta': 0.004351048024381601, 'gamma': 0.510276706897357, 'grow_policy': 'depthwise', 'sample_type': 'uniform', 'normalize_type': 'tree', 'rate_drop': 8.908665207221664e-07, 'skip_drop': 0.002255843603484947}. Best is trial 43 with value: 0.27591645194003767.\n",
      "[I 2023-08-02 22:48:17,259] Trial 45 finished with value: 0.30745073160334674 and parameters: {'booster': 'dart', 'lambda': 0.01922764543760081, 'alpha': 2.8197791678507247e-08, 'subsample': 0.4547279782246405, 'colsample_bytree': 0.6343086062300711, 'learning_rate': 0.19225617838490397, 'max_depth': 2, 'eta': 0.001718305050147351, 'gamma': 0.3265267045211762, 'grow_policy': 'lossguide', 'sample_type': 'uniform', 'normalize_type': 'forest', 'rate_drop': 5.212888641403138e-08, 'skip_drop': 0.00030735789523298325}. Best is trial 43 with value: 0.27591645194003767.\n",
      "[I 2023-08-02 22:48:25,010] Trial 46 finished with value: 0.34727136133703396 and parameters: {'booster': 'dart', 'lambda': 0.001259427012769774, 'alpha': 1.9437188156737844e-07, 'subsample': 0.3537047350386849, 'colsample_bytree': 0.6922686419585655, 'learning_rate': 0.11660289330382395, 'max_depth': 8, 'eta': 0.0034744875322021288, 'gamma': 0.1784261167390036, 'grow_policy': 'depthwise', 'sample_type': 'weighted', 'normalize_type': 'forest', 'rate_drop': 1.0967716117456025e-08, 'skip_drop': 2.9507309852671496e-05}. Best is trial 43 with value: 0.27591645194003767.\n",
      "[W 2023-08-02 22:48:25,814] Trial 47 failed with parameters: {'booster': 'gblinear', 'lambda': 0.0036066412580543833, 'alpha': 3.2383657684176755e-08, 'subsample': 0.39861644201189983, 'colsample_bytree': 0.6354376989531619, 'learning_rate': 0.14558739851803826} because of the following error: The value nan is not acceptable..\n",
      "[W 2023-08-02 22:48:25,816] Trial 47 failed with value nan.\n",
      "[W 2023-08-02 22:48:26,587] Trial 48 failed with parameters: {'booster': 'gblinear', 'lambda': 0.00047508568159410324, 'alpha': 1.1112384941218575e-06, 'subsample': 0.47027973532883105, 'colsample_bytree': 0.6397135436434127, 'learning_rate': 0.03607073185185147} because of the following error: The value nan is not acceptable..\n",
      "[W 2023-08-02 22:48:26,587] Trial 48 failed with value nan.\n",
      "[W 2023-08-02 22:48:27,379] Trial 49 failed with parameters: {'booster': 'gblinear', 'lambda': 0.0002944726233450951, 'alpha': 3.41200736556869e-08, 'subsample': 0.39559245951963107, 'colsample_bytree': 0.6472116356450267, 'learning_rate': 0.031983340192109994} because of the following error: The value nan is not acceptable..\n",
      "[W 2023-08-02 22:48:27,380] Trial 49 failed with value nan.\n",
      "[W 2023-08-02 22:48:28,143] Trial 50 failed with parameters: {'booster': 'gblinear', 'lambda': 0.00016630556640777054, 'alpha': 3.929647622949892e-08, 'subsample': 0.4021538550653384, 'colsample_bytree': 0.5965891623188018, 'learning_rate': 0.17495277476559312} because of the following error: The value nan is not acceptable..\n",
      "[W 2023-08-02 22:48:28,144] Trial 50 failed with value nan.\n",
      "[W 2023-08-02 22:48:28,907] Trial 51 failed with parameters: {'booster': 'gblinear', 'lambda': 0.00027199676937276633, 'alpha': 4.248974226086621e-08, 'subsample': 0.39885209186026, 'colsample_bytree': 0.6388030717254437, 'learning_rate': 0.039917951130717194} because of the following error: The value nan is not acceptable..\n",
      "[W 2023-08-02 22:48:28,908] Trial 51 failed with value nan.\n",
      "[W 2023-08-02 22:48:29,682] Trial 52 failed with parameters: {'booster': 'gblinear', 'lambda': 0.00034393536138010495, 'alpha': 3.311947305200212e-08, 'subsample': 0.4093587495967405, 'colsample_bytree': 0.634036851971941, 'learning_rate': 0.14805603985391813} because of the following error: The value nan is not acceptable..\n",
      "[W 2023-08-02 22:48:29,682] Trial 52 failed with value nan.\n",
      "[I 2023-08-02 22:48:35,853] Trial 53 finished with value: 0.30637843195900916 and parameters: {'booster': 'dart', 'lambda': 0.0003750109137076497, 'alpha': 3.453105678797202e-08, 'subsample': 0.40060948486276815, 'colsample_bytree': 0.6376718457731549, 'learning_rate': 0.17374789688132708, 'max_depth': 3, 'eta': 0.005984541842156558, 'gamma': 0.06528682746880264, 'grow_policy': 'depthwise', 'sample_type': 'uniform', 'normalize_type': 'tree', 'rate_drop': 3.324221264539425e-07, 'skip_drop': 1.8538876253945652e-06}. Best is trial 43 with value: 0.27591645194003767.\n",
      "[W 2023-08-02 22:48:36,673] Trial 54 failed with parameters: {'booster': 'gblinear', 'lambda': 0.005559742822143412, 'alpha': 8.654831617531838e-07, 'subsample': 0.47633285225858985, 'colsample_bytree': 0.5895139233839422, 'learning_rate': 0.02954652247061393} because of the following error: The value nan is not acceptable..\n",
      "[W 2023-08-02 22:48:36,674] Trial 54 failed with value nan.\n",
      "[W 2023-08-02 22:48:37,436] Trial 55 failed with parameters: {'booster': 'gblinear', 'lambda': 0.004117143333320029, 'alpha': 8.500856346656658e-07, 'subsample': 0.4871789857736295, 'colsample_bytree': 0.6008299878691684, 'learning_rate': 0.04128543567535295} because of the following error: The value nan is not acceptable..\n",
      "[W 2023-08-02 22:48:37,438] Trial 55 failed with value nan.\n",
      "[W 2023-08-02 22:48:38,214] Trial 56 failed with parameters: {'booster': 'gblinear', 'lambda': 0.007748531659157205, 'alpha': 8.835221383207467e-07, 'subsample': 0.5099621665452331, 'colsample_bytree': 0.5999040272150429, 'learning_rate': 0.0325458597366485} because of the following error: The value nan is not acceptable..\n",
      "[W 2023-08-02 22:48:38,215] Trial 56 failed with value nan.\n",
      "[W 2023-08-02 22:48:38,957] Trial 57 failed with parameters: {'booster': 'gblinear', 'lambda': 0.008498082932979255, 'alpha': 1.1305933838451498e-06, 'subsample': 0.45934575922685816, 'colsample_bytree': 0.7553512082764717, 'learning_rate': 0.037201014817333206} because of the following error: The value nan is not acceptable..\n",
      "[W 2023-08-02 22:48:38,958] Trial 57 failed with value nan.\n",
      "[W 2023-08-02 22:48:39,717] Trial 58 failed with parameters: {'booster': 'gblinear', 'lambda': 0.00447408034696013, 'alpha': 1.1020901317000893e-06, 'subsample': 0.4725654205337393, 'colsample_bytree': 0.6013990707268991, 'learning_rate': 0.04057687805601449} because of the following error: The value nan is not acceptable..\n",
      "[W 2023-08-02 22:48:39,718] Trial 58 failed with value nan.\n",
      "[W 2023-08-02 22:48:40,503] Trial 59 failed with parameters: {'booster': 'gblinear', 'lambda': 0.006937610378492076, 'alpha': 1.0998355857902219e-06, 'subsample': 0.4683037937516875, 'colsample_bytree': 0.5887882943059185, 'learning_rate': 0.14590650811166603} because of the following error: The value nan is not acceptable..\n",
      "[W 2023-08-02 22:48:40,505] Trial 59 failed with value nan.\n",
      "[W 2023-08-02 22:48:41,313] Trial 60 failed with parameters: {'booster': 'gblinear', 'lambda': 0.005092798774302647, 'alpha': 9.82458578266285e-07, 'subsample': 0.4884294518361461, 'colsample_bytree': 0.6008327898378317, 'learning_rate': 0.03993250749935484} because of the following error: The value nan is not acceptable..\n",
      "[W 2023-08-02 22:48:41,314] Trial 60 failed with value nan.\n",
      "[W 2023-08-02 22:48:42,043] Trial 61 failed with parameters: {'booster': 'gblinear', 'lambda': 0.004714671548416381, 'alpha': 1.015284211275696e-06, 'subsample': 0.47130974944949877, 'colsample_bytree': 0.6024171192007151, 'learning_rate': 0.0370323397577566} because of the following error: The value nan is not acceptable..\n",
      "[W 2023-08-02 22:48:42,045] Trial 61 failed with value nan.\n",
      "[W 2023-08-02 22:48:42,799] Trial 62 failed with parameters: {'booster': 'gblinear', 'lambda': 0.005673569241874464, 'alpha': 1.3193041765910803e-06, 'subsample': 0.46517367062627724, 'colsample_bytree': 0.6007694313602419, 'learning_rate': 0.034518055743656434} because of the following error: The value nan is not acceptable..\n",
      "[W 2023-08-02 22:48:42,800] Trial 62 failed with value nan.\n",
      "[W 2023-08-02 22:48:43,637] Trial 63 failed with parameters: {'booster': 'gblinear', 'lambda': 0.0002866337651606305, 'alpha': 1.4283838139996285e-06, 'subsample': 0.45506356029607786, 'colsample_bytree': 0.5925554528238317, 'learning_rate': 0.030604411864091463} because of the following error: The value nan is not acceptable..\n",
      "[W 2023-08-02 22:48:43,638] Trial 63 failed with value nan.\n",
      "[W 2023-08-02 22:48:44,451] Trial 64 failed with parameters: {'booster': 'gblinear', 'lambda': 0.00539545954906154, 'alpha': 1.160631245058302e-06, 'subsample': 0.47716298187943235, 'colsample_bytree': 0.605420623351606, 'learning_rate': 0.05444226504524555} because of the following error: The value nan is not acceptable..\n",
      "[W 2023-08-02 22:48:44,453] Trial 64 failed with value nan.\n",
      "[W 2023-08-02 22:48:45,290] Trial 65 failed with parameters: {'booster': 'gblinear', 'lambda': 0.0037840099378666594, 'alpha': 9.06626069517917e-07, 'subsample': 0.48021412702462907, 'colsample_bytree': 0.6796176497246305, 'learning_rate': 0.04221235098599743} because of the following error: The value nan is not acceptable..\n",
      "[W 2023-08-02 22:48:45,291] Trial 65 failed with value nan.\n",
      "[W 2023-08-02 22:48:46,145] Trial 66 failed with parameters: {'booster': 'gblinear', 'lambda': 0.022457908094465552, 'alpha': 1.0539878264305232e-06, 'subsample': 0.4748128296561297, 'colsample_bytree': 0.6091446068783787, 'learning_rate': 0.04422532224860595} because of the following error: The value nan is not acceptable..\n",
      "[W 2023-08-02 22:48:46,146] Trial 66 failed with value nan.\n",
      "[W 2023-08-02 22:48:47,003] Trial 67 failed with parameters: {'booster': 'gblinear', 'lambda': 0.00501270245536458, 'alpha': 1.2540459627703007e-06, 'subsample': 0.4674921236885981, 'colsample_bytree': 0.5962112216998251, 'learning_rate': 0.035632077587534686} because of the following error: The value nan is not acceptable..\n",
      "[W 2023-08-02 22:48:47,005] Trial 67 failed with value nan.\n",
      "[W 2023-08-02 22:48:47,839] Trial 68 failed with parameters: {'booster': 'gblinear', 'lambda': 0.003455052309514938, 'alpha': 9.052822465731801e-08, 'subsample': 0.45987522486741766, 'colsample_bytree': 0.6028905497933907, 'learning_rate': 0.14681561554512546} because of the following error: The value nan is not acceptable..\n",
      "[W 2023-08-02 22:48:47,840] Trial 68 failed with value nan.\n",
      "[W 2023-08-02 22:48:48,615] Trial 69 failed with parameters: {'booster': 'gblinear', 'lambda': 0.0054533111465661635, 'alpha': 9.322317430966704e-07, 'subsample': 0.4696885076894007, 'colsample_bytree': 0.6037993733088257, 'learning_rate': 0.03463592690275783} because of the following error: The value nan is not acceptable..\n",
      "[W 2023-08-02 22:48:48,616] Trial 69 failed with value nan.\n",
      "[W 2023-08-02 22:48:49,447] Trial 70 failed with parameters: {'booster': 'gblinear', 'lambda': 0.006030259856030817, 'alpha': 1.0944168401317525e-06, 'subsample': 0.46879194640263766, 'colsample_bytree': 0.5874922015050027, 'learning_rate': 0.042707689166720166} because of the following error: The value nan is not acceptable..\n",
      "[W 2023-08-02 22:48:49,448] Trial 70 failed with value nan.\n",
      "[W 2023-08-02 22:48:50,277] Trial 71 failed with parameters: {'booster': 'gblinear', 'lambda': 0.0037019364070648366, 'alpha': 1.1257745361297153e-06, 'subsample': 0.4708378475157826, 'colsample_bytree': 0.5962773393333651, 'learning_rate': 0.035733595649446837} because of the following error: The value nan is not acceptable..\n",
      "[W 2023-08-02 22:48:50,279] Trial 71 failed with value nan.\n",
      "[W 2023-08-02 22:48:51,010] Trial 72 failed with parameters: {'booster': 'gblinear', 'lambda': 0.004449969036220794, 'alpha': 1.2616055318406935e-06, 'subsample': 0.4814475732222352, 'colsample_bytree': 0.6017948224139559, 'learning_rate': 0.041275293961100704} because of the following error: The value nan is not acceptable..\n",
      "[W 2023-08-02 22:48:51,012] Trial 72 failed with value nan.\n",
      "[W 2023-08-02 22:48:51,758] Trial 73 failed with parameters: {'booster': 'gblinear', 'lambda': 0.006182010925504481, 'alpha': 1.2190683819146898e-06, 'subsample': 0.4741604112596058, 'colsample_bytree': 0.597228974283524, 'learning_rate': 0.14276981440637315} because of the following error: The value nan is not acceptable..\n",
      "[W 2023-08-02 22:48:51,759] Trial 73 failed with value nan.\n",
      "[W 2023-08-02 22:48:52,583] Trial 74 failed with parameters: {'booster': 'gblinear', 'lambda': 0.003973667097093972, 'alpha': 9.902087306151885e-08, 'subsample': 0.20007193421661607, 'colsample_bytree': 0.603731807214891, 'learning_rate': 0.035833113384790664} because of the following error: The value nan is not acceptable..\n",
      "[W 2023-08-02 22:48:52,584] Trial 74 failed with value nan.\n",
      "[W 2023-08-02 22:48:53,372] Trial 75 failed with parameters: {'booster': 'gblinear', 'lambda': 0.005285709217146208, 'alpha': 1.3787658472135162e-06, 'subsample': 0.48347775443265356, 'colsample_bytree': 0.6039740037837087, 'learning_rate': 0.0430502115196546} because of the following error: The value nan is not acceptable..\n",
      "[W 2023-08-02 22:48:53,373] Trial 75 failed with value nan.\n",
      "[W 2023-08-02 22:48:54,134] Trial 76 failed with parameters: {'booster': 'gblinear', 'lambda': 0.004733303607697175, 'alpha': 8.282930904419955e-08, 'subsample': 0.4714631526821104, 'colsample_bytree': 0.7611067991532231, 'learning_rate': 0.0382844397761716} because of the following error: The value nan is not acceptable..\n",
      "[W 2023-08-02 22:48:54,135] Trial 76 failed with value nan.\n",
      "[W 2023-08-02 22:48:54,973] Trial 77 failed with parameters: {'booster': 'gblinear', 'lambda': 0.00519686002915748, 'alpha': 8.796012648902183e-08, 'subsample': 0.20042421318807188, 'colsample_bytree': 0.5913279300953281, 'learning_rate': 0.04635366022151827} because of the following error: The value nan is not acceptable..\n",
      "[W 2023-08-02 22:48:54,974] Trial 77 failed with value nan.\n",
      "[W 2023-08-02 22:48:55,818] Trial 78 failed with parameters: {'booster': 'gblinear', 'lambda': 0.004796388609645721, 'alpha': 1.0806557101286966e-06, 'subsample': 0.5248737041449201, 'colsample_bytree': 0.5910578881271411, 'learning_rate': 0.03484292961830335} because of the following error: The value nan is not acceptable..\n",
      "[W 2023-08-02 22:48:55,819] Trial 78 failed with value nan.\n",
      "[I 2023-08-02 22:48:57,495] Trial 79 finished with value: 0.35411390020321476 and parameters: {'booster': 'gbtree', 'lambda': 0.006536411367008368, 'alpha': 1.0430061627750454e-06, 'subsample': 0.4638607482718292, 'colsample_bytree': 0.5862167633069852, 'learning_rate': 0.035383281664330496, 'max_depth': 14, 'eta': 0.008237777628912972, 'gamma': 0.2925715606339637, 'grow_policy': 'depthwise'}. Best is trial 43 with value: 0.27591645194003767.\n",
      "[I 2023-08-02 22:49:03,568] Trial 80 finished with value: 0.2900411000997355 and parameters: {'booster': 'dart', 'lambda': 0.02236120009054802, 'alpha': 4.0769185653816995e-06, 'subsample': 0.33302033526899355, 'colsample_bytree': 0.6767130464204894, 'learning_rate': 0.14496560171746137, 'max_depth': 2, 'eta': 0.022531801652263143, 'gamma': 0.005550564545894789, 'grow_policy': 'depthwise', 'sample_type': 'uniform', 'normalize_type': 'forest', 'rate_drop': 1.4295803779043087e-07, 'skip_drop': 2.627610816770901e-05}. Best is trial 43 with value: 0.27591645194003767.\n",
      "[I 2023-08-02 22:49:09,759] Trial 81 finished with value: 0.29870012289230014 and parameters: {'booster': 'dart', 'lambda': 0.030293681768891197, 'alpha': 2.52674340739389e-07, 'subsample': 0.3327036285140785, 'colsample_bytree': 0.6786298288738961, 'learning_rate': 0.1448445288500507, 'max_depth': 1, 'eta': 0.02533133950386714, 'gamma': 0.05096010095209549, 'grow_policy': 'depthwise', 'sample_type': 'uniform', 'normalize_type': 'forest', 'rate_drop': 4.5518094360207935e-08, 'skip_drop': 3.754875677855995e-05}. Best is trial 43 with value: 0.27591645194003767.\n",
      "[I 2023-08-02 22:49:16,298] Trial 82 finished with value: 0.30038010253400277 and parameters: {'booster': 'dart', 'lambda': 0.13399111679347614, 'alpha': 8.611502485747784e-08, 'subsample': 0.4091282658755525, 'colsample_bytree': 0.6484253761344668, 'learning_rate': 0.103668360439448, 'max_depth': 4, 'eta': 0.01268021686467385, 'gamma': 0.13980517560727712, 'grow_policy': 'depthwise', 'sample_type': 'uniform', 'normalize_type': 'forest', 'rate_drop': 2.842563617332579e-07, 'skip_drop': 0.00031213949117498763}. Best is trial 43 with value: 0.27591645194003767.\n",
      "[W 2023-08-02 22:49:17,046] Trial 83 failed with parameters: {'booster': 'gblinear', 'lambda': 0.020194894382337365, 'alpha': 3.6026632549939467e-06, 'subsample': 0.3627926641482554, 'colsample_bytree': 0.7049463517571443, 'learning_rate': 0.11677944454978632} because of the following error: The value nan is not acceptable..\n",
      "[W 2023-08-02 22:49:17,047] Trial 83 failed with value nan.\n",
      "[W 2023-08-02 22:49:17,806] Trial 84 failed with parameters: {'booster': 'gblinear', 'lambda': 0.015989812751324432, 'alpha': 1.5780278450991438e-06, 'subsample': 0.3777264321383431, 'colsample_bytree': 0.7138829802586252, 'learning_rate': 0.12203342157973507} because of the following error: The value nan is not acceptable..\n",
      "[W 2023-08-02 22:49:17,808] Trial 84 failed with value nan.\n",
      "[W 2023-08-02 22:49:18,545] Trial 85 failed with parameters: {'booster': 'gblinear', 'lambda': 0.02314805009841862, 'alpha': 1.2437315864724467e-06, 'subsample': 0.20172536802591293, 'colsample_bytree': 0.7457357111920869, 'learning_rate': 0.12036738474144633} because of the following error: The value nan is not acceptable..\n",
      "[W 2023-08-02 22:49:18,546] Trial 85 failed with value nan.\n",
      "[W 2023-08-02 22:49:19,346] Trial 86 failed with parameters: {'booster': 'gblinear', 'lambda': 0.020306847351362737, 'alpha': 3.830354704339565e-06, 'subsample': 0.3745052120141509, 'colsample_bytree': 0.7147613740625988, 'learning_rate': 0.1173073781261686} because of the following error: The value nan is not acceptable..\n",
      "[W 2023-08-02 22:49:19,348] Trial 86 failed with value nan.\n",
      "[W 2023-08-02 22:49:20,094] Trial 87 failed with parameters: {'booster': 'gblinear', 'lambda': 0.018649142086771757, 'alpha': 3.543280214833239e-06, 'subsample': 0.37251097271346906, 'colsample_bytree': 0.7527336069355611, 'learning_rate': 0.11802646650504715} because of the following error: The value nan is not acceptable..\n",
      "[W 2023-08-02 22:49:20,095] Trial 87 failed with value nan.\n",
      "[W 2023-08-02 22:49:20,879] Trial 88 failed with parameters: {'booster': 'gblinear', 'lambda': 0.015709792623549736, 'alpha': 3.861080230994194e-06, 'subsample': 0.3680454816090568, 'colsample_bytree': 0.7587166215113214, 'learning_rate': 0.1231727080221788} because of the following error: The value nan is not acceptable..\n",
      "[W 2023-08-02 22:49:20,880] Trial 88 failed with value nan.\n",
      "[W 2023-08-02 22:49:21,615] Trial 89 failed with parameters: {'booster': 'gblinear', 'lambda': 0.020289115361079805, 'alpha': 3.6666769658520535e-06, 'subsample': 0.3739755833367083, 'colsample_bytree': 0.757735260148064, 'learning_rate': 0.12197517295219185} because of the following error: The value nan is not acceptable..\n",
      "[W 2023-08-02 22:49:21,616] Trial 89 failed with value nan.\n",
      "[W 2023-08-02 22:49:22,373] Trial 90 failed with parameters: {'booster': 'gblinear', 'lambda': 0.02254201407765919, 'alpha': 1.5966485946842728e-06, 'subsample': 0.3481115286688927, 'colsample_bytree': 0.7608113564489942, 'learning_rate': 0.1173977335294975} because of the following error: The value nan is not acceptable..\n",
      "[W 2023-08-02 22:49:22,374] Trial 90 failed with value nan.\n",
      "[W 2023-08-02 22:49:23,118] Trial 91 failed with parameters: {'booster': 'gblinear', 'lambda': 0.01570022226381842, 'alpha': 8.520274037167848e-07, 'subsample': 0.3751406879800981, 'colsample_bytree': 0.716428343236216, 'learning_rate': 0.12406825584638727} because of the following error: The value nan is not acceptable..\n",
      "[W 2023-08-02 22:49:23,120] Trial 91 failed with value nan.\n",
      "[W 2023-08-02 22:49:23,871] Trial 92 failed with parameters: {'booster': 'gblinear', 'lambda': 0.02059077246687394, 'alpha': 1.4938255905415468e-06, 'subsample': 0.21136464281047562, 'colsample_bytree': 0.7456761219451539, 'learning_rate': 0.1465760756918441} because of the following error: The value nan is not acceptable..\n",
      "[W 2023-08-02 22:49:23,873] Trial 92 failed with value nan.\n",
      "[W 2023-08-02 22:49:24,618] Trial 93 failed with parameters: {'booster': 'gblinear', 'lambda': 0.01893320330949766, 'alpha': 3.7354764990159437e-06, 'subsample': 0.36686728443731265, 'colsample_bytree': 0.7311381991993919, 'learning_rate': 0.12287323748409754} because of the following error: The value nan is not acceptable..\n",
      "[W 2023-08-02 22:49:24,619] Trial 93 failed with value nan.\n",
      "[I 2023-08-02 22:49:30,555] Trial 94 finished with value: 0.28241835503178514 and parameters: {'booster': 'dart', 'lambda': 0.018050531565665717, 'alpha': 1.5942382991521329e-06, 'subsample': 0.36250157220979606, 'colsample_bytree': 0.7530936629355138, 'learning_rate': 0.12691258546764259, 'max_depth': 2, 'eta': 0.0027238460532415234, 'gamma': 0.007497158370299074, 'grow_policy': 'depthwise', 'sample_type': 'uniform', 'normalize_type': 'forest', 'rate_drop': 2.2268759642653922e-07, 'skip_drop': 5.668766458817325e-06}. Best is trial 43 with value: 0.27591645194003767.\n",
      "[W 2023-08-02 22:49:31,350] Trial 95 failed with parameters: {'booster': 'gblinear', 'lambda': 0.015993180971420835, 'alpha': 3.7970340798814435e-06, 'subsample': 0.3729369389094908, 'colsample_bytree': 0.749299428648545, 'learning_rate': 0.15298192113906714} because of the following error: The value nan is not acceptable..\n",
      "[W 2023-08-02 22:49:31,352] Trial 95 failed with value nan.\n",
      "[W 2023-08-02 22:49:32,100] Trial 96 failed with parameters: {'booster': 'gblinear', 'lambda': 0.0034522969581275488, 'alpha': 1.5381567975637866e-06, 'subsample': 0.37555277250312513, 'colsample_bytree': 0.7500813310149074, 'learning_rate': 0.1231692811382103} because of the following error: The value nan is not acceptable..\n",
      "[W 2023-08-02 22:49:32,101] Trial 96 failed with value nan.\n",
      "[W 2023-08-02 22:49:32,859] Trial 97 failed with parameters: {'booster': 'gblinear', 'lambda': 0.016436820970372898, 'alpha': 5.54029411477121e-06, 'subsample': 0.35717527958955997, 'colsample_bytree': 0.7508847398033188, 'learning_rate': 0.15089737725835858} because of the following error: The value nan is not acceptable..\n",
      "[W 2023-08-02 22:49:32,860] Trial 97 failed with value nan.\n",
      "[W 2023-08-02 22:49:33,619] Trial 98 failed with parameters: {'booster': 'gblinear', 'lambda': 0.023314616384418313, 'alpha': 3.5952743226674577e-06, 'subsample': 0.37282598965359826, 'colsample_bytree': 0.7681214632449478, 'learning_rate': 0.12192708522656952} because of the following error: The value nan is not acceptable..\n",
      "[W 2023-08-02 22:49:33,621] Trial 98 failed with value nan.\n",
      "[W 2023-08-02 22:49:34,447] Trial 99 failed with parameters: {'booster': 'gblinear', 'lambda': 0.01961193383560533, 'alpha': 4.784517948940195e-06, 'subsample': 0.37608864056653496, 'colsample_bytree': 0.7516358900698519, 'learning_rate': 0.12583912783949525} because of the following error: The value nan is not acceptable..\n",
      "[W 2023-08-02 22:49:34,448] Trial 99 failed with value nan.\n",
      "[W 2023-08-02 22:49:35,246] Trial 100 failed with parameters: {'booster': 'gblinear', 'lambda': 0.0195221724249213, 'alpha': 4.151912002185386e-06, 'subsample': 0.3671524740129558, 'colsample_bytree': 0.7307485254654087, 'learning_rate': 0.11983769871857951} because of the following error: The value nan is not acceptable..\n",
      "[W 2023-08-02 22:49:35,247] Trial 100 failed with value nan.\n",
      "[W 2023-08-02 22:49:36,056] Trial 101 failed with parameters: {'booster': 'gblinear', 'lambda': 0.01319687989893742, 'alpha': 4.25208956000288e-06, 'subsample': 0.37245588149832143, 'colsample_bytree': 0.7685179728326683, 'learning_rate': 0.12456204872231864} because of the following error: The value nan is not acceptable..\n",
      "[W 2023-08-02 22:49:36,057] Trial 101 failed with value nan.\n",
      "[W 2023-08-02 22:49:36,844] Trial 102 failed with parameters: {'booster': 'gblinear', 'lambda': 0.01657758459829868, 'alpha': 2.3692896587140415e-06, 'subsample': 0.3725893398576162, 'colsample_bytree': 0.7530034715558117, 'learning_rate': 0.12037612776353722} because of the following error: The value nan is not acceptable..\n",
      "[W 2023-08-02 22:49:36,845] Trial 102 failed with value nan.\n",
      "[W 2023-08-02 22:49:37,639] Trial 103 failed with parameters: {'booster': 'gblinear', 'lambda': 0.017323262962063393, 'alpha': 3.4582126875020756e-06, 'subsample': 0.36213826271370425, 'colsample_bytree': 0.759171106312234, 'learning_rate': 0.12238935247218143} because of the following error: The value nan is not acceptable..\n",
      "[W 2023-08-02 22:49:37,640] Trial 103 failed with value nan.\n",
      "[W 2023-08-02 22:49:38,478] Trial 104 failed with parameters: {'booster': 'gblinear', 'lambda': 0.019992580541144302, 'alpha': 4.070621246453631e-06, 'subsample': 0.36781506097580247, 'colsample_bytree': 0.7592096192113121, 'learning_rate': 0.12249916525084997} because of the following error: The value nan is not acceptable..\n",
      "[W 2023-08-02 22:49:38,480] Trial 104 failed with value nan.\n",
      "[W 2023-08-02 22:49:39,300] Trial 105 failed with parameters: {'booster': 'gblinear', 'lambda': 0.017325808619003014, 'alpha': 4.2124150996246245e-06, 'subsample': 0.3643266339983426, 'colsample_bytree': 0.7588265808339937, 'learning_rate': 0.11898544281673062} because of the following error: The value nan is not acceptable..\n",
      "[W 2023-08-02 22:49:39,301] Trial 105 failed with value nan.\n",
      "[W 2023-08-02 22:49:40,099] Trial 106 failed with parameters: {'booster': 'gblinear', 'lambda': 0.01232804290372641, 'alpha': 3.504228372938846e-06, 'subsample': 0.36427785280086744, 'colsample_bytree': 0.7553613794263763, 'learning_rate': 0.15232734130468367} because of the following error: The value nan is not acceptable..\n",
      "[W 2023-08-02 22:49:40,100] Trial 106 failed with value nan.\n",
      "[W 2023-08-02 22:49:40,856] Trial 107 failed with parameters: {'booster': 'gblinear', 'lambda': 0.0197250950735493, 'alpha': 3.92738230482773e-06, 'subsample': 0.36743697543712567, 'colsample_bytree': 0.7673515053137687, 'learning_rate': 0.12248555544235709} because of the following error: The value nan is not acceptable..\n",
      "[W 2023-08-02 22:49:40,857] Trial 107 failed with value nan.\n",
      "[W 2023-08-02 22:49:41,691] Trial 108 failed with parameters: {'booster': 'gblinear', 'lambda': 0.016955263662206586, 'alpha': 4.185276064301115e-06, 'subsample': 0.3660831639064003, 'colsample_bytree': 0.7523656422332002, 'learning_rate': 0.12161137219518514} because of the following error: The value nan is not acceptable..\n",
      "[W 2023-08-02 22:49:41,691] Trial 108 failed with value nan.\n",
      "[I 2023-08-02 22:49:48,066] Trial 109 finished with value: 0.3627114223329792 and parameters: {'booster': 'dart', 'lambda': 0.016892848035936235, 'alpha': 1.1985877135899945e-06, 'subsample': 0.3518428268250937, 'colsample_bytree': 0.7520497638045682, 'learning_rate': 0.12533170872367239, 'max_depth': 5, 'eta': 0.003177739607723405, 'gamma': 0.004737013513967516, 'grow_policy': 'depthwise', 'sample_type': 'uniform', 'normalize_type': 'forest', 'rate_drop': 1.3768723079057814e-07, 'skip_drop': 6.5116658490052244e-06}. Best is trial 43 with value: 0.27591645194003767.\n",
      "[I 2023-08-02 22:49:54,593] Trial 110 finished with value: 0.2943327116034818 and parameters: {'booster': 'dart', 'lambda': 0.0028659574890672283, 'alpha': 3.96902032412218e-06, 'subsample': 0.36914422052778995, 'colsample_bytree': 0.720510598917254, 'learning_rate': 0.1472651787557535, 'max_depth': 3, 'eta': 0.0022450292474467354, 'gamma': 0.000634585076864231, 'grow_policy': 'depthwise', 'sample_type': 'uniform', 'normalize_type': 'forest', 'rate_drop': 2.2491153471695134e-06, 'skip_drop': 2.7666856783275155e-06}. Best is trial 43 with value: 0.27591645194003767.\n",
      "[W 2023-08-02 22:49:55,348] Trial 111 failed with parameters: {'booster': 'gblinear', 'lambda': 0.000351001128557596, 'alpha': 3.1998735826263133e-06, 'subsample': 0.3146221775474685, 'colsample_bytree': 0.7615849874690821, 'learning_rate': 0.16580434003980113} because of the following error: The value nan is not acceptable..\n",
      "[W 2023-08-02 22:49:55,349] Trial 111 failed with value nan.\n",
      "[W 2023-08-02 22:49:56,091] Trial 112 failed with parameters: {'booster': 'gblinear', 'lambda': 0.009656505703620841, 'alpha': 2.521990904398727e-06, 'subsample': 0.20254179739567701, 'colsample_bytree': 0.7775118620250839, 'learning_rate': 0.16487017950209912} because of the following error: The value nan is not acceptable..\n",
      "[W 2023-08-02 22:49:56,092] Trial 112 failed with value nan.\n",
      "[W 2023-08-02 22:49:56,837] Trial 113 failed with parameters: {'booster': 'gblinear', 'lambda': 0.00956277662118974, 'alpha': 3.0988522745217447e-06, 'subsample': 0.21278794835065096, 'colsample_bytree': 0.7677078771538074, 'learning_rate': 0.11617414558940496} because of the following error: The value nan is not acceptable..\n",
      "[W 2023-08-02 22:49:56,838] Trial 113 failed with value nan.\n",
      "[W 2023-08-02 22:49:57,635] Trial 114 failed with parameters: {'booster': 'gblinear', 'lambda': 0.00043366877523711935, 'alpha': 5.897302730411741e-07, 'subsample': 0.20579795687281455, 'colsample_bytree': 0.7723683425565327, 'learning_rate': 0.16008290432761293} because of the following error: The value nan is not acceptable..\n",
      "[W 2023-08-02 22:49:57,636] Trial 114 failed with value nan.\n",
      "[W 2023-08-02 22:49:58,381] Trial 115 failed with parameters: {'booster': 'gblinear', 'lambda': 0.00040942054360886373, 'alpha': 2.8236817348126944e-06, 'subsample': 0.3122515849835889, 'colsample_bytree': 0.7666421989569779, 'learning_rate': 0.1656811407669781} because of the following error: The value nan is not acceptable..\n",
      "[W 2023-08-02 22:49:58,382] Trial 115 failed with value nan.\n",
      "[W 2023-08-02 22:49:59,130] Trial 116 failed with parameters: {'booster': 'gblinear', 'lambda': 0.009889585613038867, 'alpha': 2.3243645121324333e-06, 'subsample': 0.23102556901143917, 'colsample_bytree': 0.6998491627037986, 'learning_rate': 0.11967096698784827} because of the following error: The value nan is not acceptable..\n",
      "[W 2023-08-02 22:49:59,131] Trial 116 failed with value nan.\n",
      "[W 2023-08-02 22:49:59,876] Trial 117 failed with parameters: {'booster': 'gblinear', 'lambda': 0.00027581188448761503, 'alpha': 2.5344661014182765e-06, 'subsample': 0.2305379078929532, 'colsample_bytree': 0.7594899574158879, 'learning_rate': 0.1639923328629979} because of the following error: The value nan is not acceptable..\n",
      "[W 2023-08-02 22:49:59,877] Trial 117 failed with value nan.\n",
      "[W 2023-08-02 22:50:00,627] Trial 118 failed with parameters: {'booster': 'gblinear', 'lambda': 0.00033408451600376083, 'alpha': 2.383052285495623e-06, 'subsample': 0.38689680136050447, 'colsample_bytree': 0.772452802759426, 'learning_rate': 0.16869925197107824} because of the following error: The value nan is not acceptable..\n",
      "[W 2023-08-02 22:50:00,629] Trial 118 failed with value nan.\n",
      "[W 2023-08-02 22:50:01,420] Trial 119 failed with parameters: {'booster': 'gblinear', 'lambda': 0.02164822761275548, 'alpha': 3.13180664665313e-06, 'subsample': 0.31101699708691083, 'colsample_bytree': 0.7037412456218181, 'learning_rate': 0.1639955372348993} because of the following error: The value nan is not acceptable..\n",
      "[W 2023-08-02 22:50:01,421] Trial 119 failed with value nan.\n",
      "[W 2023-08-02 22:50:02,201] Trial 120 failed with parameters: {'booster': 'gblinear', 'lambda': 0.010056134633745465, 'alpha': 2.256850454554276e-06, 'subsample': 0.21847562153493727, 'colsample_bytree': 0.7715459246521825, 'learning_rate': 0.16673440226531067} because of the following error: The value nan is not acceptable..\n",
      "[W 2023-08-02 22:50:02,202] Trial 120 failed with value nan.\n",
      "[W 2023-08-02 22:50:03,001] Trial 121 failed with parameters: {'booster': 'gblinear', 'lambda': 0.020856570342980354, 'alpha': 2.6769722882800276e-06, 'subsample': 0.21299440023364646, 'colsample_bytree': 0.7667008731578725, 'learning_rate': 0.1672288416185531} because of the following error: The value nan is not acceptable..\n",
      "[W 2023-08-02 22:50:03,002] Trial 121 failed with value nan.\n",
      "[W 2023-08-02 22:50:03,751] Trial 122 failed with parameters: {'booster': 'gblinear', 'lambda': 0.0003001748888525568, 'alpha': 2.15857525592842e-06, 'subsample': 0.3166375882108714, 'colsample_bytree': 0.7693623222044945, 'learning_rate': 0.16409369223362216} because of the following error: The value nan is not acceptable..\n",
      "[W 2023-08-02 22:50:03,753] Trial 122 failed with value nan.\n",
      "[I 2023-08-02 22:50:10,117] Trial 123 finished with value: 0.3424261164366315 and parameters: {'booster': 'dart', 'lambda': 0.012183594190621509, 'alpha': 2.4433943759985657e-06, 'subsample': 0.20498699240897256, 'colsample_bytree': 0.776091437046109, 'learning_rate': 0.16043566546190083, 'max_depth': 2, 'eta': 0.0012935718879152468, 'gamma': 0.008451091224489971, 'grow_policy': 'depthwise', 'sample_type': 'uniform', 'normalize_type': 'forest', 'rate_drop': 3.253522368155712e-08, 'skip_drop': 6.163172177014745e-07}. Best is trial 43 with value: 0.27591645194003767.\n",
      "[W 2023-08-02 22:50:10,907] Trial 124 failed with parameters: {'booster': 'gblinear', 'lambda': 0.000623486093791756, 'alpha': 7.335585957666793e-07, 'subsample': 0.3180847019748049, 'colsample_bytree': 0.7109968004682521, 'learning_rate': 0.119731411852329} because of the following error: The value nan is not acceptable..\n",
      "[W 2023-08-02 22:50:10,909] Trial 124 failed with value nan.\n",
      "[W 2023-08-02 22:50:11,732] Trial 125 failed with parameters: {'booster': 'gblinear', 'lambda': 0.00043893313033978033, 'alpha': 3.972654549877107e-07, 'subsample': 0.3140345502786157, 'colsample_bytree': 0.6986213738458154, 'learning_rate': 0.11722390500061285} because of the following error: The value nan is not acceptable..\n",
      "[W 2023-08-02 22:50:11,733] Trial 125 failed with value nan.\n",
      "[W 2023-08-02 22:50:12,567] Trial 126 failed with parameters: {'booster': 'gblinear', 'lambda': 0.0002460426917693184, 'alpha': 5.305810864310672e-07, 'subsample': 0.310364421108688, 'colsample_bytree': 0.694442729652449, 'learning_rate': 0.1147070531769734} because of the following error: The value nan is not acceptable..\n",
      "[W 2023-08-02 22:50:12,568] Trial 126 failed with value nan.\n",
      "[W 2023-08-02 22:50:13,373] Trial 127 failed with parameters: {'booster': 'gblinear', 'lambda': 0.0004449073399671095, 'alpha': 5.197950428773653e-07, 'subsample': 0.31781060005485556, 'colsample_bytree': 0.7056914337343819, 'learning_rate': 0.11635044827786475} because of the following error: The value nan is not acceptable..\n",
      "[W 2023-08-02 22:50:13,374] Trial 127 failed with value nan.\n",
      "[W 2023-08-02 22:50:14,292] Trial 128 failed with parameters: {'booster': 'gblinear', 'lambda': 0.00033918484054744845, 'alpha': 5.247126716744574e-07, 'subsample': 0.3217103248172545, 'colsample_bytree': 0.7033404673022211, 'learning_rate': 0.11661241571351129} because of the following error: The value nan is not acceptable..\n",
      "[W 2023-08-02 22:50:14,293] Trial 128 failed with value nan.\n",
      "[W 2023-08-02 22:50:15,255] Trial 129 failed with parameters: {'booster': 'gblinear', 'lambda': 0.09215381859448048, 'alpha': 6.532216250588113e-07, 'subsample': 0.3192663964493486, 'colsample_bytree': 0.7043138385777532, 'learning_rate': 0.11305945708171637} because of the following error: The value nan is not acceptable..\n",
      "[W 2023-08-02 22:50:15,256] Trial 129 failed with value nan.\n",
      "[W 2023-08-02 22:50:16,105] Trial 130 failed with parameters: {'booster': 'gblinear', 'lambda': 0.0003721218068065945, 'alpha': 5.356435318376899e-07, 'subsample': 0.3103688826013341, 'colsample_bytree': 0.7068794919270774, 'learning_rate': 0.1195078690517557} because of the following error: The value nan is not acceptable..\n",
      "[W 2023-08-02 22:50:16,106] Trial 130 failed with value nan.\n",
      "[W 2023-08-02 22:50:16,813] Trial 131 failed with parameters: {'booster': 'gblinear', 'lambda': 0.0003321778244863651, 'alpha': 7.531057840743605e-06, 'subsample': 0.31138570395652515, 'colsample_bytree': 0.7064655355722969, 'learning_rate': 0.12239211640756287} because of the following error: The value nan is not acceptable..\n",
      "[W 2023-08-02 22:50:16,815] Trial 131 failed with value nan.\n",
      "[W 2023-08-02 22:50:17,584] Trial 132 failed with parameters: {'booster': 'gblinear', 'lambda': 0.08584518381756469, 'alpha': 4.890334452320347e-07, 'subsample': 0.392512270274256, 'colsample_bytree': 0.7029009610570114, 'learning_rate': 0.11725159401746685} because of the following error: The value nan is not acceptable..\n",
      "[W 2023-08-02 22:50:17,586] Trial 132 failed with value nan.\n",
      "[W 2023-08-02 22:50:18,354] Trial 133 failed with parameters: {'booster': 'gblinear', 'lambda': 0.09120062612258951, 'alpha': 6.585624368330113e-07, 'subsample': 0.31699886849483044, 'colsample_bytree': 0.7019855416474658, 'learning_rate': 0.11740628819277854} because of the following error: The value nan is not acceptable..\n",
      "[W 2023-08-02 22:50:18,355] Trial 133 failed with value nan.\n",
      "[W 2023-08-02 22:50:19,108] Trial 134 failed with parameters: {'booster': 'gblinear', 'lambda': 0.0002989993855672112, 'alpha': 6.592463796999481e-07, 'subsample': 0.3153669788551907, 'colsample_bytree': 0.6952433810025387, 'learning_rate': 0.11758146757932944} because of the following error: The value nan is not acceptable..\n",
      "[W 2023-08-02 22:50:19,108] Trial 134 failed with value nan.\n",
      "[W 2023-08-02 22:50:19,903] Trial 135 failed with parameters: {'booster': 'gblinear', 'lambda': 0.00045471017490042356, 'alpha': 8.115833043813714e-06, 'subsample': 0.3182754084652287, 'colsample_bytree': 0.7010457560119101, 'learning_rate': 0.11484827127314487} because of the following error: The value nan is not acceptable..\n",
      "[W 2023-08-02 22:50:19,904] Trial 135 failed with value nan.\n",
      "[W 2023-08-02 22:50:20,727] Trial 136 failed with parameters: {'booster': 'gblinear', 'lambda': 0.00037930936466130884, 'alpha': 7.372505353275253e-07, 'subsample': 0.31939811222997855, 'colsample_bytree': 0.7037965645158704, 'learning_rate': 0.121231321320756} because of the following error: The value nan is not acceptable..\n",
      "[W 2023-08-02 22:50:20,728] Trial 136 failed with value nan.\n",
      "[W 2023-08-02 22:50:21,511] Trial 137 failed with parameters: {'booster': 'gblinear', 'lambda': 0.00037268779588957215, 'alpha': 5.513676725606623e-07, 'subsample': 0.3108545159753418, 'colsample_bytree': 0.6992315634234456, 'learning_rate': 0.11721267807714993} because of the following error: The value nan is not acceptable..\n",
      "[W 2023-08-02 22:50:21,512] Trial 137 failed with value nan.\n",
      "[W 2023-08-02 22:50:22,437] Trial 138 failed with parameters: {'booster': 'gblinear', 'lambda': 0.08704778551164846, 'alpha': 5.557882043440561e-07, 'subsample': 0.32124436506555065, 'colsample_bytree': 0.7155724257084556, 'learning_rate': 0.12240602372382245} because of the following error: The value nan is not acceptable..\n",
      "[W 2023-08-02 22:50:22,439] Trial 138 failed with value nan.\n",
      "[W 2023-08-02 22:50:23,220] Trial 139 failed with parameters: {'booster': 'gblinear', 'lambda': 0.08903333503267605, 'alpha': 4.6986896830618354e-07, 'subsample': 0.3203552738829585, 'colsample_bytree': 0.6947461673230444, 'learning_rate': 0.1181826874257843} because of the following error: The value nan is not acceptable..\n",
      "[W 2023-08-02 22:50:23,222] Trial 139 failed with value nan.\n",
      "[W 2023-08-02 22:50:24,276] Trial 140 failed with parameters: {'booster': 'gblinear', 'lambda': 0.0004498796986178284, 'alpha': 6.532196498299708e-07, 'subsample': 0.4277193243115732, 'colsample_bytree': 0.7026172882440127, 'learning_rate': 0.11604652634471568} because of the following error: The value nan is not acceptable..\n",
      "[W 2023-08-02 22:50:24,277] Trial 140 failed with value nan.\n",
      "[W 2023-08-02 22:50:25,130] Trial 141 failed with parameters: {'booster': 'gblinear', 'lambda': 0.0003604133219983446, 'alpha': 5.935930417956832e-07, 'subsample': 0.31717335219466225, 'colsample_bytree': 0.6882351401569959, 'learning_rate': 0.11408059947922705} because of the following error: The value nan is not acceptable..\n",
      "[W 2023-08-02 22:50:25,132] Trial 141 failed with value nan.\n",
      "[W 2023-08-02 22:50:25,893] Trial 142 failed with parameters: {'booster': 'gblinear', 'lambda': 0.0003588470380150189, 'alpha': 5.14598134903719e-07, 'subsample': 0.319009786484331, 'colsample_bytree': 0.6922135219737914, 'learning_rate': 0.1177396681111511} because of the following error: The value nan is not acceptable..\n",
      "[W 2023-08-02 22:50:25,895] Trial 142 failed with value nan.\n",
      "[W 2023-08-02 22:50:26,741] Trial 143 failed with parameters: {'booster': 'gblinear', 'lambda': 0.0005235903659615748, 'alpha': 4.3990089651618774e-07, 'subsample': 0.3164980609736132, 'colsample_bytree': 0.6993035408690608, 'learning_rate': 0.11933672516271275} because of the following error: The value nan is not acceptable..\n",
      "[W 2023-08-02 22:50:26,742] Trial 143 failed with value nan.\n",
      "[W 2023-08-02 22:50:27,596] Trial 144 failed with parameters: {'booster': 'gblinear', 'lambda': 0.000342492297927051, 'alpha': 6.083376199886501e-06, 'subsample': 0.3239354125157085, 'colsample_bytree': 0.6953555035143701, 'learning_rate': 0.11806242541515613} because of the following error: The value nan is not acceptable..\n",
      "[W 2023-08-02 22:50:27,597] Trial 144 failed with value nan.\n",
      "[W 2023-08-02 22:50:28,442] Trial 145 failed with parameters: {'booster': 'gblinear', 'lambda': 0.08601325796859972, 'alpha': 5.965342664880023e-07, 'subsample': 0.31354324244403314, 'colsample_bytree': 0.7083465665596809, 'learning_rate': 0.12454424929503004} because of the following error: The value nan is not acceptable..\n",
      "[W 2023-08-02 22:50:28,443] Trial 145 failed with value nan.\n",
      "[W 2023-08-02 22:50:29,295] Trial 146 failed with parameters: {'booster': 'gblinear', 'lambda': 0.00029336642935713045, 'alpha': 7.621652188441894e-06, 'subsample': 0.322704969266341, 'colsample_bytree': 0.6999626480597089, 'learning_rate': 0.11818859350169816} because of the following error: The value nan is not acceptable..\n",
      "[W 2023-08-02 22:50:29,296] Trial 146 failed with value nan.\n",
      "[I 2023-08-02 22:50:35,583] Trial 147 finished with value: 0.3063530867191915 and parameters: {'booster': 'dart', 'lambda': 0.0002643830562066708, 'alpha': 5.115895813671084e-07, 'subsample': 0.3167244914669937, 'colsample_bytree': 0.7049623580442064, 'learning_rate': 0.11964164694692739, 'max_depth': 1, 'eta': 0.0029298077965001666, 'gamma': 0.02218688465754282, 'grow_policy': 'depthwise', 'sample_type': 'uniform', 'normalize_type': 'forest', 'rate_drop': 2.591634150109847e-07, 'skip_drop': 6.0351963927196145e-06}. Best is trial 43 with value: 0.27591645194003767.\n",
      "[W 2023-08-02 22:50:36,335] Trial 148 failed with parameters: {'booster': 'gblinear', 'lambda': 0.0012119052317619947, 'alpha': 7.350298512291539e-06, 'subsample': 0.3846841633680867, 'colsample_bytree': 0.797281290433903, 'learning_rate': 0.17364525015447863} because of the following error: The value nan is not acceptable..\n",
      "[W 2023-08-02 22:50:36,336] Trial 148 failed with value nan.\n",
      "[I 2023-08-02 22:50:37,643] Trial 149 finished with value: 0.3306014790273939 and parameters: {'booster': 'gbtree', 'lambda': 0.001363113512689077, 'alpha': 0.0002279478907796285, 'subsample': 0.3874542635376331, 'colsample_bytree': 0.6850356265061077, 'learning_rate': 0.17251645512459543, 'max_depth': 12, 'eta': 0.0047232299198843265, 'gamma': 0.034662131018754004, 'grow_policy': 'depthwise'}. Best is trial 43 with value: 0.27591645194003767.\n",
      "[I 2023-08-02 22:50:38,464] Trial 150 finished with value: 0.40318234491561045 and parameters: {'booster': 'gblinear', 'lambda': 0.10845455722952005, 'alpha': 6.5467509628775815e-06, 'subsample': 0.42134780253019, 'colsample_bytree': 0.7352952551151122, 'learning_rate': 0.11376947549507711}. Best is trial 43 with value: 0.27591645194003767.\n",
      "[I 2023-08-02 22:50:44,484] Trial 151 finished with value: 0.2729526115260718 and parameters: {'booster': 'dart', 'lambda': 0.025501829728487857, 'alpha': 3.2170126364202345e-07, 'subsample': 0.4355176788862644, 'colsample_bytree': 0.607715040058749, 'learning_rate': 0.08669338063198498, 'max_depth': 2, 'eta': 0.008316436260520352, 'gamma': 0.11781577587792882, 'grow_policy': 'depthwise', 'sample_type': 'uniform', 'normalize_type': 'forest', 'rate_drop': 7.655309874466681e-07, 'skip_drop': 3.4002407891725886e-05}. Best is trial 151 with value: 0.2729526115260718.\n",
      "[I 2023-08-02 22:50:50,488] Trial 152 finished with value: 0.2853558163509007 and parameters: {'booster': 'dart', 'lambda': 0.030868910594128413, 'alpha': 1.6115820204214139e-06, 'subsample': 0.4349773265437744, 'colsample_bytree': 0.6144635355027217, 'learning_rate': 0.1058521104327637, 'max_depth': 2, 'eta': 0.007822490178681722, 'gamma': 0.14157596015064983, 'grow_policy': 'depthwise', 'sample_type': 'uniform', 'normalize_type': 'forest', 'rate_drop': 3.318434565946741e-07, 'skip_drop': 2.435342068696233e-05}. Best is trial 151 with value: 0.2729526115260718.\n",
      "[I 2023-08-02 22:50:57,064] Trial 153 finished with value: 0.2833013228519368 and parameters: {'booster': 'dart', 'lambda': 0.02760500850304341, 'alpha': 1.5967450864958516e-06, 'subsample': 0.4288471119455541, 'colsample_bytree': 0.6358458137150318, 'learning_rate': 0.09952768981020466, 'max_depth': 2, 'eta': 0.005799647271210094, 'gamma': 0.09714733709412665, 'grow_policy': 'depthwise', 'sample_type': 'uniform', 'normalize_type': 'forest', 'rate_drop': 1.934606961416429e-06, 'skip_drop': 2.2298036181748202e-05}. Best is trial 151 with value: 0.2729526115260718.\n",
      "[I 2023-08-02 22:51:03,246] Trial 154 finished with value: 0.3326273141040944 and parameters: {'booster': 'dart', 'lambda': 0.07382047617906609, 'alpha': 3.7827569019875443e-07, 'subsample': 0.41219900995268355, 'colsample_bytree': 0.6150493848882874, 'learning_rate': 0.10424083685628187, 'max_depth': 1, 'eta': 0.002405037831176658, 'gamma': 0.1282462117761163, 'grow_policy': 'depthwise', 'sample_type': 'uniform', 'normalize_type': 'forest', 'rate_drop': 1.7143519918325288e-06, 'skip_drop': 1.1761435186397343e-05}. Best is trial 151 with value: 0.2729526115260718.\n",
      "[I 2023-08-02 22:51:09,924] Trial 155 finished with value: 0.29130559785848337 and parameters: {'booster': 'dart', 'lambda': 0.22948680360302262, 'alpha': 1.075200972920533e-06, 'subsample': 0.44460167848232857, 'colsample_bytree': 0.6456052399267944, 'learning_rate': 0.09586382849723596, 'max_depth': 4, 'eta': 0.00580034306589697, 'gamma': 0.07792886817091589, 'grow_policy': 'depthwise', 'sample_type': 'uniform', 'normalize_type': 'forest', 'rate_drop': 9.773506118698454e-06, 'skip_drop': 5.02029787137609e-06}. Best is trial 151 with value: 0.2729526115260718.\n",
      "[I 2023-08-02 22:51:16,729] Trial 156 finished with value: 0.2884944705373401 and parameters: {'booster': 'dart', 'lambda': 0.004985943937706893, 'alpha': 1.4236458566027075e-07, 'subsample': 0.43463097219572916, 'colsample_bytree': 0.6078056676773902, 'learning_rate': 0.08766215474983258, 'max_depth': 3, 'eta': 0.0035766153189084, 'gamma': 0.03431723626699534, 'grow_policy': 'depthwise', 'sample_type': 'uniform', 'normalize_type': 'forest', 'rate_drop': 6.067695647544678e-07, 'skip_drop': 5.069052066532648e-05}. Best is trial 151 with value: 0.2729526115260718.\n",
      "[W 2023-08-02 22:51:17,647] Trial 157 failed with parameters: {'booster': 'gblinear', 'lambda': 0.009230583153459503, 'alpha': 1.3571341971807418e-06, 'subsample': 0.3954579027439344, 'colsample_bytree': 0.656030711241166, 'learning_rate': 0.12748675523163386} because of the following error: The value nan is not acceptable..\n",
      "[W 2023-08-02 22:51:17,648] Trial 157 failed with value nan.\n",
      "[W 2023-08-02 22:51:18,516] Trial 158 failed with parameters: {'booster': 'gblinear', 'lambda': 0.03593227559573305, 'alpha': 1.5727344965162632e-06, 'subsample': 0.3870534270737019, 'colsample_bytree': 0.6556619304034993, 'learning_rate': 0.12680083586821508} because of the following error: The value nan is not acceptable..\n",
      "[W 2023-08-02 22:51:18,517] Trial 158 failed with value nan.\n",
      "[W 2023-08-02 22:51:19,341] Trial 159 failed with parameters: {'booster': 'gblinear', 'lambda': 0.09821105139020786, 'alpha': 2.3240622256334917e-06, 'subsample': 0.47715120779358183, 'colsample_bytree': 0.6522105307717727, 'learning_rate': 0.12891069037724925} because of the following error: The value nan is not acceptable..\n",
      "[W 2023-08-02 22:51:19,342] Trial 159 failed with value nan.\n",
      "[W 2023-08-02 22:51:20,186] Trial 160 failed with parameters: {'booster': 'gblinear', 'lambda': 0.02661624245521425, 'alpha': 2.1592810830807226e-06, 'subsample': 0.48005334117932574, 'colsample_bytree': 0.6351484667020502, 'learning_rate': 0.1328948495202407} because of the following error: The value nan is not acceptable..\n",
      "[W 2023-08-02 22:51:20,187] Trial 160 failed with value nan.\n",
      "[W 2023-08-02 22:51:21,078] Trial 161 failed with parameters: {'booster': 'gblinear', 'lambda': 0.03169114690625065, 'alpha': 1.7207223363170565e-06, 'subsample': 0.4880547547122528, 'colsample_bytree': 0.656590254757684, 'learning_rate': 0.1124955015757704} because of the following error: The value nan is not acceptable..\n",
      "[W 2023-08-02 22:51:21,079] Trial 161 failed with value nan.\n",
      "[W 2023-08-02 22:51:21,930] Trial 162 failed with parameters: {'booster': 'gblinear', 'lambda': 0.035234174907532466, 'alpha': 2.1928234560812444e-06, 'subsample': 0.48496344184964996, 'colsample_bytree': 0.6462650959976002, 'learning_rate': 0.13489294097640792} because of the following error: The value nan is not acceptable..\n",
      "[W 2023-08-02 22:51:21,931] Trial 162 failed with value nan.\n",
      "[W 2023-08-02 22:51:22,716] Trial 163 failed with parameters: {'booster': 'gblinear', 'lambda': 0.009691526630237644, 'alpha': 3.449189317808561e-07, 'subsample': 0.48015483348602855, 'colsample_bytree': 0.6391978738933535, 'learning_rate': 0.12808779595360645} because of the following error: The value nan is not acceptable..\n",
      "[W 2023-08-02 22:51:22,717] Trial 163 failed with value nan.\n",
      "[I 2023-08-02 22:51:29,187] Trial 164 finished with value: 0.2750780403732608 and parameters: {'booster': 'dart', 'lambda': 0.035814806943949395, 'alpha': 1.245456836552597e-05, 'subsample': 0.47965438193322146, 'colsample_bytree': 0.6546728005046648, 'learning_rate': 0.1274813761636793, 'max_depth': 2, 'eta': 0.008137004008668689, 'gamma': 0.34963306978860037, 'grow_policy': 'depthwise', 'sample_type': 'weighted', 'normalize_type': 'forest', 'rate_drop': 5.053722345572937e-06, 'skip_drop': 1.6390554567644902e-05}. Best is trial 151 with value: 0.2729526115260718.\n",
      "[W 2023-08-02 22:51:29,936] Trial 165 failed with parameters: {'booster': 'gblinear', 'lambda': 0.03114786562075516, 'alpha': 1.6263971408458103e-06, 'subsample': 0.48531690064813143, 'colsample_bytree': 0.6483015186626324, 'learning_rate': 0.1313386724713878} because of the following error: The value nan is not acceptable..\n",
      "[W 2023-08-02 22:51:29,937] Trial 165 failed with value nan.\n",
      "[W 2023-08-02 22:51:30,635] Trial 166 failed with parameters: {'booster': 'gblinear', 'lambda': 0.010355779032119908, 'alpha': 2.2742830546026353e-06, 'subsample': 0.48387391844246197, 'colsample_bytree': 0.5687813708956654, 'learning_rate': 0.13499704147003544} because of the following error: The value nan is not acceptable..\n",
      "[W 2023-08-02 22:51:30,636] Trial 166 failed with value nan.\n",
      "[W 2023-08-02 22:51:31,394] Trial 167 failed with parameters: {'booster': 'gblinear', 'lambda': 0.03465390148449367, 'alpha': 9.95628665644918e-06, 'subsample': 0.4945348107295996, 'colsample_bytree': 0.6490870239489394, 'learning_rate': 0.12846525124851138} because of the following error: The value nan is not acceptable..\n",
      "[W 2023-08-02 22:51:31,395] Trial 167 failed with value nan.\n",
      "[W 2023-08-02 22:51:32,120] Trial 168 failed with parameters: {'booster': 'gblinear', 'lambda': 0.008735682291273202, 'alpha': 2.08141055895803e-06, 'subsample': 0.4860171624039781, 'colsample_bytree': 0.656833993509105, 'learning_rate': 0.13074476336401158} because of the following error: The value nan is not acceptable..\n",
      "[W 2023-08-02 22:51:32,122] Trial 168 failed with value nan.\n",
      "[W 2023-08-02 22:51:32,879] Trial 169 failed with parameters: {'booster': 'gblinear', 'lambda': 0.008333668288750035, 'alpha': 2.004340516337415e-06, 'subsample': 0.5149727621408549, 'colsample_bytree': 0.5601079616309081, 'learning_rate': 0.1330668888981709} because of the following error: The value nan is not acceptable..\n",
      "[W 2023-08-02 22:51:32,880] Trial 169 failed with value nan.\n",
      "[W 2023-08-02 22:51:33,736] Trial 170 failed with parameters: {'booster': 'gblinear', 'lambda': 0.008802253760383787, 'alpha': 1.926074421799361e-06, 'subsample': 0.47440616266987073, 'colsample_bytree': 0.6548963152777327, 'learning_rate': 0.13124262633571185} because of the following error: The value nan is not acceptable..\n",
      "[W 2023-08-02 22:51:33,738] Trial 170 failed with value nan.\n",
      "[W 2023-08-02 22:51:34,588] Trial 171 failed with parameters: {'booster': 'gblinear', 'lambda': 0.008477537620334222, 'alpha': 2.094643060842549e-06, 'subsample': 0.48019178009577984, 'colsample_bytree': 0.5602910395218998, 'learning_rate': 0.1329145984249557} because of the following error: The value nan is not acceptable..\n",
      "[W 2023-08-02 22:51:34,589] Trial 171 failed with value nan.\n",
      "[W 2023-08-02 22:51:35,392] Trial 172 failed with parameters: {'booster': 'gblinear', 'lambda': 0.008822923882200856, 'alpha': 2.003143761930033e-06, 'subsample': 0.4755259679239304, 'colsample_bytree': 0.6455777431393046, 'learning_rate': 0.1288523836710961} because of the following error: The value nan is not acceptable..\n",
      "[W 2023-08-02 22:51:35,393] Trial 172 failed with value nan.\n",
      "[W 2023-08-02 22:51:36,146] Trial 173 failed with parameters: {'booster': 'gblinear', 'lambda': 0.009180569601487356, 'alpha': 1.6069622403648432e-06, 'subsample': 0.47587601937850194, 'colsample_bytree': 0.6530582017737657, 'learning_rate': 0.125799497858133} because of the following error: The value nan is not acceptable..\n",
      "[W 2023-08-02 22:51:36,147] Trial 173 failed with value nan.\n",
      "[W 2023-08-02 22:51:36,963] Trial 174 failed with parameters: {'booster': 'gblinear', 'lambda': 0.03076323207121463, 'alpha': 2.2292870324738276e-06, 'subsample': 0.489270988583838, 'colsample_bytree': 0.6528980993786562, 'learning_rate': 0.13139730029119068} because of the following error: The value nan is not acceptable..\n",
      "[W 2023-08-02 22:51:36,963] Trial 174 failed with value nan.\n",
      "[W 2023-08-02 22:51:37,805] Trial 175 failed with parameters: {'booster': 'gblinear', 'lambda': 0.032790096686277706, 'alpha': 1.770712879183886e-06, 'subsample': 0.508782199729066, 'colsample_bytree': 0.5649706035613286, 'learning_rate': 0.13126510092505217} because of the following error: The value nan is not acceptable..\n",
      "[W 2023-08-02 22:51:37,806] Trial 175 failed with value nan.\n",
      "[W 2023-08-02 22:51:38,561] Trial 176 failed with parameters: {'booster': 'gblinear', 'lambda': 0.009153627122239239, 'alpha': 1.612713543400398e-06, 'subsample': 0.48081188214404147, 'colsample_bytree': 0.6317117833585357, 'learning_rate': 0.13112702173707558} because of the following error: The value nan is not acceptable..\n",
      "[W 2023-08-02 22:51:38,562] Trial 176 failed with value nan.\n",
      "[W 2023-08-02 22:51:39,309] Trial 177 failed with parameters: {'booster': 'gblinear', 'lambda': 0.0082998618569914, 'alpha': 1.949184737637961e-06, 'subsample': 0.47886560625359875, 'colsample_bytree': 0.653776540311574, 'learning_rate': 0.1301027196564161} because of the following error: The value nan is not acceptable..\n",
      "[W 2023-08-02 22:51:39,310] Trial 177 failed with value nan.\n",
      "[W 2023-08-02 22:51:40,084] Trial 178 failed with parameters: {'booster': 'gblinear', 'lambda': 0.00924814830034865, 'alpha': 1.7427782737142765e-05, 'subsample': 0.4731296080355216, 'colsample_bytree': 0.6506086949978478, 'learning_rate': 0.13040523620673983} because of the following error: The value nan is not acceptable..\n",
      "[W 2023-08-02 22:51:40,086] Trial 178 failed with value nan.\n",
      "[W 2023-08-02 22:51:40,840] Trial 179 failed with parameters: {'booster': 'gblinear', 'lambda': 0.02866627130269949, 'alpha': 2.0574994112145016e-06, 'subsample': 0.49386190496294846, 'colsample_bytree': 0.6541597489548991, 'learning_rate': 0.1335135168070446} because of the following error: The value nan is not acceptable..\n",
      "[W 2023-08-02 22:51:40,841] Trial 179 failed with value nan.\n",
      "[W 2023-08-02 22:51:41,604] Trial 180 failed with parameters: {'booster': 'gblinear', 'lambda': 0.009615257143890306, 'alpha': 1.6082366288952334e-06, 'subsample': 0.4796140374047293, 'colsample_bytree': 0.6488767075069293, 'learning_rate': 0.13181796151424358} because of the following error: The value nan is not acceptable..\n",
      "[W 2023-08-02 22:51:41,605] Trial 180 failed with value nan.\n",
      "[W 2023-08-02 22:51:42,411] Trial 181 failed with parameters: {'booster': 'gblinear', 'lambda': 0.02284544994034219, 'alpha': 1.493285760396321e-06, 'subsample': 0.4752932225377795, 'colsample_bytree': 0.6536721600390223, 'learning_rate': 0.13017127609812829} because of the following error: The value nan is not acceptable..\n",
      "[W 2023-08-02 22:51:42,413] Trial 181 failed with value nan.\n",
      "[W 2023-08-02 22:51:43,204] Trial 182 failed with parameters: {'booster': 'gblinear', 'lambda': 0.010244237814886332, 'alpha': 1.863062582548687e-06, 'subsample': 0.47882438275920536, 'colsample_bytree': 0.6517915245429527, 'learning_rate': 0.13061661141573158} because of the following error: The value nan is not acceptable..\n",
      "[W 2023-08-02 22:51:43,205] Trial 182 failed with value nan.\n",
      "[W 2023-08-02 22:51:43,971] Trial 183 failed with parameters: {'booster': 'gblinear', 'lambda': 0.008944219292939355, 'alpha': 1.516863287595235e-06, 'subsample': 0.4798807842101955, 'colsample_bytree': 0.6513657332686437, 'learning_rate': 0.13246589952795038} because of the following error: The value nan is not acceptable..\n",
      "[W 2023-08-02 22:51:43,972] Trial 183 failed with value nan.\n",
      "[W 2023-08-02 22:51:44,854] Trial 184 failed with parameters: {'booster': 'gblinear', 'lambda': 0.02824516003297404, 'alpha': 1.7739923456306295e-06, 'subsample': 0.48042635875664236, 'colsample_bytree': 0.5649901718830268, 'learning_rate': 0.130524529058637} because of the following error: The value nan is not acceptable..\n",
      "[W 2023-08-02 22:51:44,855] Trial 184 failed with value nan.\n",
      "[W 2023-08-02 22:51:45,646] Trial 185 failed with parameters: {'booster': 'gblinear', 'lambda': 0.008143786111040753, 'alpha': 2.0380345570480646e-06, 'subsample': 0.4824167064821526, 'colsample_bytree': 0.6516065922142785, 'learning_rate': 0.13448681150077502} because of the following error: The value nan is not acceptable..\n",
      "[W 2023-08-02 22:51:45,647] Trial 185 failed with value nan.\n",
      "[W 2023-08-02 22:51:46,553] Trial 186 failed with parameters: {'booster': 'gblinear', 'lambda': 0.03126835961913194, 'alpha': 2.206663907444678e-06, 'subsample': 0.4890433980421259, 'colsample_bytree': 0.6552454303146632, 'learning_rate': 0.13194865160304253} because of the following error: The value nan is not acceptable..\n",
      "[W 2023-08-02 22:51:46,554] Trial 186 failed with value nan.\n",
      "[W 2023-08-02 22:51:47,364] Trial 187 failed with parameters: {'booster': 'gblinear', 'lambda': 0.008416146608107127, 'alpha': 1.7121764730416785e-06, 'subsample': 0.4845094940053875, 'colsample_bytree': 0.6555689038441778, 'learning_rate': 0.1305696052760488} because of the following error: The value nan is not acceptable..\n",
      "[W 2023-08-02 22:51:47,365] Trial 187 failed with value nan.\n",
      "[W 2023-08-02 22:51:48,194] Trial 188 failed with parameters: {'booster': 'gblinear', 'lambda': 0.009706816733180114, 'alpha': 2.2188536414840517e-06, 'subsample': 0.48386851241366013, 'colsample_bytree': 0.5669159001779175, 'learning_rate': 0.12656564910671414} because of the following error: The value nan is not acceptable..\n",
      "[W 2023-08-02 22:51:48,195] Trial 188 failed with value nan.\n",
      "[W 2023-08-02 22:51:49,157] Trial 189 failed with parameters: {'booster': 'gblinear', 'lambda': 0.008748575376523824, 'alpha': 1.5935841846672977e-06, 'subsample': 0.4769815256882105, 'colsample_bytree': 0.6524743472782762, 'learning_rate': 0.13102391117767073} because of the following error: The value nan is not acceptable..\n",
      "[W 2023-08-02 22:51:49,159] Trial 189 failed with value nan.\n",
      "[W 2023-08-02 22:51:50,052] Trial 190 failed with parameters: {'booster': 'gblinear', 'lambda': 0.009694951207742991, 'alpha': 2.047550168220861e-06, 'subsample': 0.4913400953023148, 'colsample_bytree': 0.6510305333920976, 'learning_rate': 0.12994994364156465} because of the following error: The value nan is not acceptable..\n",
      "[W 2023-08-02 22:51:50,053] Trial 190 failed with value nan.\n",
      "[W 2023-08-02 22:51:50,897] Trial 191 failed with parameters: {'booster': 'gblinear', 'lambda': 0.009742327871643263, 'alpha': 1.545115881455326e-06, 'subsample': 0.48154640724744463, 'colsample_bytree': 0.6544195302042227, 'learning_rate': 0.12745564838482748} because of the following error: The value nan is not acceptable..\n",
      "[W 2023-08-02 22:51:50,899] Trial 191 failed with value nan.\n",
      "[W 2023-08-02 22:51:51,716] Trial 192 failed with parameters: {'booster': 'gblinear', 'lambda': 0.009318053311702846, 'alpha': 2.1984850152453682e-06, 'subsample': 0.4717000998887021, 'colsample_bytree': 0.5653274680123911, 'learning_rate': 0.13053439794262334} because of the following error: The value nan is not acceptable..\n",
      "[W 2023-08-02 22:51:51,717] Trial 192 failed with value nan.\n",
      "[W 2023-08-02 22:51:52,527] Trial 193 failed with parameters: {'booster': 'gblinear', 'lambda': 0.010374753453769932, 'alpha': 1.6631184301116414e-06, 'subsample': 0.47868563048684726, 'colsample_bytree': 0.6495822089096474, 'learning_rate': 0.1316008586476132} because of the following error: The value nan is not acceptable..\n",
      "[W 2023-08-02 22:51:52,528] Trial 193 failed with value nan.\n",
      "[W 2023-08-02 22:51:53,332] Trial 194 failed with parameters: {'booster': 'gblinear', 'lambda': 0.029741056666020973, 'alpha': 1.9965910397883267e-06, 'subsample': 0.47423085526015485, 'colsample_bytree': 0.655320253206269, 'learning_rate': 0.12901432078500377} because of the following error: The value nan is not acceptable..\n",
      "[W 2023-08-02 22:51:53,333] Trial 194 failed with value nan.\n",
      "[W 2023-08-02 22:51:54,119] Trial 195 failed with parameters: {'booster': 'gblinear', 'lambda': 0.03032845844885809, 'alpha': 1.7091051576290063e-06, 'subsample': 0.47931755222326905, 'colsample_bytree': 0.6529207070814894, 'learning_rate': 0.13167768728925516} because of the following error: The value nan is not acceptable..\n",
      "[W 2023-08-02 22:51:54,120] Trial 195 failed with value nan.\n",
      "[W 2023-08-02 22:51:54,876] Trial 196 failed with parameters: {'booster': 'gblinear', 'lambda': 0.008768378805838762, 'alpha': 2.012457780495173e-06, 'subsample': 0.47989559052647235, 'colsample_bytree': 0.5673585606338414, 'learning_rate': 0.13102570654952495} because of the following error: The value nan is not acceptable..\n",
      "[W 2023-08-02 22:51:54,877] Trial 196 failed with value nan.\n",
      "[W 2023-08-02 22:51:55,704] Trial 197 failed with parameters: {'booster': 'gblinear', 'lambda': 0.010086942483859152, 'alpha': 1.6865651817305861e-06, 'subsample': 0.5008021446200565, 'colsample_bytree': 0.6535942767957513, 'learning_rate': 0.1313654597223792} because of the following error: The value nan is not acceptable..\n",
      "[W 2023-08-02 22:51:55,706] Trial 197 failed with value nan.\n",
      "[W 2023-08-02 22:51:56,485] Trial 198 failed with parameters: {'booster': 'gblinear', 'lambda': 0.026387061487487845, 'alpha': 2.097097707070716e-06, 'subsample': 0.4857230055321754, 'colsample_bytree': 0.6549042621931349, 'learning_rate': 0.07187035780139575} because of the following error: The value nan is not acceptable..\n",
      "[W 2023-08-02 22:51:56,486] Trial 198 failed with value nan.\n",
      "[W 2023-08-02 22:51:57,258] Trial 199 failed with parameters: {'booster': 'gblinear', 'lambda': 0.010110299633774876, 'alpha': 1.4726323551696812e-05, 'subsample': 0.48400804258971636, 'colsample_bytree': 0.5641432126880092, 'learning_rate': 0.1315665191550637} because of the following error: The value nan is not acceptable..\n",
      "[W 2023-08-02 22:51:57,259] Trial 199 failed with value nan.\n",
      "[W 2023-08-02 22:51:58,063] Trial 200 failed with parameters: {'booster': 'gblinear', 'lambda': 0.011453183271333588, 'alpha': 1.14015182339178e-05, 'subsample': 0.48116337415803456, 'colsample_bytree': 0.5709903597324554, 'learning_rate': 0.13288141601837244} because of the following error: The value nan is not acceptable..\n",
      "[W 2023-08-02 22:51:58,064] Trial 200 failed with value nan.\n",
      "[W 2023-08-02 22:51:58,886] Trial 201 failed with parameters: {'booster': 'gblinear', 'lambda': 0.008499070785548771, 'alpha': 1.8936781723445112e-06, 'subsample': 0.4758890834111589, 'colsample_bytree': 0.5623255419508062, 'learning_rate': 0.135161716415447} because of the following error: The value nan is not acceptable..\n",
      "[W 2023-08-02 22:51:58,888] Trial 201 failed with value nan.\n",
      "[W 2023-08-02 22:51:59,788] Trial 202 failed with parameters: {'booster': 'gblinear', 'lambda': 0.03150010982641909, 'alpha': 1.7045164366799295e-06, 'subsample': 0.4814485594328519, 'colsample_bytree': 0.6495117286012011, 'learning_rate': 0.13187422343428878} because of the following error: The value nan is not acceptable..\n",
      "[W 2023-08-02 22:51:59,789] Trial 202 failed with value nan.\n",
      "[W 2023-08-02 22:52:00,625] Trial 203 failed with parameters: {'booster': 'gblinear', 'lambda': 0.010340656648614943, 'alpha': 1.7535412446317283e-06, 'subsample': 0.4836973038655785, 'colsample_bytree': 0.6547319926908277, 'learning_rate': 0.13313091226873858} because of the following error: The value nan is not acceptable..\n",
      "[W 2023-08-02 22:52:00,627] Trial 203 failed with value nan.\n",
      "[W 2023-08-02 22:52:01,463] Trial 204 failed with parameters: {'booster': 'gblinear', 'lambda': 0.010177377604388225, 'alpha': 1.6881254226690392e-06, 'subsample': 0.48174067012443633, 'colsample_bytree': 0.6548746340409242, 'learning_rate': 0.13587571113383246} because of the following error: The value nan is not acceptable..\n",
      "[W 2023-08-02 22:52:01,464] Trial 204 failed with value nan.\n",
      "[W 2023-08-02 22:52:02,318] Trial 205 failed with parameters: {'booster': 'gblinear', 'lambda': 0.031537501956907334, 'alpha': 2.198283437953265e-06, 'subsample': 0.48247813644953924, 'colsample_bytree': 0.5640492896370504, 'learning_rate': 0.1319031852363713} because of the following error: The value nan is not acceptable..\n",
      "[W 2023-08-02 22:52:02,319] Trial 205 failed with value nan.\n",
      "[W 2023-08-02 22:52:03,130] Trial 206 failed with parameters: {'booster': 'gblinear', 'lambda': 0.0237444883644465, 'alpha': 2.047840212582839e-06, 'subsample': 0.47692389876870095, 'colsample_bytree': 0.5704537426858763, 'learning_rate': 0.1284711782858891} because of the following error: The value nan is not acceptable..\n",
      "[W 2023-08-02 22:52:03,131] Trial 206 failed with value nan.\n",
      "[W 2023-08-02 22:52:03,953] Trial 207 failed with parameters: {'booster': 'gblinear', 'lambda': 0.009702320573650862, 'alpha': 2.0737517562744847e-06, 'subsample': 0.4810220667221826, 'colsample_bytree': 0.5684648551709695, 'learning_rate': 0.12935191811905628} because of the following error: The value nan is not acceptable..\n",
      "[W 2023-08-02 22:52:03,954] Trial 207 failed with value nan.\n",
      "[W 2023-08-02 22:52:04,791] Trial 208 failed with parameters: {'booster': 'gblinear', 'lambda': 0.036253308853135165, 'alpha': 1.3837988080202359e-05, 'subsample': 0.47933978668827687, 'colsample_bytree': 0.5665172144416828, 'learning_rate': 0.13001840267255368} because of the following error: The value nan is not acceptable..\n",
      "[W 2023-08-02 22:52:04,791] Trial 208 failed with value nan.\n",
      "[W 2023-08-02 22:52:05,676] Trial 209 failed with parameters: {'booster': 'gblinear', 'lambda': 0.009249723122445338, 'alpha': 1.5216701447569e-06, 'subsample': 0.48866906838352797, 'colsample_bytree': 0.5656449798574527, 'learning_rate': 0.12970249376289658} because of the following error: The value nan is not acceptable..\n",
      "[W 2023-08-02 22:52:05,677] Trial 209 failed with value nan.\n",
      "[W 2023-08-02 22:52:06,505] Trial 210 failed with parameters: {'booster': 'gblinear', 'lambda': 0.03054325964029152, 'alpha': 1.799374495103617e-06, 'subsample': 0.4823170819311873, 'colsample_bytree': 0.5644703646279906, 'learning_rate': 0.1311235024722677} because of the following error: The value nan is not acceptable..\n",
      "[W 2023-08-02 22:52:06,506] Trial 210 failed with value nan.\n",
      "[I 2023-08-02 22:52:13,307] Trial 211 finished with value: 0.3203026684779316 and parameters: {'booster': 'dart', 'lambda': 0.01021438829248647, 'alpha': 1.6809086729980843e-06, 'subsample': 0.48419177127605256, 'colsample_bytree': 0.6566598842017053, 'learning_rate': 0.13308353034508852, 'max_depth': 1, 'eta': 0.007800875233326009, 'gamma': 0.44943887284258033, 'grow_policy': 'depthwise', 'sample_type': 'weighted', 'normalize_type': 'forest', 'rate_drop': 6.011438140677015e-06, 'skip_drop': 1.6165474156796995e-05}. Best is trial 151 with value: 0.2729526115260718.\n",
      "[W 2023-08-02 22:52:14,130] Trial 212 failed with parameters: {'booster': 'gblinear', 'lambda': 0.041674564656119475, 'alpha': 2.2693419447888614e-06, 'subsample': 0.48016304897726136, 'colsample_bytree': 0.5694961389554819, 'learning_rate': 0.10617986023791569} because of the following error: The value nan is not acceptable..\n",
      "[W 2023-08-02 22:52:14,131] Trial 212 failed with value nan.\n",
      "[W 2023-08-02 22:52:14,941] Trial 213 failed with parameters: {'booster': 'gblinear', 'lambda': 0.03432077727664165, 'alpha': 1.2256238928302423e-05, 'subsample': 0.5122954725622947, 'colsample_bytree': 0.5664483238586961, 'learning_rate': 0.1029733587730107} because of the following error: The value nan is not acceptable..\n",
      "[W 2023-08-02 22:52:14,943] Trial 213 failed with value nan.\n",
      "[W 2023-08-02 22:52:15,820] Trial 214 failed with parameters: {'booster': 'gblinear', 'lambda': 0.03237603834123332, 'alpha': 1.6104449948145898e-05, 'subsample': 0.5115838387023416, 'colsample_bytree': 0.6250766961072942, 'learning_rate': 0.10884082840133538} because of the following error: The value nan is not acceptable..\n",
      "[W 2023-08-02 22:52:15,821] Trial 214 failed with value nan.\n",
      "[W 2023-08-02 22:52:16,669] Trial 215 failed with parameters: {'booster': 'gblinear', 'lambda': 0.03189270903632485, 'alpha': 1.483354593980063e-05, 'subsample': 0.5231023858240399, 'colsample_bytree': 0.6289796245026799, 'learning_rate': 0.10757450875526736} because of the following error: The value nan is not acceptable..\n",
      "[W 2023-08-02 22:52:16,670] Trial 215 failed with value nan.\n",
      "[W 2023-08-02 22:52:17,500] Trial 216 failed with parameters: {'booster': 'gblinear', 'lambda': 0.026774347715966852, 'alpha': 1.3357804264079384e-05, 'subsample': 0.522763102680413, 'colsample_bytree': 0.5739002380632157, 'learning_rate': 0.08349481137089682} because of the following error: The value nan is not acceptable..\n",
      "[W 2023-08-02 22:52:17,501] Trial 216 failed with value nan.\n",
      "[I 2023-08-02 22:52:24,100] Trial 217 finished with value: 0.28661840791168 and parameters: {'booster': 'dart', 'lambda': 0.03606001419628863, 'alpha': 1.2509243781076795e-05, 'subsample': 0.5070720929677841, 'colsample_bytree': 0.5726698433664684, 'learning_rate': 0.10695054298761583, 'max_depth': 3, 'eta': 0.006386939425377303, 'gamma': 0.5307513175220154, 'grow_policy': 'depthwise', 'sample_type': 'weighted', 'normalize_type': 'forest', 'rate_drop': 1.44945951384671e-06, 'skip_drop': 9.712632391285875e-07}. Best is trial 151 with value: 0.2729526115260718.\n",
      "[W 2023-08-02 22:52:24,871] Trial 218 failed with parameters: {'booster': 'gblinear', 'lambda': 0.0037149749906707453, 'alpha': 2.0942465234928822e-06, 'subsample': 0.47538507074741493, 'colsample_bytree': 0.5481299772921507, 'learning_rate': 0.07343625781052757} because of the following error: The value nan is not acceptable..\n",
      "[W 2023-08-02 22:52:24,873] Trial 218 failed with value nan.\n",
      "[W 2023-08-02 22:52:25,674] Trial 219 failed with parameters: {'booster': 'gblinear', 'lambda': 0.07762558025750034, 'alpha': 1.8698531950133529e-06, 'subsample': 0.47709469540284943, 'colsample_bytree': 0.6268369699738287, 'learning_rate': 0.08324664533608678} because of the following error: The value nan is not acceptable..\n",
      "[W 2023-08-02 22:52:25,675] Trial 219 failed with value nan.\n",
      "[W 2023-08-02 22:52:26,424] Trial 220 failed with parameters: {'booster': 'gblinear', 'lambda': 0.0036214572294110256, 'alpha': 1.818565521197392e-06, 'subsample': 0.4784125722708303, 'colsample_bytree': 0.6272704793090118, 'learning_rate': 0.06711098538635724} because of the following error: The value nan is not acceptable..\n",
      "[W 2023-08-02 22:52:26,425] Trial 220 failed with value nan.\n",
      "[W 2023-08-02 22:52:27,249] Trial 221 failed with parameters: {'booster': 'gblinear', 'lambda': 0.004015050898309876, 'alpha': 2.010820004019471e-06, 'subsample': 0.4737327769113911, 'colsample_bytree': 0.5419094983797863, 'learning_rate': 0.07253471287528226} because of the following error: The value nan is not acceptable..\n",
      "[W 2023-08-02 22:52:27,250] Trial 221 failed with value nan.\n",
      "[W 2023-08-02 22:52:28,030] Trial 222 failed with parameters: {'booster': 'gblinear', 'lambda': 0.003643815285706403, 'alpha': 2.281053503013553e-06, 'subsample': 0.44034248252346203, 'colsample_bytree': 0.5506404202527124, 'learning_rate': 0.12673205447438465} because of the following error: The value nan is not acceptable..\n",
      "[W 2023-08-02 22:52:28,031] Trial 222 failed with value nan.\n",
      "[W 2023-08-02 22:52:28,888] Trial 223 failed with parameters: {'booster': 'gblinear', 'lambda': 0.07445377558926689, 'alpha': 2.2787838064964414e-06, 'subsample': 0.47400287173820166, 'colsample_bytree': 0.6318355560438734, 'learning_rate': 0.12464727209312537} because of the following error: The value nan is not acceptable..\n",
      "[W 2023-08-02 22:52:28,890] Trial 223 failed with value nan.\n",
      "[W 2023-08-02 22:52:29,707] Trial 224 failed with parameters: {'booster': 'gblinear', 'lambda': 0.027265460355946194, 'alpha': 2.298081735901151e-06, 'subsample': 0.4362260857273735, 'colsample_bytree': 0.5432447501328224, 'learning_rate': 0.07215804077874967} because of the following error: The value nan is not acceptable..\n",
      "[W 2023-08-02 22:52:29,708] Trial 224 failed with value nan.\n",
      "[W 2023-08-02 22:52:30,478] Trial 225 failed with parameters: {'booster': 'gblinear', 'lambda': 0.00365662868108307, 'alpha': 2.7276640323293045e-06, 'subsample': 0.474328459294592, 'colsample_bytree': 0.5500583940839536, 'learning_rate': 0.07185067582083757} because of the following error: The value nan is not acceptable..\n",
      "[W 2023-08-02 22:52:30,479] Trial 225 failed with value nan.\n",
      "[W 2023-08-02 22:52:31,246] Trial 226 failed with parameters: {'booster': 'gblinear', 'lambda': 0.07522610700939564, 'alpha': 2.0421613299773574e-06, 'subsample': 0.48087803184268735, 'colsample_bytree': 0.627392638777174, 'learning_rate': 0.06714672629270986} because of the following error: The value nan is not acceptable..\n",
      "[W 2023-08-02 22:52:31,247] Trial 226 failed with value nan.\n",
      "[W 2023-08-02 22:52:32,010] Trial 227 failed with parameters: {'booster': 'gblinear', 'lambda': 0.07526036007450415, 'alpha': 2.2111108618453366e-06, 'subsample': 0.4718214713499327, 'colsample_bytree': 0.6287412755415926, 'learning_rate': 0.0873895890086084} because of the following error: The value nan is not acceptable..\n",
      "[W 2023-08-02 22:52:32,011] Trial 227 failed with value nan.\n",
      "[W 2023-08-02 22:52:32,764] Trial 228 failed with parameters: {'booster': 'gblinear', 'lambda': 0.003747091686350005, 'alpha': 2.5324269840824804e-06, 'subsample': 0.4733252948432466, 'colsample_bytree': 0.5496803403635946, 'learning_rate': 0.086077395666316} because of the following error: The value nan is not acceptable..\n",
      "[W 2023-08-02 22:52:32,765] Trial 228 failed with value nan.\n",
      "[W 2023-08-02 22:52:33,512] Trial 229 failed with parameters: {'booster': 'gblinear', 'lambda': 0.0820342220875209, 'alpha': 2.060931627708026e-06, 'subsample': 0.4812158464155976, 'colsample_bytree': 0.539888767803384, 'learning_rate': 0.08535849651561309} because of the following error: The value nan is not acceptable..\n",
      "[W 2023-08-02 22:52:33,513] Trial 229 failed with value nan.\n",
      "[W 2023-08-02 22:52:34,259] Trial 230 failed with parameters: {'booster': 'gblinear', 'lambda': 0.0846103298075672, 'alpha': 2.940375134040997e-06, 'subsample': 0.47937132725384823, 'colsample_bytree': 0.543392138158955, 'learning_rate': 0.0839610277401304} because of the following error: The value nan is not acceptable..\n",
      "[W 2023-08-02 22:52:34,260] Trial 230 failed with value nan.\n",
      "[W 2023-08-02 22:52:35,009] Trial 231 failed with parameters: {'booster': 'gblinear', 'lambda': 0.0785310048910882, 'alpha': 2.4133494621484035e-06, 'subsample': 0.4366284881991277, 'colsample_bytree': 0.5431479969070948, 'learning_rate': 0.06730459481811654} because of the following error: The value nan is not acceptable..\n",
      "[W 2023-08-02 22:52:35,011] Trial 231 failed with value nan.\n",
      "[W 2023-08-02 22:52:35,761] Trial 232 failed with parameters: {'booster': 'gblinear', 'lambda': 0.09040904134730958, 'alpha': 2.0316944328651807e-06, 'subsample': 0.4748569113781573, 'colsample_bytree': 0.543076033705178, 'learning_rate': 0.06785789524056748} because of the following error: The value nan is not acceptable..\n",
      "[W 2023-08-02 22:52:35,762] Trial 232 failed with value nan.\n",
      "[W 2023-08-02 22:52:36,501] Trial 233 failed with parameters: {'booster': 'gblinear', 'lambda': 0.0029150245263299835, 'alpha': 2.2389467894514483e-06, 'subsample': 0.47927562242777555, 'colsample_bytree': 0.5374200292233391, 'learning_rate': 0.06923502607944149} because of the following error: The value nan is not acceptable..\n",
      "[W 2023-08-02 22:52:36,502] Trial 233 failed with value nan.\n",
      "[W 2023-08-02 22:52:37,265] Trial 234 failed with parameters: {'booster': 'gblinear', 'lambda': 0.0035666476036271865, 'alpha': 2.5880875693821194e-06, 'subsample': 0.4434398311242155, 'colsample_bytree': 0.5380351548130101, 'learning_rate': 0.08589137603737962} because of the following error: The value nan is not acceptable..\n",
      "[W 2023-08-02 22:52:37,267] Trial 234 failed with value nan.\n",
      "[W 2023-08-02 22:52:38,025] Trial 235 failed with parameters: {'booster': 'gblinear', 'lambda': 0.07661029294872754, 'alpha': 1.919076538122222e-05, 'subsample': 0.5287698991428992, 'colsample_bytree': 0.5523005275183243, 'learning_rate': 0.08270631025220117} because of the following error: The value nan is not acceptable..\n",
      "[W 2023-08-02 22:52:38,026] Trial 235 failed with value nan.\n",
      "[W 2023-08-02 22:52:38,776] Trial 236 failed with parameters: {'booster': 'gblinear', 'lambda': 0.0736424258330083, 'alpha': 1.82277932194836e-06, 'subsample': 0.4762380194204375, 'colsample_bytree': 0.6293863695771962, 'learning_rate': 0.07241895769760767} because of the following error: The value nan is not acceptable..\n",
      "[W 2023-08-02 22:52:38,777] Trial 236 failed with value nan.\n",
      "[W 2023-08-02 22:52:39,567] Trial 237 failed with parameters: {'booster': 'gblinear', 'lambda': 0.00376603012897233, 'alpha': 2.9833045039770138e-06, 'subsample': 0.47699674712774476, 'colsample_bytree': 0.6333043476668039, 'learning_rate': 0.0701905184196007} because of the following error: The value nan is not acceptable..\n",
      "[W 2023-08-02 22:52:39,569] Trial 237 failed with value nan.\n",
      "[W 2023-08-02 22:52:40,326] Trial 238 failed with parameters: {'booster': 'gblinear', 'lambda': 0.07686446003785441, 'alpha': 2.4884402353748673e-06, 'subsample': 0.437836533383716, 'colsample_bytree': 0.5461188249967323, 'learning_rate': 0.08035665135156751} because of the following error: The value nan is not acceptable..\n",
      "[W 2023-08-02 22:52:40,327] Trial 238 failed with value nan.\n",
      "[W 2023-08-02 22:52:41,073] Trial 239 failed with parameters: {'booster': 'gblinear', 'lambda': 0.0024979764165349813, 'alpha': 1.9179976874949907e-06, 'subsample': 0.44086452437865575, 'colsample_bytree': 0.5408216143476395, 'learning_rate': 0.06686829471340074} because of the following error: The value nan is not acceptable..\n",
      "[W 2023-08-02 22:52:41,074] Trial 239 failed with value nan.\n",
      "[W 2023-08-02 22:52:41,848] Trial 240 failed with parameters: {'booster': 'gblinear', 'lambda': 0.003150526108624041, 'alpha': 2.340365645075421e-06, 'subsample': 0.4730364531064932, 'colsample_bytree': 0.5499066040066464, 'learning_rate': 0.0710629805131907} because of the following error: The value nan is not acceptable..\n",
      "[W 2023-08-02 22:52:41,849] Trial 240 failed with value nan.\n",
      "[W 2023-08-02 22:52:42,606] Trial 241 failed with parameters: {'booster': 'gblinear', 'lambda': 0.08049712514202438, 'alpha': 2.240776113510307e-06, 'subsample': 0.4783785174180914, 'colsample_bytree': 0.5391397882715346, 'learning_rate': 0.0707078331380662} because of the following error: The value nan is not acceptable..\n",
      "[W 2023-08-02 22:52:42,607] Trial 241 failed with value nan.\n",
      "[W 2023-08-02 22:52:43,358] Trial 242 failed with parameters: {'booster': 'gblinear', 'lambda': 0.0037046521352270298, 'alpha': 2.548088615766906e-06, 'subsample': 0.4395262815274987, 'colsample_bytree': 0.5472112426364897, 'learning_rate': 0.0849500590877895} because of the following error: The value nan is not acceptable..\n",
      "[W 2023-08-02 22:52:43,360] Trial 242 failed with value nan.\n",
      "[W 2023-08-02 22:52:44,106] Trial 243 failed with parameters: {'booster': 'gblinear', 'lambda': 0.003798814186412609, 'alpha': 1.8025243249323104e-05, 'subsample': 0.47338711417712387, 'colsample_bytree': 0.5369531620499677, 'learning_rate': 0.0693954143722657} because of the following error: The value nan is not acceptable..\n",
      "[W 2023-08-02 22:52:44,107] Trial 243 failed with value nan.\n",
      "[W 2023-08-02 22:52:44,857] Trial 244 failed with parameters: {'booster': 'gblinear', 'lambda': 0.07599216413781497, 'alpha': 2.331956993053316e-06, 'subsample': 0.4734545081234875, 'colsample_bytree': 0.6326542118601806, 'learning_rate': 0.07136647576693064} because of the following error: The value nan is not acceptable..\n",
      "[W 2023-08-02 22:52:44,858] Trial 244 failed with value nan.\n",
      "[W 2023-08-02 22:52:45,577] Trial 245 failed with parameters: {'booster': 'gblinear', 'lambda': 0.08472430749147916, 'alpha': 2.3417381416681783e-06, 'subsample': 0.4753545200270473, 'colsample_bytree': 0.5496379209805322, 'learning_rate': 0.0865012418729856} because of the following error: The value nan is not acceptable..\n",
      "[W 2023-08-02 22:52:45,578] Trial 245 failed with value nan.\n",
      "[W 2023-08-02 22:52:46,266] Trial 246 failed with parameters: {'booster': 'gblinear', 'lambda': 0.002808572787300858, 'alpha': 2.291856401580875e-06, 'subsample': 0.47541150194006476, 'colsample_bytree': 0.5474965707096389, 'learning_rate': 0.08842021705341639} because of the following error: The value nan is not acceptable..\n",
      "[W 2023-08-02 22:52:46,266] Trial 246 failed with value nan.\n",
      "[W 2023-08-02 22:52:47,092] Trial 247 failed with parameters: {'booster': 'gblinear', 'lambda': 0.08125439130449001, 'alpha': 2.156324489790397e-06, 'subsample': 0.4381443956034306, 'colsample_bytree': 0.6300582844505488, 'learning_rate': 0.07291821897173394} because of the following error: The value nan is not acceptable..\n",
      "[W 2023-08-02 22:52:47,093] Trial 247 failed with value nan.\n",
      "[W 2023-08-02 22:52:47,902] Trial 248 failed with parameters: {'booster': 'gblinear', 'lambda': 0.0034729593208829394, 'alpha': 1.9569698019522002e-06, 'subsample': 0.47481483863399737, 'colsample_bytree': 0.6305710992860571, 'learning_rate': 0.07073585457989928} because of the following error: The value nan is not acceptable..\n",
      "[W 2023-08-02 22:52:47,903] Trial 248 failed with value nan.\n",
      "[W 2023-08-02 22:52:48,753] Trial 249 failed with parameters: {'booster': 'gblinear', 'lambda': 0.003972939902769757, 'alpha': 2.0874804014732156e-06, 'subsample': 0.4780637270193881, 'colsample_bytree': 0.5417477112070905, 'learning_rate': 0.07065612157114948} because of the following error: The value nan is not acceptable..\n",
      "[W 2023-08-02 22:52:48,755] Trial 249 failed with value nan.\n",
      "[W 2023-08-02 22:52:49,535] Trial 250 failed with parameters: {'booster': 'gblinear', 'lambda': 0.003609503253568814, 'alpha': 2.199296708005208e-06, 'subsample': 0.4803946172349169, 'colsample_bytree': 0.5346245423354424, 'learning_rate': 0.08469480367690449} because of the following error: The value nan is not acceptable..\n",
      "[W 2023-08-02 22:52:49,536] Trial 250 failed with value nan.\n",
      "[W 2023-08-02 22:52:50,441] Trial 251 failed with parameters: {'booster': 'gblinear', 'lambda': 0.07506618547208635, 'alpha': 2.9472397900893248e-06, 'subsample': 0.4760795787870061, 'colsample_bytree': 0.5381154273806918, 'learning_rate': 0.06949759647909551} because of the following error: The value nan is not acceptable..\n",
      "[W 2023-08-02 22:52:50,442] Trial 251 failed with value nan.\n",
      "[W 2023-08-02 22:52:51,409] Trial 252 failed with parameters: {'booster': 'gblinear', 'lambda': 0.07527396784521304, 'alpha': 1.7916337956632965e-06, 'subsample': 0.478110969504057, 'colsample_bytree': 0.5440732594420811, 'learning_rate': 0.07231789419548902} because of the following error: The value nan is not acceptable..\n",
      "[W 2023-08-02 22:52:51,411] Trial 252 failed with value nan.\n",
      "[W 2023-08-02 22:52:52,262] Trial 253 failed with parameters: {'booster': 'gblinear', 'lambda': 0.003299034148041247, 'alpha': 2.254228954228398e-06, 'subsample': 0.4772676946214286, 'colsample_bytree': 0.6291381837060069, 'learning_rate': 0.06693684399893202} because of the following error: The value nan is not acceptable..\n",
      "[W 2023-08-02 22:52:52,263] Trial 253 failed with value nan.\n",
      "[W 2023-08-02 22:52:53,092] Trial 254 failed with parameters: {'booster': 'gblinear', 'lambda': 0.0036966686298746574, 'alpha': 2.3996307402770903e-06, 'subsample': 0.4775915732178266, 'colsample_bytree': 0.6283344811136785, 'learning_rate': 0.08526231759540695} because of the following error: The value nan is not acceptable..\n",
      "[W 2023-08-02 22:52:53,093] Trial 254 failed with value nan.\n",
      "[W 2023-08-02 22:52:53,983] Trial 255 failed with parameters: {'booster': 'gblinear', 'lambda': 0.07493105665234176, 'alpha': 1.9787016236241102e-06, 'subsample': 0.43558638689959084, 'colsample_bytree': 0.6310461161754978, 'learning_rate': 0.06852471384876337} because of the following error: The value nan is not acceptable..\n",
      "[W 2023-08-02 22:52:53,984] Trial 255 failed with value nan.\n",
      "[W 2023-08-02 22:52:54,821] Trial 256 failed with parameters: {'booster': 'gblinear', 'lambda': 0.0035601005193315223, 'alpha': 2.4223254538058565e-06, 'subsample': 0.43656057441030344, 'colsample_bytree': 0.5512318929229002, 'learning_rate': 0.06951272771518832} because of the following error: The value nan is not acceptable..\n",
      "[W 2023-08-02 22:52:54,824] Trial 256 failed with value nan.\n",
      "[W 2023-08-02 22:52:55,653] Trial 257 failed with parameters: {'booster': 'gblinear', 'lambda': 0.004414216141789565, 'alpha': 2.24008241081836e-06, 'subsample': 0.47814639939481657, 'colsample_bytree': 0.5436042439765545, 'learning_rate': 0.1259814815294606} because of the following error: The value nan is not acceptable..\n",
      "[W 2023-08-02 22:52:55,655] Trial 257 failed with value nan.\n",
      "[W 2023-08-02 22:52:56,495] Trial 258 failed with parameters: {'booster': 'gblinear', 'lambda': 0.0743750164346709, 'alpha': 2.187768765654433e-06, 'subsample': 0.47528284594915565, 'colsample_bytree': 0.5413238823154022, 'learning_rate': 0.1286110196170246} because of the following error: The value nan is not acceptable..\n",
      "[W 2023-08-02 22:52:56,496] Trial 258 failed with value nan.\n",
      "[W 2023-08-02 22:52:57,426] Trial 259 failed with parameters: {'booster': 'gblinear', 'lambda': 0.08509173109214037, 'alpha': 2.934707865095086e-06, 'subsample': 0.4389427169088669, 'colsample_bytree': 0.5424587142225218, 'learning_rate': 0.08556027834856167} because of the following error: The value nan is not acceptable..\n",
      "[W 2023-08-02 22:52:57,427] Trial 259 failed with value nan.\n",
      "[W 2023-08-02 22:52:58,375] Trial 260 failed with parameters: {'booster': 'gblinear', 'lambda': 0.003811534937454145, 'alpha': 2.0737563328125277e-06, 'subsample': 0.47624666393662846, 'colsample_bytree': 0.6377799503787058, 'learning_rate': 0.08500011191785638} because of the following error: The value nan is not acceptable..\n",
      "[W 2023-08-02 22:52:58,376] Trial 260 failed with value nan.\n",
      "[W 2023-08-02 22:52:59,232] Trial 261 failed with parameters: {'booster': 'gblinear', 'lambda': 0.0035611278567114525, 'alpha': 2.0947223711763357e-06, 'subsample': 0.48060382505686255, 'colsample_bytree': 0.5451487953992974, 'learning_rate': 0.08390267581670031} because of the following error: The value nan is not acceptable..\n",
      "[W 2023-08-02 22:52:59,234] Trial 261 failed with value nan.\n",
      "[W 2023-08-02 22:53:00,080] Trial 262 failed with parameters: {'booster': 'gblinear', 'lambda': 0.0033067221135577264, 'alpha': 2.448902997276801e-06, 'subsample': 0.4746155359704683, 'colsample_bytree': 0.5547407181274211, 'learning_rate': 0.0847732632999783} because of the following error: The value nan is not acceptable..\n",
      "[W 2023-08-02 22:53:00,081] Trial 262 failed with value nan.\n",
      "[W 2023-08-02 22:53:00,926] Trial 263 failed with parameters: {'booster': 'gblinear', 'lambda': 0.004081397347277796, 'alpha': 2.238144395807098e-06, 'subsample': 0.47543151951720153, 'colsample_bytree': 0.627958665177689, 'learning_rate': 0.08413507301195042} because of the following error: The value nan is not acceptable..\n",
      "[W 2023-08-02 22:53:00,927] Trial 263 failed with value nan.\n",
      "[W 2023-08-02 22:53:01,790] Trial 264 failed with parameters: {'booster': 'gblinear', 'lambda': 0.0038796655925669114, 'alpha': 2.758607632944923e-06, 'subsample': 0.4769283516503953, 'colsample_bytree': 0.5446830185663993, 'learning_rate': 0.08479069977265144} because of the following error: The value nan is not acceptable..\n",
      "[W 2023-08-02 22:53:01,791] Trial 264 failed with value nan.\n",
      "[W 2023-08-02 22:53:02,692] Trial 265 failed with parameters: {'booster': 'gblinear', 'lambda': 0.07332853020741445, 'alpha': 2.468771016735005e-06, 'subsample': 0.4778397151072546, 'colsample_bytree': 0.545582316863695, 'learning_rate': 0.07178531238629503} because of the following error: The value nan is not acceptable..\n",
      "[W 2023-08-02 22:53:02,693] Trial 265 failed with value nan.\n",
      "[W 2023-08-02 22:53:03,538] Trial 266 failed with parameters: {'booster': 'gblinear', 'lambda': 0.003325252362048278, 'alpha': 2.0968221447062076e-06, 'subsample': 0.47648589274274206, 'colsample_bytree': 0.5393829001983786, 'learning_rate': 0.07158789619316938} because of the following error: The value nan is not acceptable..\n",
      "[W 2023-08-02 22:53:03,539] Trial 266 failed with value nan.\n",
      "[W 2023-08-02 22:53:04,395] Trial 267 failed with parameters: {'booster': 'gblinear', 'lambda': 0.07779096267416992, 'alpha': 2.165578311688644e-06, 'subsample': 0.43915823314415425, 'colsample_bytree': 0.5423538050392066, 'learning_rate': 0.12584223667221855} because of the following error: The value nan is not acceptable..\n",
      "[W 2023-08-02 22:53:04,396] Trial 267 failed with value nan.\n",
      "[W 2023-08-02 22:53:05,258] Trial 268 failed with parameters: {'booster': 'gblinear', 'lambda': 0.07591924046743163, 'alpha': 1.973368921217304e-06, 'subsample': 0.47969376535082947, 'colsample_bytree': 0.6309132608744371, 'learning_rate': 0.0834829791007064} because of the following error: The value nan is not acceptable..\n",
      "[W 2023-08-02 22:53:05,259] Trial 268 failed with value nan.\n",
      "[W 2023-08-02 22:53:06,097] Trial 269 failed with parameters: {'booster': 'gblinear', 'lambda': 0.003993818213315854, 'alpha': 2.1551813322026494e-06, 'subsample': 0.4777682407343914, 'colsample_bytree': 0.6324849316829654, 'learning_rate': 0.12745798342600115} because of the following error: The value nan is not acceptable..\n",
      "[W 2023-08-02 22:53:06,097] Trial 269 failed with value nan.\n",
      "[W 2023-08-02 22:53:06,957] Trial 270 failed with parameters: {'booster': 'gblinear', 'lambda': 0.003472662545680511, 'alpha': 1.978263226350089e-06, 'subsample': 0.5273553665527898, 'colsample_bytree': 0.5462667197574023, 'learning_rate': 0.0730656349347466} because of the following error: The value nan is not acceptable..\n",
      "[W 2023-08-02 22:53:06,958] Trial 270 failed with value nan.\n",
      "[W 2023-08-02 22:53:07,840] Trial 271 failed with parameters: {'booster': 'gblinear', 'lambda': 0.002896153943037696, 'alpha': 2.2338289629123277e-06, 'subsample': 0.4814992399261403, 'colsample_bytree': 0.5416692756262785, 'learning_rate': 0.07039348568327204} because of the following error: The value nan is not acceptable..\n",
      "[W 2023-08-02 22:53:07,841] Trial 271 failed with value nan.\n",
      "[W 2023-08-02 22:53:08,724] Trial 272 failed with parameters: {'booster': 'gblinear', 'lambda': 0.0035092602500491877, 'alpha': 2.321154477893411e-06, 'subsample': 0.437436588669647, 'colsample_bytree': 0.6296905183535448, 'learning_rate': 0.06805952119783878} because of the following error: The value nan is not acceptable..\n",
      "[W 2023-08-02 22:53:08,726] Trial 272 failed with value nan.\n",
      "[W 2023-08-02 22:53:09,597] Trial 273 failed with parameters: {'booster': 'gblinear', 'lambda': 0.0031475108828399006, 'alpha': 2.267571039067761e-06, 'subsample': 0.5257164639883517, 'colsample_bytree': 0.5481968866976863, 'learning_rate': 0.12655603741270705} because of the following error: The value nan is not acceptable..\n",
      "[W 2023-08-02 22:53:09,598] Trial 273 failed with value nan.\n",
      "[W 2023-08-02 22:53:10,600] Trial 274 failed with parameters: {'booster': 'gblinear', 'lambda': 0.0031291850428359523, 'alpha': 2.1469987034820346e-06, 'subsample': 0.4717390358597621, 'colsample_bytree': 0.5470878212386778, 'learning_rate': 0.06708924970636926} because of the following error: The value nan is not acceptable..\n",
      "[W 2023-08-02 22:53:10,601] Trial 274 failed with value nan.\n",
      "[W 2023-08-02 22:53:11,583] Trial 275 failed with parameters: {'booster': 'gblinear', 'lambda': 0.003453877900723257, 'alpha': 3.05760634031462e-06, 'subsample': 0.5297743002522147, 'colsample_bytree': 0.6270144324870105, 'learning_rate': 0.0695117148154366} because of the following error: The value nan is not acceptable..\n",
      "[W 2023-08-02 22:53:11,584] Trial 275 failed with value nan.\n",
      "[W 2023-08-02 22:53:12,575] Trial 276 failed with parameters: {'booster': 'gblinear', 'lambda': 0.00378778297784847, 'alpha': 1.870296199897661e-06, 'subsample': 0.47883830831782115, 'colsample_bytree': 0.5524569745772172, 'learning_rate': 0.08527888206908106} because of the following error: The value nan is not acceptable..\n",
      "[W 2023-08-02 22:53:12,576] Trial 276 failed with value nan.\n",
      "[W 2023-08-02 22:53:13,539] Trial 277 failed with parameters: {'booster': 'gblinear', 'lambda': 0.0038004973317027997, 'alpha': 1.8513434994049767e-05, 'subsample': 0.434509816479913, 'colsample_bytree': 0.5497210696817453, 'learning_rate': 0.0876886510092051} because of the following error: The value nan is not acceptable..\n",
      "[W 2023-08-02 22:53:13,540] Trial 277 failed with value nan.\n",
      "[W 2023-08-02 22:53:14,333] Trial 278 failed with parameters: {'booster': 'gblinear', 'lambda': 0.07953257492353552, 'alpha': 3.670494203844726e-06, 'subsample': 0.4782834745902682, 'colsample_bytree': 0.5467898215236087, 'learning_rate': 0.0726525073691234} because of the following error: The value nan is not acceptable..\n",
      "[W 2023-08-02 22:53:14,335] Trial 278 failed with value nan.\n",
      "[W 2023-08-02 22:53:15,117] Trial 279 failed with parameters: {'booster': 'gblinear', 'lambda': 0.07561495728088823, 'alpha': 2.303336806053659e-06, 'subsample': 0.4362776498792545, 'colsample_bytree': 0.5969308041126828, 'learning_rate': 0.08167795814111395} because of the following error: The value nan is not acceptable..\n",
      "[W 2023-08-02 22:53:15,119] Trial 279 failed with value nan.\n",
      "[I 2023-08-02 22:53:23,222] Trial 280 finished with value: 0.29970256167887355 and parameters: {'booster': 'dart', 'lambda': 0.07692169505494441, 'alpha': 3.999573196569937e-06, 'subsample': 0.43871347726881504, 'colsample_bytree': 0.5439735552171666, 'learning_rate': 0.0851060588207297, 'max_depth': 4, 'eta': 0.01211771213269172, 'gamma': 0.19328956649460677, 'grow_policy': 'depthwise', 'sample_type': 'weighted', 'normalize_type': 'forest', 'rate_drop': 7.267154143159432e-07, 'skip_drop': 2.7400489023291512e-06}. Best is trial 151 with value: 0.2729526115260718.\n",
      "[I 2023-08-02 22:53:30,932] Trial 281 finished with value: 0.2883549059975236 and parameters: {'booster': 'dart', 'lambda': 0.03239069726939329, 'alpha': 1.3513431983186426e-05, 'subsample': 0.5076913140625285, 'colsample_bytree': 0.5918917492671144, 'learning_rate': 0.10508390409942656, 'max_depth': 3, 'eta': 0.007897732511680333, 'gamma': 0.7134070659937615, 'grow_policy': 'depthwise', 'sample_type': 'weighted', 'normalize_type': 'forest', 'rate_drop': 1.7410737145548425e-06, 'skip_drop': 1.0764760476985638e-06}. Best is trial 151 with value: 0.2729526115260718.\n",
      "[W 2023-08-02 22:53:31,783] Trial 282 failed with parameters: {'booster': 'gblinear', 'lambda': 0.028972467349881265, 'alpha': 1.8036849493721237e-06, 'subsample': 0.47933203384659784, 'colsample_bytree': 0.5686209205804573, 'learning_rate': 0.1269361767086107} because of the following error: The value nan is not acceptable..\n",
      "[W 2023-08-02 22:53:31,784] Trial 282 failed with value nan.\n",
      "[W 2023-08-02 22:53:32,636] Trial 283 failed with parameters: {'booster': 'gblinear', 'lambda': 0.030567145017327945, 'alpha': 1.6828511067476253e-06, 'subsample': 0.4705814763154732, 'colsample_bytree': 0.5711896115297601, 'learning_rate': 0.12484856713413714} because of the following error: The value nan is not acceptable..\n",
      "[W 2023-08-02 22:53:32,637] Trial 283 failed with value nan.\n",
      "[W 2023-08-02 22:53:33,486] Trial 284 failed with parameters: {'booster': 'gblinear', 'lambda': 0.0294752868212673, 'alpha': 1.7949414051801285e-06, 'subsample': 0.5367748921825307, 'colsample_bytree': 0.5695138543253033, 'learning_rate': 0.06840146408600453} because of the following error: The value nan is not acceptable..\n",
      "[W 2023-08-02 22:53:33,487] Trial 284 failed with value nan.\n",
      "[W 2023-08-02 22:53:34,327] Trial 285 failed with parameters: {'booster': 'gblinear', 'lambda': 0.028257866524778987, 'alpha': 1.9307424455167885e-06, 'subsample': 0.4735394853493069, 'colsample_bytree': 0.5720493627534666, 'learning_rate': 0.12772037930510632} because of the following error: The value nan is not acceptable..\n",
      "[W 2023-08-02 22:53:34,328] Trial 285 failed with value nan.\n",
      "[W 2023-08-02 22:53:35,168] Trial 286 failed with parameters: {'booster': 'gblinear', 'lambda': 0.029491859207268042, 'alpha': 1.9018290868736302e-06, 'subsample': 0.4809497370439066, 'colsample_bytree': 0.5720293316067444, 'learning_rate': 0.12637430788256762} because of the following error: The value nan is not acceptable..\n",
      "[W 2023-08-02 22:53:35,170] Trial 286 failed with value nan.\n",
      "[W 2023-08-02 22:53:36,056] Trial 287 failed with parameters: {'booster': 'gblinear', 'lambda': 0.023370842351977932, 'alpha': 1.0760257889981162e-05, 'subsample': 0.5297285118564032, 'colsample_bytree': 0.5679479833190885, 'learning_rate': 0.12622787953759476} because of the following error: The value nan is not acceptable..\n",
      "[W 2023-08-02 22:53:36,058] Trial 287 failed with value nan.\n",
      "[W 2023-08-02 22:53:36,903] Trial 288 failed with parameters: {'booster': 'gblinear', 'lambda': 0.029424304884248218, 'alpha': 1.968452232135032e-06, 'subsample': 0.5259212638219926, 'colsample_bytree': 0.5729747941203351, 'learning_rate': 0.12674697102065544} because of the following error: The value nan is not acceptable..\n",
      "[W 2023-08-02 22:53:36,904] Trial 288 failed with value nan.\n",
      "[W 2023-08-02 22:53:37,765] Trial 289 failed with parameters: {'booster': 'gblinear', 'lambda': 0.0035771459761570023, 'alpha': 1.8029777554453846e-06, 'subsample': 0.47211842851180263, 'colsample_bytree': 0.5656628788397181, 'learning_rate': 0.12626698817032272} because of the following error: The value nan is not acceptable..\n",
      "[W 2023-08-02 22:53:37,766] Trial 289 failed with value nan.\n",
      "[W 2023-08-02 22:53:38,612] Trial 290 failed with parameters: {'booster': 'gblinear', 'lambda': 0.03235891303320017, 'alpha': 2.2175652190078896e-06, 'subsample': 0.4802367293868971, 'colsample_bytree': 0.6167141288520398, 'learning_rate': 0.12799891543423494} because of the following error: The value nan is not acceptable..\n",
      "[W 2023-08-02 22:53:38,613] Trial 290 failed with value nan.\n",
      "[W 2023-08-02 22:53:39,450] Trial 291 failed with parameters: {'booster': 'gblinear', 'lambda': 0.029551203754044665, 'alpha': 2.134721202316594e-06, 'subsample': 0.4748869939232732, 'colsample_bytree': 0.577260568985964, 'learning_rate': 0.12719127464232655} because of the following error: The value nan is not acceptable..\n",
      "[W 2023-08-02 22:53:39,451] Trial 291 failed with value nan.\n",
      "[W 2023-08-02 22:53:40,303] Trial 292 failed with parameters: {'booster': 'gblinear', 'lambda': 0.027843270004842182, 'alpha': 2.1351021542191775e-06, 'subsample': 0.4764502666744759, 'colsample_bytree': 0.5694719160379849, 'learning_rate': 0.1265138340417815} because of the following error: The value nan is not acceptable..\n",
      "[W 2023-08-02 22:53:40,305] Trial 292 failed with value nan.\n",
      "[W 2023-08-02 22:53:41,149] Trial 293 failed with parameters: {'booster': 'gblinear', 'lambda': 0.036260301570822676, 'alpha': 2.0655684375076797e-06, 'subsample': 0.4751650135416214, 'colsample_bytree': 0.5712818515884117, 'learning_rate': 0.12652105610610404} because of the following error: The value nan is not acceptable..\n",
      "[W 2023-08-02 22:53:41,150] Trial 293 failed with value nan.\n",
      "[W 2023-08-02 22:53:42,126] Trial 294 failed with parameters: {'booster': 'gblinear', 'lambda': 0.027477149073690237, 'alpha': 1.1610549783290434e-05, 'subsample': 0.4652603946637729, 'colsample_bytree': 0.5779783330088408, 'learning_rate': 0.12684949999347866} because of the following error: The value nan is not acceptable..\n",
      "[W 2023-08-02 22:53:42,127] Trial 294 failed with value nan.\n",
      "[W 2023-08-02 22:53:42,970] Trial 295 failed with parameters: {'booster': 'gblinear', 'lambda': 0.027451426236421096, 'alpha': 1.5938098634107337e-05, 'subsample': 0.4754320525020484, 'colsample_bytree': 0.5701992770765834, 'learning_rate': 0.12540500239245078} because of the following error: The value nan is not acceptable..\n",
      "[W 2023-08-02 22:53:42,972] Trial 295 failed with value nan.\n",
      "[W 2023-08-02 22:53:43,809] Trial 296 failed with parameters: {'booster': 'gblinear', 'lambda': 0.034633436587077245, 'alpha': 1.8420867017284312e-05, 'subsample': 0.47305654289444365, 'colsample_bytree': 0.5725910230993063, 'learning_rate': 0.12367101961048649} because of the following error: The value nan is not acceptable..\n",
      "[W 2023-08-02 22:53:43,810] Trial 296 failed with value nan.\n",
      "[W 2023-08-02 22:53:44,634] Trial 297 failed with parameters: {'booster': 'gblinear', 'lambda': 0.02593195996177843, 'alpha': 1.9072577968065786e-06, 'subsample': 0.48115258907594965, 'colsample_bytree': 0.5686297652391189, 'learning_rate': 0.12450927447379646} because of the following error: The value nan is not acceptable..\n",
      "[W 2023-08-02 22:53:44,636] Trial 297 failed with value nan.\n",
      "[W 2023-08-02 22:53:45,478] Trial 298 failed with parameters: {'booster': 'gblinear', 'lambda': 0.027124732162592986, 'alpha': 2.1811462956170195e-06, 'subsample': 0.4580700494678819, 'colsample_bytree': 0.5723155785564275, 'learning_rate': 0.12538249161442022} because of the following error: The value nan is not acceptable..\n",
      "[W 2023-08-02 22:53:45,479] Trial 298 failed with value nan.\n",
      "[W 2023-08-02 22:53:46,339] Trial 299 failed with parameters: {'booster': 'gblinear', 'lambda': 0.036072626554402555, 'alpha': 2.0861565750357123e-06, 'subsample': 0.5249327058036751, 'colsample_bytree': 0.5724802367259921, 'learning_rate': 0.1280284823739844} because of the following error: The value nan is not acceptable..\n",
      "[W 2023-08-02 22:53:46,340] Trial 299 failed with value nan.\n",
      "[I 2023-08-02 22:53:52,758] Trial 300 finished with value: 0.33518949109537005 and parameters: {'booster': 'dart', 'lambda': 0.02787568437318446, 'alpha': 2.0671709749247633e-06, 'subsample': 0.48165614547329566, 'colsample_bytree': 0.5734003479615153, 'learning_rate': 0.11147441342468017, 'max_depth': 1, 'eta': 0.006042865932172322, 'gamma': 0.4669820511551593, 'grow_policy': 'depthwise', 'sample_type': 'weighted', 'normalize_type': 'forest', 'rate_drop': 1.4839536938456783e-06, 'skip_drop': 3.963311252118375e-07}. Best is trial 151 with value: 0.2729526115260718.\n",
      "[W 2023-08-02 22:53:53,637] Trial 301 failed with parameters: {'booster': 'gblinear', 'lambda': 0.008932496915541105, 'alpha': 2.2988949897021844e-05, 'subsample': 0.5269787025852956, 'colsample_bytree': 0.625881971221472, 'learning_rate': 0.13011596369395478} because of the following error: The value nan is not acceptable..\n",
      "[W 2023-08-02 22:53:53,638] Trial 301 failed with value nan.\n",
      "[W 2023-08-02 22:53:54,486] Trial 302 failed with parameters: {'booster': 'gblinear', 'lambda': 0.004335038596915029, 'alpha': 1.8952471142450693e-05, 'subsample': 0.5156342400355535, 'colsample_bytree': 0.6239821911123014, 'learning_rate': 0.06869388153403272} because of the following error: The value nan is not acceptable..\n",
      "[W 2023-08-02 22:53:54,488] Trial 302 failed with value nan.\n",
      "[W 2023-08-02 22:53:55,329] Trial 303 failed with parameters: {'booster': 'gblinear', 'lambda': 0.00962879079469798, 'alpha': 1.613432014482837e-05, 'subsample': 0.5260956101676265, 'colsample_bytree': 0.6177359841714205, 'learning_rate': 0.0707020943560568} because of the following error: The value nan is not acceptable..\n",
      "[W 2023-08-02 22:53:55,331] Trial 303 failed with value nan.\n",
      "[W 2023-08-02 22:53:56,179] Trial 304 failed with parameters: {'booster': 'gblinear', 'lambda': 0.0038996741292533278, 'alpha': 1.662155520169307e-05, 'subsample': 0.5304401269471979, 'colsample_bytree': 0.6316803795355811, 'learning_rate': 0.12324877765277362} because of the following error: The value nan is not acceptable..\n",
      "[W 2023-08-02 22:53:56,181] Trial 304 failed with value nan.\n",
      "[I 2023-08-02 22:54:03,373] Trial 305 finished with value: 0.29507748336422496 and parameters: {'booster': 'dart', 'lambda': 0.0035526149191596537, 'alpha': 2.0934159151905447e-05, 'subsample': 0.5219476395370587, 'colsample_bytree': 0.6292937337372685, 'learning_rate': 0.07255665254174082, 'max_depth': 2, 'eta': 0.008634367088908105, 'gamma': 0.16695964798125268, 'grow_policy': 'depthwise', 'sample_type': 'weighted', 'normalize_type': 'forest', 'rate_drop': 4.555984691592875e-06, 'skip_drop': 8.591598650991824e-06}. Best is trial 151 with value: 0.2729526115260718.\n",
      "[W 2023-08-02 22:54:04,203] Trial 306 failed with parameters: {'booster': 'gblinear', 'lambda': 0.008638810705899964, 'alpha': 6.502257148710274e-06, 'subsample': 0.4608516746139619, 'colsample_bytree': 0.6087280335656328, 'learning_rate': 0.1281368271268042} because of the following error: The value nan is not acceptable..\n",
      "[W 2023-08-02 22:54:04,205] Trial 306 failed with value nan.\n",
      "[W 2023-08-02 22:54:05,050] Trial 307 failed with parameters: {'booster': 'gblinear', 'lambda': 0.008932516545842503, 'alpha': 7.074435639673772e-06, 'subsample': 0.4671245531420349, 'colsample_bytree': 0.6067958916816286, 'learning_rate': 0.12863049446594008} because of the following error: The value nan is not acceptable..\n",
      "[W 2023-08-02 22:54:05,053] Trial 307 failed with value nan.\n",
      "[W 2023-08-02 22:54:05,939] Trial 308 failed with parameters: {'booster': 'gblinear', 'lambda': 0.008913829973447985, 'alpha': 7.118271017319545e-06, 'subsample': 0.4699106094078644, 'colsample_bytree': 0.6030595941069078, 'learning_rate': 0.125302038938936} because of the following error: The value nan is not acceptable..\n",
      "[W 2023-08-02 22:54:05,941] Trial 308 failed with value nan.\n",
      "[W 2023-08-02 22:54:06,724] Trial 309 failed with parameters: {'booster': 'gblinear', 'lambda': 0.05356459017517243, 'alpha': 7.331482313648094e-06, 'subsample': 0.47129280935468276, 'colsample_bytree': 0.6065812897046016, 'learning_rate': 0.12660776732326756} because of the following error: The value nan is not acceptable..\n",
      "[W 2023-08-02 22:54:06,726] Trial 309 failed with value nan.\n",
      "[W 2023-08-02 22:54:07,519] Trial 310 failed with parameters: {'booster': 'gblinear', 'lambda': 0.008359031588662953, 'alpha': 9.338986075120464e-06, 'subsample': 0.4673393479367465, 'colsample_bytree': 0.5972070058303101, 'learning_rate': 0.12606487781478282} because of the following error: The value nan is not acceptable..\n",
      "[W 2023-08-02 22:54:07,521] Trial 310 failed with value nan.\n",
      "[W 2023-08-02 22:54:08,297] Trial 311 failed with parameters: {'booster': 'gblinear', 'lambda': 0.009564177211631383, 'alpha': 8.972734271123997e-06, 'subsample': 0.46381929014859036, 'colsample_bytree': 0.6060930993354294, 'learning_rate': 0.12427856614297461} because of the following error: The value nan is not acceptable..\n",
      "[W 2023-08-02 22:54:08,298] Trial 311 failed with value nan.\n",
      "[W 2023-08-02 22:54:09,078] Trial 312 failed with parameters: {'booster': 'gblinear', 'lambda': 0.009866751218444388, 'alpha': 6.1466595446075485e-06, 'subsample': 0.4731878749006439, 'colsample_bytree': 0.6089076534611454, 'learning_rate': 0.1270555492562767} because of the following error: The value nan is not acceptable..\n",
      "[W 2023-08-02 22:54:09,080] Trial 312 failed with value nan.\n",
      "[W 2023-08-02 22:54:09,880] Trial 313 failed with parameters: {'booster': 'gblinear', 'lambda': 0.008450421623240919, 'alpha': 7.2960931572958415e-06, 'subsample': 0.472546895265863, 'colsample_bytree': 0.6027275505518983, 'learning_rate': 0.1257032667523133} because of the following error: The value nan is not acceptable..\n",
      "[W 2023-08-02 22:54:09,881] Trial 313 failed with value nan.\n",
      "[W 2023-08-02 22:54:10,729] Trial 314 failed with parameters: {'booster': 'gblinear', 'lambda': 0.010650850066678687, 'alpha': 8.121106124777193e-06, 'subsample': 0.46048865095781916, 'colsample_bytree': 0.5686451247651136, 'learning_rate': 0.12258453808509509} because of the following error: The value nan is not acceptable..\n",
      "[W 2023-08-02 22:54:10,730] Trial 314 failed with value nan.\n",
      "[W 2023-08-02 22:54:11,565] Trial 315 failed with parameters: {'booster': 'gblinear', 'lambda': 0.011570128992646608, 'alpha': 7.412881469371647e-06, 'subsample': 0.474767428706893, 'colsample_bytree': 0.5628106844018069, 'learning_rate': 0.12492101706509151} because of the following error: The value nan is not acceptable..\n",
      "[W 2023-08-02 22:54:11,567] Trial 315 failed with value nan.\n",
      "[W 2023-08-02 22:54:12,429] Trial 316 failed with parameters: {'booster': 'gblinear', 'lambda': 0.008611164731655536, 'alpha': 8.561748630906537e-06, 'subsample': 0.4514002115089095, 'colsample_bytree': 0.6095473756145182, 'learning_rate': 0.12779673657101168} because of the following error: The value nan is not acceptable..\n",
      "[W 2023-08-02 22:54:12,430] Trial 316 failed with value nan.\n",
      "[I 2023-08-02 22:54:20,049] Trial 317 finished with value: 0.2987184455433893 and parameters: {'booster': 'dart', 'lambda': 0.008961009103526875, 'alpha': 7.30277071428418e-06, 'subsample': 0.47400687384319395, 'colsample_bytree': 0.5708014458250931, 'learning_rate': 0.1262734311714008, 'max_depth': 3, 'eta': 0.005403229725458683, 'gamma': 0.22731394771282432, 'grow_policy': 'depthwise', 'sample_type': 'weighted', 'normalize_type': 'forest', 'rate_drop': 4.708353978232386e-07, 'skip_drop': 2.277017617762924e-05}. Best is trial 151 with value: 0.2729526115260718.\n",
      "[W 2023-08-02 22:54:20,889] Trial 318 failed with parameters: {'booster': 'gblinear', 'lambda': 0.07940594157959893, 'alpha': 1.6195715204688759e-06, 'subsample': 0.3819944288593804, 'colsample_bytree': 0.6061141932553946, 'learning_rate': 0.09784741411307675} because of the following error: The value nan is not acceptable..\n",
      "[W 2023-08-02 22:54:20,890] Trial 318 failed with value nan.\n",
      "[W 2023-08-02 22:54:21,740] Trial 319 failed with parameters: {'booster': 'gblinear', 'lambda': 0.05310017783847449, 'alpha': 1.5266837988002142e-05, 'subsample': 0.4546035151312506, 'colsample_bytree': 0.5476159459671534, 'learning_rate': 0.09721044439020239} because of the following error: The value nan is not acceptable..\n",
      "[W 2023-08-02 22:54:21,741] Trial 319 failed with value nan.\n",
      "[W 2023-08-02 22:54:22,583] Trial 320 failed with parameters: {'booster': 'gblinear', 'lambda': 0.0476184456503989, 'alpha': 1.7108437933933963e-06, 'subsample': 0.44853928263110854, 'colsample_bytree': 0.6056018709709909, 'learning_rate': 0.1371230062481871} because of the following error: The value nan is not acceptable..\n",
      "[W 2023-08-02 22:54:22,584] Trial 320 failed with value nan.\n",
      "[W 2023-08-02 22:54:23,406] Trial 321 failed with parameters: {'booster': 'gblinear', 'lambda': 0.05286943447862525, 'alpha': 1.423219443950743e-05, 'subsample': 0.4504693792407802, 'colsample_bytree': 0.6008333573873399, 'learning_rate': 0.09753950912996048} because of the following error: The value nan is not acceptable..\n",
      "[W 2023-08-02 22:54:23,407] Trial 321 failed with value nan.\n",
      "[W 2023-08-02 22:54:24,239] Trial 322 failed with parameters: {'booster': 'gblinear', 'lambda': 0.04690652838915859, 'alpha': 1.768292273461684e-05, 'subsample': 0.44509654676094407, 'colsample_bytree': 0.6052830724774054, 'learning_rate': 0.09583148488829916} because of the following error: The value nan is not acceptable..\n",
      "[W 2023-08-02 22:54:24,241] Trial 322 failed with value nan.\n",
      "[W 2023-08-02 22:54:25,090] Trial 323 failed with parameters: {'booster': 'gblinear', 'lambda': 0.05351124671666895, 'alpha': 1.425951021191701e-05, 'subsample': 0.4544877208532682, 'colsample_bytree': 0.6054479884305786, 'learning_rate': 0.12516021204657943} because of the following error: The value nan is not acceptable..\n",
      "[W 2023-08-02 22:54:25,092] Trial 323 failed with value nan.\n",
      "[W 2023-08-02 22:54:25,984] Trial 324 failed with parameters: {'booster': 'gblinear', 'lambda': 0.05564770093483707, 'alpha': 1.3027402582333605e-05, 'subsample': 0.4501827266797922, 'colsample_bytree': 0.6047335817401842, 'learning_rate': 0.09814572334546212} because of the following error: The value nan is not acceptable..\n",
      "[W 2023-08-02 22:54:25,985] Trial 324 failed with value nan.\n",
      "[W 2023-08-02 22:54:26,808] Trial 325 failed with parameters: {'booster': 'gblinear', 'lambda': 0.08358530064894797, 'alpha': 1.7865809497495327e-06, 'subsample': 0.45304589357436165, 'colsample_bytree': 0.6032531553748305, 'learning_rate': 0.09748739128693959} because of the following error: The value nan is not acceptable..\n",
      "[W 2023-08-02 22:54:26,810] Trial 325 failed with value nan.\n",
      "[W 2023-08-02 22:54:27,636] Trial 326 failed with parameters: {'booster': 'gblinear', 'lambda': 0.05039624253922815, 'alpha': 1.822889629941096e-06, 'subsample': 0.4534183110550615, 'colsample_bytree': 0.6111924650525913, 'learning_rate': 0.13712157055338597} because of the following error: The value nan is not acceptable..\n",
      "[W 2023-08-02 22:54:27,637] Trial 326 failed with value nan.\n",
      "[W 2023-08-02 22:54:28,486] Trial 327 failed with parameters: {'booster': 'gblinear', 'lambda': 0.06284153805221437, 'alpha': 1.5437457473933994e-05, 'subsample': 0.45844953767674806, 'colsample_bytree': 0.6027607233747542, 'learning_rate': 0.1374743759873887} because of the following error: The value nan is not acceptable..\n",
      "[W 2023-08-02 22:54:28,487] Trial 327 failed with value nan.\n",
      "[W 2023-08-02 22:54:29,316] Trial 328 failed with parameters: {'booster': 'gblinear', 'lambda': 0.051009597103971675, 'alpha': 1.584154597325816e-06, 'subsample': 0.4525761479898839, 'colsample_bytree': 0.5998622729141506, 'learning_rate': 0.1349226829555361} because of the following error: The value nan is not acceptable..\n",
      "[W 2023-08-02 22:54:29,318] Trial 328 failed with value nan.\n",
      "[W 2023-08-02 22:54:30,139] Trial 329 failed with parameters: {'booster': 'gblinear', 'lambda': 0.058239366921035284, 'alpha': 1.7033533013476663e-05, 'subsample': 0.4500673138686532, 'colsample_bytree': 0.6197225538867409, 'learning_rate': 0.13626738745206027} because of the following error: The value nan is not acceptable..\n",
      "[W 2023-08-02 22:54:30,140] Trial 329 failed with value nan.\n",
      "[W 2023-08-02 22:54:30,962] Trial 330 failed with parameters: {'booster': 'gblinear', 'lambda': 0.052111302874331716, 'alpha': 1.2763564773929875e-05, 'subsample': 0.4576376052839136, 'colsample_bytree': 0.6032589155746132, 'learning_rate': 0.09944195917002346} because of the following error: The value nan is not acceptable..\n",
      "[W 2023-08-02 22:54:30,964] Trial 330 failed with value nan.\n",
      "[W 2023-08-02 22:54:31,805] Trial 331 failed with parameters: {'booster': 'gblinear', 'lambda': 0.05168877114934499, 'alpha': 1.3272361332622564e-05, 'subsample': 0.4444476231139093, 'colsample_bytree': 0.618083568135296, 'learning_rate': 0.09875166332681581} because of the following error: The value nan is not acceptable..\n",
      "[W 2023-08-02 22:54:31,807] Trial 331 failed with value nan.\n",
      "[W 2023-08-02 22:54:32,687] Trial 332 failed with parameters: {'booster': 'gblinear', 'lambda': 0.04667881626653984, 'alpha': 1.3147944889289317e-05, 'subsample': 0.4586663952926636, 'colsample_bytree': 0.6154907676788066, 'learning_rate': 0.13751226897190028} because of the following error: The value nan is not acceptable..\n",
      "[W 2023-08-02 22:54:32,690] Trial 332 failed with value nan.\n",
      "[W 2023-08-02 22:54:33,516] Trial 333 failed with parameters: {'booster': 'gblinear', 'lambda': 0.07526485576250577, 'alpha': 1.5376225023192099e-06, 'subsample': 0.4527828252321634, 'colsample_bytree': 0.602153234861037, 'learning_rate': 0.09667311974973569} because of the following error: The value nan is not acceptable..\n",
      "[W 2023-08-02 22:54:33,518] Trial 333 failed with value nan.\n",
      "[W 2023-08-02 22:54:34,345] Trial 334 failed with parameters: {'booster': 'gblinear', 'lambda': 0.0532053553407027, 'alpha': 1.470671846784838e-05, 'subsample': 0.44106923960832173, 'colsample_bytree': 0.6058666521775071, 'learning_rate': 0.10027700316481433} because of the following error: The value nan is not acceptable..\n",
      "[W 2023-08-02 22:54:34,346] Trial 334 failed with value nan.\n",
      "[W 2023-08-02 22:54:35,161] Trial 335 failed with parameters: {'booster': 'gblinear', 'lambda': 0.06101956010606895, 'alpha': 1.313086726452827e-05, 'subsample': 0.38363592293857757, 'colsample_bytree': 0.6024672141322308, 'learning_rate': 0.09905647184958052} because of the following error: The value nan is not acceptable..\n",
      "[W 2023-08-02 22:54:35,162] Trial 335 failed with value nan.\n",
      "[W 2023-08-02 22:54:35,992] Trial 336 failed with parameters: {'booster': 'gblinear', 'lambda': 0.05203922519245288, 'alpha': 1.3920771634696466e-05, 'subsample': 0.4490124791963296, 'colsample_bytree': 0.5973579957218115, 'learning_rate': 0.0975827540877629} because of the following error: The value nan is not acceptable..\n",
      "[W 2023-08-02 22:54:35,994] Trial 336 failed with value nan.\n",
      "[W 2023-08-02 22:54:36,821] Trial 337 failed with parameters: {'booster': 'gblinear', 'lambda': 0.043160854478387106, 'alpha': 1.6853466164230111e-06, 'subsample': 0.449867404279961, 'colsample_bytree': 0.6007472350372237, 'learning_rate': 0.09966891238378817} because of the following error: The value nan is not acceptable..\n",
      "[W 2023-08-02 22:54:36,823] Trial 337 failed with value nan.\n",
      "[W 2023-08-02 22:54:37,725] Trial 338 failed with parameters: {'booster': 'gblinear', 'lambda': 0.06856506915913223, 'alpha': 1.3047327372804652e-05, 'subsample': 0.463616284110323, 'colsample_bytree': 0.5988989475902117, 'learning_rate': 0.13597100755347383} because of the following error: The value nan is not acceptable..\n",
      "[W 2023-08-02 22:54:37,726] Trial 338 failed with value nan.\n",
      "[W 2023-08-02 22:54:38,607] Trial 339 failed with parameters: {'booster': 'gblinear', 'lambda': 0.049410604087634216, 'alpha': 1.3537402655721043e-05, 'subsample': 0.4614941229952454, 'colsample_bytree': 0.6110767605493588, 'learning_rate': 0.0983852298525011} because of the following error: The value nan is not acceptable..\n",
      "[W 2023-08-02 22:54:38,610] Trial 339 failed with value nan.\n",
      "[W 2023-08-02 22:54:39,435] Trial 340 failed with parameters: {'booster': 'gblinear', 'lambda': 0.06353459555647034, 'alpha': 1.5442141694608787e-05, 'subsample': 0.44837270564633525, 'colsample_bytree': 0.6078806767050304, 'learning_rate': 0.13631346272438724} because of the following error: The value nan is not acceptable..\n",
      "[W 2023-08-02 22:54:39,436] Trial 340 failed with value nan.\n",
      "[W 2023-08-02 22:54:40,285] Trial 341 failed with parameters: {'booster': 'gblinear', 'lambda': 0.0681193919223033, 'alpha': 1.4569403831771192e-05, 'subsample': 0.4489841427290864, 'colsample_bytree': 0.6061363945651117, 'learning_rate': 0.095344243264254} because of the following error: The value nan is not acceptable..\n",
      "[W 2023-08-02 22:54:40,286] Trial 341 failed with value nan.\n",
      "[W 2023-08-02 22:54:41,116] Trial 342 failed with parameters: {'booster': 'gblinear', 'lambda': 0.0503742620637528, 'alpha': 1.6733160220682141e-06, 'subsample': 0.4526166119197804, 'colsample_bytree': 0.6001801285571224, 'learning_rate': 0.13669203167895316} because of the following error: The value nan is not acceptable..\n",
      "[W 2023-08-02 22:54:41,117] Trial 342 failed with value nan.\n",
      "[W 2023-08-02 22:54:41,991] Trial 343 failed with parameters: {'booster': 'gblinear', 'lambda': 0.05357099270874074, 'alpha': 1.6417118892213286e-06, 'subsample': 0.45485831390720055, 'colsample_bytree': 0.6021120019028731, 'learning_rate': 0.13574844863646104} because of the following error: The value nan is not acceptable..\n",
      "[W 2023-08-02 22:54:41,992] Trial 343 failed with value nan.\n",
      "[W 2023-08-02 22:54:42,826] Trial 344 failed with parameters: {'booster': 'gblinear', 'lambda': 0.05714695763699926, 'alpha': 1.5498720704694761e-06, 'subsample': 0.44950544345799603, 'colsample_bytree': 0.5961805280074313, 'learning_rate': 0.0987145310159463} because of the following error: The value nan is not acceptable..\n",
      "[W 2023-08-02 22:54:42,827] Trial 344 failed with value nan.\n",
      "[W 2023-08-02 22:54:43,702] Trial 345 failed with parameters: {'booster': 'gblinear', 'lambda': 0.054545295547333984, 'alpha': 1.675034594943312e-06, 'subsample': 0.3823759846513091, 'colsample_bytree': 0.6129444995503793, 'learning_rate': 0.0961830797593105} because of the following error: The value nan is not acceptable..\n",
      "[W 2023-08-02 22:54:43,704] Trial 345 failed with value nan.\n",
      "[W 2023-08-02 22:54:44,537] Trial 346 failed with parameters: {'booster': 'gblinear', 'lambda': 0.05736945322269516, 'alpha': 1.5068665622122236e-05, 'subsample': 0.45017247703124524, 'colsample_bytree': 0.601664752475365, 'learning_rate': 0.09600218422091886} because of the following error: The value nan is not acceptable..\n",
      "[W 2023-08-02 22:54:44,539] Trial 346 failed with value nan.\n",
      "[W 2023-08-02 22:54:45,388] Trial 347 failed with parameters: {'booster': 'gblinear', 'lambda': 0.05230809262764436, 'alpha': 1.6075662584410618e-05, 'subsample': 0.45011630098836913, 'colsample_bytree': 0.6096599714112212, 'learning_rate': 0.09696258219675712} because of the following error: The value nan is not acceptable..\n",
      "[W 2023-08-02 22:54:45,389] Trial 347 failed with value nan.\n",
      "[W 2023-08-02 22:54:46,196] Trial 348 failed with parameters: {'booster': 'gblinear', 'lambda': 0.048078178373436614, 'alpha': 1.4858933957219878e-05, 'subsample': 0.4533999071414216, 'colsample_bytree': 0.6170926618908885, 'learning_rate': 0.13478695629256773} because of the following error: The value nan is not acceptable..\n",
      "[W 2023-08-02 22:54:46,198] Trial 348 failed with value nan.\n",
      "[W 2023-08-02 22:54:47,007] Trial 349 failed with parameters: {'booster': 'gblinear', 'lambda': 0.06387187303175039, 'alpha': 1.6728147258173074e-06, 'subsample': 0.4618395291768151, 'colsample_bytree': 0.6136686849392738, 'learning_rate': 0.13873707103202687} because of the following error: The value nan is not acceptable..\n",
      "[W 2023-08-02 22:54:47,008] Trial 349 failed with value nan.\n",
      "[W 2023-08-02 22:54:47,789] Trial 350 failed with parameters: {'booster': 'gblinear', 'lambda': 0.05490750385609194, 'alpha': 2.358606983691951e-06, 'subsample': 0.451301490177427, 'colsample_bytree': 0.6051376282513057, 'learning_rate': 0.09406003381849495} because of the following error: The value nan is not acceptable..\n",
      "[W 2023-08-02 22:54:47,790] Trial 350 failed with value nan.\n",
      "[W 2023-08-02 22:54:48,582] Trial 351 failed with parameters: {'booster': 'gblinear', 'lambda': 0.04410387273649297, 'alpha': 1.6351513053754813e-06, 'subsample': 0.45914499930646774, 'colsample_bytree': 0.6061028360070979, 'learning_rate': 0.09841595219361521} because of the following error: The value nan is not acceptable..\n",
      "[W 2023-08-02 22:54:48,584] Trial 351 failed with value nan.\n",
      "[W 2023-08-02 22:54:49,390] Trial 352 failed with parameters: {'booster': 'gblinear', 'lambda': 0.044332517333503366, 'alpha': 1.5708983760961288e-06, 'subsample': 0.44871051632609005, 'colsample_bytree': 0.6078775121042459, 'learning_rate': 0.09432570744351101} because of the following error: The value nan is not acceptable..\n",
      "[W 2023-08-02 22:54:49,391] Trial 352 failed with value nan.\n",
      "[W 2023-08-02 22:54:50,230] Trial 353 failed with parameters: {'booster': 'gblinear', 'lambda': 0.04764386459861738, 'alpha': 1.6444956341421826e-05, 'subsample': 0.45388786482877747, 'colsample_bytree': 0.6060779301084721, 'learning_rate': 0.0978338933203597} because of the following error: The value nan is not acceptable..\n",
      "[W 2023-08-02 22:54:50,231] Trial 353 failed with value nan.\n",
      "[W 2023-08-02 22:54:51,083] Trial 354 failed with parameters: {'booster': 'gblinear', 'lambda': 0.052400539112609994, 'alpha': 1.5240906474045734e-06, 'subsample': 0.4582469546385868, 'colsample_bytree': 0.6026366785184472, 'learning_rate': 0.13693120705665734} because of the following error: The value nan is not acceptable..\n",
      "[W 2023-08-02 22:54:51,084] Trial 354 failed with value nan.\n",
      "[W 2023-08-02 22:54:51,940] Trial 355 failed with parameters: {'booster': 'gblinear', 'lambda': 0.054953350837766986, 'alpha': 1.587702180488399e-05, 'subsample': 0.5300013427264028, 'colsample_bytree': 0.604173928207061, 'learning_rate': 0.09637708735726587} because of the following error: The value nan is not acceptable..\n",
      "[W 2023-08-02 22:54:51,940] Trial 355 failed with value nan.\n",
      "[W 2023-08-02 22:54:52,782] Trial 356 failed with parameters: {'booster': 'gblinear', 'lambda': 0.07687940374812245, 'alpha': 1.6121327470435063e-05, 'subsample': 0.45337523522850887, 'colsample_bytree': 0.6024215678141869, 'learning_rate': 0.13543882599232046} because of the following error: The value nan is not acceptable..\n",
      "[W 2023-08-02 22:54:52,783] Trial 356 failed with value nan.\n",
      "[W 2023-08-02 22:54:53,632] Trial 357 failed with parameters: {'booster': 'gblinear', 'lambda': 0.04810293956710894, 'alpha': 1.5295231503188034e-05, 'subsample': 0.45586575997825346, 'colsample_bytree': 0.6085379228686092, 'learning_rate': 0.09830323264992417} because of the following error: The value nan is not acceptable..\n",
      "[W 2023-08-02 22:54:53,633] Trial 357 failed with value nan.\n",
      "[W 2023-08-02 22:54:54,460] Trial 358 failed with parameters: {'booster': 'gblinear', 'lambda': 0.05649164219340127, 'alpha': 1.2271738726844417e-05, 'subsample': 0.448351471334185, 'colsample_bytree': 0.6036971782073024, 'learning_rate': 0.09671920723334282} because of the following error: The value nan is not acceptable..\n",
      "[W 2023-08-02 22:54:54,462] Trial 358 failed with value nan.\n",
      "[W 2023-08-02 22:54:55,302] Trial 359 failed with parameters: {'booster': 'gblinear', 'lambda': 0.06849598442470863, 'alpha': 1.528740117053433e-05, 'subsample': 0.4536336335643272, 'colsample_bytree': 0.6204592745786378, 'learning_rate': 0.10110716438556436} because of the following error: The value nan is not acceptable..\n",
      "[W 2023-08-02 22:54:55,303] Trial 359 failed with value nan.\n",
      "[W 2023-08-02 22:54:56,184] Trial 360 failed with parameters: {'booster': 'gblinear', 'lambda': 0.0733177485096021, 'alpha': 1.7698191651515682e-06, 'subsample': 0.3845165718909693, 'colsample_bytree': 0.6137324398911747, 'learning_rate': 0.13772219501580885} because of the following error: The value nan is not acceptable..\n",
      "[W 2023-08-02 22:54:56,185] Trial 360 failed with value nan.\n",
      "[W 2023-08-02 22:54:57,033] Trial 361 failed with parameters: {'booster': 'gblinear', 'lambda': 0.04853000243023708, 'alpha': 1.4550137792865716e-05, 'subsample': 0.45340508164480164, 'colsample_bytree': 0.6093001900837163, 'learning_rate': 0.1366485150186483} because of the following error: The value nan is not acceptable..\n",
      "[W 2023-08-02 22:54:57,034] Trial 361 failed with value nan.\n",
      "[W 2023-08-02 22:54:57,877] Trial 362 failed with parameters: {'booster': 'gblinear', 'lambda': 0.05272833267979205, 'alpha': 2.322370375606259e-06, 'subsample': 0.4511017071796451, 'colsample_bytree': 0.6058196053722542, 'learning_rate': 0.13545203605717399} because of the following error: The value nan is not acceptable..\n",
      "[W 2023-08-02 22:54:57,879] Trial 362 failed with value nan.\n",
      "[W 2023-08-02 22:54:58,708] Trial 363 failed with parameters: {'booster': 'gblinear', 'lambda': 0.05548365580039908, 'alpha': 1.711641289807604e-06, 'subsample': 0.4522040039530752, 'colsample_bytree': 0.6112088590428133, 'learning_rate': 0.13791298286295497} because of the following error: The value nan is not acceptable..\n",
      "[W 2023-08-02 22:54:58,710] Trial 363 failed with value nan.\n",
      "[W 2023-08-02 22:54:59,540] Trial 364 failed with parameters: {'booster': 'gblinear', 'lambda': 0.05461977842256673, 'alpha': 1.3892552741515766e-05, 'subsample': 0.4528655058368211, 'colsample_bytree': 0.6042290507208266, 'learning_rate': 0.09553893301017426} because of the following error: The value nan is not acceptable..\n",
      "[W 2023-08-02 22:54:59,541] Trial 364 failed with value nan.\n",
      "[W 2023-08-02 22:55:00,391] Trial 365 failed with parameters: {'booster': 'gblinear', 'lambda': 0.04882286546492856, 'alpha': 1.7380720946151673e-06, 'subsample': 0.44976221658372395, 'colsample_bytree': 0.6058993274073623, 'learning_rate': 0.1367876937656024} because of the following error: The value nan is not acceptable..\n",
      "[W 2023-08-02 22:55:00,392] Trial 365 failed with value nan.\n",
      "[W 2023-08-02 22:55:01,226] Trial 366 failed with parameters: {'booster': 'gblinear', 'lambda': 0.05745466580058774, 'alpha': 1.2660024632450243e-05, 'subsample': 0.4521974541084448, 'colsample_bytree': 0.60292673952879, 'learning_rate': 0.10139552251006481} because of the following error: The value nan is not acceptable..\n",
      "[W 2023-08-02 22:55:01,227] Trial 366 failed with value nan.\n",
      "[W 2023-08-02 22:55:02,083] Trial 367 failed with parameters: {'booster': 'gblinear', 'lambda': 0.04971039576627521, 'alpha': 1.3801226636718277e-05, 'subsample': 0.45304014768875095, 'colsample_bytree': 0.6029834675615364, 'learning_rate': 0.13679410794042118} because of the following error: The value nan is not acceptable..\n",
      "[W 2023-08-02 22:55:02,084] Trial 367 failed with value nan.\n",
      "[I 2023-08-02 22:55:03,482] Trial 368 finished with value: 0.3107226679234301 and parameters: {'booster': 'gbtree', 'lambda': 0.04724602112121549, 'alpha': 1.779145327340867e-06, 'subsample': 0.4518650231263683, 'colsample_bytree': 0.6052399471148548, 'learning_rate': 0.13347179131396922, 'max_depth': 5, 'eta': 0.003683723331388952, 'gamma': 0.5379196159370576, 'grow_policy': 'depthwise'}. Best is trial 151 with value: 0.2729526115260718.\n",
      "[W 2023-08-02 22:55:04,349] Trial 369 failed with parameters: {'booster': 'gblinear', 'lambda': 0.08965797528514348, 'alpha': 1.4001772592182548e-05, 'subsample': 0.3865694910023327, 'colsample_bytree': 0.5481075850359818, 'learning_rate': 0.09708359263869248} because of the following error: The value nan is not acceptable..\n",
      "[W 2023-08-02 22:55:04,351] Trial 369 failed with value nan.\n",
      "[W 2023-08-02 22:55:05,216] Trial 370 failed with parameters: {'booster': 'gblinear', 'lambda': 0.07497218777155208, 'alpha': 1.8934059806495668e-05, 'subsample': 0.3914286554307475, 'colsample_bytree': 0.5531619724321487, 'learning_rate': 0.10020741744239395} because of the following error: The value nan is not acceptable..\n",
      "[W 2023-08-02 22:55:05,218] Trial 370 failed with value nan.\n",
      "[W 2023-08-02 22:55:06,049] Trial 371 failed with parameters: {'booster': 'gblinear', 'lambda': 0.09400471341396546, 'alpha': 1.3907355395983045e-05, 'subsample': 0.3886271344019335, 'colsample_bytree': 0.6208065308725276, 'learning_rate': 0.0980191765836228} because of the following error: The value nan is not acceptable..\n",
      "[W 2023-08-02 22:55:06,051] Trial 371 failed with value nan.\n",
      "[W 2023-08-02 22:55:06,879] Trial 372 failed with parameters: {'booster': 'gblinear', 'lambda': 0.08780624278525322, 'alpha': 1.756175445522699e-05, 'subsample': 0.3865250760463092, 'colsample_bytree': 0.5480286742029479, 'learning_rate': 0.09790062878965414} because of the following error: The value nan is not acceptable..\n",
      "[W 2023-08-02 22:55:06,881] Trial 372 failed with value nan.\n",
      "[W 2023-08-02 22:55:07,716] Trial 373 failed with parameters: {'booster': 'gblinear', 'lambda': 0.07652941570518429, 'alpha': 1.525429552081074e-05, 'subsample': 0.38557780893766985, 'colsample_bytree': 0.5496461916735919, 'learning_rate': 0.0966709513906146} because of the following error: The value nan is not acceptable..\n",
      "[W 2023-08-02 22:55:07,717] Trial 373 failed with value nan.\n",
      "[W 2023-08-02 22:55:08,614] Trial 374 failed with parameters: {'booster': 'gblinear', 'lambda': 0.01876433482100908, 'alpha': 1.5998731263936667e-05, 'subsample': 0.5295519178476421, 'colsample_bytree': 0.5459849854834237, 'learning_rate': 0.09523725807783495} because of the following error: The value nan is not acceptable..\n",
      "[W 2023-08-02 22:55:08,615] Trial 374 failed with value nan.\n",
      "[W 2023-08-02 22:55:09,453] Trial 375 failed with parameters: {'booster': 'gblinear', 'lambda': 0.09823486754889797, 'alpha': 1.4012920751436782e-05, 'subsample': 0.3812726396731004, 'colsample_bytree': 0.549563348229199, 'learning_rate': 0.09628122066369973} because of the following error: The value nan is not acceptable..\n",
      "[W 2023-08-02 22:55:09,454] Trial 375 failed with value nan.\n",
      "[W 2023-08-02 22:55:10,310] Trial 376 failed with parameters: {'booster': 'gblinear', 'lambda': 0.021606577634706615, 'alpha': 1.2595489479938764e-05, 'subsample': 0.38775619640182457, 'colsample_bytree': 0.5495828399448184, 'learning_rate': 0.09794643602250822} because of the following error: The value nan is not acceptable..\n",
      "[W 2023-08-02 22:55:10,311] Trial 376 failed with value nan.\n",
      "[W 2023-08-02 22:55:11,144] Trial 377 failed with parameters: {'booster': 'gblinear', 'lambda': 0.08934386683258168, 'alpha': 1.6828349777788655e-05, 'subsample': 0.38928328400120643, 'colsample_bytree': 0.62951857838401, 'learning_rate': 0.1009288318996435} because of the following error: The value nan is not acceptable..\n",
      "[W 2023-08-02 22:55:11,145] Trial 377 failed with value nan.\n",
      "[W 2023-08-02 22:55:12,003] Trial 378 failed with parameters: {'booster': 'gblinear', 'lambda': 0.09657493675473262, 'alpha': 1.9557029471292874e-05, 'subsample': 0.38248548848843555, 'colsample_bytree': 0.549749131385405, 'learning_rate': 0.09754976005964594} because of the following error: The value nan is not acceptable..\n",
      "[W 2023-08-02 22:55:12,004] Trial 378 failed with value nan.\n",
      "[W 2023-08-02 22:55:12,847] Trial 379 failed with parameters: {'booster': 'gblinear', 'lambda': 0.018091034716889973, 'alpha': 7.3586949778286e-07, 'subsample': 0.3826454184407431, 'colsample_bytree': 0.551237028102081, 'learning_rate': 0.10205889106961216} because of the following error: The value nan is not acceptable..\n",
      "[W 2023-08-02 22:55:12,848] Trial 379 failed with value nan.\n",
      "[W 2023-08-02 22:55:13,703] Trial 380 failed with parameters: {'booster': 'gblinear', 'lambda': 0.08686381087843151, 'alpha': 6.9263318959447e-07, 'subsample': 0.4980484674216975, 'colsample_bytree': 0.5502882349707408, 'learning_rate': 0.1011003776880565} because of the following error: The value nan is not acceptable..\n",
      "[W 2023-08-02 22:55:13,704] Trial 380 failed with value nan.\n",
      "[W 2023-08-02 22:55:14,626] Trial 381 failed with parameters: {'booster': 'gblinear', 'lambda': 0.08678492276705765, 'alpha': 1.7561610128932017e-05, 'subsample': 0.39241795788717326, 'colsample_bytree': 0.5492421417264124, 'learning_rate': 0.09392124454713777} because of the following error: The value nan is not acceptable..\n",
      "[W 2023-08-02 22:55:14,628] Trial 381 failed with value nan.\n",
      "[W 2023-08-02 22:55:15,404] Trial 382 failed with parameters: {'booster': 'gblinear', 'lambda': 0.0864309969961079, 'alpha': 1.8275508369236427e-05, 'subsample': 0.424580571153316, 'colsample_bytree': 0.5479320973883799, 'learning_rate': 0.10052937422258176} because of the following error: The value nan is not acceptable..\n",
      "[W 2023-08-02 22:55:15,405] Trial 382 failed with value nan.\n",
      "[W 2023-08-02 22:55:16,190] Trial 383 failed with parameters: {'booster': 'gblinear', 'lambda': 0.02131981940453416, 'alpha': 1.2246502400530926e-05, 'subsample': 0.3763334902738005, 'colsample_bytree': 0.5544571867386312, 'learning_rate': 0.09661068219122854} because of the following error: The value nan is not acceptable..\n",
      "[W 2023-08-02 22:55:16,192] Trial 383 failed with value nan.\n",
      "[W 2023-08-02 22:55:17,007] Trial 384 failed with parameters: {'booster': 'gblinear', 'lambda': 0.08394683156723494, 'alpha': 6.347599301712985e-07, 'subsample': 0.5290273295509768, 'colsample_bytree': 0.5499889369462418, 'learning_rate': 0.09997958981411664} because of the following error: The value nan is not acceptable..\n",
      "[W 2023-08-02 22:55:17,009] Trial 384 failed with value nan.\n",
      "[W 2023-08-02 22:55:17,810] Trial 385 failed with parameters: {'booster': 'gblinear', 'lambda': 0.08490054221323812, 'alpha': 1.949684898179819e-05, 'subsample': 0.38663674407128784, 'colsample_bytree': 0.5504702598909135, 'learning_rate': 0.0894175899616948} because of the following error: The value nan is not acceptable..\n",
      "[W 2023-08-02 22:55:17,811] Trial 385 failed with value nan.\n",
      "[W 2023-08-02 22:55:18,646] Trial 386 failed with parameters: {'booster': 'gblinear', 'lambda': 0.09909846305558279, 'alpha': 1.2052221543759208e-05, 'subsample': 0.38806241754404885, 'colsample_bytree': 0.5484163374512996, 'learning_rate': 0.0958237872161094} because of the following error: The value nan is not acceptable..\n",
      "[W 2023-08-02 22:55:18,647] Trial 386 failed with value nan.\n",
      "[W 2023-08-02 22:55:19,501] Trial 387 failed with parameters: {'booster': 'gblinear', 'lambda': 0.08366545984220712, 'alpha': 1.3223242097955854e-05, 'subsample': 0.38659232120118847, 'colsample_bytree': 0.5481205954417833, 'learning_rate': 0.09641226469719401} because of the following error: The value nan is not acceptable..\n",
      "[W 2023-08-02 22:55:19,503] Trial 387 failed with value nan.\n",
      "[W 2023-08-02 22:55:20,403] Trial 388 failed with parameters: {'booster': 'gblinear', 'lambda': 0.07552588502714258, 'alpha': 1.4708157807596636e-05, 'subsample': 0.38572296737526895, 'colsample_bytree': 0.5472649420520721, 'learning_rate': 0.09532251843930337} because of the following error: The value nan is not acceptable..\n",
      "[W 2023-08-02 22:55:20,405] Trial 388 failed with value nan.\n",
      "[W 2023-08-02 22:55:21,252] Trial 389 failed with parameters: {'booster': 'gblinear', 'lambda': 0.01647112721552124, 'alpha': 7.626943039477488e-07, 'subsample': 0.3848653986252633, 'colsample_bytree': 0.5383488572850454, 'learning_rate': 0.09364425705553346} because of the following error: The value nan is not acceptable..\n",
      "[W 2023-08-02 22:55:21,254] Trial 389 failed with value nan.\n",
      "[W 2023-08-02 22:55:22,103] Trial 390 failed with parameters: {'booster': 'gblinear', 'lambda': 0.017354551372515965, 'alpha': 1.4469189076495076e-05, 'subsample': 0.3872749566429612, 'colsample_bytree': 0.5487788052761755, 'learning_rate': 0.09809046561954393} because of the following error: The value nan is not acceptable..\n",
      "[W 2023-08-02 22:55:22,104] Trial 390 failed with value nan.\n",
      "[W 2023-08-02 22:55:22,947] Trial 391 failed with parameters: {'booster': 'gblinear', 'lambda': 0.09800089120717412, 'alpha': 1.0633163801220881e-05, 'subsample': 0.5296190175385576, 'colsample_bytree': 0.5474304822995429, 'learning_rate': 0.09804841106189931} because of the following error: The value nan is not acceptable..\n",
      "[W 2023-08-02 22:55:22,949] Trial 391 failed with value nan.\n",
      "[I 2023-08-02 22:55:23,790] Trial 392 finished with value: 0.40262858194937917 and parameters: {'booster': 'gblinear', 'lambda': 0.10604004392780059, 'alpha': 1.0579187956339559e-05, 'subsample': 0.3822486741656755, 'colsample_bytree': 0.6240989609864294, 'learning_rate': 0.09567975972397869}. Best is trial 151 with value: 0.2729526115260718.\n",
      "[I 2023-08-02 22:55:31,392] Trial 393 finished with value: 0.26325400947242816 and parameters: {'booster': 'dart', 'lambda': 0.019612615445027137, 'alpha': 6.755209544929712e-07, 'subsample': 0.5001095563457651, 'colsample_bytree': 0.5493747762233495, 'learning_rate': 0.12397750643827807, 'max_depth': 2, 'eta': 0.0029133245481017013, 'gamma': 0.021601907830558757, 'grow_policy': 'depthwise', 'sample_type': 'weighted', 'normalize_type': 'forest', 'rate_drop': 2.7120860622539425e-06, 'skip_drop': 3.902089070485839e-06}. Best is trial 393 with value: 0.26325400947242816.\n",
      "[I 2023-08-02 22:55:38,990] Trial 394 finished with value: 0.2645988377143709 and parameters: {'booster': 'dart', 'lambda': 0.0130335992051885, 'alpha': 3.2529905537934614e-07, 'subsample': 0.43225077221418656, 'colsample_bytree': 0.5474616347401878, 'learning_rate': 0.12693430646256387, 'max_depth': 2, 'eta': 0.0028866220062081145, 'gamma': 0.022297065244739282, 'grow_policy': 'depthwise', 'sample_type': 'weighted', 'normalize_type': 'forest', 'rate_drop': 1.4395748812522314e-05, 'skip_drop': 4.4950003085941165e-06}. Best is trial 393 with value: 0.26325400947242816.\n",
      "[W 2023-08-02 22:55:39,838] Trial 395 failed with parameters: {'booster': 'gblinear', 'lambda': 0.012464270047822032, 'alpha': 3.4102467890365085e-07, 'subsample': 0.4699941314647738, 'colsample_bytree': 0.5448628189202005, 'learning_rate': 0.12380971587229302} because of the following error: The value nan is not acceptable..\n",
      "[W 2023-08-02 22:55:39,839] Trial 395 failed with value nan.\n",
      "[W 2023-08-02 22:55:40,686] Trial 396 failed with parameters: {'booster': 'gblinear', 'lambda': 0.01395458841932376, 'alpha': 3.0213434700899164e-07, 'subsample': 0.4611613729947273, 'colsample_bytree': 0.5174586728956276, 'learning_rate': 0.12277589035230993} because of the following error: The value nan is not acceptable..\n",
      "[W 2023-08-02 22:55:40,687] Trial 396 failed with value nan.\n",
      "[W 2023-08-02 22:55:41,549] Trial 397 failed with parameters: {'booster': 'gblinear', 'lambda': 0.010663653292786757, 'alpha': 5.599292001829759e-07, 'subsample': 0.4641351607853492, 'colsample_bytree': 0.5179809212108017, 'learning_rate': 0.13782512671021038} because of the following error: The value nan is not acceptable..\n",
      "[W 2023-08-02 22:55:41,550] Trial 397 failed with value nan.\n",
      "[W 2023-08-02 22:55:42,507] Trial 398 failed with parameters: {'booster': 'gblinear', 'lambda': 0.01205026518848774, 'alpha': 2.9678030306816103e-07, 'subsample': 0.5273447634496461, 'colsample_bytree': 0.5119927242600715, 'learning_rate': 0.13853691088196474} because of the following error: The value nan is not acceptable..\n",
      "[W 2023-08-02 22:55:42,508] Trial 398 failed with value nan.\n",
      "[W 2023-08-02 22:55:43,348] Trial 399 failed with parameters: {'booster': 'gblinear', 'lambda': 0.012585035501008226, 'alpha': 2.4957719285391215e-07, 'subsample': 0.4677036904669354, 'colsample_bytree': 0.5069868425856684, 'learning_rate': 0.139579730677186} because of the following error: The value nan is not acceptable..\n",
      "[W 2023-08-02 22:55:43,349] Trial 399 failed with value nan.\n",
      "[W 2023-08-02 22:55:44,181] Trial 400 failed with parameters: {'booster': 'gblinear', 'lambda': 0.010711151897938047, 'alpha': 2.8716531813878757e-07, 'subsample': 0.47039324217006323, 'colsample_bytree': 0.5543870079766406, 'learning_rate': 0.12685102339868254} because of the following error: The value nan is not acceptable..\n",
      "[W 2023-08-02 22:55:44,183] Trial 400 failed with value nan.\n",
      "[W 2023-08-02 22:55:45,033] Trial 401 failed with parameters: {'booster': 'gblinear', 'lambda': 0.01200025731753336, 'alpha': 2.82019243781741e-07, 'subsample': 0.4721242693734972, 'colsample_bytree': 0.5109887624185153, 'learning_rate': 0.13796463140270546} because of the following error: The value nan is not acceptable..\n",
      "[W 2023-08-02 22:55:45,035] Trial 401 failed with value nan.\n",
      "[W 2023-08-02 22:55:45,886] Trial 402 failed with parameters: {'booster': 'gblinear', 'lambda': 0.013547931897532006, 'alpha': 7.204399856281674e-07, 'subsample': 0.46993931615481144, 'colsample_bytree': 0.5178804176093563, 'learning_rate': 0.13967949742670427} because of the following error: The value nan is not acceptable..\n",
      "[W 2023-08-02 22:55:45,887] Trial 402 failed with value nan.\n",
      "[W 2023-08-02 22:55:46,684] Trial 403 failed with parameters: {'booster': 'gblinear', 'lambda': 0.011133301584082076, 'alpha': 3.3936511752697485e-07, 'subsample': 0.5273798489980468, 'colsample_bytree': 0.5060784354976365, 'learning_rate': 0.12413541194254897} because of the following error: The value nan is not acceptable..\n",
      "[W 2023-08-02 22:55:46,685] Trial 403 failed with value nan.\n",
      "[W 2023-08-02 22:55:47,470] Trial 404 failed with parameters: {'booster': 'gblinear', 'lambda': 0.012507852335766243, 'alpha': 3.453434331405612e-07, 'subsample': 0.4724323582675111, 'colsample_bytree': 0.5206300690196227, 'learning_rate': 0.12755705783572524} because of the following error: The value nan is not acceptable..\n",
      "[W 2023-08-02 22:55:47,471] Trial 404 failed with value nan.\n",
      "[W 2023-08-02 22:55:48,274] Trial 405 failed with parameters: {'booster': 'gblinear', 'lambda': 0.013158538189994047, 'alpha': 2.9702039574488877e-07, 'subsample': 0.5271582514786932, 'colsample_bytree': 0.5086322540162362, 'learning_rate': 0.14008100915389438} because of the following error: The value nan is not acceptable..\n",
      "[W 2023-08-02 22:55:48,275] Trial 405 failed with value nan.\n",
      "[W 2023-08-02 22:55:49,163] Trial 406 failed with parameters: {'booster': 'gblinear', 'lambda': 0.012983429444079549, 'alpha': 3.2429740135950345e-07, 'subsample': 0.46746930464426456, 'colsample_bytree': 0.5145301374283242, 'learning_rate': 0.12341068044912701} because of the following error: The value nan is not acceptable..\n",
      "[W 2023-08-02 22:55:49,165] Trial 406 failed with value nan.\n",
      "[W 2023-08-02 22:55:49,999] Trial 407 failed with parameters: {'booster': 'gblinear', 'lambda': 0.011788257126329759, 'alpha': 7.38782566773741e-07, 'subsample': 0.3994601114823182, 'colsample_bytree': 0.5152218794090297, 'learning_rate': 0.13745891699787058} because of the following error: The value nan is not acceptable..\n",
      "[W 2023-08-02 22:55:50,000] Trial 407 failed with value nan.\n",
      "[W 2023-08-02 22:55:50,836] Trial 408 failed with parameters: {'booster': 'gblinear', 'lambda': 0.0020345269834394137, 'alpha': 4.0248388082488074e-07, 'subsample': 0.465038586030486, 'colsample_bytree': 0.5137810663114968, 'learning_rate': 0.13897817945644284} because of the following error: The value nan is not acceptable..\n",
      "[W 2023-08-02 22:55:50,837] Trial 408 failed with value nan.\n",
      "[W 2023-08-02 22:55:51,752] Trial 409 failed with parameters: {'booster': 'gblinear', 'lambda': 0.01221617754877602, 'alpha': 7.59203784766068e-07, 'subsample': 0.46471001167392617, 'colsample_bytree': 0.5436765915390889, 'learning_rate': 0.13527645591900733} because of the following error: The value nan is not acceptable..\n",
      "[W 2023-08-02 22:55:51,754] Trial 409 failed with value nan.\n",
      "[W 2023-08-02 22:55:52,612] Trial 410 failed with parameters: {'booster': 'gblinear', 'lambda': 0.01346856604754584, 'alpha': 3.343508724445686e-07, 'subsample': 0.5299799513383642, 'colsample_bytree': 0.5163493481114182, 'learning_rate': 0.1395217081286787} because of the following error: The value nan is not acceptable..\n",
      "[W 2023-08-02 22:55:52,614] Trial 410 failed with value nan.\n",
      "[W 2023-08-02 22:55:53,447] Trial 411 failed with parameters: {'booster': 'gblinear', 'lambda': 0.004373998083258055, 'alpha': 2.8939972809359487e-07, 'subsample': 0.46563595298343696, 'colsample_bytree': 0.540735435276875, 'learning_rate': 0.12397799338505357} because of the following error: The value nan is not acceptable..\n",
      "[W 2023-08-02 22:55:53,448] Trial 411 failed with value nan.\n",
      "[W 2023-08-02 22:55:54,280] Trial 412 failed with parameters: {'booster': 'gblinear', 'lambda': 0.009284783032335207, 'alpha': 7.730695332888523e-07, 'subsample': 0.46601209851075376, 'colsample_bytree': 0.5076023836595998, 'learning_rate': 0.12314849702040948} because of the following error: The value nan is not acceptable..\n",
      "[W 2023-08-02 22:55:54,281] Trial 412 failed with value nan.\n",
      "[W 2023-08-02 22:55:55,191] Trial 413 failed with parameters: {'booster': 'gblinear', 'lambda': 0.012394801463070973, 'alpha': 6.604321186983869e-07, 'subsample': 0.5351981151993729, 'colsample_bytree': 0.5228106754582805, 'learning_rate': 0.13750018459949023} because of the following error: The value nan is not acceptable..\n",
      "[W 2023-08-02 22:55:55,192] Trial 413 failed with value nan.\n",
      "[W 2023-08-02 22:55:56,027] Trial 414 failed with parameters: {'booster': 'gblinear', 'lambda': 0.011527045486723122, 'alpha': 7.066235215900567e-07, 'subsample': 0.46602132429298604, 'colsample_bytree': 0.5044429902759197, 'learning_rate': 0.13775888748012663} because of the following error: The value nan is not acceptable..\n",
      "[W 2023-08-02 22:55:56,028] Trial 414 failed with value nan.\n",
      "[W 2023-08-02 22:55:56,859] Trial 415 failed with parameters: {'booster': 'gblinear', 'lambda': 0.0019185897911894755, 'alpha': 2.8442564754543194e-07, 'subsample': 0.46281155447228906, 'colsample_bytree': 0.5157167134655675, 'learning_rate': 0.12349987026769373} because of the following error: The value nan is not acceptable..\n",
      "[W 2023-08-02 22:55:56,860] Trial 415 failed with value nan.\n",
      "[W 2023-08-02 22:55:57,721] Trial 416 failed with parameters: {'booster': 'gblinear', 'lambda': 0.012445419540380963, 'alpha': 3.13926081193392e-07, 'subsample': 0.3975687832263166, 'colsample_bytree': 0.5236312201398527, 'learning_rate': 0.14085104243569888} because of the following error: The value nan is not acceptable..\n",
      "[W 2023-08-02 22:55:57,721] Trial 416 failed with value nan.\n",
      "[W 2023-08-02 22:55:58,556] Trial 417 failed with parameters: {'booster': 'gblinear', 'lambda': 0.0019720622980990213, 'alpha': 3.171107291777123e-07, 'subsample': 0.4670123955275079, 'colsample_bytree': 0.5187577051025997, 'learning_rate': 0.13782589243067878} because of the following error: The value nan is not acceptable..\n",
      "[W 2023-08-02 22:55:58,557] Trial 417 failed with value nan.\n",
      "[W 2023-08-02 22:55:59,388] Trial 418 failed with parameters: {'booster': 'gblinear', 'lambda': 0.012647970861819964, 'alpha': 2.6987861533571975e-07, 'subsample': 0.39656470860052856, 'colsample_bytree': 0.5204765972843469, 'learning_rate': 0.12368583154826253} because of the following error: The value nan is not acceptable..\n",
      "[W 2023-08-02 22:55:59,389] Trial 418 failed with value nan.\n",
      "[W 2023-08-02 22:56:00,234] Trial 419 failed with parameters: {'booster': 'gblinear', 'lambda': 0.010805522470418922, 'alpha': 8.087218129320698e-07, 'subsample': 0.46597829976219024, 'colsample_bytree': 0.5431422367520353, 'learning_rate': 0.12275943334593423} because of the following error: The value nan is not acceptable..\n",
      "[W 2023-08-02 22:56:00,235] Trial 419 failed with value nan.\n",
      "[W 2023-08-02 22:56:01,130] Trial 420 failed with parameters: {'booster': 'gblinear', 'lambda': 0.011025581729193684, 'alpha': 2.5491266343329295e-07, 'subsample': 0.46479764917425914, 'colsample_bytree': 0.509972021944773, 'learning_rate': 0.15029863577329713} because of the following error: The value nan is not acceptable..\n",
      "[W 2023-08-02 22:56:01,132] Trial 420 failed with value nan.\n",
      "[W 2023-08-02 22:56:01,981] Trial 421 failed with parameters: {'booster': 'gblinear', 'lambda': 0.0018984852883877745, 'alpha': 7.816948423988744e-07, 'subsample': 0.3959944156266417, 'colsample_bytree': 0.5155948548280802, 'learning_rate': 0.15103131859378732} because of the following error: The value nan is not acceptable..\n",
      "[W 2023-08-02 22:56:01,982] Trial 421 failed with value nan.\n",
      "[W 2023-08-02 22:56:02,821] Trial 422 failed with parameters: {'booster': 'gblinear', 'lambda': 0.011947741838079043, 'alpha': 3.088175059828327e-07, 'subsample': 0.5310095157198056, 'colsample_bytree': 0.5053779703232186, 'learning_rate': 0.13861133097889272} because of the following error: The value nan is not acceptable..\n",
      "[W 2023-08-02 22:56:02,822] Trial 422 failed with value nan.\n",
      "[W 2023-08-02 22:56:03,654] Trial 423 failed with parameters: {'booster': 'gblinear', 'lambda': 0.011585264682868204, 'alpha': 6.743240463778195e-07, 'subsample': 0.4714773001724721, 'colsample_bytree': 0.5187796004706343, 'learning_rate': 0.13747255641691644} because of the following error: The value nan is not acceptable..\n",
      "[W 2023-08-02 22:56:03,656] Trial 423 failed with value nan.\n",
      "[W 2023-08-02 22:56:04,511] Trial 424 failed with parameters: {'booster': 'gblinear', 'lambda': 0.013113413583813382, 'alpha': 2.8616338574198457e-07, 'subsample': 0.4723812181861115, 'colsample_bytree': 0.5206646971743215, 'learning_rate': 0.12448525682360426} because of the following error: The value nan is not acceptable..\n",
      "[W 2023-08-02 22:56:04,512] Trial 424 failed with value nan.\n",
      "[W 2023-08-02 22:56:05,343] Trial 425 failed with parameters: {'booster': 'gblinear', 'lambda': 0.012024370114743822, 'alpha': 7.472252407766208e-07, 'subsample': 0.39720792980227954, 'colsample_bytree': 0.518553534909306, 'learning_rate': 0.12171933162718977} because of the following error: The value nan is not acceptable..\n",
      "[W 2023-08-02 22:56:05,345] Trial 425 failed with value nan.\n",
      "[W 2023-08-02 22:56:06,154] Trial 426 failed with parameters: {'booster': 'gblinear', 'lambda': 0.0019833320047287642, 'alpha': 7.509629010721918e-07, 'subsample': 0.46990021281472155, 'colsample_bytree': 0.5209933514784388, 'learning_rate': 0.11930050251609574} because of the following error: The value nan is not acceptable..\n",
      "[W 2023-08-02 22:56:06,155] Trial 426 failed with value nan.\n",
      "[W 2023-08-02 22:56:07,033] Trial 427 failed with parameters: {'booster': 'gblinear', 'lambda': 0.011178944710534445, 'alpha': 3.4387366823029406e-07, 'subsample': 0.47000713676720085, 'colsample_bytree': 0.5240242806580837, 'learning_rate': 0.14162579304429693} because of the following error: The value nan is not acceptable..\n",
      "[W 2023-08-02 22:56:07,034] Trial 427 failed with value nan.\n",
      "[W 2023-08-02 22:56:07,895] Trial 428 failed with parameters: {'booster': 'gblinear', 'lambda': 0.010582504455188338, 'alpha': 3.233174799273041e-07, 'subsample': 0.4778762173975908, 'colsample_bytree': 0.520351377781679, 'learning_rate': 0.13948979336200637} because of the following error: The value nan is not acceptable..\n",
      "[W 2023-08-02 22:56:07,897] Trial 428 failed with value nan.\n",
      "[I 2023-08-02 22:56:15,525] Trial 429 finished with value: 0.3249956035214791 and parameters: {'booster': 'dart', 'lambda': 0.014296999783710943, 'alpha': 3.5713458996946674e-07, 'subsample': 0.4705149609721061, 'colsample_bytree': 0.5130066340227525, 'learning_rate': 0.12673659810419097, 'max_depth': 1, 'eta': 0.0024595879863742965, 'gamma': 0.014004076237458135, 'grow_policy': 'depthwise', 'sample_type': 'weighted', 'normalize_type': 'forest', 'rate_drop': 1.2783337951055501e-05, 'skip_drop': 4.079872527886215e-06}. Best is trial 393 with value: 0.26325400947242816.\n",
      "[I 2023-08-02 22:56:23,201] Trial 430 finished with value: 0.25960609054214456 and parameters: {'booster': 'dart', 'lambda': 0.0019054537737506353, 'alpha': 7.350952561203896e-07, 'subsample': 0.39807411573486373, 'colsample_bytree': 0.5426344982464315, 'learning_rate': 0.13995584741111902, 'max_depth': 2, 'eta': 0.0016243069743877118, 'gamma': 0.02764544788210548, 'grow_policy': 'depthwise', 'sample_type': 'weighted', 'normalize_type': 'forest', 'rate_drop': 3.5099740218069026e-06, 'skip_drop': 9.85086376174675e-06}. Best is trial 430 with value: 0.25960609054214456.\n",
      "[I 2023-08-02 22:56:30,091] Trial 431 finished with value: 0.264443600531112 and parameters: {'booster': 'dart', 'lambda': 0.006188807028604861, 'alpha': 5.991098356327728e-07, 'subsample': 0.3982602172101907, 'colsample_bytree': 0.5527843689745726, 'learning_rate': 0.1511088816883495, 'max_depth': 2, 'eta': 0.0016355219985939972, 'gamma': 0.025827359105163695, 'grow_policy': 'depthwise', 'sample_type': 'weighted', 'normalize_type': 'forest', 'rate_drop': 3.7511068545958653e-06, 'skip_drop': 1.0320653937484019e-05}. Best is trial 430 with value: 0.25960609054214456.\n",
      "[I 2023-08-02 22:56:37,149] Trial 432 finished with value: 0.26649283727594286 and parameters: {'booster': 'dart', 'lambda': 0.0019235235655195608, 'alpha': 6.915039074210721e-07, 'subsample': 0.3848483361559612, 'colsample_bytree': 0.5461438769188801, 'learning_rate': 0.13979729094794505, 'max_depth': 2, 'eta': 0.001476468690198833, 'gamma': 0.03037935885771466, 'grow_policy': 'depthwise', 'sample_type': 'weighted', 'normalize_type': 'forest', 'rate_drop': 2.6287859873123555e-05, 'skip_drop': 8.86667447344596e-06}. Best is trial 430 with value: 0.25960609054214456.\n",
      "[I 2023-08-02 22:56:44,144] Trial 433 finished with value: 0.30667866501083224 and parameters: {'booster': 'dart', 'lambda': 0.0017174385143703683, 'alpha': 7.803012171263324e-07, 'subsample': 0.3867384518458632, 'colsample_bytree': 0.544652072179651, 'learning_rate': 0.14076057755877686, 'max_depth': 1, 'eta': 0.0012568600324482568, 'gamma': 0.025276974219084144, 'grow_policy': 'depthwise', 'sample_type': 'weighted', 'normalize_type': 'forest', 'rate_drop': 3.5758434335996116e-05, 'skip_drop': 1.0047170420872678e-05}. Best is trial 430 with value: 0.25960609054214456.\n",
      "[W 2023-08-02 22:56:44,970] Trial 434 failed with parameters: {'booster': 'gblinear', 'lambda': 0.0039020045618571647, 'alpha': 2.5243065343600743e-07, 'subsample': 0.3965788612949016, 'colsample_bytree': 0.533582868278723, 'learning_rate': 0.15223179894492272} because of the following error: The value nan is not acceptable..\n",
      "[W 2023-08-02 22:56:44,972] Trial 434 failed with value nan.\n",
      "[W 2023-08-02 22:56:45,800] Trial 435 failed with parameters: {'booster': 'gblinear', 'lambda': 0.0033980127031156527, 'alpha': 2.674875413830859e-07, 'subsample': 0.4038470826560251, 'colsample_bytree': 0.48748795797456307, 'learning_rate': 0.15476004363919063} because of the following error: The value nan is not acceptable..\n",
      "[W 2023-08-02 22:56:45,801] Trial 435 failed with value nan.\n",
      "[W 2023-08-02 22:56:46,631] Trial 436 failed with parameters: {'booster': 'gblinear', 'lambda': 0.004756111661834559, 'alpha': 2.785474348058729e-07, 'subsample': 0.40427069206691857, 'colsample_bytree': 0.501859063798676, 'learning_rate': 0.13843936329128181} because of the following error: The value nan is not acceptable..\n",
      "[W 2023-08-02 22:56:46,632] Trial 436 failed with value nan.\n",
      "[I 2023-08-02 22:56:53,996] Trial 437 finished with value: 0.2636847590755062 and parameters: {'booster': 'dart', 'lambda': 0.003673952269758037, 'alpha': 3.2490715592139965e-07, 'subsample': 0.4013774618945417, 'colsample_bytree': 0.4925124133580938, 'learning_rate': 0.14975562928651986, 'max_depth': 2, 'eta': 0.001725982608414639, 'gamma': 0.012738242029522742, 'grow_policy': 'depthwise', 'sample_type': 'weighted', 'normalize_type': 'forest', 'rate_drop': 6.081572720355821e-06, 'skip_drop': 5.451312738485168e-05}. Best is trial 430 with value: 0.25960609054214456.\n",
      "[W 2023-08-02 22:56:54,836] Trial 438 failed with parameters: {'booster': 'gblinear', 'lambda': 0.006287965476722209, 'alpha': 9.529676636028555e-08, 'subsample': 0.4157434942266494, 'colsample_bytree': 0.5001089966201921, 'learning_rate': 0.1378611542547232} because of the following error: The value nan is not acceptable..\n",
      "[W 2023-08-02 22:56:54,837] Trial 438 failed with value nan.\n",
      "[W 2023-08-02 22:56:55,719] Trial 439 failed with parameters: {'booster': 'gblinear', 'lambda': 0.008049896449822272, 'alpha': 1.0345516014443097e-07, 'subsample': 0.420689961917106, 'colsample_bytree': 0.49125031478513703, 'learning_rate': 0.1374743983879923} because of the following error: The value nan is not acceptable..\n",
      "[W 2023-08-02 22:56:55,720] Trial 439 failed with value nan.\n",
      "[W 2023-08-02 22:56:56,792] Trial 440 failed with parameters: {'booster': 'gblinear', 'lambda': 0.002504812712980845, 'alpha': 1.1942745050635732e-07, 'subsample': 0.4166269524523785, 'colsample_bytree': 0.4945544028447838, 'learning_rate': 0.16077648121091356} because of the following error: The value nan is not acceptable..\n",
      "[W 2023-08-02 22:56:56,793] Trial 440 failed with value nan.\n",
      "[W 2023-08-02 22:56:57,663] Trial 441 failed with parameters: {'booster': 'gblinear', 'lambda': 0.0023517124270443367, 'alpha': 2.590956921919572e-07, 'subsample': 0.41099270270570304, 'colsample_bytree': 0.4824902826087351, 'learning_rate': 0.15941259158106175} because of the following error: The value nan is not acceptable..\n",
      "[W 2023-08-02 22:56:57,664] Trial 441 failed with value nan.\n",
      "[W 2023-08-02 22:56:58,516] Trial 442 failed with parameters: {'booster': 'gblinear', 'lambda': 0.002827995767791927, 'alpha': 2.3089980895989585e-07, 'subsample': 0.4168046410137839, 'colsample_bytree': 0.4924354999081462, 'learning_rate': 0.13625240174197684} because of the following error: The value nan is not acceptable..\n",
      "[W 2023-08-02 22:56:58,518] Trial 442 failed with value nan.\n",
      "[W 2023-08-02 22:56:59,336] Trial 443 failed with parameters: {'booster': 'gblinear', 'lambda': 0.002087218506315898, 'alpha': 3.073248960407356e-07, 'subsample': 0.40974148134190014, 'colsample_bytree': 0.49483454098606044, 'learning_rate': 0.14034162066132316} because of the following error: The value nan is not acceptable..\n",
      "[W 2023-08-02 22:56:59,338] Trial 443 failed with value nan.\n",
      "[W 2023-08-02 22:57:00,183] Trial 444 failed with parameters: {'booster': 'gblinear', 'lambda': 0.0010300093802593513, 'alpha': 2.8024873779788503e-07, 'subsample': 0.4157970430079384, 'colsample_bytree': 0.4766298649271487, 'learning_rate': 0.13922465123464592} because of the following error: The value nan is not acceptable..\n",
      "[W 2023-08-02 22:57:00,184] Trial 444 failed with value nan.\n",
      "[W 2023-08-02 22:57:01,035] Trial 445 failed with parameters: {'booster': 'gblinear', 'lambda': 0.00227910410266397, 'alpha': 3.260250461117133e-07, 'subsample': 0.4140044686603247, 'colsample_bytree': 0.49177908853540525, 'learning_rate': 0.15215882214746346} because of the following error: The value nan is not acceptable..\n",
      "[W 2023-08-02 22:57:01,036] Trial 445 failed with value nan.\n",
      "[W 2023-08-02 22:57:01,924] Trial 446 failed with parameters: {'booster': 'gblinear', 'lambda': 0.002671303277171258, 'alpha': 2.3418930769944416e-07, 'subsample': 0.41884029819984536, 'colsample_bytree': 0.5061520091961965, 'learning_rate': 0.1547830267574531} because of the following error: The value nan is not acceptable..\n",
      "[W 2023-08-02 22:57:01,927] Trial 446 failed with value nan.\n",
      "[W 2023-08-02 22:57:02,747] Trial 447 failed with parameters: {'booster': 'gblinear', 'lambda': 0.0019903621322832693, 'alpha': 2.622642169514497e-07, 'subsample': 0.4135121088258953, 'colsample_bytree': 0.49545655512188735, 'learning_rate': 0.13782922945285558} because of the following error: The value nan is not acceptable..\n",
      "[W 2023-08-02 22:57:02,748] Trial 447 failed with value nan.\n",
      "[W 2023-08-02 22:57:03,563] Trial 448 failed with parameters: {'booster': 'gblinear', 'lambda': 0.002340409775547009, 'alpha': 9.074352055775967e-08, 'subsample': 0.4140415131044426, 'colsample_bytree': 0.5268783546717324, 'learning_rate': 0.1373961773332554} because of the following error: The value nan is not acceptable..\n",
      "[W 2023-08-02 22:57:03,564] Trial 448 failed with value nan.\n",
      "[W 2023-08-02 22:57:04,410] Trial 449 failed with parameters: {'booster': 'gblinear', 'lambda': 0.0009308362823702349, 'alpha': 3.153964837518154e-07, 'subsample': 0.4159264025198382, 'colsample_bytree': 0.49284798174387234, 'learning_rate': 0.140130722211773} because of the following error: The value nan is not acceptable..\n",
      "[W 2023-08-02 22:57:04,411] Trial 449 failed with value nan.\n",
      "[W 2023-08-02 22:57:05,239] Trial 450 failed with parameters: {'booster': 'gblinear', 'lambda': 0.002174862410877203, 'alpha': 9.303159152663038e-08, 'subsample': 0.41741949608729234, 'colsample_bytree': 0.4889994016892731, 'learning_rate': 0.15291343194607776} because of the following error: The value nan is not acceptable..\n",
      "[W 2023-08-02 22:57:05,239] Trial 450 failed with value nan.\n",
      "[W 2023-08-02 22:57:06,056] Trial 451 failed with parameters: {'booster': 'gblinear', 'lambda': 0.0022776706034813125, 'alpha': 2.6953728315343055e-07, 'subsample': 0.41173845249766206, 'colsample_bytree': 0.5017475152680658, 'learning_rate': 0.1379237042388975} because of the following error: The value nan is not acceptable..\n",
      "[W 2023-08-02 22:57:06,058] Trial 451 failed with value nan.\n",
      "[W 2023-08-02 22:57:06,881] Trial 452 failed with parameters: {'booster': 'gblinear', 'lambda': 0.0007627155681321146, 'alpha': 8.811199587856607e-08, 'subsample': 0.4168872520982738, 'colsample_bytree': 0.4913727215025219, 'learning_rate': 0.14014202406984766} because of the following error: The value nan is not acceptable..\n",
      "[W 2023-08-02 22:57:06,882] Trial 452 failed with value nan.\n",
      "[W 2023-08-02 22:57:07,712] Trial 453 failed with parameters: {'booster': 'gblinear', 'lambda': 0.0008364019668224437, 'alpha': 2.601475146003007e-07, 'subsample': 0.41122108532817003, 'colsample_bytree': 0.504077284836099, 'learning_rate': 0.13749578262859458} because of the following error: The value nan is not acceptable..\n",
      "[W 2023-08-02 22:57:07,713] Trial 453 failed with value nan.\n",
      "[W 2023-08-02 22:57:08,587] Trial 454 failed with parameters: {'booster': 'gblinear', 'lambda': 0.0009714089907674271, 'alpha': 2.8028875818223085e-07, 'subsample': 0.41590620317360394, 'colsample_bytree': 0.5028116060837798, 'learning_rate': 0.139674248099538} because of the following error: The value nan is not acceptable..\n",
      "[W 2023-08-02 22:57:08,589] Trial 454 failed with value nan.\n",
      "[W 2023-08-02 22:57:09,414] Trial 455 failed with parameters: {'booster': 'gblinear', 'lambda': 0.0008425934501046955, 'alpha': 2.7279446564820074e-07, 'subsample': 0.41788419551525174, 'colsample_bytree': 0.49234752472609417, 'learning_rate': 0.13696657109477933} because of the following error: The value nan is not acceptable..\n",
      "[W 2023-08-02 22:57:09,415] Trial 455 failed with value nan.\n",
      "[W 2023-08-02 22:57:10,243] Trial 456 failed with parameters: {'booster': 'gblinear', 'lambda': 0.0025535189685440642, 'alpha': 2.7015362159292076e-07, 'subsample': 0.42043080807547106, 'colsample_bytree': 0.4800029004736946, 'learning_rate': 0.1554045029988033} because of the following error: The value nan is not acceptable..\n",
      "[W 2023-08-02 22:57:10,244] Trial 456 failed with value nan.\n",
      "[W 2023-08-02 22:57:11,067] Trial 457 failed with parameters: {'booster': 'gblinear', 'lambda': 0.002618020167763807, 'alpha': 1.1298320839646034e-07, 'subsample': 0.40782282512644796, 'colsample_bytree': 0.4875129682989343, 'learning_rate': 0.13475551353895499} because of the following error: The value nan is not acceptable..\n",
      "[W 2023-08-02 22:57:11,068] Trial 457 failed with value nan.\n",
      "[W 2023-08-02 22:57:11,902] Trial 458 failed with parameters: {'booster': 'gblinear', 'lambda': 0.0027209674297569856, 'alpha': 3.0636752491505867e-07, 'subsample': 0.41738411349613364, 'colsample_bytree': 0.4908115081779343, 'learning_rate': 0.13843468257242408} because of the following error: The value nan is not acceptable..\n",
      "[W 2023-08-02 22:57:11,903] Trial 458 failed with value nan.\n",
      "[W 2023-08-02 22:57:12,736] Trial 459 failed with parameters: {'booster': 'gblinear', 'lambda': 0.002365269091407274, 'alpha': 2.387129046026014e-07, 'subsample': 0.4094763545614927, 'colsample_bytree': 0.49570914595539206, 'learning_rate': 0.14041190536014744} because of the following error: The value nan is not acceptable..\n",
      "[W 2023-08-02 22:57:12,737] Trial 459 failed with value nan.\n",
      "[W 2023-08-02 22:57:13,570] Trial 460 failed with parameters: {'booster': 'gblinear', 'lambda': 0.006055563836595204, 'alpha': 2.5143655656168203e-07, 'subsample': 0.45559677178822555, 'colsample_bytree': 0.49476491500755454, 'learning_rate': 0.1518287163974687} because of the following error: The value nan is not acceptable..\n",
      "[W 2023-08-02 22:57:13,571] Trial 460 failed with value nan.\n",
      "[W 2023-08-02 22:57:14,396] Trial 461 failed with parameters: {'booster': 'gblinear', 'lambda': 0.002721590578915067, 'alpha': 2.826559791816492e-07, 'subsample': 0.41405215677869595, 'colsample_bytree': 0.49484729065590544, 'learning_rate': 0.1368189352648381} because of the following error: The value nan is not acceptable..\n",
      "[W 2023-08-02 22:57:14,397] Trial 461 failed with value nan.\n",
      "[W 2023-08-02 22:57:15,276] Trial 462 failed with parameters: {'booster': 'gblinear', 'lambda': 0.0023388176631478704, 'alpha': 3.1429624746028617e-07, 'subsample': 0.4073809579142732, 'colsample_bytree': 0.48830715166428523, 'learning_rate': 0.1371076243159321} because of the following error: The value nan is not acceptable..\n",
      "[W 2023-08-02 22:57:15,277] Trial 462 failed with value nan.\n",
      "[W 2023-08-02 22:57:16,098] Trial 463 failed with parameters: {'booster': 'gblinear', 'lambda': 0.0025162740401202146, 'alpha': 3.159760458748262e-07, 'subsample': 0.4121104486950342, 'colsample_bytree': 0.489810518476602, 'learning_rate': 0.13851217805579685} because of the following error: The value nan is not acceptable..\n",
      "[W 2023-08-02 22:57:16,099] Trial 463 failed with value nan.\n",
      "[W 2023-08-02 22:57:16,933] Trial 464 failed with parameters: {'booster': 'gblinear', 'lambda': 0.002227875388608529, 'alpha': 3.0768341789682553e-07, 'subsample': 0.41686330748199196, 'colsample_bytree': 0.4922298670777578, 'learning_rate': 0.13916871097741365} because of the following error: The value nan is not acceptable..\n",
      "[W 2023-08-02 22:57:16,935] Trial 464 failed with value nan.\n",
      "[W 2023-08-02 22:57:17,720] Trial 465 failed with parameters: {'booster': 'gblinear', 'lambda': 0.006175487014714942, 'alpha': 2.6485054758319644e-07, 'subsample': 0.4143109955234839, 'colsample_bytree': 0.4847717581136045, 'learning_rate': 0.13799040959814618} because of the following error: The value nan is not acceptable..\n",
      "[W 2023-08-02 22:57:17,721] Trial 465 failed with value nan.\n",
      "[W 2023-08-02 22:57:18,488] Trial 466 failed with parameters: {'booster': 'gblinear', 'lambda': 0.000801126953729419, 'alpha': 2.71464452396021e-07, 'subsample': 0.45155740172412495, 'colsample_bytree': 0.5037514628247789, 'learning_rate': 0.13611664349133615} because of the following error: The value nan is not acceptable..\n",
      "[W 2023-08-02 22:57:18,489] Trial 466 failed with value nan.\n",
      "[W 2023-08-02 22:57:19,264] Trial 467 failed with parameters: {'booster': 'gblinear', 'lambda': 0.0025466174624878893, 'alpha': 2.852632488630589e-07, 'subsample': 0.41998019159037586, 'colsample_bytree': 0.48970705962550953, 'learning_rate': 0.15560686393729845} because of the following error: The value nan is not acceptable..\n",
      "[W 2023-08-02 22:57:19,266] Trial 467 failed with value nan.\n",
      "[W 2023-08-02 22:57:20,062] Trial 468 failed with parameters: {'booster': 'gblinear', 'lambda': 0.002312055598559936, 'alpha': 2.5526271611337735e-07, 'subsample': 0.41628166289324997, 'colsample_bytree': 0.4888384124258602, 'learning_rate': 0.13906936282058327} because of the following error: The value nan is not acceptable..\n",
      "[W 2023-08-02 22:57:20,063] Trial 468 failed with value nan.\n",
      "[W 2023-08-02 22:57:20,855] Trial 469 failed with parameters: {'booster': 'gblinear', 'lambda': 0.0007848313236397752, 'alpha': 3.0950927637567954e-07, 'subsample': 0.4157792456099837, 'colsample_bytree': 0.4890681843817419, 'learning_rate': 0.15369492038192084} because of the following error: The value nan is not acceptable..\n",
      "[W 2023-08-02 22:57:20,856] Trial 469 failed with value nan.\n",
      "[W 2023-08-02 22:57:21,728] Trial 470 failed with parameters: {'booster': 'gblinear', 'lambda': 0.0020131612314210397, 'alpha': 9.306595609755513e-08, 'subsample': 0.4106505054949474, 'colsample_bytree': 0.48750800041851516, 'learning_rate': 0.15474276583092836} because of the following error: The value nan is not acceptable..\n",
      "[W 2023-08-02 22:57:21,730] Trial 470 failed with value nan.\n",
      "[W 2023-08-02 22:57:22,564] Trial 471 failed with parameters: {'booster': 'gblinear', 'lambda': 0.0020216429215190357, 'alpha': 2.749533411518067e-07, 'subsample': 0.4547893903782426, 'colsample_bytree': 0.4926074681335826, 'learning_rate': 0.13980721575455574} because of the following error: The value nan is not acceptable..\n",
      "[W 2023-08-02 22:57:22,566] Trial 471 failed with value nan.\n",
      "[I 2023-08-02 22:57:29,933] Trial 472 finished with value: 0.2970487888194003 and parameters: {'booster': 'dart', 'lambda': 0.0025389591003643734, 'alpha': 2.827153583207699e-07, 'subsample': 0.42266333591134775, 'colsample_bytree': 0.487548503557908, 'learning_rate': 0.1407087445657564, 'max_depth': 4, 'eta': 0.0017684318068149252, 'gamma': 0.012974170756882212, 'grow_policy': 'depthwise', 'sample_type': 'weighted', 'normalize_type': 'forest', 'rate_drop': 6.2821059547183294e-06, 'skip_drop': 5.588389175912519e-05}. Best is trial 430 with value: 0.25960609054214456.\n",
      "[W 2023-08-02 22:57:30,772] Trial 473 failed with parameters: {'booster': 'gblinear', 'lambda': 0.0007797241933204088, 'alpha': 9.509491524406642e-08, 'subsample': 0.45233974305952707, 'colsample_bytree': 0.5247555906355276, 'learning_rate': 0.1516721521008287} because of the following error: The value nan is not acceptable..\n",
      "[W 2023-08-02 22:57:30,773] Trial 473 failed with value nan.\n",
      "[W 2023-08-02 22:57:31,609] Trial 474 failed with parameters: {'booster': 'gblinear', 'lambda': 0.0009388709163126451, 'alpha': 6.288975999302475e-07, 'subsample': 0.4539058528620406, 'colsample_bytree': 0.5266373012542624, 'learning_rate': 0.1520256875759769} because of the following error: The value nan is not acceptable..\n",
      "[W 2023-08-02 22:57:31,612] Trial 474 failed with value nan.\n",
      "[I 2023-08-02 22:57:39,134] Trial 475 finished with value: 0.29804701167358666 and parameters: {'booster': 'dart', 'lambda': 0.0008053138840328064, 'alpha': 6.126443261070681e-07, 'subsample': 0.453979967223482, 'colsample_bytree': 0.522706429328931, 'learning_rate': 0.15362764673572743, 'max_depth': 3, 'eta': 0.0014842276734624237, 'gamma': 0.0189706986002242, 'grow_policy': 'depthwise', 'sample_type': 'weighted', 'normalize_type': 'forest', 'rate_drop': 2.3409924606604373e-05, 'skip_drop': 0.0001299853416803548}. Best is trial 430 with value: 0.25960609054214456.\n",
      "[W 2023-08-02 22:57:39,959] Trial 476 failed with parameters: {'booster': 'gblinear', 'lambda': 0.006000511740371417, 'alpha': 9.451156512762214e-08, 'subsample': 0.4011844719921482, 'colsample_bytree': 0.5402922190688325, 'learning_rate': 0.13534534382709387} because of the following error: The value nan is not acceptable..\n",
      "[W 2023-08-02 22:57:39,960] Trial 476 failed with value nan.\n",
      "[W 2023-08-02 22:57:40,881] Trial 477 failed with parameters: {'booster': 'gblinear', 'lambda': 0.007117114166612035, 'alpha': 1.0662790225498101e-07, 'subsample': 0.4069211525199438, 'colsample_bytree': 0.4993678743245222, 'learning_rate': 0.11957265663164228} because of the following error: The value nan is not acceptable..\n",
      "[W 2023-08-02 22:57:40,883] Trial 477 failed with value nan.\n",
      "[W 2023-08-02 22:57:41,726] Trial 478 failed with parameters: {'booster': 'gblinear', 'lambda': 0.00618411909557387, 'alpha': 1.5252849671975378e-07, 'subsample': 0.40829854496574336, 'colsample_bytree': 0.5510972028656494, 'learning_rate': 0.13659099980215048} because of the following error: The value nan is not acceptable..\n",
      "[W 2023-08-02 22:57:41,728] Trial 478 failed with value nan.\n",
      "[W 2023-08-02 22:57:42,608] Trial 479 failed with parameters: {'booster': 'gblinear', 'lambda': 0.006291253544876817, 'alpha': 9.429211045408614e-08, 'subsample': 0.4087052887817004, 'colsample_bytree': 0.5471420532036262, 'learning_rate': 0.13843199345663237} because of the following error: The value nan is not acceptable..\n",
      "[W 2023-08-02 22:57:42,609] Trial 479 failed with value nan.\n",
      "[W 2023-08-02 22:57:43,427] Trial 480 failed with parameters: {'booster': 'gblinear', 'lambda': 0.00726678678534715, 'alpha': 1.095624688400573e-07, 'subsample': 0.4121634574208227, 'colsample_bytree': 0.5449978070508666, 'learning_rate': 0.11758521075535686} because of the following error: The value nan is not acceptable..\n",
      "[W 2023-08-02 22:57:43,428] Trial 480 failed with value nan.\n",
      "[W 2023-08-02 22:57:44,201] Trial 481 failed with parameters: {'booster': 'gblinear', 'lambda': 0.006682578241758566, 'alpha': 9.24566593735785e-08, 'subsample': 0.4941167826912838, 'colsample_bytree': 0.5480545133890347, 'learning_rate': 0.1363258569205007} because of the following error: The value nan is not acceptable..\n",
      "[W 2023-08-02 22:57:44,202] Trial 481 failed with value nan.\n",
      "[W 2023-08-02 22:57:44,978] Trial 482 failed with parameters: {'booster': 'gblinear', 'lambda': 0.0069852254202477934, 'alpha': 1.1141709155509949e-07, 'subsample': 0.376622787210971, 'colsample_bytree': 0.5464773291943962, 'learning_rate': 0.13941905886867623} because of the following error: The value nan is not acceptable..\n",
      "[W 2023-08-02 22:57:44,979] Trial 482 failed with value nan.\n",
      "[W 2023-08-02 22:57:45,764] Trial 483 failed with parameters: {'booster': 'gblinear', 'lambda': 0.0070439054866259085, 'alpha': 1.0462501150639736e-07, 'subsample': 0.4936746042712696, 'colsample_bytree': 0.49618582685440793, 'learning_rate': 0.13431320783037698} because of the following error: The value nan is not acceptable..\n",
      "[W 2023-08-02 22:57:45,765] Trial 483 failed with value nan.\n",
      "[W 2023-08-02 22:57:46,569] Trial 484 failed with parameters: {'booster': 'gblinear', 'lambda': 0.006910122731578925, 'alpha': 1.1331473525624466e-07, 'subsample': 0.40727191446518574, 'colsample_bytree': 0.5524486806810894, 'learning_rate': 0.1370787974890241} because of the following error: The value nan is not acceptable..\n",
      "[W 2023-08-02 22:57:46,570] Trial 484 failed with value nan.\n",
      "[W 2023-08-02 22:57:47,428] Trial 485 failed with parameters: {'booster': 'gblinear', 'lambda': 0.005926001229122624, 'alpha': 9.732076824334871e-08, 'subsample': 0.4077254755917402, 'colsample_bytree': 0.542804547659877, 'learning_rate': 0.1374669901622361} because of the following error: The value nan is not acceptable..\n",
      "[W 2023-08-02 22:57:47,430] Trial 485 failed with value nan.\n",
      "[W 2023-08-02 22:57:48,271] Trial 486 failed with parameters: {'booster': 'gblinear', 'lambda': 0.006988871386481303, 'alpha': 9.254316173790711e-08, 'subsample': 0.40571190752691816, 'colsample_bytree': 0.5479693306462519, 'learning_rate': 0.13972378528965884} because of the following error: The value nan is not acceptable..\n",
      "[W 2023-08-02 22:57:48,272] Trial 486 failed with value nan.\n",
      "[W 2023-08-02 22:57:49,119] Trial 487 failed with parameters: {'booster': 'gblinear', 'lambda': 0.006483432542302981, 'alpha': 9.479303058202607e-08, 'subsample': 0.4070160164770516, 'colsample_bytree': 0.555113670002232, 'learning_rate': 0.13651139166410153} because of the following error: The value nan is not acceptable..\n",
      "[W 2023-08-02 22:57:49,120] Trial 487 failed with value nan.\n",
      "[W 2023-08-02 22:57:49,976] Trial 488 failed with parameters: {'booster': 'gblinear', 'lambda': 0.005792462544765829, 'alpha': 1.2399315320686608e-07, 'subsample': 0.40414700454884517, 'colsample_bytree': 0.5519714580609572, 'learning_rate': 0.1374003143736716} because of the following error: The value nan is not acceptable..\n",
      "[W 2023-08-02 22:57:49,977] Trial 488 failed with value nan.\n",
      "[I 2023-08-02 22:57:57,410] Trial 489 finished with value: 0.2535332401012661 and parameters: {'booster': 'dart', 'lambda': 0.0067981943191443815, 'alpha': 1.1158232780616973e-07, 'subsample': 0.39680328510099894, 'colsample_bytree': 0.5482579412080295, 'learning_rate': 0.13779959534970157, 'max_depth': 3, 'eta': 0.0010017919482385215, 'gamma': 0.030524056409888256, 'grow_policy': 'depthwise', 'sample_type': 'weighted', 'normalize_type': 'tree', 'rate_drop': 4.4093900571337765e-06, 'skip_drop': 1.105656318625032e-05}. Best is trial 489 with value: 0.2535332401012661.\n",
      "[W 2023-08-02 22:57:58,321] Trial 490 failed with parameters: {'booster': 'gblinear', 'lambda': 0.006855186750674283, 'alpha': 1.0445989528033475e-07, 'subsample': 0.39442889385822993, 'colsample_bytree': 0.5461041917694193, 'learning_rate': 0.13532726770656062} because of the following error: The value nan is not acceptable..\n",
      "[W 2023-08-02 22:57:58,323] Trial 490 failed with value nan.\n",
      "[W 2023-08-02 22:57:59,153] Trial 491 failed with parameters: {'booster': 'gblinear', 'lambda': 0.006833624863560329, 'alpha': 8.711931380997836e-08, 'subsample': 0.3748386872644123, 'colsample_bytree': 0.5040797584143243, 'learning_rate': 0.13659612230385368} because of the following error: The value nan is not acceptable..\n",
      "[W 2023-08-02 22:57:59,154] Trial 491 failed with value nan.\n",
      "[W 2023-08-02 22:58:00,015] Trial 492 failed with parameters: {'booster': 'gblinear', 'lambda': 0.004480814512565211, 'alpha': 9.979237298469147e-08, 'subsample': 0.39986838187302576, 'colsample_bytree': 0.5461188034349802, 'learning_rate': 0.1378821178363751} because of the following error: The value nan is not acceptable..\n",
      "[W 2023-08-02 22:58:00,017] Trial 492 failed with value nan.\n",
      "[W 2023-08-02 22:58:00,870] Trial 493 failed with parameters: {'booster': 'gblinear', 'lambda': 0.0077487232778831495, 'alpha': 1.0084701840296889e-07, 'subsample': 0.400143917213551, 'colsample_bytree': 0.5447068262296139, 'learning_rate': 0.13761014446327405} because of the following error: The value nan is not acceptable..\n",
      "[W 2023-08-02 22:58:00,872] Trial 493 failed with value nan.\n",
      "[I 2023-08-02 22:58:08,463] Trial 494 finished with value: 0.3078464720268011 and parameters: {'booster': 'dart', 'lambda': 0.007298498428721786, 'alpha': 1.4920411392477663e-07, 'subsample': 0.3758397590348393, 'colsample_bytree': 0.5044102401546413, 'learning_rate': 0.13952052238853918, 'max_depth': 1, 'eta': 0.0010060387935132053, 'gamma': 0.04566318965734457, 'grow_policy': 'depthwise', 'sample_type': 'weighted', 'normalize_type': 'tree', 'rate_drop': 3.288837741583184e-06, 'skip_drop': 2.545674981052796e-06}. Best is trial 489 with value: 0.2535332401012661.\n",
      "[W 2023-08-02 22:58:09,309] Trial 495 failed with parameters: {'booster': 'gblinear', 'lambda': 0.005091633836216006, 'alpha': 9.009991422609567e-08, 'subsample': 0.3986454508685775, 'colsample_bytree': 0.5406114530138688, 'learning_rate': 0.16185956788189304} because of the following error: The value nan is not acceptable..\n",
      "[W 2023-08-02 22:58:09,310] Trial 495 failed with value nan.\n",
      "[W 2023-08-02 22:58:10,235] Trial 496 failed with parameters: {'booster': 'gblinear', 'lambda': 0.005360515070857378, 'alpha': 9.281347976467759e-08, 'subsample': 0.3990174596950608, 'colsample_bytree': 0.5258807345309082, 'learning_rate': 0.16271147928541713} because of the following error: The value nan is not acceptable..\n",
      "[W 2023-08-02 22:58:10,237] Trial 496 failed with value nan.\n",
      "[W 2023-08-02 22:58:11,026] Trial 497 failed with parameters: {'booster': 'gblinear', 'lambda': 0.004281837670094751, 'alpha': 8.128280322769479e-08, 'subsample': 0.4006023800940363, 'colsample_bytree': 0.5390878584523907, 'learning_rate': 0.15957151137858772} because of the following error: The value nan is not acceptable..\n",
      "[W 2023-08-02 22:58:11,027] Trial 497 failed with value nan.\n",
      "[I 2023-08-02 22:58:12,310] Trial 498 finished with value: 0.2921991966076079 and parameters: {'booster': 'gbtree', 'lambda': 0.0021049691396982065, 'alpha': 8.863207228600965e-08, 'subsample': 0.40174698862563196, 'colsample_bytree': 0.5455787638032608, 'learning_rate': 0.16322190034700407, 'max_depth': 4, 'eta': 0.0019148518152361318, 'gamma': 0.027050535161100897, 'grow_policy': 'depthwise'}. Best is trial 489 with value: 0.2535332401012661.\n",
      "[W 2023-08-02 22:58:13,110] Trial 499 failed with parameters: {'booster': 'gblinear', 'lambda': 0.004630051417252549, 'alpha': 2.587188274267039e-07, 'subsample': 0.4096977647677734, 'colsample_bytree': 0.5290015018222116, 'learning_rate': 0.1497915874977411} because of the following error: The value nan is not acceptable..\n",
      "[W 2023-08-02 22:58:13,111] Trial 499 failed with value nan.\n"
     ]
    },
    {
     "name": "stdout",
     "output_type": "stream",
     "text": [
      "Number of finished trials: 500\n",
      "Best trial:\n",
      "  Value: 0.2535332401012661\n",
      "  Params: \n",
      "    booster: dart\n",
      "    lambda: 0.0067981943191443815\n",
      "    alpha: 1.1158232780616973e-07\n",
      "    subsample: 0.39680328510099894\n",
      "    colsample_bytree: 0.5482579412080295\n",
      "    learning_rate: 0.13779959534970157\n",
      "    max_depth: 3\n",
      "    eta: 0.0010017919482385215\n",
      "    gamma: 0.030524056409888256\n",
      "    grow_policy: depthwise\n",
      "    sample_type: weighted\n",
      "    normalize_type: tree\n",
      "    rate_drop: 4.4093900571337765e-06\n",
      "    skip_drop: 1.105656318625032e-05\n"
     ]
    }
   ],
   "source": [
    "def objective(trial):\n",
    "    # dtrain = xgb.DMatrix(train, label=ytrain['Class'])\n",
    "    '''\n",
    "    Value: 0.2754406155516159\n",
    "    Params: \n",
    "        booster: gbtree\n",
    "        lambda: 0.24302130237467398\n",
    "        alpha: 2.2108795894332237e-08\n",
    "        subsample: 0.7887998109844777\n",
    "        colsample_bytree: 0.4493748858737539\n",
    "        max_depth: 2\n",
    "        eta: 0.29846902305256606\n",
    "        gamma: 1.4539411503015061e-05\n",
    "        grow_policy: lossguide\n",
    "    '''\n",
    "    param = {\n",
    "        \"verbosity\": 0,\n",
    "        \"objective\": \"binary:logistic\",\n",
    "        \"booster\": trial.suggest_categorical(\"booster\", [\"gbtree\", \"gblinear\", \"dart\"]),\n",
    "        \"lambda\": trial.suggest_float(\"lambda\", 1e-8, 1.0, log=True),\n",
    "        \"alpha\": trial.suggest_float(\"alpha\", 1e-8, 1.0, log=True),\n",
    "        \"subsample\": trial.suggest_float(\"subsample\", 0.2, 0.8),\n",
    "        \"colsample_bytree\": trial.suggest_float(\"colsample_bytree\", 0.2, 0.8),\n",
    "        'scale_pos_weight' : scale_pos_weight,\n",
    "        'random_state' : 42,\n",
    "        \"learning_rate\": trial.suggest_float(\"learning_rate\", 0.01, 0.3)\n",
    "    }\n",
    "\n",
    "    if param[\"booster\"] == \"gbtree\" or param[\"booster\"] == \"dart\":\n",
    "        param[\"max_depth\"] = trial.suggest_int(\"max_depth\", 1, 16)\n",
    "        param[\"eta\"] = trial.suggest_float(\"eta\", 1e-3, 1.0, log=True)\n",
    "        param[\"gamma\"] = trial.suggest_float(\"gamma\", 1e-8, 1.0, log=True)\n",
    "        param[\"grow_policy\"] = trial.suggest_categorical(\"grow_policy\", [\"depthwise\", \"lossguide\"])\n",
    "    if param[\"booster\"] == \"dart\":\n",
    "        param[\"sample_type\"] = trial.suggest_categorical(\"sample_type\", [\"uniform\", \"weighted\"])\n",
    "        param[\"normalize_type\"] = trial.suggest_categorical(\"normalize_type\", [\"tree\", \"forest\"])\n",
    "        param[\"rate_drop\"] = trial.suggest_float(\"rate_drop\", 1e-8, 1.0, log=True)\n",
    "        param[\"skip_drop\"] = trial.suggest_float(\"skip_drop\", 1e-8, 1.0, log=True)\n",
    "\n",
    "    skf = StratifiedKFold(n_splits=10, shuffle=True, random_state=42)\n",
    "    log_loss_scores = []\n",
    "    # 划分验证集\n",
    "    for train_index, val_index in skf.split(train, ytrain['Class']):\n",
    "        x_train_, x_val = train.iloc[train_index], train.iloc[val_index]\n",
    "        y_train_, y_val = ytrain['Class'].iloc[train_index], ytrain['Class'].iloc[val_index]\n",
    "        classifier = xgb.XGBClassifier(**param, verbose=0)\n",
    "        classifier.fit(x_train_, y_train_, eval_set=[(x_val, y_val)], early_stopping_rounds=180, verbose=0, scale_pos_weight=scale_pos_weight)\n",
    "        y_pred_proba = classifier.predict_proba(x_val)[:, 1]\n",
    "        log_loss_scores.append(ScoreMetric(y_val, y_pred_proba))\n",
    "    return np.mean(log_loss_scores)\n",
    "\n",
    "if __name__ == \"__main__\":\n",
    "    sampler = TPESampler(seed=42)\n",
    "    pruner = optuna.pruners.MedianPruner(n_warmup_steps=10)\n",
    "    study = optuna.create_study(pruner=pruner, direction=\"minimize\", sampler=sampler)\n",
    "    study.optimize(objective, n_trials=500)\n",
    "\n",
    "    print(\"Number of finished trials: {}\".format(len(study.trials)))\n",
    "    print(\"Best trial:\")\n",
    "    trial = study.best_trial\n",
    "    print(\"  Value: {}\".format(trial.value))\n",
    "    print(\"  Params: \")\n",
    "    for key, value in trial.params.items():\n",
    "        print(\"    {}: {}\".format(key, value))"
   ]
  },
  {
   "cell_type": "code",
   "execution_count": 38,
   "metadata": {},
   "outputs": [
    {
     "data": {
      "text/plain": [
       "0.9193548387096774"
      ]
     },
     "execution_count": 38,
     "metadata": {},
     "output_type": "execute_result"
    }
   ],
   "source": [
    "model = xgb.XGBClassifier(**trial.params)\n",
    "model.fit(x_train, y_train['Class'])\n",
    "y_pred = model.predict(x_test)\n",
    "y_pred_proba = model.predict_proba(x_test)[:, 1]\n",
    "ScoreMetric(y_test['Class'], y_pred_proba)\n",
    "accuracy_score(y_pred, y_test['Class'])"
   ]
  },
  {
   "cell_type": "code",
   "execution_count": 39,
   "metadata": {},
   "outputs": [
    {
     "data": {
      "application/vnd.plotly.v1+json": {
       "config": {
        "plotlyServerURL": "https://plot.ly"
       },
       "data": [
        {
         "mode": "markers",
         "name": "Objective Value",
         "type": "scatter",
         "x": [
          1,
          4,
          5,
          7,
          8,
          9,
          10,
          11,
          14,
          16,
          17,
          18,
          19,
          20,
          21,
          22,
          23,
          24,
          25,
          27,
          28,
          29,
          30,
          31,
          32,
          33,
          34,
          35,
          36,
          37,
          38,
          39,
          40,
          41,
          42,
          43,
          44,
          45,
          46,
          53,
          79,
          80,
          81,
          82,
          94,
          109,
          110,
          123,
          147,
          149,
          150,
          151,
          152,
          153,
          154,
          155,
          156,
          164,
          211,
          217,
          280,
          281,
          300,
          305,
          317,
          368,
          392,
          393,
          394,
          429,
          430,
          431,
          432,
          433,
          437,
          472,
          475,
          489,
          494,
          498
         ],
         "y": [
          0.519294173810417,
          0.2964243249258402,
          0.6570908050801666,
          0.4021228281661481,
          0.31778231346967856,
          0.3317594289404727,
          0.2938234302905271,
          0.3472449609833941,
          0.3334530464948816,
          0.4217699732173089,
          0.43589788194195717,
          0.3229189213984373,
          0.3542707419664452,
          0.3398362682368953,
          0.2920119083395599,
          0.31154408063557765,
          0.39872285932103935,
          0.3101256523003201,
          0.43668507178111843,
          0.41990007478418934,
          0.29767889072399917,
          0.30025030507507305,
          0.29391292492936805,
          0.32030295395856234,
          0.3039013274370917,
          0.3195390049577525,
          0.30176311071558354,
          0.2882956407734144,
          0.31125284415023186,
          0.4461247292534196,
          0.4139389856410277,
          0.31233148115217735,
          0.32297639589755683,
          0.32952753172441324,
          0.30001151074951105,
          0.27591645194003767,
          0.3110916995289982,
          0.30745073160334674,
          0.34727136133703396,
          0.30637843195900916,
          0.35411390020321476,
          0.2900411000997355,
          0.29870012289230014,
          0.30038010253400277,
          0.28241835503178514,
          0.3627114223329792,
          0.2943327116034818,
          0.3424261164366315,
          0.3063530867191915,
          0.3306014790273939,
          0.40318234491561045,
          0.2729526115260718,
          0.2853558163509007,
          0.2833013228519368,
          0.3326273141040944,
          0.29130559785848337,
          0.2884944705373401,
          0.2750780403732608,
          0.3203026684779316,
          0.28661840791168,
          0.29970256167887355,
          0.2883549059975236,
          0.33518949109537005,
          0.29507748336422496,
          0.2987184455433893,
          0.3107226679234301,
          0.40262858194937917,
          0.26325400947242816,
          0.2645988377143709,
          0.3249956035214791,
          0.25960609054214456,
          0.264443600531112,
          0.26649283727594286,
          0.30667866501083224,
          0.2636847590755062,
          0.2970487888194003,
          0.29804701167358666,
          0.2535332401012661,
          0.3078464720268011,
          0.2921991966076079
         ]
        },
        {
         "name": "Best Value",
         "type": "scatter",
         "x": [
          1,
          4,
          5,
          7,
          8,
          9,
          10,
          11,
          14,
          16,
          17,
          18,
          19,
          20,
          21,
          22,
          23,
          24,
          25,
          27,
          28,
          29,
          30,
          31,
          32,
          33,
          34,
          35,
          36,
          37,
          38,
          39,
          40,
          41,
          42,
          43,
          44,
          45,
          46,
          53,
          79,
          80,
          81,
          82,
          94,
          109,
          110,
          123,
          147,
          149,
          150,
          151,
          152,
          153,
          154,
          155,
          156,
          164,
          211,
          217,
          280,
          281,
          300,
          305,
          317,
          368,
          392,
          393,
          394,
          429,
          430,
          431,
          432,
          433,
          437,
          472,
          475,
          489,
          494,
          498
         ],
         "y": [
          0.519294173810417,
          0.2964243249258402,
          0.2964243249258402,
          0.2964243249258402,
          0.2964243249258402,
          0.2964243249258402,
          0.2938234302905271,
          0.2938234302905271,
          0.2938234302905271,
          0.2938234302905271,
          0.2938234302905271,
          0.2938234302905271,
          0.2938234302905271,
          0.2938234302905271,
          0.2920119083395599,
          0.2920119083395599,
          0.2920119083395599,
          0.2920119083395599,
          0.2920119083395599,
          0.2920119083395599,
          0.2920119083395599,
          0.2920119083395599,
          0.2920119083395599,
          0.2920119083395599,
          0.2920119083395599,
          0.2920119083395599,
          0.2920119083395599,
          0.2882956407734144,
          0.2882956407734144,
          0.2882956407734144,
          0.2882956407734144,
          0.2882956407734144,
          0.2882956407734144,
          0.2882956407734144,
          0.2882956407734144,
          0.27591645194003767,
          0.27591645194003767,
          0.27591645194003767,
          0.27591645194003767,
          0.27591645194003767,
          0.27591645194003767,
          0.27591645194003767,
          0.27591645194003767,
          0.27591645194003767,
          0.27591645194003767,
          0.27591645194003767,
          0.27591645194003767,
          0.27591645194003767,
          0.27591645194003767,
          0.27591645194003767,
          0.27591645194003767,
          0.2729526115260718,
          0.2729526115260718,
          0.2729526115260718,
          0.2729526115260718,
          0.2729526115260718,
          0.2729526115260718,
          0.2729526115260718,
          0.2729526115260718,
          0.2729526115260718,
          0.2729526115260718,
          0.2729526115260718,
          0.2729526115260718,
          0.2729526115260718,
          0.2729526115260718,
          0.2729526115260718,
          0.2729526115260718,
          0.26325400947242816,
          0.26325400947242816,
          0.26325400947242816,
          0.25960609054214456,
          0.25960609054214456,
          0.25960609054214456,
          0.25960609054214456,
          0.25960609054214456,
          0.25960609054214456,
          0.25960609054214456,
          0.2535332401012661,
          0.2535332401012661,
          0.2535332401012661
         ]
        }
       ],
       "layout": {
        "template": {
         "data": {
          "bar": [
           {
            "error_x": {
             "color": "#2a3f5f"
            },
            "error_y": {
             "color": "#2a3f5f"
            },
            "marker": {
             "line": {
              "color": "#E5ECF6",
              "width": 0.5
             },
             "pattern": {
              "fillmode": "overlay",
              "size": 10,
              "solidity": 0.2
             }
            },
            "type": "bar"
           }
          ],
          "barpolar": [
           {
            "marker": {
             "line": {
              "color": "#E5ECF6",
              "width": 0.5
             },
             "pattern": {
              "fillmode": "overlay",
              "size": 10,
              "solidity": 0.2
             }
            },
            "type": "barpolar"
           }
          ],
          "carpet": [
           {
            "aaxis": {
             "endlinecolor": "#2a3f5f",
             "gridcolor": "white",
             "linecolor": "white",
             "minorgridcolor": "white",
             "startlinecolor": "#2a3f5f"
            },
            "baxis": {
             "endlinecolor": "#2a3f5f",
             "gridcolor": "white",
             "linecolor": "white",
             "minorgridcolor": "white",
             "startlinecolor": "#2a3f5f"
            },
            "type": "carpet"
           }
          ],
          "choropleth": [
           {
            "colorbar": {
             "outlinewidth": 0,
             "ticks": ""
            },
            "type": "choropleth"
           }
          ],
          "contour": [
           {
            "colorbar": {
             "outlinewidth": 0,
             "ticks": ""
            },
            "colorscale": [
             [
              0,
              "#0d0887"
             ],
             [
              0.1111111111111111,
              "#46039f"
             ],
             [
              0.2222222222222222,
              "#7201a8"
             ],
             [
              0.3333333333333333,
              "#9c179e"
             ],
             [
              0.4444444444444444,
              "#bd3786"
             ],
             [
              0.5555555555555556,
              "#d8576b"
             ],
             [
              0.6666666666666666,
              "#ed7953"
             ],
             [
              0.7777777777777778,
              "#fb9f3a"
             ],
             [
              0.8888888888888888,
              "#fdca26"
             ],
             [
              1,
              "#f0f921"
             ]
            ],
            "type": "contour"
           }
          ],
          "contourcarpet": [
           {
            "colorbar": {
             "outlinewidth": 0,
             "ticks": ""
            },
            "type": "contourcarpet"
           }
          ],
          "heatmap": [
           {
            "colorbar": {
             "outlinewidth": 0,
             "ticks": ""
            },
            "colorscale": [
             [
              0,
              "#0d0887"
             ],
             [
              0.1111111111111111,
              "#46039f"
             ],
             [
              0.2222222222222222,
              "#7201a8"
             ],
             [
              0.3333333333333333,
              "#9c179e"
             ],
             [
              0.4444444444444444,
              "#bd3786"
             ],
             [
              0.5555555555555556,
              "#d8576b"
             ],
             [
              0.6666666666666666,
              "#ed7953"
             ],
             [
              0.7777777777777778,
              "#fb9f3a"
             ],
             [
              0.8888888888888888,
              "#fdca26"
             ],
             [
              1,
              "#f0f921"
             ]
            ],
            "type": "heatmap"
           }
          ],
          "heatmapgl": [
           {
            "colorbar": {
             "outlinewidth": 0,
             "ticks": ""
            },
            "colorscale": [
             [
              0,
              "#0d0887"
             ],
             [
              0.1111111111111111,
              "#46039f"
             ],
             [
              0.2222222222222222,
              "#7201a8"
             ],
             [
              0.3333333333333333,
              "#9c179e"
             ],
             [
              0.4444444444444444,
              "#bd3786"
             ],
             [
              0.5555555555555556,
              "#d8576b"
             ],
             [
              0.6666666666666666,
              "#ed7953"
             ],
             [
              0.7777777777777778,
              "#fb9f3a"
             ],
             [
              0.8888888888888888,
              "#fdca26"
             ],
             [
              1,
              "#f0f921"
             ]
            ],
            "type": "heatmapgl"
           }
          ],
          "histogram": [
           {
            "marker": {
             "pattern": {
              "fillmode": "overlay",
              "size": 10,
              "solidity": 0.2
             }
            },
            "type": "histogram"
           }
          ],
          "histogram2d": [
           {
            "colorbar": {
             "outlinewidth": 0,
             "ticks": ""
            },
            "colorscale": [
             [
              0,
              "#0d0887"
             ],
             [
              0.1111111111111111,
              "#46039f"
             ],
             [
              0.2222222222222222,
              "#7201a8"
             ],
             [
              0.3333333333333333,
              "#9c179e"
             ],
             [
              0.4444444444444444,
              "#bd3786"
             ],
             [
              0.5555555555555556,
              "#d8576b"
             ],
             [
              0.6666666666666666,
              "#ed7953"
             ],
             [
              0.7777777777777778,
              "#fb9f3a"
             ],
             [
              0.8888888888888888,
              "#fdca26"
             ],
             [
              1,
              "#f0f921"
             ]
            ],
            "type": "histogram2d"
           }
          ],
          "histogram2dcontour": [
           {
            "colorbar": {
             "outlinewidth": 0,
             "ticks": ""
            },
            "colorscale": [
             [
              0,
              "#0d0887"
             ],
             [
              0.1111111111111111,
              "#46039f"
             ],
             [
              0.2222222222222222,
              "#7201a8"
             ],
             [
              0.3333333333333333,
              "#9c179e"
             ],
             [
              0.4444444444444444,
              "#bd3786"
             ],
             [
              0.5555555555555556,
              "#d8576b"
             ],
             [
              0.6666666666666666,
              "#ed7953"
             ],
             [
              0.7777777777777778,
              "#fb9f3a"
             ],
             [
              0.8888888888888888,
              "#fdca26"
             ],
             [
              1,
              "#f0f921"
             ]
            ],
            "type": "histogram2dcontour"
           }
          ],
          "mesh3d": [
           {
            "colorbar": {
             "outlinewidth": 0,
             "ticks": ""
            },
            "type": "mesh3d"
           }
          ],
          "parcoords": [
           {
            "line": {
             "colorbar": {
              "outlinewidth": 0,
              "ticks": ""
             }
            },
            "type": "parcoords"
           }
          ],
          "pie": [
           {
            "automargin": true,
            "type": "pie"
           }
          ],
          "scatter": [
           {
            "fillpattern": {
             "fillmode": "overlay",
             "size": 10,
             "solidity": 0.2
            },
            "type": "scatter"
           }
          ],
          "scatter3d": [
           {
            "line": {
             "colorbar": {
              "outlinewidth": 0,
              "ticks": ""
             }
            },
            "marker": {
             "colorbar": {
              "outlinewidth": 0,
              "ticks": ""
             }
            },
            "type": "scatter3d"
           }
          ],
          "scattercarpet": [
           {
            "marker": {
             "colorbar": {
              "outlinewidth": 0,
              "ticks": ""
             }
            },
            "type": "scattercarpet"
           }
          ],
          "scattergeo": [
           {
            "marker": {
             "colorbar": {
              "outlinewidth": 0,
              "ticks": ""
             }
            },
            "type": "scattergeo"
           }
          ],
          "scattergl": [
           {
            "marker": {
             "colorbar": {
              "outlinewidth": 0,
              "ticks": ""
             }
            },
            "type": "scattergl"
           }
          ],
          "scattermapbox": [
           {
            "marker": {
             "colorbar": {
              "outlinewidth": 0,
              "ticks": ""
             }
            },
            "type": "scattermapbox"
           }
          ],
          "scatterpolar": [
           {
            "marker": {
             "colorbar": {
              "outlinewidth": 0,
              "ticks": ""
             }
            },
            "type": "scatterpolar"
           }
          ],
          "scatterpolargl": [
           {
            "marker": {
             "colorbar": {
              "outlinewidth": 0,
              "ticks": ""
             }
            },
            "type": "scatterpolargl"
           }
          ],
          "scatterternary": [
           {
            "marker": {
             "colorbar": {
              "outlinewidth": 0,
              "ticks": ""
             }
            },
            "type": "scatterternary"
           }
          ],
          "surface": [
           {
            "colorbar": {
             "outlinewidth": 0,
             "ticks": ""
            },
            "colorscale": [
             [
              0,
              "#0d0887"
             ],
             [
              0.1111111111111111,
              "#46039f"
             ],
             [
              0.2222222222222222,
              "#7201a8"
             ],
             [
              0.3333333333333333,
              "#9c179e"
             ],
             [
              0.4444444444444444,
              "#bd3786"
             ],
             [
              0.5555555555555556,
              "#d8576b"
             ],
             [
              0.6666666666666666,
              "#ed7953"
             ],
             [
              0.7777777777777778,
              "#fb9f3a"
             ],
             [
              0.8888888888888888,
              "#fdca26"
             ],
             [
              1,
              "#f0f921"
             ]
            ],
            "type": "surface"
           }
          ],
          "table": [
           {
            "cells": {
             "fill": {
              "color": "#EBF0F8"
             },
             "line": {
              "color": "white"
             }
            },
            "header": {
             "fill": {
              "color": "#C8D4E3"
             },
             "line": {
              "color": "white"
             }
            },
            "type": "table"
           }
          ]
         },
         "layout": {
          "annotationdefaults": {
           "arrowcolor": "#2a3f5f",
           "arrowhead": 0,
           "arrowwidth": 1
          },
          "autotypenumbers": "strict",
          "coloraxis": {
           "colorbar": {
            "outlinewidth": 0,
            "ticks": ""
           }
          },
          "colorscale": {
           "diverging": [
            [
             0,
             "#8e0152"
            ],
            [
             0.1,
             "#c51b7d"
            ],
            [
             0.2,
             "#de77ae"
            ],
            [
             0.3,
             "#f1b6da"
            ],
            [
             0.4,
             "#fde0ef"
            ],
            [
             0.5,
             "#f7f7f7"
            ],
            [
             0.6,
             "#e6f5d0"
            ],
            [
             0.7,
             "#b8e186"
            ],
            [
             0.8,
             "#7fbc41"
            ],
            [
             0.9,
             "#4d9221"
            ],
            [
             1,
             "#276419"
            ]
           ],
           "sequential": [
            [
             0,
             "#0d0887"
            ],
            [
             0.1111111111111111,
             "#46039f"
            ],
            [
             0.2222222222222222,
             "#7201a8"
            ],
            [
             0.3333333333333333,
             "#9c179e"
            ],
            [
             0.4444444444444444,
             "#bd3786"
            ],
            [
             0.5555555555555556,
             "#d8576b"
            ],
            [
             0.6666666666666666,
             "#ed7953"
            ],
            [
             0.7777777777777778,
             "#fb9f3a"
            ],
            [
             0.8888888888888888,
             "#fdca26"
            ],
            [
             1,
             "#f0f921"
            ]
           ],
           "sequentialminus": [
            [
             0,
             "#0d0887"
            ],
            [
             0.1111111111111111,
             "#46039f"
            ],
            [
             0.2222222222222222,
             "#7201a8"
            ],
            [
             0.3333333333333333,
             "#9c179e"
            ],
            [
             0.4444444444444444,
             "#bd3786"
            ],
            [
             0.5555555555555556,
             "#d8576b"
            ],
            [
             0.6666666666666666,
             "#ed7953"
            ],
            [
             0.7777777777777778,
             "#fb9f3a"
            ],
            [
             0.8888888888888888,
             "#fdca26"
            ],
            [
             1,
             "#f0f921"
            ]
           ]
          },
          "colorway": [
           "#636efa",
           "#EF553B",
           "#00cc96",
           "#ab63fa",
           "#FFA15A",
           "#19d3f3",
           "#FF6692",
           "#B6E880",
           "#FF97FF",
           "#FECB52"
          ],
          "font": {
           "color": "#2a3f5f"
          },
          "geo": {
           "bgcolor": "white",
           "lakecolor": "white",
           "landcolor": "#E5ECF6",
           "showlakes": true,
           "showland": true,
           "subunitcolor": "white"
          },
          "hoverlabel": {
           "align": "left"
          },
          "hovermode": "closest",
          "mapbox": {
           "style": "light"
          },
          "paper_bgcolor": "white",
          "plot_bgcolor": "#E5ECF6",
          "polar": {
           "angularaxis": {
            "gridcolor": "white",
            "linecolor": "white",
            "ticks": ""
           },
           "bgcolor": "#E5ECF6",
           "radialaxis": {
            "gridcolor": "white",
            "linecolor": "white",
            "ticks": ""
           }
          },
          "scene": {
           "xaxis": {
            "backgroundcolor": "#E5ECF6",
            "gridcolor": "white",
            "gridwidth": 2,
            "linecolor": "white",
            "showbackground": true,
            "ticks": "",
            "zerolinecolor": "white"
           },
           "yaxis": {
            "backgroundcolor": "#E5ECF6",
            "gridcolor": "white",
            "gridwidth": 2,
            "linecolor": "white",
            "showbackground": true,
            "ticks": "",
            "zerolinecolor": "white"
           },
           "zaxis": {
            "backgroundcolor": "#E5ECF6",
            "gridcolor": "white",
            "gridwidth": 2,
            "linecolor": "white",
            "showbackground": true,
            "ticks": "",
            "zerolinecolor": "white"
           }
          },
          "shapedefaults": {
           "line": {
            "color": "#2a3f5f"
           }
          },
          "ternary": {
           "aaxis": {
            "gridcolor": "white",
            "linecolor": "white",
            "ticks": ""
           },
           "baxis": {
            "gridcolor": "white",
            "linecolor": "white",
            "ticks": ""
           },
           "bgcolor": "#E5ECF6",
           "caxis": {
            "gridcolor": "white",
            "linecolor": "white",
            "ticks": ""
           }
          },
          "title": {
           "x": 0.05
          },
          "xaxis": {
           "automargin": true,
           "gridcolor": "white",
           "linecolor": "white",
           "ticks": "",
           "title": {
            "standoff": 15
           },
           "zerolinecolor": "white",
           "zerolinewidth": 2
          },
          "yaxis": {
           "automargin": true,
           "gridcolor": "white",
           "linecolor": "white",
           "ticks": "",
           "title": {
            "standoff": 15
           },
           "zerolinecolor": "white",
           "zerolinewidth": 2
          }
         }
        },
        "title": {
         "text": "Optimization History Plot"
        },
        "xaxis": {
         "title": {
          "text": "Trial"
         }
        },
        "yaxis": {
         "title": {
          "text": "Objective Value"
         }
        }
       }
      }
     },
     "metadata": {},
     "output_type": "display_data"
    }
   ],
   "source": [
    "plot_optimization_history(study)"
   ]
  },
  {
   "cell_type": "code",
   "execution_count": 40,
   "metadata": {},
   "outputs": [
    {
     "data": {
      "application/vnd.plotly.v1+json": {
       "config": {
        "plotlyServerURL": "https://plot.ly"
       },
       "data": [
        {
         "marker": {
          "color": [
           1,
           4,
           5,
           7,
           8,
           9,
           10,
           11,
           14,
           16,
           17,
           18,
           19,
           20,
           21,
           22,
           23,
           24,
           25,
           27,
           28,
           29,
           30,
           31,
           32,
           33,
           34,
           35,
           36,
           37,
           38,
           39,
           40,
           41,
           42,
           43,
           44,
           45,
           46,
           53,
           79,
           80,
           81,
           82,
           94,
           109,
           110,
           123,
           147,
           149,
           150,
           151,
           152,
           153,
           154,
           155,
           156,
           164,
           211,
           217,
           280,
           281,
           300,
           305,
           317,
           368,
           392,
           393,
           394,
           429,
           430,
           431,
           432,
           433,
           437,
           472,
           475,
           489,
           494,
           498
          ],
          "colorbar": {
           "title": {
            "text": "Trial"
           },
           "x": 1,
           "xpad": 40
          },
          "colorscale": [
           [
            0,
            "rgb(247,251,255)"
           ],
           [
            0.125,
            "rgb(222,235,247)"
           ],
           [
            0.25,
            "rgb(198,219,239)"
           ],
           [
            0.375,
            "rgb(158,202,225)"
           ],
           [
            0.5,
            "rgb(107,174,214)"
           ],
           [
            0.625,
            "rgb(66,146,198)"
           ],
           [
            0.75,
            "rgb(33,113,181)"
           ],
           [
            0.875,
            "rgb(8,81,156)"
           ],
           [
            1,
            "rgb(8,48,107)"
           ]
          ],
          "line": {
           "color": "Grey",
           "width": 0.5
          },
          "showscale": true
         },
         "mode": "markers",
         "showlegend": false,
         "type": "scatter",
         "x": [
          0.04566054873446119,
          0.000002734702913886802,
          0.23713402899336497,
          3.8879928024075543e-7,
          9.052196389541886e-8,
          4.128946718697511e-8,
          1.1366245816554797e-8,
          0.00010505873950469604,
          0.0033690069338789532,
          0.1543240130559408,
          1.1491548505141235e-8,
          0.0000022668308927405527,
          0.00000854314294009816,
          1.2738624199678544e-8,
          6.100609456046906e-7,
          1.0782309480653116e-7,
          4.3137572965934697e-7,
          0.000042587709795538606,
          3.9611065783321447e-7,
          1.842896955047312e-8,
          1.797750493310095e-7,
          0.000001803844213123157,
          0.000003944762914421563,
          6.827796460614719e-8,
          0.00003160136966329224,
          9.219077078146844e-7,
          0.00000972763789202479,
          4.734605110816697e-8,
          3.193434316905125e-8,
          1.0853956951811848e-8,
          5.489395745930024e-8,
          1.9913254509999844e-7,
          5.037004489929766e-7,
          1.2593003932557786e-7,
          4.7769702299372884e-8,
          0.000001329869422762446,
          7.881806421393058e-7,
          2.8197791678507247e-8,
          1.9437188156737844e-7,
          3.453105678797202e-8,
          0.0000010430061627750454,
          0.0000040769185653816995,
          2.52674340739389e-7,
          8.611502485747784e-8,
          0.0000015942382991521329,
          0.0000011985877135899945,
          0.00000396902032412218,
          0.0000024433943759985657,
          5.115895813671084e-7,
          0.0002279478907796285,
          0.0000065467509628775815,
          3.2170126364202345e-7,
          0.0000016115820204214139,
          0.0000015967450864958516,
          3.7827569019875443e-7,
          0.000001075200972920533,
          1.4236458566027075e-7,
          0.00001245456836552597,
          0.0000016809086729980843,
          0.000012509243781076795,
          0.000003999573196569937,
          0.000013513431983186426,
          0.0000020671709749247633,
          0.000020934159151905447,
          0.00000730277071428418,
          0.000001779145327340867,
          0.000010579187956339559,
          6.755209544929712e-7,
          3.2529905537934614e-7,
          3.5713458996946674e-7,
          7.350952561203896e-7,
          5.991098356327728e-7,
          6.915039074210721e-7,
          7.803012171263324e-7,
          3.2490715592139965e-7,
          2.827153583207699e-7,
          6.126443261070681e-7,
          1.1158232780616973e-7,
          1.4920411392477663e-7,
          8.863207228600965e-8
         ],
         "xaxis": "x",
         "y": [
          0.519294173810417,
          0.2964243249258402,
          0.6570908050801666,
          0.4021228281661481,
          0.31778231346967856,
          0.3317594289404727,
          0.2938234302905271,
          0.3472449609833941,
          0.3334530464948816,
          0.4217699732173089,
          0.43589788194195717,
          0.3229189213984373,
          0.3542707419664452,
          0.3398362682368953,
          0.2920119083395599,
          0.31154408063557765,
          0.39872285932103935,
          0.3101256523003201,
          0.43668507178111843,
          0.41990007478418934,
          0.29767889072399917,
          0.30025030507507305,
          0.29391292492936805,
          0.32030295395856234,
          0.3039013274370917,
          0.3195390049577525,
          0.30176311071558354,
          0.2882956407734144,
          0.31125284415023186,
          0.4461247292534196,
          0.4139389856410277,
          0.31233148115217735,
          0.32297639589755683,
          0.32952753172441324,
          0.30001151074951105,
          0.27591645194003767,
          0.3110916995289982,
          0.30745073160334674,
          0.34727136133703396,
          0.30637843195900916,
          0.35411390020321476,
          0.2900411000997355,
          0.29870012289230014,
          0.30038010253400277,
          0.28241835503178514,
          0.3627114223329792,
          0.2943327116034818,
          0.3424261164366315,
          0.3063530867191915,
          0.3306014790273939,
          0.40318234491561045,
          0.2729526115260718,
          0.2853558163509007,
          0.2833013228519368,
          0.3326273141040944,
          0.29130559785848337,
          0.2884944705373401,
          0.2750780403732608,
          0.3203026684779316,
          0.28661840791168,
          0.29970256167887355,
          0.2883549059975236,
          0.33518949109537005,
          0.29507748336422496,
          0.2987184455433893,
          0.3107226679234301,
          0.40262858194937917,
          0.26325400947242816,
          0.2645988377143709,
          0.3249956035214791,
          0.25960609054214456,
          0.264443600531112,
          0.26649283727594286,
          0.30667866501083224,
          0.2636847590755062,
          0.2970487888194003,
          0.29804701167358666,
          0.2535332401012661,
          0.3078464720268011,
          0.2921991966076079
         ],
         "yaxis": "y"
        },
        {
         "marker": {
          "color": [
           1,
           4,
           5,
           7,
           8,
           9,
           10,
           11,
           14,
           16,
           17,
           18,
           19,
           20,
           21,
           22,
           23,
           24,
           25,
           27,
           28,
           29,
           30,
           31,
           32,
           33,
           34,
           35,
           36,
           37,
           38,
           39,
           40,
           41,
           42,
           43,
           44,
           45,
           46,
           53,
           79,
           80,
           81,
           82,
           94,
           109,
           110,
           123,
           147,
           149,
           150,
           151,
           152,
           153,
           154,
           155,
           156,
           164,
           211,
           217,
           280,
           281,
           300,
           305,
           317,
           368,
           392,
           393,
           394,
           429,
           430,
           431,
           432,
           433,
           437,
           472,
           475,
           489,
           494,
           498
          ],
          "colorbar": {
           "title": {
            "text": "Trial"
           },
           "x": 1,
           "xpad": 40
          },
          "colorscale": [
           [
            0,
            "rgb(247,251,255)"
           ],
           [
            0.125,
            "rgb(222,235,247)"
           ],
           [
            0.25,
            "rgb(198,219,239)"
           ],
           [
            0.375,
            "rgb(158,202,225)"
           ],
           [
            0.5,
            "rgb(107,174,214)"
           ],
           [
            0.625,
            "rgb(66,146,198)"
           ],
           [
            0.75,
            "rgb(33,113,181)"
           ],
           [
            0.875,
            "rgb(8,81,156)"
           ],
           [
            1,
            "rgb(8,48,107)"
           ]
          ],
          "line": {
           "color": "Grey",
           "width": 0.5
          },
          "showscale": false
         },
         "mode": "markers",
         "showlegend": false,
         "type": "scatter",
         "x": [
          "gblinear",
          "dart",
          "gblinear",
          "dart",
          "dart",
          "dart",
          "dart",
          "gbtree",
          "dart",
          "gbtree",
          "gblinear",
          "dart",
          "dart",
          "dart",
          "dart",
          "gbtree",
          "dart",
          "dart",
          "gbtree",
          "gblinear",
          "dart",
          "dart",
          "dart",
          "dart",
          "dart",
          "dart",
          "dart",
          "dart",
          "gbtree",
          "gblinear",
          "gblinear",
          "dart",
          "dart",
          "dart",
          "dart",
          "dart",
          "dart",
          "dart",
          "dart",
          "dart",
          "gbtree",
          "dart",
          "dart",
          "dart",
          "dart",
          "dart",
          "dart",
          "dart",
          "dart",
          "gbtree",
          "gblinear",
          "dart",
          "dart",
          "dart",
          "dart",
          "dart",
          "dart",
          "dart",
          "dart",
          "dart",
          "dart",
          "dart",
          "dart",
          "dart",
          "dart",
          "gbtree",
          "gblinear",
          "dart",
          "dart",
          "dart",
          "dart",
          "dart",
          "dart",
          "dart",
          "dart",
          "dart",
          "dart",
          "dart",
          "dart",
          "gbtree"
         ],
         "xaxis": "x2",
         "y": [
          0.519294173810417,
          0.2964243249258402,
          0.6570908050801666,
          0.4021228281661481,
          0.31778231346967856,
          0.3317594289404727,
          0.2938234302905271,
          0.3472449609833941,
          0.3334530464948816,
          0.4217699732173089,
          0.43589788194195717,
          0.3229189213984373,
          0.3542707419664452,
          0.3398362682368953,
          0.2920119083395599,
          0.31154408063557765,
          0.39872285932103935,
          0.3101256523003201,
          0.43668507178111843,
          0.41990007478418934,
          0.29767889072399917,
          0.30025030507507305,
          0.29391292492936805,
          0.32030295395856234,
          0.3039013274370917,
          0.3195390049577525,
          0.30176311071558354,
          0.2882956407734144,
          0.31125284415023186,
          0.4461247292534196,
          0.4139389856410277,
          0.31233148115217735,
          0.32297639589755683,
          0.32952753172441324,
          0.30001151074951105,
          0.27591645194003767,
          0.3110916995289982,
          0.30745073160334674,
          0.34727136133703396,
          0.30637843195900916,
          0.35411390020321476,
          0.2900411000997355,
          0.29870012289230014,
          0.30038010253400277,
          0.28241835503178514,
          0.3627114223329792,
          0.2943327116034818,
          0.3424261164366315,
          0.3063530867191915,
          0.3306014790273939,
          0.40318234491561045,
          0.2729526115260718,
          0.2853558163509007,
          0.2833013228519368,
          0.3326273141040944,
          0.29130559785848337,
          0.2884944705373401,
          0.2750780403732608,
          0.3203026684779316,
          0.28661840791168,
          0.29970256167887355,
          0.2883549059975236,
          0.33518949109537005,
          0.29507748336422496,
          0.2987184455433893,
          0.3107226679234301,
          0.40262858194937917,
          0.26325400947242816,
          0.2645988377143709,
          0.3249956035214791,
          0.25960609054214456,
          0.264443600531112,
          0.26649283727594286,
          0.30667866501083224,
          0.2636847590755062,
          0.2970487888194003,
          0.29804701167358666,
          0.2535332401012661,
          0.3078464720268011,
          0.2921991966076079
         ],
         "yaxis": "y2"
        },
        {
         "marker": {
          "color": [
           1,
           4,
           5,
           7,
           8,
           9,
           10,
           11,
           14,
           16,
           17,
           18,
           19,
           20,
           21,
           22,
           23,
           24,
           25,
           27,
           28,
           29,
           30,
           31,
           32,
           33,
           34,
           35,
           36,
           37,
           38,
           39,
           40,
           41,
           42,
           43,
           44,
           45,
           46,
           53,
           79,
           80,
           81,
           82,
           94,
           109,
           110,
           123,
           147,
           149,
           150,
           151,
           152,
           153,
           154,
           155,
           156,
           164,
           211,
           217,
           280,
           281,
           300,
           305,
           317,
           368,
           392,
           393,
           394,
           429,
           430,
           431,
           432,
           433,
           437,
           472,
           475,
           489,
           494,
           498
          ],
          "colorbar": {
           "title": {
            "text": "Trial"
           },
           "x": 1,
           "xpad": 40
          },
          "colorscale": [
           [
            0,
            "rgb(247,251,255)"
           ],
           [
            0.125,
            "rgb(222,235,247)"
           ],
           [
            0.25,
            "rgb(198,219,239)"
           ],
           [
            0.375,
            "rgb(158,202,225)"
           ],
           [
            0.5,
            "rgb(107,174,214)"
           ],
           [
            0.625,
            "rgb(66,146,198)"
           ],
           [
            0.75,
            "rgb(33,113,181)"
           ],
           [
            0.875,
            "rgb(8,81,156)"
           ],
           [
            1,
            "rgb(8,48,107)"
           ]
          ],
          "line": {
           "color": "Grey",
           "width": 0.5
          },
          "showscale": false
         },
         "mode": "markers",
         "showlegend": false,
         "type": "scatter",
         "x": [
          0.3090949803242604,
          0.6105398159072942,
          0.3175897174514871,
          0.6892768570729007,
          0.6564710291701386,
          0.2967327723524027,
          0.45044660188926744,
          0.3671878785419669,
          0.7620379932420409,
          0.2055182309699778,
          0.5001898853570131,
          0.5260726531104581,
          0.5765857671535701,
          0.47726885504067695,
          0.602327085562932,
          0.4458269239938906,
          0.42374539476263773,
          0.5568483800455777,
          0.6195553530858802,
          0.5290260990840006,
          0.42919976707438945,
          0.6037008040896494,
          0.6644483588426067,
          0.7094989193399925,
          0.7766791499619913,
          0.6586362100950794,
          0.5607963812988364,
          0.7222325488997194,
          0.7395057648887469,
          0.7379890311405075,
          0.7938242157651187,
          0.6707565463558554,
          0.624286530374231,
          0.7213997957443907,
          0.6937024301864914,
          0.6380874936845242,
          0.5881054639688861,
          0.6343086062300711,
          0.6922686419585655,
          0.6376718457731549,
          0.5862167633069852,
          0.6767130464204894,
          0.6786298288738961,
          0.6484253761344668,
          0.7530936629355138,
          0.7520497638045682,
          0.720510598917254,
          0.776091437046109,
          0.7049623580442064,
          0.6850356265061077,
          0.7352952551151122,
          0.607715040058749,
          0.6144635355027217,
          0.6358458137150318,
          0.6150493848882874,
          0.6456052399267944,
          0.6078056676773902,
          0.6546728005046648,
          0.6566598842017053,
          0.5726698433664684,
          0.5439735552171666,
          0.5918917492671144,
          0.5734003479615153,
          0.6292937337372685,
          0.5708014458250931,
          0.6052399471148548,
          0.6240989609864294,
          0.5493747762233495,
          0.5474616347401878,
          0.5130066340227525,
          0.5426344982464315,
          0.5527843689745726,
          0.5461438769188801,
          0.544652072179651,
          0.4925124133580938,
          0.487548503557908,
          0.522706429328931,
          0.5482579412080295,
          0.5044102401546413,
          0.5455787638032608
         ],
         "xaxis": "x3",
         "y": [
          0.519294173810417,
          0.2964243249258402,
          0.6570908050801666,
          0.4021228281661481,
          0.31778231346967856,
          0.3317594289404727,
          0.2938234302905271,
          0.3472449609833941,
          0.3334530464948816,
          0.4217699732173089,
          0.43589788194195717,
          0.3229189213984373,
          0.3542707419664452,
          0.3398362682368953,
          0.2920119083395599,
          0.31154408063557765,
          0.39872285932103935,
          0.3101256523003201,
          0.43668507178111843,
          0.41990007478418934,
          0.29767889072399917,
          0.30025030507507305,
          0.29391292492936805,
          0.32030295395856234,
          0.3039013274370917,
          0.3195390049577525,
          0.30176311071558354,
          0.2882956407734144,
          0.31125284415023186,
          0.4461247292534196,
          0.4139389856410277,
          0.31233148115217735,
          0.32297639589755683,
          0.32952753172441324,
          0.30001151074951105,
          0.27591645194003767,
          0.3110916995289982,
          0.30745073160334674,
          0.34727136133703396,
          0.30637843195900916,
          0.35411390020321476,
          0.2900411000997355,
          0.29870012289230014,
          0.30038010253400277,
          0.28241835503178514,
          0.3627114223329792,
          0.2943327116034818,
          0.3424261164366315,
          0.3063530867191915,
          0.3306014790273939,
          0.40318234491561045,
          0.2729526115260718,
          0.2853558163509007,
          0.2833013228519368,
          0.3326273141040944,
          0.29130559785848337,
          0.2884944705373401,
          0.2750780403732608,
          0.3203026684779316,
          0.28661840791168,
          0.29970256167887355,
          0.2883549059975236,
          0.33518949109537005,
          0.29507748336422496,
          0.2987184455433893,
          0.3107226679234301,
          0.40262858194937917,
          0.26325400947242816,
          0.2645988377143709,
          0.3249956035214791,
          0.25960609054214456,
          0.264443600531112,
          0.26649283727594286,
          0.30667866501083224,
          0.2636847590755062,
          0.2970487888194003,
          0.29804701167358666,
          0.2535332401012661,
          0.3078464720268011,
          0.2921991966076079
         ],
         "yaxis": "y3"
        },
        {
         "marker": {
          "color": [
           4,
           7,
           8,
           9,
           10,
           11,
           14,
           16,
           18,
           19,
           20,
           21,
           22,
           23,
           24,
           25,
           28,
           29,
           30,
           31,
           32,
           33,
           34,
           35,
           36,
           39,
           40,
           41,
           42,
           43,
           44,
           45,
           46,
           53,
           79,
           80,
           81,
           82,
           94,
           109,
           110,
           123,
           147,
           149,
           151,
           152,
           153,
           154,
           155,
           156,
           164,
           211,
           217,
           280,
           281,
           300,
           305,
           317,
           368,
           393,
           394,
           429,
           430,
           431,
           432,
           433,
           437,
           472,
           475,
           489,
           494,
           498
          ],
          "colorbar": {
           "title": {
            "text": "Trial"
           },
           "x": 1,
           "xpad": 40
          },
          "colorscale": [
           [
            0,
            "rgb(247,251,255)"
           ],
           [
            0.125,
            "rgb(222,235,247)"
           ],
           [
            0.25,
            "rgb(198,219,239)"
           ],
           [
            0.375,
            "rgb(158,202,225)"
           ],
           [
            0.5,
            "rgb(107,174,214)"
           ],
           [
            0.625,
            "rgb(66,146,198)"
           ],
           [
            0.75,
            "rgb(33,113,181)"
           ],
           [
            0.875,
            "rgb(8,81,156)"
           ],
           [
            1,
            "rgb(8,48,107)"
           ]
          ],
          "line": {
           "color": "Grey",
           "width": 0.5
          },
          "showscale": false
         },
         "mode": "markers",
         "showlegend": false,
         "type": "scatter",
         "x": [
          0.030586566669785254,
          0.20597335357437188,
          0.030296104428212477,
          0.07947147424653743,
          0.01030019660098677,
          0.0027207248059486684,
          0.002189881242905692,
          0.0010355826161899187,
          0.016420134205543592,
          0.9728583151931056,
          0.010149230199388902,
          0.008184048727196903,
          0.006839305822689301,
          0.006031082165744434,
          0.01332359627180538,
          0.0032583424397482795,
          0.006504956767620912,
          0.02826417001829904,
          0.056180470756553344,
          0.060540495860108304,
          0.01644208424927164,
          0.06414838545649194,
          0.009182663035279459,
          0.004472123554001727,
          0.004399370430019953,
          0.004572703286278121,
          0.010508266421963505,
          0.016529345955020328,
          0.0018987982783920544,
          0.0038178204031137203,
          0.004351048024381601,
          0.001718305050147351,
          0.0034744875322021288,
          0.005984541842156558,
          0.008237777628912972,
          0.022531801652263143,
          0.02533133950386714,
          0.01268021686467385,
          0.0027238460532415234,
          0.003177739607723405,
          0.0022450292474467354,
          0.0012935718879152468,
          0.0029298077965001666,
          0.0047232299198843265,
          0.008316436260520352,
          0.007822490178681722,
          0.005799647271210094,
          0.002405037831176658,
          0.00580034306589697,
          0.0035766153189084,
          0.008137004008668689,
          0.007800875233326009,
          0.006386939425377303,
          0.01211771213269172,
          0.007897732511680333,
          0.006042865932172322,
          0.008634367088908105,
          0.005403229725458683,
          0.003683723331388952,
          0.0029133245481017013,
          0.0028866220062081145,
          0.0024595879863742965,
          0.0016243069743877118,
          0.0016355219985939972,
          0.001476468690198833,
          0.0012568600324482568,
          0.001725982608414639,
          0.0017684318068149252,
          0.0014842276734624237,
          0.0010017919482385215,
          0.0010060387935132053,
          0.0019148518152361318
         ],
         "xaxis": "x4",
         "y": [
          0.2964243249258402,
          0.4021228281661481,
          0.31778231346967856,
          0.3317594289404727,
          0.2938234302905271,
          0.3472449609833941,
          0.3334530464948816,
          0.4217699732173089,
          0.3229189213984373,
          0.3542707419664452,
          0.3398362682368953,
          0.2920119083395599,
          0.31154408063557765,
          0.39872285932103935,
          0.3101256523003201,
          0.43668507178111843,
          0.29767889072399917,
          0.30025030507507305,
          0.29391292492936805,
          0.32030295395856234,
          0.3039013274370917,
          0.3195390049577525,
          0.30176311071558354,
          0.2882956407734144,
          0.31125284415023186,
          0.31233148115217735,
          0.32297639589755683,
          0.32952753172441324,
          0.30001151074951105,
          0.27591645194003767,
          0.3110916995289982,
          0.30745073160334674,
          0.34727136133703396,
          0.30637843195900916,
          0.35411390020321476,
          0.2900411000997355,
          0.29870012289230014,
          0.30038010253400277,
          0.28241835503178514,
          0.3627114223329792,
          0.2943327116034818,
          0.3424261164366315,
          0.3063530867191915,
          0.3306014790273939,
          0.2729526115260718,
          0.2853558163509007,
          0.2833013228519368,
          0.3326273141040944,
          0.29130559785848337,
          0.2884944705373401,
          0.2750780403732608,
          0.3203026684779316,
          0.28661840791168,
          0.29970256167887355,
          0.2883549059975236,
          0.33518949109537005,
          0.29507748336422496,
          0.2987184455433893,
          0.3107226679234301,
          0.26325400947242816,
          0.2645988377143709,
          0.3249956035214791,
          0.25960609054214456,
          0.264443600531112,
          0.26649283727594286,
          0.30667866501083224,
          0.2636847590755062,
          0.2970487888194003,
          0.29804701167358666,
          0.2535332401012661,
          0.3078464720268011,
          0.2921991966076079
         ],
         "yaxis": "y4"
        },
        {
         "marker": {
          "color": [
           4,
           7,
           8,
           9,
           10,
           11,
           14,
           16,
           18,
           19,
           20,
           21,
           22,
           23,
           24,
           25,
           28,
           29,
           30,
           31,
           32,
           33,
           34,
           35,
           36,
           39,
           40,
           41,
           42,
           43,
           44,
           45,
           46,
           53,
           79,
           80,
           81,
           82,
           94,
           109,
           110,
           123,
           147,
           149,
           151,
           152,
           153,
           154,
           155,
           156,
           164,
           211,
           217,
           280,
           281,
           300,
           305,
           317,
           368,
           393,
           394,
           429,
           430,
           431,
           432,
           433,
           437,
           472,
           475,
           489,
           494,
           498
          ],
          "colorbar": {
           "title": {
            "text": "Trial"
           },
           "x": 1,
           "xpad": 40
          },
          "colorscale": [
           [
            0,
            "rgb(247,251,255)"
           ],
           [
            0.125,
            "rgb(222,235,247)"
           ],
           [
            0.25,
            "rgb(198,219,239)"
           ],
           [
            0.375,
            "rgb(158,202,225)"
           ],
           [
            0.5,
            "rgb(107,174,214)"
           ],
           [
            0.625,
            "rgb(66,146,198)"
           ],
           [
            0.75,
            "rgb(33,113,181)"
           ],
           [
            0.875,
            "rgb(8,81,156)"
           ],
           [
            1,
            "rgb(8,48,107)"
           ]
          ],
          "line": {
           "color": "Grey",
           "width": 0.5
          },
          "showscale": false
         },
         "mode": "markers",
         "showlegend": false,
         "type": "scatter",
         "x": [
          1.8841183049085085e-8,
          3.911625006683821e-8,
          0.00015200666650051572,
          0.0936881625557718,
          0.3493635816569516,
          0.000082342127198163,
          0.24977498768365702,
          1.9340353658219098e-7,
          0.000005000654157363934,
          0.001614828573371444,
          1.9815795924708083e-8,
          0.7528177922710402,
          0.9878661749835398,
          0.022568126054263917,
          0.9816659639357597,
          0.02149295800745956,
          0.010839819140938265,
          5.660500269758609e-7,
          0.0018615702790439278,
          0.09622889781254745,
          0.0032849041813783836,
          0.21960160231424572,
          0.9898050362893772,
          0.07357381204548523,
          0.11635849139168446,
          0.01399922247719107,
          0.05067825056326535,
          0.3589606860339592,
          0.05103477345797085,
          0.2674005501426375,
          0.510276706897357,
          0.3265267045211762,
          0.1784261167390036,
          0.06528682746880264,
          0.2925715606339637,
          0.005550564545894789,
          0.05096010095209549,
          0.13980517560727712,
          0.007497158370299074,
          0.004737013513967516,
          0.000634585076864231,
          0.008451091224489971,
          0.02218688465754282,
          0.034662131018754004,
          0.11781577587792882,
          0.14157596015064983,
          0.09714733709412665,
          0.1282462117761163,
          0.07792886817091589,
          0.03431723626699534,
          0.34963306978860037,
          0.44943887284258033,
          0.5307513175220154,
          0.19328956649460677,
          0.7134070659937615,
          0.4669820511551593,
          0.16695964798125268,
          0.22731394771282432,
          0.5379196159370576,
          0.021601907830558757,
          0.022297065244739282,
          0.014004076237458135,
          0.02764544788210548,
          0.025827359105163695,
          0.03037935885771466,
          0.025276974219084144,
          0.012738242029522742,
          0.012974170756882212,
          0.0189706986002242,
          0.030524056409888256,
          0.04566318965734457,
          0.027050535161100897
         ],
         "xaxis": "x5",
         "y": [
          0.2964243249258402,
          0.4021228281661481,
          0.31778231346967856,
          0.3317594289404727,
          0.2938234302905271,
          0.3472449609833941,
          0.3334530464948816,
          0.4217699732173089,
          0.3229189213984373,
          0.3542707419664452,
          0.3398362682368953,
          0.2920119083395599,
          0.31154408063557765,
          0.39872285932103935,
          0.3101256523003201,
          0.43668507178111843,
          0.29767889072399917,
          0.30025030507507305,
          0.29391292492936805,
          0.32030295395856234,
          0.3039013274370917,
          0.3195390049577525,
          0.30176311071558354,
          0.2882956407734144,
          0.31125284415023186,
          0.31233148115217735,
          0.32297639589755683,
          0.32952753172441324,
          0.30001151074951105,
          0.27591645194003767,
          0.3110916995289982,
          0.30745073160334674,
          0.34727136133703396,
          0.30637843195900916,
          0.35411390020321476,
          0.2900411000997355,
          0.29870012289230014,
          0.30038010253400277,
          0.28241835503178514,
          0.3627114223329792,
          0.2943327116034818,
          0.3424261164366315,
          0.3063530867191915,
          0.3306014790273939,
          0.2729526115260718,
          0.2853558163509007,
          0.2833013228519368,
          0.3326273141040944,
          0.29130559785848337,
          0.2884944705373401,
          0.2750780403732608,
          0.3203026684779316,
          0.28661840791168,
          0.29970256167887355,
          0.2883549059975236,
          0.33518949109537005,
          0.29507748336422496,
          0.2987184455433893,
          0.3107226679234301,
          0.26325400947242816,
          0.2645988377143709,
          0.3249956035214791,
          0.25960609054214456,
          0.264443600531112,
          0.26649283727594286,
          0.30667866501083224,
          0.2636847590755062,
          0.2970487888194003,
          0.29804701167358666,
          0.2535332401012661,
          0.3078464720268011,
          0.2921991966076079
         ],
         "yaxis": "y5"
        },
        {
         "marker": {
          "color": [
           4,
           7,
           8,
           9,
           10,
           11,
           14,
           16,
           18,
           19,
           20,
           21,
           22,
           23,
           24,
           25,
           28,
           29,
           30,
           31,
           32,
           33,
           34,
           35,
           36,
           39,
           40,
           41,
           42,
           43,
           44,
           45,
           46,
           53,
           79,
           80,
           81,
           82,
           94,
           109,
           110,
           123,
           147,
           149,
           151,
           152,
           153,
           154,
           155,
           156,
           164,
           211,
           217,
           280,
           281,
           300,
           305,
           317,
           368,
           393,
           394,
           429,
           430,
           431,
           432,
           433,
           437,
           472,
           475,
           489,
           494,
           498
          ],
          "colorbar": {
           "title": {
            "text": "Trial"
           },
           "x": 1,
           "xpad": 40
          },
          "colorscale": [
           [
            0,
            "rgb(247,251,255)"
           ],
           [
            0.125,
            "rgb(222,235,247)"
           ],
           [
            0.25,
            "rgb(198,219,239)"
           ],
           [
            0.375,
            "rgb(158,202,225)"
           ],
           [
            0.5,
            "rgb(107,174,214)"
           ],
           [
            0.625,
            "rgb(66,146,198)"
           ],
           [
            0.75,
            "rgb(33,113,181)"
           ],
           [
            0.875,
            "rgb(8,81,156)"
           ],
           [
            1,
            "rgb(8,48,107)"
           ]
          ],
          "line": {
           "color": "Grey",
           "width": 0.5
          },
          "showscale": false
         },
         "mode": "markers",
         "showlegend": false,
         "type": "scatter",
         "x": [
          "depthwise",
          "depthwise",
          "depthwise",
          "depthwise",
          "lossguide",
          "depthwise",
          "depthwise",
          "lossguide",
          "lossguide",
          "lossguide",
          "lossguide",
          "lossguide",
          "lossguide",
          "lossguide",
          "lossguide",
          "lossguide",
          "lossguide",
          "depthwise",
          "depthwise",
          "lossguide",
          "lossguide",
          "depthwise",
          "lossguide",
          "depthwise",
          "lossguide",
          "depthwise",
          "depthwise",
          "depthwise",
          "depthwise",
          "depthwise",
          "depthwise",
          "lossguide",
          "depthwise",
          "depthwise",
          "depthwise",
          "depthwise",
          "depthwise",
          "depthwise",
          "depthwise",
          "depthwise",
          "depthwise",
          "depthwise",
          "depthwise",
          "depthwise",
          "depthwise",
          "depthwise",
          "depthwise",
          "depthwise",
          "depthwise",
          "depthwise",
          "depthwise",
          "depthwise",
          "depthwise",
          "depthwise",
          "depthwise",
          "depthwise",
          "depthwise",
          "depthwise",
          "depthwise",
          "depthwise",
          "depthwise",
          "depthwise",
          "depthwise",
          "depthwise",
          "depthwise",
          "depthwise",
          "depthwise",
          "depthwise",
          "depthwise",
          "depthwise",
          "depthwise",
          "depthwise"
         ],
         "xaxis": "x6",
         "y": [
          0.2964243249258402,
          0.4021228281661481,
          0.31778231346967856,
          0.3317594289404727,
          0.2938234302905271,
          0.3472449609833941,
          0.3334530464948816,
          0.4217699732173089,
          0.3229189213984373,
          0.3542707419664452,
          0.3398362682368953,
          0.2920119083395599,
          0.31154408063557765,
          0.39872285932103935,
          0.3101256523003201,
          0.43668507178111843,
          0.29767889072399917,
          0.30025030507507305,
          0.29391292492936805,
          0.32030295395856234,
          0.3039013274370917,
          0.3195390049577525,
          0.30176311071558354,
          0.2882956407734144,
          0.31125284415023186,
          0.31233148115217735,
          0.32297639589755683,
          0.32952753172441324,
          0.30001151074951105,
          0.27591645194003767,
          0.3110916995289982,
          0.30745073160334674,
          0.34727136133703396,
          0.30637843195900916,
          0.35411390020321476,
          0.2900411000997355,
          0.29870012289230014,
          0.30038010253400277,
          0.28241835503178514,
          0.3627114223329792,
          0.2943327116034818,
          0.3424261164366315,
          0.3063530867191915,
          0.3306014790273939,
          0.2729526115260718,
          0.2853558163509007,
          0.2833013228519368,
          0.3326273141040944,
          0.29130559785848337,
          0.2884944705373401,
          0.2750780403732608,
          0.3203026684779316,
          0.28661840791168,
          0.29970256167887355,
          0.2883549059975236,
          0.33518949109537005,
          0.29507748336422496,
          0.2987184455433893,
          0.3107226679234301,
          0.26325400947242816,
          0.2645988377143709,
          0.3249956035214791,
          0.25960609054214456,
          0.264443600531112,
          0.26649283727594286,
          0.30667866501083224,
          0.2636847590755062,
          0.2970487888194003,
          0.29804701167358666,
          0.2535332401012661,
          0.3078464720268011,
          0.2921991966076079
         ],
         "yaxis": "y6"
        },
        {
         "marker": {
          "color": [
           1,
           4,
           5,
           7,
           8,
           9,
           10,
           11,
           14,
           16,
           17,
           18,
           19,
           20,
           21,
           22,
           23,
           24,
           25,
           27,
           28,
           29,
           30,
           31,
           32,
           33,
           34,
           35,
           36,
           37,
           38,
           39,
           40,
           41,
           42,
           43,
           44,
           45,
           46,
           53,
           79,
           80,
           81,
           82,
           94,
           109,
           110,
           123,
           147,
           149,
           150,
           151,
           152,
           153,
           154,
           155,
           156,
           164,
           211,
           217,
           280,
           281,
           300,
           305,
           317,
           368,
           392,
           393,
           394,
           429,
           430,
           431,
           432,
           433,
           437,
           472,
           475,
           489,
           494,
           498
          ],
          "colorbar": {
           "title": {
            "text": "Trial"
           },
           "x": 1,
           "xpad": 40
          },
          "colorscale": [
           [
            0,
            "rgb(247,251,255)"
           ],
           [
            0.125,
            "rgb(222,235,247)"
           ],
           [
            0.25,
            "rgb(198,219,239)"
           ],
           [
            0.375,
            "rgb(158,202,225)"
           ],
           [
            0.5,
            "rgb(107,174,214)"
           ],
           [
            0.625,
            "rgb(66,146,198)"
           ],
           [
            0.75,
            "rgb(33,113,181)"
           ],
           [
            0.875,
            "rgb(8,81,156)"
           ],
           [
            1,
            "rgb(8,48,107)"
           ]
          ],
          "line": {
           "color": "Grey",
           "width": 0.5
          },
          "showscale": false
         },
         "mode": "markers",
         "showlegend": false,
         "type": "scatter",
         "x": [
          0.574485163632042,
          0.02932100047183291,
          0.0006070155694141794,
          0.015064619068942013,
          0.00005994036749692399,
          6.76683090208453e-7,
          0.07688553948726365,
          0.0007525141520487903,
          2.482741090341392e-7,
          1.9634946069845978e-7,
          0.2837654346123945,
          0.06532591371284432,
          0.014987773163052727,
          0.9688946044463521,
          0.017713694612895948,
          0.0022812211459915972,
          0.000044166438675821603,
          0.1041761754508468,
          0.0031587073918047126,
          0.19074331246131757,
          0.006328377788871588,
          0.0490327387823917,
          0.039834601822568094,
          0.13164485800055156,
          0.9574714645050553,
          0.015752922474914204,
          0.055222819950753184,
          0.19968429899512155,
          0.4043009479723524,
          0.3482668436905685,
          0.15953508859296936,
          0.03525505071483449,
          0.009754045853321942,
          0.05436285278638523,
          0.38804511992377827,
          0.003804023068013783,
          0.005707421109759703,
          0.01922764543760081,
          0.001259427012769774,
          0.0003750109137076497,
          0.006536411367008368,
          0.02236120009054802,
          0.030293681768891197,
          0.13399111679347614,
          0.018050531565665717,
          0.016892848035936235,
          0.0028659574890672283,
          0.012183594190621509,
          0.0002643830562066708,
          0.001363113512689077,
          0.10845455722952005,
          0.025501829728487857,
          0.030868910594128413,
          0.02760500850304341,
          0.07382047617906609,
          0.22948680360302262,
          0.004985943937706893,
          0.035814806943949395,
          0.01021438829248647,
          0.03606001419628863,
          0.07692169505494441,
          0.03239069726939329,
          0.02787568437318446,
          0.0035526149191596537,
          0.008961009103526875,
          0.04724602112121549,
          0.10604004392780059,
          0.019612615445027137,
          0.0130335992051885,
          0.014296999783710943,
          0.0019054537737506353,
          0.006188807028604861,
          0.0019235235655195608,
          0.0017174385143703683,
          0.003673952269758037,
          0.0025389591003643734,
          0.0008053138840328064,
          0.0067981943191443815,
          0.007298498428721786,
          0.0021049691396982065
         ],
         "xaxis": "x7",
         "y": [
          0.519294173810417,
          0.2964243249258402,
          0.6570908050801666,
          0.4021228281661481,
          0.31778231346967856,
          0.3317594289404727,
          0.2938234302905271,
          0.3472449609833941,
          0.3334530464948816,
          0.4217699732173089,
          0.43589788194195717,
          0.3229189213984373,
          0.3542707419664452,
          0.3398362682368953,
          0.2920119083395599,
          0.31154408063557765,
          0.39872285932103935,
          0.3101256523003201,
          0.43668507178111843,
          0.41990007478418934,
          0.29767889072399917,
          0.30025030507507305,
          0.29391292492936805,
          0.32030295395856234,
          0.3039013274370917,
          0.3195390049577525,
          0.30176311071558354,
          0.2882956407734144,
          0.31125284415023186,
          0.4461247292534196,
          0.4139389856410277,
          0.31233148115217735,
          0.32297639589755683,
          0.32952753172441324,
          0.30001151074951105,
          0.27591645194003767,
          0.3110916995289982,
          0.30745073160334674,
          0.34727136133703396,
          0.30637843195900916,
          0.35411390020321476,
          0.2900411000997355,
          0.29870012289230014,
          0.30038010253400277,
          0.28241835503178514,
          0.3627114223329792,
          0.2943327116034818,
          0.3424261164366315,
          0.3063530867191915,
          0.3306014790273939,
          0.40318234491561045,
          0.2729526115260718,
          0.2853558163509007,
          0.2833013228519368,
          0.3326273141040944,
          0.29130559785848337,
          0.2884944705373401,
          0.2750780403732608,
          0.3203026684779316,
          0.28661840791168,
          0.29970256167887355,
          0.2883549059975236,
          0.33518949109537005,
          0.29507748336422496,
          0.2987184455433893,
          0.3107226679234301,
          0.40262858194937917,
          0.26325400947242816,
          0.2645988377143709,
          0.3249956035214791,
          0.25960609054214456,
          0.264443600531112,
          0.26649283727594286,
          0.30667866501083224,
          0.2636847590755062,
          0.2970487888194003,
          0.29804701167358666,
          0.2535332401012661,
          0.3078464720268011,
          0.2921991966076079
         ],
         "yaxis": "y7"
        },
        {
         "marker": {
          "color": [
           1,
           4,
           5,
           7,
           8,
           9,
           10,
           11,
           14,
           16,
           17,
           18,
           19,
           20,
           21,
           22,
           23,
           24,
           25,
           27,
           28,
           29,
           30,
           31,
           32,
           33,
           34,
           35,
           36,
           37,
           38,
           39,
           40,
           41,
           42,
           43,
           44,
           45,
           46,
           53,
           79,
           80,
           81,
           82,
           94,
           109,
           110,
           123,
           147,
           149,
           150,
           151,
           152,
           153,
           154,
           155,
           156,
           164,
           211,
           217,
           280,
           281,
           300,
           305,
           317,
           368,
           392,
           393,
           394,
           429,
           430,
           431,
           432,
           433,
           437,
           472,
           475,
           489,
           494,
           498
          ],
          "colorbar": {
           "title": {
            "text": "Trial"
           },
           "x": 1,
           "xpad": 40
          },
          "colorscale": [
           [
            0,
            "rgb(247,251,255)"
           ],
           [
            0.125,
            "rgb(222,235,247)"
           ],
           [
            0.25,
            "rgb(198,219,239)"
           ],
           [
            0.375,
            "rgb(158,202,225)"
           ],
           [
            0.5,
            "rgb(107,174,214)"
           ],
           [
            0.625,
            "rgb(66,146,198)"
           ],
           [
            0.75,
            "rgb(33,113,181)"
           ],
           [
            0.875,
            "rgb(8,81,156)"
           ],
           [
            1,
            "rgb(8,48,107)"
           ]
          ],
          "line": {
           "color": "Grey",
           "width": 0.5
          },
          "showscale": false
         },
         "mode": "markers",
         "showlegend": false,
         "type": "scatter",
         "x": [
          0.06318730785749581,
          0.13764422318448438,
          0.023115913784056037,
          0.21498862971580895,
          0.1727703872951539,
          0.2796123191793462,
          0.07441126503651176,
          0.27339710693032954,
          0.04988107380233804,
          0.03942674743114931,
          0.10458057586654723,
          0.11326645476714818,
          0.1158627613788677,
          0.15629835726505215,
          0.08388602029589849,
          0.07834391796016311,
          0.021392824930519208,
          0.07817114720973396,
          0.013031679530839613,
          0.08733107290795318,
          0.05945597131506211,
          0.1333651508708334,
          0.1329598252543362,
          0.09643584066758804,
          0.07062770002167325,
          0.04699164222622511,
          0.09232356739674223,
          0.11908873460501686,
          0.1086618311816683,
          0.06315814363463568,
          0.0776195183042343,
          0.12352732315316471,
          0.1415806360129761,
          0.09697565419724219,
          0.13109976726844397,
          0.15074142148598843,
          0.15842776637520736,
          0.19225617838490397,
          0.11660289330382395,
          0.17374789688132708,
          0.035383281664330496,
          0.14496560171746137,
          0.1448445288500507,
          0.103668360439448,
          0.12691258546764259,
          0.12533170872367239,
          0.1472651787557535,
          0.16043566546190083,
          0.11964164694692739,
          0.17251645512459543,
          0.11376947549507711,
          0.08669338063198498,
          0.1058521104327637,
          0.09952768981020466,
          0.10424083685628187,
          0.09586382849723596,
          0.08766215474983258,
          0.1274813761636793,
          0.13308353034508852,
          0.10695054298761583,
          0.0851060588207297,
          0.10508390409942656,
          0.11147441342468017,
          0.07255665254174082,
          0.1262734311714008,
          0.13347179131396922,
          0.09567975972397869,
          0.12397750643827807,
          0.12693430646256387,
          0.12673659810419097,
          0.13995584741111902,
          0.1511088816883495,
          0.13979729094794505,
          0.14076057755877686,
          0.14975562928651986,
          0.1407087445657564,
          0.15362764673572743,
          0.13779959534970157,
          0.13952052238853918,
          0.16322190034700407
         ],
         "xaxis": "x8",
         "y": [
          0.519294173810417,
          0.2964243249258402,
          0.6570908050801666,
          0.4021228281661481,
          0.31778231346967856,
          0.3317594289404727,
          0.2938234302905271,
          0.3472449609833941,
          0.3334530464948816,
          0.4217699732173089,
          0.43589788194195717,
          0.3229189213984373,
          0.3542707419664452,
          0.3398362682368953,
          0.2920119083395599,
          0.31154408063557765,
          0.39872285932103935,
          0.3101256523003201,
          0.43668507178111843,
          0.41990007478418934,
          0.29767889072399917,
          0.30025030507507305,
          0.29391292492936805,
          0.32030295395856234,
          0.3039013274370917,
          0.3195390049577525,
          0.30176311071558354,
          0.2882956407734144,
          0.31125284415023186,
          0.4461247292534196,
          0.4139389856410277,
          0.31233148115217735,
          0.32297639589755683,
          0.32952753172441324,
          0.30001151074951105,
          0.27591645194003767,
          0.3110916995289982,
          0.30745073160334674,
          0.34727136133703396,
          0.30637843195900916,
          0.35411390020321476,
          0.2900411000997355,
          0.29870012289230014,
          0.30038010253400277,
          0.28241835503178514,
          0.3627114223329792,
          0.2943327116034818,
          0.3424261164366315,
          0.3063530867191915,
          0.3306014790273939,
          0.40318234491561045,
          0.2729526115260718,
          0.2853558163509007,
          0.2833013228519368,
          0.3326273141040944,
          0.29130559785848337,
          0.2884944705373401,
          0.2750780403732608,
          0.3203026684779316,
          0.28661840791168,
          0.29970256167887355,
          0.2883549059975236,
          0.33518949109537005,
          0.29507748336422496,
          0.2987184455433893,
          0.3107226679234301,
          0.40262858194937917,
          0.26325400947242816,
          0.2645988377143709,
          0.3249956035214791,
          0.25960609054214456,
          0.264443600531112,
          0.26649283727594286,
          0.30667866501083224,
          0.2636847590755062,
          0.2970487888194003,
          0.29804701167358666,
          0.2535332401012661,
          0.3078464720268011,
          0.2921991966076079
         ],
         "yaxis": "y8"
        },
        {
         "marker": {
          "color": [
           4,
           7,
           8,
           9,
           10,
           11,
           14,
           16,
           18,
           19,
           20,
           21,
           22,
           23,
           24,
           25,
           28,
           29,
           30,
           31,
           32,
           33,
           34,
           35,
           36,
           39,
           40,
           41,
           42,
           43,
           44,
           45,
           46,
           53,
           79,
           80,
           81,
           82,
           94,
           109,
           110,
           123,
           147,
           149,
           151,
           152,
           153,
           154,
           155,
           156,
           164,
           211,
           217,
           280,
           281,
           300,
           305,
           317,
           368,
           393,
           394,
           429,
           430,
           431,
           432,
           433,
           437,
           472,
           475,
           489,
           494,
           498
          ],
          "colorbar": {
           "title": {
            "text": "Trial"
           },
           "x": 1,
           "xpad": 40
          },
          "colorscale": [
           [
            0,
            "rgb(247,251,255)"
           ],
           [
            0.125,
            "rgb(222,235,247)"
           ],
           [
            0.25,
            "rgb(198,219,239)"
           ],
           [
            0.375,
            "rgb(158,202,225)"
           ],
           [
            0.5,
            "rgb(107,174,214)"
           ],
           [
            0.625,
            "rgb(66,146,198)"
           ],
           [
            0.75,
            "rgb(33,113,181)"
           ],
           [
            0.875,
            "rgb(8,81,156)"
           ],
           [
            1,
            "rgb(8,48,107)"
           ]
          ],
          "line": {
           "color": "Grey",
           "width": 0.5
          },
          "showscale": false
         },
         "mode": "markers",
         "showlegend": false,
         "type": "scatter",
         "x": [
          2,
          12,
          13,
          13,
          2,
          4,
          6,
          11,
          1,
          1,
          5,
          8,
          16,
          9,
          7,
          9,
          3,
          3,
          2,
          7,
          4,
          16,
          6,
          2,
          10,
          2,
          3,
          1,
          4,
          2,
          5,
          2,
          8,
          3,
          14,
          2,
          1,
          4,
          2,
          5,
          3,
          2,
          1,
          12,
          2,
          2,
          2,
          1,
          4,
          3,
          2,
          1,
          3,
          4,
          3,
          1,
          2,
          3,
          5,
          2,
          2,
          1,
          2,
          2,
          2,
          1,
          2,
          4,
          3,
          3,
          1,
          4
         ],
         "xaxis": "x9",
         "y": [
          0.2964243249258402,
          0.4021228281661481,
          0.31778231346967856,
          0.3317594289404727,
          0.2938234302905271,
          0.3472449609833941,
          0.3334530464948816,
          0.4217699732173089,
          0.3229189213984373,
          0.3542707419664452,
          0.3398362682368953,
          0.2920119083395599,
          0.31154408063557765,
          0.39872285932103935,
          0.3101256523003201,
          0.43668507178111843,
          0.29767889072399917,
          0.30025030507507305,
          0.29391292492936805,
          0.32030295395856234,
          0.3039013274370917,
          0.3195390049577525,
          0.30176311071558354,
          0.2882956407734144,
          0.31125284415023186,
          0.31233148115217735,
          0.32297639589755683,
          0.32952753172441324,
          0.30001151074951105,
          0.27591645194003767,
          0.3110916995289982,
          0.30745073160334674,
          0.34727136133703396,
          0.30637843195900916,
          0.35411390020321476,
          0.2900411000997355,
          0.29870012289230014,
          0.30038010253400277,
          0.28241835503178514,
          0.3627114223329792,
          0.2943327116034818,
          0.3424261164366315,
          0.3063530867191915,
          0.3306014790273939,
          0.2729526115260718,
          0.2853558163509007,
          0.2833013228519368,
          0.3326273141040944,
          0.29130559785848337,
          0.2884944705373401,
          0.2750780403732608,
          0.3203026684779316,
          0.28661840791168,
          0.29970256167887355,
          0.2883549059975236,
          0.33518949109537005,
          0.29507748336422496,
          0.2987184455433893,
          0.3107226679234301,
          0.26325400947242816,
          0.2645988377143709,
          0.3249956035214791,
          0.25960609054214456,
          0.264443600531112,
          0.26649283727594286,
          0.30667866501083224,
          0.2636847590755062,
          0.2970487888194003,
          0.29804701167358666,
          0.2535332401012661,
          0.3078464720268011,
          0.2921991966076079
         ],
         "yaxis": "y9"
        },
        {
         "marker": {
          "color": [
           4,
           7,
           8,
           9,
           10,
           14,
           18,
           19,
           20,
           21,
           23,
           24,
           28,
           29,
           30,
           31,
           32,
           33,
           34,
           35,
           39,
           40,
           41,
           42,
           43,
           44,
           45,
           46,
           53,
           80,
           81,
           82,
           94,
           109,
           110,
           123,
           147,
           151,
           152,
           153,
           154,
           155,
           156,
           164,
           211,
           217,
           280,
           281,
           300,
           305,
           317,
           393,
           394,
           429,
           430,
           431,
           432,
           433,
           437,
           472,
           475,
           489,
           494
          ],
          "colorbar": {
           "title": {
            "text": "Trial"
           },
           "x": 1,
           "xpad": 40
          },
          "colorscale": [
           [
            0,
            "rgb(247,251,255)"
           ],
           [
            0.125,
            "rgb(222,235,247)"
           ],
           [
            0.25,
            "rgb(198,219,239)"
           ],
           [
            0.375,
            "rgb(158,202,225)"
           ],
           [
            0.5,
            "rgb(107,174,214)"
           ],
           [
            0.625,
            "rgb(66,146,198)"
           ],
           [
            0.75,
            "rgb(33,113,181)"
           ],
           [
            0.875,
            "rgb(8,81,156)"
           ],
           [
            1,
            "rgb(8,48,107)"
           ]
          ],
          "line": {
           "color": "Grey",
           "width": 0.5
          },
          "showscale": false
         },
         "mode": "markers",
         "showlegend": false,
         "type": "scatter",
         "x": [
          "forest",
          "tree",
          "tree",
          "forest",
          "tree",
          "tree",
          "forest",
          "forest",
          "tree",
          "forest",
          "forest",
          "tree",
          "forest",
          "forest",
          "forest",
          "forest",
          "tree",
          "forest",
          "tree",
          "forest",
          "forest",
          "forest",
          "forest",
          "forest",
          "forest",
          "tree",
          "forest",
          "forest",
          "tree",
          "forest",
          "forest",
          "forest",
          "forest",
          "forest",
          "forest",
          "forest",
          "forest",
          "forest",
          "forest",
          "forest",
          "forest",
          "forest",
          "forest",
          "forest",
          "forest",
          "forest",
          "forest",
          "forest",
          "forest",
          "forest",
          "forest",
          "forest",
          "forest",
          "forest",
          "forest",
          "forest",
          "forest",
          "forest",
          "forest",
          "forest",
          "forest",
          "tree",
          "tree"
         ],
         "xaxis": "x10",
         "y": [
          0.2964243249258402,
          0.4021228281661481,
          0.31778231346967856,
          0.3317594289404727,
          0.2938234302905271,
          0.3334530464948816,
          0.3229189213984373,
          0.3542707419664452,
          0.3398362682368953,
          0.2920119083395599,
          0.39872285932103935,
          0.3101256523003201,
          0.29767889072399917,
          0.30025030507507305,
          0.29391292492936805,
          0.32030295395856234,
          0.3039013274370917,
          0.3195390049577525,
          0.30176311071558354,
          0.2882956407734144,
          0.31233148115217735,
          0.32297639589755683,
          0.32952753172441324,
          0.30001151074951105,
          0.27591645194003767,
          0.3110916995289982,
          0.30745073160334674,
          0.34727136133703396,
          0.30637843195900916,
          0.2900411000997355,
          0.29870012289230014,
          0.30038010253400277,
          0.28241835503178514,
          0.3627114223329792,
          0.2943327116034818,
          0.3424261164366315,
          0.3063530867191915,
          0.2729526115260718,
          0.2853558163509007,
          0.2833013228519368,
          0.3326273141040944,
          0.29130559785848337,
          0.2884944705373401,
          0.2750780403732608,
          0.3203026684779316,
          0.28661840791168,
          0.29970256167887355,
          0.2883549059975236,
          0.33518949109537005,
          0.29507748336422496,
          0.2987184455433893,
          0.26325400947242816,
          0.2645988377143709,
          0.3249956035214791,
          0.25960609054214456,
          0.264443600531112,
          0.26649283727594286,
          0.30667866501083224,
          0.2636847590755062,
          0.2970487888194003,
          0.29804701167358666,
          0.2535332401012661,
          0.3078464720268011
         ],
         "yaxis": "y10"
        },
        {
         "marker": {
          "color": [
           4,
           7,
           8,
           9,
           10,
           14,
           18,
           19,
           20,
           21,
           23,
           24,
           28,
           29,
           30,
           31,
           32,
           33,
           34,
           35,
           39,
           40,
           41,
           42,
           43,
           44,
           45,
           46,
           53,
           80,
           81,
           82,
           94,
           109,
           110,
           123,
           147,
           151,
           152,
           153,
           154,
           155,
           156,
           164,
           211,
           217,
           280,
           281,
           300,
           305,
           317,
           393,
           394,
           429,
           430,
           431,
           432,
           433,
           437,
           472,
           475,
           489,
           494
          ],
          "colorbar": {
           "title": {
            "text": "Trial"
           },
           "x": 1,
           "xpad": 40
          },
          "colorscale": [
           [
            0,
            "rgb(247,251,255)"
           ],
           [
            0.125,
            "rgb(222,235,247)"
           ],
           [
            0.25,
            "rgb(198,219,239)"
           ],
           [
            0.375,
            "rgb(158,202,225)"
           ],
           [
            0.5,
            "rgb(107,174,214)"
           ],
           [
            0.625,
            "rgb(66,146,198)"
           ],
           [
            0.75,
            "rgb(33,113,181)"
           ],
           [
            0.875,
            "rgb(8,81,156)"
           ],
           [
            1,
            "rgb(8,48,107)"
           ]
          ],
          "line": {
           "color": "Grey",
           "width": 0.5
          },
          "showscale": false
         },
         "mode": "markers",
         "showlegend": false,
         "type": "scatter",
         "x": [
          3.0118659882617117e-7,
          0.000003075095259104445,
          0.00011710232809812825,
          0.000003499675682069358,
          0.000001033375989766645,
          8.606336591203087e-7,
          1.1618685773547894e-8,
          0.032981450527181766,
          1.4809743956203268e-8,
          3.5942150315105686e-7,
          0.00008005268445881769,
          1.1498759752567991e-7,
          0.000023050317973338297,
          4.5562645318159805e-7,
          1.6349872718601165e-7,
          6.200789993728543e-8,
          9.13293686063748e-8,
          0.000003501886577180096,
          8.83903199725088e-7,
          2.47614057100419e-8,
          3.8361368854884936e-8,
          1.3137945089031655e-8,
          2.0533929608616413e-7,
          6.611310445023569e-8,
          2.852195477730187e-7,
          8.908665207221664e-7,
          5.212888641403138e-8,
          1.0967716117456025e-8,
          3.324221264539425e-7,
          1.4295803779043087e-7,
          4.5518094360207935e-8,
          2.842563617332579e-7,
          2.2268759642653922e-7,
          1.3768723079057814e-7,
          0.0000022491153471695134,
          3.253522368155712e-8,
          2.591634150109847e-7,
          7.655309874466681e-7,
          3.318434565946741e-7,
          0.000001934606961416429,
          0.0000017143519918325288,
          0.000009773506118698454,
          6.067695647544678e-7,
          0.000005053722345572937,
          0.000006011438140677015,
          0.00000144945951384671,
          7.267154143159432e-7,
          0.0000017410737145548425,
          0.0000014839536938456783,
          0.000004555984691592875,
          4.708353978232386e-7,
          0.0000027120860622539425,
          0.000014395748812522314,
          0.000012783337951055501,
          0.0000035099740218069026,
          0.0000037511068545958653,
          0.000026287859873123555,
          0.000035758434335996116,
          0.000006081572720355821,
          0.0000062821059547183294,
          0.000023409924606604373,
          0.0000044093900571337765,
          0.000003288837741583184
         ],
         "xaxis": "x11",
         "y": [
          0.2964243249258402,
          0.4021228281661481,
          0.31778231346967856,
          0.3317594289404727,
          0.2938234302905271,
          0.3334530464948816,
          0.3229189213984373,
          0.3542707419664452,
          0.3398362682368953,
          0.2920119083395599,
          0.39872285932103935,
          0.3101256523003201,
          0.29767889072399917,
          0.30025030507507305,
          0.29391292492936805,
          0.32030295395856234,
          0.3039013274370917,
          0.3195390049577525,
          0.30176311071558354,
          0.2882956407734144,
          0.31233148115217735,
          0.32297639589755683,
          0.32952753172441324,
          0.30001151074951105,
          0.27591645194003767,
          0.3110916995289982,
          0.30745073160334674,
          0.34727136133703396,
          0.30637843195900916,
          0.2900411000997355,
          0.29870012289230014,
          0.30038010253400277,
          0.28241835503178514,
          0.3627114223329792,
          0.2943327116034818,
          0.3424261164366315,
          0.3063530867191915,
          0.2729526115260718,
          0.2853558163509007,
          0.2833013228519368,
          0.3326273141040944,
          0.29130559785848337,
          0.2884944705373401,
          0.2750780403732608,
          0.3203026684779316,
          0.28661840791168,
          0.29970256167887355,
          0.2883549059975236,
          0.33518949109537005,
          0.29507748336422496,
          0.2987184455433893,
          0.26325400947242816,
          0.2645988377143709,
          0.3249956035214791,
          0.25960609054214456,
          0.264443600531112,
          0.26649283727594286,
          0.30667866501083224,
          0.2636847590755062,
          0.2970487888194003,
          0.29804701167358666,
          0.2535332401012661,
          0.3078464720268011
         ],
         "yaxis": "y11"
        },
        {
         "marker": {
          "color": [
           4,
           7,
           8,
           9,
           10,
           14,
           18,
           19,
           20,
           21,
           23,
           24,
           28,
           29,
           30,
           31,
           32,
           33,
           34,
           35,
           39,
           40,
           41,
           42,
           43,
           44,
           45,
           46,
           53,
           80,
           81,
           82,
           94,
           109,
           110,
           123,
           147,
           151,
           152,
           153,
           154,
           155,
           156,
           164,
           211,
           217,
           280,
           281,
           300,
           305,
           317,
           393,
           394,
           429,
           430,
           431,
           432,
           433,
           437,
           472,
           475,
           489,
           494
          ],
          "colorbar": {
           "title": {
            "text": "Trial"
           },
           "x": 1,
           "xpad": 40
          },
          "colorscale": [
           [
            0,
            "rgb(247,251,255)"
           ],
           [
            0.125,
            "rgb(222,235,247)"
           ],
           [
            0.25,
            "rgb(198,219,239)"
           ],
           [
            0.375,
            "rgb(158,202,225)"
           ],
           [
            0.5,
            "rgb(107,174,214)"
           ],
           [
            0.625,
            "rgb(66,146,198)"
           ],
           [
            0.75,
            "rgb(33,113,181)"
           ],
           [
            0.875,
            "rgb(8,81,156)"
           ],
           [
            1,
            "rgb(8,48,107)"
           ]
          ],
          "line": {
           "color": "Grey",
           "width": 0.5
          },
          "showscale": false
         },
         "mode": "markers",
         "showlegend": false,
         "type": "scatter",
         "x": [
          "uniform",
          "uniform",
          "uniform",
          "uniform",
          "uniform",
          "weighted",
          "uniform",
          "uniform",
          "weighted",
          "uniform",
          "uniform",
          "weighted",
          "uniform",
          "uniform",
          "uniform",
          "uniform",
          "uniform",
          "uniform",
          "weighted",
          "uniform",
          "uniform",
          "uniform",
          "uniform",
          "uniform",
          "uniform",
          "uniform",
          "uniform",
          "weighted",
          "uniform",
          "uniform",
          "uniform",
          "uniform",
          "uniform",
          "uniform",
          "uniform",
          "uniform",
          "uniform",
          "uniform",
          "uniform",
          "uniform",
          "uniform",
          "uniform",
          "uniform",
          "weighted",
          "weighted",
          "weighted",
          "weighted",
          "weighted",
          "weighted",
          "weighted",
          "weighted",
          "weighted",
          "weighted",
          "weighted",
          "weighted",
          "weighted",
          "weighted",
          "weighted",
          "weighted",
          "weighted",
          "weighted",
          "weighted",
          "weighted"
         ],
         "xaxis": "x12",
         "y": [
          0.2964243249258402,
          0.4021228281661481,
          0.31778231346967856,
          0.3317594289404727,
          0.2938234302905271,
          0.3334530464948816,
          0.3229189213984373,
          0.3542707419664452,
          0.3398362682368953,
          0.2920119083395599,
          0.39872285932103935,
          0.3101256523003201,
          0.29767889072399917,
          0.30025030507507305,
          0.29391292492936805,
          0.32030295395856234,
          0.3039013274370917,
          0.3195390049577525,
          0.30176311071558354,
          0.2882956407734144,
          0.31233148115217735,
          0.32297639589755683,
          0.32952753172441324,
          0.30001151074951105,
          0.27591645194003767,
          0.3110916995289982,
          0.30745073160334674,
          0.34727136133703396,
          0.30637843195900916,
          0.2900411000997355,
          0.29870012289230014,
          0.30038010253400277,
          0.28241835503178514,
          0.3627114223329792,
          0.2943327116034818,
          0.3424261164366315,
          0.3063530867191915,
          0.2729526115260718,
          0.2853558163509007,
          0.2833013228519368,
          0.3326273141040944,
          0.29130559785848337,
          0.2884944705373401,
          0.2750780403732608,
          0.3203026684779316,
          0.28661840791168,
          0.29970256167887355,
          0.2883549059975236,
          0.33518949109537005,
          0.29507748336422496,
          0.2987184455433893,
          0.26325400947242816,
          0.2645988377143709,
          0.3249956035214791,
          0.25960609054214456,
          0.264443600531112,
          0.26649283727594286,
          0.30667866501083224,
          0.2636847590755062,
          0.2970487888194003,
          0.29804701167358666,
          0.2535332401012661,
          0.3078464720268011
         ],
         "yaxis": "y12"
        },
        {
         "marker": {
          "color": [
           4,
           7,
           8,
           9,
           10,
           14,
           18,
           19,
           20,
           21,
           23,
           24,
           28,
           29,
           30,
           31,
           32,
           33,
           34,
           35,
           39,
           40,
           41,
           42,
           43,
           44,
           45,
           46,
           53,
           80,
           81,
           82,
           94,
           109,
           110,
           123,
           147,
           151,
           152,
           153,
           154,
           155,
           156,
           164,
           211,
           217,
           280,
           281,
           300,
           305,
           317,
           393,
           394,
           429,
           430,
           431,
           432,
           433,
           437,
           472,
           475,
           489,
           494
          ],
          "colorbar": {
           "title": {
            "text": "Trial"
           },
           "x": 1,
           "xpad": 40
          },
          "colorscale": [
           [
            0,
            "rgb(247,251,255)"
           ],
           [
            0.125,
            "rgb(222,235,247)"
           ],
           [
            0.25,
            "rgb(198,219,239)"
           ],
           [
            0.375,
            "rgb(158,202,225)"
           ],
           [
            0.5,
            "rgb(107,174,214)"
           ],
           [
            0.625,
            "rgb(66,146,198)"
           ],
           [
            0.75,
            "rgb(33,113,181)"
           ],
           [
            0.875,
            "rgb(8,81,156)"
           ],
           [
            1,
            "rgb(8,48,107)"
           ]
          ],
          "line": {
           "color": "Grey",
           "width": 0.5
          },
          "showscale": false
         },
         "mode": "markers",
         "showlegend": false,
         "type": "scatter",
         "x": [
          0.5710537951126793,
          0.000003994538177154855,
          0.1821930437934653,
          7.593034903208851e-8,
          0.00009505786310154948,
          5.556766432156757e-8,
          0.010480308580502461,
          0.0005242965669412552,
          0.5677521877558752,
          0.0002998659435608065,
          0.00012674360521126944,
          0.00001127905898865452,
          0.0013438948255138736,
          0.01572313622063805,
          0.00002253020787261293,
          0.000012214412762283429,
          0.00007676883072825261,
          0.000001372247018744276,
          0.00006833776239621083,
          0.0008527959920168323,
          0.0005436388053191489,
          0.0021252678520749875,
          0.0000960155380165264,
          0.00022068788511496668,
          0.000017020682199744527,
          0.002255843603484947,
          0.00030735789523298325,
          0.000029507309852671496,
          0.0000018538876253945652,
          0.00002627610816770901,
          0.00003754875677855995,
          0.00031213949117498763,
          0.000005668766458817325,
          0.0000065116658490052244,
          0.0000027666856783275155,
          6.163172177014745e-7,
          0.0000060351963927196145,
          0.000034002407891725886,
          0.00002435342068696233,
          0.000022298036181748202,
          0.000011761435186397343,
          0.00000502029787137609,
          0.00005069052066532648,
          0.000016390554567644902,
          0.000016165474156796995,
          9.712632391285875e-7,
          0.0000027400489023291512,
          0.0000010764760476985638,
          3.963311252118375e-7,
          0.000008591598650991824,
          0.00002277017617762924,
          0.000003902089070485839,
          0.0000044950003085941165,
          0.000004079872527886215,
          0.00000985086376174675,
          0.000010320653937484019,
          0.00000886667447344596,
          0.000010047170420872678,
          0.00005451312738485168,
          0.00005588389175912519,
          0.0001299853416803548,
          0.00001105656318625032,
          0.000002545674981052796
         ],
         "xaxis": "x13",
         "y": [
          0.2964243249258402,
          0.4021228281661481,
          0.31778231346967856,
          0.3317594289404727,
          0.2938234302905271,
          0.3334530464948816,
          0.3229189213984373,
          0.3542707419664452,
          0.3398362682368953,
          0.2920119083395599,
          0.39872285932103935,
          0.3101256523003201,
          0.29767889072399917,
          0.30025030507507305,
          0.29391292492936805,
          0.32030295395856234,
          0.3039013274370917,
          0.3195390049577525,
          0.30176311071558354,
          0.2882956407734144,
          0.31233148115217735,
          0.32297639589755683,
          0.32952753172441324,
          0.30001151074951105,
          0.27591645194003767,
          0.3110916995289982,
          0.30745073160334674,
          0.34727136133703396,
          0.30637843195900916,
          0.2900411000997355,
          0.29870012289230014,
          0.30038010253400277,
          0.28241835503178514,
          0.3627114223329792,
          0.2943327116034818,
          0.3424261164366315,
          0.3063530867191915,
          0.2729526115260718,
          0.2853558163509007,
          0.2833013228519368,
          0.3326273141040944,
          0.29130559785848337,
          0.2884944705373401,
          0.2750780403732608,
          0.3203026684779316,
          0.28661840791168,
          0.29970256167887355,
          0.2883549059975236,
          0.33518949109537005,
          0.29507748336422496,
          0.2987184455433893,
          0.26325400947242816,
          0.2645988377143709,
          0.3249956035214791,
          0.25960609054214456,
          0.264443600531112,
          0.26649283727594286,
          0.30667866501083224,
          0.2636847590755062,
          0.2970487888194003,
          0.29804701167358666,
          0.2535332401012661,
          0.3078464720268011
         ],
         "yaxis": "y13"
        },
        {
         "marker": {
          "color": [
           1,
           4,
           5,
           7,
           8,
           9,
           10,
           11,
           14,
           16,
           17,
           18,
           19,
           20,
           21,
           22,
           23,
           24,
           25,
           27,
           28,
           29,
           30,
           31,
           32,
           33,
           34,
           35,
           36,
           37,
           38,
           39,
           40,
           41,
           42,
           43,
           44,
           45,
           46,
           53,
           79,
           80,
           81,
           82,
           94,
           109,
           110,
           123,
           147,
           149,
           150,
           151,
           152,
           153,
           154,
           155,
           156,
           164,
           211,
           217,
           280,
           281,
           300,
           305,
           317,
           368,
           392,
           393,
           394,
           429,
           430,
           431,
           432,
           433,
           437,
           472,
           475,
           489,
           494,
           498
          ],
          "colorbar": {
           "title": {
            "text": "Trial"
           },
           "x": 1,
           "xpad": 40
          },
          "colorscale": [
           [
            0,
            "rgb(247,251,255)"
           ],
           [
            0.125,
            "rgb(222,235,247)"
           ],
           [
            0.25,
            "rgb(198,219,239)"
           ],
           [
            0.375,
            "rgb(158,202,225)"
           ],
           [
            0.5,
            "rgb(107,174,214)"
           ],
           [
            0.625,
            "rgb(66,146,198)"
           ],
           [
            0.75,
            "rgb(33,113,181)"
           ],
           [
            0.875,
            "rgb(8,81,156)"
           ],
           [
            1,
            "rgb(8,48,107)"
           ]
          ],
          "line": {
           "color": "Grey",
           "width": 0.5
          },
          "showscale": false
         },
         "mode": "markers",
         "showlegend": false,
         "type": "scatter",
         "x": [
          0.3274034664069657,
          0.25860326840383036,
          0.2530955012311517,
          0.20331327027416146,
          0.6279468723337971,
          0.3738508717482608,
          0.5064483815465395,
          0.23088725074999364,
          0.4320412077803225,
          0.563857435795754,
          0.7593742051470727,
          0.5138656722396847,
          0.4264965712313108,
          0.32485271525570136,
          0.46431684895727376,
          0.49487187673606364,
          0.6207132503568871,
          0.44525866434295647,
          0.5424011136509231,
          0.46413691341294827,
          0.5838284389139394,
          0.38099064541243166,
          0.2790599311210198,
          0.3065084434833488,
          0.39186666305897544,
          0.48845088764571004,
          0.29334238934631596,
          0.34700124583808417,
          0.36750380962132667,
          0.35095556431758446,
          0.4225693986315956,
          0.2934946568224438,
          0.3298611204969446,
          0.2719481579326839,
          0.2470064742626284,
          0.3979808226283441,
          0.4048967695964129,
          0.4547279782246405,
          0.3537047350386849,
          0.40060948486276815,
          0.4638607482718292,
          0.33302033526899355,
          0.3327036285140785,
          0.4091282658755525,
          0.36250157220979606,
          0.3518428268250937,
          0.36914422052778995,
          0.20498699240897256,
          0.3167244914669937,
          0.3874542635376331,
          0.42134780253019,
          0.4355176788862644,
          0.4349773265437744,
          0.4288471119455541,
          0.41219900995268355,
          0.44460167848232857,
          0.43463097219572916,
          0.47965438193322146,
          0.48419177127605256,
          0.5070720929677841,
          0.43871347726881504,
          0.5076913140625285,
          0.48165614547329566,
          0.5219476395370587,
          0.47400687384319395,
          0.4518650231263683,
          0.3822486741656755,
          0.5001095563457651,
          0.43225077221418656,
          0.4705149609721061,
          0.39807411573486373,
          0.3982602172101907,
          0.3848483361559612,
          0.3867384518458632,
          0.4013774618945417,
          0.42266333591134775,
          0.453979967223482,
          0.39680328510099894,
          0.3758397590348393,
          0.40174698862563196
         ],
         "xaxis": "x14",
         "y": [
          0.519294173810417,
          0.2964243249258402,
          0.6570908050801666,
          0.4021228281661481,
          0.31778231346967856,
          0.3317594289404727,
          0.2938234302905271,
          0.3472449609833941,
          0.3334530464948816,
          0.4217699732173089,
          0.43589788194195717,
          0.3229189213984373,
          0.3542707419664452,
          0.3398362682368953,
          0.2920119083395599,
          0.31154408063557765,
          0.39872285932103935,
          0.3101256523003201,
          0.43668507178111843,
          0.41990007478418934,
          0.29767889072399917,
          0.30025030507507305,
          0.29391292492936805,
          0.32030295395856234,
          0.3039013274370917,
          0.3195390049577525,
          0.30176311071558354,
          0.2882956407734144,
          0.31125284415023186,
          0.4461247292534196,
          0.4139389856410277,
          0.31233148115217735,
          0.32297639589755683,
          0.32952753172441324,
          0.30001151074951105,
          0.27591645194003767,
          0.3110916995289982,
          0.30745073160334674,
          0.34727136133703396,
          0.30637843195900916,
          0.35411390020321476,
          0.2900411000997355,
          0.29870012289230014,
          0.30038010253400277,
          0.28241835503178514,
          0.3627114223329792,
          0.2943327116034818,
          0.3424261164366315,
          0.3063530867191915,
          0.3306014790273939,
          0.40318234491561045,
          0.2729526115260718,
          0.2853558163509007,
          0.2833013228519368,
          0.3326273141040944,
          0.29130559785848337,
          0.2884944705373401,
          0.2750780403732608,
          0.3203026684779316,
          0.28661840791168,
          0.29970256167887355,
          0.2883549059975236,
          0.33518949109537005,
          0.29507748336422496,
          0.2987184455433893,
          0.3107226679234301,
          0.40262858194937917,
          0.26325400947242816,
          0.2645988377143709,
          0.3249956035214791,
          0.25960609054214456,
          0.264443600531112,
          0.26649283727594286,
          0.30667866501083224,
          0.2636847590755062,
          0.2970487888194003,
          0.29804701167358666,
          0.2535332401012661,
          0.3078464720268011,
          0.2921991966076079
         ],
         "yaxis": "y14"
        }
       ],
       "layout": {
        "template": {
         "data": {
          "bar": [
           {
            "error_x": {
             "color": "#2a3f5f"
            },
            "error_y": {
             "color": "#2a3f5f"
            },
            "marker": {
             "line": {
              "color": "#E5ECF6",
              "width": 0.5
             },
             "pattern": {
              "fillmode": "overlay",
              "size": 10,
              "solidity": 0.2
             }
            },
            "type": "bar"
           }
          ],
          "barpolar": [
           {
            "marker": {
             "line": {
              "color": "#E5ECF6",
              "width": 0.5
             },
             "pattern": {
              "fillmode": "overlay",
              "size": 10,
              "solidity": 0.2
             }
            },
            "type": "barpolar"
           }
          ],
          "carpet": [
           {
            "aaxis": {
             "endlinecolor": "#2a3f5f",
             "gridcolor": "white",
             "linecolor": "white",
             "minorgridcolor": "white",
             "startlinecolor": "#2a3f5f"
            },
            "baxis": {
             "endlinecolor": "#2a3f5f",
             "gridcolor": "white",
             "linecolor": "white",
             "minorgridcolor": "white",
             "startlinecolor": "#2a3f5f"
            },
            "type": "carpet"
           }
          ],
          "choropleth": [
           {
            "colorbar": {
             "outlinewidth": 0,
             "ticks": ""
            },
            "type": "choropleth"
           }
          ],
          "contour": [
           {
            "colorbar": {
             "outlinewidth": 0,
             "ticks": ""
            },
            "colorscale": [
             [
              0,
              "#0d0887"
             ],
             [
              0.1111111111111111,
              "#46039f"
             ],
             [
              0.2222222222222222,
              "#7201a8"
             ],
             [
              0.3333333333333333,
              "#9c179e"
             ],
             [
              0.4444444444444444,
              "#bd3786"
             ],
             [
              0.5555555555555556,
              "#d8576b"
             ],
             [
              0.6666666666666666,
              "#ed7953"
             ],
             [
              0.7777777777777778,
              "#fb9f3a"
             ],
             [
              0.8888888888888888,
              "#fdca26"
             ],
             [
              1,
              "#f0f921"
             ]
            ],
            "type": "contour"
           }
          ],
          "contourcarpet": [
           {
            "colorbar": {
             "outlinewidth": 0,
             "ticks": ""
            },
            "type": "contourcarpet"
           }
          ],
          "heatmap": [
           {
            "colorbar": {
             "outlinewidth": 0,
             "ticks": ""
            },
            "colorscale": [
             [
              0,
              "#0d0887"
             ],
             [
              0.1111111111111111,
              "#46039f"
             ],
             [
              0.2222222222222222,
              "#7201a8"
             ],
             [
              0.3333333333333333,
              "#9c179e"
             ],
             [
              0.4444444444444444,
              "#bd3786"
             ],
             [
              0.5555555555555556,
              "#d8576b"
             ],
             [
              0.6666666666666666,
              "#ed7953"
             ],
             [
              0.7777777777777778,
              "#fb9f3a"
             ],
             [
              0.8888888888888888,
              "#fdca26"
             ],
             [
              1,
              "#f0f921"
             ]
            ],
            "type": "heatmap"
           }
          ],
          "heatmapgl": [
           {
            "colorbar": {
             "outlinewidth": 0,
             "ticks": ""
            },
            "colorscale": [
             [
              0,
              "#0d0887"
             ],
             [
              0.1111111111111111,
              "#46039f"
             ],
             [
              0.2222222222222222,
              "#7201a8"
             ],
             [
              0.3333333333333333,
              "#9c179e"
             ],
             [
              0.4444444444444444,
              "#bd3786"
             ],
             [
              0.5555555555555556,
              "#d8576b"
             ],
             [
              0.6666666666666666,
              "#ed7953"
             ],
             [
              0.7777777777777778,
              "#fb9f3a"
             ],
             [
              0.8888888888888888,
              "#fdca26"
             ],
             [
              1,
              "#f0f921"
             ]
            ],
            "type": "heatmapgl"
           }
          ],
          "histogram": [
           {
            "marker": {
             "pattern": {
              "fillmode": "overlay",
              "size": 10,
              "solidity": 0.2
             }
            },
            "type": "histogram"
           }
          ],
          "histogram2d": [
           {
            "colorbar": {
             "outlinewidth": 0,
             "ticks": ""
            },
            "colorscale": [
             [
              0,
              "#0d0887"
             ],
             [
              0.1111111111111111,
              "#46039f"
             ],
             [
              0.2222222222222222,
              "#7201a8"
             ],
             [
              0.3333333333333333,
              "#9c179e"
             ],
             [
              0.4444444444444444,
              "#bd3786"
             ],
             [
              0.5555555555555556,
              "#d8576b"
             ],
             [
              0.6666666666666666,
              "#ed7953"
             ],
             [
              0.7777777777777778,
              "#fb9f3a"
             ],
             [
              0.8888888888888888,
              "#fdca26"
             ],
             [
              1,
              "#f0f921"
             ]
            ],
            "type": "histogram2d"
           }
          ],
          "histogram2dcontour": [
           {
            "colorbar": {
             "outlinewidth": 0,
             "ticks": ""
            },
            "colorscale": [
             [
              0,
              "#0d0887"
             ],
             [
              0.1111111111111111,
              "#46039f"
             ],
             [
              0.2222222222222222,
              "#7201a8"
             ],
             [
              0.3333333333333333,
              "#9c179e"
             ],
             [
              0.4444444444444444,
              "#bd3786"
             ],
             [
              0.5555555555555556,
              "#d8576b"
             ],
             [
              0.6666666666666666,
              "#ed7953"
             ],
             [
              0.7777777777777778,
              "#fb9f3a"
             ],
             [
              0.8888888888888888,
              "#fdca26"
             ],
             [
              1,
              "#f0f921"
             ]
            ],
            "type": "histogram2dcontour"
           }
          ],
          "mesh3d": [
           {
            "colorbar": {
             "outlinewidth": 0,
             "ticks": ""
            },
            "type": "mesh3d"
           }
          ],
          "parcoords": [
           {
            "line": {
             "colorbar": {
              "outlinewidth": 0,
              "ticks": ""
             }
            },
            "type": "parcoords"
           }
          ],
          "pie": [
           {
            "automargin": true,
            "type": "pie"
           }
          ],
          "scatter": [
           {
            "fillpattern": {
             "fillmode": "overlay",
             "size": 10,
             "solidity": 0.2
            },
            "type": "scatter"
           }
          ],
          "scatter3d": [
           {
            "line": {
             "colorbar": {
              "outlinewidth": 0,
              "ticks": ""
             }
            },
            "marker": {
             "colorbar": {
              "outlinewidth": 0,
              "ticks": ""
             }
            },
            "type": "scatter3d"
           }
          ],
          "scattercarpet": [
           {
            "marker": {
             "colorbar": {
              "outlinewidth": 0,
              "ticks": ""
             }
            },
            "type": "scattercarpet"
           }
          ],
          "scattergeo": [
           {
            "marker": {
             "colorbar": {
              "outlinewidth": 0,
              "ticks": ""
             }
            },
            "type": "scattergeo"
           }
          ],
          "scattergl": [
           {
            "marker": {
             "colorbar": {
              "outlinewidth": 0,
              "ticks": ""
             }
            },
            "type": "scattergl"
           }
          ],
          "scattermapbox": [
           {
            "marker": {
             "colorbar": {
              "outlinewidth": 0,
              "ticks": ""
             }
            },
            "type": "scattermapbox"
           }
          ],
          "scatterpolar": [
           {
            "marker": {
             "colorbar": {
              "outlinewidth": 0,
              "ticks": ""
             }
            },
            "type": "scatterpolar"
           }
          ],
          "scatterpolargl": [
           {
            "marker": {
             "colorbar": {
              "outlinewidth": 0,
              "ticks": ""
             }
            },
            "type": "scatterpolargl"
           }
          ],
          "scatterternary": [
           {
            "marker": {
             "colorbar": {
              "outlinewidth": 0,
              "ticks": ""
             }
            },
            "type": "scatterternary"
           }
          ],
          "surface": [
           {
            "colorbar": {
             "outlinewidth": 0,
             "ticks": ""
            },
            "colorscale": [
             [
              0,
              "#0d0887"
             ],
             [
              0.1111111111111111,
              "#46039f"
             ],
             [
              0.2222222222222222,
              "#7201a8"
             ],
             [
              0.3333333333333333,
              "#9c179e"
             ],
             [
              0.4444444444444444,
              "#bd3786"
             ],
             [
              0.5555555555555556,
              "#d8576b"
             ],
             [
              0.6666666666666666,
              "#ed7953"
             ],
             [
              0.7777777777777778,
              "#fb9f3a"
             ],
             [
              0.8888888888888888,
              "#fdca26"
             ],
             [
              1,
              "#f0f921"
             ]
            ],
            "type": "surface"
           }
          ],
          "table": [
           {
            "cells": {
             "fill": {
              "color": "#EBF0F8"
             },
             "line": {
              "color": "white"
             }
            },
            "header": {
             "fill": {
              "color": "#C8D4E3"
             },
             "line": {
              "color": "white"
             }
            },
            "type": "table"
           }
          ]
         },
         "layout": {
          "annotationdefaults": {
           "arrowcolor": "#2a3f5f",
           "arrowhead": 0,
           "arrowwidth": 1
          },
          "autotypenumbers": "strict",
          "coloraxis": {
           "colorbar": {
            "outlinewidth": 0,
            "ticks": ""
           }
          },
          "colorscale": {
           "diverging": [
            [
             0,
             "#8e0152"
            ],
            [
             0.1,
             "#c51b7d"
            ],
            [
             0.2,
             "#de77ae"
            ],
            [
             0.3,
             "#f1b6da"
            ],
            [
             0.4,
             "#fde0ef"
            ],
            [
             0.5,
             "#f7f7f7"
            ],
            [
             0.6,
             "#e6f5d0"
            ],
            [
             0.7,
             "#b8e186"
            ],
            [
             0.8,
             "#7fbc41"
            ],
            [
             0.9,
             "#4d9221"
            ],
            [
             1,
             "#276419"
            ]
           ],
           "sequential": [
            [
             0,
             "#0d0887"
            ],
            [
             0.1111111111111111,
             "#46039f"
            ],
            [
             0.2222222222222222,
             "#7201a8"
            ],
            [
             0.3333333333333333,
             "#9c179e"
            ],
            [
             0.4444444444444444,
             "#bd3786"
            ],
            [
             0.5555555555555556,
             "#d8576b"
            ],
            [
             0.6666666666666666,
             "#ed7953"
            ],
            [
             0.7777777777777778,
             "#fb9f3a"
            ],
            [
             0.8888888888888888,
             "#fdca26"
            ],
            [
             1,
             "#f0f921"
            ]
           ],
           "sequentialminus": [
            [
             0,
             "#0d0887"
            ],
            [
             0.1111111111111111,
             "#46039f"
            ],
            [
             0.2222222222222222,
             "#7201a8"
            ],
            [
             0.3333333333333333,
             "#9c179e"
            ],
            [
             0.4444444444444444,
             "#bd3786"
            ],
            [
             0.5555555555555556,
             "#d8576b"
            ],
            [
             0.6666666666666666,
             "#ed7953"
            ],
            [
             0.7777777777777778,
             "#fb9f3a"
            ],
            [
             0.8888888888888888,
             "#fdca26"
            ],
            [
             1,
             "#f0f921"
            ]
           ]
          },
          "colorway": [
           "#636efa",
           "#EF553B",
           "#00cc96",
           "#ab63fa",
           "#FFA15A",
           "#19d3f3",
           "#FF6692",
           "#B6E880",
           "#FF97FF",
           "#FECB52"
          ],
          "font": {
           "color": "#2a3f5f"
          },
          "geo": {
           "bgcolor": "white",
           "lakecolor": "white",
           "landcolor": "#E5ECF6",
           "showlakes": true,
           "showland": true,
           "subunitcolor": "white"
          },
          "hoverlabel": {
           "align": "left"
          },
          "hovermode": "closest",
          "mapbox": {
           "style": "light"
          },
          "paper_bgcolor": "white",
          "plot_bgcolor": "#E5ECF6",
          "polar": {
           "angularaxis": {
            "gridcolor": "white",
            "linecolor": "white",
            "ticks": ""
           },
           "bgcolor": "#E5ECF6",
           "radialaxis": {
            "gridcolor": "white",
            "linecolor": "white",
            "ticks": ""
           }
          },
          "scene": {
           "xaxis": {
            "backgroundcolor": "#E5ECF6",
            "gridcolor": "white",
            "gridwidth": 2,
            "linecolor": "white",
            "showbackground": true,
            "ticks": "",
            "zerolinecolor": "white"
           },
           "yaxis": {
            "backgroundcolor": "#E5ECF6",
            "gridcolor": "white",
            "gridwidth": 2,
            "linecolor": "white",
            "showbackground": true,
            "ticks": "",
            "zerolinecolor": "white"
           },
           "zaxis": {
            "backgroundcolor": "#E5ECF6",
            "gridcolor": "white",
            "gridwidth": 2,
            "linecolor": "white",
            "showbackground": true,
            "ticks": "",
            "zerolinecolor": "white"
           }
          },
          "shapedefaults": {
           "line": {
            "color": "#2a3f5f"
           }
          },
          "ternary": {
           "aaxis": {
            "gridcolor": "white",
            "linecolor": "white",
            "ticks": ""
           },
           "baxis": {
            "gridcolor": "white",
            "linecolor": "white",
            "ticks": ""
           },
           "bgcolor": "#E5ECF6",
           "caxis": {
            "gridcolor": "white",
            "linecolor": "white",
            "ticks": ""
           }
          },
          "title": {
           "x": 0.05
          },
          "xaxis": {
           "automargin": true,
           "gridcolor": "white",
           "linecolor": "white",
           "ticks": "",
           "title": {
            "standoff": 15
           },
           "zerolinecolor": "white",
           "zerolinewidth": 2
          },
          "yaxis": {
           "automargin": true,
           "gridcolor": "white",
           "linecolor": "white",
           "ticks": "",
           "title": {
            "standoff": 15
           },
           "zerolinecolor": "white",
           "zerolinewidth": 2
          }
         }
        },
        "title": {
         "text": "Slice Plot"
        },
        "width": 4200,
        "xaxis": {
         "anchor": "y",
         "domain": [
          0,
          0.058163265306122446
         ],
         "title": {
          "text": "alpha"
         },
         "type": "log"
        },
        "xaxis10": {
         "anchor": "y10",
         "domain": [
          0.6520408163265305,
          0.710204081632653
         ],
         "title": {
          "text": "normalize_type"
         }
        },
        "xaxis11": {
         "anchor": "y11",
         "domain": [
          0.7244897959183674,
          0.7826530612244899
         ],
         "title": {
          "text": "rate_drop"
         },
         "type": "log"
        },
        "xaxis12": {
         "anchor": "y12",
         "domain": [
          0.7969387755102041,
          0.8551020408163266
         ],
         "title": {
          "text": "sample_type"
         }
        },
        "xaxis13": {
         "anchor": "y13",
         "domain": [
          0.8693877551020408,
          0.9275510204081633
         ],
         "title": {
          "text": "skip_drop"
         },
         "type": "log"
        },
        "xaxis14": {
         "anchor": "y14",
         "domain": [
          0.9418367346938776,
          1
         ],
         "title": {
          "text": "subsample"
         }
        },
        "xaxis2": {
         "anchor": "y2",
         "domain": [
          0.07244897959183673,
          0.13061224489795917
         ],
         "title": {
          "text": "booster"
         }
        },
        "xaxis3": {
         "anchor": "y3",
         "domain": [
          0.14489795918367346,
          0.2030612244897959
         ],
         "title": {
          "text": "colsample_bytree"
         }
        },
        "xaxis4": {
         "anchor": "y4",
         "domain": [
          0.2173469387755102,
          0.2755102040816326
         ],
         "title": {
          "text": "eta"
         },
         "type": "log"
        },
        "xaxis5": {
         "anchor": "y5",
         "domain": [
          0.2897959183673469,
          0.34795918367346934
         ],
         "title": {
          "text": "gamma"
         },
         "type": "log"
        },
        "xaxis6": {
         "anchor": "y6",
         "domain": [
          0.3622448979591837,
          0.4204081632653061
         ],
         "title": {
          "text": "grow_policy"
         }
        },
        "xaxis7": {
         "anchor": "y7",
         "domain": [
          0.4346938775510204,
          0.4928571428571428
         ],
         "title": {
          "text": "lambda"
         },
         "type": "log"
        },
        "xaxis8": {
         "anchor": "y8",
         "domain": [
          0.5071428571428571,
          0.5653061224489796
         ],
         "title": {
          "text": "learning_rate"
         }
        },
        "xaxis9": {
         "anchor": "y9",
         "domain": [
          0.5795918367346938,
          0.6377551020408163
         ],
         "title": {
          "text": "max_depth"
         }
        },
        "yaxis": {
         "anchor": "x",
         "domain": [
          0,
          1
         ],
         "title": {
          "text": "Objective Value"
         }
        },
        "yaxis10": {
         "anchor": "x10",
         "domain": [
          0,
          1
         ],
         "matches": "y",
         "showticklabels": false
        },
        "yaxis11": {
         "anchor": "x11",
         "domain": [
          0,
          1
         ],
         "matches": "y",
         "showticklabels": false
        },
        "yaxis12": {
         "anchor": "x12",
         "domain": [
          0,
          1
         ],
         "matches": "y",
         "showticklabels": false
        },
        "yaxis13": {
         "anchor": "x13",
         "domain": [
          0,
          1
         ],
         "matches": "y",
         "showticklabels": false
        },
        "yaxis14": {
         "anchor": "x14",
         "domain": [
          0,
          1
         ],
         "matches": "y",
         "showticklabels": false
        },
        "yaxis2": {
         "anchor": "x2",
         "domain": [
          0,
          1
         ],
         "matches": "y",
         "showticklabels": false
        },
        "yaxis3": {
         "anchor": "x3",
         "domain": [
          0,
          1
         ],
         "matches": "y",
         "showticklabels": false
        },
        "yaxis4": {
         "anchor": "x4",
         "domain": [
          0,
          1
         ],
         "matches": "y",
         "showticklabels": false
        },
        "yaxis5": {
         "anchor": "x5",
         "domain": [
          0,
          1
         ],
         "matches": "y",
         "showticklabels": false
        },
        "yaxis6": {
         "anchor": "x6",
         "domain": [
          0,
          1
         ],
         "matches": "y",
         "showticklabels": false
        },
        "yaxis7": {
         "anchor": "x7",
         "domain": [
          0,
          1
         ],
         "matches": "y",
         "showticklabels": false
        },
        "yaxis8": {
         "anchor": "x8",
         "domain": [
          0,
          1
         ],
         "matches": "y",
         "showticklabels": false
        },
        "yaxis9": {
         "anchor": "x9",
         "domain": [
          0,
          1
         ],
         "matches": "y",
         "showticklabels": false
        }
       }
      }
     },
     "metadata": {},
     "output_type": "display_data"
    }
   ],
   "source": [
    "plot_slice(study)"
   ]
  },
  {
   "cell_type": "code",
   "execution_count": 41,
   "metadata": {},
   "outputs": [
    {
     "data": {
      "application/vnd.plotly.v1+json": {
       "config": {
        "plotlyServerURL": "https://plot.ly"
       },
       "data": [
        {
         "cliponaxis": false,
         "hovertemplate": [
          "colsample_bytree (FloatDistribution): 0.025822721652670907<extra></extra>",
          "lambda (FloatDistribution): 0.037048571068748586<extra></extra>",
          "subsample (FloatDistribution): 0.053589766364299574<extra></extra>",
          "learning_rate (FloatDistribution): 0.06743772709787152<extra></extra>",
          "alpha (FloatDistribution): 0.17610599970992907<extra></extra>",
          "booster (CategoricalDistribution): 0.6399952141064804<extra></extra>"
         ],
         "marker": {
          "color": "rgb(66,146,198)"
         },
         "orientation": "h",
         "text": [
          "0.03",
          "0.04",
          "0.05",
          "0.07",
          "0.18",
          "0.64"
         ],
         "textposition": "outside",
         "type": "bar",
         "x": [
          0.025822721652670907,
          0.037048571068748586,
          0.053589766364299574,
          0.06743772709787152,
          0.17610599970992907,
          0.6399952141064804
         ],
         "y": [
          "colsample_bytree",
          "lambda",
          "subsample",
          "learning_rate",
          "alpha",
          "booster"
         ]
        }
       ],
       "layout": {
        "showlegend": false,
        "template": {
         "data": {
          "bar": [
           {
            "error_x": {
             "color": "#2a3f5f"
            },
            "error_y": {
             "color": "#2a3f5f"
            },
            "marker": {
             "line": {
              "color": "#E5ECF6",
              "width": 0.5
             },
             "pattern": {
              "fillmode": "overlay",
              "size": 10,
              "solidity": 0.2
             }
            },
            "type": "bar"
           }
          ],
          "barpolar": [
           {
            "marker": {
             "line": {
              "color": "#E5ECF6",
              "width": 0.5
             },
             "pattern": {
              "fillmode": "overlay",
              "size": 10,
              "solidity": 0.2
             }
            },
            "type": "barpolar"
           }
          ],
          "carpet": [
           {
            "aaxis": {
             "endlinecolor": "#2a3f5f",
             "gridcolor": "white",
             "linecolor": "white",
             "minorgridcolor": "white",
             "startlinecolor": "#2a3f5f"
            },
            "baxis": {
             "endlinecolor": "#2a3f5f",
             "gridcolor": "white",
             "linecolor": "white",
             "minorgridcolor": "white",
             "startlinecolor": "#2a3f5f"
            },
            "type": "carpet"
           }
          ],
          "choropleth": [
           {
            "colorbar": {
             "outlinewidth": 0,
             "ticks": ""
            },
            "type": "choropleth"
           }
          ],
          "contour": [
           {
            "colorbar": {
             "outlinewidth": 0,
             "ticks": ""
            },
            "colorscale": [
             [
              0,
              "#0d0887"
             ],
             [
              0.1111111111111111,
              "#46039f"
             ],
             [
              0.2222222222222222,
              "#7201a8"
             ],
             [
              0.3333333333333333,
              "#9c179e"
             ],
             [
              0.4444444444444444,
              "#bd3786"
             ],
             [
              0.5555555555555556,
              "#d8576b"
             ],
             [
              0.6666666666666666,
              "#ed7953"
             ],
             [
              0.7777777777777778,
              "#fb9f3a"
             ],
             [
              0.8888888888888888,
              "#fdca26"
             ],
             [
              1,
              "#f0f921"
             ]
            ],
            "type": "contour"
           }
          ],
          "contourcarpet": [
           {
            "colorbar": {
             "outlinewidth": 0,
             "ticks": ""
            },
            "type": "contourcarpet"
           }
          ],
          "heatmap": [
           {
            "colorbar": {
             "outlinewidth": 0,
             "ticks": ""
            },
            "colorscale": [
             [
              0,
              "#0d0887"
             ],
             [
              0.1111111111111111,
              "#46039f"
             ],
             [
              0.2222222222222222,
              "#7201a8"
             ],
             [
              0.3333333333333333,
              "#9c179e"
             ],
             [
              0.4444444444444444,
              "#bd3786"
             ],
             [
              0.5555555555555556,
              "#d8576b"
             ],
             [
              0.6666666666666666,
              "#ed7953"
             ],
             [
              0.7777777777777778,
              "#fb9f3a"
             ],
             [
              0.8888888888888888,
              "#fdca26"
             ],
             [
              1,
              "#f0f921"
             ]
            ],
            "type": "heatmap"
           }
          ],
          "heatmapgl": [
           {
            "colorbar": {
             "outlinewidth": 0,
             "ticks": ""
            },
            "colorscale": [
             [
              0,
              "#0d0887"
             ],
             [
              0.1111111111111111,
              "#46039f"
             ],
             [
              0.2222222222222222,
              "#7201a8"
             ],
             [
              0.3333333333333333,
              "#9c179e"
             ],
             [
              0.4444444444444444,
              "#bd3786"
             ],
             [
              0.5555555555555556,
              "#d8576b"
             ],
             [
              0.6666666666666666,
              "#ed7953"
             ],
             [
              0.7777777777777778,
              "#fb9f3a"
             ],
             [
              0.8888888888888888,
              "#fdca26"
             ],
             [
              1,
              "#f0f921"
             ]
            ],
            "type": "heatmapgl"
           }
          ],
          "histogram": [
           {
            "marker": {
             "pattern": {
              "fillmode": "overlay",
              "size": 10,
              "solidity": 0.2
             }
            },
            "type": "histogram"
           }
          ],
          "histogram2d": [
           {
            "colorbar": {
             "outlinewidth": 0,
             "ticks": ""
            },
            "colorscale": [
             [
              0,
              "#0d0887"
             ],
             [
              0.1111111111111111,
              "#46039f"
             ],
             [
              0.2222222222222222,
              "#7201a8"
             ],
             [
              0.3333333333333333,
              "#9c179e"
             ],
             [
              0.4444444444444444,
              "#bd3786"
             ],
             [
              0.5555555555555556,
              "#d8576b"
             ],
             [
              0.6666666666666666,
              "#ed7953"
             ],
             [
              0.7777777777777778,
              "#fb9f3a"
             ],
             [
              0.8888888888888888,
              "#fdca26"
             ],
             [
              1,
              "#f0f921"
             ]
            ],
            "type": "histogram2d"
           }
          ],
          "histogram2dcontour": [
           {
            "colorbar": {
             "outlinewidth": 0,
             "ticks": ""
            },
            "colorscale": [
             [
              0,
              "#0d0887"
             ],
             [
              0.1111111111111111,
              "#46039f"
             ],
             [
              0.2222222222222222,
              "#7201a8"
             ],
             [
              0.3333333333333333,
              "#9c179e"
             ],
             [
              0.4444444444444444,
              "#bd3786"
             ],
             [
              0.5555555555555556,
              "#d8576b"
             ],
             [
              0.6666666666666666,
              "#ed7953"
             ],
             [
              0.7777777777777778,
              "#fb9f3a"
             ],
             [
              0.8888888888888888,
              "#fdca26"
             ],
             [
              1,
              "#f0f921"
             ]
            ],
            "type": "histogram2dcontour"
           }
          ],
          "mesh3d": [
           {
            "colorbar": {
             "outlinewidth": 0,
             "ticks": ""
            },
            "type": "mesh3d"
           }
          ],
          "parcoords": [
           {
            "line": {
             "colorbar": {
              "outlinewidth": 0,
              "ticks": ""
             }
            },
            "type": "parcoords"
           }
          ],
          "pie": [
           {
            "automargin": true,
            "type": "pie"
           }
          ],
          "scatter": [
           {
            "fillpattern": {
             "fillmode": "overlay",
             "size": 10,
             "solidity": 0.2
            },
            "type": "scatter"
           }
          ],
          "scatter3d": [
           {
            "line": {
             "colorbar": {
              "outlinewidth": 0,
              "ticks": ""
             }
            },
            "marker": {
             "colorbar": {
              "outlinewidth": 0,
              "ticks": ""
             }
            },
            "type": "scatter3d"
           }
          ],
          "scattercarpet": [
           {
            "marker": {
             "colorbar": {
              "outlinewidth": 0,
              "ticks": ""
             }
            },
            "type": "scattercarpet"
           }
          ],
          "scattergeo": [
           {
            "marker": {
             "colorbar": {
              "outlinewidth": 0,
              "ticks": ""
             }
            },
            "type": "scattergeo"
           }
          ],
          "scattergl": [
           {
            "marker": {
             "colorbar": {
              "outlinewidth": 0,
              "ticks": ""
             }
            },
            "type": "scattergl"
           }
          ],
          "scattermapbox": [
           {
            "marker": {
             "colorbar": {
              "outlinewidth": 0,
              "ticks": ""
             }
            },
            "type": "scattermapbox"
           }
          ],
          "scatterpolar": [
           {
            "marker": {
             "colorbar": {
              "outlinewidth": 0,
              "ticks": ""
             }
            },
            "type": "scatterpolar"
           }
          ],
          "scatterpolargl": [
           {
            "marker": {
             "colorbar": {
              "outlinewidth": 0,
              "ticks": ""
             }
            },
            "type": "scatterpolargl"
           }
          ],
          "scatterternary": [
           {
            "marker": {
             "colorbar": {
              "outlinewidth": 0,
              "ticks": ""
             }
            },
            "type": "scatterternary"
           }
          ],
          "surface": [
           {
            "colorbar": {
             "outlinewidth": 0,
             "ticks": ""
            },
            "colorscale": [
             [
              0,
              "#0d0887"
             ],
             [
              0.1111111111111111,
              "#46039f"
             ],
             [
              0.2222222222222222,
              "#7201a8"
             ],
             [
              0.3333333333333333,
              "#9c179e"
             ],
             [
              0.4444444444444444,
              "#bd3786"
             ],
             [
              0.5555555555555556,
              "#d8576b"
             ],
             [
              0.6666666666666666,
              "#ed7953"
             ],
             [
              0.7777777777777778,
              "#fb9f3a"
             ],
             [
              0.8888888888888888,
              "#fdca26"
             ],
             [
              1,
              "#f0f921"
             ]
            ],
            "type": "surface"
           }
          ],
          "table": [
           {
            "cells": {
             "fill": {
              "color": "#EBF0F8"
             },
             "line": {
              "color": "white"
             }
            },
            "header": {
             "fill": {
              "color": "#C8D4E3"
             },
             "line": {
              "color": "white"
             }
            },
            "type": "table"
           }
          ]
         },
         "layout": {
          "annotationdefaults": {
           "arrowcolor": "#2a3f5f",
           "arrowhead": 0,
           "arrowwidth": 1
          },
          "autotypenumbers": "strict",
          "coloraxis": {
           "colorbar": {
            "outlinewidth": 0,
            "ticks": ""
           }
          },
          "colorscale": {
           "diverging": [
            [
             0,
             "#8e0152"
            ],
            [
             0.1,
             "#c51b7d"
            ],
            [
             0.2,
             "#de77ae"
            ],
            [
             0.3,
             "#f1b6da"
            ],
            [
             0.4,
             "#fde0ef"
            ],
            [
             0.5,
             "#f7f7f7"
            ],
            [
             0.6,
             "#e6f5d0"
            ],
            [
             0.7,
             "#b8e186"
            ],
            [
             0.8,
             "#7fbc41"
            ],
            [
             0.9,
             "#4d9221"
            ],
            [
             1,
             "#276419"
            ]
           ],
           "sequential": [
            [
             0,
             "#0d0887"
            ],
            [
             0.1111111111111111,
             "#46039f"
            ],
            [
             0.2222222222222222,
             "#7201a8"
            ],
            [
             0.3333333333333333,
             "#9c179e"
            ],
            [
             0.4444444444444444,
             "#bd3786"
            ],
            [
             0.5555555555555556,
             "#d8576b"
            ],
            [
             0.6666666666666666,
             "#ed7953"
            ],
            [
             0.7777777777777778,
             "#fb9f3a"
            ],
            [
             0.8888888888888888,
             "#fdca26"
            ],
            [
             1,
             "#f0f921"
            ]
           ],
           "sequentialminus": [
            [
             0,
             "#0d0887"
            ],
            [
             0.1111111111111111,
             "#46039f"
            ],
            [
             0.2222222222222222,
             "#7201a8"
            ],
            [
             0.3333333333333333,
             "#9c179e"
            ],
            [
             0.4444444444444444,
             "#bd3786"
            ],
            [
             0.5555555555555556,
             "#d8576b"
            ],
            [
             0.6666666666666666,
             "#ed7953"
            ],
            [
             0.7777777777777778,
             "#fb9f3a"
            ],
            [
             0.8888888888888888,
             "#fdca26"
            ],
            [
             1,
             "#f0f921"
            ]
           ]
          },
          "colorway": [
           "#636efa",
           "#EF553B",
           "#00cc96",
           "#ab63fa",
           "#FFA15A",
           "#19d3f3",
           "#FF6692",
           "#B6E880",
           "#FF97FF",
           "#FECB52"
          ],
          "font": {
           "color": "#2a3f5f"
          },
          "geo": {
           "bgcolor": "white",
           "lakecolor": "white",
           "landcolor": "#E5ECF6",
           "showlakes": true,
           "showland": true,
           "subunitcolor": "white"
          },
          "hoverlabel": {
           "align": "left"
          },
          "hovermode": "closest",
          "mapbox": {
           "style": "light"
          },
          "paper_bgcolor": "white",
          "plot_bgcolor": "#E5ECF6",
          "polar": {
           "angularaxis": {
            "gridcolor": "white",
            "linecolor": "white",
            "ticks": ""
           },
           "bgcolor": "#E5ECF6",
           "radialaxis": {
            "gridcolor": "white",
            "linecolor": "white",
            "ticks": ""
           }
          },
          "scene": {
           "xaxis": {
            "backgroundcolor": "#E5ECF6",
            "gridcolor": "white",
            "gridwidth": 2,
            "linecolor": "white",
            "showbackground": true,
            "ticks": "",
            "zerolinecolor": "white"
           },
           "yaxis": {
            "backgroundcolor": "#E5ECF6",
            "gridcolor": "white",
            "gridwidth": 2,
            "linecolor": "white",
            "showbackground": true,
            "ticks": "",
            "zerolinecolor": "white"
           },
           "zaxis": {
            "backgroundcolor": "#E5ECF6",
            "gridcolor": "white",
            "gridwidth": 2,
            "linecolor": "white",
            "showbackground": true,
            "ticks": "",
            "zerolinecolor": "white"
           }
          },
          "shapedefaults": {
           "line": {
            "color": "#2a3f5f"
           }
          },
          "ternary": {
           "aaxis": {
            "gridcolor": "white",
            "linecolor": "white",
            "ticks": ""
           },
           "baxis": {
            "gridcolor": "white",
            "linecolor": "white",
            "ticks": ""
           },
           "bgcolor": "#E5ECF6",
           "caxis": {
            "gridcolor": "white",
            "linecolor": "white",
            "ticks": ""
           }
          },
          "title": {
           "x": 0.05
          },
          "xaxis": {
           "automargin": true,
           "gridcolor": "white",
           "linecolor": "white",
           "ticks": "",
           "title": {
            "standoff": 15
           },
           "zerolinecolor": "white",
           "zerolinewidth": 2
          },
          "yaxis": {
           "automargin": true,
           "gridcolor": "white",
           "linecolor": "white",
           "ticks": "",
           "title": {
            "standoff": 15
           },
           "zerolinecolor": "white",
           "zerolinewidth": 2
          }
         }
        },
        "title": {
         "text": "Hyperparameter Importances"
        },
        "xaxis": {
         "title": {
          "text": "Importance for Objective Value"
         }
        },
        "yaxis": {
         "title": {
          "text": "Hyperparameter"
         }
        }
       }
      }
     },
     "metadata": {},
     "output_type": "display_data"
    }
   ],
   "source": [
    "plot_param_importances(study)"
   ]
  },
  {
   "cell_type": "code",
   "execution_count": 42,
   "metadata": {},
   "outputs": [
    {
     "data": {
      "text/plain": [
       "{'booster': 'dart',\n",
       " 'lambda': 0.0067981943191443815,\n",
       " 'alpha': 1.1158232780616973e-07,\n",
       " 'subsample': 0.39680328510099894,\n",
       " 'colsample_bytree': 0.5482579412080295,\n",
       " 'learning_rate': 0.13779959534970157,\n",
       " 'max_depth': 3,\n",
       " 'eta': 0.0010017919482385215,\n",
       " 'gamma': 0.030524056409888256,\n",
       " 'grow_policy': 'depthwise',\n",
       " 'sample_type': 'weighted',\n",
       " 'normalize_type': 'tree',\n",
       " 'rate_drop': 4.4093900571337765e-06,\n",
       " 'skip_drop': 1.105656318625032e-05}"
      ]
     },
     "execution_count": 42,
     "metadata": {},
     "output_type": "execute_result"
    }
   ],
   "source": [
    "trial.params"
   ]
  },
  {
   "cell_type": "markdown",
   "metadata": {},
   "source": [
    "1.\n",
    "{'booster': 'gbtree',\n",
    " 'lambda': 0.24302130237467398,\n",
    " 'alpha': 2.2108795894332237e-08,\n",
    " 'subsample': 0.7887998109844777,\n",
    " 'colsample_bytree': 0.4493748858737539,\n",
    " 'max_depth': 2,\n",
    " 'eta': 0.29846902305256606,\n",
    " 'gamma': 1.4539411503015061e-05,\n",
    " 'grow_policy': 'lossguide'}\n",
    "\n",
    " 2.\n",
    " {'booster': 'gbtree',\n",
    " 'lambda': 0.8068353722333764,\n",
    " 'alpha': 1.894027813634802e-08,\n",
    " 'subsample': 0.7785041239304065,\n",
    " 'colsample_bytree': 0.7601163387370006,\n",
    " 'learning_rate': 0.02,\n",
    " 'max_depth': 4,\n",
    " 'eta': 0.645702469472196,\n",
    " 'gamma': 3.1878972195087093e-07,\n",
    " 'grow_policy': 'lossguide'}\n",
    "\n",
    " 3.\n",
    " {'booster': 'dart',\n",
    " 'lambda': 0.0067981943191443815,\n",
    " 'alpha': 1.1158232780616973e-07,\n",
    " 'subsample': 0.39680328510099894,\n",
    " 'colsample_bytree': 0.5482579412080295,\n",
    " 'learning_rate': 0.13779959534970157,\n",
    " 'max_depth': 3,\n",
    " 'eta': 0.0010017919482385215,\n",
    " 'gamma': 0.030524056409888256,\n",
    " 'grow_policy': 'depthwise',\n",
    " 'sample_type': 'weighted',\n",
    " 'normalize_type': 'tree',\n",
    " 'rate_drop': 4.4093900571337765e-06,\n",
    " 'skip_drop': 1.105656318625032e-05}"
   ]
  }
 ],
 "metadata": {
  "kernelspec": {
   "display_name": "Python 3.8.2 64-bit",
   "language": "python",
   "name": "python3"
  },
  "language_info": {
   "codemirror_mode": {
    "name": "ipython",
    "version": 3
   },
   "file_extension": ".py",
   "mimetype": "text/x-python",
   "name": "python",
   "nbconvert_exporter": "python",
   "pygments_lexer": "ipython3",
   "version": "3.8.2"
  },
  "orig_nbformat": 4,
  "vscode": {
   "interpreter": {
    "hash": "6eaea64310228e9f754520128e4f9a6259bb26f5c3839fa5dce3903f5873b011"
   }
  }
 },
 "nbformat": 4,
 "nbformat_minor": 2
}
