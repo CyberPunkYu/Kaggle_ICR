{
 "cells": [
  {
   "cell_type": "code",
   "execution_count": 199,
   "metadata": {},
   "outputs": [],
   "source": [
    "import numpy as np\n",
    "import pandas as pd\n",
    "import matplotlib.pyplot as plt\n",
    "import seaborn as sns\n",
    "import warnings, os, sys, shutil\n",
    "warnings.filterwarnings(\"ignore\")"
   ]
  },
  {
   "cell_type": "code",
   "execution_count": 200,
   "metadata": {},
   "outputs": [],
   "source": [
    "train = pd.read_csv('./icr-identify-age-related-conditions/train.csv')\n",
    "test = pd.read_csv('./icr-identify-age-related-conditions/test.csv')\n",
    "meta = pd.read_csv('./icr-identify-age-related-conditions/greeks.csv')"
   ]
  },
  {
   "cell_type": "code",
   "execution_count": 201,
   "metadata": {},
   "outputs": [],
   "source": [
    "train_init = train.copy()\n",
    "train['Alpha'] = meta['Alpha']\n",
    "train['Beta'] = meta['Beta']\n",
    "train['Gamma'] = meta['Gamma']\n",
    "train['Delta'] = meta['Delta']"
   ]
  },
  {
   "cell_type": "code",
   "execution_count": 202,
   "metadata": {},
   "outputs": [],
   "source": [
    "# 处理greeks\n",
    "# Alpha为A的时候为0，其余为1\n",
    "train['Alpha'] = train['Alpha'].apply(lambda x: 0 if x == 'A' else 1)"
   ]
  },
  {
   "cell_type": "code",
   "execution_count": 203,
   "metadata": {},
   "outputs": [],
   "source": [
    "# 将数据集中唯一的离散特征转为01，这可能表明患者的性别\n",
    "train['EJ'] = train['EJ'].replace({'A': 0, 'B': 1}).astype(float)\n",
    "test['EJ']  = test['EJ'].replace({'A': 0, 'B': 1}).astype(float)\n",
    "train_init['EJ'] = train_init['EJ'].replace({'A': 0, 'B': 1}).astype(float)\n",
    "# 缺失值处理，用中位数填充\n",
    "train['BQ'].fillna(0, inplace=True)\n",
    "train.fillna(train.median(), inplace=True)\n",
    "test.fillna(test.median(), inplace=True)\n",
    "train_init.fillna(train_init.median(), inplace=True)\n",
    "# 移除ID列\n",
    "train_id = train['Id'].copy()\n",
    "test_id  =  test['Id'].copy()\n",
    "train = train.drop(['Id'], axis=1)\n",
    "test  =  test.drop(['Id'], axis=1)"
   ]
  },
  {
   "cell_type": "code",
   "execution_count": 204,
   "metadata": {},
   "outputs": [
    {
     "data": {
      "text/html": [
       "<div>\n",
       "<style scoped>\n",
       "    .dataframe tbody tr th:only-of-type {\n",
       "        vertical-align: middle;\n",
       "    }\n",
       "\n",
       "    .dataframe tbody tr th {\n",
       "        vertical-align: top;\n",
       "    }\n",
       "\n",
       "    .dataframe thead th {\n",
       "        text-align: right;\n",
       "    }\n",
       "</style>\n",
       "<table border=\"1\" class=\"dataframe\">\n",
       "  <thead>\n",
       "    <tr style=\"text-align: right;\">\n",
       "      <th></th>\n",
       "      <th>AB</th>\n",
       "      <th>AF</th>\n",
       "      <th>AH</th>\n",
       "      <th>AM</th>\n",
       "      <th>AR</th>\n",
       "      <th>AX</th>\n",
       "      <th>AY</th>\n",
       "      <th>AZ</th>\n",
       "      <th>BC</th>\n",
       "      <th>BD</th>\n",
       "      <th>...</th>\n",
       "      <th>GE</th>\n",
       "      <th>GF</th>\n",
       "      <th>GH</th>\n",
       "      <th>GI</th>\n",
       "      <th>GL</th>\n",
       "      <th>Class</th>\n",
       "      <th>Alpha</th>\n",
       "      <th>Beta</th>\n",
       "      <th>Gamma</th>\n",
       "      <th>Delta</th>\n",
       "    </tr>\n",
       "  </thead>\n",
       "  <tbody>\n",
       "    <tr>\n",
       "      <th>0</th>\n",
       "      <td>0.209377</td>\n",
       "      <td>3109.03329</td>\n",
       "      <td>85.200147</td>\n",
       "      <td>22.394407</td>\n",
       "      <td>8.138688</td>\n",
       "      <td>0.699861</td>\n",
       "      <td>0.025578</td>\n",
       "      <td>9.812214</td>\n",
       "      <td>5.555634</td>\n",
       "      <td>4126.58731</td>\n",
       "      <td>...</td>\n",
       "      <td>72.611063</td>\n",
       "      <td>2003.810319</td>\n",
       "      <td>22.136229</td>\n",
       "      <td>69.834944</td>\n",
       "      <td>0.120343</td>\n",
       "      <td>1</td>\n",
       "      <td>1</td>\n",
       "      <td>0</td>\n",
       "      <td>1</td>\n",
       "      <td>2</td>\n",
       "    </tr>\n",
       "    <tr>\n",
       "      <th>1</th>\n",
       "      <td>0.145282</td>\n",
       "      <td>978.76416</td>\n",
       "      <td>85.200147</td>\n",
       "      <td>36.968889</td>\n",
       "      <td>8.138688</td>\n",
       "      <td>3.632190</td>\n",
       "      <td>0.025578</td>\n",
       "      <td>13.517790</td>\n",
       "      <td>1.229900</td>\n",
       "      <td>5496.92824</td>\n",
       "      <td>...</td>\n",
       "      <td>72.611063</td>\n",
       "      <td>27981.562750</td>\n",
       "      <td>29.135430</td>\n",
       "      <td>32.131996</td>\n",
       "      <td>21.978000</td>\n",
       "      <td>0</td>\n",
       "      <td>0</td>\n",
       "      <td>0</td>\n",
       "      <td>0</td>\n",
       "      <td>0</td>\n",
       "    </tr>\n",
       "    <tr>\n",
       "      <th>2</th>\n",
       "      <td>0.470030</td>\n",
       "      <td>2635.10654</td>\n",
       "      <td>85.200147</td>\n",
       "      <td>32.360553</td>\n",
       "      <td>8.138688</td>\n",
       "      <td>6.732840</td>\n",
       "      <td>0.025578</td>\n",
       "      <td>12.824570</td>\n",
       "      <td>1.229900</td>\n",
       "      <td>5135.78024</td>\n",
       "      <td>...</td>\n",
       "      <td>88.609437</td>\n",
       "      <td>13676.957810</td>\n",
       "      <td>28.022851</td>\n",
       "      <td>35.192676</td>\n",
       "      <td>0.196941</td>\n",
       "      <td>0</td>\n",
       "      <td>0</td>\n",
       "      <td>0</td>\n",
       "      <td>0</td>\n",
       "      <td>0</td>\n",
       "    </tr>\n",
       "    <tr>\n",
       "      <th>3</th>\n",
       "      <td>0.252107</td>\n",
       "      <td>3819.65177</td>\n",
       "      <td>120.201618</td>\n",
       "      <td>77.112203</td>\n",
       "      <td>8.138688</td>\n",
       "      <td>3.685344</td>\n",
       "      <td>0.025578</td>\n",
       "      <td>11.053708</td>\n",
       "      <td>1.229900</td>\n",
       "      <td>4169.67738</td>\n",
       "      <td>...</td>\n",
       "      <td>82.416803</td>\n",
       "      <td>2094.262452</td>\n",
       "      <td>39.948656</td>\n",
       "      <td>90.493248</td>\n",
       "      <td>0.155829</td>\n",
       "      <td>0</td>\n",
       "      <td>0</td>\n",
       "      <td>0</td>\n",
       "      <td>0</td>\n",
       "      <td>0</td>\n",
       "    </tr>\n",
       "    <tr>\n",
       "      <th>4</th>\n",
       "      <td>0.380297</td>\n",
       "      <td>3733.04844</td>\n",
       "      <td>85.200147</td>\n",
       "      <td>14.103738</td>\n",
       "      <td>8.138688</td>\n",
       "      <td>3.942255</td>\n",
       "      <td>0.054810</td>\n",
       "      <td>3.396778</td>\n",
       "      <td>102.151980</td>\n",
       "      <td>5728.73412</td>\n",
       "      <td>...</td>\n",
       "      <td>146.109943</td>\n",
       "      <td>8524.370502</td>\n",
       "      <td>45.381316</td>\n",
       "      <td>36.262628</td>\n",
       "      <td>0.096614</td>\n",
       "      <td>1</td>\n",
       "      <td>1</td>\n",
       "      <td>1</td>\n",
       "      <td>1</td>\n",
       "      <td>0</td>\n",
       "    </tr>\n",
       "  </tbody>\n",
       "</table>\n",
       "<p>5 rows × 61 columns</p>\n",
       "</div>"
      ],
      "text/plain": [
       "         AB          AF          AH         AM        AR        AX        AY  \\\n",
       "0  0.209377  3109.03329   85.200147  22.394407  8.138688  0.699861  0.025578   \n",
       "1  0.145282   978.76416   85.200147  36.968889  8.138688  3.632190  0.025578   \n",
       "2  0.470030  2635.10654   85.200147  32.360553  8.138688  6.732840  0.025578   \n",
       "3  0.252107  3819.65177  120.201618  77.112203  8.138688  3.685344  0.025578   \n",
       "4  0.380297  3733.04844   85.200147  14.103738  8.138688  3.942255  0.054810   \n",
       "\n",
       "          AZ          BC         BD   ...          GE            GF  \\\n",
       "0   9.812214    5.555634  4126.58731  ...   72.611063   2003.810319   \n",
       "1  13.517790    1.229900  5496.92824  ...   72.611063  27981.562750   \n",
       "2  12.824570    1.229900  5135.78024  ...   88.609437  13676.957810   \n",
       "3  11.053708    1.229900  4169.67738  ...   82.416803   2094.262452   \n",
       "4   3.396778  102.151980  5728.73412  ...  146.109943   8524.370502   \n",
       "\n",
       "          GH         GI         GL  Class  Alpha  Beta  Gamma  Delta  \n",
       "0  22.136229  69.834944   0.120343      1      1     0      1      2  \n",
       "1  29.135430  32.131996  21.978000      0      0     0      0      0  \n",
       "2  28.022851  35.192676   0.196941      0      0     0      0      0  \n",
       "3  39.948656  90.493248   0.155829      0      0     0      0      0  \n",
       "4  45.381316  36.262628   0.096614      1      1     1      1      0  \n",
       "\n",
       "[5 rows x 61 columns]"
      ]
     },
     "execution_count": 204,
     "metadata": {},
     "output_type": "execute_result"
    }
   ],
   "source": [
    "# 将gamma中的M和N都转为0，G，H，E，F，A，B的转为1\n",
    "train['Gamma'] = train['Gamma'].replace({'M': 0, 'N': 0, 'G': 1, 'H': 1, 'E': 1, 'F': 1, 'A': 1, 'B': 1})\n",
    "# 将Beta中的C0,B1,A2\n",
    "train['Beta'] = train['Beta'].replace({'C': 0, 'B': 1, 'A': 2})\n",
    "# 将Delta中的B0,A1,C1,D2\n",
    "train['Delta'] = train['Delta'].replace({'B': 0, 'A': 1, 'C': 1, 'D': 2})\n",
    "\n",
    "train.head()\n"
   ]
  },
  {
   "cell_type": "code",
   "execution_count": 205,
   "metadata": {},
   "outputs": [
    {
     "data": {
      "text/html": [
       "<div>\n",
       "<style scoped>\n",
       "    .dataframe tbody tr th:only-of-type {\n",
       "        vertical-align: middle;\n",
       "    }\n",
       "\n",
       "    .dataframe tbody tr th {\n",
       "        vertical-align: top;\n",
       "    }\n",
       "\n",
       "    .dataframe thead th {\n",
       "        text-align: right;\n",
       "    }\n",
       "</style>\n",
       "<table border=\"1\" class=\"dataframe\">\n",
       "  <thead>\n",
       "    <tr style=\"text-align: right;\">\n",
       "      <th></th>\n",
       "      <th>AB</th>\n",
       "      <th>AF</th>\n",
       "      <th>AH</th>\n",
       "      <th>AM</th>\n",
       "      <th>AR</th>\n",
       "      <th>AX</th>\n",
       "      <th>AY</th>\n",
       "      <th>AZ</th>\n",
       "      <th>BC</th>\n",
       "      <th>BD</th>\n",
       "      <th>...</th>\n",
       "      <th>GE</th>\n",
       "      <th>GF</th>\n",
       "      <th>GH</th>\n",
       "      <th>GI</th>\n",
       "      <th>GL</th>\n",
       "      <th>Class</th>\n",
       "      <th>Alpha</th>\n",
       "      <th>Beta</th>\n",
       "      <th>Gamma</th>\n",
       "      <th>Delta</th>\n",
       "    </tr>\n",
       "  </thead>\n",
       "  <tbody>\n",
       "    <tr>\n",
       "      <th>0</th>\n",
       "      <td>-0.572153</td>\n",
       "      <td>-0.170975</td>\n",
       "      <td>-0.261669</td>\n",
       "      <td>-0.237889</td>\n",
       "      <td>-0.189295</td>\n",
       "      <td>-1.900558</td>\n",
       "      <td>-0.083417</td>\n",
       "      <td>-0.173502</td>\n",
       "      <td>-0.038354</td>\n",
       "      <td>-0.405383</td>\n",
       "      <td>...</td>\n",
       "      <td>-0.410260</td>\n",
       "      <td>-0.655511</td>\n",
       "      <td>-0.948991</td>\n",
       "      <td>0.531241</td>\n",
       "      <td>-0.814049</td>\n",
       "      <td>1</td>\n",
       "      <td>1</td>\n",
       "      <td>0</td>\n",
       "      <td>1</td>\n",
       "      <td>2</td>\n",
       "    </tr>\n",
       "    <tr>\n",
       "      <th>1</th>\n",
       "      <td>-0.709105</td>\n",
       "      <td>-1.097801</td>\n",
       "      <td>-0.261669</td>\n",
       "      <td>-0.028701</td>\n",
       "      <td>-0.189295</td>\n",
       "      <td>-0.750457</td>\n",
       "      <td>-0.083417</td>\n",
       "      <td>0.678919</td>\n",
       "      <td>-0.104787</td>\n",
       "      <td>0.048541</td>\n",
       "      <td>...</td>\n",
       "      <td>-0.410260</td>\n",
       "      <td>0.687893</td>\n",
       "      <td>-0.238862</td>\n",
       "      <td>-0.509218</td>\n",
       "      <td>1.304860</td>\n",
       "      <td>0</td>\n",
       "      <td>0</td>\n",
       "      <td>0</td>\n",
       "      <td>0</td>\n",
       "      <td>0</td>\n",
       "    </tr>\n",
       "    <tr>\n",
       "      <th>2</th>\n",
       "      <td>-0.015212</td>\n",
       "      <td>-0.377169</td>\n",
       "      <td>-0.261669</td>\n",
       "      <td>-0.094845</td>\n",
       "      <td>-0.189295</td>\n",
       "      <td>0.465662</td>\n",
       "      <td>-0.083417</td>\n",
       "      <td>0.519453</td>\n",
       "      <td>-0.104787</td>\n",
       "      <td>-0.071089</td>\n",
       "      <td>...</td>\n",
       "      <td>-0.299210</td>\n",
       "      <td>-0.051850</td>\n",
       "      <td>-0.351743</td>\n",
       "      <td>-0.424754</td>\n",
       "      <td>-0.806623</td>\n",
       "      <td>0</td>\n",
       "      <td>0</td>\n",
       "      <td>0</td>\n",
       "      <td>0</td>\n",
       "      <td>0</td>\n",
       "    </tr>\n",
       "    <tr>\n",
       "      <th>3</th>\n",
       "      <td>-0.480851</td>\n",
       "      <td>0.138196</td>\n",
       "      <td>0.012347</td>\n",
       "      <td>0.547477</td>\n",
       "      <td>-0.189295</td>\n",
       "      <td>-0.729610</td>\n",
       "      <td>-0.083417</td>\n",
       "      <td>0.112088</td>\n",
       "      <td>-0.104787</td>\n",
       "      <td>-0.391109</td>\n",
       "      <td>...</td>\n",
       "      <td>-0.342195</td>\n",
       "      <td>-0.650833</td>\n",
       "      <td>0.858232</td>\n",
       "      <td>1.101332</td>\n",
       "      <td>-0.810609</td>\n",
       "      <td>0</td>\n",
       "      <td>0</td>\n",
       "      <td>0</td>\n",
       "      <td>0</td>\n",
       "      <td>0</td>\n",
       "    </tr>\n",
       "    <tr>\n",
       "      <th>4</th>\n",
       "      <td>-0.206946</td>\n",
       "      <td>0.100517</td>\n",
       "      <td>-0.261669</td>\n",
       "      <td>-0.356885</td>\n",
       "      <td>-0.189295</td>\n",
       "      <td>-0.628845</td>\n",
       "      <td>-0.013229</td>\n",
       "      <td>-1.649292</td>\n",
       "      <td>1.445139</td>\n",
       "      <td>0.125327</td>\n",
       "      <td>...</td>\n",
       "      <td>0.099920</td>\n",
       "      <td>-0.318309</td>\n",
       "      <td>1.409422</td>\n",
       "      <td>-0.395228</td>\n",
       "      <td>-0.816349</td>\n",
       "      <td>1</td>\n",
       "      <td>1</td>\n",
       "      <td>1</td>\n",
       "      <td>1</td>\n",
       "      <td>0</td>\n",
       "    </tr>\n",
       "  </tbody>\n",
       "</table>\n",
       "<p>5 rows × 61 columns</p>\n",
       "</div>"
      ],
      "text/plain": [
       "         AB        AF        AH        AM        AR        AX        AY  \\\n",
       "0 -0.572153 -0.170975 -0.261669 -0.237889 -0.189295 -1.900558 -0.083417   \n",
       "1 -0.709105 -1.097801 -0.261669 -0.028701 -0.189295 -0.750457 -0.083417   \n",
       "2 -0.015212 -0.377169 -0.261669 -0.094845 -0.189295  0.465662 -0.083417   \n",
       "3 -0.480851  0.138196  0.012347  0.547477 -0.189295 -0.729610 -0.083417   \n",
       "4 -0.206946  0.100517 -0.261669 -0.356885 -0.189295 -0.628845 -0.013229   \n",
       "\n",
       "         AZ        BC       BD   ...        GE        GF        GH        GI  \\\n",
       "0 -0.173502 -0.038354 -0.405383  ... -0.410260 -0.655511 -0.948991  0.531241   \n",
       "1  0.678919 -0.104787  0.048541  ... -0.410260  0.687893 -0.238862 -0.509218   \n",
       "2  0.519453 -0.104787 -0.071089  ... -0.299210 -0.051850 -0.351743 -0.424754   \n",
       "3  0.112088 -0.104787 -0.391109  ... -0.342195 -0.650833  0.858232  1.101332   \n",
       "4 -1.649292  1.445139  0.125327  ...  0.099920 -0.318309  1.409422 -0.395228   \n",
       "\n",
       "         GL  Class  Alpha  Beta  Gamma  Delta  \n",
       "0 -0.814049      1      1     0      1      2  \n",
       "1  1.304860      0      0     0      0      0  \n",
       "2 -0.806623      0      0     0      0      0  \n",
       "3 -0.810609      0      0     0      0      0  \n",
       "4 -0.816349      1      1     1      1      0  \n",
       "\n",
       "[5 rows x 61 columns]"
      ]
     },
     "execution_count": 205,
     "metadata": {},
     "output_type": "execute_result"
    }
   ],
   "source": [
    "# 连续变量归一化处理\n",
    "from sklearn.preprocessing import StandardScaler\n",
    "scaler = StandardScaler()\n",
    "numeric_columns = [_ for _ in train.columns if _ not in ['EJ', 'Alpha', 'Beta', 'Gamma', 'Delta', 'Class']]\n",
    "train[numeric_columns] = scaler.fit_transform(train[numeric_columns])\n",
    "test[numeric_columns] = scaler.transform(test[numeric_columns])\n",
    "train.head()"
   ]
  },
  {
   "cell_type": "code",
   "execution_count": 206,
   "metadata": {},
   "outputs": [],
   "source": [
    "# 抛弃高度相关的特征\n",
    "drop_cols = ['BZ','CL','EH','GL']  # 高度相关\n",
    "drop_cols2 = ['DY','CB','GB','CH','DL','CU','FS','AZ','GE','EG','EP']  # 无用特征，同一点取得极值\n",
    "drop_cols3 = ['BZ', 'DV', 'EH', 'FD ']\n",
    "train.drop(drop_cols, axis=1, inplace=True)\n",
    "test.drop(drop_cols, axis=1, inplace=True)"
   ]
  },
  {
   "cell_type": "code",
   "execution_count": 207,
   "metadata": {},
   "outputs": [],
   "source": [
    "# ytrain为离散\n",
    "ytrain = train[['Class', 'Alpha', 'Beta', 'Gamma', 'Delta']]\n",
    "train.drop(['Class', 'Alpha', 'Beta', 'Gamma', 'Delta'], axis=1, inplace=True)"
   ]
  },
  {
   "cell_type": "code",
   "execution_count": 208,
   "metadata": {},
   "outputs": [
    {
     "data": {
      "text/html": [
       "<div>\n",
       "<style scoped>\n",
       "    .dataframe tbody tr th:only-of-type {\n",
       "        vertical-align: middle;\n",
       "    }\n",
       "\n",
       "    .dataframe tbody tr th {\n",
       "        vertical-align: top;\n",
       "    }\n",
       "\n",
       "    .dataframe thead th {\n",
       "        text-align: right;\n",
       "    }\n",
       "</style>\n",
       "<table border=\"1\" class=\"dataframe\">\n",
       "  <thead>\n",
       "    <tr style=\"text-align: right;\">\n",
       "      <th></th>\n",
       "      <th>AB</th>\n",
       "      <th>AF</th>\n",
       "      <th>AH</th>\n",
       "      <th>AM</th>\n",
       "      <th>AR</th>\n",
       "      <th>AX</th>\n",
       "      <th>AY</th>\n",
       "      <th>AZ</th>\n",
       "      <th>BC</th>\n",
       "      <th>BD</th>\n",
       "      <th>...</th>\n",
       "      <th>FE</th>\n",
       "      <th>FI</th>\n",
       "      <th>FL</th>\n",
       "      <th>FR</th>\n",
       "      <th>FS</th>\n",
       "      <th>GB</th>\n",
       "      <th>GE</th>\n",
       "      <th>GF</th>\n",
       "      <th>GH</th>\n",
       "      <th>GI</th>\n",
       "    </tr>\n",
       "  </thead>\n",
       "  <tbody>\n",
       "    <tr>\n",
       "      <th>0</th>\n",
       "      <td>-0.572153</td>\n",
       "      <td>-0.170975</td>\n",
       "      <td>-0.261669</td>\n",
       "      <td>-0.237889</td>\n",
       "      <td>-0.189295</td>\n",
       "      <td>-1.900558</td>\n",
       "      <td>-0.083417</td>\n",
       "      <td>-0.173502</td>\n",
       "      <td>-0.038354</td>\n",
       "      <td>-0.405383</td>\n",
       "      <td>...</td>\n",
       "      <td>-0.112922</td>\n",
       "      <td>-2.226608</td>\n",
       "      <td>0.162821</td>\n",
       "      <td>-0.035806</td>\n",
       "      <td>-0.250437</td>\n",
       "      <td>-0.940094</td>\n",
       "      <td>-0.410260</td>\n",
       "      <td>-0.655511</td>\n",
       "      <td>-0.948991</td>\n",
       "      <td>0.531241</td>\n",
       "    </tr>\n",
       "    <tr>\n",
       "      <th>1</th>\n",
       "      <td>-0.709105</td>\n",
       "      <td>-1.097801</td>\n",
       "      <td>-0.261669</td>\n",
       "      <td>-0.028701</td>\n",
       "      <td>-0.189295</td>\n",
       "      <td>-0.750457</td>\n",
       "      <td>-0.083417</td>\n",
       "      <td>0.678919</td>\n",
       "      <td>-0.104787</td>\n",
       "      <td>0.048541</td>\n",
       "      <td>...</td>\n",
       "      <td>-0.311056</td>\n",
       "      <td>0.084542</td>\n",
       "      <td>-0.457925</td>\n",
       "      <td>-0.060566</td>\n",
       "      <td>0.113640</td>\n",
       "      <td>-1.145070</td>\n",
       "      <td>-0.410260</td>\n",
       "      <td>0.687893</td>\n",
       "      <td>-0.238862</td>\n",
       "      <td>-0.509218</td>\n",
       "    </tr>\n",
       "    <tr>\n",
       "      <th>2</th>\n",
       "      <td>-0.015212</td>\n",
       "      <td>-0.377169</td>\n",
       "      <td>-0.261669</td>\n",
       "      <td>-0.094845</td>\n",
       "      <td>-0.189295</td>\n",
       "      <td>0.465662</td>\n",
       "      <td>-0.083417</td>\n",
       "      <td>0.519453</td>\n",
       "      <td>-0.104787</td>\n",
       "      <td>-0.071089</td>\n",
       "      <td>...</td>\n",
       "      <td>-0.173811</td>\n",
       "      <td>0.517060</td>\n",
       "      <td>0.198663</td>\n",
       "      <td>-0.051023</td>\n",
       "      <td>0.597343</td>\n",
       "      <td>1.637944</td>\n",
       "      <td>-0.299210</td>\n",
       "      <td>-0.051850</td>\n",
       "      <td>-0.351743</td>\n",
       "      <td>-0.424754</td>\n",
       "    </tr>\n",
       "    <tr>\n",
       "      <th>3</th>\n",
       "      <td>-0.480851</td>\n",
       "      <td>0.138196</td>\n",
       "      <td>0.012347</td>\n",
       "      <td>0.547477</td>\n",
       "      <td>-0.189295</td>\n",
       "      <td>-0.729610</td>\n",
       "      <td>-0.083417</td>\n",
       "      <td>0.112088</td>\n",
       "      <td>-0.104787</td>\n",
       "      <td>-0.391109</td>\n",
       "      <td>...</td>\n",
       "      <td>0.058201</td>\n",
       "      <td>1.617160</td>\n",
       "      <td>0.060364</td>\n",
       "      <td>-0.060566</td>\n",
       "      <td>-0.104806</td>\n",
       "      <td>-0.219883</td>\n",
       "      <td>-0.342195</td>\n",
       "      <td>-0.650833</td>\n",
       "      <td>0.858232</td>\n",
       "      <td>1.101332</td>\n",
       "    </tr>\n",
       "    <tr>\n",
       "      <th>4</th>\n",
       "      <td>-0.206946</td>\n",
       "      <td>0.100517</td>\n",
       "      <td>-0.261669</td>\n",
       "      <td>-0.356885</td>\n",
       "      <td>-0.189295</td>\n",
       "      <td>-0.628845</td>\n",
       "      <td>-0.013229</td>\n",
       "      <td>-1.649292</td>\n",
       "      <td>1.445139</td>\n",
       "      <td>0.125327</td>\n",
       "      <td>...</td>\n",
       "      <td>0.520331</td>\n",
       "      <td>1.212850</td>\n",
       "      <td>0.237302</td>\n",
       "      <td>0.896815</td>\n",
       "      <td>-0.229632</td>\n",
       "      <td>-0.432313</td>\n",
       "      <td>0.099920</td>\n",
       "      <td>-0.318309</td>\n",
       "      <td>1.409422</td>\n",
       "      <td>-0.395228</td>\n",
       "    </tr>\n",
       "  </tbody>\n",
       "</table>\n",
       "<p>5 rows × 52 columns</p>\n",
       "</div>"
      ],
      "text/plain": [
       "         AB        AF        AH        AM        AR        AX        AY  \\\n",
       "0 -0.572153 -0.170975 -0.261669 -0.237889 -0.189295 -1.900558 -0.083417   \n",
       "1 -0.709105 -1.097801 -0.261669 -0.028701 -0.189295 -0.750457 -0.083417   \n",
       "2 -0.015212 -0.377169 -0.261669 -0.094845 -0.189295  0.465662 -0.083417   \n",
       "3 -0.480851  0.138196  0.012347  0.547477 -0.189295 -0.729610 -0.083417   \n",
       "4 -0.206946  0.100517 -0.261669 -0.356885 -0.189295 -0.628845 -0.013229   \n",
       "\n",
       "         AZ        BC       BD   ...        FE        FI        FL        FR  \\\n",
       "0 -0.173502 -0.038354 -0.405383  ... -0.112922 -2.226608  0.162821 -0.035806   \n",
       "1  0.678919 -0.104787  0.048541  ... -0.311056  0.084542 -0.457925 -0.060566   \n",
       "2  0.519453 -0.104787 -0.071089  ... -0.173811  0.517060  0.198663 -0.051023   \n",
       "3  0.112088 -0.104787 -0.391109  ...  0.058201  1.617160  0.060364 -0.060566   \n",
       "4 -1.649292  1.445139  0.125327  ...  0.520331  1.212850  0.237302  0.896815   \n",
       "\n",
       "         FS        GB        GE        GF        GH        GI  \n",
       "0 -0.250437 -0.940094 -0.410260 -0.655511 -0.948991  0.531241  \n",
       "1  0.113640 -1.145070 -0.410260  0.687893 -0.238862 -0.509218  \n",
       "2  0.597343  1.637944 -0.299210 -0.051850 -0.351743 -0.424754  \n",
       "3 -0.104806 -0.219883 -0.342195 -0.650833  0.858232  1.101332  \n",
       "4 -0.229632 -0.432313  0.099920 -0.318309  1.409422 -0.395228  \n",
       "\n",
       "[5 rows x 52 columns]"
      ]
     },
     "execution_count": 208,
     "metadata": {},
     "output_type": "execute_result"
    }
   ],
   "source": [
    "train.head()"
   ]
  },
  {
   "cell_type": "markdown",
   "metadata": {},
   "source": [
    "# 模型搭建\n",
    "先直接对Class预测"
   ]
  },
  {
   "cell_type": "code",
   "execution_count": 209,
   "metadata": {},
   "outputs": [
    {
     "name": "stdout",
     "output_type": "stream",
     "text": [
      "(493, 52)\n",
      "(493, 5)\n"
     ]
    }
   ],
   "source": [
    "# 数据集分割\n",
    "from sklearn.model_selection import train_test_split\n",
    "from sklearn.metrics import roc_auc_score, accuracy_score, log_loss\n",
    "x_train, x_test, y_train, y_test = train_test_split(train, ytrain, test_size=0.2, random_state=42)\n",
    "scale_pos_weight = 4.712962962962963\n",
    "print(x_train.shape)\n",
    "print(y_train.shape)"
   ]
  },
  {
   "cell_type": "code",
   "execution_count": 210,
   "metadata": {},
   "outputs": [],
   "source": [
    "def ScoreMetric(ytrue, ypred):\n",
    "    nc = np.bincount(ytrue);\n",
    "    return log_loss(ytrue, ypred, sample_weight = 1 / nc[ytrue], eps=1e-15);\n",
    "\n",
    "def lgb_metric(y_true, y_pred):\n",
    "    return 'balanced_log_loss', ScoreMetric(y_true, y_pred), False"
   ]
  },
  {
   "cell_type": "code",
   "execution_count": 211,
   "metadata": {},
   "outputs": [
    {
     "data": {
      "text/plain": [
       "0.967741935483871"
      ]
     },
     "execution_count": 211,
     "metadata": {},
     "output_type": "execute_result"
    }
   ],
   "source": [
    "# # xgb\n",
    "import xgboost as xgb\n",
    "xgb_c = xgb.XGBClassifier(n_estimators=300, learning_rate=0.01, max_depth=4, random_state=42)\n",
    "xgb_c.fit(x_train, y_train['Class'])\n",
    "xgb_pred = xgb_c.predict(x_test)\n",
    "y_pred = xgb_c.predict_proba(x_test)\n",
    "xgb_accuracy = accuracy_score(xgb_pred, y_test['Class'])\n",
    "# xgb_pred\n",
    "xgb_accuracy"
   ]
  },
  {
   "cell_type": "code",
   "execution_count": 212,
   "metadata": {},
   "outputs": [
    {
     "data": {
      "text/plain": [
       "0.3443425278858093"
      ]
     },
     "execution_count": 212,
     "metadata": {},
     "output_type": "execute_result"
    }
   ],
   "source": [
    "p0 = y_pred[:,1]\n",
    "ScoreMetric(y_test['Class'], p0)\n",
    "# p0"
   ]
  },
  {
   "cell_type": "markdown",
   "metadata": {},
   "source": [
    "# 正式的KFold交叉验证 + Optuna模型调参"
   ]
  },
  {
   "cell_type": "code",
   "execution_count": 213,
   "metadata": {},
   "outputs": [],
   "source": [
    "import optuna, tune\n",
    "\n",
    "from optuna.samplers import TPESampler\n",
    "from optuna.visualization import plot_contour\n",
    "from optuna.visualization import plot_edf\n",
    "from optuna.visualization import plot_intermediate_values\n",
    "from optuna.visualization import plot_optimization_history\n",
    "from optuna.visualization import plot_parallel_coordinate\n",
    "from optuna.visualization import plot_param_importances\n",
    "from optuna.visualization import plot_slice\n",
    "\n",
    "from sklearn.model_selection import GridSearchCV, cross_val_score, cross_validate\n",
    "from sklearn.metrics import confusion_matrix, roc_curve, roc_auc_score, log_loss\n",
    "from sklearn.metrics import make_scorer, accuracy_score, log_loss\n",
    "from sklearn.model_selection import ShuffleSplit, StratifiedShuffleSplit\n",
    "\n",
    "# fold\n",
    "from sklearn.model_selection import KFold, StratifiedKFold\n"
   ]
  },
  {
   "cell_type": "code",
   "execution_count": 214,
   "metadata": {},
   "outputs": [
    {
     "name": "stderr",
     "output_type": "stream",
     "text": [
      "[I 2023-08-02 20:17:37,905] A new study created in memory with name: no-name-058f0b14-d629-456b-a930-4bd8e56437b2\n",
      "[W 2023-08-02 20:17:38,471] Trial 0 failed with parameters: {'booster': 'gblinear', 'lambda': 0.0006155564318973012, 'alpha': 1.77071686435378e-07, 'subsample': 0.2935967122017216, 'colsample_bytree': 0.23485016730091968} because of the following error: The value nan is not acceptable..\n",
      "[W 2023-08-02 20:17:38,472] Trial 0 failed with value nan.\n",
      "[I 2023-08-02 20:17:39,354] Trial 1 finished with value: 0.5948239621031838 and parameters: {'booster': 'gbtree', 'lambda': 1.4610865886287176e-08, 'alpha': 0.574485163632042, 'subsample': 0.6994655844802531, 'colsample_bytree': 0.3274034664069657, 'max_depth': 3, 'eta': 0.0035498788321965025, 'gamma': 2.716051144654844e-06, 'grow_policy': 'depthwise'}. Best is trial 1 with value: 0.5948239621031838.\n",
      "[W 2023-08-02 20:17:40,022] Trial 2 failed with parameters: {'booster': 'gblinear', 'lambda': 2.1734877073417355e-06, 'alpha': 8.528933855762793e-06, 'subsample': 0.4736419905302216, 'colsample_bytree': 0.6711055768358083} because of the following error: The value nan is not acceptable..\n",
      "[W 2023-08-02 20:17:40,024] Trial 2 failed with value nan.\n",
      "[W 2023-08-02 20:17:44,423] Trial 3 failed with parameters: {'booster': 'dart', 'lambda': 2.3528990899815284e-08, 'alpha': 0.0007250347382396634, 'subsample': 0.30231447421237495, 'colsample_bytree': 0.23903095579116773, 'max_depth': 16, 'eta': 0.7886714129990487, 'gamma': 0.02932100047183291, 'grow_policy': 'depthwise', 'sample_type': 'uniform', 'normalize_type': 'forest', 'rate_drop': 1.8841183049085085e-08, 'skip_drop': 0.1881755597772026} because of the following error: The value nan is not acceptable..\n",
      "[W 2023-08-02 20:17:44,423] Trial 3 failed with value nan.\n",
      "[W 2023-08-02 20:17:44,988] Trial 4 failed with parameters: {'booster': 'gblinear', 'lambda': 0.00014472520367197597, 'alpha': 0.00023641892308789696, 'subsample': 0.31091267331531625, 'colsample_bytree': 0.7817507766587353} because of the following error: The value nan is not acceptable..\n",
      "[W 2023-08-02 20:17:44,988] Trial 4 failed with value nan.\n",
      "[I 2023-08-02 20:17:45,544] Trial 5 finished with value: 0.6557915242370119 and parameters: {'booster': 'gblinear', 'lambda': 0.0006070155694141794, 'alpha': 0.23713402899336497, 'subsample': 0.2530955012311517, 'colsample_bytree': 0.3175897174514871}. Best is trial 1 with value: 0.5948239621031838.\n",
      "[I 2023-08-02 20:17:50,200] Trial 6 finished with value: 0.6113488504831912 and parameters: {'booster': 'dart', 'lambda': 1.481809088646707e-06, 'alpha': 0.04264813784432918, 'subsample': 0.4140519960161536, 'colsample_bytree': 0.3685607058124285, 'max_depth': 9, 'eta': 0.0026471141828218157, 'gamma': 0.026156272064707428, 'grow_policy': 'lossguide', 'sample_type': 'uniform', 'normalize_type': 'forest', 'rate_drop': 0.0045170900739091345, 'skip_drop': 0.006792933207180863}. Best is trial 1 with value: 0.5948239621031838.\n",
      "[I 2023-08-02 20:17:51,062] Trial 7 finished with value: 0.5189579523909645 and parameters: {'booster': 'gbtree', 'lambda': 8.451863533931625e-08, 'alpha': 0.08032068562667222, 'subsample': 0.5739788760965348, 'colsample_bytree': 0.39853881491158955, 'max_depth': 2, 'eta': 0.008569331925053986, 'gamma': 3.994538177154855e-06, 'grow_policy': 'depthwise'}. Best is trial 7 with value: 0.5189579523909645.\n",
      "[I 2023-08-02 20:17:52,274] Trial 8 finished with value: 0.3580656105152277 and parameters: {'booster': 'gbtree', 'lambda': 0.005081106499593573, 'alpha': 0.012197768563438372, 'subsample': 0.5367663185416978, 'colsample_bytree': 0.6625803079727366, 'max_depth': 8, 'eta': 0.03699972431463808, 'gamma': 2.632256136809142e-05, 'grow_policy': 'lossguide'}. Best is trial 8 with value: 0.3580656105152277.\n",
      "[I 2023-08-02 20:17:52,882] Trial 9 finished with value: 0.608283918495139 and parameters: {'booster': 'gblinear', 'lambda': 0.00011710232809812825, 'alpha': 0.1821930437934653, 'subsample': 0.349575337489325, 'colsample_bytree': 0.44622975382137786}. Best is trial 8 with value: 0.3580656105152277.\n",
      "[I 2023-08-02 20:17:53,701] Trial 10 finished with value: 0.3422852288874782 and parameters: {'booster': 'gbtree', 'lambda': 2.0797523481449624e-06, 'alpha': 1.9488135833929595e-07, 'subsample': 0.757818591405544, 'colsample_bytree': 0.6848722277386503, 'max_depth': 11, 'eta': 0.411511304956109, 'gamma': 0.026876741555610546, 'grow_policy': 'lossguide'}. Best is trial 10 with value: 0.3422852288874782.\n",
      "[I 2023-08-02 20:17:57,940] Trial 11 finished with value: 0.3447268303545605 and parameters: {'booster': 'dart', 'lambda': 3.499675682069358e-06, 'alpha': 7.593034903208851e-08, 'subsample': 0.33676109752516503, 'colsample_bytree': 0.4562646731757538, 'max_depth': 14, 'eta': 0.38211294416912245, 'gamma': 1.1366245816554797e-08, 'grow_policy': 'depthwise', 'sample_type': 'uniform', 'normalize_type': 'forest', 'rate_drop': 3.8514428343995194e-06, 'skip_drop': 0.00014135949140057862}. Best is trial 10 with value: 0.3422852288874782.\n",
      "[I 2023-08-02 20:18:02,310] Trial 12 finished with value: 0.6501831059108444 and parameters: {'booster': 'dart', 'lambda': 0.5007008855904077, 'alpha': 1.033375989766645e-06, 'subsample': 0.4983491035354313, 'colsample_bytree': 0.38052698589006184, 'max_depth': 5, 'eta': 0.0012902113024567154, 'gamma': 0.0007525141520487903, 'grow_policy': 'depthwise', 'sample_type': 'weighted', 'normalize_type': 'tree', 'rate_drop': 8.2342127198163e-05, 'skip_drop': 0.7677213757517419}. Best is trial 10 with value: 0.3422852288874782.\n",
      "[I 2023-08-02 20:18:07,506] Trial 13 finished with value: 0.36819782146987795 and parameters: {'booster': 'dart', 'lambda': 7.963433393223581e-07, 'alpha': 0.0066946948903108105, 'subsample': 0.420669879631552, 'colsample_bytree': 0.5793834983561478, 'max_depth': 11, 'eta': 0.0404877881815341, 'gamma': 5.276162470390128e-08, 'grow_policy': 'depthwise', 'sample_type': 'uniform', 'normalize_type': 'forest', 'rate_drop': 1.3573837053629966e-08, 'skip_drop': 0.0001249523609345854}. Best is trial 10 with value: 0.3422852288874782.\n",
      "[I 2023-08-02 20:18:08,531] Trial 14 finished with value: 0.43820464488706146 and parameters: {'booster': 'gbtree', 'lambda': 8.124962944565012e-06, 'alpha': 8.909025084911593e-06, 'subsample': 0.7730675009063073, 'colsample_bytree': 0.7888390888089066, 'max_depth': 15, 'eta': 0.8264588941152486, 'gamma': 0.6090097675018683, 'grow_policy': 'lossguide'}. Best is trial 10 with value: 0.3422852288874782.\n",
      "[I 2023-08-02 20:18:13,385] Trial 15 finished with value: 0.3978936881534904 and parameters: {'booster': 'dart', 'lambda': 1.3840633783003804e-05, 'alpha': 1.186742632873625e-08, 'subsample': 0.6656940262386002, 'colsample_bytree': 0.5213745584212941, 'max_depth': 15, 'eta': 0.5975142120569297, 'gamma': 3.960940151644499e-08, 'grow_policy': 'lossguide', 'sample_type': 'uniform', 'normalize_type': 'forest', 'rate_drop': 5.201322616763732e-06, 'skip_drop': 3.624586927896224e-08}. Best is trial 10 with value: 0.3422852288874782.\n",
      "[I 2023-08-02 20:18:17,408] Trial 16 finished with value: 0.546595120689767 and parameters: {'booster': 'dart', 'lambda': 3.5437655156023014e-07, 'alpha': 2.8938520530246262e-08, 'subsample': 0.22015153096068352, 'colsample_bytree': 0.2138188532524099, 'max_depth': 12, 'eta': 0.20468479720167101, 'gamma': 0.0019357345531006319, 'grow_policy': 'lossguide', 'sample_type': 'weighted', 'normalize_type': 'tree', 'rate_drop': 0.5899098803299223, 'skip_drop': 1.000589150474011e-06}. Best is trial 10 with value: 0.3422852288874782.\n",
      "[I 2023-08-02 20:18:18,611] Trial 17 finished with value: 0.3128127253280379 and parameters: {'booster': 'gbtree', 'lambda': 5.475999216811945e-06, 'alpha': 4.5167146668177485e-07, 'subsample': 0.6335236464746923, 'colsample_bytree': 0.6042376084048284, 'max_depth': 13, 'eta': 0.17982094450136338, 'gamma': 0.0002953851542568911, 'grow_policy': 'depthwise'}. Best is trial 17 with value: 0.3128127253280379.\n",
      "[I 2023-08-02 20:18:20,012] Trial 18 finished with value: 0.32162119201505757 and parameters: {'booster': 'gbtree', 'lambda': 2.5393099529491686e-05, 'alpha': 3.513605549407303e-07, 'subsample': 0.7815619112292309, 'colsample_bytree': 0.6507800192071995, 'max_depth': 11, 'eta': 0.14385836757977924, 'gamma': 0.010409708192978989, 'grow_policy': 'depthwise'}. Best is trial 17 with value: 0.3128127253280379.\n",
      "[I 2023-08-02 20:18:21,375] Trial 19 finished with value: 0.3249156277303356 and parameters: {'booster': 'gbtree', 'lambda': 5.518893760747879e-05, 'alpha': 1.1532045698663997e-05, 'subsample': 0.7946447747303172, 'colsample_bytree': 0.575598754895881, 'max_depth': 8, 'eta': 0.11646750951980388, 'gamma': 0.0003250995858569866, 'grow_policy': 'depthwise'}. Best is trial 17 with value: 0.3128127253280379.\n",
      "[I 2023-08-02 20:18:22,761] Trial 20 finished with value: 0.30998975269319395 and parameters: {'booster': 'gbtree', 'lambda': 0.0006267967780168104, 'alpha': 6.00856626626911e-07, 'subsample': 0.6356173471946454, 'colsample_bytree': 0.6558294043195745, 'max_depth': 13, 'eta': 0.11128995604229386, 'gamma': 0.005131215717384117, 'grow_policy': 'depthwise'}. Best is trial 20 with value: 0.30998975269319395.\n",
      "[I 2023-08-02 20:18:24,198] Trial 21 finished with value: 0.3171618048790016 and parameters: {'booster': 'gbtree', 'lambda': 0.0015226996820046485, 'alpha': 1.9279302352194386e-06, 'subsample': 0.6077225345100068, 'colsample_bytree': 0.7415942892292042, 'max_depth': 13, 'eta': 0.0929247718030323, 'gamma': 8.323841298904982e-05, 'grow_policy': 'depthwise'}. Best is trial 20 with value: 0.30998975269319395.\n",
      "[W 2023-08-02 20:18:24,874] Trial 22 failed with parameters: {'booster': 'gblinear', 'lambda': 0.012529089333659536, 'alpha': 0.00010745943375441427, 'subsample': 0.6548511250248832, 'colsample_bytree': 0.6056659852682392} because of the following error: The value nan is not acceptable..\n",
      "[W 2023-08-02 20:18:24,876] Trial 22 failed with value nan.\n",
      "[W 2023-08-02 20:18:25,562] Trial 23 failed with parameters: {'booster': 'gblinear', 'lambda': 0.00017570139871599553, 'alpha': 0.00021908798665966036, 'subsample': 0.637677939161701, 'colsample_bytree': 0.5931073593347673} because of the following error: The value nan is not acceptable..\n",
      "[W 2023-08-02 20:18:25,563] Trial 23 failed with value nan.\n",
      "[W 2023-08-02 20:18:26,248] Trial 24 failed with parameters: {'booster': 'gblinear', 'lambda': 0.009187497338410396, 'alpha': 0.0001414500482362625, 'subsample': 0.6424605737332445, 'colsample_bytree': 0.5976875999436422} because of the following error: The value nan is not acceptable..\n",
      "[W 2023-08-02 20:18:26,249] Trial 24 failed with value nan.\n",
      "[W 2023-08-02 20:18:26,951] Trial 25 failed with parameters: {'booster': 'gblinear', 'lambda': 0.01190180415153123, 'alpha': 0.0001438011352492496, 'subsample': 0.6482453174787078, 'colsample_bytree': 0.5971651084370129} because of the following error: The value nan is not acceptable..\n",
      "[W 2023-08-02 20:18:26,953] Trial 25 failed with value nan.\n",
      "[W 2023-08-02 20:18:27,672] Trial 26 failed with parameters: {'booster': 'gblinear', 'lambda': 0.022077932249350788, 'alpha': 8.23954576309339e-05, 'subsample': 0.6266961855259301, 'colsample_bytree': 0.6070941596294084} because of the following error: The value nan is not acceptable..\n",
      "[W 2023-08-02 20:18:27,674] Trial 26 failed with value nan.\n",
      "[W 2023-08-02 20:18:28,384] Trial 27 failed with parameters: {'booster': 'gblinear', 'lambda': 0.00017822185638555261, 'alpha': 0.00019708307341583425, 'subsample': 0.6408668175931532, 'colsample_bytree': 0.5970873955344344} because of the following error: The value nan is not acceptable..\n",
      "[W 2023-08-02 20:18:28,385] Trial 27 failed with value nan.\n",
      "[W 2023-08-02 20:18:29,047] Trial 28 failed with parameters: {'booster': 'gblinear', 'lambda': 0.013006319838602424, 'alpha': 8.531819682481689e-05, 'subsample': 0.6247938877268453, 'colsample_bytree': 0.5932024946796352} because of the following error: The value nan is not acceptable..\n",
      "[W 2023-08-02 20:18:29,048] Trial 28 failed with value nan.\n",
      "[W 2023-08-02 20:18:29,713] Trial 29 failed with parameters: {'booster': 'gblinear', 'lambda': 0.0002750880537647735, 'alpha': 0.00011862164698440609, 'subsample': 0.6482525596465503, 'colsample_bytree': 0.5853210892008951} because of the following error: The value nan is not acceptable..\n",
      "[W 2023-08-02 20:18:29,714] Trial 29 failed with value nan.\n",
      "[W 2023-08-02 20:18:30,398] Trial 30 failed with parameters: {'booster': 'gblinear', 'lambda': 0.0002281081560783571, 'alpha': 0.00021370990368926407, 'subsample': 0.6460155866924248, 'colsample_bytree': 0.5995886602621227} because of the following error: The value nan is not acceptable..\n",
      "[W 2023-08-02 20:18:30,400] Trial 30 failed with value nan.\n",
      "[W 2023-08-02 20:18:31,067] Trial 31 failed with parameters: {'booster': 'gblinear', 'lambda': 0.00019710583959431274, 'alpha': 0.00010155184813856629, 'subsample': 0.6510839290859937, 'colsample_bytree': 0.5838773789462177} because of the following error: The value nan is not acceptable..\n",
      "[W 2023-08-02 20:18:31,068] Trial 31 failed with value nan.\n",
      "[W 2023-08-02 20:18:31,798] Trial 32 failed with parameters: {'booster': 'gblinear', 'lambda': 0.00022460311892521335, 'alpha': 0.00015786551082349357, 'subsample': 0.6524760804075246, 'colsample_bytree': 0.5932067284635938} because of the following error: The value nan is not acceptable..\n",
      "[W 2023-08-02 20:18:31,800] Trial 32 failed with value nan.\n",
      "[W 2023-08-02 20:18:32,519] Trial 33 failed with parameters: {'booster': 'gblinear', 'lambda': 0.013425738494009659, 'alpha': 0.00018077243594544332, 'subsample': 0.6420938804352085, 'colsample_bytree': 0.5933654751465935} because of the following error: The value nan is not acceptable..\n",
      "[W 2023-08-02 20:18:32,520] Trial 33 failed with value nan.\n",
      "[W 2023-08-02 20:18:33,221] Trial 34 failed with parameters: {'booster': 'gblinear', 'lambda': 0.013452822189057419, 'alpha': 7.239985881120628e-05, 'subsample': 0.6554637852710091, 'colsample_bytree': 0.5861258869414753} because of the following error: The value nan is not acceptable..\n",
      "[W 2023-08-02 20:18:33,221] Trial 34 failed with value nan.\n",
      "[W 2023-08-02 20:18:33,832] Trial 35 failed with parameters: {'booster': 'gblinear', 'lambda': 0.0002601651208655986, 'alpha': 0.00018295160644622005, 'subsample': 0.6385999138564096, 'colsample_bytree': 0.5945149641744959} because of the following error: The value nan is not acceptable..\n",
      "[W 2023-08-02 20:18:33,832] Trial 35 failed with value nan.\n",
      "[W 2023-08-02 20:18:34,439] Trial 36 failed with parameters: {'booster': 'gblinear', 'lambda': 0.00022117921744502222, 'alpha': 0.0001812101920464939, 'subsample': 0.637651089463506, 'colsample_bytree': 0.5762666290583264} because of the following error: The value nan is not acceptable..\n",
      "[W 2023-08-02 20:18:34,439] Trial 36 failed with value nan.\n",
      "[W 2023-08-02 20:18:35,034] Trial 37 failed with parameters: {'booster': 'gblinear', 'lambda': 0.01707114527791954, 'alpha': 0.0002509517980963773, 'subsample': 0.6420803087502964, 'colsample_bytree': 0.5928228713072452} because of the following error: The value nan is not acceptable..\n",
      "[W 2023-08-02 20:18:35,034] Trial 37 failed with value nan.\n",
      "[W 2023-08-02 20:18:35,657] Trial 38 failed with parameters: {'booster': 'gblinear', 'lambda': 0.00021173154612204317, 'alpha': 0.00010992307467976575, 'subsample': 0.6748731741281802, 'colsample_bytree': 0.5956506318627718} because of the following error: The value nan is not acceptable..\n",
      "[W 2023-08-02 20:18:35,663] Trial 38 failed with value nan.\n",
      "[W 2023-08-02 20:18:36,314] Trial 39 failed with parameters: {'booster': 'gblinear', 'lambda': 0.0002189462683204667, 'alpha': 0.0001490067801133471, 'subsample': 0.6408314802390279, 'colsample_bytree': 0.5984500241334433} because of the following error: The value nan is not acceptable..\n",
      "[W 2023-08-02 20:18:36,314] Trial 39 failed with value nan.\n",
      "[W 2023-08-02 20:18:36,975] Trial 40 failed with parameters: {'booster': 'gblinear', 'lambda': 0.01422368767967379, 'alpha': 9.61666403949172e-05, 'subsample': 0.6471595323192187, 'colsample_bytree': 0.5919049916379489} because of the following error: The value nan is not acceptable..\n",
      "[W 2023-08-02 20:18:36,975] Trial 40 failed with value nan.\n",
      "[W 2023-08-02 20:18:37,605] Trial 41 failed with parameters: {'booster': 'gblinear', 'lambda': 0.014066279584066416, 'alpha': 0.00017561130502612252, 'subsample': 0.6529904551250476, 'colsample_bytree': 0.600807136823011} because of the following error: The value nan is not acceptable..\n",
      "[W 2023-08-02 20:18:37,605] Trial 41 failed with value nan.\n",
      "[W 2023-08-02 20:18:38,236] Trial 42 failed with parameters: {'booster': 'gblinear', 'lambda': 0.00851847747091078, 'alpha': 0.00011702626647223894, 'subsample': 0.6367965912905346, 'colsample_bytree': 0.58207228067697} because of the following error: The value nan is not acceptable..\n",
      "[W 2023-08-02 20:18:38,238] Trial 42 failed with value nan.\n",
      "[W 2023-08-02 20:18:38,857] Trial 43 failed with parameters: {'booster': 'gblinear', 'lambda': 0.0002614097304411911, 'alpha': 0.00015658760892019362, 'subsample': 0.6347643523874443, 'colsample_bytree': 0.6004179043039771} because of the following error: The value nan is not acceptable..\n",
      "[W 2023-08-02 20:18:38,857] Trial 43 failed with value nan.\n",
      "[W 2023-08-02 20:18:39,485] Trial 44 failed with parameters: {'booster': 'gblinear', 'lambda': 0.016697040037098616, 'alpha': 6.16144137328628e-05, 'subsample': 0.6299343861257511, 'colsample_bytree': 0.6006796534361726} because of the following error: The value nan is not acceptable..\n",
      "[W 2023-08-02 20:18:39,487] Trial 44 failed with value nan.\n",
      "[W 2023-08-02 20:18:40,069] Trial 45 failed with parameters: {'booster': 'gblinear', 'lambda': 0.00012672498720698395, 'alpha': 0.00013426630390245663, 'subsample': 0.6390644609964895, 'colsample_bytree': 0.5934973810939292} because of the following error: The value nan is not acceptable..\n",
      "[W 2023-08-02 20:18:40,070] Trial 45 failed with value nan.\n",
      "[W 2023-08-02 20:18:40,684] Trial 46 failed with parameters: {'booster': 'gblinear', 'lambda': 0.00021540892029027207, 'alpha': 0.00010458085091011623, 'subsample': 0.6463096056757209, 'colsample_bytree': 0.593248367791163} because of the following error: The value nan is not acceptable..\n",
      "[W 2023-08-02 20:18:40,685] Trial 46 failed with value nan.\n",
      "[W 2023-08-02 20:18:41,293] Trial 47 failed with parameters: {'booster': 'gblinear', 'lambda': 0.006973901462111563, 'alpha': 0.00024206173163139242, 'subsample': 0.6530795940541166, 'colsample_bytree': 0.5783114531549673} because of the following error: The value nan is not acceptable..\n",
      "[W 2023-08-02 20:18:41,294] Trial 47 failed with value nan.\n",
      "[W 2023-08-02 20:18:41,919] Trial 48 failed with parameters: {'booster': 'gblinear', 'lambda': 0.02000107765484244, 'alpha': 0.0001456539433208667, 'subsample': 0.6676199527927377, 'colsample_bytree': 0.5977352217212899} because of the following error: The value nan is not acceptable..\n",
      "[W 2023-08-02 20:18:41,920] Trial 48 failed with value nan.\n",
      "[W 2023-08-02 20:18:42,525] Trial 49 failed with parameters: {'booster': 'gblinear', 'lambda': 0.016523867807939876, 'alpha': 0.00025712647276287067, 'subsample': 0.6380758484931743, 'colsample_bytree': 0.6031854131361285} because of the following error: The value nan is not acceptable..\n",
      "[W 2023-08-02 20:18:42,526] Trial 49 failed with value nan.\n",
      "[W 2023-08-02 20:18:43,107] Trial 50 failed with parameters: {'booster': 'gblinear', 'lambda': 0.008891829309741863, 'alpha': 9.569500409820864e-05, 'subsample': 0.6446971647859437, 'colsample_bytree': 0.5941503158128811} because of the following error: The value nan is not acceptable..\n",
      "[W 2023-08-02 20:18:43,109] Trial 50 failed with value nan.\n",
      "[W 2023-08-02 20:18:43,691] Trial 51 failed with parameters: {'booster': 'gblinear', 'lambda': 0.00021684139027739868, 'alpha': 0.0003210022420762856, 'subsample': 0.6474410368171327, 'colsample_bytree': 0.5985858516185835} because of the following error: The value nan is not acceptable..\n",
      "[W 2023-08-02 20:18:43,692] Trial 51 failed with value nan.\n",
      "[W 2023-08-02 20:18:44,307] Trial 52 failed with parameters: {'booster': 'gblinear', 'lambda': 0.013868162182104328, 'alpha': 0.00018230216843441926, 'subsample': 0.6444485981324356, 'colsample_bytree': 0.5832222792768706} because of the following error: The value nan is not acceptable..\n",
      "[W 2023-08-02 20:18:44,308] Trial 52 failed with value nan.\n",
      "[W 2023-08-02 20:18:44,919] Trial 53 failed with parameters: {'booster': 'gblinear', 'lambda': 0.00020951099808384137, 'alpha': 0.00018760039456245184, 'subsample': 0.6649482263862068, 'colsample_bytree': 0.5907742222602519} because of the following error: The value nan is not acceptable..\n",
      "[W 2023-08-02 20:18:44,921] Trial 53 failed with value nan.\n",
      "[W 2023-08-02 20:18:45,535] Trial 54 failed with parameters: {'booster': 'gblinear', 'lambda': 0.015081689835798098, 'alpha': 0.0002871926179847978, 'subsample': 0.6423676168817573, 'colsample_bytree': 0.5895137819838837} because of the following error: The value nan is not acceptable..\n",
      "[W 2023-08-02 20:18:45,536] Trial 54 failed with value nan.\n",
      "[W 2023-08-02 20:18:46,137] Trial 55 failed with parameters: {'booster': 'gblinear', 'lambda': 0.00021714091470289313, 'alpha': 0.00029100800787473937, 'subsample': 0.6315291079237388, 'colsample_bytree': 0.5687745631781462} because of the following error: The value nan is not acceptable..\n",
      "[W 2023-08-02 20:18:46,138] Trial 55 failed with value nan.\n",
      "[W 2023-08-02 20:18:46,754] Trial 56 failed with parameters: {'booster': 'gblinear', 'lambda': 0.015128499941479131, 'alpha': 0.00010525669282323565, 'subsample': 0.6458668972338877, 'colsample_bytree': 0.6038945027159422} because of the following error: The value nan is not acceptable..\n",
      "[W 2023-08-02 20:18:46,755] Trial 56 failed with value nan.\n",
      "[W 2023-08-02 20:18:47,331] Trial 57 failed with parameters: {'booster': 'gblinear', 'lambda': 0.013724894181296533, 'alpha': 0.00016671232047186523, 'subsample': 0.6392111117973067, 'colsample_bytree': 0.6042449636248858} because of the following error: The value nan is not acceptable..\n",
      "[W 2023-08-02 20:18:47,333] Trial 57 failed with value nan.\n",
      "[W 2023-08-02 20:18:47,928] Trial 58 failed with parameters: {'booster': 'gblinear', 'lambda': 0.011848714239849555, 'alpha': 0.00013761706277025114, 'subsample': 0.6504020410667904, 'colsample_bytree': 0.5936128470535725} because of the following error: The value nan is not acceptable..\n",
      "[W 2023-08-02 20:18:47,929] Trial 58 failed with value nan.\n",
      "[W 2023-08-02 20:18:48,515] Trial 59 failed with parameters: {'booster': 'gblinear', 'lambda': 0.0002355960596483781, 'alpha': 9.831768392890022e-05, 'subsample': 0.6344028915062324, 'colsample_bytree': 0.5982979636982351} because of the following error: The value nan is not acceptable..\n",
      "[W 2023-08-02 20:18:48,515] Trial 59 failed with value nan.\n",
      "[W 2023-08-02 20:18:49,080] Trial 60 failed with parameters: {'booster': 'gblinear', 'lambda': 0.00021325404378039534, 'alpha': 7.534653399740134e-05, 'subsample': 0.6461759339344096, 'colsample_bytree': 0.5977731875127539} because of the following error: The value nan is not acceptable..\n",
      "[W 2023-08-02 20:18:49,082] Trial 60 failed with value nan.\n",
      "[W 2023-08-02 20:18:49,652] Trial 61 failed with parameters: {'booster': 'gblinear', 'lambda': 0.014496931719853907, 'alpha': 0.00011911440528100651, 'subsample': 0.6450745937226923, 'colsample_bytree': 0.6032575123547063} because of the following error: The value nan is not acceptable..\n",
      "[W 2023-08-02 20:18:49,652] Trial 61 failed with value nan.\n",
      "[W 2023-08-02 20:18:50,220] Trial 62 failed with parameters: {'booster': 'gblinear', 'lambda': 0.00015477424019412787, 'alpha': 7.17554685852546e-05, 'subsample': 0.6092624572848545, 'colsample_bytree': 0.5892384256776977} because of the following error: The value nan is not acceptable..\n",
      "[W 2023-08-02 20:18:50,220] Trial 62 failed with value nan.\n",
      "[W 2023-08-02 20:18:50,808] Trial 63 failed with parameters: {'booster': 'gblinear', 'lambda': 0.012109464116069824, 'alpha': 8.136713588205117e-05, 'subsample': 0.6358970089632832, 'colsample_bytree': 0.5832776344599674} because of the following error: The value nan is not acceptable..\n",
      "[W 2023-08-02 20:18:50,809] Trial 63 failed with value nan.\n",
      "[W 2023-08-02 20:18:51,459] Trial 64 failed with parameters: {'booster': 'gblinear', 'lambda': 0.00020934620867106636, 'alpha': 8.671838165573476e-05, 'subsample': 0.6421800890800636, 'colsample_bytree': 0.5944930151741281} because of the following error: The value nan is not acceptable..\n",
      "[W 2023-08-02 20:18:51,461] Trial 64 failed with value nan.\n",
      "[W 2023-08-02 20:18:52,044] Trial 65 failed with parameters: {'booster': 'gblinear', 'lambda': 0.00021172866853069993, 'alpha': 0.0002457478003088998, 'subsample': 0.6357115162339891, 'colsample_bytree': 0.5838265180490898} because of the following error: The value nan is not acceptable..\n",
      "[W 2023-08-02 20:18:52,045] Trial 65 failed with value nan.\n",
      "[W 2023-08-02 20:18:52,635] Trial 66 failed with parameters: {'booster': 'gblinear', 'lambda': 0.008109457010028126, 'alpha': 0.00015204068207196273, 'subsample': 0.6397658260616648, 'colsample_bytree': 0.5923116495308559} because of the following error: The value nan is not acceptable..\n",
      "[W 2023-08-02 20:18:52,636] Trial 66 failed with value nan.\n",
      "[W 2023-08-02 20:18:53,175] Trial 67 failed with parameters: {'booster': 'gblinear', 'lambda': 0.00018116362043449743, 'alpha': 0.00012855751902632114, 'subsample': 0.639476339220124, 'colsample_bytree': 0.5962522596692534} because of the following error: The value nan is not acceptable..\n",
      "[W 2023-08-02 20:18:53,176] Trial 67 failed with value nan.\n",
      "[W 2023-08-02 20:18:53,798] Trial 68 failed with parameters: {'booster': 'gblinear', 'lambda': 0.012217822794186461, 'alpha': 0.00023613793877593246, 'subsample': 0.6417503625739057, 'colsample_bytree': 0.5980506399839636} because of the following error: The value nan is not acceptable..\n",
      "[W 2023-08-02 20:18:53,799] Trial 68 failed with value nan.\n",
      "[W 2023-08-02 20:18:54,355] Trial 69 failed with parameters: {'booster': 'gblinear', 'lambda': 0.00021374580944072088, 'alpha': 0.00017197645496483667, 'subsample': 0.6509717825788108, 'colsample_bytree': 0.5906980532735272} because of the following error: The value nan is not acceptable..\n",
      "[W 2023-08-02 20:18:54,356] Trial 69 failed with value nan.\n",
      "[W 2023-08-02 20:18:54,961] Trial 70 failed with parameters: {'booster': 'gblinear', 'lambda': 0.0207589061609371, 'alpha': 0.00025405003396468336, 'subsample': 0.6400962752495797, 'colsample_bytree': 0.5742489708954203} because of the following error: The value nan is not acceptable..\n",
      "[W 2023-08-02 20:18:54,961] Trial 70 failed with value nan.\n",
      "[W 2023-08-02 20:18:55,527] Trial 71 failed with parameters: {'booster': 'gblinear', 'lambda': 0.00018765241447588123, 'alpha': 5.861040995986631e-05, 'subsample': 0.656306710902827, 'colsample_bytree': 0.6090543694045875} because of the following error: The value nan is not acceptable..\n",
      "[W 2023-08-02 20:18:55,527] Trial 71 failed with value nan.\n",
      "[W 2023-08-02 20:18:56,069] Trial 72 failed with parameters: {'booster': 'gblinear', 'lambda': 0.013655456340827158, 'alpha': 0.00019888692717815685, 'subsample': 0.6247869143162074, 'colsample_bytree': 0.5781884683980663} because of the following error: The value nan is not acceptable..\n",
      "[W 2023-08-02 20:18:56,069] Trial 72 failed with value nan.\n",
      "[W 2023-08-02 20:18:56,633] Trial 73 failed with parameters: {'booster': 'gblinear', 'lambda': 0.00020222181453860005, 'alpha': 0.0001351813591810774, 'subsample': 0.6374279556723805, 'colsample_bytree': 0.5964237099732874} because of the following error: The value nan is not acceptable..\n",
      "[W 2023-08-02 20:18:56,634] Trial 73 failed with value nan.\n",
      "[W 2023-08-02 20:18:57,261] Trial 74 failed with parameters: {'booster': 'gblinear', 'lambda': 0.014823339464087266, 'alpha': 9.513753332511964e-05, 'subsample': 0.6387233226051612, 'colsample_bytree': 0.5982917463773284} because of the following error: The value nan is not acceptable..\n",
      "[W 2023-08-02 20:18:57,263] Trial 74 failed with value nan.\n",
      "[W 2023-08-02 20:18:57,872] Trial 75 failed with parameters: {'booster': 'gblinear', 'lambda': 0.0001516274726425877, 'alpha': 0.00020385327852881385, 'subsample': 0.6452007695712172, 'colsample_bytree': 0.5872695227524993} because of the following error: The value nan is not acceptable..\n",
      "[W 2023-08-02 20:18:57,873] Trial 75 failed with value nan.\n",
      "[W 2023-08-02 20:18:58,426] Trial 76 failed with parameters: {'booster': 'gblinear', 'lambda': 0.00014497145034825793, 'alpha': 0.00016646422661484048, 'subsample': 0.6573776873277849, 'colsample_bytree': 0.5933280677297339} because of the following error: The value nan is not acceptable..\n",
      "[W 2023-08-02 20:18:58,427] Trial 76 failed with value nan.\n",
      "[W 2023-08-02 20:18:59,018] Trial 77 failed with parameters: {'booster': 'gblinear', 'lambda': 0.012540498802993964, 'alpha': 0.00017269334641716586, 'subsample': 0.6371410720533224, 'colsample_bytree': 0.5942144004105058} because of the following error: The value nan is not acceptable..\n",
      "[W 2023-08-02 20:18:59,019] Trial 77 failed with value nan.\n",
      "[W 2023-08-02 20:18:59,621] Trial 78 failed with parameters: {'booster': 'gblinear', 'lambda': 0.01976990873814414, 'alpha': 0.0001712185710856236, 'subsample': 0.6485617836154101, 'colsample_bytree': 0.5915325673357781} because of the following error: The value nan is not acceptable..\n",
      "[W 2023-08-02 20:18:59,622] Trial 78 failed with value nan.\n",
      "[W 2023-08-02 20:19:00,224] Trial 79 failed with parameters: {'booster': 'gblinear', 'lambda': 0.014110161356580867, 'alpha': 0.0002661468133287651, 'subsample': 0.6369451218648432, 'colsample_bytree': 0.5949699976142714} because of the following error: The value nan is not acceptable..\n",
      "[W 2023-08-02 20:19:00,226] Trial 79 failed with value nan.\n",
      "[W 2023-08-02 20:19:00,788] Trial 80 failed with parameters: {'booster': 'gblinear', 'lambda': 0.01338250512809927, 'alpha': 0.00015493660406878314, 'subsample': 0.6471650789027791, 'colsample_bytree': 0.6002464300483016} because of the following error: The value nan is not acceptable..\n",
      "[W 2023-08-02 20:19:00,789] Trial 80 failed with value nan.\n",
      "[W 2023-08-02 20:19:01,417] Trial 81 failed with parameters: {'booster': 'gblinear', 'lambda': 0.00022978789775102607, 'alpha': 0.0001620015118813037, 'subsample': 0.6487158894806493, 'colsample_bytree': 0.5991220631780405} because of the following error: The value nan is not acceptable..\n",
      "[W 2023-08-02 20:19:01,418] Trial 81 failed with value nan.\n",
      "[W 2023-08-02 20:19:02,004] Trial 82 failed with parameters: {'booster': 'gblinear', 'lambda': 0.015001747926064563, 'alpha': 0.00048309841496556837, 'subsample': 0.6456811006454576, 'colsample_bytree': 0.5927670856978388} because of the following error: The value nan is not acceptable..\n",
      "[W 2023-08-02 20:19:02,005] Trial 82 failed with value nan.\n",
      "[W 2023-08-02 20:19:02,628] Trial 83 failed with parameters: {'booster': 'gblinear', 'lambda': 0.00024599942235253874, 'alpha': 7.615500372451923e-05, 'subsample': 0.6408922704057812, 'colsample_bytree': 0.5734029929786805} because of the following error: The value nan is not acceptable..\n",
      "[W 2023-08-02 20:19:02,630] Trial 83 failed with value nan.\n",
      "[W 2023-08-02 20:19:03,335] Trial 84 failed with parameters: {'booster': 'gblinear', 'lambda': 0.01955832512746884, 'alpha': 0.00019148555235248108, 'subsample': 0.6340785344353768, 'colsample_bytree': 0.5948689403045851} because of the following error: The value nan is not acceptable..\n",
      "[W 2023-08-02 20:19:03,337] Trial 84 failed with value nan.\n",
      "[W 2023-08-02 20:19:04,006] Trial 85 failed with parameters: {'booster': 'gblinear', 'lambda': 0.00017598124407058134, 'alpha': 0.00011197455539506042, 'subsample': 0.6485057373961421, 'colsample_bytree': 0.5943889150106921} because of the following error: The value nan is not acceptable..\n",
      "[W 2023-08-02 20:19:04,008] Trial 85 failed with value nan.\n",
      "[W 2023-08-02 20:19:04,570] Trial 86 failed with parameters: {'booster': 'gblinear', 'lambda': 0.012512943214649167, 'alpha': 0.00012074692272905415, 'subsample': 0.6365424886382041, 'colsample_bytree': 0.6058364143137424} because of the following error: The value nan is not acceptable..\n",
      "[W 2023-08-02 20:19:04,571] Trial 86 failed with value nan.\n",
      "[I 2023-08-02 20:19:05,784] Trial 87 finished with value: 0.31225717976112505 and parameters: {'booster': 'gbtree', 'lambda': 0.0001854683894706123, 'alpha': 0.0003012689524570847, 'subsample': 0.6428988585800166, 'colsample_bytree': 0.5994772512299773, 'max_depth': 16, 'eta': 0.06476270212498697, 'gamma': 0.0027806426346551278, 'grow_policy': 'depthwise'}. Best is trial 20 with value: 0.30998975269319395.\n",
      "[W 2023-08-02 20:19:06,386] Trial 88 failed with parameters: {'booster': 'gblinear', 'lambda': 0.010910008407099745, 'alpha': 0.0007853237832410675, 'subsample': 0.6981643750820729, 'colsample_bytree': 0.7307096876015877} because of the following error: The value nan is not acceptable..\n",
      "[W 2023-08-02 20:19:06,387] Trial 88 failed with value nan.\n",
      "[W 2023-08-02 20:19:07,002] Trial 89 failed with parameters: {'booster': 'gblinear', 'lambda': 0.015871096048023257, 'alpha': 0.0003425287045665755, 'subsample': 0.7038144078770525, 'colsample_bytree': 0.5427204329234178} because of the following error: The value nan is not acceptable..\n",
      "[W 2023-08-02 20:19:07,008] Trial 89 failed with value nan.\n",
      "[W 2023-08-02 20:19:07,634] Trial 90 failed with parameters: {'booster': 'gblinear', 'lambda': 0.012940148620210931, 'alpha': 0.00022030485456785268, 'subsample': 0.6964116035428765, 'colsample_bytree': 0.5278304916516794} because of the following error: The value nan is not acceptable..\n",
      "[W 2023-08-02 20:19:07,635] Trial 90 failed with value nan.\n",
      "[W 2023-08-02 20:19:08,258] Trial 91 failed with parameters: {'booster': 'gblinear', 'lambda': 0.013512773595068984, 'alpha': 0.0003089234015556182, 'subsample': 0.6981548059834393, 'colsample_bytree': 0.5337967348994008} because of the following error: The value nan is not acceptable..\n",
      "[W 2023-08-02 20:19:08,259] Trial 91 failed with value nan.\n",
      "[W 2023-08-02 20:19:08,865] Trial 92 failed with parameters: {'booster': 'gblinear', 'lambda': 0.016353844319544113, 'alpha': 0.0003218569298188461, 'subsample': 0.700539179084432, 'colsample_bytree': 0.5293613807179292} because of the following error: The value nan is not acceptable..\n",
      "[W 2023-08-02 20:19:08,866] Trial 92 failed with value nan.\n",
      "[W 2023-08-02 20:19:09,446] Trial 93 failed with parameters: {'booster': 'gblinear', 'lambda': 0.013429082804959786, 'alpha': 0.000383437047483968, 'subsample': 0.6965305998429813, 'colsample_bytree': 0.5301964681003061} because of the following error: The value nan is not acceptable..\n",
      "[W 2023-08-02 20:19:09,448] Trial 93 failed with value nan.\n",
      "[W 2023-08-02 20:19:10,019] Trial 94 failed with parameters: {'booster': 'gblinear', 'lambda': 0.012764069170714846, 'alpha': 0.00031590756464458715, 'subsample': 0.6894519833673487, 'colsample_bytree': 0.7199719869975341} because of the following error: The value nan is not acceptable..\n",
      "[W 2023-08-02 20:19:10,020] Trial 94 failed with value nan.\n",
      "[W 2023-08-02 20:19:10,621] Trial 95 failed with parameters: {'booster': 'gblinear', 'lambda': 0.01281932995177536, 'alpha': 0.0002609108940972745, 'subsample': 0.69854510249432, 'colsample_bytree': 0.7477234359627295} because of the following error: The value nan is not acceptable..\n",
      "[W 2023-08-02 20:19:10,622] Trial 95 failed with value nan.\n",
      "[W 2023-08-02 20:19:11,235] Trial 96 failed with parameters: {'booster': 'gblinear', 'lambda': 0.013779679063846908, 'alpha': 0.0005332585853238225, 'subsample': 0.709138776599846, 'colsample_bytree': 0.5165852242873545} because of the following error: The value nan is not acceptable..\n",
      "[W 2023-08-02 20:19:11,236] Trial 96 failed with value nan.\n",
      "[W 2023-08-02 20:19:11,888] Trial 97 failed with parameters: {'booster': 'gblinear', 'lambda': 0.01169059845248554, 'alpha': 0.0003823906653767211, 'subsample': 0.6939241222089239, 'colsample_bytree': 0.5260751290496187} because of the following error: The value nan is not acceptable..\n",
      "[W 2023-08-02 20:19:11,889] Trial 97 failed with value nan.\n",
      "[W 2023-08-02 20:19:12,538] Trial 98 failed with parameters: {'booster': 'gblinear', 'lambda': 0.011894204264817165, 'alpha': 0.00025776229985220684, 'subsample': 0.6926421791087072, 'colsample_bytree': 0.5119953829144555} because of the following error: The value nan is not acceptable..\n",
      "[W 2023-08-02 20:19:12,540] Trial 98 failed with value nan.\n",
      "[W 2023-08-02 20:19:13,146] Trial 99 failed with parameters: {'booster': 'gblinear', 'lambda': 0.008394962357845063, 'alpha': 0.0002661977308270053, 'subsample': 0.7058845527507075, 'colsample_bytree': 0.5212155895163776} because of the following error: The value nan is not acceptable..\n",
      "[W 2023-08-02 20:19:13,147] Trial 99 failed with value nan.\n",
      "[W 2023-08-02 20:19:13,872] Trial 100 failed with parameters: {'booster': 'gblinear', 'lambda': 0.013852738469765766, 'alpha': 6.991123895655058e-05, 'subsample': 0.6930175765450605, 'colsample_bytree': 0.7268887510562844} because of the following error: The value nan is not acceptable..\n",
      "[W 2023-08-02 20:19:13,873] Trial 100 failed with value nan.\n",
      "[W 2023-08-02 20:19:14,449] Trial 101 failed with parameters: {'booster': 'gblinear', 'lambda': 0.011388326110381958, 'alpha': 0.0003866581234371218, 'subsample': 0.6940658107657023, 'colsample_bytree': 0.5209195365998802} because of the following error: The value nan is not acceptable..\n",
      "[W 2023-08-02 20:19:14,449] Trial 101 failed with value nan.\n",
      "[W 2023-08-02 20:19:15,106] Trial 102 failed with parameters: {'booster': 'gblinear', 'lambda': 0.0201725384505431, 'alpha': 0.0004008364005619198, 'subsample': 0.7070503204412403, 'colsample_bytree': 0.5213870922953592} because of the following error: The value nan is not acceptable..\n",
      "[W 2023-08-02 20:19:15,107] Trial 102 failed with value nan.\n",
      "[W 2023-08-02 20:19:15,752] Trial 103 failed with parameters: {'booster': 'gblinear', 'lambda': 0.013375946403084503, 'alpha': 0.0001705163663813395, 'subsample': 0.6999355040523558, 'colsample_bytree': 0.5200741670048659} because of the following error: The value nan is not acceptable..\n",
      "[W 2023-08-02 20:19:15,753] Trial 103 failed with value nan.\n",
      "[W 2023-08-02 20:19:16,359] Trial 104 failed with parameters: {'booster': 'gblinear', 'lambda': 0.013051394581456262, 'alpha': 0.0005151356632289996, 'subsample': 0.676899778888656, 'colsample_bytree': 0.7160443422135664} because of the following error: The value nan is not acceptable..\n",
      "[W 2023-08-02 20:19:16,361] Trial 104 failed with value nan.\n",
      "[W 2023-08-02 20:19:16,973] Trial 105 failed with parameters: {'booster': 'gblinear', 'lambda': 0.0002488514926630513, 'alpha': 0.00020200981238749596, 'subsample': 0.7015044165902762, 'colsample_bytree': 0.5286926910936192} because of the following error: The value nan is not acceptable..\n",
      "[W 2023-08-02 20:19:16,975] Trial 105 failed with value nan.\n",
      "[W 2023-08-02 20:19:17,569] Trial 106 failed with parameters: {'booster': 'gblinear', 'lambda': 0.00866666629452757, 'alpha': 0.00042907695847090136, 'subsample': 0.6996676409185633, 'colsample_bytree': 0.5316706708877795} because of the following error: The value nan is not acceptable..\n",
      "[W 2023-08-02 20:19:17,570] Trial 106 failed with value nan.\n",
      "[W 2023-08-02 20:19:18,125] Trial 107 failed with parameters: {'booster': 'gblinear', 'lambda': 0.01716751043370499, 'alpha': 0.0002430040190869669, 'subsample': 0.68424813200317, 'colsample_bytree': 0.536271726608599} because of the following error: The value nan is not acceptable..\n",
      "[W 2023-08-02 20:19:18,127] Trial 107 failed with value nan.\n",
      "[W 2023-08-02 20:19:18,720] Trial 108 failed with parameters: {'booster': 'gblinear', 'lambda': 0.005223145491604981, 'alpha': 0.00026155380613518734, 'subsample': 0.6844017930983803, 'colsample_bytree': 0.5282869353674103} because of the following error: The value nan is not acceptable..\n",
      "[W 2023-08-02 20:19:18,721] Trial 108 failed with value nan.\n",
      "[W 2023-08-02 20:19:19,335] Trial 109 failed with parameters: {'booster': 'gblinear', 'lambda': 0.01343674486284911, 'alpha': 0.00038183973565858453, 'subsample': 0.6985585573478157, 'colsample_bytree': 0.519850349081969} because of the following error: The value nan is not acceptable..\n",
      "[W 2023-08-02 20:19:19,336] Trial 109 failed with value nan.\n",
      "[W 2023-08-02 20:19:19,924] Trial 110 failed with parameters: {'booster': 'gblinear', 'lambda': 0.011180109568933281, 'alpha': 0.0002534219613733136, 'subsample': 0.6816860450419001, 'colsample_bytree': 0.5401755734830088} because of the following error: The value nan is not acceptable..\n",
      "[W 2023-08-02 20:19:19,925] Trial 110 failed with value nan.\n",
      "[W 2023-08-02 20:19:20,564] Trial 111 failed with parameters: {'booster': 'gblinear', 'lambda': 0.013024357982535727, 'alpha': 0.0003403267353591571, 'subsample': 0.6875330625141629, 'colsample_bytree': 0.5266814400217664} because of the following error: The value nan is not acceptable..\n",
      "[W 2023-08-02 20:19:20,565] Trial 111 failed with value nan.\n",
      "[W 2023-08-02 20:19:21,211] Trial 112 failed with parameters: {'booster': 'gblinear', 'lambda': 0.013235059894797611, 'alpha': 0.0004995871317194007, 'subsample': 0.6985799412111994, 'colsample_bytree': 0.5201375543821147} because of the following error: The value nan is not acceptable..\n",
      "[W 2023-08-02 20:19:21,212] Trial 112 failed with value nan.\n",
      "[W 2023-08-02 20:19:21,812] Trial 113 failed with parameters: {'booster': 'gblinear', 'lambda': 0.007387234212161095, 'alpha': 0.00020266902344749622, 'subsample': 0.6696301765976976, 'colsample_bytree': 0.7132447423979341} because of the following error: The value nan is not acceptable..\n",
      "[W 2023-08-02 20:19:21,813] Trial 113 failed with value nan.\n",
      "[W 2023-08-02 20:19:22,397] Trial 114 failed with parameters: {'booster': 'gblinear', 'lambda': 0.014493516980894409, 'alpha': 0.00024797886845706726, 'subsample': 0.701143328463472, 'colsample_bytree': 0.525318449498106} because of the following error: The value nan is not acceptable..\n",
      "[W 2023-08-02 20:19:22,398] Trial 114 failed with value nan.\n",
      "[W 2023-08-02 20:19:22,968] Trial 115 failed with parameters: {'booster': 'gblinear', 'lambda': 0.007947819893361076, 'alpha': 0.0007358459501016049, 'subsample': 0.6976368066359535, 'colsample_bytree': 0.5340028242870495} because of the following error: The value nan is not acceptable..\n",
      "[W 2023-08-02 20:19:22,970] Trial 115 failed with value nan.\n",
      "[W 2023-08-02 20:19:23,553] Trial 116 failed with parameters: {'booster': 'gblinear', 'lambda': 0.011222493445681216, 'alpha': 0.000313696552069467, 'subsample': 0.6596376677102197, 'colsample_bytree': 0.5347870958235296} because of the following error: The value nan is not acceptable..\n",
      "[W 2023-08-02 20:19:23,554] Trial 116 failed with value nan.\n",
      "[W 2023-08-02 20:19:24,148] Trial 117 failed with parameters: {'booster': 'gblinear', 'lambda': 0.01664124393635554, 'alpha': 0.0003194690483423965, 'subsample': 0.6965277962291909, 'colsample_bytree': 0.5275096147227266} because of the following error: The value nan is not acceptable..\n",
      "[W 2023-08-02 20:19:24,149] Trial 117 failed with value nan.\n",
      "[W 2023-08-02 20:19:24,723] Trial 118 failed with parameters: {'booster': 'gblinear', 'lambda': 0.00779583976862405, 'alpha': 0.00017438823249305054, 'subsample': 0.6959818471867036, 'colsample_bytree': 0.7249658031127468} because of the following error: The value nan is not acceptable..\n",
      "[W 2023-08-02 20:19:24,724] Trial 118 failed with value nan.\n",
      "[W 2023-08-02 20:19:25,323] Trial 119 failed with parameters: {'booster': 'gblinear', 'lambda': 0.011216634693120718, 'alpha': 0.00031944372332039423, 'subsample': 0.686966391264025, 'colsample_bytree': 0.526712555289592} because of the following error: The value nan is not acceptable..\n",
      "[W 2023-08-02 20:19:25,324] Trial 119 failed with value nan.\n",
      "[W 2023-08-02 20:19:25,854] Trial 120 failed with parameters: {'booster': 'gblinear', 'lambda': 0.008876231146770061, 'alpha': 0.0001348420612153473, 'subsample': 0.707034245260807, 'colsample_bytree': 0.5084127755215805} because of the following error: The value nan is not acceptable..\n",
      "[W 2023-08-02 20:19:25,855] Trial 120 failed with value nan.\n",
      "[W 2023-08-02 20:19:26,420] Trial 121 failed with parameters: {'booster': 'gblinear', 'lambda': 0.013025755386578719, 'alpha': 0.00032612624308048785, 'subsample': 0.6976222851712988, 'colsample_bytree': 0.5307748358068097} because of the following error: The value nan is not acceptable..\n",
      "[W 2023-08-02 20:19:26,421] Trial 121 failed with value nan.\n",
      "[W 2023-08-02 20:19:26,980] Trial 122 failed with parameters: {'booster': 'gblinear', 'lambda': 0.024980046703311623, 'alpha': 0.0002567734262833654, 'subsample': 0.7066598655817765, 'colsample_bytree': 0.5182876693083904} because of the following error: The value nan is not acceptable..\n",
      "[W 2023-08-02 20:19:26,980] Trial 122 failed with value nan.\n",
      "[W 2023-08-02 20:19:27,515] Trial 123 failed with parameters: {'booster': 'gblinear', 'lambda': 0.0002443179436454899, 'alpha': 0.00030662541328803296, 'subsample': 0.7148929281576561, 'colsample_bytree': 0.5234288913817657} because of the following error: The value nan is not acceptable..\n",
      "[W 2023-08-02 20:19:27,516] Trial 123 failed with value nan.\n",
      "[W 2023-08-02 20:19:28,118] Trial 124 failed with parameters: {'booster': 'gblinear', 'lambda': 0.010821653612289954, 'alpha': 0.0003618655923581099, 'subsample': 0.6954947020188664, 'colsample_bytree': 0.5339448500404156} because of the following error: The value nan is not acceptable..\n",
      "[W 2023-08-02 20:19:28,119] Trial 124 failed with value nan.\n",
      "[W 2023-08-02 20:19:28,712] Trial 125 failed with parameters: {'booster': 'gblinear', 'lambda': 0.009643815448464552, 'alpha': 0.0002787651857999422, 'subsample': 0.6929737257099496, 'colsample_bytree': 0.5157668989051709} because of the following error: The value nan is not acceptable..\n",
      "[W 2023-08-02 20:19:28,712] Trial 125 failed with value nan.\n",
      "[W 2023-08-02 20:19:29,313] Trial 126 failed with parameters: {'booster': 'gblinear', 'lambda': 0.006675136542055646, 'alpha': 0.00025219108848959025, 'subsample': 0.7091000030289772, 'colsample_bytree': 0.5154726569208963} because of the following error: The value nan is not acceptable..\n",
      "[W 2023-08-02 20:19:29,314] Trial 126 failed with value nan.\n",
      "[W 2023-08-02 20:19:29,927] Trial 127 failed with parameters: {'booster': 'gblinear', 'lambda': 0.009142488025494923, 'alpha': 0.0005622410373186975, 'subsample': 0.6842052399248247, 'colsample_bytree': 0.5251936109823732} because of the following error: The value nan is not acceptable..\n",
      "[W 2023-08-02 20:19:29,927] Trial 127 failed with value nan.\n",
      "[W 2023-08-02 20:19:30,498] Trial 128 failed with parameters: {'booster': 'gblinear', 'lambda': 0.010327866681414456, 'alpha': 0.00023953489186983072, 'subsample': 0.6976209055404846, 'colsample_bytree': 0.7067304598361792} because of the following error: The value nan is not acceptable..\n",
      "[W 2023-08-02 20:19:30,499] Trial 128 failed with value nan.\n",
      "[W 2023-08-02 20:19:31,099] Trial 129 failed with parameters: {'booster': 'gblinear', 'lambda': 0.015174206183678545, 'alpha': 0.0002812847708135278, 'subsample': 0.7009843495496336, 'colsample_bytree': 0.7108435470564934} because of the following error: The value nan is not acceptable..\n",
      "[W 2023-08-02 20:19:31,100] Trial 129 failed with value nan.\n",
      "[W 2023-08-02 20:19:31,681] Trial 130 failed with parameters: {'booster': 'gblinear', 'lambda': 0.011740002460235656, 'alpha': 0.0002709501681910802, 'subsample': 0.6982306578519879, 'colsample_bytree': 0.5360719071206248} because of the following error: The value nan is not acceptable..\n",
      "[W 2023-08-02 20:19:31,682] Trial 130 failed with value nan.\n",
      "[W 2023-08-02 20:19:32,343] Trial 131 failed with parameters: {'booster': 'gblinear', 'lambda': 0.012929107515207561, 'alpha': 0.0003447279494920909, 'subsample': 0.7034241327116291, 'colsample_bytree': 0.7185022207345199} because of the following error: The value nan is not acceptable..\n",
      "[W 2023-08-02 20:19:32,343] Trial 131 failed with value nan.\n",
      "[W 2023-08-02 20:19:32,942] Trial 132 failed with parameters: {'booster': 'gblinear', 'lambda': 0.013813626876428621, 'alpha': 0.0003754964031311465, 'subsample': 0.6960711821265703, 'colsample_bytree': 0.5319921633606948} because of the following error: The value nan is not acceptable..\n",
      "[W 2023-08-02 20:19:32,943] Trial 132 failed with value nan.\n",
      "[W 2023-08-02 20:19:33,546] Trial 133 failed with parameters: {'booster': 'gblinear', 'lambda': 0.012202926006695184, 'alpha': 0.00014111859416388105, 'subsample': 0.659475733576175, 'colsample_bytree': 0.7244760438733272} because of the following error: The value nan is not acceptable..\n",
      "[W 2023-08-02 20:19:33,546] Trial 133 failed with value nan.\n",
      "[W 2023-08-02 20:19:34,167] Trial 134 failed with parameters: {'booster': 'gblinear', 'lambda': 0.009568831922119906, 'alpha': 0.0002577394468429512, 'subsample': 0.6766478516218012, 'colsample_bytree': 0.5312363107693558} because of the following error: The value nan is not acceptable..\n",
      "[W 2023-08-02 20:19:34,168] Trial 134 failed with value nan.\n",
      "[W 2023-08-02 20:19:34,750] Trial 135 failed with parameters: {'booster': 'gblinear', 'lambda': 0.004666524221699502, 'alpha': 0.0004116993513805762, 'subsample': 0.6902673511650674, 'colsample_bytree': 0.5398995937826765} because of the following error: The value nan is not acceptable..\n",
      "[W 2023-08-02 20:19:34,751] Trial 135 failed with value nan.\n",
      "[W 2023-08-02 20:19:35,405] Trial 136 failed with parameters: {'booster': 'gblinear', 'lambda': 0.019530047236910934, 'alpha': 0.00040031339306694327, 'subsample': 0.6873434835486734, 'colsample_bytree': 0.7135909463755116} because of the following error: The value nan is not acceptable..\n",
      "[W 2023-08-02 20:19:35,407] Trial 136 failed with value nan.\n",
      "[W 2023-08-02 20:19:36,014] Trial 137 failed with parameters: {'booster': 'gblinear', 'lambda': 0.013681815767799976, 'alpha': 0.00012422396582958937, 'subsample': 0.6937894661377128, 'colsample_bytree': 0.5238925225618706} because of the following error: The value nan is not acceptable..\n",
      "[W 2023-08-02 20:19:36,015] Trial 137 failed with value nan.\n",
      "[W 2023-08-02 20:19:36,621] Trial 138 failed with parameters: {'booster': 'gblinear', 'lambda': 0.0174806835329302, 'alpha': 0.00030590573254734557, 'subsample': 0.7097122047172798, 'colsample_bytree': 0.5275586445716202} because of the following error: The value nan is not acceptable..\n",
      "[W 2023-08-02 20:19:36,623] Trial 138 failed with value nan.\n",
      "[W 2023-08-02 20:19:37,231] Trial 139 failed with parameters: {'booster': 'gblinear', 'lambda': 0.020967023599226347, 'alpha': 0.0007402167943547266, 'subsample': 0.6814176998204617, 'colsample_bytree': 0.5214146190284086} because of the following error: The value nan is not acceptable..\n",
      "[W 2023-08-02 20:19:37,231] Trial 139 failed with value nan.\n",
      "[W 2023-08-02 20:19:37,856] Trial 140 failed with parameters: {'booster': 'gblinear', 'lambda': 0.01197243416562415, 'alpha': 0.00027510891518842275, 'subsample': 0.7003905668533389, 'colsample_bytree': 0.5398771710029701} because of the following error: The value nan is not acceptable..\n",
      "[W 2023-08-02 20:19:37,857] Trial 140 failed with value nan.\n",
      "[W 2023-08-02 20:19:38,425] Trial 141 failed with parameters: {'booster': 'gblinear', 'lambda': 0.010151108888142527, 'alpha': 0.0002581683907819656, 'subsample': 0.6741135369235924, 'colsample_bytree': 0.5283769502722975} because of the following error: The value nan is not acceptable..\n",
      "[W 2023-08-02 20:19:38,426] Trial 141 failed with value nan.\n",
      "[W 2023-08-02 20:19:39,068] Trial 142 failed with parameters: {'booster': 'gblinear', 'lambda': 0.020839982665366436, 'alpha': 0.00030860706215792374, 'subsample': 0.6572056449847788, 'colsample_bytree': 0.5271461647538828} because of the following error: The value nan is not acceptable..\n",
      "[W 2023-08-02 20:19:39,068] Trial 142 failed with value nan.\n",
      "[W 2023-08-02 20:19:39,667] Trial 143 failed with parameters: {'booster': 'gblinear', 'lambda': 0.015599315991329285, 'alpha': 0.00042615912553178913, 'subsample': 0.6921573401637473, 'colsample_bytree': 0.5073948278170715} because of the following error: The value nan is not acceptable..\n",
      "[W 2023-08-02 20:19:39,668] Trial 143 failed with value nan.\n",
      "[W 2023-08-02 20:19:40,255] Trial 144 failed with parameters: {'booster': 'gblinear', 'lambda': 0.013675426607575022, 'alpha': 0.0003272143172572787, 'subsample': 0.6981065860752308, 'colsample_bytree': 0.5280351407004729} because of the following error: The value nan is not acceptable..\n",
      "[W 2023-08-02 20:19:40,257] Trial 144 failed with value nan.\n",
      "[W 2023-08-02 20:19:40,879] Trial 145 failed with parameters: {'booster': 'gblinear', 'lambda': 0.02205975961853674, 'alpha': 0.00033228561310290556, 'subsample': 0.689536698328983, 'colsample_bytree': 0.5194247924310723} because of the following error: The value nan is not acceptable..\n",
      "[W 2023-08-02 20:19:40,881] Trial 145 failed with value nan.\n",
      "[W 2023-08-02 20:19:41,485] Trial 146 failed with parameters: {'booster': 'gblinear', 'lambda': 0.018631593327887008, 'alpha': 0.00014680015771650055, 'subsample': 0.7207868578708209, 'colsample_bytree': 0.5429667809785484} because of the following error: The value nan is not acceptable..\n",
      "[W 2023-08-02 20:19:41,486] Trial 146 failed with value nan.\n",
      "[W 2023-08-02 20:19:42,064] Trial 147 failed with parameters: {'booster': 'gblinear', 'lambda': 0.019354196033426845, 'alpha': 0.00028718424002590964, 'subsample': 0.6916250564978264, 'colsample_bytree': 0.5264793546664435} because of the following error: The value nan is not acceptable..\n",
      "[W 2023-08-02 20:19:42,065] Trial 147 failed with value nan.\n",
      "[W 2023-08-02 20:19:42,653] Trial 148 failed with parameters: {'booster': 'gblinear', 'lambda': 0.017331236702153044, 'alpha': 0.00012690668948126406, 'subsample': 0.6678223703689429, 'colsample_bytree': 0.7166232504005954} because of the following error: The value nan is not acceptable..\n",
      "[W 2023-08-02 20:19:42,654] Trial 148 failed with value nan.\n",
      "[W 2023-08-02 20:19:43,238] Trial 149 failed with parameters: {'booster': 'gblinear', 'lambda': 0.00017720655056524981, 'alpha': 0.00020495281280402306, 'subsample': 0.6911557618323555, 'colsample_bytree': 0.5247073028780255} because of the following error: The value nan is not acceptable..\n",
      "[W 2023-08-02 20:19:43,239] Trial 149 failed with value nan.\n",
      "[W 2023-08-02 20:19:43,852] Trial 150 failed with parameters: {'booster': 'gblinear', 'lambda': 0.017110603567548975, 'alpha': 0.0003131492474140275, 'subsample': 0.690545212378837, 'colsample_bytree': 0.526225346058461} because of the following error: The value nan is not acceptable..\n",
      "[W 2023-08-02 20:19:43,853] Trial 150 failed with value nan.\n",
      "[W 2023-08-02 20:19:44,452] Trial 151 failed with parameters: {'booster': 'gblinear', 'lambda': 0.0002235483156194017, 'alpha': 0.0004962982497522806, 'subsample': 0.6922998068402393, 'colsample_bytree': 0.7190390961508963} because of the following error: The value nan is not acceptable..\n",
      "[W 2023-08-02 20:19:44,452] Trial 151 failed with value nan.\n",
      "[W 2023-08-02 20:19:45,051] Trial 152 failed with parameters: {'booster': 'gblinear', 'lambda': 0.013485110118798275, 'alpha': 0.0002655610633846606, 'subsample': 0.7148176897266808, 'colsample_bytree': 0.5250727045123476} because of the following error: The value nan is not acceptable..\n",
      "[W 2023-08-02 20:19:45,052] Trial 152 failed with value nan.\n",
      "[W 2023-08-02 20:19:45,660] Trial 153 failed with parameters: {'booster': 'gblinear', 'lambda': 0.017373233605495295, 'alpha': 0.00010339960517307889, 'subsample': 0.7036173163539814, 'colsample_bytree': 0.5280276944021403} because of the following error: The value nan is not acceptable..\n",
      "[W 2023-08-02 20:19:45,661] Trial 153 failed with value nan.\n",
      "[W 2023-08-02 20:19:46,238] Trial 154 failed with parameters: {'booster': 'gblinear', 'lambda': 0.013015116790194297, 'alpha': 0.0004073490898007341, 'subsample': 0.696302030126813, 'colsample_bytree': 0.5250453290140035} because of the following error: The value nan is not acceptable..\n",
      "[W 2023-08-02 20:19:46,240] Trial 154 failed with value nan.\n",
      "[W 2023-08-02 20:19:46,813] Trial 155 failed with parameters: {'booster': 'gblinear', 'lambda': 0.0002825562898174817, 'alpha': 0.00028367181839563293, 'subsample': 0.674069606548681, 'colsample_bytree': 0.7122829141012024} because of the following error: The value nan is not acceptable..\n",
      "[W 2023-08-02 20:19:46,813] Trial 155 failed with value nan.\n",
      "[W 2023-08-02 20:19:47,435] Trial 156 failed with parameters: {'booster': 'gblinear', 'lambda': 0.005925662576832958, 'alpha': 0.00021600238276441887, 'subsample': 0.6789134277718782, 'colsample_bytree': 0.5317006313277733} because of the following error: The value nan is not acceptable..\n",
      "[W 2023-08-02 20:19:47,437] Trial 156 failed with value nan.\n",
      "[W 2023-08-02 20:19:47,993] Trial 157 failed with parameters: {'booster': 'gblinear', 'lambda': 0.015402227039781715, 'alpha': 0.0003559289027369576, 'subsample': 0.6881076894713097, 'colsample_bytree': 0.5238315991086123} because of the following error: The value nan is not acceptable..\n",
      "[W 2023-08-02 20:19:47,995] Trial 157 failed with value nan.\n",
      "[W 2023-08-02 20:19:48,631] Trial 158 failed with parameters: {'booster': 'gblinear', 'lambda': 0.005696844162201248, 'alpha': 0.000421209306614553, 'subsample': 0.7147319188742396, 'colsample_bytree': 0.5348276709985114} because of the following error: The value nan is not acceptable..\n",
      "[W 2023-08-02 20:19:48,632] Trial 158 failed with value nan.\n",
      "[W 2023-08-02 20:19:49,307] Trial 159 failed with parameters: {'booster': 'gblinear', 'lambda': 0.0083333251755359, 'alpha': 0.00021933575054939927, 'subsample': 0.691580304719823, 'colsample_bytree': 0.5407909981593295} because of the following error: The value nan is not acceptable..\n",
      "[W 2023-08-02 20:19:49,308] Trial 159 failed with value nan.\n",
      "[W 2023-08-02 20:19:49,897] Trial 160 failed with parameters: {'booster': 'gblinear', 'lambda': 0.01489094657939099, 'alpha': 0.000277617582172713, 'subsample': 0.7030591890199318, 'colsample_bytree': 0.531408900641863} because of the following error: The value nan is not acceptable..\n",
      "[W 2023-08-02 20:19:49,898] Trial 160 failed with value nan.\n",
      "[W 2023-08-02 20:19:50,517] Trial 161 failed with parameters: {'booster': 'gblinear', 'lambda': 0.012894285510639265, 'alpha': 0.0004445679777216542, 'subsample': 0.6981476623765082, 'colsample_bytree': 0.5320413200027855} because of the following error: The value nan is not acceptable..\n",
      "[W 2023-08-02 20:19:50,519] Trial 161 failed with value nan.\n",
      "[W 2023-08-02 20:19:51,210] Trial 162 failed with parameters: {'booster': 'gblinear', 'lambda': 0.013155784166368109, 'alpha': 0.00024224457264511562, 'subsample': 0.7060539359972314, 'colsample_bytree': 0.7242278753579559} because of the following error: The value nan is not acceptable..\n",
      "[W 2023-08-02 20:19:51,211] Trial 162 failed with value nan.\n",
      "[W 2023-08-02 20:19:51,879] Trial 163 failed with parameters: {'booster': 'gblinear', 'lambda': 0.006266408013429009, 'alpha': 0.0001981326835597859, 'subsample': 0.664168922790836, 'colsample_bytree': 0.5288597240728704} because of the following error: The value nan is not acceptable..\n",
      "[W 2023-08-02 20:19:51,880] Trial 163 failed with value nan.\n",
      "[W 2023-08-02 20:19:52,542] Trial 164 failed with parameters: {'booster': 'gblinear', 'lambda': 0.006797987986515415, 'alpha': 0.0006166036189874854, 'subsample': 0.7028322759858283, 'colsample_bytree': 0.5301984759967641} because of the following error: The value nan is not acceptable..\n",
      "[W 2023-08-02 20:19:52,543] Trial 164 failed with value nan.\n",
      "[W 2023-08-02 20:19:53,213] Trial 165 failed with parameters: {'booster': 'gblinear', 'lambda': 0.014019637911592145, 'alpha': 0.0005669498832538678, 'subsample': 0.6671071188022717, 'colsample_bytree': 0.5125452759118484} because of the following error: The value nan is not acceptable..\n",
      "[W 2023-08-02 20:19:53,215] Trial 165 failed with value nan.\n",
      "[W 2023-08-02 20:19:53,842] Trial 166 failed with parameters: {'booster': 'gblinear', 'lambda': 0.0147211013016267, 'alpha': 0.00043739258234620906, 'subsample': 0.7001587682746895, 'colsample_bytree': 0.5242154818613954} because of the following error: The value nan is not acceptable..\n",
      "[W 2023-08-02 20:19:53,843] Trial 166 failed with value nan.\n",
      "[W 2023-08-02 20:19:54,431] Trial 167 failed with parameters: {'booster': 'gblinear', 'lambda': 0.006005709755804463, 'alpha': 0.0003316057670039226, 'subsample': 0.683345503951641, 'colsample_bytree': 0.5237901358985054} because of the following error: The value nan is not acceptable..\n",
      "[W 2023-08-02 20:19:54,432] Trial 167 failed with value nan.\n",
      "[W 2023-08-02 20:19:55,007] Trial 168 failed with parameters: {'booster': 'gblinear', 'lambda': 0.02459424981705967, 'alpha': 0.00037710785867686427, 'subsample': 0.6937960787045953, 'colsample_bytree': 0.5284859426509476} because of the following error: The value nan is not acceptable..\n",
      "[W 2023-08-02 20:19:55,007] Trial 168 failed with value nan.\n",
      "[W 2023-08-02 20:19:55,609] Trial 169 failed with parameters: {'booster': 'gblinear', 'lambda': 0.010492169748579906, 'alpha': 0.00041228290889658466, 'subsample': 0.6975675751740412, 'colsample_bytree': 0.7144564938865929} because of the following error: The value nan is not acceptable..\n",
      "[W 2023-08-02 20:19:55,611] Trial 169 failed with value nan.\n",
      "[W 2023-08-02 20:19:56,143] Trial 170 failed with parameters: {'booster': 'gblinear', 'lambda': 0.006664681646384125, 'alpha': 0.00039816933883833063, 'subsample': 0.6969772765630001, 'colsample_bytree': 0.5286931892446314} because of the following error: The value nan is not acceptable..\n",
      "[W 2023-08-02 20:19:56,144] Trial 170 failed with value nan.\n",
      "[W 2023-08-02 20:19:56,716] Trial 171 failed with parameters: {'booster': 'gblinear', 'lambda': 0.006824656621256743, 'alpha': 0.00022418114463817454, 'subsample': 0.7051991274575884, 'colsample_bytree': 0.5313466145788223} because of the following error: The value nan is not acceptable..\n",
      "[W 2023-08-02 20:19:56,717] Trial 171 failed with value nan.\n",
      "[W 2023-08-02 20:19:57,302] Trial 172 failed with parameters: {'booster': 'gblinear', 'lambda': 0.004762306367121975, 'alpha': 0.0002438283069481443, 'subsample': 0.6901866995928906, 'colsample_bytree': 0.5260544489112979} because of the following error: The value nan is not acceptable..\n",
      "[W 2023-08-02 20:19:57,303] Trial 172 failed with value nan.\n",
      "[W 2023-08-02 20:19:57,938] Trial 173 failed with parameters: {'booster': 'gblinear', 'lambda': 0.013000207681095338, 'alpha': 0.0005505674571256723, 'subsample': 0.7015518159668535, 'colsample_bytree': 0.529690085420704} because of the following error: The value nan is not acceptable..\n",
      "[W 2023-08-02 20:19:57,939] Trial 173 failed with value nan.\n",
      "[W 2023-08-02 20:19:58,602] Trial 174 failed with parameters: {'booster': 'gblinear', 'lambda': 0.013398678801560104, 'alpha': 0.00025443187582939073, 'subsample': 0.6623165613067437, 'colsample_bytree': 0.5176191437790825} because of the following error: The value nan is not acceptable..\n",
      "[W 2023-08-02 20:19:58,602] Trial 174 failed with value nan.\n",
      "[W 2023-08-02 20:19:59,209] Trial 175 failed with parameters: {'booster': 'gblinear', 'lambda': 0.008433058840910264, 'alpha': 9.293108801115812e-05, 'subsample': 0.7062264829962336, 'colsample_bytree': 0.5310918918203245} because of the following error: The value nan is not acceptable..\n",
      "[W 2023-08-02 20:19:59,210] Trial 175 failed with value nan.\n",
      "[W 2023-08-02 20:19:59,808] Trial 176 failed with parameters: {'booster': 'gblinear', 'lambda': 0.00027754833450069306, 'alpha': 0.000583939201632409, 'subsample': 0.685856783208285, 'colsample_bytree': 0.524811478728575} because of the following error: The value nan is not acceptable..\n",
      "[W 2023-08-02 20:19:59,809] Trial 176 failed with value nan.\n",
      "[W 2023-08-02 20:20:00,392] Trial 177 failed with parameters: {'booster': 'gblinear', 'lambda': 0.016101558719916885, 'alpha': 0.00026194242906335546, 'subsample': 0.7054897442788188, 'colsample_bytree': 0.5334600151124483} because of the following error: The value nan is not acceptable..\n",
      "[W 2023-08-02 20:20:00,394] Trial 177 failed with value nan.\n",
      "[W 2023-08-02 20:20:01,025] Trial 178 failed with parameters: {'booster': 'gblinear', 'lambda': 0.026358079392776682, 'alpha': 0.000416429897674541, 'subsample': 0.6884993268594112, 'colsample_bytree': 0.5313237444262564} because of the following error: The value nan is not acceptable..\n",
      "[W 2023-08-02 20:20:01,026] Trial 178 failed with value nan.\n",
      "[W 2023-08-02 20:20:01,687] Trial 179 failed with parameters: {'booster': 'gblinear', 'lambda': 0.01351732978641715, 'alpha': 0.00023952594019900495, 'subsample': 0.6922551233981143, 'colsample_bytree': 0.5330258509781962} because of the following error: The value nan is not acceptable..\n",
      "[W 2023-08-02 20:20:01,688] Trial 179 failed with value nan.\n",
      "[W 2023-08-02 20:20:02,295] Trial 180 failed with parameters: {'booster': 'gblinear', 'lambda': 0.035102677231030076, 'alpha': 0.0002598064031537203, 'subsample': 0.6812837942716994, 'colsample_bytree': 0.5312443355121561} because of the following error: The value nan is not acceptable..\n",
      "[W 2023-08-02 20:20:02,296] Trial 180 failed with value nan.\n",
      "[W 2023-08-02 20:20:02,916] Trial 181 failed with parameters: {'booster': 'gblinear', 'lambda': 0.013042833212050254, 'alpha': 0.0002634146739592623, 'subsample': 0.6898836484294728, 'colsample_bytree': 0.724193210817683} because of the following error: The value nan is not acceptable..\n",
      "[W 2023-08-02 20:20:02,917] Trial 181 failed with value nan.\n",
      "[W 2023-08-02 20:20:03,521] Trial 182 failed with parameters: {'booster': 'gblinear', 'lambda': 0.018412942803721116, 'alpha': 0.00024544467575892304, 'subsample': 0.6885482443242763, 'colsample_bytree': 0.543430476250107} because of the following error: The value nan is not acceptable..\n",
      "[W 2023-08-02 20:20:03,522] Trial 182 failed with value nan.\n",
      "[W 2023-08-02 20:20:04,136] Trial 183 failed with parameters: {'booster': 'gblinear', 'lambda': 0.006936513872150138, 'alpha': 0.0003093867798843923, 'subsample': 0.6988407951147984, 'colsample_bytree': 0.5292867304521054} because of the following error: The value nan is not acceptable..\n",
      "[W 2023-08-02 20:20:04,137] Trial 183 failed with value nan.\n",
      "[W 2023-08-02 20:20:04,778] Trial 184 failed with parameters: {'booster': 'gblinear', 'lambda': 0.022593385708373822, 'alpha': 0.0002810338906806902, 'subsample': 0.694820728951048, 'colsample_bytree': 0.5183209898989982} because of the following error: The value nan is not acceptable..\n",
      "[W 2023-08-02 20:20:04,780] Trial 184 failed with value nan.\n",
      "[W 2023-08-02 20:20:05,475] Trial 185 failed with parameters: {'booster': 'gblinear', 'lambda': 0.014147186990779246, 'alpha': 0.0004333024320537819, 'subsample': 0.6964530272322424, 'colsample_bytree': 0.5361154403675934} because of the following error: The value nan is not acceptable..\n",
      "[W 2023-08-02 20:20:05,477] Trial 185 failed with value nan.\n",
      "[W 2023-08-02 20:20:06,127] Trial 186 failed with parameters: {'booster': 'gblinear', 'lambda': 0.029710584588342942, 'alpha': 0.00027528835134471363, 'subsample': 0.6782968158697876, 'colsample_bytree': 0.5276881194233458} because of the following error: The value nan is not acceptable..\n",
      "[W 2023-08-02 20:20:06,129] Trial 186 failed with value nan.\n",
      "[W 2023-08-02 20:20:06,740] Trial 187 failed with parameters: {'booster': 'gblinear', 'lambda': 0.02224583029697852, 'alpha': 0.00023317039277999784, 'subsample': 0.708605691495995, 'colsample_bytree': 0.5253291060269055} because of the following error: The value nan is not acceptable..\n",
      "[W 2023-08-02 20:20:06,741] Trial 187 failed with value nan.\n",
      "[W 2023-08-02 20:20:07,383] Trial 188 failed with parameters: {'booster': 'gblinear', 'lambda': 0.014055604315016516, 'alpha': 0.00024695776455003907, 'subsample': 0.6900554432962377, 'colsample_bytree': 0.521203180443504} because of the following error: The value nan is not acceptable..\n",
      "[W 2023-08-02 20:20:07,384] Trial 188 failed with value nan.\n",
      "[W 2023-08-02 20:20:07,944] Trial 189 failed with parameters: {'booster': 'gblinear', 'lambda': 0.014466451885529216, 'alpha': 0.00012942925195060556, 'subsample': 0.7026594216848956, 'colsample_bytree': 0.5209242741067128} because of the following error: The value nan is not acceptable..\n",
      "[W 2023-08-02 20:20:07,945] Trial 189 failed with value nan.\n",
      "[W 2023-08-02 20:20:08,548] Trial 190 failed with parameters: {'booster': 'gblinear', 'lambda': 0.011054919715133121, 'alpha': 0.00039265987315472453, 'subsample': 0.6640949450693902, 'colsample_bytree': 0.5196234094843304} because of the following error: The value nan is not acceptable..\n",
      "[W 2023-08-02 20:20:08,548] Trial 190 failed with value nan.\n",
      "[W 2023-08-02 20:20:09,159] Trial 191 failed with parameters: {'booster': 'gblinear', 'lambda': 0.03818498896862288, 'alpha': 0.0001096938279547886, 'subsample': 0.7008921273087969, 'colsample_bytree': 0.7238876925900188} because of the following error: The value nan is not acceptable..\n",
      "[W 2023-08-02 20:20:09,160] Trial 191 failed with value nan.\n",
      "[W 2023-08-02 20:20:09,741] Trial 192 failed with parameters: {'booster': 'gblinear', 'lambda': 0.006622708795966776, 'alpha': 0.0004978600177101198, 'subsample': 0.6793370969989811, 'colsample_bytree': 0.5210626285630346} because of the following error: The value nan is not acceptable..\n",
      "[W 2023-08-02 20:20:09,743] Trial 192 failed with value nan.\n",
      "[W 2023-08-02 20:20:10,280] Trial 193 failed with parameters: {'booster': 'gblinear', 'lambda': 0.005540463416173961, 'alpha': 0.0006600709213741733, 'subsample': 0.6714571185468311, 'colsample_bytree': 0.526907344719978} because of the following error: The value nan is not acceptable..\n",
      "[W 2023-08-02 20:20:10,281] Trial 193 failed with value nan.\n",
      "[W 2023-08-02 20:20:10,857] Trial 194 failed with parameters: {'booster': 'gblinear', 'lambda': 0.012067436915652634, 'alpha': 0.0007814387122482908, 'subsample': 0.6844721443061248, 'colsample_bytree': 0.5222796984795142} because of the following error: The value nan is not acceptable..\n",
      "[W 2023-08-02 20:20:10,858] Trial 194 failed with value nan.\n",
      "[W 2023-08-02 20:20:11,450] Trial 195 failed with parameters: {'booster': 'gblinear', 'lambda': 0.012047808645988726, 'alpha': 0.00018239771915296076, 'subsample': 0.6592470296701465, 'colsample_bytree': 0.5271672229603005} because of the following error: The value nan is not acceptable..\n",
      "[W 2023-08-02 20:20:11,451] Trial 195 failed with value nan.\n",
      "[W 2023-08-02 20:20:11,991] Trial 196 failed with parameters: {'booster': 'gblinear', 'lambda': 0.00018923819607029172, 'alpha': 0.0004621769775419782, 'subsample': 0.6836133293119697, 'colsample_bytree': 0.5366542417792765} because of the following error: The value nan is not acceptable..\n",
      "[W 2023-08-02 20:20:11,992] Trial 196 failed with value nan.\n",
      "[W 2023-08-02 20:20:12,535] Trial 197 failed with parameters: {'booster': 'gblinear', 'lambda': 0.012107911745571385, 'alpha': 0.0006577545952992392, 'subsample': 0.6783828593093265, 'colsample_bytree': 0.5247132459857505} because of the following error: The value nan is not acceptable..\n",
      "[W 2023-08-02 20:20:12,536] Trial 197 failed with value nan.\n",
      "[W 2023-08-02 20:20:13,133] Trial 198 failed with parameters: {'booster': 'gblinear', 'lambda': 0.008461465614191923, 'alpha': 0.00010938060959336149, 'subsample': 0.6985048494166582, 'colsample_bytree': 0.527070933315732} because of the following error: The value nan is not acceptable..\n",
      "[W 2023-08-02 20:20:13,133] Trial 198 failed with value nan.\n",
      "[W 2023-08-02 20:20:13,761] Trial 199 failed with parameters: {'booster': 'gblinear', 'lambda': 0.012551312568485481, 'alpha': 0.00025345612666097706, 'subsample': 0.6930288135262448, 'colsample_bytree': 0.5259361761252788} because of the following error: The value nan is not acceptable..\n",
      "[W 2023-08-02 20:20:13,762] Trial 199 failed with value nan.\n",
      "[W 2023-08-02 20:20:14,490] Trial 200 failed with parameters: {'booster': 'gblinear', 'lambda': 0.012614455284877988, 'alpha': 0.000283796406934637, 'subsample': 0.6821685996257646, 'colsample_bytree': 0.5290501061676212} because of the following error: The value nan is not acceptable..\n",
      "[W 2023-08-02 20:20:14,491] Trial 200 failed with value nan.\n",
      "[W 2023-08-02 20:20:15,083] Trial 201 failed with parameters: {'booster': 'gblinear', 'lambda': 0.013829287100966819, 'alpha': 0.0009138423828710436, 'subsample': 0.6968861111125043, 'colsample_bytree': 0.5201280801467686} because of the following error: The value nan is not acceptable..\n",
      "[W 2023-08-02 20:20:15,084] Trial 201 failed with value nan.\n",
      "[W 2023-08-02 20:20:15,726] Trial 202 failed with parameters: {'booster': 'gblinear', 'lambda': 0.010340859949657711, 'alpha': 0.00035946606747220335, 'subsample': 0.6992077801440806, 'colsample_bytree': 0.5223845909005764} because of the following error: The value nan is not acceptable..\n",
      "[W 2023-08-02 20:20:15,727] Trial 202 failed with value nan.\n",
      "[W 2023-08-02 20:20:16,374] Trial 203 failed with parameters: {'booster': 'gblinear', 'lambda': 0.008628060965218452, 'alpha': 0.00034461556503115706, 'subsample': 0.6926948172954912, 'colsample_bytree': 0.5280378991763771} because of the following error: The value nan is not acceptable..\n",
      "[W 2023-08-02 20:20:16,375] Trial 203 failed with value nan.\n",
      "[W 2023-08-02 20:20:16,965] Trial 204 failed with parameters: {'booster': 'gblinear', 'lambda': 0.011096461389329525, 'alpha': 0.0008930693794991733, 'subsample': 0.6949678266705457, 'colsample_bytree': 0.5253235860378873} because of the following error: The value nan is not acceptable..\n",
      "[W 2023-08-02 20:20:16,965] Trial 204 failed with value nan.\n",
      "[W 2023-08-02 20:20:17,515] Trial 205 failed with parameters: {'booster': 'gblinear', 'lambda': 0.02642352562404083, 'alpha': 0.0003604133219983446, 'subsample': 0.7083655071506024, 'colsample_bytree': 0.5299143835864003} because of the following error: The value nan is not acceptable..\n",
      "[W 2023-08-02 20:20:17,516] Trial 205 failed with value nan.\n",
      "[W 2023-08-02 20:20:18,098] Trial 206 failed with parameters: {'booster': 'gblinear', 'lambda': 0.015229213350151562, 'alpha': 0.00032020373481069284, 'subsample': 0.688989367312852, 'colsample_bytree': 0.5109156391060439} because of the following error: The value nan is not acceptable..\n",
      "[W 2023-08-02 20:20:18,099] Trial 206 failed with value nan.\n",
      "[W 2023-08-02 20:20:18,665] Trial 207 failed with parameters: {'booster': 'gblinear', 'lambda': 0.012385352401918839, 'alpha': 0.00041642663750837385, 'subsample': 0.6964963179547148, 'colsample_bytree': 0.5217862533703865} because of the following error: The value nan is not acceptable..\n",
      "[W 2023-08-02 20:20:18,667] Trial 207 failed with value nan.\n",
      "[W 2023-08-02 20:20:19,227] Trial 208 failed with parameters: {'booster': 'gblinear', 'lambda': 0.010344500993455132, 'alpha': 0.0003260074919736096, 'subsample': 0.6993478471266245, 'colsample_bytree': 0.5197886945430413} because of the following error: The value nan is not acceptable..\n",
      "[W 2023-08-02 20:20:19,228] Trial 208 failed with value nan.\n",
      "[W 2023-08-02 20:20:19,820] Trial 209 failed with parameters: {'booster': 'gblinear', 'lambda': 0.01644800268499166, 'alpha': 0.000251973728425803, 'subsample': 0.6953555035143701, 'colsample_bytree': 0.5369124442087451} because of the following error: The value nan is not acceptable..\n",
      "[W 2023-08-02 20:20:19,821] Trial 209 failed with value nan.\n",
      "[W 2023-08-02 20:20:20,379] Trial 210 failed with parameters: {'booster': 'gblinear', 'lambda': 0.013118653886883627, 'alpha': 0.00017776816620813558, 'subsample': 0.6888577036829736, 'colsample_bytree': 0.5351726382069515} because of the following error: The value nan is not acceptable..\n",
      "[W 2023-08-02 20:20:20,380] Trial 210 failed with value nan.\n",
      "[W 2023-08-02 20:20:20,967] Trial 211 failed with parameters: {'booster': 'gblinear', 'lambda': 0.013785921769507723, 'alpha': 0.0006260928914989462, 'subsample': 0.6838241428077245, 'colsample_bytree': 0.5326090115474107} because of the following error: The value nan is not acceptable..\n",
      "[W 2023-08-02 20:20:20,968] Trial 211 failed with value nan.\n",
      "[W 2023-08-02 20:20:21,541] Trial 212 failed with parameters: {'booster': 'gblinear', 'lambda': 0.005528834434374835, 'alpha': 0.00030213245853886886, 'subsample': 0.6990423475692932, 'colsample_bytree': 0.5268191999154861} because of the following error: The value nan is not acceptable..\n",
      "[W 2023-08-02 20:20:21,542] Trial 212 failed with value nan.\n",
      "[W 2023-08-02 20:20:22,097] Trial 213 failed with parameters: {'booster': 'gblinear', 'lambda': 0.025080022734153332, 'alpha': 0.0004968564312739365, 'subsample': 0.6994028420286869, 'colsample_bytree': 0.7288221608774146} because of the following error: The value nan is not acceptable..\n",
      "[W 2023-08-02 20:20:22,098] Trial 213 failed with value nan.\n",
      "[W 2023-08-02 20:20:22,673] Trial 214 failed with parameters: {'booster': 'gblinear', 'lambda': 0.005258091037920853, 'alpha': 0.00027535700810132923, 'subsample': 0.7144919426044251, 'colsample_bytree': 0.7173175291870799} because of the following error: The value nan is not acceptable..\n",
      "[W 2023-08-02 20:20:22,674] Trial 214 failed with value nan.\n",
      "[W 2023-08-02 20:20:23,293] Trial 215 failed with parameters: {'booster': 'gblinear', 'lambda': 0.01230964242189024, 'alpha': 0.0005670123631628374, 'subsample': 0.7143475412520293, 'colsample_bytree': 0.5348233905719094} because of the following error: The value nan is not acceptable..\n",
      "[W 2023-08-02 20:20:23,294] Trial 215 failed with value nan.\n",
      "[W 2023-08-02 20:20:23,867] Trial 216 failed with parameters: {'booster': 'gblinear', 'lambda': 0.018521996496711268, 'alpha': 0.00018051193595159312, 'subsample': 0.6923491708469511, 'colsample_bytree': 0.526837668349581} because of the following error: The value nan is not acceptable..\n",
      "[W 2023-08-02 20:20:23,868] Trial 216 failed with value nan.\n",
      "[W 2023-08-02 20:20:24,487] Trial 217 failed with parameters: {'booster': 'gblinear', 'lambda': 0.004818476565839176, 'alpha': 0.0005479134128517051, 'subsample': 0.7083716328055764, 'colsample_bytree': 0.5229715566725335} because of the following error: The value nan is not acceptable..\n",
      "[W 2023-08-02 20:20:24,489] Trial 217 failed with value nan.\n",
      "[W 2023-08-02 20:20:25,055] Trial 218 failed with parameters: {'booster': 'gblinear', 'lambda': 0.004176906288095634, 'alpha': 0.0003725611601631219, 'subsample': 0.699446903598049, 'colsample_bytree': 0.5331988321393496} because of the following error: The value nan is not acceptable..\n",
      "[W 2023-08-02 20:20:25,056] Trial 218 failed with value nan.\n",
      "[W 2023-08-02 20:20:25,616] Trial 219 failed with parameters: {'booster': 'gblinear', 'lambda': 0.008460921070435596, 'alpha': 0.00030538402465213956, 'subsample': 0.7013659387144338, 'colsample_bytree': 0.5197591482800703} because of the following error: The value nan is not acceptable..\n",
      "[W 2023-08-02 20:20:25,617] Trial 219 failed with value nan.\n",
      "[W 2023-08-02 20:20:26,167] Trial 220 failed with parameters: {'booster': 'gblinear', 'lambda': 0.029301638393797572, 'alpha': 0.00020188689901104703, 'subsample': 0.6595980810399693, 'colsample_bytree': 0.5368922116791454} because of the following error: The value nan is not acceptable..\n",
      "[W 2023-08-02 20:20:26,168] Trial 220 failed with value nan.\n",
      "[W 2023-08-02 20:20:26,742] Trial 221 failed with parameters: {'booster': 'gblinear', 'lambda': 0.013000187204399135, 'alpha': 0.0002792960394072327, 'subsample': 0.6864248084355323, 'colsample_bytree': 0.7129619012740684} because of the following error: The value nan is not acceptable..\n",
      "[W 2023-08-02 20:20:26,743] Trial 221 failed with value nan.\n",
      "[W 2023-08-02 20:20:27,325] Trial 222 failed with parameters: {'booster': 'gblinear', 'lambda': 0.01295974052524098, 'alpha': 0.0001903545863013627, 'subsample': 0.6969124487812905, 'colsample_bytree': 0.7312412520332259} because of the following error: The value nan is not acceptable..\n",
      "[W 2023-08-02 20:20:27,326] Trial 222 failed with value nan.\n",
      "[W 2023-08-02 20:20:27,894] Trial 223 failed with parameters: {'booster': 'gblinear', 'lambda': 0.013932694243830934, 'alpha': 0.000527257527958501, 'subsample': 0.6774069659516906, 'colsample_bytree': 0.5222930955710444} because of the following error: The value nan is not acceptable..\n",
      "[W 2023-08-02 20:20:27,896] Trial 223 failed with value nan.\n",
      "[W 2023-08-02 20:20:28,524] Trial 224 failed with parameters: {'booster': 'gblinear', 'lambda': 0.013669567144176433, 'alpha': 0.0003207015808448583, 'subsample': 0.704878118109528, 'colsample_bytree': 0.5292639235897982} because of the following error: The value nan is not acceptable..\n",
      "[W 2023-08-02 20:20:28,524] Trial 224 failed with value nan.\n",
      "[W 2023-08-02 20:20:29,112] Trial 225 failed with parameters: {'booster': 'gblinear', 'lambda': 0.00025272986501028084, 'alpha': 0.00026450975915210626, 'subsample': 0.7059433730996527, 'colsample_bytree': 0.5033210828033643} because of the following error: The value nan is not acceptable..\n",
      "[W 2023-08-02 20:20:29,112] Trial 225 failed with value nan.\n",
      "[W 2023-08-02 20:20:29,714] Trial 226 failed with parameters: {'booster': 'gblinear', 'lambda': 0.010007032468666792, 'alpha': 0.00031002821409141225, 'subsample': 0.7010037244279664, 'colsample_bytree': 0.7233350641372014} because of the following error: The value nan is not acceptable..\n",
      "[W 2023-08-02 20:20:29,714] Trial 226 failed with value nan.\n",
      "[W 2023-08-02 20:20:30,359] Trial 227 failed with parameters: {'booster': 'gblinear', 'lambda': 0.009642486162670107, 'alpha': 0.00044810461412977807, 'subsample': 0.7036474172277708, 'colsample_bytree': 0.5265337897725061} because of the following error: The value nan is not acceptable..\n",
      "[W 2023-08-02 20:20:30,360] Trial 227 failed with value nan.\n",
      "[W 2023-08-02 20:20:30,946] Trial 228 failed with parameters: {'booster': 'gblinear', 'lambda': 0.015105665958341011, 'alpha': 0.0006106041286642806, 'subsample': 0.6984413060229864, 'colsample_bytree': 0.5290403692081984} because of the following error: The value nan is not acceptable..\n",
      "[W 2023-08-02 20:20:30,948] Trial 228 failed with value nan.\n",
      "[W 2023-08-02 20:20:31,532] Trial 229 failed with parameters: {'booster': 'gblinear', 'lambda': 0.012236538952558723, 'alpha': 0.0003023843656124705, 'subsample': 0.7001074850841371, 'colsample_bytree': 0.529113933914999} because of the following error: The value nan is not acceptable..\n",
      "[W 2023-08-02 20:20:31,533] Trial 229 failed with value nan.\n",
      "[W 2023-08-02 20:20:32,143] Trial 230 failed with parameters: {'booster': 'gblinear', 'lambda': 0.01784181380991543, 'alpha': 0.0003081667324717253, 'subsample': 0.7008366814461363, 'colsample_bytree': 0.530019666283331} because of the following error: The value nan is not acceptable..\n",
      "[W 2023-08-02 20:20:32,144] Trial 230 failed with value nan.\n",
      "[W 2023-08-02 20:20:32,806] Trial 231 failed with parameters: {'booster': 'gblinear', 'lambda': 0.010192334192284004, 'alpha': 0.0002860070334990314, 'subsample': 0.686380961116136, 'colsample_bytree': 0.5245428714613835} because of the following error: The value nan is not acceptable..\n",
      "[W 2023-08-02 20:20:32,808] Trial 231 failed with value nan.\n",
      "[W 2023-08-02 20:20:33,447] Trial 232 failed with parameters: {'booster': 'gblinear', 'lambda': 0.0329612328766818, 'alpha': 0.0003007202306579527, 'subsample': 0.6921691350475184, 'colsample_bytree': 0.5154862467495602} because of the following error: The value nan is not acceptable..\n",
      "[W 2023-08-02 20:20:33,449] Trial 232 failed with value nan.\n",
      "[W 2023-08-02 20:20:34,087] Trial 233 failed with parameters: {'booster': 'gblinear', 'lambda': 0.01462020570916254, 'alpha': 0.0002854308463286498, 'subsample': 0.6924836718077712, 'colsample_bytree': 0.5264339926921662} because of the following error: The value nan is not acceptable..\n",
      "[W 2023-08-02 20:20:34,089] Trial 233 failed with value nan.\n",
      "[W 2023-08-02 20:20:34,694] Trial 234 failed with parameters: {'booster': 'gblinear', 'lambda': 0.010906264935203261, 'alpha': 0.00030585088605556055, 'subsample': 0.6918912873833438, 'colsample_bytree': 0.7267192056106897} because of the following error: The value nan is not acceptable..\n",
      "[W 2023-08-02 20:20:34,695] Trial 234 failed with value nan.\n",
      "[W 2023-08-02 20:20:35,293] Trial 235 failed with parameters: {'booster': 'gblinear', 'lambda': 0.017048871647246833, 'alpha': 0.0002777230826588817, 'subsample': 0.7013039941883265, 'colsample_bytree': 0.7223540364939889} because of the following error: The value nan is not acceptable..\n",
      "[W 2023-08-02 20:20:35,295] Trial 235 failed with value nan.\n",
      "[W 2023-08-02 20:20:35,874] Trial 236 failed with parameters: {'booster': 'gblinear', 'lambda': 0.01215215858797605, 'alpha': 0.00043789943925985625, 'subsample': 0.7008692091665056, 'colsample_bytree': 0.5372593998863173} because of the following error: The value nan is not acceptable..\n",
      "[W 2023-08-02 20:20:35,875] Trial 236 failed with value nan.\n",
      "[W 2023-08-02 20:20:36,445] Trial 237 failed with parameters: {'booster': 'gblinear', 'lambda': 0.012900690184738973, 'alpha': 0.0006120418495958559, 'subsample': 0.7029083395608782, 'colsample_bytree': 0.5080750931775954} because of the following error: The value nan is not acceptable..\n",
      "[W 2023-08-02 20:20:36,446] Trial 237 failed with value nan.\n",
      "[W 2023-08-02 20:20:37,014] Trial 238 failed with parameters: {'booster': 'gblinear', 'lambda': 0.020621791973180096, 'alpha': 0.0003588095191783418, 'subsample': 0.693564512035504, 'colsample_bytree': 0.516953698220989} because of the following error: The value nan is not acceptable..\n",
      "[W 2023-08-02 20:20:37,015] Trial 238 failed with value nan.\n",
      "[W 2023-08-02 20:20:37,598] Trial 239 failed with parameters: {'booster': 'gblinear', 'lambda': 0.021110201556193718, 'alpha': 0.00026921201861745503, 'subsample': 0.6987298673021207, 'colsample_bytree': 0.5257570106272622} because of the following error: The value nan is not acceptable..\n",
      "[W 2023-08-02 20:20:37,599] Trial 239 failed with value nan.\n",
      "[W 2023-08-02 20:20:38,228] Trial 240 failed with parameters: {'booster': 'gblinear', 'lambda': 0.012450423507270577, 'alpha': 0.00043312511322542564, 'subsample': 0.6912168250895901, 'colsample_bytree': 0.5266412745260692} because of the following error: The value nan is not acceptable..\n",
      "[W 2023-08-02 20:20:38,229] Trial 240 failed with value nan.\n",
      "[W 2023-08-02 20:20:38,846] Trial 241 failed with parameters: {'booster': 'gblinear', 'lambda': 0.011120733780443079, 'alpha': 0.00039997150284375963, 'subsample': 0.6937084899506846, 'colsample_bytree': 0.5185538002080836} because of the following error: The value nan is not acceptable..\n",
      "[W 2023-08-02 20:20:38,846] Trial 241 failed with value nan.\n",
      "[W 2023-08-02 20:20:39,515] Trial 242 failed with parameters: {'booster': 'gblinear', 'lambda': 0.00970122931606472, 'alpha': 0.00018204059588956673, 'subsample': 0.6997451732896939, 'colsample_bytree': 0.51938290122457} because of the following error: The value nan is not acceptable..\n",
      "[W 2023-08-02 20:20:39,517] Trial 242 failed with value nan.\n",
      "[W 2023-08-02 20:20:40,140] Trial 243 failed with parameters: {'booster': 'gblinear', 'lambda': 0.015745984926291246, 'alpha': 0.00011557995688084034, 'subsample': 0.6966759360556434, 'colsample_bytree': 0.5211951050622675} because of the following error: The value nan is not acceptable..\n",
      "[W 2023-08-02 20:20:40,140] Trial 243 failed with value nan.\n",
      "[W 2023-08-02 20:20:40,765] Trial 244 failed with parameters: {'booster': 'gblinear', 'lambda': 0.01858230933192823, 'alpha': 0.0003165317614265509, 'subsample': 0.6900631113604362, 'colsample_bytree': 0.5215364256937598} because of the following error: The value nan is not acceptable..\n",
      "[W 2023-08-02 20:20:40,766] Trial 244 failed with value nan.\n",
      "[W 2023-08-02 20:20:41,346] Trial 245 failed with parameters: {'booster': 'gblinear', 'lambda': 0.011131390713512584, 'alpha': 0.0004158860500617031, 'subsample': 0.7007757506156158, 'colsample_bytree': 0.5132155178675852} because of the following error: The value nan is not acceptable..\n",
      "[W 2023-08-02 20:20:41,347] Trial 245 failed with value nan.\n",
      "[W 2023-08-02 20:20:41,938] Trial 246 failed with parameters: {'booster': 'gblinear', 'lambda': 0.009590608908709582, 'alpha': 0.0003068622622486056, 'subsample': 0.7017829511289164, 'colsample_bytree': 0.5184624790425505} because of the following error: The value nan is not acceptable..\n",
      "[W 2023-08-02 20:20:41,939] Trial 246 failed with value nan.\n",
      "[W 2023-08-02 20:20:42,486] Trial 247 failed with parameters: {'booster': 'gblinear', 'lambda': 0.0052857615971760065, 'alpha': 0.0001453984554308866, 'subsample': 0.6805095623418038, 'colsample_bytree': 0.5043418204481633} because of the following error: The value nan is not acceptable..\n",
      "[W 2023-08-02 20:20:42,487] Trial 247 failed with value nan.\n",
      "[W 2023-08-02 20:20:43,038] Trial 248 failed with parameters: {'booster': 'gblinear', 'lambda': 0.012664495164100393, 'alpha': 0.0003715310784647467, 'subsample': 0.6975489626030764, 'colsample_bytree': 0.5254802682754911} because of the following error: The value nan is not acceptable..\n",
      "[W 2023-08-02 20:20:43,039] Trial 248 failed with value nan.\n",
      "[W 2023-08-02 20:20:43,569] Trial 249 failed with parameters: {'booster': 'gblinear', 'lambda': 0.012897427536722949, 'alpha': 0.00037529423619574377, 'subsample': 0.6991708274691794, 'colsample_bytree': 0.514401364740484} because of the following error: The value nan is not acceptable..\n",
      "[W 2023-08-02 20:20:43,569] Trial 249 failed with value nan.\n",
      "[W 2023-08-02 20:20:44,116] Trial 250 failed with parameters: {'booster': 'gblinear', 'lambda': 0.012703292339941469, 'alpha': 0.00020184912647697027, 'subsample': 0.6859195066925499, 'colsample_bytree': 0.7237036154282872} because of the following error: The value nan is not acceptable..\n",
      "[W 2023-08-02 20:20:44,117] Trial 250 failed with value nan.\n",
      "[W 2023-08-02 20:20:44,681] Trial 251 failed with parameters: {'booster': 'gblinear', 'lambda': 0.017565272310725105, 'alpha': 0.0003908396277756289, 'subsample': 0.6963125057027426, 'colsample_bytree': 0.5194489367767049} because of the following error: The value nan is not acceptable..\n",
      "[W 2023-08-02 20:20:44,682] Trial 251 failed with value nan.\n",
      "[W 2023-08-02 20:20:45,229] Trial 252 failed with parameters: {'booster': 'gblinear', 'lambda': 0.01694182539966029, 'alpha': 0.0002497641099953871, 'subsample': 0.6934355065336355, 'colsample_bytree': 0.5223290535226431} because of the following error: The value nan is not acceptable..\n",
      "[W 2023-08-02 20:20:45,229] Trial 252 failed with value nan.\n",
      "[W 2023-08-02 20:20:45,759] Trial 253 failed with parameters: {'booster': 'gblinear', 'lambda': 0.015176591974321281, 'alpha': 9.238873746182525e-05, 'subsample': 0.6981226937362334, 'colsample_bytree': 0.5157330072120105} because of the following error: The value nan is not acceptable..\n",
      "[W 2023-08-02 20:20:45,760] Trial 253 failed with value nan.\n",
      "[W 2023-08-02 20:20:46,284] Trial 254 failed with parameters: {'booster': 'gblinear', 'lambda': 0.010662890919630769, 'alpha': 0.0003513987467538193, 'subsample': 0.6969999580732453, 'colsample_bytree': 0.52908755684112} because of the following error: The value nan is not acceptable..\n",
      "[W 2023-08-02 20:20:46,287] Trial 254 failed with value nan.\n",
      "[W 2023-08-02 20:20:46,910] Trial 255 failed with parameters: {'booster': 'gblinear', 'lambda': 0.0001466785632546332, 'alpha': 0.0003312227715255368, 'subsample': 0.6474689970363448, 'colsample_bytree': 0.5159573404804791} because of the following error: The value nan is not acceptable..\n",
      "[W 2023-08-02 20:20:46,916] Trial 255 failed with value nan.\n",
      "[W 2023-08-02 20:20:47,479] Trial 256 failed with parameters: {'booster': 'gblinear', 'lambda': 0.012279420979097972, 'alpha': 0.00017854872434044607, 'subsample': 0.6960567940644067, 'colsample_bytree': 0.5296477341133907} because of the following error: The value nan is not acceptable..\n",
      "[W 2023-08-02 20:20:47,479] Trial 256 failed with value nan.\n",
      "[W 2023-08-02 20:20:48,042] Trial 257 failed with parameters: {'booster': 'gblinear', 'lambda': 0.02205633369477367, 'alpha': 0.00036653872564251615, 'subsample': 0.701864307545045, 'colsample_bytree': 0.5265002716915269} because of the following error: The value nan is not acceptable..\n",
      "[W 2023-08-02 20:20:48,043] Trial 257 failed with value nan.\n",
      "[W 2023-08-02 20:20:48,606] Trial 258 failed with parameters: {'booster': 'gblinear', 'lambda': 0.0131420531756681, 'alpha': 0.00035381695106457216, 'subsample': 0.7036106114348895, 'colsample_bytree': 0.5194886860654205} because of the following error: The value nan is not acceptable..\n",
      "[W 2023-08-02 20:20:48,607] Trial 258 failed with value nan.\n",
      "[W 2023-08-02 20:20:49,179] Trial 259 failed with parameters: {'booster': 'gblinear', 'lambda': 0.007017752037415067, 'alpha': 0.0002708714538991114, 'subsample': 0.7035452248236782, 'colsample_bytree': 0.7197461109806298} because of the following error: The value nan is not acceptable..\n",
      "[W 2023-08-02 20:20:49,180] Trial 259 failed with value nan.\n",
      "[W 2023-08-02 20:20:49,754] Trial 260 failed with parameters: {'booster': 'gblinear', 'lambda': 0.009129699741362771, 'alpha': 0.00017096038329860737, 'subsample': 0.6955108327862193, 'colsample_bytree': 0.5340761058192351} because of the following error: The value nan is not acceptable..\n",
      "[W 2023-08-02 20:20:49,755] Trial 260 failed with value nan.\n",
      "[W 2023-08-02 20:20:50,341] Trial 261 failed with parameters: {'booster': 'gblinear', 'lambda': 0.019931188383198645, 'alpha': 0.0003151238056866316, 'subsample': 0.6968506939048709, 'colsample_bytree': 0.5351473636455403} because of the following error: The value nan is not acceptable..\n",
      "[W 2023-08-02 20:20:50,342] Trial 261 failed with value nan.\n",
      "[W 2023-08-02 20:20:50,975] Trial 262 failed with parameters: {'booster': 'gblinear', 'lambda': 0.009941546194735612, 'alpha': 0.0002574374561931008, 'subsample': 0.6925374960871427, 'colsample_bytree': 0.5132278981308669} because of the following error: The value nan is not acceptable..\n",
      "[W 2023-08-02 20:20:50,976] Trial 262 failed with value nan.\n",
      "[W 2023-08-02 20:20:51,569] Trial 263 failed with parameters: {'booster': 'gblinear', 'lambda': 0.018484751083780202, 'alpha': 0.00035629910898222556, 'subsample': 0.6988492958124057, 'colsample_bytree': 0.5208048593639885} because of the following error: The value nan is not acceptable..\n",
      "[W 2023-08-02 20:20:51,569] Trial 263 failed with value nan.\n",
      "[W 2023-08-02 20:20:52,193] Trial 264 failed with parameters: {'booster': 'gblinear', 'lambda': 0.026051239048971317, 'alpha': 0.0003284423188065283, 'subsample': 0.6720717094387958, 'colsample_bytree': 0.5149434527373971} because of the following error: The value nan is not acceptable..\n",
      "[W 2023-08-02 20:20:52,194] Trial 264 failed with value nan.\n",
      "[W 2023-08-02 20:20:52,801] Trial 265 failed with parameters: {'booster': 'gblinear', 'lambda': 0.015300734679200888, 'alpha': 0.0004501827470098461, 'subsample': 0.7003404013075938, 'colsample_bytree': 0.5273424683145419} because of the following error: The value nan is not acceptable..\n",
      "[W 2023-08-02 20:20:52,802] Trial 265 failed with value nan.\n",
      "[W 2023-08-02 20:20:53,405] Trial 266 failed with parameters: {'booster': 'gblinear', 'lambda': 0.007221204193526193, 'alpha': 0.00020838486703241788, 'subsample': 0.6777243839599785, 'colsample_bytree': 0.5277083831214997} because of the following error: The value nan is not acceptable..\n",
      "[W 2023-08-02 20:20:53,406] Trial 266 failed with value nan.\n",
      "[W 2023-08-02 20:20:54,021] Trial 267 failed with parameters: {'booster': 'gblinear', 'lambda': 0.01470255115687428, 'alpha': 0.0002753908711574331, 'subsample': 0.7006276315767143, 'colsample_bytree': 0.5365726683530727} because of the following error: The value nan is not acceptable..\n",
      "[W 2023-08-02 20:20:54,025] Trial 267 failed with value nan.\n",
      "[W 2023-08-02 20:20:54,598] Trial 268 failed with parameters: {'booster': 'gblinear', 'lambda': 0.008388030119389578, 'alpha': 0.00031652169777386945, 'subsample': 0.7070536752627649, 'colsample_bytree': 0.5335624912467599} because of the following error: The value nan is not acceptable..\n",
      "[W 2023-08-02 20:20:54,599] Trial 268 failed with value nan.\n",
      "[W 2023-08-02 20:20:55,235] Trial 269 failed with parameters: {'booster': 'gblinear', 'lambda': 0.01028663037489952, 'alpha': 0.00034068162184550376, 'subsample': 0.6946754487036675, 'colsample_bytree': 0.5229510637380353} because of the following error: The value nan is not acceptable..\n",
      "[W 2023-08-02 20:20:55,237] Trial 269 failed with value nan.\n",
      "[W 2023-08-02 20:20:55,862] Trial 270 failed with parameters: {'booster': 'gblinear', 'lambda': 0.007026154373259361, 'alpha': 0.0002260140531835752, 'subsample': 0.6969844639370608, 'colsample_bytree': 0.5330667428962234} because of the following error: The value nan is not acceptable..\n",
      "[W 2023-08-02 20:20:55,864] Trial 270 failed with value nan.\n",
      "[W 2023-08-02 20:20:56,487] Trial 271 failed with parameters: {'booster': 'gblinear', 'lambda': 0.009867205804390714, 'alpha': 0.00012393779114724495, 'subsample': 0.6810001316698104, 'colsample_bytree': 0.5380302444325586} because of the following error: The value nan is not acceptable..\n",
      "[W 2023-08-02 20:20:56,488] Trial 271 failed with value nan.\n",
      "[W 2023-08-02 20:20:57,136] Trial 272 failed with parameters: {'booster': 'gblinear', 'lambda': 0.02242102511655723, 'alpha': 0.0003282956523782574, 'subsample': 0.6758928515726792, 'colsample_bytree': 0.5280735117720141} because of the following error: The value nan is not acceptable..\n",
      "[W 2023-08-02 20:20:57,137] Trial 272 failed with value nan.\n",
      "[W 2023-08-02 20:20:57,742] Trial 273 failed with parameters: {'booster': 'gblinear', 'lambda': 0.005844982881509774, 'alpha': 0.00030255971031335895, 'subsample': 0.6994194522886881, 'colsample_bytree': 0.5292032563618838} because of the following error: The value nan is not acceptable..\n",
      "[W 2023-08-02 20:20:57,743] Trial 273 failed with value nan.\n",
      "[W 2023-08-02 20:20:58,305] Trial 274 failed with parameters: {'booster': 'gblinear', 'lambda': 0.020692097993913333, 'alpha': 0.00038414411847066037, 'subsample': 0.6956558685759922, 'colsample_bytree': 0.5238931854223102} because of the following error: The value nan is not acceptable..\n",
      "[W 2023-08-02 20:20:58,308] Trial 274 failed with value nan.\n",
      "[W 2023-08-02 20:20:58,951] Trial 275 failed with parameters: {'booster': 'gblinear', 'lambda': 0.008501718470254717, 'alpha': 0.0003621204698969304, 'subsample': 0.6868378639376871, 'colsample_bytree': 0.5330198714820228} because of the following error: The value nan is not acceptable..\n",
      "[W 2023-08-02 20:20:58,952] Trial 275 failed with value nan.\n",
      "[W 2023-08-02 20:20:59,505] Trial 276 failed with parameters: {'booster': 'gblinear', 'lambda': 0.006086911647145279, 'alpha': 0.0001702545537252655, 'subsample': 0.681593285310436, 'colsample_bytree': 0.5194183405935815} because of the following error: The value nan is not acceptable..\n",
      "[W 2023-08-02 20:20:59,505] Trial 276 failed with value nan.\n",
      "[W 2023-08-02 20:21:00,116] Trial 277 failed with parameters: {'booster': 'gblinear', 'lambda': 0.02899768803560282, 'alpha': 0.0004784223636933817, 'subsample': 0.6962525065560925, 'colsample_bytree': 0.532352966653209} because of the following error: The value nan is not acceptable..\n",
      "[W 2023-08-02 20:21:00,117] Trial 277 failed with value nan.\n",
      "[W 2023-08-02 20:21:00,686] Trial 278 failed with parameters: {'booster': 'gblinear', 'lambda': 0.01452829888542036, 'alpha': 0.0003987980072550426, 'subsample': 0.6770847099405951, 'colsample_bytree': 0.5309887014795723} because of the following error: The value nan is not acceptable..\n",
      "[W 2023-08-02 20:21:00,687] Trial 278 failed with value nan.\n",
      "[W 2023-08-02 20:21:01,262] Trial 279 failed with parameters: {'booster': 'gblinear', 'lambda': 0.013397096956961174, 'alpha': 0.00033574447138205873, 'subsample': 0.7064090230018311, 'colsample_bytree': 0.5351871433038113} because of the following error: The value nan is not acceptable..\n",
      "[W 2023-08-02 20:21:01,263] Trial 279 failed with value nan.\n",
      "[W 2023-08-02 20:21:01,819] Trial 280 failed with parameters: {'booster': 'gblinear', 'lambda': 0.012323814025226566, 'alpha': 0.00046712496275902715, 'subsample': 0.6967478838430277, 'colsample_bytree': 0.5362665204539279} because of the following error: The value nan is not acceptable..\n",
      "[W 2023-08-02 20:21:01,820] Trial 280 failed with value nan.\n",
      "[W 2023-08-02 20:21:02,389] Trial 281 failed with parameters: {'booster': 'gblinear', 'lambda': 0.019698893332818043, 'alpha': 0.00042156392242391564, 'subsample': 0.6955843185828804, 'colsample_bytree': 0.7100821162651544} because of the following error: The value nan is not acceptable..\n",
      "[W 2023-08-02 20:21:02,389] Trial 281 failed with value nan.\n",
      "[W 2023-08-02 20:21:02,935] Trial 282 failed with parameters: {'booster': 'gblinear', 'lambda': 0.00879255531571573, 'alpha': 0.0002794540982287308, 'subsample': 0.7002553093877053, 'colsample_bytree': 0.5241938322744821} because of the following error: The value nan is not acceptable..\n",
      "[W 2023-08-02 20:21:02,936] Trial 282 failed with value nan.\n",
      "[W 2023-08-02 20:21:03,512] Trial 283 failed with parameters: {'booster': 'gblinear', 'lambda': 0.013110312881521162, 'alpha': 0.0002794159049674282, 'subsample': 0.7129078065167426, 'colsample_bytree': 0.5306381251279676} because of the following error: The value nan is not acceptable..\n",
      "[W 2023-08-02 20:21:03,512] Trial 283 failed with value nan.\n",
      "[W 2023-08-02 20:21:04,090] Trial 284 failed with parameters: {'booster': 'gblinear', 'lambda': 0.010843743944032558, 'alpha': 0.00017074178818393272, 'subsample': 0.6941380212689284, 'colsample_bytree': 0.5297086813666073} because of the following error: The value nan is not acceptable..\n",
      "[W 2023-08-02 20:21:04,097] Trial 284 failed with value nan.\n",
      "[W 2023-08-02 20:21:04,707] Trial 285 failed with parameters: {'booster': 'gblinear', 'lambda': 0.009310697697082364, 'alpha': 0.0003104412414253418, 'subsample': 0.6957029607575906, 'colsample_bytree': 0.5245024617945923} because of the following error: The value nan is not acceptable..\n",
      "[W 2023-08-02 20:21:04,708] Trial 285 failed with value nan.\n",
      "[W 2023-08-02 20:21:05,344] Trial 286 failed with parameters: {'booster': 'gblinear', 'lambda': 0.011739943192980417, 'alpha': 0.0005920240837636328, 'subsample': 0.70067177112319, 'colsample_bytree': 0.5129809686190491} because of the following error: The value nan is not acceptable..\n",
      "[W 2023-08-02 20:21:05,345] Trial 286 failed with value nan.\n",
      "[W 2023-08-02 20:21:05,995] Trial 287 failed with parameters: {'booster': 'gblinear', 'lambda': 0.01068666052351771, 'alpha': 0.00025836788443839965, 'subsample': 0.6454057496407801, 'colsample_bytree': 0.5279775063385527} because of the following error: The value nan is not acceptable..\n",
      "[W 2023-08-02 20:21:05,996] Trial 287 failed with value nan.\n",
      "[W 2023-08-02 20:21:06,642] Trial 288 failed with parameters: {'booster': 'gblinear', 'lambda': 0.01839933556809292, 'alpha': 0.00020989177484214444, 'subsample': 0.6924884606652519, 'colsample_bytree': 0.5181836515719811} because of the following error: The value nan is not acceptable..\n",
      "[W 2023-08-02 20:21:06,643] Trial 288 failed with value nan.\n",
      "[W 2023-08-02 20:21:07,236] Trial 289 failed with parameters: {'booster': 'gblinear', 'lambda': 0.007964753573254072, 'alpha': 0.0012964680780117915, 'subsample': 0.6919634803821411, 'colsample_bytree': 0.5231347698870483} because of the following error: The value nan is not acceptable..\n",
      "[W 2023-08-02 20:21:07,237] Trial 289 failed with value nan.\n",
      "[W 2023-08-02 20:21:07,931] Trial 290 failed with parameters: {'booster': 'gblinear', 'lambda': 0.035676017849391964, 'alpha': 0.00028837303483331134, 'subsample': 0.6873031378647487, 'colsample_bytree': 0.5293598344183467} because of the following error: The value nan is not acceptable..\n",
      "[W 2023-08-02 20:21:07,932] Trial 290 failed with value nan.\n",
      "[W 2023-08-02 20:21:08,528] Trial 291 failed with parameters: {'booster': 'gblinear', 'lambda': 0.010511416730042735, 'alpha': 0.0002510926406243954, 'subsample': 0.7003322082410244, 'colsample_bytree': 0.5410262278576539} because of the following error: The value nan is not acceptable..\n",
      "[W 2023-08-02 20:21:08,529] Trial 291 failed with value nan.\n",
      "[W 2023-08-02 20:21:09,159] Trial 292 failed with parameters: {'booster': 'gblinear', 'lambda': 0.008976117568985562, 'alpha': 0.00026680982583192684, 'subsample': 0.6823778244360139, 'colsample_bytree': 0.5129098185350051} because of the following error: The value nan is not acceptable..\n",
      "[W 2023-08-02 20:21:09,160] Trial 292 failed with value nan.\n",
      "[W 2023-08-02 20:21:09,725] Trial 293 failed with parameters: {'booster': 'gblinear', 'lambda': 0.011921199235505333, 'alpha': 0.0001474347224833775, 'subsample': 0.7077166080242016, 'colsample_bytree': 0.5362281835992992} because of the following error: The value nan is not acceptable..\n",
      "[W 2023-08-02 20:21:09,726] Trial 293 failed with value nan.\n",
      "[W 2023-08-02 20:21:10,304] Trial 294 failed with parameters: {'booster': 'gblinear', 'lambda': 0.011999516701817948, 'alpha': 0.0002497048707744028, 'subsample': 0.6888613287419515, 'colsample_bytree': 0.5306652797519609} because of the following error: The value nan is not acceptable..\n",
      "[W 2023-08-02 20:21:10,305] Trial 294 failed with value nan.\n",
      "[W 2023-08-02 20:21:10,857] Trial 295 failed with parameters: {'booster': 'gblinear', 'lambda': 0.01598940887350691, 'alpha': 0.0006451725599492293, 'subsample': 0.6942045094232719, 'colsample_bytree': 0.7157636269708568} because of the following error: The value nan is not acceptable..\n",
      "[W 2023-08-02 20:21:10,858] Trial 295 failed with value nan.\n",
      "[W 2023-08-02 20:21:11,377] Trial 296 failed with parameters: {'booster': 'gblinear', 'lambda': 0.01719816914121575, 'alpha': 0.0004127824152295281, 'subsample': 0.7014918580922548, 'colsample_bytree': 0.5275580159958481} because of the following error: The value nan is not acceptable..\n",
      "[W 2023-08-02 20:21:11,378] Trial 296 failed with value nan.\n",
      "[W 2023-08-02 20:21:11,979] Trial 297 failed with parameters: {'booster': 'gblinear', 'lambda': 0.016732450806244453, 'alpha': 0.00031938330088477696, 'subsample': 0.6910873756684287, 'colsample_bytree': 0.5263676606891016} because of the following error: The value nan is not acceptable..\n",
      "[W 2023-08-02 20:21:11,980] Trial 297 failed with value nan.\n",
      "[W 2023-08-02 20:21:12,568] Trial 298 failed with parameters: {'booster': 'gblinear', 'lambda': 0.01993944035133635, 'alpha': 0.0005244050071292364, 'subsample': 0.6849465710978306, 'colsample_bytree': 0.5377238284560083} because of the following error: The value nan is not acceptable..\n",
      "[W 2023-08-02 20:21:12,569] Trial 298 failed with value nan.\n",
      "[W 2023-08-02 20:21:13,250] Trial 299 failed with parameters: {'booster': 'gblinear', 'lambda': 0.02435421075533615, 'alpha': 0.0005259723128907286, 'subsample': 0.7006581425731317, 'colsample_bytree': 0.5270929239758535} because of the following error: The value nan is not acceptable..\n",
      "[W 2023-08-02 20:21:13,250] Trial 299 failed with value nan.\n",
      "[W 2023-08-02 20:21:13,819] Trial 300 failed with parameters: {'booster': 'gblinear', 'lambda': 0.010703649875842424, 'alpha': 0.00026230543366014745, 'subsample': 0.7001206706015595, 'colsample_bytree': 0.5198258138128193} because of the following error: The value nan is not acceptable..\n",
      "[W 2023-08-02 20:21:13,820] Trial 300 failed with value nan.\n",
      "[W 2023-08-02 20:21:14,406] Trial 301 failed with parameters: {'booster': 'gblinear', 'lambda': 0.015516831986371032, 'alpha': 0.00013531766178676951, 'subsample': 0.6969549627914027, 'colsample_bytree': 0.5260566096175747} because of the following error: The value nan is not acceptable..\n",
      "[W 2023-08-02 20:21:14,407] Trial 301 failed with value nan.\n",
      "[W 2023-08-02 20:21:14,957] Trial 302 failed with parameters: {'booster': 'gblinear', 'lambda': 0.013941268108858746, 'alpha': 0.0003224958724436656, 'subsample': 0.6966001025789939, 'colsample_bytree': 0.5362331540438587} because of the following error: The value nan is not acceptable..\n",
      "[W 2023-08-02 20:21:14,958] Trial 302 failed with value nan.\n",
      "[W 2023-08-02 20:21:15,518] Trial 303 failed with parameters: {'booster': 'gblinear', 'lambda': 0.018494170773964962, 'alpha': 0.00037508449519567724, 'subsample': 0.6948574165155075, 'colsample_bytree': 0.5099678936225494} because of the following error: The value nan is not acceptable..\n",
      "[W 2023-08-02 20:21:15,519] Trial 303 failed with value nan.\n",
      "[W 2023-08-02 20:21:16,126] Trial 304 failed with parameters: {'booster': 'gblinear', 'lambda': 0.012349131478757644, 'alpha': 0.00016169338391046158, 'subsample': 0.7170201104059206, 'colsample_bytree': 0.5142546690524683} because of the following error: The value nan is not acceptable..\n",
      "[W 2023-08-02 20:21:16,127] Trial 304 failed with value nan.\n",
      "[W 2023-08-02 20:21:16,684] Trial 305 failed with parameters: {'booster': 'gblinear', 'lambda': 0.01643714650722163, 'alpha': 0.0003378657024555877, 'subsample': 0.6958455762781487, 'colsample_bytree': 0.5393905533924516} because of the following error: The value nan is not acceptable..\n",
      "[W 2023-08-02 20:21:16,685] Trial 305 failed with value nan.\n",
      "[W 2023-08-02 20:21:17,311] Trial 306 failed with parameters: {'booster': 'gblinear', 'lambda': 0.0063002893642178405, 'alpha': 0.00025692085127509306, 'subsample': 0.6930906331493542, 'colsample_bytree': 0.7236693323383347} because of the following error: The value nan is not acceptable..\n",
      "[W 2023-08-02 20:21:17,313] Trial 306 failed with value nan.\n",
      "[W 2023-08-02 20:21:17,907] Trial 307 failed with parameters: {'booster': 'gblinear', 'lambda': 0.01280444414235028, 'alpha': 0.00041897329818168594, 'subsample': 0.6980204513912185, 'colsample_bytree': 0.5144753346490538} because of the following error: The value nan is not acceptable..\n",
      "[W 2023-08-02 20:21:17,908] Trial 307 failed with value nan.\n",
      "[W 2023-08-02 20:21:18,534] Trial 308 failed with parameters: {'booster': 'gblinear', 'lambda': 0.006584790587357731, 'alpha': 0.0009334437600403317, 'subsample': 0.6912862734921051, 'colsample_bytree': 0.5276219239429333} because of the following error: The value nan is not acceptable..\n",
      "[W 2023-08-02 20:21:18,535] Trial 308 failed with value nan.\n",
      "[W 2023-08-02 20:21:19,099] Trial 309 failed with parameters: {'booster': 'gblinear', 'lambda': 0.012454163049771611, 'alpha': 0.00040516090690488924, 'subsample': 0.6844990601463622, 'colsample_bytree': 0.5353499301970737} because of the following error: The value nan is not acceptable..\n",
      "[W 2023-08-02 20:21:19,100] Trial 309 failed with value nan.\n",
      "[W 2023-08-02 20:21:19,713] Trial 310 failed with parameters: {'booster': 'gblinear', 'lambda': 0.01772720867834776, 'alpha': 0.0003355041799078659, 'subsample': 0.7057877024544702, 'colsample_bytree': 0.724682147416029} because of the following error: The value nan is not acceptable..\n",
      "[W 2023-08-02 20:21:19,713] Trial 310 failed with value nan.\n",
      "[W 2023-08-02 20:21:20,290] Trial 311 failed with parameters: {'booster': 'gblinear', 'lambda': 0.007790981635345606, 'alpha': 0.0008190322188598479, 'subsample': 0.6957721208824726, 'colsample_bytree': 0.5263254927094569} because of the following error: The value nan is not acceptable..\n",
      "[W 2023-08-02 20:21:20,290] Trial 311 failed with value nan.\n",
      "[W 2023-08-02 20:21:20,839] Trial 312 failed with parameters: {'booster': 'gblinear', 'lambda': 0.010322549146625927, 'alpha': 0.00027577625483746676, 'subsample': 0.7041285782353227, 'colsample_bytree': 0.5286644673184089} because of the following error: The value nan is not acceptable..\n",
      "[W 2023-08-02 20:21:20,840] Trial 312 failed with value nan.\n",
      "[W 2023-08-02 20:21:21,572] Trial 313 failed with parameters: {'booster': 'gblinear', 'lambda': 0.013503096870963719, 'alpha': 0.00031494229720529794, 'subsample': 0.6979689397585244, 'colsample_bytree': 0.5264311920303404} because of the following error: The value nan is not acceptable..\n",
      "[W 2023-08-02 20:21:21,572] Trial 313 failed with value nan.\n",
      "[W 2023-08-02 20:21:22,207] Trial 314 failed with parameters: {'booster': 'gblinear', 'lambda': 0.00988512983785333, 'alpha': 0.0003574415925702691, 'subsample': 0.6942973842023545, 'colsample_bytree': 0.5244822006538277} because of the following error: The value nan is not acceptable..\n",
      "[W 2023-08-02 20:21:22,208] Trial 314 failed with value nan.\n",
      "[W 2023-08-02 20:21:22,847] Trial 315 failed with parameters: {'booster': 'gblinear', 'lambda': 0.01551086433345995, 'alpha': 0.00031129082265825346, 'subsample': 0.6986928675390403, 'colsample_bytree': 0.5334302943705748} because of the following error: The value nan is not acceptable..\n",
      "[W 2023-08-02 20:21:22,852] Trial 315 failed with value nan.\n",
      "[W 2023-08-02 20:21:23,409] Trial 316 failed with parameters: {'booster': 'gblinear', 'lambda': 0.01078419484724607, 'alpha': 0.00032670190869269936, 'subsample': 0.6964575475144645, 'colsample_bytree': 0.5258271181233753} because of the following error: The value nan is not acceptable..\n",
      "[W 2023-08-02 20:21:23,409] Trial 316 failed with value nan.\n",
      "[W 2023-08-02 20:21:23,995] Trial 317 failed with parameters: {'booster': 'gblinear', 'lambda': 0.010749098968109343, 'alpha': 0.0003132945791337963, 'subsample': 0.679963473834432, 'colsample_bytree': 0.5364140718040433} because of the following error: The value nan is not acceptable..\n",
      "[W 2023-08-02 20:21:23,996] Trial 317 failed with value nan.\n",
      "[W 2023-08-02 20:21:24,574] Trial 318 failed with parameters: {'booster': 'gblinear', 'lambda': 0.015827674805792506, 'alpha': 0.0003066436365826913, 'subsample': 0.6882587979152595, 'colsample_bytree': 0.5250661422680836} because of the following error: The value nan is not acceptable..\n",
      "[W 2023-08-02 20:21:24,574] Trial 318 failed with value nan.\n",
      "[W 2023-08-02 20:21:25,162] Trial 319 failed with parameters: {'booster': 'gblinear', 'lambda': 0.005689218569163092, 'alpha': 0.0003541017787560479, 'subsample': 0.6960848751609526, 'colsample_bytree': 0.5390389520134732} because of the following error: The value nan is not acceptable..\n",
      "[W 2023-08-02 20:21:25,162] Trial 319 failed with value nan.\n",
      "[W 2023-08-02 20:21:25,718] Trial 320 failed with parameters: {'booster': 'gblinear', 'lambda': 0.011529573916023446, 'alpha': 0.0003792580422129507, 'subsample': 0.7004571895365597, 'colsample_bytree': 0.538379914865697} because of the following error: The value nan is not acceptable..\n",
      "[W 2023-08-02 20:21:25,719] Trial 320 failed with value nan.\n",
      "[W 2023-08-02 20:21:26,284] Trial 321 failed with parameters: {'booster': 'gblinear', 'lambda': 0.01935299854349103, 'alpha': 9.345850195639073e-05, 'subsample': 0.69478512780494, 'colsample_bytree': 0.7262150726529583} because of the following error: The value nan is not acceptable..\n",
      "[W 2023-08-02 20:21:26,285] Trial 321 failed with value nan.\n",
      "[W 2023-08-02 20:21:26,827] Trial 322 failed with parameters: {'booster': 'gblinear', 'lambda': 0.005894082857483505, 'alpha': 0.0005889528572464224, 'subsample': 0.698421914165914, 'colsample_bytree': 0.5169688620293488} because of the following error: The value nan is not acceptable..\n",
      "[W 2023-08-02 20:21:26,828] Trial 322 failed with value nan.\n",
      "[W 2023-08-02 20:21:27,423] Trial 323 failed with parameters: {'booster': 'gblinear', 'lambda': 0.007959701528932132, 'alpha': 0.0006484957368384592, 'subsample': 0.7089887365983065, 'colsample_bytree': 0.5205832249771354} because of the following error: The value nan is not acceptable..\n",
      "[W 2023-08-02 20:21:27,423] Trial 323 failed with value nan.\n",
      "[W 2023-08-02 20:21:28,020] Trial 324 failed with parameters: {'booster': 'gblinear', 'lambda': 0.01235013553207527, 'alpha': 0.0003727287291655849, 'subsample': 0.6801620934574497, 'colsample_bytree': 0.5363447123624062} because of the following error: The value nan is not acceptable..\n",
      "[W 2023-08-02 20:21:28,020] Trial 324 failed with value nan.\n",
      "[W 2023-08-02 20:21:28,635] Trial 325 failed with parameters: {'booster': 'gblinear', 'lambda': 0.03404976562149058, 'alpha': 0.00043889373840621046, 'subsample': 0.6871131797742258, 'colsample_bytree': 0.5232295564200138} because of the following error: The value nan is not acceptable..\n",
      "[W 2023-08-02 20:21:28,636] Trial 325 failed with value nan.\n",
      "[W 2023-08-02 20:21:29,261] Trial 326 failed with parameters: {'booster': 'gblinear', 'lambda': 0.011902881781657309, 'alpha': 0.0007652447497557545, 'subsample': 0.6741688219529537, 'colsample_bytree': 0.5276949470200454} because of the following error: The value nan is not acceptable..\n",
      "[W 2023-08-02 20:21:29,262] Trial 326 failed with value nan.\n",
      "[W 2023-08-02 20:21:29,889] Trial 327 failed with parameters: {'booster': 'gblinear', 'lambda': 0.013280034012267383, 'alpha': 0.0005253861481199487, 'subsample': 0.7019551734003194, 'colsample_bytree': 0.7285569758530208} because of the following error: The value nan is not acceptable..\n",
      "[W 2023-08-02 20:21:29,892] Trial 327 failed with value nan.\n",
      "[W 2023-08-02 20:21:30,473] Trial 328 failed with parameters: {'booster': 'gblinear', 'lambda': 0.006941809803163581, 'alpha': 0.0004146435773412476, 'subsample': 0.7000949257464265, 'colsample_bytree': 0.5295271668425381} because of the following error: The value nan is not acceptable..\n",
      "[W 2023-08-02 20:21:30,474] Trial 328 failed with value nan.\n",
      "[I 2023-08-02 20:21:31,866] Trial 329 finished with value: 0.41221480530750104 and parameters: {'booster': 'gbtree', 'lambda': 0.02339545002716472, 'alpha': 0.0004942531181299282, 'subsample': 0.6778798681669054, 'colsample_bytree': 0.5128331908735323, 'max_depth': 16, 'eta': 0.017348678385188405, 'gamma': 0.4116596615362551, 'grow_policy': 'depthwise'}. Best is trial 20 with value: 0.30998975269319395.\n",
      "[W 2023-08-02 20:21:32,455] Trial 330 failed with parameters: {'booster': 'gblinear', 'lambda': 7.661489434082593e-05, 'alpha': 0.0004240290943176854, 'subsample': 0.7162158765329857, 'colsample_bytree': 0.7142171814829367} because of the following error: The value nan is not acceptable..\n",
      "[W 2023-08-02 20:21:32,457] Trial 330 failed with value nan.\n",
      "[W 2023-08-02 20:21:33,153] Trial 331 failed with parameters: {'booster': 'gblinear', 'lambda': 0.00013413864489481697, 'alpha': 0.00019505238547951105, 'subsample': 0.7170308606688928, 'colsample_bytree': 0.7172968493163246} because of the following error: The value nan is not acceptable..\n",
      "[W 2023-08-02 20:21:33,154] Trial 331 failed with value nan.\n",
      "[W 2023-08-02 20:21:33,754] Trial 332 failed with parameters: {'booster': 'gblinear', 'lambda': 0.00041177299937878847, 'alpha': 4.6507847325596155e-05, 'subsample': 0.7151853881099506, 'colsample_bytree': 0.7016774495265913} because of the following error: The value nan is not acceptable..\n",
      "[W 2023-08-02 20:21:33,755] Trial 332 failed with value nan.\n",
      "[W 2023-08-02 20:21:34,396] Trial 333 failed with parameters: {'booster': 'gblinear', 'lambda': 0.00016602532064167164, 'alpha': 0.0005459961898535681, 'subsample': 0.7128902178630164, 'colsample_bytree': 0.7289942813938287} because of the following error: The value nan is not acceptable..\n",
      "[W 2023-08-02 20:21:34,397] Trial 333 failed with value nan.\n",
      "[W 2023-08-02 20:21:35,018] Trial 334 failed with parameters: {'booster': 'gblinear', 'lambda': 0.00011875491388682405, 'alpha': 0.00016825993191918955, 'subsample': 0.7124467982154996, 'colsample_bytree': 0.7037465413867754} because of the following error: The value nan is not acceptable..\n",
      "[W 2023-08-02 20:21:35,019] Trial 334 failed with value nan.\n",
      "[W 2023-08-02 20:21:35,609] Trial 335 failed with parameters: {'booster': 'gblinear', 'lambda': 0.00027550345710859584, 'alpha': 0.00019831009185072949, 'subsample': 0.5901980159018336, 'colsample_bytree': 0.7293172968349535} because of the following error: The value nan is not acceptable..\n",
      "[W 2023-08-02 20:21:35,610] Trial 335 failed with value nan.\n",
      "[W 2023-08-02 20:21:36,191] Trial 336 failed with parameters: {'booster': 'gblinear', 'lambda': 0.00021500649250948058, 'alpha': 0.00013293985231206592, 'subsample': 0.7074898885982935, 'colsample_bytree': 0.7226264497359695} because of the following error: The value nan is not acceptable..\n",
      "[W 2023-08-02 20:21:36,193] Trial 336 failed with value nan.\n",
      "[W 2023-08-02 20:21:36,732] Trial 337 failed with parameters: {'booster': 'gblinear', 'lambda': 0.00022356572743319856, 'alpha': 0.00010862129573680874, 'subsample': 0.5987195106725562, 'colsample_bytree': 0.7129674129395435} because of the following error: The value nan is not acceptable..\n",
      "[W 2023-08-02 20:21:36,733] Trial 337 failed with value nan.\n",
      "[W 2023-08-02 20:21:37,318] Trial 338 failed with parameters: {'booster': 'gblinear', 'lambda': 0.0002101119875688867, 'alpha': 0.00018212134108598973, 'subsample': 0.7127561347156576, 'colsample_bytree': 0.7377506407849262} because of the following error: The value nan is not acceptable..\n",
      "[W 2023-08-02 20:21:37,320] Trial 338 failed with value nan.\n",
      "[W 2023-08-02 20:21:37,888] Trial 339 failed with parameters: {'booster': 'gblinear', 'lambda': 0.00013928420732235315, 'alpha': 0.00018612415992471436, 'subsample': 0.5735827220764049, 'colsample_bytree': 0.727041377248941} because of the following error: The value nan is not acceptable..\n",
      "[W 2023-08-02 20:21:37,889] Trial 339 failed with value nan.\n",
      "[W 2023-08-02 20:21:38,483] Trial 340 failed with parameters: {'booster': 'gblinear', 'lambda': 0.00017456657520442987, 'alpha': 0.000489757767410813, 'subsample': 0.5840062272464114, 'colsample_bytree': 0.7168303123749521} because of the following error: The value nan is not acceptable..\n",
      "[W 2023-08-02 20:21:38,484] Trial 340 failed with value nan.\n",
      "[W 2023-08-02 20:21:39,106] Trial 341 failed with parameters: {'booster': 'gblinear', 'lambda': 0.00018262044743330531, 'alpha': 0.0003878599511380855, 'subsample': 0.574545471937107, 'colsample_bytree': 0.7238358365392419} because of the following error: The value nan is not acceptable..\n",
      "[W 2023-08-02 20:21:39,107] Trial 341 failed with value nan.\n",
      "[W 2023-08-02 20:21:39,766] Trial 342 failed with parameters: {'booster': 'gblinear', 'lambda': 0.00017378279901093734, 'alpha': 8.669074017124045e-05, 'subsample': 0.712594543980914, 'colsample_bytree': 0.7169949533145554} because of the following error: The value nan is not acceptable..\n",
      "[W 2023-08-02 20:21:39,768] Trial 342 failed with value nan.\n",
      "[W 2023-08-02 20:21:40,452] Trial 343 failed with parameters: {'booster': 'gblinear', 'lambda': 0.00013444167209230567, 'alpha': 0.00011730906858902656, 'subsample': 0.590536642538852, 'colsample_bytree': 0.6929743330551162} because of the following error: The value nan is not acceptable..\n",
      "[W 2023-08-02 20:21:40,453] Trial 343 failed with value nan.\n",
      "[W 2023-08-02 20:21:41,080] Trial 344 failed with parameters: {'booster': 'gblinear', 'lambda': 0.000209838190346611, 'alpha': 0.0001475989227259782, 'subsample': 0.7046670530050685, 'colsample_bytree': 0.718440167040868} because of the following error: The value nan is not acceptable..\n",
      "[W 2023-08-02 20:21:41,080] Trial 344 failed with value nan.\n",
      "[W 2023-08-02 20:21:41,693] Trial 345 failed with parameters: {'booster': 'gblinear', 'lambda': 0.0002852313436221231, 'alpha': 0.0001228375925289891, 'subsample': 0.5886953039887738, 'colsample_bytree': 0.7112526832019974} because of the following error: The value nan is not acceptable..\n",
      "[W 2023-08-02 20:21:41,693] Trial 345 failed with value nan.\n",
      "[W 2023-08-02 20:21:42,316] Trial 346 failed with parameters: {'booster': 'gblinear', 'lambda': 0.00021433771272357085, 'alpha': 0.0004903060083641644, 'subsample': 0.7102057760665182, 'colsample_bytree': 0.7290429664056475} because of the following error: The value nan is not acceptable..\n",
      "[W 2023-08-02 20:21:42,317] Trial 346 failed with value nan.\n",
      "[W 2023-08-02 20:21:42,942] Trial 347 failed with parameters: {'booster': 'gblinear', 'lambda': 0.0003140225855024638, 'alpha': 0.00015818386755599284, 'subsample': 0.7135118399520514, 'colsample_bytree': 0.7238492721963351} because of the following error: The value nan is not acceptable..\n",
      "[W 2023-08-02 20:21:42,944] Trial 347 failed with value nan.\n",
      "[W 2023-08-02 20:21:43,550] Trial 348 failed with parameters: {'booster': 'gblinear', 'lambda': 0.00021713181340231397, 'alpha': 0.0002616332653246333, 'subsample': 0.5832920645771644, 'colsample_bytree': 0.7116839856799997} because of the following error: The value nan is not acceptable..\n",
      "[W 2023-08-02 20:21:43,551] Trial 348 failed with value nan.\n",
      "[W 2023-08-02 20:21:44,103] Trial 349 failed with parameters: {'booster': 'gblinear', 'lambda': 0.00018561363389176964, 'alpha': 0.00011701630494514823, 'subsample': 0.5902589881115412, 'colsample_bytree': 0.7243885217406523} because of the following error: The value nan is not acceptable..\n",
      "[W 2023-08-02 20:21:44,104] Trial 349 failed with value nan.\n",
      "[W 2023-08-02 20:21:44,729] Trial 350 failed with parameters: {'booster': 'gblinear', 'lambda': 0.00021072008138446293, 'alpha': 0.00022069382629490603, 'subsample': 0.7146546590329911, 'colsample_bytree': 0.7113719506955678} because of the following error: The value nan is not acceptable..\n",
      "[W 2023-08-02 20:21:44,729] Trial 350 failed with value nan.\n",
      "[W 2023-08-02 20:21:45,379] Trial 351 failed with parameters: {'booster': 'gblinear', 'lambda': 0.00019942687300431277, 'alpha': 0.00016133701814992335, 'subsample': 0.7173966381715489, 'colsample_bytree': 0.7245927631351012} because of the following error: The value nan is not acceptable..\n",
      "[W 2023-08-02 20:21:45,379] Trial 351 failed with value nan.\n",
      "[W 2023-08-02 20:21:46,035] Trial 352 failed with parameters: {'booster': 'gblinear', 'lambda': 0.00021986538554400354, 'alpha': 7.713596637314587e-05, 'subsample': 0.579753890789119, 'colsample_bytree': 0.6950086214640385} because of the following error: The value nan is not acceptable..\n",
      "[W 2023-08-02 20:21:46,037] Trial 352 failed with value nan.\n",
      "[W 2023-08-02 20:21:46,798] Trial 353 failed with parameters: {'booster': 'gblinear', 'lambda': 0.00018331055060214106, 'alpha': 0.0003430599842807421, 'subsample': 0.7139682088471357, 'colsample_bytree': 0.7127549519492171} because of the following error: The value nan is not acceptable..\n",
      "[W 2023-08-02 20:21:46,799] Trial 353 failed with value nan.\n",
      "[W 2023-08-02 20:21:47,536] Trial 354 failed with parameters: {'booster': 'gblinear', 'lambda': 0.0001655835707983166, 'alpha': 0.00011990527833701514, 'subsample': 0.7163100028588629, 'colsample_bytree': 0.718232324129382} because of the following error: The value nan is not acceptable..\n",
      "[W 2023-08-02 20:21:47,538] Trial 354 failed with value nan.\n",
      "[W 2023-08-02 20:21:48,292] Trial 355 failed with parameters: {'booster': 'gblinear', 'lambda': 0.00021827089351693094, 'alpha': 0.00022568995920512535, 'subsample': 0.5869452115549246, 'colsample_bytree': 0.7211949567223266} because of the following error: The value nan is not acceptable..\n",
      "[W 2023-08-02 20:21:48,294] Trial 355 failed with value nan.\n",
      "[W 2023-08-02 20:21:49,040] Trial 356 failed with parameters: {'booster': 'gblinear', 'lambda': 0.00023098339983378702, 'alpha': 0.00017232354095376962, 'subsample': 0.5857324762495102, 'colsample_bytree': 0.7202541018866205} because of the following error: The value nan is not acceptable..\n",
      "[W 2023-08-02 20:21:49,041] Trial 356 failed with value nan.\n",
      "[W 2023-08-02 20:21:49,752] Trial 357 failed with parameters: {'booster': 'gblinear', 'lambda': 0.00034012392952280314, 'alpha': 0.00017725655468289744, 'subsample': 0.7139404199212184, 'colsample_bytree': 0.7062828741948786} because of the following error: The value nan is not acceptable..\n",
      "[W 2023-08-02 20:21:49,753] Trial 357 failed with value nan.\n",
      "[W 2023-08-02 20:21:50,418] Trial 358 failed with parameters: {'booster': 'gblinear', 'lambda': 0.00018834954941529118, 'alpha': 0.00010601239904028735, 'subsample': 0.7159350224372909, 'colsample_bytree': 0.7132311165183041} because of the following error: The value nan is not acceptable..\n",
      "[W 2023-08-02 20:21:50,419] Trial 358 failed with value nan.\n",
      "[W 2023-08-02 20:21:51,236] Trial 359 failed with parameters: {'booster': 'gblinear', 'lambda': 0.00017635211871041103, 'alpha': 7.40985900211403e-05, 'subsample': 0.7135711246381728, 'colsample_bytree': 0.7263990994159614} because of the following error: The value nan is not acceptable..\n",
      "[W 2023-08-02 20:21:51,237] Trial 359 failed with value nan.\n",
      "[W 2023-08-02 20:21:52,075] Trial 360 failed with parameters: {'booster': 'gblinear', 'lambda': 0.0001561106615259964, 'alpha': 0.00010175357945205378, 'subsample': 0.5809302095622868, 'colsample_bytree': 0.7133331213068387} because of the following error: The value nan is not acceptable..\n",
      "[W 2023-08-02 20:21:52,077] Trial 360 failed with value nan.\n",
      "[W 2023-08-02 20:21:52,822] Trial 361 failed with parameters: {'booster': 'gblinear', 'lambda': 0.00025370363969614136, 'alpha': 0.00016387665339260697, 'subsample': 0.7079057251487049, 'colsample_bytree': 0.7155597002060033} because of the following error: The value nan is not acceptable..\n",
      "[W 2023-08-02 20:21:52,823] Trial 361 failed with value nan.\n",
      "[W 2023-08-02 20:21:53,564] Trial 362 failed with parameters: {'booster': 'gblinear', 'lambda': 0.0002200747424499721, 'alpha': 0.000258662718460581, 'subsample': 0.7095461245623227, 'colsample_bytree': 0.7231899367143042} because of the following error: The value nan is not acceptable..\n",
      "[W 2023-08-02 20:21:53,565] Trial 362 failed with value nan.\n",
      "[W 2023-08-02 20:21:54,260] Trial 363 failed with parameters: {'booster': 'gblinear', 'lambda': 7.483319021757396e-05, 'alpha': 7.402395556406142e-05, 'subsample': 0.7119209091423351, 'colsample_bytree': 0.7162259227108922} because of the following error: The value nan is not acceptable..\n",
      "[W 2023-08-02 20:21:54,262] Trial 363 failed with value nan.\n",
      "[W 2023-08-02 20:21:55,087] Trial 364 failed with parameters: {'booster': 'gblinear', 'lambda': 0.00019939341410621134, 'alpha': 0.00013797043368398186, 'subsample': 0.7069903483810261, 'colsample_bytree': 0.7305159461130417} because of the following error: The value nan is not acceptable..\n",
      "[W 2023-08-02 20:21:55,088] Trial 364 failed with value nan.\n",
      "[W 2023-08-02 20:21:55,761] Trial 365 failed with parameters: {'booster': 'gblinear', 'lambda': 0.0002206207302752034, 'alpha': 0.0001554287830587223, 'subsample': 0.7117508617026032, 'colsample_bytree': 0.6829630133488289} because of the following error: The value nan is not acceptable..\n",
      "[W 2023-08-02 20:21:55,762] Trial 365 failed with value nan.\n",
      "[W 2023-08-02 20:21:56,411] Trial 366 failed with parameters: {'booster': 'gblinear', 'lambda': 0.00018478502141985404, 'alpha': 0.0005555658890271183, 'subsample': 0.7087042186487733, 'colsample_bytree': 0.7158552721999478} because of the following error: The value nan is not acceptable..\n",
      "[W 2023-08-02 20:21:56,411] Trial 366 failed with value nan.\n",
      "[W 2023-08-02 20:21:57,054] Trial 367 failed with parameters: {'booster': 'gblinear', 'lambda': 0.00019344804324630534, 'alpha': 0.00026689792012743647, 'subsample': 0.7105622079282992, 'colsample_bytree': 0.7259034116780478} because of the following error: The value nan is not acceptable..\n",
      "[W 2023-08-02 20:21:57,055] Trial 367 failed with value nan.\n",
      "[W 2023-08-02 20:21:57,692] Trial 368 failed with parameters: {'booster': 'gblinear', 'lambda': 0.00022694815339871895, 'alpha': 0.00014113902940574277, 'subsample': 0.7157699886857677, 'colsample_bytree': 0.7070531171539102} because of the following error: The value nan is not acceptable..\n",
      "[W 2023-08-02 20:21:57,693] Trial 368 failed with value nan.\n",
      "[W 2023-08-02 20:21:58,355] Trial 369 failed with parameters: {'booster': 'gblinear', 'lambda': 0.00017772313891410016, 'alpha': 0.00021727959344805458, 'subsample': 0.5852081571970046, 'colsample_bytree': 0.7068546441087665} because of the following error: The value nan is not acceptable..\n",
      "[W 2023-08-02 20:21:58,356] Trial 369 failed with value nan.\n",
      "[W 2023-08-02 20:21:59,010] Trial 370 failed with parameters: {'booster': 'gblinear', 'lambda': 0.0001645120048787978, 'alpha': 7.913292213906097e-05, 'subsample': 0.582734998137989, 'colsample_bytree': 0.7180940811755384} because of the following error: The value nan is not acceptable..\n",
      "[W 2023-08-02 20:21:59,012] Trial 370 failed with value nan.\n",
      "[W 2023-08-02 20:21:59,748] Trial 371 failed with parameters: {'booster': 'gblinear', 'lambda': 0.00023175333149228248, 'alpha': 0.0002560717786152519, 'subsample': 0.7144828389278494, 'colsample_bytree': 0.7250689719087293} because of the following error: The value nan is not acceptable..\n",
      "[W 2023-08-02 20:21:59,750] Trial 371 failed with value nan.\n",
      "[W 2023-08-02 20:22:00,406] Trial 372 failed with parameters: {'booster': 'gblinear', 'lambda': 0.00021752121293363959, 'alpha': 0.00035400065067750047, 'subsample': 0.5818180520187989, 'colsample_bytree': 0.7051679705109761} because of the following error: The value nan is not acceptable..\n",
      "[W 2023-08-02 20:22:00,407] Trial 372 failed with value nan.\n",
      "[W 2023-08-02 20:22:01,057] Trial 373 failed with parameters: {'booster': 'gblinear', 'lambda': 0.0002011854522779017, 'alpha': 0.0001577656195948605, 'subsample': 0.6003940484850635, 'colsample_bytree': 0.7160263890912689} because of the following error: The value nan is not acceptable..\n",
      "[W 2023-08-02 20:22:01,058] Trial 373 failed with value nan.\n",
      "[W 2023-08-02 20:22:01,700] Trial 374 failed with parameters: {'booster': 'gblinear', 'lambda': 0.0002010701978250205, 'alpha': 0.00022446285383995724, 'subsample': 0.5878645944186727, 'colsample_bytree': 0.7185089876247496} because of the following error: The value nan is not acceptable..\n",
      "[W 2023-08-02 20:22:01,701] Trial 374 failed with value nan.\n",
      "[W 2023-08-02 20:22:02,378] Trial 375 failed with parameters: {'booster': 'gblinear', 'lambda': 0.0001884211561038113, 'alpha': 0.00012231192222640294, 'subsample': 0.5911347927519712, 'colsample_bytree': 0.7206185807136015} because of the following error: The value nan is not acceptable..\n",
      "[W 2023-08-02 20:22:02,380] Trial 375 failed with value nan.\n",
      "[W 2023-08-02 20:22:03,030] Trial 376 failed with parameters: {'booster': 'gblinear', 'lambda': 0.00016979437159936404, 'alpha': 0.00014359273146035992, 'subsample': 0.6049151475712775, 'colsample_bytree': 0.7225388182244141} because of the following error: The value nan is not acceptable..\n",
      "[W 2023-08-02 20:22:03,031] Trial 376 failed with value nan.\n",
      "[W 2023-08-02 20:22:03,664] Trial 377 failed with parameters: {'booster': 'gblinear', 'lambda': 0.000263977522081279, 'alpha': 0.0003759586249256131, 'subsample': 0.5751324111852504, 'colsample_bytree': 0.724735104556564} because of the following error: The value nan is not acceptable..\n",
      "[W 2023-08-02 20:22:03,665] Trial 377 failed with value nan.\n",
      "[W 2023-08-02 20:22:04,345] Trial 378 failed with parameters: {'booster': 'gblinear', 'lambda': 0.00020045677081371302, 'alpha': 0.0001590444338102116, 'subsample': 0.5924799109899417, 'colsample_bytree': 0.715306723904745} because of the following error: The value nan is not acceptable..\n",
      "[W 2023-08-02 20:22:04,346] Trial 378 failed with value nan.\n",
      "[W 2023-08-02 20:22:04,979] Trial 379 failed with parameters: {'booster': 'gblinear', 'lambda': 0.00016672877556629987, 'alpha': 0.0004966758937367622, 'subsample': 0.5894549824839128, 'colsample_bytree': 0.7220873904843607} because of the following error: The value nan is not acceptable..\n",
      "[W 2023-08-02 20:22:04,980] Trial 379 failed with value nan.\n",
      "[W 2023-08-02 20:22:05,666] Trial 380 failed with parameters: {'booster': 'gblinear', 'lambda': 0.00020816368818059926, 'alpha': 0.0008272835675661316, 'subsample': 0.7130821554874522, 'colsample_bytree': 0.716019134226992} because of the following error: The value nan is not acceptable..\n",
      "[W 2023-08-02 20:22:05,667] Trial 380 failed with value nan.\n",
      "[W 2023-08-02 20:22:06,330] Trial 381 failed with parameters: {'booster': 'gblinear', 'lambda': 0.00012326956161658447, 'alpha': 0.00015735549050331933, 'subsample': 0.5809057468848745, 'colsample_bytree': 0.7315184894514948} because of the following error: The value nan is not acceptable..\n",
      "[W 2023-08-02 20:22:06,331] Trial 381 failed with value nan.\n",
      "[W 2023-08-02 20:22:06,970] Trial 382 failed with parameters: {'booster': 'gblinear', 'lambda': 0.0003018704653553541, 'alpha': 0.0002782112710483804, 'subsample': 0.7140490103006912, 'colsample_bytree': 0.7203951220992997} because of the following error: The value nan is not acceptable..\n",
      "[W 2023-08-02 20:22:06,972] Trial 382 failed with value nan.\n",
      "[W 2023-08-02 20:22:07,654] Trial 383 failed with parameters: {'booster': 'gblinear', 'lambda': 0.0002735450843932244, 'alpha': 0.00030777223607317955, 'subsample': 0.6005508238916972, 'colsample_bytree': 0.7177300504160414} because of the following error: The value nan is not acceptable..\n",
      "[W 2023-08-02 20:22:07,656] Trial 383 failed with value nan.\n",
      "[W 2023-08-02 20:22:08,385] Trial 384 failed with parameters: {'booster': 'gblinear', 'lambda': 0.0002187742229164257, 'alpha': 0.0001682468154568662, 'subsample': 0.5925545966959712, 'colsample_bytree': 0.6968394980241013} because of the following error: The value nan is not acceptable..\n",
      "[W 2023-08-02 20:22:08,387] Trial 384 failed with value nan.\n",
      "[W 2023-08-02 20:22:09,068] Trial 385 failed with parameters: {'booster': 'gblinear', 'lambda': 0.00021558153279954635, 'alpha': 0.00018188328652262215, 'subsample': 0.7109224887511961, 'colsample_bytree': 0.7261769100388675} because of the following error: The value nan is not acceptable..\n",
      "[W 2023-08-02 20:22:09,069] Trial 385 failed with value nan.\n",
      "[W 2023-08-02 20:22:09,748] Trial 386 failed with parameters: {'booster': 'gblinear', 'lambda': 0.0207896353812149, 'alpha': 8.033818026501674e-05, 'subsample': 0.5900533124114105, 'colsample_bytree': 0.7154095985547085} because of the following error: The value nan is not acceptable..\n",
      "[W 2023-08-02 20:22:09,749] Trial 386 failed with value nan.\n",
      "[W 2023-08-02 20:22:10,465] Trial 387 failed with parameters: {'booster': 'gblinear', 'lambda': 0.00020771650115651742, 'alpha': 0.00012696988416138237, 'subsample': 0.6053496391060138, 'colsample_bytree': 0.7117640293443058} because of the following error: The value nan is not acceptable..\n",
      "[W 2023-08-02 20:22:10,467] Trial 387 failed with value nan.\n",
      "[W 2023-08-02 20:22:11,211] Trial 388 failed with parameters: {'booster': 'gblinear', 'lambda': 0.00019681181418838552, 'alpha': 0.00016633334323594155, 'subsample': 0.5878096629232545, 'colsample_bytree': 0.7328705630687417} because of the following error: The value nan is not acceptable..\n",
      "[W 2023-08-02 20:22:11,212] Trial 388 failed with value nan.\n",
      "[W 2023-08-02 20:22:11,858] Trial 389 failed with parameters: {'booster': 'gblinear', 'lambda': 0.00019605220947179147, 'alpha': 0.000301144176575051, 'subsample': 0.5890048164347772, 'colsample_bytree': 0.7155673017670405} because of the following error: The value nan is not acceptable..\n",
      "[W 2023-08-02 20:22:11,859] Trial 389 failed with value nan.\n",
      "[W 2023-08-02 20:22:12,528] Trial 390 failed with parameters: {'booster': 'gblinear', 'lambda': 0.00020347138307385434, 'alpha': 0.0001926757526677219, 'subsample': 0.7173323072866788, 'colsample_bytree': 0.7194772365223308} because of the following error: The value nan is not acceptable..\n",
      "[W 2023-08-02 20:22:12,530] Trial 390 failed with value nan.\n",
      "[W 2023-08-02 20:22:13,171] Trial 391 failed with parameters: {'booster': 'gblinear', 'lambda': 0.00026890084850451646, 'alpha': 0.0002366183905972356, 'subsample': 0.5706881809931781, 'colsample_bytree': 0.6914073064228587} because of the following error: The value nan is not acceptable..\n",
      "[W 2023-08-02 20:22:13,172] Trial 391 failed with value nan.\n",
      "[W 2023-08-02 20:22:13,816] Trial 392 failed with parameters: {'booster': 'gblinear', 'lambda': 0.00021515431562482877, 'alpha': 0.00014765557882294862, 'subsample': 0.7131312100680056, 'colsample_bytree': 0.7497772717197946} because of the following error: The value nan is not acceptable..\n",
      "[W 2023-08-02 20:22:13,818] Trial 392 failed with value nan.\n",
      "[W 2023-08-02 20:22:14,511] Trial 393 failed with parameters: {'booster': 'gblinear', 'lambda': 0.0004787999595362528, 'alpha': 0.0003141000861293288, 'subsample': 0.7122028928441715, 'colsample_bytree': 0.721579023958893} because of the following error: The value nan is not acceptable..\n",
      "[W 2023-08-02 20:22:14,512] Trial 393 failed with value nan.\n",
      "[W 2023-08-02 20:22:15,174] Trial 394 failed with parameters: {'booster': 'gblinear', 'lambda': 0.00011203520939698933, 'alpha': 0.0002154808168323782, 'subsample': 0.7151070786789987, 'colsample_bytree': 0.7275057188930812} because of the following error: The value nan is not acceptable..\n",
      "[W 2023-08-02 20:22:15,175] Trial 394 failed with value nan.\n",
      "[W 2023-08-02 20:22:15,810] Trial 395 failed with parameters: {'booster': 'gblinear', 'lambda': 0.0005188024734701906, 'alpha': 0.00023250419505611297, 'subsample': 0.6067676322489424, 'colsample_bytree': 0.7187075199438839} because of the following error: The value nan is not acceptable..\n",
      "[W 2023-08-02 20:22:15,811] Trial 395 failed with value nan.\n",
      "[W 2023-08-02 20:22:16,473] Trial 396 failed with parameters: {'booster': 'gblinear', 'lambda': 0.00011114225255309897, 'alpha': 0.00017127193122760262, 'subsample': 0.7110377218325632, 'colsample_bytree': 0.7143398244918022} because of the following error: The value nan is not acceptable..\n",
      "[W 2023-08-02 20:22:16,473] Trial 396 failed with value nan.\n",
      "[W 2023-08-02 20:22:17,106] Trial 397 failed with parameters: {'booster': 'gblinear', 'lambda': 0.0002548741127820145, 'alpha': 0.00012199472810387266, 'subsample': 0.7143396712164678, 'colsample_bytree': 0.731985869500291} because of the following error: The value nan is not acceptable..\n",
      "[W 2023-08-02 20:22:17,107] Trial 397 failed with value nan.\n",
      "[W 2023-08-02 20:22:17,733] Trial 398 failed with parameters: {'booster': 'gblinear', 'lambda': 0.00021488006115340529, 'alpha': 0.0001827651637426312, 'subsample': 0.7117604495789607, 'colsample_bytree': 0.6990347920587279} because of the following error: The value nan is not acceptable..\n",
      "[W 2023-08-02 20:22:17,734] Trial 398 failed with value nan.\n",
      "[W 2023-08-02 20:22:18,497] Trial 399 failed with parameters: {'booster': 'gblinear', 'lambda': 0.00012984161854808656, 'alpha': 0.00015059184563681255, 'subsample': 0.5761612773607417, 'colsample_bytree': 0.7278375041452588} because of the following error: The value nan is not acceptable..\n",
      "[W 2023-08-02 20:22:18,498] Trial 399 failed with value nan.\n",
      "[W 2023-08-02 20:22:19,242] Trial 400 failed with parameters: {'booster': 'gblinear', 'lambda': 0.00021728088817381524, 'alpha': 0.00026776812936539507, 'subsample': 0.7112353048259084, 'colsample_bytree': 0.7194731755298728} because of the following error: The value nan is not acceptable..\n",
      "[W 2023-08-02 20:22:19,244] Trial 400 failed with value nan.\n",
      "[W 2023-08-02 20:22:19,950] Trial 401 failed with parameters: {'booster': 'gblinear', 'lambda': 0.00018108724058897495, 'alpha': 0.0001388909658379705, 'subsample': 0.7051714521721929, 'colsample_bytree': 0.7178203937235862} because of the following error: The value nan is not acceptable..\n",
      "[W 2023-08-02 20:22:19,950] Trial 401 failed with value nan.\n",
      "[W 2023-08-02 20:22:20,580] Trial 402 failed with parameters: {'booster': 'gblinear', 'lambda': 0.0001928696287045684, 'alpha': 0.00019445890837542558, 'subsample': 0.583770972488626, 'colsample_bytree': 0.7061776415346325} because of the following error: The value nan is not acceptable..\n",
      "[W 2023-08-02 20:22:20,580] Trial 402 failed with value nan.\n",
      "[W 2023-08-02 20:22:21,278] Trial 403 failed with parameters: {'booster': 'gblinear', 'lambda': 0.00039542850790329865, 'alpha': 0.0005389648432924678, 'subsample': 0.5832681133448303, 'colsample_bytree': 0.7246746452357602} because of the following error: The value nan is not acceptable..\n",
      "[W 2023-08-02 20:22:21,278] Trial 403 failed with value nan.\n",
      "[W 2023-08-02 20:22:21,913] Trial 404 failed with parameters: {'booster': 'gblinear', 'lambda': 0.0003849160591436896, 'alpha': 0.0002991986186639942, 'subsample': 0.5834326323912479, 'colsample_bytree': 0.7179701807498675} because of the following error: The value nan is not acceptable..\n",
      "[W 2023-08-02 20:22:21,913] Trial 404 failed with value nan.\n",
      "[W 2023-08-02 20:22:22,611] Trial 405 failed with parameters: {'booster': 'gblinear', 'lambda': 0.00020605041562587304, 'alpha': 0.00021706924545443837, 'subsample': 0.7104681071812228, 'colsample_bytree': 0.718183783382184} because of the following error: The value nan is not acceptable..\n",
      "[W 2023-08-02 20:22:22,611] Trial 405 failed with value nan.\n",
      "[W 2023-08-02 20:22:23,246] Trial 406 failed with parameters: {'booster': 'gblinear', 'lambda': 0.00017886599678160718, 'alpha': 7.488437689208931e-05, 'subsample': 0.7109265775491287, 'colsample_bytree': 0.6949838210690031} because of the following error: The value nan is not acceptable..\n",
      "[W 2023-08-02 20:22:23,246] Trial 406 failed with value nan.\n",
      "[W 2023-08-02 20:22:23,876] Trial 407 failed with parameters: {'booster': 'gblinear', 'lambda': 0.0002861842096693614, 'alpha': 0.00011098814128357515, 'subsample': 0.5880731221232368, 'colsample_bytree': 0.718913411261552} because of the following error: The value nan is not acceptable..\n",
      "[W 2023-08-02 20:22:23,876] Trial 407 failed with value nan.\n",
      "[W 2023-08-02 20:22:24,516] Trial 408 failed with parameters: {'booster': 'gblinear', 'lambda': 0.00028575614612061395, 'alpha': 0.00022211093588802135, 'subsample': 0.5868438224927577, 'colsample_bytree': 0.6980534422774195} because of the following error: The value nan is not acceptable..\n",
      "[W 2023-08-02 20:22:24,516] Trial 408 failed with value nan.\n",
      "[W 2023-08-02 20:22:25,128] Trial 409 failed with parameters: {'booster': 'gblinear', 'lambda': 0.0002132226316591444, 'alpha': 0.00036469309628713216, 'subsample': 0.7074595596151819, 'colsample_bytree': 0.7295058085583066} because of the following error: The value nan is not acceptable..\n",
      "[W 2023-08-02 20:22:25,129] Trial 409 failed with value nan.\n",
      "[W 2023-08-02 20:22:25,702] Trial 410 failed with parameters: {'booster': 'gblinear', 'lambda': 0.000240802744963128, 'alpha': 0.00013837939263040944, 'subsample': 0.5865015680180197, 'colsample_bytree': 0.7288228846938961} because of the following error: The value nan is not acceptable..\n",
      "[W 2023-08-02 20:22:25,703] Trial 410 failed with value nan.\n",
      "[W 2023-08-02 20:22:26,308] Trial 411 failed with parameters: {'booster': 'gblinear', 'lambda': 0.00022216599411563803, 'alpha': 9.565315376488388e-05, 'subsample': 0.5853963072407689, 'colsample_bytree': 0.7597044769367373} because of the following error: The value nan is not acceptable..\n",
      "[W 2023-08-02 20:22:26,309] Trial 411 failed with value nan.\n",
      "[W 2023-08-02 20:22:26,878] Trial 412 failed with parameters: {'booster': 'gblinear', 'lambda': 0.00022664565362500228, 'alpha': 0.000131214234591686, 'subsample': 0.5874997844049571, 'colsample_bytree': 0.7176172325085475} because of the following error: The value nan is not acceptable..\n",
      "[W 2023-08-02 20:22:26,880] Trial 412 failed with value nan.\n",
      "[W 2023-08-02 20:22:27,466] Trial 413 failed with parameters: {'booster': 'gblinear', 'lambda': 0.0001129353765553829, 'alpha': 0.000132879227850975, 'subsample': 0.5835873571281086, 'colsample_bytree': 0.6977229609972673} because of the following error: The value nan is not acceptable..\n",
      "[W 2023-08-02 20:22:27,468] Trial 413 failed with value nan.\n",
      "[W 2023-08-02 20:22:28,048] Trial 414 failed with parameters: {'booster': 'gblinear', 'lambda': 0.00034199903221966737, 'alpha': 0.00017663884649992326, 'subsample': 0.5975818235893882, 'colsample_bytree': 0.6912226882352537} because of the following error: The value nan is not acceptable..\n",
      "[W 2023-08-02 20:22:28,048] Trial 414 failed with value nan.\n",
      "[W 2023-08-02 20:22:28,625] Trial 415 failed with parameters: {'booster': 'gblinear', 'lambda': 0.00026796939870220044, 'alpha': 0.00014132765518317205, 'subsample': 0.7145488629092531, 'colsample_bytree': 0.7101474830315475} because of the following error: The value nan is not acceptable..\n",
      "[W 2023-08-02 20:22:28,632] Trial 415 failed with value nan.\n",
      "[W 2023-08-02 20:22:29,224] Trial 416 failed with parameters: {'booster': 'gblinear', 'lambda': 0.00041643353652338037, 'alpha': 0.00019044272978750812, 'subsample': 0.5970027933744604, 'colsample_bytree': 0.7270512133576492} because of the following error: The value nan is not acceptable..\n",
      "[W 2023-08-02 20:22:29,225] Trial 416 failed with value nan.\n",
      "[W 2023-08-02 20:22:29,782] Trial 417 failed with parameters: {'booster': 'gblinear', 'lambda': 0.00020805976633726973, 'alpha': 9.39287545237861e-05, 'subsample': 0.5900338150731557, 'colsample_bytree': 0.7322899095901094} because of the following error: The value nan is not acceptable..\n",
      "[W 2023-08-02 20:22:29,783] Trial 417 failed with value nan.\n",
      "[W 2023-08-02 20:22:30,347] Trial 418 failed with parameters: {'booster': 'gblinear', 'lambda': 0.0002121967689434087, 'alpha': 0.00015346802688266442, 'subsample': 0.7079313073016995, 'colsample_bytree': 0.7278738385794945} because of the following error: The value nan is not acceptable..\n",
      "[W 2023-08-02 20:22:30,347] Trial 418 failed with value nan.\n",
      "[W 2023-08-02 20:22:30,967] Trial 419 failed with parameters: {'booster': 'gblinear', 'lambda': 0.00026306525398374695, 'alpha': 0.00012729300052696262, 'subsample': 0.595156446865031, 'colsample_bytree': 0.717220153444593} because of the following error: The value nan is not acceptable..\n",
      "[W 2023-08-02 20:22:30,967] Trial 419 failed with value nan.\n",
      "[W 2023-08-02 20:22:31,579] Trial 420 failed with parameters: {'booster': 'gblinear', 'lambda': 0.00019002724119438004, 'alpha': 0.00017815841022696818, 'subsample': 0.711086029768484, 'colsample_bytree': 0.7208123202547235} because of the following error: The value nan is not acceptable..\n",
      "[W 2023-08-02 20:22:31,580] Trial 420 failed with value nan.\n",
      "[W 2023-08-02 20:22:32,212] Trial 421 failed with parameters: {'booster': 'gblinear', 'lambda': 0.00018582142633187038, 'alpha': 0.0012451891669221645, 'subsample': 0.71578666808791, 'colsample_bytree': 0.7285313063821897} because of the following error: The value nan is not acceptable..\n",
      "[W 2023-08-02 20:22:32,213] Trial 421 failed with value nan.\n",
      "[W 2023-08-02 20:22:32,878] Trial 422 failed with parameters: {'booster': 'gblinear', 'lambda': 0.00020617017338374528, 'alpha': 0.00011858541522446163, 'subsample': 0.5810932073297923, 'colsample_bytree': 0.7240922897134136} because of the following error: The value nan is not acceptable..\n",
      "[W 2023-08-02 20:22:32,879] Trial 422 failed with value nan.\n",
      "[W 2023-08-02 20:22:33,568] Trial 423 failed with parameters: {'booster': 'gblinear', 'lambda': 0.0003751027515311408, 'alpha': 0.0002312549037218968, 'subsample': 0.7132082339084228, 'colsample_bytree': 0.721017099150842} because of the following error: The value nan is not acceptable..\n",
      "[W 2023-08-02 20:22:33,570] Trial 423 failed with value nan.\n",
      "[W 2023-08-02 20:22:34,335] Trial 424 failed with parameters: {'booster': 'gblinear', 'lambda': 0.00021027755727564523, 'alpha': 0.00013194340186321166, 'subsample': 0.5831889791102844, 'colsample_bytree': 0.7373763652251091} because of the following error: The value nan is not acceptable..\n",
      "[W 2023-08-02 20:22:34,337] Trial 424 failed with value nan.\n",
      "[W 2023-08-02 20:22:34,946] Trial 425 failed with parameters: {'booster': 'gblinear', 'lambda': 0.00019459185246111928, 'alpha': 0.0003048235253133029, 'subsample': 0.5896286402698291, 'colsample_bytree': 0.7193056620658754} because of the following error: The value nan is not acceptable..\n",
      "[W 2023-08-02 20:22:34,946] Trial 425 failed with value nan.\n",
      "[W 2023-08-02 20:22:35,589] Trial 426 failed with parameters: {'booster': 'gblinear', 'lambda': 0.00027240771058291457, 'alpha': 8.006863581150167e-05, 'subsample': 0.7072783065697722, 'colsample_bytree': 0.7145633536033064} because of the following error: The value nan is not acceptable..\n",
      "[W 2023-08-02 20:22:35,590] Trial 426 failed with value nan.\n",
      "[W 2023-08-02 20:22:36,214] Trial 427 failed with parameters: {'booster': 'gblinear', 'lambda': 0.00018609123518326703, 'alpha': 0.00016266497202020104, 'subsample': 0.7128554598734751, 'colsample_bytree': 0.7103894441483769} because of the following error: The value nan is not acceptable..\n",
      "[W 2023-08-02 20:22:36,215] Trial 427 failed with value nan.\n",
      "[W 2023-08-02 20:22:36,770] Trial 428 failed with parameters: {'booster': 'gblinear', 'lambda': 0.00021183899153103623, 'alpha': 0.0001993479190905198, 'subsample': 0.7163242981704214, 'colsample_bytree': 0.7182869545324132} because of the following error: The value nan is not acceptable..\n",
      "[W 2023-08-02 20:22:36,771] Trial 428 failed with value nan.\n",
      "[W 2023-08-02 20:22:37,347] Trial 429 failed with parameters: {'booster': 'gblinear', 'lambda': 0.00019578188188258458, 'alpha': 0.00019507906073332413, 'subsample': 0.5904903576030818, 'colsample_bytree': 0.7377818143847584} because of the following error: The value nan is not acceptable..\n",
      "[W 2023-08-02 20:22:37,348] Trial 429 failed with value nan.\n",
      "[W 2023-08-02 20:22:37,939] Trial 430 failed with parameters: {'booster': 'gblinear', 'lambda': 0.0003234486946428543, 'alpha': 0.0002946279597140233, 'subsample': 0.5868329373398288, 'colsample_bytree': 0.7297668477452188} because of the following error: The value nan is not acceptable..\n",
      "[W 2023-08-02 20:22:37,939] Trial 430 failed with value nan.\n",
      "[W 2023-08-02 20:22:38,553] Trial 431 failed with parameters: {'booster': 'gblinear', 'lambda': 0.0002442242493172981, 'alpha': 0.00010846222444033973, 'subsample': 0.587874568286694, 'colsample_bytree': 0.7130170738019488} because of the following error: The value nan is not acceptable..\n",
      "[W 2023-08-02 20:22:38,554] Trial 431 failed with value nan.\n",
      "[W 2023-08-02 20:22:39,150] Trial 432 failed with parameters: {'booster': 'gblinear', 'lambda': 0.00019028637794636335, 'alpha': 0.00018051278755069585, 'subsample': 0.7143358303931147, 'colsample_bytree': 0.6980532071917401} because of the following error: The value nan is not acceptable..\n",
      "[W 2023-08-02 20:22:39,151] Trial 432 failed with value nan.\n",
      "[W 2023-08-02 20:22:39,803] Trial 433 failed with parameters: {'booster': 'gblinear', 'lambda': 0.00021745896969899001, 'alpha': 0.0001230331996793554, 'subsample': 0.5799388499712417, 'colsample_bytree': 0.7135576898157908} because of the following error: The value nan is not acceptable..\n",
      "[W 2023-08-02 20:22:39,804] Trial 433 failed with value nan.\n",
      "[W 2023-08-02 20:22:40,413] Trial 434 failed with parameters: {'booster': 'gblinear', 'lambda': 0.00013640208635260235, 'alpha': 0.000209078717895178, 'subsample': 0.7098706660314271, 'colsample_bytree': 0.7020624569700138} because of the following error: The value nan is not acceptable..\n",
      "[W 2023-08-02 20:22:40,414] Trial 434 failed with value nan.\n",
      "[W 2023-08-02 20:22:41,009] Trial 435 failed with parameters: {'booster': 'gblinear', 'lambda': 0.0002703181393810339, 'alpha': 0.00015987781764122076, 'subsample': 0.6008724640036565, 'colsample_bytree': 0.728864862930952} because of the following error: The value nan is not acceptable..\n",
      "[W 2023-08-02 20:22:41,010] Trial 435 failed with value nan.\n",
      "[W 2023-08-02 20:22:41,648] Trial 436 failed with parameters: {'booster': 'gblinear', 'lambda': 0.000260760785949737, 'alpha': 0.00035278847992408245, 'subsample': 0.587691808362385, 'colsample_bytree': 0.7192252344459571} because of the following error: The value nan is not acceptable..\n",
      "[W 2023-08-02 20:22:41,649] Trial 436 failed with value nan.\n",
      "[W 2023-08-02 20:22:42,279] Trial 437 failed with parameters: {'booster': 'gblinear', 'lambda': 0.00018431104512280918, 'alpha': 0.0002548010795639503, 'subsample': 0.5854282752179973, 'colsample_bytree': 0.7083583793417908} because of the following error: The value nan is not acceptable..\n",
      "[W 2023-08-02 20:22:42,279] Trial 437 failed with value nan.\n",
      "[W 2023-08-02 20:22:42,889] Trial 438 failed with parameters: {'booster': 'gblinear', 'lambda': 0.0001371976070087217, 'alpha': 0.00016838648445825983, 'subsample': 0.7105128521629461, 'colsample_bytree': 0.7199929238868563} because of the following error: The value nan is not acceptable..\n",
      "[W 2023-08-02 20:22:42,890] Trial 438 failed with value nan.\n",
      "[W 2023-08-02 20:22:43,467] Trial 439 failed with parameters: {'booster': 'gblinear', 'lambda': 0.00020712744939090983, 'alpha': 0.00018376920734936838, 'subsample': 0.713774761754719, 'colsample_bytree': 0.7110589995589119} because of the following error: The value nan is not acceptable..\n",
      "[W 2023-08-02 20:22:43,468] Trial 439 failed with value nan.\n",
      "[W 2023-08-02 20:22:44,077] Trial 440 failed with parameters: {'booster': 'gblinear', 'lambda': 0.0003110659975326289, 'alpha': 0.00022542928336796126, 'subsample': 0.5935507362547471, 'colsample_bytree': 0.7187227124774613} because of the following error: The value nan is not acceptable..\n",
      "[W 2023-08-02 20:22:44,077] Trial 440 failed with value nan.\n",
      "[W 2023-08-02 20:22:44,622] Trial 441 failed with parameters: {'booster': 'gblinear', 'lambda': 0.00013255831152748733, 'alpha': 0.00016758290720540205, 'subsample': 0.590893017231265, 'colsample_bytree': 0.7163908428816268} because of the following error: The value nan is not acceptable..\n",
      "[W 2023-08-02 20:22:44,623] Trial 441 failed with value nan.\n",
      "[W 2023-08-02 20:22:45,188] Trial 442 failed with parameters: {'booster': 'gblinear', 'lambda': 0.00023694224417815748, 'alpha': 0.0001237897677052368, 'subsample': 0.7115633186020585, 'colsample_bytree': 0.7182677698527724} because of the following error: The value nan is not acceptable..\n",
      "[W 2023-08-02 20:22:45,189] Trial 442 failed with value nan.\n",
      "[W 2023-08-02 20:22:45,744] Trial 443 failed with parameters: {'booster': 'gblinear', 'lambda': 0.0002071304716296135, 'alpha': 0.00017060953552691752, 'subsample': 0.7152905318403622, 'colsample_bytree': 0.6953524307908364} because of the following error: The value nan is not acceptable..\n",
      "[W 2023-08-02 20:22:45,745] Trial 443 failed with value nan.\n",
      "[W 2023-08-02 20:22:46,335] Trial 444 failed with parameters: {'booster': 'gblinear', 'lambda': 0.00022452487942262506, 'alpha': 0.00021489692769272587, 'subsample': 0.7186857610592675, 'colsample_bytree': 0.7208916619191741} because of the following error: The value nan is not acceptable..\n",
      "[W 2023-08-02 20:22:46,336] Trial 444 failed with value nan.\n",
      "[W 2023-08-02 20:22:46,916] Trial 445 failed with parameters: {'booster': 'gblinear', 'lambda': 0.0004497035233784249, 'alpha': 0.0002046977754075281, 'subsample': 0.5788979390918643, 'colsample_bytree': 0.7159711268444898} because of the following error: The value nan is not acceptable..\n",
      "[W 2023-08-02 20:22:46,916] Trial 445 failed with value nan.\n",
      "[W 2023-08-02 20:22:47,474] Trial 446 failed with parameters: {'booster': 'gblinear', 'lambda': 0.0001696325581119065, 'alpha': 0.0003376785730743575, 'subsample': 0.5931214130947198, 'colsample_bytree': 0.7278013626563249} because of the following error: The value nan is not acceptable..\n",
      "[W 2023-08-02 20:22:47,475] Trial 446 failed with value nan.\n",
      "[W 2023-08-02 20:22:48,017] Trial 447 failed with parameters: {'booster': 'gblinear', 'lambda': 0.0002402365782293863, 'alpha': 0.0002540057300084221, 'subsample': 0.7127385589058391, 'colsample_bytree': 0.7193540164849597} because of the following error: The value nan is not acceptable..\n",
      "[W 2023-08-02 20:22:48,018] Trial 447 failed with value nan.\n",
      "[W 2023-08-02 20:22:48,614] Trial 448 failed with parameters: {'booster': 'gblinear', 'lambda': 0.0001959032952458714, 'alpha': 0.00018823013452663268, 'subsample': 0.5882148388090049, 'colsample_bytree': 0.7218156239967529} because of the following error: The value nan is not acceptable..\n",
      "[W 2023-08-02 20:22:48,614] Trial 448 failed with value nan.\n",
      "[W 2023-08-02 20:22:49,215] Trial 449 failed with parameters: {'booster': 'gblinear', 'lambda': 0.0002631977397959349, 'alpha': 2.4227549892036928e-05, 'subsample': 0.5834636797216771, 'colsample_bytree': 0.718421787430857} because of the following error: The value nan is not acceptable..\n",
      "[W 2023-08-02 20:22:49,216] Trial 449 failed with value nan.\n",
      "[W 2023-08-02 20:22:49,795] Trial 450 failed with parameters: {'booster': 'gblinear', 'lambda': 0.00028240955160911934, 'alpha': 0.00019366206110288717, 'subsample': 0.7131853061079001, 'colsample_bytree': 0.7103393014328466} because of the following error: The value nan is not acceptable..\n",
      "[W 2023-08-02 20:22:49,796] Trial 450 failed with value nan.\n",
      "[W 2023-08-02 20:22:50,324] Trial 451 failed with parameters: {'booster': 'gblinear', 'lambda': 0.0002808766121422063, 'alpha': 0.00015405218966396147, 'subsample': 0.5888765218021509, 'colsample_bytree': 0.7312474280503278} because of the following error: The value nan is not acceptable..\n",
      "[W 2023-08-02 20:22:50,325] Trial 451 failed with value nan.\n",
      "[W 2023-08-02 20:22:50,911] Trial 452 failed with parameters: {'booster': 'gblinear', 'lambda': 0.00017704990485409864, 'alpha': 0.00021583184672912818, 'subsample': 0.5832422719401272, 'colsample_bytree': 0.7268081227568934} because of the following error: The value nan is not acceptable..\n",
      "[W 2023-08-02 20:22:50,912] Trial 452 failed with value nan.\n",
      "[W 2023-08-02 20:22:51,507] Trial 453 failed with parameters: {'booster': 'gblinear', 'lambda': 0.00019020763175807987, 'alpha': 0.00010543629744275621, 'subsample': 0.5805345275331548, 'colsample_bytree': 0.719425649282096} because of the following error: The value nan is not acceptable..\n",
      "[W 2023-08-02 20:22:51,507] Trial 453 failed with value nan.\n",
      "[W 2023-08-02 20:22:52,142] Trial 454 failed with parameters: {'booster': 'gblinear', 'lambda': 0.00021161037213696292, 'alpha': 9.875374524766018e-05, 'subsample': 0.7032148885517333, 'colsample_bytree': 0.7227610930244277} because of the following error: The value nan is not acceptable..\n",
      "[W 2023-08-02 20:22:52,143] Trial 454 failed with value nan.\n",
      "[W 2023-08-02 20:22:52,719] Trial 455 failed with parameters: {'booster': 'gblinear', 'lambda': 0.0002809660927138647, 'alpha': 0.00017774198554032776, 'subsample': 0.5892877887866933, 'colsample_bytree': 0.7160297964930545} because of the following error: The value nan is not acceptable..\n",
      "[W 2023-08-02 20:22:52,720] Trial 455 failed with value nan.\n",
      "[W 2023-08-02 20:22:53,336] Trial 456 failed with parameters: {'booster': 'gblinear', 'lambda': 0.0002312536982801744, 'alpha': 0.00017259260493833464, 'subsample': 0.5778073245093724, 'colsample_bytree': 0.7438637508592134} because of the following error: The value nan is not acceptable..\n",
      "[W 2023-08-02 20:22:53,336] Trial 456 failed with value nan.\n",
      "[W 2023-08-02 20:22:53,973] Trial 457 failed with parameters: {'booster': 'gblinear', 'lambda': 0.0003718478439932205, 'alpha': 0.00017643598009599895, 'subsample': 0.5541210096101363, 'colsample_bytree': 0.6934097424882316} because of the following error: The value nan is not acceptable..\n",
      "[W 2023-08-02 20:22:53,974] Trial 457 failed with value nan.\n",
      "[W 2023-08-02 20:22:54,590] Trial 458 failed with parameters: {'booster': 'gblinear', 'lambda': 0.00021206956034131586, 'alpha': 0.0001374896980765411, 'subsample': 0.5896770301914944, 'colsample_bytree': 0.7188537949260885} because of the following error: The value nan is not acceptable..\n",
      "[W 2023-08-02 20:22:54,591] Trial 458 failed with value nan.\n",
      "[W 2023-08-02 20:22:55,280] Trial 459 failed with parameters: {'booster': 'gblinear', 'lambda': 0.00019714746930540975, 'alpha': 0.0001604642029444869, 'subsample': 0.7146428375659168, 'colsample_bytree': 0.7121084750900469} because of the following error: The value nan is not acceptable..\n",
      "[W 2023-08-02 20:22:55,281] Trial 459 failed with value nan.\n",
      "[W 2023-08-02 20:22:55,862] Trial 460 failed with parameters: {'booster': 'gblinear', 'lambda': 0.00016913622041407514, 'alpha': 0.00031821728517683937, 'subsample': 0.5931988763708749, 'colsample_bytree': 0.7090672919186813} because of the following error: The value nan is not acceptable..\n",
      "[W 2023-08-02 20:22:55,863] Trial 460 failed with value nan.\n",
      "[W 2023-08-02 20:22:56,535] Trial 461 failed with parameters: {'booster': 'gblinear', 'lambda': 0.00024304930564991357, 'alpha': 0.00017682231982212433, 'subsample': 0.7148066204976354, 'colsample_bytree': 0.7166892004397322} because of the following error: The value nan is not acceptable..\n",
      "[W 2023-08-02 20:22:56,537] Trial 461 failed with value nan.\n",
      "[W 2023-08-02 20:22:57,152] Trial 462 failed with parameters: {'booster': 'gblinear', 'lambda': 0.00019937096041734446, 'alpha': 0.00017341134431675176, 'subsample': 0.5760893689341765, 'colsample_bytree': 0.7019203050222484} because of the following error: The value nan is not acceptable..\n",
      "[W 2023-08-02 20:22:57,153] Trial 462 failed with value nan.\n",
      "[W 2023-08-02 20:22:57,797] Trial 463 failed with parameters: {'booster': 'gblinear', 'lambda': 0.00023610673060800252, 'alpha': 0.0001995056601569764, 'subsample': 0.7127991882161049, 'colsample_bytree': 0.7222851977221544} because of the following error: The value nan is not acceptable..\n",
      "[W 2023-08-02 20:22:57,798] Trial 463 failed with value nan.\n",
      "[W 2023-08-02 20:22:58,436] Trial 464 failed with parameters: {'booster': 'gblinear', 'lambda': 0.0002093871671411677, 'alpha': 0.00010989620643355461, 'subsample': 0.711883792846605, 'colsample_bytree': 0.7255246262104388} because of the following error: The value nan is not acceptable..\n",
      "[W 2023-08-02 20:22:58,437] Trial 464 failed with value nan.\n",
      "[W 2023-08-02 20:22:59,095] Trial 465 failed with parameters: {'booster': 'gblinear', 'lambda': 5.801751243311599e-05, 'alpha': 0.00026830169309385925, 'subsample': 0.5952639451174722, 'colsample_bytree': 0.7077227693627993} because of the following error: The value nan is not acceptable..\n",
      "[W 2023-08-02 20:22:59,097] Trial 465 failed with value nan.\n",
      "[W 2023-08-02 20:22:59,731] Trial 466 failed with parameters: {'booster': 'gblinear', 'lambda': 0.00012908828472609022, 'alpha': 0.00015324565263218388, 'subsample': 0.5933557970167479, 'colsample_bytree': 0.7154241231869145} because of the following error: The value nan is not acceptable..\n",
      "[W 2023-08-02 20:22:59,732] Trial 466 failed with value nan.\n",
      "[W 2023-08-02 20:23:00,405] Trial 467 failed with parameters: {'booster': 'gblinear', 'lambda': 0.0002480555614501566, 'alpha': 0.00015013861749195507, 'subsample': 0.7157426910102022, 'colsample_bytree': 0.7141302366370655} because of the following error: The value nan is not acceptable..\n",
      "[W 2023-08-02 20:23:00,406] Trial 467 failed with value nan.\n",
      "[W 2023-08-02 20:23:01,013] Trial 468 failed with parameters: {'booster': 'gblinear', 'lambda': 0.00014667224590101524, 'alpha': 0.00020365482064197362, 'subsample': 0.5850139138422801, 'colsample_bytree': 0.7159186448614464} because of the following error: The value nan is not acceptable..\n",
      "[W 2023-08-02 20:23:01,014] Trial 468 failed with value nan.\n",
      "[W 2023-08-02 20:23:01,613] Trial 469 failed with parameters: {'booster': 'gblinear', 'lambda': 0.00016216239358008365, 'alpha': 0.00019696025579584052, 'subsample': 0.5891563910606166, 'colsample_bytree': 0.7209513342404597} because of the following error: The value nan is not acceptable..\n",
      "[W 2023-08-02 20:23:01,613] Trial 469 failed with value nan.\n",
      "[W 2023-08-02 20:23:02,261] Trial 470 failed with parameters: {'booster': 'gblinear', 'lambda': 0.00023702831623202588, 'alpha': 0.0001386544777714939, 'subsample': 0.597518282633065, 'colsample_bytree': 0.7204894899143063} because of the following error: The value nan is not acceptable..\n",
      "[W 2023-08-02 20:23:02,262] Trial 470 failed with value nan.\n",
      "[W 2023-08-02 20:23:02,852] Trial 471 failed with parameters: {'booster': 'gblinear', 'lambda': 0.00014864066044776607, 'alpha': 0.0002305372671094619, 'subsample': 0.5917468028620249, 'colsample_bytree': 0.7164143472821051} because of the following error: The value nan is not acceptable..\n",
      "[W 2023-08-02 20:23:02,853] Trial 471 failed with value nan.\n",
      "[W 2023-08-02 20:23:03,498] Trial 472 failed with parameters: {'booster': 'gblinear', 'lambda': 0.00032366710969926565, 'alpha': 0.00022909157409793925, 'subsample': 0.7123865057453271, 'colsample_bytree': 0.7154013661696054} because of the following error: The value nan is not acceptable..\n",
      "[W 2023-08-02 20:23:03,499] Trial 472 failed with value nan.\n",
      "[W 2023-08-02 20:23:04,344] Trial 473 failed with parameters: {'booster': 'gblinear', 'lambda': 0.0004354974160663777, 'alpha': 0.00012477025841013412, 'subsample': 0.5735569023108276, 'colsample_bytree': 0.7198003988077076} because of the following error: The value nan is not acceptable..\n",
      "[W 2023-08-02 20:23:04,346] Trial 473 failed with value nan.\n",
      "[W 2023-08-02 20:23:05,136] Trial 474 failed with parameters: {'booster': 'gblinear', 'lambda': 0.00022435309836268873, 'alpha': 0.0001882200636573621, 'subsample': 0.7178694113078968, 'colsample_bytree': 0.7209249738979162} because of the following error: The value nan is not acceptable..\n",
      "[W 2023-08-02 20:23:05,137] Trial 474 failed with value nan.\n",
      "[W 2023-08-02 20:23:05,789] Trial 475 failed with parameters: {'booster': 'gblinear', 'lambda': 0.00020385072922368756, 'alpha': 0.00019555716501448784, 'subsample': 0.7132627151430879, 'colsample_bytree': 0.7166327701287596} because of the following error: The value nan is not acceptable..\n",
      "[W 2023-08-02 20:23:05,790] Trial 475 failed with value nan.\n",
      "[W 2023-08-02 20:23:06,447] Trial 476 failed with parameters: {'booster': 'gblinear', 'lambda': 0.00025139063273528283, 'alpha': 0.0001293305728786265, 'subsample': 0.7169723783414309, 'colsample_bytree': 0.7005070559500197} because of the following error: The value nan is not acceptable..\n",
      "[W 2023-08-02 20:23:06,448] Trial 476 failed with value nan.\n",
      "[W 2023-08-02 20:23:07,143] Trial 477 failed with parameters: {'booster': 'gblinear', 'lambda': 0.00021081603770023097, 'alpha': 0.0001795025047665313, 'subsample': 0.5938382279381665, 'colsample_bytree': 0.7175743223789457} because of the following error: The value nan is not acceptable..\n",
      "[W 2023-08-02 20:23:07,144] Trial 477 failed with value nan.\n",
      "[W 2023-08-02 20:23:07,772] Trial 478 failed with parameters: {'booster': 'gblinear', 'lambda': 0.00035086590146440547, 'alpha': 0.000324624792299779, 'subsample': 0.7094307351154581, 'colsample_bytree': 0.7061616929228576} because of the following error: The value nan is not acceptable..\n",
      "[W 2023-08-02 20:23:07,773] Trial 478 failed with value nan.\n",
      "[W 2023-08-02 20:23:08,403] Trial 479 failed with parameters: {'booster': 'gblinear', 'lambda': 0.00020308321194895804, 'alpha': 0.00010908200561705476, 'subsample': 0.5923508738850529, 'colsample_bytree': 0.73300123376787} because of the following error: The value nan is not acceptable..\n",
      "[W 2023-08-02 20:23:08,404] Trial 479 failed with value nan.\n",
      "[W 2023-08-02 20:23:09,057] Trial 480 failed with parameters: {'booster': 'gblinear', 'lambda': 0.00018494820094415475, 'alpha': 0.00028710827281926073, 'subsample': 0.7105340841758394, 'colsample_bytree': 0.7223702159104842} because of the following error: The value nan is not acceptable..\n",
      "[W 2023-08-02 20:23:09,059] Trial 480 failed with value nan.\n",
      "[W 2023-08-02 20:23:09,685] Trial 481 failed with parameters: {'booster': 'gblinear', 'lambda': 0.00018862352757491842, 'alpha': 0.00014102215721768064, 'subsample': 0.5874981674114875, 'colsample_bytree': 0.7169732076107669} because of the following error: The value nan is not acceptable..\n",
      "[W 2023-08-02 20:23:09,686] Trial 481 failed with value nan.\n",
      "[W 2023-08-02 20:23:10,349] Trial 482 failed with parameters: {'booster': 'gblinear', 'lambda': 0.00022416159134152903, 'alpha': 0.00022242424101719983, 'subsample': 0.598312153648506, 'colsample_bytree': 0.7072283427960886} because of the following error: The value nan is not acceptable..\n",
      "[W 2023-08-02 20:23:10,350] Trial 482 failed with value nan.\n",
      "[W 2023-08-02 20:23:11,032] Trial 483 failed with parameters: {'booster': 'gblinear', 'lambda': 0.0001830394011250573, 'alpha': 0.00013563765563917287, 'subsample': 0.586067341003257, 'colsample_bytree': 0.7224410162865877} because of the following error: The value nan is not acceptable..\n",
      "[W 2023-08-02 20:23:11,033] Trial 483 failed with value nan.\n",
      "[W 2023-08-02 20:23:11,707] Trial 484 failed with parameters: {'booster': 'gblinear', 'lambda': 0.0002695732809348126, 'alpha': 0.00010500331345448269, 'subsample': 0.711813789907481, 'colsample_bytree': 0.7192301414783728} because of the following error: The value nan is not acceptable..\n",
      "[W 2023-08-02 20:23:11,709] Trial 484 failed with value nan.\n",
      "[W 2023-08-02 20:23:12,364] Trial 485 failed with parameters: {'booster': 'gblinear', 'lambda': 0.0001377847886136977, 'alpha': 7.00980794066762e-05, 'subsample': 0.7111902942719481, 'colsample_bytree': 0.736520433908472} because of the following error: The value nan is not acceptable..\n",
      "[W 2023-08-02 20:23:12,365] Trial 485 failed with value nan.\n",
      "[W 2023-08-02 20:23:13,030] Trial 486 failed with parameters: {'booster': 'gblinear', 'lambda': 0.00018905308372326037, 'alpha': 0.00018189848821196147, 'subsample': 0.713775964583453, 'colsample_bytree': 0.7211520125317644} because of the following error: The value nan is not acceptable..\n",
      "[W 2023-08-02 20:23:13,031] Trial 486 failed with value nan.\n",
      "[W 2023-08-02 20:23:13,719] Trial 487 failed with parameters: {'booster': 'gblinear', 'lambda': 0.00018237864279124685, 'alpha': 0.0002242179978054148, 'subsample': 0.7128902562787229, 'colsample_bytree': 0.7177529574620513} because of the following error: The value nan is not acceptable..\n",
      "[W 2023-08-02 20:23:13,720] Trial 487 failed with value nan.\n",
      "[W 2023-08-02 20:23:14,374] Trial 488 failed with parameters: {'booster': 'gblinear', 'lambda': 0.00018847802224298163, 'alpha': 0.00017047125356034059, 'subsample': 0.5937603908379143, 'colsample_bytree': 0.7181662710826521} because of the following error: The value nan is not acceptable..\n",
      "[W 2023-08-02 20:23:14,376] Trial 488 failed with value nan.\n",
      "[W 2023-08-02 20:23:15,036] Trial 489 failed with parameters: {'booster': 'gblinear', 'lambda': 0.0002708115470093445, 'alpha': 0.00031037104043494363, 'subsample': 0.7073608100732003, 'colsample_bytree': 0.7310883299101383} because of the following error: The value nan is not acceptable..\n",
      "[W 2023-08-02 20:23:15,036] Trial 489 failed with value nan.\n",
      "[W 2023-08-02 20:23:15,717] Trial 490 failed with parameters: {'booster': 'gblinear', 'lambda': 0.00019339031658377533, 'alpha': 0.0003343809906615286, 'subsample': 0.5955232600792918, 'colsample_bytree': 0.7282359883276494} because of the following error: The value nan is not acceptable..\n",
      "[W 2023-08-02 20:23:15,718] Trial 490 failed with value nan.\n",
      "[W 2023-08-02 20:23:16,409] Trial 491 failed with parameters: {'booster': 'gblinear', 'lambda': 0.0001968385538021349, 'alpha': 0.00014411129187559242, 'subsample': 0.5759520575533879, 'colsample_bytree': 0.7212021579239086} because of the following error: The value nan is not acceptable..\n",
      "[W 2023-08-02 20:23:16,409] Trial 491 failed with value nan.\n",
      "[W 2023-08-02 20:23:17,164] Trial 492 failed with parameters: {'booster': 'gblinear', 'lambda': 0.00019729000860723654, 'alpha': 0.000167547287015657, 'subsample': 0.7098130716546113, 'colsample_bytree': 0.7214063173562342} because of the following error: The value nan is not acceptable..\n",
      "[W 2023-08-02 20:23:17,167] Trial 492 failed with value nan.\n",
      "[W 2023-08-02 20:23:18,000] Trial 493 failed with parameters: {'booster': 'gblinear', 'lambda': 0.0003209110340747673, 'alpha': 0.00034936346119280876, 'subsample': 0.7184123693335281, 'colsample_bytree': 0.716217405844902} because of the following error: The value nan is not acceptable..\n",
      "[W 2023-08-02 20:23:18,001] Trial 493 failed with value nan.\n",
      "[W 2023-08-02 20:23:18,657] Trial 494 failed with parameters: {'booster': 'gblinear', 'lambda': 0.0002533966278919186, 'alpha': 0.00015375161083217977, 'subsample': 0.5863729840738637, 'colsample_bytree': 0.7161865249024578} because of the following error: The value nan is not acceptable..\n",
      "[W 2023-08-02 20:23:18,658] Trial 494 failed with value nan.\n",
      "[W 2023-08-02 20:23:19,369] Trial 495 failed with parameters: {'booster': 'gblinear', 'lambda': 0.00018874855713795063, 'alpha': 0.00011289734198669733, 'subsample': 0.592454965446578, 'colsample_bytree': 0.7167587237012669} because of the following error: The value nan is not acceptable..\n",
      "[W 2023-08-02 20:23:19,371] Trial 495 failed with value nan.\n",
      "[W 2023-08-02 20:23:20,123] Trial 496 failed with parameters: {'booster': 'gblinear', 'lambda': 0.00019211886911663865, 'alpha': 7.802677358960377e-05, 'subsample': 0.582024419652037, 'colsample_bytree': 0.7159528936543796} because of the following error: The value nan is not acceptable..\n",
      "[W 2023-08-02 20:23:20,125] Trial 496 failed with value nan.\n",
      "[W 2023-08-02 20:23:20,945] Trial 497 failed with parameters: {'booster': 'gblinear', 'lambda': 0.00021101519674108796, 'alpha': 0.0001546071666242135, 'subsample': 0.5874012169241514, 'colsample_bytree': 0.6962323037612109} because of the following error: The value nan is not acceptable..\n",
      "[W 2023-08-02 20:23:20,946] Trial 497 failed with value nan.\n",
      "[W 2023-08-02 20:23:21,706] Trial 498 failed with parameters: {'booster': 'gblinear', 'lambda': 0.00014665214165748424, 'alpha': 0.00028858037928218506, 'subsample': 0.7147359553168986, 'colsample_bytree': 0.7281346043851527} because of the following error: The value nan is not acceptable..\n",
      "[W 2023-08-02 20:23:21,707] Trial 498 failed with value nan.\n",
      "[W 2023-08-02 20:23:22,501] Trial 499 failed with parameters: {'booster': 'gblinear', 'lambda': 0.00018351380773295707, 'alpha': 0.00045758459822069355, 'subsample': 0.7177688358122649, 'colsample_bytree': 0.7054339072010332} because of the following error: The value nan is not acceptable..\n",
      "[W 2023-08-02 20:23:22,503] Trial 499 failed with value nan.\n"
     ]
    },
    {
     "name": "stdout",
     "output_type": "stream",
     "text": [
      "Number of finished trials: 500\n",
      "Best trial:\n",
      "  Value: 0.30998975269319395\n",
      "  Params: \n",
      "    booster: gbtree\n",
      "    lambda: 0.0006267967780168104\n",
      "    alpha: 6.00856626626911e-07\n",
      "    subsample: 0.6356173471946454\n",
      "    colsample_bytree: 0.6558294043195745\n",
      "    max_depth: 13\n",
      "    eta: 0.11128995604229386\n",
      "    gamma: 0.005131215717384117\n",
      "    grow_policy: depthwise\n"
     ]
    }
   ],
   "source": [
    "def objective(trial):\n",
    "    # dtrain = xgb.DMatrix(train, label=ytrain['Class'])\n",
    "    '''\n",
    "    Value: 0.2754406155516159\n",
    "    Params: \n",
    "        booster: gbtree\n",
    "        lambda: 0.24302130237467398\n",
    "        alpha: 2.2108795894332237e-08\n",
    "        subsample: 0.7887998109844777\n",
    "        colsample_bytree: 0.4493748858737539\n",
    "        max_depth: 2\n",
    "        eta: 0.29846902305256606\n",
    "        gamma: 1.4539411503015061e-05\n",
    "        grow_policy: lossguide\n",
    "    '''\n",
    "    param = {\n",
    "        \"verbosity\": 0,\n",
    "        \"objective\": \"binary:logistic\",\n",
    "        \"booster\": trial.suggest_categorical(\"booster\", [\"gbtree\", \"gblinear\", \"dart\"]),\n",
    "        \"lambda\": trial.suggest_float(\"lambda\", 1e-8, 1.0, log=True),\n",
    "        \"alpha\": trial.suggest_float(\"alpha\", 1e-8, 1.0, log=True),\n",
    "        \"subsample\": trial.suggest_float(\"subsample\", 0.2, 0.8),\n",
    "        \"colsample_bytree\": trial.suggest_float(\"colsample_bytree\", 0.2, 0.8),\n",
    "        'scale_pos_weight' : scale_pos_weight,\n",
    "        'random_state' : 42,\n",
    "    }\n",
    "\n",
    "    if param[\"booster\"] == \"gbtree\" or param[\"booster\"] == \"dart\":\n",
    "        param[\"max_depth\"] = trial.suggest_int(\"max_depth\", 1, 16)\n",
    "        param[\"eta\"] = trial.suggest_float(\"eta\", 1e-3, 1.0, log=True)\n",
    "        param[\"gamma\"] = trial.suggest_float(\"gamma\", 1e-8, 1.0, log=True)\n",
    "        param[\"grow_policy\"] = trial.suggest_categorical(\"grow_policy\", [\"depthwise\", \"lossguide\"])\n",
    "    if param[\"booster\"] == \"dart\":\n",
    "        param[\"sample_type\"] = trial.suggest_categorical(\"sample_type\", [\"uniform\", \"weighted\"])\n",
    "        param[\"normalize_type\"] = trial.suggest_categorical(\"normalize_type\", [\"tree\", \"forest\"])\n",
    "        param[\"rate_drop\"] = trial.suggest_float(\"rate_drop\", 1e-8, 1.0, log=True)\n",
    "        param[\"skip_drop\"] = trial.suggest_float(\"skip_drop\", 1e-8, 1.0, log=True)\n",
    "\n",
    "    skf = StratifiedKFold(n_splits=10, shuffle=True, random_state=42)\n",
    "    log_loss_scores = []\n",
    "    # 划分验证集\n",
    "    for train_index, val_index in skf.split(train, ytrain['Class']):\n",
    "        x_train_, x_val = train.iloc[train_index], train.iloc[val_index]\n",
    "        y_train_, y_val = ytrain['Class'].iloc[train_index], ytrain['Class'].iloc[val_index]\n",
    "        classifier = xgb.XGBClassifier(**param, verbose=0)\n",
    "        classifier.fit(x_train_, y_train_, eval_set=[(x_val, y_val)], early_stopping_rounds=180, verbose=0)\n",
    "        y_pred_proba = classifier.predict_proba(x_val)[:, 1]\n",
    "        log_loss_scores.append(ScoreMetric(y_val, y_pred_proba))\n",
    "    return np.mean(log_loss_scores)\n",
    "\n",
    "if __name__ == \"__main__\":\n",
    "    sampler = TPESampler(seed=42)\n",
    "    pruner = optuna.pruners.MedianPruner(n_warmup_steps=10)\n",
    "    study = optuna.create_study(pruner=pruner, direction=\"minimize\", sampler=sampler)\n",
    "    study.optimize(objective, n_trials=500)\n",
    "\n",
    "    print(\"Number of finished trials: {}\".format(len(study.trials)))\n",
    "    print(\"Best trial:\")\n",
    "    trial = study.best_trial\n",
    "    print(\"  Value: {}\".format(trial.value))\n",
    "    print(\"  Params: \")\n",
    "    for key, value in trial.params.items():\n",
    "        print(\"    {}: {}\".format(key, value))"
   ]
  },
  {
   "cell_type": "code",
   "execution_count": 215,
   "metadata": {},
   "outputs": [
    {
     "data": {
      "text/plain": [
       "0.9435483870967742"
      ]
     },
     "execution_count": 215,
     "metadata": {},
     "output_type": "execute_result"
    }
   ],
   "source": [
    "model = xgb.XGBClassifier(**trial.params)\n",
    "model.fit(x_train, y_train['Class'])\n",
    "y_pred = model.predict(x_test)\n",
    "y_pred_proba = model.predict_proba(x_test)[:, 1]\n",
    "ScoreMetric(y_test['Class'], y_pred_proba)\n",
    "accuracy_score(y_pred, y_test['Class'])"
   ]
  },
  {
   "cell_type": "code",
   "execution_count": 216,
   "metadata": {},
   "outputs": [
    {
     "ename": "ValueError",
     "evalue": "Mime type rendering requires nbformat>=4.2.0 but it is not installed",
     "output_type": "error",
     "traceback": [
      "\u001b[1;31m---------------------------------------------------------------------------\u001b[0m",
      "\u001b[1;31mValueError\u001b[0m                                Traceback (most recent call last)",
      "File \u001b[1;32m~\\AppData\\Roaming\\Python\\Python38\\site-packages\\IPython\\core\\formatters.py:920\u001b[0m, in \u001b[0;36mIPythonDisplayFormatter.__call__\u001b[1;34m(self, obj)\u001b[0m\n\u001b[0;32m    918\u001b[0m method \u001b[39m=\u001b[39m get_real_method(obj, \u001b[39mself\u001b[39m\u001b[39m.\u001b[39mprint_method)\n\u001b[0;32m    919\u001b[0m \u001b[39mif\u001b[39;00m method \u001b[39mis\u001b[39;00m \u001b[39mnot\u001b[39;00m \u001b[39mNone\u001b[39;00m:\n\u001b[1;32m--> 920\u001b[0m     method()\n\u001b[0;32m    921\u001b[0m     \u001b[39mreturn\u001b[39;00m \u001b[39mTrue\u001b[39;00m\n",
      "File \u001b[1;32mc:\\Users\\111\\AppData\\Local\\Programs\\Python\\Python38\\lib\\site-packages\\plotly\\basedatatypes.py:834\u001b[0m, in \u001b[0;36mBaseFigure._ipython_display_\u001b[1;34m(self)\u001b[0m\n\u001b[0;32m    831\u001b[0m \u001b[39mimport\u001b[39;00m \u001b[39mplotly\u001b[39;00m\u001b[39m.\u001b[39;00m\u001b[39mio\u001b[39;00m \u001b[39mas\u001b[39;00m \u001b[39mpio\u001b[39;00m\n\u001b[0;32m    833\u001b[0m \u001b[39mif\u001b[39;00m pio\u001b[39m.\u001b[39mrenderers\u001b[39m.\u001b[39mrender_on_display \u001b[39mand\u001b[39;00m pio\u001b[39m.\u001b[39mrenderers\u001b[39m.\u001b[39mdefault:\n\u001b[1;32m--> 834\u001b[0m     pio\u001b[39m.\u001b[39;49mshow(\u001b[39mself\u001b[39;49m)\n\u001b[0;32m    835\u001b[0m \u001b[39melse\u001b[39;00m:\n\u001b[0;32m    836\u001b[0m     \u001b[39mprint\u001b[39m(\u001b[39mrepr\u001b[39m(\u001b[39mself\u001b[39m))\n",
      "File \u001b[1;32mc:\\Users\\111\\AppData\\Local\\Programs\\Python\\Python38\\lib\\site-packages\\plotly\\io\\_renderers.py:396\u001b[0m, in \u001b[0;36mshow\u001b[1;34m(fig, renderer, validate, **kwargs)\u001b[0m\n\u001b[0;32m    391\u001b[0m         \u001b[39mraise\u001b[39;00m \u001b[39mValueError\u001b[39;00m(\n\u001b[0;32m    392\u001b[0m             \u001b[39m\"\u001b[39m\u001b[39mMime type rendering requires ipython but it is not installed\u001b[39m\u001b[39m\"\u001b[39m\n\u001b[0;32m    393\u001b[0m         )\n\u001b[0;32m    395\u001b[0m     \u001b[39mif\u001b[39;00m \u001b[39mnot\u001b[39;00m nbformat \u001b[39mor\u001b[39;00m Version(nbformat\u001b[39m.\u001b[39m__version__) \u001b[39m<\u001b[39m Version(\u001b[39m\"\u001b[39m\u001b[39m4.2.0\u001b[39m\u001b[39m\"\u001b[39m):\n\u001b[1;32m--> 396\u001b[0m         \u001b[39mraise\u001b[39;00m \u001b[39mValueError\u001b[39;00m(\n\u001b[0;32m    397\u001b[0m             \u001b[39m\"\u001b[39m\u001b[39mMime type rendering requires nbformat>=4.2.0 but it is not installed\u001b[39m\u001b[39m\"\u001b[39m\n\u001b[0;32m    398\u001b[0m         )\n\u001b[0;32m    400\u001b[0m     ipython_display\u001b[39m.\u001b[39mdisplay(bundle, raw\u001b[39m=\u001b[39m\u001b[39mTrue\u001b[39;00m)\n\u001b[0;32m    402\u001b[0m \u001b[39m# external renderers\u001b[39;00m\n",
      "\u001b[1;31mValueError\u001b[0m: Mime type rendering requires nbformat>=4.2.0 but it is not installed"
     ]
    },
    {
     "data": {
      "application/vnd.plotly.v1+json": {
       "config": {
        "plotlyServerURL": "https://plot.ly"
       },
       "data": [
        {
         "mode": "markers",
         "name": "Objective Value",
         "type": "scatter",
         "x": [
          1,
          5,
          6,
          7,
          8,
          9,
          10,
          11,
          12,
          13,
          14,
          15,
          16,
          17,
          18,
          19,
          20,
          21,
          87,
          329
         ],
         "y": [
          0.5948239621031838,
          0.6557915242370119,
          0.6113488504831912,
          0.5189579523909645,
          0.3580656105152277,
          0.608283918495139,
          0.3422852288874782,
          0.3447268303545605,
          0.6501831059108444,
          0.36819782146987795,
          0.43820464488706146,
          0.3978936881534904,
          0.546595120689767,
          0.3128127253280379,
          0.32162119201505757,
          0.3249156277303356,
          0.30998975269319395,
          0.3171618048790016,
          0.31225717976112505,
          0.41221480530750104
         ]
        },
        {
         "name": "Best Value",
         "type": "scatter",
         "x": [
          1,
          5,
          6,
          7,
          8,
          9,
          10,
          11,
          12,
          13,
          14,
          15,
          16,
          17,
          18,
          19,
          20,
          21,
          87,
          329
         ],
         "y": [
          0.5948239621031838,
          0.5948239621031838,
          0.5948239621031838,
          0.5189579523909645,
          0.3580656105152277,
          0.3580656105152277,
          0.3422852288874782,
          0.3422852288874782,
          0.3422852288874782,
          0.3422852288874782,
          0.3422852288874782,
          0.3422852288874782,
          0.3422852288874782,
          0.3128127253280379,
          0.3128127253280379,
          0.3128127253280379,
          0.30998975269319395,
          0.30998975269319395,
          0.30998975269319395,
          0.30998975269319395
         ]
        }
       ],
       "layout": {
        "template": {
         "data": {
          "bar": [
           {
            "error_x": {
             "color": "#2a3f5f"
            },
            "error_y": {
             "color": "#2a3f5f"
            },
            "marker": {
             "line": {
              "color": "#E5ECF6",
              "width": 0.5
             },
             "pattern": {
              "fillmode": "overlay",
              "size": 10,
              "solidity": 0.2
             }
            },
            "type": "bar"
           }
          ],
          "barpolar": [
           {
            "marker": {
             "line": {
              "color": "#E5ECF6",
              "width": 0.5
             },
             "pattern": {
              "fillmode": "overlay",
              "size": 10,
              "solidity": 0.2
             }
            },
            "type": "barpolar"
           }
          ],
          "carpet": [
           {
            "aaxis": {
             "endlinecolor": "#2a3f5f",
             "gridcolor": "white",
             "linecolor": "white",
             "minorgridcolor": "white",
             "startlinecolor": "#2a3f5f"
            },
            "baxis": {
             "endlinecolor": "#2a3f5f",
             "gridcolor": "white",
             "linecolor": "white",
             "minorgridcolor": "white",
             "startlinecolor": "#2a3f5f"
            },
            "type": "carpet"
           }
          ],
          "choropleth": [
           {
            "colorbar": {
             "outlinewidth": 0,
             "ticks": ""
            },
            "type": "choropleth"
           }
          ],
          "contour": [
           {
            "colorbar": {
             "outlinewidth": 0,
             "ticks": ""
            },
            "colorscale": [
             [
              0,
              "#0d0887"
             ],
             [
              0.1111111111111111,
              "#46039f"
             ],
             [
              0.2222222222222222,
              "#7201a8"
             ],
             [
              0.3333333333333333,
              "#9c179e"
             ],
             [
              0.4444444444444444,
              "#bd3786"
             ],
             [
              0.5555555555555556,
              "#d8576b"
             ],
             [
              0.6666666666666666,
              "#ed7953"
             ],
             [
              0.7777777777777778,
              "#fb9f3a"
             ],
             [
              0.8888888888888888,
              "#fdca26"
             ],
             [
              1,
              "#f0f921"
             ]
            ],
            "type": "contour"
           }
          ],
          "contourcarpet": [
           {
            "colorbar": {
             "outlinewidth": 0,
             "ticks": ""
            },
            "type": "contourcarpet"
           }
          ],
          "heatmap": [
           {
            "colorbar": {
             "outlinewidth": 0,
             "ticks": ""
            },
            "colorscale": [
             [
              0,
              "#0d0887"
             ],
             [
              0.1111111111111111,
              "#46039f"
             ],
             [
              0.2222222222222222,
              "#7201a8"
             ],
             [
              0.3333333333333333,
              "#9c179e"
             ],
             [
              0.4444444444444444,
              "#bd3786"
             ],
             [
              0.5555555555555556,
              "#d8576b"
             ],
             [
              0.6666666666666666,
              "#ed7953"
             ],
             [
              0.7777777777777778,
              "#fb9f3a"
             ],
             [
              0.8888888888888888,
              "#fdca26"
             ],
             [
              1,
              "#f0f921"
             ]
            ],
            "type": "heatmap"
           }
          ],
          "heatmapgl": [
           {
            "colorbar": {
             "outlinewidth": 0,
             "ticks": ""
            },
            "colorscale": [
             [
              0,
              "#0d0887"
             ],
             [
              0.1111111111111111,
              "#46039f"
             ],
             [
              0.2222222222222222,
              "#7201a8"
             ],
             [
              0.3333333333333333,
              "#9c179e"
             ],
             [
              0.4444444444444444,
              "#bd3786"
             ],
             [
              0.5555555555555556,
              "#d8576b"
             ],
             [
              0.6666666666666666,
              "#ed7953"
             ],
             [
              0.7777777777777778,
              "#fb9f3a"
             ],
             [
              0.8888888888888888,
              "#fdca26"
             ],
             [
              1,
              "#f0f921"
             ]
            ],
            "type": "heatmapgl"
           }
          ],
          "histogram": [
           {
            "marker": {
             "pattern": {
              "fillmode": "overlay",
              "size": 10,
              "solidity": 0.2
             }
            },
            "type": "histogram"
           }
          ],
          "histogram2d": [
           {
            "colorbar": {
             "outlinewidth": 0,
             "ticks": ""
            },
            "colorscale": [
             [
              0,
              "#0d0887"
             ],
             [
              0.1111111111111111,
              "#46039f"
             ],
             [
              0.2222222222222222,
              "#7201a8"
             ],
             [
              0.3333333333333333,
              "#9c179e"
             ],
             [
              0.4444444444444444,
              "#bd3786"
             ],
             [
              0.5555555555555556,
              "#d8576b"
             ],
             [
              0.6666666666666666,
              "#ed7953"
             ],
             [
              0.7777777777777778,
              "#fb9f3a"
             ],
             [
              0.8888888888888888,
              "#fdca26"
             ],
             [
              1,
              "#f0f921"
             ]
            ],
            "type": "histogram2d"
           }
          ],
          "histogram2dcontour": [
           {
            "colorbar": {
             "outlinewidth": 0,
             "ticks": ""
            },
            "colorscale": [
             [
              0,
              "#0d0887"
             ],
             [
              0.1111111111111111,
              "#46039f"
             ],
             [
              0.2222222222222222,
              "#7201a8"
             ],
             [
              0.3333333333333333,
              "#9c179e"
             ],
             [
              0.4444444444444444,
              "#bd3786"
             ],
             [
              0.5555555555555556,
              "#d8576b"
             ],
             [
              0.6666666666666666,
              "#ed7953"
             ],
             [
              0.7777777777777778,
              "#fb9f3a"
             ],
             [
              0.8888888888888888,
              "#fdca26"
             ],
             [
              1,
              "#f0f921"
             ]
            ],
            "type": "histogram2dcontour"
           }
          ],
          "mesh3d": [
           {
            "colorbar": {
             "outlinewidth": 0,
             "ticks": ""
            },
            "type": "mesh3d"
           }
          ],
          "parcoords": [
           {
            "line": {
             "colorbar": {
              "outlinewidth": 0,
              "ticks": ""
             }
            },
            "type": "parcoords"
           }
          ],
          "pie": [
           {
            "automargin": true,
            "type": "pie"
           }
          ],
          "scatter": [
           {
            "fillpattern": {
             "fillmode": "overlay",
             "size": 10,
             "solidity": 0.2
            },
            "type": "scatter"
           }
          ],
          "scatter3d": [
           {
            "line": {
             "colorbar": {
              "outlinewidth": 0,
              "ticks": ""
             }
            },
            "marker": {
             "colorbar": {
              "outlinewidth": 0,
              "ticks": ""
             }
            },
            "type": "scatter3d"
           }
          ],
          "scattercarpet": [
           {
            "marker": {
             "colorbar": {
              "outlinewidth": 0,
              "ticks": ""
             }
            },
            "type": "scattercarpet"
           }
          ],
          "scattergeo": [
           {
            "marker": {
             "colorbar": {
              "outlinewidth": 0,
              "ticks": ""
             }
            },
            "type": "scattergeo"
           }
          ],
          "scattergl": [
           {
            "marker": {
             "colorbar": {
              "outlinewidth": 0,
              "ticks": ""
             }
            },
            "type": "scattergl"
           }
          ],
          "scattermapbox": [
           {
            "marker": {
             "colorbar": {
              "outlinewidth": 0,
              "ticks": ""
             }
            },
            "type": "scattermapbox"
           }
          ],
          "scatterpolar": [
           {
            "marker": {
             "colorbar": {
              "outlinewidth": 0,
              "ticks": ""
             }
            },
            "type": "scatterpolar"
           }
          ],
          "scatterpolargl": [
           {
            "marker": {
             "colorbar": {
              "outlinewidth": 0,
              "ticks": ""
             }
            },
            "type": "scatterpolargl"
           }
          ],
          "scatterternary": [
           {
            "marker": {
             "colorbar": {
              "outlinewidth": 0,
              "ticks": ""
             }
            },
            "type": "scatterternary"
           }
          ],
          "surface": [
           {
            "colorbar": {
             "outlinewidth": 0,
             "ticks": ""
            },
            "colorscale": [
             [
              0,
              "#0d0887"
             ],
             [
              0.1111111111111111,
              "#46039f"
             ],
             [
              0.2222222222222222,
              "#7201a8"
             ],
             [
              0.3333333333333333,
              "#9c179e"
             ],
             [
              0.4444444444444444,
              "#bd3786"
             ],
             [
              0.5555555555555556,
              "#d8576b"
             ],
             [
              0.6666666666666666,
              "#ed7953"
             ],
             [
              0.7777777777777778,
              "#fb9f3a"
             ],
             [
              0.8888888888888888,
              "#fdca26"
             ],
             [
              1,
              "#f0f921"
             ]
            ],
            "type": "surface"
           }
          ],
          "table": [
           {
            "cells": {
             "fill": {
              "color": "#EBF0F8"
             },
             "line": {
              "color": "white"
             }
            },
            "header": {
             "fill": {
              "color": "#C8D4E3"
             },
             "line": {
              "color": "white"
             }
            },
            "type": "table"
           }
          ]
         },
         "layout": {
          "annotationdefaults": {
           "arrowcolor": "#2a3f5f",
           "arrowhead": 0,
           "arrowwidth": 1
          },
          "autotypenumbers": "strict",
          "coloraxis": {
           "colorbar": {
            "outlinewidth": 0,
            "ticks": ""
           }
          },
          "colorscale": {
           "diverging": [
            [
             0,
             "#8e0152"
            ],
            [
             0.1,
             "#c51b7d"
            ],
            [
             0.2,
             "#de77ae"
            ],
            [
             0.3,
             "#f1b6da"
            ],
            [
             0.4,
             "#fde0ef"
            ],
            [
             0.5,
             "#f7f7f7"
            ],
            [
             0.6,
             "#e6f5d0"
            ],
            [
             0.7,
             "#b8e186"
            ],
            [
             0.8,
             "#7fbc41"
            ],
            [
             0.9,
             "#4d9221"
            ],
            [
             1,
             "#276419"
            ]
           ],
           "sequential": [
            [
             0,
             "#0d0887"
            ],
            [
             0.1111111111111111,
             "#46039f"
            ],
            [
             0.2222222222222222,
             "#7201a8"
            ],
            [
             0.3333333333333333,
             "#9c179e"
            ],
            [
             0.4444444444444444,
             "#bd3786"
            ],
            [
             0.5555555555555556,
             "#d8576b"
            ],
            [
             0.6666666666666666,
             "#ed7953"
            ],
            [
             0.7777777777777778,
             "#fb9f3a"
            ],
            [
             0.8888888888888888,
             "#fdca26"
            ],
            [
             1,
             "#f0f921"
            ]
           ],
           "sequentialminus": [
            [
             0,
             "#0d0887"
            ],
            [
             0.1111111111111111,
             "#46039f"
            ],
            [
             0.2222222222222222,
             "#7201a8"
            ],
            [
             0.3333333333333333,
             "#9c179e"
            ],
            [
             0.4444444444444444,
             "#bd3786"
            ],
            [
             0.5555555555555556,
             "#d8576b"
            ],
            [
             0.6666666666666666,
             "#ed7953"
            ],
            [
             0.7777777777777778,
             "#fb9f3a"
            ],
            [
             0.8888888888888888,
             "#fdca26"
            ],
            [
             1,
             "#f0f921"
            ]
           ]
          },
          "colorway": [
           "#636efa",
           "#EF553B",
           "#00cc96",
           "#ab63fa",
           "#FFA15A",
           "#19d3f3",
           "#FF6692",
           "#B6E880",
           "#FF97FF",
           "#FECB52"
          ],
          "font": {
           "color": "#2a3f5f"
          },
          "geo": {
           "bgcolor": "white",
           "lakecolor": "white",
           "landcolor": "#E5ECF6",
           "showlakes": true,
           "showland": true,
           "subunitcolor": "white"
          },
          "hoverlabel": {
           "align": "left"
          },
          "hovermode": "closest",
          "mapbox": {
           "style": "light"
          },
          "paper_bgcolor": "white",
          "plot_bgcolor": "#E5ECF6",
          "polar": {
           "angularaxis": {
            "gridcolor": "white",
            "linecolor": "white",
            "ticks": ""
           },
           "bgcolor": "#E5ECF6",
           "radialaxis": {
            "gridcolor": "white",
            "linecolor": "white",
            "ticks": ""
           }
          },
          "scene": {
           "xaxis": {
            "backgroundcolor": "#E5ECF6",
            "gridcolor": "white",
            "gridwidth": 2,
            "linecolor": "white",
            "showbackground": true,
            "ticks": "",
            "zerolinecolor": "white"
           },
           "yaxis": {
            "backgroundcolor": "#E5ECF6",
            "gridcolor": "white",
            "gridwidth": 2,
            "linecolor": "white",
            "showbackground": true,
            "ticks": "",
            "zerolinecolor": "white"
           },
           "zaxis": {
            "backgroundcolor": "#E5ECF6",
            "gridcolor": "white",
            "gridwidth": 2,
            "linecolor": "white",
            "showbackground": true,
            "ticks": "",
            "zerolinecolor": "white"
           }
          },
          "shapedefaults": {
           "line": {
            "color": "#2a3f5f"
           }
          },
          "ternary": {
           "aaxis": {
            "gridcolor": "white",
            "linecolor": "white",
            "ticks": ""
           },
           "baxis": {
            "gridcolor": "white",
            "linecolor": "white",
            "ticks": ""
           },
           "bgcolor": "#E5ECF6",
           "caxis": {
            "gridcolor": "white",
            "linecolor": "white",
            "ticks": ""
           }
          },
          "title": {
           "x": 0.05
          },
          "xaxis": {
           "automargin": true,
           "gridcolor": "white",
           "linecolor": "white",
           "ticks": "",
           "title": {
            "standoff": 15
           },
           "zerolinecolor": "white",
           "zerolinewidth": 2
          },
          "yaxis": {
           "automargin": true,
           "gridcolor": "white",
           "linecolor": "white",
           "ticks": "",
           "title": {
            "standoff": 15
           },
           "zerolinecolor": "white",
           "zerolinewidth": 2
          }
         }
        },
        "title": {
         "text": "Optimization History Plot"
        },
        "xaxis": {
         "title": {
          "text": "Trial"
         }
        },
        "yaxis": {
         "title": {
          "text": "Objective Value"
         }
        }
       }
      },
      "text/html": [
       "<div>                        <script type=\"text/javascript\">window.PlotlyConfig = {MathJaxConfig: 'local'};</script>\n",
       "        <script charset=\"utf-8\" src=\"https://cdn.plot.ly/plotly-2.24.1.min.js\"></script>                <div id=\"d9176279-0dea-467f-98f3-78e9a13dcd99\" class=\"plotly-graph-div\" style=\"height:100%; width:100%;\"></div>            <script type=\"text/javascript\">                                    window.PLOTLYENV=window.PLOTLYENV || {};                                    if (document.getElementById(\"d9176279-0dea-467f-98f3-78e9a13dcd99\")) {                    Plotly.newPlot(                        \"d9176279-0dea-467f-98f3-78e9a13dcd99\",                        [{\"mode\":\"markers\",\"name\":\"Objective Value\",\"x\":[1,5,6,7,8,9,10,11,12,13,14,15,16,17,18,19,20,21,87,329],\"y\":[0.5948239621031838,0.6557915242370119,0.6113488504831912,0.5189579523909645,0.3580656105152277,0.608283918495139,0.3422852288874782,0.3447268303545605,0.6501831059108444,0.36819782146987795,0.43820464488706146,0.3978936881534904,0.546595120689767,0.3128127253280379,0.32162119201505757,0.3249156277303356,0.30998975269319395,0.3171618048790016,0.31225717976112505,0.41221480530750104],\"type\":\"scatter\"},{\"name\":\"Best Value\",\"x\":[1,5,6,7,8,9,10,11,12,13,14,15,16,17,18,19,20,21,87,329],\"y\":[0.5948239621031838,0.5948239621031838,0.5948239621031838,0.5189579523909645,0.3580656105152277,0.3580656105152277,0.3422852288874782,0.3422852288874782,0.3422852288874782,0.3422852288874782,0.3422852288874782,0.3422852288874782,0.3422852288874782,0.3128127253280379,0.3128127253280379,0.3128127253280379,0.30998975269319395,0.30998975269319395,0.30998975269319395,0.30998975269319395],\"type\":\"scatter\"}],                        {\"title\":{\"text\":\"Optimization History Plot\"},\"xaxis\":{\"title\":{\"text\":\"Trial\"}},\"yaxis\":{\"title\":{\"text\":\"Objective Value\"}},\"template\":{\"data\":{\"histogram2dcontour\":[{\"type\":\"histogram2dcontour\",\"colorbar\":{\"outlinewidth\":0,\"ticks\":\"\"},\"colorscale\":[[0.0,\"#0d0887\"],[0.1111111111111111,\"#46039f\"],[0.2222222222222222,\"#7201a8\"],[0.3333333333333333,\"#9c179e\"],[0.4444444444444444,\"#bd3786\"],[0.5555555555555556,\"#d8576b\"],[0.6666666666666666,\"#ed7953\"],[0.7777777777777778,\"#fb9f3a\"],[0.8888888888888888,\"#fdca26\"],[1.0,\"#f0f921\"]]}],\"choropleth\":[{\"type\":\"choropleth\",\"colorbar\":{\"outlinewidth\":0,\"ticks\":\"\"}}],\"histogram2d\":[{\"type\":\"histogram2d\",\"colorbar\":{\"outlinewidth\":0,\"ticks\":\"\"},\"colorscale\":[[0.0,\"#0d0887\"],[0.1111111111111111,\"#46039f\"],[0.2222222222222222,\"#7201a8\"],[0.3333333333333333,\"#9c179e\"],[0.4444444444444444,\"#bd3786\"],[0.5555555555555556,\"#d8576b\"],[0.6666666666666666,\"#ed7953\"],[0.7777777777777778,\"#fb9f3a\"],[0.8888888888888888,\"#fdca26\"],[1.0,\"#f0f921\"]]}],\"heatmap\":[{\"type\":\"heatmap\",\"colorbar\":{\"outlinewidth\":0,\"ticks\":\"\"},\"colorscale\":[[0.0,\"#0d0887\"],[0.1111111111111111,\"#46039f\"],[0.2222222222222222,\"#7201a8\"],[0.3333333333333333,\"#9c179e\"],[0.4444444444444444,\"#bd3786\"],[0.5555555555555556,\"#d8576b\"],[0.6666666666666666,\"#ed7953\"],[0.7777777777777778,\"#fb9f3a\"],[0.8888888888888888,\"#fdca26\"],[1.0,\"#f0f921\"]]}],\"heatmapgl\":[{\"type\":\"heatmapgl\",\"colorbar\":{\"outlinewidth\":0,\"ticks\":\"\"},\"colorscale\":[[0.0,\"#0d0887\"],[0.1111111111111111,\"#46039f\"],[0.2222222222222222,\"#7201a8\"],[0.3333333333333333,\"#9c179e\"],[0.4444444444444444,\"#bd3786\"],[0.5555555555555556,\"#d8576b\"],[0.6666666666666666,\"#ed7953\"],[0.7777777777777778,\"#fb9f3a\"],[0.8888888888888888,\"#fdca26\"],[1.0,\"#f0f921\"]]}],\"contourcarpet\":[{\"type\":\"contourcarpet\",\"colorbar\":{\"outlinewidth\":0,\"ticks\":\"\"}}],\"contour\":[{\"type\":\"contour\",\"colorbar\":{\"outlinewidth\":0,\"ticks\":\"\"},\"colorscale\":[[0.0,\"#0d0887\"],[0.1111111111111111,\"#46039f\"],[0.2222222222222222,\"#7201a8\"],[0.3333333333333333,\"#9c179e\"],[0.4444444444444444,\"#bd3786\"],[0.5555555555555556,\"#d8576b\"],[0.6666666666666666,\"#ed7953\"],[0.7777777777777778,\"#fb9f3a\"],[0.8888888888888888,\"#fdca26\"],[1.0,\"#f0f921\"]]}],\"surface\":[{\"type\":\"surface\",\"colorbar\":{\"outlinewidth\":0,\"ticks\":\"\"},\"colorscale\":[[0.0,\"#0d0887\"],[0.1111111111111111,\"#46039f\"],[0.2222222222222222,\"#7201a8\"],[0.3333333333333333,\"#9c179e\"],[0.4444444444444444,\"#bd3786\"],[0.5555555555555556,\"#d8576b\"],[0.6666666666666666,\"#ed7953\"],[0.7777777777777778,\"#fb9f3a\"],[0.8888888888888888,\"#fdca26\"],[1.0,\"#f0f921\"]]}],\"mesh3d\":[{\"type\":\"mesh3d\",\"colorbar\":{\"outlinewidth\":0,\"ticks\":\"\"}}],\"scatter\":[{\"fillpattern\":{\"fillmode\":\"overlay\",\"size\":10,\"solidity\":0.2},\"type\":\"scatter\"}],\"parcoords\":[{\"type\":\"parcoords\",\"line\":{\"colorbar\":{\"outlinewidth\":0,\"ticks\":\"\"}}}],\"scatterpolargl\":[{\"type\":\"scatterpolargl\",\"marker\":{\"colorbar\":{\"outlinewidth\":0,\"ticks\":\"\"}}}],\"bar\":[{\"error_x\":{\"color\":\"#2a3f5f\"},\"error_y\":{\"color\":\"#2a3f5f\"},\"marker\":{\"line\":{\"color\":\"#E5ECF6\",\"width\":0.5},\"pattern\":{\"fillmode\":\"overlay\",\"size\":10,\"solidity\":0.2}},\"type\":\"bar\"}],\"scattergeo\":[{\"type\":\"scattergeo\",\"marker\":{\"colorbar\":{\"outlinewidth\":0,\"ticks\":\"\"}}}],\"scatterpolar\":[{\"type\":\"scatterpolar\",\"marker\":{\"colorbar\":{\"outlinewidth\":0,\"ticks\":\"\"}}}],\"histogram\":[{\"marker\":{\"pattern\":{\"fillmode\":\"overlay\",\"size\":10,\"solidity\":0.2}},\"type\":\"histogram\"}],\"scattergl\":[{\"type\":\"scattergl\",\"marker\":{\"colorbar\":{\"outlinewidth\":0,\"ticks\":\"\"}}}],\"scatter3d\":[{\"type\":\"scatter3d\",\"line\":{\"colorbar\":{\"outlinewidth\":0,\"ticks\":\"\"}},\"marker\":{\"colorbar\":{\"outlinewidth\":0,\"ticks\":\"\"}}}],\"scattermapbox\":[{\"type\":\"scattermapbox\",\"marker\":{\"colorbar\":{\"outlinewidth\":0,\"ticks\":\"\"}}}],\"scatterternary\":[{\"type\":\"scatterternary\",\"marker\":{\"colorbar\":{\"outlinewidth\":0,\"ticks\":\"\"}}}],\"scattercarpet\":[{\"type\":\"scattercarpet\",\"marker\":{\"colorbar\":{\"outlinewidth\":0,\"ticks\":\"\"}}}],\"carpet\":[{\"aaxis\":{\"endlinecolor\":\"#2a3f5f\",\"gridcolor\":\"white\",\"linecolor\":\"white\",\"minorgridcolor\":\"white\",\"startlinecolor\":\"#2a3f5f\"},\"baxis\":{\"endlinecolor\":\"#2a3f5f\",\"gridcolor\":\"white\",\"linecolor\":\"white\",\"minorgridcolor\":\"white\",\"startlinecolor\":\"#2a3f5f\"},\"type\":\"carpet\"}],\"table\":[{\"cells\":{\"fill\":{\"color\":\"#EBF0F8\"},\"line\":{\"color\":\"white\"}},\"header\":{\"fill\":{\"color\":\"#C8D4E3\"},\"line\":{\"color\":\"white\"}},\"type\":\"table\"}],\"barpolar\":[{\"marker\":{\"line\":{\"color\":\"#E5ECF6\",\"width\":0.5},\"pattern\":{\"fillmode\":\"overlay\",\"size\":10,\"solidity\":0.2}},\"type\":\"barpolar\"}],\"pie\":[{\"automargin\":true,\"type\":\"pie\"}]},\"layout\":{\"autotypenumbers\":\"strict\",\"colorway\":[\"#636efa\",\"#EF553B\",\"#00cc96\",\"#ab63fa\",\"#FFA15A\",\"#19d3f3\",\"#FF6692\",\"#B6E880\",\"#FF97FF\",\"#FECB52\"],\"font\":{\"color\":\"#2a3f5f\"},\"hovermode\":\"closest\",\"hoverlabel\":{\"align\":\"left\"},\"paper_bgcolor\":\"white\",\"plot_bgcolor\":\"#E5ECF6\",\"polar\":{\"bgcolor\":\"#E5ECF6\",\"angularaxis\":{\"gridcolor\":\"white\",\"linecolor\":\"white\",\"ticks\":\"\"},\"radialaxis\":{\"gridcolor\":\"white\",\"linecolor\":\"white\",\"ticks\":\"\"}},\"ternary\":{\"bgcolor\":\"#E5ECF6\",\"aaxis\":{\"gridcolor\":\"white\",\"linecolor\":\"white\",\"ticks\":\"\"},\"baxis\":{\"gridcolor\":\"white\",\"linecolor\":\"white\",\"ticks\":\"\"},\"caxis\":{\"gridcolor\":\"white\",\"linecolor\":\"white\",\"ticks\":\"\"}},\"coloraxis\":{\"colorbar\":{\"outlinewidth\":0,\"ticks\":\"\"}},\"colorscale\":{\"sequential\":[[0.0,\"#0d0887\"],[0.1111111111111111,\"#46039f\"],[0.2222222222222222,\"#7201a8\"],[0.3333333333333333,\"#9c179e\"],[0.4444444444444444,\"#bd3786\"],[0.5555555555555556,\"#d8576b\"],[0.6666666666666666,\"#ed7953\"],[0.7777777777777778,\"#fb9f3a\"],[0.8888888888888888,\"#fdca26\"],[1.0,\"#f0f921\"]],\"sequentialminus\":[[0.0,\"#0d0887\"],[0.1111111111111111,\"#46039f\"],[0.2222222222222222,\"#7201a8\"],[0.3333333333333333,\"#9c179e\"],[0.4444444444444444,\"#bd3786\"],[0.5555555555555556,\"#d8576b\"],[0.6666666666666666,\"#ed7953\"],[0.7777777777777778,\"#fb9f3a\"],[0.8888888888888888,\"#fdca26\"],[1.0,\"#f0f921\"]],\"diverging\":[[0,\"#8e0152\"],[0.1,\"#c51b7d\"],[0.2,\"#de77ae\"],[0.3,\"#f1b6da\"],[0.4,\"#fde0ef\"],[0.5,\"#f7f7f7\"],[0.6,\"#e6f5d0\"],[0.7,\"#b8e186\"],[0.8,\"#7fbc41\"],[0.9,\"#4d9221\"],[1,\"#276419\"]]},\"xaxis\":{\"gridcolor\":\"white\",\"linecolor\":\"white\",\"ticks\":\"\",\"title\":{\"standoff\":15},\"zerolinecolor\":\"white\",\"automargin\":true,\"zerolinewidth\":2},\"yaxis\":{\"gridcolor\":\"white\",\"linecolor\":\"white\",\"ticks\":\"\",\"title\":{\"standoff\":15},\"zerolinecolor\":\"white\",\"automargin\":true,\"zerolinewidth\":2},\"scene\":{\"xaxis\":{\"backgroundcolor\":\"#E5ECF6\",\"gridcolor\":\"white\",\"linecolor\":\"white\",\"showbackground\":true,\"ticks\":\"\",\"zerolinecolor\":\"white\",\"gridwidth\":2},\"yaxis\":{\"backgroundcolor\":\"#E5ECF6\",\"gridcolor\":\"white\",\"linecolor\":\"white\",\"showbackground\":true,\"ticks\":\"\",\"zerolinecolor\":\"white\",\"gridwidth\":2},\"zaxis\":{\"backgroundcolor\":\"#E5ECF6\",\"gridcolor\":\"white\",\"linecolor\":\"white\",\"showbackground\":true,\"ticks\":\"\",\"zerolinecolor\":\"white\",\"gridwidth\":2}},\"shapedefaults\":{\"line\":{\"color\":\"#2a3f5f\"}},\"annotationdefaults\":{\"arrowcolor\":\"#2a3f5f\",\"arrowhead\":0,\"arrowwidth\":1},\"geo\":{\"bgcolor\":\"white\",\"landcolor\":\"#E5ECF6\",\"subunitcolor\":\"white\",\"showland\":true,\"showlakes\":true,\"lakecolor\":\"white\"},\"title\":{\"x\":0.05},\"mapbox\":{\"style\":\"light\"}}}},                        {\"responsive\": true}                    )                };                            </script>        </div>"
      ],
      "text/plain": [
       "Figure({\n",
       "    'data': [{'mode': 'markers',\n",
       "              'name': 'Objective Value',\n",
       "              'type': 'scatter',\n",
       "              'x': [1, 5, 6, 7, 8, 9, 10, 11, 12, 13, 14, 15, 16, 17, 18, 19, 20,\n",
       "                    21, 87, 329],\n",
       "              'y': [0.5948239621031838, 0.6557915242370119, 0.6113488504831912,\n",
       "                    0.5189579523909645, 0.3580656105152277, 0.608283918495139,\n",
       "                    0.3422852288874782, 0.3447268303545605, 0.6501831059108444,\n",
       "                    0.36819782146987795, 0.43820464488706146, 0.3978936881534904,\n",
       "                    0.546595120689767, 0.3128127253280379, 0.32162119201505757,\n",
       "                    0.3249156277303356, 0.30998975269319395, 0.3171618048790016,\n",
       "                    0.31225717976112505, 0.41221480530750104]},\n",
       "             {'name': 'Best Value',\n",
       "              'type': 'scatter',\n",
       "              'x': [1, 5, 6, 7, 8, 9, 10, 11, 12, 13, 14, 15, 16, 17, 18, 19, 20,\n",
       "                    21, 87, 329],\n",
       "              'y': [0.5948239621031838, 0.5948239621031838, 0.5948239621031838,\n",
       "                    0.5189579523909645, 0.3580656105152277, 0.3580656105152277,\n",
       "                    0.3422852288874782, 0.3422852288874782, 0.3422852288874782,\n",
       "                    0.3422852288874782, 0.3422852288874782, 0.3422852288874782,\n",
       "                    0.3422852288874782, 0.3128127253280379, 0.3128127253280379,\n",
       "                    0.3128127253280379, 0.30998975269319395, 0.30998975269319395,\n",
       "                    0.30998975269319395, 0.30998975269319395]}],\n",
       "    'layout': {'template': '...',\n",
       "               'title': {'text': 'Optimization History Plot'},\n",
       "               'xaxis': {'title': {'text': 'Trial'}},\n",
       "               'yaxis': {'title': {'text': 'Objective Value'}}}\n",
       "})"
      ]
     },
     "execution_count": 216,
     "metadata": {},
     "output_type": "execute_result"
    }
   ],
   "source": [
    "plot_optimization_history(study)"
   ]
  },
  {
   "cell_type": "code",
   "execution_count": null,
   "metadata": {},
   "outputs": [
    {
     "ename": "ValueError",
     "evalue": "Mime type rendering requires nbformat>=4.2.0 but it is not installed",
     "output_type": "error",
     "traceback": [
      "\u001b[1;31m---------------------------------------------------------------------------\u001b[0m",
      "\u001b[1;31mValueError\u001b[0m                                Traceback (most recent call last)",
      "File \u001b[1;32m~\\AppData\\Roaming\\Python\\Python38\\site-packages\\IPython\\core\\formatters.py:920\u001b[0m, in \u001b[0;36mIPythonDisplayFormatter.__call__\u001b[1;34m(self, obj)\u001b[0m\n\u001b[0;32m    918\u001b[0m method \u001b[39m=\u001b[39m get_real_method(obj, \u001b[39mself\u001b[39m\u001b[39m.\u001b[39mprint_method)\n\u001b[0;32m    919\u001b[0m \u001b[39mif\u001b[39;00m method \u001b[39mis\u001b[39;00m \u001b[39mnot\u001b[39;00m \u001b[39mNone\u001b[39;00m:\n\u001b[1;32m--> 920\u001b[0m     method()\n\u001b[0;32m    921\u001b[0m     \u001b[39mreturn\u001b[39;00m \u001b[39mTrue\u001b[39;00m\n",
      "File \u001b[1;32mc:\\Users\\111\\AppData\\Local\\Programs\\Python\\Python38\\lib\\site-packages\\plotly\\basedatatypes.py:834\u001b[0m, in \u001b[0;36mBaseFigure._ipython_display_\u001b[1;34m(self)\u001b[0m\n\u001b[0;32m    831\u001b[0m \u001b[39mimport\u001b[39;00m \u001b[39mplotly\u001b[39;00m\u001b[39m.\u001b[39;00m\u001b[39mio\u001b[39;00m \u001b[39mas\u001b[39;00m \u001b[39mpio\u001b[39;00m\n\u001b[0;32m    833\u001b[0m \u001b[39mif\u001b[39;00m pio\u001b[39m.\u001b[39mrenderers\u001b[39m.\u001b[39mrender_on_display \u001b[39mand\u001b[39;00m pio\u001b[39m.\u001b[39mrenderers\u001b[39m.\u001b[39mdefault:\n\u001b[1;32m--> 834\u001b[0m     pio\u001b[39m.\u001b[39;49mshow(\u001b[39mself\u001b[39;49m)\n\u001b[0;32m    835\u001b[0m \u001b[39melse\u001b[39;00m:\n\u001b[0;32m    836\u001b[0m     \u001b[39mprint\u001b[39m(\u001b[39mrepr\u001b[39m(\u001b[39mself\u001b[39m))\n",
      "File \u001b[1;32mc:\\Users\\111\\AppData\\Local\\Programs\\Python\\Python38\\lib\\site-packages\\plotly\\io\\_renderers.py:396\u001b[0m, in \u001b[0;36mshow\u001b[1;34m(fig, renderer, validate, **kwargs)\u001b[0m\n\u001b[0;32m    391\u001b[0m         \u001b[39mraise\u001b[39;00m \u001b[39mValueError\u001b[39;00m(\n\u001b[0;32m    392\u001b[0m             \u001b[39m\"\u001b[39m\u001b[39mMime type rendering requires ipython but it is not installed\u001b[39m\u001b[39m\"\u001b[39m\n\u001b[0;32m    393\u001b[0m         )\n\u001b[0;32m    395\u001b[0m     \u001b[39mif\u001b[39;00m \u001b[39mnot\u001b[39;00m nbformat \u001b[39mor\u001b[39;00m Version(nbformat\u001b[39m.\u001b[39m__version__) \u001b[39m<\u001b[39m Version(\u001b[39m\"\u001b[39m\u001b[39m4.2.0\u001b[39m\u001b[39m\"\u001b[39m):\n\u001b[1;32m--> 396\u001b[0m         \u001b[39mraise\u001b[39;00m \u001b[39mValueError\u001b[39;00m(\n\u001b[0;32m    397\u001b[0m             \u001b[39m\"\u001b[39m\u001b[39mMime type rendering requires nbformat>=4.2.0 but it is not installed\u001b[39m\u001b[39m\"\u001b[39m\n\u001b[0;32m    398\u001b[0m         )\n\u001b[0;32m    400\u001b[0m     ipython_display\u001b[39m.\u001b[39mdisplay(bundle, raw\u001b[39m=\u001b[39m\u001b[39mTrue\u001b[39;00m)\n\u001b[0;32m    402\u001b[0m \u001b[39m# external renderers\u001b[39;00m\n",
      "\u001b[1;31mValueError\u001b[0m: Mime type rendering requires nbformat>=4.2.0 but it is not installed"
     ]
    },
    {
     "data": {
      "application/vnd.plotly.v1+json": {
       "config": {
        "plotlyServerURL": "https://plot.ly"
       },
       "data": [
        {
         "marker": {
          "color": [
           1,
           5,
           6,
           7,
           8,
           9,
           10,
           11,
           12,
           13,
           14,
           15,
           16,
           17,
           18,
           19,
           66,
           219
          ],
          "colorbar": {
           "title": {
            "text": "Trial"
           },
           "x": 1,
           "xpad": 40
          },
          "colorscale": [
           [
            0,
            "rgb(247,251,255)"
           ],
           [
            0.125,
            "rgb(222,235,247)"
           ],
           [
            0.25,
            "rgb(198,219,239)"
           ],
           [
            0.375,
            "rgb(158,202,225)"
           ],
           [
            0.5,
            "rgb(107,174,214)"
           ],
           [
            0.625,
            "rgb(66,146,198)"
           ],
           [
            0.75,
            "rgb(33,113,181)"
           ],
           [
            0.875,
            "rgb(8,81,156)"
           ],
           [
            1,
            "rgb(8,48,107)"
           ]
          ],
          "line": {
           "color": "Grey",
           "width": 0.5
          },
          "showscale": true
         },
         "mode": "markers",
         "showlegend": false,
         "type": "scatter",
         "x": [
          0.574485163632042,
          0.23713402899336497,
          0.04264813784432918,
          0.08032068562667222,
          0.012197768563438372,
          0.1821930437934653,
          1.9488135833929595e-7,
          7.593034903208851e-8,
          0.000001033375989766645,
          0.0066946948903108105,
          0.000008909025084911593,
          0.0005852079598515014,
          0.0002219322141207024,
          1.0601341392077246e-8,
          1.2862740622795762e-8,
          1.0456940308891758e-8,
          3.4246884993023374e-7,
          0.000005009324548277015
         ],
         "xaxis": "x",
         "y": [
          0.5967335254562047,
          0.6433822087003274,
          0.6184598051405754,
          0.5233455573713329,
          0.4135077642757382,
          0.6033821687360186,
          0.38797169527703657,
          0.48554161494647613,
          0.6513827334700728,
          0.43322869655213225,
          0.5276990147146629,
          0.3895251437757331,
          0.40468399162037577,
          0.3537327900333324,
          0.389529660605126,
          0.4147123753726313,
          0.4157193493222701,
          0.4648339002118201
         ],
         "yaxis": "y"
        },
        {
         "marker": {
          "color": [
           1,
           5,
           6,
           7,
           8,
           9,
           10,
           11,
           12,
           13,
           14,
           15,
           16,
           17,
           18,
           19,
           66,
           219
          ],
          "colorbar": {
           "title": {
            "text": "Trial"
           },
           "x": 1,
           "xpad": 40
          },
          "colorscale": [
           [
            0,
            "rgb(247,251,255)"
           ],
           [
            0.125,
            "rgb(222,235,247)"
           ],
           [
            0.25,
            "rgb(198,219,239)"
           ],
           [
            0.375,
            "rgb(158,202,225)"
           ],
           [
            0.5,
            "rgb(107,174,214)"
           ],
           [
            0.625,
            "rgb(66,146,198)"
           ],
           [
            0.75,
            "rgb(33,113,181)"
           ],
           [
            0.875,
            "rgb(8,81,156)"
           ],
           [
            1,
            "rgb(8,48,107)"
           ]
          ],
          "line": {
           "color": "Grey",
           "width": 0.5
          },
          "showscale": false
         },
         "mode": "markers",
         "showlegend": false,
         "type": "scatter",
         "x": [
          "gbtree",
          "gblinear",
          "dart",
          "gbtree",
          "gbtree",
          "gblinear",
          "gbtree",
          "dart",
          "dart",
          "dart",
          "gbtree",
          "gbtree",
          "gbtree",
          "gbtree",
          "gbtree",
          "gbtree",
          "gbtree",
          "gbtree"
         ],
         "xaxis": "x2",
         "y": [
          0.5967335254562047,
          0.6433822087003274,
          0.6184598051405754,
          0.5233455573713329,
          0.4135077642757382,
          0.6033821687360186,
          0.38797169527703657,
          0.48554161494647613,
          0.6513827334700728,
          0.43322869655213225,
          0.5276990147146629,
          0.3895251437757331,
          0.40468399162037577,
          0.3537327900333324,
          0.389529660605126,
          0.4147123753726313,
          0.4157193493222701,
          0.4648339002118201
         ],
         "yaxis": "y2"
        },
        {
         "marker": {
          "color": [
           1,
           5,
           6,
           7,
           8,
           9,
           10,
           11,
           12,
           13,
           14,
           15,
           16,
           17,
           18,
           19,
           66,
           219
          ],
          "colorbar": {
           "title": {
            "text": "Trial"
           },
           "x": 1,
           "xpad": 40
          },
          "colorscale": [
           [
            0,
            "rgb(247,251,255)"
           ],
           [
            0.125,
            "rgb(222,235,247)"
           ],
           [
            0.25,
            "rgb(198,219,239)"
           ],
           [
            0.375,
            "rgb(158,202,225)"
           ],
           [
            0.5,
            "rgb(107,174,214)"
           ],
           [
            0.625,
            "rgb(66,146,198)"
           ],
           [
            0.75,
            "rgb(33,113,181)"
           ],
           [
            0.875,
            "rgb(8,81,156)"
           ],
           [
            1,
            "rgb(8,48,107)"
           ]
          ],
          "line": {
           "color": "Grey",
           "width": 0.5
          },
          "showscale": false
         },
         "mode": "markers",
         "showlegend": false,
         "type": "scatter",
         "x": [
          0.3274034664069657,
          0.3175897174514871,
          0.3685607058124285,
          0.39853881491158955,
          0.6625803079727366,
          0.44622975382137786,
          0.6848722277386503,
          0.4562646731757538,
          0.38052698589006184,
          0.5793834983561478,
          0.7888390888089066,
          0.6423490725632033,
          0.5874883349517384,
          0.7148589786704331,
          0.7796283752859363,
          0.7165417481368155,
          0.24630634913685873,
          0.5251350979070596
         ],
         "xaxis": "x3",
         "y": [
          0.5967335254562047,
          0.6433822087003274,
          0.6184598051405754,
          0.5233455573713329,
          0.4135077642757382,
          0.6033821687360186,
          0.38797169527703657,
          0.48554161494647613,
          0.6513827334700728,
          0.43322869655213225,
          0.5276990147146629,
          0.3895251437757331,
          0.40468399162037577,
          0.3537327900333324,
          0.389529660605126,
          0.4147123753726313,
          0.4157193493222701,
          0.4648339002118201
         ],
         "yaxis": "y3"
        },
        {
         "marker": {
          "color": [
           1,
           6,
           7,
           8,
           10,
           11,
           12,
           13,
           14,
           15,
           16,
           17,
           18,
           19,
           66,
           219
          ],
          "colorbar": {
           "title": {
            "text": "Trial"
           },
           "x": 1,
           "xpad": 40
          },
          "colorscale": [
           [
            0,
            "rgb(247,251,255)"
           ],
           [
            0.125,
            "rgb(222,235,247)"
           ],
           [
            0.25,
            "rgb(198,219,239)"
           ],
           [
            0.375,
            "rgb(158,202,225)"
           ],
           [
            0.5,
            "rgb(107,174,214)"
           ],
           [
            0.625,
            "rgb(66,146,198)"
           ],
           [
            0.75,
            "rgb(33,113,181)"
           ],
           [
            0.875,
            "rgb(8,81,156)"
           ],
           [
            1,
            "rgb(8,48,107)"
           ]
          ],
          "line": {
           "color": "Grey",
           "width": 0.5
          },
          "showscale": false
         },
         "mode": "markers",
         "showlegend": false,
         "type": "scatter",
         "x": [
          0.0035498788321965025,
          0.0026471141828218157,
          0.008569331925053986,
          0.03699972431463808,
          0.411511304956109,
          0.38211294416912245,
          0.0012902113024567154,
          0.0404877881815341,
          0.8264588941152486,
          0.15882107231676543,
          0.20690550086963347,
          0.13341517481633328,
          0.12151362993311442,
          0.8675145655490915,
          0.07729443028734513,
          0.3444315140977616
         ],
         "xaxis": "x4",
         "y": [
          0.5967335254562047,
          0.6184598051405754,
          0.5233455573713329,
          0.4135077642757382,
          0.38797169527703657,
          0.48554161494647613,
          0.6513827334700728,
          0.43322869655213225,
          0.5276990147146629,
          0.3895251437757331,
          0.40468399162037577,
          0.3537327900333324,
          0.389529660605126,
          0.4147123753726313,
          0.4157193493222701,
          0.4648339002118201
         ],
         "yaxis": "y4"
        },
        {
         "marker": {
          "color": [
           1,
           6,
           7,
           8,
           10,
           11,
           12,
           13,
           14,
           15,
           16,
           17,
           18,
           19,
           66,
           219
          ],
          "colorbar": {
           "title": {
            "text": "Trial"
           },
           "x": 1,
           "xpad": 40
          },
          "colorscale": [
           [
            0,
            "rgb(247,251,255)"
           ],
           [
            0.125,
            "rgb(222,235,247)"
           ],
           [
            0.25,
            "rgb(198,219,239)"
           ],
           [
            0.375,
            "rgb(158,202,225)"
           ],
           [
            0.5,
            "rgb(107,174,214)"
           ],
           [
            0.625,
            "rgb(66,146,198)"
           ],
           [
            0.75,
            "rgb(33,113,181)"
           ],
           [
            0.875,
            "rgb(8,81,156)"
           ],
           [
            1,
            "rgb(8,48,107)"
           ]
          ],
          "line": {
           "color": "Grey",
           "width": 0.5
          },
          "showscale": false
         },
         "mode": "markers",
         "showlegend": false,
         "type": "scatter",
         "x": [
          0.000002716051144654844,
          0.026156272064707428,
          0.000003994538177154855,
          0.00002632256136809142,
          0.026876741555610546,
          1.1366245816554797e-8,
          0.0007525141520487903,
          5.276162470390128e-8,
          0.6090097675018683,
          0.0007202349503619245,
          0.0028138475160906663,
          0.024208002338502885,
          0.11234659313668886,
          0.02355131967330587,
          0.790891120470132,
          0.008188616485489788
         ],
         "xaxis": "x5",
         "y": [
          0.5967335254562047,
          0.6184598051405754,
          0.5233455573713329,
          0.4135077642757382,
          0.38797169527703657,
          0.48554161494647613,
          0.6513827334700728,
          0.43322869655213225,
          0.5276990147146629,
          0.3895251437757331,
          0.40468399162037577,
          0.3537327900333324,
          0.389529660605126,
          0.4147123753726313,
          0.4157193493222701,
          0.4648339002118201
         ],
         "yaxis": "y5"
        },
        {
         "marker": {
          "color": [
           1,
           6,
           7,
           8,
           10,
           11,
           12,
           13,
           14,
           15,
           16,
           17,
           18,
           19,
           66,
           219
          ],
          "colorbar": {
           "title": {
            "text": "Trial"
           },
           "x": 1,
           "xpad": 40
          },
          "colorscale": [
           [
            0,
            "rgb(247,251,255)"
           ],
           [
            0.125,
            "rgb(222,235,247)"
           ],
           [
            0.25,
            "rgb(198,219,239)"
           ],
           [
            0.375,
            "rgb(158,202,225)"
           ],
           [
            0.5,
            "rgb(107,174,214)"
           ],
           [
            0.625,
            "rgb(66,146,198)"
           ],
           [
            0.75,
            "rgb(33,113,181)"
           ],
           [
            0.875,
            "rgb(8,81,156)"
           ],
           [
            1,
            "rgb(8,48,107)"
           ]
          ],
          "line": {
           "color": "Grey",
           "width": 0.5
          },
          "showscale": false
         },
         "mode": "markers",
         "showlegend": false,
         "type": "scatter",
         "x": [
          "depthwise",
          "lossguide",
          "depthwise",
          "lossguide",
          "lossguide",
          "depthwise",
          "depthwise",
          "depthwise",
          "lossguide",
          "lossguide",
          "lossguide",
          "lossguide",
          "lossguide",
          "lossguide",
          "lossguide",
          "lossguide"
         ],
         "xaxis": "x6",
         "y": [
          0.5967335254562047,
          0.6184598051405754,
          0.5233455573713329,
          0.4135077642757382,
          0.38797169527703657,
          0.48554161494647613,
          0.6513827334700728,
          0.43322869655213225,
          0.5276990147146629,
          0.3895251437757331,
          0.40468399162037577,
          0.3537327900333324,
          0.389529660605126,
          0.4147123753726313,
          0.4157193493222701,
          0.4648339002118201
         ],
         "yaxis": "y6"
        },
        {
         "marker": {
          "color": [
           1,
           5,
           6,
           7,
           8,
           9,
           10,
           11,
           12,
           13,
           14,
           15,
           16,
           17,
           18,
           19,
           66,
           219
          ],
          "colorbar": {
           "title": {
            "text": "Trial"
           },
           "x": 1,
           "xpad": 40
          },
          "colorscale": [
           [
            0,
            "rgb(247,251,255)"
           ],
           [
            0.125,
            "rgb(222,235,247)"
           ],
           [
            0.25,
            "rgb(198,219,239)"
           ],
           [
            0.375,
            "rgb(158,202,225)"
           ],
           [
            0.5,
            "rgb(107,174,214)"
           ],
           [
            0.625,
            "rgb(66,146,198)"
           ],
           [
            0.75,
            "rgb(33,113,181)"
           ],
           [
            0.875,
            "rgb(8,81,156)"
           ],
           [
            1,
            "rgb(8,48,107)"
           ]
          ],
          "line": {
           "color": "Grey",
           "width": 0.5
          },
          "showscale": false
         },
         "mode": "markers",
         "showlegend": false,
         "type": "scatter",
         "x": [
          1.4610865886287176e-8,
          0.0006070155694141794,
          0.000001481809088646707,
          8.451863533931625e-8,
          0.005081106499593573,
          0.00011710232809812825,
          0.0000020797523481449624,
          0.000003499675682069358,
          0.5007008855904077,
          7.963433393223581e-7,
          0.000008124962944565012,
          0.004839389592902318,
          0.005201901877653327,
          0.00005007638479414757,
          0.000015672390461139365,
          2.837828725955016e-7,
          0.000021049849528991988,
          1.3696307447668935e-7
         ],
         "xaxis": "x7",
         "y": [
          0.5967335254562047,
          0.6433822087003274,
          0.6184598051405754,
          0.5233455573713329,
          0.4135077642757382,
          0.6033821687360186,
          0.38797169527703657,
          0.48554161494647613,
          0.6513827334700728,
          0.43322869655213225,
          0.5276990147146629,
          0.3895251437757331,
          0.40468399162037577,
          0.3537327900333324,
          0.389529660605126,
          0.4147123753726313,
          0.4157193493222701,
          0.4648339002118201
         ],
         "yaxis": "y7"
        },
        {
         "marker": {
          "color": [
           1,
           6,
           7,
           8,
           10,
           11,
           12,
           13,
           14,
           15,
           16,
           17,
           18,
           19,
           66,
           219
          ],
          "colorbar": {
           "title": {
            "text": "Trial"
           },
           "x": 1,
           "xpad": 40
          },
          "colorscale": [
           [
            0,
            "rgb(247,251,255)"
           ],
           [
            0.125,
            "rgb(222,235,247)"
           ],
           [
            0.25,
            "rgb(198,219,239)"
           ],
           [
            0.375,
            "rgb(158,202,225)"
           ],
           [
            0.5,
            "rgb(107,174,214)"
           ],
           [
            0.625,
            "rgb(66,146,198)"
           ],
           [
            0.75,
            "rgb(33,113,181)"
           ],
           [
            0.875,
            "rgb(8,81,156)"
           ],
           [
            1,
            "rgb(8,48,107)"
           ]
          ],
          "line": {
           "color": "Grey",
           "width": 0.5
          },
          "showscale": false
         },
         "mode": "markers",
         "showlegend": false,
         "type": "scatter",
         "x": [
          3,
          9,
          2,
          8,
          11,
          14,
          5,
          11,
          15,
          7,
          7,
          12,
          12,
          12,
          16,
          10
         ],
         "xaxis": "x8",
         "y": [
          0.5967335254562047,
          0.6184598051405754,
          0.5233455573713329,
          0.4135077642757382,
          0.38797169527703657,
          0.48554161494647613,
          0.6513827334700728,
          0.43322869655213225,
          0.5276990147146629,
          0.3895251437757331,
          0.40468399162037577,
          0.3537327900333324,
          0.389529660605126,
          0.4147123753726313,
          0.4157193493222701,
          0.4648339002118201
         ],
         "yaxis": "y8"
        },
        {
         "marker": {
          "color": [
           6,
           11,
           12,
           13
          ],
          "colorbar": {
           "title": {
            "text": "Trial"
           },
           "x": 1,
           "xpad": 40
          },
          "colorscale": [
           [
            0,
            "rgb(247,251,255)"
           ],
           [
            0.125,
            "rgb(222,235,247)"
           ],
           [
            0.25,
            "rgb(198,219,239)"
           ],
           [
            0.375,
            "rgb(158,202,225)"
           ],
           [
            0.5,
            "rgb(107,174,214)"
           ],
           [
            0.625,
            "rgb(66,146,198)"
           ],
           [
            0.75,
            "rgb(33,113,181)"
           ],
           [
            0.875,
            "rgb(8,81,156)"
           ],
           [
            1,
            "rgb(8,48,107)"
           ]
          ],
          "line": {
           "color": "Grey",
           "width": 0.5
          },
          "showscale": false
         },
         "mode": "markers",
         "showlegend": false,
         "type": "scatter",
         "x": [
          "forest",
          "forest",
          "tree",
          "forest"
         ],
         "xaxis": "x9",
         "y": [
          0.6184598051405754,
          0.48554161494647613,
          0.6513827334700728,
          0.43322869655213225
         ],
         "yaxis": "y9"
        },
        {
         "marker": {
          "color": [
           6,
           11,
           12,
           13
          ],
          "colorbar": {
           "title": {
            "text": "Trial"
           },
           "x": 1,
           "xpad": 40
          },
          "colorscale": [
           [
            0,
            "rgb(247,251,255)"
           ],
           [
            0.125,
            "rgb(222,235,247)"
           ],
           [
            0.25,
            "rgb(198,219,239)"
           ],
           [
            0.375,
            "rgb(158,202,225)"
           ],
           [
            0.5,
            "rgb(107,174,214)"
           ],
           [
            0.625,
            "rgb(66,146,198)"
           ],
           [
            0.75,
            "rgb(33,113,181)"
           ],
           [
            0.875,
            "rgb(8,81,156)"
           ],
           [
            1,
            "rgb(8,48,107)"
           ]
          ],
          "line": {
           "color": "Grey",
           "width": 0.5
          },
          "showscale": false
         },
         "mode": "markers",
         "showlegend": false,
         "type": "scatter",
         "x": [
          0.0045170900739091345,
          0.0000038514428343995194,
          0.000082342127198163,
          1.3573837053629966e-8
         ],
         "xaxis": "x10",
         "y": [
          0.6184598051405754,
          0.48554161494647613,
          0.6513827334700728,
          0.43322869655213225
         ],
         "yaxis": "y10"
        },
        {
         "marker": {
          "color": [
           6,
           11,
           12,
           13
          ],
          "colorbar": {
           "title": {
            "text": "Trial"
           },
           "x": 1,
           "xpad": 40
          },
          "colorscale": [
           [
            0,
            "rgb(247,251,255)"
           ],
           [
            0.125,
            "rgb(222,235,247)"
           ],
           [
            0.25,
            "rgb(198,219,239)"
           ],
           [
            0.375,
            "rgb(158,202,225)"
           ],
           [
            0.5,
            "rgb(107,174,214)"
           ],
           [
            0.625,
            "rgb(66,146,198)"
           ],
           [
            0.75,
            "rgb(33,113,181)"
           ],
           [
            0.875,
            "rgb(8,81,156)"
           ],
           [
            1,
            "rgb(8,48,107)"
           ]
          ],
          "line": {
           "color": "Grey",
           "width": 0.5
          },
          "showscale": false
         },
         "mode": "markers",
         "showlegend": false,
         "type": "scatter",
         "x": [
          "uniform",
          "uniform",
          "weighted",
          "uniform"
         ],
         "xaxis": "x11",
         "y": [
          0.6184598051405754,
          0.48554161494647613,
          0.6513827334700728,
          0.43322869655213225
         ],
         "yaxis": "y11"
        },
        {
         "marker": {
          "color": [
           6,
           11,
           12,
           13
          ],
          "colorbar": {
           "title": {
            "text": "Trial"
           },
           "x": 1,
           "xpad": 40
          },
          "colorscale": [
           [
            0,
            "rgb(247,251,255)"
           ],
           [
            0.125,
            "rgb(222,235,247)"
           ],
           [
            0.25,
            "rgb(198,219,239)"
           ],
           [
            0.375,
            "rgb(158,202,225)"
           ],
           [
            0.5,
            "rgb(107,174,214)"
           ],
           [
            0.625,
            "rgb(66,146,198)"
           ],
           [
            0.75,
            "rgb(33,113,181)"
           ],
           [
            0.875,
            "rgb(8,81,156)"
           ],
           [
            1,
            "rgb(8,48,107)"
           ]
          ],
          "line": {
           "color": "Grey",
           "width": 0.5
          },
          "showscale": false
         },
         "mode": "markers",
         "showlegend": false,
         "type": "scatter",
         "x": [
          0.006792933207180863,
          0.00014135949140057862,
          0.7677213757517419,
          0.0001249523609345854
         ],
         "xaxis": "x12",
         "y": [
          0.6184598051405754,
          0.48554161494647613,
          0.6513827334700728,
          0.43322869655213225
         ],
         "yaxis": "y12"
        },
        {
         "marker": {
          "color": [
           1,
           5,
           6,
           7,
           8,
           9,
           10,
           11,
           12,
           13,
           14,
           15,
           16,
           17,
           18,
           19,
           66,
           219
          ],
          "colorbar": {
           "title": {
            "text": "Trial"
           },
           "x": 1,
           "xpad": 40
          },
          "colorscale": [
           [
            0,
            "rgb(247,251,255)"
           ],
           [
            0.125,
            "rgb(222,235,247)"
           ],
           [
            0.25,
            "rgb(198,219,239)"
           ],
           [
            0.375,
            "rgb(158,202,225)"
           ],
           [
            0.5,
            "rgb(107,174,214)"
           ],
           [
            0.625,
            "rgb(66,146,198)"
           ],
           [
            0.75,
            "rgb(33,113,181)"
           ],
           [
            0.875,
            "rgb(8,81,156)"
           ],
           [
            1,
            "rgb(8,48,107)"
           ]
          ],
          "line": {
           "color": "Grey",
           "width": 0.5
          },
          "showscale": false
         },
         "mode": "markers",
         "showlegend": false,
         "type": "scatter",
         "x": [
          0.6994655844802531,
          0.2530955012311517,
          0.4140519960161536,
          0.5739788760965348,
          0.5367663185416978,
          0.349575337489325,
          0.757818591405544,
          0.33676109752516503,
          0.4983491035354313,
          0.420669879631552,
          0.7730675009063073,
          0.6372224440894432,
          0.6745014789327672,
          0.7996174631849311,
          0.7976101936167284,
          0.7377626262696191,
          0.7829871658936365,
          0.630545694690643
         ],
         "xaxis": "x13",
         "y": [
          0.5967335254562047,
          0.6433822087003274,
          0.6184598051405754,
          0.5233455573713329,
          0.4135077642757382,
          0.6033821687360186,
          0.38797169527703657,
          0.48554161494647613,
          0.6513827334700728,
          0.43322869655213225,
          0.5276990147146629,
          0.3895251437757331,
          0.40468399162037577,
          0.3537327900333324,
          0.389529660605126,
          0.4147123753726313,
          0.4157193493222701,
          0.4648339002118201
         ],
         "yaxis": "y13"
        }
       ],
       "layout": {
        "template": {
         "data": {
          "bar": [
           {
            "error_x": {
             "color": "#2a3f5f"
            },
            "error_y": {
             "color": "#2a3f5f"
            },
            "marker": {
             "line": {
              "color": "#E5ECF6",
              "width": 0.5
             },
             "pattern": {
              "fillmode": "overlay",
              "size": 10,
              "solidity": 0.2
             }
            },
            "type": "bar"
           }
          ],
          "barpolar": [
           {
            "marker": {
             "line": {
              "color": "#E5ECF6",
              "width": 0.5
             },
             "pattern": {
              "fillmode": "overlay",
              "size": 10,
              "solidity": 0.2
             }
            },
            "type": "barpolar"
           }
          ],
          "carpet": [
           {
            "aaxis": {
             "endlinecolor": "#2a3f5f",
             "gridcolor": "white",
             "linecolor": "white",
             "minorgridcolor": "white",
             "startlinecolor": "#2a3f5f"
            },
            "baxis": {
             "endlinecolor": "#2a3f5f",
             "gridcolor": "white",
             "linecolor": "white",
             "minorgridcolor": "white",
             "startlinecolor": "#2a3f5f"
            },
            "type": "carpet"
           }
          ],
          "choropleth": [
           {
            "colorbar": {
             "outlinewidth": 0,
             "ticks": ""
            },
            "type": "choropleth"
           }
          ],
          "contour": [
           {
            "colorbar": {
             "outlinewidth": 0,
             "ticks": ""
            },
            "colorscale": [
             [
              0,
              "#0d0887"
             ],
             [
              0.1111111111111111,
              "#46039f"
             ],
             [
              0.2222222222222222,
              "#7201a8"
             ],
             [
              0.3333333333333333,
              "#9c179e"
             ],
             [
              0.4444444444444444,
              "#bd3786"
             ],
             [
              0.5555555555555556,
              "#d8576b"
             ],
             [
              0.6666666666666666,
              "#ed7953"
             ],
             [
              0.7777777777777778,
              "#fb9f3a"
             ],
             [
              0.8888888888888888,
              "#fdca26"
             ],
             [
              1,
              "#f0f921"
             ]
            ],
            "type": "contour"
           }
          ],
          "contourcarpet": [
           {
            "colorbar": {
             "outlinewidth": 0,
             "ticks": ""
            },
            "type": "contourcarpet"
           }
          ],
          "heatmap": [
           {
            "colorbar": {
             "outlinewidth": 0,
             "ticks": ""
            },
            "colorscale": [
             [
              0,
              "#0d0887"
             ],
             [
              0.1111111111111111,
              "#46039f"
             ],
             [
              0.2222222222222222,
              "#7201a8"
             ],
             [
              0.3333333333333333,
              "#9c179e"
             ],
             [
              0.4444444444444444,
              "#bd3786"
             ],
             [
              0.5555555555555556,
              "#d8576b"
             ],
             [
              0.6666666666666666,
              "#ed7953"
             ],
             [
              0.7777777777777778,
              "#fb9f3a"
             ],
             [
              0.8888888888888888,
              "#fdca26"
             ],
             [
              1,
              "#f0f921"
             ]
            ],
            "type": "heatmap"
           }
          ],
          "heatmapgl": [
           {
            "colorbar": {
             "outlinewidth": 0,
             "ticks": ""
            },
            "colorscale": [
             [
              0,
              "#0d0887"
             ],
             [
              0.1111111111111111,
              "#46039f"
             ],
             [
              0.2222222222222222,
              "#7201a8"
             ],
             [
              0.3333333333333333,
              "#9c179e"
             ],
             [
              0.4444444444444444,
              "#bd3786"
             ],
             [
              0.5555555555555556,
              "#d8576b"
             ],
             [
              0.6666666666666666,
              "#ed7953"
             ],
             [
              0.7777777777777778,
              "#fb9f3a"
             ],
             [
              0.8888888888888888,
              "#fdca26"
             ],
             [
              1,
              "#f0f921"
             ]
            ],
            "type": "heatmapgl"
           }
          ],
          "histogram": [
           {
            "marker": {
             "pattern": {
              "fillmode": "overlay",
              "size": 10,
              "solidity": 0.2
             }
            },
            "type": "histogram"
           }
          ],
          "histogram2d": [
           {
            "colorbar": {
             "outlinewidth": 0,
             "ticks": ""
            },
            "colorscale": [
             [
              0,
              "#0d0887"
             ],
             [
              0.1111111111111111,
              "#46039f"
             ],
             [
              0.2222222222222222,
              "#7201a8"
             ],
             [
              0.3333333333333333,
              "#9c179e"
             ],
             [
              0.4444444444444444,
              "#bd3786"
             ],
             [
              0.5555555555555556,
              "#d8576b"
             ],
             [
              0.6666666666666666,
              "#ed7953"
             ],
             [
              0.7777777777777778,
              "#fb9f3a"
             ],
             [
              0.8888888888888888,
              "#fdca26"
             ],
             [
              1,
              "#f0f921"
             ]
            ],
            "type": "histogram2d"
           }
          ],
          "histogram2dcontour": [
           {
            "colorbar": {
             "outlinewidth": 0,
             "ticks": ""
            },
            "colorscale": [
             [
              0,
              "#0d0887"
             ],
             [
              0.1111111111111111,
              "#46039f"
             ],
             [
              0.2222222222222222,
              "#7201a8"
             ],
             [
              0.3333333333333333,
              "#9c179e"
             ],
             [
              0.4444444444444444,
              "#bd3786"
             ],
             [
              0.5555555555555556,
              "#d8576b"
             ],
             [
              0.6666666666666666,
              "#ed7953"
             ],
             [
              0.7777777777777778,
              "#fb9f3a"
             ],
             [
              0.8888888888888888,
              "#fdca26"
             ],
             [
              1,
              "#f0f921"
             ]
            ],
            "type": "histogram2dcontour"
           }
          ],
          "mesh3d": [
           {
            "colorbar": {
             "outlinewidth": 0,
             "ticks": ""
            },
            "type": "mesh3d"
           }
          ],
          "parcoords": [
           {
            "line": {
             "colorbar": {
              "outlinewidth": 0,
              "ticks": ""
             }
            },
            "type": "parcoords"
           }
          ],
          "pie": [
           {
            "automargin": true,
            "type": "pie"
           }
          ],
          "scatter": [
           {
            "fillpattern": {
             "fillmode": "overlay",
             "size": 10,
             "solidity": 0.2
            },
            "type": "scatter"
           }
          ],
          "scatter3d": [
           {
            "line": {
             "colorbar": {
              "outlinewidth": 0,
              "ticks": ""
             }
            },
            "marker": {
             "colorbar": {
              "outlinewidth": 0,
              "ticks": ""
             }
            },
            "type": "scatter3d"
           }
          ],
          "scattercarpet": [
           {
            "marker": {
             "colorbar": {
              "outlinewidth": 0,
              "ticks": ""
             }
            },
            "type": "scattercarpet"
           }
          ],
          "scattergeo": [
           {
            "marker": {
             "colorbar": {
              "outlinewidth": 0,
              "ticks": ""
             }
            },
            "type": "scattergeo"
           }
          ],
          "scattergl": [
           {
            "marker": {
             "colorbar": {
              "outlinewidth": 0,
              "ticks": ""
             }
            },
            "type": "scattergl"
           }
          ],
          "scattermapbox": [
           {
            "marker": {
             "colorbar": {
              "outlinewidth": 0,
              "ticks": ""
             }
            },
            "type": "scattermapbox"
           }
          ],
          "scatterpolar": [
           {
            "marker": {
             "colorbar": {
              "outlinewidth": 0,
              "ticks": ""
             }
            },
            "type": "scatterpolar"
           }
          ],
          "scatterpolargl": [
           {
            "marker": {
             "colorbar": {
              "outlinewidth": 0,
              "ticks": ""
             }
            },
            "type": "scatterpolargl"
           }
          ],
          "scatterternary": [
           {
            "marker": {
             "colorbar": {
              "outlinewidth": 0,
              "ticks": ""
             }
            },
            "type": "scatterternary"
           }
          ],
          "surface": [
           {
            "colorbar": {
             "outlinewidth": 0,
             "ticks": ""
            },
            "colorscale": [
             [
              0,
              "#0d0887"
             ],
             [
              0.1111111111111111,
              "#46039f"
             ],
             [
              0.2222222222222222,
              "#7201a8"
             ],
             [
              0.3333333333333333,
              "#9c179e"
             ],
             [
              0.4444444444444444,
              "#bd3786"
             ],
             [
              0.5555555555555556,
              "#d8576b"
             ],
             [
              0.6666666666666666,
              "#ed7953"
             ],
             [
              0.7777777777777778,
              "#fb9f3a"
             ],
             [
              0.8888888888888888,
              "#fdca26"
             ],
             [
              1,
              "#f0f921"
             ]
            ],
            "type": "surface"
           }
          ],
          "table": [
           {
            "cells": {
             "fill": {
              "color": "#EBF0F8"
             },
             "line": {
              "color": "white"
             }
            },
            "header": {
             "fill": {
              "color": "#C8D4E3"
             },
             "line": {
              "color": "white"
             }
            },
            "type": "table"
           }
          ]
         },
         "layout": {
          "annotationdefaults": {
           "arrowcolor": "#2a3f5f",
           "arrowhead": 0,
           "arrowwidth": 1
          },
          "autotypenumbers": "strict",
          "coloraxis": {
           "colorbar": {
            "outlinewidth": 0,
            "ticks": ""
           }
          },
          "colorscale": {
           "diverging": [
            [
             0,
             "#8e0152"
            ],
            [
             0.1,
             "#c51b7d"
            ],
            [
             0.2,
             "#de77ae"
            ],
            [
             0.3,
             "#f1b6da"
            ],
            [
             0.4,
             "#fde0ef"
            ],
            [
             0.5,
             "#f7f7f7"
            ],
            [
             0.6,
             "#e6f5d0"
            ],
            [
             0.7,
             "#b8e186"
            ],
            [
             0.8,
             "#7fbc41"
            ],
            [
             0.9,
             "#4d9221"
            ],
            [
             1,
             "#276419"
            ]
           ],
           "sequential": [
            [
             0,
             "#0d0887"
            ],
            [
             0.1111111111111111,
             "#46039f"
            ],
            [
             0.2222222222222222,
             "#7201a8"
            ],
            [
             0.3333333333333333,
             "#9c179e"
            ],
            [
             0.4444444444444444,
             "#bd3786"
            ],
            [
             0.5555555555555556,
             "#d8576b"
            ],
            [
             0.6666666666666666,
             "#ed7953"
            ],
            [
             0.7777777777777778,
             "#fb9f3a"
            ],
            [
             0.8888888888888888,
             "#fdca26"
            ],
            [
             1,
             "#f0f921"
            ]
           ],
           "sequentialminus": [
            [
             0,
             "#0d0887"
            ],
            [
             0.1111111111111111,
             "#46039f"
            ],
            [
             0.2222222222222222,
             "#7201a8"
            ],
            [
             0.3333333333333333,
             "#9c179e"
            ],
            [
             0.4444444444444444,
             "#bd3786"
            ],
            [
             0.5555555555555556,
             "#d8576b"
            ],
            [
             0.6666666666666666,
             "#ed7953"
            ],
            [
             0.7777777777777778,
             "#fb9f3a"
            ],
            [
             0.8888888888888888,
             "#fdca26"
            ],
            [
             1,
             "#f0f921"
            ]
           ]
          },
          "colorway": [
           "#636efa",
           "#EF553B",
           "#00cc96",
           "#ab63fa",
           "#FFA15A",
           "#19d3f3",
           "#FF6692",
           "#B6E880",
           "#FF97FF",
           "#FECB52"
          ],
          "font": {
           "color": "#2a3f5f"
          },
          "geo": {
           "bgcolor": "white",
           "lakecolor": "white",
           "landcolor": "#E5ECF6",
           "showlakes": true,
           "showland": true,
           "subunitcolor": "white"
          },
          "hoverlabel": {
           "align": "left"
          },
          "hovermode": "closest",
          "mapbox": {
           "style": "light"
          },
          "paper_bgcolor": "white",
          "plot_bgcolor": "#E5ECF6",
          "polar": {
           "angularaxis": {
            "gridcolor": "white",
            "linecolor": "white",
            "ticks": ""
           },
           "bgcolor": "#E5ECF6",
           "radialaxis": {
            "gridcolor": "white",
            "linecolor": "white",
            "ticks": ""
           }
          },
          "scene": {
           "xaxis": {
            "backgroundcolor": "#E5ECF6",
            "gridcolor": "white",
            "gridwidth": 2,
            "linecolor": "white",
            "showbackground": true,
            "ticks": "",
            "zerolinecolor": "white"
           },
           "yaxis": {
            "backgroundcolor": "#E5ECF6",
            "gridcolor": "white",
            "gridwidth": 2,
            "linecolor": "white",
            "showbackground": true,
            "ticks": "",
            "zerolinecolor": "white"
           },
           "zaxis": {
            "backgroundcolor": "#E5ECF6",
            "gridcolor": "white",
            "gridwidth": 2,
            "linecolor": "white",
            "showbackground": true,
            "ticks": "",
            "zerolinecolor": "white"
           }
          },
          "shapedefaults": {
           "line": {
            "color": "#2a3f5f"
           }
          },
          "ternary": {
           "aaxis": {
            "gridcolor": "white",
            "linecolor": "white",
            "ticks": ""
           },
           "baxis": {
            "gridcolor": "white",
            "linecolor": "white",
            "ticks": ""
           },
           "bgcolor": "#E5ECF6",
           "caxis": {
            "gridcolor": "white",
            "linecolor": "white",
            "ticks": ""
           }
          },
          "title": {
           "x": 0.05
          },
          "xaxis": {
           "automargin": true,
           "gridcolor": "white",
           "linecolor": "white",
           "ticks": "",
           "title": {
            "standoff": 15
           },
           "zerolinecolor": "white",
           "zerolinewidth": 2
          },
          "yaxis": {
           "automargin": true,
           "gridcolor": "white",
           "linecolor": "white",
           "ticks": "",
           "title": {
            "standoff": 15
           },
           "zerolinecolor": "white",
           "zerolinewidth": 2
          }
         }
        },
        "title": {
         "text": "Slice Plot"
        },
        "width": 3900,
        "xaxis": {
         "anchor": "y",
         "domain": [
          0,
          0.06272189349112425
         ],
         "title": {
          "text": "alpha"
         },
         "type": "log"
        },
        "xaxis10": {
         "anchor": "y10",
         "domain": [
          0.7029585798816567,
          0.7656804733727809
         ],
         "title": {
          "text": "rate_drop"
         },
         "type": "log"
        },
        "xaxis11": {
         "anchor": "y11",
         "domain": [
          0.7810650887573962,
          0.8437869822485204
         ],
         "title": {
          "text": "sample_type"
         }
        },
        "xaxis12": {
         "anchor": "y12",
         "domain": [
          0.8591715976331358,
          0.92189349112426
         ],
         "title": {
          "text": "skip_drop"
         },
         "type": "log"
        },
        "xaxis13": {
         "anchor": "y13",
         "domain": [
          0.9372781065088754,
          0.9999999999999997
         ],
         "title": {
          "text": "subsample"
         }
        },
        "xaxis2": {
         "anchor": "y2",
         "domain": [
          0.07810650887573964,
          0.1408284023668639
         ],
         "title": {
          "text": "booster"
         }
        },
        "xaxis3": {
         "anchor": "y3",
         "domain": [
          0.15621301775147928,
          0.21893491124260353
         ],
         "title": {
          "text": "colsample_bytree"
         }
        },
        "xaxis4": {
         "anchor": "y4",
         "domain": [
          0.23431952662721892,
          0.29704142011834317
         ],
         "title": {
          "text": "eta"
         },
         "type": "log"
        },
        "xaxis5": {
         "anchor": "y5",
         "domain": [
          0.31242603550295855,
          0.3751479289940828
         ],
         "title": {
          "text": "gamma"
         },
         "type": "log"
        },
        "xaxis6": {
         "anchor": "y6",
         "domain": [
          0.39053254437869817,
          0.45325443786982245
         ],
         "title": {
          "text": "grow_policy"
         }
        },
        "xaxis7": {
         "anchor": "y7",
         "domain": [
          0.4686390532544378,
          0.531360946745562
         ],
         "title": {
          "text": "lambda"
         },
         "type": "log"
        },
        "xaxis8": {
         "anchor": "y8",
         "domain": [
          0.5467455621301773,
          0.6094674556213016
         ],
         "title": {
          "text": "max_depth"
         }
        },
        "xaxis9": {
         "anchor": "y9",
         "domain": [
          0.624852071005917,
          0.6875739644970412
         ],
         "title": {
          "text": "normalize_type"
         }
        },
        "yaxis": {
         "anchor": "x",
         "domain": [
          0,
          1
         ],
         "title": {
          "text": "Objective Value"
         }
        },
        "yaxis10": {
         "anchor": "x10",
         "domain": [
          0,
          1
         ],
         "matches": "y",
         "showticklabels": false
        },
        "yaxis11": {
         "anchor": "x11",
         "domain": [
          0,
          1
         ],
         "matches": "y",
         "showticklabels": false
        },
        "yaxis12": {
         "anchor": "x12",
         "domain": [
          0,
          1
         ],
         "matches": "y",
         "showticklabels": false
        },
        "yaxis13": {
         "anchor": "x13",
         "domain": [
          0,
          1
         ],
         "matches": "y",
         "showticklabels": false
        },
        "yaxis2": {
         "anchor": "x2",
         "domain": [
          0,
          1
         ],
         "matches": "y",
         "showticklabels": false
        },
        "yaxis3": {
         "anchor": "x3",
         "domain": [
          0,
          1
         ],
         "matches": "y",
         "showticklabels": false
        },
        "yaxis4": {
         "anchor": "x4",
         "domain": [
          0,
          1
         ],
         "matches": "y",
         "showticklabels": false
        },
        "yaxis5": {
         "anchor": "x5",
         "domain": [
          0,
          1
         ],
         "matches": "y",
         "showticklabels": false
        },
        "yaxis6": {
         "anchor": "x6",
         "domain": [
          0,
          1
         ],
         "matches": "y",
         "showticklabels": false
        },
        "yaxis7": {
         "anchor": "x7",
         "domain": [
          0,
          1
         ],
         "matches": "y",
         "showticklabels": false
        },
        "yaxis8": {
         "anchor": "x8",
         "domain": [
          0,
          1
         ],
         "matches": "y",
         "showticklabels": false
        },
        "yaxis9": {
         "anchor": "x9",
         "domain": [
          0,
          1
         ],
         "matches": "y",
         "showticklabels": false
        }
       }
      },
      "text/html": [
       "<div>                        <script type=\"text/javascript\">window.PlotlyConfig = {MathJaxConfig: 'local'};</script>\n",
       "        <script charset=\"utf-8\" src=\"https://cdn.plot.ly/plotly-2.24.1.min.js\"></script>                <div id=\"df29811f-88c6-4e1a-b2c0-d1527b053e81\" class=\"plotly-graph-div\" style=\"height:100%; width:3900px;\"></div>            <script type=\"text/javascript\">                                    window.PLOTLYENV=window.PLOTLYENV || {};                                    if (document.getElementById(\"df29811f-88c6-4e1a-b2c0-d1527b053e81\")) {                    Plotly.newPlot(                        \"df29811f-88c6-4e1a-b2c0-d1527b053e81\",                        [{\"marker\":{\"color\":[1,5,6,7,8,9,10,11,12,13,14,15,16,17,18,19,66,219],\"colorbar\":{\"title\":{\"text\":\"Trial\"},\"x\":1.0,\"xpad\":40},\"colorscale\":[[0.0,\"rgb(247,251,255)\"],[0.125,\"rgb(222,235,247)\"],[0.25,\"rgb(198,219,239)\"],[0.375,\"rgb(158,202,225)\"],[0.5,\"rgb(107,174,214)\"],[0.625,\"rgb(66,146,198)\"],[0.75,\"rgb(33,113,181)\"],[0.875,\"rgb(8,81,156)\"],[1.0,\"rgb(8,48,107)\"]],\"line\":{\"color\":\"Grey\",\"width\":0.5},\"showscale\":true},\"mode\":\"markers\",\"showlegend\":false,\"x\":[0.574485163632042,0.23713402899336497,0.04264813784432918,0.08032068562667222,0.012197768563438372,0.1821930437934653,1.9488135833929595e-7,7.593034903208851e-8,1.033375989766645e-6,0.0066946948903108105,8.909025084911593e-6,0.0005852079598515014,0.0002219322141207024,1.0601341392077246e-8,1.2862740622795762e-8,1.0456940308891758e-8,3.4246884993023374e-7,5.009324548277015e-6],\"y\":[0.5967335254562047,0.6433822087003274,0.6184598051405754,0.5233455573713329,0.4135077642757382,0.6033821687360186,0.38797169527703657,0.48554161494647613,0.6513827334700728,0.43322869655213225,0.5276990147146629,0.3895251437757331,0.40468399162037577,0.3537327900333324,0.389529660605126,0.4147123753726313,0.4157193493222701,0.4648339002118201],\"type\":\"scatter\",\"xaxis\":\"x\",\"yaxis\":\"y\"},{\"marker\":{\"color\":[1,5,6,7,8,9,10,11,12,13,14,15,16,17,18,19,66,219],\"colorbar\":{\"title\":{\"text\":\"Trial\"},\"x\":1.0,\"xpad\":40},\"colorscale\":[[0.0,\"rgb(247,251,255)\"],[0.125,\"rgb(222,235,247)\"],[0.25,\"rgb(198,219,239)\"],[0.375,\"rgb(158,202,225)\"],[0.5,\"rgb(107,174,214)\"],[0.625,\"rgb(66,146,198)\"],[0.75,\"rgb(33,113,181)\"],[0.875,\"rgb(8,81,156)\"],[1.0,\"rgb(8,48,107)\"]],\"line\":{\"color\":\"Grey\",\"width\":0.5},\"showscale\":false},\"mode\":\"markers\",\"showlegend\":false,\"x\":[\"gbtree\",\"gblinear\",\"dart\",\"gbtree\",\"gbtree\",\"gblinear\",\"gbtree\",\"dart\",\"dart\",\"dart\",\"gbtree\",\"gbtree\",\"gbtree\",\"gbtree\",\"gbtree\",\"gbtree\",\"gbtree\",\"gbtree\"],\"y\":[0.5967335254562047,0.6433822087003274,0.6184598051405754,0.5233455573713329,0.4135077642757382,0.6033821687360186,0.38797169527703657,0.48554161494647613,0.6513827334700728,0.43322869655213225,0.5276990147146629,0.3895251437757331,0.40468399162037577,0.3537327900333324,0.389529660605126,0.4147123753726313,0.4157193493222701,0.4648339002118201],\"type\":\"scatter\",\"xaxis\":\"x2\",\"yaxis\":\"y2\"},{\"marker\":{\"color\":[1,5,6,7,8,9,10,11,12,13,14,15,16,17,18,19,66,219],\"colorbar\":{\"title\":{\"text\":\"Trial\"},\"x\":1.0,\"xpad\":40},\"colorscale\":[[0.0,\"rgb(247,251,255)\"],[0.125,\"rgb(222,235,247)\"],[0.25,\"rgb(198,219,239)\"],[0.375,\"rgb(158,202,225)\"],[0.5,\"rgb(107,174,214)\"],[0.625,\"rgb(66,146,198)\"],[0.75,\"rgb(33,113,181)\"],[0.875,\"rgb(8,81,156)\"],[1.0,\"rgb(8,48,107)\"]],\"line\":{\"color\":\"Grey\",\"width\":0.5},\"showscale\":false},\"mode\":\"markers\",\"showlegend\":false,\"x\":[0.3274034664069657,0.3175897174514871,0.3685607058124285,0.39853881491158955,0.6625803079727366,0.44622975382137786,0.6848722277386503,0.4562646731757538,0.38052698589006184,0.5793834983561478,0.7888390888089066,0.6423490725632033,0.5874883349517384,0.7148589786704331,0.7796283752859363,0.7165417481368155,0.24630634913685873,0.5251350979070596],\"y\":[0.5967335254562047,0.6433822087003274,0.6184598051405754,0.5233455573713329,0.4135077642757382,0.6033821687360186,0.38797169527703657,0.48554161494647613,0.6513827334700728,0.43322869655213225,0.5276990147146629,0.3895251437757331,0.40468399162037577,0.3537327900333324,0.389529660605126,0.4147123753726313,0.4157193493222701,0.4648339002118201],\"type\":\"scatter\",\"xaxis\":\"x3\",\"yaxis\":\"y3\"},{\"marker\":{\"color\":[1,6,7,8,10,11,12,13,14,15,16,17,18,19,66,219],\"colorbar\":{\"title\":{\"text\":\"Trial\"},\"x\":1.0,\"xpad\":40},\"colorscale\":[[0.0,\"rgb(247,251,255)\"],[0.125,\"rgb(222,235,247)\"],[0.25,\"rgb(198,219,239)\"],[0.375,\"rgb(158,202,225)\"],[0.5,\"rgb(107,174,214)\"],[0.625,\"rgb(66,146,198)\"],[0.75,\"rgb(33,113,181)\"],[0.875,\"rgb(8,81,156)\"],[1.0,\"rgb(8,48,107)\"]],\"line\":{\"color\":\"Grey\",\"width\":0.5},\"showscale\":false},\"mode\":\"markers\",\"showlegend\":false,\"x\":[0.0035498788321965025,0.0026471141828218157,0.008569331925053986,0.03699972431463808,0.411511304956109,0.38211294416912245,0.0012902113024567154,0.0404877881815341,0.8264588941152486,0.15882107231676543,0.20690550086963347,0.13341517481633328,0.12151362993311442,0.8675145655490915,0.07729443028734513,0.3444315140977616],\"y\":[0.5967335254562047,0.6184598051405754,0.5233455573713329,0.4135077642757382,0.38797169527703657,0.48554161494647613,0.6513827334700728,0.43322869655213225,0.5276990147146629,0.3895251437757331,0.40468399162037577,0.3537327900333324,0.389529660605126,0.4147123753726313,0.4157193493222701,0.4648339002118201],\"type\":\"scatter\",\"xaxis\":\"x4\",\"yaxis\":\"y4\"},{\"marker\":{\"color\":[1,6,7,8,10,11,12,13,14,15,16,17,18,19,66,219],\"colorbar\":{\"title\":{\"text\":\"Trial\"},\"x\":1.0,\"xpad\":40},\"colorscale\":[[0.0,\"rgb(247,251,255)\"],[0.125,\"rgb(222,235,247)\"],[0.25,\"rgb(198,219,239)\"],[0.375,\"rgb(158,202,225)\"],[0.5,\"rgb(107,174,214)\"],[0.625,\"rgb(66,146,198)\"],[0.75,\"rgb(33,113,181)\"],[0.875,\"rgb(8,81,156)\"],[1.0,\"rgb(8,48,107)\"]],\"line\":{\"color\":\"Grey\",\"width\":0.5},\"showscale\":false},\"mode\":\"markers\",\"showlegend\":false,\"x\":[2.716051144654844e-6,0.026156272064707428,3.994538177154855e-6,0.00002632256136809142,0.026876741555610546,1.1366245816554797e-8,0.0007525141520487903,5.276162470390128e-8,0.6090097675018683,0.0007202349503619245,0.0028138475160906663,0.024208002338502885,0.11234659313668886,0.02355131967330587,0.790891120470132,0.008188616485489788],\"y\":[0.5967335254562047,0.6184598051405754,0.5233455573713329,0.4135077642757382,0.38797169527703657,0.48554161494647613,0.6513827334700728,0.43322869655213225,0.5276990147146629,0.3895251437757331,0.40468399162037577,0.3537327900333324,0.389529660605126,0.4147123753726313,0.4157193493222701,0.4648339002118201],\"type\":\"scatter\",\"xaxis\":\"x5\",\"yaxis\":\"y5\"},{\"marker\":{\"color\":[1,6,7,8,10,11,12,13,14,15,16,17,18,19,66,219],\"colorbar\":{\"title\":{\"text\":\"Trial\"},\"x\":1.0,\"xpad\":40},\"colorscale\":[[0.0,\"rgb(247,251,255)\"],[0.125,\"rgb(222,235,247)\"],[0.25,\"rgb(198,219,239)\"],[0.375,\"rgb(158,202,225)\"],[0.5,\"rgb(107,174,214)\"],[0.625,\"rgb(66,146,198)\"],[0.75,\"rgb(33,113,181)\"],[0.875,\"rgb(8,81,156)\"],[1.0,\"rgb(8,48,107)\"]],\"line\":{\"color\":\"Grey\",\"width\":0.5},\"showscale\":false},\"mode\":\"markers\",\"showlegend\":false,\"x\":[\"depthwise\",\"lossguide\",\"depthwise\",\"lossguide\",\"lossguide\",\"depthwise\",\"depthwise\",\"depthwise\",\"lossguide\",\"lossguide\",\"lossguide\",\"lossguide\",\"lossguide\",\"lossguide\",\"lossguide\",\"lossguide\"],\"y\":[0.5967335254562047,0.6184598051405754,0.5233455573713329,0.4135077642757382,0.38797169527703657,0.48554161494647613,0.6513827334700728,0.43322869655213225,0.5276990147146629,0.3895251437757331,0.40468399162037577,0.3537327900333324,0.389529660605126,0.4147123753726313,0.4157193493222701,0.4648339002118201],\"type\":\"scatter\",\"xaxis\":\"x6\",\"yaxis\":\"y6\"},{\"marker\":{\"color\":[1,5,6,7,8,9,10,11,12,13,14,15,16,17,18,19,66,219],\"colorbar\":{\"title\":{\"text\":\"Trial\"},\"x\":1.0,\"xpad\":40},\"colorscale\":[[0.0,\"rgb(247,251,255)\"],[0.125,\"rgb(222,235,247)\"],[0.25,\"rgb(198,219,239)\"],[0.375,\"rgb(158,202,225)\"],[0.5,\"rgb(107,174,214)\"],[0.625,\"rgb(66,146,198)\"],[0.75,\"rgb(33,113,181)\"],[0.875,\"rgb(8,81,156)\"],[1.0,\"rgb(8,48,107)\"]],\"line\":{\"color\":\"Grey\",\"width\":0.5},\"showscale\":false},\"mode\":\"markers\",\"showlegend\":false,\"x\":[1.4610865886287176e-8,0.0006070155694141794,1.481809088646707e-6,8.451863533931625e-8,0.005081106499593573,0.00011710232809812825,2.0797523481449624e-6,3.499675682069358e-6,0.5007008855904077,7.963433393223581e-7,8.124962944565012e-6,0.004839389592902318,0.005201901877653327,0.00005007638479414757,0.000015672390461139365,2.837828725955016e-7,0.000021049849528991988,1.3696307447668935e-7],\"y\":[0.5967335254562047,0.6433822087003274,0.6184598051405754,0.5233455573713329,0.4135077642757382,0.6033821687360186,0.38797169527703657,0.48554161494647613,0.6513827334700728,0.43322869655213225,0.5276990147146629,0.3895251437757331,0.40468399162037577,0.3537327900333324,0.389529660605126,0.4147123753726313,0.4157193493222701,0.4648339002118201],\"type\":\"scatter\",\"xaxis\":\"x7\",\"yaxis\":\"y7\"},{\"marker\":{\"color\":[1,6,7,8,10,11,12,13,14,15,16,17,18,19,66,219],\"colorbar\":{\"title\":{\"text\":\"Trial\"},\"x\":1.0,\"xpad\":40},\"colorscale\":[[0.0,\"rgb(247,251,255)\"],[0.125,\"rgb(222,235,247)\"],[0.25,\"rgb(198,219,239)\"],[0.375,\"rgb(158,202,225)\"],[0.5,\"rgb(107,174,214)\"],[0.625,\"rgb(66,146,198)\"],[0.75,\"rgb(33,113,181)\"],[0.875,\"rgb(8,81,156)\"],[1.0,\"rgb(8,48,107)\"]],\"line\":{\"color\":\"Grey\",\"width\":0.5},\"showscale\":false},\"mode\":\"markers\",\"showlegend\":false,\"x\":[3,9,2,8,11,14,5,11,15,7,7,12,12,12,16,10],\"y\":[0.5967335254562047,0.6184598051405754,0.5233455573713329,0.4135077642757382,0.38797169527703657,0.48554161494647613,0.6513827334700728,0.43322869655213225,0.5276990147146629,0.3895251437757331,0.40468399162037577,0.3537327900333324,0.389529660605126,0.4147123753726313,0.4157193493222701,0.4648339002118201],\"type\":\"scatter\",\"xaxis\":\"x8\",\"yaxis\":\"y8\"},{\"marker\":{\"color\":[6,11,12,13],\"colorbar\":{\"title\":{\"text\":\"Trial\"},\"x\":1.0,\"xpad\":40},\"colorscale\":[[0.0,\"rgb(247,251,255)\"],[0.125,\"rgb(222,235,247)\"],[0.25,\"rgb(198,219,239)\"],[0.375,\"rgb(158,202,225)\"],[0.5,\"rgb(107,174,214)\"],[0.625,\"rgb(66,146,198)\"],[0.75,\"rgb(33,113,181)\"],[0.875,\"rgb(8,81,156)\"],[1.0,\"rgb(8,48,107)\"]],\"line\":{\"color\":\"Grey\",\"width\":0.5},\"showscale\":false},\"mode\":\"markers\",\"showlegend\":false,\"x\":[\"forest\",\"forest\",\"tree\",\"forest\"],\"y\":[0.6184598051405754,0.48554161494647613,0.6513827334700728,0.43322869655213225],\"type\":\"scatter\",\"xaxis\":\"x9\",\"yaxis\":\"y9\"},{\"marker\":{\"color\":[6,11,12,13],\"colorbar\":{\"title\":{\"text\":\"Trial\"},\"x\":1.0,\"xpad\":40},\"colorscale\":[[0.0,\"rgb(247,251,255)\"],[0.125,\"rgb(222,235,247)\"],[0.25,\"rgb(198,219,239)\"],[0.375,\"rgb(158,202,225)\"],[0.5,\"rgb(107,174,214)\"],[0.625,\"rgb(66,146,198)\"],[0.75,\"rgb(33,113,181)\"],[0.875,\"rgb(8,81,156)\"],[1.0,\"rgb(8,48,107)\"]],\"line\":{\"color\":\"Grey\",\"width\":0.5},\"showscale\":false},\"mode\":\"markers\",\"showlegend\":false,\"x\":[0.0045170900739091345,3.8514428343995194e-6,0.000082342127198163,1.3573837053629966e-8],\"y\":[0.6184598051405754,0.48554161494647613,0.6513827334700728,0.43322869655213225],\"type\":\"scatter\",\"xaxis\":\"x10\",\"yaxis\":\"y10\"},{\"marker\":{\"color\":[6,11,12,13],\"colorbar\":{\"title\":{\"text\":\"Trial\"},\"x\":1.0,\"xpad\":40},\"colorscale\":[[0.0,\"rgb(247,251,255)\"],[0.125,\"rgb(222,235,247)\"],[0.25,\"rgb(198,219,239)\"],[0.375,\"rgb(158,202,225)\"],[0.5,\"rgb(107,174,214)\"],[0.625,\"rgb(66,146,198)\"],[0.75,\"rgb(33,113,181)\"],[0.875,\"rgb(8,81,156)\"],[1.0,\"rgb(8,48,107)\"]],\"line\":{\"color\":\"Grey\",\"width\":0.5},\"showscale\":false},\"mode\":\"markers\",\"showlegend\":false,\"x\":[\"uniform\",\"uniform\",\"weighted\",\"uniform\"],\"y\":[0.6184598051405754,0.48554161494647613,0.6513827334700728,0.43322869655213225],\"type\":\"scatter\",\"xaxis\":\"x11\",\"yaxis\":\"y11\"},{\"marker\":{\"color\":[6,11,12,13],\"colorbar\":{\"title\":{\"text\":\"Trial\"},\"x\":1.0,\"xpad\":40},\"colorscale\":[[0.0,\"rgb(247,251,255)\"],[0.125,\"rgb(222,235,247)\"],[0.25,\"rgb(198,219,239)\"],[0.375,\"rgb(158,202,225)\"],[0.5,\"rgb(107,174,214)\"],[0.625,\"rgb(66,146,198)\"],[0.75,\"rgb(33,113,181)\"],[0.875,\"rgb(8,81,156)\"],[1.0,\"rgb(8,48,107)\"]],\"line\":{\"color\":\"Grey\",\"width\":0.5},\"showscale\":false},\"mode\":\"markers\",\"showlegend\":false,\"x\":[0.006792933207180863,0.00014135949140057862,0.7677213757517419,0.0001249523609345854],\"y\":[0.6184598051405754,0.48554161494647613,0.6513827334700728,0.43322869655213225],\"type\":\"scatter\",\"xaxis\":\"x12\",\"yaxis\":\"y12\"},{\"marker\":{\"color\":[1,5,6,7,8,9,10,11,12,13,14,15,16,17,18,19,66,219],\"colorbar\":{\"title\":{\"text\":\"Trial\"},\"x\":1.0,\"xpad\":40},\"colorscale\":[[0.0,\"rgb(247,251,255)\"],[0.125,\"rgb(222,235,247)\"],[0.25,\"rgb(198,219,239)\"],[0.375,\"rgb(158,202,225)\"],[0.5,\"rgb(107,174,214)\"],[0.625,\"rgb(66,146,198)\"],[0.75,\"rgb(33,113,181)\"],[0.875,\"rgb(8,81,156)\"],[1.0,\"rgb(8,48,107)\"]],\"line\":{\"color\":\"Grey\",\"width\":0.5},\"showscale\":false},\"mode\":\"markers\",\"showlegend\":false,\"x\":[0.6994655844802531,0.2530955012311517,0.4140519960161536,0.5739788760965348,0.5367663185416978,0.349575337489325,0.757818591405544,0.33676109752516503,0.4983491035354313,0.420669879631552,0.7730675009063073,0.6372224440894432,0.6745014789327672,0.7996174631849311,0.7976101936167284,0.7377626262696191,0.7829871658936365,0.630545694690643],\"y\":[0.5967335254562047,0.6433822087003274,0.6184598051405754,0.5233455573713329,0.4135077642757382,0.6033821687360186,0.38797169527703657,0.48554161494647613,0.6513827334700728,0.43322869655213225,0.5276990147146629,0.3895251437757331,0.40468399162037577,0.3537327900333324,0.389529660605126,0.4147123753726313,0.4157193493222701,0.4648339002118201],\"type\":\"scatter\",\"xaxis\":\"x13\",\"yaxis\":\"y13\"}],                        {\"template\":{\"data\":{\"histogram2dcontour\":[{\"type\":\"histogram2dcontour\",\"colorbar\":{\"outlinewidth\":0,\"ticks\":\"\"},\"colorscale\":[[0.0,\"#0d0887\"],[0.1111111111111111,\"#46039f\"],[0.2222222222222222,\"#7201a8\"],[0.3333333333333333,\"#9c179e\"],[0.4444444444444444,\"#bd3786\"],[0.5555555555555556,\"#d8576b\"],[0.6666666666666666,\"#ed7953\"],[0.7777777777777778,\"#fb9f3a\"],[0.8888888888888888,\"#fdca26\"],[1.0,\"#f0f921\"]]}],\"choropleth\":[{\"type\":\"choropleth\",\"colorbar\":{\"outlinewidth\":0,\"ticks\":\"\"}}],\"histogram2d\":[{\"type\":\"histogram2d\",\"colorbar\":{\"outlinewidth\":0,\"ticks\":\"\"},\"colorscale\":[[0.0,\"#0d0887\"],[0.1111111111111111,\"#46039f\"],[0.2222222222222222,\"#7201a8\"],[0.3333333333333333,\"#9c179e\"],[0.4444444444444444,\"#bd3786\"],[0.5555555555555556,\"#d8576b\"],[0.6666666666666666,\"#ed7953\"],[0.7777777777777778,\"#fb9f3a\"],[0.8888888888888888,\"#fdca26\"],[1.0,\"#f0f921\"]]}],\"heatmap\":[{\"type\":\"heatmap\",\"colorbar\":{\"outlinewidth\":0,\"ticks\":\"\"},\"colorscale\":[[0.0,\"#0d0887\"],[0.1111111111111111,\"#46039f\"],[0.2222222222222222,\"#7201a8\"],[0.3333333333333333,\"#9c179e\"],[0.4444444444444444,\"#bd3786\"],[0.5555555555555556,\"#d8576b\"],[0.6666666666666666,\"#ed7953\"],[0.7777777777777778,\"#fb9f3a\"],[0.8888888888888888,\"#fdca26\"],[1.0,\"#f0f921\"]]}],\"heatmapgl\":[{\"type\":\"heatmapgl\",\"colorbar\":{\"outlinewidth\":0,\"ticks\":\"\"},\"colorscale\":[[0.0,\"#0d0887\"],[0.1111111111111111,\"#46039f\"],[0.2222222222222222,\"#7201a8\"],[0.3333333333333333,\"#9c179e\"],[0.4444444444444444,\"#bd3786\"],[0.5555555555555556,\"#d8576b\"],[0.6666666666666666,\"#ed7953\"],[0.7777777777777778,\"#fb9f3a\"],[0.8888888888888888,\"#fdca26\"],[1.0,\"#f0f921\"]]}],\"contourcarpet\":[{\"type\":\"contourcarpet\",\"colorbar\":{\"outlinewidth\":0,\"ticks\":\"\"}}],\"contour\":[{\"type\":\"contour\",\"colorbar\":{\"outlinewidth\":0,\"ticks\":\"\"},\"colorscale\":[[0.0,\"#0d0887\"],[0.1111111111111111,\"#46039f\"],[0.2222222222222222,\"#7201a8\"],[0.3333333333333333,\"#9c179e\"],[0.4444444444444444,\"#bd3786\"],[0.5555555555555556,\"#d8576b\"],[0.6666666666666666,\"#ed7953\"],[0.7777777777777778,\"#fb9f3a\"],[0.8888888888888888,\"#fdca26\"],[1.0,\"#f0f921\"]]}],\"surface\":[{\"type\":\"surface\",\"colorbar\":{\"outlinewidth\":0,\"ticks\":\"\"},\"colorscale\":[[0.0,\"#0d0887\"],[0.1111111111111111,\"#46039f\"],[0.2222222222222222,\"#7201a8\"],[0.3333333333333333,\"#9c179e\"],[0.4444444444444444,\"#bd3786\"],[0.5555555555555556,\"#d8576b\"],[0.6666666666666666,\"#ed7953\"],[0.7777777777777778,\"#fb9f3a\"],[0.8888888888888888,\"#fdca26\"],[1.0,\"#f0f921\"]]}],\"mesh3d\":[{\"type\":\"mesh3d\",\"colorbar\":{\"outlinewidth\":0,\"ticks\":\"\"}}],\"scatter\":[{\"fillpattern\":{\"fillmode\":\"overlay\",\"size\":10,\"solidity\":0.2},\"type\":\"scatter\"}],\"parcoords\":[{\"type\":\"parcoords\",\"line\":{\"colorbar\":{\"outlinewidth\":0,\"ticks\":\"\"}}}],\"scatterpolargl\":[{\"type\":\"scatterpolargl\",\"marker\":{\"colorbar\":{\"outlinewidth\":0,\"ticks\":\"\"}}}],\"bar\":[{\"error_x\":{\"color\":\"#2a3f5f\"},\"error_y\":{\"color\":\"#2a3f5f\"},\"marker\":{\"line\":{\"color\":\"#E5ECF6\",\"width\":0.5},\"pattern\":{\"fillmode\":\"overlay\",\"size\":10,\"solidity\":0.2}},\"type\":\"bar\"}],\"scattergeo\":[{\"type\":\"scattergeo\",\"marker\":{\"colorbar\":{\"outlinewidth\":0,\"ticks\":\"\"}}}],\"scatterpolar\":[{\"type\":\"scatterpolar\",\"marker\":{\"colorbar\":{\"outlinewidth\":0,\"ticks\":\"\"}}}],\"histogram\":[{\"marker\":{\"pattern\":{\"fillmode\":\"overlay\",\"size\":10,\"solidity\":0.2}},\"type\":\"histogram\"}],\"scattergl\":[{\"type\":\"scattergl\",\"marker\":{\"colorbar\":{\"outlinewidth\":0,\"ticks\":\"\"}}}],\"scatter3d\":[{\"type\":\"scatter3d\",\"line\":{\"colorbar\":{\"outlinewidth\":0,\"ticks\":\"\"}},\"marker\":{\"colorbar\":{\"outlinewidth\":0,\"ticks\":\"\"}}}],\"scattermapbox\":[{\"type\":\"scattermapbox\",\"marker\":{\"colorbar\":{\"outlinewidth\":0,\"ticks\":\"\"}}}],\"scatterternary\":[{\"type\":\"scatterternary\",\"marker\":{\"colorbar\":{\"outlinewidth\":0,\"ticks\":\"\"}}}],\"scattercarpet\":[{\"type\":\"scattercarpet\",\"marker\":{\"colorbar\":{\"outlinewidth\":0,\"ticks\":\"\"}}}],\"carpet\":[{\"aaxis\":{\"endlinecolor\":\"#2a3f5f\",\"gridcolor\":\"white\",\"linecolor\":\"white\",\"minorgridcolor\":\"white\",\"startlinecolor\":\"#2a3f5f\"},\"baxis\":{\"endlinecolor\":\"#2a3f5f\",\"gridcolor\":\"white\",\"linecolor\":\"white\",\"minorgridcolor\":\"white\",\"startlinecolor\":\"#2a3f5f\"},\"type\":\"carpet\"}],\"table\":[{\"cells\":{\"fill\":{\"color\":\"#EBF0F8\"},\"line\":{\"color\":\"white\"}},\"header\":{\"fill\":{\"color\":\"#C8D4E3\"},\"line\":{\"color\":\"white\"}},\"type\":\"table\"}],\"barpolar\":[{\"marker\":{\"line\":{\"color\":\"#E5ECF6\",\"width\":0.5},\"pattern\":{\"fillmode\":\"overlay\",\"size\":10,\"solidity\":0.2}},\"type\":\"barpolar\"}],\"pie\":[{\"automargin\":true,\"type\":\"pie\"}]},\"layout\":{\"autotypenumbers\":\"strict\",\"colorway\":[\"#636efa\",\"#EF553B\",\"#00cc96\",\"#ab63fa\",\"#FFA15A\",\"#19d3f3\",\"#FF6692\",\"#B6E880\",\"#FF97FF\",\"#FECB52\"],\"font\":{\"color\":\"#2a3f5f\"},\"hovermode\":\"closest\",\"hoverlabel\":{\"align\":\"left\"},\"paper_bgcolor\":\"white\",\"plot_bgcolor\":\"#E5ECF6\",\"polar\":{\"bgcolor\":\"#E5ECF6\",\"angularaxis\":{\"gridcolor\":\"white\",\"linecolor\":\"white\",\"ticks\":\"\"},\"radialaxis\":{\"gridcolor\":\"white\",\"linecolor\":\"white\",\"ticks\":\"\"}},\"ternary\":{\"bgcolor\":\"#E5ECF6\",\"aaxis\":{\"gridcolor\":\"white\",\"linecolor\":\"white\",\"ticks\":\"\"},\"baxis\":{\"gridcolor\":\"white\",\"linecolor\":\"white\",\"ticks\":\"\"},\"caxis\":{\"gridcolor\":\"white\",\"linecolor\":\"white\",\"ticks\":\"\"}},\"coloraxis\":{\"colorbar\":{\"outlinewidth\":0,\"ticks\":\"\"}},\"colorscale\":{\"sequential\":[[0.0,\"#0d0887\"],[0.1111111111111111,\"#46039f\"],[0.2222222222222222,\"#7201a8\"],[0.3333333333333333,\"#9c179e\"],[0.4444444444444444,\"#bd3786\"],[0.5555555555555556,\"#d8576b\"],[0.6666666666666666,\"#ed7953\"],[0.7777777777777778,\"#fb9f3a\"],[0.8888888888888888,\"#fdca26\"],[1.0,\"#f0f921\"]],\"sequentialminus\":[[0.0,\"#0d0887\"],[0.1111111111111111,\"#46039f\"],[0.2222222222222222,\"#7201a8\"],[0.3333333333333333,\"#9c179e\"],[0.4444444444444444,\"#bd3786\"],[0.5555555555555556,\"#d8576b\"],[0.6666666666666666,\"#ed7953\"],[0.7777777777777778,\"#fb9f3a\"],[0.8888888888888888,\"#fdca26\"],[1.0,\"#f0f921\"]],\"diverging\":[[0,\"#8e0152\"],[0.1,\"#c51b7d\"],[0.2,\"#de77ae\"],[0.3,\"#f1b6da\"],[0.4,\"#fde0ef\"],[0.5,\"#f7f7f7\"],[0.6,\"#e6f5d0\"],[0.7,\"#b8e186\"],[0.8,\"#7fbc41\"],[0.9,\"#4d9221\"],[1,\"#276419\"]]},\"xaxis\":{\"gridcolor\":\"white\",\"linecolor\":\"white\",\"ticks\":\"\",\"title\":{\"standoff\":15},\"zerolinecolor\":\"white\",\"automargin\":true,\"zerolinewidth\":2},\"yaxis\":{\"gridcolor\":\"white\",\"linecolor\":\"white\",\"ticks\":\"\",\"title\":{\"standoff\":15},\"zerolinecolor\":\"white\",\"automargin\":true,\"zerolinewidth\":2},\"scene\":{\"xaxis\":{\"backgroundcolor\":\"#E5ECF6\",\"gridcolor\":\"white\",\"linecolor\":\"white\",\"showbackground\":true,\"ticks\":\"\",\"zerolinecolor\":\"white\",\"gridwidth\":2},\"yaxis\":{\"backgroundcolor\":\"#E5ECF6\",\"gridcolor\":\"white\",\"linecolor\":\"white\",\"showbackground\":true,\"ticks\":\"\",\"zerolinecolor\":\"white\",\"gridwidth\":2},\"zaxis\":{\"backgroundcolor\":\"#E5ECF6\",\"gridcolor\":\"white\",\"linecolor\":\"white\",\"showbackground\":true,\"ticks\":\"\",\"zerolinecolor\":\"white\",\"gridwidth\":2}},\"shapedefaults\":{\"line\":{\"color\":\"#2a3f5f\"}},\"annotationdefaults\":{\"arrowcolor\":\"#2a3f5f\",\"arrowhead\":0,\"arrowwidth\":1},\"geo\":{\"bgcolor\":\"white\",\"landcolor\":\"#E5ECF6\",\"subunitcolor\":\"white\",\"showland\":true,\"showlakes\":true,\"lakecolor\":\"white\"},\"title\":{\"x\":0.05},\"mapbox\":{\"style\":\"light\"}}},\"xaxis\":{\"anchor\":\"y\",\"domain\":[0.0,0.06272189349112425],\"title\":{\"text\":\"alpha\"},\"type\":\"log\"},\"yaxis\":{\"anchor\":\"x\",\"domain\":[0.0,1.0],\"title\":{\"text\":\"Objective Value\"}},\"xaxis2\":{\"anchor\":\"y2\",\"domain\":[0.07810650887573964,0.1408284023668639],\"title\":{\"text\":\"booster\"}},\"yaxis2\":{\"anchor\":\"x2\",\"domain\":[0.0,1.0],\"matches\":\"y\",\"showticklabels\":false},\"xaxis3\":{\"anchor\":\"y3\",\"domain\":[0.15621301775147928,0.21893491124260353],\"title\":{\"text\":\"colsample_bytree\"}},\"yaxis3\":{\"anchor\":\"x3\",\"domain\":[0.0,1.0],\"matches\":\"y\",\"showticklabels\":false},\"xaxis4\":{\"anchor\":\"y4\",\"domain\":[0.23431952662721892,0.29704142011834317],\"title\":{\"text\":\"eta\"},\"type\":\"log\"},\"yaxis4\":{\"anchor\":\"x4\",\"domain\":[0.0,1.0],\"matches\":\"y\",\"showticklabels\":false},\"xaxis5\":{\"anchor\":\"y5\",\"domain\":[0.31242603550295855,0.3751479289940828],\"title\":{\"text\":\"gamma\"},\"type\":\"log\"},\"yaxis5\":{\"anchor\":\"x5\",\"domain\":[0.0,1.0],\"matches\":\"y\",\"showticklabels\":false},\"xaxis6\":{\"anchor\":\"y6\",\"domain\":[0.39053254437869817,0.45325443786982245],\"title\":{\"text\":\"grow_policy\"}},\"yaxis6\":{\"anchor\":\"x6\",\"domain\":[0.0,1.0],\"matches\":\"y\",\"showticklabels\":false},\"xaxis7\":{\"anchor\":\"y7\",\"domain\":[0.4686390532544378,0.531360946745562],\"title\":{\"text\":\"lambda\"},\"type\":\"log\"},\"yaxis7\":{\"anchor\":\"x7\",\"domain\":[0.0,1.0],\"matches\":\"y\",\"showticklabels\":false},\"xaxis8\":{\"anchor\":\"y8\",\"domain\":[0.5467455621301773,0.6094674556213016],\"title\":{\"text\":\"max_depth\"}},\"yaxis8\":{\"anchor\":\"x8\",\"domain\":[0.0,1.0],\"matches\":\"y\",\"showticklabels\":false},\"xaxis9\":{\"anchor\":\"y9\",\"domain\":[0.624852071005917,0.6875739644970412],\"title\":{\"text\":\"normalize_type\"}},\"yaxis9\":{\"anchor\":\"x9\",\"domain\":[0.0,1.0],\"matches\":\"y\",\"showticklabels\":false},\"xaxis10\":{\"anchor\":\"y10\",\"domain\":[0.7029585798816567,0.7656804733727809],\"title\":{\"text\":\"rate_drop\"},\"type\":\"log\"},\"yaxis10\":{\"anchor\":\"x10\",\"domain\":[0.0,1.0],\"matches\":\"y\",\"showticklabels\":false},\"xaxis11\":{\"anchor\":\"y11\",\"domain\":[0.7810650887573962,0.8437869822485204],\"title\":{\"text\":\"sample_type\"}},\"yaxis11\":{\"anchor\":\"x11\",\"domain\":[0.0,1.0],\"matches\":\"y\",\"showticklabels\":false},\"xaxis12\":{\"anchor\":\"y12\",\"domain\":[0.8591715976331358,0.92189349112426],\"title\":{\"text\":\"skip_drop\"},\"type\":\"log\"},\"yaxis12\":{\"anchor\":\"x12\",\"domain\":[0.0,1.0],\"matches\":\"y\",\"showticklabels\":false},\"xaxis13\":{\"anchor\":\"y13\",\"domain\":[0.9372781065088754,0.9999999999999997],\"title\":{\"text\":\"subsample\"}},\"yaxis13\":{\"anchor\":\"x13\",\"domain\":[0.0,1.0],\"matches\":\"y\",\"showticklabels\":false},\"title\":{\"text\":\"Slice Plot\"},\"width\":3900},                        {\"responsive\": true}                    )                };                            </script>        </div>"
      ],
      "text/plain": [
       "Figure({\n",
       "    'data': [{'marker': {'color': [1, 5, 6, 7, 8, 9, 10, 11, 12, 13, 14, 15, 16,\n",
       "                                   17, 18, 19, 66, 219],\n",
       "                         'colorbar': {'title': {'text': 'Trial'}, 'x': 1.0, 'xpad': 40},\n",
       "                         'colorscale': [[0.0, 'rgb(247,251,255)'], [0.125,\n",
       "                                        'rgb(222,235,247)'], [0.25,\n",
       "                                        'rgb(198,219,239)'], [0.375,\n",
       "                                        'rgb(158,202,225)'], [0.5,\n",
       "                                        'rgb(107,174,214)'], [0.625,\n",
       "                                        'rgb(66,146,198)'], [0.75,\n",
       "                                        'rgb(33,113,181)'], [0.875,\n",
       "                                        'rgb(8,81,156)'], [1.0, 'rgb(8,48,107)']],\n",
       "                         'line': {'color': 'Grey', 'width': 0.5},\n",
       "                         'showscale': True},\n",
       "              'mode': 'markers',\n",
       "              'showlegend': False,\n",
       "              'type': 'scatter',\n",
       "              'x': [0.574485163632042, 0.23713402899336497, 0.04264813784432918,\n",
       "                    0.08032068562667222, 0.012197768563438372, 0.1821930437934653,\n",
       "                    1.9488135833929595e-07, 7.593034903208851e-08,\n",
       "                    1.033375989766645e-06, 0.0066946948903108105,\n",
       "                    8.909025084911593e-06, 0.0005852079598515014,\n",
       "                    0.0002219322141207024, 1.0601341392077246e-08,\n",
       "                    1.2862740622795762e-08, 1.0456940308891758e-08,\n",
       "                    3.4246884993023374e-07, 5.009324548277015e-06],\n",
       "              'xaxis': 'x',\n",
       "              'y': [0.5967335254562047, 0.6433822087003274, 0.6184598051405754,\n",
       "                    0.5233455573713329, 0.4135077642757382, 0.6033821687360186,\n",
       "                    0.38797169527703657, 0.48554161494647613, 0.6513827334700728,\n",
       "                    0.43322869655213225, 0.5276990147146629, 0.3895251437757331,\n",
       "                    0.40468399162037577, 0.3537327900333324, 0.389529660605126,\n",
       "                    0.4147123753726313, 0.4157193493222701, 0.4648339002118201],\n",
       "              'yaxis': 'y'},\n",
       "             {'marker': {'color': [1, 5, 6, 7, 8, 9, 10, 11, 12, 13, 14, 15, 16,\n",
       "                                   17, 18, 19, 66, 219],\n",
       "                         'colorbar': {'title': {'text': 'Trial'}, 'x': 1.0, 'xpad': 40},\n",
       "                         'colorscale': [[0.0, 'rgb(247,251,255)'], [0.125,\n",
       "                                        'rgb(222,235,247)'], [0.25,\n",
       "                                        'rgb(198,219,239)'], [0.375,\n",
       "                                        'rgb(158,202,225)'], [0.5,\n",
       "                                        'rgb(107,174,214)'], [0.625,\n",
       "                                        'rgb(66,146,198)'], [0.75,\n",
       "                                        'rgb(33,113,181)'], [0.875,\n",
       "                                        'rgb(8,81,156)'], [1.0, 'rgb(8,48,107)']],\n",
       "                         'line': {'color': 'Grey', 'width': 0.5},\n",
       "                         'showscale': False},\n",
       "              'mode': 'markers',\n",
       "              'showlegend': False,\n",
       "              'type': 'scatter',\n",
       "              'x': [gbtree, gblinear, dart, gbtree, gbtree, gblinear, gbtree,\n",
       "                    dart, dart, dart, gbtree, gbtree, gbtree, gbtree, gbtree,\n",
       "                    gbtree, gbtree, gbtree],\n",
       "              'xaxis': 'x2',\n",
       "              'y': [0.5967335254562047, 0.6433822087003274, 0.6184598051405754,\n",
       "                    0.5233455573713329, 0.4135077642757382, 0.6033821687360186,\n",
       "                    0.38797169527703657, 0.48554161494647613, 0.6513827334700728,\n",
       "                    0.43322869655213225, 0.5276990147146629, 0.3895251437757331,\n",
       "                    0.40468399162037577, 0.3537327900333324, 0.389529660605126,\n",
       "                    0.4147123753726313, 0.4157193493222701, 0.4648339002118201],\n",
       "              'yaxis': 'y2'},\n",
       "             {'marker': {'color': [1, 5, 6, 7, 8, 9, 10, 11, 12, 13, 14, 15, 16,\n",
       "                                   17, 18, 19, 66, 219],\n",
       "                         'colorbar': {'title': {'text': 'Trial'}, 'x': 1.0, 'xpad': 40},\n",
       "                         'colorscale': [[0.0, 'rgb(247,251,255)'], [0.125,\n",
       "                                        'rgb(222,235,247)'], [0.25,\n",
       "                                        'rgb(198,219,239)'], [0.375,\n",
       "                                        'rgb(158,202,225)'], [0.5,\n",
       "                                        'rgb(107,174,214)'], [0.625,\n",
       "                                        'rgb(66,146,198)'], [0.75,\n",
       "                                        'rgb(33,113,181)'], [0.875,\n",
       "                                        'rgb(8,81,156)'], [1.0, 'rgb(8,48,107)']],\n",
       "                         'line': {'color': 'Grey', 'width': 0.5},\n",
       "                         'showscale': False},\n",
       "              'mode': 'markers',\n",
       "              'showlegend': False,\n",
       "              'type': 'scatter',\n",
       "              'x': [0.3274034664069657, 0.3175897174514871, 0.3685607058124285,\n",
       "                    0.39853881491158955, 0.6625803079727366, 0.44622975382137786,\n",
       "                    0.6848722277386503, 0.4562646731757538, 0.38052698589006184,\n",
       "                    0.5793834983561478, 0.7888390888089066, 0.6423490725632033,\n",
       "                    0.5874883349517384, 0.7148589786704331, 0.7796283752859363,\n",
       "                    0.7165417481368155, 0.24630634913685873, 0.5251350979070596],\n",
       "              'xaxis': 'x3',\n",
       "              'y': [0.5967335254562047, 0.6433822087003274, 0.6184598051405754,\n",
       "                    0.5233455573713329, 0.4135077642757382, 0.6033821687360186,\n",
       "                    0.38797169527703657, 0.48554161494647613, 0.6513827334700728,\n",
       "                    0.43322869655213225, 0.5276990147146629, 0.3895251437757331,\n",
       "                    0.40468399162037577, 0.3537327900333324, 0.389529660605126,\n",
       "                    0.4147123753726313, 0.4157193493222701, 0.4648339002118201],\n",
       "              'yaxis': 'y3'},\n",
       "             {'marker': {'color': [1, 6, 7, 8, 10, 11, 12, 13, 14, 15, 16, 17, 18,\n",
       "                                   19, 66, 219],\n",
       "                         'colorbar': {'title': {'text': 'Trial'}, 'x': 1.0, 'xpad': 40},\n",
       "                         'colorscale': [[0.0, 'rgb(247,251,255)'], [0.125,\n",
       "                                        'rgb(222,235,247)'], [0.25,\n",
       "                                        'rgb(198,219,239)'], [0.375,\n",
       "                                        'rgb(158,202,225)'], [0.5,\n",
       "                                        'rgb(107,174,214)'], [0.625,\n",
       "                                        'rgb(66,146,198)'], [0.75,\n",
       "                                        'rgb(33,113,181)'], [0.875,\n",
       "                                        'rgb(8,81,156)'], [1.0, 'rgb(8,48,107)']],\n",
       "                         'line': {'color': 'Grey', 'width': 0.5},\n",
       "                         'showscale': False},\n",
       "              'mode': 'markers',\n",
       "              'showlegend': False,\n",
       "              'type': 'scatter',\n",
       "              'x': [0.0035498788321965025, 0.0026471141828218157,\n",
       "                    0.008569331925053986, 0.03699972431463808, 0.411511304956109,\n",
       "                    0.38211294416912245, 0.0012902113024567154, 0.0404877881815341,\n",
       "                    0.8264588941152486, 0.15882107231676543, 0.20690550086963347,\n",
       "                    0.13341517481633328, 0.12151362993311442, 0.8675145655490915,\n",
       "                    0.07729443028734513, 0.3444315140977616],\n",
       "              'xaxis': 'x4',\n",
       "              'y': [0.5967335254562047, 0.6184598051405754, 0.5233455573713329,\n",
       "                    0.4135077642757382, 0.38797169527703657, 0.48554161494647613,\n",
       "                    0.6513827334700728, 0.43322869655213225, 0.5276990147146629,\n",
       "                    0.3895251437757331, 0.40468399162037577, 0.3537327900333324,\n",
       "                    0.389529660605126, 0.4147123753726313, 0.4157193493222701,\n",
       "                    0.4648339002118201],\n",
       "              'yaxis': 'y4'},\n",
       "             {'marker': {'color': [1, 6, 7, 8, 10, 11, 12, 13, 14, 15, 16, 17, 18,\n",
       "                                   19, 66, 219],\n",
       "                         'colorbar': {'title': {'text': 'Trial'}, 'x': 1.0, 'xpad': 40},\n",
       "                         'colorscale': [[0.0, 'rgb(247,251,255)'], [0.125,\n",
       "                                        'rgb(222,235,247)'], [0.25,\n",
       "                                        'rgb(198,219,239)'], [0.375,\n",
       "                                        'rgb(158,202,225)'], [0.5,\n",
       "                                        'rgb(107,174,214)'], [0.625,\n",
       "                                        'rgb(66,146,198)'], [0.75,\n",
       "                                        'rgb(33,113,181)'], [0.875,\n",
       "                                        'rgb(8,81,156)'], [1.0, 'rgb(8,48,107)']],\n",
       "                         'line': {'color': 'Grey', 'width': 0.5},\n",
       "                         'showscale': False},\n",
       "              'mode': 'markers',\n",
       "              'showlegend': False,\n",
       "              'type': 'scatter',\n",
       "              'x': [2.716051144654844e-06, 0.026156272064707428,\n",
       "                    3.994538177154855e-06, 2.632256136809142e-05,\n",
       "                    0.026876741555610546, 1.1366245816554797e-08,\n",
       "                    0.0007525141520487903, 5.276162470390128e-08,\n",
       "                    0.6090097675018683, 0.0007202349503619245,\n",
       "                    0.0028138475160906663, 0.024208002338502885,\n",
       "                    0.11234659313668886, 0.02355131967330587, 0.790891120470132,\n",
       "                    0.008188616485489788],\n",
       "              'xaxis': 'x5',\n",
       "              'y': [0.5967335254562047, 0.6184598051405754, 0.5233455573713329,\n",
       "                    0.4135077642757382, 0.38797169527703657, 0.48554161494647613,\n",
       "                    0.6513827334700728, 0.43322869655213225, 0.5276990147146629,\n",
       "                    0.3895251437757331, 0.40468399162037577, 0.3537327900333324,\n",
       "                    0.389529660605126, 0.4147123753726313, 0.4157193493222701,\n",
       "                    0.4648339002118201],\n",
       "              'yaxis': 'y5'},\n",
       "             {'marker': {'color': [1, 6, 7, 8, 10, 11, 12, 13, 14, 15, 16, 17, 18,\n",
       "                                   19, 66, 219],\n",
       "                         'colorbar': {'title': {'text': 'Trial'}, 'x': 1.0, 'xpad': 40},\n",
       "                         'colorscale': [[0.0, 'rgb(247,251,255)'], [0.125,\n",
       "                                        'rgb(222,235,247)'], [0.25,\n",
       "                                        'rgb(198,219,239)'], [0.375,\n",
       "                                        'rgb(158,202,225)'], [0.5,\n",
       "                                        'rgb(107,174,214)'], [0.625,\n",
       "                                        'rgb(66,146,198)'], [0.75,\n",
       "                                        'rgb(33,113,181)'], [0.875,\n",
       "                                        'rgb(8,81,156)'], [1.0, 'rgb(8,48,107)']],\n",
       "                         'line': {'color': 'Grey', 'width': 0.5},\n",
       "                         'showscale': False},\n",
       "              'mode': 'markers',\n",
       "              'showlegend': False,\n",
       "              'type': 'scatter',\n",
       "              'x': [depthwise, lossguide, depthwise, lossguide, lossguide,\n",
       "                    depthwise, depthwise, depthwise, lossguide, lossguide,\n",
       "                    lossguide, lossguide, lossguide, lossguide, lossguide,\n",
       "                    lossguide],\n",
       "              'xaxis': 'x6',\n",
       "              'y': [0.5967335254562047, 0.6184598051405754, 0.5233455573713329,\n",
       "                    0.4135077642757382, 0.38797169527703657, 0.48554161494647613,\n",
       "                    0.6513827334700728, 0.43322869655213225, 0.5276990147146629,\n",
       "                    0.3895251437757331, 0.40468399162037577, 0.3537327900333324,\n",
       "                    0.389529660605126, 0.4147123753726313, 0.4157193493222701,\n",
       "                    0.4648339002118201],\n",
       "              'yaxis': 'y6'},\n",
       "             {'marker': {'color': [1, 5, 6, 7, 8, 9, 10, 11, 12, 13, 14, 15, 16,\n",
       "                                   17, 18, 19, 66, 219],\n",
       "                         'colorbar': {'title': {'text': 'Trial'}, 'x': 1.0, 'xpad': 40},\n",
       "                         'colorscale': [[0.0, 'rgb(247,251,255)'], [0.125,\n",
       "                                        'rgb(222,235,247)'], [0.25,\n",
       "                                        'rgb(198,219,239)'], [0.375,\n",
       "                                        'rgb(158,202,225)'], [0.5,\n",
       "                                        'rgb(107,174,214)'], [0.625,\n",
       "                                        'rgb(66,146,198)'], [0.75,\n",
       "                                        'rgb(33,113,181)'], [0.875,\n",
       "                                        'rgb(8,81,156)'], [1.0, 'rgb(8,48,107)']],\n",
       "                         'line': {'color': 'Grey', 'width': 0.5},\n",
       "                         'showscale': False},\n",
       "              'mode': 'markers',\n",
       "              'showlegend': False,\n",
       "              'type': 'scatter',\n",
       "              'x': [1.4610865886287176e-08, 0.0006070155694141794,\n",
       "                    1.481809088646707e-06, 8.451863533931625e-08,\n",
       "                    0.005081106499593573, 0.00011710232809812825,\n",
       "                    2.0797523481449624e-06, 3.499675682069358e-06,\n",
       "                    0.5007008855904077, 7.963433393223581e-07,\n",
       "                    8.124962944565012e-06, 0.004839389592902318,\n",
       "                    0.005201901877653327, 5.007638479414757e-05,\n",
       "                    1.5672390461139365e-05, 2.837828725955016e-07,\n",
       "                    2.1049849528991988e-05, 1.3696307447668935e-07],\n",
       "              'xaxis': 'x7',\n",
       "              'y': [0.5967335254562047, 0.6433822087003274, 0.6184598051405754,\n",
       "                    0.5233455573713329, 0.4135077642757382, 0.6033821687360186,\n",
       "                    0.38797169527703657, 0.48554161494647613, 0.6513827334700728,\n",
       "                    0.43322869655213225, 0.5276990147146629, 0.3895251437757331,\n",
       "                    0.40468399162037577, 0.3537327900333324, 0.389529660605126,\n",
       "                    0.4147123753726313, 0.4157193493222701, 0.4648339002118201],\n",
       "              'yaxis': 'y7'},\n",
       "             {'marker': {'color': [1, 6, 7, 8, 10, 11, 12, 13, 14, 15, 16, 17, 18,\n",
       "                                   19, 66, 219],\n",
       "                         'colorbar': {'title': {'text': 'Trial'}, 'x': 1.0, 'xpad': 40},\n",
       "                         'colorscale': [[0.0, 'rgb(247,251,255)'], [0.125,\n",
       "                                        'rgb(222,235,247)'], [0.25,\n",
       "                                        'rgb(198,219,239)'], [0.375,\n",
       "                                        'rgb(158,202,225)'], [0.5,\n",
       "                                        'rgb(107,174,214)'], [0.625,\n",
       "                                        'rgb(66,146,198)'], [0.75,\n",
       "                                        'rgb(33,113,181)'], [0.875,\n",
       "                                        'rgb(8,81,156)'], [1.0, 'rgb(8,48,107)']],\n",
       "                         'line': {'color': 'Grey', 'width': 0.5},\n",
       "                         'showscale': False},\n",
       "              'mode': 'markers',\n",
       "              'showlegend': False,\n",
       "              'type': 'scatter',\n",
       "              'x': [3, 9, 2, 8, 11, 14, 5, 11, 15, 7, 7, 12, 12, 12, 16, 10],\n",
       "              'xaxis': 'x8',\n",
       "              'y': [0.5967335254562047, 0.6184598051405754, 0.5233455573713329,\n",
       "                    0.4135077642757382, 0.38797169527703657, 0.48554161494647613,\n",
       "                    0.6513827334700728, 0.43322869655213225, 0.5276990147146629,\n",
       "                    0.3895251437757331, 0.40468399162037577, 0.3537327900333324,\n",
       "                    0.389529660605126, 0.4147123753726313, 0.4157193493222701,\n",
       "                    0.4648339002118201],\n",
       "              'yaxis': 'y8'},\n",
       "             {'marker': {'color': [6, 11, 12, 13],\n",
       "                         'colorbar': {'title': {'text': 'Trial'}, 'x': 1.0, 'xpad': 40},\n",
       "                         'colorscale': [[0.0, 'rgb(247,251,255)'], [0.125,\n",
       "                                        'rgb(222,235,247)'], [0.25,\n",
       "                                        'rgb(198,219,239)'], [0.375,\n",
       "                                        'rgb(158,202,225)'], [0.5,\n",
       "                                        'rgb(107,174,214)'], [0.625,\n",
       "                                        'rgb(66,146,198)'], [0.75,\n",
       "                                        'rgb(33,113,181)'], [0.875,\n",
       "                                        'rgb(8,81,156)'], [1.0, 'rgb(8,48,107)']],\n",
       "                         'line': {'color': 'Grey', 'width': 0.5},\n",
       "                         'showscale': False},\n",
       "              'mode': 'markers',\n",
       "              'showlegend': False,\n",
       "              'type': 'scatter',\n",
       "              'x': [forest, forest, tree, forest],\n",
       "              'xaxis': 'x9',\n",
       "              'y': [0.6184598051405754, 0.48554161494647613, 0.6513827334700728,\n",
       "                    0.43322869655213225],\n",
       "              'yaxis': 'y9'},\n",
       "             {'marker': {'color': [6, 11, 12, 13],\n",
       "                         'colorbar': {'title': {'text': 'Trial'}, 'x': 1.0, 'xpad': 40},\n",
       "                         'colorscale': [[0.0, 'rgb(247,251,255)'], [0.125,\n",
       "                                        'rgb(222,235,247)'], [0.25,\n",
       "                                        'rgb(198,219,239)'], [0.375,\n",
       "                                        'rgb(158,202,225)'], [0.5,\n",
       "                                        'rgb(107,174,214)'], [0.625,\n",
       "                                        'rgb(66,146,198)'], [0.75,\n",
       "                                        'rgb(33,113,181)'], [0.875,\n",
       "                                        'rgb(8,81,156)'], [1.0, 'rgb(8,48,107)']],\n",
       "                         'line': {'color': 'Grey', 'width': 0.5},\n",
       "                         'showscale': False},\n",
       "              'mode': 'markers',\n",
       "              'showlegend': False,\n",
       "              'type': 'scatter',\n",
       "              'x': [0.0045170900739091345, 3.8514428343995194e-06,\n",
       "                    8.2342127198163e-05, 1.3573837053629966e-08],\n",
       "              'xaxis': 'x10',\n",
       "              'y': [0.6184598051405754, 0.48554161494647613, 0.6513827334700728,\n",
       "                    0.43322869655213225],\n",
       "              'yaxis': 'y10'},\n",
       "             {'marker': {'color': [6, 11, 12, 13],\n",
       "                         'colorbar': {'title': {'text': 'Trial'}, 'x': 1.0, 'xpad': 40},\n",
       "                         'colorscale': [[0.0, 'rgb(247,251,255)'], [0.125,\n",
       "                                        'rgb(222,235,247)'], [0.25,\n",
       "                                        'rgb(198,219,239)'], [0.375,\n",
       "                                        'rgb(158,202,225)'], [0.5,\n",
       "                                        'rgb(107,174,214)'], [0.625,\n",
       "                                        'rgb(66,146,198)'], [0.75,\n",
       "                                        'rgb(33,113,181)'], [0.875,\n",
       "                                        'rgb(8,81,156)'], [1.0, 'rgb(8,48,107)']],\n",
       "                         'line': {'color': 'Grey', 'width': 0.5},\n",
       "                         'showscale': False},\n",
       "              'mode': 'markers',\n",
       "              'showlegend': False,\n",
       "              'type': 'scatter',\n",
       "              'x': [uniform, uniform, weighted, uniform],\n",
       "              'xaxis': 'x11',\n",
       "              'y': [0.6184598051405754, 0.48554161494647613, 0.6513827334700728,\n",
       "                    0.43322869655213225],\n",
       "              'yaxis': 'y11'},\n",
       "             {'marker': {'color': [6, 11, 12, 13],\n",
       "                         'colorbar': {'title': {'text': 'Trial'}, 'x': 1.0, 'xpad': 40},\n",
       "                         'colorscale': [[0.0, 'rgb(247,251,255)'], [0.125,\n",
       "                                        'rgb(222,235,247)'], [0.25,\n",
       "                                        'rgb(198,219,239)'], [0.375,\n",
       "                                        'rgb(158,202,225)'], [0.5,\n",
       "                                        'rgb(107,174,214)'], [0.625,\n",
       "                                        'rgb(66,146,198)'], [0.75,\n",
       "                                        'rgb(33,113,181)'], [0.875,\n",
       "                                        'rgb(8,81,156)'], [1.0, 'rgb(8,48,107)']],\n",
       "                         'line': {'color': 'Grey', 'width': 0.5},\n",
       "                         'showscale': False},\n",
       "              'mode': 'markers',\n",
       "              'showlegend': False,\n",
       "              'type': 'scatter',\n",
       "              'x': [0.006792933207180863, 0.00014135949140057862,\n",
       "                    0.7677213757517419, 0.0001249523609345854],\n",
       "              'xaxis': 'x12',\n",
       "              'y': [0.6184598051405754, 0.48554161494647613, 0.6513827334700728,\n",
       "                    0.43322869655213225],\n",
       "              'yaxis': 'y12'},\n",
       "             {'marker': {'color': [1, 5, 6, 7, 8, 9, 10, 11, 12, 13, 14, 15, 16,\n",
       "                                   17, 18, 19, 66, 219],\n",
       "                         'colorbar': {'title': {'text': 'Trial'}, 'x': 1.0, 'xpad': 40},\n",
       "                         'colorscale': [[0.0, 'rgb(247,251,255)'], [0.125,\n",
       "                                        'rgb(222,235,247)'], [0.25,\n",
       "                                        'rgb(198,219,239)'], [0.375,\n",
       "                                        'rgb(158,202,225)'], [0.5,\n",
       "                                        'rgb(107,174,214)'], [0.625,\n",
       "                                        'rgb(66,146,198)'], [0.75,\n",
       "                                        'rgb(33,113,181)'], [0.875,\n",
       "                                        'rgb(8,81,156)'], [1.0, 'rgb(8,48,107)']],\n",
       "                         'line': {'color': 'Grey', 'width': 0.5},\n",
       "                         'showscale': False},\n",
       "              'mode': 'markers',\n",
       "              'showlegend': False,\n",
       "              'type': 'scatter',\n",
       "              'x': [0.6994655844802531, 0.2530955012311517, 0.4140519960161536,\n",
       "                    0.5739788760965348, 0.5367663185416978, 0.349575337489325,\n",
       "                    0.757818591405544, 0.33676109752516503, 0.4983491035354313,\n",
       "                    0.420669879631552, 0.7730675009063073, 0.6372224440894432,\n",
       "                    0.6745014789327672, 0.7996174631849311, 0.7976101936167284,\n",
       "                    0.7377626262696191, 0.7829871658936365, 0.630545694690643],\n",
       "              'xaxis': 'x13',\n",
       "              'y': [0.5967335254562047, 0.6433822087003274, 0.6184598051405754,\n",
       "                    0.5233455573713329, 0.4135077642757382, 0.6033821687360186,\n",
       "                    0.38797169527703657, 0.48554161494647613, 0.6513827334700728,\n",
       "                    0.43322869655213225, 0.5276990147146629, 0.3895251437757331,\n",
       "                    0.40468399162037577, 0.3537327900333324, 0.389529660605126,\n",
       "                    0.4147123753726313, 0.4157193493222701, 0.4648339002118201],\n",
       "              'yaxis': 'y13'}],\n",
       "    'layout': {'template': '...',\n",
       "               'title': {'text': 'Slice Plot'},\n",
       "               'width': 3900,\n",
       "               'xaxis': {'anchor': 'y', 'domain': [0.0, 0.06272189349112425], 'title': {'text': 'alpha'}, 'type': 'log'},\n",
       "               'xaxis10': {'anchor': 'y10',\n",
       "                           'domain': [0.7029585798816567, 0.7656804733727809],\n",
       "                           'title': {'text': 'rate_drop'},\n",
       "                           'type': 'log'},\n",
       "               'xaxis11': {'anchor': 'y11',\n",
       "                           'domain': [0.7810650887573962, 0.8437869822485204],\n",
       "                           'title': {'text': 'sample_type'}},\n",
       "               'xaxis12': {'anchor': 'y12',\n",
       "                           'domain': [0.8591715976331358, 0.92189349112426],\n",
       "                           'title': {'text': 'skip_drop'},\n",
       "                           'type': 'log'},\n",
       "               'xaxis13': {'anchor': 'y13',\n",
       "                           'domain': [0.9372781065088754, 0.9999999999999997],\n",
       "                           'title': {'text': 'subsample'}},\n",
       "               'xaxis2': {'anchor': 'y2',\n",
       "                          'domain': [0.07810650887573964, 0.1408284023668639],\n",
       "                          'title': {'text': 'booster'}},\n",
       "               'xaxis3': {'anchor': 'y3',\n",
       "                          'domain': [0.15621301775147928, 0.21893491124260353],\n",
       "                          'title': {'text': 'colsample_bytree'}},\n",
       "               'xaxis4': {'anchor': 'y4',\n",
       "                          'domain': [0.23431952662721892, 0.29704142011834317],\n",
       "                          'title': {'text': 'eta'},\n",
       "                          'type': 'log'},\n",
       "               'xaxis5': {'anchor': 'y5',\n",
       "                          'domain': [0.31242603550295855, 0.3751479289940828],\n",
       "                          'title': {'text': 'gamma'},\n",
       "                          'type': 'log'},\n",
       "               'xaxis6': {'anchor': 'y6',\n",
       "                          'domain': [0.39053254437869817, 0.45325443786982245],\n",
       "                          'title': {'text': 'grow_policy'}},\n",
       "               'xaxis7': {'anchor': 'y7',\n",
       "                          'domain': [0.4686390532544378, 0.531360946745562],\n",
       "                          'title': {'text': 'lambda'},\n",
       "                          'type': 'log'},\n",
       "               'xaxis8': {'anchor': 'y8',\n",
       "                          'domain': [0.5467455621301773, 0.6094674556213016],\n",
       "                          'title': {'text': 'max_depth'}},\n",
       "               'xaxis9': {'anchor': 'y9',\n",
       "                          'domain': [0.624852071005917, 0.6875739644970412],\n",
       "                          'title': {'text': 'normalize_type'}},\n",
       "               'yaxis': {'anchor': 'x', 'domain': [0.0, 1.0], 'title': {'text': 'Objective Value'}},\n",
       "               'yaxis10': {'anchor': 'x10', 'domain': [0.0, 1.0], 'matches': 'y', 'showticklabels': False},\n",
       "               'yaxis11': {'anchor': 'x11', 'domain': [0.0, 1.0], 'matches': 'y', 'showticklabels': False},\n",
       "               'yaxis12': {'anchor': 'x12', 'domain': [0.0, 1.0], 'matches': 'y', 'showticklabels': False},\n",
       "               'yaxis13': {'anchor': 'x13', 'domain': [0.0, 1.0], 'matches': 'y', 'showticklabels': False},\n",
       "               'yaxis2': {'anchor': 'x2', 'domain': [0.0, 1.0], 'matches': 'y', 'showticklabels': False},\n",
       "               'yaxis3': {'anchor': 'x3', 'domain': [0.0, 1.0], 'matches': 'y', 'showticklabels': False},\n",
       "               'yaxis4': {'anchor': 'x4', 'domain': [0.0, 1.0], 'matches': 'y', 'showticklabels': False},\n",
       "               'yaxis5': {'anchor': 'x5', 'domain': [0.0, 1.0], 'matches': 'y', 'showticklabels': False},\n",
       "               'yaxis6': {'anchor': 'x6', 'domain': [0.0, 1.0], 'matches': 'y', 'showticklabels': False},\n",
       "               'yaxis7': {'anchor': 'x7', 'domain': [0.0, 1.0], 'matches': 'y', 'showticklabels': False},\n",
       "               'yaxis8': {'anchor': 'x8', 'domain': [0.0, 1.0], 'matches': 'y', 'showticklabels': False},\n",
       "               'yaxis9': {'anchor': 'x9', 'domain': [0.0, 1.0], 'matches': 'y', 'showticklabels': False}}\n",
       "})"
      ]
     },
     "execution_count": 121,
     "metadata": {},
     "output_type": "execute_result"
    }
   ],
   "source": [
    "plot_slice(study)"
   ]
  },
  {
   "cell_type": "code",
   "execution_count": null,
   "metadata": {},
   "outputs": [
    {
     "ename": "ValueError",
     "evalue": "Mime type rendering requires nbformat>=4.2.0 but it is not installed",
     "output_type": "error",
     "traceback": [
      "\u001b[1;31m---------------------------------------------------------------------------\u001b[0m",
      "\u001b[1;31mValueError\u001b[0m                                Traceback (most recent call last)",
      "File \u001b[1;32m~\\AppData\\Roaming\\Python\\Python38\\site-packages\\IPython\\core\\formatters.py:920\u001b[0m, in \u001b[0;36mIPythonDisplayFormatter.__call__\u001b[1;34m(self, obj)\u001b[0m\n\u001b[0;32m    918\u001b[0m method \u001b[39m=\u001b[39m get_real_method(obj, \u001b[39mself\u001b[39m\u001b[39m.\u001b[39mprint_method)\n\u001b[0;32m    919\u001b[0m \u001b[39mif\u001b[39;00m method \u001b[39mis\u001b[39;00m \u001b[39mnot\u001b[39;00m \u001b[39mNone\u001b[39;00m:\n\u001b[1;32m--> 920\u001b[0m     method()\n\u001b[0;32m    921\u001b[0m     \u001b[39mreturn\u001b[39;00m \u001b[39mTrue\u001b[39;00m\n",
      "File \u001b[1;32mc:\\Users\\111\\AppData\\Local\\Programs\\Python\\Python38\\lib\\site-packages\\plotly\\basedatatypes.py:834\u001b[0m, in \u001b[0;36mBaseFigure._ipython_display_\u001b[1;34m(self)\u001b[0m\n\u001b[0;32m    831\u001b[0m \u001b[39mimport\u001b[39;00m \u001b[39mplotly\u001b[39;00m\u001b[39m.\u001b[39;00m\u001b[39mio\u001b[39;00m \u001b[39mas\u001b[39;00m \u001b[39mpio\u001b[39;00m\n\u001b[0;32m    833\u001b[0m \u001b[39mif\u001b[39;00m pio\u001b[39m.\u001b[39mrenderers\u001b[39m.\u001b[39mrender_on_display \u001b[39mand\u001b[39;00m pio\u001b[39m.\u001b[39mrenderers\u001b[39m.\u001b[39mdefault:\n\u001b[1;32m--> 834\u001b[0m     pio\u001b[39m.\u001b[39;49mshow(\u001b[39mself\u001b[39;49m)\n\u001b[0;32m    835\u001b[0m \u001b[39melse\u001b[39;00m:\n\u001b[0;32m    836\u001b[0m     \u001b[39mprint\u001b[39m(\u001b[39mrepr\u001b[39m(\u001b[39mself\u001b[39m))\n",
      "File \u001b[1;32mc:\\Users\\111\\AppData\\Local\\Programs\\Python\\Python38\\lib\\site-packages\\plotly\\io\\_renderers.py:396\u001b[0m, in \u001b[0;36mshow\u001b[1;34m(fig, renderer, validate, **kwargs)\u001b[0m\n\u001b[0;32m    391\u001b[0m         \u001b[39mraise\u001b[39;00m \u001b[39mValueError\u001b[39;00m(\n\u001b[0;32m    392\u001b[0m             \u001b[39m\"\u001b[39m\u001b[39mMime type rendering requires ipython but it is not installed\u001b[39m\u001b[39m\"\u001b[39m\n\u001b[0;32m    393\u001b[0m         )\n\u001b[0;32m    395\u001b[0m     \u001b[39mif\u001b[39;00m \u001b[39mnot\u001b[39;00m nbformat \u001b[39mor\u001b[39;00m Version(nbformat\u001b[39m.\u001b[39m__version__) \u001b[39m<\u001b[39m Version(\u001b[39m\"\u001b[39m\u001b[39m4.2.0\u001b[39m\u001b[39m\"\u001b[39m):\n\u001b[1;32m--> 396\u001b[0m         \u001b[39mraise\u001b[39;00m \u001b[39mValueError\u001b[39;00m(\n\u001b[0;32m    397\u001b[0m             \u001b[39m\"\u001b[39m\u001b[39mMime type rendering requires nbformat>=4.2.0 but it is not installed\u001b[39m\u001b[39m\"\u001b[39m\n\u001b[0;32m    398\u001b[0m         )\n\u001b[0;32m    400\u001b[0m     ipython_display\u001b[39m.\u001b[39mdisplay(bundle, raw\u001b[39m=\u001b[39m\u001b[39mTrue\u001b[39;00m)\n\u001b[0;32m    402\u001b[0m \u001b[39m# external renderers\u001b[39;00m\n",
      "\u001b[1;31mValueError\u001b[0m: Mime type rendering requires nbformat>=4.2.0 but it is not installed"
     ]
    },
    {
     "data": {
      "application/vnd.plotly.v1+json": {
       "config": {
        "plotlyServerURL": "https://plot.ly"
       },
       "data": [
        {
         "cliponaxis": false,
         "hovertemplate": [
          "lambda (FloatDistribution): 0.0010211392978202668<extra></extra>",
          "booster (CategoricalDistribution): 0.04281909881010983<extra></extra>",
          "subsample (FloatDistribution): 0.07541359284822767<extra></extra>",
          "alpha (FloatDistribution): 0.15290526812621347<extra></extra>",
          "colsample_bytree (FloatDistribution): 0.7278409009176288<extra></extra>"
         ],
         "marker": {
          "color": "rgb(66,146,198)"
         },
         "orientation": "h",
         "text": [
          "<0.01",
          "0.04",
          "0.08",
          "0.15",
          "0.73"
         ],
         "textposition": "outside",
         "type": "bar",
         "x": [
          0.0010211392978202668,
          0.04281909881010983,
          0.07541359284822767,
          0.15290526812621347,
          0.7278409009176288
         ],
         "y": [
          "lambda",
          "booster",
          "subsample",
          "alpha",
          "colsample_bytree"
         ]
        }
       ],
       "layout": {
        "showlegend": false,
        "template": {
         "data": {
          "bar": [
           {
            "error_x": {
             "color": "#2a3f5f"
            },
            "error_y": {
             "color": "#2a3f5f"
            },
            "marker": {
             "line": {
              "color": "#E5ECF6",
              "width": 0.5
             },
             "pattern": {
              "fillmode": "overlay",
              "size": 10,
              "solidity": 0.2
             }
            },
            "type": "bar"
           }
          ],
          "barpolar": [
           {
            "marker": {
             "line": {
              "color": "#E5ECF6",
              "width": 0.5
             },
             "pattern": {
              "fillmode": "overlay",
              "size": 10,
              "solidity": 0.2
             }
            },
            "type": "barpolar"
           }
          ],
          "carpet": [
           {
            "aaxis": {
             "endlinecolor": "#2a3f5f",
             "gridcolor": "white",
             "linecolor": "white",
             "minorgridcolor": "white",
             "startlinecolor": "#2a3f5f"
            },
            "baxis": {
             "endlinecolor": "#2a3f5f",
             "gridcolor": "white",
             "linecolor": "white",
             "minorgridcolor": "white",
             "startlinecolor": "#2a3f5f"
            },
            "type": "carpet"
           }
          ],
          "choropleth": [
           {
            "colorbar": {
             "outlinewidth": 0,
             "ticks": ""
            },
            "type": "choropleth"
           }
          ],
          "contour": [
           {
            "colorbar": {
             "outlinewidth": 0,
             "ticks": ""
            },
            "colorscale": [
             [
              0,
              "#0d0887"
             ],
             [
              0.1111111111111111,
              "#46039f"
             ],
             [
              0.2222222222222222,
              "#7201a8"
             ],
             [
              0.3333333333333333,
              "#9c179e"
             ],
             [
              0.4444444444444444,
              "#bd3786"
             ],
             [
              0.5555555555555556,
              "#d8576b"
             ],
             [
              0.6666666666666666,
              "#ed7953"
             ],
             [
              0.7777777777777778,
              "#fb9f3a"
             ],
             [
              0.8888888888888888,
              "#fdca26"
             ],
             [
              1,
              "#f0f921"
             ]
            ],
            "type": "contour"
           }
          ],
          "contourcarpet": [
           {
            "colorbar": {
             "outlinewidth": 0,
             "ticks": ""
            },
            "type": "contourcarpet"
           }
          ],
          "heatmap": [
           {
            "colorbar": {
             "outlinewidth": 0,
             "ticks": ""
            },
            "colorscale": [
             [
              0,
              "#0d0887"
             ],
             [
              0.1111111111111111,
              "#46039f"
             ],
             [
              0.2222222222222222,
              "#7201a8"
             ],
             [
              0.3333333333333333,
              "#9c179e"
             ],
             [
              0.4444444444444444,
              "#bd3786"
             ],
             [
              0.5555555555555556,
              "#d8576b"
             ],
             [
              0.6666666666666666,
              "#ed7953"
             ],
             [
              0.7777777777777778,
              "#fb9f3a"
             ],
             [
              0.8888888888888888,
              "#fdca26"
             ],
             [
              1,
              "#f0f921"
             ]
            ],
            "type": "heatmap"
           }
          ],
          "heatmapgl": [
           {
            "colorbar": {
             "outlinewidth": 0,
             "ticks": ""
            },
            "colorscale": [
             [
              0,
              "#0d0887"
             ],
             [
              0.1111111111111111,
              "#46039f"
             ],
             [
              0.2222222222222222,
              "#7201a8"
             ],
             [
              0.3333333333333333,
              "#9c179e"
             ],
             [
              0.4444444444444444,
              "#bd3786"
             ],
             [
              0.5555555555555556,
              "#d8576b"
             ],
             [
              0.6666666666666666,
              "#ed7953"
             ],
             [
              0.7777777777777778,
              "#fb9f3a"
             ],
             [
              0.8888888888888888,
              "#fdca26"
             ],
             [
              1,
              "#f0f921"
             ]
            ],
            "type": "heatmapgl"
           }
          ],
          "histogram": [
           {
            "marker": {
             "pattern": {
              "fillmode": "overlay",
              "size": 10,
              "solidity": 0.2
             }
            },
            "type": "histogram"
           }
          ],
          "histogram2d": [
           {
            "colorbar": {
             "outlinewidth": 0,
             "ticks": ""
            },
            "colorscale": [
             [
              0,
              "#0d0887"
             ],
             [
              0.1111111111111111,
              "#46039f"
             ],
             [
              0.2222222222222222,
              "#7201a8"
             ],
             [
              0.3333333333333333,
              "#9c179e"
             ],
             [
              0.4444444444444444,
              "#bd3786"
             ],
             [
              0.5555555555555556,
              "#d8576b"
             ],
             [
              0.6666666666666666,
              "#ed7953"
             ],
             [
              0.7777777777777778,
              "#fb9f3a"
             ],
             [
              0.8888888888888888,
              "#fdca26"
             ],
             [
              1,
              "#f0f921"
             ]
            ],
            "type": "histogram2d"
           }
          ],
          "histogram2dcontour": [
           {
            "colorbar": {
             "outlinewidth": 0,
             "ticks": ""
            },
            "colorscale": [
             [
              0,
              "#0d0887"
             ],
             [
              0.1111111111111111,
              "#46039f"
             ],
             [
              0.2222222222222222,
              "#7201a8"
             ],
             [
              0.3333333333333333,
              "#9c179e"
             ],
             [
              0.4444444444444444,
              "#bd3786"
             ],
             [
              0.5555555555555556,
              "#d8576b"
             ],
             [
              0.6666666666666666,
              "#ed7953"
             ],
             [
              0.7777777777777778,
              "#fb9f3a"
             ],
             [
              0.8888888888888888,
              "#fdca26"
             ],
             [
              1,
              "#f0f921"
             ]
            ],
            "type": "histogram2dcontour"
           }
          ],
          "mesh3d": [
           {
            "colorbar": {
             "outlinewidth": 0,
             "ticks": ""
            },
            "type": "mesh3d"
           }
          ],
          "parcoords": [
           {
            "line": {
             "colorbar": {
              "outlinewidth": 0,
              "ticks": ""
             }
            },
            "type": "parcoords"
           }
          ],
          "pie": [
           {
            "automargin": true,
            "type": "pie"
           }
          ],
          "scatter": [
           {
            "fillpattern": {
             "fillmode": "overlay",
             "size": 10,
             "solidity": 0.2
            },
            "type": "scatter"
           }
          ],
          "scatter3d": [
           {
            "line": {
             "colorbar": {
              "outlinewidth": 0,
              "ticks": ""
             }
            },
            "marker": {
             "colorbar": {
              "outlinewidth": 0,
              "ticks": ""
             }
            },
            "type": "scatter3d"
           }
          ],
          "scattercarpet": [
           {
            "marker": {
             "colorbar": {
              "outlinewidth": 0,
              "ticks": ""
             }
            },
            "type": "scattercarpet"
           }
          ],
          "scattergeo": [
           {
            "marker": {
             "colorbar": {
              "outlinewidth": 0,
              "ticks": ""
             }
            },
            "type": "scattergeo"
           }
          ],
          "scattergl": [
           {
            "marker": {
             "colorbar": {
              "outlinewidth": 0,
              "ticks": ""
             }
            },
            "type": "scattergl"
           }
          ],
          "scattermapbox": [
           {
            "marker": {
             "colorbar": {
              "outlinewidth": 0,
              "ticks": ""
             }
            },
            "type": "scattermapbox"
           }
          ],
          "scatterpolar": [
           {
            "marker": {
             "colorbar": {
              "outlinewidth": 0,
              "ticks": ""
             }
            },
            "type": "scatterpolar"
           }
          ],
          "scatterpolargl": [
           {
            "marker": {
             "colorbar": {
              "outlinewidth": 0,
              "ticks": ""
             }
            },
            "type": "scatterpolargl"
           }
          ],
          "scatterternary": [
           {
            "marker": {
             "colorbar": {
              "outlinewidth": 0,
              "ticks": ""
             }
            },
            "type": "scatterternary"
           }
          ],
          "surface": [
           {
            "colorbar": {
             "outlinewidth": 0,
             "ticks": ""
            },
            "colorscale": [
             [
              0,
              "#0d0887"
             ],
             [
              0.1111111111111111,
              "#46039f"
             ],
             [
              0.2222222222222222,
              "#7201a8"
             ],
             [
              0.3333333333333333,
              "#9c179e"
             ],
             [
              0.4444444444444444,
              "#bd3786"
             ],
             [
              0.5555555555555556,
              "#d8576b"
             ],
             [
              0.6666666666666666,
              "#ed7953"
             ],
             [
              0.7777777777777778,
              "#fb9f3a"
             ],
             [
              0.8888888888888888,
              "#fdca26"
             ],
             [
              1,
              "#f0f921"
             ]
            ],
            "type": "surface"
           }
          ],
          "table": [
           {
            "cells": {
             "fill": {
              "color": "#EBF0F8"
             },
             "line": {
              "color": "white"
             }
            },
            "header": {
             "fill": {
              "color": "#C8D4E3"
             },
             "line": {
              "color": "white"
             }
            },
            "type": "table"
           }
          ]
         },
         "layout": {
          "annotationdefaults": {
           "arrowcolor": "#2a3f5f",
           "arrowhead": 0,
           "arrowwidth": 1
          },
          "autotypenumbers": "strict",
          "coloraxis": {
           "colorbar": {
            "outlinewidth": 0,
            "ticks": ""
           }
          },
          "colorscale": {
           "diverging": [
            [
             0,
             "#8e0152"
            ],
            [
             0.1,
             "#c51b7d"
            ],
            [
             0.2,
             "#de77ae"
            ],
            [
             0.3,
             "#f1b6da"
            ],
            [
             0.4,
             "#fde0ef"
            ],
            [
             0.5,
             "#f7f7f7"
            ],
            [
             0.6,
             "#e6f5d0"
            ],
            [
             0.7,
             "#b8e186"
            ],
            [
             0.8,
             "#7fbc41"
            ],
            [
             0.9,
             "#4d9221"
            ],
            [
             1,
             "#276419"
            ]
           ],
           "sequential": [
            [
             0,
             "#0d0887"
            ],
            [
             0.1111111111111111,
             "#46039f"
            ],
            [
             0.2222222222222222,
             "#7201a8"
            ],
            [
             0.3333333333333333,
             "#9c179e"
            ],
            [
             0.4444444444444444,
             "#bd3786"
            ],
            [
             0.5555555555555556,
             "#d8576b"
            ],
            [
             0.6666666666666666,
             "#ed7953"
            ],
            [
             0.7777777777777778,
             "#fb9f3a"
            ],
            [
             0.8888888888888888,
             "#fdca26"
            ],
            [
             1,
             "#f0f921"
            ]
           ],
           "sequentialminus": [
            [
             0,
             "#0d0887"
            ],
            [
             0.1111111111111111,
             "#46039f"
            ],
            [
             0.2222222222222222,
             "#7201a8"
            ],
            [
             0.3333333333333333,
             "#9c179e"
            ],
            [
             0.4444444444444444,
             "#bd3786"
            ],
            [
             0.5555555555555556,
             "#d8576b"
            ],
            [
             0.6666666666666666,
             "#ed7953"
            ],
            [
             0.7777777777777778,
             "#fb9f3a"
            ],
            [
             0.8888888888888888,
             "#fdca26"
            ],
            [
             1,
             "#f0f921"
            ]
           ]
          },
          "colorway": [
           "#636efa",
           "#EF553B",
           "#00cc96",
           "#ab63fa",
           "#FFA15A",
           "#19d3f3",
           "#FF6692",
           "#B6E880",
           "#FF97FF",
           "#FECB52"
          ],
          "font": {
           "color": "#2a3f5f"
          },
          "geo": {
           "bgcolor": "white",
           "lakecolor": "white",
           "landcolor": "#E5ECF6",
           "showlakes": true,
           "showland": true,
           "subunitcolor": "white"
          },
          "hoverlabel": {
           "align": "left"
          },
          "hovermode": "closest",
          "mapbox": {
           "style": "light"
          },
          "paper_bgcolor": "white",
          "plot_bgcolor": "#E5ECF6",
          "polar": {
           "angularaxis": {
            "gridcolor": "white",
            "linecolor": "white",
            "ticks": ""
           },
           "bgcolor": "#E5ECF6",
           "radialaxis": {
            "gridcolor": "white",
            "linecolor": "white",
            "ticks": ""
           }
          },
          "scene": {
           "xaxis": {
            "backgroundcolor": "#E5ECF6",
            "gridcolor": "white",
            "gridwidth": 2,
            "linecolor": "white",
            "showbackground": true,
            "ticks": "",
            "zerolinecolor": "white"
           },
           "yaxis": {
            "backgroundcolor": "#E5ECF6",
            "gridcolor": "white",
            "gridwidth": 2,
            "linecolor": "white",
            "showbackground": true,
            "ticks": "",
            "zerolinecolor": "white"
           },
           "zaxis": {
            "backgroundcolor": "#E5ECF6",
            "gridcolor": "white",
            "gridwidth": 2,
            "linecolor": "white",
            "showbackground": true,
            "ticks": "",
            "zerolinecolor": "white"
           }
          },
          "shapedefaults": {
           "line": {
            "color": "#2a3f5f"
           }
          },
          "ternary": {
           "aaxis": {
            "gridcolor": "white",
            "linecolor": "white",
            "ticks": ""
           },
           "baxis": {
            "gridcolor": "white",
            "linecolor": "white",
            "ticks": ""
           },
           "bgcolor": "#E5ECF6",
           "caxis": {
            "gridcolor": "white",
            "linecolor": "white",
            "ticks": ""
           }
          },
          "title": {
           "x": 0.05
          },
          "xaxis": {
           "automargin": true,
           "gridcolor": "white",
           "linecolor": "white",
           "ticks": "",
           "title": {
            "standoff": 15
           },
           "zerolinecolor": "white",
           "zerolinewidth": 2
          },
          "yaxis": {
           "automargin": true,
           "gridcolor": "white",
           "linecolor": "white",
           "ticks": "",
           "title": {
            "standoff": 15
           },
           "zerolinecolor": "white",
           "zerolinewidth": 2
          }
         }
        },
        "title": {
         "text": "Hyperparameter Importances"
        },
        "xaxis": {
         "title": {
          "text": "Importance for Objective Value"
         }
        },
        "yaxis": {
         "title": {
          "text": "Hyperparameter"
         }
        }
       }
      },
      "text/html": [
       "<div>                        <script type=\"text/javascript\">window.PlotlyConfig = {MathJaxConfig: 'local'};</script>\n",
       "        <script charset=\"utf-8\" src=\"https://cdn.plot.ly/plotly-2.24.1.min.js\"></script>                <div id=\"7e298c8d-e28c-4df4-9632-6016792ed24b\" class=\"plotly-graph-div\" style=\"height:100%; width:100%;\"></div>            <script type=\"text/javascript\">                                    window.PLOTLYENV=window.PLOTLYENV || {};                                    if (document.getElementById(\"7e298c8d-e28c-4df4-9632-6016792ed24b\")) {                    Plotly.newPlot(                        \"7e298c8d-e28c-4df4-9632-6016792ed24b\",                        [{\"cliponaxis\":false,\"hovertemplate\":[\"lambda (FloatDistribution): 0.0010211392978202668\\u003cextra\\u003e\\u003c\\u002fextra\\u003e\",\"booster (CategoricalDistribution): 0.04281909881010983\\u003cextra\\u003e\\u003c\\u002fextra\\u003e\",\"subsample (FloatDistribution): 0.07541359284822767\\u003cextra\\u003e\\u003c\\u002fextra\\u003e\",\"alpha (FloatDistribution): 0.15290526812621347\\u003cextra\\u003e\\u003c\\u002fextra\\u003e\",\"colsample_bytree (FloatDistribution): 0.7278409009176288\\u003cextra\\u003e\\u003c\\u002fextra\\u003e\"],\"marker\":{\"color\":\"rgb(66,146,198)\"},\"orientation\":\"h\",\"text\":[\"\\u003c0.01\",\"0.04\",\"0.08\",\"0.15\",\"0.73\"],\"textposition\":\"outside\",\"x\":[0.0010211392978202668,0.04281909881010983,0.07541359284822767,0.15290526812621347,0.7278409009176288],\"y\":[\"lambda\",\"booster\",\"subsample\",\"alpha\",\"colsample_bytree\"],\"type\":\"bar\"}],                        {\"showlegend\":false,\"title\":{\"text\":\"Hyperparameter Importances\"},\"xaxis\":{\"title\":{\"text\":\"Importance for Objective Value\"}},\"yaxis\":{\"title\":{\"text\":\"Hyperparameter\"}},\"template\":{\"data\":{\"histogram2dcontour\":[{\"type\":\"histogram2dcontour\",\"colorbar\":{\"outlinewidth\":0,\"ticks\":\"\"},\"colorscale\":[[0.0,\"#0d0887\"],[0.1111111111111111,\"#46039f\"],[0.2222222222222222,\"#7201a8\"],[0.3333333333333333,\"#9c179e\"],[0.4444444444444444,\"#bd3786\"],[0.5555555555555556,\"#d8576b\"],[0.6666666666666666,\"#ed7953\"],[0.7777777777777778,\"#fb9f3a\"],[0.8888888888888888,\"#fdca26\"],[1.0,\"#f0f921\"]]}],\"choropleth\":[{\"type\":\"choropleth\",\"colorbar\":{\"outlinewidth\":0,\"ticks\":\"\"}}],\"histogram2d\":[{\"type\":\"histogram2d\",\"colorbar\":{\"outlinewidth\":0,\"ticks\":\"\"},\"colorscale\":[[0.0,\"#0d0887\"],[0.1111111111111111,\"#46039f\"],[0.2222222222222222,\"#7201a8\"],[0.3333333333333333,\"#9c179e\"],[0.4444444444444444,\"#bd3786\"],[0.5555555555555556,\"#d8576b\"],[0.6666666666666666,\"#ed7953\"],[0.7777777777777778,\"#fb9f3a\"],[0.8888888888888888,\"#fdca26\"],[1.0,\"#f0f921\"]]}],\"heatmap\":[{\"type\":\"heatmap\",\"colorbar\":{\"outlinewidth\":0,\"ticks\":\"\"},\"colorscale\":[[0.0,\"#0d0887\"],[0.1111111111111111,\"#46039f\"],[0.2222222222222222,\"#7201a8\"],[0.3333333333333333,\"#9c179e\"],[0.4444444444444444,\"#bd3786\"],[0.5555555555555556,\"#d8576b\"],[0.6666666666666666,\"#ed7953\"],[0.7777777777777778,\"#fb9f3a\"],[0.8888888888888888,\"#fdca26\"],[1.0,\"#f0f921\"]]}],\"heatmapgl\":[{\"type\":\"heatmapgl\",\"colorbar\":{\"outlinewidth\":0,\"ticks\":\"\"},\"colorscale\":[[0.0,\"#0d0887\"],[0.1111111111111111,\"#46039f\"],[0.2222222222222222,\"#7201a8\"],[0.3333333333333333,\"#9c179e\"],[0.4444444444444444,\"#bd3786\"],[0.5555555555555556,\"#d8576b\"],[0.6666666666666666,\"#ed7953\"],[0.7777777777777778,\"#fb9f3a\"],[0.8888888888888888,\"#fdca26\"],[1.0,\"#f0f921\"]]}],\"contourcarpet\":[{\"type\":\"contourcarpet\",\"colorbar\":{\"outlinewidth\":0,\"ticks\":\"\"}}],\"contour\":[{\"type\":\"contour\",\"colorbar\":{\"outlinewidth\":0,\"ticks\":\"\"},\"colorscale\":[[0.0,\"#0d0887\"],[0.1111111111111111,\"#46039f\"],[0.2222222222222222,\"#7201a8\"],[0.3333333333333333,\"#9c179e\"],[0.4444444444444444,\"#bd3786\"],[0.5555555555555556,\"#d8576b\"],[0.6666666666666666,\"#ed7953\"],[0.7777777777777778,\"#fb9f3a\"],[0.8888888888888888,\"#fdca26\"],[1.0,\"#f0f921\"]]}],\"surface\":[{\"type\":\"surface\",\"colorbar\":{\"outlinewidth\":0,\"ticks\":\"\"},\"colorscale\":[[0.0,\"#0d0887\"],[0.1111111111111111,\"#46039f\"],[0.2222222222222222,\"#7201a8\"],[0.3333333333333333,\"#9c179e\"],[0.4444444444444444,\"#bd3786\"],[0.5555555555555556,\"#d8576b\"],[0.6666666666666666,\"#ed7953\"],[0.7777777777777778,\"#fb9f3a\"],[0.8888888888888888,\"#fdca26\"],[1.0,\"#f0f921\"]]}],\"mesh3d\":[{\"type\":\"mesh3d\",\"colorbar\":{\"outlinewidth\":0,\"ticks\":\"\"}}],\"scatter\":[{\"fillpattern\":{\"fillmode\":\"overlay\",\"size\":10,\"solidity\":0.2},\"type\":\"scatter\"}],\"parcoords\":[{\"type\":\"parcoords\",\"line\":{\"colorbar\":{\"outlinewidth\":0,\"ticks\":\"\"}}}],\"scatterpolargl\":[{\"type\":\"scatterpolargl\",\"marker\":{\"colorbar\":{\"outlinewidth\":0,\"ticks\":\"\"}}}],\"bar\":[{\"error_x\":{\"color\":\"#2a3f5f\"},\"error_y\":{\"color\":\"#2a3f5f\"},\"marker\":{\"line\":{\"color\":\"#E5ECF6\",\"width\":0.5},\"pattern\":{\"fillmode\":\"overlay\",\"size\":10,\"solidity\":0.2}},\"type\":\"bar\"}],\"scattergeo\":[{\"type\":\"scattergeo\",\"marker\":{\"colorbar\":{\"outlinewidth\":0,\"ticks\":\"\"}}}],\"scatterpolar\":[{\"type\":\"scatterpolar\",\"marker\":{\"colorbar\":{\"outlinewidth\":0,\"ticks\":\"\"}}}],\"histogram\":[{\"marker\":{\"pattern\":{\"fillmode\":\"overlay\",\"size\":10,\"solidity\":0.2}},\"type\":\"histogram\"}],\"scattergl\":[{\"type\":\"scattergl\",\"marker\":{\"colorbar\":{\"outlinewidth\":0,\"ticks\":\"\"}}}],\"scatter3d\":[{\"type\":\"scatter3d\",\"line\":{\"colorbar\":{\"outlinewidth\":0,\"ticks\":\"\"}},\"marker\":{\"colorbar\":{\"outlinewidth\":0,\"ticks\":\"\"}}}],\"scattermapbox\":[{\"type\":\"scattermapbox\",\"marker\":{\"colorbar\":{\"outlinewidth\":0,\"ticks\":\"\"}}}],\"scatterternary\":[{\"type\":\"scatterternary\",\"marker\":{\"colorbar\":{\"outlinewidth\":0,\"ticks\":\"\"}}}],\"scattercarpet\":[{\"type\":\"scattercarpet\",\"marker\":{\"colorbar\":{\"outlinewidth\":0,\"ticks\":\"\"}}}],\"carpet\":[{\"aaxis\":{\"endlinecolor\":\"#2a3f5f\",\"gridcolor\":\"white\",\"linecolor\":\"white\",\"minorgridcolor\":\"white\",\"startlinecolor\":\"#2a3f5f\"},\"baxis\":{\"endlinecolor\":\"#2a3f5f\",\"gridcolor\":\"white\",\"linecolor\":\"white\",\"minorgridcolor\":\"white\",\"startlinecolor\":\"#2a3f5f\"},\"type\":\"carpet\"}],\"table\":[{\"cells\":{\"fill\":{\"color\":\"#EBF0F8\"},\"line\":{\"color\":\"white\"}},\"header\":{\"fill\":{\"color\":\"#C8D4E3\"},\"line\":{\"color\":\"white\"}},\"type\":\"table\"}],\"barpolar\":[{\"marker\":{\"line\":{\"color\":\"#E5ECF6\",\"width\":0.5},\"pattern\":{\"fillmode\":\"overlay\",\"size\":10,\"solidity\":0.2}},\"type\":\"barpolar\"}],\"pie\":[{\"automargin\":true,\"type\":\"pie\"}]},\"layout\":{\"autotypenumbers\":\"strict\",\"colorway\":[\"#636efa\",\"#EF553B\",\"#00cc96\",\"#ab63fa\",\"#FFA15A\",\"#19d3f3\",\"#FF6692\",\"#B6E880\",\"#FF97FF\",\"#FECB52\"],\"font\":{\"color\":\"#2a3f5f\"},\"hovermode\":\"closest\",\"hoverlabel\":{\"align\":\"left\"},\"paper_bgcolor\":\"white\",\"plot_bgcolor\":\"#E5ECF6\",\"polar\":{\"bgcolor\":\"#E5ECF6\",\"angularaxis\":{\"gridcolor\":\"white\",\"linecolor\":\"white\",\"ticks\":\"\"},\"radialaxis\":{\"gridcolor\":\"white\",\"linecolor\":\"white\",\"ticks\":\"\"}},\"ternary\":{\"bgcolor\":\"#E5ECF6\",\"aaxis\":{\"gridcolor\":\"white\",\"linecolor\":\"white\",\"ticks\":\"\"},\"baxis\":{\"gridcolor\":\"white\",\"linecolor\":\"white\",\"ticks\":\"\"},\"caxis\":{\"gridcolor\":\"white\",\"linecolor\":\"white\",\"ticks\":\"\"}},\"coloraxis\":{\"colorbar\":{\"outlinewidth\":0,\"ticks\":\"\"}},\"colorscale\":{\"sequential\":[[0.0,\"#0d0887\"],[0.1111111111111111,\"#46039f\"],[0.2222222222222222,\"#7201a8\"],[0.3333333333333333,\"#9c179e\"],[0.4444444444444444,\"#bd3786\"],[0.5555555555555556,\"#d8576b\"],[0.6666666666666666,\"#ed7953\"],[0.7777777777777778,\"#fb9f3a\"],[0.8888888888888888,\"#fdca26\"],[1.0,\"#f0f921\"]],\"sequentialminus\":[[0.0,\"#0d0887\"],[0.1111111111111111,\"#46039f\"],[0.2222222222222222,\"#7201a8\"],[0.3333333333333333,\"#9c179e\"],[0.4444444444444444,\"#bd3786\"],[0.5555555555555556,\"#d8576b\"],[0.6666666666666666,\"#ed7953\"],[0.7777777777777778,\"#fb9f3a\"],[0.8888888888888888,\"#fdca26\"],[1.0,\"#f0f921\"]],\"diverging\":[[0,\"#8e0152\"],[0.1,\"#c51b7d\"],[0.2,\"#de77ae\"],[0.3,\"#f1b6da\"],[0.4,\"#fde0ef\"],[0.5,\"#f7f7f7\"],[0.6,\"#e6f5d0\"],[0.7,\"#b8e186\"],[0.8,\"#7fbc41\"],[0.9,\"#4d9221\"],[1,\"#276419\"]]},\"xaxis\":{\"gridcolor\":\"white\",\"linecolor\":\"white\",\"ticks\":\"\",\"title\":{\"standoff\":15},\"zerolinecolor\":\"white\",\"automargin\":true,\"zerolinewidth\":2},\"yaxis\":{\"gridcolor\":\"white\",\"linecolor\":\"white\",\"ticks\":\"\",\"title\":{\"standoff\":15},\"zerolinecolor\":\"white\",\"automargin\":true,\"zerolinewidth\":2},\"scene\":{\"xaxis\":{\"backgroundcolor\":\"#E5ECF6\",\"gridcolor\":\"white\",\"linecolor\":\"white\",\"showbackground\":true,\"ticks\":\"\",\"zerolinecolor\":\"white\",\"gridwidth\":2},\"yaxis\":{\"backgroundcolor\":\"#E5ECF6\",\"gridcolor\":\"white\",\"linecolor\":\"white\",\"showbackground\":true,\"ticks\":\"\",\"zerolinecolor\":\"white\",\"gridwidth\":2},\"zaxis\":{\"backgroundcolor\":\"#E5ECF6\",\"gridcolor\":\"white\",\"linecolor\":\"white\",\"showbackground\":true,\"ticks\":\"\",\"zerolinecolor\":\"white\",\"gridwidth\":2}},\"shapedefaults\":{\"line\":{\"color\":\"#2a3f5f\"}},\"annotationdefaults\":{\"arrowcolor\":\"#2a3f5f\",\"arrowhead\":0,\"arrowwidth\":1},\"geo\":{\"bgcolor\":\"white\",\"landcolor\":\"#E5ECF6\",\"subunitcolor\":\"white\",\"showland\":true,\"showlakes\":true,\"lakecolor\":\"white\"},\"title\":{\"x\":0.05},\"mapbox\":{\"style\":\"light\"}}}},                        {\"responsive\": true}                    )                };                            </script>        </div>"
      ],
      "text/plain": [
       "Figure({\n",
       "    'data': [{'cliponaxis': False,\n",
       "              'hovertemplate': [lambda (FloatDistribution):\n",
       "                                0.0010211392978202668<extra></extra>, booster\n",
       "                                (CategoricalDistribution):\n",
       "                                0.04281909881010983<extra></extra>, subsample\n",
       "                                (FloatDistribution):\n",
       "                                0.07541359284822767<extra></extra>, alpha\n",
       "                                (FloatDistribution):\n",
       "                                0.15290526812621347<extra></extra>,\n",
       "                                colsample_bytree (FloatDistribution):\n",
       "                                0.7278409009176288<extra></extra>],\n",
       "              'marker': {'color': 'rgb(66,146,198)'},\n",
       "              'orientation': 'h',\n",
       "              'text': [<0.01, 0.04, 0.08, 0.15, 0.73],\n",
       "              'textposition': 'outside',\n",
       "              'type': 'bar',\n",
       "              'x': [0.0010211392978202668, 0.04281909881010983,\n",
       "                    0.07541359284822767, 0.15290526812621347, 0.7278409009176288],\n",
       "              'y': [lambda, booster, subsample, alpha, colsample_bytree]}],\n",
       "    'layout': {'showlegend': False,\n",
       "               'template': '...',\n",
       "               'title': {'text': 'Hyperparameter Importances'},\n",
       "               'xaxis': {'title': {'text': 'Importance for Objective Value'}},\n",
       "               'yaxis': {'title': {'text': 'Hyperparameter'}}}\n",
       "})"
      ]
     },
     "execution_count": 122,
     "metadata": {},
     "output_type": "execute_result"
    }
   ],
   "source": [
    "plot_param_importances(study)"
   ]
  },
  {
   "cell_type": "code",
   "execution_count": null,
   "metadata": {},
   "outputs": [
    {
     "data": {
      "text/plain": [
       "{'booster': 'gbtree',\n",
       " 'lambda': 0.24302130237467398,\n",
       " 'alpha': 2.2108795894332237e-08,\n",
       " 'subsample': 0.7887998109844777,\n",
       " 'colsample_bytree': 0.4493748858737539,\n",
       " 'max_depth': 2,\n",
       " 'eta': 0.29846902305256606,\n",
       " 'gamma': 1.4539411503015061e-05,\n",
       " 'grow_policy': 'lossguide'}"
      ]
     },
     "execution_count": 145,
     "metadata": {},
     "output_type": "execute_result"
    }
   ],
   "source": [
    "trial.params"
   ]
  },
  {
   "cell_type": "markdown",
   "metadata": {},
   "source": [
    "1.\n",
    "{'booster': 'gbtree',\n",
    " 'lambda': 0.24302130237467398,\n",
    " 'alpha': 2.2108795894332237e-08,\n",
    " 'subsample': 0.7887998109844777,\n",
    " 'colsample_bytree': 0.4493748858737539,\n",
    " 'max_depth': 2,\n",
    " 'eta': 0.29846902305256606,\n",
    " 'gamma': 1.4539411503015061e-05,\n",
    " 'grow_policy': 'lossguide'}\n",
    "\n",
    " 2.\n",
    " "
   ]
  }
 ],
 "metadata": {
  "kernelspec": {
   "display_name": "Python 3.8.2 64-bit",
   "language": "python",
   "name": "python3"
  },
  "language_info": {
   "codemirror_mode": {
    "name": "ipython",
    "version": 3
   },
   "file_extension": ".py",
   "mimetype": "text/x-python",
   "name": "python",
   "nbconvert_exporter": "python",
   "pygments_lexer": "ipython3",
   "version": "3.8.2"
  },
  "orig_nbformat": 4,
  "vscode": {
   "interpreter": {
    "hash": "6eaea64310228e9f754520128e4f9a6259bb26f5c3839fa5dce3903f5873b011"
   }
  }
 },
 "nbformat": 4,
 "nbformat_minor": 2
}
