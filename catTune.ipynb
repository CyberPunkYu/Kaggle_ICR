{
 "cells": [
  {
   "cell_type": "code",
   "execution_count": 1,
   "metadata": {},
   "outputs": [],
   "source": [
    "import numpy as np\n",
    "import pandas as pd\n",
    "import matplotlib.pyplot as plt\n",
    "import seaborn as sns\n",
    "import warnings, os, sys, shutil\n",
    "warnings.filterwarnings(\"ignore\")"
   ]
  },
  {
   "cell_type": "code",
   "execution_count": 2,
   "metadata": {},
   "outputs": [],
   "source": [
    "train = pd.read_csv('./icr-identify-age-related-conditions/train.csv')\n",
    "test = pd.read_csv('./icr-identify-age-related-conditions/test.csv')\n",
    "meta = pd.read_csv('./icr-identify-age-related-conditions/greeks.csv')"
   ]
  },
  {
   "cell_type": "code",
   "execution_count": 3,
   "metadata": {},
   "outputs": [],
   "source": [
    "train_init = train.copy()\n",
    "train['Alpha'] = meta['Alpha']\n",
    "train['Beta'] = meta['Beta']\n",
    "train['Gamma'] = meta['Gamma']\n",
    "train['Delta'] = meta['Delta']"
   ]
  },
  {
   "cell_type": "code",
   "execution_count": 4,
   "metadata": {},
   "outputs": [],
   "source": [
    "# 处理greeks\n",
    "# Alpha为A的时候为0，其余为1\n",
    "train['Alpha'] = train['Alpha'].apply(lambda x: 0 if x == 'A' else 1)"
   ]
  },
  {
   "cell_type": "code",
   "execution_count": 5,
   "metadata": {},
   "outputs": [],
   "source": [
    "# 将数据集中唯一的离散特征转为01，这可能表明患者的性别\n",
    "train['EJ'] = train['EJ'].replace({'A': 0, 'B': 1}).astype(float)\n",
    "test['EJ']  = test['EJ'].replace({'A': 0, 'B': 1}).astype(float)\n",
    "train_init['EJ'] = train_init['EJ'].replace({'A': 0, 'B': 1}).astype(float)\n",
    "# 缺失值处理，用中位数填充\n",
    "train['BQ'].fillna(0, inplace=True)\n",
    "train.fillna(train.median(), inplace=True)\n",
    "test.fillna(test.median(), inplace=True)\n",
    "train_init.fillna(train_init.median(), inplace=True)\n",
    "# 移除ID列\n",
    "train_id = train['Id'].copy()\n",
    "test_id  =  test['Id'].copy()\n",
    "train = train.drop(['Id'], axis=1)\n",
    "test  =  test.drop(['Id'], axis=1)"
   ]
  },
  {
   "cell_type": "code",
   "execution_count": 6,
   "metadata": {},
   "outputs": [
    {
     "data": {
      "text/html": [
       "<div>\n",
       "<style scoped>\n",
       "    .dataframe tbody tr th:only-of-type {\n",
       "        vertical-align: middle;\n",
       "    }\n",
       "\n",
       "    .dataframe tbody tr th {\n",
       "        vertical-align: top;\n",
       "    }\n",
       "\n",
       "    .dataframe thead th {\n",
       "        text-align: right;\n",
       "    }\n",
       "</style>\n",
       "<table border=\"1\" class=\"dataframe\">\n",
       "  <thead>\n",
       "    <tr style=\"text-align: right;\">\n",
       "      <th></th>\n",
       "      <th>AB</th>\n",
       "      <th>AF</th>\n",
       "      <th>AH</th>\n",
       "      <th>AM</th>\n",
       "      <th>AR</th>\n",
       "      <th>AX</th>\n",
       "      <th>AY</th>\n",
       "      <th>AZ</th>\n",
       "      <th>BC</th>\n",
       "      <th>BD</th>\n",
       "      <th>...</th>\n",
       "      <th>GE</th>\n",
       "      <th>GF</th>\n",
       "      <th>GH</th>\n",
       "      <th>GI</th>\n",
       "      <th>GL</th>\n",
       "      <th>Class</th>\n",
       "      <th>Alpha</th>\n",
       "      <th>Beta</th>\n",
       "      <th>Gamma</th>\n",
       "      <th>Delta</th>\n",
       "    </tr>\n",
       "  </thead>\n",
       "  <tbody>\n",
       "    <tr>\n",
       "      <th>0</th>\n",
       "      <td>0.209377</td>\n",
       "      <td>3109.03329</td>\n",
       "      <td>85.200147</td>\n",
       "      <td>22.394407</td>\n",
       "      <td>8.138688</td>\n",
       "      <td>0.699861</td>\n",
       "      <td>0.025578</td>\n",
       "      <td>9.812214</td>\n",
       "      <td>5.555634</td>\n",
       "      <td>4126.58731</td>\n",
       "      <td>...</td>\n",
       "      <td>72.611063</td>\n",
       "      <td>2003.810319</td>\n",
       "      <td>22.136229</td>\n",
       "      <td>69.834944</td>\n",
       "      <td>0.120343</td>\n",
       "      <td>1</td>\n",
       "      <td>1</td>\n",
       "      <td>0</td>\n",
       "      <td>1</td>\n",
       "      <td>2</td>\n",
       "    </tr>\n",
       "    <tr>\n",
       "      <th>1</th>\n",
       "      <td>0.145282</td>\n",
       "      <td>978.76416</td>\n",
       "      <td>85.200147</td>\n",
       "      <td>36.968889</td>\n",
       "      <td>8.138688</td>\n",
       "      <td>3.632190</td>\n",
       "      <td>0.025578</td>\n",
       "      <td>13.517790</td>\n",
       "      <td>1.229900</td>\n",
       "      <td>5496.92824</td>\n",
       "      <td>...</td>\n",
       "      <td>72.611063</td>\n",
       "      <td>27981.562750</td>\n",
       "      <td>29.135430</td>\n",
       "      <td>32.131996</td>\n",
       "      <td>21.978000</td>\n",
       "      <td>0</td>\n",
       "      <td>0</td>\n",
       "      <td>0</td>\n",
       "      <td>0</td>\n",
       "      <td>0</td>\n",
       "    </tr>\n",
       "    <tr>\n",
       "      <th>2</th>\n",
       "      <td>0.470030</td>\n",
       "      <td>2635.10654</td>\n",
       "      <td>85.200147</td>\n",
       "      <td>32.360553</td>\n",
       "      <td>8.138688</td>\n",
       "      <td>6.732840</td>\n",
       "      <td>0.025578</td>\n",
       "      <td>12.824570</td>\n",
       "      <td>1.229900</td>\n",
       "      <td>5135.78024</td>\n",
       "      <td>...</td>\n",
       "      <td>88.609437</td>\n",
       "      <td>13676.957810</td>\n",
       "      <td>28.022851</td>\n",
       "      <td>35.192676</td>\n",
       "      <td>0.196941</td>\n",
       "      <td>0</td>\n",
       "      <td>0</td>\n",
       "      <td>0</td>\n",
       "      <td>0</td>\n",
       "      <td>0</td>\n",
       "    </tr>\n",
       "    <tr>\n",
       "      <th>3</th>\n",
       "      <td>0.252107</td>\n",
       "      <td>3819.65177</td>\n",
       "      <td>120.201618</td>\n",
       "      <td>77.112203</td>\n",
       "      <td>8.138688</td>\n",
       "      <td>3.685344</td>\n",
       "      <td>0.025578</td>\n",
       "      <td>11.053708</td>\n",
       "      <td>1.229900</td>\n",
       "      <td>4169.67738</td>\n",
       "      <td>...</td>\n",
       "      <td>82.416803</td>\n",
       "      <td>2094.262452</td>\n",
       "      <td>39.948656</td>\n",
       "      <td>90.493248</td>\n",
       "      <td>0.155829</td>\n",
       "      <td>0</td>\n",
       "      <td>0</td>\n",
       "      <td>0</td>\n",
       "      <td>0</td>\n",
       "      <td>0</td>\n",
       "    </tr>\n",
       "    <tr>\n",
       "      <th>4</th>\n",
       "      <td>0.380297</td>\n",
       "      <td>3733.04844</td>\n",
       "      <td>85.200147</td>\n",
       "      <td>14.103738</td>\n",
       "      <td>8.138688</td>\n",
       "      <td>3.942255</td>\n",
       "      <td>0.054810</td>\n",
       "      <td>3.396778</td>\n",
       "      <td>102.151980</td>\n",
       "      <td>5728.73412</td>\n",
       "      <td>...</td>\n",
       "      <td>146.109943</td>\n",
       "      <td>8524.370502</td>\n",
       "      <td>45.381316</td>\n",
       "      <td>36.262628</td>\n",
       "      <td>0.096614</td>\n",
       "      <td>1</td>\n",
       "      <td>1</td>\n",
       "      <td>1</td>\n",
       "      <td>1</td>\n",
       "      <td>0</td>\n",
       "    </tr>\n",
       "  </tbody>\n",
       "</table>\n",
       "<p>5 rows × 61 columns</p>\n",
       "</div>"
      ],
      "text/plain": [
       "         AB          AF          AH         AM        AR        AX        AY  \\\n",
       "0  0.209377  3109.03329   85.200147  22.394407  8.138688  0.699861  0.025578   \n",
       "1  0.145282   978.76416   85.200147  36.968889  8.138688  3.632190  0.025578   \n",
       "2  0.470030  2635.10654   85.200147  32.360553  8.138688  6.732840  0.025578   \n",
       "3  0.252107  3819.65177  120.201618  77.112203  8.138688  3.685344  0.025578   \n",
       "4  0.380297  3733.04844   85.200147  14.103738  8.138688  3.942255  0.054810   \n",
       "\n",
       "          AZ          BC         BD   ...          GE            GF  \\\n",
       "0   9.812214    5.555634  4126.58731  ...   72.611063   2003.810319   \n",
       "1  13.517790    1.229900  5496.92824  ...   72.611063  27981.562750   \n",
       "2  12.824570    1.229900  5135.78024  ...   88.609437  13676.957810   \n",
       "3  11.053708    1.229900  4169.67738  ...   82.416803   2094.262452   \n",
       "4   3.396778  102.151980  5728.73412  ...  146.109943   8524.370502   \n",
       "\n",
       "          GH         GI         GL  Class  Alpha  Beta  Gamma  Delta  \n",
       "0  22.136229  69.834944   0.120343      1      1     0      1      2  \n",
       "1  29.135430  32.131996  21.978000      0      0     0      0      0  \n",
       "2  28.022851  35.192676   0.196941      0      0     0      0      0  \n",
       "3  39.948656  90.493248   0.155829      0      0     0      0      0  \n",
       "4  45.381316  36.262628   0.096614      1      1     1      1      0  \n",
       "\n",
       "[5 rows x 61 columns]"
      ]
     },
     "execution_count": 6,
     "metadata": {},
     "output_type": "execute_result"
    }
   ],
   "source": [
    "# 将gamma中的M和N都转为0，G，H，E，F，A，B的转为1\n",
    "train['Gamma'] = train['Gamma'].replace({'M': 0, 'N': 0, 'G': 1, 'H': 1, 'E': 1, 'F': 1, 'A': 1, 'B': 1})\n",
    "# 将Beta中的C0,B1,A2\n",
    "train['Beta'] = train['Beta'].replace({'C': 0, 'B': 1, 'A': 2})\n",
    "# 将Delta中的B0,A1,C1,D2\n",
    "train['Delta'] = train['Delta'].replace({'B': 0, 'A': 1, 'C': 1, 'D': 2})\n",
    "\n",
    "train.head()\n"
   ]
  },
  {
   "cell_type": "code",
   "execution_count": 7,
   "metadata": {},
   "outputs": [
    {
     "data": {
      "text/html": [
       "<div>\n",
       "<style scoped>\n",
       "    .dataframe tbody tr th:only-of-type {\n",
       "        vertical-align: middle;\n",
       "    }\n",
       "\n",
       "    .dataframe tbody tr th {\n",
       "        vertical-align: top;\n",
       "    }\n",
       "\n",
       "    .dataframe thead th {\n",
       "        text-align: right;\n",
       "    }\n",
       "</style>\n",
       "<table border=\"1\" class=\"dataframe\">\n",
       "  <thead>\n",
       "    <tr style=\"text-align: right;\">\n",
       "      <th></th>\n",
       "      <th>AB</th>\n",
       "      <th>AF</th>\n",
       "      <th>AH</th>\n",
       "      <th>AM</th>\n",
       "      <th>AR</th>\n",
       "      <th>AX</th>\n",
       "      <th>AY</th>\n",
       "      <th>AZ</th>\n",
       "      <th>BC</th>\n",
       "      <th>BD</th>\n",
       "      <th>...</th>\n",
       "      <th>GE</th>\n",
       "      <th>GF</th>\n",
       "      <th>GH</th>\n",
       "      <th>GI</th>\n",
       "      <th>GL</th>\n",
       "      <th>Class</th>\n",
       "      <th>Alpha</th>\n",
       "      <th>Beta</th>\n",
       "      <th>Gamma</th>\n",
       "      <th>Delta</th>\n",
       "    </tr>\n",
       "  </thead>\n",
       "  <tbody>\n",
       "    <tr>\n",
       "      <th>0</th>\n",
       "      <td>-0.572153</td>\n",
       "      <td>-0.170975</td>\n",
       "      <td>-0.261669</td>\n",
       "      <td>-0.237889</td>\n",
       "      <td>-0.189295</td>\n",
       "      <td>-1.900558</td>\n",
       "      <td>-0.083417</td>\n",
       "      <td>-0.173502</td>\n",
       "      <td>-0.038354</td>\n",
       "      <td>-0.405383</td>\n",
       "      <td>...</td>\n",
       "      <td>-0.410260</td>\n",
       "      <td>-0.655511</td>\n",
       "      <td>-0.948991</td>\n",
       "      <td>0.531241</td>\n",
       "      <td>-0.814049</td>\n",
       "      <td>1</td>\n",
       "      <td>1</td>\n",
       "      <td>0</td>\n",
       "      <td>1</td>\n",
       "      <td>2</td>\n",
       "    </tr>\n",
       "    <tr>\n",
       "      <th>1</th>\n",
       "      <td>-0.709105</td>\n",
       "      <td>-1.097801</td>\n",
       "      <td>-0.261669</td>\n",
       "      <td>-0.028701</td>\n",
       "      <td>-0.189295</td>\n",
       "      <td>-0.750457</td>\n",
       "      <td>-0.083417</td>\n",
       "      <td>0.678919</td>\n",
       "      <td>-0.104787</td>\n",
       "      <td>0.048541</td>\n",
       "      <td>...</td>\n",
       "      <td>-0.410260</td>\n",
       "      <td>0.687893</td>\n",
       "      <td>-0.238862</td>\n",
       "      <td>-0.509218</td>\n",
       "      <td>1.304860</td>\n",
       "      <td>0</td>\n",
       "      <td>0</td>\n",
       "      <td>0</td>\n",
       "      <td>0</td>\n",
       "      <td>0</td>\n",
       "    </tr>\n",
       "    <tr>\n",
       "      <th>2</th>\n",
       "      <td>-0.015212</td>\n",
       "      <td>-0.377169</td>\n",
       "      <td>-0.261669</td>\n",
       "      <td>-0.094845</td>\n",
       "      <td>-0.189295</td>\n",
       "      <td>0.465662</td>\n",
       "      <td>-0.083417</td>\n",
       "      <td>0.519453</td>\n",
       "      <td>-0.104787</td>\n",
       "      <td>-0.071089</td>\n",
       "      <td>...</td>\n",
       "      <td>-0.299210</td>\n",
       "      <td>-0.051850</td>\n",
       "      <td>-0.351743</td>\n",
       "      <td>-0.424754</td>\n",
       "      <td>-0.806623</td>\n",
       "      <td>0</td>\n",
       "      <td>0</td>\n",
       "      <td>0</td>\n",
       "      <td>0</td>\n",
       "      <td>0</td>\n",
       "    </tr>\n",
       "    <tr>\n",
       "      <th>3</th>\n",
       "      <td>-0.480851</td>\n",
       "      <td>0.138196</td>\n",
       "      <td>0.012347</td>\n",
       "      <td>0.547477</td>\n",
       "      <td>-0.189295</td>\n",
       "      <td>-0.729610</td>\n",
       "      <td>-0.083417</td>\n",
       "      <td>0.112088</td>\n",
       "      <td>-0.104787</td>\n",
       "      <td>-0.391109</td>\n",
       "      <td>...</td>\n",
       "      <td>-0.342195</td>\n",
       "      <td>-0.650833</td>\n",
       "      <td>0.858232</td>\n",
       "      <td>1.101332</td>\n",
       "      <td>-0.810609</td>\n",
       "      <td>0</td>\n",
       "      <td>0</td>\n",
       "      <td>0</td>\n",
       "      <td>0</td>\n",
       "      <td>0</td>\n",
       "    </tr>\n",
       "    <tr>\n",
       "      <th>4</th>\n",
       "      <td>-0.206946</td>\n",
       "      <td>0.100517</td>\n",
       "      <td>-0.261669</td>\n",
       "      <td>-0.356885</td>\n",
       "      <td>-0.189295</td>\n",
       "      <td>-0.628845</td>\n",
       "      <td>-0.013229</td>\n",
       "      <td>-1.649292</td>\n",
       "      <td>1.445139</td>\n",
       "      <td>0.125327</td>\n",
       "      <td>...</td>\n",
       "      <td>0.099920</td>\n",
       "      <td>-0.318309</td>\n",
       "      <td>1.409422</td>\n",
       "      <td>-0.395228</td>\n",
       "      <td>-0.816349</td>\n",
       "      <td>1</td>\n",
       "      <td>1</td>\n",
       "      <td>1</td>\n",
       "      <td>1</td>\n",
       "      <td>0</td>\n",
       "    </tr>\n",
       "  </tbody>\n",
       "</table>\n",
       "<p>5 rows × 61 columns</p>\n",
       "</div>"
      ],
      "text/plain": [
       "         AB        AF        AH        AM        AR        AX        AY  \\\n",
       "0 -0.572153 -0.170975 -0.261669 -0.237889 -0.189295 -1.900558 -0.083417   \n",
       "1 -0.709105 -1.097801 -0.261669 -0.028701 -0.189295 -0.750457 -0.083417   \n",
       "2 -0.015212 -0.377169 -0.261669 -0.094845 -0.189295  0.465662 -0.083417   \n",
       "3 -0.480851  0.138196  0.012347  0.547477 -0.189295 -0.729610 -0.083417   \n",
       "4 -0.206946  0.100517 -0.261669 -0.356885 -0.189295 -0.628845 -0.013229   \n",
       "\n",
       "         AZ        BC       BD   ...        GE        GF        GH        GI  \\\n",
       "0 -0.173502 -0.038354 -0.405383  ... -0.410260 -0.655511 -0.948991  0.531241   \n",
       "1  0.678919 -0.104787  0.048541  ... -0.410260  0.687893 -0.238862 -0.509218   \n",
       "2  0.519453 -0.104787 -0.071089  ... -0.299210 -0.051850 -0.351743 -0.424754   \n",
       "3  0.112088 -0.104787 -0.391109  ... -0.342195 -0.650833  0.858232  1.101332   \n",
       "4 -1.649292  1.445139  0.125327  ...  0.099920 -0.318309  1.409422 -0.395228   \n",
       "\n",
       "         GL  Class  Alpha  Beta  Gamma  Delta  \n",
       "0 -0.814049      1      1     0      1      2  \n",
       "1  1.304860      0      0     0      0      0  \n",
       "2 -0.806623      0      0     0      0      0  \n",
       "3 -0.810609      0      0     0      0      0  \n",
       "4 -0.816349      1      1     1      1      0  \n",
       "\n",
       "[5 rows x 61 columns]"
      ]
     },
     "execution_count": 7,
     "metadata": {},
     "output_type": "execute_result"
    }
   ],
   "source": [
    "# 连续变量归一化处理\n",
    "from sklearn.preprocessing import StandardScaler\n",
    "scaler = StandardScaler()\n",
    "numeric_columns = [_ for _ in train.columns if _ not in ['EJ', 'Alpha', 'Beta', 'Gamma', 'Delta', 'Class']]\n",
    "train[numeric_columns] = scaler.fit_transform(train[numeric_columns])\n",
    "test[numeric_columns] = scaler.transform(test[numeric_columns])\n",
    "train.head()"
   ]
  },
  {
   "cell_type": "code",
   "execution_count": 8,
   "metadata": {},
   "outputs": [],
   "source": [
    "# 抛弃高度相关的特征\n",
    "drop_cols = ['BZ','CL','EH','GL']  # 高度相关\n",
    "drop_cols2 = ['DY','CB','GB','CH','DL','CU','FS','AZ','GE','EG','EP']  # 无用特征，同一点取得极值\n",
    "drop_cols3 = ['BZ', 'DV', 'EH', 'FD ']\n",
    "train.drop(drop_cols, axis=1, inplace=True)\n",
    "test.drop(drop_cols, axis=1, inplace=True)"
   ]
  },
  {
   "cell_type": "code",
   "execution_count": 9,
   "metadata": {},
   "outputs": [],
   "source": [
    "# ytrain为离散\n",
    "ytrain = train[['Class', 'Alpha', 'Beta', 'Gamma', 'Delta']]\n",
    "train.drop(['Class', 'Alpha', 'Beta', 'Gamma', 'Delta'], axis=1, inplace=True)"
   ]
  },
  {
   "cell_type": "code",
   "execution_count": 10,
   "metadata": {},
   "outputs": [
    {
     "data": {
      "text/html": [
       "<div>\n",
       "<style scoped>\n",
       "    .dataframe tbody tr th:only-of-type {\n",
       "        vertical-align: middle;\n",
       "    }\n",
       "\n",
       "    .dataframe tbody tr th {\n",
       "        vertical-align: top;\n",
       "    }\n",
       "\n",
       "    .dataframe thead th {\n",
       "        text-align: right;\n",
       "    }\n",
       "</style>\n",
       "<table border=\"1\" class=\"dataframe\">\n",
       "  <thead>\n",
       "    <tr style=\"text-align: right;\">\n",
       "      <th></th>\n",
       "      <th>AB</th>\n",
       "      <th>AF</th>\n",
       "      <th>AH</th>\n",
       "      <th>AM</th>\n",
       "      <th>AR</th>\n",
       "      <th>AX</th>\n",
       "      <th>AY</th>\n",
       "      <th>AZ</th>\n",
       "      <th>BC</th>\n",
       "      <th>BD</th>\n",
       "      <th>...</th>\n",
       "      <th>FE</th>\n",
       "      <th>FI</th>\n",
       "      <th>FL</th>\n",
       "      <th>FR</th>\n",
       "      <th>FS</th>\n",
       "      <th>GB</th>\n",
       "      <th>GE</th>\n",
       "      <th>GF</th>\n",
       "      <th>GH</th>\n",
       "      <th>GI</th>\n",
       "    </tr>\n",
       "  </thead>\n",
       "  <tbody>\n",
       "    <tr>\n",
       "      <th>0</th>\n",
       "      <td>-0.572153</td>\n",
       "      <td>-0.170975</td>\n",
       "      <td>-0.261669</td>\n",
       "      <td>-0.237889</td>\n",
       "      <td>-0.189295</td>\n",
       "      <td>-1.900558</td>\n",
       "      <td>-0.083417</td>\n",
       "      <td>-0.173502</td>\n",
       "      <td>-0.038354</td>\n",
       "      <td>-0.405383</td>\n",
       "      <td>...</td>\n",
       "      <td>-0.112922</td>\n",
       "      <td>-2.226608</td>\n",
       "      <td>0.162821</td>\n",
       "      <td>-0.035806</td>\n",
       "      <td>-0.250437</td>\n",
       "      <td>-0.940094</td>\n",
       "      <td>-0.410260</td>\n",
       "      <td>-0.655511</td>\n",
       "      <td>-0.948991</td>\n",
       "      <td>0.531241</td>\n",
       "    </tr>\n",
       "    <tr>\n",
       "      <th>1</th>\n",
       "      <td>-0.709105</td>\n",
       "      <td>-1.097801</td>\n",
       "      <td>-0.261669</td>\n",
       "      <td>-0.028701</td>\n",
       "      <td>-0.189295</td>\n",
       "      <td>-0.750457</td>\n",
       "      <td>-0.083417</td>\n",
       "      <td>0.678919</td>\n",
       "      <td>-0.104787</td>\n",
       "      <td>0.048541</td>\n",
       "      <td>...</td>\n",
       "      <td>-0.311056</td>\n",
       "      <td>0.084542</td>\n",
       "      <td>-0.457925</td>\n",
       "      <td>-0.060566</td>\n",
       "      <td>0.113640</td>\n",
       "      <td>-1.145070</td>\n",
       "      <td>-0.410260</td>\n",
       "      <td>0.687893</td>\n",
       "      <td>-0.238862</td>\n",
       "      <td>-0.509218</td>\n",
       "    </tr>\n",
       "    <tr>\n",
       "      <th>2</th>\n",
       "      <td>-0.015212</td>\n",
       "      <td>-0.377169</td>\n",
       "      <td>-0.261669</td>\n",
       "      <td>-0.094845</td>\n",
       "      <td>-0.189295</td>\n",
       "      <td>0.465662</td>\n",
       "      <td>-0.083417</td>\n",
       "      <td>0.519453</td>\n",
       "      <td>-0.104787</td>\n",
       "      <td>-0.071089</td>\n",
       "      <td>...</td>\n",
       "      <td>-0.173811</td>\n",
       "      <td>0.517060</td>\n",
       "      <td>0.198663</td>\n",
       "      <td>-0.051023</td>\n",
       "      <td>0.597343</td>\n",
       "      <td>1.637944</td>\n",
       "      <td>-0.299210</td>\n",
       "      <td>-0.051850</td>\n",
       "      <td>-0.351743</td>\n",
       "      <td>-0.424754</td>\n",
       "    </tr>\n",
       "    <tr>\n",
       "      <th>3</th>\n",
       "      <td>-0.480851</td>\n",
       "      <td>0.138196</td>\n",
       "      <td>0.012347</td>\n",
       "      <td>0.547477</td>\n",
       "      <td>-0.189295</td>\n",
       "      <td>-0.729610</td>\n",
       "      <td>-0.083417</td>\n",
       "      <td>0.112088</td>\n",
       "      <td>-0.104787</td>\n",
       "      <td>-0.391109</td>\n",
       "      <td>...</td>\n",
       "      <td>0.058201</td>\n",
       "      <td>1.617160</td>\n",
       "      <td>0.060364</td>\n",
       "      <td>-0.060566</td>\n",
       "      <td>-0.104806</td>\n",
       "      <td>-0.219883</td>\n",
       "      <td>-0.342195</td>\n",
       "      <td>-0.650833</td>\n",
       "      <td>0.858232</td>\n",
       "      <td>1.101332</td>\n",
       "    </tr>\n",
       "    <tr>\n",
       "      <th>4</th>\n",
       "      <td>-0.206946</td>\n",
       "      <td>0.100517</td>\n",
       "      <td>-0.261669</td>\n",
       "      <td>-0.356885</td>\n",
       "      <td>-0.189295</td>\n",
       "      <td>-0.628845</td>\n",
       "      <td>-0.013229</td>\n",
       "      <td>-1.649292</td>\n",
       "      <td>1.445139</td>\n",
       "      <td>0.125327</td>\n",
       "      <td>...</td>\n",
       "      <td>0.520331</td>\n",
       "      <td>1.212850</td>\n",
       "      <td>0.237302</td>\n",
       "      <td>0.896815</td>\n",
       "      <td>-0.229632</td>\n",
       "      <td>-0.432313</td>\n",
       "      <td>0.099920</td>\n",
       "      <td>-0.318309</td>\n",
       "      <td>1.409422</td>\n",
       "      <td>-0.395228</td>\n",
       "    </tr>\n",
       "  </tbody>\n",
       "</table>\n",
       "<p>5 rows × 52 columns</p>\n",
       "</div>"
      ],
      "text/plain": [
       "         AB        AF        AH        AM        AR        AX        AY  \\\n",
       "0 -0.572153 -0.170975 -0.261669 -0.237889 -0.189295 -1.900558 -0.083417   \n",
       "1 -0.709105 -1.097801 -0.261669 -0.028701 -0.189295 -0.750457 -0.083417   \n",
       "2 -0.015212 -0.377169 -0.261669 -0.094845 -0.189295  0.465662 -0.083417   \n",
       "3 -0.480851  0.138196  0.012347  0.547477 -0.189295 -0.729610 -0.083417   \n",
       "4 -0.206946  0.100517 -0.261669 -0.356885 -0.189295 -0.628845 -0.013229   \n",
       "\n",
       "         AZ        BC       BD   ...        FE        FI        FL        FR  \\\n",
       "0 -0.173502 -0.038354 -0.405383  ... -0.112922 -2.226608  0.162821 -0.035806   \n",
       "1  0.678919 -0.104787  0.048541  ... -0.311056  0.084542 -0.457925 -0.060566   \n",
       "2  0.519453 -0.104787 -0.071089  ... -0.173811  0.517060  0.198663 -0.051023   \n",
       "3  0.112088 -0.104787 -0.391109  ...  0.058201  1.617160  0.060364 -0.060566   \n",
       "4 -1.649292  1.445139  0.125327  ...  0.520331  1.212850  0.237302  0.896815   \n",
       "\n",
       "         FS        GB        GE        GF        GH        GI  \n",
       "0 -0.250437 -0.940094 -0.410260 -0.655511 -0.948991  0.531241  \n",
       "1  0.113640 -1.145070 -0.410260  0.687893 -0.238862 -0.509218  \n",
       "2  0.597343  1.637944 -0.299210 -0.051850 -0.351743 -0.424754  \n",
       "3 -0.104806 -0.219883 -0.342195 -0.650833  0.858232  1.101332  \n",
       "4 -0.229632 -0.432313  0.099920 -0.318309  1.409422 -0.395228  \n",
       "\n",
       "[5 rows x 52 columns]"
      ]
     },
     "execution_count": 10,
     "metadata": {},
     "output_type": "execute_result"
    }
   ],
   "source": [
    "train.head()"
   ]
  },
  {
   "cell_type": "markdown",
   "metadata": {},
   "source": [
    "# 模型搭建\n",
    "先直接对Class预测"
   ]
  },
  {
   "cell_type": "code",
   "execution_count": 11,
   "metadata": {},
   "outputs": [
    {
     "name": "stdout",
     "output_type": "stream",
     "text": [
      "(493, 52)\n",
      "(493, 5)\n"
     ]
    }
   ],
   "source": [
    "# 数据集分割\n",
    "from sklearn.model_selection import train_test_split\n",
    "from sklearn.metrics import roc_auc_score, accuracy_score, log_loss\n",
    "x_train, x_test, y_train, y_test = train_test_split(train, ytrain, test_size=0.2, random_state=42)\n",
    "scale_pos_weight = 4.712962962962963\n",
    "print(x_train.shape)\n",
    "print(y_train.shape)"
   ]
  },
  {
   "cell_type": "code",
   "execution_count": 12,
   "metadata": {},
   "outputs": [],
   "source": [
    "def ScoreMetric(ytrue, ypred):\n",
    "    nc = np.bincount(ytrue);\n",
    "    return log_loss(ytrue, ypred, sample_weight = 1 / nc[ytrue], eps=1e-15);"
   ]
  },
  {
   "cell_type": "code",
   "execution_count": 13,
   "metadata": {},
   "outputs": [
    {
     "name": "stdout",
     "output_type": "stream",
     "text": [
      "Learning rate set to 0.007617\n",
      "0:\tlearn: 0.6862818\ttotal: 121ms\tremaining: 2m 1s\n",
      "1:\tlearn: 0.6785904\ttotal: 127ms\tremaining: 1m 3s\n",
      "2:\tlearn: 0.6711415\ttotal: 133ms\tremaining: 44.2s\n",
      "3:\tlearn: 0.6631032\ttotal: 139ms\tremaining: 34.5s\n",
      "4:\tlearn: 0.6558536\ttotal: 144ms\tremaining: 28.7s\n",
      "5:\tlearn: 0.6495764\ttotal: 149ms\tremaining: 24.7s\n",
      "6:\tlearn: 0.6427384\ttotal: 154ms\tremaining: 21.9s\n",
      "7:\tlearn: 0.6339141\ttotal: 159ms\tremaining: 19.8s\n",
      "8:\tlearn: 0.6256367\ttotal: 165ms\tremaining: 18.2s\n",
      "9:\tlearn: 0.6197541\ttotal: 171ms\tremaining: 16.9s\n",
      "10:\tlearn: 0.6138121\ttotal: 176ms\tremaining: 15.8s\n",
      "11:\tlearn: 0.6048446\ttotal: 181ms\tremaining: 14.9s\n",
      "12:\tlearn: 0.6002516\ttotal: 186ms\tremaining: 14.1s\n",
      "13:\tlearn: 0.5940357\ttotal: 192ms\tremaining: 13.5s\n",
      "14:\tlearn: 0.5875136\ttotal: 198ms\tremaining: 13s\n",
      "15:\tlearn: 0.5818911\ttotal: 204ms\tremaining: 12.5s\n",
      "16:\tlearn: 0.5753831\ttotal: 209ms\tremaining: 12.1s\n",
      "17:\tlearn: 0.5679193\ttotal: 215ms\tremaining: 11.7s\n",
      "18:\tlearn: 0.5608603\ttotal: 220ms\tremaining: 11.4s\n",
      "19:\tlearn: 0.5561630\ttotal: 226ms\tremaining: 11.1s\n",
      "20:\tlearn: 0.5519000\ttotal: 232ms\tremaining: 10.8s\n",
      "21:\tlearn: 0.5458902\ttotal: 237ms\tremaining: 10.5s\n",
      "22:\tlearn: 0.5400213\ttotal: 243ms\tremaining: 10.3s\n",
      "23:\tlearn: 0.5328493\ttotal: 248ms\tremaining: 10.1s\n",
      "24:\tlearn: 0.5267742\ttotal: 252ms\tremaining: 9.83s\n",
      "25:\tlearn: 0.5204834\ttotal: 257ms\tremaining: 9.63s\n",
      "26:\tlearn: 0.5167385\ttotal: 262ms\tremaining: 9.43s\n",
      "27:\tlearn: 0.5120409\ttotal: 266ms\tremaining: 9.24s\n",
      "28:\tlearn: 0.5068181\ttotal: 271ms\tremaining: 9.09s\n",
      "29:\tlearn: 0.5017887\ttotal: 277ms\tremaining: 8.94s\n",
      "30:\tlearn: 0.4960286\ttotal: 281ms\tremaining: 8.79s\n",
      "31:\tlearn: 0.4922243\ttotal: 286ms\tremaining: 8.65s\n",
      "32:\tlearn: 0.4862477\ttotal: 291ms\tremaining: 8.53s\n",
      "33:\tlearn: 0.4824985\ttotal: 295ms\tremaining: 8.39s\n",
      "34:\tlearn: 0.4775399\ttotal: 300ms\tremaining: 8.26s\n",
      "35:\tlearn: 0.4729737\ttotal: 305ms\tremaining: 8.15s\n",
      "36:\tlearn: 0.4685385\ttotal: 309ms\tremaining: 8.03s\n",
      "37:\tlearn: 0.4634550\ttotal: 313ms\tremaining: 7.92s\n",
      "38:\tlearn: 0.4589356\ttotal: 318ms\tremaining: 7.84s\n",
      "39:\tlearn: 0.4550501\ttotal: 322ms\tremaining: 7.74s\n",
      "40:\tlearn: 0.4492095\ttotal: 327ms\tremaining: 7.64s\n",
      "41:\tlearn: 0.4458863\ttotal: 332ms\tremaining: 7.57s\n",
      "42:\tlearn: 0.4413397\ttotal: 337ms\tremaining: 7.49s\n",
      "43:\tlearn: 0.4374657\ttotal: 341ms\tremaining: 7.4s\n",
      "44:\tlearn: 0.4330726\ttotal: 345ms\tremaining: 7.33s\n",
      "45:\tlearn: 0.4295224\ttotal: 350ms\tremaining: 7.25s\n",
      "46:\tlearn: 0.4262752\ttotal: 354ms\tremaining: 7.17s\n",
      "47:\tlearn: 0.4236300\ttotal: 358ms\tremaining: 7.11s\n",
      "48:\tlearn: 0.4197510\ttotal: 363ms\tremaining: 7.04s\n",
      "49:\tlearn: 0.4162535\ttotal: 367ms\tremaining: 6.97s\n",
      "50:\tlearn: 0.4127626\ttotal: 371ms\tremaining: 6.91s\n",
      "51:\tlearn: 0.4093868\ttotal: 376ms\tremaining: 6.86s\n",
      "52:\tlearn: 0.4057168\ttotal: 380ms\tremaining: 6.8s\n",
      "53:\tlearn: 0.4022826\ttotal: 385ms\tremaining: 6.75s\n",
      "54:\tlearn: 0.3980411\ttotal: 390ms\tremaining: 6.69s\n",
      "55:\tlearn: 0.3943723\ttotal: 394ms\tremaining: 6.63s\n",
      "56:\tlearn: 0.3909320\ttotal: 398ms\tremaining: 6.59s\n",
      "57:\tlearn: 0.3874130\ttotal: 403ms\tremaining: 6.54s\n",
      "58:\tlearn: 0.3832375\ttotal: 408ms\tremaining: 6.5s\n",
      "59:\tlearn: 0.3808949\ttotal: 412ms\tremaining: 6.46s\n",
      "60:\tlearn: 0.3774568\ttotal: 417ms\tremaining: 6.41s\n",
      "61:\tlearn: 0.3743896\ttotal: 422ms\tremaining: 6.38s\n",
      "62:\tlearn: 0.3716034\ttotal: 426ms\tremaining: 6.34s\n",
      "63:\tlearn: 0.3689291\ttotal: 431ms\tremaining: 6.31s\n",
      "64:\tlearn: 0.3666110\ttotal: 437ms\tremaining: 6.29s\n",
      "65:\tlearn: 0.3637262\ttotal: 442ms\tremaining: 6.26s\n",
      "66:\tlearn: 0.3597104\ttotal: 447ms\tremaining: 6.22s\n",
      "67:\tlearn: 0.3565004\ttotal: 452ms\tremaining: 6.2s\n",
      "68:\tlearn: 0.3530560\ttotal: 458ms\tremaining: 6.17s\n",
      "69:\tlearn: 0.3502377\ttotal: 463ms\tremaining: 6.15s\n",
      "70:\tlearn: 0.3482929\ttotal: 469ms\tremaining: 6.13s\n",
      "71:\tlearn: 0.3462815\ttotal: 473ms\tremaining: 6.1s\n",
      "72:\tlearn: 0.3438313\ttotal: 479ms\tremaining: 6.08s\n",
      "73:\tlearn: 0.3403369\ttotal: 483ms\tremaining: 6.04s\n",
      "74:\tlearn: 0.3383941\ttotal: 487ms\tremaining: 6s\n",
      "75:\tlearn: 0.3350076\ttotal: 492ms\tremaining: 5.98s\n",
      "76:\tlearn: 0.3325891\ttotal: 496ms\tremaining: 5.95s\n",
      "77:\tlearn: 0.3305988\ttotal: 500ms\tremaining: 5.91s\n",
      "78:\tlearn: 0.3283582\ttotal: 505ms\tremaining: 5.89s\n",
      "79:\tlearn: 0.3252055\ttotal: 509ms\tremaining: 5.86s\n",
      "80:\tlearn: 0.3222402\ttotal: 513ms\tremaining: 5.82s\n",
      "81:\tlearn: 0.3197856\ttotal: 518ms\tremaining: 5.8s\n",
      "82:\tlearn: 0.3176657\ttotal: 522ms\tremaining: 5.77s\n",
      "83:\tlearn: 0.3152325\ttotal: 526ms\tremaining: 5.74s\n",
      "84:\tlearn: 0.3138109\ttotal: 531ms\tremaining: 5.71s\n",
      "85:\tlearn: 0.3118805\ttotal: 535ms\tremaining: 5.68s\n",
      "86:\tlearn: 0.3096975\ttotal: 539ms\tremaining: 5.66s\n",
      "87:\tlearn: 0.3078266\ttotal: 544ms\tremaining: 5.63s\n",
      "88:\tlearn: 0.3056683\ttotal: 548ms\tremaining: 5.61s\n",
      "89:\tlearn: 0.3036091\ttotal: 552ms\tremaining: 5.58s\n",
      "90:\tlearn: 0.3009606\ttotal: 557ms\tremaining: 5.56s\n",
      "91:\tlearn: 0.2987697\ttotal: 561ms\tremaining: 5.53s\n",
      "92:\tlearn: 0.2970106\ttotal: 565ms\tremaining: 5.51s\n",
      "93:\tlearn: 0.2950188\ttotal: 570ms\tremaining: 5.5s\n",
      "94:\tlearn: 0.2924545\ttotal: 575ms\tremaining: 5.47s\n",
      "95:\tlearn: 0.2910505\ttotal: 579ms\tremaining: 5.45s\n",
      "96:\tlearn: 0.2891478\ttotal: 584ms\tremaining: 5.44s\n",
      "97:\tlearn: 0.2871094\ttotal: 588ms\tremaining: 5.42s\n",
      "98:\tlearn: 0.2850659\ttotal: 593ms\tremaining: 5.4s\n",
      "99:\tlearn: 0.2830069\ttotal: 598ms\tremaining: 5.38s\n",
      "100:\tlearn: 0.2810846\ttotal: 602ms\tremaining: 5.36s\n",
      "101:\tlearn: 0.2793300\ttotal: 607ms\tremaining: 5.34s\n",
      "102:\tlearn: 0.2768555\ttotal: 612ms\tremaining: 5.33s\n",
      "103:\tlearn: 0.2756475\ttotal: 616ms\tremaining: 5.31s\n",
      "104:\tlearn: 0.2740515\ttotal: 621ms\tremaining: 5.3s\n",
      "105:\tlearn: 0.2728195\ttotal: 626ms\tremaining: 5.28s\n",
      "106:\tlearn: 0.2709659\ttotal: 631ms\tremaining: 5.27s\n",
      "107:\tlearn: 0.2693520\ttotal: 637ms\tremaining: 5.26s\n",
      "108:\tlearn: 0.2681633\ttotal: 642ms\tremaining: 5.25s\n",
      "109:\tlearn: 0.2663017\ttotal: 647ms\tremaining: 5.24s\n",
      "110:\tlearn: 0.2644377\ttotal: 652ms\tremaining: 5.22s\n",
      "111:\tlearn: 0.2624831\ttotal: 657ms\tremaining: 5.21s\n",
      "112:\tlearn: 0.2606229\ttotal: 662ms\tremaining: 5.2s\n",
      "113:\tlearn: 0.2592683\ttotal: 667ms\tremaining: 5.18s\n",
      "114:\tlearn: 0.2576520\ttotal: 673ms\tremaining: 5.18s\n",
      "115:\tlearn: 0.2559866\ttotal: 679ms\tremaining: 5.17s\n",
      "116:\tlearn: 0.2541501\ttotal: 685ms\tremaining: 5.17s\n",
      "117:\tlearn: 0.2528538\ttotal: 690ms\tremaining: 5.16s\n",
      "118:\tlearn: 0.2513102\ttotal: 695ms\tremaining: 5.15s\n",
      "119:\tlearn: 0.2498989\ttotal: 700ms\tremaining: 5.13s\n",
      "120:\tlearn: 0.2485489\ttotal: 705ms\tremaining: 5.12s\n",
      "121:\tlearn: 0.2466552\ttotal: 710ms\tremaining: 5.11s\n",
      "122:\tlearn: 0.2450965\ttotal: 714ms\tremaining: 5.09s\n",
      "123:\tlearn: 0.2432424\ttotal: 718ms\tremaining: 5.08s\n",
      "124:\tlearn: 0.2415701\ttotal: 723ms\tremaining: 5.06s\n",
      "125:\tlearn: 0.2400346\ttotal: 727ms\tremaining: 5.04s\n",
      "126:\tlearn: 0.2387934\ttotal: 731ms\tremaining: 5.03s\n",
      "127:\tlearn: 0.2371943\ttotal: 735ms\tremaining: 5.01s\n",
      "128:\tlearn: 0.2357803\ttotal: 740ms\tremaining: 5s\n",
      "129:\tlearn: 0.2348772\ttotal: 744ms\tremaining: 4.98s\n",
      "130:\tlearn: 0.2332404\ttotal: 749ms\tremaining: 4.97s\n",
      "131:\tlearn: 0.2319616\ttotal: 753ms\tremaining: 4.95s\n",
      "132:\tlearn: 0.2312614\ttotal: 758ms\tremaining: 4.94s\n",
      "133:\tlearn: 0.2299128\ttotal: 762ms\tremaining: 4.92s\n",
      "134:\tlearn: 0.2282941\ttotal: 766ms\tremaining: 4.91s\n",
      "135:\tlearn: 0.2271301\ttotal: 770ms\tremaining: 4.89s\n",
      "136:\tlearn: 0.2259861\ttotal: 774ms\tremaining: 4.88s\n",
      "137:\tlearn: 0.2248487\ttotal: 779ms\tremaining: 4.86s\n",
      "138:\tlearn: 0.2233567\ttotal: 784ms\tremaining: 4.85s\n",
      "139:\tlearn: 0.2219579\ttotal: 788ms\tremaining: 4.84s\n",
      "140:\tlearn: 0.2204172\ttotal: 792ms\tremaining: 4.82s\n",
      "141:\tlearn: 0.2192086\ttotal: 796ms\tremaining: 4.81s\n",
      "142:\tlearn: 0.2181815\ttotal: 800ms\tremaining: 4.79s\n",
      "143:\tlearn: 0.2174498\ttotal: 805ms\tremaining: 4.78s\n",
      "144:\tlearn: 0.2162041\ttotal: 809ms\tremaining: 4.77s\n",
      "145:\tlearn: 0.2147273\ttotal: 813ms\tremaining: 4.76s\n",
      "146:\tlearn: 0.2134413\ttotal: 818ms\tremaining: 4.75s\n",
      "147:\tlearn: 0.2123926\ttotal: 822ms\tremaining: 4.73s\n",
      "148:\tlearn: 0.2113424\ttotal: 827ms\tremaining: 4.72s\n",
      "149:\tlearn: 0.2103972\ttotal: 832ms\tremaining: 4.72s\n",
      "150:\tlearn: 0.2093275\ttotal: 838ms\tremaining: 4.71s\n",
      "151:\tlearn: 0.2081864\ttotal: 844ms\tremaining: 4.71s\n",
      "152:\tlearn: 0.2075019\ttotal: 849ms\tremaining: 4.7s\n",
      "153:\tlearn: 0.2067669\ttotal: 854ms\tremaining: 4.69s\n",
      "154:\tlearn: 0.2054577\ttotal: 859ms\tremaining: 4.68s\n",
      "155:\tlearn: 0.2044409\ttotal: 864ms\tremaining: 4.67s\n",
      "156:\tlearn: 0.2035971\ttotal: 870ms\tremaining: 4.67s\n",
      "157:\tlearn: 0.2029623\ttotal: 874ms\tremaining: 4.66s\n",
      "158:\tlearn: 0.2017840\ttotal: 879ms\tremaining: 4.65s\n",
      "159:\tlearn: 0.2008080\ttotal: 885ms\tremaining: 4.64s\n",
      "160:\tlearn: 0.1997315\ttotal: 890ms\tremaining: 4.64s\n",
      "161:\tlearn: 0.1988609\ttotal: 895ms\tremaining: 4.63s\n",
      "162:\tlearn: 0.1982200\ttotal: 900ms\tremaining: 4.62s\n",
      "163:\tlearn: 0.1972443\ttotal: 906ms\tremaining: 4.62s\n",
      "164:\tlearn: 0.1962435\ttotal: 912ms\tremaining: 4.61s\n",
      "165:\tlearn: 0.1952435\ttotal: 916ms\tremaining: 4.6s\n",
      "166:\tlearn: 0.1945325\ttotal: 921ms\tremaining: 4.59s\n",
      "167:\tlearn: 0.1932551\ttotal: 926ms\tremaining: 4.59s\n",
      "168:\tlearn: 0.1924373\ttotal: 933ms\tremaining: 4.59s\n",
      "169:\tlearn: 0.1911368\ttotal: 938ms\tremaining: 4.58s\n",
      "170:\tlearn: 0.1898837\ttotal: 943ms\tremaining: 4.57s\n",
      "171:\tlearn: 0.1890369\ttotal: 947ms\tremaining: 4.56s\n",
      "172:\tlearn: 0.1879774\ttotal: 953ms\tremaining: 4.56s\n",
      "173:\tlearn: 0.1869971\ttotal: 958ms\tremaining: 4.55s\n",
      "174:\tlearn: 0.1862504\ttotal: 963ms\tremaining: 4.54s\n",
      "175:\tlearn: 0.1858189\ttotal: 967ms\tremaining: 4.53s\n",
      "176:\tlearn: 0.1851961\ttotal: 973ms\tremaining: 4.52s\n",
      "177:\tlearn: 0.1841552\ttotal: 978ms\tremaining: 4.51s\n",
      "178:\tlearn: 0.1833739\ttotal: 981ms\tremaining: 4.5s\n",
      "179:\tlearn: 0.1826895\ttotal: 986ms\tremaining: 4.49s\n",
      "180:\tlearn: 0.1815366\ttotal: 990ms\tremaining: 4.48s\n",
      "181:\tlearn: 0.1808584\ttotal: 994ms\tremaining: 4.47s\n",
      "182:\tlearn: 0.1800926\ttotal: 999ms\tremaining: 4.46s\n",
      "183:\tlearn: 0.1795882\ttotal: 1s\tremaining: 4.45s\n",
      "184:\tlearn: 0.1788249\ttotal: 1.01s\tremaining: 4.44s\n",
      "185:\tlearn: 0.1783197\ttotal: 1.01s\tremaining: 4.43s\n",
      "186:\tlearn: 0.1775870\ttotal: 1.02s\tremaining: 4.42s\n",
      "187:\tlearn: 0.1765966\ttotal: 1.02s\tremaining: 4.41s\n",
      "188:\tlearn: 0.1758778\ttotal: 1.02s\tremaining: 4.4s\n",
      "189:\tlearn: 0.1751581\ttotal: 1.03s\tremaining: 4.39s\n",
      "190:\tlearn: 0.1742299\ttotal: 1.03s\tremaining: 4.38s\n",
      "191:\tlearn: 0.1733503\ttotal: 1.04s\tremaining: 4.37s\n",
      "192:\tlearn: 0.1724392\ttotal: 1.04s\tremaining: 4.36s\n",
      "193:\tlearn: 0.1715385\ttotal: 1.05s\tremaining: 4.35s\n",
      "194:\tlearn: 0.1710615\ttotal: 1.05s\tremaining: 4.34s\n",
      "195:\tlearn: 0.1704578\ttotal: 1.07s\tremaining: 4.4s\n",
      "196:\tlearn: 0.1695484\ttotal: 1.08s\tremaining: 4.39s\n",
      "197:\tlearn: 0.1686053\ttotal: 1.08s\tremaining: 4.38s\n",
      "198:\tlearn: 0.1682065\ttotal: 1.08s\tremaining: 4.37s\n",
      "199:\tlearn: 0.1677374\ttotal: 1.09s\tremaining: 4.36s\n",
      "200:\tlearn: 0.1668923\ttotal: 1.09s\tremaining: 4.35s\n",
      "201:\tlearn: 0.1665424\ttotal: 1.1s\tremaining: 4.34s\n",
      "202:\tlearn: 0.1660656\ttotal: 1.1s\tremaining: 4.33s\n",
      "203:\tlearn: 0.1654516\ttotal: 1.11s\tremaining: 4.32s\n",
      "204:\tlearn: 0.1649156\ttotal: 1.11s\tremaining: 4.31s\n",
      "205:\tlearn: 0.1640289\ttotal: 1.12s\tremaining: 4.3s\n",
      "206:\tlearn: 0.1633325\ttotal: 1.12s\tremaining: 4.29s\n",
      "207:\tlearn: 0.1624856\ttotal: 1.13s\tremaining: 4.29s\n",
      "208:\tlearn: 0.1618954\ttotal: 1.13s\tremaining: 4.28s\n",
      "209:\tlearn: 0.1614874\ttotal: 1.13s\tremaining: 4.26s\n",
      "210:\tlearn: 0.1604714\ttotal: 1.14s\tremaining: 4.26s\n",
      "211:\tlearn: 0.1600999\ttotal: 1.14s\tremaining: 4.25s\n",
      "212:\tlearn: 0.1594433\ttotal: 1.15s\tremaining: 4.24s\n",
      "213:\tlearn: 0.1588460\ttotal: 1.15s\tremaining: 4.23s\n",
      "214:\tlearn: 0.1582976\ttotal: 1.16s\tremaining: 4.22s\n",
      "215:\tlearn: 0.1579339\ttotal: 1.16s\tremaining: 4.21s\n",
      "216:\tlearn: 0.1572001\ttotal: 1.18s\tremaining: 4.25s\n",
      "217:\tlearn: 0.1566412\ttotal: 1.18s\tremaining: 4.24s\n",
      "218:\tlearn: 0.1560634\ttotal: 1.19s\tremaining: 4.23s\n",
      "219:\tlearn: 0.1555180\ttotal: 1.19s\tremaining: 4.22s\n",
      "220:\tlearn: 0.1548104\ttotal: 1.2s\tremaining: 4.21s\n",
      "221:\tlearn: 0.1540954\ttotal: 1.2s\tremaining: 4.2s\n",
      "222:\tlearn: 0.1532353\ttotal: 1.2s\tremaining: 4.2s\n",
      "223:\tlearn: 0.1528534\ttotal: 1.21s\tremaining: 4.19s\n",
      "224:\tlearn: 0.1520468\ttotal: 1.21s\tremaining: 4.18s\n",
      "225:\tlearn: 0.1515952\ttotal: 1.22s\tremaining: 4.17s\n",
      "226:\tlearn: 0.1509488\ttotal: 1.22s\tremaining: 4.16s\n",
      "227:\tlearn: 0.1503230\ttotal: 1.23s\tremaining: 4.15s\n",
      "228:\tlearn: 0.1500047\ttotal: 1.23s\tremaining: 4.14s\n",
      "229:\tlearn: 0.1493380\ttotal: 1.23s\tremaining: 4.13s\n",
      "230:\tlearn: 0.1487798\ttotal: 1.24s\tremaining: 4.13s\n",
      "231:\tlearn: 0.1483233\ttotal: 1.24s\tremaining: 4.12s\n",
      "232:\tlearn: 0.1478839\ttotal: 1.25s\tremaining: 4.11s\n",
      "233:\tlearn: 0.1474443\ttotal: 1.25s\tremaining: 4.1s\n",
      "234:\tlearn: 0.1468488\ttotal: 1.26s\tremaining: 4.1s\n",
      "235:\tlearn: 0.1459595\ttotal: 1.26s\tremaining: 4.09s\n",
      "236:\tlearn: 0.1455251\ttotal: 1.27s\tremaining: 4.08s\n",
      "237:\tlearn: 0.1450888\ttotal: 1.27s\tremaining: 4.07s\n",
      "238:\tlearn: 0.1447271\ttotal: 1.28s\tremaining: 4.07s\n",
      "239:\tlearn: 0.1442410\ttotal: 1.28s\tremaining: 4.06s\n",
      "240:\tlearn: 0.1437939\ttotal: 1.29s\tremaining: 4.05s\n",
      "241:\tlearn: 0.1433087\ttotal: 1.29s\tremaining: 4.04s\n",
      "242:\tlearn: 0.1430237\ttotal: 1.29s\tremaining: 4.03s\n",
      "243:\tlearn: 0.1423906\ttotal: 1.3s\tremaining: 4.03s\n",
      "244:\tlearn: 0.1417241\ttotal: 1.3s\tremaining: 4.02s\n",
      "245:\tlearn: 0.1412483\ttotal: 1.31s\tremaining: 4.01s\n",
      "246:\tlearn: 0.1406313\ttotal: 1.31s\tremaining: 4.01s\n",
      "247:\tlearn: 0.1402081\ttotal: 1.32s\tremaining: 4s\n",
      "248:\tlearn: 0.1397917\ttotal: 1.32s\tremaining: 4s\n",
      "249:\tlearn: 0.1394420\ttotal: 1.33s\tremaining: 4s\n",
      "250:\tlearn: 0.1389936\ttotal: 1.34s\tremaining: 3.99s\n",
      "251:\tlearn: 0.1386653\ttotal: 1.34s\tremaining: 3.99s\n",
      "252:\tlearn: 0.1381385\ttotal: 1.35s\tremaining: 3.98s\n",
      "253:\tlearn: 0.1377835\ttotal: 1.35s\tremaining: 3.98s\n",
      "254:\tlearn: 0.1372261\ttotal: 1.36s\tremaining: 3.97s\n",
      "255:\tlearn: 0.1367351\ttotal: 1.36s\tremaining: 3.97s\n",
      "256:\tlearn: 0.1359482\ttotal: 1.37s\tremaining: 3.96s\n",
      "257:\tlearn: 0.1356073\ttotal: 1.37s\tremaining: 3.95s\n",
      "258:\tlearn: 0.1353360\ttotal: 1.38s\tremaining: 3.95s\n",
      "259:\tlearn: 0.1348118\ttotal: 1.38s\tremaining: 3.94s\n",
      "260:\tlearn: 0.1343869\ttotal: 1.39s\tremaining: 3.93s\n",
      "261:\tlearn: 0.1338091\ttotal: 1.39s\tremaining: 3.92s\n",
      "262:\tlearn: 0.1334862\ttotal: 1.4s\tremaining: 3.92s\n",
      "263:\tlearn: 0.1329832\ttotal: 1.4s\tremaining: 3.91s\n",
      "264:\tlearn: 0.1322863\ttotal: 1.41s\tremaining: 3.9s\n",
      "265:\tlearn: 0.1319249\ttotal: 1.41s\tremaining: 3.9s\n",
      "266:\tlearn: 0.1313768\ttotal: 1.42s\tremaining: 3.89s\n",
      "267:\tlearn: 0.1309758\ttotal: 1.42s\tremaining: 3.88s\n",
      "268:\tlearn: 0.1304744\ttotal: 1.43s\tremaining: 3.88s\n",
      "269:\tlearn: 0.1299936\ttotal: 1.43s\tremaining: 3.87s\n",
      "270:\tlearn: 0.1297179\ttotal: 1.44s\tremaining: 3.86s\n",
      "271:\tlearn: 0.1291546\ttotal: 1.44s\tremaining: 3.86s\n",
      "272:\tlearn: 0.1287326\ttotal: 1.45s\tremaining: 3.85s\n",
      "273:\tlearn: 0.1283356\ttotal: 1.45s\tremaining: 3.84s\n",
      "274:\tlearn: 0.1280644\ttotal: 1.45s\tremaining: 3.83s\n",
      "275:\tlearn: 0.1277045\ttotal: 1.46s\tremaining: 3.83s\n",
      "276:\tlearn: 0.1273054\ttotal: 1.46s\tremaining: 3.82s\n",
      "277:\tlearn: 0.1268704\ttotal: 1.47s\tremaining: 3.81s\n",
      "278:\tlearn: 0.1265160\ttotal: 1.47s\tremaining: 3.8s\n",
      "279:\tlearn: 0.1261833\ttotal: 1.48s\tremaining: 3.79s\n",
      "280:\tlearn: 0.1258369\ttotal: 1.48s\tremaining: 3.79s\n",
      "281:\tlearn: 0.1253569\ttotal: 1.48s\tremaining: 3.78s\n",
      "282:\tlearn: 0.1247781\ttotal: 1.49s\tremaining: 3.77s\n",
      "283:\tlearn: 0.1242635\ttotal: 1.49s\tremaining: 3.76s\n",
      "284:\tlearn: 0.1237681\ttotal: 1.5s\tremaining: 3.75s\n",
      "285:\tlearn: 0.1234034\ttotal: 1.5s\tremaining: 3.75s\n",
      "286:\tlearn: 0.1228615\ttotal: 1.5s\tremaining: 3.74s\n",
      "287:\tlearn: 0.1224566\ttotal: 1.51s\tremaining: 3.73s\n",
      "288:\tlearn: 0.1219419\ttotal: 1.51s\tremaining: 3.73s\n",
      "289:\tlearn: 0.1215161\ttotal: 1.52s\tremaining: 3.72s\n",
      "290:\tlearn: 0.1210535\ttotal: 1.52s\tremaining: 3.71s\n",
      "291:\tlearn: 0.1206021\ttotal: 1.53s\tremaining: 3.7s\n",
      "292:\tlearn: 0.1201593\ttotal: 1.53s\tremaining: 3.7s\n",
      "293:\tlearn: 0.1198185\ttotal: 1.54s\tremaining: 3.69s\n",
      "294:\tlearn: 0.1194625\ttotal: 1.54s\tremaining: 3.68s\n",
      "295:\tlearn: 0.1191718\ttotal: 1.55s\tremaining: 3.68s\n",
      "296:\tlearn: 0.1186389\ttotal: 1.55s\tremaining: 3.67s\n",
      "297:\tlearn: 0.1181456\ttotal: 1.56s\tremaining: 3.67s\n",
      "298:\tlearn: 0.1177641\ttotal: 1.56s\tremaining: 3.66s\n",
      "299:\tlearn: 0.1175876\ttotal: 1.56s\tremaining: 3.65s\n",
      "300:\tlearn: 0.1171781\ttotal: 1.57s\tremaining: 3.65s\n",
      "301:\tlearn: 0.1169896\ttotal: 1.57s\tremaining: 3.64s\n",
      "302:\tlearn: 0.1166919\ttotal: 1.58s\tremaining: 3.63s\n",
      "303:\tlearn: 0.1161893\ttotal: 1.58s\tremaining: 3.63s\n",
      "304:\tlearn: 0.1157483\ttotal: 1.59s\tremaining: 3.62s\n",
      "305:\tlearn: 0.1153315\ttotal: 1.59s\tremaining: 3.62s\n",
      "306:\tlearn: 0.1151578\ttotal: 1.6s\tremaining: 3.61s\n",
      "307:\tlearn: 0.1148405\ttotal: 1.6s\tremaining: 3.6s\n",
      "308:\tlearn: 0.1144041\ttotal: 1.61s\tremaining: 3.6s\n",
      "309:\tlearn: 0.1140400\ttotal: 1.61s\tremaining: 3.59s\n",
      "310:\tlearn: 0.1136277\ttotal: 1.62s\tremaining: 3.59s\n",
      "311:\tlearn: 0.1133092\ttotal: 1.62s\tremaining: 3.58s\n",
      "312:\tlearn: 0.1130420\ttotal: 1.63s\tremaining: 3.58s\n",
      "313:\tlearn: 0.1127417\ttotal: 1.64s\tremaining: 3.58s\n",
      "314:\tlearn: 0.1123247\ttotal: 1.64s\tremaining: 3.57s\n",
      "315:\tlearn: 0.1120218\ttotal: 1.65s\tremaining: 3.56s\n",
      "316:\tlearn: 0.1117002\ttotal: 1.65s\tremaining: 3.56s\n",
      "317:\tlearn: 0.1114118\ttotal: 1.66s\tremaining: 3.55s\n",
      "318:\tlearn: 0.1110210\ttotal: 1.66s\tremaining: 3.54s\n",
      "319:\tlearn: 0.1106519\ttotal: 1.67s\tremaining: 3.54s\n",
      "320:\tlearn: 0.1103242\ttotal: 1.67s\tremaining: 3.53s\n",
      "321:\tlearn: 0.1099531\ttotal: 1.67s\tremaining: 3.52s\n",
      "322:\tlearn: 0.1095044\ttotal: 1.68s\tremaining: 3.52s\n",
      "323:\tlearn: 0.1090888\ttotal: 1.68s\tremaining: 3.51s\n",
      "324:\tlearn: 0.1086182\ttotal: 1.69s\tremaining: 3.51s\n",
      "325:\tlearn: 0.1083703\ttotal: 1.69s\tremaining: 3.5s\n",
      "326:\tlearn: 0.1080604\ttotal: 1.7s\tremaining: 3.5s\n",
      "327:\tlearn: 0.1078356\ttotal: 1.7s\tremaining: 3.49s\n",
      "328:\tlearn: 0.1073767\ttotal: 1.71s\tremaining: 3.48s\n",
      "329:\tlearn: 0.1069261\ttotal: 1.71s\tremaining: 3.48s\n",
      "330:\tlearn: 0.1066484\ttotal: 1.72s\tremaining: 3.47s\n",
      "331:\tlearn: 0.1064490\ttotal: 1.72s\tremaining: 3.46s\n",
      "332:\tlearn: 0.1061570\ttotal: 1.73s\tremaining: 3.46s\n",
      "333:\tlearn: 0.1058907\ttotal: 1.73s\tremaining: 3.45s\n",
      "334:\tlearn: 0.1057142\ttotal: 1.74s\tremaining: 3.44s\n",
      "335:\tlearn: 0.1053484\ttotal: 1.74s\tremaining: 3.44s\n",
      "336:\tlearn: 0.1049564\ttotal: 1.74s\tremaining: 3.43s\n",
      "337:\tlearn: 0.1046441\ttotal: 1.75s\tremaining: 3.42s\n",
      "338:\tlearn: 0.1043032\ttotal: 1.75s\tremaining: 3.42s\n",
      "339:\tlearn: 0.1039214\ttotal: 1.76s\tremaining: 3.41s\n",
      "340:\tlearn: 0.1037114\ttotal: 1.76s\tremaining: 3.4s\n",
      "341:\tlearn: 0.1033617\ttotal: 1.77s\tremaining: 3.4s\n",
      "342:\tlearn: 0.1031676\ttotal: 1.77s\tremaining: 3.39s\n",
      "343:\tlearn: 0.1028402\ttotal: 1.77s\tremaining: 3.38s\n",
      "344:\tlearn: 0.1026703\ttotal: 1.78s\tremaining: 3.38s\n",
      "345:\tlearn: 0.1024002\ttotal: 1.78s\tremaining: 3.37s\n",
      "346:\tlearn: 0.1022409\ttotal: 1.79s\tremaining: 3.37s\n",
      "347:\tlearn: 0.1020614\ttotal: 1.79s\tremaining: 3.36s\n",
      "348:\tlearn: 0.1018050\ttotal: 1.8s\tremaining: 3.35s\n",
      "349:\tlearn: 0.1016681\ttotal: 1.8s\tremaining: 3.35s\n",
      "350:\tlearn: 0.1012468\ttotal: 1.81s\tremaining: 3.34s\n",
      "351:\tlearn: 0.1011626\ttotal: 1.81s\tremaining: 3.33s\n",
      "352:\tlearn: 0.1007349\ttotal: 1.82s\tremaining: 3.33s\n",
      "353:\tlearn: 0.1004974\ttotal: 1.82s\tremaining: 3.32s\n",
      "354:\tlearn: 0.1000608\ttotal: 1.83s\tremaining: 3.32s\n",
      "355:\tlearn: 0.0998298\ttotal: 1.83s\tremaining: 3.31s\n",
      "356:\tlearn: 0.0996227\ttotal: 1.84s\tremaining: 3.31s\n",
      "357:\tlearn: 0.0994168\ttotal: 1.84s\tremaining: 3.3s\n",
      "358:\tlearn: 0.0992077\ttotal: 1.85s\tremaining: 3.3s\n",
      "359:\tlearn: 0.0988313\ttotal: 1.85s\tremaining: 3.29s\n",
      "360:\tlearn: 0.0984679\ttotal: 1.86s\tremaining: 3.29s\n",
      "361:\tlearn: 0.0982322\ttotal: 1.86s\tremaining: 3.28s\n",
      "362:\tlearn: 0.0979177\ttotal: 1.86s\tremaining: 3.27s\n",
      "363:\tlearn: 0.0977206\ttotal: 1.87s\tremaining: 3.27s\n",
      "364:\tlearn: 0.0974018\ttotal: 1.88s\tremaining: 3.26s\n",
      "365:\tlearn: 0.0970338\ttotal: 1.88s\tremaining: 3.26s\n",
      "366:\tlearn: 0.0967963\ttotal: 1.89s\tremaining: 3.25s\n",
      "367:\tlearn: 0.0965336\ttotal: 1.89s\tremaining: 3.24s\n",
      "368:\tlearn: 0.0961810\ttotal: 1.89s\tremaining: 3.24s\n",
      "369:\tlearn: 0.0958864\ttotal: 1.9s\tremaining: 3.23s\n",
      "370:\tlearn: 0.0956191\ttotal: 1.9s\tremaining: 3.23s\n",
      "371:\tlearn: 0.0953782\ttotal: 1.91s\tremaining: 3.22s\n",
      "372:\tlearn: 0.0951057\ttotal: 1.91s\tremaining: 3.21s\n",
      "373:\tlearn: 0.0948831\ttotal: 1.92s\tremaining: 3.21s\n",
      "374:\tlearn: 0.0946660\ttotal: 1.92s\tremaining: 3.2s\n",
      "375:\tlearn: 0.0945139\ttotal: 1.93s\tremaining: 3.2s\n",
      "376:\tlearn: 0.0942526\ttotal: 1.93s\tremaining: 3.19s\n",
      "377:\tlearn: 0.0939424\ttotal: 1.94s\tremaining: 3.19s\n",
      "378:\tlearn: 0.0936596\ttotal: 1.94s\tremaining: 3.18s\n",
      "379:\tlearn: 0.0934361\ttotal: 1.95s\tremaining: 3.18s\n",
      "380:\tlearn: 0.0932379\ttotal: 1.95s\tremaining: 3.17s\n",
      "381:\tlearn: 0.0930360\ttotal: 1.96s\tremaining: 3.17s\n",
      "382:\tlearn: 0.0928347\ttotal: 1.96s\tremaining: 3.16s\n",
      "383:\tlearn: 0.0925995\ttotal: 1.97s\tremaining: 3.15s\n",
      "384:\tlearn: 0.0923432\ttotal: 1.97s\tremaining: 3.15s\n",
      "385:\tlearn: 0.0921981\ttotal: 1.97s\tremaining: 3.14s\n",
      "386:\tlearn: 0.0919880\ttotal: 1.98s\tremaining: 3.13s\n",
      "387:\tlearn: 0.0916844\ttotal: 1.98s\tremaining: 3.13s\n",
      "388:\tlearn: 0.0914185\ttotal: 1.99s\tremaining: 3.12s\n",
      "389:\tlearn: 0.0911474\ttotal: 1.99s\tremaining: 3.12s\n",
      "390:\tlearn: 0.0909048\ttotal: 2s\tremaining: 3.11s\n",
      "391:\tlearn: 0.0907093\ttotal: 2s\tremaining: 3.1s\n",
      "392:\tlearn: 0.0905063\ttotal: 2.01s\tremaining: 3.1s\n",
      "393:\tlearn: 0.0903827\ttotal: 2.01s\tremaining: 3.09s\n",
      "394:\tlearn: 0.0901990\ttotal: 2.02s\tremaining: 3.09s\n",
      "395:\tlearn: 0.0899900\ttotal: 2.02s\tremaining: 3.08s\n",
      "396:\tlearn: 0.0897191\ttotal: 2.02s\tremaining: 3.08s\n",
      "397:\tlearn: 0.0893549\ttotal: 2.03s\tremaining: 3.07s\n",
      "398:\tlearn: 0.0891861\ttotal: 2.03s\tremaining: 3.06s\n",
      "399:\tlearn: 0.0890073\ttotal: 2.04s\tremaining: 3.06s\n",
      "400:\tlearn: 0.0887942\ttotal: 2.04s\tremaining: 3.05s\n",
      "401:\tlearn: 0.0884492\ttotal: 2.05s\tremaining: 3.05s\n",
      "402:\tlearn: 0.0881357\ttotal: 2.05s\tremaining: 3.04s\n",
      "403:\tlearn: 0.0878670\ttotal: 2.06s\tremaining: 3.04s\n",
      "404:\tlearn: 0.0875648\ttotal: 2.06s\tremaining: 3.03s\n",
      "405:\tlearn: 0.0872400\ttotal: 2.06s\tremaining: 3.02s\n",
      "406:\tlearn: 0.0870335\ttotal: 2.07s\tremaining: 3.02s\n",
      "407:\tlearn: 0.0866940\ttotal: 2.07s\tremaining: 3.01s\n",
      "408:\tlearn: 0.0864121\ttotal: 2.08s\tremaining: 3s\n",
      "409:\tlearn: 0.0862389\ttotal: 2.08s\tremaining: 3s\n",
      "410:\tlearn: 0.0860528\ttotal: 2.09s\tremaining: 2.99s\n",
      "411:\tlearn: 0.0858343\ttotal: 2.09s\tremaining: 2.98s\n",
      "412:\tlearn: 0.0855933\ttotal: 2.1s\tremaining: 2.98s\n",
      "413:\tlearn: 0.0854242\ttotal: 2.1s\tremaining: 2.97s\n",
      "414:\tlearn: 0.0851666\ttotal: 2.1s\tremaining: 2.97s\n",
      "415:\tlearn: 0.0847909\ttotal: 2.11s\tremaining: 2.96s\n",
      "416:\tlearn: 0.0845270\ttotal: 2.11s\tremaining: 2.95s\n",
      "417:\tlearn: 0.0842352\ttotal: 2.12s\tremaining: 2.95s\n",
      "418:\tlearn: 0.0839503\ttotal: 2.12s\tremaining: 2.94s\n",
      "419:\tlearn: 0.0836312\ttotal: 2.13s\tremaining: 2.94s\n",
      "420:\tlearn: 0.0834211\ttotal: 2.13s\tremaining: 2.93s\n",
      "421:\tlearn: 0.0831542\ttotal: 2.14s\tremaining: 2.92s\n",
      "422:\tlearn: 0.0829484\ttotal: 2.14s\tremaining: 2.92s\n",
      "423:\tlearn: 0.0827794\ttotal: 2.15s\tremaining: 2.92s\n",
      "424:\tlearn: 0.0825095\ttotal: 2.15s\tremaining: 2.91s\n",
      "425:\tlearn: 0.0823128\ttotal: 2.16s\tremaining: 2.91s\n",
      "426:\tlearn: 0.0821179\ttotal: 2.16s\tremaining: 2.9s\n",
      "427:\tlearn: 0.0819693\ttotal: 2.17s\tremaining: 2.9s\n",
      "428:\tlearn: 0.0818468\ttotal: 2.17s\tremaining: 2.89s\n",
      "429:\tlearn: 0.0815598\ttotal: 2.18s\tremaining: 2.88s\n",
      "430:\tlearn: 0.0814079\ttotal: 2.18s\tremaining: 2.88s\n",
      "431:\tlearn: 0.0812462\ttotal: 2.19s\tremaining: 2.87s\n",
      "432:\tlearn: 0.0809349\ttotal: 2.19s\tremaining: 2.87s\n",
      "433:\tlearn: 0.0806911\ttotal: 2.19s\tremaining: 2.86s\n",
      "434:\tlearn: 0.0805180\ttotal: 2.2s\tremaining: 2.86s\n",
      "435:\tlearn: 0.0802714\ttotal: 2.2s\tremaining: 2.85s\n",
      "436:\tlearn: 0.0799188\ttotal: 2.21s\tremaining: 2.85s\n",
      "437:\tlearn: 0.0796393\ttotal: 2.21s\tremaining: 2.84s\n",
      "438:\tlearn: 0.0792904\ttotal: 2.22s\tremaining: 2.83s\n",
      "439:\tlearn: 0.0791000\ttotal: 2.22s\tremaining: 2.83s\n",
      "440:\tlearn: 0.0789894\ttotal: 2.23s\tremaining: 2.82s\n",
      "441:\tlearn: 0.0787546\ttotal: 2.23s\tremaining: 2.82s\n",
      "442:\tlearn: 0.0784967\ttotal: 2.23s\tremaining: 2.81s\n",
      "443:\tlearn: 0.0783426\ttotal: 2.24s\tremaining: 2.8s\n",
      "444:\tlearn: 0.0781012\ttotal: 2.24s\tremaining: 2.8s\n",
      "445:\tlearn: 0.0779720\ttotal: 2.25s\tremaining: 2.79s\n",
      "446:\tlearn: 0.0777081\ttotal: 2.25s\tremaining: 2.79s\n",
      "447:\tlearn: 0.0774706\ttotal: 2.26s\tremaining: 2.78s\n",
      "448:\tlearn: 0.0772337\ttotal: 2.26s\tremaining: 2.78s\n",
      "449:\tlearn: 0.0770032\ttotal: 2.27s\tremaining: 2.77s\n",
      "450:\tlearn: 0.0767504\ttotal: 2.27s\tremaining: 2.77s\n",
      "451:\tlearn: 0.0766598\ttotal: 2.28s\tremaining: 2.76s\n",
      "452:\tlearn: 0.0763904\ttotal: 2.28s\tremaining: 2.76s\n",
      "453:\tlearn: 0.0762689\ttotal: 2.29s\tremaining: 2.75s\n",
      "454:\tlearn: 0.0761091\ttotal: 2.29s\tremaining: 2.75s\n",
      "455:\tlearn: 0.0758673\ttotal: 2.3s\tremaining: 2.74s\n",
      "456:\tlearn: 0.0756082\ttotal: 2.3s\tremaining: 2.73s\n",
      "457:\tlearn: 0.0755069\ttotal: 2.31s\tremaining: 2.73s\n",
      "458:\tlearn: 0.0753791\ttotal: 2.31s\tremaining: 2.72s\n",
      "459:\tlearn: 0.0751242\ttotal: 2.31s\tremaining: 2.72s\n",
      "460:\tlearn: 0.0750321\ttotal: 2.32s\tremaining: 2.71s\n",
      "461:\tlearn: 0.0749024\ttotal: 2.32s\tremaining: 2.71s\n",
      "462:\tlearn: 0.0745845\ttotal: 2.33s\tremaining: 2.7s\n",
      "463:\tlearn: 0.0743307\ttotal: 2.33s\tremaining: 2.69s\n",
      "464:\tlearn: 0.0740452\ttotal: 2.34s\tremaining: 2.69s\n",
      "465:\tlearn: 0.0738737\ttotal: 2.34s\tremaining: 2.68s\n",
      "466:\tlearn: 0.0737203\ttotal: 2.35s\tremaining: 2.68s\n",
      "467:\tlearn: 0.0735940\ttotal: 2.35s\tremaining: 2.67s\n",
      "468:\tlearn: 0.0734587\ttotal: 2.35s\tremaining: 2.66s\n",
      "469:\tlearn: 0.0733337\ttotal: 2.36s\tremaining: 2.66s\n",
      "470:\tlearn: 0.0730391\ttotal: 2.36s\tremaining: 2.65s\n",
      "471:\tlearn: 0.0728913\ttotal: 2.37s\tremaining: 2.65s\n",
      "472:\tlearn: 0.0727574\ttotal: 2.37s\tremaining: 2.64s\n",
      "473:\tlearn: 0.0726491\ttotal: 2.38s\tremaining: 2.64s\n",
      "474:\tlearn: 0.0724839\ttotal: 2.38s\tremaining: 2.63s\n",
      "475:\tlearn: 0.0723036\ttotal: 2.38s\tremaining: 2.63s\n",
      "476:\tlearn: 0.0720265\ttotal: 2.39s\tremaining: 2.62s\n",
      "477:\tlearn: 0.0718441\ttotal: 2.39s\tremaining: 2.62s\n",
      "478:\tlearn: 0.0716555\ttotal: 2.4s\tremaining: 2.61s\n",
      "479:\tlearn: 0.0714525\ttotal: 2.4s\tremaining: 2.6s\n",
      "480:\tlearn: 0.0712860\ttotal: 2.41s\tremaining: 2.6s\n",
      "481:\tlearn: 0.0710944\ttotal: 2.41s\tremaining: 2.59s\n",
      "482:\tlearn: 0.0709280\ttotal: 2.42s\tremaining: 2.59s\n",
      "483:\tlearn: 0.0707543\ttotal: 2.42s\tremaining: 2.58s\n",
      "484:\tlearn: 0.0705725\ttotal: 2.43s\tremaining: 2.58s\n",
      "485:\tlearn: 0.0704890\ttotal: 2.43s\tremaining: 2.58s\n",
      "486:\tlearn: 0.0703572\ttotal: 2.44s\tremaining: 2.57s\n",
      "487:\tlearn: 0.0701367\ttotal: 2.44s\tremaining: 2.56s\n",
      "488:\tlearn: 0.0700213\ttotal: 2.45s\tremaining: 2.56s\n",
      "489:\tlearn: 0.0698923\ttotal: 2.45s\tremaining: 2.55s\n",
      "490:\tlearn: 0.0698176\ttotal: 2.46s\tremaining: 2.55s\n",
      "491:\tlearn: 0.0695781\ttotal: 2.46s\tremaining: 2.54s\n",
      "492:\tlearn: 0.0693625\ttotal: 2.46s\tremaining: 2.54s\n",
      "493:\tlearn: 0.0692617\ttotal: 2.47s\tremaining: 2.53s\n",
      "494:\tlearn: 0.0691143\ttotal: 2.47s\tremaining: 2.52s\n",
      "495:\tlearn: 0.0689497\ttotal: 2.48s\tremaining: 2.52s\n",
      "496:\tlearn: 0.0688011\ttotal: 2.48s\tremaining: 2.51s\n",
      "497:\tlearn: 0.0686302\ttotal: 2.49s\tremaining: 2.51s\n",
      "498:\tlearn: 0.0684615\ttotal: 2.49s\tremaining: 2.5s\n",
      "499:\tlearn: 0.0683156\ttotal: 2.5s\tremaining: 2.5s\n",
      "500:\tlearn: 0.0681521\ttotal: 2.5s\tremaining: 2.49s\n",
      "501:\tlearn: 0.0679294\ttotal: 2.5s\tremaining: 2.48s\n",
      "502:\tlearn: 0.0678041\ttotal: 2.51s\tremaining: 2.48s\n",
      "503:\tlearn: 0.0676603\ttotal: 2.51s\tremaining: 2.47s\n",
      "504:\tlearn: 0.0675473\ttotal: 2.52s\tremaining: 2.47s\n",
      "505:\tlearn: 0.0674480\ttotal: 2.52s\tremaining: 2.46s\n",
      "506:\tlearn: 0.0672858\ttotal: 2.53s\tremaining: 2.46s\n",
      "507:\tlearn: 0.0671626\ttotal: 2.53s\tremaining: 2.45s\n",
      "508:\tlearn: 0.0670835\ttotal: 2.54s\tremaining: 2.45s\n",
      "509:\tlearn: 0.0669130\ttotal: 2.54s\tremaining: 2.44s\n",
      "510:\tlearn: 0.0667152\ttotal: 2.54s\tremaining: 2.43s\n",
      "511:\tlearn: 0.0665574\ttotal: 2.55s\tremaining: 2.43s\n",
      "512:\tlearn: 0.0663939\ttotal: 2.55s\tremaining: 2.42s\n",
      "513:\tlearn: 0.0662342\ttotal: 2.56s\tremaining: 2.42s\n",
      "514:\tlearn: 0.0661256\ttotal: 2.56s\tremaining: 2.41s\n",
      "515:\tlearn: 0.0659862\ttotal: 2.57s\tremaining: 2.41s\n",
      "516:\tlearn: 0.0657788\ttotal: 2.57s\tremaining: 2.4s\n",
      "517:\tlearn: 0.0656722\ttotal: 2.58s\tremaining: 2.4s\n",
      "518:\tlearn: 0.0655445\ttotal: 2.58s\tremaining: 2.39s\n",
      "519:\tlearn: 0.0653619\ttotal: 2.58s\tremaining: 2.38s\n",
      "520:\tlearn: 0.0652140\ttotal: 2.59s\tremaining: 2.38s\n",
      "521:\tlearn: 0.0649819\ttotal: 2.59s\tremaining: 2.37s\n",
      "522:\tlearn: 0.0648336\ttotal: 2.6s\tremaining: 2.37s\n",
      "523:\tlearn: 0.0646249\ttotal: 2.6s\tremaining: 2.36s\n",
      "524:\tlearn: 0.0644395\ttotal: 2.6s\tremaining: 2.36s\n",
      "525:\tlearn: 0.0643347\ttotal: 2.61s\tremaining: 2.35s\n",
      "526:\tlearn: 0.0642455\ttotal: 2.61s\tremaining: 2.35s\n",
      "527:\tlearn: 0.0640884\ttotal: 2.62s\tremaining: 2.34s\n",
      "528:\tlearn: 0.0639168\ttotal: 2.62s\tremaining: 2.34s\n",
      "529:\tlearn: 0.0637805\ttotal: 2.63s\tremaining: 2.33s\n",
      "530:\tlearn: 0.0637022\ttotal: 2.63s\tremaining: 2.33s\n",
      "531:\tlearn: 0.0636017\ttotal: 2.64s\tremaining: 2.32s\n",
      "532:\tlearn: 0.0634405\ttotal: 2.64s\tremaining: 2.31s\n",
      "533:\tlearn: 0.0632863\ttotal: 2.65s\tremaining: 2.31s\n",
      "534:\tlearn: 0.0632030\ttotal: 2.65s\tremaining: 2.31s\n",
      "535:\tlearn: 0.0630066\ttotal: 2.66s\tremaining: 2.3s\n",
      "536:\tlearn: 0.0628581\ttotal: 2.66s\tremaining: 2.29s\n",
      "537:\tlearn: 0.0626966\ttotal: 2.67s\tremaining: 2.29s\n",
      "538:\tlearn: 0.0625914\ttotal: 2.67s\tremaining: 2.29s\n",
      "539:\tlearn: 0.0624560\ttotal: 2.68s\tremaining: 2.28s\n",
      "540:\tlearn: 0.0623039\ttotal: 2.68s\tremaining: 2.27s\n",
      "541:\tlearn: 0.0620666\ttotal: 2.69s\tremaining: 2.27s\n",
      "542:\tlearn: 0.0619024\ttotal: 2.69s\tremaining: 2.26s\n",
      "543:\tlearn: 0.0617488\ttotal: 2.69s\tremaining: 2.26s\n",
      "544:\tlearn: 0.0616139\ttotal: 2.7s\tremaining: 2.25s\n",
      "545:\tlearn: 0.0615093\ttotal: 2.7s\tremaining: 2.25s\n",
      "546:\tlearn: 0.0614013\ttotal: 2.71s\tremaining: 2.24s\n",
      "547:\tlearn: 0.0611906\ttotal: 2.71s\tremaining: 2.24s\n",
      "548:\tlearn: 0.0610462\ttotal: 2.72s\tremaining: 2.23s\n",
      "549:\tlearn: 0.0608829\ttotal: 2.72s\tremaining: 2.23s\n",
      "550:\tlearn: 0.0607758\ttotal: 2.73s\tremaining: 2.22s\n",
      "551:\tlearn: 0.0606374\ttotal: 2.73s\tremaining: 2.21s\n",
      "552:\tlearn: 0.0604554\ttotal: 2.73s\tremaining: 2.21s\n",
      "553:\tlearn: 0.0602775\ttotal: 2.74s\tremaining: 2.21s\n",
      "554:\tlearn: 0.0600535\ttotal: 2.74s\tremaining: 2.2s\n",
      "555:\tlearn: 0.0599652\ttotal: 2.75s\tremaining: 2.19s\n",
      "556:\tlearn: 0.0598320\ttotal: 2.75s\tremaining: 2.19s\n",
      "557:\tlearn: 0.0596380\ttotal: 2.76s\tremaining: 2.18s\n",
      "558:\tlearn: 0.0594814\ttotal: 2.76s\tremaining: 2.18s\n",
      "559:\tlearn: 0.0593014\ttotal: 2.77s\tremaining: 2.17s\n",
      "560:\tlearn: 0.0590798\ttotal: 2.77s\tremaining: 2.17s\n",
      "561:\tlearn: 0.0589559\ttotal: 2.77s\tremaining: 2.16s\n",
      "562:\tlearn: 0.0587889\ttotal: 2.78s\tremaining: 2.16s\n",
      "563:\tlearn: 0.0586443\ttotal: 2.78s\tremaining: 2.15s\n",
      "564:\tlearn: 0.0585081\ttotal: 2.79s\tremaining: 2.15s\n",
      "565:\tlearn: 0.0583655\ttotal: 2.79s\tremaining: 2.14s\n",
      "566:\tlearn: 0.0581757\ttotal: 2.79s\tremaining: 2.13s\n",
      "567:\tlearn: 0.0580038\ttotal: 2.8s\tremaining: 2.13s\n",
      "568:\tlearn: 0.0578120\ttotal: 2.8s\tremaining: 2.12s\n",
      "569:\tlearn: 0.0576599\ttotal: 2.81s\tremaining: 2.12s\n",
      "570:\tlearn: 0.0574911\ttotal: 2.81s\tremaining: 2.11s\n",
      "571:\tlearn: 0.0573742\ttotal: 2.82s\tremaining: 2.11s\n",
      "572:\tlearn: 0.0573044\ttotal: 2.82s\tremaining: 2.1s\n",
      "573:\tlearn: 0.0571310\ttotal: 2.83s\tremaining: 2.1s\n",
      "574:\tlearn: 0.0569600\ttotal: 2.83s\tremaining: 2.09s\n",
      "575:\tlearn: 0.0568092\ttotal: 2.84s\tremaining: 2.09s\n",
      "576:\tlearn: 0.0567387\ttotal: 2.84s\tremaining: 2.08s\n",
      "577:\tlearn: 0.0565973\ttotal: 2.85s\tremaining: 2.08s\n",
      "578:\tlearn: 0.0564312\ttotal: 2.85s\tremaining: 2.07s\n",
      "579:\tlearn: 0.0563432\ttotal: 2.85s\tremaining: 2.07s\n",
      "580:\tlearn: 0.0561542\ttotal: 2.86s\tremaining: 2.06s\n",
      "581:\tlearn: 0.0560444\ttotal: 2.86s\tremaining: 2.06s\n",
      "582:\tlearn: 0.0559157\ttotal: 2.87s\tremaining: 2.05s\n",
      "583:\tlearn: 0.0558406\ttotal: 2.87s\tremaining: 2.05s\n",
      "584:\tlearn: 0.0557608\ttotal: 2.88s\tremaining: 2.04s\n",
      "585:\tlearn: 0.0555462\ttotal: 2.88s\tremaining: 2.04s\n",
      "586:\tlearn: 0.0554727\ttotal: 2.89s\tremaining: 2.03s\n",
      "587:\tlearn: 0.0553409\ttotal: 2.89s\tremaining: 2.03s\n",
      "588:\tlearn: 0.0552444\ttotal: 2.9s\tremaining: 2.02s\n",
      "589:\tlearn: 0.0551120\ttotal: 2.9s\tremaining: 2.02s\n",
      "590:\tlearn: 0.0550042\ttotal: 2.91s\tremaining: 2.01s\n",
      "591:\tlearn: 0.0549170\ttotal: 2.91s\tremaining: 2.01s\n",
      "592:\tlearn: 0.0547685\ttotal: 2.92s\tremaining: 2s\n",
      "593:\tlearn: 0.0546512\ttotal: 2.92s\tremaining: 2s\n",
      "594:\tlearn: 0.0545542\ttotal: 2.92s\tremaining: 1.99s\n",
      "595:\tlearn: 0.0544371\ttotal: 2.93s\tremaining: 1.99s\n",
      "596:\tlearn: 0.0543244\ttotal: 2.94s\tremaining: 1.98s\n",
      "597:\tlearn: 0.0542147\ttotal: 2.94s\tremaining: 1.98s\n",
      "598:\tlearn: 0.0541433\ttotal: 2.94s\tremaining: 1.97s\n",
      "599:\tlearn: 0.0540093\ttotal: 2.95s\tremaining: 1.97s\n",
      "600:\tlearn: 0.0538779\ttotal: 2.95s\tremaining: 1.96s\n",
      "601:\tlearn: 0.0537996\ttotal: 2.96s\tremaining: 1.96s\n",
      "602:\tlearn: 0.0536166\ttotal: 2.96s\tremaining: 1.95s\n",
      "603:\tlearn: 0.0534527\ttotal: 2.97s\tremaining: 1.95s\n",
      "604:\tlearn: 0.0533726\ttotal: 2.97s\tremaining: 1.94s\n",
      "605:\tlearn: 0.0532637\ttotal: 2.98s\tremaining: 1.94s\n",
      "606:\tlearn: 0.0530827\ttotal: 2.98s\tremaining: 1.93s\n",
      "607:\tlearn: 0.0529892\ttotal: 2.98s\tremaining: 1.92s\n",
      "608:\tlearn: 0.0528455\ttotal: 2.99s\tremaining: 1.92s\n",
      "609:\tlearn: 0.0527202\ttotal: 2.99s\tremaining: 1.91s\n",
      "610:\tlearn: 0.0526318\ttotal: 3s\tremaining: 1.91s\n",
      "611:\tlearn: 0.0524499\ttotal: 3s\tremaining: 1.9s\n",
      "612:\tlearn: 0.0523539\ttotal: 3s\tremaining: 1.9s\n",
      "613:\tlearn: 0.0522138\ttotal: 3.01s\tremaining: 1.89s\n",
      "614:\tlearn: 0.0520668\ttotal: 3.01s\tremaining: 1.89s\n",
      "615:\tlearn: 0.0519611\ttotal: 3.02s\tremaining: 1.88s\n",
      "616:\tlearn: 0.0518306\ttotal: 3.02s\tremaining: 1.88s\n",
      "617:\tlearn: 0.0517581\ttotal: 3.03s\tremaining: 1.87s\n",
      "618:\tlearn: 0.0516528\ttotal: 3.03s\tremaining: 1.87s\n",
      "619:\tlearn: 0.0515721\ttotal: 3.04s\tremaining: 1.86s\n",
      "620:\tlearn: 0.0514662\ttotal: 3.04s\tremaining: 1.85s\n",
      "621:\tlearn: 0.0513207\ttotal: 3.04s\tremaining: 1.85s\n",
      "622:\tlearn: 0.0511589\ttotal: 3.05s\tremaining: 1.84s\n",
      "623:\tlearn: 0.0510783\ttotal: 3.05s\tremaining: 1.84s\n",
      "624:\tlearn: 0.0509734\ttotal: 3.06s\tremaining: 1.83s\n",
      "625:\tlearn: 0.0509155\ttotal: 3.06s\tremaining: 1.83s\n",
      "626:\tlearn: 0.0507800\ttotal: 3.07s\tremaining: 1.82s\n",
      "627:\tlearn: 0.0506702\ttotal: 3.07s\tremaining: 1.82s\n",
      "628:\tlearn: 0.0505974\ttotal: 3.08s\tremaining: 1.81s\n",
      "629:\tlearn: 0.0504499\ttotal: 3.08s\tremaining: 1.81s\n",
      "630:\tlearn: 0.0503285\ttotal: 3.08s\tremaining: 1.8s\n",
      "631:\tlearn: 0.0501768\ttotal: 3.09s\tremaining: 1.8s\n",
      "632:\tlearn: 0.0501155\ttotal: 3.09s\tremaining: 1.79s\n",
      "633:\tlearn: 0.0499566\ttotal: 3.1s\tremaining: 1.79s\n",
      "634:\tlearn: 0.0498158\ttotal: 3.1s\tremaining: 1.78s\n",
      "635:\tlearn: 0.0497289\ttotal: 3.11s\tremaining: 1.78s\n",
      "636:\tlearn: 0.0496070\ttotal: 3.11s\tremaining: 1.77s\n",
      "637:\tlearn: 0.0495078\ttotal: 3.12s\tremaining: 1.77s\n",
      "638:\tlearn: 0.0493817\ttotal: 3.12s\tremaining: 1.76s\n",
      "639:\tlearn: 0.0493104\ttotal: 3.13s\tremaining: 1.76s\n",
      "640:\tlearn: 0.0492108\ttotal: 3.13s\tremaining: 1.75s\n",
      "641:\tlearn: 0.0490797\ttotal: 3.13s\tremaining: 1.75s\n",
      "642:\tlearn: 0.0490300\ttotal: 3.14s\tremaining: 1.74s\n",
      "643:\tlearn: 0.0489451\ttotal: 3.14s\tremaining: 1.74s\n",
      "644:\tlearn: 0.0488265\ttotal: 3.15s\tremaining: 1.73s\n",
      "645:\tlearn: 0.0486939\ttotal: 3.15s\tremaining: 1.73s\n",
      "646:\tlearn: 0.0485773\ttotal: 3.16s\tremaining: 1.72s\n",
      "647:\tlearn: 0.0484800\ttotal: 3.16s\tremaining: 1.72s\n",
      "648:\tlearn: 0.0483884\ttotal: 3.17s\tremaining: 1.71s\n",
      "649:\tlearn: 0.0483262\ttotal: 3.17s\tremaining: 1.71s\n",
      "650:\tlearn: 0.0482613\ttotal: 3.18s\tremaining: 1.7s\n",
      "651:\tlearn: 0.0481717\ttotal: 3.18s\tremaining: 1.7s\n",
      "652:\tlearn: 0.0480688\ttotal: 3.19s\tremaining: 1.69s\n",
      "653:\tlearn: 0.0479720\ttotal: 3.19s\tremaining: 1.69s\n",
      "654:\tlearn: 0.0478640\ttotal: 3.2s\tremaining: 1.68s\n",
      "655:\tlearn: 0.0477200\ttotal: 3.2s\tremaining: 1.68s\n",
      "656:\tlearn: 0.0476162\ttotal: 3.21s\tremaining: 1.67s\n",
      "657:\tlearn: 0.0475272\ttotal: 3.21s\tremaining: 1.67s\n",
      "658:\tlearn: 0.0474273\ttotal: 3.21s\tremaining: 1.66s\n",
      "659:\tlearn: 0.0473675\ttotal: 3.22s\tremaining: 1.66s\n",
      "660:\tlearn: 0.0472933\ttotal: 3.22s\tremaining: 1.65s\n",
      "661:\tlearn: 0.0472239\ttotal: 3.23s\tremaining: 1.65s\n",
      "662:\tlearn: 0.0471613\ttotal: 3.23s\tremaining: 1.64s\n",
      "663:\tlearn: 0.0470528\ttotal: 3.23s\tremaining: 1.64s\n",
      "664:\tlearn: 0.0469463\ttotal: 3.24s\tremaining: 1.63s\n",
      "665:\tlearn: 0.0468358\ttotal: 3.24s\tremaining: 1.63s\n",
      "666:\tlearn: 0.0467436\ttotal: 3.25s\tremaining: 1.62s\n",
      "667:\tlearn: 0.0466020\ttotal: 3.25s\tremaining: 1.62s\n",
      "668:\tlearn: 0.0464812\ttotal: 3.26s\tremaining: 1.61s\n",
      "669:\tlearn: 0.0463459\ttotal: 3.26s\tremaining: 1.61s\n",
      "670:\tlearn: 0.0462354\ttotal: 3.27s\tremaining: 1.6s\n",
      "671:\tlearn: 0.0461135\ttotal: 3.27s\tremaining: 1.6s\n",
      "672:\tlearn: 0.0460693\ttotal: 3.28s\tremaining: 1.59s\n",
      "673:\tlearn: 0.0459863\ttotal: 3.28s\tremaining: 1.59s\n",
      "674:\tlearn: 0.0459347\ttotal: 3.29s\tremaining: 1.58s\n",
      "675:\tlearn: 0.0458492\ttotal: 3.29s\tremaining: 1.58s\n",
      "676:\tlearn: 0.0457519\ttotal: 3.29s\tremaining: 1.57s\n",
      "677:\tlearn: 0.0456284\ttotal: 3.3s\tremaining: 1.57s\n",
      "678:\tlearn: 0.0455450\ttotal: 3.3s\tremaining: 1.56s\n",
      "679:\tlearn: 0.0454827\ttotal: 3.31s\tremaining: 1.56s\n",
      "680:\tlearn: 0.0453643\ttotal: 3.31s\tremaining: 1.55s\n",
      "681:\tlearn: 0.0452230\ttotal: 3.32s\tremaining: 1.55s\n",
      "682:\tlearn: 0.0451089\ttotal: 3.32s\tremaining: 1.54s\n",
      "683:\tlearn: 0.0450231\ttotal: 3.33s\tremaining: 1.54s\n",
      "684:\tlearn: 0.0449524\ttotal: 3.33s\tremaining: 1.53s\n",
      "685:\tlearn: 0.0448621\ttotal: 3.33s\tremaining: 1.53s\n",
      "686:\tlearn: 0.0447433\ttotal: 3.34s\tremaining: 1.52s\n",
      "687:\tlearn: 0.0446834\ttotal: 3.34s\tremaining: 1.52s\n",
      "688:\tlearn: 0.0446010\ttotal: 3.35s\tremaining: 1.51s\n",
      "689:\tlearn: 0.0445193\ttotal: 3.35s\tremaining: 1.51s\n",
      "690:\tlearn: 0.0444287\ttotal: 3.36s\tremaining: 1.5s\n",
      "691:\tlearn: 0.0443605\ttotal: 3.36s\tremaining: 1.5s\n",
      "692:\tlearn: 0.0442193\ttotal: 3.37s\tremaining: 1.49s\n",
      "693:\tlearn: 0.0441195\ttotal: 3.37s\tremaining: 1.49s\n",
      "694:\tlearn: 0.0440667\ttotal: 3.37s\tremaining: 1.48s\n",
      "695:\tlearn: 0.0439524\ttotal: 3.38s\tremaining: 1.48s\n",
      "696:\tlearn: 0.0438509\ttotal: 3.38s\tremaining: 1.47s\n",
      "697:\tlearn: 0.0437460\ttotal: 3.39s\tremaining: 1.47s\n",
      "698:\tlearn: 0.0436526\ttotal: 3.39s\tremaining: 1.46s\n",
      "699:\tlearn: 0.0435867\ttotal: 3.4s\tremaining: 1.46s\n",
      "700:\tlearn: 0.0435558\ttotal: 3.4s\tremaining: 1.45s\n",
      "701:\tlearn: 0.0434472\ttotal: 3.41s\tremaining: 1.45s\n",
      "702:\tlearn: 0.0433792\ttotal: 3.41s\tremaining: 1.44s\n",
      "703:\tlearn: 0.0433102\ttotal: 3.42s\tremaining: 1.44s\n",
      "704:\tlearn: 0.0432342\ttotal: 3.42s\tremaining: 1.43s\n",
      "705:\tlearn: 0.0431246\ttotal: 3.43s\tremaining: 1.43s\n",
      "706:\tlearn: 0.0430274\ttotal: 3.43s\tremaining: 1.42s\n",
      "707:\tlearn: 0.0428831\ttotal: 3.44s\tremaining: 1.42s\n",
      "708:\tlearn: 0.0428441\ttotal: 3.44s\tremaining: 1.41s\n",
      "709:\tlearn: 0.0427651\ttotal: 3.44s\tremaining: 1.41s\n",
      "710:\tlearn: 0.0426502\ttotal: 3.45s\tremaining: 1.4s\n",
      "711:\tlearn: 0.0425394\ttotal: 3.45s\tremaining: 1.4s\n",
      "712:\tlearn: 0.0424128\ttotal: 3.46s\tremaining: 1.39s\n",
      "713:\tlearn: 0.0423255\ttotal: 3.46s\tremaining: 1.39s\n",
      "714:\tlearn: 0.0422697\ttotal: 3.47s\tremaining: 1.38s\n",
      "715:\tlearn: 0.0422002\ttotal: 3.47s\tremaining: 1.38s\n",
      "716:\tlearn: 0.0421562\ttotal: 3.48s\tremaining: 1.37s\n",
      "717:\tlearn: 0.0420991\ttotal: 3.48s\tremaining: 1.37s\n",
      "718:\tlearn: 0.0420432\ttotal: 3.48s\tremaining: 1.36s\n",
      "719:\tlearn: 0.0419578\ttotal: 3.49s\tremaining: 1.36s\n",
      "720:\tlearn: 0.0418488\ttotal: 3.49s\tremaining: 1.35s\n",
      "721:\tlearn: 0.0417880\ttotal: 3.5s\tremaining: 1.35s\n",
      "722:\tlearn: 0.0417072\ttotal: 3.5s\tremaining: 1.34s\n",
      "723:\tlearn: 0.0416079\ttotal: 3.51s\tremaining: 1.34s\n",
      "724:\tlearn: 0.0415014\ttotal: 3.51s\tremaining: 1.33s\n",
      "725:\tlearn: 0.0413819\ttotal: 3.52s\tremaining: 1.33s\n",
      "726:\tlearn: 0.0412870\ttotal: 3.52s\tremaining: 1.32s\n",
      "727:\tlearn: 0.0412339\ttotal: 3.52s\tremaining: 1.32s\n",
      "728:\tlearn: 0.0411811\ttotal: 3.53s\tremaining: 1.31s\n",
      "729:\tlearn: 0.0410578\ttotal: 3.53s\tremaining: 1.31s\n",
      "730:\tlearn: 0.0409599\ttotal: 3.54s\tremaining: 1.3s\n",
      "731:\tlearn: 0.0408362\ttotal: 3.54s\tremaining: 1.3s\n",
      "732:\tlearn: 0.0407526\ttotal: 3.54s\tremaining: 1.29s\n",
      "733:\tlearn: 0.0406354\ttotal: 3.55s\tremaining: 1.29s\n",
      "734:\tlearn: 0.0405887\ttotal: 3.55s\tremaining: 1.28s\n",
      "735:\tlearn: 0.0405512\ttotal: 3.56s\tremaining: 1.27s\n",
      "736:\tlearn: 0.0404423\ttotal: 3.56s\tremaining: 1.27s\n",
      "737:\tlearn: 0.0403453\ttotal: 3.57s\tremaining: 1.26s\n",
      "738:\tlearn: 0.0403112\ttotal: 3.57s\tremaining: 1.26s\n",
      "739:\tlearn: 0.0402422\ttotal: 3.57s\tremaining: 1.26s\n",
      "740:\tlearn: 0.0401611\ttotal: 3.58s\tremaining: 1.25s\n",
      "741:\tlearn: 0.0400293\ttotal: 3.58s\tremaining: 1.25s\n",
      "742:\tlearn: 0.0399717\ttotal: 3.59s\tremaining: 1.24s\n",
      "743:\tlearn: 0.0399092\ttotal: 3.59s\tremaining: 1.24s\n",
      "744:\tlearn: 0.0397579\ttotal: 3.6s\tremaining: 1.23s\n",
      "745:\tlearn: 0.0396963\ttotal: 3.6s\tremaining: 1.23s\n",
      "746:\tlearn: 0.0396253\ttotal: 3.6s\tremaining: 1.22s\n",
      "747:\tlearn: 0.0395609\ttotal: 3.61s\tremaining: 1.22s\n",
      "748:\tlearn: 0.0394859\ttotal: 3.61s\tremaining: 1.21s\n",
      "749:\tlearn: 0.0393929\ttotal: 3.62s\tremaining: 1.21s\n",
      "750:\tlearn: 0.0393095\ttotal: 3.62s\tremaining: 1.2s\n",
      "751:\tlearn: 0.0392277\ttotal: 3.63s\tremaining: 1.2s\n",
      "752:\tlearn: 0.0391546\ttotal: 3.63s\tremaining: 1.19s\n",
      "753:\tlearn: 0.0390469\ttotal: 3.63s\tremaining: 1.19s\n",
      "754:\tlearn: 0.0389688\ttotal: 3.64s\tremaining: 1.18s\n",
      "755:\tlearn: 0.0389034\ttotal: 3.64s\tremaining: 1.18s\n",
      "756:\tlearn: 0.0388320\ttotal: 3.65s\tremaining: 1.17s\n",
      "757:\tlearn: 0.0387693\ttotal: 3.66s\tremaining: 1.17s\n",
      "758:\tlearn: 0.0387360\ttotal: 3.67s\tremaining: 1.17s\n",
      "759:\tlearn: 0.0386765\ttotal: 3.68s\tremaining: 1.16s\n",
      "760:\tlearn: 0.0386108\ttotal: 3.68s\tremaining: 1.16s\n",
      "761:\tlearn: 0.0385280\ttotal: 3.69s\tremaining: 1.15s\n",
      "762:\tlearn: 0.0384557\ttotal: 3.69s\tremaining: 1.15s\n",
      "763:\tlearn: 0.0383826\ttotal: 3.69s\tremaining: 1.14s\n",
      "764:\tlearn: 0.0382904\ttotal: 3.7s\tremaining: 1.14s\n",
      "765:\tlearn: 0.0382386\ttotal: 3.7s\tremaining: 1.13s\n",
      "766:\tlearn: 0.0381617\ttotal: 3.71s\tremaining: 1.13s\n",
      "767:\tlearn: 0.0381024\ttotal: 3.71s\tremaining: 1.12s\n",
      "768:\tlearn: 0.0380075\ttotal: 3.72s\tremaining: 1.12s\n",
      "769:\tlearn: 0.0379244\ttotal: 3.72s\tremaining: 1.11s\n",
      "770:\tlearn: 0.0378085\ttotal: 3.73s\tremaining: 1.11s\n",
      "771:\tlearn: 0.0377242\ttotal: 3.73s\tremaining: 1.1s\n",
      "772:\tlearn: 0.0376536\ttotal: 3.74s\tremaining: 1.1s\n",
      "773:\tlearn: 0.0375683\ttotal: 3.74s\tremaining: 1.09s\n",
      "774:\tlearn: 0.0375140\ttotal: 3.75s\tremaining: 1.09s\n",
      "775:\tlearn: 0.0374374\ttotal: 3.75s\tremaining: 1.08s\n",
      "776:\tlearn: 0.0373510\ttotal: 3.76s\tremaining: 1.08s\n",
      "777:\tlearn: 0.0373126\ttotal: 3.76s\tremaining: 1.07s\n",
      "778:\tlearn: 0.0372186\ttotal: 3.77s\tremaining: 1.07s\n",
      "779:\tlearn: 0.0371323\ttotal: 3.77s\tremaining: 1.06s\n",
      "780:\tlearn: 0.0370394\ttotal: 3.78s\tremaining: 1.06s\n",
      "781:\tlearn: 0.0369279\ttotal: 3.78s\tremaining: 1.05s\n",
      "782:\tlearn: 0.0368896\ttotal: 3.79s\tremaining: 1.05s\n",
      "783:\tlearn: 0.0367778\ttotal: 3.79s\tremaining: 1.04s\n",
      "784:\tlearn: 0.0366822\ttotal: 3.79s\tremaining: 1.04s\n",
      "785:\tlearn: 0.0366085\ttotal: 3.8s\tremaining: 1.03s\n",
      "786:\tlearn: 0.0365331\ttotal: 3.8s\tremaining: 1.03s\n",
      "787:\tlearn: 0.0364098\ttotal: 3.81s\tremaining: 1.02s\n",
      "788:\tlearn: 0.0362978\ttotal: 3.81s\tremaining: 1.02s\n",
      "789:\tlearn: 0.0362151\ttotal: 3.82s\tremaining: 1.01s\n",
      "790:\tlearn: 0.0361189\ttotal: 3.82s\tremaining: 1.01s\n",
      "791:\tlearn: 0.0360654\ttotal: 3.83s\tremaining: 1s\n",
      "792:\tlearn: 0.0360018\ttotal: 3.83s\tremaining: 1s\n",
      "793:\tlearn: 0.0358998\ttotal: 3.83s\tremaining: 995ms\n",
      "794:\tlearn: 0.0358504\ttotal: 3.84s\tremaining: 990ms\n",
      "795:\tlearn: 0.0357844\ttotal: 3.84s\tremaining: 985ms\n",
      "796:\tlearn: 0.0357311\ttotal: 3.85s\tremaining: 980ms\n",
      "797:\tlearn: 0.0356463\ttotal: 3.85s\tremaining: 975ms\n",
      "798:\tlearn: 0.0355718\ttotal: 3.86s\tremaining: 971ms\n",
      "799:\tlearn: 0.0355177\ttotal: 3.86s\tremaining: 966ms\n",
      "800:\tlearn: 0.0354309\ttotal: 3.87s\tremaining: 961ms\n",
      "801:\tlearn: 0.0353484\ttotal: 3.87s\tremaining: 956ms\n",
      "802:\tlearn: 0.0352685\ttotal: 3.88s\tremaining: 951ms\n",
      "803:\tlearn: 0.0351638\ttotal: 3.88s\tremaining: 947ms\n",
      "804:\tlearn: 0.0350454\ttotal: 3.89s\tremaining: 942ms\n",
      "805:\tlearn: 0.0349561\ttotal: 3.89s\tremaining: 937ms\n",
      "806:\tlearn: 0.0348686\ttotal: 3.9s\tremaining: 932ms\n",
      "807:\tlearn: 0.0347975\ttotal: 3.9s\tremaining: 927ms\n",
      "808:\tlearn: 0.0347322\ttotal: 3.91s\tremaining: 922ms\n",
      "809:\tlearn: 0.0346775\ttotal: 3.91s\tremaining: 917ms\n",
      "810:\tlearn: 0.0346139\ttotal: 3.92s\tremaining: 913ms\n",
      "811:\tlearn: 0.0345133\ttotal: 3.92s\tremaining: 908ms\n",
      "812:\tlearn: 0.0344318\ttotal: 3.92s\tremaining: 903ms\n",
      "813:\tlearn: 0.0343791\ttotal: 3.93s\tremaining: 898ms\n",
      "814:\tlearn: 0.0343261\ttotal: 3.93s\tremaining: 893ms\n",
      "815:\tlearn: 0.0342725\ttotal: 3.94s\tremaining: 888ms\n",
      "816:\tlearn: 0.0342090\ttotal: 3.94s\tremaining: 883ms\n",
      "817:\tlearn: 0.0341560\ttotal: 3.95s\tremaining: 878ms\n",
      "818:\tlearn: 0.0340540\ttotal: 3.95s\tremaining: 873ms\n",
      "819:\tlearn: 0.0340002\ttotal: 3.96s\tremaining: 869ms\n",
      "820:\tlearn: 0.0339163\ttotal: 3.96s\tremaining: 864ms\n",
      "821:\tlearn: 0.0338434\ttotal: 3.96s\tremaining: 859ms\n",
      "822:\tlearn: 0.0337783\ttotal: 3.97s\tremaining: 854ms\n",
      "823:\tlearn: 0.0337123\ttotal: 3.97s\tremaining: 849ms\n",
      "824:\tlearn: 0.0336625\ttotal: 3.98s\tremaining: 844ms\n",
      "825:\tlearn: 0.0335453\ttotal: 3.98s\tremaining: 839ms\n",
      "826:\tlearn: 0.0334369\ttotal: 3.99s\tremaining: 834ms\n",
      "827:\tlearn: 0.0333822\ttotal: 3.99s\tremaining: 829ms\n",
      "828:\tlearn: 0.0332959\ttotal: 4.01s\tremaining: 827ms\n",
      "829:\tlearn: 0.0331988\ttotal: 4.01s\tremaining: 822ms\n",
      "830:\tlearn: 0.0331618\ttotal: 4.02s\tremaining: 817ms\n",
      "831:\tlearn: 0.0331143\ttotal: 4.02s\tremaining: 812ms\n",
      "832:\tlearn: 0.0330280\ttotal: 4.03s\tremaining: 807ms\n",
      "833:\tlearn: 0.0329489\ttotal: 4.03s\tremaining: 802ms\n",
      "834:\tlearn: 0.0328981\ttotal: 4.04s\tremaining: 797ms\n",
      "835:\tlearn: 0.0328566\ttotal: 4.04s\tremaining: 792ms\n",
      "836:\tlearn: 0.0327742\ttotal: 4.04s\tremaining: 788ms\n",
      "837:\tlearn: 0.0327095\ttotal: 4.05s\tremaining: 783ms\n",
      "838:\tlearn: 0.0326492\ttotal: 4.05s\tremaining: 778ms\n",
      "839:\tlearn: 0.0325793\ttotal: 4.06s\tremaining: 773ms\n",
      "840:\tlearn: 0.0324906\ttotal: 4.06s\tremaining: 768ms\n",
      "841:\tlearn: 0.0324118\ttotal: 4.07s\tremaining: 763ms\n",
      "842:\tlearn: 0.0323398\ttotal: 4.07s\tremaining: 758ms\n",
      "843:\tlearn: 0.0322639\ttotal: 4.08s\tremaining: 753ms\n",
      "844:\tlearn: 0.0322136\ttotal: 4.08s\tremaining: 748ms\n",
      "845:\tlearn: 0.0321347\ttotal: 4.08s\tremaining: 743ms\n",
      "846:\tlearn: 0.0320754\ttotal: 4.09s\tremaining: 738ms\n",
      "847:\tlearn: 0.0319720\ttotal: 4.09s\tremaining: 733ms\n",
      "848:\tlearn: 0.0319108\ttotal: 4.1s\tremaining: 729ms\n",
      "849:\tlearn: 0.0318308\ttotal: 4.1s\tremaining: 724ms\n",
      "850:\tlearn: 0.0317719\ttotal: 4.11s\tremaining: 719ms\n",
      "851:\tlearn: 0.0316990\ttotal: 4.11s\tremaining: 714ms\n",
      "852:\tlearn: 0.0316312\ttotal: 4.11s\tremaining: 709ms\n",
      "853:\tlearn: 0.0315767\ttotal: 4.12s\tremaining: 704ms\n",
      "854:\tlearn: 0.0314977\ttotal: 4.12s\tremaining: 699ms\n",
      "855:\tlearn: 0.0314542\ttotal: 4.13s\tremaining: 694ms\n",
      "856:\tlearn: 0.0313759\ttotal: 4.13s\tremaining: 690ms\n",
      "857:\tlearn: 0.0313219\ttotal: 4.14s\tremaining: 685ms\n",
      "858:\tlearn: 0.0313023\ttotal: 4.14s\tremaining: 680ms\n",
      "859:\tlearn: 0.0312436\ttotal: 4.15s\tremaining: 675ms\n",
      "860:\tlearn: 0.0312063\ttotal: 4.15s\tremaining: 670ms\n",
      "861:\tlearn: 0.0311611\ttotal: 4.16s\tremaining: 666ms\n",
      "862:\tlearn: 0.0311029\ttotal: 4.16s\tremaining: 661ms\n",
      "863:\tlearn: 0.0310422\ttotal: 4.17s\tremaining: 656ms\n",
      "864:\tlearn: 0.0309774\ttotal: 4.17s\tremaining: 651ms\n",
      "865:\tlearn: 0.0308915\ttotal: 4.17s\tremaining: 646ms\n",
      "866:\tlearn: 0.0308066\ttotal: 4.18s\tremaining: 641ms\n",
      "867:\tlearn: 0.0307478\ttotal: 4.18s\tremaining: 636ms\n",
      "868:\tlearn: 0.0306500\ttotal: 4.19s\tremaining: 631ms\n",
      "869:\tlearn: 0.0305614\ttotal: 4.19s\tremaining: 626ms\n",
      "870:\tlearn: 0.0305060\ttotal: 4.2s\tremaining: 622ms\n",
      "871:\tlearn: 0.0304605\ttotal: 4.2s\tremaining: 617ms\n",
      "872:\tlearn: 0.0304295\ttotal: 4.21s\tremaining: 612ms\n",
      "873:\tlearn: 0.0304024\ttotal: 4.21s\tremaining: 607ms\n",
      "874:\tlearn: 0.0303595\ttotal: 4.21s\tremaining: 602ms\n",
      "875:\tlearn: 0.0302934\ttotal: 4.22s\tremaining: 597ms\n",
      "876:\tlearn: 0.0302436\ttotal: 4.22s\tremaining: 592ms\n",
      "877:\tlearn: 0.0301764\ttotal: 4.23s\tremaining: 587ms\n",
      "878:\tlearn: 0.0301466\ttotal: 4.23s\tremaining: 583ms\n",
      "879:\tlearn: 0.0300707\ttotal: 4.24s\tremaining: 578ms\n",
      "880:\tlearn: 0.0300021\ttotal: 4.24s\tremaining: 573ms\n",
      "881:\tlearn: 0.0299309\ttotal: 4.24s\tremaining: 568ms\n",
      "882:\tlearn: 0.0298502\ttotal: 4.25s\tremaining: 563ms\n",
      "883:\tlearn: 0.0298113\ttotal: 4.25s\tremaining: 558ms\n",
      "884:\tlearn: 0.0297675\ttotal: 4.26s\tremaining: 553ms\n",
      "885:\tlearn: 0.0297061\ttotal: 4.26s\tremaining: 549ms\n",
      "886:\tlearn: 0.0296321\ttotal: 4.27s\tremaining: 544ms\n",
      "887:\tlearn: 0.0295939\ttotal: 4.27s\tremaining: 539ms\n",
      "888:\tlearn: 0.0295303\ttotal: 4.27s\tremaining: 534ms\n",
      "889:\tlearn: 0.0294767\ttotal: 4.28s\tremaining: 529ms\n",
      "890:\tlearn: 0.0294103\ttotal: 4.28s\tremaining: 524ms\n",
      "891:\tlearn: 0.0293679\ttotal: 4.29s\tremaining: 519ms\n",
      "892:\tlearn: 0.0292984\ttotal: 4.29s\tremaining: 515ms\n",
      "893:\tlearn: 0.0292478\ttotal: 4.3s\tremaining: 510ms\n",
      "894:\tlearn: 0.0291797\ttotal: 4.3s\tremaining: 505ms\n",
      "895:\tlearn: 0.0291241\ttotal: 4.31s\tremaining: 500ms\n",
      "896:\tlearn: 0.0290437\ttotal: 4.31s\tremaining: 495ms\n",
      "897:\tlearn: 0.0289961\ttotal: 4.32s\tremaining: 491ms\n",
      "898:\tlearn: 0.0289349\ttotal: 4.32s\tremaining: 486ms\n",
      "899:\tlearn: 0.0288727\ttotal: 4.33s\tremaining: 481ms\n",
      "900:\tlearn: 0.0288302\ttotal: 4.33s\tremaining: 476ms\n",
      "901:\tlearn: 0.0287765\ttotal: 4.34s\tremaining: 472ms\n",
      "902:\tlearn: 0.0287343\ttotal: 4.34s\tremaining: 467ms\n",
      "903:\tlearn: 0.0286546\ttotal: 4.35s\tremaining: 462ms\n",
      "904:\tlearn: 0.0286081\ttotal: 4.35s\tremaining: 457ms\n",
      "905:\tlearn: 0.0285542\ttotal: 4.36s\tremaining: 452ms\n",
      "906:\tlearn: 0.0284924\ttotal: 4.36s\tremaining: 447ms\n",
      "907:\tlearn: 0.0284113\ttotal: 4.36s\tremaining: 442ms\n",
      "908:\tlearn: 0.0283562\ttotal: 4.37s\tremaining: 437ms\n",
      "909:\tlearn: 0.0282862\ttotal: 4.37s\tremaining: 433ms\n",
      "910:\tlearn: 0.0282487\ttotal: 4.38s\tremaining: 428ms\n",
      "911:\tlearn: 0.0281803\ttotal: 4.38s\tremaining: 423ms\n",
      "912:\tlearn: 0.0281304\ttotal: 4.39s\tremaining: 418ms\n",
      "913:\tlearn: 0.0280721\ttotal: 4.39s\tremaining: 413ms\n",
      "914:\tlearn: 0.0280089\ttotal: 4.4s\tremaining: 409ms\n",
      "915:\tlearn: 0.0279717\ttotal: 4.4s\tremaining: 404ms\n",
      "916:\tlearn: 0.0279360\ttotal: 4.41s\tremaining: 399ms\n",
      "917:\tlearn: 0.0278758\ttotal: 4.41s\tremaining: 394ms\n",
      "918:\tlearn: 0.0277997\ttotal: 4.42s\tremaining: 389ms\n",
      "919:\tlearn: 0.0277312\ttotal: 4.42s\tremaining: 385ms\n",
      "920:\tlearn: 0.0276688\ttotal: 4.42s\tremaining: 380ms\n",
      "921:\tlearn: 0.0276051\ttotal: 4.43s\tremaining: 375ms\n",
      "922:\tlearn: 0.0275400\ttotal: 4.43s\tremaining: 370ms\n",
      "923:\tlearn: 0.0274884\ttotal: 4.44s\tremaining: 365ms\n",
      "924:\tlearn: 0.0274600\ttotal: 4.44s\tremaining: 360ms\n",
      "925:\tlearn: 0.0274333\ttotal: 4.45s\tremaining: 356ms\n",
      "926:\tlearn: 0.0273617\ttotal: 4.45s\tremaining: 351ms\n",
      "927:\tlearn: 0.0272847\ttotal: 4.46s\tremaining: 346ms\n",
      "928:\tlearn: 0.0271989\ttotal: 4.46s\tremaining: 341ms\n",
      "929:\tlearn: 0.0271691\ttotal: 4.47s\tremaining: 336ms\n",
      "930:\tlearn: 0.0270752\ttotal: 4.47s\tremaining: 331ms\n",
      "931:\tlearn: 0.0270244\ttotal: 4.48s\tremaining: 327ms\n",
      "932:\tlearn: 0.0269658\ttotal: 4.48s\tremaining: 322ms\n",
      "933:\tlearn: 0.0269214\ttotal: 4.48s\tremaining: 317ms\n",
      "934:\tlearn: 0.0268656\ttotal: 4.49s\tremaining: 312ms\n",
      "935:\tlearn: 0.0267905\ttotal: 4.49s\tremaining: 307ms\n",
      "936:\tlearn: 0.0267516\ttotal: 4.5s\tremaining: 302ms\n",
      "937:\tlearn: 0.0266917\ttotal: 4.5s\tremaining: 298ms\n",
      "938:\tlearn: 0.0266188\ttotal: 4.51s\tremaining: 293ms\n",
      "939:\tlearn: 0.0265412\ttotal: 4.51s\tremaining: 288ms\n",
      "940:\tlearn: 0.0264900\ttotal: 4.52s\tremaining: 283ms\n",
      "941:\tlearn: 0.0264203\ttotal: 4.52s\tremaining: 278ms\n",
      "942:\tlearn: 0.0263939\ttotal: 4.52s\tremaining: 274ms\n",
      "943:\tlearn: 0.0263132\ttotal: 4.54s\tremaining: 269ms\n",
      "944:\tlearn: 0.0262605\ttotal: 4.54s\tremaining: 264ms\n",
      "945:\tlearn: 0.0261970\ttotal: 4.55s\tremaining: 260ms\n",
      "946:\tlearn: 0.0261375\ttotal: 4.55s\tremaining: 255ms\n",
      "947:\tlearn: 0.0260937\ttotal: 4.55s\tremaining: 250ms\n",
      "948:\tlearn: 0.0260604\ttotal: 4.56s\tremaining: 245ms\n",
      "949:\tlearn: 0.0259845\ttotal: 4.56s\tremaining: 240ms\n",
      "950:\tlearn: 0.0259334\ttotal: 4.57s\tremaining: 235ms\n",
      "951:\tlearn: 0.0258810\ttotal: 4.57s\tremaining: 230ms\n",
      "952:\tlearn: 0.0258322\ttotal: 4.58s\tremaining: 226ms\n",
      "953:\tlearn: 0.0257788\ttotal: 4.58s\tremaining: 221ms\n",
      "954:\tlearn: 0.0257320\ttotal: 4.58s\tremaining: 216ms\n",
      "955:\tlearn: 0.0257072\ttotal: 4.59s\tremaining: 211ms\n",
      "956:\tlearn: 0.0256601\ttotal: 4.59s\tremaining: 206ms\n",
      "957:\tlearn: 0.0255835\ttotal: 4.6s\tremaining: 202ms\n",
      "958:\tlearn: 0.0255663\ttotal: 4.6s\tremaining: 197ms\n",
      "959:\tlearn: 0.0255086\ttotal: 4.61s\tremaining: 192ms\n",
      "960:\tlearn: 0.0254321\ttotal: 4.61s\tremaining: 187ms\n",
      "961:\tlearn: 0.0253997\ttotal: 4.62s\tremaining: 182ms\n",
      "962:\tlearn: 0.0253331\ttotal: 4.62s\tremaining: 178ms\n",
      "963:\tlearn: 0.0253072\ttotal: 4.62s\tremaining: 173ms\n",
      "964:\tlearn: 0.0252440\ttotal: 4.63s\tremaining: 168ms\n",
      "965:\tlearn: 0.0252005\ttotal: 4.63s\tremaining: 163ms\n",
      "966:\tlearn: 0.0251550\ttotal: 4.64s\tremaining: 158ms\n",
      "967:\tlearn: 0.0250719\ttotal: 4.64s\tremaining: 153ms\n",
      "968:\tlearn: 0.0250218\ttotal: 4.65s\tremaining: 149ms\n",
      "969:\tlearn: 0.0249941\ttotal: 4.65s\tremaining: 144ms\n",
      "970:\tlearn: 0.0249329\ttotal: 4.66s\tremaining: 139ms\n",
      "971:\tlearn: 0.0248743\ttotal: 4.66s\tremaining: 134ms\n",
      "972:\tlearn: 0.0248255\ttotal: 4.67s\tremaining: 129ms\n",
      "973:\tlearn: 0.0247448\ttotal: 4.67s\tremaining: 125ms\n",
      "974:\tlearn: 0.0247078\ttotal: 4.67s\tremaining: 120ms\n",
      "975:\tlearn: 0.0246525\ttotal: 4.68s\tremaining: 115ms\n",
      "976:\tlearn: 0.0245916\ttotal: 4.68s\tremaining: 110ms\n",
      "977:\tlearn: 0.0245540\ttotal: 4.69s\tremaining: 105ms\n",
      "978:\tlearn: 0.0245008\ttotal: 4.69s\tremaining: 101ms\n",
      "979:\tlearn: 0.0244294\ttotal: 4.7s\tremaining: 95.9ms\n",
      "980:\tlearn: 0.0243694\ttotal: 4.7s\tremaining: 91.1ms\n",
      "981:\tlearn: 0.0243200\ttotal: 4.71s\tremaining: 86.2ms\n",
      "982:\tlearn: 0.0242522\ttotal: 4.71s\tremaining: 81.5ms\n",
      "983:\tlearn: 0.0242172\ttotal: 4.71s\tremaining: 76.7ms\n",
      "984:\tlearn: 0.0241662\ttotal: 4.72s\tremaining: 71.9ms\n",
      "985:\tlearn: 0.0241122\ttotal: 4.72s\tremaining: 67.1ms\n",
      "986:\tlearn: 0.0240561\ttotal: 4.73s\tremaining: 62.3ms\n",
      "987:\tlearn: 0.0240117\ttotal: 4.73s\tremaining: 57.5ms\n",
      "988:\tlearn: 0.0239585\ttotal: 4.74s\tremaining: 52.7ms\n",
      "989:\tlearn: 0.0239371\ttotal: 4.74s\tremaining: 47.9ms\n",
      "990:\tlearn: 0.0238912\ttotal: 4.75s\tremaining: 43.1ms\n",
      "991:\tlearn: 0.0238338\ttotal: 4.75s\tremaining: 38.3ms\n",
      "992:\tlearn: 0.0238021\ttotal: 4.75s\tremaining: 33.5ms\n",
      "993:\tlearn: 0.0237672\ttotal: 4.76s\tremaining: 28.7ms\n",
      "994:\tlearn: 0.0237236\ttotal: 4.76s\tremaining: 23.9ms\n",
      "995:\tlearn: 0.0236940\ttotal: 4.77s\tremaining: 19.1ms\n",
      "996:\tlearn: 0.0236636\ttotal: 4.77s\tremaining: 14.4ms\n",
      "997:\tlearn: 0.0236181\ttotal: 4.78s\tremaining: 9.57ms\n",
      "998:\tlearn: 0.0235623\ttotal: 4.78s\tremaining: 4.79ms\n",
      "999:\tlearn: 0.0235091\ttotal: 4.78s\tremaining: 0us\n"
     ]
    },
    {
     "data": {
      "text/plain": [
       "0.967741935483871"
      ]
     },
     "execution_count": 13,
     "metadata": {},
     "output_type": "execute_result"
    }
   ],
   "source": [
    "from catboost import CatBoost, CatBoostClassifier\n",
    "cat = CatBoostClassifier(random_state=42)\n",
    "cat.fit(x_train, y_train['Class'])\n",
    "cat_pred = cat.predict(x_test)\n",
    "y_pred = cat.predict_proba(x_test)\n",
    "cat_accuracy = accuracy_score(cat_pred, y_test['Class'])\n",
    "\n",
    "cat_accuracy"
   ]
  },
  {
   "cell_type": "code",
   "execution_count": 14,
   "metadata": {},
   "outputs": [
    {
     "data": {
      "text/plain": [
       "0.3366599987328377"
      ]
     },
     "execution_count": 14,
     "metadata": {},
     "output_type": "execute_result"
    }
   ],
   "source": [
    "p0 = y_pred[:,1]\n",
    "# p0[p0 > 0.90] = 1\n",
    "# p0[p0 < 0.10] = 0\n",
    "ScoreMetric(y_test['Class'], p0)\n",
    "# p0"
   ]
  },
  {
   "cell_type": "markdown",
   "metadata": {},
   "source": [
    "# 正式的KFold交叉验证 + Optuna模型调参"
   ]
  },
  {
   "cell_type": "code",
   "execution_count": 15,
   "metadata": {},
   "outputs": [],
   "source": [
    "import optuna, tune\n",
    "\n",
    "from optuna.samplers import TPESampler\n",
    "from optuna.visualization import plot_contour\n",
    "from optuna.visualization import plot_edf\n",
    "from optuna.visualization import plot_intermediate_values\n",
    "from optuna.visualization import plot_optimization_history\n",
    "from optuna.visualization import plot_parallel_coordinate\n",
    "from optuna.visualization import plot_param_importances\n",
    "from optuna.visualization import plot_slice\n",
    "\n",
    "from sklearn.model_selection import GridSearchCV, cross_val_score, cross_validate\n",
    "from sklearn.metrics import confusion_matrix, roc_curve, roc_auc_score, log_loss\n",
    "from sklearn.metrics import make_scorer, accuracy_score, log_loss\n",
    "from sklearn.model_selection import ShuffleSplit, StratifiedShuffleSplit\n",
    "\n",
    "# fold\n",
    "from sklearn.model_selection import KFold, StratifiedKFold\n"
   ]
  },
  {
   "cell_type": "code",
   "execution_count": 17,
   "metadata": {},
   "outputs": [
    {
     "name": "stderr",
     "output_type": "stream",
     "text": [
      "[I 2023-08-03 00:04:57,120] A new study created in memory with name: no-name-dc8804f5-5695-41d5-bb68-1d8b4bc0cf22\n",
      "[W 2023-08-03 00:04:59,381] Trial 0 failed with parameters: {'objective': 'CrossEntropy', 'colsample_bylevel': 0.05395030966670229, 'depth': 8, 'boosting_type': 'Ordered', 'bootstrap_type': 'Bernoulli', 'learning_rate': 0.11114989443094977, 'n_estimators': 262, 'early_stopping_rounds': 391, 'subsample': 0.6798962421591127} because of the following error: KeyboardInterrupt('').\n",
      "Traceback (most recent call last):\n",
      "  File \"c:\\Users\\111\\AppData\\Local\\Programs\\Python\\Python38\\lib\\site-packages\\optuna\\study\\_optimize.py\", line 200, in _run_trial\n",
      "    value_or_values = func(trial)\n",
      "  File \"C:\\Users\\111\\AppData\\Local\\Temp\\ipykernel_21436\\3754446640.py\", line 31, in objective\n",
      "    classifier.fit(x_train_, y_train_, eval_set=[(x_val, y_val)], verbose=False)\n",
      "  File \"c:\\Users\\111\\AppData\\Local\\Programs\\Python\\Python38\\lib\\site-packages\\catboost\\core.py\", line 5131, in fit\n",
      "    self._fit(X, y, cat_features, text_features, embedding_features, None, sample_weight, None, None, None, None, baseline, use_best_model,\n",
      "  File \"c:\\Users\\111\\AppData\\Local\\Programs\\Python\\Python38\\lib\\site-packages\\catboost\\core.py\", line 2357, in _fit\n",
      "    self._train(\n",
      "  File \"c:\\Users\\111\\AppData\\Local\\Programs\\Python\\Python38\\lib\\site-packages\\catboost\\core.py\", line 1761, in _train\n",
      "    self._object._train(train_pool, test_pool, params, allow_clear_pool, init_model._object if init_model else None)\n",
      "  File \"_catboost.pyx\", line 4624, in _catboost._CatBoost._train\n",
      "  File \"_catboost.pyx\", line 4673, in _catboost._CatBoost._train\n",
      "KeyboardInterrupt\n",
      "[W 2023-08-03 00:04:59,383] Trial 0 failed with value None.\n"
     ]
    },
    {
     "ename": "KeyboardInterrupt",
     "evalue": "",
     "output_type": "error",
     "traceback": [
      "\u001b[1;31m---------------------------------------------------------------------------\u001b[0m",
      "\u001b[1;31mKeyboardInterrupt\u001b[0m                         Traceback (most recent call last)",
      "Cell \u001b[1;32mIn[17], line 40\u001b[0m\n\u001b[0;32m     38\u001b[0m pruner \u001b[38;5;241m=\u001b[39m optuna\u001b[38;5;241m.\u001b[39mpruners\u001b[38;5;241m.\u001b[39mMedianPruner(n_warmup_steps\u001b[38;5;241m=\u001b[39m\u001b[38;5;241m10\u001b[39m)\n\u001b[0;32m     39\u001b[0m study \u001b[38;5;241m=\u001b[39m optuna\u001b[38;5;241m.\u001b[39mcreate_study(pruner\u001b[38;5;241m=\u001b[39mpruner, direction\u001b[38;5;241m=\u001b[39m\u001b[38;5;124m\"\u001b[39m\u001b[38;5;124mminimize\u001b[39m\u001b[38;5;124m\"\u001b[39m, sampler\u001b[38;5;241m=\u001b[39msampler)\n\u001b[1;32m---> 40\u001b[0m \u001b[43mstudy\u001b[49m\u001b[38;5;241;43m.\u001b[39;49m\u001b[43moptimize\u001b[49m\u001b[43m(\u001b[49m\u001b[43mobjective\u001b[49m\u001b[43m,\u001b[49m\u001b[43m \u001b[49m\u001b[43mn_trials\u001b[49m\u001b[38;5;241;43m=\u001b[39;49m\u001b[38;5;241;43m500\u001b[39;49m\u001b[43m)\u001b[49m\n\u001b[0;32m     42\u001b[0m \u001b[38;5;28mprint\u001b[39m(\u001b[38;5;124m\"\u001b[39m\u001b[38;5;124mNumber of finished trials: \u001b[39m\u001b[38;5;132;01m{}\u001b[39;00m\u001b[38;5;124m\"\u001b[39m\u001b[38;5;241m.\u001b[39mformat(\u001b[38;5;28mlen\u001b[39m(study\u001b[38;5;241m.\u001b[39mtrials)))\n\u001b[0;32m     43\u001b[0m \u001b[38;5;28mprint\u001b[39m(\u001b[38;5;124m\"\u001b[39m\u001b[38;5;124mBest trial:\u001b[39m\u001b[38;5;124m\"\u001b[39m)\n",
      "File \u001b[1;32mc:\\Users\\111\\AppData\\Local\\Programs\\Python\\Python38\\lib\\site-packages\\optuna\\study\\study.py:443\u001b[0m, in \u001b[0;36mStudy.optimize\u001b[1;34m(self, func, n_trials, timeout, n_jobs, catch, callbacks, gc_after_trial, show_progress_bar)\u001b[0m\n\u001b[0;32m    339\u001b[0m \u001b[39mdef\u001b[39;00m \u001b[39moptimize\u001b[39m(\n\u001b[0;32m    340\u001b[0m     \u001b[39mself\u001b[39m,\n\u001b[0;32m    341\u001b[0m     func: ObjectiveFuncType,\n\u001b[1;32m   (...)\u001b[0m\n\u001b[0;32m    348\u001b[0m     show_progress_bar: \u001b[39mbool\u001b[39m \u001b[39m=\u001b[39m \u001b[39mFalse\u001b[39;00m,\n\u001b[0;32m    349\u001b[0m ) \u001b[39m-\u001b[39m\u001b[39m>\u001b[39m \u001b[39mNone\u001b[39;00m:\n\u001b[0;32m    350\u001b[0m     \u001b[39m\"\"\"Optimize an objective function.\u001b[39;00m\n\u001b[0;32m    351\u001b[0m \n\u001b[0;32m    352\u001b[0m \u001b[39m    Optimization is done by choosing a suitable set of hyperparameter values from a given\u001b[39;00m\n\u001b[1;32m   (...)\u001b[0m\n\u001b[0;32m    440\u001b[0m \u001b[39m            If nested invocation of this method occurs.\u001b[39;00m\n\u001b[0;32m    441\u001b[0m \u001b[39m    \"\"\"\u001b[39;00m\n\u001b[1;32m--> 443\u001b[0m     _optimize(\n\u001b[0;32m    444\u001b[0m         study\u001b[39m=\u001b[39;49m\u001b[39mself\u001b[39;49m,\n\u001b[0;32m    445\u001b[0m         func\u001b[39m=\u001b[39;49mfunc,\n\u001b[0;32m    446\u001b[0m         n_trials\u001b[39m=\u001b[39;49mn_trials,\n\u001b[0;32m    447\u001b[0m         timeout\u001b[39m=\u001b[39;49mtimeout,\n\u001b[0;32m    448\u001b[0m         n_jobs\u001b[39m=\u001b[39;49mn_jobs,\n\u001b[0;32m    449\u001b[0m         catch\u001b[39m=\u001b[39;49m\u001b[39mtuple\u001b[39;49m(catch) \u001b[39mif\u001b[39;49;00m \u001b[39misinstance\u001b[39;49m(catch, Iterable) \u001b[39melse\u001b[39;49;00m (catch,),\n\u001b[0;32m    450\u001b[0m         callbacks\u001b[39m=\u001b[39;49mcallbacks,\n\u001b[0;32m    451\u001b[0m         gc_after_trial\u001b[39m=\u001b[39;49mgc_after_trial,\n\u001b[0;32m    452\u001b[0m         show_progress_bar\u001b[39m=\u001b[39;49mshow_progress_bar,\n\u001b[0;32m    453\u001b[0m     )\n",
      "File \u001b[1;32mc:\\Users\\111\\AppData\\Local\\Programs\\Python\\Python38\\lib\\site-packages\\optuna\\study\\_optimize.py:66\u001b[0m, in \u001b[0;36m_optimize\u001b[1;34m(study, func, n_trials, timeout, n_jobs, catch, callbacks, gc_after_trial, show_progress_bar)\u001b[0m\n\u001b[0;32m     64\u001b[0m \u001b[39mtry\u001b[39;00m:\n\u001b[0;32m     65\u001b[0m     \u001b[39mif\u001b[39;00m n_jobs \u001b[39m==\u001b[39m \u001b[39m1\u001b[39m:\n\u001b[1;32m---> 66\u001b[0m         _optimize_sequential(\n\u001b[0;32m     67\u001b[0m             study,\n\u001b[0;32m     68\u001b[0m             func,\n\u001b[0;32m     69\u001b[0m             n_trials,\n\u001b[0;32m     70\u001b[0m             timeout,\n\u001b[0;32m     71\u001b[0m             catch,\n\u001b[0;32m     72\u001b[0m             callbacks,\n\u001b[0;32m     73\u001b[0m             gc_after_trial,\n\u001b[0;32m     74\u001b[0m             reseed_sampler_rng\u001b[39m=\u001b[39;49m\u001b[39mFalse\u001b[39;49;00m,\n\u001b[0;32m     75\u001b[0m             time_start\u001b[39m=\u001b[39;49m\u001b[39mNone\u001b[39;49;00m,\n\u001b[0;32m     76\u001b[0m             progress_bar\u001b[39m=\u001b[39;49mprogress_bar,\n\u001b[0;32m     77\u001b[0m         )\n\u001b[0;32m     78\u001b[0m     \u001b[39melse\u001b[39;00m:\n\u001b[0;32m     79\u001b[0m         \u001b[39mif\u001b[39;00m n_jobs \u001b[39m==\u001b[39m \u001b[39m-\u001b[39m\u001b[39m1\u001b[39m:\n",
      "File \u001b[1;32mc:\\Users\\111\\AppData\\Local\\Programs\\Python\\Python38\\lib\\site-packages\\optuna\\study\\_optimize.py:163\u001b[0m, in \u001b[0;36m_optimize_sequential\u001b[1;34m(study, func, n_trials, timeout, catch, callbacks, gc_after_trial, reseed_sampler_rng, time_start, progress_bar)\u001b[0m\n\u001b[0;32m    160\u001b[0m         \u001b[39mbreak\u001b[39;00m\n\u001b[0;32m    162\u001b[0m \u001b[39mtry\u001b[39;00m:\n\u001b[1;32m--> 163\u001b[0m     frozen_trial \u001b[39m=\u001b[39m _run_trial(study, func, catch)\n\u001b[0;32m    164\u001b[0m \u001b[39mfinally\u001b[39;00m:\n\u001b[0;32m    165\u001b[0m     \u001b[39m# The following line mitigates memory problems that can be occurred in some\u001b[39;00m\n\u001b[0;32m    166\u001b[0m     \u001b[39m# environments (e.g., services that use computing containers such as GitHub Actions).\u001b[39;00m\n\u001b[0;32m    167\u001b[0m     \u001b[39m# Please refer to the following PR for further details:\u001b[39;00m\n\u001b[0;32m    168\u001b[0m     \u001b[39m# https://github.com/optuna/optuna/pull/325.\u001b[39;00m\n\u001b[0;32m    169\u001b[0m     \u001b[39mif\u001b[39;00m gc_after_trial:\n",
      "File \u001b[1;32mc:\\Users\\111\\AppData\\Local\\Programs\\Python\\Python38\\lib\\site-packages\\optuna\\study\\_optimize.py:251\u001b[0m, in \u001b[0;36m_run_trial\u001b[1;34m(study, func, catch)\u001b[0m\n\u001b[0;32m    244\u001b[0m         \u001b[39massert\u001b[39;00m \u001b[39mFalse\u001b[39;00m, \u001b[39m\"\u001b[39m\u001b[39mShould not reach.\u001b[39m\u001b[39m\"\u001b[39m\n\u001b[0;32m    246\u001b[0m \u001b[39mif\u001b[39;00m (\n\u001b[0;32m    247\u001b[0m     frozen_trial\u001b[39m.\u001b[39mstate \u001b[39m==\u001b[39m TrialState\u001b[39m.\u001b[39mFAIL\n\u001b[0;32m    248\u001b[0m     \u001b[39mand\u001b[39;00m func_err \u001b[39mis\u001b[39;00m \u001b[39mnot\u001b[39;00m \u001b[39mNone\u001b[39;00m\n\u001b[0;32m    249\u001b[0m     \u001b[39mand\u001b[39;00m \u001b[39mnot\u001b[39;00m \u001b[39misinstance\u001b[39m(func_err, catch)\n\u001b[0;32m    250\u001b[0m ):\n\u001b[1;32m--> 251\u001b[0m     \u001b[39mraise\u001b[39;00m func_err\n\u001b[0;32m    252\u001b[0m \u001b[39mreturn\u001b[39;00m frozen_trial\n",
      "File \u001b[1;32mc:\\Users\\111\\AppData\\Local\\Programs\\Python\\Python38\\lib\\site-packages\\optuna\\study\\_optimize.py:200\u001b[0m, in \u001b[0;36m_run_trial\u001b[1;34m(study, func, catch)\u001b[0m\n\u001b[0;32m    198\u001b[0m \u001b[39mwith\u001b[39;00m get_heartbeat_thread(trial\u001b[39m.\u001b[39m_trial_id, study\u001b[39m.\u001b[39m_storage):\n\u001b[0;32m    199\u001b[0m     \u001b[39mtry\u001b[39;00m:\n\u001b[1;32m--> 200\u001b[0m         value_or_values \u001b[39m=\u001b[39m func(trial)\n\u001b[0;32m    201\u001b[0m     \u001b[39mexcept\u001b[39;00m exceptions\u001b[39m.\u001b[39mTrialPruned \u001b[39mas\u001b[39;00m e:\n\u001b[0;32m    202\u001b[0m         \u001b[39m# TODO(mamu): Handle multi-objective cases.\u001b[39;00m\n\u001b[0;32m    203\u001b[0m         state \u001b[39m=\u001b[39m TrialState\u001b[39m.\u001b[39mPRUNED\n",
      "Cell \u001b[1;32mIn[17], line 31\u001b[0m, in \u001b[0;36mobjective\u001b[1;34m(trial)\u001b[0m\n\u001b[0;32m     29\u001b[0m y_train_, y_val \u001b[38;5;241m=\u001b[39m y_train[\u001b[38;5;124m'\u001b[39m\u001b[38;5;124mClass\u001b[39m\u001b[38;5;124m'\u001b[39m]\u001b[38;5;241m.\u001b[39miloc[train_index], y_train[\u001b[38;5;124m'\u001b[39m\u001b[38;5;124mClass\u001b[39m\u001b[38;5;124m'\u001b[39m]\u001b[38;5;241m.\u001b[39miloc[val_index]\n\u001b[0;32m     30\u001b[0m classifier \u001b[38;5;241m=\u001b[39m CatBoostClassifier(\u001b[38;5;241m*\u001b[39m\u001b[38;5;241m*\u001b[39mparam, verbose\u001b[38;5;241m=\u001b[39m\u001b[38;5;28;01mFalse\u001b[39;00m)\n\u001b[1;32m---> 31\u001b[0m \u001b[43mclassifier\u001b[49m\u001b[38;5;241;43m.\u001b[39;49m\u001b[43mfit\u001b[49m\u001b[43m(\u001b[49m\u001b[43mx_train_\u001b[49m\u001b[43m,\u001b[49m\u001b[43m \u001b[49m\u001b[43my_train_\u001b[49m\u001b[43m,\u001b[49m\u001b[43m \u001b[49m\u001b[43meval_set\u001b[49m\u001b[38;5;241;43m=\u001b[39;49m\u001b[43m[\u001b[49m\u001b[43m(\u001b[49m\u001b[43mx_val\u001b[49m\u001b[43m,\u001b[49m\u001b[43m \u001b[49m\u001b[43my_val\u001b[49m\u001b[43m)\u001b[49m\u001b[43m]\u001b[49m\u001b[43m,\u001b[49m\u001b[43m \u001b[49m\u001b[43mverbose\u001b[49m\u001b[38;5;241;43m=\u001b[39;49m\u001b[38;5;28;43;01mFalse\u001b[39;49;00m\u001b[43m)\u001b[49m\n\u001b[0;32m     32\u001b[0m y_pred_proba \u001b[38;5;241m=\u001b[39m classifier\u001b[38;5;241m.\u001b[39mpredict_proba(x_val)[:, \u001b[38;5;241m1\u001b[39m]\n\u001b[0;32m     33\u001b[0m log_loss_scores\u001b[38;5;241m.\u001b[39mappend(ScoreMetric(y_val, y_pred_proba))\n",
      "File \u001b[1;32mc:\\Users\\111\\AppData\\Local\\Programs\\Python\\Python38\\lib\\site-packages\\catboost\\core.py:5131\u001b[0m, in \u001b[0;36mCatBoostClassifier.fit\u001b[1;34m(self, X, y, cat_features, text_features, embedding_features, sample_weight, baseline, use_best_model, eval_set, verbose, logging_level, plot, plot_file, column_description, verbose_eval, metric_period, silent, early_stopping_rounds, save_snapshot, snapshot_file, snapshot_interval, init_model, callbacks, log_cout, log_cerr)\u001b[0m\n\u001b[0;32m   5128\u001b[0m \u001b[39mif\u001b[39;00m \u001b[39m'\u001b[39m\u001b[39mloss_function\u001b[39m\u001b[39m'\u001b[39m \u001b[39min\u001b[39;00m params:\n\u001b[0;32m   5129\u001b[0m     CatBoostClassifier\u001b[39m.\u001b[39m_check_is_compatible_loss(params[\u001b[39m'\u001b[39m\u001b[39mloss_function\u001b[39m\u001b[39m'\u001b[39m])\n\u001b[1;32m-> 5131\u001b[0m \u001b[39mself\u001b[39;49m\u001b[39m.\u001b[39;49m_fit(X, y, cat_features, text_features, embedding_features, \u001b[39mNone\u001b[39;49;00m, sample_weight, \u001b[39mNone\u001b[39;49;00m, \u001b[39mNone\u001b[39;49;00m, \u001b[39mNone\u001b[39;49;00m, \u001b[39mNone\u001b[39;49;00m, baseline, use_best_model,\n\u001b[0;32m   5132\u001b[0m           eval_set, verbose, logging_level, plot, plot_file, column_description, verbose_eval, metric_period,\n\u001b[0;32m   5133\u001b[0m           silent, early_stopping_rounds, save_snapshot, snapshot_file, snapshot_interval, init_model, callbacks, log_cout, log_cerr)\n\u001b[0;32m   5134\u001b[0m \u001b[39mreturn\u001b[39;00m \u001b[39mself\u001b[39m\n",
      "File \u001b[1;32mc:\\Users\\111\\AppData\\Local\\Programs\\Python\\Python38\\lib\\site-packages\\catboost\\core.py:2357\u001b[0m, in \u001b[0;36mCatBoost._fit\u001b[1;34m(self, X, y, cat_features, text_features, embedding_features, pairs, sample_weight, group_id, group_weight, subgroup_id, pairs_weight, baseline, use_best_model, eval_set, verbose, logging_level, plot, plot_file, column_description, verbose_eval, metric_period, silent, early_stopping_rounds, save_snapshot, snapshot_file, snapshot_interval, init_model, callbacks, log_cout, log_cerr)\u001b[0m\n\u001b[0;32m   2353\u001b[0m allow_clear_pool \u001b[39m=\u001b[39m train_params[\u001b[39m\"\u001b[39m\u001b[39mallow_clear_pool\u001b[39m\u001b[39m\"\u001b[39m]\n\u001b[0;32m   2355\u001b[0m \u001b[39mwith\u001b[39;00m log_fixup(log_cout, log_cerr), \\\n\u001b[0;32m   2356\u001b[0m     plot_wrapper(plot, plot_file, \u001b[39m'\u001b[39m\u001b[39mTraining plots\u001b[39m\u001b[39m'\u001b[39m, [_get_train_dir(\u001b[39mself\u001b[39m\u001b[39m.\u001b[39mget_params())]):\n\u001b[1;32m-> 2357\u001b[0m     \u001b[39mself\u001b[39;49m\u001b[39m.\u001b[39;49m_train(\n\u001b[0;32m   2358\u001b[0m         train_pool,\n\u001b[0;32m   2359\u001b[0m         train_params[\u001b[39m\"\u001b[39;49m\u001b[39meval_sets\u001b[39;49m\u001b[39m\"\u001b[39;49m],\n\u001b[0;32m   2360\u001b[0m         params,\n\u001b[0;32m   2361\u001b[0m         allow_clear_pool,\n\u001b[0;32m   2362\u001b[0m         train_params[\u001b[39m\"\u001b[39;49m\u001b[39minit_model\u001b[39;49m\u001b[39m\"\u001b[39;49m]\n\u001b[0;32m   2363\u001b[0m     )\n\u001b[0;32m   2365\u001b[0m \u001b[39m# Have property feature_importance possibly set\u001b[39;00m\n\u001b[0;32m   2366\u001b[0m loss \u001b[39m=\u001b[39m \u001b[39mself\u001b[39m\u001b[39m.\u001b[39m_object\u001b[39m.\u001b[39m_get_loss_function_name()\n",
      "File \u001b[1;32mc:\\Users\\111\\AppData\\Local\\Programs\\Python\\Python38\\lib\\site-packages\\catboost\\core.py:1761\u001b[0m, in \u001b[0;36m_CatBoostBase._train\u001b[1;34m(self, train_pool, test_pool, params, allow_clear_pool, init_model)\u001b[0m\n\u001b[0;32m   1760\u001b[0m \u001b[39mdef\u001b[39;00m \u001b[39m_train\u001b[39m(\u001b[39mself\u001b[39m, train_pool, test_pool, params, allow_clear_pool, init_model):\n\u001b[1;32m-> 1761\u001b[0m     \u001b[39mself\u001b[39;49m\u001b[39m.\u001b[39;49m_object\u001b[39m.\u001b[39;49m_train(train_pool, test_pool, params, allow_clear_pool, init_model\u001b[39m.\u001b[39;49m_object \u001b[39mif\u001b[39;49;00m init_model \u001b[39melse\u001b[39;49;00m \u001b[39mNone\u001b[39;49;00m)\n\u001b[0;32m   1762\u001b[0m     \u001b[39mself\u001b[39m\u001b[39m.\u001b[39m_set_trained_model_attributes()\n",
      "File \u001b[1;32m_catboost.pyx:4624\u001b[0m, in \u001b[0;36m_catboost._CatBoost._train\u001b[1;34m()\u001b[0m\n",
      "File \u001b[1;32m_catboost.pyx:4673\u001b[0m, in \u001b[0;36m_catboost._CatBoost._train\u001b[1;34m()\u001b[0m\n",
      "\u001b[1;31mKeyboardInterrupt\u001b[0m: "
     ]
    }
   ],
   "source": [
    "def objective(trial):\n",
    "    '''\n",
    "\n",
    "    '''\n",
    "    param = {\n",
    "        \"objective\": trial.suggest_categorical(\"objective\", [\"Logloss\", \"CrossEntropy\"]),\n",
    "        \"colsample_bylevel\": trial.suggest_float(\"colsample_bylevel\", 0.01, 0.1, log=True),\n",
    "        \"depth\": trial.suggest_int(\"depth\", 1, 12),\n",
    "        \"boosting_type\": trial.suggest_categorical(\"boosting_type\", [\"Ordered\", \"Plain\"]),\n",
    "        \"bootstrap_type\": trial.suggest_categorical( \"bootstrap_type\", [\"Bayesian\", \"Bernoulli\", \"MVS\"] ),\n",
    "        \"used_ram_limit\": \"3gb\",\n",
    "        \"eval_metric\": \"Accuracy\",\n",
    "        \"random_state\": 42,\n",
    "        \"learning_rate\": trial.suggest_float(\"learning_rate\", 0.01, 0.3, log=True),\n",
    "        \"n_estimators\": trial.suggest_int(\"n_estimators\", 100, 8000),\n",
    "        \"early_stopping_rounds\": trial.suggest_int(\"early_stopping_rounds\", 100, 400),\n",
    "    }\n",
    "\n",
    "    if param[\"bootstrap_type\"] == \"Bayesian\":\n",
    "        param[\"bagging_temperature\"] = trial.suggest_float(\"bagging_temperature\", 0, 10)\n",
    "    elif param[\"bootstrap_type\"] == \"Bernoulli\":\n",
    "        param[\"subsample\"] = trial.suggest_float(\"subsample\", 0.1, 1, log=True)\n",
    "\n",
    "    skf = StratifiedKFold(n_splits=10, shuffle=True, random_state=42)\n",
    "    log_loss_scores = []\n",
    "    # 划分验证集\n",
    "    for train_index, val_index in skf.split(x_train, y_train['Class']):\n",
    "        x_train_, x_val = x_train.iloc[train_index], x_train.iloc[val_index]\n",
    "        y_train_, y_val = y_train['Class'].iloc[train_index], y_train['Class'].iloc[val_index]\n",
    "        classifier = CatBoostClassifier(**param, verbose=False)\n",
    "        classifier.fit(x_train_, y_train_, eval_set=[(x_val, y_val)], verbose=False)\n",
    "        y_pred_proba = classifier.predict_proba(x_val)[:, 1]\n",
    "        log_loss_scores.append(ScoreMetric(y_val, y_pred_proba))\n",
    "    return np.mean(log_loss_scores)\n",
    "\n",
    "if __name__ == \"__main__\":\n",
    "    sampler = TPESampler(seed=42)\n",
    "    pruner = optuna.pruners.MedianPruner(n_warmup_steps=10)\n",
    "    study = optuna.create_study(pruner=pruner, direction=\"minimize\", sampler=sampler)\n",
    "    study.optimize(objective, n_trials=500)\n",
    "\n",
    "    print(\"Number of finished trials: {}\".format(len(study.trials)))\n",
    "    print(\"Best trial:\")\n",
    "    trial = study.best_trial\n",
    "    print(\"  Value: {}\".format(trial.value))\n",
    "    print(\"  Params: \")\n",
    "    for key, value in trial.params.items():\n",
    "        print(\"    {}: {}\".format(key, value))"
   ]
  },
  {
   "cell_type": "code",
   "execution_count": null,
   "metadata": {},
   "outputs": [
    {
     "data": {
      "text/plain": [
       "0.9516129032258065"
      ]
     },
     "execution_count": 115,
     "metadata": {},
     "output_type": "execute_result"
    }
   ],
   "source": [
    "model = CatBoostClassifier(**trial.params)\n",
    "model.fit(x_train, y_train['Class'])\n",
    "y_pred = model.predict(x_test)\n",
    "y_pred_proba = model.predict_proba(x_test)[:, 1]\n",
    "ScoreMetric(y_test['Class'], y_pred_proba)\n",
    "accuracy_score(y_pred, y_test['Class'])"
   ]
  },
  {
   "cell_type": "code",
   "execution_count": null,
   "metadata": {},
   "outputs": [
    {
     "ename": "ValueError",
     "evalue": "Mime type rendering requires nbformat>=4.2.0 but it is not installed",
     "output_type": "error",
     "traceback": [
      "\u001b[1;31m---------------------------------------------------------------------------\u001b[0m",
      "\u001b[1;31mValueError\u001b[0m                                Traceback (most recent call last)",
      "File \u001b[1;32m~\\AppData\\Roaming\\Python\\Python38\\site-packages\\IPython\\core\\formatters.py:920\u001b[0m, in \u001b[0;36mIPythonDisplayFormatter.__call__\u001b[1;34m(self, obj)\u001b[0m\n\u001b[0;32m    918\u001b[0m method \u001b[39m=\u001b[39m get_real_method(obj, \u001b[39mself\u001b[39m\u001b[39m.\u001b[39mprint_method)\n\u001b[0;32m    919\u001b[0m \u001b[39mif\u001b[39;00m method \u001b[39mis\u001b[39;00m \u001b[39mnot\u001b[39;00m \u001b[39mNone\u001b[39;00m:\n\u001b[1;32m--> 920\u001b[0m     method()\n\u001b[0;32m    921\u001b[0m     \u001b[39mreturn\u001b[39;00m \u001b[39mTrue\u001b[39;00m\n",
      "File \u001b[1;32mc:\\Users\\111\\AppData\\Local\\Programs\\Python\\Python38\\lib\\site-packages\\plotly\\basedatatypes.py:834\u001b[0m, in \u001b[0;36mBaseFigure._ipython_display_\u001b[1;34m(self)\u001b[0m\n\u001b[0;32m    831\u001b[0m \u001b[39mimport\u001b[39;00m \u001b[39mplotly\u001b[39;00m\u001b[39m.\u001b[39;00m\u001b[39mio\u001b[39;00m \u001b[39mas\u001b[39;00m \u001b[39mpio\u001b[39;00m\n\u001b[0;32m    833\u001b[0m \u001b[39mif\u001b[39;00m pio\u001b[39m.\u001b[39mrenderers\u001b[39m.\u001b[39mrender_on_display \u001b[39mand\u001b[39;00m pio\u001b[39m.\u001b[39mrenderers\u001b[39m.\u001b[39mdefault:\n\u001b[1;32m--> 834\u001b[0m     pio\u001b[39m.\u001b[39;49mshow(\u001b[39mself\u001b[39;49m)\n\u001b[0;32m    835\u001b[0m \u001b[39melse\u001b[39;00m:\n\u001b[0;32m    836\u001b[0m     \u001b[39mprint\u001b[39m(\u001b[39mrepr\u001b[39m(\u001b[39mself\u001b[39m))\n",
      "File \u001b[1;32mc:\\Users\\111\\AppData\\Local\\Programs\\Python\\Python38\\lib\\site-packages\\plotly\\io\\_renderers.py:396\u001b[0m, in \u001b[0;36mshow\u001b[1;34m(fig, renderer, validate, **kwargs)\u001b[0m\n\u001b[0;32m    391\u001b[0m         \u001b[39mraise\u001b[39;00m \u001b[39mValueError\u001b[39;00m(\n\u001b[0;32m    392\u001b[0m             \u001b[39m\"\u001b[39m\u001b[39mMime type rendering requires ipython but it is not installed\u001b[39m\u001b[39m\"\u001b[39m\n\u001b[0;32m    393\u001b[0m         )\n\u001b[0;32m    395\u001b[0m     \u001b[39mif\u001b[39;00m \u001b[39mnot\u001b[39;00m nbformat \u001b[39mor\u001b[39;00m Version(nbformat\u001b[39m.\u001b[39m__version__) \u001b[39m<\u001b[39m Version(\u001b[39m\"\u001b[39m\u001b[39m4.2.0\u001b[39m\u001b[39m\"\u001b[39m):\n\u001b[1;32m--> 396\u001b[0m         \u001b[39mraise\u001b[39;00m \u001b[39mValueError\u001b[39;00m(\n\u001b[0;32m    397\u001b[0m             \u001b[39m\"\u001b[39m\u001b[39mMime type rendering requires nbformat>=4.2.0 but it is not installed\u001b[39m\u001b[39m\"\u001b[39m\n\u001b[0;32m    398\u001b[0m         )\n\u001b[0;32m    400\u001b[0m     ipython_display\u001b[39m.\u001b[39mdisplay(bundle, raw\u001b[39m=\u001b[39m\u001b[39mTrue\u001b[39;00m)\n\u001b[0;32m    402\u001b[0m \u001b[39m# external renderers\u001b[39;00m\n",
      "\u001b[1;31mValueError\u001b[0m: Mime type rendering requires nbformat>=4.2.0 but it is not installed"
     ]
    },
    {
     "data": {
      "application/vnd.plotly.v1+json": {
       "config": {
        "plotlyServerURL": "https://plot.ly"
       },
       "data": [
        {
         "mode": "markers",
         "name": "Objective Value",
         "type": "scatter",
         "x": [
          1,
          5,
          6,
          7,
          8,
          9,
          10,
          11,
          12,
          13,
          14,
          15,
          16,
          17,
          18,
          19,
          66,
          219
         ],
         "y": [
          0.5967335254562047,
          0.6433822087003274,
          0.6184598051405754,
          0.5233455573713329,
          0.4135077642757382,
          0.6033821687360186,
          0.38797169527703657,
          0.48554161494647613,
          0.6513827334700728,
          0.43322869655213225,
          0.5276990147146629,
          0.3895251437757331,
          0.40468399162037577,
          0.3537327900333324,
          0.389529660605126,
          0.4147123753726313,
          0.4157193493222701,
          0.4648339002118201
         ]
        },
        {
         "name": "Best Value",
         "type": "scatter",
         "x": [
          1,
          5,
          6,
          7,
          8,
          9,
          10,
          11,
          12,
          13,
          14,
          15,
          16,
          17,
          18,
          19,
          66,
          219
         ],
         "y": [
          0.5967335254562047,
          0.5967335254562047,
          0.5967335254562047,
          0.5233455573713329,
          0.4135077642757382,
          0.4135077642757382,
          0.38797169527703657,
          0.38797169527703657,
          0.38797169527703657,
          0.38797169527703657,
          0.38797169527703657,
          0.38797169527703657,
          0.38797169527703657,
          0.3537327900333324,
          0.3537327900333324,
          0.3537327900333324,
          0.3537327900333324,
          0.3537327900333324
         ]
        }
       ],
       "layout": {
        "template": {
         "data": {
          "bar": [
           {
            "error_x": {
             "color": "#2a3f5f"
            },
            "error_y": {
             "color": "#2a3f5f"
            },
            "marker": {
             "line": {
              "color": "#E5ECF6",
              "width": 0.5
             },
             "pattern": {
              "fillmode": "overlay",
              "size": 10,
              "solidity": 0.2
             }
            },
            "type": "bar"
           }
          ],
          "barpolar": [
           {
            "marker": {
             "line": {
              "color": "#E5ECF6",
              "width": 0.5
             },
             "pattern": {
              "fillmode": "overlay",
              "size": 10,
              "solidity": 0.2
             }
            },
            "type": "barpolar"
           }
          ],
          "carpet": [
           {
            "aaxis": {
             "endlinecolor": "#2a3f5f",
             "gridcolor": "white",
             "linecolor": "white",
             "minorgridcolor": "white",
             "startlinecolor": "#2a3f5f"
            },
            "baxis": {
             "endlinecolor": "#2a3f5f",
             "gridcolor": "white",
             "linecolor": "white",
             "minorgridcolor": "white",
             "startlinecolor": "#2a3f5f"
            },
            "type": "carpet"
           }
          ],
          "choropleth": [
           {
            "colorbar": {
             "outlinewidth": 0,
             "ticks": ""
            },
            "type": "choropleth"
           }
          ],
          "contour": [
           {
            "colorbar": {
             "outlinewidth": 0,
             "ticks": ""
            },
            "colorscale": [
             [
              0,
              "#0d0887"
             ],
             [
              0.1111111111111111,
              "#46039f"
             ],
             [
              0.2222222222222222,
              "#7201a8"
             ],
             [
              0.3333333333333333,
              "#9c179e"
             ],
             [
              0.4444444444444444,
              "#bd3786"
             ],
             [
              0.5555555555555556,
              "#d8576b"
             ],
             [
              0.6666666666666666,
              "#ed7953"
             ],
             [
              0.7777777777777778,
              "#fb9f3a"
             ],
             [
              0.8888888888888888,
              "#fdca26"
             ],
             [
              1,
              "#f0f921"
             ]
            ],
            "type": "contour"
           }
          ],
          "contourcarpet": [
           {
            "colorbar": {
             "outlinewidth": 0,
             "ticks": ""
            },
            "type": "contourcarpet"
           }
          ],
          "heatmap": [
           {
            "colorbar": {
             "outlinewidth": 0,
             "ticks": ""
            },
            "colorscale": [
             [
              0,
              "#0d0887"
             ],
             [
              0.1111111111111111,
              "#46039f"
             ],
             [
              0.2222222222222222,
              "#7201a8"
             ],
             [
              0.3333333333333333,
              "#9c179e"
             ],
             [
              0.4444444444444444,
              "#bd3786"
             ],
             [
              0.5555555555555556,
              "#d8576b"
             ],
             [
              0.6666666666666666,
              "#ed7953"
             ],
             [
              0.7777777777777778,
              "#fb9f3a"
             ],
             [
              0.8888888888888888,
              "#fdca26"
             ],
             [
              1,
              "#f0f921"
             ]
            ],
            "type": "heatmap"
           }
          ],
          "heatmapgl": [
           {
            "colorbar": {
             "outlinewidth": 0,
             "ticks": ""
            },
            "colorscale": [
             [
              0,
              "#0d0887"
             ],
             [
              0.1111111111111111,
              "#46039f"
             ],
             [
              0.2222222222222222,
              "#7201a8"
             ],
             [
              0.3333333333333333,
              "#9c179e"
             ],
             [
              0.4444444444444444,
              "#bd3786"
             ],
             [
              0.5555555555555556,
              "#d8576b"
             ],
             [
              0.6666666666666666,
              "#ed7953"
             ],
             [
              0.7777777777777778,
              "#fb9f3a"
             ],
             [
              0.8888888888888888,
              "#fdca26"
             ],
             [
              1,
              "#f0f921"
             ]
            ],
            "type": "heatmapgl"
           }
          ],
          "histogram": [
           {
            "marker": {
             "pattern": {
              "fillmode": "overlay",
              "size": 10,
              "solidity": 0.2
             }
            },
            "type": "histogram"
           }
          ],
          "histogram2d": [
           {
            "colorbar": {
             "outlinewidth": 0,
             "ticks": ""
            },
            "colorscale": [
             [
              0,
              "#0d0887"
             ],
             [
              0.1111111111111111,
              "#46039f"
             ],
             [
              0.2222222222222222,
              "#7201a8"
             ],
             [
              0.3333333333333333,
              "#9c179e"
             ],
             [
              0.4444444444444444,
              "#bd3786"
             ],
             [
              0.5555555555555556,
              "#d8576b"
             ],
             [
              0.6666666666666666,
              "#ed7953"
             ],
             [
              0.7777777777777778,
              "#fb9f3a"
             ],
             [
              0.8888888888888888,
              "#fdca26"
             ],
             [
              1,
              "#f0f921"
             ]
            ],
            "type": "histogram2d"
           }
          ],
          "histogram2dcontour": [
           {
            "colorbar": {
             "outlinewidth": 0,
             "ticks": ""
            },
            "colorscale": [
             [
              0,
              "#0d0887"
             ],
             [
              0.1111111111111111,
              "#46039f"
             ],
             [
              0.2222222222222222,
              "#7201a8"
             ],
             [
              0.3333333333333333,
              "#9c179e"
             ],
             [
              0.4444444444444444,
              "#bd3786"
             ],
             [
              0.5555555555555556,
              "#d8576b"
             ],
             [
              0.6666666666666666,
              "#ed7953"
             ],
             [
              0.7777777777777778,
              "#fb9f3a"
             ],
             [
              0.8888888888888888,
              "#fdca26"
             ],
             [
              1,
              "#f0f921"
             ]
            ],
            "type": "histogram2dcontour"
           }
          ],
          "mesh3d": [
           {
            "colorbar": {
             "outlinewidth": 0,
             "ticks": ""
            },
            "type": "mesh3d"
           }
          ],
          "parcoords": [
           {
            "line": {
             "colorbar": {
              "outlinewidth": 0,
              "ticks": ""
             }
            },
            "type": "parcoords"
           }
          ],
          "pie": [
           {
            "automargin": true,
            "type": "pie"
           }
          ],
          "scatter": [
           {
            "fillpattern": {
             "fillmode": "overlay",
             "size": 10,
             "solidity": 0.2
            },
            "type": "scatter"
           }
          ],
          "scatter3d": [
           {
            "line": {
             "colorbar": {
              "outlinewidth": 0,
              "ticks": ""
             }
            },
            "marker": {
             "colorbar": {
              "outlinewidth": 0,
              "ticks": ""
             }
            },
            "type": "scatter3d"
           }
          ],
          "scattercarpet": [
           {
            "marker": {
             "colorbar": {
              "outlinewidth": 0,
              "ticks": ""
             }
            },
            "type": "scattercarpet"
           }
          ],
          "scattergeo": [
           {
            "marker": {
             "colorbar": {
              "outlinewidth": 0,
              "ticks": ""
             }
            },
            "type": "scattergeo"
           }
          ],
          "scattergl": [
           {
            "marker": {
             "colorbar": {
              "outlinewidth": 0,
              "ticks": ""
             }
            },
            "type": "scattergl"
           }
          ],
          "scattermapbox": [
           {
            "marker": {
             "colorbar": {
              "outlinewidth": 0,
              "ticks": ""
             }
            },
            "type": "scattermapbox"
           }
          ],
          "scatterpolar": [
           {
            "marker": {
             "colorbar": {
              "outlinewidth": 0,
              "ticks": ""
             }
            },
            "type": "scatterpolar"
           }
          ],
          "scatterpolargl": [
           {
            "marker": {
             "colorbar": {
              "outlinewidth": 0,
              "ticks": ""
             }
            },
            "type": "scatterpolargl"
           }
          ],
          "scatterternary": [
           {
            "marker": {
             "colorbar": {
              "outlinewidth": 0,
              "ticks": ""
             }
            },
            "type": "scatterternary"
           }
          ],
          "surface": [
           {
            "colorbar": {
             "outlinewidth": 0,
             "ticks": ""
            },
            "colorscale": [
             [
              0,
              "#0d0887"
             ],
             [
              0.1111111111111111,
              "#46039f"
             ],
             [
              0.2222222222222222,
              "#7201a8"
             ],
             [
              0.3333333333333333,
              "#9c179e"
             ],
             [
              0.4444444444444444,
              "#bd3786"
             ],
             [
              0.5555555555555556,
              "#d8576b"
             ],
             [
              0.6666666666666666,
              "#ed7953"
             ],
             [
              0.7777777777777778,
              "#fb9f3a"
             ],
             [
              0.8888888888888888,
              "#fdca26"
             ],
             [
              1,
              "#f0f921"
             ]
            ],
            "type": "surface"
           }
          ],
          "table": [
           {
            "cells": {
             "fill": {
              "color": "#EBF0F8"
             },
             "line": {
              "color": "white"
             }
            },
            "header": {
             "fill": {
              "color": "#C8D4E3"
             },
             "line": {
              "color": "white"
             }
            },
            "type": "table"
           }
          ]
         },
         "layout": {
          "annotationdefaults": {
           "arrowcolor": "#2a3f5f",
           "arrowhead": 0,
           "arrowwidth": 1
          },
          "autotypenumbers": "strict",
          "coloraxis": {
           "colorbar": {
            "outlinewidth": 0,
            "ticks": ""
           }
          },
          "colorscale": {
           "diverging": [
            [
             0,
             "#8e0152"
            ],
            [
             0.1,
             "#c51b7d"
            ],
            [
             0.2,
             "#de77ae"
            ],
            [
             0.3,
             "#f1b6da"
            ],
            [
             0.4,
             "#fde0ef"
            ],
            [
             0.5,
             "#f7f7f7"
            ],
            [
             0.6,
             "#e6f5d0"
            ],
            [
             0.7,
             "#b8e186"
            ],
            [
             0.8,
             "#7fbc41"
            ],
            [
             0.9,
             "#4d9221"
            ],
            [
             1,
             "#276419"
            ]
           ],
           "sequential": [
            [
             0,
             "#0d0887"
            ],
            [
             0.1111111111111111,
             "#46039f"
            ],
            [
             0.2222222222222222,
             "#7201a8"
            ],
            [
             0.3333333333333333,
             "#9c179e"
            ],
            [
             0.4444444444444444,
             "#bd3786"
            ],
            [
             0.5555555555555556,
             "#d8576b"
            ],
            [
             0.6666666666666666,
             "#ed7953"
            ],
            [
             0.7777777777777778,
             "#fb9f3a"
            ],
            [
             0.8888888888888888,
             "#fdca26"
            ],
            [
             1,
             "#f0f921"
            ]
           ],
           "sequentialminus": [
            [
             0,
             "#0d0887"
            ],
            [
             0.1111111111111111,
             "#46039f"
            ],
            [
             0.2222222222222222,
             "#7201a8"
            ],
            [
             0.3333333333333333,
             "#9c179e"
            ],
            [
             0.4444444444444444,
             "#bd3786"
            ],
            [
             0.5555555555555556,
             "#d8576b"
            ],
            [
             0.6666666666666666,
             "#ed7953"
            ],
            [
             0.7777777777777778,
             "#fb9f3a"
            ],
            [
             0.8888888888888888,
             "#fdca26"
            ],
            [
             1,
             "#f0f921"
            ]
           ]
          },
          "colorway": [
           "#636efa",
           "#EF553B",
           "#00cc96",
           "#ab63fa",
           "#FFA15A",
           "#19d3f3",
           "#FF6692",
           "#B6E880",
           "#FF97FF",
           "#FECB52"
          ],
          "font": {
           "color": "#2a3f5f"
          },
          "geo": {
           "bgcolor": "white",
           "lakecolor": "white",
           "landcolor": "#E5ECF6",
           "showlakes": true,
           "showland": true,
           "subunitcolor": "white"
          },
          "hoverlabel": {
           "align": "left"
          },
          "hovermode": "closest",
          "mapbox": {
           "style": "light"
          },
          "paper_bgcolor": "white",
          "plot_bgcolor": "#E5ECF6",
          "polar": {
           "angularaxis": {
            "gridcolor": "white",
            "linecolor": "white",
            "ticks": ""
           },
           "bgcolor": "#E5ECF6",
           "radialaxis": {
            "gridcolor": "white",
            "linecolor": "white",
            "ticks": ""
           }
          },
          "scene": {
           "xaxis": {
            "backgroundcolor": "#E5ECF6",
            "gridcolor": "white",
            "gridwidth": 2,
            "linecolor": "white",
            "showbackground": true,
            "ticks": "",
            "zerolinecolor": "white"
           },
           "yaxis": {
            "backgroundcolor": "#E5ECF6",
            "gridcolor": "white",
            "gridwidth": 2,
            "linecolor": "white",
            "showbackground": true,
            "ticks": "",
            "zerolinecolor": "white"
           },
           "zaxis": {
            "backgroundcolor": "#E5ECF6",
            "gridcolor": "white",
            "gridwidth": 2,
            "linecolor": "white",
            "showbackground": true,
            "ticks": "",
            "zerolinecolor": "white"
           }
          },
          "shapedefaults": {
           "line": {
            "color": "#2a3f5f"
           }
          },
          "ternary": {
           "aaxis": {
            "gridcolor": "white",
            "linecolor": "white",
            "ticks": ""
           },
           "baxis": {
            "gridcolor": "white",
            "linecolor": "white",
            "ticks": ""
           },
           "bgcolor": "#E5ECF6",
           "caxis": {
            "gridcolor": "white",
            "linecolor": "white",
            "ticks": ""
           }
          },
          "title": {
           "x": 0.05
          },
          "xaxis": {
           "automargin": true,
           "gridcolor": "white",
           "linecolor": "white",
           "ticks": "",
           "title": {
            "standoff": 15
           },
           "zerolinecolor": "white",
           "zerolinewidth": 2
          },
          "yaxis": {
           "automargin": true,
           "gridcolor": "white",
           "linecolor": "white",
           "ticks": "",
           "title": {
            "standoff": 15
           },
           "zerolinecolor": "white",
           "zerolinewidth": 2
          }
         }
        },
        "title": {
         "text": "Optimization History Plot"
        },
        "xaxis": {
         "title": {
          "text": "Trial"
         }
        },
        "yaxis": {
         "title": {
          "text": "Objective Value"
         }
        }
       }
      },
      "text/html": [
       "<div>                        <script type=\"text/javascript\">window.PlotlyConfig = {MathJaxConfig: 'local'};</script>\n",
       "        <script charset=\"utf-8\" src=\"https://cdn.plot.ly/plotly-2.24.1.min.js\"></script>                <div id=\"d8298a2b-c3e4-4f15-bf19-eaea2462afe9\" class=\"plotly-graph-div\" style=\"height:100%; width:100%;\"></div>            <script type=\"text/javascript\">                                    window.PLOTLYENV=window.PLOTLYENV || {};                                    if (document.getElementById(\"d8298a2b-c3e4-4f15-bf19-eaea2462afe9\")) {                    Plotly.newPlot(                        \"d8298a2b-c3e4-4f15-bf19-eaea2462afe9\",                        [{\"mode\":\"markers\",\"name\":\"Objective Value\",\"x\":[1,5,6,7,8,9,10,11,12,13,14,15,16,17,18,19,66,219],\"y\":[0.5967335254562047,0.6433822087003274,0.6184598051405754,0.5233455573713329,0.4135077642757382,0.6033821687360186,0.38797169527703657,0.48554161494647613,0.6513827334700728,0.43322869655213225,0.5276990147146629,0.3895251437757331,0.40468399162037577,0.3537327900333324,0.389529660605126,0.4147123753726313,0.4157193493222701,0.4648339002118201],\"type\":\"scatter\"},{\"name\":\"Best Value\",\"x\":[1,5,6,7,8,9,10,11,12,13,14,15,16,17,18,19,66,219],\"y\":[0.5967335254562047,0.5967335254562047,0.5967335254562047,0.5233455573713329,0.4135077642757382,0.4135077642757382,0.38797169527703657,0.38797169527703657,0.38797169527703657,0.38797169527703657,0.38797169527703657,0.38797169527703657,0.38797169527703657,0.3537327900333324,0.3537327900333324,0.3537327900333324,0.3537327900333324,0.3537327900333324],\"type\":\"scatter\"}],                        {\"title\":{\"text\":\"Optimization History Plot\"},\"xaxis\":{\"title\":{\"text\":\"Trial\"}},\"yaxis\":{\"title\":{\"text\":\"Objective Value\"}},\"template\":{\"data\":{\"histogram2dcontour\":[{\"type\":\"histogram2dcontour\",\"colorbar\":{\"outlinewidth\":0,\"ticks\":\"\"},\"colorscale\":[[0.0,\"#0d0887\"],[0.1111111111111111,\"#46039f\"],[0.2222222222222222,\"#7201a8\"],[0.3333333333333333,\"#9c179e\"],[0.4444444444444444,\"#bd3786\"],[0.5555555555555556,\"#d8576b\"],[0.6666666666666666,\"#ed7953\"],[0.7777777777777778,\"#fb9f3a\"],[0.8888888888888888,\"#fdca26\"],[1.0,\"#f0f921\"]]}],\"choropleth\":[{\"type\":\"choropleth\",\"colorbar\":{\"outlinewidth\":0,\"ticks\":\"\"}}],\"histogram2d\":[{\"type\":\"histogram2d\",\"colorbar\":{\"outlinewidth\":0,\"ticks\":\"\"},\"colorscale\":[[0.0,\"#0d0887\"],[0.1111111111111111,\"#46039f\"],[0.2222222222222222,\"#7201a8\"],[0.3333333333333333,\"#9c179e\"],[0.4444444444444444,\"#bd3786\"],[0.5555555555555556,\"#d8576b\"],[0.6666666666666666,\"#ed7953\"],[0.7777777777777778,\"#fb9f3a\"],[0.8888888888888888,\"#fdca26\"],[1.0,\"#f0f921\"]]}],\"heatmap\":[{\"type\":\"heatmap\",\"colorbar\":{\"outlinewidth\":0,\"ticks\":\"\"},\"colorscale\":[[0.0,\"#0d0887\"],[0.1111111111111111,\"#46039f\"],[0.2222222222222222,\"#7201a8\"],[0.3333333333333333,\"#9c179e\"],[0.4444444444444444,\"#bd3786\"],[0.5555555555555556,\"#d8576b\"],[0.6666666666666666,\"#ed7953\"],[0.7777777777777778,\"#fb9f3a\"],[0.8888888888888888,\"#fdca26\"],[1.0,\"#f0f921\"]]}],\"heatmapgl\":[{\"type\":\"heatmapgl\",\"colorbar\":{\"outlinewidth\":0,\"ticks\":\"\"},\"colorscale\":[[0.0,\"#0d0887\"],[0.1111111111111111,\"#46039f\"],[0.2222222222222222,\"#7201a8\"],[0.3333333333333333,\"#9c179e\"],[0.4444444444444444,\"#bd3786\"],[0.5555555555555556,\"#d8576b\"],[0.6666666666666666,\"#ed7953\"],[0.7777777777777778,\"#fb9f3a\"],[0.8888888888888888,\"#fdca26\"],[1.0,\"#f0f921\"]]}],\"contourcarpet\":[{\"type\":\"contourcarpet\",\"colorbar\":{\"outlinewidth\":0,\"ticks\":\"\"}}],\"contour\":[{\"type\":\"contour\",\"colorbar\":{\"outlinewidth\":0,\"ticks\":\"\"},\"colorscale\":[[0.0,\"#0d0887\"],[0.1111111111111111,\"#46039f\"],[0.2222222222222222,\"#7201a8\"],[0.3333333333333333,\"#9c179e\"],[0.4444444444444444,\"#bd3786\"],[0.5555555555555556,\"#d8576b\"],[0.6666666666666666,\"#ed7953\"],[0.7777777777777778,\"#fb9f3a\"],[0.8888888888888888,\"#fdca26\"],[1.0,\"#f0f921\"]]}],\"surface\":[{\"type\":\"surface\",\"colorbar\":{\"outlinewidth\":0,\"ticks\":\"\"},\"colorscale\":[[0.0,\"#0d0887\"],[0.1111111111111111,\"#46039f\"],[0.2222222222222222,\"#7201a8\"],[0.3333333333333333,\"#9c179e\"],[0.4444444444444444,\"#bd3786\"],[0.5555555555555556,\"#d8576b\"],[0.6666666666666666,\"#ed7953\"],[0.7777777777777778,\"#fb9f3a\"],[0.8888888888888888,\"#fdca26\"],[1.0,\"#f0f921\"]]}],\"mesh3d\":[{\"type\":\"mesh3d\",\"colorbar\":{\"outlinewidth\":0,\"ticks\":\"\"}}],\"scatter\":[{\"fillpattern\":{\"fillmode\":\"overlay\",\"size\":10,\"solidity\":0.2},\"type\":\"scatter\"}],\"parcoords\":[{\"type\":\"parcoords\",\"line\":{\"colorbar\":{\"outlinewidth\":0,\"ticks\":\"\"}}}],\"scatterpolargl\":[{\"type\":\"scatterpolargl\",\"marker\":{\"colorbar\":{\"outlinewidth\":0,\"ticks\":\"\"}}}],\"bar\":[{\"error_x\":{\"color\":\"#2a3f5f\"},\"error_y\":{\"color\":\"#2a3f5f\"},\"marker\":{\"line\":{\"color\":\"#E5ECF6\",\"width\":0.5},\"pattern\":{\"fillmode\":\"overlay\",\"size\":10,\"solidity\":0.2}},\"type\":\"bar\"}],\"scattergeo\":[{\"type\":\"scattergeo\",\"marker\":{\"colorbar\":{\"outlinewidth\":0,\"ticks\":\"\"}}}],\"scatterpolar\":[{\"type\":\"scatterpolar\",\"marker\":{\"colorbar\":{\"outlinewidth\":0,\"ticks\":\"\"}}}],\"histogram\":[{\"marker\":{\"pattern\":{\"fillmode\":\"overlay\",\"size\":10,\"solidity\":0.2}},\"type\":\"histogram\"}],\"scattergl\":[{\"type\":\"scattergl\",\"marker\":{\"colorbar\":{\"outlinewidth\":0,\"ticks\":\"\"}}}],\"scatter3d\":[{\"type\":\"scatter3d\",\"line\":{\"colorbar\":{\"outlinewidth\":0,\"ticks\":\"\"}},\"marker\":{\"colorbar\":{\"outlinewidth\":0,\"ticks\":\"\"}}}],\"scattermapbox\":[{\"type\":\"scattermapbox\",\"marker\":{\"colorbar\":{\"outlinewidth\":0,\"ticks\":\"\"}}}],\"scatterternary\":[{\"type\":\"scatterternary\",\"marker\":{\"colorbar\":{\"outlinewidth\":0,\"ticks\":\"\"}}}],\"scattercarpet\":[{\"type\":\"scattercarpet\",\"marker\":{\"colorbar\":{\"outlinewidth\":0,\"ticks\":\"\"}}}],\"carpet\":[{\"aaxis\":{\"endlinecolor\":\"#2a3f5f\",\"gridcolor\":\"white\",\"linecolor\":\"white\",\"minorgridcolor\":\"white\",\"startlinecolor\":\"#2a3f5f\"},\"baxis\":{\"endlinecolor\":\"#2a3f5f\",\"gridcolor\":\"white\",\"linecolor\":\"white\",\"minorgridcolor\":\"white\",\"startlinecolor\":\"#2a3f5f\"},\"type\":\"carpet\"}],\"table\":[{\"cells\":{\"fill\":{\"color\":\"#EBF0F8\"},\"line\":{\"color\":\"white\"}},\"header\":{\"fill\":{\"color\":\"#C8D4E3\"},\"line\":{\"color\":\"white\"}},\"type\":\"table\"}],\"barpolar\":[{\"marker\":{\"line\":{\"color\":\"#E5ECF6\",\"width\":0.5},\"pattern\":{\"fillmode\":\"overlay\",\"size\":10,\"solidity\":0.2}},\"type\":\"barpolar\"}],\"pie\":[{\"automargin\":true,\"type\":\"pie\"}]},\"layout\":{\"autotypenumbers\":\"strict\",\"colorway\":[\"#636efa\",\"#EF553B\",\"#00cc96\",\"#ab63fa\",\"#FFA15A\",\"#19d3f3\",\"#FF6692\",\"#B6E880\",\"#FF97FF\",\"#FECB52\"],\"font\":{\"color\":\"#2a3f5f\"},\"hovermode\":\"closest\",\"hoverlabel\":{\"align\":\"left\"},\"paper_bgcolor\":\"white\",\"plot_bgcolor\":\"#E5ECF6\",\"polar\":{\"bgcolor\":\"#E5ECF6\",\"angularaxis\":{\"gridcolor\":\"white\",\"linecolor\":\"white\",\"ticks\":\"\"},\"radialaxis\":{\"gridcolor\":\"white\",\"linecolor\":\"white\",\"ticks\":\"\"}},\"ternary\":{\"bgcolor\":\"#E5ECF6\",\"aaxis\":{\"gridcolor\":\"white\",\"linecolor\":\"white\",\"ticks\":\"\"},\"baxis\":{\"gridcolor\":\"white\",\"linecolor\":\"white\",\"ticks\":\"\"},\"caxis\":{\"gridcolor\":\"white\",\"linecolor\":\"white\",\"ticks\":\"\"}},\"coloraxis\":{\"colorbar\":{\"outlinewidth\":0,\"ticks\":\"\"}},\"colorscale\":{\"sequential\":[[0.0,\"#0d0887\"],[0.1111111111111111,\"#46039f\"],[0.2222222222222222,\"#7201a8\"],[0.3333333333333333,\"#9c179e\"],[0.4444444444444444,\"#bd3786\"],[0.5555555555555556,\"#d8576b\"],[0.6666666666666666,\"#ed7953\"],[0.7777777777777778,\"#fb9f3a\"],[0.8888888888888888,\"#fdca26\"],[1.0,\"#f0f921\"]],\"sequentialminus\":[[0.0,\"#0d0887\"],[0.1111111111111111,\"#46039f\"],[0.2222222222222222,\"#7201a8\"],[0.3333333333333333,\"#9c179e\"],[0.4444444444444444,\"#bd3786\"],[0.5555555555555556,\"#d8576b\"],[0.6666666666666666,\"#ed7953\"],[0.7777777777777778,\"#fb9f3a\"],[0.8888888888888888,\"#fdca26\"],[1.0,\"#f0f921\"]],\"diverging\":[[0,\"#8e0152\"],[0.1,\"#c51b7d\"],[0.2,\"#de77ae\"],[0.3,\"#f1b6da\"],[0.4,\"#fde0ef\"],[0.5,\"#f7f7f7\"],[0.6,\"#e6f5d0\"],[0.7,\"#b8e186\"],[0.8,\"#7fbc41\"],[0.9,\"#4d9221\"],[1,\"#276419\"]]},\"xaxis\":{\"gridcolor\":\"white\",\"linecolor\":\"white\",\"ticks\":\"\",\"title\":{\"standoff\":15},\"zerolinecolor\":\"white\",\"automargin\":true,\"zerolinewidth\":2},\"yaxis\":{\"gridcolor\":\"white\",\"linecolor\":\"white\",\"ticks\":\"\",\"title\":{\"standoff\":15},\"zerolinecolor\":\"white\",\"automargin\":true,\"zerolinewidth\":2},\"scene\":{\"xaxis\":{\"backgroundcolor\":\"#E5ECF6\",\"gridcolor\":\"white\",\"linecolor\":\"white\",\"showbackground\":true,\"ticks\":\"\",\"zerolinecolor\":\"white\",\"gridwidth\":2},\"yaxis\":{\"backgroundcolor\":\"#E5ECF6\",\"gridcolor\":\"white\",\"linecolor\":\"white\",\"showbackground\":true,\"ticks\":\"\",\"zerolinecolor\":\"white\",\"gridwidth\":2},\"zaxis\":{\"backgroundcolor\":\"#E5ECF6\",\"gridcolor\":\"white\",\"linecolor\":\"white\",\"showbackground\":true,\"ticks\":\"\",\"zerolinecolor\":\"white\",\"gridwidth\":2}},\"shapedefaults\":{\"line\":{\"color\":\"#2a3f5f\"}},\"annotationdefaults\":{\"arrowcolor\":\"#2a3f5f\",\"arrowhead\":0,\"arrowwidth\":1},\"geo\":{\"bgcolor\":\"white\",\"landcolor\":\"#E5ECF6\",\"subunitcolor\":\"white\",\"showland\":true,\"showlakes\":true,\"lakecolor\":\"white\"},\"title\":{\"x\":0.05},\"mapbox\":{\"style\":\"light\"}}}},                        {\"responsive\": true}                    )                };                            </script>        </div>"
      ],
      "text/plain": [
       "Figure({\n",
       "    'data': [{'mode': 'markers',\n",
       "              'name': 'Objective Value',\n",
       "              'type': 'scatter',\n",
       "              'x': [1, 5, 6, 7, 8, 9, 10, 11, 12, 13, 14, 15, 16, 17, 18, 19, 66,\n",
       "                    219],\n",
       "              'y': [0.5967335254562047, 0.6433822087003274, 0.6184598051405754,\n",
       "                    0.5233455573713329, 0.4135077642757382, 0.6033821687360186,\n",
       "                    0.38797169527703657, 0.48554161494647613, 0.6513827334700728,\n",
       "                    0.43322869655213225, 0.5276990147146629, 0.3895251437757331,\n",
       "                    0.40468399162037577, 0.3537327900333324, 0.389529660605126,\n",
       "                    0.4147123753726313, 0.4157193493222701, 0.4648339002118201]},\n",
       "             {'name': 'Best Value',\n",
       "              'type': 'scatter',\n",
       "              'x': [1, 5, 6, 7, 8, 9, 10, 11, 12, 13, 14, 15, 16, 17, 18, 19, 66,\n",
       "                    219],\n",
       "              'y': [0.5967335254562047, 0.5967335254562047, 0.5967335254562047,\n",
       "                    0.5233455573713329, 0.4135077642757382, 0.4135077642757382,\n",
       "                    0.38797169527703657, 0.38797169527703657, 0.38797169527703657,\n",
       "                    0.38797169527703657, 0.38797169527703657, 0.38797169527703657,\n",
       "                    0.38797169527703657, 0.3537327900333324, 0.3537327900333324,\n",
       "                    0.3537327900333324, 0.3537327900333324, 0.3537327900333324]}],\n",
       "    'layout': {'template': '...',\n",
       "               'title': {'text': 'Optimization History Plot'},\n",
       "               'xaxis': {'title': {'text': 'Trial'}},\n",
       "               'yaxis': {'title': {'text': 'Objective Value'}}}\n",
       "})"
      ]
     },
     "execution_count": 120,
     "metadata": {},
     "output_type": "execute_result"
    }
   ],
   "source": [
    "plot_optimization_history(study)"
   ]
  },
  {
   "cell_type": "code",
   "execution_count": null,
   "metadata": {},
   "outputs": [
    {
     "ename": "ValueError",
     "evalue": "Mime type rendering requires nbformat>=4.2.0 but it is not installed",
     "output_type": "error",
     "traceback": [
      "\u001b[1;31m---------------------------------------------------------------------------\u001b[0m",
      "\u001b[1;31mValueError\u001b[0m                                Traceback (most recent call last)",
      "File \u001b[1;32m~\\AppData\\Roaming\\Python\\Python38\\site-packages\\IPython\\core\\formatters.py:920\u001b[0m, in \u001b[0;36mIPythonDisplayFormatter.__call__\u001b[1;34m(self, obj)\u001b[0m\n\u001b[0;32m    918\u001b[0m method \u001b[39m=\u001b[39m get_real_method(obj, \u001b[39mself\u001b[39m\u001b[39m.\u001b[39mprint_method)\n\u001b[0;32m    919\u001b[0m \u001b[39mif\u001b[39;00m method \u001b[39mis\u001b[39;00m \u001b[39mnot\u001b[39;00m \u001b[39mNone\u001b[39;00m:\n\u001b[1;32m--> 920\u001b[0m     method()\n\u001b[0;32m    921\u001b[0m     \u001b[39mreturn\u001b[39;00m \u001b[39mTrue\u001b[39;00m\n",
      "File \u001b[1;32mc:\\Users\\111\\AppData\\Local\\Programs\\Python\\Python38\\lib\\site-packages\\plotly\\basedatatypes.py:834\u001b[0m, in \u001b[0;36mBaseFigure._ipython_display_\u001b[1;34m(self)\u001b[0m\n\u001b[0;32m    831\u001b[0m \u001b[39mimport\u001b[39;00m \u001b[39mplotly\u001b[39;00m\u001b[39m.\u001b[39;00m\u001b[39mio\u001b[39;00m \u001b[39mas\u001b[39;00m \u001b[39mpio\u001b[39;00m\n\u001b[0;32m    833\u001b[0m \u001b[39mif\u001b[39;00m pio\u001b[39m.\u001b[39mrenderers\u001b[39m.\u001b[39mrender_on_display \u001b[39mand\u001b[39;00m pio\u001b[39m.\u001b[39mrenderers\u001b[39m.\u001b[39mdefault:\n\u001b[1;32m--> 834\u001b[0m     pio\u001b[39m.\u001b[39;49mshow(\u001b[39mself\u001b[39;49m)\n\u001b[0;32m    835\u001b[0m \u001b[39melse\u001b[39;00m:\n\u001b[0;32m    836\u001b[0m     \u001b[39mprint\u001b[39m(\u001b[39mrepr\u001b[39m(\u001b[39mself\u001b[39m))\n",
      "File \u001b[1;32mc:\\Users\\111\\AppData\\Local\\Programs\\Python\\Python38\\lib\\site-packages\\plotly\\io\\_renderers.py:396\u001b[0m, in \u001b[0;36mshow\u001b[1;34m(fig, renderer, validate, **kwargs)\u001b[0m\n\u001b[0;32m    391\u001b[0m         \u001b[39mraise\u001b[39;00m \u001b[39mValueError\u001b[39;00m(\n\u001b[0;32m    392\u001b[0m             \u001b[39m\"\u001b[39m\u001b[39mMime type rendering requires ipython but it is not installed\u001b[39m\u001b[39m\"\u001b[39m\n\u001b[0;32m    393\u001b[0m         )\n\u001b[0;32m    395\u001b[0m     \u001b[39mif\u001b[39;00m \u001b[39mnot\u001b[39;00m nbformat \u001b[39mor\u001b[39;00m Version(nbformat\u001b[39m.\u001b[39m__version__) \u001b[39m<\u001b[39m Version(\u001b[39m\"\u001b[39m\u001b[39m4.2.0\u001b[39m\u001b[39m\"\u001b[39m):\n\u001b[1;32m--> 396\u001b[0m         \u001b[39mraise\u001b[39;00m \u001b[39mValueError\u001b[39;00m(\n\u001b[0;32m    397\u001b[0m             \u001b[39m\"\u001b[39m\u001b[39mMime type rendering requires nbformat>=4.2.0 but it is not installed\u001b[39m\u001b[39m\"\u001b[39m\n\u001b[0;32m    398\u001b[0m         )\n\u001b[0;32m    400\u001b[0m     ipython_display\u001b[39m.\u001b[39mdisplay(bundle, raw\u001b[39m=\u001b[39m\u001b[39mTrue\u001b[39;00m)\n\u001b[0;32m    402\u001b[0m \u001b[39m# external renderers\u001b[39;00m\n",
      "\u001b[1;31mValueError\u001b[0m: Mime type rendering requires nbformat>=4.2.0 but it is not installed"
     ]
    },
    {
     "data": {
      "application/vnd.plotly.v1+json": {
       "config": {
        "plotlyServerURL": "https://plot.ly"
       },
       "data": [
        {
         "marker": {
          "color": [
           1,
           5,
           6,
           7,
           8,
           9,
           10,
           11,
           12,
           13,
           14,
           15,
           16,
           17,
           18,
           19,
           66,
           219
          ],
          "colorbar": {
           "title": {
            "text": "Trial"
           },
           "x": 1,
           "xpad": 40
          },
          "colorscale": [
           [
            0,
            "rgb(247,251,255)"
           ],
           [
            0.125,
            "rgb(222,235,247)"
           ],
           [
            0.25,
            "rgb(198,219,239)"
           ],
           [
            0.375,
            "rgb(158,202,225)"
           ],
           [
            0.5,
            "rgb(107,174,214)"
           ],
           [
            0.625,
            "rgb(66,146,198)"
           ],
           [
            0.75,
            "rgb(33,113,181)"
           ],
           [
            0.875,
            "rgb(8,81,156)"
           ],
           [
            1,
            "rgb(8,48,107)"
           ]
          ],
          "line": {
           "color": "Grey",
           "width": 0.5
          },
          "showscale": true
         },
         "mode": "markers",
         "showlegend": false,
         "type": "scatter",
         "x": [
          0.574485163632042,
          0.23713402899336497,
          0.04264813784432918,
          0.08032068562667222,
          0.012197768563438372,
          0.1821930437934653,
          1.9488135833929595e-7,
          7.593034903208851e-8,
          0.000001033375989766645,
          0.0066946948903108105,
          0.000008909025084911593,
          0.0005852079598515014,
          0.0002219322141207024,
          1.0601341392077246e-8,
          1.2862740622795762e-8,
          1.0456940308891758e-8,
          3.4246884993023374e-7,
          0.000005009324548277015
         ],
         "xaxis": "x",
         "y": [
          0.5967335254562047,
          0.6433822087003274,
          0.6184598051405754,
          0.5233455573713329,
          0.4135077642757382,
          0.6033821687360186,
          0.38797169527703657,
          0.48554161494647613,
          0.6513827334700728,
          0.43322869655213225,
          0.5276990147146629,
          0.3895251437757331,
          0.40468399162037577,
          0.3537327900333324,
          0.389529660605126,
          0.4147123753726313,
          0.4157193493222701,
          0.4648339002118201
         ],
         "yaxis": "y"
        },
        {
         "marker": {
          "color": [
           1,
           5,
           6,
           7,
           8,
           9,
           10,
           11,
           12,
           13,
           14,
           15,
           16,
           17,
           18,
           19,
           66,
           219
          ],
          "colorbar": {
           "title": {
            "text": "Trial"
           },
           "x": 1,
           "xpad": 40
          },
          "colorscale": [
           [
            0,
            "rgb(247,251,255)"
           ],
           [
            0.125,
            "rgb(222,235,247)"
           ],
           [
            0.25,
            "rgb(198,219,239)"
           ],
           [
            0.375,
            "rgb(158,202,225)"
           ],
           [
            0.5,
            "rgb(107,174,214)"
           ],
           [
            0.625,
            "rgb(66,146,198)"
           ],
           [
            0.75,
            "rgb(33,113,181)"
           ],
           [
            0.875,
            "rgb(8,81,156)"
           ],
           [
            1,
            "rgb(8,48,107)"
           ]
          ],
          "line": {
           "color": "Grey",
           "width": 0.5
          },
          "showscale": false
         },
         "mode": "markers",
         "showlegend": false,
         "type": "scatter",
         "x": [
          "gbtree",
          "gblinear",
          "dart",
          "gbtree",
          "gbtree",
          "gblinear",
          "gbtree",
          "dart",
          "dart",
          "dart",
          "gbtree",
          "gbtree",
          "gbtree",
          "gbtree",
          "gbtree",
          "gbtree",
          "gbtree",
          "gbtree"
         ],
         "xaxis": "x2",
         "y": [
          0.5967335254562047,
          0.6433822087003274,
          0.6184598051405754,
          0.5233455573713329,
          0.4135077642757382,
          0.6033821687360186,
          0.38797169527703657,
          0.48554161494647613,
          0.6513827334700728,
          0.43322869655213225,
          0.5276990147146629,
          0.3895251437757331,
          0.40468399162037577,
          0.3537327900333324,
          0.389529660605126,
          0.4147123753726313,
          0.4157193493222701,
          0.4648339002118201
         ],
         "yaxis": "y2"
        },
        {
         "marker": {
          "color": [
           1,
           5,
           6,
           7,
           8,
           9,
           10,
           11,
           12,
           13,
           14,
           15,
           16,
           17,
           18,
           19,
           66,
           219
          ],
          "colorbar": {
           "title": {
            "text": "Trial"
           },
           "x": 1,
           "xpad": 40
          },
          "colorscale": [
           [
            0,
            "rgb(247,251,255)"
           ],
           [
            0.125,
            "rgb(222,235,247)"
           ],
           [
            0.25,
            "rgb(198,219,239)"
           ],
           [
            0.375,
            "rgb(158,202,225)"
           ],
           [
            0.5,
            "rgb(107,174,214)"
           ],
           [
            0.625,
            "rgb(66,146,198)"
           ],
           [
            0.75,
            "rgb(33,113,181)"
           ],
           [
            0.875,
            "rgb(8,81,156)"
           ],
           [
            1,
            "rgb(8,48,107)"
           ]
          ],
          "line": {
           "color": "Grey",
           "width": 0.5
          },
          "showscale": false
         },
         "mode": "markers",
         "showlegend": false,
         "type": "scatter",
         "x": [
          0.3274034664069657,
          0.3175897174514871,
          0.3685607058124285,
          0.39853881491158955,
          0.6625803079727366,
          0.44622975382137786,
          0.6848722277386503,
          0.4562646731757538,
          0.38052698589006184,
          0.5793834983561478,
          0.7888390888089066,
          0.6423490725632033,
          0.5874883349517384,
          0.7148589786704331,
          0.7796283752859363,
          0.7165417481368155,
          0.24630634913685873,
          0.5251350979070596
         ],
         "xaxis": "x3",
         "y": [
          0.5967335254562047,
          0.6433822087003274,
          0.6184598051405754,
          0.5233455573713329,
          0.4135077642757382,
          0.6033821687360186,
          0.38797169527703657,
          0.48554161494647613,
          0.6513827334700728,
          0.43322869655213225,
          0.5276990147146629,
          0.3895251437757331,
          0.40468399162037577,
          0.3537327900333324,
          0.389529660605126,
          0.4147123753726313,
          0.4157193493222701,
          0.4648339002118201
         ],
         "yaxis": "y3"
        },
        {
         "marker": {
          "color": [
           1,
           6,
           7,
           8,
           10,
           11,
           12,
           13,
           14,
           15,
           16,
           17,
           18,
           19,
           66,
           219
          ],
          "colorbar": {
           "title": {
            "text": "Trial"
           },
           "x": 1,
           "xpad": 40
          },
          "colorscale": [
           [
            0,
            "rgb(247,251,255)"
           ],
           [
            0.125,
            "rgb(222,235,247)"
           ],
           [
            0.25,
            "rgb(198,219,239)"
           ],
           [
            0.375,
            "rgb(158,202,225)"
           ],
           [
            0.5,
            "rgb(107,174,214)"
           ],
           [
            0.625,
            "rgb(66,146,198)"
           ],
           [
            0.75,
            "rgb(33,113,181)"
           ],
           [
            0.875,
            "rgb(8,81,156)"
           ],
           [
            1,
            "rgb(8,48,107)"
           ]
          ],
          "line": {
           "color": "Grey",
           "width": 0.5
          },
          "showscale": false
         },
         "mode": "markers",
         "showlegend": false,
         "type": "scatter",
         "x": [
          0.0035498788321965025,
          0.0026471141828218157,
          0.008569331925053986,
          0.03699972431463808,
          0.411511304956109,
          0.38211294416912245,
          0.0012902113024567154,
          0.0404877881815341,
          0.8264588941152486,
          0.15882107231676543,
          0.20690550086963347,
          0.13341517481633328,
          0.12151362993311442,
          0.8675145655490915,
          0.07729443028734513,
          0.3444315140977616
         ],
         "xaxis": "x4",
         "y": [
          0.5967335254562047,
          0.6184598051405754,
          0.5233455573713329,
          0.4135077642757382,
          0.38797169527703657,
          0.48554161494647613,
          0.6513827334700728,
          0.43322869655213225,
          0.5276990147146629,
          0.3895251437757331,
          0.40468399162037577,
          0.3537327900333324,
          0.389529660605126,
          0.4147123753726313,
          0.4157193493222701,
          0.4648339002118201
         ],
         "yaxis": "y4"
        },
        {
         "marker": {
          "color": [
           1,
           6,
           7,
           8,
           10,
           11,
           12,
           13,
           14,
           15,
           16,
           17,
           18,
           19,
           66,
           219
          ],
          "colorbar": {
           "title": {
            "text": "Trial"
           },
           "x": 1,
           "xpad": 40
          },
          "colorscale": [
           [
            0,
            "rgb(247,251,255)"
           ],
           [
            0.125,
            "rgb(222,235,247)"
           ],
           [
            0.25,
            "rgb(198,219,239)"
           ],
           [
            0.375,
            "rgb(158,202,225)"
           ],
           [
            0.5,
            "rgb(107,174,214)"
           ],
           [
            0.625,
            "rgb(66,146,198)"
           ],
           [
            0.75,
            "rgb(33,113,181)"
           ],
           [
            0.875,
            "rgb(8,81,156)"
           ],
           [
            1,
            "rgb(8,48,107)"
           ]
          ],
          "line": {
           "color": "Grey",
           "width": 0.5
          },
          "showscale": false
         },
         "mode": "markers",
         "showlegend": false,
         "type": "scatter",
         "x": [
          0.000002716051144654844,
          0.026156272064707428,
          0.000003994538177154855,
          0.00002632256136809142,
          0.026876741555610546,
          1.1366245816554797e-8,
          0.0007525141520487903,
          5.276162470390128e-8,
          0.6090097675018683,
          0.0007202349503619245,
          0.0028138475160906663,
          0.024208002338502885,
          0.11234659313668886,
          0.02355131967330587,
          0.790891120470132,
          0.008188616485489788
         ],
         "xaxis": "x5",
         "y": [
          0.5967335254562047,
          0.6184598051405754,
          0.5233455573713329,
          0.4135077642757382,
          0.38797169527703657,
          0.48554161494647613,
          0.6513827334700728,
          0.43322869655213225,
          0.5276990147146629,
          0.3895251437757331,
          0.40468399162037577,
          0.3537327900333324,
          0.389529660605126,
          0.4147123753726313,
          0.4157193493222701,
          0.4648339002118201
         ],
         "yaxis": "y5"
        },
        {
         "marker": {
          "color": [
           1,
           6,
           7,
           8,
           10,
           11,
           12,
           13,
           14,
           15,
           16,
           17,
           18,
           19,
           66,
           219
          ],
          "colorbar": {
           "title": {
            "text": "Trial"
           },
           "x": 1,
           "xpad": 40
          },
          "colorscale": [
           [
            0,
            "rgb(247,251,255)"
           ],
           [
            0.125,
            "rgb(222,235,247)"
           ],
           [
            0.25,
            "rgb(198,219,239)"
           ],
           [
            0.375,
            "rgb(158,202,225)"
           ],
           [
            0.5,
            "rgb(107,174,214)"
           ],
           [
            0.625,
            "rgb(66,146,198)"
           ],
           [
            0.75,
            "rgb(33,113,181)"
           ],
           [
            0.875,
            "rgb(8,81,156)"
           ],
           [
            1,
            "rgb(8,48,107)"
           ]
          ],
          "line": {
           "color": "Grey",
           "width": 0.5
          },
          "showscale": false
         },
         "mode": "markers",
         "showlegend": false,
         "type": "scatter",
         "x": [
          "depthwise",
          "lossguide",
          "depthwise",
          "lossguide",
          "lossguide",
          "depthwise",
          "depthwise",
          "depthwise",
          "lossguide",
          "lossguide",
          "lossguide",
          "lossguide",
          "lossguide",
          "lossguide",
          "lossguide",
          "lossguide"
         ],
         "xaxis": "x6",
         "y": [
          0.5967335254562047,
          0.6184598051405754,
          0.5233455573713329,
          0.4135077642757382,
          0.38797169527703657,
          0.48554161494647613,
          0.6513827334700728,
          0.43322869655213225,
          0.5276990147146629,
          0.3895251437757331,
          0.40468399162037577,
          0.3537327900333324,
          0.389529660605126,
          0.4147123753726313,
          0.4157193493222701,
          0.4648339002118201
         ],
         "yaxis": "y6"
        },
        {
         "marker": {
          "color": [
           1,
           5,
           6,
           7,
           8,
           9,
           10,
           11,
           12,
           13,
           14,
           15,
           16,
           17,
           18,
           19,
           66,
           219
          ],
          "colorbar": {
           "title": {
            "text": "Trial"
           },
           "x": 1,
           "xpad": 40
          },
          "colorscale": [
           [
            0,
            "rgb(247,251,255)"
           ],
           [
            0.125,
            "rgb(222,235,247)"
           ],
           [
            0.25,
            "rgb(198,219,239)"
           ],
           [
            0.375,
            "rgb(158,202,225)"
           ],
           [
            0.5,
            "rgb(107,174,214)"
           ],
           [
            0.625,
            "rgb(66,146,198)"
           ],
           [
            0.75,
            "rgb(33,113,181)"
           ],
           [
            0.875,
            "rgb(8,81,156)"
           ],
           [
            1,
            "rgb(8,48,107)"
           ]
          ],
          "line": {
           "color": "Grey",
           "width": 0.5
          },
          "showscale": false
         },
         "mode": "markers",
         "showlegend": false,
         "type": "scatter",
         "x": [
          1.4610865886287176e-8,
          0.0006070155694141794,
          0.000001481809088646707,
          8.451863533931625e-8,
          0.005081106499593573,
          0.00011710232809812825,
          0.0000020797523481449624,
          0.000003499675682069358,
          0.5007008855904077,
          7.963433393223581e-7,
          0.000008124962944565012,
          0.004839389592902318,
          0.005201901877653327,
          0.00005007638479414757,
          0.000015672390461139365,
          2.837828725955016e-7,
          0.000021049849528991988,
          1.3696307447668935e-7
         ],
         "xaxis": "x7",
         "y": [
          0.5967335254562047,
          0.6433822087003274,
          0.6184598051405754,
          0.5233455573713329,
          0.4135077642757382,
          0.6033821687360186,
          0.38797169527703657,
          0.48554161494647613,
          0.6513827334700728,
          0.43322869655213225,
          0.5276990147146629,
          0.3895251437757331,
          0.40468399162037577,
          0.3537327900333324,
          0.389529660605126,
          0.4147123753726313,
          0.4157193493222701,
          0.4648339002118201
         ],
         "yaxis": "y7"
        },
        {
         "marker": {
          "color": [
           1,
           6,
           7,
           8,
           10,
           11,
           12,
           13,
           14,
           15,
           16,
           17,
           18,
           19,
           66,
           219
          ],
          "colorbar": {
           "title": {
            "text": "Trial"
           },
           "x": 1,
           "xpad": 40
          },
          "colorscale": [
           [
            0,
            "rgb(247,251,255)"
           ],
           [
            0.125,
            "rgb(222,235,247)"
           ],
           [
            0.25,
            "rgb(198,219,239)"
           ],
           [
            0.375,
            "rgb(158,202,225)"
           ],
           [
            0.5,
            "rgb(107,174,214)"
           ],
           [
            0.625,
            "rgb(66,146,198)"
           ],
           [
            0.75,
            "rgb(33,113,181)"
           ],
           [
            0.875,
            "rgb(8,81,156)"
           ],
           [
            1,
            "rgb(8,48,107)"
           ]
          ],
          "line": {
           "color": "Grey",
           "width": 0.5
          },
          "showscale": false
         },
         "mode": "markers",
         "showlegend": false,
         "type": "scatter",
         "x": [
          3,
          9,
          2,
          8,
          11,
          14,
          5,
          11,
          15,
          7,
          7,
          12,
          12,
          12,
          16,
          10
         ],
         "xaxis": "x8",
         "y": [
          0.5967335254562047,
          0.6184598051405754,
          0.5233455573713329,
          0.4135077642757382,
          0.38797169527703657,
          0.48554161494647613,
          0.6513827334700728,
          0.43322869655213225,
          0.5276990147146629,
          0.3895251437757331,
          0.40468399162037577,
          0.3537327900333324,
          0.389529660605126,
          0.4147123753726313,
          0.4157193493222701,
          0.4648339002118201
         ],
         "yaxis": "y8"
        },
        {
         "marker": {
          "color": [
           6,
           11,
           12,
           13
          ],
          "colorbar": {
           "title": {
            "text": "Trial"
           },
           "x": 1,
           "xpad": 40
          },
          "colorscale": [
           [
            0,
            "rgb(247,251,255)"
           ],
           [
            0.125,
            "rgb(222,235,247)"
           ],
           [
            0.25,
            "rgb(198,219,239)"
           ],
           [
            0.375,
            "rgb(158,202,225)"
           ],
           [
            0.5,
            "rgb(107,174,214)"
           ],
           [
            0.625,
            "rgb(66,146,198)"
           ],
           [
            0.75,
            "rgb(33,113,181)"
           ],
           [
            0.875,
            "rgb(8,81,156)"
           ],
           [
            1,
            "rgb(8,48,107)"
           ]
          ],
          "line": {
           "color": "Grey",
           "width": 0.5
          },
          "showscale": false
         },
         "mode": "markers",
         "showlegend": false,
         "type": "scatter",
         "x": [
          "forest",
          "forest",
          "tree",
          "forest"
         ],
         "xaxis": "x9",
         "y": [
          0.6184598051405754,
          0.48554161494647613,
          0.6513827334700728,
          0.43322869655213225
         ],
         "yaxis": "y9"
        },
        {
         "marker": {
          "color": [
           6,
           11,
           12,
           13
          ],
          "colorbar": {
           "title": {
            "text": "Trial"
           },
           "x": 1,
           "xpad": 40
          },
          "colorscale": [
           [
            0,
            "rgb(247,251,255)"
           ],
           [
            0.125,
            "rgb(222,235,247)"
           ],
           [
            0.25,
            "rgb(198,219,239)"
           ],
           [
            0.375,
            "rgb(158,202,225)"
           ],
           [
            0.5,
            "rgb(107,174,214)"
           ],
           [
            0.625,
            "rgb(66,146,198)"
           ],
           [
            0.75,
            "rgb(33,113,181)"
           ],
           [
            0.875,
            "rgb(8,81,156)"
           ],
           [
            1,
            "rgb(8,48,107)"
           ]
          ],
          "line": {
           "color": "Grey",
           "width": 0.5
          },
          "showscale": false
         },
         "mode": "markers",
         "showlegend": false,
         "type": "scatter",
         "x": [
          0.0045170900739091345,
          0.0000038514428343995194,
          0.000082342127198163,
          1.3573837053629966e-8
         ],
         "xaxis": "x10",
         "y": [
          0.6184598051405754,
          0.48554161494647613,
          0.6513827334700728,
          0.43322869655213225
         ],
         "yaxis": "y10"
        },
        {
         "marker": {
          "color": [
           6,
           11,
           12,
           13
          ],
          "colorbar": {
           "title": {
            "text": "Trial"
           },
           "x": 1,
           "xpad": 40
          },
          "colorscale": [
           [
            0,
            "rgb(247,251,255)"
           ],
           [
            0.125,
            "rgb(222,235,247)"
           ],
           [
            0.25,
            "rgb(198,219,239)"
           ],
           [
            0.375,
            "rgb(158,202,225)"
           ],
           [
            0.5,
            "rgb(107,174,214)"
           ],
           [
            0.625,
            "rgb(66,146,198)"
           ],
           [
            0.75,
            "rgb(33,113,181)"
           ],
           [
            0.875,
            "rgb(8,81,156)"
           ],
           [
            1,
            "rgb(8,48,107)"
           ]
          ],
          "line": {
           "color": "Grey",
           "width": 0.5
          },
          "showscale": false
         },
         "mode": "markers",
         "showlegend": false,
         "type": "scatter",
         "x": [
          "uniform",
          "uniform",
          "weighted",
          "uniform"
         ],
         "xaxis": "x11",
         "y": [
          0.6184598051405754,
          0.48554161494647613,
          0.6513827334700728,
          0.43322869655213225
         ],
         "yaxis": "y11"
        },
        {
         "marker": {
          "color": [
           6,
           11,
           12,
           13
          ],
          "colorbar": {
           "title": {
            "text": "Trial"
           },
           "x": 1,
           "xpad": 40
          },
          "colorscale": [
           [
            0,
            "rgb(247,251,255)"
           ],
           [
            0.125,
            "rgb(222,235,247)"
           ],
           [
            0.25,
            "rgb(198,219,239)"
           ],
           [
            0.375,
            "rgb(158,202,225)"
           ],
           [
            0.5,
            "rgb(107,174,214)"
           ],
           [
            0.625,
            "rgb(66,146,198)"
           ],
           [
            0.75,
            "rgb(33,113,181)"
           ],
           [
            0.875,
            "rgb(8,81,156)"
           ],
           [
            1,
            "rgb(8,48,107)"
           ]
          ],
          "line": {
           "color": "Grey",
           "width": 0.5
          },
          "showscale": false
         },
         "mode": "markers",
         "showlegend": false,
         "type": "scatter",
         "x": [
          0.006792933207180863,
          0.00014135949140057862,
          0.7677213757517419,
          0.0001249523609345854
         ],
         "xaxis": "x12",
         "y": [
          0.6184598051405754,
          0.48554161494647613,
          0.6513827334700728,
          0.43322869655213225
         ],
         "yaxis": "y12"
        },
        {
         "marker": {
          "color": [
           1,
           5,
           6,
           7,
           8,
           9,
           10,
           11,
           12,
           13,
           14,
           15,
           16,
           17,
           18,
           19,
           66,
           219
          ],
          "colorbar": {
           "title": {
            "text": "Trial"
           },
           "x": 1,
           "xpad": 40
          },
          "colorscale": [
           [
            0,
            "rgb(247,251,255)"
           ],
           [
            0.125,
            "rgb(222,235,247)"
           ],
           [
            0.25,
            "rgb(198,219,239)"
           ],
           [
            0.375,
            "rgb(158,202,225)"
           ],
           [
            0.5,
            "rgb(107,174,214)"
           ],
           [
            0.625,
            "rgb(66,146,198)"
           ],
           [
            0.75,
            "rgb(33,113,181)"
           ],
           [
            0.875,
            "rgb(8,81,156)"
           ],
           [
            1,
            "rgb(8,48,107)"
           ]
          ],
          "line": {
           "color": "Grey",
           "width": 0.5
          },
          "showscale": false
         },
         "mode": "markers",
         "showlegend": false,
         "type": "scatter",
         "x": [
          0.6994655844802531,
          0.2530955012311517,
          0.4140519960161536,
          0.5739788760965348,
          0.5367663185416978,
          0.349575337489325,
          0.757818591405544,
          0.33676109752516503,
          0.4983491035354313,
          0.420669879631552,
          0.7730675009063073,
          0.6372224440894432,
          0.6745014789327672,
          0.7996174631849311,
          0.7976101936167284,
          0.7377626262696191,
          0.7829871658936365,
          0.630545694690643
         ],
         "xaxis": "x13",
         "y": [
          0.5967335254562047,
          0.6433822087003274,
          0.6184598051405754,
          0.5233455573713329,
          0.4135077642757382,
          0.6033821687360186,
          0.38797169527703657,
          0.48554161494647613,
          0.6513827334700728,
          0.43322869655213225,
          0.5276990147146629,
          0.3895251437757331,
          0.40468399162037577,
          0.3537327900333324,
          0.389529660605126,
          0.4147123753726313,
          0.4157193493222701,
          0.4648339002118201
         ],
         "yaxis": "y13"
        }
       ],
       "layout": {
        "template": {
         "data": {
          "bar": [
           {
            "error_x": {
             "color": "#2a3f5f"
            },
            "error_y": {
             "color": "#2a3f5f"
            },
            "marker": {
             "line": {
              "color": "#E5ECF6",
              "width": 0.5
             },
             "pattern": {
              "fillmode": "overlay",
              "size": 10,
              "solidity": 0.2
             }
            },
            "type": "bar"
           }
          ],
          "barpolar": [
           {
            "marker": {
             "line": {
              "color": "#E5ECF6",
              "width": 0.5
             },
             "pattern": {
              "fillmode": "overlay",
              "size": 10,
              "solidity": 0.2
             }
            },
            "type": "barpolar"
           }
          ],
          "carpet": [
           {
            "aaxis": {
             "endlinecolor": "#2a3f5f",
             "gridcolor": "white",
             "linecolor": "white",
             "minorgridcolor": "white",
             "startlinecolor": "#2a3f5f"
            },
            "baxis": {
             "endlinecolor": "#2a3f5f",
             "gridcolor": "white",
             "linecolor": "white",
             "minorgridcolor": "white",
             "startlinecolor": "#2a3f5f"
            },
            "type": "carpet"
           }
          ],
          "choropleth": [
           {
            "colorbar": {
             "outlinewidth": 0,
             "ticks": ""
            },
            "type": "choropleth"
           }
          ],
          "contour": [
           {
            "colorbar": {
             "outlinewidth": 0,
             "ticks": ""
            },
            "colorscale": [
             [
              0,
              "#0d0887"
             ],
             [
              0.1111111111111111,
              "#46039f"
             ],
             [
              0.2222222222222222,
              "#7201a8"
             ],
             [
              0.3333333333333333,
              "#9c179e"
             ],
             [
              0.4444444444444444,
              "#bd3786"
             ],
             [
              0.5555555555555556,
              "#d8576b"
             ],
             [
              0.6666666666666666,
              "#ed7953"
             ],
             [
              0.7777777777777778,
              "#fb9f3a"
             ],
             [
              0.8888888888888888,
              "#fdca26"
             ],
             [
              1,
              "#f0f921"
             ]
            ],
            "type": "contour"
           }
          ],
          "contourcarpet": [
           {
            "colorbar": {
             "outlinewidth": 0,
             "ticks": ""
            },
            "type": "contourcarpet"
           }
          ],
          "heatmap": [
           {
            "colorbar": {
             "outlinewidth": 0,
             "ticks": ""
            },
            "colorscale": [
             [
              0,
              "#0d0887"
             ],
             [
              0.1111111111111111,
              "#46039f"
             ],
             [
              0.2222222222222222,
              "#7201a8"
             ],
             [
              0.3333333333333333,
              "#9c179e"
             ],
             [
              0.4444444444444444,
              "#bd3786"
             ],
             [
              0.5555555555555556,
              "#d8576b"
             ],
             [
              0.6666666666666666,
              "#ed7953"
             ],
             [
              0.7777777777777778,
              "#fb9f3a"
             ],
             [
              0.8888888888888888,
              "#fdca26"
             ],
             [
              1,
              "#f0f921"
             ]
            ],
            "type": "heatmap"
           }
          ],
          "heatmapgl": [
           {
            "colorbar": {
             "outlinewidth": 0,
             "ticks": ""
            },
            "colorscale": [
             [
              0,
              "#0d0887"
             ],
             [
              0.1111111111111111,
              "#46039f"
             ],
             [
              0.2222222222222222,
              "#7201a8"
             ],
             [
              0.3333333333333333,
              "#9c179e"
             ],
             [
              0.4444444444444444,
              "#bd3786"
             ],
             [
              0.5555555555555556,
              "#d8576b"
             ],
             [
              0.6666666666666666,
              "#ed7953"
             ],
             [
              0.7777777777777778,
              "#fb9f3a"
             ],
             [
              0.8888888888888888,
              "#fdca26"
             ],
             [
              1,
              "#f0f921"
             ]
            ],
            "type": "heatmapgl"
           }
          ],
          "histogram": [
           {
            "marker": {
             "pattern": {
              "fillmode": "overlay",
              "size": 10,
              "solidity": 0.2
             }
            },
            "type": "histogram"
           }
          ],
          "histogram2d": [
           {
            "colorbar": {
             "outlinewidth": 0,
             "ticks": ""
            },
            "colorscale": [
             [
              0,
              "#0d0887"
             ],
             [
              0.1111111111111111,
              "#46039f"
             ],
             [
              0.2222222222222222,
              "#7201a8"
             ],
             [
              0.3333333333333333,
              "#9c179e"
             ],
             [
              0.4444444444444444,
              "#bd3786"
             ],
             [
              0.5555555555555556,
              "#d8576b"
             ],
             [
              0.6666666666666666,
              "#ed7953"
             ],
             [
              0.7777777777777778,
              "#fb9f3a"
             ],
             [
              0.8888888888888888,
              "#fdca26"
             ],
             [
              1,
              "#f0f921"
             ]
            ],
            "type": "histogram2d"
           }
          ],
          "histogram2dcontour": [
           {
            "colorbar": {
             "outlinewidth": 0,
             "ticks": ""
            },
            "colorscale": [
             [
              0,
              "#0d0887"
             ],
             [
              0.1111111111111111,
              "#46039f"
             ],
             [
              0.2222222222222222,
              "#7201a8"
             ],
             [
              0.3333333333333333,
              "#9c179e"
             ],
             [
              0.4444444444444444,
              "#bd3786"
             ],
             [
              0.5555555555555556,
              "#d8576b"
             ],
             [
              0.6666666666666666,
              "#ed7953"
             ],
             [
              0.7777777777777778,
              "#fb9f3a"
             ],
             [
              0.8888888888888888,
              "#fdca26"
             ],
             [
              1,
              "#f0f921"
             ]
            ],
            "type": "histogram2dcontour"
           }
          ],
          "mesh3d": [
           {
            "colorbar": {
             "outlinewidth": 0,
             "ticks": ""
            },
            "type": "mesh3d"
           }
          ],
          "parcoords": [
           {
            "line": {
             "colorbar": {
              "outlinewidth": 0,
              "ticks": ""
             }
            },
            "type": "parcoords"
           }
          ],
          "pie": [
           {
            "automargin": true,
            "type": "pie"
           }
          ],
          "scatter": [
           {
            "fillpattern": {
             "fillmode": "overlay",
             "size": 10,
             "solidity": 0.2
            },
            "type": "scatter"
           }
          ],
          "scatter3d": [
           {
            "line": {
             "colorbar": {
              "outlinewidth": 0,
              "ticks": ""
             }
            },
            "marker": {
             "colorbar": {
              "outlinewidth": 0,
              "ticks": ""
             }
            },
            "type": "scatter3d"
           }
          ],
          "scattercarpet": [
           {
            "marker": {
             "colorbar": {
              "outlinewidth": 0,
              "ticks": ""
             }
            },
            "type": "scattercarpet"
           }
          ],
          "scattergeo": [
           {
            "marker": {
             "colorbar": {
              "outlinewidth": 0,
              "ticks": ""
             }
            },
            "type": "scattergeo"
           }
          ],
          "scattergl": [
           {
            "marker": {
             "colorbar": {
              "outlinewidth": 0,
              "ticks": ""
             }
            },
            "type": "scattergl"
           }
          ],
          "scattermapbox": [
           {
            "marker": {
             "colorbar": {
              "outlinewidth": 0,
              "ticks": ""
             }
            },
            "type": "scattermapbox"
           }
          ],
          "scatterpolar": [
           {
            "marker": {
             "colorbar": {
              "outlinewidth": 0,
              "ticks": ""
             }
            },
            "type": "scatterpolar"
           }
          ],
          "scatterpolargl": [
           {
            "marker": {
             "colorbar": {
              "outlinewidth": 0,
              "ticks": ""
             }
            },
            "type": "scatterpolargl"
           }
          ],
          "scatterternary": [
           {
            "marker": {
             "colorbar": {
              "outlinewidth": 0,
              "ticks": ""
             }
            },
            "type": "scatterternary"
           }
          ],
          "surface": [
           {
            "colorbar": {
             "outlinewidth": 0,
             "ticks": ""
            },
            "colorscale": [
             [
              0,
              "#0d0887"
             ],
             [
              0.1111111111111111,
              "#46039f"
             ],
             [
              0.2222222222222222,
              "#7201a8"
             ],
             [
              0.3333333333333333,
              "#9c179e"
             ],
             [
              0.4444444444444444,
              "#bd3786"
             ],
             [
              0.5555555555555556,
              "#d8576b"
             ],
             [
              0.6666666666666666,
              "#ed7953"
             ],
             [
              0.7777777777777778,
              "#fb9f3a"
             ],
             [
              0.8888888888888888,
              "#fdca26"
             ],
             [
              1,
              "#f0f921"
             ]
            ],
            "type": "surface"
           }
          ],
          "table": [
           {
            "cells": {
             "fill": {
              "color": "#EBF0F8"
             },
             "line": {
              "color": "white"
             }
            },
            "header": {
             "fill": {
              "color": "#C8D4E3"
             },
             "line": {
              "color": "white"
             }
            },
            "type": "table"
           }
          ]
         },
         "layout": {
          "annotationdefaults": {
           "arrowcolor": "#2a3f5f",
           "arrowhead": 0,
           "arrowwidth": 1
          },
          "autotypenumbers": "strict",
          "coloraxis": {
           "colorbar": {
            "outlinewidth": 0,
            "ticks": ""
           }
          },
          "colorscale": {
           "diverging": [
            [
             0,
             "#8e0152"
            ],
            [
             0.1,
             "#c51b7d"
            ],
            [
             0.2,
             "#de77ae"
            ],
            [
             0.3,
             "#f1b6da"
            ],
            [
             0.4,
             "#fde0ef"
            ],
            [
             0.5,
             "#f7f7f7"
            ],
            [
             0.6,
             "#e6f5d0"
            ],
            [
             0.7,
             "#b8e186"
            ],
            [
             0.8,
             "#7fbc41"
            ],
            [
             0.9,
             "#4d9221"
            ],
            [
             1,
             "#276419"
            ]
           ],
           "sequential": [
            [
             0,
             "#0d0887"
            ],
            [
             0.1111111111111111,
             "#46039f"
            ],
            [
             0.2222222222222222,
             "#7201a8"
            ],
            [
             0.3333333333333333,
             "#9c179e"
            ],
            [
             0.4444444444444444,
             "#bd3786"
            ],
            [
             0.5555555555555556,
             "#d8576b"
            ],
            [
             0.6666666666666666,
             "#ed7953"
            ],
            [
             0.7777777777777778,
             "#fb9f3a"
            ],
            [
             0.8888888888888888,
             "#fdca26"
            ],
            [
             1,
             "#f0f921"
            ]
           ],
           "sequentialminus": [
            [
             0,
             "#0d0887"
            ],
            [
             0.1111111111111111,
             "#46039f"
            ],
            [
             0.2222222222222222,
             "#7201a8"
            ],
            [
             0.3333333333333333,
             "#9c179e"
            ],
            [
             0.4444444444444444,
             "#bd3786"
            ],
            [
             0.5555555555555556,
             "#d8576b"
            ],
            [
             0.6666666666666666,
             "#ed7953"
            ],
            [
             0.7777777777777778,
             "#fb9f3a"
            ],
            [
             0.8888888888888888,
             "#fdca26"
            ],
            [
             1,
             "#f0f921"
            ]
           ]
          },
          "colorway": [
           "#636efa",
           "#EF553B",
           "#00cc96",
           "#ab63fa",
           "#FFA15A",
           "#19d3f3",
           "#FF6692",
           "#B6E880",
           "#FF97FF",
           "#FECB52"
          ],
          "font": {
           "color": "#2a3f5f"
          },
          "geo": {
           "bgcolor": "white",
           "lakecolor": "white",
           "landcolor": "#E5ECF6",
           "showlakes": true,
           "showland": true,
           "subunitcolor": "white"
          },
          "hoverlabel": {
           "align": "left"
          },
          "hovermode": "closest",
          "mapbox": {
           "style": "light"
          },
          "paper_bgcolor": "white",
          "plot_bgcolor": "#E5ECF6",
          "polar": {
           "angularaxis": {
            "gridcolor": "white",
            "linecolor": "white",
            "ticks": ""
           },
           "bgcolor": "#E5ECF6",
           "radialaxis": {
            "gridcolor": "white",
            "linecolor": "white",
            "ticks": ""
           }
          },
          "scene": {
           "xaxis": {
            "backgroundcolor": "#E5ECF6",
            "gridcolor": "white",
            "gridwidth": 2,
            "linecolor": "white",
            "showbackground": true,
            "ticks": "",
            "zerolinecolor": "white"
           },
           "yaxis": {
            "backgroundcolor": "#E5ECF6",
            "gridcolor": "white",
            "gridwidth": 2,
            "linecolor": "white",
            "showbackground": true,
            "ticks": "",
            "zerolinecolor": "white"
           },
           "zaxis": {
            "backgroundcolor": "#E5ECF6",
            "gridcolor": "white",
            "gridwidth": 2,
            "linecolor": "white",
            "showbackground": true,
            "ticks": "",
            "zerolinecolor": "white"
           }
          },
          "shapedefaults": {
           "line": {
            "color": "#2a3f5f"
           }
          },
          "ternary": {
           "aaxis": {
            "gridcolor": "white",
            "linecolor": "white",
            "ticks": ""
           },
           "baxis": {
            "gridcolor": "white",
            "linecolor": "white",
            "ticks": ""
           },
           "bgcolor": "#E5ECF6",
           "caxis": {
            "gridcolor": "white",
            "linecolor": "white",
            "ticks": ""
           }
          },
          "title": {
           "x": 0.05
          },
          "xaxis": {
           "automargin": true,
           "gridcolor": "white",
           "linecolor": "white",
           "ticks": "",
           "title": {
            "standoff": 15
           },
           "zerolinecolor": "white",
           "zerolinewidth": 2
          },
          "yaxis": {
           "automargin": true,
           "gridcolor": "white",
           "linecolor": "white",
           "ticks": "",
           "title": {
            "standoff": 15
           },
           "zerolinecolor": "white",
           "zerolinewidth": 2
          }
         }
        },
        "title": {
         "text": "Slice Plot"
        },
        "width": 3900,
        "xaxis": {
         "anchor": "y",
         "domain": [
          0,
          0.06272189349112425
         ],
         "title": {
          "text": "alpha"
         },
         "type": "log"
        },
        "xaxis10": {
         "anchor": "y10",
         "domain": [
          0.7029585798816567,
          0.7656804733727809
         ],
         "title": {
          "text": "rate_drop"
         },
         "type": "log"
        },
        "xaxis11": {
         "anchor": "y11",
         "domain": [
          0.7810650887573962,
          0.8437869822485204
         ],
         "title": {
          "text": "sample_type"
         }
        },
        "xaxis12": {
         "anchor": "y12",
         "domain": [
          0.8591715976331358,
          0.92189349112426
         ],
         "title": {
          "text": "skip_drop"
         },
         "type": "log"
        },
        "xaxis13": {
         "anchor": "y13",
         "domain": [
          0.9372781065088754,
          0.9999999999999997
         ],
         "title": {
          "text": "subsample"
         }
        },
        "xaxis2": {
         "anchor": "y2",
         "domain": [
          0.07810650887573964,
          0.1408284023668639
         ],
         "title": {
          "text": "booster"
         }
        },
        "xaxis3": {
         "anchor": "y3",
         "domain": [
          0.15621301775147928,
          0.21893491124260353
         ],
         "title": {
          "text": "colsample_bytree"
         }
        },
        "xaxis4": {
         "anchor": "y4",
         "domain": [
          0.23431952662721892,
          0.29704142011834317
         ],
         "title": {
          "text": "eta"
         },
         "type": "log"
        },
        "xaxis5": {
         "anchor": "y5",
         "domain": [
          0.31242603550295855,
          0.3751479289940828
         ],
         "title": {
          "text": "gamma"
         },
         "type": "log"
        },
        "xaxis6": {
         "anchor": "y6",
         "domain": [
          0.39053254437869817,
          0.45325443786982245
         ],
         "title": {
          "text": "grow_policy"
         }
        },
        "xaxis7": {
         "anchor": "y7",
         "domain": [
          0.4686390532544378,
          0.531360946745562
         ],
         "title": {
          "text": "lambda"
         },
         "type": "log"
        },
        "xaxis8": {
         "anchor": "y8",
         "domain": [
          0.5467455621301773,
          0.6094674556213016
         ],
         "title": {
          "text": "max_depth"
         }
        },
        "xaxis9": {
         "anchor": "y9",
         "domain": [
          0.624852071005917,
          0.6875739644970412
         ],
         "title": {
          "text": "normalize_type"
         }
        },
        "yaxis": {
         "anchor": "x",
         "domain": [
          0,
          1
         ],
         "title": {
          "text": "Objective Value"
         }
        },
        "yaxis10": {
         "anchor": "x10",
         "domain": [
          0,
          1
         ],
         "matches": "y",
         "showticklabels": false
        },
        "yaxis11": {
         "anchor": "x11",
         "domain": [
          0,
          1
         ],
         "matches": "y",
         "showticklabels": false
        },
        "yaxis12": {
         "anchor": "x12",
         "domain": [
          0,
          1
         ],
         "matches": "y",
         "showticklabels": false
        },
        "yaxis13": {
         "anchor": "x13",
         "domain": [
          0,
          1
         ],
         "matches": "y",
         "showticklabels": false
        },
        "yaxis2": {
         "anchor": "x2",
         "domain": [
          0,
          1
         ],
         "matches": "y",
         "showticklabels": false
        },
        "yaxis3": {
         "anchor": "x3",
         "domain": [
          0,
          1
         ],
         "matches": "y",
         "showticklabels": false
        },
        "yaxis4": {
         "anchor": "x4",
         "domain": [
          0,
          1
         ],
         "matches": "y",
         "showticklabels": false
        },
        "yaxis5": {
         "anchor": "x5",
         "domain": [
          0,
          1
         ],
         "matches": "y",
         "showticklabels": false
        },
        "yaxis6": {
         "anchor": "x6",
         "domain": [
          0,
          1
         ],
         "matches": "y",
         "showticklabels": false
        },
        "yaxis7": {
         "anchor": "x7",
         "domain": [
          0,
          1
         ],
         "matches": "y",
         "showticklabels": false
        },
        "yaxis8": {
         "anchor": "x8",
         "domain": [
          0,
          1
         ],
         "matches": "y",
         "showticklabels": false
        },
        "yaxis9": {
         "anchor": "x9",
         "domain": [
          0,
          1
         ],
         "matches": "y",
         "showticklabels": false
        }
       }
      },
      "text/html": [
       "<div>                        <script type=\"text/javascript\">window.PlotlyConfig = {MathJaxConfig: 'local'};</script>\n",
       "        <script charset=\"utf-8\" src=\"https://cdn.plot.ly/plotly-2.24.1.min.js\"></script>                <div id=\"df29811f-88c6-4e1a-b2c0-d1527b053e81\" class=\"plotly-graph-div\" style=\"height:100%; width:3900px;\"></div>            <script type=\"text/javascript\">                                    window.PLOTLYENV=window.PLOTLYENV || {};                                    if (document.getElementById(\"df29811f-88c6-4e1a-b2c0-d1527b053e81\")) {                    Plotly.newPlot(                        \"df29811f-88c6-4e1a-b2c0-d1527b053e81\",                        [{\"marker\":{\"color\":[1,5,6,7,8,9,10,11,12,13,14,15,16,17,18,19,66,219],\"colorbar\":{\"title\":{\"text\":\"Trial\"},\"x\":1.0,\"xpad\":40},\"colorscale\":[[0.0,\"rgb(247,251,255)\"],[0.125,\"rgb(222,235,247)\"],[0.25,\"rgb(198,219,239)\"],[0.375,\"rgb(158,202,225)\"],[0.5,\"rgb(107,174,214)\"],[0.625,\"rgb(66,146,198)\"],[0.75,\"rgb(33,113,181)\"],[0.875,\"rgb(8,81,156)\"],[1.0,\"rgb(8,48,107)\"]],\"line\":{\"color\":\"Grey\",\"width\":0.5},\"showscale\":true},\"mode\":\"markers\",\"showlegend\":false,\"x\":[0.574485163632042,0.23713402899336497,0.04264813784432918,0.08032068562667222,0.012197768563438372,0.1821930437934653,1.9488135833929595e-7,7.593034903208851e-8,1.033375989766645e-6,0.0066946948903108105,8.909025084911593e-6,0.0005852079598515014,0.0002219322141207024,1.0601341392077246e-8,1.2862740622795762e-8,1.0456940308891758e-8,3.4246884993023374e-7,5.009324548277015e-6],\"y\":[0.5967335254562047,0.6433822087003274,0.6184598051405754,0.5233455573713329,0.4135077642757382,0.6033821687360186,0.38797169527703657,0.48554161494647613,0.6513827334700728,0.43322869655213225,0.5276990147146629,0.3895251437757331,0.40468399162037577,0.3537327900333324,0.389529660605126,0.4147123753726313,0.4157193493222701,0.4648339002118201],\"type\":\"scatter\",\"xaxis\":\"x\",\"yaxis\":\"y\"},{\"marker\":{\"color\":[1,5,6,7,8,9,10,11,12,13,14,15,16,17,18,19,66,219],\"colorbar\":{\"title\":{\"text\":\"Trial\"},\"x\":1.0,\"xpad\":40},\"colorscale\":[[0.0,\"rgb(247,251,255)\"],[0.125,\"rgb(222,235,247)\"],[0.25,\"rgb(198,219,239)\"],[0.375,\"rgb(158,202,225)\"],[0.5,\"rgb(107,174,214)\"],[0.625,\"rgb(66,146,198)\"],[0.75,\"rgb(33,113,181)\"],[0.875,\"rgb(8,81,156)\"],[1.0,\"rgb(8,48,107)\"]],\"line\":{\"color\":\"Grey\",\"width\":0.5},\"showscale\":false},\"mode\":\"markers\",\"showlegend\":false,\"x\":[\"gbtree\",\"gblinear\",\"dart\",\"gbtree\",\"gbtree\",\"gblinear\",\"gbtree\",\"dart\",\"dart\",\"dart\",\"gbtree\",\"gbtree\",\"gbtree\",\"gbtree\",\"gbtree\",\"gbtree\",\"gbtree\",\"gbtree\"],\"y\":[0.5967335254562047,0.6433822087003274,0.6184598051405754,0.5233455573713329,0.4135077642757382,0.6033821687360186,0.38797169527703657,0.48554161494647613,0.6513827334700728,0.43322869655213225,0.5276990147146629,0.3895251437757331,0.40468399162037577,0.3537327900333324,0.389529660605126,0.4147123753726313,0.4157193493222701,0.4648339002118201],\"type\":\"scatter\",\"xaxis\":\"x2\",\"yaxis\":\"y2\"},{\"marker\":{\"color\":[1,5,6,7,8,9,10,11,12,13,14,15,16,17,18,19,66,219],\"colorbar\":{\"title\":{\"text\":\"Trial\"},\"x\":1.0,\"xpad\":40},\"colorscale\":[[0.0,\"rgb(247,251,255)\"],[0.125,\"rgb(222,235,247)\"],[0.25,\"rgb(198,219,239)\"],[0.375,\"rgb(158,202,225)\"],[0.5,\"rgb(107,174,214)\"],[0.625,\"rgb(66,146,198)\"],[0.75,\"rgb(33,113,181)\"],[0.875,\"rgb(8,81,156)\"],[1.0,\"rgb(8,48,107)\"]],\"line\":{\"color\":\"Grey\",\"width\":0.5},\"showscale\":false},\"mode\":\"markers\",\"showlegend\":false,\"x\":[0.3274034664069657,0.3175897174514871,0.3685607058124285,0.39853881491158955,0.6625803079727366,0.44622975382137786,0.6848722277386503,0.4562646731757538,0.38052698589006184,0.5793834983561478,0.7888390888089066,0.6423490725632033,0.5874883349517384,0.7148589786704331,0.7796283752859363,0.7165417481368155,0.24630634913685873,0.5251350979070596],\"y\":[0.5967335254562047,0.6433822087003274,0.6184598051405754,0.5233455573713329,0.4135077642757382,0.6033821687360186,0.38797169527703657,0.48554161494647613,0.6513827334700728,0.43322869655213225,0.5276990147146629,0.3895251437757331,0.40468399162037577,0.3537327900333324,0.389529660605126,0.4147123753726313,0.4157193493222701,0.4648339002118201],\"type\":\"scatter\",\"xaxis\":\"x3\",\"yaxis\":\"y3\"},{\"marker\":{\"color\":[1,6,7,8,10,11,12,13,14,15,16,17,18,19,66,219],\"colorbar\":{\"title\":{\"text\":\"Trial\"},\"x\":1.0,\"xpad\":40},\"colorscale\":[[0.0,\"rgb(247,251,255)\"],[0.125,\"rgb(222,235,247)\"],[0.25,\"rgb(198,219,239)\"],[0.375,\"rgb(158,202,225)\"],[0.5,\"rgb(107,174,214)\"],[0.625,\"rgb(66,146,198)\"],[0.75,\"rgb(33,113,181)\"],[0.875,\"rgb(8,81,156)\"],[1.0,\"rgb(8,48,107)\"]],\"line\":{\"color\":\"Grey\",\"width\":0.5},\"showscale\":false},\"mode\":\"markers\",\"showlegend\":false,\"x\":[0.0035498788321965025,0.0026471141828218157,0.008569331925053986,0.03699972431463808,0.411511304956109,0.38211294416912245,0.0012902113024567154,0.0404877881815341,0.8264588941152486,0.15882107231676543,0.20690550086963347,0.13341517481633328,0.12151362993311442,0.8675145655490915,0.07729443028734513,0.3444315140977616],\"y\":[0.5967335254562047,0.6184598051405754,0.5233455573713329,0.4135077642757382,0.38797169527703657,0.48554161494647613,0.6513827334700728,0.43322869655213225,0.5276990147146629,0.3895251437757331,0.40468399162037577,0.3537327900333324,0.389529660605126,0.4147123753726313,0.4157193493222701,0.4648339002118201],\"type\":\"scatter\",\"xaxis\":\"x4\",\"yaxis\":\"y4\"},{\"marker\":{\"color\":[1,6,7,8,10,11,12,13,14,15,16,17,18,19,66,219],\"colorbar\":{\"title\":{\"text\":\"Trial\"},\"x\":1.0,\"xpad\":40},\"colorscale\":[[0.0,\"rgb(247,251,255)\"],[0.125,\"rgb(222,235,247)\"],[0.25,\"rgb(198,219,239)\"],[0.375,\"rgb(158,202,225)\"],[0.5,\"rgb(107,174,214)\"],[0.625,\"rgb(66,146,198)\"],[0.75,\"rgb(33,113,181)\"],[0.875,\"rgb(8,81,156)\"],[1.0,\"rgb(8,48,107)\"]],\"line\":{\"color\":\"Grey\",\"width\":0.5},\"showscale\":false},\"mode\":\"markers\",\"showlegend\":false,\"x\":[2.716051144654844e-6,0.026156272064707428,3.994538177154855e-6,0.00002632256136809142,0.026876741555610546,1.1366245816554797e-8,0.0007525141520487903,5.276162470390128e-8,0.6090097675018683,0.0007202349503619245,0.0028138475160906663,0.024208002338502885,0.11234659313668886,0.02355131967330587,0.790891120470132,0.008188616485489788],\"y\":[0.5967335254562047,0.6184598051405754,0.5233455573713329,0.4135077642757382,0.38797169527703657,0.48554161494647613,0.6513827334700728,0.43322869655213225,0.5276990147146629,0.3895251437757331,0.40468399162037577,0.3537327900333324,0.389529660605126,0.4147123753726313,0.4157193493222701,0.4648339002118201],\"type\":\"scatter\",\"xaxis\":\"x5\",\"yaxis\":\"y5\"},{\"marker\":{\"color\":[1,6,7,8,10,11,12,13,14,15,16,17,18,19,66,219],\"colorbar\":{\"title\":{\"text\":\"Trial\"},\"x\":1.0,\"xpad\":40},\"colorscale\":[[0.0,\"rgb(247,251,255)\"],[0.125,\"rgb(222,235,247)\"],[0.25,\"rgb(198,219,239)\"],[0.375,\"rgb(158,202,225)\"],[0.5,\"rgb(107,174,214)\"],[0.625,\"rgb(66,146,198)\"],[0.75,\"rgb(33,113,181)\"],[0.875,\"rgb(8,81,156)\"],[1.0,\"rgb(8,48,107)\"]],\"line\":{\"color\":\"Grey\",\"width\":0.5},\"showscale\":false},\"mode\":\"markers\",\"showlegend\":false,\"x\":[\"depthwise\",\"lossguide\",\"depthwise\",\"lossguide\",\"lossguide\",\"depthwise\",\"depthwise\",\"depthwise\",\"lossguide\",\"lossguide\",\"lossguide\",\"lossguide\",\"lossguide\",\"lossguide\",\"lossguide\",\"lossguide\"],\"y\":[0.5967335254562047,0.6184598051405754,0.5233455573713329,0.4135077642757382,0.38797169527703657,0.48554161494647613,0.6513827334700728,0.43322869655213225,0.5276990147146629,0.3895251437757331,0.40468399162037577,0.3537327900333324,0.389529660605126,0.4147123753726313,0.4157193493222701,0.4648339002118201],\"type\":\"scatter\",\"xaxis\":\"x6\",\"yaxis\":\"y6\"},{\"marker\":{\"color\":[1,5,6,7,8,9,10,11,12,13,14,15,16,17,18,19,66,219],\"colorbar\":{\"title\":{\"text\":\"Trial\"},\"x\":1.0,\"xpad\":40},\"colorscale\":[[0.0,\"rgb(247,251,255)\"],[0.125,\"rgb(222,235,247)\"],[0.25,\"rgb(198,219,239)\"],[0.375,\"rgb(158,202,225)\"],[0.5,\"rgb(107,174,214)\"],[0.625,\"rgb(66,146,198)\"],[0.75,\"rgb(33,113,181)\"],[0.875,\"rgb(8,81,156)\"],[1.0,\"rgb(8,48,107)\"]],\"line\":{\"color\":\"Grey\",\"width\":0.5},\"showscale\":false},\"mode\":\"markers\",\"showlegend\":false,\"x\":[1.4610865886287176e-8,0.0006070155694141794,1.481809088646707e-6,8.451863533931625e-8,0.005081106499593573,0.00011710232809812825,2.0797523481449624e-6,3.499675682069358e-6,0.5007008855904077,7.963433393223581e-7,8.124962944565012e-6,0.004839389592902318,0.005201901877653327,0.00005007638479414757,0.000015672390461139365,2.837828725955016e-7,0.000021049849528991988,1.3696307447668935e-7],\"y\":[0.5967335254562047,0.6433822087003274,0.6184598051405754,0.5233455573713329,0.4135077642757382,0.6033821687360186,0.38797169527703657,0.48554161494647613,0.6513827334700728,0.43322869655213225,0.5276990147146629,0.3895251437757331,0.40468399162037577,0.3537327900333324,0.389529660605126,0.4147123753726313,0.4157193493222701,0.4648339002118201],\"type\":\"scatter\",\"xaxis\":\"x7\",\"yaxis\":\"y7\"},{\"marker\":{\"color\":[1,6,7,8,10,11,12,13,14,15,16,17,18,19,66,219],\"colorbar\":{\"title\":{\"text\":\"Trial\"},\"x\":1.0,\"xpad\":40},\"colorscale\":[[0.0,\"rgb(247,251,255)\"],[0.125,\"rgb(222,235,247)\"],[0.25,\"rgb(198,219,239)\"],[0.375,\"rgb(158,202,225)\"],[0.5,\"rgb(107,174,214)\"],[0.625,\"rgb(66,146,198)\"],[0.75,\"rgb(33,113,181)\"],[0.875,\"rgb(8,81,156)\"],[1.0,\"rgb(8,48,107)\"]],\"line\":{\"color\":\"Grey\",\"width\":0.5},\"showscale\":false},\"mode\":\"markers\",\"showlegend\":false,\"x\":[3,9,2,8,11,14,5,11,15,7,7,12,12,12,16,10],\"y\":[0.5967335254562047,0.6184598051405754,0.5233455573713329,0.4135077642757382,0.38797169527703657,0.48554161494647613,0.6513827334700728,0.43322869655213225,0.5276990147146629,0.3895251437757331,0.40468399162037577,0.3537327900333324,0.389529660605126,0.4147123753726313,0.4157193493222701,0.4648339002118201],\"type\":\"scatter\",\"xaxis\":\"x8\",\"yaxis\":\"y8\"},{\"marker\":{\"color\":[6,11,12,13],\"colorbar\":{\"title\":{\"text\":\"Trial\"},\"x\":1.0,\"xpad\":40},\"colorscale\":[[0.0,\"rgb(247,251,255)\"],[0.125,\"rgb(222,235,247)\"],[0.25,\"rgb(198,219,239)\"],[0.375,\"rgb(158,202,225)\"],[0.5,\"rgb(107,174,214)\"],[0.625,\"rgb(66,146,198)\"],[0.75,\"rgb(33,113,181)\"],[0.875,\"rgb(8,81,156)\"],[1.0,\"rgb(8,48,107)\"]],\"line\":{\"color\":\"Grey\",\"width\":0.5},\"showscale\":false},\"mode\":\"markers\",\"showlegend\":false,\"x\":[\"forest\",\"forest\",\"tree\",\"forest\"],\"y\":[0.6184598051405754,0.48554161494647613,0.6513827334700728,0.43322869655213225],\"type\":\"scatter\",\"xaxis\":\"x9\",\"yaxis\":\"y9\"},{\"marker\":{\"color\":[6,11,12,13],\"colorbar\":{\"title\":{\"text\":\"Trial\"},\"x\":1.0,\"xpad\":40},\"colorscale\":[[0.0,\"rgb(247,251,255)\"],[0.125,\"rgb(222,235,247)\"],[0.25,\"rgb(198,219,239)\"],[0.375,\"rgb(158,202,225)\"],[0.5,\"rgb(107,174,214)\"],[0.625,\"rgb(66,146,198)\"],[0.75,\"rgb(33,113,181)\"],[0.875,\"rgb(8,81,156)\"],[1.0,\"rgb(8,48,107)\"]],\"line\":{\"color\":\"Grey\",\"width\":0.5},\"showscale\":false},\"mode\":\"markers\",\"showlegend\":false,\"x\":[0.0045170900739091345,3.8514428343995194e-6,0.000082342127198163,1.3573837053629966e-8],\"y\":[0.6184598051405754,0.48554161494647613,0.6513827334700728,0.43322869655213225],\"type\":\"scatter\",\"xaxis\":\"x10\",\"yaxis\":\"y10\"},{\"marker\":{\"color\":[6,11,12,13],\"colorbar\":{\"title\":{\"text\":\"Trial\"},\"x\":1.0,\"xpad\":40},\"colorscale\":[[0.0,\"rgb(247,251,255)\"],[0.125,\"rgb(222,235,247)\"],[0.25,\"rgb(198,219,239)\"],[0.375,\"rgb(158,202,225)\"],[0.5,\"rgb(107,174,214)\"],[0.625,\"rgb(66,146,198)\"],[0.75,\"rgb(33,113,181)\"],[0.875,\"rgb(8,81,156)\"],[1.0,\"rgb(8,48,107)\"]],\"line\":{\"color\":\"Grey\",\"width\":0.5},\"showscale\":false},\"mode\":\"markers\",\"showlegend\":false,\"x\":[\"uniform\",\"uniform\",\"weighted\",\"uniform\"],\"y\":[0.6184598051405754,0.48554161494647613,0.6513827334700728,0.43322869655213225],\"type\":\"scatter\",\"xaxis\":\"x11\",\"yaxis\":\"y11\"},{\"marker\":{\"color\":[6,11,12,13],\"colorbar\":{\"title\":{\"text\":\"Trial\"},\"x\":1.0,\"xpad\":40},\"colorscale\":[[0.0,\"rgb(247,251,255)\"],[0.125,\"rgb(222,235,247)\"],[0.25,\"rgb(198,219,239)\"],[0.375,\"rgb(158,202,225)\"],[0.5,\"rgb(107,174,214)\"],[0.625,\"rgb(66,146,198)\"],[0.75,\"rgb(33,113,181)\"],[0.875,\"rgb(8,81,156)\"],[1.0,\"rgb(8,48,107)\"]],\"line\":{\"color\":\"Grey\",\"width\":0.5},\"showscale\":false},\"mode\":\"markers\",\"showlegend\":false,\"x\":[0.006792933207180863,0.00014135949140057862,0.7677213757517419,0.0001249523609345854],\"y\":[0.6184598051405754,0.48554161494647613,0.6513827334700728,0.43322869655213225],\"type\":\"scatter\",\"xaxis\":\"x12\",\"yaxis\":\"y12\"},{\"marker\":{\"color\":[1,5,6,7,8,9,10,11,12,13,14,15,16,17,18,19,66,219],\"colorbar\":{\"title\":{\"text\":\"Trial\"},\"x\":1.0,\"xpad\":40},\"colorscale\":[[0.0,\"rgb(247,251,255)\"],[0.125,\"rgb(222,235,247)\"],[0.25,\"rgb(198,219,239)\"],[0.375,\"rgb(158,202,225)\"],[0.5,\"rgb(107,174,214)\"],[0.625,\"rgb(66,146,198)\"],[0.75,\"rgb(33,113,181)\"],[0.875,\"rgb(8,81,156)\"],[1.0,\"rgb(8,48,107)\"]],\"line\":{\"color\":\"Grey\",\"width\":0.5},\"showscale\":false},\"mode\":\"markers\",\"showlegend\":false,\"x\":[0.6994655844802531,0.2530955012311517,0.4140519960161536,0.5739788760965348,0.5367663185416978,0.349575337489325,0.757818591405544,0.33676109752516503,0.4983491035354313,0.420669879631552,0.7730675009063073,0.6372224440894432,0.6745014789327672,0.7996174631849311,0.7976101936167284,0.7377626262696191,0.7829871658936365,0.630545694690643],\"y\":[0.5967335254562047,0.6433822087003274,0.6184598051405754,0.5233455573713329,0.4135077642757382,0.6033821687360186,0.38797169527703657,0.48554161494647613,0.6513827334700728,0.43322869655213225,0.5276990147146629,0.3895251437757331,0.40468399162037577,0.3537327900333324,0.389529660605126,0.4147123753726313,0.4157193493222701,0.4648339002118201],\"type\":\"scatter\",\"xaxis\":\"x13\",\"yaxis\":\"y13\"}],                        {\"template\":{\"data\":{\"histogram2dcontour\":[{\"type\":\"histogram2dcontour\",\"colorbar\":{\"outlinewidth\":0,\"ticks\":\"\"},\"colorscale\":[[0.0,\"#0d0887\"],[0.1111111111111111,\"#46039f\"],[0.2222222222222222,\"#7201a8\"],[0.3333333333333333,\"#9c179e\"],[0.4444444444444444,\"#bd3786\"],[0.5555555555555556,\"#d8576b\"],[0.6666666666666666,\"#ed7953\"],[0.7777777777777778,\"#fb9f3a\"],[0.8888888888888888,\"#fdca26\"],[1.0,\"#f0f921\"]]}],\"choropleth\":[{\"type\":\"choropleth\",\"colorbar\":{\"outlinewidth\":0,\"ticks\":\"\"}}],\"histogram2d\":[{\"type\":\"histogram2d\",\"colorbar\":{\"outlinewidth\":0,\"ticks\":\"\"},\"colorscale\":[[0.0,\"#0d0887\"],[0.1111111111111111,\"#46039f\"],[0.2222222222222222,\"#7201a8\"],[0.3333333333333333,\"#9c179e\"],[0.4444444444444444,\"#bd3786\"],[0.5555555555555556,\"#d8576b\"],[0.6666666666666666,\"#ed7953\"],[0.7777777777777778,\"#fb9f3a\"],[0.8888888888888888,\"#fdca26\"],[1.0,\"#f0f921\"]]}],\"heatmap\":[{\"type\":\"heatmap\",\"colorbar\":{\"outlinewidth\":0,\"ticks\":\"\"},\"colorscale\":[[0.0,\"#0d0887\"],[0.1111111111111111,\"#46039f\"],[0.2222222222222222,\"#7201a8\"],[0.3333333333333333,\"#9c179e\"],[0.4444444444444444,\"#bd3786\"],[0.5555555555555556,\"#d8576b\"],[0.6666666666666666,\"#ed7953\"],[0.7777777777777778,\"#fb9f3a\"],[0.8888888888888888,\"#fdca26\"],[1.0,\"#f0f921\"]]}],\"heatmapgl\":[{\"type\":\"heatmapgl\",\"colorbar\":{\"outlinewidth\":0,\"ticks\":\"\"},\"colorscale\":[[0.0,\"#0d0887\"],[0.1111111111111111,\"#46039f\"],[0.2222222222222222,\"#7201a8\"],[0.3333333333333333,\"#9c179e\"],[0.4444444444444444,\"#bd3786\"],[0.5555555555555556,\"#d8576b\"],[0.6666666666666666,\"#ed7953\"],[0.7777777777777778,\"#fb9f3a\"],[0.8888888888888888,\"#fdca26\"],[1.0,\"#f0f921\"]]}],\"contourcarpet\":[{\"type\":\"contourcarpet\",\"colorbar\":{\"outlinewidth\":0,\"ticks\":\"\"}}],\"contour\":[{\"type\":\"contour\",\"colorbar\":{\"outlinewidth\":0,\"ticks\":\"\"},\"colorscale\":[[0.0,\"#0d0887\"],[0.1111111111111111,\"#46039f\"],[0.2222222222222222,\"#7201a8\"],[0.3333333333333333,\"#9c179e\"],[0.4444444444444444,\"#bd3786\"],[0.5555555555555556,\"#d8576b\"],[0.6666666666666666,\"#ed7953\"],[0.7777777777777778,\"#fb9f3a\"],[0.8888888888888888,\"#fdca26\"],[1.0,\"#f0f921\"]]}],\"surface\":[{\"type\":\"surface\",\"colorbar\":{\"outlinewidth\":0,\"ticks\":\"\"},\"colorscale\":[[0.0,\"#0d0887\"],[0.1111111111111111,\"#46039f\"],[0.2222222222222222,\"#7201a8\"],[0.3333333333333333,\"#9c179e\"],[0.4444444444444444,\"#bd3786\"],[0.5555555555555556,\"#d8576b\"],[0.6666666666666666,\"#ed7953\"],[0.7777777777777778,\"#fb9f3a\"],[0.8888888888888888,\"#fdca26\"],[1.0,\"#f0f921\"]]}],\"mesh3d\":[{\"type\":\"mesh3d\",\"colorbar\":{\"outlinewidth\":0,\"ticks\":\"\"}}],\"scatter\":[{\"fillpattern\":{\"fillmode\":\"overlay\",\"size\":10,\"solidity\":0.2},\"type\":\"scatter\"}],\"parcoords\":[{\"type\":\"parcoords\",\"line\":{\"colorbar\":{\"outlinewidth\":0,\"ticks\":\"\"}}}],\"scatterpolargl\":[{\"type\":\"scatterpolargl\",\"marker\":{\"colorbar\":{\"outlinewidth\":0,\"ticks\":\"\"}}}],\"bar\":[{\"error_x\":{\"color\":\"#2a3f5f\"},\"error_y\":{\"color\":\"#2a3f5f\"},\"marker\":{\"line\":{\"color\":\"#E5ECF6\",\"width\":0.5},\"pattern\":{\"fillmode\":\"overlay\",\"size\":10,\"solidity\":0.2}},\"type\":\"bar\"}],\"scattergeo\":[{\"type\":\"scattergeo\",\"marker\":{\"colorbar\":{\"outlinewidth\":0,\"ticks\":\"\"}}}],\"scatterpolar\":[{\"type\":\"scatterpolar\",\"marker\":{\"colorbar\":{\"outlinewidth\":0,\"ticks\":\"\"}}}],\"histogram\":[{\"marker\":{\"pattern\":{\"fillmode\":\"overlay\",\"size\":10,\"solidity\":0.2}},\"type\":\"histogram\"}],\"scattergl\":[{\"type\":\"scattergl\",\"marker\":{\"colorbar\":{\"outlinewidth\":0,\"ticks\":\"\"}}}],\"scatter3d\":[{\"type\":\"scatter3d\",\"line\":{\"colorbar\":{\"outlinewidth\":0,\"ticks\":\"\"}},\"marker\":{\"colorbar\":{\"outlinewidth\":0,\"ticks\":\"\"}}}],\"scattermapbox\":[{\"type\":\"scattermapbox\",\"marker\":{\"colorbar\":{\"outlinewidth\":0,\"ticks\":\"\"}}}],\"scatterternary\":[{\"type\":\"scatterternary\",\"marker\":{\"colorbar\":{\"outlinewidth\":0,\"ticks\":\"\"}}}],\"scattercarpet\":[{\"type\":\"scattercarpet\",\"marker\":{\"colorbar\":{\"outlinewidth\":0,\"ticks\":\"\"}}}],\"carpet\":[{\"aaxis\":{\"endlinecolor\":\"#2a3f5f\",\"gridcolor\":\"white\",\"linecolor\":\"white\",\"minorgridcolor\":\"white\",\"startlinecolor\":\"#2a3f5f\"},\"baxis\":{\"endlinecolor\":\"#2a3f5f\",\"gridcolor\":\"white\",\"linecolor\":\"white\",\"minorgridcolor\":\"white\",\"startlinecolor\":\"#2a3f5f\"},\"type\":\"carpet\"}],\"table\":[{\"cells\":{\"fill\":{\"color\":\"#EBF0F8\"},\"line\":{\"color\":\"white\"}},\"header\":{\"fill\":{\"color\":\"#C8D4E3\"},\"line\":{\"color\":\"white\"}},\"type\":\"table\"}],\"barpolar\":[{\"marker\":{\"line\":{\"color\":\"#E5ECF6\",\"width\":0.5},\"pattern\":{\"fillmode\":\"overlay\",\"size\":10,\"solidity\":0.2}},\"type\":\"barpolar\"}],\"pie\":[{\"automargin\":true,\"type\":\"pie\"}]},\"layout\":{\"autotypenumbers\":\"strict\",\"colorway\":[\"#636efa\",\"#EF553B\",\"#00cc96\",\"#ab63fa\",\"#FFA15A\",\"#19d3f3\",\"#FF6692\",\"#B6E880\",\"#FF97FF\",\"#FECB52\"],\"font\":{\"color\":\"#2a3f5f\"},\"hovermode\":\"closest\",\"hoverlabel\":{\"align\":\"left\"},\"paper_bgcolor\":\"white\",\"plot_bgcolor\":\"#E5ECF6\",\"polar\":{\"bgcolor\":\"#E5ECF6\",\"angularaxis\":{\"gridcolor\":\"white\",\"linecolor\":\"white\",\"ticks\":\"\"},\"radialaxis\":{\"gridcolor\":\"white\",\"linecolor\":\"white\",\"ticks\":\"\"}},\"ternary\":{\"bgcolor\":\"#E5ECF6\",\"aaxis\":{\"gridcolor\":\"white\",\"linecolor\":\"white\",\"ticks\":\"\"},\"baxis\":{\"gridcolor\":\"white\",\"linecolor\":\"white\",\"ticks\":\"\"},\"caxis\":{\"gridcolor\":\"white\",\"linecolor\":\"white\",\"ticks\":\"\"}},\"coloraxis\":{\"colorbar\":{\"outlinewidth\":0,\"ticks\":\"\"}},\"colorscale\":{\"sequential\":[[0.0,\"#0d0887\"],[0.1111111111111111,\"#46039f\"],[0.2222222222222222,\"#7201a8\"],[0.3333333333333333,\"#9c179e\"],[0.4444444444444444,\"#bd3786\"],[0.5555555555555556,\"#d8576b\"],[0.6666666666666666,\"#ed7953\"],[0.7777777777777778,\"#fb9f3a\"],[0.8888888888888888,\"#fdca26\"],[1.0,\"#f0f921\"]],\"sequentialminus\":[[0.0,\"#0d0887\"],[0.1111111111111111,\"#46039f\"],[0.2222222222222222,\"#7201a8\"],[0.3333333333333333,\"#9c179e\"],[0.4444444444444444,\"#bd3786\"],[0.5555555555555556,\"#d8576b\"],[0.6666666666666666,\"#ed7953\"],[0.7777777777777778,\"#fb9f3a\"],[0.8888888888888888,\"#fdca26\"],[1.0,\"#f0f921\"]],\"diverging\":[[0,\"#8e0152\"],[0.1,\"#c51b7d\"],[0.2,\"#de77ae\"],[0.3,\"#f1b6da\"],[0.4,\"#fde0ef\"],[0.5,\"#f7f7f7\"],[0.6,\"#e6f5d0\"],[0.7,\"#b8e186\"],[0.8,\"#7fbc41\"],[0.9,\"#4d9221\"],[1,\"#276419\"]]},\"xaxis\":{\"gridcolor\":\"white\",\"linecolor\":\"white\",\"ticks\":\"\",\"title\":{\"standoff\":15},\"zerolinecolor\":\"white\",\"automargin\":true,\"zerolinewidth\":2},\"yaxis\":{\"gridcolor\":\"white\",\"linecolor\":\"white\",\"ticks\":\"\",\"title\":{\"standoff\":15},\"zerolinecolor\":\"white\",\"automargin\":true,\"zerolinewidth\":2},\"scene\":{\"xaxis\":{\"backgroundcolor\":\"#E5ECF6\",\"gridcolor\":\"white\",\"linecolor\":\"white\",\"showbackground\":true,\"ticks\":\"\",\"zerolinecolor\":\"white\",\"gridwidth\":2},\"yaxis\":{\"backgroundcolor\":\"#E5ECF6\",\"gridcolor\":\"white\",\"linecolor\":\"white\",\"showbackground\":true,\"ticks\":\"\",\"zerolinecolor\":\"white\",\"gridwidth\":2},\"zaxis\":{\"backgroundcolor\":\"#E5ECF6\",\"gridcolor\":\"white\",\"linecolor\":\"white\",\"showbackground\":true,\"ticks\":\"\",\"zerolinecolor\":\"white\",\"gridwidth\":2}},\"shapedefaults\":{\"line\":{\"color\":\"#2a3f5f\"}},\"annotationdefaults\":{\"arrowcolor\":\"#2a3f5f\",\"arrowhead\":0,\"arrowwidth\":1},\"geo\":{\"bgcolor\":\"white\",\"landcolor\":\"#E5ECF6\",\"subunitcolor\":\"white\",\"showland\":true,\"showlakes\":true,\"lakecolor\":\"white\"},\"title\":{\"x\":0.05},\"mapbox\":{\"style\":\"light\"}}},\"xaxis\":{\"anchor\":\"y\",\"domain\":[0.0,0.06272189349112425],\"title\":{\"text\":\"alpha\"},\"type\":\"log\"},\"yaxis\":{\"anchor\":\"x\",\"domain\":[0.0,1.0],\"title\":{\"text\":\"Objective Value\"}},\"xaxis2\":{\"anchor\":\"y2\",\"domain\":[0.07810650887573964,0.1408284023668639],\"title\":{\"text\":\"booster\"}},\"yaxis2\":{\"anchor\":\"x2\",\"domain\":[0.0,1.0],\"matches\":\"y\",\"showticklabels\":false},\"xaxis3\":{\"anchor\":\"y3\",\"domain\":[0.15621301775147928,0.21893491124260353],\"title\":{\"text\":\"colsample_bytree\"}},\"yaxis3\":{\"anchor\":\"x3\",\"domain\":[0.0,1.0],\"matches\":\"y\",\"showticklabels\":false},\"xaxis4\":{\"anchor\":\"y4\",\"domain\":[0.23431952662721892,0.29704142011834317],\"title\":{\"text\":\"eta\"},\"type\":\"log\"},\"yaxis4\":{\"anchor\":\"x4\",\"domain\":[0.0,1.0],\"matches\":\"y\",\"showticklabels\":false},\"xaxis5\":{\"anchor\":\"y5\",\"domain\":[0.31242603550295855,0.3751479289940828],\"title\":{\"text\":\"gamma\"},\"type\":\"log\"},\"yaxis5\":{\"anchor\":\"x5\",\"domain\":[0.0,1.0],\"matches\":\"y\",\"showticklabels\":false},\"xaxis6\":{\"anchor\":\"y6\",\"domain\":[0.39053254437869817,0.45325443786982245],\"title\":{\"text\":\"grow_policy\"}},\"yaxis6\":{\"anchor\":\"x6\",\"domain\":[0.0,1.0],\"matches\":\"y\",\"showticklabels\":false},\"xaxis7\":{\"anchor\":\"y7\",\"domain\":[0.4686390532544378,0.531360946745562],\"title\":{\"text\":\"lambda\"},\"type\":\"log\"},\"yaxis7\":{\"anchor\":\"x7\",\"domain\":[0.0,1.0],\"matches\":\"y\",\"showticklabels\":false},\"xaxis8\":{\"anchor\":\"y8\",\"domain\":[0.5467455621301773,0.6094674556213016],\"title\":{\"text\":\"max_depth\"}},\"yaxis8\":{\"anchor\":\"x8\",\"domain\":[0.0,1.0],\"matches\":\"y\",\"showticklabels\":false},\"xaxis9\":{\"anchor\":\"y9\",\"domain\":[0.624852071005917,0.6875739644970412],\"title\":{\"text\":\"normalize_type\"}},\"yaxis9\":{\"anchor\":\"x9\",\"domain\":[0.0,1.0],\"matches\":\"y\",\"showticklabels\":false},\"xaxis10\":{\"anchor\":\"y10\",\"domain\":[0.7029585798816567,0.7656804733727809],\"title\":{\"text\":\"rate_drop\"},\"type\":\"log\"},\"yaxis10\":{\"anchor\":\"x10\",\"domain\":[0.0,1.0],\"matches\":\"y\",\"showticklabels\":false},\"xaxis11\":{\"anchor\":\"y11\",\"domain\":[0.7810650887573962,0.8437869822485204],\"title\":{\"text\":\"sample_type\"}},\"yaxis11\":{\"anchor\":\"x11\",\"domain\":[0.0,1.0],\"matches\":\"y\",\"showticklabels\":false},\"xaxis12\":{\"anchor\":\"y12\",\"domain\":[0.8591715976331358,0.92189349112426],\"title\":{\"text\":\"skip_drop\"},\"type\":\"log\"},\"yaxis12\":{\"anchor\":\"x12\",\"domain\":[0.0,1.0],\"matches\":\"y\",\"showticklabels\":false},\"xaxis13\":{\"anchor\":\"y13\",\"domain\":[0.9372781065088754,0.9999999999999997],\"title\":{\"text\":\"subsample\"}},\"yaxis13\":{\"anchor\":\"x13\",\"domain\":[0.0,1.0],\"matches\":\"y\",\"showticklabels\":false},\"title\":{\"text\":\"Slice Plot\"},\"width\":3900},                        {\"responsive\": true}                    )                };                            </script>        </div>"
      ],
      "text/plain": [
       "Figure({\n",
       "    'data': [{'marker': {'color': [1, 5, 6, 7, 8, 9, 10, 11, 12, 13, 14, 15, 16,\n",
       "                                   17, 18, 19, 66, 219],\n",
       "                         'colorbar': {'title': {'text': 'Trial'}, 'x': 1.0, 'xpad': 40},\n",
       "                         'colorscale': [[0.0, 'rgb(247,251,255)'], [0.125,\n",
       "                                        'rgb(222,235,247)'], [0.25,\n",
       "                                        'rgb(198,219,239)'], [0.375,\n",
       "                                        'rgb(158,202,225)'], [0.5,\n",
       "                                        'rgb(107,174,214)'], [0.625,\n",
       "                                        'rgb(66,146,198)'], [0.75,\n",
       "                                        'rgb(33,113,181)'], [0.875,\n",
       "                                        'rgb(8,81,156)'], [1.0, 'rgb(8,48,107)']],\n",
       "                         'line': {'color': 'Grey', 'width': 0.5},\n",
       "                         'showscale': True},\n",
       "              'mode': 'markers',\n",
       "              'showlegend': False,\n",
       "              'type': 'scatter',\n",
       "              'x': [0.574485163632042, 0.23713402899336497, 0.04264813784432918,\n",
       "                    0.08032068562667222, 0.012197768563438372, 0.1821930437934653,\n",
       "                    1.9488135833929595e-07, 7.593034903208851e-08,\n",
       "                    1.033375989766645e-06, 0.0066946948903108105,\n",
       "                    8.909025084911593e-06, 0.0005852079598515014,\n",
       "                    0.0002219322141207024, 1.0601341392077246e-08,\n",
       "                    1.2862740622795762e-08, 1.0456940308891758e-08,\n",
       "                    3.4246884993023374e-07, 5.009324548277015e-06],\n",
       "              'xaxis': 'x',\n",
       "              'y': [0.5967335254562047, 0.6433822087003274, 0.6184598051405754,\n",
       "                    0.5233455573713329, 0.4135077642757382, 0.6033821687360186,\n",
       "                    0.38797169527703657, 0.48554161494647613, 0.6513827334700728,\n",
       "                    0.43322869655213225, 0.5276990147146629, 0.3895251437757331,\n",
       "                    0.40468399162037577, 0.3537327900333324, 0.389529660605126,\n",
       "                    0.4147123753726313, 0.4157193493222701, 0.4648339002118201],\n",
       "              'yaxis': 'y'},\n",
       "             {'marker': {'color': [1, 5, 6, 7, 8, 9, 10, 11, 12, 13, 14, 15, 16,\n",
       "                                   17, 18, 19, 66, 219],\n",
       "                         'colorbar': {'title': {'text': 'Trial'}, 'x': 1.0, 'xpad': 40},\n",
       "                         'colorscale': [[0.0, 'rgb(247,251,255)'], [0.125,\n",
       "                                        'rgb(222,235,247)'], [0.25,\n",
       "                                        'rgb(198,219,239)'], [0.375,\n",
       "                                        'rgb(158,202,225)'], [0.5,\n",
       "                                        'rgb(107,174,214)'], [0.625,\n",
       "                                        'rgb(66,146,198)'], [0.75,\n",
       "                                        'rgb(33,113,181)'], [0.875,\n",
       "                                        'rgb(8,81,156)'], [1.0, 'rgb(8,48,107)']],\n",
       "                         'line': {'color': 'Grey', 'width': 0.5},\n",
       "                         'showscale': False},\n",
       "              'mode': 'markers',\n",
       "              'showlegend': False,\n",
       "              'type': 'scatter',\n",
       "              'x': [gbtree, gblinear, dart, gbtree, gbtree, gblinear, gbtree,\n",
       "                    dart, dart, dart, gbtree, gbtree, gbtree, gbtree, gbtree,\n",
       "                    gbtree, gbtree, gbtree],\n",
       "              'xaxis': 'x2',\n",
       "              'y': [0.5967335254562047, 0.6433822087003274, 0.6184598051405754,\n",
       "                    0.5233455573713329, 0.4135077642757382, 0.6033821687360186,\n",
       "                    0.38797169527703657, 0.48554161494647613, 0.6513827334700728,\n",
       "                    0.43322869655213225, 0.5276990147146629, 0.3895251437757331,\n",
       "                    0.40468399162037577, 0.3537327900333324, 0.389529660605126,\n",
       "                    0.4147123753726313, 0.4157193493222701, 0.4648339002118201],\n",
       "              'yaxis': 'y2'},\n",
       "             {'marker': {'color': [1, 5, 6, 7, 8, 9, 10, 11, 12, 13, 14, 15, 16,\n",
       "                                   17, 18, 19, 66, 219],\n",
       "                         'colorbar': {'title': {'text': 'Trial'}, 'x': 1.0, 'xpad': 40},\n",
       "                         'colorscale': [[0.0, 'rgb(247,251,255)'], [0.125,\n",
       "                                        'rgb(222,235,247)'], [0.25,\n",
       "                                        'rgb(198,219,239)'], [0.375,\n",
       "                                        'rgb(158,202,225)'], [0.5,\n",
       "                                        'rgb(107,174,214)'], [0.625,\n",
       "                                        'rgb(66,146,198)'], [0.75,\n",
       "                                        'rgb(33,113,181)'], [0.875,\n",
       "                                        'rgb(8,81,156)'], [1.0, 'rgb(8,48,107)']],\n",
       "                         'line': {'color': 'Grey', 'width': 0.5},\n",
       "                         'showscale': False},\n",
       "              'mode': 'markers',\n",
       "              'showlegend': False,\n",
       "              'type': 'scatter',\n",
       "              'x': [0.3274034664069657, 0.3175897174514871, 0.3685607058124285,\n",
       "                    0.39853881491158955, 0.6625803079727366, 0.44622975382137786,\n",
       "                    0.6848722277386503, 0.4562646731757538, 0.38052698589006184,\n",
       "                    0.5793834983561478, 0.7888390888089066, 0.6423490725632033,\n",
       "                    0.5874883349517384, 0.7148589786704331, 0.7796283752859363,\n",
       "                    0.7165417481368155, 0.24630634913685873, 0.5251350979070596],\n",
       "              'xaxis': 'x3',\n",
       "              'y': [0.5967335254562047, 0.6433822087003274, 0.6184598051405754,\n",
       "                    0.5233455573713329, 0.4135077642757382, 0.6033821687360186,\n",
       "                    0.38797169527703657, 0.48554161494647613, 0.6513827334700728,\n",
       "                    0.43322869655213225, 0.5276990147146629, 0.3895251437757331,\n",
       "                    0.40468399162037577, 0.3537327900333324, 0.389529660605126,\n",
       "                    0.4147123753726313, 0.4157193493222701, 0.4648339002118201],\n",
       "              'yaxis': 'y3'},\n",
       "             {'marker': {'color': [1, 6, 7, 8, 10, 11, 12, 13, 14, 15, 16, 17, 18,\n",
       "                                   19, 66, 219],\n",
       "                         'colorbar': {'title': {'text': 'Trial'}, 'x': 1.0, 'xpad': 40},\n",
       "                         'colorscale': [[0.0, 'rgb(247,251,255)'], [0.125,\n",
       "                                        'rgb(222,235,247)'], [0.25,\n",
       "                                        'rgb(198,219,239)'], [0.375,\n",
       "                                        'rgb(158,202,225)'], [0.5,\n",
       "                                        'rgb(107,174,214)'], [0.625,\n",
       "                                        'rgb(66,146,198)'], [0.75,\n",
       "                                        'rgb(33,113,181)'], [0.875,\n",
       "                                        'rgb(8,81,156)'], [1.0, 'rgb(8,48,107)']],\n",
       "                         'line': {'color': 'Grey', 'width': 0.5},\n",
       "                         'showscale': False},\n",
       "              'mode': 'markers',\n",
       "              'showlegend': False,\n",
       "              'type': 'scatter',\n",
       "              'x': [0.0035498788321965025, 0.0026471141828218157,\n",
       "                    0.008569331925053986, 0.03699972431463808, 0.411511304956109,\n",
       "                    0.38211294416912245, 0.0012902113024567154, 0.0404877881815341,\n",
       "                    0.8264588941152486, 0.15882107231676543, 0.20690550086963347,\n",
       "                    0.13341517481633328, 0.12151362993311442, 0.8675145655490915,\n",
       "                    0.07729443028734513, 0.3444315140977616],\n",
       "              'xaxis': 'x4',\n",
       "              'y': [0.5967335254562047, 0.6184598051405754, 0.5233455573713329,\n",
       "                    0.4135077642757382, 0.38797169527703657, 0.48554161494647613,\n",
       "                    0.6513827334700728, 0.43322869655213225, 0.5276990147146629,\n",
       "                    0.3895251437757331, 0.40468399162037577, 0.3537327900333324,\n",
       "                    0.389529660605126, 0.4147123753726313, 0.4157193493222701,\n",
       "                    0.4648339002118201],\n",
       "              'yaxis': 'y4'},\n",
       "             {'marker': {'color': [1, 6, 7, 8, 10, 11, 12, 13, 14, 15, 16, 17, 18,\n",
       "                                   19, 66, 219],\n",
       "                         'colorbar': {'title': {'text': 'Trial'}, 'x': 1.0, 'xpad': 40},\n",
       "                         'colorscale': [[0.0, 'rgb(247,251,255)'], [0.125,\n",
       "                                        'rgb(222,235,247)'], [0.25,\n",
       "                                        'rgb(198,219,239)'], [0.375,\n",
       "                                        'rgb(158,202,225)'], [0.5,\n",
       "                                        'rgb(107,174,214)'], [0.625,\n",
       "                                        'rgb(66,146,198)'], [0.75,\n",
       "                                        'rgb(33,113,181)'], [0.875,\n",
       "                                        'rgb(8,81,156)'], [1.0, 'rgb(8,48,107)']],\n",
       "                         'line': {'color': 'Grey', 'width': 0.5},\n",
       "                         'showscale': False},\n",
       "              'mode': 'markers',\n",
       "              'showlegend': False,\n",
       "              'type': 'scatter',\n",
       "              'x': [2.716051144654844e-06, 0.026156272064707428,\n",
       "                    3.994538177154855e-06, 2.632256136809142e-05,\n",
       "                    0.026876741555610546, 1.1366245816554797e-08,\n",
       "                    0.0007525141520487903, 5.276162470390128e-08,\n",
       "                    0.6090097675018683, 0.0007202349503619245,\n",
       "                    0.0028138475160906663, 0.024208002338502885,\n",
       "                    0.11234659313668886, 0.02355131967330587, 0.790891120470132,\n",
       "                    0.008188616485489788],\n",
       "              'xaxis': 'x5',\n",
       "              'y': [0.5967335254562047, 0.6184598051405754, 0.5233455573713329,\n",
       "                    0.4135077642757382, 0.38797169527703657, 0.48554161494647613,\n",
       "                    0.6513827334700728, 0.43322869655213225, 0.5276990147146629,\n",
       "                    0.3895251437757331, 0.40468399162037577, 0.3537327900333324,\n",
       "                    0.389529660605126, 0.4147123753726313, 0.4157193493222701,\n",
       "                    0.4648339002118201],\n",
       "              'yaxis': 'y5'},\n",
       "             {'marker': {'color': [1, 6, 7, 8, 10, 11, 12, 13, 14, 15, 16, 17, 18,\n",
       "                                   19, 66, 219],\n",
       "                         'colorbar': {'title': {'text': 'Trial'}, 'x': 1.0, 'xpad': 40},\n",
       "                         'colorscale': [[0.0, 'rgb(247,251,255)'], [0.125,\n",
       "                                        'rgb(222,235,247)'], [0.25,\n",
       "                                        'rgb(198,219,239)'], [0.375,\n",
       "                                        'rgb(158,202,225)'], [0.5,\n",
       "                                        'rgb(107,174,214)'], [0.625,\n",
       "                                        'rgb(66,146,198)'], [0.75,\n",
       "                                        'rgb(33,113,181)'], [0.875,\n",
       "                                        'rgb(8,81,156)'], [1.0, 'rgb(8,48,107)']],\n",
       "                         'line': {'color': 'Grey', 'width': 0.5},\n",
       "                         'showscale': False},\n",
       "              'mode': 'markers',\n",
       "              'showlegend': False,\n",
       "              'type': 'scatter',\n",
       "              'x': [depthwise, lossguide, depthwise, lossguide, lossguide,\n",
       "                    depthwise, depthwise, depthwise, lossguide, lossguide,\n",
       "                    lossguide, lossguide, lossguide, lossguide, lossguide,\n",
       "                    lossguide],\n",
       "              'xaxis': 'x6',\n",
       "              'y': [0.5967335254562047, 0.6184598051405754, 0.5233455573713329,\n",
       "                    0.4135077642757382, 0.38797169527703657, 0.48554161494647613,\n",
       "                    0.6513827334700728, 0.43322869655213225, 0.5276990147146629,\n",
       "                    0.3895251437757331, 0.40468399162037577, 0.3537327900333324,\n",
       "                    0.389529660605126, 0.4147123753726313, 0.4157193493222701,\n",
       "                    0.4648339002118201],\n",
       "              'yaxis': 'y6'},\n",
       "             {'marker': {'color': [1, 5, 6, 7, 8, 9, 10, 11, 12, 13, 14, 15, 16,\n",
       "                                   17, 18, 19, 66, 219],\n",
       "                         'colorbar': {'title': {'text': 'Trial'}, 'x': 1.0, 'xpad': 40},\n",
       "                         'colorscale': [[0.0, 'rgb(247,251,255)'], [0.125,\n",
       "                                        'rgb(222,235,247)'], [0.25,\n",
       "                                        'rgb(198,219,239)'], [0.375,\n",
       "                                        'rgb(158,202,225)'], [0.5,\n",
       "                                        'rgb(107,174,214)'], [0.625,\n",
       "                                        'rgb(66,146,198)'], [0.75,\n",
       "                                        'rgb(33,113,181)'], [0.875,\n",
       "                                        'rgb(8,81,156)'], [1.0, 'rgb(8,48,107)']],\n",
       "                         'line': {'color': 'Grey', 'width': 0.5},\n",
       "                         'showscale': False},\n",
       "              'mode': 'markers',\n",
       "              'showlegend': False,\n",
       "              'type': 'scatter',\n",
       "              'x': [1.4610865886287176e-08, 0.0006070155694141794,\n",
       "                    1.481809088646707e-06, 8.451863533931625e-08,\n",
       "                    0.005081106499593573, 0.00011710232809812825,\n",
       "                    2.0797523481449624e-06, 3.499675682069358e-06,\n",
       "                    0.5007008855904077, 7.963433393223581e-07,\n",
       "                    8.124962944565012e-06, 0.004839389592902318,\n",
       "                    0.005201901877653327, 5.007638479414757e-05,\n",
       "                    1.5672390461139365e-05, 2.837828725955016e-07,\n",
       "                    2.1049849528991988e-05, 1.3696307447668935e-07],\n",
       "              'xaxis': 'x7',\n",
       "              'y': [0.5967335254562047, 0.6433822087003274, 0.6184598051405754,\n",
       "                    0.5233455573713329, 0.4135077642757382, 0.6033821687360186,\n",
       "                    0.38797169527703657, 0.48554161494647613, 0.6513827334700728,\n",
       "                    0.43322869655213225, 0.5276990147146629, 0.3895251437757331,\n",
       "                    0.40468399162037577, 0.3537327900333324, 0.389529660605126,\n",
       "                    0.4147123753726313, 0.4157193493222701, 0.4648339002118201],\n",
       "              'yaxis': 'y7'},\n",
       "             {'marker': {'color': [1, 6, 7, 8, 10, 11, 12, 13, 14, 15, 16, 17, 18,\n",
       "                                   19, 66, 219],\n",
       "                         'colorbar': {'title': {'text': 'Trial'}, 'x': 1.0, 'xpad': 40},\n",
       "                         'colorscale': [[0.0, 'rgb(247,251,255)'], [0.125,\n",
       "                                        'rgb(222,235,247)'], [0.25,\n",
       "                                        'rgb(198,219,239)'], [0.375,\n",
       "                                        'rgb(158,202,225)'], [0.5,\n",
       "                                        'rgb(107,174,214)'], [0.625,\n",
       "                                        'rgb(66,146,198)'], [0.75,\n",
       "                                        'rgb(33,113,181)'], [0.875,\n",
       "                                        'rgb(8,81,156)'], [1.0, 'rgb(8,48,107)']],\n",
       "                         'line': {'color': 'Grey', 'width': 0.5},\n",
       "                         'showscale': False},\n",
       "              'mode': 'markers',\n",
       "              'showlegend': False,\n",
       "              'type': 'scatter',\n",
       "              'x': [3, 9, 2, 8, 11, 14, 5, 11, 15, 7, 7, 12, 12, 12, 16, 10],\n",
       "              'xaxis': 'x8',\n",
       "              'y': [0.5967335254562047, 0.6184598051405754, 0.5233455573713329,\n",
       "                    0.4135077642757382, 0.38797169527703657, 0.48554161494647613,\n",
       "                    0.6513827334700728, 0.43322869655213225, 0.5276990147146629,\n",
       "                    0.3895251437757331, 0.40468399162037577, 0.3537327900333324,\n",
       "                    0.389529660605126, 0.4147123753726313, 0.4157193493222701,\n",
       "                    0.4648339002118201],\n",
       "              'yaxis': 'y8'},\n",
       "             {'marker': {'color': [6, 11, 12, 13],\n",
       "                         'colorbar': {'title': {'text': 'Trial'}, 'x': 1.0, 'xpad': 40},\n",
       "                         'colorscale': [[0.0, 'rgb(247,251,255)'], [0.125,\n",
       "                                        'rgb(222,235,247)'], [0.25,\n",
       "                                        'rgb(198,219,239)'], [0.375,\n",
       "                                        'rgb(158,202,225)'], [0.5,\n",
       "                                        'rgb(107,174,214)'], [0.625,\n",
       "                                        'rgb(66,146,198)'], [0.75,\n",
       "                                        'rgb(33,113,181)'], [0.875,\n",
       "                                        'rgb(8,81,156)'], [1.0, 'rgb(8,48,107)']],\n",
       "                         'line': {'color': 'Grey', 'width': 0.5},\n",
       "                         'showscale': False},\n",
       "              'mode': 'markers',\n",
       "              'showlegend': False,\n",
       "              'type': 'scatter',\n",
       "              'x': [forest, forest, tree, forest],\n",
       "              'xaxis': 'x9',\n",
       "              'y': [0.6184598051405754, 0.48554161494647613, 0.6513827334700728,\n",
       "                    0.43322869655213225],\n",
       "              'yaxis': 'y9'},\n",
       "             {'marker': {'color': [6, 11, 12, 13],\n",
       "                         'colorbar': {'title': {'text': 'Trial'}, 'x': 1.0, 'xpad': 40},\n",
       "                         'colorscale': [[0.0, 'rgb(247,251,255)'], [0.125,\n",
       "                                        'rgb(222,235,247)'], [0.25,\n",
       "                                        'rgb(198,219,239)'], [0.375,\n",
       "                                        'rgb(158,202,225)'], [0.5,\n",
       "                                        'rgb(107,174,214)'], [0.625,\n",
       "                                        'rgb(66,146,198)'], [0.75,\n",
       "                                        'rgb(33,113,181)'], [0.875,\n",
       "                                        'rgb(8,81,156)'], [1.0, 'rgb(8,48,107)']],\n",
       "                         'line': {'color': 'Grey', 'width': 0.5},\n",
       "                         'showscale': False},\n",
       "              'mode': 'markers',\n",
       "              'showlegend': False,\n",
       "              'type': 'scatter',\n",
       "              'x': [0.0045170900739091345, 3.8514428343995194e-06,\n",
       "                    8.2342127198163e-05, 1.3573837053629966e-08],\n",
       "              'xaxis': 'x10',\n",
       "              'y': [0.6184598051405754, 0.48554161494647613, 0.6513827334700728,\n",
       "                    0.43322869655213225],\n",
       "              'yaxis': 'y10'},\n",
       "             {'marker': {'color': [6, 11, 12, 13],\n",
       "                         'colorbar': {'title': {'text': 'Trial'}, 'x': 1.0, 'xpad': 40},\n",
       "                         'colorscale': [[0.0, 'rgb(247,251,255)'], [0.125,\n",
       "                                        'rgb(222,235,247)'], [0.25,\n",
       "                                        'rgb(198,219,239)'], [0.375,\n",
       "                                        'rgb(158,202,225)'], [0.5,\n",
       "                                        'rgb(107,174,214)'], [0.625,\n",
       "                                        'rgb(66,146,198)'], [0.75,\n",
       "                                        'rgb(33,113,181)'], [0.875,\n",
       "                                        'rgb(8,81,156)'], [1.0, 'rgb(8,48,107)']],\n",
       "                         'line': {'color': 'Grey', 'width': 0.5},\n",
       "                         'showscale': False},\n",
       "              'mode': 'markers',\n",
       "              'showlegend': False,\n",
       "              'type': 'scatter',\n",
       "              'x': [uniform, uniform, weighted, uniform],\n",
       "              'xaxis': 'x11',\n",
       "              'y': [0.6184598051405754, 0.48554161494647613, 0.6513827334700728,\n",
       "                    0.43322869655213225],\n",
       "              'yaxis': 'y11'},\n",
       "             {'marker': {'color': [6, 11, 12, 13],\n",
       "                         'colorbar': {'title': {'text': 'Trial'}, 'x': 1.0, 'xpad': 40},\n",
       "                         'colorscale': [[0.0, 'rgb(247,251,255)'], [0.125,\n",
       "                                        'rgb(222,235,247)'], [0.25,\n",
       "                                        'rgb(198,219,239)'], [0.375,\n",
       "                                        'rgb(158,202,225)'], [0.5,\n",
       "                                        'rgb(107,174,214)'], [0.625,\n",
       "                                        'rgb(66,146,198)'], [0.75,\n",
       "                                        'rgb(33,113,181)'], [0.875,\n",
       "                                        'rgb(8,81,156)'], [1.0, 'rgb(8,48,107)']],\n",
       "                         'line': {'color': 'Grey', 'width': 0.5},\n",
       "                         'showscale': False},\n",
       "              'mode': 'markers',\n",
       "              'showlegend': False,\n",
       "              'type': 'scatter',\n",
       "              'x': [0.006792933207180863, 0.00014135949140057862,\n",
       "                    0.7677213757517419, 0.0001249523609345854],\n",
       "              'xaxis': 'x12',\n",
       "              'y': [0.6184598051405754, 0.48554161494647613, 0.6513827334700728,\n",
       "                    0.43322869655213225],\n",
       "              'yaxis': 'y12'},\n",
       "             {'marker': {'color': [1, 5, 6, 7, 8, 9, 10, 11, 12, 13, 14, 15, 16,\n",
       "                                   17, 18, 19, 66, 219],\n",
       "                         'colorbar': {'title': {'text': 'Trial'}, 'x': 1.0, 'xpad': 40},\n",
       "                         'colorscale': [[0.0, 'rgb(247,251,255)'], [0.125,\n",
       "                                        'rgb(222,235,247)'], [0.25,\n",
       "                                        'rgb(198,219,239)'], [0.375,\n",
       "                                        'rgb(158,202,225)'], [0.5,\n",
       "                                        'rgb(107,174,214)'], [0.625,\n",
       "                                        'rgb(66,146,198)'], [0.75,\n",
       "                                        'rgb(33,113,181)'], [0.875,\n",
       "                                        'rgb(8,81,156)'], [1.0, 'rgb(8,48,107)']],\n",
       "                         'line': {'color': 'Grey', 'width': 0.5},\n",
       "                         'showscale': False},\n",
       "              'mode': 'markers',\n",
       "              'showlegend': False,\n",
       "              'type': 'scatter',\n",
       "              'x': [0.6994655844802531, 0.2530955012311517, 0.4140519960161536,\n",
       "                    0.5739788760965348, 0.5367663185416978, 0.349575337489325,\n",
       "                    0.757818591405544, 0.33676109752516503, 0.4983491035354313,\n",
       "                    0.420669879631552, 0.7730675009063073, 0.6372224440894432,\n",
       "                    0.6745014789327672, 0.7996174631849311, 0.7976101936167284,\n",
       "                    0.7377626262696191, 0.7829871658936365, 0.630545694690643],\n",
       "              'xaxis': 'x13',\n",
       "              'y': [0.5967335254562047, 0.6433822087003274, 0.6184598051405754,\n",
       "                    0.5233455573713329, 0.4135077642757382, 0.6033821687360186,\n",
       "                    0.38797169527703657, 0.48554161494647613, 0.6513827334700728,\n",
       "                    0.43322869655213225, 0.5276990147146629, 0.3895251437757331,\n",
       "                    0.40468399162037577, 0.3537327900333324, 0.389529660605126,\n",
       "                    0.4147123753726313, 0.4157193493222701, 0.4648339002118201],\n",
       "              'yaxis': 'y13'}],\n",
       "    'layout': {'template': '...',\n",
       "               'title': {'text': 'Slice Plot'},\n",
       "               'width': 3900,\n",
       "               'xaxis': {'anchor': 'y', 'domain': [0.0, 0.06272189349112425], 'title': {'text': 'alpha'}, 'type': 'log'},\n",
       "               'xaxis10': {'anchor': 'y10',\n",
       "                           'domain': [0.7029585798816567, 0.7656804733727809],\n",
       "                           'title': {'text': 'rate_drop'},\n",
       "                           'type': 'log'},\n",
       "               'xaxis11': {'anchor': 'y11',\n",
       "                           'domain': [0.7810650887573962, 0.8437869822485204],\n",
       "                           'title': {'text': 'sample_type'}},\n",
       "               'xaxis12': {'anchor': 'y12',\n",
       "                           'domain': [0.8591715976331358, 0.92189349112426],\n",
       "                           'title': {'text': 'skip_drop'},\n",
       "                           'type': 'log'},\n",
       "               'xaxis13': {'anchor': 'y13',\n",
       "                           'domain': [0.9372781065088754, 0.9999999999999997],\n",
       "                           'title': {'text': 'subsample'}},\n",
       "               'xaxis2': {'anchor': 'y2',\n",
       "                          'domain': [0.07810650887573964, 0.1408284023668639],\n",
       "                          'title': {'text': 'booster'}},\n",
       "               'xaxis3': {'anchor': 'y3',\n",
       "                          'domain': [0.15621301775147928, 0.21893491124260353],\n",
       "                          'title': {'text': 'colsample_bytree'}},\n",
       "               'xaxis4': {'anchor': 'y4',\n",
       "                          'domain': [0.23431952662721892, 0.29704142011834317],\n",
       "                          'title': {'text': 'eta'},\n",
       "                          'type': 'log'},\n",
       "               'xaxis5': {'anchor': 'y5',\n",
       "                          'domain': [0.31242603550295855, 0.3751479289940828],\n",
       "                          'title': {'text': 'gamma'},\n",
       "                          'type': 'log'},\n",
       "               'xaxis6': {'anchor': 'y6',\n",
       "                          'domain': [0.39053254437869817, 0.45325443786982245],\n",
       "                          'title': {'text': 'grow_policy'}},\n",
       "               'xaxis7': {'anchor': 'y7',\n",
       "                          'domain': [0.4686390532544378, 0.531360946745562],\n",
       "                          'title': {'text': 'lambda'},\n",
       "                          'type': 'log'},\n",
       "               'xaxis8': {'anchor': 'y8',\n",
       "                          'domain': [0.5467455621301773, 0.6094674556213016],\n",
       "                          'title': {'text': 'max_depth'}},\n",
       "               'xaxis9': {'anchor': 'y9',\n",
       "                          'domain': [0.624852071005917, 0.6875739644970412],\n",
       "                          'title': {'text': 'normalize_type'}},\n",
       "               'yaxis': {'anchor': 'x', 'domain': [0.0, 1.0], 'title': {'text': 'Objective Value'}},\n",
       "               'yaxis10': {'anchor': 'x10', 'domain': [0.0, 1.0], 'matches': 'y', 'showticklabels': False},\n",
       "               'yaxis11': {'anchor': 'x11', 'domain': [0.0, 1.0], 'matches': 'y', 'showticklabels': False},\n",
       "               'yaxis12': {'anchor': 'x12', 'domain': [0.0, 1.0], 'matches': 'y', 'showticklabels': False},\n",
       "               'yaxis13': {'anchor': 'x13', 'domain': [0.0, 1.0], 'matches': 'y', 'showticklabels': False},\n",
       "               'yaxis2': {'anchor': 'x2', 'domain': [0.0, 1.0], 'matches': 'y', 'showticklabels': False},\n",
       "               'yaxis3': {'anchor': 'x3', 'domain': [0.0, 1.0], 'matches': 'y', 'showticklabels': False},\n",
       "               'yaxis4': {'anchor': 'x4', 'domain': [0.0, 1.0], 'matches': 'y', 'showticklabels': False},\n",
       "               'yaxis5': {'anchor': 'x5', 'domain': [0.0, 1.0], 'matches': 'y', 'showticklabels': False},\n",
       "               'yaxis6': {'anchor': 'x6', 'domain': [0.0, 1.0], 'matches': 'y', 'showticklabels': False},\n",
       "               'yaxis7': {'anchor': 'x7', 'domain': [0.0, 1.0], 'matches': 'y', 'showticklabels': False},\n",
       "               'yaxis8': {'anchor': 'x8', 'domain': [0.0, 1.0], 'matches': 'y', 'showticklabels': False},\n",
       "               'yaxis9': {'anchor': 'x9', 'domain': [0.0, 1.0], 'matches': 'y', 'showticklabels': False}}\n",
       "})"
      ]
     },
     "execution_count": 121,
     "metadata": {},
     "output_type": "execute_result"
    }
   ],
   "source": [
    "plot_slice(study)"
   ]
  },
  {
   "cell_type": "code",
   "execution_count": null,
   "metadata": {},
   "outputs": [
    {
     "ename": "ValueError",
     "evalue": "Mime type rendering requires nbformat>=4.2.0 but it is not installed",
     "output_type": "error",
     "traceback": [
      "\u001b[1;31m---------------------------------------------------------------------------\u001b[0m",
      "\u001b[1;31mValueError\u001b[0m                                Traceback (most recent call last)",
      "File \u001b[1;32m~\\AppData\\Roaming\\Python\\Python38\\site-packages\\IPython\\core\\formatters.py:920\u001b[0m, in \u001b[0;36mIPythonDisplayFormatter.__call__\u001b[1;34m(self, obj)\u001b[0m\n\u001b[0;32m    918\u001b[0m method \u001b[39m=\u001b[39m get_real_method(obj, \u001b[39mself\u001b[39m\u001b[39m.\u001b[39mprint_method)\n\u001b[0;32m    919\u001b[0m \u001b[39mif\u001b[39;00m method \u001b[39mis\u001b[39;00m \u001b[39mnot\u001b[39;00m \u001b[39mNone\u001b[39;00m:\n\u001b[1;32m--> 920\u001b[0m     method()\n\u001b[0;32m    921\u001b[0m     \u001b[39mreturn\u001b[39;00m \u001b[39mTrue\u001b[39;00m\n",
      "File \u001b[1;32mc:\\Users\\111\\AppData\\Local\\Programs\\Python\\Python38\\lib\\site-packages\\plotly\\basedatatypes.py:834\u001b[0m, in \u001b[0;36mBaseFigure._ipython_display_\u001b[1;34m(self)\u001b[0m\n\u001b[0;32m    831\u001b[0m \u001b[39mimport\u001b[39;00m \u001b[39mplotly\u001b[39;00m\u001b[39m.\u001b[39;00m\u001b[39mio\u001b[39;00m \u001b[39mas\u001b[39;00m \u001b[39mpio\u001b[39;00m\n\u001b[0;32m    833\u001b[0m \u001b[39mif\u001b[39;00m pio\u001b[39m.\u001b[39mrenderers\u001b[39m.\u001b[39mrender_on_display \u001b[39mand\u001b[39;00m pio\u001b[39m.\u001b[39mrenderers\u001b[39m.\u001b[39mdefault:\n\u001b[1;32m--> 834\u001b[0m     pio\u001b[39m.\u001b[39;49mshow(\u001b[39mself\u001b[39;49m)\n\u001b[0;32m    835\u001b[0m \u001b[39melse\u001b[39;00m:\n\u001b[0;32m    836\u001b[0m     \u001b[39mprint\u001b[39m(\u001b[39mrepr\u001b[39m(\u001b[39mself\u001b[39m))\n",
      "File \u001b[1;32mc:\\Users\\111\\AppData\\Local\\Programs\\Python\\Python38\\lib\\site-packages\\plotly\\io\\_renderers.py:396\u001b[0m, in \u001b[0;36mshow\u001b[1;34m(fig, renderer, validate, **kwargs)\u001b[0m\n\u001b[0;32m    391\u001b[0m         \u001b[39mraise\u001b[39;00m \u001b[39mValueError\u001b[39;00m(\n\u001b[0;32m    392\u001b[0m             \u001b[39m\"\u001b[39m\u001b[39mMime type rendering requires ipython but it is not installed\u001b[39m\u001b[39m\"\u001b[39m\n\u001b[0;32m    393\u001b[0m         )\n\u001b[0;32m    395\u001b[0m     \u001b[39mif\u001b[39;00m \u001b[39mnot\u001b[39;00m nbformat \u001b[39mor\u001b[39;00m Version(nbformat\u001b[39m.\u001b[39m__version__) \u001b[39m<\u001b[39m Version(\u001b[39m\"\u001b[39m\u001b[39m4.2.0\u001b[39m\u001b[39m\"\u001b[39m):\n\u001b[1;32m--> 396\u001b[0m         \u001b[39mraise\u001b[39;00m \u001b[39mValueError\u001b[39;00m(\n\u001b[0;32m    397\u001b[0m             \u001b[39m\"\u001b[39m\u001b[39mMime type rendering requires nbformat>=4.2.0 but it is not installed\u001b[39m\u001b[39m\"\u001b[39m\n\u001b[0;32m    398\u001b[0m         )\n\u001b[0;32m    400\u001b[0m     ipython_display\u001b[39m.\u001b[39mdisplay(bundle, raw\u001b[39m=\u001b[39m\u001b[39mTrue\u001b[39;00m)\n\u001b[0;32m    402\u001b[0m \u001b[39m# external renderers\u001b[39;00m\n",
      "\u001b[1;31mValueError\u001b[0m: Mime type rendering requires nbformat>=4.2.0 but it is not installed"
     ]
    },
    {
     "data": {
      "application/vnd.plotly.v1+json": {
       "config": {
        "plotlyServerURL": "https://plot.ly"
       },
       "data": [
        {
         "cliponaxis": false,
         "hovertemplate": [
          "lambda (FloatDistribution): 0.0010211392978202668<extra></extra>",
          "booster (CategoricalDistribution): 0.04281909881010983<extra></extra>",
          "subsample (FloatDistribution): 0.07541359284822767<extra></extra>",
          "alpha (FloatDistribution): 0.15290526812621347<extra></extra>",
          "colsample_bytree (FloatDistribution): 0.7278409009176288<extra></extra>"
         ],
         "marker": {
          "color": "rgb(66,146,198)"
         },
         "orientation": "h",
         "text": [
          "<0.01",
          "0.04",
          "0.08",
          "0.15",
          "0.73"
         ],
         "textposition": "outside",
         "type": "bar",
         "x": [
          0.0010211392978202668,
          0.04281909881010983,
          0.07541359284822767,
          0.15290526812621347,
          0.7278409009176288
         ],
         "y": [
          "lambda",
          "booster",
          "subsample",
          "alpha",
          "colsample_bytree"
         ]
        }
       ],
       "layout": {
        "showlegend": false,
        "template": {
         "data": {
          "bar": [
           {
            "error_x": {
             "color": "#2a3f5f"
            },
            "error_y": {
             "color": "#2a3f5f"
            },
            "marker": {
             "line": {
              "color": "#E5ECF6",
              "width": 0.5
             },
             "pattern": {
              "fillmode": "overlay",
              "size": 10,
              "solidity": 0.2
             }
            },
            "type": "bar"
           }
          ],
          "barpolar": [
           {
            "marker": {
             "line": {
              "color": "#E5ECF6",
              "width": 0.5
             },
             "pattern": {
              "fillmode": "overlay",
              "size": 10,
              "solidity": 0.2
             }
            },
            "type": "barpolar"
           }
          ],
          "carpet": [
           {
            "aaxis": {
             "endlinecolor": "#2a3f5f",
             "gridcolor": "white",
             "linecolor": "white",
             "minorgridcolor": "white",
             "startlinecolor": "#2a3f5f"
            },
            "baxis": {
             "endlinecolor": "#2a3f5f",
             "gridcolor": "white",
             "linecolor": "white",
             "minorgridcolor": "white",
             "startlinecolor": "#2a3f5f"
            },
            "type": "carpet"
           }
          ],
          "choropleth": [
           {
            "colorbar": {
             "outlinewidth": 0,
             "ticks": ""
            },
            "type": "choropleth"
           }
          ],
          "contour": [
           {
            "colorbar": {
             "outlinewidth": 0,
             "ticks": ""
            },
            "colorscale": [
             [
              0,
              "#0d0887"
             ],
             [
              0.1111111111111111,
              "#46039f"
             ],
             [
              0.2222222222222222,
              "#7201a8"
             ],
             [
              0.3333333333333333,
              "#9c179e"
             ],
             [
              0.4444444444444444,
              "#bd3786"
             ],
             [
              0.5555555555555556,
              "#d8576b"
             ],
             [
              0.6666666666666666,
              "#ed7953"
             ],
             [
              0.7777777777777778,
              "#fb9f3a"
             ],
             [
              0.8888888888888888,
              "#fdca26"
             ],
             [
              1,
              "#f0f921"
             ]
            ],
            "type": "contour"
           }
          ],
          "contourcarpet": [
           {
            "colorbar": {
             "outlinewidth": 0,
             "ticks": ""
            },
            "type": "contourcarpet"
           }
          ],
          "heatmap": [
           {
            "colorbar": {
             "outlinewidth": 0,
             "ticks": ""
            },
            "colorscale": [
             [
              0,
              "#0d0887"
             ],
             [
              0.1111111111111111,
              "#46039f"
             ],
             [
              0.2222222222222222,
              "#7201a8"
             ],
             [
              0.3333333333333333,
              "#9c179e"
             ],
             [
              0.4444444444444444,
              "#bd3786"
             ],
             [
              0.5555555555555556,
              "#d8576b"
             ],
             [
              0.6666666666666666,
              "#ed7953"
             ],
             [
              0.7777777777777778,
              "#fb9f3a"
             ],
             [
              0.8888888888888888,
              "#fdca26"
             ],
             [
              1,
              "#f0f921"
             ]
            ],
            "type": "heatmap"
           }
          ],
          "heatmapgl": [
           {
            "colorbar": {
             "outlinewidth": 0,
             "ticks": ""
            },
            "colorscale": [
             [
              0,
              "#0d0887"
             ],
             [
              0.1111111111111111,
              "#46039f"
             ],
             [
              0.2222222222222222,
              "#7201a8"
             ],
             [
              0.3333333333333333,
              "#9c179e"
             ],
             [
              0.4444444444444444,
              "#bd3786"
             ],
             [
              0.5555555555555556,
              "#d8576b"
             ],
             [
              0.6666666666666666,
              "#ed7953"
             ],
             [
              0.7777777777777778,
              "#fb9f3a"
             ],
             [
              0.8888888888888888,
              "#fdca26"
             ],
             [
              1,
              "#f0f921"
             ]
            ],
            "type": "heatmapgl"
           }
          ],
          "histogram": [
           {
            "marker": {
             "pattern": {
              "fillmode": "overlay",
              "size": 10,
              "solidity": 0.2
             }
            },
            "type": "histogram"
           }
          ],
          "histogram2d": [
           {
            "colorbar": {
             "outlinewidth": 0,
             "ticks": ""
            },
            "colorscale": [
             [
              0,
              "#0d0887"
             ],
             [
              0.1111111111111111,
              "#46039f"
             ],
             [
              0.2222222222222222,
              "#7201a8"
             ],
             [
              0.3333333333333333,
              "#9c179e"
             ],
             [
              0.4444444444444444,
              "#bd3786"
             ],
             [
              0.5555555555555556,
              "#d8576b"
             ],
             [
              0.6666666666666666,
              "#ed7953"
             ],
             [
              0.7777777777777778,
              "#fb9f3a"
             ],
             [
              0.8888888888888888,
              "#fdca26"
             ],
             [
              1,
              "#f0f921"
             ]
            ],
            "type": "histogram2d"
           }
          ],
          "histogram2dcontour": [
           {
            "colorbar": {
             "outlinewidth": 0,
             "ticks": ""
            },
            "colorscale": [
             [
              0,
              "#0d0887"
             ],
             [
              0.1111111111111111,
              "#46039f"
             ],
             [
              0.2222222222222222,
              "#7201a8"
             ],
             [
              0.3333333333333333,
              "#9c179e"
             ],
             [
              0.4444444444444444,
              "#bd3786"
             ],
             [
              0.5555555555555556,
              "#d8576b"
             ],
             [
              0.6666666666666666,
              "#ed7953"
             ],
             [
              0.7777777777777778,
              "#fb9f3a"
             ],
             [
              0.8888888888888888,
              "#fdca26"
             ],
             [
              1,
              "#f0f921"
             ]
            ],
            "type": "histogram2dcontour"
           }
          ],
          "mesh3d": [
           {
            "colorbar": {
             "outlinewidth": 0,
             "ticks": ""
            },
            "type": "mesh3d"
           }
          ],
          "parcoords": [
           {
            "line": {
             "colorbar": {
              "outlinewidth": 0,
              "ticks": ""
             }
            },
            "type": "parcoords"
           }
          ],
          "pie": [
           {
            "automargin": true,
            "type": "pie"
           }
          ],
          "scatter": [
           {
            "fillpattern": {
             "fillmode": "overlay",
             "size": 10,
             "solidity": 0.2
            },
            "type": "scatter"
           }
          ],
          "scatter3d": [
           {
            "line": {
             "colorbar": {
              "outlinewidth": 0,
              "ticks": ""
             }
            },
            "marker": {
             "colorbar": {
              "outlinewidth": 0,
              "ticks": ""
             }
            },
            "type": "scatter3d"
           }
          ],
          "scattercarpet": [
           {
            "marker": {
             "colorbar": {
              "outlinewidth": 0,
              "ticks": ""
             }
            },
            "type": "scattercarpet"
           }
          ],
          "scattergeo": [
           {
            "marker": {
             "colorbar": {
              "outlinewidth": 0,
              "ticks": ""
             }
            },
            "type": "scattergeo"
           }
          ],
          "scattergl": [
           {
            "marker": {
             "colorbar": {
              "outlinewidth": 0,
              "ticks": ""
             }
            },
            "type": "scattergl"
           }
          ],
          "scattermapbox": [
           {
            "marker": {
             "colorbar": {
              "outlinewidth": 0,
              "ticks": ""
             }
            },
            "type": "scattermapbox"
           }
          ],
          "scatterpolar": [
           {
            "marker": {
             "colorbar": {
              "outlinewidth": 0,
              "ticks": ""
             }
            },
            "type": "scatterpolar"
           }
          ],
          "scatterpolargl": [
           {
            "marker": {
             "colorbar": {
              "outlinewidth": 0,
              "ticks": ""
             }
            },
            "type": "scatterpolargl"
           }
          ],
          "scatterternary": [
           {
            "marker": {
             "colorbar": {
              "outlinewidth": 0,
              "ticks": ""
             }
            },
            "type": "scatterternary"
           }
          ],
          "surface": [
           {
            "colorbar": {
             "outlinewidth": 0,
             "ticks": ""
            },
            "colorscale": [
             [
              0,
              "#0d0887"
             ],
             [
              0.1111111111111111,
              "#46039f"
             ],
             [
              0.2222222222222222,
              "#7201a8"
             ],
             [
              0.3333333333333333,
              "#9c179e"
             ],
             [
              0.4444444444444444,
              "#bd3786"
             ],
             [
              0.5555555555555556,
              "#d8576b"
             ],
             [
              0.6666666666666666,
              "#ed7953"
             ],
             [
              0.7777777777777778,
              "#fb9f3a"
             ],
             [
              0.8888888888888888,
              "#fdca26"
             ],
             [
              1,
              "#f0f921"
             ]
            ],
            "type": "surface"
           }
          ],
          "table": [
           {
            "cells": {
             "fill": {
              "color": "#EBF0F8"
             },
             "line": {
              "color": "white"
             }
            },
            "header": {
             "fill": {
              "color": "#C8D4E3"
             },
             "line": {
              "color": "white"
             }
            },
            "type": "table"
           }
          ]
         },
         "layout": {
          "annotationdefaults": {
           "arrowcolor": "#2a3f5f",
           "arrowhead": 0,
           "arrowwidth": 1
          },
          "autotypenumbers": "strict",
          "coloraxis": {
           "colorbar": {
            "outlinewidth": 0,
            "ticks": ""
           }
          },
          "colorscale": {
           "diverging": [
            [
             0,
             "#8e0152"
            ],
            [
             0.1,
             "#c51b7d"
            ],
            [
             0.2,
             "#de77ae"
            ],
            [
             0.3,
             "#f1b6da"
            ],
            [
             0.4,
             "#fde0ef"
            ],
            [
             0.5,
             "#f7f7f7"
            ],
            [
             0.6,
             "#e6f5d0"
            ],
            [
             0.7,
             "#b8e186"
            ],
            [
             0.8,
             "#7fbc41"
            ],
            [
             0.9,
             "#4d9221"
            ],
            [
             1,
             "#276419"
            ]
           ],
           "sequential": [
            [
             0,
             "#0d0887"
            ],
            [
             0.1111111111111111,
             "#46039f"
            ],
            [
             0.2222222222222222,
             "#7201a8"
            ],
            [
             0.3333333333333333,
             "#9c179e"
            ],
            [
             0.4444444444444444,
             "#bd3786"
            ],
            [
             0.5555555555555556,
             "#d8576b"
            ],
            [
             0.6666666666666666,
             "#ed7953"
            ],
            [
             0.7777777777777778,
             "#fb9f3a"
            ],
            [
             0.8888888888888888,
             "#fdca26"
            ],
            [
             1,
             "#f0f921"
            ]
           ],
           "sequentialminus": [
            [
             0,
             "#0d0887"
            ],
            [
             0.1111111111111111,
             "#46039f"
            ],
            [
             0.2222222222222222,
             "#7201a8"
            ],
            [
             0.3333333333333333,
             "#9c179e"
            ],
            [
             0.4444444444444444,
             "#bd3786"
            ],
            [
             0.5555555555555556,
             "#d8576b"
            ],
            [
             0.6666666666666666,
             "#ed7953"
            ],
            [
             0.7777777777777778,
             "#fb9f3a"
            ],
            [
             0.8888888888888888,
             "#fdca26"
            ],
            [
             1,
             "#f0f921"
            ]
           ]
          },
          "colorway": [
           "#636efa",
           "#EF553B",
           "#00cc96",
           "#ab63fa",
           "#FFA15A",
           "#19d3f3",
           "#FF6692",
           "#B6E880",
           "#FF97FF",
           "#FECB52"
          ],
          "font": {
           "color": "#2a3f5f"
          },
          "geo": {
           "bgcolor": "white",
           "lakecolor": "white",
           "landcolor": "#E5ECF6",
           "showlakes": true,
           "showland": true,
           "subunitcolor": "white"
          },
          "hoverlabel": {
           "align": "left"
          },
          "hovermode": "closest",
          "mapbox": {
           "style": "light"
          },
          "paper_bgcolor": "white",
          "plot_bgcolor": "#E5ECF6",
          "polar": {
           "angularaxis": {
            "gridcolor": "white",
            "linecolor": "white",
            "ticks": ""
           },
           "bgcolor": "#E5ECF6",
           "radialaxis": {
            "gridcolor": "white",
            "linecolor": "white",
            "ticks": ""
           }
          },
          "scene": {
           "xaxis": {
            "backgroundcolor": "#E5ECF6",
            "gridcolor": "white",
            "gridwidth": 2,
            "linecolor": "white",
            "showbackground": true,
            "ticks": "",
            "zerolinecolor": "white"
           },
           "yaxis": {
            "backgroundcolor": "#E5ECF6",
            "gridcolor": "white",
            "gridwidth": 2,
            "linecolor": "white",
            "showbackground": true,
            "ticks": "",
            "zerolinecolor": "white"
           },
           "zaxis": {
            "backgroundcolor": "#E5ECF6",
            "gridcolor": "white",
            "gridwidth": 2,
            "linecolor": "white",
            "showbackground": true,
            "ticks": "",
            "zerolinecolor": "white"
           }
          },
          "shapedefaults": {
           "line": {
            "color": "#2a3f5f"
           }
          },
          "ternary": {
           "aaxis": {
            "gridcolor": "white",
            "linecolor": "white",
            "ticks": ""
           },
           "baxis": {
            "gridcolor": "white",
            "linecolor": "white",
            "ticks": ""
           },
           "bgcolor": "#E5ECF6",
           "caxis": {
            "gridcolor": "white",
            "linecolor": "white",
            "ticks": ""
           }
          },
          "title": {
           "x": 0.05
          },
          "xaxis": {
           "automargin": true,
           "gridcolor": "white",
           "linecolor": "white",
           "ticks": "",
           "title": {
            "standoff": 15
           },
           "zerolinecolor": "white",
           "zerolinewidth": 2
          },
          "yaxis": {
           "automargin": true,
           "gridcolor": "white",
           "linecolor": "white",
           "ticks": "",
           "title": {
            "standoff": 15
           },
           "zerolinecolor": "white",
           "zerolinewidth": 2
          }
         }
        },
        "title": {
         "text": "Hyperparameter Importances"
        },
        "xaxis": {
         "title": {
          "text": "Importance for Objective Value"
         }
        },
        "yaxis": {
         "title": {
          "text": "Hyperparameter"
         }
        }
       }
      },
      "text/html": [
       "<div>                        <script type=\"text/javascript\">window.PlotlyConfig = {MathJaxConfig: 'local'};</script>\n",
       "        <script charset=\"utf-8\" src=\"https://cdn.plot.ly/plotly-2.24.1.min.js\"></script>                <div id=\"7e298c8d-e28c-4df4-9632-6016792ed24b\" class=\"plotly-graph-div\" style=\"height:100%; width:100%;\"></div>            <script type=\"text/javascript\">                                    window.PLOTLYENV=window.PLOTLYENV || {};                                    if (document.getElementById(\"7e298c8d-e28c-4df4-9632-6016792ed24b\")) {                    Plotly.newPlot(                        \"7e298c8d-e28c-4df4-9632-6016792ed24b\",                        [{\"cliponaxis\":false,\"hovertemplate\":[\"lambda (FloatDistribution): 0.0010211392978202668\\u003cextra\\u003e\\u003c\\u002fextra\\u003e\",\"booster (CategoricalDistribution): 0.04281909881010983\\u003cextra\\u003e\\u003c\\u002fextra\\u003e\",\"subsample (FloatDistribution): 0.07541359284822767\\u003cextra\\u003e\\u003c\\u002fextra\\u003e\",\"alpha (FloatDistribution): 0.15290526812621347\\u003cextra\\u003e\\u003c\\u002fextra\\u003e\",\"colsample_bytree (FloatDistribution): 0.7278409009176288\\u003cextra\\u003e\\u003c\\u002fextra\\u003e\"],\"marker\":{\"color\":\"rgb(66,146,198)\"},\"orientation\":\"h\",\"text\":[\"\\u003c0.01\",\"0.04\",\"0.08\",\"0.15\",\"0.73\"],\"textposition\":\"outside\",\"x\":[0.0010211392978202668,0.04281909881010983,0.07541359284822767,0.15290526812621347,0.7278409009176288],\"y\":[\"lambda\",\"booster\",\"subsample\",\"alpha\",\"colsample_bytree\"],\"type\":\"bar\"}],                        {\"showlegend\":false,\"title\":{\"text\":\"Hyperparameter Importances\"},\"xaxis\":{\"title\":{\"text\":\"Importance for Objective Value\"}},\"yaxis\":{\"title\":{\"text\":\"Hyperparameter\"}},\"template\":{\"data\":{\"histogram2dcontour\":[{\"type\":\"histogram2dcontour\",\"colorbar\":{\"outlinewidth\":0,\"ticks\":\"\"},\"colorscale\":[[0.0,\"#0d0887\"],[0.1111111111111111,\"#46039f\"],[0.2222222222222222,\"#7201a8\"],[0.3333333333333333,\"#9c179e\"],[0.4444444444444444,\"#bd3786\"],[0.5555555555555556,\"#d8576b\"],[0.6666666666666666,\"#ed7953\"],[0.7777777777777778,\"#fb9f3a\"],[0.8888888888888888,\"#fdca26\"],[1.0,\"#f0f921\"]]}],\"choropleth\":[{\"type\":\"choropleth\",\"colorbar\":{\"outlinewidth\":0,\"ticks\":\"\"}}],\"histogram2d\":[{\"type\":\"histogram2d\",\"colorbar\":{\"outlinewidth\":0,\"ticks\":\"\"},\"colorscale\":[[0.0,\"#0d0887\"],[0.1111111111111111,\"#46039f\"],[0.2222222222222222,\"#7201a8\"],[0.3333333333333333,\"#9c179e\"],[0.4444444444444444,\"#bd3786\"],[0.5555555555555556,\"#d8576b\"],[0.6666666666666666,\"#ed7953\"],[0.7777777777777778,\"#fb9f3a\"],[0.8888888888888888,\"#fdca26\"],[1.0,\"#f0f921\"]]}],\"heatmap\":[{\"type\":\"heatmap\",\"colorbar\":{\"outlinewidth\":0,\"ticks\":\"\"},\"colorscale\":[[0.0,\"#0d0887\"],[0.1111111111111111,\"#46039f\"],[0.2222222222222222,\"#7201a8\"],[0.3333333333333333,\"#9c179e\"],[0.4444444444444444,\"#bd3786\"],[0.5555555555555556,\"#d8576b\"],[0.6666666666666666,\"#ed7953\"],[0.7777777777777778,\"#fb9f3a\"],[0.8888888888888888,\"#fdca26\"],[1.0,\"#f0f921\"]]}],\"heatmapgl\":[{\"type\":\"heatmapgl\",\"colorbar\":{\"outlinewidth\":0,\"ticks\":\"\"},\"colorscale\":[[0.0,\"#0d0887\"],[0.1111111111111111,\"#46039f\"],[0.2222222222222222,\"#7201a8\"],[0.3333333333333333,\"#9c179e\"],[0.4444444444444444,\"#bd3786\"],[0.5555555555555556,\"#d8576b\"],[0.6666666666666666,\"#ed7953\"],[0.7777777777777778,\"#fb9f3a\"],[0.8888888888888888,\"#fdca26\"],[1.0,\"#f0f921\"]]}],\"contourcarpet\":[{\"type\":\"contourcarpet\",\"colorbar\":{\"outlinewidth\":0,\"ticks\":\"\"}}],\"contour\":[{\"type\":\"contour\",\"colorbar\":{\"outlinewidth\":0,\"ticks\":\"\"},\"colorscale\":[[0.0,\"#0d0887\"],[0.1111111111111111,\"#46039f\"],[0.2222222222222222,\"#7201a8\"],[0.3333333333333333,\"#9c179e\"],[0.4444444444444444,\"#bd3786\"],[0.5555555555555556,\"#d8576b\"],[0.6666666666666666,\"#ed7953\"],[0.7777777777777778,\"#fb9f3a\"],[0.8888888888888888,\"#fdca26\"],[1.0,\"#f0f921\"]]}],\"surface\":[{\"type\":\"surface\",\"colorbar\":{\"outlinewidth\":0,\"ticks\":\"\"},\"colorscale\":[[0.0,\"#0d0887\"],[0.1111111111111111,\"#46039f\"],[0.2222222222222222,\"#7201a8\"],[0.3333333333333333,\"#9c179e\"],[0.4444444444444444,\"#bd3786\"],[0.5555555555555556,\"#d8576b\"],[0.6666666666666666,\"#ed7953\"],[0.7777777777777778,\"#fb9f3a\"],[0.8888888888888888,\"#fdca26\"],[1.0,\"#f0f921\"]]}],\"mesh3d\":[{\"type\":\"mesh3d\",\"colorbar\":{\"outlinewidth\":0,\"ticks\":\"\"}}],\"scatter\":[{\"fillpattern\":{\"fillmode\":\"overlay\",\"size\":10,\"solidity\":0.2},\"type\":\"scatter\"}],\"parcoords\":[{\"type\":\"parcoords\",\"line\":{\"colorbar\":{\"outlinewidth\":0,\"ticks\":\"\"}}}],\"scatterpolargl\":[{\"type\":\"scatterpolargl\",\"marker\":{\"colorbar\":{\"outlinewidth\":0,\"ticks\":\"\"}}}],\"bar\":[{\"error_x\":{\"color\":\"#2a3f5f\"},\"error_y\":{\"color\":\"#2a3f5f\"},\"marker\":{\"line\":{\"color\":\"#E5ECF6\",\"width\":0.5},\"pattern\":{\"fillmode\":\"overlay\",\"size\":10,\"solidity\":0.2}},\"type\":\"bar\"}],\"scattergeo\":[{\"type\":\"scattergeo\",\"marker\":{\"colorbar\":{\"outlinewidth\":0,\"ticks\":\"\"}}}],\"scatterpolar\":[{\"type\":\"scatterpolar\",\"marker\":{\"colorbar\":{\"outlinewidth\":0,\"ticks\":\"\"}}}],\"histogram\":[{\"marker\":{\"pattern\":{\"fillmode\":\"overlay\",\"size\":10,\"solidity\":0.2}},\"type\":\"histogram\"}],\"scattergl\":[{\"type\":\"scattergl\",\"marker\":{\"colorbar\":{\"outlinewidth\":0,\"ticks\":\"\"}}}],\"scatter3d\":[{\"type\":\"scatter3d\",\"line\":{\"colorbar\":{\"outlinewidth\":0,\"ticks\":\"\"}},\"marker\":{\"colorbar\":{\"outlinewidth\":0,\"ticks\":\"\"}}}],\"scattermapbox\":[{\"type\":\"scattermapbox\",\"marker\":{\"colorbar\":{\"outlinewidth\":0,\"ticks\":\"\"}}}],\"scatterternary\":[{\"type\":\"scatterternary\",\"marker\":{\"colorbar\":{\"outlinewidth\":0,\"ticks\":\"\"}}}],\"scattercarpet\":[{\"type\":\"scattercarpet\",\"marker\":{\"colorbar\":{\"outlinewidth\":0,\"ticks\":\"\"}}}],\"carpet\":[{\"aaxis\":{\"endlinecolor\":\"#2a3f5f\",\"gridcolor\":\"white\",\"linecolor\":\"white\",\"minorgridcolor\":\"white\",\"startlinecolor\":\"#2a3f5f\"},\"baxis\":{\"endlinecolor\":\"#2a3f5f\",\"gridcolor\":\"white\",\"linecolor\":\"white\",\"minorgridcolor\":\"white\",\"startlinecolor\":\"#2a3f5f\"},\"type\":\"carpet\"}],\"table\":[{\"cells\":{\"fill\":{\"color\":\"#EBF0F8\"},\"line\":{\"color\":\"white\"}},\"header\":{\"fill\":{\"color\":\"#C8D4E3\"},\"line\":{\"color\":\"white\"}},\"type\":\"table\"}],\"barpolar\":[{\"marker\":{\"line\":{\"color\":\"#E5ECF6\",\"width\":0.5},\"pattern\":{\"fillmode\":\"overlay\",\"size\":10,\"solidity\":0.2}},\"type\":\"barpolar\"}],\"pie\":[{\"automargin\":true,\"type\":\"pie\"}]},\"layout\":{\"autotypenumbers\":\"strict\",\"colorway\":[\"#636efa\",\"#EF553B\",\"#00cc96\",\"#ab63fa\",\"#FFA15A\",\"#19d3f3\",\"#FF6692\",\"#B6E880\",\"#FF97FF\",\"#FECB52\"],\"font\":{\"color\":\"#2a3f5f\"},\"hovermode\":\"closest\",\"hoverlabel\":{\"align\":\"left\"},\"paper_bgcolor\":\"white\",\"plot_bgcolor\":\"#E5ECF6\",\"polar\":{\"bgcolor\":\"#E5ECF6\",\"angularaxis\":{\"gridcolor\":\"white\",\"linecolor\":\"white\",\"ticks\":\"\"},\"radialaxis\":{\"gridcolor\":\"white\",\"linecolor\":\"white\",\"ticks\":\"\"}},\"ternary\":{\"bgcolor\":\"#E5ECF6\",\"aaxis\":{\"gridcolor\":\"white\",\"linecolor\":\"white\",\"ticks\":\"\"},\"baxis\":{\"gridcolor\":\"white\",\"linecolor\":\"white\",\"ticks\":\"\"},\"caxis\":{\"gridcolor\":\"white\",\"linecolor\":\"white\",\"ticks\":\"\"}},\"coloraxis\":{\"colorbar\":{\"outlinewidth\":0,\"ticks\":\"\"}},\"colorscale\":{\"sequential\":[[0.0,\"#0d0887\"],[0.1111111111111111,\"#46039f\"],[0.2222222222222222,\"#7201a8\"],[0.3333333333333333,\"#9c179e\"],[0.4444444444444444,\"#bd3786\"],[0.5555555555555556,\"#d8576b\"],[0.6666666666666666,\"#ed7953\"],[0.7777777777777778,\"#fb9f3a\"],[0.8888888888888888,\"#fdca26\"],[1.0,\"#f0f921\"]],\"sequentialminus\":[[0.0,\"#0d0887\"],[0.1111111111111111,\"#46039f\"],[0.2222222222222222,\"#7201a8\"],[0.3333333333333333,\"#9c179e\"],[0.4444444444444444,\"#bd3786\"],[0.5555555555555556,\"#d8576b\"],[0.6666666666666666,\"#ed7953\"],[0.7777777777777778,\"#fb9f3a\"],[0.8888888888888888,\"#fdca26\"],[1.0,\"#f0f921\"]],\"diverging\":[[0,\"#8e0152\"],[0.1,\"#c51b7d\"],[0.2,\"#de77ae\"],[0.3,\"#f1b6da\"],[0.4,\"#fde0ef\"],[0.5,\"#f7f7f7\"],[0.6,\"#e6f5d0\"],[0.7,\"#b8e186\"],[0.8,\"#7fbc41\"],[0.9,\"#4d9221\"],[1,\"#276419\"]]},\"xaxis\":{\"gridcolor\":\"white\",\"linecolor\":\"white\",\"ticks\":\"\",\"title\":{\"standoff\":15},\"zerolinecolor\":\"white\",\"automargin\":true,\"zerolinewidth\":2},\"yaxis\":{\"gridcolor\":\"white\",\"linecolor\":\"white\",\"ticks\":\"\",\"title\":{\"standoff\":15},\"zerolinecolor\":\"white\",\"automargin\":true,\"zerolinewidth\":2},\"scene\":{\"xaxis\":{\"backgroundcolor\":\"#E5ECF6\",\"gridcolor\":\"white\",\"linecolor\":\"white\",\"showbackground\":true,\"ticks\":\"\",\"zerolinecolor\":\"white\",\"gridwidth\":2},\"yaxis\":{\"backgroundcolor\":\"#E5ECF6\",\"gridcolor\":\"white\",\"linecolor\":\"white\",\"showbackground\":true,\"ticks\":\"\",\"zerolinecolor\":\"white\",\"gridwidth\":2},\"zaxis\":{\"backgroundcolor\":\"#E5ECF6\",\"gridcolor\":\"white\",\"linecolor\":\"white\",\"showbackground\":true,\"ticks\":\"\",\"zerolinecolor\":\"white\",\"gridwidth\":2}},\"shapedefaults\":{\"line\":{\"color\":\"#2a3f5f\"}},\"annotationdefaults\":{\"arrowcolor\":\"#2a3f5f\",\"arrowhead\":0,\"arrowwidth\":1},\"geo\":{\"bgcolor\":\"white\",\"landcolor\":\"#E5ECF6\",\"subunitcolor\":\"white\",\"showland\":true,\"showlakes\":true,\"lakecolor\":\"white\"},\"title\":{\"x\":0.05},\"mapbox\":{\"style\":\"light\"}}}},                        {\"responsive\": true}                    )                };                            </script>        </div>"
      ],
      "text/plain": [
       "Figure({\n",
       "    'data': [{'cliponaxis': False,\n",
       "              'hovertemplate': [lambda (FloatDistribution):\n",
       "                                0.0010211392978202668<extra></extra>, booster\n",
       "                                (CategoricalDistribution):\n",
       "                                0.04281909881010983<extra></extra>, subsample\n",
       "                                (FloatDistribution):\n",
       "                                0.07541359284822767<extra></extra>, alpha\n",
       "                                (FloatDistribution):\n",
       "                                0.15290526812621347<extra></extra>,\n",
       "                                colsample_bytree (FloatDistribution):\n",
       "                                0.7278409009176288<extra></extra>],\n",
       "              'marker': {'color': 'rgb(66,146,198)'},\n",
       "              'orientation': 'h',\n",
       "              'text': [<0.01, 0.04, 0.08, 0.15, 0.73],\n",
       "              'textposition': 'outside',\n",
       "              'type': 'bar',\n",
       "              'x': [0.0010211392978202668, 0.04281909881010983,\n",
       "                    0.07541359284822767, 0.15290526812621347, 0.7278409009176288],\n",
       "              'y': [lambda, booster, subsample, alpha, colsample_bytree]}],\n",
       "    'layout': {'showlegend': False,\n",
       "               'template': '...',\n",
       "               'title': {'text': 'Hyperparameter Importances'},\n",
       "               'xaxis': {'title': {'text': 'Importance for Objective Value'}},\n",
       "               'yaxis': {'title': {'text': 'Hyperparameter'}}}\n",
       "})"
      ]
     },
     "execution_count": 122,
     "metadata": {},
     "output_type": "execute_result"
    }
   ],
   "source": [
    "plot_param_importances(study)"
   ]
  },
  {
   "cell_type": "code",
   "execution_count": null,
   "metadata": {},
   "outputs": [],
   "source": []
  },
  {
   "cell_type": "markdown",
   "metadata": {},
   "source": [
    "1.\n",
    "Params: \n",
    "    objective: CrossEntropy\n",
    "    colsample_bylevel: 0.08326847511080138\n",
    "    depth: 3\n",
    "    boosting_type: Plain\n",
    "    bootstrap_type: Bernoulli\n",
    "    learning_rate: 0.20800532359943255\n",
    "    n_estimators: 1389\n",
    "    early_stopping_rounds: 325\n",
    "    subsample: 0.13113402291704018"
   ]
  }
 ],
 "metadata": {
  "kernelspec": {
   "display_name": "Python 3.8.2 64-bit",
   "language": "python",
   "name": "python3"
  },
  "language_info": {
   "codemirror_mode": {
    "name": "ipython",
    "version": 3
   },
   "file_extension": ".py",
   "mimetype": "text/x-python",
   "name": "python",
   "nbconvert_exporter": "python",
   "pygments_lexer": "ipython3",
   "version": "3.8.2"
  },
  "orig_nbformat": 4,
  "vscode": {
   "interpreter": {
    "hash": "6eaea64310228e9f754520128e4f9a6259bb26f5c3839fa5dce3903f5873b011"
   }
  }
 },
 "nbformat": 4,
 "nbformat_minor": 2
}
