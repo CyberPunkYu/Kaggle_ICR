{
 "cells": [
  {
   "cell_type": "code",
   "execution_count": null,
   "id": "22361ce3",
   "metadata": {
    "papermill": {
     "duration": 0.011856,
     "end_time": "2023-07-28T08:29:29.939254",
     "exception": false,
     "start_time": "2023-07-28T08:29:29.927398",
     "status": "completed"
    },
    "tags": []
   },
   "outputs": [],
   "source": []
  },
  {
   "cell_type": "code",
   "execution_count": 1,
   "id": "828de110",
   "metadata": {
    "execution": {
     "iopub.execute_input": "2023-07-28T08:29:29.959583Z",
     "iopub.status.busy": "2023-07-28T08:29:29.958840Z",
     "iopub.status.idle": "2023-07-28T08:29:29.967177Z",
     "shell.execute_reply": "2023-07-28T08:29:29.966291Z"
    },
    "papermill": {
     "duration": 0.024464,
     "end_time": "2023-07-28T08:29:29.972794",
     "exception": false,
     "start_time": "2023-07-28T08:29:29.948330",
     "status": "completed"
    },
    "tags": []
   },
   "outputs": [],
   "source": [
    "# !pip install tabpfn --no-index --find-links=file:///kaggle/input/pip-packages-icr/pip-packages\n",
    "# !mkdir -p /opt/conda/lib/python3.10/site-packages/tabpfn/models_diff\n",
    "# !cp /kaggle/input/pip-packages-icr/pip-packages/prior_diff_real_checkpoint_n_0_epoch_100.cpkt /opt/conda/lib/python3.10/site-packages/tabpfn/models_diff/"
   ]
  },
  {
   "cell_type": "code",
   "execution_count": 2,
   "id": "921e6709",
   "metadata": {
    "_cell_guid": "b1076dfc-b9ad-4769-8c92-a6c4dae69d19",
    "_uuid": "8f2839f25d086af736a60e9eeb907d3b93b6e0e5",
    "execution": {
     "iopub.execute_input": "2023-07-28T08:29:29.993367Z",
     "iopub.status.busy": "2023-07-28T08:29:29.993025Z",
     "iopub.status.idle": "2023-07-28T08:29:33.343462Z",
     "shell.execute_reply": "2023-07-28T08:29:33.342139Z"
    },
    "papermill": {
     "duration": 3.362763,
     "end_time": "2023-07-28T08:29:33.345059",
     "exception": true,
     "start_time": "2023-07-28T08:29:29.982296",
     "status": "failed"
    },
    "tags": []
   },
   "outputs": [
    {
     "name": "stderr",
     "output_type": "stream",
     "text": [
      "/opt/conda/lib/python3.10/site-packages/scipy/__init__.py:146: UserWarning: A NumPy version >=1.16.5 and <1.23.0 is required for this version of SciPy (detected version 1.23.5\n",
      "  warnings.warn(f\"A NumPy version >={np_minversion} and <{np_maxversion}\"\n"
     ]
    },
    {
     "ename": "ModuleNotFoundError",
     "evalue": "No module named 'tabpfn'",
     "output_type": "error",
     "traceback": [
      "\u001b[0;31m---------------------------------------------------------------------------\u001b[0m",
      "\u001b[0;31mModuleNotFoundError\u001b[0m                       Traceback (most recent call last)",
      "Cell \u001b[0;32mIn[2], line 13\u001b[0m\n\u001b[1;32m     11\u001b[0m \u001b[38;5;28;01mimport\u001b[39;00m \u001b[38;5;21;01minspect\u001b[39;00m\n\u001b[1;32m     12\u001b[0m \u001b[38;5;28;01mfrom\u001b[39;00m \u001b[38;5;21;01mcollections\u001b[39;00m \u001b[38;5;28;01mimport\u001b[39;00m defaultdict\n\u001b[0;32m---> 13\u001b[0m \u001b[38;5;28;01mfrom\u001b[39;00m \u001b[38;5;21;01mtabpfn\u001b[39;00m \u001b[38;5;28;01mimport\u001b[39;00m TabPFNClassifier\n\u001b[1;32m     14\u001b[0m \u001b[38;5;28;01mimport\u001b[39;00m \u001b[38;5;21;01mwarnings\u001b[39;00m\n\u001b[1;32m     15\u001b[0m warnings\u001b[38;5;241m.\u001b[39mfilterwarnings(\u001b[38;5;124m'\u001b[39m\u001b[38;5;124mignore\u001b[39m\u001b[38;5;124m'\u001b[39m)\n",
      "\u001b[0;31mModuleNotFoundError\u001b[0m: No module named 'tabpfn'"
     ]
    }
   ],
   "source": [
    "import numpy as np\n",
    "import pandas as pd\n",
    "from sklearn.preprocessing import LabelEncoder,normalize\n",
    "from sklearn.ensemble import GradientBoostingClassifier,RandomForestClassifier\n",
    "from sklearn.metrics import accuracy_score\n",
    "from sklearn.impute import SimpleImputer\n",
    "import imblearn\n",
    "from imblearn.over_sampling import RandomOverSampler\n",
    "from imblearn.under_sampling import RandomUnderSampler\n",
    "import xgboost\n",
    "import inspect\n",
    "from collections import defaultdict\n",
    "from tabpfn import TabPFNClassifier\n",
    "import warnings\n",
    "warnings.filterwarnings('ignore')"
   ]
  },
  {
   "cell_type": "code",
   "execution_count": null,
   "id": "979bdaa8",
   "metadata": {
    "execution": {
     "iopub.execute_input": "2023-07-28T06:53:54.406645Z",
     "iopub.status.busy": "2023-07-28T06:53:54.405921Z",
     "iopub.status.idle": "2023-07-28T06:53:54.456155Z",
     "shell.execute_reply": "2023-07-28T06:53:54.455130Z",
     "shell.execute_reply.started": "2023-07-28T06:53:54.406609Z"
    },
    "papermill": {
     "duration": null,
     "end_time": null,
     "exception": null,
     "start_time": null,
     "status": "pending"
    },
    "tags": []
   },
   "outputs": [],
   "source": [
    "train = pd.read_csv('/kaggle/input/icr-identify-age-related-conditions/train.csv')\n",
    "test = pd.read_csv('/kaggle/input/icr-identify-age-related-conditions/test.csv')\n",
    "\n",
    "greeks = pd.read_csv('/kaggle/input/icr-identify-age-related-conditions/greeks.csv')"
   ]
  },
  {
   "cell_type": "code",
   "execution_count": null,
   "id": "1cb94dc4",
   "metadata": {
    "execution": {
     "iopub.execute_input": "2023-07-28T06:53:54.458569Z",
     "iopub.status.busy": "2023-07-28T06:53:54.457870Z",
     "iopub.status.idle": "2023-07-28T06:53:54.473553Z",
     "shell.execute_reply": "2023-07-28T06:53:54.472445Z",
     "shell.execute_reply.started": "2023-07-28T06:53:54.458535Z"
    },
    "papermill": {
     "duration": null,
     "end_time": null,
     "exception": null,
     "start_time": null,
     "status": "pending"
    },
    "tags": []
   },
   "outputs": [],
   "source": [
    "first_category = train.EJ.unique()[0]\n",
    "train.EJ = train.EJ.eq(first_category).astype('int')\n",
    "test.EJ = test.EJ.eq(first_category).astype('int')"
   ]
  },
  {
   "cell_type": "code",
   "execution_count": null,
   "id": "909fbd4d",
   "metadata": {
    "execution": {
     "iopub.execute_input": "2023-07-28T06:53:54.478397Z",
     "iopub.status.busy": "2023-07-28T06:53:54.477639Z",
     "iopub.status.idle": "2023-07-28T06:53:54.483090Z",
     "shell.execute_reply": "2023-07-28T06:53:54.481987Z",
     "shell.execute_reply.started": "2023-07-28T06:53:54.478360Z"
    },
    "papermill": {
     "duration": null,
     "end_time": null,
     "exception": null,
     "start_time": null,
     "status": "pending"
    },
    "tags": []
   },
   "outputs": [],
   "source": [
    "ID_for_sub=test['Id']"
   ]
  },
  {
   "cell_type": "code",
   "execution_count": null,
   "id": "59e669dd",
   "metadata": {
    "execution": {
     "iopub.execute_input": "2023-07-28T06:53:54.485618Z",
     "iopub.status.busy": "2023-07-28T06:53:54.484875Z",
     "iopub.status.idle": "2023-07-28T06:53:54.505555Z",
     "shell.execute_reply": "2023-07-28T06:53:54.504103Z",
     "shell.execute_reply.started": "2023-07-28T06:53:54.485575Z"
    },
    "papermill": {
     "duration": null,
     "end_time": null,
     "exception": null,
     "start_time": null,
     "status": "pending"
    },
    "tags": []
   },
   "outputs": [],
   "source": [
    "x= train.drop(['Id','Class'],axis=1)\n",
    "y = train['Class']\n",
    "\n",
    "test=test.drop(['Id'],axis=1)"
   ]
  },
  {
   "cell_type": "code",
   "execution_count": null,
   "id": "2aae0289",
   "metadata": {
    "execution": {
     "iopub.execute_input": "2023-07-28T06:53:54.508459Z",
     "iopub.status.busy": "2023-07-28T06:53:54.507574Z",
     "iopub.status.idle": "2023-07-28T06:53:54.517522Z",
     "shell.execute_reply": "2023-07-28T06:53:54.516384Z",
     "shell.execute_reply.started": "2023-07-28T06:53:54.508401Z"
    },
    "papermill": {
     "duration": null,
     "end_time": null,
     "exception": null,
     "start_time": null,
     "status": "pending"
    },
    "tags": []
   },
   "outputs": [],
   "source": [
    "def balanced_log_loss(y_true, y_pred):\n",
    "    N_0 = np.sum(1 - y_true)\n",
    "    N_1 = np.sum(y_true)\n",
    "\n",
    "    w_0 = 1 / N_0\n",
    "    w_1 = 1 / N_1\n",
    "\n",
    "    p_1 = np.clip(y_pred, 1e-15, 1 - 1e-15)\n",
    "    p_0 = 1 - p_1\n",
    "\n",
    "    log_loss_0 = -np.sum((1 - y_true) * np.log(p_0))\n",
    "    log_loss_1 = -np.sum(y_true * np.log(p_1))\n",
    "\n",
    "    balanced_log_loss = 2*(w_0 * log_loss_0 + w_1 * log_loss_1) / (w_0 + w_1)\n",
    "\n",
    "    return balanced_log_loss/(N_0+N_1)"
   ]
  },
  {
   "cell_type": "code",
   "execution_count": null,
   "id": "cf7a9b97",
   "metadata": {
    "execution": {
     "iopub.execute_input": "2023-07-28T06:53:54.520287Z",
     "iopub.status.busy": "2023-07-28T06:53:54.519465Z",
     "iopub.status.idle": "2023-07-28T06:53:54.535921Z",
     "shell.execute_reply": "2023-07-28T06:53:54.534859Z",
     "shell.execute_reply.started": "2023-07-28T06:53:54.520247Z"
    },
    "papermill": {
     "duration": null,
     "end_time": null,
     "exception": null,
     "start_time": null,
     "status": "pending"
    },
    "tags": []
   },
   "outputs": [],
   "source": [
    "class Ensemble():\n",
    "    def __init__(self):\n",
    "        self.imputer = SimpleImputer(missing_values=np.nan, strategy='median')\n",
    "\n",
    "        self.classifiers =[xgboost.XGBClassifier(n_estimators=100,max_depth=3,learning_rate=0.2,subsample=0.9,colsample_bytree=0.85),\n",
    "                           xgboost.XGBClassifier(),\n",
    "                           TabPFNClassifier(N_ensemble_configurations=24),\n",
    "                          TabPFNClassifier(N_ensemble_configurations=64)]\n",
    "    \n",
    "    def fit(self,X,y):\n",
    "        \n",
    "        X = self.imputer.fit_transform(X)\n",
    "\n",
    "        for classifier in self.classifiers:\n",
    "            if classifier==self.classifiers[2] or classifier==self.classifiers[3]:\n",
    "                classifier.fit(X,y,overwrite_warning =True)\n",
    "            else :\n",
    "                classifier.fit(X, y)\n",
    "     \n",
    "    def predict_proba(self, x):\n",
    "        x = self.imputer.transform(x)\n",
    "        \n",
    "        probabilities = np.stack([classifier.predict_proba(x) for classifier in self.classifiers])\n",
    "        averaged_probabilities = np.mean(probabilities, axis=0)\n",
    "        \n",
    "        class_0_est_instances = averaged_probabilities[:, 0].sum()\n",
    "        others_est_instances = len(averaged_probabilities)-class_0_est_instances\n",
    "\n",
    "        new_probabilities = averaged_probabilities * np.array([[1/(class_0_est_instances if i==0 else others_est_instances) for i in range(averaged_probabilities.shape[1])]])\n",
    "        return new_probabilities / np.sum(new_probabilities, axis=1, keepdims=1) "
   ]
  },
  {
   "cell_type": "code",
   "execution_count": null,
   "id": "63c55a49",
   "metadata": {
    "execution": {
     "iopub.execute_input": "2023-07-28T06:53:54.539269Z",
     "iopub.status.busy": "2023-07-28T06:53:54.538196Z",
     "iopub.status.idle": "2023-07-28T06:53:54.674141Z",
     "shell.execute_reply": "2023-07-28T06:53:54.672557Z",
     "shell.execute_reply.started": "2023-07-28T06:53:54.539226Z"
    },
    "papermill": {
     "duration": null,
     "end_time": null,
     "exception": null,
     "start_time": null,
     "status": "pending"
    },
    "tags": []
   },
   "outputs": [],
   "source": [
    "from tqdm.notebook import tqdm"
   ]
  },
  {
   "cell_type": "code",
   "execution_count": null,
   "id": "dec5efe3",
   "metadata": {
    "execution": {
     "iopub.execute_input": "2023-07-28T06:53:54.676071Z",
     "iopub.status.busy": "2023-07-28T06:53:54.675628Z",
     "iopub.status.idle": "2023-07-28T06:53:54.683894Z",
     "shell.execute_reply": "2023-07-28T06:53:54.682490Z",
     "shell.execute_reply.started": "2023-07-28T06:53:54.676013Z"
    },
    "papermill": {
     "duration": null,
     "end_time": null,
     "exception": null,
     "start_time": null,
     "status": "pending"
    },
    "tags": []
   },
   "outputs": [],
   "source": [
    "from sklearn.model_selection import KFold as KF, GridSearchCV"
   ]
  },
  {
   "cell_type": "code",
   "execution_count": null,
   "id": "ad9f4903",
   "metadata": {
    "execution": {
     "iopub.execute_input": "2023-07-28T06:53:54.687758Z",
     "iopub.status.busy": "2023-07-28T06:53:54.686146Z",
     "iopub.status.idle": "2023-07-28T06:53:54.698898Z",
     "shell.execute_reply": "2023-07-28T06:53:54.697994Z",
     "shell.execute_reply.started": "2023-07-28T06:53:54.687718Z"
    },
    "papermill": {
     "duration": null,
     "end_time": null,
     "exception": null,
     "start_time": null,
     "status": "pending"
    },
    "tags": []
   },
   "outputs": [],
   "source": [
    "def training(model, x,y,y_meta):\n",
    "    \n",
    "    outer_results = list()\n",
    "    \n",
    "    best_loss = np.inf\n",
    "    \n",
    "    split = 0\n",
    "    splits = 5\n",
    "    \n",
    "    cv_inner = KF(n_splits = splits, shuffle=True, random_state=42)\n",
    "    \n",
    "    for train_idx,val_idx in tqdm(cv_inner.split(x), total = splits):\n",
    "        \n",
    "        split+=1\n",
    "        \n",
    "        x_train, x_val = x.iloc[train_idx],x.iloc[val_idx]\n",
    "        y_train, y_val = y_meta[train_idx], y.iloc[val_idx]\n",
    "                \n",
    "        model.fit(x_train, y_train)\n",
    "        \n",
    "        y_pred = model.predict_proba(x_val)\n",
    "        \n",
    "        p0=y_pred[:,0]\n",
    "        \n",
    "        p0=np.where(p0>=0.5,0,1)\n",
    "        \n",
    "        p0=p0.reshape(len(p0))\n",
    "        \n",
    "        loss = balanced_log_loss(y_val,p0)\n",
    "\n",
    "        if loss<best_loss:\n",
    "            best_model = model\n",
    "            best_loss = loss\n",
    "            print('best_model_saved')\n",
    "        outer_results.append(loss)\n",
    "        print('>val_loss=%.5f, split = %.1f' % (loss,split))\n",
    "    print('LOSS: %.5f' % (np.mean(outer_results)))\n",
    "    return best_model\n",
    "    "
   ]
  },
  {
   "cell_type": "code",
   "execution_count": null,
   "id": "2b8822ce",
   "metadata": {
    "execution": {
     "iopub.execute_input": "2023-07-28T06:53:54.701768Z",
     "iopub.status.busy": "2023-07-28T06:53:54.700509Z",
     "iopub.status.idle": "2023-07-28T06:53:54.728735Z",
     "shell.execute_reply": "2023-07-28T06:53:54.726067Z",
     "shell.execute_reply.started": "2023-07-28T06:53:54.701728Z"
    },
    "papermill": {
     "duration": null,
     "end_time": null,
     "exception": null,
     "start_time": null,
     "status": "pending"
    },
    "tags": []
   },
   "outputs": [],
   "source": [
    "from datetime import datetime\n",
    "times = greeks.Epsilon.copy()\n",
    "times[greeks.Epsilon != 'Unknown'] = greeks.Epsilon[greeks.Epsilon != 'Unknown'].map(lambda x: datetime.strptime(x,'%m/%d/%Y').toordinal())\n",
    "times[greeks.Epsilon == 'Unknown'] = np.nan"
   ]
  },
  {
   "cell_type": "code",
   "execution_count": null,
   "id": "b2276c56",
   "metadata": {
    "execution": {
     "iopub.execute_input": "2023-07-28T06:53:54.731724Z",
     "iopub.status.busy": "2023-07-28T06:53:54.730925Z",
     "iopub.status.idle": "2023-07-28T06:53:54.739621Z",
     "shell.execute_reply": "2023-07-28T06:53:54.738761Z",
     "shell.execute_reply.started": "2023-07-28T06:53:54.731685Z"
    },
    "papermill": {
     "duration": null,
     "end_time": null,
     "exception": null,
     "start_time": null,
     "status": "pending"
    },
    "tags": []
   },
   "outputs": [],
   "source": [
    "train['Epsilon']=times\n",
    "test['Epsilon']=max(times)+1"
   ]
  },
  {
   "cell_type": "code",
   "execution_count": null,
   "id": "4d7c4fe4",
   "metadata": {
    "execution": {
     "iopub.execute_input": "2023-07-28T06:53:54.746024Z",
     "iopub.status.busy": "2023-07-28T06:53:54.745107Z",
     "iopub.status.idle": "2023-07-28T06:53:54.786939Z",
     "shell.execute_reply": "2023-07-28T06:53:54.785899Z",
     "shell.execute_reply.started": "2023-07-28T06:53:54.745989Z"
    },
    "papermill": {
     "duration": null,
     "end_time": null,
     "exception": null,
     "start_time": null,
     "status": "pending"
    },
    "tags": []
   },
   "outputs": [],
   "source": [
    "ros = RandomOverSampler(random_state=42)\n",
    "\n",
    "train_ros, y_ros = ros.fit_resample(train, greeks.Alpha)\n",
    "\n",
    "_, y_ros = np.unique(y_ros, return_inverse=True)"
   ]
  },
  {
   "cell_type": "code",
   "execution_count": null,
   "id": "c99fe3cd",
   "metadata": {
    "execution": {
     "iopub.execute_input": "2023-07-28T06:53:54.790594Z",
     "iopub.status.busy": "2023-07-28T06:53:54.789843Z",
     "iopub.status.idle": "2023-07-28T06:53:54.798548Z",
     "shell.execute_reply": "2023-07-28T06:53:54.797783Z",
     "shell.execute_reply.started": "2023-07-28T06:53:54.790556Z"
    },
    "papermill": {
     "duration": null,
     "end_time": null,
     "exception": null,
     "start_time": null,
     "status": "pending"
    },
    "tags": []
   },
   "outputs": [],
   "source": [
    "x_ros = train_ros.drop(['Class', 'Id'],axis=1)\n",
    "y_ = train_ros.Class"
   ]
  },
  {
   "cell_type": "code",
   "execution_count": null,
   "id": "42d234e9",
   "metadata": {
    "execution": {
     "iopub.execute_input": "2023-07-28T06:53:54.801158Z",
     "iopub.status.busy": "2023-07-28T06:53:54.800324Z",
     "iopub.status.idle": "2023-07-28T06:53:58.132459Z",
     "shell.execute_reply": "2023-07-28T06:53:58.131130Z",
     "shell.execute_reply.started": "2023-07-28T06:53:54.801121Z"
    },
    "papermill": {
     "duration": null,
     "end_time": null,
     "exception": null,
     "start_time": null,
     "status": "pending"
    },
    "tags": []
   },
   "outputs": [],
   "source": [
    "yt = Ensemble()"
   ]
  },
  {
   "cell_type": "code",
   "execution_count": null,
   "id": "372903f9",
   "metadata": {
    "execution": {
     "iopub.execute_input": "2023-07-28T06:53:58.134660Z",
     "iopub.status.busy": "2023-07-28T06:53:58.134286Z",
     "iopub.status.idle": "2023-07-28T07:27:53.003115Z",
     "shell.execute_reply": "2023-07-28T07:27:53.002085Z",
     "shell.execute_reply.started": "2023-07-28T06:53:58.134625Z"
    },
    "papermill": {
     "duration": null,
     "end_time": null,
     "exception": null,
     "start_time": null,
     "status": "pending"
    },
    "tags": []
   },
   "outputs": [],
   "source": [
    "m = training(yt,x_ros,y_,y_ros)"
   ]
  },
  {
   "cell_type": "code",
   "execution_count": null,
   "id": "09be35ae",
   "metadata": {
    "execution": {
     "iopub.execute_input": "2023-07-28T07:27:53.005789Z",
     "iopub.status.busy": "2023-07-28T07:27:53.004784Z",
     "iopub.status.idle": "2023-07-28T07:33:24.918268Z",
     "shell.execute_reply": "2023-07-28T07:33:24.917053Z",
     "shell.execute_reply.started": "2023-07-28T07:27:53.005750Z"
    },
    "papermill": {
     "duration": null,
     "end_time": null,
     "exception": null,
     "start_time": null,
     "status": "pending"
    },
    "tags": []
   },
   "outputs": [],
   "source": [
    "y_pred = m.predict_proba(test)\n",
    "\n",
    "p0 = y_pred[:,0]\n",
    "\n",
    "p0[p0 > 0.62] = 1 # пробуем\n",
    "p0[p0 < 0.26] = 0"
   ]
  },
  {
   "cell_type": "code",
   "execution_count": null,
   "id": "c2048f6b",
   "metadata": {
    "execution": {
     "iopub.execute_input": "2023-07-28T07:33:24.920357Z",
     "iopub.status.busy": "2023-07-28T07:33:24.919952Z",
     "iopub.status.idle": "2023-07-28T07:33:24.928948Z",
     "shell.execute_reply": "2023-07-28T07:33:24.927879Z",
     "shell.execute_reply.started": "2023-07-28T07:33:24.920319Z"
    },
    "papermill": {
     "duration": null,
     "end_time": null,
     "exception": null,
     "start_time": null,
     "status": "pending"
    },
    "tags": []
   },
   "outputs": [],
   "source": [
    "submission = pd.DataFrame(ID_for_sub, columns=[\"Id\"])\n",
    "\n",
    "submission[\"class_0\"] = p0\n",
    "submission[\"class_1\"] = 1 - p0"
   ]
  },
  {
   "cell_type": "code",
   "execution_count": null,
   "id": "90fb94f0",
   "metadata": {
    "execution": {
     "iopub.execute_input": "2023-07-28T07:33:24.931364Z",
     "iopub.status.busy": "2023-07-28T07:33:24.930602Z",
     "iopub.status.idle": "2023-07-28T07:33:24.943074Z",
     "shell.execute_reply": "2023-07-28T07:33:24.941697Z",
     "shell.execute_reply.started": "2023-07-28T07:33:24.931326Z"
    },
    "papermill": {
     "duration": null,
     "end_time": null,
     "exception": null,
     "start_time": null,
     "status": "pending"
    },
    "tags": []
   },
   "outputs": [],
   "source": [
    "submission.to_csv('submission.csv', index=False)"
   ]
  },
  {
   "cell_type": "code",
   "execution_count": null,
   "id": "26848c78",
   "metadata": {
    "execution": {
     "iopub.execute_input": "2023-07-28T07:33:24.947809Z",
     "iopub.status.busy": "2023-07-28T07:33:24.947426Z",
     "iopub.status.idle": "2023-07-28T07:33:24.969759Z",
     "shell.execute_reply": "2023-07-28T07:33:24.968755Z",
     "shell.execute_reply.started": "2023-07-28T07:33:24.947746Z"
    },
    "papermill": {
     "duration": null,
     "end_time": null,
     "exception": null,
     "start_time": null,
     "status": "pending"
    },
    "tags": []
   },
   "outputs": [],
   "source": [
    "submission_df = pd.read_csv('submission.csv')\n",
    "submission_df"
   ]
  },
  {
   "cell_type": "code",
   "execution_count": null,
   "id": "4a62f9fc",
   "metadata": {
    "papermill": {
     "duration": null,
     "end_time": null,
     "exception": null,
     "start_time": null,
     "status": "pending"
    },
    "tags": []
   },
   "outputs": [],
   "source": []
  }
 ],
 "metadata": {
  "kernelspec": {
   "display_name": "Python 3",
   "language": "python",
   "name": "python3"
  },
  "language_info": {
   "codemirror_mode": {
    "name": "ipython",
    "version": 3
   },
   "file_extension": ".py",
   "mimetype": "text/x-python",
   "name": "python",
   "nbconvert_exporter": "python",
   "pygments_lexer": "ipython3",
   "version": "3.10.10"
  },
  "papermill": {
   "default_parameters": {},
   "duration": 19.186013,
   "end_time": "2023-07-28T08:29:34.171327",
   "environment_variables": {},
   "exception": true,
   "input_path": "__notebook__.ipynb",
   "output_path": "__notebook__.ipynb",
   "parameters": {},
   "start_time": "2023-07-28T08:29:14.985314",
   "version": "2.4.0"
  }
 },
 "nbformat": 4,
 "nbformat_minor": 5
}
